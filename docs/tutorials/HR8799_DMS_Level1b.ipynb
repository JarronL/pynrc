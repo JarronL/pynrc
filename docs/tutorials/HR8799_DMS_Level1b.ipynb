{
 "cells": [
  {
   "cell_type": "markdown",
   "id": "cultural-twist",
   "metadata": {},
   "source": [
    "# DMS Level 1b Example\n",
    "\n",
    "## HR 8799 GTO 1194 \n",
    "\n",
    "This program will search for previously unknown planets using NIRCam in the F356W and F444W filters using the MASK430R for both filters. In addition, we will probe the physical characterization of the known planets, HR8789bcde, using multi-filter photometry with the LW Bar mask. The medium-band filters will be observed with a fiducial override to place the primary source on the narrow end of the occulting mask. The NIRCam observations will use two roll angles ($\\pm5$ deg) and a reference star to assist with suppression of residuals in the coronagraphic image.\n",
    "\n",
    "This notebook uses output from the APT file of PID 1194 to simulate the obsevations and save them to DMS-like FITS files (Level 1b data)."
   ]
  },
  {
   "cell_type": "code",
   "execution_count": 1,
   "id": "backed-disabled",
   "metadata": {},
   "outputs": [],
   "source": [
    "# Import the usual libraries\n",
    "import numpy as np\n",
    "import matplotlib\n",
    "import matplotlib.pyplot as plt\n",
    "#import matplotlib.patches as mpatches\n",
    "\n",
    "# Enable inline plotting\n",
    "%matplotlib inline\n",
    "\n",
    "# Progress bar\n",
    "from tqdm.auto import trange, tqdm"
   ]
  },
  {
   "cell_type": "code",
   "execution_count": 2,
   "id": "baking-council",
   "metadata": {},
   "outputs": [
    {
     "name": "stdout",
     "output_type": "stream",
     "text": [
      "pyNRC log messages of level WARN and above will be shown.\n",
      "pyNRC log outputs will be directed to the screen.\n"
     ]
    }
   ],
   "source": [
    "import pynrc\n",
    "from pynrc.simul.ngNRC import create_level1b_FITS\n",
    "\n",
    "# Disable informational messages and only include warnings and higher\n",
    "pynrc.setup_logging(level='WARN')"
   ]
  },
  {
   "cell_type": "code",
   "execution_count": 3,
   "id": "according-saskatchewan",
   "metadata": {},
   "outputs": [],
   "source": [
    "from astropy import units as u\n",
    "from astropy.coordinates import SkyCoord, Distance\n",
    "from astropy.time import Time\n",
    "from astropy.table import Table"
   ]
  },
  {
   "cell_type": "code",
   "execution_count": 4,
   "id": "entire-mississippi",
   "metadata": {},
   "outputs": [],
   "source": [
    "import os\n",
    "\n",
    "import pynrc\n",
    "from pynrc import nrc_utils\n",
    "from pynrc.simul.ngNRC import make_gaia_source_table, make_simbad_source_table\n",
    "from pynrc.simul.ngNRC import create_level1b_FITS\n",
    "\n",
    "pynrc.setup_logging('WARN', verbose=False)"
   ]
  },
  {
   "cell_type": "markdown",
   "id": "animated-bermuda",
   "metadata": {},
   "source": [
    "## APT Inputs\n",
    "\n",
    "From the final APT file, we need to export a number of files, including the `.timing.json`, `.smart_accounting`, `.pointing`, and `.xml` files. These are then parsed by `pynrc` to configure a series of observation visits and associated NIRCam objects."
   ]
  },
  {
   "cell_type": "code",
   "execution_count": 5,
   "id": "wired-experiment",
   "metadata": {},
   "outputs": [
    {
     "name": "stdout",
     "output_type": "stream",
     "text": [
      "../../notebooks/APT_output/pid1194.timing.json True\n",
      "../../notebooks/APT_output/pid1194.smart_accounting True\n",
      "../../notebooks/APT_output/pid1194.pointing True\n",
      "../../notebooks/APT_output/pid1194.xml True\n"
     ]
    }
   ],
   "source": [
    "import os\n",
    "\n",
    "# Read in APT\n",
    "pid = 1194\n",
    "pid_str = f'pid{pid:05d}'\n",
    "\n",
    "save_dir = f'/Users/jarron/NIRCam/Data/NRC_Sims/Sim_{pid_str}/'\n",
    "# save_dir = f'/data/NIRData/NRC_Sims/Sim_{pid_str}/'\n",
    "\n",
    "# APT input files\n",
    "apt_file_dir = '../../notebooks/APT_output/'\n",
    "fprefix = f'pid{pid}'\n",
    "json_file     = f'{apt_file_dir}{fprefix}.timing.json'\n",
    "sm_acct_file  = f'{apt_file_dir}{fprefix}.smart_accounting'\n",
    "pointing_file = f'{apt_file_dir}{fprefix}.pointing'\n",
    "xml_file      = f'{apt_file_dir}{fprefix}.xml'\n",
    "\n",
    "# Make sure files exist\n",
    "for f in [json_file, sm_acct_file, pointing_file, xml_file]:\n",
    "    print(f, os.path.isfile(f))"
   ]
  },
  {
   "cell_type": "markdown",
   "id": "grand-louisville",
   "metadata": {},
   "source": [
    "## Source Definitions\n",
    "\n",
    "We will utilize the `source_spectrum` class to generate a model fit to the known spectrophotometry. The user can find the relevant photometric data at http://vizier.u-strasbg.fr/vizier/sed/ and click download data as a VOTable.\n",
    "\n",
    "The output spectra will then be placed into a target dictionary to be ingested into the DMS simulator portion of pyNRC."
   ]
  },
  {
   "cell_type": "code",
   "execution_count": 6,
   "id": "behavioral-essex",
   "metadata": {},
   "outputs": [],
   "source": [
    "# Define 2MASS Ks bandpass and source information\n",
    "bp_k = pynrc.bp_2mass('k')\n",
    "\n",
    "# Science    source,  dist, age, sptype, Teff, [Fe/H], log_g, mag, band\n",
    "args_sci = ('HR 8799', 39.0, 30,  'F0V', 7430, -0.47, 4.35, 5.24, bp_k)\n",
    "\n",
    "# References  source,     sptype, Teff, [Fe/H], log_g, mag, band\n",
    "args_ref = ('HD 220657', 'F8III', 5888, -0.01, 3.22, 3.04, bp_k)\n",
    "\n",
    "# Directory housing VOTables \n",
    "# http://vizier.u-strasbg.fr/vizier/sed/\n",
    "votdir = '../../notebooks/votables/'"
   ]
  },
  {
   "cell_type": "code",
   "execution_count": 7,
   "id": "animated-history",
   "metadata": {},
   "outputs": [
    {
     "name": "stdout",
     "output_type": "stream",
     "text": [
      "[0.98590364]\n"
     ]
    }
   ],
   "source": [
    "# Fit spectrum to SED photometry\n",
    "name_sci, dist_sci, age, spt_sci, Teff_sci, feh_sci, logg_sci, mag_sci, bp_sci = args_sci\n",
    "vot = votdir + name_sci.replace(' ' ,'') + '.vot'\n",
    "\n",
    "args = (name_sci, spt_sci, mag_sci, bp_sci, vot)\n",
    "kwargs = {'Teff':Teff_sci, 'metallicity':feh_sci, 'log_g':logg_sci}\n",
    "src = pynrc.source_spectrum(*args, **kwargs)\n",
    "\n",
    "src.fit_SED(use_err=False, robust=False, wlim=[1,5])\n",
    "\n",
    "# Final source spectrum (pysynphot)\n",
    "sp_sci = src.sp_model"
   ]
  },
  {
   "cell_type": "code",
   "execution_count": 8,
   "id": "gorgeous-throw",
   "metadata": {},
   "outputs": [
    {
     "name": "stdout",
     "output_type": "stream",
     "text": [
      "[1.07580856]\n"
     ]
    }
   ],
   "source": [
    "# Do the same for the reference source\n",
    "name_ref, spt_ref, Teff_ref, feh_ref, logg_ref, mag_ref, bp_ref = args_ref\n",
    "vot = votdir + name_ref.replace(' ' ,'') + '.vot'\n",
    "\n",
    "args = (name_ref, spt_ref, mag_ref, bp_ref, vot)\n",
    "kwargs = {'Teff':Teff_ref, 'metallicity':feh_ref, 'log_g':logg_ref}\n",
    "ref = pynrc.source_spectrum(*args, **kwargs)\n",
    "\n",
    "ref.fit_SED(use_err=False, robust=False, wlim=[0.5,10])\n",
    "\n",
    "# Final reference spectrum (pysynphot)\n",
    "sp_ref = ref.sp_model"
   ]
  },
  {
   "cell_type": "code",
   "execution_count": 9,
   "id": "restricted-outside",
   "metadata": {},
   "outputs": [
    {
     "data": {
      "image/png": "[encoded data removed]",
      "text/plain": [
       "<Figure size 936x288 with 2 Axes>"
      ]
     },
     "metadata": {
      "needs_background": "light"
     },
     "output_type": "display_data"
    }
   ],
   "source": [
    "# Plot spectra \n",
    "fig, axes = plt.subplots(1,2, figsize=(13,4))\n",
    "src.plot_SED(xr=[0.3,10], ax=axes[0])\n",
    "ref.plot_SED(xr=[0.3,10], ax=axes[1])\n",
    "\n",
    "axes[0].set_title('Science Specta -- {} ({})'.format(src.name, spt_sci))\n",
    "axes[1].set_title('Refrence Specta -- {} ({})'.format(ref.name, spt_ref))\n",
    "\n",
    "fig.tight_layout()"
   ]
  },
  {
   "cell_type": "markdown",
   "id": "established-military",
   "metadata": {},
   "source": [
    "## Target Information\n",
    "\n",
    "For each target specified in the APT file, we want to populate a dictionary with coordinate information and astrophysical properties. The dictionary keys should match the APT \"Name in the Proposal\" so that \n",
    "\n",
    "For each designated target, there are four types of objects that can be added: stellar source, point source companions, disk object, and/or a table of point sources specifying magnitudes in NIRCam filters."
   ]
  },
  {
   "cell_type": "markdown",
   "id": "intellectual-orientation",
   "metadata": {},
   "source": [
    "1. Stellar source:\n",
    "``` python\n",
    "params_star = {\n",
    "    'sptype' : 'A0V', 'Teff': 10325, 'metallicity' : 0, 'log_g' : 4.09,\n",
    "    'v_mag' : 5.690, 'j_mag': 5.768, 'h_mag': 5.753, 'k_mag': 5.751,\n",
    "},\n",
    "```\n",
    "to generate a spectrum using `pynrc.stellar_spectrum` or add the parameter directly\n",
    "``` python\n",
    "    params_star = {'sp' : sp_star}\n",
    "```\n",
    "\n",
    "2. Companions (where `bp_renorm` is a `pysynphot` bandpass):\n",
    "``` python\n",
    "    params_hci_companions = {\n",
    "        'b' : {'xy':(-1.625,  0.564), 'runits':'arcsec', 'renorm_args':(16.0, 'vegamag', bp_renorm)},\n",
    "        'c' : {'xy':( 0.319,  0.886), 'runits':'arcsec', 'renorm_args':(15.0, 'vegamag', bp_renorm)},\n",
    "        'd' : {'xy':( 0.588, -0.384), 'runits':'arcsec', 'renorm_args':(14.6, 'vegamag', bp_renorm)},\n",
    "        'e' : {'xy':( 0.249,  0.294), 'runits':'arcsec', 'renorm_args':(14.7, 'vegamag', bp_renorm)},\n",
    "    }\n",
    "```\n",
    "See `obs_hci.add_planet()` function for more information and advanced functionality. \n",
    "\n",
    "3. Companion disk model:\n",
    "``` python\n",
    "    params_disk_model = {\n",
    "        'file': 'HD10647.fits',  # path to file\n",
    "        'wavelength': 3.0,       # model wavelength (um)\n",
    "        'pixscale': 0.01575,     # input image arcsec/pixel\n",
    "        'units': 'Jy/pixel',     # model flux units (e.g., mJy/arcsec, Jy/pixel, etc)\n",
    "        'dist': 17.34,           # assumed distance to model (pc)\n",
    "        'cen_star': True,        # does the model include stellar flux?\n",
    "    }\n",
    "```\n",
    "\n",
    "4. Table of stellar sources:\n",
    "``` python\n",
    "    from astropy.io import ascii\n",
    "    \n",
    "    cat_file = 'lmc_catalog.cat'\n",
    "    names = [\n",
    "        'index', 'ra', 'dec', 'F070W', 'F090W', 'F115W', 'F140M', 'F150W', 'F150W2',\n",
    "        'F162M', 'F164N', 'F182M', 'F187N', 'F200W', 'F210M', 'F212N', 'F250M', 'F277W', \n",
    "        'F300M','F322W2', 'F323N', 'F335M', 'F356W', 'F360M', 'F405N', 'F410M', 'F430M', \n",
    "        'F444W', 'F460M', 'F466N', 'F470N', 'F480M'\n",
    "    ]\n",
    "\n",
    "    src_tbl = ascii.read(cat_file, names=names)\n",
    "```\n",
    "Use `make_gaia_source_table` and `make_simbad_source_table` to query Gaia DR2 and Simbad to auto-generate tables."
   ]
  },
  {
   "cell_type": "code",
   "execution_count": 10,
   "id": "falling-woman",
   "metadata": {},
   "outputs": [],
   "source": [
    "# Initialize target dictionary\n",
    "targ_dict = {}\n",
    "\n",
    "# Bandpass corresponding to companion renormalization flux\n",
    "bp_pl_norm = pynrc.read_filter('F430M')\n",
    "# Assumed companion magnitudes in filter bandpass\n",
    "comp_mags = np.array([16.0, 15.0, 14.6, 14.7])\n",
    "\n",
    "# Dictionary keywords should match APT target names\n",
    "targ_dict['HR8799'] = {\n",
    "    'type' : 'FixedTargetType',\n",
    "    'TargetName' : 'HR8799', 'TargetArchiveName' : 'HR8799',\n",
    "    'EquatorialCoordinates' : \"23 07 28.7155 +21 08 3.30\",\n",
    "    'RAProperMotion'  : 108.551*u.mas/u.yr, \n",
    "    'DecProperMotion' : -49.639*u.mas/u.yr, \n",
    "    'parallax' : 24.76*u.mas, 'age_Myr' : 30,\n",
    "    'params_star' : {'sp' : sp_sci},\n",
    "    'params_companions' : {\n",
    "        'b' : {'xy':(-1.625,  0.564), 'runits':'arcsec', 'mass':10,\n",
    "               'renorm_args':(comp_mags[0], 'vegamag', bp_pl_norm)\n",
    "              },\n",
    "        'c' : {'xy':( 0.319,  0.886), 'runits':'arcsec', 'mass':10, \n",
    "               'renorm_args':(comp_mags[1], 'vegamag', bp_pl_norm)\n",
    "              },\n",
    "        'd' : {'xy':( 0.588, -0.384), 'runits':'arcsec', 'mass':10, \n",
    "               'renorm_args':(comp_mags[2], 'vegamag', bp_pl_norm)\n",
    "              },\n",
    "        'e' : {'xy':( 0.249,  0.294), 'runits':'arcsec', 'mass':10, \n",
    "               'renorm_args':(comp_mags[3], 'vegamag', bp_pl_norm)\n",
    "              },\n",
    "    },\n",
    "    'params_disk_model' : None,\n",
    "    'src_tbl' : None,\n",
    "}"
   ]
  },
  {
   "cell_type": "code",
   "execution_count": 11,
   "id": "direct-container",
   "metadata": {},
   "outputs": [],
   "source": [
    "# Reference source\n",
    "targ_dict['HD220657'] = {\n",
    "    'type' : 'FixedTargetType',\n",
    "    'TargetName' : 'HD220657', 'TargetArchiveName' : 'ups Peg',\n",
    "    'EquatorialCoordinates' : \"23 25 22.7835 +23 24 14.76\",\n",
    "    'RAProperMotion'  : 192.19*u.mas/u.yr, \n",
    "    'DecProperMotion' : 36.12*u.mas/u.yr, \n",
    "    'parallax' : 19.14*u.mas, 'age_Myr' : None,\n",
    "    'params_star' : {'sp' : sp_ref},\n",
    "    'params_companions' : None,\n",
    "    'params_disk_model' : None,\n",
    "    'src_tbl' : None,\n",
    "}"
   ]
  },
  {
   "cell_type": "code",
   "execution_count": 12,
   "id": "honey-tsunami",
   "metadata": {},
   "outputs": [
    {
     "name": "stdout",
     "output_type": "stream",
     "text": [
      "INFO: Query finished. [astroquery.utils.tap.core]\n",
      "[astroquery:INFO] Query finished.\n"
     ]
    },
    {
     "data": {
      "application/vnd.jupyter.widget-view+json": {
       "model_id": "",
       "version_major": 2,
       "version_minor": 0
      },
      "text/plain": [
       "Filters:   0%|          | 0/29 [00:00<?, ?it/s]"
      ]
     },
     "metadata": {},
     "output_type": "display_data"
    },
    {
     "name": "stdout",
     "output_type": "stream",
     "text": [
      "INFO: Query finished. [astroquery.utils.tap.core]\n",
      "[astroquery:INFO] Query finished.\n"
     ]
    },
    {
     "data": {
      "application/vnd.jupyter.widget-view+json": {
       "model_id": "",
       "version_major": 2,
       "version_minor": 0
      },
      "text/plain": [
       "Filters:   0%|          | 0/29 [00:00<?, ?it/s]"
      ]
     },
     "metadata": {},
     "output_type": "display_data"
    }
   ],
   "source": [
    "# Populate coordinates and calculate distance from parallax info\n",
    "for k in targ_dict.keys():\n",
    "    d = targ_dict[k]\n",
    "    dist = Distance(parallax=d['parallax']) if d['parallax'] is not None else None\n",
    "    c = SkyCoord(d['EquatorialCoordinates'], frame='icrs', unit=(u.hourangle, u.deg),\n",
    "                 pm_ra_cosdec=d['RAProperMotion'], pm_dec=d['DecProperMotion'],\n",
    "                 distance=dist, obstime='J2000')\n",
    "    d['sky_coords'] = c\n",
    "    d['ra_J2000'], d['dec_J2000'] = (c.ra.deg, c.dec.deg)\n",
    "    d['dist_pc'] = c.distance.value if dist is not None else None\n",
    "    \n",
    "    # Auto-generate source tables\n",
    "    src_tbl = make_gaia_source_table(c)\n",
    "    d['src_tbl'] = src_tbl if len(src_tbl)>0 else None"
   ]
  },
  {
   "cell_type": "markdown",
   "id": "exact-swing",
   "metadata": {},
   "source": [
    "## Create Observation Parameters\n",
    "\n",
    "These will used for input into the data ramp simulator and directly correspond to parameters for DMS FITS creation to ingest into the JWST pipeline"
   ]
  },
  {
   "cell_type": "code",
   "execution_count": 13,
   "id": "physical-rachel",
   "metadata": {},
   "outputs": [],
   "source": [
    "sim_config = {\n",
    "    # APT input files\n",
    "    'json_file'     : json_file,\n",
    "    'sm_acct_file'  : sm_acct_file,\n",
    "    'pointing_file' : pointing_file,\n",
    "    'xml_file'      : xml_file,\n",
    "    # Output directory\n",
    "    'save_dir'      : save_dir,\n",
    "    \n",
    "    # Initialize random seeds if repeatability is required\n",
    "    # Create separate random number generators for dithers and noise\n",
    "    'rand_seed_init'  : 1234,\n",
    "    \n",
    "    # Date and time of observations\n",
    "    'obs_date' : '2022-11-04', \n",
    "    'obs_time' : '12:00:00',\n",
    "    # Position angle of observatory\n",
    "    # User should check acceptable range in APT's Roll Analysis\n",
    "    'pa_v3'    : 90.0,\n",
    "    \n",
    "    # Source information\n",
    "    'params_targets' : targ_dict,\n",
    "    \n",
    "    # PSF size information for WebbPSF_ext\n",
    "    'params_webbpsf' : {'fov_pix': None, 'oversample': 2},\n",
    "    # Position-dependent PSFs for convolution\n",
    "    'params_psfconv' : {'npsf_per_full_fov': 9, 'osamp': 1, 'sptype': 'G0V'},\n",
    "    # Wavefront error drift settings\n",
    "    'params_wfedrift' : {'case': 'BOL', 'slew_init': 10, 'plot': False, 'figname': None},\n",
    "    # For coronagraphic masks, sample large grid of points?\n",
    "    'large_grid' : True,\n",
    "    \n",
    "    # Slew and dither pointing uncertainties\n",
    "    'large_slew' : 100.0,   # Slew to target (mas)\n",
    "    'ta_sam'     : 5.0,     # SAM movements from TA position (mas)\n",
    "    'std_sam'    : 5.0,     # Standard dither values (mas)\n",
    "    'sgd_sam'    : 2.5,     # Small grid dithers (mas)\n",
    "    \n",
    "    # Type of image files to save; can be supplied directly\n",
    "    'save_slope' : False,  # Save ideal noiseless slope images to FITS\n",
    "    'save_dms'   : False,  # Save DMS-like ramps to FITS\n",
    "    'dry_run'    : False,  # Perform a dry-run, not generating any data, just printing visit info\n",
    "    \n",
    "    # Noise components to include in full DMS output\n",
    "    'params_noise' : {\n",
    "        'include_poisson'   : True,     # Photon Noise\n",
    "        'include_dark'      : True,     # Dark current\n",
    "        'include_bias'      : True,     # Bias image offset\n",
    "        'include_ktc'       : True,     # kTC Noise\n",
    "        'include_rn'        : True,     # Read Noise\n",
    "        'include_cpink'     : True,     # Correlated 1/f noise between channel\n",
    "        'include_upink'     : True,     # Channel-dependent 1/f noise\n",
    "        'include_acn'       : True,     # Alternating column noise\n",
    "        'apply_ipc'         : True,     # Interpixel capacitance\n",
    "        'apply_ppc'         : True,     # Post-pixel coupling\n",
    "        'amp_crosstalk'     : True,     # Amplifier crosstalk\n",
    "        'include_refoffsets': True,     # Reference offsets\n",
    "        'include_refinst'   : True,     # Reference pixel instabilities\n",
    "        'include_colnoise'  : True,     # Transient detector column noise\n",
    "        'add_crs'           : True,     # Include cosmic ray\n",
    "        'cr_model'          : 'SUNMAX', # Cosmic ray model ('SUNMAX', 'SUNMIN', or 'FLARES')\n",
    "        'cr_scale'          : 1,        # Cosmic ray probabilities scaling\n",
    "        'apply_nonlinearity': True,     # Apply non-linearity\n",
    "        'random_nonlin'     : True,     # Add randomness to non-linearity\n",
    "        'apply_flats'       : True,     # pixel-to-pixel QE variations and field-dep illum\n",
    "    },\n",
    "}"
   ]
  },
  {
   "cell_type": "markdown",
   "id": "precise-presentation",
   "metadata": {},
   "source": [
    "## Perform simulations of observations\n",
    "\n",
    "The next few cells demonstrate how to simulate observations for a single visit in the program (`001:001`). In order to generate a subset of observations, the `create_level1b_FITS` function has a few keyword settings, including `visit_id`, `apname`, `filter`, and `detname`. \n",
    "\n",
    "In addition, there are some diagnostic-level options to ensure simulations are being generated as expected before going through the long process of making everything.  makes sense during\n",
    "\n",
    " * `dry_run`: Won't generate any image data, but instead runs through each observation, printing detector info, SIAF aperture name, filter, visit IDs, exposure numbers, and dither information. If set to `None`, then grabs keyword from `sim_config` argument, otherwise defaults to `False` if not specified. If paired with `save_dms`, then will generate an empty set of DMS FITS files with headers populated, but data set to all zeros.\n",
    " * `save_slope`: Saves noiseless slope images to a separate DMS-like FITS file that is names `slope_{DMSfilename}`. If set to `None`, then grabs keyword from `sim_config`, otherwise defaults to False if not found. **Is  effect if `dry_run=True`.**\n",
    " * `save_dms`: Option to disable simulation of ramp data and creation of DMS FITS. If `dry_run=True`, then setting `save_dms=True` will save DMS FITS files populated with all zeros. If set to `None`, then grabs keyword from `sim_config`; if no keyword is found, then defaults to `True` if `dry_run=False`, otherwise False.\n"
   ]
  },
  {
   "cell_type": "code",
   "execution_count": 14,
   "id": "honest-mouth",
   "metadata": {
    "scrolled": false
   },
   "outputs": [
    {
     "data": {
      "application/vnd.jupyter.widget-view+json": {
       "model_id": "",
       "version_major": 2,
       "version_minor": 0
      },
      "text/plain": [
       "Obs Params:   0%|          | 0/70 [00:00<?, ?it/s]"
      ]
     },
     "metadata": {},
     "output_type": "display_data"
    },
    {
     "data": {
      "application/vnd.jupyter.widget-view+json": {
       "model_id": "",
       "version_major": 2,
       "version_minor": 0
      },
      "text/plain": [
       "Exposures:   0%|          | 0/5 [00:00<?, ?it/s]"
      ]
     },
     "metadata": {},
     "output_type": "display_data"
    },
    {
     "name": "stdout",
     "output_type": "stream",
     "text": [
      "NRCA5 NRCA5_FULL_MASK430R F335M HR8799 001:001 03104 1 (+0.003, -0.005) 1.84 2915\n"
     ]
    },
    {
     "data": {
      "application/vnd.jupyter.widget-view+json": {
       "model_id": "",
       "version_major": 2,
       "version_minor": 0
      },
      "text/plain": [
       "Exposures:   0%|          | 0/5 [00:00<?, ?it/s]"
      ]
     },
     "metadata": {},
     "output_type": "display_data"
    },
    {
     "name": "stdout",
     "output_type": "stream",
     "text": [
      "NRCA5 NRCA5_FULL_TAMASK430R F335M HR8799 001:001 03102 1 (+0.020, -0.017) 1.86 2720\n"
     ]
    },
    {
     "data": {
      "application/vnd.jupyter.widget-view+json": {
       "model_id": "",
       "version_major": 2,
       "version_minor": 0
      },
      "text/plain": [
       "Exposures:   0%|          | 0/5 [00:00<?, ?it/s]"
      ]
     },
     "metadata": {},
     "output_type": "display_data"
    },
    {
     "name": "stdout",
     "output_type": "stream",
     "text": [
      "NRCA5 NRCA5_MASK430R F356W HR8799 001:001 03106 1 (+0.003, -0.005) 1.92 3107\n"
     ]
    },
    {
     "data": {
      "application/vnd.jupyter.widget-view+json": {
       "model_id": "",
       "version_major": 2,
       "version_minor": 0
      },
      "text/plain": [
       "Exposures:   0%|          | 0/5 [00:00<?, ?it/s]"
      ]
     },
     "metadata": {},
     "output_type": "display_data"
    },
    {
     "name": "stdout",
     "output_type": "stream",
     "text": [
      "NRCA5 NRCA5_MASK430R F444W HR8799 001:001 03107 1 (+0.003, -0.005) 1.95 3706\n"
     ]
    },
    {
     "data": {
      "application/vnd.jupyter.widget-view+json": {
       "model_id": "",
       "version_major": 2,
       "version_minor": 0
      },
      "text/plain": [
       "Exposures:   0%|          | 0/5 [00:00<?, ?it/s]"
      ]
     },
     "metadata": {},
     "output_type": "display_data"
    },
    {
     "name": "stdout",
     "output_type": "stream",
     "text": [
      "NRCA5 NRCA5_TAMASK430R F335M HR8799 001:001 02102 1 (+0.020, -0.017) 1.86 2536\n"
     ]
    }
   ],
   "source": [
    "# Perform dry-run test first\n",
    "# prints (detname, aperture, filter, target, visit, grp/seq/act id, expid, offset, dWFE, dtime start)\n",
    "create_level1b_FITS(sim_config, dry_run=True, save_slope=False, save_dms=False, \n",
    "                    visit_id='001:001')"
   ]
  },
  {
   "cell_type": "code",
   "execution_count": null,
   "id": "focal-spectrum",
   "metadata": {},
   "outputs": [],
   "source": [
    "# Create ideal slope images, saved to Level-1b formation\n",
    "# Will print messages: \n",
    "#   Saving: slope_jw01194001001_03104_00001_nrca5_uncal.fits\n",
    "create_level1b_FITS(sim_config, dry_run=False, save_slope=True, save_dms=False, \n",
    "                    visit_id='001:001')"
   ]
  },
  {
   "cell_type": "code",
   "execution_count": null,
   "id": "toxic-cliff",
   "metadata": {},
   "outputs": [],
   "source": [
    "# Generate simulated Level-1b FITS files\n",
    "# Will print messages: \n",
    "#   Saving: pynrc_jw01194001001_03106_00001_nrca5_uncal.fits\n",
    "create_level1b_FITS(sim_config, dry_run=False, save_slope=False, save_dms=True, \n",
    "                    visit_id='001:001', apname='NRCA5_MASK430R')"
   ]
  },
  {
   "cell_type": "code",
   "execution_count": null,
   "id": "upset-letters",
   "metadata": {},
   "outputs": [],
   "source": []
  }
 ],
 "metadata": {
  "kernelspec": {
   "display_name": "Python 3 (ipykernel)",
   "language": "python",
   "name": "python3"
  },
  "language_info": {
   "codemirror_mode": {
    "name": "ipython",
    "version": 3
   },
   "file_extension": ".py",
   "mimetype": "text/x-python",
   "name": "python",
   "nbconvert_exporter": "python",
   "pygments_lexer": "ipython3",
   "version": "3.7.9"
  }
 },
 "nbformat": 4,
 "nbformat_minor": 5
}
