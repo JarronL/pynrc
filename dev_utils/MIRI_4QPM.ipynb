{
 "cells": [
  {
   "cell_type": "code",
   "execution_count": 1,
   "metadata": {},
   "outputs": [],
   "source": [
    "# Import the usual libraries\n",
    "import numpy as np\n",
    "import matplotlib\n",
    "import matplotlib.pyplot as plt\n",
    "#import matplotlib.patches as mpatches\n",
    "\n",
    "# Enable inline plotting\n",
    "%matplotlib inline"
   ]
  },
  {
   "cell_type": "code",
   "execution_count": 2,
   "metadata": {},
   "outputs": [],
   "source": [
    "# jedi 0.14.1 tab completion fails; will be fixed in 0.14.2\n",
    "import jedi\n",
    "if jedi.__version__ == '0.14.1':\n",
    "    %config Completer.use_jedi = False\n",
    "    \n",
    "# Progress bar\n",
    "from tqdm.auto import trange, tqdm"
   ]
  },
  {
   "cell_type": "code",
   "execution_count": 3,
   "metadata": {},
   "outputs": [],
   "source": [
    "import pynrc\n",
    "from pynrc import nrc_utils, psfs, opds, conf\n",
    "from pynrc.nrc_utils import S, jl_poly_fit, jl_poly, frebin, pad_or_cut_to_size\n",
    "from pynrc.opds import webbpsf"
   ]
  },
  {
   "cell_type": "code",
   "execution_count": 4,
   "metadata": {},
   "outputs": [],
   "source": [
    "from astropy.io import fits\n",
    "import six, os"
   ]
  },
  {
   "cell_type": "code",
   "execution_count": 342,
   "metadata": {},
   "outputs": [],
   "source": [
    "from pynrc.nrc_utils import bp_igood\n",
    "def miri_filter(filter):\n",
    "    \n",
    "    \"\"\"\n",
    "    No need to include pupil for the \n",
    "    \"\"\"\n",
    "    \n",
    "    filter = filter.upper()\n",
    "    filt_dir = webbpsf.utils.get_webbpsf_data_path() + 'MIRI/filters/'\n",
    "    fname = f'{filter}_throughput.fits'\n",
    "\n",
    "    bp_name = filter\n",
    "\n",
    "    hdulist = fits.open(filt_dir + fname)\n",
    "    wtemp = hdulist[1].data['WAVELENGTH']\n",
    "    ttemp = hdulist[1].data['THROUGHPUT']\n",
    "\n",
    "    fscale_dict = {\n",
    "        'F560W' : 0.30, 'F770W' : 0.35, 'F1000W': 0.35,\n",
    "        'F1130W': 0.30, 'F1280W': 0.30, 'F1500W': 0.35,\n",
    "        'F1800W': 0.30, 'F2100W': 0.25, 'F2550W': 0.20,\n",
    "\n",
    "        'F1065C': 0.3, 'F1140C': 0.3, 'F1550C': 0.3, 'F2300C': 0.25,\n",
    "        'FND': 0.0008\n",
    "    }\n",
    "\n",
    "    ttemp = fscale_dict[filter] * ttemp / ttemp.max()\n",
    "    \n",
    "    bp = S.ArrayBandpass(wtemp, ttemp, name=bp_name)\n",
    "\n",
    "    # Select which wavelengths to keep\n",
    "    igood = bp_igood(bp, min_trans=0.005, fext=0.1)\n",
    "    wgood = (bp.wave)[igood]\n",
    "    w1 = wgood.min()\n",
    "    w2 = wgood.max()\n",
    "    wrange = w2 - w1\n",
    "\n",
    "    # Resample to common dw to ensure consistency\n",
    "    dw_arr = bp.wave[1:] - bp.wave[:-1]\n",
    "    dw = np.median(dw_arr)\n",
    "    warr = np.arange(w1,w2, dw)\n",
    "    bp = bp.resample(warr)\n",
    "\n",
    "    # Need to place zeros at either end so Pysynphot doesn't extrapolate\n",
    "    warr = np.concatenate(([bp.wave.min()-dw],bp.wave,[bp.wave.max()+dw]))\n",
    "    tarr = np.concatenate(([0],bp.throughput,[0]))\n",
    "    bp   = S.ArrayBandpass(warr, tarr, name=bp_name)\n",
    "        \n",
    "    return bp\n"
   ]
  },
  {
   "cell_type": "code",
   "execution_count": 499,
   "metadata": {},
   "outputs": [],
   "source": [
    "from webbpsf import MIRI as webbpsf_MIRI\n",
    "class MIRI_psf_coeffs(webbpsf_MIRI):\n",
    "    \n",
    "    def __init__(self, filter=None, pupil_mask=None, image_mask=None, \n",
    "                 fov_pix=None, oversample=None):\n",
    "        \n",
    "        webbpsf_MIRI.__init__(self)\n",
    "        \n",
    "        if filter is not None:\n",
    "            self.filter = filter\n",
    "        if pupil_mask is not None:\n",
    "            self.pupil_mask = pupil_mask\n",
    "        if image_mask is not None:\n",
    "            self.image_mask = image_mask\n",
    "            \n",
    "        # Don't include SI WFE error for coronagraphy\n",
    "        self.include_si_wfe = False if self.is_coron else True\n",
    "        \n",
    "        # Default setting for FOV pixels\n",
    "        self._fov_pix = 33 if fov_pix is None else fov_pix\n",
    "        self._oversample = oversample\n",
    "        \n",
    "        # Setting these to one choose default values at runtime\n",
    "        self._npsf = None\n",
    "        self._ndeg = None\n",
    "        \n",
    "        # Legendre polynomials are more stable\n",
    "        self.use_legendre = True\n",
    "        \n",
    "        # Turning on quick perform fits over filter bandpasses independently\n",
    "        # The smaller wavelength range requires fewer monochromaic wavelengths\n",
    "        # and lower order polynomial fits\n",
    "        self._quick = True\n",
    "        \n",
    "        self._opd_default = ('OPD_RevW_ote_for_MIRI_predicted.fits.gz', 0)\n",
    "        self.pupilopd = self._opd_default\n",
    "        self._pupilopd_copy = None\n",
    "        self.wfe_drift = 0\n",
    "        \n",
    "        # Name to save array of oversampled coefficients\n",
    "        self._save_dir = None\n",
    "        self._save_name = None\n",
    "        \n",
    "        # No jitter for coronagraphy\n",
    "        self.options['jitter'] = None if self.is_coron else 'gaussian'\n",
    "        self.options['jitter_sigma'] = 0.003\n",
    "\n",
    "    @property\n",
    "    def save_dir(self):\n",
    "        \"\"\"Coefficient save directory\"\"\"\n",
    "        # Default name\n",
    "        if self._save_dir is None:\n",
    "            # Name to save array of oversampled coefficients\n",
    "            save_dir = conf.PYNRC_PATH + 'psf_coeffs/'\n",
    "            ## Create directory if it doesn't already exist\n",
    "            #if not os.path.isdir(self._save_dir):\n",
    "            #    os.makedirs(self._save_dir)\n",
    "    @save_dir.setter\n",
    "    def save_dir(self, value):\n",
    "        self._save_dir = value\n",
    "        \n",
    "    @property\n",
    "    def save_name(self):\n",
    "        \"\"\"Coefficient file name\"\"\"\n",
    "        save_name = self._save_name\n",
    "        save_name = self.gen_save_name() if save_name is None else save_name\n",
    "        return save_name\n",
    "    @save_name.setter\n",
    "    def save_name(self, value):\n",
    "        self._save_name = value\n",
    "        \n",
    "    @property\n",
    "    def bandpass(self):\n",
    "        return miri_filter(self.filter)\n",
    "        \n",
    "    @property\n",
    "    def is_coron(self):\n",
    "        \"\"\"\n",
    "        Corongraphic observations based on pupil mask settings\n",
    "        \"\"\"\n",
    "        pupil = self.pupil_mask\n",
    "        return (pupil is not None) and (('LYOT' in pupil) or ('FQPM' in pupil))\n",
    "    @property\n",
    "    def is_slitspec(self):\n",
    "        \"\"\"\n",
    "        LRS observations based on pupil mask settings\n",
    "        \"\"\"\n",
    "        pupil = self.pupil_mask\n",
    "        return (pupil is not None) and ('LRS' in pupil)\n",
    "    \n",
    "    @property\n",
    "    def fov_pix(self):\n",
    "        fov_pix = 33 if self._fov_pix is None else self._fov_pix\n",
    "        return fov_pix\n",
    "    @fov_pix.setter\n",
    "    def fov_pix(self, value):\n",
    "        self._fov_pix = value\n",
    "        \n",
    "    @property\n",
    "    def oversample(self):\n",
    "        if self._oversample is None:\n",
    "            oversample = 2 if self.is_coron else 4\n",
    "        else:\n",
    "            oversample = self._oversample\n",
    "        return oversample\n",
    "    @oversample.setter\n",
    "    def oversample(self, value):\n",
    "        self._oversample = value\n",
    "    \n",
    "    @property\n",
    "    def npsf(self):\n",
    "        \n",
    "        npsf = self._npsf\n",
    "        \n",
    "        # Default to 10 PSF simulations per um\n",
    "        w1 = self.bandpass.wave.min() / 1e4\n",
    "        w2 = self.bandpass.wave.max() / 1e4\n",
    "        if npsf is None:\n",
    "            dn = 10 \n",
    "            npsf = int(np.ceil(dn * (w2-w1)))\n",
    "\n",
    "        # Want at least 5 monochromatic PSFs\n",
    "        npsf = 5 if npsf<5 else int(npsf)\n",
    "\n",
    "        # Number of points must be greater than degree of fit\n",
    "        npsf = self.ndeg+1 if npsf<=self.ndeg else int(npsf)\n",
    "\n",
    "        return npsf\n",
    "    \n",
    "    @npsf.setter\n",
    "    def npsf(self, value):\n",
    "        self._npsf = value\n",
    "        \n",
    "    @property\n",
    "    def ndeg(self):\n",
    "        ndeg = self._ndeg\n",
    "        if ndeg is None:\n",
    "            # TODO: Quantify these better\n",
    "            if self.use_legendre:\n",
    "                ndeg = 4 if self._quick else 7\n",
    "            else:\n",
    "                ndeg = 4 if self._quick else 7\n",
    "        return ndeg\n",
    "    @ndeg.setter\n",
    "    def ndeg(self, value):\n",
    "        self._ndeg = value\n",
    "\n",
    "    @webbpsf_MIRI.detector_position.setter\n",
    "    def detector_position(self, position):\n",
    "        try:\n",
    "            x, y = map(int, position)\n",
    "        except ValueError:\n",
    "            raise ValueError(\"Detector pixel coordinates must be a pair of numbers, not {}\".format(position))\n",
    "        self._detector_position = (int(position[0]), int(position[1]))\n",
    "    \n",
    "    def mask_image(self, npix=None, pixelscale=None, detector_orientation=True):\n",
    "        \"\"\"\n",
    "        Return an image representation of the focal plane mask.\n",
    "        For 4QPM, we should the phase offsets (0 or 1), whereas\n",
    "        the Lyot and LRS slit masks return transmission.\n",
    "        \n",
    "        Parameters\n",
    "        ==========\n",
    "        npix : int\n",
    "            Number of pixels in output image. If not set, then\n",
    "            is automatically determined based on mask FoV and\n",
    "            `pixelscale`\n",
    "        pixelscale : float\n",
    "            Size of output pixels in units of arcsec. If not specified,\n",
    "            then selects nominal detector pixel scale.\n",
    "        detector_orientation : bool\n",
    "            Should the output image be rotated to be in detector coordinates?\n",
    "            If set to False, then output mask is rotated along V2/V3 axes.\n",
    "        \"\"\"\n",
    "        \n",
    "        def make_fqpm_wrapper(name, wavelength):\n",
    "            opticslist = [poppy.IdealFQPM(wavelength=wavelength, name=self.image_mask, rotation=rot1, **offsets),\n",
    "                          poppy.SquareFieldStop(size=24, rotation=rot2, **offsets)]\n",
    "            container = poppy.CompoundAnalyticOptic(name=name, opticslist=opticslist)\n",
    "            return container\n",
    "        \n",
    "        rot1 = -self._rotation if detector_orientation else 0\n",
    "        rot2 = 0 if detector_orientation else self._rotation\n",
    "        offsets = {'shift_x': self.options.get('coron_offset_x', None),\n",
    "                   'shift_y': self.options.get('coron_offset_y', None)}\n",
    "        \n",
    "        \n",
    "        pixelscale = self.pixelscale if pixelscale is None else pixelscale\n",
    "\n",
    "        if self.image_mask == 'FQPM1065':\n",
    "            full_pad = 2*np.max(np.abs(xy_rot(12, 12, rot2)))\n",
    "            npix = int(full_pad / pixelscale + 0.5) if npix is None else npix\n",
    "            wave = poppy.Wavefront(wavelength=10.65e-6, npix=npix, pixelscale=pixelscale)\n",
    "            mask = make_fqpm_wrapper(\"MIRI FQPM 1065\", 10.65e-6)\n",
    "            im = np.real(mask.get_phasor(wave))\n",
    "            im /= im.max()\n",
    "        elif self.image_mask == 'FQPM1140':\n",
    "            full_pad = 2*np.max(np.abs(xy_rot(12, 12, rot2)))\n",
    "            npix = int(full_pad / pixelscale + 0.5) if npix is None else npix\n",
    "            wave = poppy.Wavefront(wavelength=11.4e-6, npix=npix, pixelscale=pixelscale)\n",
    "            mask = make_fqpm_wrapper(\"MIRI FQPM 1140\", 11.40e-6)\n",
    "            im = np.real(mask.get_phasor(wave))\n",
    "            im /= im.max()\n",
    "        elif self.image_mask == 'FQPM1550':\n",
    "            full_pad = 2*np.max(np.abs(xy_rot(12, 12, rot2)))\n",
    "            npix = int(full_pad / pixelscale + 0.5) if npix is None else npix\n",
    "            wave = poppy.Wavefront(wavelength=15.5e-6, npix=npix, pixelscale=pixelscale)\n",
    "            mask = make_fqpm_wrapper(\"MIRI FQPM 1550\", 15.50e-6)\n",
    "            im = np.real(mask.get_phasor(wave))\n",
    "            im /= im.max()\n",
    "        elif self.image_mask == 'LYOT2300':\n",
    "            full_pad = 2*np.max(np.abs(xy_rot(15, 15, rot2)))\n",
    "            npix = int(full_pad / pixelscale + 0.5) if npix is None else npix\n",
    "            wave = poppy.Wavefront(wavelength=23e-6, npix=npix, pixelscale=pixelscale)\n",
    "            opticslist = [poppy.CircularOcculter(radius=4.25 / 2, name=self.image_mask, rotation=rot1, **offsets),\n",
    "                          poppy.BarOcculter(width=0.722, height=31, rotation=rot1, **offsets),\n",
    "                          poppy.SquareFieldStop(size=30, rotation=rot2, **offsets)]\n",
    "            mask = poppy.CompoundAnalyticOptic(name=\"MIRI Lyot Occulter\", opticslist=opticslist)\n",
    "            im = mask.get_transmission(wave)\n",
    "        elif self.image_mask == 'LRS slit':\n",
    "            full_pad = 2*np.max(np.abs(xy_rot(2.5, 2.5, rot2)))\n",
    "            npix = int(full_pad / pixelscale + 0.5) if npix is None else npix\n",
    "            wave = poppy.Wavefront(wavelength=23e-6, npix=npix, pixelscale=pixelscale)\n",
    "            mask = poppy.RectangularFieldStop(width=4.7, height=0.51, rotation=rot2, \n",
    "                                              name=self.image_mask, **offsets)\n",
    "            im = mask.get_transmission(wave)\n",
    "        else:\n",
    "            im = np.ones([npix,npix])\n",
    "        \n",
    "        return im\n",
    "        \n",
    "    def get_opd_info(self, opd=None, HDUL_to_OTELM=True):\n",
    "        \"\"\"\n",
    "        Parse out OPD information for a given OPD, which \n",
    "        can be a file name, tuple (file,slice), HDUList,\n",
    "        or OTE Linear Model. Returns dictionary of some\n",
    "        relevant information for logging purposes.\n",
    "        The dictionary has an OPD version as an OTE LM.\n",
    "        \n",
    "        This outputs an OTE Linear Model. \n",
    "        In order to update instrument class:\n",
    "            >>> opd_dict = inst.get_opd_info()\n",
    "            >>> opd_new = opd_dict['pupilopd']\n",
    "            >>> inst.pupilopd = opd_new\n",
    "            >>> inst.pupil = opd_new\n",
    "        \"\"\"\n",
    "        \n",
    "        # Pupil OPD file name\n",
    "        if opd is None:\n",
    "            opd = self.pupilopd\n",
    "            \n",
    "        # If OPD is None or a string, make into tuple\n",
    "        if opd is None:  # Default OPD\n",
    "            opd = self._opd_default\n",
    "        elif isinstance(opd, six.string_types):\n",
    "            opd = (opd, 0)\n",
    "            \n",
    "        # Parse OPD info\n",
    "        if isinstance(opd, tuple):\n",
    "            if not len(opd)==2:\n",
    "                raise ValueError(\"opd passed as tuple must have length of 2.\")\n",
    "            # Filename info\n",
    "            opd_name = opd[0] # OPD file name\n",
    "            opd_num  = opd[1] # OPD slice\n",
    "            rev = [s for s in opd_name.split('_') if \"Rev\" in s]\n",
    "            rev = '' if len(rev)==0 else rev[0]\n",
    "            opd_str = '{}slice{:.0f}'.format(rev,opd_num)\n",
    "            opd = OPDFile_to_HDUList(opd_name, opd_num)\n",
    "        elif isinstance(opd, fits.HDUList):\n",
    "            # A custom OPD is passed. \n",
    "            opd_name = 'OPD from FITS HDUlist'\n",
    "            opd_num = 0\n",
    "            opd_str = 'OPDcustomFITS'\n",
    "        elif isinstance(opd, poppy.OpticalElement):\n",
    "            # OTE Linear Model\n",
    "            opd_name = 'OPD from OTE LM'\n",
    "            opd_num = 0\n",
    "            opd_str = 'OPDcustomLM'\n",
    "        else:\n",
    "            raise ValueError(\"OPD must be a string, tuple, HDUList, or OTE LM.\")\n",
    "            \n",
    "        # OPD should now be an HDUList or OTE LM\n",
    "        # Convert to OTE LM if HDUList\n",
    "        if HDUL_to_OTELM and isinstance(opd, fits.HDUList):\n",
    "            hdul = opd\n",
    "\n",
    "            header = hdul[0].header\n",
    "            header['ORIGINAL'] = (opd_name,   \"Original OPD source\")\n",
    "            header['SLICE']    = (opd_num,    \"Slice index of original OPD\")\n",
    "            header['WFEDRIFT'] = (self.wfe_drift, \"WFE drift amount [nm]\")\n",
    "\n",
    "            name = 'Modified from ' + opd_name\n",
    "            opd = OTE_Linear_Model_WSS(name=name, opd=hdul, opd_index=opd_num, transmission=self.pupil)\n",
    "            \n",
    "        out_dict = {'opd_name':opd_name, 'opd_num':opd_num, 'opd_str':opd_str, 'pupilopd':opd}\n",
    "        return out_dict\n",
    "    \n",
    "    def drift_opd(self, opd=None):\n",
    "        \"\"\"\n",
    "        A quick method to drift the pupil OPD. This function applies \n",
    "        some WFE drift to input OPD file by breaking up the wfe_drift \n",
    "        attribute into thermal, frill, and IEC components. If we want \n",
    "        more realistic time evolution, then we should use the procedure \n",
    "        in dev_utils/WebbPSF_OTE_LM.ipynb to create a time series of OPD\n",
    "        maps, which can then be passed directly to create unique PSFs.\n",
    "        \n",
    "        This outputs an OTE Linear Model. \n",
    "        In order to update instrument class:\n",
    "            >>> opd_new = inst.drift_opd()\n",
    "            >>> inst.pupilopd = opd_new\n",
    "            >>> inst.pupil = opd_new\n",
    "        \"\"\"\n",
    "        wfe_drift = self.wfe_drift\n",
    "        \n",
    "        # Get Pupil OPD info and convert to OTE LM\n",
    "        opd_dict = self.get_opd_info(opd)\n",
    "        opd_name = opd_dict['opd_name']\n",
    "        opd_num  = opd_dict['opd_num']\n",
    "        opd_str  = opd_dict['opd_str']\n",
    "        opd      = opd_dict['pupilopd']\n",
    "            \n",
    "        # If there is wfe_drift, create a OTE Linear Model\n",
    "        wfe_dict = {'therm':0, 'frill':0, 'iec':0, 'opd':opd}\n",
    "        if (wfe_drift > 0):\n",
    "            _log.info('Performing WFE drift of {}nm'.format(wfe_drift))\n",
    "\n",
    "            # Apply WFE drift to OTE Linear Model (Amplitude of frill drift)\n",
    "            # self.pupilopd = opd\n",
    "            # self.pupil = opd\n",
    "\n",
    "            # Split WFE drift amplitude between three processes\n",
    "            # 1) IEC Heaters; 2) Frill tensioning; 3) OTE Thermal perturbations\n",
    "            # Give IEC heaters 1 nm \n",
    "            wfe_iec = 1 if np.abs(wfe_drift) > 2 else 0\n",
    "\n",
    "            # Split remainder evenly between frill and OTE thermal slew\n",
    "            wfe_remain_var = wfe_drift**2 - wfe_iec**2\n",
    "            wfe_frill = np.sqrt(0.8*wfe_remain_var)\n",
    "            wfe_therm = np.sqrt(0.2*wfe_remain_var)\n",
    "            # wfe_th_frill = np.sqrt((wfe_drift**2 - wfe_iec**2) / 2)\n",
    "\n",
    "            # Negate amplitude if supplying negative wfe_drift\n",
    "            if wfe_drift < 0:\n",
    "                wfe_frill *= -1\n",
    "                wfe_therm *= -1\n",
    "                wfe_iec *= -1\n",
    "\n",
    "            # Apply IEC\n",
    "            opd.apply_iec_drift(wfe_iec, delay_update=True)\n",
    "            # Apply frill\n",
    "            opd.apply_frill_drift(wfe_frill, delay_update=True)\n",
    "\n",
    "            # Apply OTE thermal slew amplitude\n",
    "            # This is slightly different due to how thermal slews are specified\n",
    "            import astropy.units as u\n",
    "            delta_time = 14*24*60 * u.min\n",
    "            wfe_scale = (wfe_therm / 24)\n",
    "            if wfe_scale == 0:\n",
    "                delta_time = 0\n",
    "            opd.thermal_slew(delta_time, case='BOL', scaling=wfe_scale)\n",
    "            \n",
    "            wfe_dict['therm'] = wfe_therm\n",
    "            wfe_dict['frill'] = wfe_frill\n",
    "            wfe_dict['iec']   = wfe_iec\n",
    "            wfe_dict['opd']   = opd\n",
    "\n",
    "        return wfe_dict\n",
    "\n",
    "    \n",
    "    def gen_coeff(self, fov_pix=None, oversample=None, nproc=None,\n",
    "                  force=False, save=True, return_extras=False):\n",
    "        \n",
    "        save_name = self.save_name\n",
    "        # Load data from already saved FITS file\n",
    "        if os.path.exists(save_name) and (not force):\n",
    "            hdul = fits.open(save_name)\n",
    "            data = hdul[0].data.astype(np.float)\n",
    "            header = hdul[0].header\n",
    "            hdul.close()\n",
    "            return data, header\n",
    "        \n",
    "        temp_str = 'and saving' if save else 'but not saving'\n",
    "        _log.info(f'Generating {temp_str} PSF coefficient')\n",
    "\n",
    "        # Change log levels to WARNING for pyNRC, WebbPSF, and POPPY\n",
    "        log_prev = conf.logging_level\n",
    "        setup_logging('WARN', verbose=False)\n",
    "        \n",
    "        w1 = self.bandpass.wave.min() / 1e4\n",
    "        w2 = self.bandpass.wave.max() / 1e4\n",
    "        npsf = self.npsf\n",
    "        waves = np.linspace(w1, w2, npsf)\n",
    "            \n",
    "        fov_pix = self.fov_pix if fov_pix is None else fov_pix\n",
    "        oversample = self.oversample if oversample is None else oversample\n",
    "                \n",
    "        # Get OPD info and convert to OTE LM\n",
    "        opd_dict = self.get_opd_info(HDUL_to_OTELM=True)\n",
    "        opd_name = opd_dict['opd_name']\n",
    "        opd_num  = opd_dict['opd_num']\n",
    "        opd_str  = opd_dict['opd_str']\n",
    "        opd      = opd_dict['pupilopd']\n",
    "        \n",
    "        # Drift OPD\n",
    "        if self.wfe_drift>0:\n",
    "            wfe_dict = self.drift_opd(opd)\n",
    "        else:\n",
    "            wfe_dict = {'therm':0, 'frill':0, 'iec':0, 'opd':opd}\n",
    "        opd_new = wfe_dict['opd']\n",
    "        # Save copies\n",
    "        pupilopd_orig = copy.deepcopy(self.pupilopd)\n",
    "        pupil_orig = copy.deepcopy(self.pupil)\n",
    "        self.pupilopd = opd_new\n",
    "        self.pupil = opd_new\n",
    "        \n",
    "        # How many processors to split into?\n",
    "        if nproc is None:\n",
    "            nproc = nproc_use(fov_pix, oversample, npsf)\n",
    "        _log.debug('nprocessors: {}; npsf: {}'.format(nproc, npsf))\n",
    "\n",
    "        setup_logging('WARN', verbose=False)\n",
    "        t0 = time.time()\n",
    "        # Setup the multiprocessing pool and arguments to pass to each pool\n",
    "        worker_arguments = [(self, wlen, fov_pix, oversample) for wlen in waves]\n",
    "        if nproc > 1:\n",
    "            pool = mp.Pool(nproc)\n",
    "            # Pass arguments to the helper function\n",
    "\n",
    "            try:\n",
    "                hdu_arr = pool.map(_wrap_coeff_for_mp, worker_arguments)\n",
    "                if hdu_arr[0] is None:\n",
    "                    raise RuntimeError('Returned None values. Issue with multiprocess or WebbPSF??')\n",
    "\n",
    "            except Exception as e:\n",
    "                _log.error('Caught an exception during multiprocess.')\n",
    "                _log.error('Closing multiprocess pool.')\n",
    "                pool.terminate()\n",
    "                pool.close()\n",
    "                raise e\n",
    "\n",
    "            else:\n",
    "                _log.debug('Closing multiprocess pool.')\n",
    "                pool.close()\n",
    "        else:\n",
    "            # Pass arguments to the helper function\n",
    "            hdu_arr = []\n",
    "            for wa in worker_arguments:\n",
    "                hdu = _wrap_coeff_for_mp(wa)\n",
    "                if hdu is None:\n",
    "                    raise RuntimeError('Returned None values. Issue with WebbPSF??')\n",
    "                hdu_arr.append(hdu)\n",
    "        t1 = time.time()\n",
    "        \n",
    "        # Reset pupils\n",
    "        self.pupilopd = pupilopd_orig\n",
    "        self.pupil = pupil_orig\n",
    "    \n",
    "        # Reset to original log levels\n",
    "        setup_logging(log_prev, verbose=False)\n",
    "        time_string = 'Took {:.2f} seconds to generate WebbPSF images'.format(t1-t0)\n",
    "        _log.info(time_string)\n",
    "\n",
    "        # Extract image data from HDU array\n",
    "        images = []\n",
    "        for hdu in hdu_arr:\n",
    "            images.append(hdu.data)\n",
    "\n",
    "        # Turn results into an numpy array (npsf,ny,nx)\n",
    "        images = np.array(images)\n",
    "\n",
    "        # Simultaneous polynomial fits to all pixels using linear least squares\n",
    "        use_legendre = self.use_legendre\n",
    "        ndeg = self.ndeg\n",
    "        coeff_all = jl_poly_fit(waves, images, deg=ndeg, use_legendre=use_legendre, lxmap=[w1,w2])\n",
    "        \n",
    "        ################################\n",
    "        # Create HDU and header\n",
    "        ################################\n",
    "        \n",
    "        hdu = fits.PrimaryHDU(coeff_all)\n",
    "        hdr = hdu.header\n",
    "        head_temp = hdu_arr[0].header\n",
    "\n",
    "        hdr['DESCR']    = ('PSF Coeffecients', 'File Description')\n",
    "        hdr['NWAVES']   = (npsf, 'Number of wavelengths used in calculation')\n",
    "        #hdr['PUPILOPD'] = (opd_name, 'Pupil wavefront OPD source')\n",
    "        #hdr['OPDSLICE'] = (opd_num, 'OPD slice index')\n",
    "\n",
    "        copy_keys = [\n",
    "            'EXTNAME', 'OVERSAMP', 'DET_SAMP', 'PIXELSCL', 'FOV',     \n",
    "            'INSTRUME', 'FILTER', 'PUPIL', 'CORONMSK',\n",
    "            'WAVELEN', 'DIFFLMT', 'APERNAME',\n",
    "            'DET_NAME', 'DET_X', 'DET_Y', 'DET_V2', 'DET_V3',  \n",
    "            'GRATNG14', 'GRATNG23', 'FLATTYPE', 'CCCSTATE', 'TACQNAME',\n",
    "            'PUPILINT', 'PUPILOPD', 'OPD_FILE', 'OPDSLICE', 'TEL_WFE', \n",
    "            'NORMALIZ', 'FFTTYPE', 'AUTHOR', 'DATE', 'VERSION',  'DATAVERS'\n",
    "        ]\n",
    "        for key in copy_keys:\n",
    "            try:\n",
    "                hdr[key] = (head_temp[key], head_temp.comments[key])\n",
    "            except (AttributeError, KeyError):\n",
    "                hdr[key] = ('none', 'No key found')\n",
    "\n",
    "        # Source positioning\n",
    "        offset_r = self.options.get('source_offset_r', 0)\n",
    "        offset_theta = self.options.get('offset_theta', 0)\n",
    "        if offset_r is None: \n",
    "            offset_r = 0\n",
    "        if offset_theta is None: \n",
    "            offset_theta = 0\n",
    "        \n",
    "        # Mask offsetting\n",
    "        coron_offset_x = self.options.get('coron_offset_x', 0)\n",
    "        coron_offset_y = self.options.get('coron_offset_y', 0)\n",
    "        if coron_offset_x is None: \n",
    "            coron_offset_x = 0\n",
    "        if coron_offset_y is None: \n",
    "            coron_offset_y = 0\n",
    "            \n",
    "        # Jitter settings\n",
    "        jitter = self.options.get('jitter')\n",
    "        jitter_sigma = self.options.get('jitter_sigma', 0)\n",
    "                \n",
    "        # gen_psf_coeff() Keyword Values\n",
    "        hdr['FOVPIX'] = (fov_pix, 'WebbPSF pixel FoV')\n",
    "        hdr['OSAMP']  = (oversample, 'WebbPSF pixel oversample')\n",
    "        hdr['NPSF']   = (npsf, 'Number of wavelengths to calc')\n",
    "        hdr['NDEG']   = (ndeg, 'Polynomial fit degree')\n",
    "        hdr['WAVE1']  = (w1, 'First wavelength in calc')\n",
    "        hdr['WAVE2']  = (w2, 'Last of wavelength in calc')\n",
    "        hdr['LEGNDR'] = (use_legendre, 'Legendre polynomial fit?')\n",
    "        hdr['OFFR']  = (offset_r, 'Radial offset')\n",
    "        hdr['OFFTH'] = (offset_theta, 'Position angle OFFR (CCW)')\n",
    "        if jitter is None:\n",
    "            hdr['JITRTYPE'] = ('None', 'Type of jitter applied')\n",
    "        else:\n",
    "            hdr['JITRTYPE'] = (jitter, 'Type of jitter applied')\n",
    "        hdr['JITRSIGM'] = (jitter_sigma, 'Jitter sigma')\n",
    "        if opd is None:\n",
    "            hdr['OPD'] = ('None', 'Telescope OPD')\n",
    "        elif isinstance(opd, fits.HDUList):\n",
    "            hdr['OPD'] = ('HDUList', 'Telescope OPD')\n",
    "        elif isinstance(opd, six.string_types):\n",
    "            hdr['OPD'] = (opd, 'Telescope OPD')\n",
    "        elif isinstance(opd, poppy.OpticalElement):\n",
    "            hdr['OPD'] = ('OTE Linear Model', 'Telescope OPD')\n",
    "        else:\n",
    "            hdr['OPD'] = ('UNKNOWN', 'Telescope OPD')\n",
    "        hdr['WFEDRIFT'] = (self.wfe_drift, \"WFE drift amount [nm]\")\n",
    "        hdr['SIWFE']    = (self.include_si_wfe, \"Was SI WFE included?\")\n",
    "        hdr['FORCE']    = (force, \"Forced calculations?\")\n",
    "        hdr['SAVE']     = (save, \"Save file?\")\n",
    "        hdr['PYNRCVER'] = (pynrc.__version__, \"pyNRC version\")\n",
    "\n",
    "        hdr.add_history(time_string)\n",
    "\n",
    "        if save:\n",
    "            save_name = self.save_name\n",
    "            hdr['FILENAME'] = (save_name, \"File save name\")\n",
    "            outfile = self.save_dir + save_name\n",
    "            hdu.writeto(outfile, overwrite=True)\n",
    "\n",
    "        if return_extras:\n",
    "            extras_dict = {'images' : images, 'waves': waves}\n",
    "            return coeff_all, hdr, extras_dict\n",
    "        else:\n",
    "            return coeff_all, hdr\n",
    "\n",
    "        \n",
    "    def gen_save_name(self):\n",
    "        \n",
    "        # Prepend filter name if using quick keyword\n",
    "        fstr = '{}_'.format(self.filter) if self._quick else ''\n",
    "        # Mask and pupil names\n",
    "        mstr = 'NONE' if self.image_mask is None else self.image_mask\n",
    "        pstr = 'CLEAR' if self.pupil_mask is None else self.pupil_mask\n",
    "        fmp_str = f'{fstr}{pstr}_{mstr}'\n",
    "\n",
    "        # PSF image size and sampling\n",
    "        fov_pix = self.fov_pix\n",
    "        osamp = self.oversample\n",
    "        \n",
    "        # Jitter settings\n",
    "        jitter = self.options.get('jitter')\n",
    "        jitter_sigma = self.options.get('jitter_sigma', 0)\n",
    "        if (jitter is None) or (jitter_sigma is None):\n",
    "            jitter_sigma = 0\n",
    "        jsig_mas = jitter_sigma*1000\n",
    "        \n",
    "        # Source positioning\n",
    "        offset_r = self.options.get('source_offset_r', 0)\n",
    "        offset_theta = self.options.get('offset_theta', 0)\n",
    "        if offset_r is None: \n",
    "            offset_r = 0\n",
    "        if offset_theta is None: \n",
    "            offset_theta = 0\n",
    "        rth_str = f'r{offset_r:.2f}_th{offset_theta:+.1f}'\n",
    "        \n",
    "        # Mask offsetting\n",
    "        coron_offset_x = self.options.get('coron_offset_x', 0)\n",
    "        coron_offset_y = self.options.get('coron_offset_y', 0)\n",
    "        if coron_offset_x is None: \n",
    "            coron_offset_x = 0\n",
    "        if coron_offset_y is None: \n",
    "            coron_offset_y = 0\n",
    "        moff_str = f'mx{coron_offset_x:.3f}_my{coron_offset_y:.3f}'\n",
    "        \n",
    "        opd_dict = self.get_opd_info()\n",
    "        opd_str = opd_dict['opd_str']\n",
    "\n",
    "        if self.wfe_drift>0:\n",
    "            opd_str = '{}-{:.0f}nm'.format(opd_str,self.wfe_drift)\n",
    "            \n",
    "        fname = f'{fmp_str}_pix{fov_pix}_os{osamp}_jsig{jsig_mas:.0f}_{rth_str}_{moff_str}_{opd_str}'\n",
    "        \n",
    "        # Add SI WFE tag if included\n",
    "        if self.include_si_wfe:\n",
    "            fname = fname + '_siwfe'\n",
    "\n",
    "        if self.use_legendre:\n",
    "            fname = fname + '_legendre'\n",
    "\n",
    "        fname = fname + '.fits'\n",
    "        \n",
    "        return fname\n",
    "\n",
    "        \n",
    "# filter_or_bp, pupil=None, mask=None, \n",
    "#     fov_pix=11, oversample=None, npsf=None, ndeg=None, nproc=None, \n",
    "#     offset_r=None, offset_theta=None, jitter=None, jitter_sigma=0.007,\n",
    "#     coron_offset_x=None, coron_offset_y=None,\n",
    "#     tel_pupil=None, opd=None, wfe_drift=None, include_si_wfe=False,\n",
    "#     detector_position=None, apname=None, add_distortion=False, crop_psf=True,\n",
    "#     force=False, save=True, save_name=None, return_save_name=False, \n",
    "#     quick=True, return_webbpsf=False,\n",
    "    "
   ]
  },
  {
   "cell_type": "code",
   "execution_count": 518,
   "metadata": {},
   "outputs": [
    {
     "data": {
      "text/plain": [
       "'0.9.0dev'"
      ]
     },
     "execution_count": 518,
     "metadata": {},
     "output_type": "execute_result"
    }
   ],
   "source": [
    "pynrc.__version__"
   ]
  },
  {
   "cell_type": "code",
   "execution_count": 500,
   "metadata": {},
   "outputs": [],
   "source": [
    "from pynrc.maths.coords import xy_rot"
   ]
  },
  {
   "cell_type": "code",
   "execution_count": 501,
   "metadata": {},
   "outputs": [
    {
     "data": {
      "text/plain": [
       "['FQPM1065', 'FQPM1140', 'FQPM1550', 'LYOT2300', 'LRS slit']"
      ]
     },
     "execution_count": 501,
     "metadata": {},
     "output_type": "execute_result"
    }
   ],
   "source": [
    "inst.image_mask_list"
   ]
  },
  {
   "cell_type": "code",
   "execution_count": 502,
   "metadata": {},
   "outputs": [],
   "source": [
    "inst = MIRI_psf_coeffs('F1065C', 'MASKFQPM', 'FQPM1065')\n",
    "\n",
    "# inst.filter     = 'F1065C' \n",
    "# inst.pupil_mask = 'MASKFQPM' \n",
    "# inst.image_mask = 'FQPM1065' \n",
    "\n",
    "# inst.filter     = 'F2300C'\n",
    "# inst.pupil_mask = 'MASKLYOT'\n",
    "# inst.image_mask = 'LYOT2300'\n",
    "\n",
    "# inst.options['coron_offset_x'] = 1\n",
    "# inst.filter = 'F1000W'\n",
    "# inst.image_mask = 'LRS slit'"
   ]
  },
  {
   "cell_type": "code",
   "execution_count": 503,
   "metadata": {},
   "outputs": [
    {
     "name": "stdout",
     "output_type": "stream",
     "text": [
      "5\n"
     ]
    }
   ],
   "source": [
    "inst.npsf = 2\n",
    "print(inst.npsf)"
   ]
  },
  {
   "cell_type": "code",
   "execution_count": 504,
   "metadata": {},
   "outputs": [],
   "source": [
    "inst.wfe_drift=5"
   ]
  },
  {
   "cell_type": "code",
   "execution_count": 505,
   "metadata": {},
   "outputs": [],
   "source": [
    "import copy\n",
    "cf_arr, hdr = inst.gen_coeff(save=False)"
   ]
  },
  {
   "cell_type": "code",
   "execution_count": 507,
   "metadata": {},
   "outputs": [],
   "source": [
    "hdul = inst.calc_psf()"
   ]
  },
  {
   "cell_type": "code",
   "execution_count": 508,
   "metadata": {},
   "outputs": [
    {
     "data": {
      "text/plain": [
       "SIMPLE  =                    T / conforms to FITS standard                      \n",
       "BITPIX  =                  -64 / array data type                                \n",
       "NAXIS   =                    2 / number of array dimensions                     \n",
       "NAXIS1  =                  432                                                  \n",
       "NAXIS2  =                  432                                                  \n",
       "EXTEND  =                    T                                                  \n",
       "PLANE1  = 'Wavefront Intensity'                                                 \n",
       "WAVELEN = 1.05863275997313E-05 / Weighted mean wavelength in meters             \n",
       "DIFFLMT =   0.3204682679904759 / Diffraction limit lambda/D in arcsec           \n",
       "OVERSAMP=                    4 / Oversampling factor for FFTs in computation    \n",
       "DET_SAMP=                    4 / Oversampling factor for MFT to detector plane  \n",
       "PIXELSCL=              0.02775 / Scale in arcsec/pix (after oversampling)       \n",
       "FOV     =               11.988 / Field of view in arcsec (full array)           \n",
       "NWAVES  =                    9 / Number of wavelengths used in calculation      \n",
       "WAVE0   = 1.02596303718548E-05 / Wavelength 0                                   \n",
       "WGHT0   =  0.05039951236174109 / Wavelength weight 0                            \n",
       "WAVE1   = 1.03430193720774E-05 / Wavelength 1                                   \n",
       "WGHT1   =   0.1110629974215226 / Wavelength weight 1                            \n",
       "WAVE2   = 1.04264083723001E-05 / Wavelength 2                                   \n",
       "WGHT2   =   0.1402863294893409 / Wavelength weight 2                            \n",
       "WAVE3   = 1.05097973725228E-05 / Wavelength 3                                   \n",
       "WGHT3   =   0.1423784557064878 / Wavelength weight 3                            \n",
       "WAVE4   = 1.05931863727454E-05 / Wavelength 4                                   \n",
       "WGHT4   =   0.1431648223209617 / Wavelength weight 4                            \n",
       "WAVE5   = 1.06765753729681E-05 / Wavelength 5                                   \n",
       "WGHT5   =   0.1395927470785613 / Wavelength weight 5                            \n",
       "WAVE6   = 1.07599643731908E-05 / Wavelength 6                                   \n",
       "WGHT6   =    0.129786682827086 / Wavelength weight 6                            \n",
       "WAVE7   = 1.08433533734134E-05 / Wavelength 7                                   \n",
       "WGHT7   =  0.09699210024151388 / Wavelength weight 7                            \n",
       "WAVE8   = 1.09267423736361E-05 / Wavelength 8                                   \n",
       "WGHT8   =  0.04633635255278492 / Wavelength weight 8                            \n",
       "FFTTYPE = 'numpy.fft'          / Algorithm for FFTs: numpy or fftw              \n",
       "NORMALIZ= 'first   '           / PSF normalization method                       \n",
       "PUPILINT= 'jwst_pupil_RevW_npix1024.fits.gz' / Pupil aperture intensity source  \n",
       "PUPILOPD= 'OPD_RevW_ote_for_MIRI_predicted.fits.gz slice 0' / Pupil OPD source  \n",
       "OPD_FILE= 'OPD_RevW_ote_for_MIRI_predicted.fits.gz' / Pupil OPD file name       \n",
       "OPDSLICE=                    0 / Pupil OPD slice number, if file is a datacube  \n",
       "INSTRUME= 'MIRI    '           / Instrument                                     \n",
       "FILTER  = 'F1065C  '           / Filter name                                    \n",
       "EXTNAME = 'OVERSAMP'           / This extension is oversampled.                 \n",
       "DATE    = '2021-02-22T02:43:35' / Date of calculation                           \n",
       "AUTHOR  = 'jarron@Usul.local'  / username@host for calculation                  \n",
       "CORONMSK= 'FQPM1065'           / Image plane mask                               \n",
       "PUPIL   = 'MASKFQPM'           / Pupil plane mask                               \n",
       "VERSION = '0.9.1.dev93+ga065f01' / WebbPSF software version                     \n",
       "DATAVERS= '0.9.0   '           / WebbPSF reference data files version           \n",
       "DET_NAME= 'MIRIM   '           / Name of detector on this instrument            \n",
       "DET_X   =                109.5 / Detector X pixel position of array center      \n",
       "DET_Y   =                108.5 / Detector Y pixel position of array center      \n",
       "DET_V2  =   -6.564348366666667 / [arcmin] Det. pos. in telescope V2,V3 coord sys\n",
       "DET_V3  =           -7.0156587 / [arcmin] Det. pos. in telescope V2,V3 coord sys\n",
       "TEL_WFE =    197.4865156578048 / [nm] Telescope pupil RMS wavefront error       \n",
       "OTETHMDL= 'BOL     '           / OTE Thermal slew model case                    \n",
       "OTETHSTA=                  0.0 / OTE Starting pitch angle for thermal slew model\n",
       "OTETHEND=                  0.0 / OTE Ending pitch angle for thermal slew model  \n",
       "OTETHRDT=                  0.0 / OTE Thermal slew model delta time after slew   \n",
       "OTETHRWF=                  0.0 / OTE WFE amplitude from 'thermal slew' term     \n",
       "OTEFRLWF=                  0.0 / OTE WFE amplitude from 'frill tension' term    \n",
       "OTEIECWF=                  0.0 / OTE WFE amplitude from 'IEC thermal cycling' te\n",
       "APERNAME= 'MIRIM_CORON1065'    / SIAF aperture name                             \n",
       "GRATNG14= 'None    '           / MRS Grating for channels 1 and 4               \n",
       "GRATNG23= 'None    '           / MRS Grating for channels 2 and 3               \n",
       "FLATTYPE= '?       '           / Type of flat field to be used: all, one, princi\n",
       "CCCSTATE= 'open    '           / Contamination Control Cover state: open, closed\n",
       "TACQNAME= 'None    '           / Target acquisition file name                   \n",
       "HISTORY Created wavefront: wavelength=1.026e-05 m, diam=6.603 m                 \n",
       "HISTORY  using array size (1024, 1024)                                          \n",
       "HISTORY   Multiplied WF by phasor for Pupil plane: JWST Entrance Pupil          \n",
       "HISTORY   Propagating wavefront to Coordinate Inversion in y axis.              \n",
       "HISTORY Inverted axis direction for Y axes                                      \n",
       "HISTORY Tilted wavefront by X=-1.9e-07 rad, Y=-1.9e-07 rad arcsec               \n",
       "HISTORY   Multiplied WF by phasor for Pupil plane: FQPM FFT aligner             \n",
       "HISTORY   Propagating wavefront to Image plane: MIRI FQPM 1065.                 \n",
       "HISTORY     Padded WF array for oversampling by 4x                              \n",
       "HISTORY    FFT (4096, 4096),  to IMAGE plane  scale=0.0801 arcsec / pix         \n",
       "HISTORY   Multiplied WF by phasor for Image plane: MIRI FQPM 1065               \n",
       "HISTORY   Propagating wavefront to Pupil plane: FQPM FFT aligner.               \n",
       "HISTORY    FFT (4096, 4096),  to PUPIL scale=0.0064 m / pix                     \n",
       "HISTORY Tilted wavefront by X=1.9e-07 rad, Y=1.9e-07 rad arcsec                 \n",
       "HISTORY   Multiplied WF by phasor for Pupil plane: FQPM FFT aligner             \n",
       "HISTORY   Multiplied WF by phasor for Pupil plane: MASKFQPM                     \n",
       "HISTORY   Propagating wavefront to Rotation by 4.449700 degrees counter clockwis\n",
       "HISTORY e.                                                                      \n",
       "HISTORY Rotated by 4.45 degrees, CCW                                            \n",
       "HISTORY   Propagating wavefront to Detector plane: MIRI detector (108x108 pixels\n",
       "HISTORY , 0.111 arcsec / pix).                                                  \n",
       "HISTORY     Propagating w/ MFT: 0.0278 arcsec / pix     fov=37.408 lam/D    npix\n",
       "HISTORY =432                                                                    \n",
       "HISTORY Calculation completed in 77.401 seconds                                 \n",
       "HISTORY Created by POPPY version 0.9.2                                          "
      ]
     },
     "execution_count": 508,
     "metadata": {},
     "output_type": "execute_result"
    }
   ],
   "source": [
    "hdul[0].header"
   ]
  },
  {
   "cell_type": "code",
   "execution_count": 506,
   "metadata": {},
   "outputs": [
    {
     "data": {
      "text/plain": [
       "SIMPLE  =                    T / conforms to FITS standard                      \n",
       "BITPIX  =                  -64 / array data type                                \n",
       "NAXIS   =                    3 / number of array dimensions                     \n",
       "NAXIS1  =                   66                                                  \n",
       "NAXIS2  =                   66                                                  \n",
       "NAXIS3  =                    5                                                  \n",
       "EXTEND  =                    T                                                  \n",
       "DESCR   = 'PSF Coeffecients'   / File Description                               \n",
       "NWAVES  =                    5 / Number of wavelengths used in calculation      \n",
       "PUPILOPD= 'OPD_RevW_ote_for_MIRI_predicted.fits.gz' / Pupil wavefront OPD source\n",
       "OPDSLICE=                    0 / OPD slice index                                \n",
       "PUPILINT= 'pupil from supplied OpticalElement: Pupil plane: Modified from &'    \n",
       "CONTINUE  'OPD_RevW_ote_for_MIRI_predicted.fits.gz&'                            \n",
       "CONTINUE  '' / Pupil aperture intensity source                                  \n",
       "EXTNAME = 'OVERSAMP'           / This extension is oversampled.                 \n",
       "OVERSAMP=                    2 / Oversampling factor for FFTs in computation    \n",
       "DET_SAMP=                    2 / Oversampling factor for MFT to detector plane  \n",
       "PIXELSCL=               0.0555 / Scale in arcsec/pix (after oversampling)       \n",
       "FOV     =                3.663 / Field of view in arcsec (full array)           \n",
       "JITRTYPE= 'none    '           / No key found                                   \n",
       "JITRSIGM= 'none    '           / No key found                                   \n",
       "INSTRUME= 'MIRI    '           / Instrument                                     \n",
       "DET_NAME= 'MIRIM   '           / Name of detector on this instrument            \n",
       "TEL_WFE =    196.6284172637129 / [nm] Telescope pupil RMS wavefront error       \n",
       "DET_X   =                109.0 / Detector X pixel position of array center      \n",
       "DET_Y   =                108.0 / Detector Y pixel position of array center      \n",
       "DET_V2  =   -6.564348366666667 / [arcmin] Det. pos. in telescope V2,V3 coord sys\n",
       "DET_V3  =           -7.0156587 / [arcmin] Det. pos. in telescope V2,V3 coord sys\n",
       "DATE    = '2021-02-21T21:27:00' / Date of calculation                           \n",
       "AUTHOR  = 'jarron@Usul.local'  / username@host for calculation                  \n",
       "VERSION = '0.9.1.dev93+ga065f01' / WebbPSF software version                     \n",
       "DATAVERS= '0.9.0   '           / WebbPSF reference data files version           \n",
       "                                                                                \n",
       "        psf_coeff() Keyword Values                                              \n",
       "                                                                                \n",
       "FILTER  = 'F1065C  '           / Filter Input                                   \n",
       "PUPIL   = 'MASKFQPM'           / Instrument Pupil Setting                       \n",
       "MASK    = 'FQPM1065'           / Instrument Image Mask Setting                  \n",
       "FOVPIX  =                   33 / WebbPSF pixel FoV                              \n",
       "OSAMP   =                    2 / WebbPSF pixel oversample                       \n",
       "NPSF    =                    5 / Number of wavelengths to calc                  \n",
       "NDEG    =                    4 / Polynomial fit degree                          \n",
       "WAVE1   =    10.00350701402806 / First wavelength in calc                       \n",
       "WAVE2   =    11.23647294589177 / Last of wavelength in calc                     \n",
       "LEGNDR  =                    T / Legendre polynomial fit?                       \n",
       "OFFR    =                    0 / Radial offset                                  \n",
       "OFFTH   =                    0 / Position angle OFFR (CCW)                      \n",
       "JITTER  = 'None    '           / Jitter type                                    \n",
       "JITSIG  =                    0 / Jitter sigma                                   \n",
       "OPD     = 'OTE Linear Model'   / Telescope OPD                                  \n",
       "WFEDRIFT=                    5 / WFE drift amount [nm]                          \n",
       "SIWFE   =                    F / Was SI WFE included?                           \n",
       "FORCE   =                    F / Forced calculations?                           \n",
       "SAVE    =                    F / Save file?                                     \n",
       "FILENAME= 'F1065C_MASKFQPM_FQPM1065_pix33_os2_jsig0_r0.00_th+0.0_mx0.000_my0.0&'\n",
       "CONTINUE  '00_RevWslice0-5nm_legendre.fits&'                                    \n",
       "CONTINUE  '' / File save name                                                   \n",
       "HISTORY Took 5.02 seconds to generate WebbPSF images                            "
      ]
     },
     "execution_count": 506,
     "metadata": {},
     "output_type": "execute_result"
    }
   ],
   "source": [
    "hdr"
   ]
  },
  {
   "cell_type": "code",
   "execution_count": 510,
   "metadata": {},
   "outputs": [],
   "source": [
    "nrc = webbpsf.NIRCam()"
   ]
  },
  {
   "cell_type": "code",
   "execution_count": 516,
   "metadata": {},
   "outputs": [],
   "source": [
    "hdul_nrc = nrc.calc_psf(fov_pixels=128)"
   ]
  },
  {
   "cell_type": "code",
   "execution_count": 517,
   "metadata": {
    "scrolled": false
   },
   "outputs": [
    {
     "data": {
      "text/plain": [
       "SIMPLE  =                    T / conforms to FITS standard                      \n",
       "BITPIX  =                  -64 / array data type                                \n",
       "NAXIS   =                    2 / number of array dimensions                     \n",
       "NAXIS1  =                  512                                                  \n",
       "NAXIS2  =                  512                                                  \n",
       "EXTEND  =                    T                                                  \n",
       "PLANE1  = 'Wavefront Intensity'                                                 \n",
       "WAVELEN = 1.97253062185995E-06 / Weighted mean wavelength in meters             \n",
       "DIFFLMT =   0.0547365677886802 / Diffraction limit lambda/D in arcsec           \n",
       "OVERSAMP=                    4 / Oversampling factor for FFTs in computation    \n",
       "DET_SAMP=                    4 / Oversampling factor for MFT to detector plane  \n",
       "PIXELSCL=             0.007775 / Scale in arcsec/pix (after oversampling)       \n",
       "FOV     =               3.9808 / Field of view in arcsec (full array)           \n",
       "NWAVES  =                   21 / Number of wavelengths used in calculation      \n",
       "WAVE0   = 1.75236367974043E-06 / Wavelength 0                                   \n",
       "WGHT0   =  0.02878605088398956 / Wavelength weight 0                            \n",
       "WAVE1   = 1.77625737188663E-06 / Wavelength 1                                   \n",
       "WGHT1   =  0.06020244123170014 / Wavelength weight 1                            \n",
       "WAVE2   = 1.80015106403282E-06 / Wavelength 2                                   \n",
       "WGHT2   =  0.05956426500654208 / Wavelength weight 2                            \n",
       "WAVE3   = 1.82404475617902E-06 / Wavelength 3                                   \n",
       "WGHT3   =  0.05832910076314057 / Wavelength weight 3                            \n",
       "WAVE4   = 1.84793844832522E-06 / Wavelength 4                                   \n",
       "WGHT4   =   0.0574660076017014 / Wavelength weight 4                            \n",
       "WAVE5   = 1.87183214047141E-06 / Wavelength 5                                   \n",
       "WGHT5   =  0.05540657872829398 / Wavelength weight 5                            \n",
       "WAVE6   = 1.89572583261761E-06 / Wavelength 6                                   \n",
       "WGHT6   =  0.05521092048253076 / Wavelength weight 6                            \n",
       "WAVE7   = 1.91961952476381E-06 / Wavelength 7                                   \n",
       "WGHT7   =  0.05424130930939858 / Wavelength weight 7                            \n",
       "WAVE8   = 1.94351321691001E-06 / Wavelength 8                                   \n",
       "WGHT8   =  0.05236242851275032 / Wavelength weight 8                            \n",
       "WAVE9   = 1.96740690905620E-06 / Wavelength 9                                   \n",
       "WGHT9   =  0.05127414749720798 / Wavelength weight 9                            \n",
       "WAVE10  = 1.99130060120240E-06 / Wavelength 10                                  \n",
       "WGHT10  =    0.050193063160469 / Wavelength weight 10                           \n",
       "WAVE11  = 2.01519429334860E-06 / Wavelength 11                                  \n",
       "WGHT11  =  0.04911391487583387 / Wavelength weight 11                           \n",
       "WAVE12  = 2.03908798549479E-06 / Wavelength 12                                  \n",
       "WGHT12  =  0.04834412102959347 / Wavelength weight 12                           \n",
       "WAVE13  = 2.06298167764099E-06 / Wavelength 13                                  \n",
       "WGHT13  =  0.04688045213684693 / Wavelength weight 13                           \n",
       "WAVE14  = 2.08687536978719E-06 / Wavelength 14                                  \n",
       "WGHT14  =  0.04644212858548811 / Wavelength weight 14                           \n",
       "WAVE15  = 2.11076906193339E-06 / Wavelength 15                                  \n",
       "WGHT15  =  0.04453872230298916 / Wavelength weight 15                           \n",
       "WAVE16  = 2.13466275407958E-06 / Wavelength 16                                  \n",
       "WGHT16  =  0.04330375525728936 / Wavelength weight 16                           \n",
       "WAVE17  = 2.15855644622578E-06 / Wavelength 17                                  \n",
       "WGHT17  =  0.04243652718343433 / Wavelength weight 17                           \n",
       "WAVE18  = 2.18245013837198E-06 / Wavelength 18                                  \n",
       "WGHT18  =   0.0406179992240453 / Wavelength weight 18                           \n",
       "WAVE19  = 2.20634383051818E-06 / Wavelength 19                                  \n",
       "WGHT19  =  0.03925477334405703 / Wavelength weight 19                           \n",
       "WAVE20  = 2.23023752266437E-06 / Wavelength 20                                  \n",
       "WGHT20  =  0.01603129288269809 / Wavelength weight 20                           \n",
       "FFTTYPE = 'numpy.fft'          / Algorithm for FFTs: numpy or fftw              \n",
       "NORMALIZ= 'first   '           / PSF normalization method                       \n",
       "JITRTYPE= 'Gaussian convolution' / Type of jitter applied                       \n",
       "JITRSIGM=                0.007 / Gaussian sigma for jitter, per axis [arcsec]   \n",
       "JITRSTRL=   0.9442046200258065 / Strehl reduction from jitter                   \n",
       "PUPILINT= 'jwst_pupil_RevW_npix1024.fits.gz' / Pupil aperture intensity source  \n",
       "PUPILOPD= 'OPD_RevW_ote_for_NIRCam_requirements.fits.gz' / Pupil OPD source     \n",
       "OPD_FILE= 'OPD_RevW_ote_for_NIRCam_requirements.fits.gz' / Pupil OPD file name  \n",
       "OPDSLICE=                    0 / Pupil OPD slice number, if file is a datacube  \n",
       "INSTRUME= 'NIRCam  '           / Instrument                                     \n",
       "FILTER  = 'F200W   '           / Filter name                                    \n",
       "EXTNAME = 'OVERSAMP'           / This extension is oversampled.                 \n",
       "DATE    = '2021-02-22T04:18:12' / Date of calculation                           \n",
       "AUTHOR  = 'jarron@Usul.local'  / username@host for calculation                  \n",
       "VERSION = '0.9.1.dev93+ga065f01' / WebbPSF software version                     \n",
       "DATAVERS= '0.9.0   '           / WebbPSF reference data files version           \n",
       "DET_NAME= 'NRCA1   '           / Name of detector on this instrument            \n",
       "DET_X   =               1024.5 / Detector X pixel position of array center      \n",
       "DET_Y   =               1024.5 / Detector Y pixel position of array center      \n",
       "DET_V2  =    2.009019781673065 / [arcmin] Det. pos. in telescope V2,V3 coord sys\n",
       "DET_V3  =   -8.792644205962265 / [arcmin] Det. pos. in telescope V2,V3 coord sys\n",
       "TEL_WFE =    115.1761074091963 / [nm] Telescope pupil RMS wavefront error       \n",
       "OTETHMDL= 'BOL     '           / OTE Thermal slew model case                    \n",
       "OTETHSTA=                  0.0 / OTE Starting pitch angle for thermal slew model\n",
       "OTETHEND=                  0.0 / OTE Ending pitch angle for thermal slew model  \n",
       "OTETHRDT=                  0.0 / OTE Thermal slew model delta time after slew   \n",
       "OTETHRWF=                  0.0 / OTE WFE amplitude from 'thermal slew' term     \n",
       "OTEFRLWF=                  0.0 / OTE WFE amplitude from 'frill tension' term    \n",
       "OTEIECWF=                  0.0 / OTE WFE amplitude from 'IEC thermal cycling' te\n",
       "SI_WFE  =    35.40024011421701 / [nm] instrument pupil RMS wavefront error      \n",
       "SIWFETYP= 'Interpolated'       / SI WFE was interpolated between available meas.\n",
       "SIWFEFPT= 'ISIM41  '           / Closest ISIM CV3 WFE meas. field point         \n",
       "SIZERN1 = 9.29589909531271E-10 / [m] SI WFE coeff for Zernike term 1            \n",
       "SIZERN2 = 2.85689361784220E-09 / [m] SI WFE coeff for Zernike term 2            \n",
       "SIZERN3 = 2.26341100865284E-09 / [m] SI WFE coeff for Zernike term 3            \n",
       "SIZERN4 = 2.43465326167461E-08 / [m] SI WFE coeff for Zernike term 4            \n",
       "SIZERN5 = -6.0802423769951E-09 / [m] SI WFE coeff for Zernike term 5            \n",
       "SIZERN6 = 6.80189065994722E-09 / [m] SI WFE coeff for Zernike term 6            \n",
       "SIZERN7 = 6.86991395909667E-09 / [m] SI WFE coeff for Zernike term 7            \n",
       "SIZERN8 = 7.09896113062573E-09 / [m] SI WFE coeff for Zernike term 8            \n",
       "SIZERN9 = 6.47906365992501E-09 / [m] SI WFE coeff for Zernike term 9            \n",
       "SIZERN10= -6.7407740017958E-09 / [m] SI WFE coeff for Zernike term 10           \n",
       "SIZERN11= -1.0333418393585E-08 / [m] SI WFE coeff for Zernike term 11           \n",
       "SIZERN12= 2.16649276547583E-09 / [m] SI WFE coeff for Zernike term 12           \n",
       "SIZERN13= -1.2653183397463E-08 / [m] SI WFE coeff for Zernike term 13           \n",
       "SIZERN14= -4.8140410508721E-10 / [m] SI WFE coeff for Zernike term 14           \n",
       "SIZERN15= -1.7115119625666E-09 / [m] SI WFE coeff for Zernike term 15           \n",
       "SIZERN16= 5.24412904020965E-09 / [m] SI WFE coeff for Zernike term 16           \n",
       "SIZERN17= 3.12350276233537E-09 / [m] SI WFE coeff for Zernike term 17           \n",
       "SIZERN18= 3.30964276526462E-09 / [m] SI WFE coeff for Zernike term 18           \n",
       "SIZERN19= 2.03818685103081E-10 / [m] SI WFE coeff for Zernike term 19           \n",
       "SIZERN20= -7.2372115428066E-10 / [m] SI WFE coeff for Zernike term 20           \n",
       "SIZERN21= 3.81731901113589E-09 / [m] SI WFE coeff for Zernike term 21           \n",
       "SIZERN22= -4.8786115280687E-09 / [m] SI WFE coeff for Zernike term 22           \n",
       "SIZERN23= 9.04981147557497E-11 / [m] SI WFE coeff for Zernike term 23           \n",
       "SIZERN24= 3.49774055581967E-11 / [m] SI WFE coeff for Zernike term 24           \n",
       "SIZERN25= -3.3396042064415E-10 / [m] SI WFE coeff for Zernike term 25           \n",
       "SIZERN26= -2.4639034725770E-09 / [m] SI WFE coeff for Zernike term 26           \n",
       "SIZERN27= -1.7209282105020E-10 / [m] SI WFE coeff for Zernike term 27           \n",
       "SIZERN28= -1.1756129989835E-09 / [m] SI WFE coeff for Zernike term 28           \n",
       "SIZERN29= -3.5172606488411E-11 / [m] SI WFE coeff for Zernike term 29           \n",
       "SIZERN30= -1.3442498327083E-09 / [m] SI WFE coeff for Zernike term 30           \n",
       "SIZERN31= -1.2717747056461E-09 / [m] SI WFE coeff for Zernike term 31           \n",
       "SIZERN32= 1.84305502319963E-09 / [m] SI WFE coeff for Zernike term 32           \n",
       "SIZERN33= -4.9906335161947E-10 / [m] SI WFE coeff for Zernike term 33           \n",
       "SIZERN34= -7.5615982464710E-10 / [m] SI WFE coeff for Zernike term 34           \n",
       "SIZERN35= -5.2508620418234E-10 / [m] SI WFE coeff for Zernike term 35           \n",
       "APERNAME= 'NRCA1_FULL'         / SIAF aperture name                             \n",
       "MODULE  = 'A       '           / NIRCam module: A or B                          \n",
       "CHANNEL = 'Short   '           / NIRCam channel: long or short                  \n",
       "PILIN   = 'False   '           / Pupil imaging lens in optical path: T/F        \n",
       "HISTORY Created wavefront: wavelength=1.752e-06 m, diam=6.603 m                 \n",
       "HISTORY  using array size (1024, 1024)                                          \n",
       "HISTORY   Multiplied WF by phasor for Pupil plane: JWST Entrance Pupil          \n",
       "HISTORY   Propagating wavefront to Coordinate Inversion in y axis.              \n",
       "HISTORY Inverted axis direction for Y axes                                      \n",
       "HISTORY   Multiplied WF by phasor for Pupil plane: NIRCamSWA internal WFE at V2V\n",
       "HISTORY 3=(2.01,-8.79)', near ISIM41                                            \n",
       "HISTORY   Propagating wavefront to Detector plane: NIRCam detector (128x128 pixe\n",
       "HISTORY ls, 0.031 arcsec / pix).                                                \n",
       "HISTORY     Propagating w/ MFT: 0.0078 arcsec / pix     fov=72.727 lam/D    npix\n",
       "HISTORY =512                                                                    \n",
       "HISTORY Calculation completed in 1.640 seconds                                  \n",
       "HISTORY Created by POPPY version 0.9.2                                          "
      ]
     },
     "execution_count": 517,
     "metadata": {},
     "output_type": "execute_result"
    }
   ],
   "source": [
    "hdul_nrc[0].header"
   ]
  },
  {
   "cell_type": "code",
   "execution_count": 513,
   "metadata": {},
   "outputs": [],
   "source": [
    "hdr['ROT'] = (nrc._rotation, 'Instrument rotation')"
   ]
  },
  {
   "cell_type": "code",
   "execution_count": 514,
   "metadata": {},
   "outputs": [
    {
     "data": {
      "text/plain": [
       "SIMPLE  =                    T / conforms to FITS standard                      \n",
       "BITPIX  =                  -64 / array data type                                \n",
       "NAXIS   =                    3 / number of array dimensions                     \n",
       "NAXIS1  =                   66                                                  \n",
       "NAXIS2  =                   66                                                  \n",
       "NAXIS3  =                    5                                                  \n",
       "EXTEND  =                    T                                                  \n",
       "DESCR   = 'PSF Coeffecients'   / File Description                               \n",
       "NWAVES  =                    5 / Number of wavelengths used in calculation      \n",
       "PUPILOPD= 'OPD_RevW_ote_for_MIRI_predicted.fits.gz' / Pupil wavefront OPD source\n",
       "OPDSLICE=                    0 / OPD slice index                                \n",
       "PUPILINT= 'pupil from supplied OpticalElement: Pupil plane: Modified from &'    \n",
       "CONTINUE  'OPD_RevW_ote_for_MIRI_predicted.fits.gz&'                            \n",
       "CONTINUE  '' / Pupil aperture intensity source                                  \n",
       "EXTNAME = 'OVERSAMP'           / This extension is oversampled.                 \n",
       "OVERSAMP=                    2 / Oversampling factor for FFTs in computation    \n",
       "DET_SAMP=                    2 / Oversampling factor for MFT to detector plane  \n",
       "PIXELSCL=               0.0555 / Scale in arcsec/pix (after oversampling)       \n",
       "FOV     =                3.663 / Field of view in arcsec (full array)           \n",
       "JITRTYPE= 'none    '           / No key found                                   \n",
       "JITRSIGM= 'none    '           / No key found                                   \n",
       "INSTRUME= 'MIRI    '           / Instrument                                     \n",
       "DET_NAME= 'MIRIM   '           / Name of detector on this instrument            \n",
       "TEL_WFE =    196.6284172637129 / [nm] Telescope pupil RMS wavefront error       \n",
       "DET_X   =                109.0 / Detector X pixel position of array center      \n",
       "DET_Y   =                108.0 / Detector Y pixel position of array center      \n",
       "DET_V2  =   -6.564348366666667 / [arcmin] Det. pos. in telescope V2,V3 coord sys\n",
       "DET_V3  =           -7.0156587 / [arcmin] Det. pos. in telescope V2,V3 coord sys\n",
       "DATE    = '2021-02-21T21:27:00' / Date of calculation                           \n",
       "AUTHOR  = 'jarron@Usul.local'  / username@host for calculation                  \n",
       "VERSION = '0.9.1.dev93+ga065f01' / WebbPSF software version                     \n",
       "DATAVERS= '0.9.0   '           / WebbPSF reference data files version           \n",
       "                                                                                \n",
       "        psf_coeff() Keyword Values                                              \n",
       "                                                                                \n",
       "FILTER  = 'F1065C  '           / Filter Input                                   \n",
       "PUPIL   = 'MASKFQPM'           / Instrument Pupil Setting                       \n",
       "MASK    = 'FQPM1065'           / Instrument Image Mask Setting                  \n",
       "FOVPIX  =                   33 / WebbPSF pixel FoV                              \n",
       "OSAMP   =                    2 / WebbPSF pixel oversample                       \n",
       "NPSF    =                    5 / Number of wavelengths to calc                  \n",
       "NDEG    =                    4 / Polynomial fit degree                          \n",
       "WAVE1   =    10.00350701402806 / First wavelength in calc                       \n",
       "WAVE2   =    11.23647294589177 / Last of wavelength in calc                     \n",
       "LEGNDR  =                    T / Legendre polynomial fit?                       \n",
       "OFFR    =                    0 / Radial offset                                  \n",
       "OFFTH   =                    0 / Position angle OFFR (CCW)                      \n",
       "JITTER  = 'None    '           / Jitter type                                    \n",
       "JITSIG  =                    0 / Jitter sigma                                   \n",
       "OPD     = 'OTE Linear Model'   / Telescope OPD                                  \n",
       "WFEDRIFT=                    5 / WFE drift amount [nm]                          \n",
       "SIWFE   =                    F / Was SI WFE included?                           \n",
       "FORCE   =                    F / Forced calculations?                           \n",
       "SAVE    =                    F / Save file?                                     \n",
       "FILENAME= 'F1065C_MASKFQPM_FQPM1065_pix33_os2_jsig0_r0.00_th+0.0_mx0.000_my0.0&'\n",
       "CONTINUE  '00_RevWslice0-5nm_legendre.fits&'                                    \n",
       "CONTINUE  '' / File save name                                                   \n",
       "ROT     =  / Instrument rotation                                                \n",
       "HISTORY Took 5.02 seconds to generate WebbPSF images                            "
      ]
     },
     "execution_count": 514,
     "metadata": {},
     "output_type": "execute_result"
    }
   ],
   "source": [
    "hdr"
   ]
  },
  {
   "cell_type": "code",
   "execution_count": 495,
   "metadata": {},
   "outputs": [
    {
     "data": {
      "text/plain": [
       "'F1065C_MASKFQPM_FQPM1065_pix33_os2_jsig0_r0.00_th+0.0_mx0.000_my0.000_RevWslice0_legendre.fits'"
      ]
     },
     "execution_count": 495,
     "metadata": {},
     "output_type": "execute_result"
    }
   ],
   "source": [
    "inst.save_name"
   ]
  },
  {
   "cell_type": "code",
   "execution_count": 393,
   "metadata": {},
   "outputs": [
    {
     "data": {
      "text/plain": [
       "'F1065C_MASKFQPM_FQPM1065_pix33_os2_jsig0_r0.00_th+0.0_mx0.000_my0.000_RevWslice0_legendre.fits'"
      ]
     },
     "execution_count": 393,
     "metadata": {},
     "output_type": "execute_result"
    }
   ],
   "source": [
    "inst.save_name()"
   ]
  },
  {
   "cell_type": "code",
   "execution_count": 373,
   "metadata": {},
   "outputs": [
    {
     "data": {
      "text/plain": [
       "'OPD_RevW_ote_for_MIRI_requirements.fits.gz'"
      ]
     },
     "execution_count": 373,
     "metadata": {},
     "output_type": "execute_result"
    }
   ],
   "source": [
    "inst.pupilopd"
   ]
  },
  {
   "cell_type": "code",
   "execution_count": 339,
   "metadata": {},
   "outputs": [],
   "source": [
    "im = inst.mask_image(pixelscale=0.1)"
   ]
  },
  {
   "cell_type": "code",
   "execution_count": 341,
   "metadata": {},
   "outputs": [
    {
     "name": "stdout",
     "output_type": "stream",
     "text": [
      "[     poppy:INFO] Computing both for MIRI FQPM 1065 sampled onto 512 pixel grid with pixelscale 0.056249999999999994 arcsec / pix\n"
     ]
    },
    {
     "data": {
      "text/plain": [
       "(<AxesSubplot:title={'center':'Transmittance for MIRI FQPM 1065'}, ylabel='[arcsec]'>,\n",
       " <AxesSubplot:title={'center':'OPD for MIRI FQPM 1065'}>)"
      ]
     },
     "execution_count": 341,
     "metadata": {},
     "output_type": "execute_result"
    },
    {
     "data": {
      "image/png": "[encoded data removed]",
      "text/plain": [
       "<Figure size 576x432 with 4 Axes>"
      ]
     },
     "metadata": {
      "needs_background": "light"
     },
     "output_type": "display_data"
    }
   ],
   "source": [
    "im.display(what='both')"
   ]
  },
  {
   "cell_type": "code",
   "execution_count": 334,
   "metadata": {
    "collapsed": true
   },
   "outputs": [
    {
     "data": {
      "text/plain": [
       "<matplotlib.image.AxesImage at 0x7fa88bde0a50>"
      ]
     },
     "execution_count": 334,
     "metadata": {},
     "output_type": "execute_result"
    },
    {
     "data": {
      "image/png": "[encoded data removed]",
      "text/plain": [
       "<Figure size 576x432 with 1 Axes>"
      ]
     },
     "metadata": {
      "needs_background": "light"
     },
     "output_type": "display_data"
    }
   ],
   "source": [
    "plt.imshow(im)\n",
    "# plt.xlim([0,30])\n",
    "# plt.ylim([0,30])"
   ]
  },
  {
   "cell_type": "code",
   "execution_count": 185,
   "metadata": {},
   "outputs": [
    {
     "name": "stdout",
     "output_type": "stream",
     "text": [
      "[   webbpsf:INFO] MIRI SIAF aperture name updated to MIRIM_FULL\n"
     ]
    }
   ],
   "source": [
    "inst = webbpsf.MIRI()"
   ]
  },
  {
   "cell_type": "code",
   "execution_count": 187,
   "metadata": {},
   "outputs": [
    {
     "data": {
      "text/plain": [
       "False"
      ]
     },
     "execution_count": 187,
     "metadata": {},
     "output_type": "execute_result"
    }
   ],
   "source": [
    "inst.image_mask_list"
   ]
  },
  {
   "cell_type": "code",
   "execution_count": 188,
   "metadata": {},
   "outputs": [
    {
     "data": {
      "text/plain": [
       "0.111"
      ]
     },
     "execution_count": 188,
     "metadata": {},
     "output_type": "execute_result"
    }
   ],
   "source": [
    "inst.pixelscale"
   ]
  },
  {
   "cell_type": "code",
   "execution_count": null,
   "metadata": {},
   "outputs": [],
   "source": [
    "inst"
   ]
  },
  {
   "cell_type": "code",
   "execution_count": 166,
   "metadata": {},
   "outputs": [],
   "source": [
    "test = poppy.CircularOcculter(radius=4.25 / 2)"
   ]
  },
  {
   "cell_type": "code",
   "execution_count": 171,
   "metadata": {},
   "outputs": [],
   "source": [
    "wave = poppy.Wavefront(wavelength=10e-6, npix=512, pixelscale=0.01)\n",
    "im = test.get_transmission(wave)"
   ]
  },
  {
   "cell_type": "code",
   "execution_count": 174,
   "metadata": {},
   "outputs": [
    {
     "data": {
      "text/plain": [
       "1.0"
      ]
     },
     "execution_count": 174,
     "metadata": {},
     "output_type": "execute_result"
    }
   ],
   "source": [
    "im.max()"
   ]
  },
  {
   "cell_type": "code",
   "execution_count": 183,
   "metadata": {},
   "outputs": [],
   "source": [
    "container = poppy.CompoundAnalyticOptic(name=\"MIRI Lyot Occulter\",\n",
    "                                        opticslist=[poppy.CircularOcculter(radius=4.25 / 2),\n",
    "                                                    poppy.BarOcculter(width=0.722,height=30),\n",
    "                                                    poppy.SquareFieldStop(size=30, rotation=5)])"
   ]
  },
  {
   "cell_type": "code",
   "execution_count": 178,
   "metadata": {},
   "outputs": [],
   "source": [
    "wave = poppy.Wavefront(wavelength=10e-6, npix=512, pixelscale=0.1)\n",
    "im = container.get_transmission(wave)"
   ]
  },
  {
   "cell_type": "code",
   "execution_count": 184,
   "metadata": {},
   "outputs": [
    {
     "name": "stdout",
     "output_type": "stream",
     "text": [
      "[     poppy:INFO] Computing intensity for MIRI Lyot Occulter sampled onto 512 pixel grid with pixelscale 0.0703125 arcsec / pix\n"
     ]
    },
    {
     "data": {
      "text/plain": [
       "<AxesSubplot:title={'center':'Transmittance for MIRI Lyot Occulter'}, ylabel='[arcsec]'>"
      ]
     },
     "execution_count": 184,
     "metadata": {},
     "output_type": "execute_result"
    },
    {
     "data": {
      "image/png": "[encoded data removed]",
      "text/plain": [
       "<Figure size 576x432 with 2 Axes>"
      ]
     },
     "metadata": {
      "needs_background": "light"
     },
     "output_type": "display_data"
    }
   ],
   "source": [
    "container.display()"
   ]
  },
  {
   "cell_type": "code",
   "execution_count": 164,
   "metadata": {
    "scrolled": false
   },
   "outputs": [],
   "source": [
    "# filter_or_bp = 'F1065C'\n",
    "# mask   = 'FQPM1065'\n",
    "# pupil  = 'MASKFQPM'\n",
    "# apname = None\n",
    "# include_si_wfe = False\n",
    "# wfe_drift = None\n",
    "\n",
    "# fov_pix = 129\n",
    "# oversample = None\n",
    "# opd = None\n",
    "opd_default = ('OPD_RevW_ote_for_MIRI_predicted.fits.gz', 0)\n",
    "# tel_pupil = None\n",
    "\n",
    "# jitter = 'gaussian'\n",
    "# jitter_sigma = 0.003\n",
    "\n",
    "# offset_r = None\n",
    "# offset_theta = None\n",
    "\n",
    "# save_name = None\n",
    "# quick = True\n",
    "# use_legendre = True\n",
    "# ndeg = None\n",
    "# npsf = None\n",
    "# return_webbpsf = False\n",
    "\n",
    "import time\n",
    "from pynrc.psfs import OPDFile_to_HDUList, OTE_Linear_Model_WSS\n",
    "from pynrc.psfs import setup_logging, _log\n",
    "from pynrc.psfs import nproc_use, mp, _wrap_coeff_for_mp\n",
    "def gen_miri_psf_coeff(filter_or_bp, pupil=None, mask=None, \n",
    "    fov_pix=11, oversample=None, npsf=None, ndeg=None, nproc=None, \n",
    "    offset_r=None, offset_theta=None, jitter=None, jitter_sigma=0.007,\n",
    "    coron_offset_x=None, coron_offset_y=None,\n",
    "    tel_pupil=None, opd=None, wfe_drift=None, include_si_wfe=False,\n",
    "    detector_position=None, apname=None, add_distortion=False, crop_psf=True,\n",
    "    force=False, save=True, save_name=None, return_save_name=False, \n",
    "    quick=True, return_webbpsf=False, use_legendre=True, \n",
    "    return_extras=False, **kwargs):\n",
    "\n",
    "    # Test if coronagraphic observation\n",
    "    coron_obs = (pupil is not None) and (('LYOT' in pupil) or ('FQPM' in pupil))\n",
    "\n",
    "    if oversample is None:\n",
    "        oversample = 2 if coron_obs else 4\n",
    "\n",
    "    if opd is None:  # Default OPD\n",
    "        opd = opd_default\n",
    "    elif isinstance(opd, six.string_types):\n",
    "        opd = (opd, 0)\n",
    "\n",
    "    # Default WFE drift\n",
    "    wfe_drift = 0 if wfe_drift is None else wfe_drift\n",
    "    assert wfe_drift >= 0, \"wfe_drift must not be negative\"\n",
    "\n",
    "    # Get filter throughput and create bandpass\n",
    "    if isinstance(filter_or_bp, six.string_types):\n",
    "        filter = filter_or_bp\n",
    "        bp = miri_filter(filter, pupil=pupil)\n",
    "    else:\n",
    "        bp = filter_or_bp\n",
    "        filter = bp.name\n",
    "        \n",
    "    # Change log levels to WARNING for pyNRC, WebbPSF, and POPPY\n",
    "    log_prev = conf.logging_level\n",
    "    setup_logging('WARN', verbose=False)\n",
    "\n",
    "    # Initialize webbpsf MIRI class\n",
    "    inst = webbpsf.MIRI()\n",
    "    inst.filter = filter\n",
    "\n",
    "    if mask in list(inst.image_mask_list): \n",
    "        inst.image_mask = mask\n",
    "    if pupil in list(inst.pupil_mask_list): \n",
    "        inst.pupil_mask = pupil\n",
    "\n",
    "    inst.include_si_wfe = include_si_wfe\n",
    "\n",
    "    # Set the SIAF aperture name\n",
    "    if apname is not None:\n",
    "        inst.auto_aperturename = False\n",
    "        inst.aperturename = apname\n",
    "\n",
    "    # Telescope Pupil\n",
    "    if tel_pupil is not None:\n",
    "        inst.pupil = tel_pupil\n",
    "    \n",
    "    # Get source offset positions\n",
    "    if offset_r is None: \n",
    "        offset_r = 0\n",
    "    if offset_theta is None: \n",
    "        offset_theta = 0\n",
    "    rtemp, ttemp = (offset_r, offset_theta)\n",
    "    inst.options['source_offset_r']     = rtemp\n",
    "    inst.options['source_offset_theta'] = ttemp\n",
    "    \n",
    "    # Mask offsets\n",
    "    if coron_offset_x is None: \n",
    "        coron_offset_x = 0\n",
    "    if coron_offset_y is None: \n",
    "        coron_offset_y = 0\n",
    "    inst.options['coron_offset_x'] = coron_offset_x\n",
    "    inst.options['coron_offset_y'] = coron_offset_y\n",
    "\n",
    "    # Telescope jitter \n",
    "    jitter_sigma = 0 if jitter is None else jitter_sigma\n",
    "    inst.options['jitter'] = jitter\n",
    "    inst.options['jitter_sigma'] = jitter_sigma\n",
    "\n",
    "    # Deal with OPD file name\n",
    "    #print(opd)\n",
    "    if isinstance(opd, tuple):\n",
    "        if not len(opd)==2:\n",
    "            raise ValueError(\"opd passed as tuple must have length of 2.\")\n",
    "        # Filename info\n",
    "        opd_name = opd[0] # OPD file name\n",
    "        opd_num  = opd[1] # OPD slice\n",
    "        rev = [s for s in opd_name.split('_') if \"Rev\" in s]\n",
    "        rev = '' if len(rev)==0 else rev[0]\n",
    "        otemp = '{}slice{:.0f}'.format(rev,opd_num)\n",
    "        opd = OPDFile_to_HDUList(opd_name, opd_num)\n",
    "    elif isinstance(opd, fits.HDUList):\n",
    "        # A custom OPD is passed. Consider using force=True.\n",
    "        otemp = 'OPDcustom'\n",
    "        opd_name = 'OPD from FITS HDUlist'\n",
    "        opd_num = 0\n",
    "    elif isinstance(opd, poppy.OpticalElement):\n",
    "        # OTE Linear Model\n",
    "        # No need to do anything\n",
    "        pass\n",
    "    else:\n",
    "        raise ValueError(\"OPD must be a string, tuple, or HDUList.\")\n",
    "\n",
    "    if wfe_drift>0:\n",
    "        otemp = '{}-{:.0f}nm'.format(otemp,wfe_drift)\n",
    "\n",
    "    if save_name is None:\n",
    "        # Name to save array of oversampled coefficients\n",
    "        save_dir = conf.PYNRC_PATH + 'psf_coeffs/'\n",
    "        # Create directory if it doesn't already exist\n",
    "        if not os.path.isdir(save_dir):\n",
    "            os.makedirs(save_dir)\n",
    "\n",
    "        # Build final filename to save coeff\n",
    "\n",
    "        # Append filter name if using quick keyword\n",
    "        fstr = '{}_'.format(filter) if quick else ''\n",
    "\n",
    "        # Mask and pupil names\n",
    "        mtemp = 'NONE' if mask is None else mask\n",
    "        ptemp = 'CLEAR' if pupil is None else pupil\n",
    "        \n",
    "        rth_str = 'r{:.2f}_th{:+.1f}'.format(rtemp,ttemp)\n",
    "        moff_str = 'mx{:.3f}_my{:.3f}'.format(coron_offset_x,coron_offset_y)\n",
    "\n",
    "        fname = '{}{}_{}_pix{}_os{}_jsig{:.0f}_{}_{}_{}'.\\\n",
    "            format(fstr, ptemp, mtemp, fov_pix, oversample,\\\n",
    "                   jitter_sigma*1000,rth_str,mask_str,otemp)\n",
    "\n",
    "        # Add SI WFE tag if included\n",
    "        if inst.include_si_wfe:\n",
    "            fname = fname + '_siwfe'\n",
    "\n",
    "        if use_legendre:\n",
    "            fname = fname + '_legendre'\n",
    "\n",
    "        fname = fname + '.fits'\n",
    "        save_name = save_dir + fname\n",
    "    \n",
    "    if return_save_name:\n",
    "        return save_name\n",
    "\n",
    "    # Load data from already saved FITS file\n",
    "    if os.path.exists(save_name) and (not force) and (not return_webbpsf):\n",
    "        #return np.load(save_name)\n",
    "        # return fits.getdata(save_name)\n",
    "        hdul = fits.open(save_name)\n",
    "        data = hdul[0].data.astype(np.float)\n",
    "        header = hdul[0].header\n",
    "        hdul.close()\n",
    "        return data, header\n",
    "\n",
    "    if return_webbpsf:\n",
    "        _log.info('Generating and returning WebbPSF HDUList')\n",
    "    else:\n",
    "        temp_str = 'and saving' if save else 'but not saving'\n",
    "        _log.info('Generating {} new PSF coefficient'.format(temp_str))\n",
    "\n",
    "    ####################################################\n",
    "    # Apply WFE drift to input OPD file\n",
    "    ####################################################\n",
    "        \n",
    "    # If there is wfe_drift, create a OTE Linear Model\n",
    "    if (wfe_drift > 0):\n",
    "        _log.debug('Performing WFE drift of {}nm'.format(wfe_drift))\n",
    "\n",
    "        # OPD should already be an HDUList or OTE LM by now\n",
    "        # If we want more realistic time evolution, then need to use\n",
    "        # procedure in dev_utils/WebbPSF_OTE_LM.ipynb to create a time\n",
    "        # series of OPDs then pass those OPDs directly to create unique PSFs\n",
    "        if isinstance(opd, fits.HDUList):\n",
    "            hdul = opd\n",
    "\n",
    "            header = hdul[0].header\n",
    "\n",
    "            header['ORIGINAL'] = (opd_name,   \"Original OPD source\")\n",
    "            header['SLICE']    = (opd_num,    \"Slice index of original OPD\")\n",
    "            header['WFEDRIFT'] = (wfe_drift, \"WFE drift amount [nm]\")\n",
    "\n",
    "            name = 'Modified from ' + opd_name\n",
    "            opd = OTE_Linear_Model_WSS(name=name, opd=hdul, opd_index=opd_num, transmission=inst.pupil)\n",
    "\n",
    "        # Apply WFE drift to OTE Linear Model (Amplitude of frill drift)\n",
    "        inst.pupilopd = opd\n",
    "        inst.pupil = opd\n",
    "\n",
    "        # Split WFE drift amplitude between three processes\n",
    "        # 1) IEC Heaters; 2) Frill tensioning; 3) OTE Thermal perturbations\n",
    "        # Give IEC heaters 1 nm \n",
    "        wfe_iec = 1 if np.abs(wfe_drift) > 2 else 0\n",
    "\n",
    "        # Split remainder evenly between frill and OTE thermal slew\n",
    "        wfe_remain_var = wfe_drift**2 - wfe_iec**2\n",
    "        wfe_frill = np.sqrt(0.8*wfe_remain_var)\n",
    "        wfe_therm = np.sqrt(0.2*wfe_remain_var)\n",
    "        # wfe_th_frill = np.sqrt((wfe_drift**2 - wfe_iec**2) / 2)\n",
    "\n",
    "        # Negate amplitude if supplying negative wfe_drift\n",
    "        if wfe_drift < 0:\n",
    "            wfe_frill *= -1\n",
    "            wfe_therm *= -1\n",
    "            wfe_iec *= -1\n",
    "\n",
    "        # Apply IEC\n",
    "        opd.apply_iec_drift(wfe_iec, delay_update=True)\n",
    "        # Apply frill\n",
    "        opd.apply_frill_drift(wfe_frill, delay_update=True)\n",
    "\n",
    "        # Apply OTE thermal slew amplitude\n",
    "        # This is slightly different due to how thermal slews are specified\n",
    "        import astropy.units as u\n",
    "        delta_time = 14*24*60 * u.min\n",
    "        wfe_scale = (wfe_therm / 24)\n",
    "        if wfe_scale == 0:\n",
    "            delta_time = 0\n",
    "        opd.thermal_slew(delta_time, case='BOL', scaling=wfe_scale)\n",
    "    else:\n",
    "        inst.pupilopd = opd\n",
    "\n",
    "    \n",
    "    ####################################################\n",
    "    # Return WebbPSF output rather than coefficients?\n",
    "    ####################################################\n",
    "        \n",
    "    # Change log levels to WARNING for pyNRC, WebbPSF, and POPPY\n",
    "    if return_webbpsf:\n",
    "        setup_logging('WARN', verbose=False)\n",
    "\n",
    "        if 'sp_norm' in list(kwargs.keys()):\n",
    "            sp_norm = kwargs['sp_norm']\n",
    "        else:\n",
    "            waveset = np.linspace(5, 30, 100) * 1e4\n",
    "            sp_flat = S.ArraySpectrum(waveset, 0*waveset + 10.)\n",
    "            sp_flat.name = 'Flat spectrum in flam'\n",
    "\n",
    "            # Bandpass unit response is the flux (in flam) of a star that\n",
    "            # produces a response of one count per second in that bandpass\n",
    "            sp_norm = sp_flat.renorm(bp.unit_response(), 'flam', bp)\n",
    "\n",
    "        t0 = time.time()\n",
    "        hdu_list = inst.calc_psf(source=sp_norm, fov_pixels=fov_pix, oversample=oversample, \n",
    "                                 add_distortion=add_distortion, crop_psf=crop_psf, nlambda=npsf)\n",
    "        t1 = time.time()\n",
    "        setup_logging(log_prev, verbose=False)\n",
    "\n",
    "        time_string = 'Took {:.2f} seconds to generate WebbPSF images'.format(t1-t0)\n",
    "        _log.info(time_string)\n",
    "\n",
    "        return hdu_list\n",
    "    \n",
    "\n",
    "    ####################################################\n",
    "    # Wavelengths to calculate at\n",
    "    ####################################################\n",
    "\n",
    "    # Select which wavelengths to use\n",
    "    # If doing a \"quick\" PSF, only fit the filter wavelength range.\n",
    "    # Otherwise, we fit the full channel wavelength.\n",
    "    if quick:\n",
    "        w1 = bp.wave.min() / 1e4\n",
    "        w2 = bp.wave.max() / 1e4\n",
    "    else:\n",
    "        w1, w2 = (5,30)\n",
    "    \n",
    "    # Create set of monochromatic PSFs to fit.\n",
    "    if npsf is None:\n",
    "        dn = 10 # 10 PSF simulations per um\n",
    "        npsf = int(np.ceil(dn * (w2-w1)))\n",
    "\n",
    "    # Want at least 5 monochromatic PSFs\n",
    "    npsf = 5 if npsf<5 else int(npsf)\n",
    "\n",
    "    ####################################################\n",
    "    # Polynomial degrees and modifications to npsf\n",
    "    ####################################################\n",
    "    \n",
    "    # First determine polynomial fit degree\n",
    "    # Must ensure npsf>ndeg\n",
    "    if ndeg is None:\n",
    "        # TODO: Quantify these better\n",
    "        if use_legendre:\n",
    "            ndeg = 4 if quick else 7\n",
    "        else:\n",
    "            ndeg = 4 if quick else 7\n",
    "    \n",
    "    # Number of points must be greater than degree of fit\n",
    "    npsf = ndeg+1 if npsf<=ndeg else int(npsf)\n",
    "    waves = np.linspace(w1, w2, npsf)\n",
    "    \n",
    "    \n",
    "    # How many processors to split into?\n",
    "    if nproc is None:\n",
    "        nproc = nproc_use(fov_pix, oversample, npsf)\n",
    "    _log.debug('nprocessors: {}; npsf: {}'.format(nproc, npsf))\n",
    "\n",
    "    setup_logging('WARN', verbose=False)\n",
    "    t0 = time.time()\n",
    "    # Setup the multiprocessing pool and arguments to pass to each pool\n",
    "    worker_arguments = [(inst, wlen, fov_pix, oversample) for wlen in waves]\n",
    "    if nproc > 1:\n",
    "        pool = mp.Pool(nproc)\n",
    "        # Pass arguments to the helper function\n",
    "\n",
    "        try:\n",
    "            hdu_arr = pool.map(_wrap_coeff_for_mp, worker_arguments)\n",
    "            if hdu_arr[0] is None:\n",
    "                raise RuntimeError('Returned None values. Issue with multiprocess or WebbPSF??')\n",
    "\n",
    "        except Exception as e:\n",
    "            _log.error('Caught an exception during multiprocess.')\n",
    "            _log.error('Closing multiprocess pool.')\n",
    "            pool.terminate()\n",
    "            pool.close()\n",
    "            raise e\n",
    "\n",
    "        else:\n",
    "            _log.debug('Closing multiprocess pool.')\n",
    "            pool.close()\n",
    "    else:\n",
    "        # Pass arguments to the helper function\n",
    "        hdu_arr = []\n",
    "        for wa in worker_arguments:\n",
    "            hdu = _wrap_coeff_for_mp(wa)\n",
    "            if hdu is None:\n",
    "                raise RuntimeError('Returned None values. Issue with WebbPSF??')\n",
    "            hdu_arr.append(hdu)\n",
    "    t1 = time.time()\n",
    "    \n",
    "    # Reset to original log levels\n",
    "    setup_logging(log_prev, verbose=False)\n",
    "    time_string = 'Took {:.2f} seconds to generate WebbPSF images'.format(t1-t0)\n",
    "    _log.info(time_string)\n",
    "\n",
    "    # Extract image data from HDU array\n",
    "    images = []\n",
    "    for hdu in hdu_arr:\n",
    "        images.append(hdu.data)\n",
    "\n",
    "    # Turn results into an numpy array (npsf,ny,nx)\n",
    "    images = np.array(images)\n",
    "    \n",
    "    # Simultaneous polynomial fits to all pixels using linear least squares\n",
    "    coeff_all = jl_poly_fit(waves, images, deg=ndeg, use_legendre=use_legendre, lxmap=[w1,w2])\n",
    "\n",
    "    hdu = fits.PrimaryHDU(coeff_all)\n",
    "    hdr = hdu.header\n",
    "    head_temp = hdu_arr[0].header\n",
    "\n",
    "    hdr['DESCR']    = ('PSF Coeffecients', 'File Description')\n",
    "    hdr['NWAVES']   = (npsf, 'Number of wavelengths used in calculation')\n",
    "    hdr['PUPILOPD'] = (opd_name, 'Pupil wavefront OPD source')\n",
    "    hdr['OPDSLICE'] = (opd_num, 'OPD slice index')\n",
    "\n",
    "    copy_keys = [\n",
    "        'PUPILINT', 'EXTNAME', 'OVERSAMP', 'DET_SAMP',\n",
    "        'PIXELSCL', 'FOV', 'JITRTYPE', 'JITRSIGM',\n",
    "        'INSTRUME', 'DET_NAME', 'TEL_WFE',\n",
    "        'DET_X', 'DET_Y', 'DET_V2', 'DET_V3',\n",
    "        'DATE', 'AUTHOR', 'VERSION', 'DATAVERS'\n",
    "    ]\n",
    "    for key in copy_keys:\n",
    "        try:\n",
    "            hdr[key] = (head_temp[key], head_temp.comments[key])\n",
    "        except (AttributeError, KeyError):\n",
    "            hdr[key] = ('none', 'No key found')\n",
    "\n",
    "    # gen_psf_coeff() Keyword Values\n",
    "    hdr['FILTER'] = (filter, 'Filter Input')\n",
    "    hdr['PUPIL']  = (ptemp, 'Pupil Setting')\n",
    "    hdr['MASK']   = (mtemp, 'Coronagraphic Mask Setting')\n",
    "    hdr['FOVPIX'] = (fov_pix, 'WebbPSF pixel FoV')\n",
    "    hdr['OSAMP']  = (oversample, 'WebbPSF pixel oversample')\n",
    "    hdr['NPSF']   = (npsf, 'Number of wavelengths to calc')\n",
    "    hdr['NDEG']   = (ndeg, 'Polynomial fit degree')\n",
    "    hdr['WAVE1']  = (w1, 'First wavelength in calc')\n",
    "    hdr['WAVE2']  = (w2, 'Last of wavelength in calc')\n",
    "    hdr['LEGNDR'] = (use_legendre, 'Legendre polynomial fit?')\n",
    "    if tel_pupil is None:\n",
    "        hdr['TELPUP'] = ('None', 'Telescope pupil')\n",
    "    elif isinstance(tel_pupil, fits.HDUList):\n",
    "        hdr['TELPUP'] = ('HDUList', 'Telescope pupil')\n",
    "    elif isinstance(tel_pupil, six.string_types):\n",
    "        hdr['TELPUP'] = (tel_pupil, 'Telescope pupil')\n",
    "    else:\n",
    "        hdr['TELPUP'] = ('UNKNOWN', 'Telescope pupil')\n",
    "    hdr['OFFR']  = (offset_r, 'Radial offset')\n",
    "    hdr['OFFTH'] = (offset_theta, 'Position angle OFFR (CCW)')\n",
    "    if jitter is None:\n",
    "        hdr['JITTER'] = ('None', 'Jitter type')\n",
    "    else:\n",
    "        hdr['JITTER'] = (jitter, 'Jitter type')\n",
    "    hdr['JITSIG'] = (jitter_sigma, 'Jitter sigma')\n",
    "    if opd is None:\n",
    "        hdr['OPD'] = ('None', 'Telescope OPD')\n",
    "    elif isinstance(opd, fits.HDUList):\n",
    "        hdr['OPD'] = ('HDUList', 'Telescope OPD')\n",
    "    elif isinstance(opd, six.string_types):\n",
    "        hdr['OPD'] = (opd, 'Telescope OPD')\n",
    "    elif isinstance(opd, poppy.OpticalElement):\n",
    "        hdr['OPD'] = ('OTE Linear Model', 'Telescope OPD')\n",
    "    else:\n",
    "        hdr['OPD'] = ('UNKNOWN', 'Telescope OPD')\n",
    "    hdr['WFEDRIFT'] = (wfe_drift, \"WFE drift amount [nm]\")\n",
    "    hdr['SIWFE']    = (include_si_wfe, \"Was SI WFE included?\")\n",
    "    hdr['FORCE']    = (force, \"Forced calculations?\")\n",
    "    hdr['SAVE']     = (save, \"Save file?\")\n",
    "    hdr['FILENAME'] = (os.path.basename(save_name), \"File save name\")\n",
    "#     hdr['PYNRCVER'] = (__version__, \"pyNRC version\")\n",
    "\n",
    "    hdr.insert('DATAVERS', '', after=True)\n",
    "    hdr.insert('DATAVERS', ('','psf_coeff() Keyword Values'), after=True)\n",
    "    hdr.insert('DATAVERS', '', after=True)\n",
    "\n",
    "    hdr.add_history(time_string)\n",
    "\n",
    "    if save:\n",
    "        #np.save(save_name, coeff_all)\n",
    "        hdu.writeto(save_name, overwrite=True)\n",
    "\n",
    "    if return_extras:\n",
    "        extras_dict = {'images' : images, 'waves': waves}\n",
    "        return coeff_all, hdr, extras_dict\n",
    "    else:\n",
    "        return coeff_all, hdr\n"
   ]
  },
  {
   "cell_type": "code",
   "execution_count": 158,
   "metadata": {},
   "outputs": [],
   "source": [
    "from pynrc.maths.coords import rtheta_to_xy\n",
    "\n",
    "# Small grid values around center\n",
    "rvals = np.linspace(-10,10,5)\n",
    "thvals = np.linspace(0, 180, 6, endpoint=False)\n",
    "xy_list_mas = [rtheta_to_xy(r,th) for r in rvals for th in thvals if r!=0]\n",
    "xy_list_mas.append((0,0))\n",
    "\n",
    "grid_vals = np.array(np.meshgrid(rvals,rvals))\n",
    "xy_list_mas2 = [(x,y) for x,y in grid_vals.reshape([2,-1]).transpose()]"
   ]
  },
  {
   "cell_type": "code",
   "execution_count": 159,
   "metadata": {},
   "outputs": [
    {
     "data": {
      "text/plain": [
       "25"
      ]
     },
     "execution_count": 159,
     "metadata": {},
     "output_type": "execute_result"
    }
   ],
   "source": [
    "len(xy_list_mas)"
   ]
  },
  {
   "cell_type": "code",
   "execution_count": 160,
   "metadata": {},
   "outputs": [],
   "source": [
    "# Corse grid along boundaries\n",
    "vals = np.array([100,1000,6000,12000])\n",
    "for v1 in [-50,0,50]:\n",
    "    for v2 in vals:\n",
    "        xy_list_mas.append((v1,v2))\n",
    "        xy_list_mas.append((v1,-v2))\n",
    "        xy_list_mas.append((v2,v1))\n",
    "        xy_list_mas.append((-v2,v1))\n",
    "\n",
    "for v3 in [4,8,12]:\n",
    "    for v1 in [1000,-1000]:\n",
    "        for v2 in [1000,-1000]:\n",
    "            xy_list_mas.append((v3*v1,v3*v2))"
   ]
  },
  {
   "cell_type": "code",
   "execution_count": 161,
   "metadata": {},
   "outputs": [
    {
     "data": {
      "text/plain": [
       "[(0, -10.0),\n",
       " (4.999999999999999, -8.660254037844387),\n",
       " (8.660254037844386, -5.000000000000001),\n",
       " (10.0, -6.123233995736766e-16),\n",
       " (8.660254037844389, 4.999999999999998),\n",
       " (4.999999999999999, 8.660254037844387),\n",
       " (0, -5.0),\n",
       " (2.4999999999999996, -4.330127018922194),\n",
       " (4.330127018922193, -2.5000000000000004),\n",
       " (5.0, -3.061616997868383e-16),\n",
       " (4.3301270189221945, 2.499999999999999),\n",
       " (2.4999999999999996, 4.330127018922194),\n",
       " (0, 5.0),\n",
       " (-2.4999999999999996, 4.330127018922194),\n",
       " (-4.330127018922193, 2.5000000000000004),\n",
       " (-5.0, 3.061616997868383e-16),\n",
       " (-4.3301270189221945, -2.499999999999999),\n",
       " (-2.4999999999999996, -4.330127018922194),\n",
       " (0, 10.0),\n",
       " (-4.999999999999999, 8.660254037844387),\n",
       " (-8.660254037844386, 5.000000000000001),\n",
       " (-10.0, 6.123233995736766e-16),\n",
       " (-8.660254037844389, -4.999999999999998),\n",
       " (-4.999999999999999, -8.660254037844387),\n",
       " (0, 0),\n",
       " (-50, 100),\n",
       " (-50, -100),\n",
       " (100, -50),\n",
       " (-100, -50),\n",
       " (-50, 1000),\n",
       " (-50, -1000),\n",
       " (1000, -50),\n",
       " (-1000, -50),\n",
       " (-50, 6000),\n",
       " (-50, -6000),\n",
       " (6000, -50),\n",
       " (-6000, -50),\n",
       " (-50, 12000),\n",
       " (-50, -12000),\n",
       " (12000, -50),\n",
       " (-12000, -50),\n",
       " (0, 100),\n",
       " (0, -100),\n",
       " (100, 0),\n",
       " (-100, 0),\n",
       " (0, 1000),\n",
       " (0, -1000),\n",
       " (1000, 0),\n",
       " (-1000, 0),\n",
       " (0, 6000),\n",
       " (0, -6000),\n",
       " (6000, 0),\n",
       " (-6000, 0),\n",
       " (0, 12000),\n",
       " (0, -12000),\n",
       " (12000, 0),\n",
       " (-12000, 0),\n",
       " (50, 100),\n",
       " (50, -100),\n",
       " (100, 50),\n",
       " (-100, 50),\n",
       " (50, 1000),\n",
       " (50, -1000),\n",
       " (1000, 50),\n",
       " (-1000, 50),\n",
       " (50, 6000),\n",
       " (50, -6000),\n",
       " (6000, 50),\n",
       " (-6000, 50),\n",
       " (50, 12000),\n",
       " (50, -12000),\n",
       " (12000, 50),\n",
       " (-12000, 50),\n",
       " (4000, 4000),\n",
       " (4000, -4000),\n",
       " (-4000, 4000),\n",
       " (-4000, -4000),\n",
       " (8000, 8000),\n",
       " (8000, -8000),\n",
       " (-8000, 8000),\n",
       " (-8000, -8000),\n",
       " (12000, 12000),\n",
       " (12000, -12000),\n",
       " (-12000, 12000),\n",
       " (-12000, -12000)]"
      ]
     },
     "execution_count": 161,
     "metadata": {},
     "output_type": "execute_result"
    }
   ],
   "source": [
    "xy_list_mas"
   ]
  },
  {
   "cell_type": "code",
   "execution_count": 163,
   "metadata": {},
   "outputs": [
    {
     "data": {
      "text/plain": [
       "[<matplotlib.lines.Line2D at 0x7fa88ae5bc10>]"
      ]
     },
     "execution_count": 163,
     "metadata": {},
     "output_type": "execute_result"
    },
    {
     "data": {
      "image/png": "[encoded data removed]",
      "text/plain": [
       "<Figure size 576x432 with 1 Axes>"
      ]
     },
     "metadata": {
      "needs_background": "light"
     },
     "output_type": "display_data"
    }
   ],
   "source": [
    "xvals, yvals = np.array(xy_list_mas).transpose()\n",
    "plt.plot(xvals, yvals, marker='.', ls='none', alpha=0.75)\n",
    "\n",
    "# xvals, yvals = np.array(xy_list_mas2).transpose()\n",
    "# plt.plot(xvals, yvals, marker='o', ls='none', alpha=0.75)"
   ]
  },
  {
   "cell_type": "code",
   "execution_count": 81,
   "metadata": {},
   "outputs": [
    {
     "name": "stdout",
     "output_type": "stream",
     "text": [
      "[     pynrc:INFO] Took 12.09 seconds to generate WebbPSF images\n"
     ]
    }
   ],
   "source": [
    "cf_all, hdr, extras = gen_miri_psf_coeff('F1065C', pupil='MASKFQPM', mask='FQPM1065',\n",
    "                                         fov_pix=33, save=False, return_extras=True,\n",
    "                                         coron_offset_x=0.005, coron_offset_y=0)"
   ]
  },
  {
   "cell_type": "code",
   "execution_count": 82,
   "metadata": {},
   "outputs": [
    {
     "data": {
      "text/plain": [
       "<matplotlib.image.AxesImage at 0x7fa88a846ad0>"
      ]
     },
     "execution_count": 82,
     "metadata": {},
     "output_type": "execute_result"
    },
    {
     "data": {
      "image/png": "[encoded data removed]",
      "text/plain": [
       "<Figure size 576x432 with 1 Axes>"
      ]
     },
     "metadata": {
      "needs_background": "light"
     },
     "output_type": "display_data"
    }
   ],
   "source": [
    "waves = extras['waves']\n",
    "images = extras['images']\n",
    "\n",
    "plt.imshow(images[-1])"
   ]
  },
  {
   "cell_type": "code",
   "execution_count": 83,
   "metadata": {},
   "outputs": [
    {
     "name": "stdout",
     "output_type": "stream",
     "text": [
      "0.9997747914985667 0.620190098705793 0.6472025149957279\n",
      "0.6546132815071753 0.2482516835494898 0.20469794531623925\n",
      "0.796178869283674 0.11674888348973819 0.03842984434700557\n",
      "0.5502602529421788 0.012908433355179988 0.0020940571031737767\n",
      "0.3601417437108814 0.0017831401997241223 9.939857983856017e-05\n",
      "0.04338249948272349 0.00011776070007488398 4.514751805430597e-06\n"
     ]
    }
   ],
   "source": [
    "cf_norm = cf_all**2 / np.sum(cf_all**2, axis=0)\n",
    "\n",
    "for im in cf_norm:\n",
    "    print(im.max(), im.mean(), np.median(im))"
   ]
  },
  {
   "cell_type": "code",
   "execution_count": 66,
   "metadata": {},
   "outputs": [],
   "source": [
    "indy, indx = np.argwhere(cf_norm[4]==cf_norm[4].max())[0]"
   ]
  },
  {
   "cell_type": "code",
   "execution_count": 67,
   "metadata": {},
   "outputs": [
    {
     "data": {
      "text/plain": [
       "(17, 35)"
      ]
     },
     "execution_count": 67,
     "metadata": {},
     "output_type": "execute_result"
    }
   ],
   "source": [
    "indx, indy"
   ]
  },
  {
   "cell_type": "code",
   "execution_count": 77,
   "metadata": {},
   "outputs": [
    {
     "data": {
      "text/plain": [
       "[<matplotlib.lines.Line2D at 0x7fa8a9755850>]"
      ]
     },
     "execution_count": 77,
     "metadata": {},
     "output_type": "execute_result"
    },
    {
     "data": {
      "image/png": "[encoded data removed]",
      "text/plain": [
       "<Figure size 576x432 with 1 Axes>"
      ]
     },
     "metadata": {
      "needs_background": "light"
     },
     "output_type": "display_data"
    }
   ],
   "source": [
    "plt.plot(cf_norm[:,33,33])\n",
    "plt.plot(cf_norm[:,45,35])"
   ]
  },
  {
   "cell_type": "code",
   "execution_count": 79,
   "metadata": {},
   "outputs": [
    {
     "data": {
      "text/plain": [
       "[<matplotlib.lines.Line2D at 0x7fa8a99323d0>]"
      ]
     },
     "execution_count": 79,
     "metadata": {},
     "output_type": "execute_result"
    },
    {
     "data": {
      "image/png": "[encoded data removed]",
      "text/plain": [
       "<Figure size 576x432 with 1 Axes>"
      ]
     },
     "metadata": {
      "needs_background": "light"
     },
     "output_type": "display_data"
    }
   ],
   "source": [
    "plt.plot(waves, images[:, 33,33])\n",
    "plt.plot(waves, images[:, 45,35])"
   ]
  },
  {
   "cell_type": "code",
   "execution_count": 53,
   "metadata": {},
   "outputs": [
    {
     "data": {
      "text/plain": [
       "'/Users/Jarron/NIRCam/pynrc_data/psf_coeffs/F1065C_MASKFQPM_FQPM1065_pix11_os2_jsig0_r0.00_th+0.0_RevWslice0_legendre.fits'"
      ]
     },
     "execution_count": 53,
     "metadata": {},
     "output_type": "execute_result"
    }
   ],
   "source": [
    "gen_miri_psf_coeff('F1065C', pupil='MASKFQPM', mask='FQPM1065', return_save_name=True)"
   ]
  },
  {
   "cell_type": "code",
   "execution_count": 14,
   "metadata": {
    "scrolled": false
   },
   "outputs": [
    {
     "name": "stdout",
     "output_type": "stream",
     "text": [
      "[     pynrc:INFO] Took 3.50 seconds to generate WebbPSF images\n"
     ]
    }
   ],
   "source": [
    "hdul0 = gen_miri_psf_coeff('F1065C', pupil='MASKFQPM', mask='FQPM1065',\n",
    "                           fov_pix=33, save=False, return_webbpsf=True, npsf=1)"
   ]
  },
  {
   "cell_type": "code",
   "execution_count": 15,
   "metadata": {},
   "outputs": [
    {
     "name": "stdout",
     "output_type": "stream",
     "text": [
      "[     pynrc:INFO] Took 3.53 seconds to generate WebbPSF images\n"
     ]
    }
   ],
   "source": [
    "hdul1 = gen_miri_psf_coeff('F1065C', pupil='MASKFQPM', mask='FQPM1065',\n",
    "                           fov_pix=33, save=False, return_webbpsf=True,\n",
    "                           coron_offset_x=5, coron_offset_y=yoff, npsf=1)"
   ]
  },
  {
   "cell_type": "code",
   "execution_count": 122,
   "metadata": {},
   "outputs": [
    {
     "name": "stdout",
     "output_type": "stream",
     "text": [
      "[     pynrc:INFO] Took 3.07 seconds to generate WebbPSF images\n"
     ]
    }
   ],
   "source": [
    "# 'F1065C': 0.3, 'F1140C': 0.3, 'F1550C': 0.3, 'F2300C': 0.25,\n",
    "w = '1065'\n",
    "f, p, m = (f'F{w}C', 'MASKFQPM', f'FQPM{w}')\n",
    "\n",
    "hdul2 = gen_miri_psf_coeff(f, pupil=p, mask=m,\n",
    "                           fov_pix=64, save=False, return_webbpsf=True,\n",
    "                           coron_offset_y=1, coron_offset_x=1, npsf=1)"
   ]
  },
  {
   "cell_type": "code",
   "execution_count": 126,
   "metadata": {},
   "outputs": [
    {
     "name": "stdout",
     "output_type": "stream",
     "text": [
      "[     pynrc:INFO] Took 3.07 seconds to generate WebbPSF images\n"
     ]
    }
   ],
   "source": [
    "hdul3 = gen_miri_psf_coeff(f, pupil=p, mask=m,\n",
    "                           fov_pix=64, save=False, return_webbpsf=True,\n",
    "                           coron_offset_y=5, coron_offset_x=5, npsf=1)"
   ]
  },
  {
   "cell_type": "code",
   "execution_count": 127,
   "metadata": {},
   "outputs": [
    {
     "name": "stdout",
     "output_type": "stream",
     "text": [
      "0.006694645150450457 0.5404030704112195 0.5443642084679853\n",
      "-0.0005780824603699945 0.00027135770048995983\n"
     ]
    },
    {
     "data": {
      "image/png": "[encoded data removed]",
      "text/plain": [
       "<Figure size 1008x324 with 3 Axes>"
      ]
     },
     "metadata": {
      "needs_background": "light"
     },
     "output_type": "display_data"
    }
   ],
   "source": [
    "fig, axes = plt.subplots(1,3, figsize=(14,4.5))\n",
    "\n",
    "print(hdul0[0].data.sum(), hdul2[0].data.sum(), hdul3[0].data.sum())\n",
    "\n",
    "diff = hdul2[0].data-hdul3[0].data\n",
    "print(diff.min(), diff.max())\n",
    "axes[0].imshow(diff)\n",
    "axes[1].imshow(hdul2[0].data**0.2)\n",
    "axes[2].imshow(hdul3[0].data**0.2)\n",
    "\n",
    "fig.tight_layout()"
   ]
  },
  {
   "cell_type": "code",
   "execution_count": 27,
   "metadata": {},
   "outputs": [
    {
     "data": {
      "text/plain": [
       "0.0006524422918158582"
      ]
     },
     "execution_count": 27,
     "metadata": {},
     "output_type": "execute_result"
    }
   ],
   "source": [
    "hdul2[0].data.max()"
   ]
  },
  {
   "cell_type": "code",
   "execution_count": 17,
   "metadata": {},
   "outputs": [
    {
     "name": "stdout",
     "output_type": "stream",
     "text": [
      "[   webbpsf:INFO] MIRI SIAF aperture name updated to MIRIM_FULL\n",
      "[   webbpsf:INFO] MIRI SIAF aperture name updated to MIRIM_CORON1065\n"
     ]
    }
   ],
   "source": [
    "# Initialize webbpsf MIRI class\n",
    "inst = webbpsf.MIRI()\n",
    "inst.filter = 'F1065C'\n",
    "inst.pupil_mask = 'MASKFQPM'\n",
    "inst.image_mask = 'FQPM1065'"
   ]
  },
  {
   "cell_type": "code",
   "execution_count": 18,
   "metadata": {},
   "outputs": [
    {
     "data": {
      "text/plain": [
       "4.4497"
      ]
     },
     "execution_count": 18,
     "metadata": {},
     "output_type": "execute_result"
    }
   ],
   "source": [
    "inst._rotation"
   ]
  },
  {
   "cell_type": "code",
   "execution_count": 35,
   "metadata": {},
   "outputs": [
    {
     "name": "stdout",
     "output_type": "stream",
     "text": [
      "[     poppy:INFO] Monochromatic calculation requested.\n",
      "[     poppy:INFO] PSF calc using fov_pixels = 108, oversample = 4, number of wavelengths = 1\n",
      "[   webbpsf:INFO] Creating optical system model:\n",
      "[     poppy:INFO] Initialized OpticalSystem: JWST+MIRI\n",
      "[     poppy:INFO] JWST Entrance Pupil: Loaded amplitude transmission from /Users/Jarron/NIRCam/webbpsf-data/jwst_pupil_RevW_npix1024.fits.gz\n",
      "[     poppy:INFO] JWST Entrance Pupil: Loaded OPD from /Users/Jarron/NIRCam/webbpsf-data/MIRI/OPD/OPD_RevW_ote_for_MIRI_requirements.fits.gz\n",
      "[     poppy:INFO] Added pupil plane: JWST Entrance Pupil\n",
      "[     poppy:INFO] Added coordinate inversion plane: OTE exit pupil\n",
      "[     poppy:INFO] Added rotation plane: Rotation by 4.45 degrees\n",
      "[     poppy:INFO] Added pupil plane: MIRI internal WFE at V2V3=(-6.56,-7.02)', near ISIM11\n",
      "[     poppy:INFO] Added pupil plane: FQPM FFT aligner\n",
      "[     poppy:INFO] Added image plane: MIRI FQPM 1065\n",
      "[     poppy:INFO] Added pupil plane: FQPM FFT aligner\n",
      "[   webbpsf:INFO] Setting Lyot pupil shift to (-0.0455639016, -0.0178293528)\n",
      "[     poppy:INFO] MASKFQPM: Loaded amplitude transmission from /Users/Jarron/NIRCam/webbpsf-data/MIRI/optics/MIRI_FQPMLyotStop.fits.gz\n",
      "[     poppy:INFO] Requested optic shift of (-0.046, -0.018) meters\n",
      "[     poppy:INFO] Actual shift applied  = (-7.000, -2.000) pixels\n",
      "[     poppy:INFO] Added pupil plane: MASKFQPM\n",
      "[     poppy:INFO] Added pupil plane: MIRI internal WFE at V2V3=(-6.56,-7.02)', near ISIM11\n",
      "[     poppy:INFO] Added rotation plane: Rotation by 4.45 degrees\n",
      "[     poppy:INFO] Added detector with pixelscale=0.111 and oversampling=4: MIRI detector\n",
      "[     poppy:INFO] Calculating PSF with 1 wavelengths\n",
      "[     poppy:INFO]  Propagating wavelength = 1e-05 m\n",
      "[     poppy:INFO]   Calculation completed in 9.473 s\n",
      "[     poppy:INFO] PSF Calculation completed.\n",
      "[   webbpsf:INFO] Calculating jitter using gaussian\n",
      "[     poppy:INFO] Calculating jitter using gaussian\n",
      "[     poppy:INFO] Jitter: Convolving with Gaussian with sigma=0.007 arcsec\n",
      "[     poppy:INFO]         resulting image peak drops to 1.000 of its previous value\n",
      "[     poppy:INFO]  Adding extension with image downsampled to detector pixel scale.\n",
      "[     poppy:INFO]  Downsampling to detector pixel scale, by 4\n",
      "CPU times: user 11.4 s, sys: 1.03 s, total: 12.4 s\n",
      "Wall time: 11.2 s\n"
     ]
    }
   ],
   "source": [
    "%%time \n",
    "webbpsf.webbpsf_core.poppy.conf.use_multiprocessing\n",
    "\n",
    "hdul = inst.calc_psf(fov_pixels=108, oversample=4, add_distortion=False, crop_psf=True, monochromatic=10*1e-6)"
   ]
  },
  {
   "cell_type": "code",
   "execution_count": 45,
   "metadata": {},
   "outputs": [],
   "source": [
    "webbpsf.webbpsf_core.poppy.conf.use_multiprocessing = False"
   ]
  },
  {
   "cell_type": "code",
   "execution_count": 47,
   "metadata": {
    "scrolled": false
   },
   "outputs": [
    {
     "name": "stdout",
     "output_type": "stream",
     "text": [
      "[     poppy:INFO] No source spectrum supplied, therefore defaulting to 5700 K blackbody\n",
      "[     poppy:INFO] PSF calc using fov_pixels = 108, oversample = 2, number of wavelengths = 9\n",
      "[   webbpsf:INFO] Creating optical system model:\n",
      "[     poppy:INFO] Initialized OpticalSystem: JWST+MIRI\n",
      "[     poppy:INFO] JWST Entrance Pupil: Loaded amplitude transmission from /Users/Jarron/NIRCam/webbpsf-data/jwst_pupil_RevW_npix1024.fits.gz\n",
      "[     poppy:INFO] JWST Entrance Pupil: Loaded OPD from /Users/Jarron/NIRCam/webbpsf-data/MIRI/OPD/OPD_RevW_ote_for_MIRI_requirements.fits.gz\n",
      "[     poppy:INFO] Added pupil plane: JWST Entrance Pupil\n",
      "[     poppy:INFO] Added coordinate inversion plane: OTE exit pupil\n",
      "[     poppy:INFO] Added rotation plane: Rotation by 4.45 degrees\n",
      "[     poppy:INFO] Added pupil plane: MIRI internal WFE at V2V3=(-6.56,-7.02)', near ISIM11\n",
      "[     poppy:INFO] Added pupil plane: FQPM FFT aligner\n",
      "[     poppy:INFO] Added image plane: MIRI FQPM 1065\n",
      "[     poppy:INFO] Added pupil plane: FQPM FFT aligner\n",
      "[   webbpsf:INFO] Setting Lyot pupil shift to (-0.0455639016, -0.0178293528)\n",
      "[     poppy:INFO] MASKFQPM: Loaded amplitude transmission from /Users/Jarron/NIRCam/webbpsf-data/MIRI/optics/MIRI_FQPMLyotStop.fits.gz\n",
      "[     poppy:INFO] Requested optic shift of (-0.046, -0.018) meters\n",
      "[     poppy:INFO] Actual shift applied  = (-7.000, -2.000) pixels\n",
      "[     poppy:INFO] Added pupil plane: MASKFQPM\n",
      "[     poppy:INFO] Added pupil plane: MIRI internal WFE at V2V3=(-6.56,-7.02)', near ISIM11\n",
      "[     poppy:INFO] Added rotation plane: Rotation by 4.45 degrees\n",
      "[     poppy:INFO] Added detector with pixelscale=0.111 and oversampling=2: MIRI detector\n",
      "[     poppy:INFO] Calculating PSF with 9 wavelengths\n",
      "[     poppy:INFO]  Propagating wavelength = 1.02596e-05 m\n",
      "[     poppy:INFO]  Propagating wavelength = 1.0343e-05 m\n",
      "[     poppy:INFO]  Propagating wavelength = 1.04264e-05 m\n",
      "[     poppy:INFO]  Propagating wavelength = 1.05098e-05 m\n",
      "[     poppy:INFO]  Propagating wavelength = 1.05932e-05 m\n",
      "[     poppy:INFO]  Propagating wavelength = 1.06766e-05 m\n",
      "[     poppy:INFO]  Propagating wavelength = 1.076e-05 m\n",
      "[     poppy:INFO]  Propagating wavelength = 1.08434e-05 m\n",
      "[     poppy:INFO]  Propagating wavelength = 1.09267e-05 m\n",
      "[     poppy:INFO]   Calculation completed in 22.850 s\n",
      "[     poppy:INFO] PSF Calculation completed.\n",
      "[   webbpsf:INFO] Calculating jitter using gaussian\n",
      "[     poppy:INFO] Calculating jitter using gaussian\n",
      "[     poppy:INFO] Jitter: Convolving with Gaussian with sigma=0.007 arcsec\n",
      "[     poppy:INFO]         resulting image peak drops to 1.000 of its previous value\n",
      "[     poppy:INFO]  Adding extension with image downsampled to detector pixel scale.\n",
      "[     poppy:INFO]  Downsampling to detector pixel scale, by 2\n",
      "CPU times: user 30.2 s, sys: 2.15 s, total: 32.4 s\n",
      "Wall time: 24.6 s\n"
     ]
    }
   ],
   "source": [
    "%time hdul = inst.calc_psf(fov_pixels=108, oversample=2, add_distortion=False, crop_psf=True)"
   ]
  },
  {
   "cell_type": "code",
   "execution_count": 15,
   "metadata": {
    "scrolled": false
   },
   "outputs": [
    {
     "data": {
      "text/plain": [
       "SIMPLE  =                    T / conforms to FITS standard                      \n",
       "BITPIX  =                  -64 / array data type                                \n",
       "NAXIS   =                    2 / number of array dimensions                     \n",
       "NAXIS1  =                  432                                                  \n",
       "NAXIS2  =                  432                                                  \n",
       "EXTEND  =                    T                                                  \n",
       "PLANE1  = 'Wavefront Intensity'                                                 \n",
       "WAVELEN = 9.88434138854330E-06 / Weighted mean wavelength in meters             \n",
       "DIFFLMT =   0.2830410644136973 / Diffraction limit lambda/D in arcsec           \n",
       "OVERSAMP=                    4 / Oversampling factor for FFTs in computation    \n",
       "DET_SAMP=                    4 / Oversampling factor for MFT to detector plane  \n",
       "PIXELSCL=              0.02775 / Scale in arcsec/pix (after oversampling)       \n",
       "FOV     =               11.988 / Field of view in arcsec (full array)           \n",
       "NWAVES  =                    9 / Number of wavelengths used in calculation      \n",
       "WAVE0   = 9.06141727900244E-06 / Wavelength 0                                   \n",
       "WGHT0   =  0.09934493721793662 / Wavelength weight 0                            \n",
       "WAVE1   = 9.28675684702738E-06 / Wavelength 1                                   \n",
       "WGHT1   =   0.1392832270520323 / Wavelength weight 1                            \n",
       "WAVE2   = 9.51209641505232E-06 / Wavelength 2                                   \n",
       "WGHT2   =   0.1332970940626882 / Wavelength weight 2                            \n",
       "WAVE3   = 9.73743598307726E-06 / Wavelength 3                                   \n",
       "WGHT3   =   0.1274477509112275 / Wavelength weight 3                            \n",
       "WAVE4   = 9.96277555110220E-06 / Wavelength 4                                   \n",
       "WGHT4   =   0.1212368871811651 / Wavelength weight 4                            \n",
       "WAVE5   = 1.01881151191271E-05 / Wavelength 5                                   \n",
       "WGHT5   =   0.1149563842418408 / Wavelength weight 5                            \n",
       "WAVE6   = 1.04134546871520E-05 / Wavelength 6                                   \n",
       "WGHT6   =   0.1067137816109107 / Wavelength weight 6                            \n",
       "WAVE7   = 1.06387942551770E-05 / Wavelength 7                                   \n",
       "WGHT7   =  0.09806330167142295 / Wavelength weight 7                            \n",
       "WAVE8   = 1.08641338232019E-05 / Wavelength 8                                   \n",
       "WGHT8   =   0.0596566360507759 / Wavelength weight 8                            \n",
       "FFTTYPE = 'numpy.fft'          / Algorithm for FFTs: numpy or fftw              \n",
       "NORMALIZ= 'first   '           / PSF normalization method                       \n",
       "JITRTYPE= 'Gaussian convolution' / Type of jitter applied                       \n",
       "JITRSIGM=                0.007 / Gaussian sigma for jitter, per axis [arcsec]   \n",
       "JITRSTRL=   0.9999721216094227 / Strehl reduction from jitter                   \n",
       "PUPILINT= 'jwst_pupil_RevW_npix1024.fits.gz' / Pupil aperture intensity source  \n",
       "PUPILOPD= 'OPD_RevW_ote_for_MIRI_requirements.fits.gz' / Pupil OPD source       \n",
       "OPD_FILE= 'OPD_RevW_ote_for_MIRI_requirements.fits.gz' / Pupil OPD file name    \n",
       "OPDSLICE=                    0 / Pupil OPD slice number, if file is a datacube  \n",
       "INSTRUME= 'MIRI    '           / Instrument                                     \n",
       "FILTER  = 'F1000W  '           / Filter name                                    \n",
       "EXTNAME = 'OVERSAMP'           / This extension is oversampled.                 \n",
       "DATE    = '2021-02-18T18:26:33' / Date of calculation                           \n",
       "AUTHOR  = 'jarron@Usul.local'  / username@host for calculation                  \n",
       "VERSION = '0.9.1.dev93+ga065f01' / WebbPSF software version                     \n",
       "DATAVERS= '0.9.0   '           / WebbPSF reference data files version           \n",
       "DET_NAME= 'MIRIM   '           / Name of detector on this instrument            \n",
       "DET_X   =                512.5 / Detector X pixel position of array center      \n",
       "DET_Y   =                512.5 / Detector Y pixel position of array center      \n",
       "DET_V2  =   -7.226544883468214 / [arcmin] Det. pos. in telescope V2,V3 coord sys\n",
       "DET_V3  =   -6.258073005612632 / [arcmin] Det. pos. in telescope V2,V3 coord sys\n",
       "TEL_WFE =    257.0107334673993 / [nm] Telescope pupil RMS wavefront error       \n",
       "OTETHMDL= 'BOL     '           / OTE Thermal slew model case                    \n",
       "OTETHSTA=                  0.0 / OTE Starting pitch angle for thermal slew model\n",
       "OTETHEND=                  0.0 / OTE Ending pitch angle for thermal slew model  \n",
       "OTETHRDT=                  0.0 / OTE Thermal slew model delta time after slew   \n",
       "OTETHRWF=                  0.0 / OTE WFE amplitude from 'thermal slew' term     \n",
       "OTEFRLWF=                  0.0 / OTE WFE amplitude from 'frill tension' term    \n",
       "OTEIECWF=                  0.0 / OTE WFE amplitude from 'IEC thermal cycling' te\n",
       "SI_WFE  =    45.28055643935562 / [nm] instrument pupil RMS wavefront error      \n",
       "SIWFETYP= 'Interpolated'       / SI WFE was interpolated between available meas.\n",
       "SIWFEFPT= 'ISIM13  '           / Closest ISIM CV3 WFE meas. field point         \n",
       "SIZERN1 = -1.0006863041267E-09 / [m] SI WFE coeff for Zernike term 1            \n",
       "SIZERN2 = 4.26086762489538E-09 / [m] SI WFE coeff for Zernike term 2            \n",
       "SIZERN3 = -1.6587791287659E-09 / [m] SI WFE coeff for Zernike term 3            \n",
       "SIZERN4 = 1.60234361816933E-08 / [m] SI WFE coeff for Zernike term 4            \n",
       "SIZERN5 = 1.91251769850746E-08 / [m] SI WFE coeff for Zernike term 5            \n",
       "SIZERN6 = 2.31395602359706E-08 / [m] SI WFE coeff for Zernike term 6            \n",
       "SIZERN7 = -4.6304908987460E-09 / [m] SI WFE coeff for Zernike term 7            \n",
       "SIZERN8 = 1.29043124792776E-08 / [m] SI WFE coeff for Zernike term 8            \n",
       "SIZERN9 =  5.9981075203878E-09 / [m] SI WFE coeff for Zernike term 9            \n",
       "SIZERN10= 8.97133377973754E-09 / [m] SI WFE coeff for Zernike term 10           \n",
       "SIZERN11= -1.7152293908704E-08 / [m] SI WFE coeff for Zernike term 11           \n",
       "SIZERN12= -5.7993076589907E-09 / [m] SI WFE coeff for Zernike term 12           \n",
       "SIZERN13= -2.5734753737825E-09 / [m] SI WFE coeff for Zernike term 13           \n",
       "SIZERN14= -2.0350871229271E-09 / [m] SI WFE coeff for Zernike term 14           \n",
       "SIZERN15= -1.2178138348514E-09 / [m] SI WFE coeff for Zernike term 15           \n",
       "SIZERN16= 1.81474533515589E-09 / [m] SI WFE coeff for Zernike term 16           \n",
       "SIZERN17= 5.92602501393075E-10 / [m] SI WFE coeff for Zernike term 17           \n",
       "SIZERN18= -8.1712348796484E-10 / [m] SI WFE coeff for Zernike term 18           \n",
       "SIZERN19=  5.7895399167913E-09 / [m] SI WFE coeff for Zernike term 19           \n",
       "SIZERN20= -3.3472000340621E-09 / [m] SI WFE coeff for Zernike term 20           \n",
       "SIZERN21= 5.13708737704051E-09 / [m] SI WFE coeff for Zernike term 21           \n",
       "SIZERN22= -1.3664642588969E-08 / [m] SI WFE coeff for Zernike term 22           \n",
       "SIZERN23= -7.0413164538030E-10 / [m] SI WFE coeff for Zernike term 23           \n",
       "SIZERN24= 1.02961368833284E-09 / [m] SI WFE coeff for Zernike term 24           \n",
       "SIZERN25= 5.64105947301432E-09 / [m] SI WFE coeff for Zernike term 25           \n",
       "SIZERN26= 8.49785495672462E-10 / [m] SI WFE coeff for Zernike term 26           \n",
       "SIZERN27= -1.7463104226129E-09 / [m] SI WFE coeff for Zernike term 27           \n",
       "SIZERN28= 3.62456959999249E-09 / [m] SI WFE coeff for Zernike term 28           \n",
       "SIZERN29= 9.99267311464256E-10 / [m] SI WFE coeff for Zernike term 29           \n",
       "SIZERN30= 4.50380966457810E-09 / [m] SI WFE coeff for Zernike term 30           \n",
       "SIZERN31= 1.09599461391776E-09 / [m] SI WFE coeff for Zernike term 31           \n",
       "SIZERN32= 3.15889649862186E-09 / [m] SI WFE coeff for Zernike term 32           \n",
       "SIZERN33= -3.5999334730059E-10 / [m] SI WFE coeff for Zernike term 33           \n",
       "SIZERN34= -3.6865272310442E-09 / [m] SI WFE coeff for Zernike term 34           \n",
       "SIZERN35= 2.13823036930043E-09 / [m] SI WFE coeff for Zernike term 35           \n",
       "APERNAME= 'MIRIM_FULL'         / SIAF aperture name                             \n",
       "GRATNG14= 'None    '           / MRS Grating for channels 1 and 4               \n",
       "GRATNG23= 'None    '           / MRS Grating for channels 2 and 3               \n",
       "FLATTYPE= '?       '           / Type of flat field to be used: all, one, princi\n",
       "CCCSTATE= 'open    '           / Contamination Control Cover state: open, closed\n",
       "HISTORY Created wavefront: wavelength=9.061e-06 m, diam=6.603 m                 \n",
       "HISTORY  using array size (1024, 1024)                                          \n",
       "HISTORY   Multiplied WF by phasor for Pupil plane: JWST Entrance Pupil          \n",
       "HISTORY   Propagating wavefront to Coordinate Inversion in y axis.              \n",
       "HISTORY Inverted axis direction for Y axes                                      \n",
       "HISTORY   Propagating wavefront to Rotation by 4.449700 degrees counter clockwis\n",
       "HISTORY e.                                                                      \n",
       "HISTORY Rotated by 4.45 degrees, CCW                                            \n",
       "HISTORY   Multiplied WF by phasor for Pupil plane: MIRI internal WFE at V2V3=(-7\n",
       "HISTORY .23,-6.26)', near ISIM13                                                \n",
       "HISTORY   Propagating wavefront to Detector plane: MIRI detector (108x108 pixels\n",
       "HISTORY , 0.111 arcsec / pix).                                                  \n",
       "HISTORY     Propagating w/ MFT: 0.0278 arcsec / pix     fov=42.354 lam/D    npix\n",
       "HISTORY =432                                                                    \n",
       "HISTORY Calculation completed in 2.968 seconds                                  \n",
       "HISTORY Created by POPPY version 0.9.2                                          "
      ]
     },
     "execution_count": 15,
     "metadata": {},
     "output_type": "execute_result"
    }
   ],
   "source": [
    "hdul[0].header"
   ]
  }
 ],
 "metadata": {
  "kernelspec": {
   "display_name": "Python 3",
   "language": "python",
   "name": "python3"
  },
  "language_info": {
   "codemirror_mode": {
    "name": "ipython",
    "version": 3
   },
   "file_extension": ".py",
   "mimetype": "text/x-python",
   "name": "python",
   "nbconvert_exporter": "python",
   "pygments_lexer": "ipython3",
   "version": "3.7.9"
  }
 },
 "nbformat": 4,
 "nbformat_minor": 4
}
