{
 "cells": [
  {
   "cell_type": "code",
   "execution_count": 1,
   "metadata": {},
   "outputs": [],
   "source": [
    "# Import the usual libraries\n",
    "import numpy as np\n",
    "import matplotlib\n",
    "import matplotlib.pyplot as plt\n",
    "#import matplotlib.patches as mpatches\n",
    "\n",
    "# Enable inline plotting\n",
    "%matplotlib inline"
   ]
  },
  {
   "cell_type": "code",
   "execution_count": 2,
   "metadata": {},
   "outputs": [],
   "source": [
    "# jedi 0.14.1 tab completion fails; will be fixed in 0.14.2\n",
    "import jedi\n",
    "if jedi.__version__ == '0.14.1':\n",
    "    %config Completer.use_jedi = False\n",
    "    \n",
    "# Progress bar\n",
    "from tqdm.auto import trange, tqdm"
   ]
  },
  {
   "cell_type": "code",
   "execution_count": 3,
   "metadata": {},
   "outputs": [],
   "source": [
    "import pynrc\n",
    "from pynrc import nircam_dark\n",
    "\n",
    "from astropy.io import fits"
   ]
  },
  {
   "cell_type": "markdown",
   "metadata": {},
   "source": [
    "# Initialize SCA Dark"
   ]
  },
  {
   "cell_type": "code",
   "execution_count": 4,
   "metadata": {},
   "outputs": [
    {
     "name": "stdout",
     "output_type": "stream",
     "text": [
      "[     pynrc:INFO] RAPID readout mode selected.\n",
      "[     pynrc:INFO] Setting nf=1, nd1=0, nd2=0, nd3=0.\n",
      "[     pynrc:INFO] Initializing SCA 485/A5\n"
     ]
    }
   ],
   "source": [
    "datadir='/Users/jarron/NIRCam/Data/CV3_Darks/'\n",
    "outdir='/Users/jarron/NIRCam/dark_analysis/CV3/'\n",
    "dark_data = nircam_dark(485, datadir, outdir)"
   ]
  },
  {
   "cell_type": "code",
   "execution_count": 5,
   "metadata": {},
   "outputs": [
    {
     "name": "stdout",
     "output_type": "stream",
     "text": [
      "[     pynrc:INFO] Generating initial super bias\n",
      "[     pynrc:INFO] Creating super dark ramp cube, updated super bias, and pixel mask info\n",
      "[     pynrc:INFO] Calculating dark slope image...\n",
      "[     pynrc:INFO] Opening updated super bias\n",
      "[     pynrc:INFO] Calculating average pixel ramps...\n"
     ]
    }
   ],
   "source": [
    "# Dark ramp/slope info\n",
    "\n",
    "# Get Super dark ramp (cube)\n",
    "dark_data.get_super_dark_ramp()\n",
    "\n",
    "# Calculate dark slope image\n",
    "dark_data.get_dark_slope_image()\n",
    "dark_data.get_super_bias_update()\n",
    "\n",
    "# Calculate pixel slope averages\n",
    "dark_data.get_pixel_slope_averages()\n",
    "\n",
    "# Delete super dark ramp to save memory\n",
    "del dark_data._super_dark_ramp\n",
    "dark_data._super_dark_ramp = None"
   ]
  },
  {
   "cell_type": "code",
   "execution_count": 6,
   "metadata": {
    "scrolled": false
   },
   "outputs": [
    {
     "name": "stdout",
     "output_type": "stream",
     "text": [
      "[     pynrc:INFO] Building CDS Noise dictionaries...\n",
      "[     pynrc:INFO]   Best fit excess variance model parameters: [1.41538086 7.78820259]\n",
      "[     pynrc:INFO] Calculating kTC Noise for active and reference pixels...\n",
      "[     pynrc:INFO] Building noise power spectrum dictionary...\n"
     ]
    }
   ],
   "source": [
    "# Calculate CDS Noise for various component \n",
    "# white noise, 1/f noise (correlated and independent), temporal and spatial\n",
    "dark_data.get_cds_dict()\n",
    "\n",
    "# Effective Noise\n",
    "dark_data.get_effective_noise()\n",
    "\n",
    "# Get kTC reset noise, IPC, and PPC values\n",
    "dark_data.get_ktc_noise()\n",
    "\n",
    "# Get the power spectrum information\n",
    "# Saved to pow_spec_dict['freq', 'ps_all', 'ps_corr', 'ps_ucorr']\n",
    "dark_data.get_power_spectrum(include_oh=False, calc_cds=True, mn_func=np.median, per_pixel=False)"
   ]
  },
  {
   "cell_type": "code",
   "execution_count": 7,
   "metadata": {},
   "outputs": [
    {
     "name": "stdout",
     "output_type": "stream",
     "text": [
      "[     pynrc:INFO] Calculating IPC and PPC kernels...\n",
      "[     pynrc:INFO]   IPC = 0.597% +/- 0.004%\n",
      "[     pynrc:INFO]   PPC = 0.123% +/- 0.010%\n",
      "[     pynrc:INFO] Deconvolving super dark and super bias images...\n"
     ]
    }
   ],
   "source": [
    "# Calculate IPC/PPC kernels\n",
    "dark_data.get_ipc(calc_ppc=True)\n",
    "# Deconvolve the super dark and super bias images\n",
    "dark_data.deconvolve_supers()"
   ]
  },
  {
   "cell_type": "code",
   "execution_count": 8,
   "metadata": {},
   "outputs": [
    {
     "name": "stdout",
     "output_type": "stream",
     "text": [
      "[     pynrc:INFO] Determining column variations (RTN)\n",
      "[     pynrc:INFO] Determining reference pixel behavior\n"
     ]
    }
   ],
   "source": [
    "# Get column variations\n",
    "dark_data.get_column_variations()\n",
    "# Create dictionary of reference pixel behavior\n",
    "dark_data.get_ref_pixel_noise()"
   ]
  },
  {
   "cell_type": "markdown",
   "metadata": {},
   "source": [
    "# Simulate Ramps"
   ]
  },
  {
   "cell_type": "code",
   "execution_count": 9,
   "metadata": {},
   "outputs": [],
   "source": [
    "from pynrc.simul.ngNRC import sim_dark_ramp, sim_image_ramp, sim_noise_data\n",
    "from pynrc.simul.ngNRC import gen_ramp_biases, gen_col_noise\n",
    "from pynrc.simul.ngNRC import add_ipc, add_ppc\n",
    "from pynrc.reduce.calib import broken_pink_powspec, ramp_resample"
   ]
  },
  {
   "cell_type": "code",
   "execution_count": 10,
   "metadata": {},
   "outputs": [],
   "source": [
    "from pynrc.simul.ngNRC import slope_to_ramps, simulate_detector_ramp"
   ]
  },
  {
   "cell_type": "code",
   "execution_count": 11,
   "metadata": {},
   "outputs": [
    {
     "name": "stdout",
     "output_type": "stream",
     "text": [
      "[     pynrc:INFO] RAPID readout mode selected.\n",
      "[     pynrc:INFO] Setting nf=1, nd1=0, nd2=0, nd3=0.\n",
      "[     pynrc:INFO] Initializing SCA 485/A5\n"
     ]
    }
   ],
   "source": [
    "det = pynrc.DetectorOps(detector=485, ngroup=108, nint=1)#, ypix=256, xpix=256, wind_mode='WINDOW')"
   ]
  },
  {
   "cell_type": "code",
   "execution_count": 12,
   "metadata": {},
   "outputs": [
    {
     "data": {
      "application/vnd.jupyter.widget-view+json": {
       "model_id": "15bf224fc52d48edab3caf0a07e27083",
       "version_major": 2,
       "version_minor": 0
      },
      "text/plain": [
       "HBox(children=(HTML(value=''), FloatProgress(value=0.0, max=2.0), HTML(value='')))"
      ]
     },
     "metadata": {},
     "output_type": "display_data"
    },
    {
     "data": {
      "application/vnd.jupyter.widget-view+json": {
       "model_id": "",
       "version_major": 2,
       "version_minor": 0
      },
      "text/plain": [
       "HBox(children=(HTML(value=''), FloatProgress(value=0.0, max=13.0), HTML(value='')))"
      ]
     },
     "metadata": {},
     "output_type": "display_data"
    },
    {
     "data": {
      "application/vnd.jupyter.widget-view+json": {
       "model_id": "",
       "version_major": 2,
       "version_minor": 0
      },
      "text/plain": [
       "HBox(children=(HTML(value=''), FloatProgress(value=0.0, max=13.0), HTML(value='')))"
      ]
     },
     "metadata": {},
     "output_type": "display_data"
    },
    {
     "name": "stdout",
     "output_type": "stream",
     "text": [
      "\n"
     ]
    }
   ],
   "source": [
    "import datetime\n",
    "pynrc.setup_logging('WARN', verbose=False)\n",
    "\n",
    "dir_out = '/Users/jarron/NIRCam/Data/Sim_Darks/485/'\n",
    "nfiles = 2\n",
    "\n",
    "for i in trange(nfiles):\n",
    "    now = datetime.datetime.now().isoformat()[:-7]\n",
    "    file_out = dir_out + f'NRCNRCALONG-DARK-485_SE_{now}.fits'\n",
    "    file_out = file_out.replace(':', 'h', 1)\n",
    "    file_out = file_out.replace(':', 'm', 1)\n",
    "\n",
    "    slope_to_ramps(det, dark_data, DMS=False, return_results=False, file_out=file_out)"
   ]
  },
  {
   "cell_type": "code",
   "execution_count": null,
   "metadata": {},
   "outputs": [],
   "source": []
  },
  {
   "cell_type": "code",
   "execution_count": 63,
   "metadata": {},
   "outputs": [
    {
     "data": {
      "application/vnd.jupyter.widget-view+json": {
       "model_id": "",
       "version_major": 2,
       "version_minor": 0
      },
      "text/plain": [
       "HBox(children=(FloatProgress(value=0.0, max=10.0), HTML(value='')))"
      ]
     },
     "metadata": {},
     "output_type": "display_data"
    },
    {
     "name": "stderr",
     "output_type": "stream",
     "text": [
      "[     pynrc:WARNING] Max ramp time 6.9 is less than ramp_avg_tf. Not applying ramp_avg_ch.\n"
     ]
    },
    {
     "name": "stdout",
     "output_type": "stream",
     "text": [
      "[     pynrc:INFO] Generating dark current ramp...\n",
      "[     pynrc:INFO] Generating read noise...\n",
      "[     pynrc:INFO] Adding correlated pink noise...\n",
      "[     pynrc:INFO] Adding uncorrelated pink noise...\n",
      "[     pynrc:INFO] Adding ACN noise...\n"
     ]
    }
   ],
   "source": [
    "data = simulate_detector_ramp(det, dark_data, im_slope=None, out_ADU=False)"
   ]
  },
  {
   "cell_type": "code",
   "execution_count": 46,
   "metadata": {},
   "outputs": [],
   "source": [
    "# Detector setup and info\n",
    "det = self.det\n",
    "\n",
    "nchan = det.nout\n",
    "ny, nx = (det.ypix, det.xpix)\n",
    "\n",
    "# Super bias and darks\n",
    "super_bias = self.super_bias_deconv # DN\n",
    "super_dark = self.super_dark_deconv # DN/sec\n",
    "\n",
    "# Scan direction info\n",
    "ssd = self.det.same_scan_direction\n",
    "rsd = self.det.reverse_scan_direction\n",
    "\n",
    "# IPC/PPC kernel information\n",
    "k_ipc = self.kernel_ipc\n",
    "k_ppc = self.kernel_ppc\n",
    "\n",
    "# Noise info\n",
    "cds_dict = self.cds_act_dict\n",
    "keys = ['spat_det', 'spat_pink_corr', 'spat_pink_uncorr']\n",
    "cds_vals = [np.sqrt(np.mean(cds_dict[k]**2, axis=0)) for k in keys]\n",
    "# CDS Noise values\n",
    "rd_noise_cds, c_pink_cds, u_pink_cds = cds_vals\n",
    "# Noise per frame\n",
    "rn, cp, up = cds_vals / np.sqrt(2)\n",
    "\n",
    "# kTC Reset Noise\n",
    "ktc_noise = self.ktc_noise\n",
    "\n",
    "# Detector Gain\n",
    "gain = det.gain\n",
    "\n",
    "# Power spectrum for correlated noise\n",
    "freq = self.pow_spec_dict['freq']\n",
    "scales = self._pow_spec_dict['ps_corr_scale']\n",
    "# pcorr_fit = broken_pink_powspec(freq, scales)\n",
    "\n",
    "# Reference info\n",
    "ref_info = self.det.ref_info\n",
    "ref_ratio = np.mean(self.cds_ref_dict['spat_det'] / self.cds_act_dict['spat_det'])"
   ]
  },
  {
   "cell_type": "code",
   "execution_count": 76,
   "metadata": {},
   "outputs": [
    {
     "name": "stdout",
     "output_type": "stream",
     "text": [
      "[     pynrc:INFO] Initializing SCA 481/A1\n"
     ]
    }
   ],
   "source": [
    "det_test = pynrc.DetectorOps(xpix=100,ypix=100,x0=10,y0=450,wind_mode='WINDOW')"
   ]
  },
  {
   "cell_type": "code",
   "execution_count": 99,
   "metadata": {},
   "outputs": [
    {
     "data": {
      "text/plain": [
       "False"
      ]
     },
     "execution_count": 99,
     "metadata": {},
     "output_type": "execute_result"
    }
   ],
   "source": [
    "det_test.reverse_scan_direction"
   ]
  },
  {
   "cell_type": "code",
   "execution_count": null,
   "metadata": {},
   "outputs": [],
   "source": [
    "det_test.ref_info"
   ]
  },
  {
   "cell_type": "code",
   "execution_count": 101,
   "metadata": {},
   "outputs": [
    {
     "data": {
      "text/plain": [
       "{'master_bias_mean': 11793.712347773406,\n",
       " 'master_bias_std': 17.48879600483141,\n",
       " 'master_bias_f2f': 27.2516115791947,\n",
       " 'amp_offset_mean': array([ 456.05125832,    2.17391779, -545.37722789, -435.528466  ]),\n",
       " 'amp_offset_std': array([6.62611489, 6.46751904, 5.39775639, 5.11988701]),\n",
       " 'amp_offset_f2f': array([23.2400516 , 20.53304719, 11.29430156, 11.73309175]),\n",
       " 'master_amp_cf': array([[-6.66178200e+02, -1.86088687e+03, -2.37350164e+03,\n",
       "         -3.26236006e+02],\n",
       "        [ 9.51548949e-02,  1.57970682e-01,  1.55008394e-01,\n",
       "         -9.26701087e-03]]),\n",
       " 'amp_even_col_offset': array([-94.82853706, 652.50195607, 571.35198555, 408.98628419]),\n",
       " 'amp_odd_col_offset': array([  94.3076215 , -652.95998228, -572.39932551, -414.77873753]),\n",
       " 'amp_ref_inst_f2f': array([0.95398145, 1.26864837, 1.10981051, 0.93937857])}"
      ]
     },
     "execution_count": 101,
     "metadata": {},
     "output_type": "execute_result"
    }
   ],
   "source": [
    "ref_dict"
   ]
  },
  {
   "cell_type": "code",
   "execution_count": 97,
   "metadata": {
    "scrolled": false
   },
   "outputs": [
    {
     "data": {
      "text/plain": [
       "(0, 20)"
      ]
     },
     "execution_count": 97,
     "metadata": {},
     "output_type": "execute_result"
    },
    {
     "data": {
      "image/png": "[encoded data removed]",
      "text/plain": [
       "<Figure size 576x432 with 1 Axes>"
      ]
     },
     "metadata": {
      "needs_background": "light"
     },
     "output_type": "display_data"
    }
   ],
   "source": [
    "plt.plot(test[1])\n",
    "plt.plot(test[1,1:])\n",
    "plt.ylim([0,20])"
   ]
  },
  {
   "cell_type": "code",
   "execution_count": 71,
   "metadata": {},
   "outputs": [],
   "source": [
    "res = np.random.poisson(10, (3,50,50))#.astype('float')"
   ]
  },
  {
   "cell_type": "code",
   "execution_count": 72,
   "metadata": {},
   "outputs": [
    {
     "name": "stdout",
     "output_type": "stream",
     "text": [
      "CPU times: user 57 µs, sys: 3 µs, total: 60 µs\n",
      "Wall time: 61.8 µs\n"
     ]
    }
   ],
   "source": [
    "%time res = np.cumsum(res, axis=0, out=res)"
   ]
  },
  {
   "cell_type": "code",
   "execution_count": 49,
   "metadata": {},
   "outputs": [
    {
     "data": {
      "text/plain": [
       "[<matplotlib.lines.Line2D at 0x7fe48d4f8710>]"
      ]
     },
     "execution_count": 49,
     "metadata": {},
     "output_type": "execute_result"
    },
    {
     "data": {
      "image/png": "[encoded data removed]",
      "text/plain": [
       "<Figure size 576x432 with 1 Axes>"
      ]
     },
     "metadata": {
      "needs_background": "light"
     },
     "output_type": "display_data"
    }
   ],
   "source": [
    "plt.plot(data[:,100,100])"
   ]
  },
  {
   "cell_type": "code",
   "execution_count": 38,
   "metadata": {},
   "outputs": [],
   "source": [
    "data /= gain"
   ]
  },
  {
   "cell_type": "code",
   "execution_count": 31,
   "metadata": {},
   "outputs": [
    {
     "data": {
      "text/plain": [
       "(108, 1, 2048)"
      ]
     },
     "execution_count": 31,
     "metadata": {},
     "output_type": "execute_result"
    }
   ],
   "source": [
    "col_noise.shape"
   ]
  },
  {
   "cell_type": "code",
   "execution_count": 16,
   "metadata": {},
   "outputs": [
    {
     "data": {
      "text/plain": [
       "<matplotlib.image.AxesImage at 0x7fe468811a50>"
      ]
     },
     "execution_count": 16,
     "metadata": {},
     "output_type": "execute_result"
    },
    {
     "data": {
      "image/png": "[encoded data removed]",
      "text/plain": [
       "<Figure size 576x432 with 1 Axes>"
      ]
     },
     "metadata": {
      "needs_background": "light"
     },
     "output_type": "display_data"
    }
   ],
   "source": [
    "plt.imshow(data_noise[50,0:100,0:100])"
   ]
  },
  {
   "cell_type": "code",
   "execution_count": 17,
   "metadata": {},
   "outputs": [],
   "source": [
    "super_bias = self.super_bias_deconv\n",
    "super_dark = self.super_dark_deconv\n",
    "\n",
    "k_ipc = self.kernel_ipc\n",
    "k_ppc = self.kernel_ppc\n",
    "# Scan direction info\n",
    "ssd = self.det.same_scan_direction\n",
    "rsd = self.det.reverse_scan_direction\n",
    "# Average shape of ramp\n",
    "ramp_avg_ch = self.dark_ramp_dict['ramp_avg_ch']\n",
    "\n",
    "gain = self.det.gain\n",
    "ktc_noise = self.ktc_noise # Units of DN\n",
    "\n",
    "# Reference info\n",
    "ref_info = self.det.ref_info\n",
    "ref_ratio = np.mean(self.cds_ref_dict['spat_det'] / self.cds_act_dict['spat_det'])\n",
    "\n"
   ]
  },
  {
   "cell_type": "code",
   "execution_count": 39,
   "metadata": {},
   "outputs": [],
   "source": []
  },
  {
   "cell_type": "code",
   "execution_count": null,
   "metadata": {},
   "outputs": [],
   "source": [
    "from pynrc.simul.ngNRC import gen_col_noise, add_col_noise, gen_ramp_biases\n",
    "from pynrc.simul.ngNRC import pink_noise, fft_noise, sim_noise_data, gen_dark_ramp, sim_dark_ramp\n",
    "\n"
   ]
  },
  {
   "cell_type": "code",
   "execution_count": null,
   "metadata": {},
   "outputs": [],
   "source": [
    "pbar = tqdm(total=10, leave=False)\n",
    "\n",
    "# Initialize data with dark current \n",
    "pbar.set_description(\"Dark Current\")\n",
    "data = sim_dark_ramp(det, super_dark, gain=gain, ramp_avg_ch=ramp_avg_ch, ref_info=ref_info)\n",
    "pbar.update(1)\n",
    "\n",
    "# Add super bias\n",
    "pbar.set_description(\"Super Bias\")\n",
    "data += super_bias\n",
    "pbar.update(1)\n",
    "\n",
    "# Add kTC noise:\n",
    "pbar.set_description(\"kTC Noise\")\n",
    "ktc_offset = np.random.normal(scale=ktc_noise, size=(ny,nx))\n",
    "data += ktc_offset\n",
    "pbar.update(1)\n",
    "\n",
    "# Apply IPC\n",
    "pbar.set_description(\"Include IPC\")\n",
    "data = add_ipc(data, kernel=k_ipc)\n",
    "pbar.update(1)\n",
    "\n",
    "pbar.set_description(\"Detector Noise\")\n",
    "data += sim_noise_data(det, rd_noise=rn, u_pink=up, c_pink=cp*1.2,\n",
    "                       acn=1, pow_spec_corr=pcorr_fit, ref_ratio=ref_ratio,\n",
    "                       same_scan_direction=ssd, reverse_scan_direction=rsd)\n",
    "pbar.update(1)\n",
    "\n",
    "# Add reference offsets\n",
    "pbar.set_description(\"Ref Pixel Instability\")\n",
    "ref_dict = self._ref_pixel_dict\n",
    "data += gen_ramp_biases(ref_dict, data_shape=data.shape, ref_border=det.ref_info)\n",
    "pbar.update(1)\n",
    "\n",
    "# Add column noise\n",
    "pbar.set_description(\"Column Noise\")\n",
    "col_noise = gen_col_noise(self.column_variations, self.column_prob_bad, nz=nz, nx=nx)\n",
    "data += col_noise\n",
    "pbar.update(1)\n",
    "\n",
    "# Apply PPC\n",
    "pbar.set_description(\"Include PPC\")\n",
    "data = add_ppc(data, nchans=nchan, kernel=k_ppc, in_place=True,\n",
    "               same_scan_direction=ssd, reverse_scan_direction=rsd)\n",
    "pbar.update(1)\n",
    "\n",
    "# Convert to 16-bit int\n",
    "data[data < 0] = 0\n",
    "data[data >= 2**16] = 2**16 - 1\n",
    "data = data.astype('uint16')\n",
    "\n",
    "# Then back to float\n",
    "data = data.astype(np.float)\n",
    "\n",
    "# Ref pixel correction\n",
    "pbar.set_description(\"Ref Pixel Correction\")\n",
    "data -= super_bias\n",
    "data = reffix_hxrg(data, **kw_reffix)\n",
    "pbar.update(1)\n",
    "\n",
    "pbar.set_description(\"Calc Power Spectrum\")\n",
    "ps, _, _ = get_power_spec(data, nchan=nchan, calc_cds=True, kw_powspec=kw_powspec)\n",
    "pbar.update(1)\n",
    "\n",
    "ps_arr.append(ps)\n",
    "pbar.close()\n"
   ]
  },
  {
   "cell_type": "code",
   "execution_count": null,
   "metadata": {},
   "outputs": [],
   "source": []
  },
  {
   "cell_type": "code",
   "execution_count": 4,
   "metadata": {},
   "outputs": [],
   "source": [
    "from pynrc import nrc_utils, robust\n",
    "\n",
    "from pynrc.detops import create_detops\n",
    "from pynrc.reduce.ref_pixels import reffix_hxrg, channel_smooth_savgol, channel_averaging\n",
    "from pynrc.nrc_utils import jl_poly_fit, jl_poly, hist_indices\n",
    "from pynrc.simul.ngNRC import gen_col_noise, add_col_noise, gen_ramp_biases\n",
    "from pynrc.simul.ngNRC import pink_noise, fft_noise, sim_noise_data, gen_dark_ramp, sim_dark_ramp\n",
    "from pynrc.simul.ngNRC import add_ipc, add_ppc\n",
    "\n",
    "from pynrc.reduce.calib import get_ipc_kernel, ipc_deconvolve, ppc_deconvolve\n",
    "from pynrc.reduce.calib import get_fits_data, gen_super_bias, gen_super_dark\n",
    "from pynrc.reduce.calib import chisqr_red, ramp_derivative, gen_col_variations\n",
    "from pynrc.reduce.calib import gen_ref_dict#, get_bias_offsets, get_oddeven_offsets, get_ref_instability\n",
    "from pynrc.reduce.calib import nircam_dark, plot_dark_histogram\n",
    "from pynrc.reduce.calib import pow_spec_ramp, fit_corr_powspec, broken_pink_powspec\n",
    "from pynrc.reduce.calib import get_power_spec, get_freq_array"
   ]
  },
  {
   "cell_type": "code",
   "execution_count": 5,
   "metadata": {},
   "outputs": [],
   "source": [
    "import os, gzip, json\n",
    "from copy import deepcopy\n",
    "from astropy.io import fits\n",
    "from scipy import ndimage"
   ]
  },
  {
   "cell_type": "code",
   "execution_count": 4,
   "metadata": {},
   "outputs": [
    {
     "name": "stdout",
     "output_type": "stream",
     "text": [
      "[     pynrc:INFO] Initializing SCA 485/A5\n"
     ]
    }
   ],
   "source": [
    "# Initialize\n",
    "datadir='/Users/jarron/NIRCam/Data/CV3_Darks/'\n",
    "outdir='/Users/jarron/NIRCam/dark_analysis/CV3/'\n",
    "dark_data = nircam_dark(485, datadir, outdir)"
   ]
  },
  {
   "cell_type": "code",
   "execution_count": null,
   "metadata": {},
   "outputs": [],
   "source": []
  }
 ],
 "metadata": {
  "kernelspec": {
   "display_name": "Python 3",
   "language": "python",
   "name": "python3"
  },
  "language_info": {
   "codemirror_mode": {
    "name": "ipython",
    "version": 3
   },
   "file_extension": ".py",
   "mimetype": "text/x-python",
   "name": "python",
   "nbconvert_exporter": "python",
   "pygments_lexer": "ipython3",
   "version": "3.7.9"
  }
 },
 "nbformat": 4,
 "nbformat_minor": 2
}
