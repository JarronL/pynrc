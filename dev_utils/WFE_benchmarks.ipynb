{
 "cells": [
  {
   "cell_type": "code",
   "execution_count": 1,
   "metadata": {},
   "outputs": [],
   "source": [
    "# Import the usual libraries\n",
    "import numpy as np\n",
    "import matplotlib\n",
    "import matplotlib.pyplot as plt\n",
    "#import matplotlib.patches as mpatches\n",
    "\n",
    "# Enable inline plotting\n",
    "%matplotlib inline\n",
    "\n",
    "#from IPython.display import display, Latex, clear_output"
   ]
  },
  {
   "cell_type": "code",
   "execution_count": 2,
   "metadata": {},
   "outputs": [],
   "source": [
    "import pynrc\n",
    "from pynrc import nrc_utils\n",
    "from pynrc.nrc_utils import webbpsf, poppy\n",
    "from pynrc.testing import perform_benchmarks"
   ]
  },
  {
   "cell_type": "code",
   "execution_count": 3,
   "metadata": {},
   "outputs": [
    {
     "name": "stdout",
     "output_type": "stream",
     "text": [
      "[     pynrc:INFO] Initializing SCA 481/A1\n",
      "[     pynrc:INFO] Updating PSF coeff with fov_pix=33 and oversample=4\n"
     ]
    }
   ],
   "source": [
    "nrc = pynrc.NIRCam()"
   ]
  },
  {
   "cell_type": "code",
   "execution_count": 4,
   "metadata": {},
   "outputs": [],
   "source": [
    "# from pynrc.nrc_utils import read_filter, gen_psf_coeff, gen_image_coeff, gen_webbpsf_psf\n",
    "# from pynrc.nrc_utils import gen_webbpsf_siwfe, field_coeff_resid, field_coeff_func\n",
    "# from pynrc.nrc_utils import Tel2Sci_info, NIRCam_V2V3_limits, radial_std\n",
    "# from pynrc.nrc_utils import jl_poly_fit, jl_poly"
   ]
  },
  {
   "cell_type": "code",
   "execution_count": 5,
   "metadata": {},
   "outputs": [],
   "source": [
    "# # Interpolation and extrapolation\n",
    "# from scipy.interpolate import griddata, RegularGridInterpolator\n",
    "# from scipy.ndimage import rotate"
   ]
  },
  {
   "cell_type": "code",
   "execution_count": 6,
   "metadata": {},
   "outputs": [],
   "source": [
    "# pySIAF stuff for plotting\n",
    "import pysiaf\n",
    "from pysiaf.siaf import Siaf\n",
    "from pysiaf.siaf import plot_main_apertures\n",
    "\n",
    "siaf = Siaf('NIRCam')\n",
    "siaf.generate_toc()"
   ]
  },
  {
   "cell_type": "code",
   "execution_count": 7,
   "metadata": {},
   "outputs": [],
   "source": [
    "from astropy.table import Table"
   ]
  },
  {
   "cell_type": "markdown",
   "metadata": {},
   "source": [
    "# Benchmarks"
   ]
  },
  {
   "cell_type": "code",
   "execution_count": 12,
   "metadata": {},
   "outputs": [],
   "source": [
    "kwargs = {\n",
    "    'fov_pix': 129,\n",
    "    'oversample': 4,\n",
    "    'pupil': None,\n",
    "    'filter': 'F430M',\n",
    "}\n",
    "\n",
    "# kwargs = {\n",
    "#     'fov_pix': 320,\n",
    "#     'oversample': 2,\n",
    "#     'pupil': 'CIRCLYOT',\n",
    "#     'filter': 'F444W',\n",
    "# }"
   ]
  },
  {
   "cell_type": "code",
   "execution_count": 13,
   "metadata": {},
   "outputs": [
    {
     "name": "stdout",
     "output_type": "stream",
     "text": [
      "Took 0.68 seconds to init WebbPSF\n",
      "Took 1.58 seconds to generate WebbPSF PSF\n"
     ]
    }
   ],
   "source": [
    "tdict = perform_benchmarks(do_webbpsf_only=True, **kwargs)"
   ]
  },
  {
   "cell_type": "code",
   "execution_count": 14,
   "metadata": {
    "scrolled": false
   },
   "outputs": [
    {
     "name": "stdout",
     "output_type": "stream",
     "text": [
      "Took 9.55 seconds to generate pyNRC coefficients\n"
     ]
    },
    {
     "name": "stderr",
     "output_type": "stream",
     "text": [
      "[     pynrc:WARNING] Generating WFE Drift coefficients. This may take some time...\n"
     ]
    },
    {
     "name": "stdout",
     "output_type": "stream",
     "text": [
      "WFE Drift: 0 nm\n",
      "WFE Drift: 1 nm\n",
      "WFE Drift: 2 nm\n",
      "WFE Drift: 5 nm\n",
      "WFE Drift: 10 nm\n",
      "WFE Drift: 20 nm\n",
      "WFE Drift: 40 nm\n",
      "Took 76.04 seconds to generate WFE Drift coefficients\n"
     ]
    },
    {
     "name": "stderr",
     "output_type": "stream",
     "text": [
      "[     pynrc:WARNING] Generating field-dependent coefficients. This may take some time...\n"
     ]
    },
    {
     "name": "stdout",
     "output_type": "stream",
     "text": [
      "V2/V3 Coordinates and det pixel (sci) on NRCA5/NRCA5_FULL: (2.40, -8.08), (95.6, 1157.3)V2/V3 Coordinates and det pixel (sci) on NRCA5/NRCA5_FULL: (0.45, -8.39), (1957.9, 865.5)V2/V3 Coordinates and det pixel (sci) on NRCA5/NRCA5_FULL: (1.60, -9.22), (872.6, 83.1)V2/V3 Coordinates and det pixel (sci) on NRCA5/NRCA5_FULL: (0.87, -8.78), (1561.1, 501.2)V2/V3 Coordinates and det pixel (sci) on NRCA5/NRCA5_FULL: (0.88, -7.68), (1558.1, 1541.3)V2/V3 Coordinates and det pixel (sci) on NRCA5/NRCA5_FULL: (1.28, -7.26), (1176.0, 1941.6)\n",
      "\n",
      "\n",
      "\n",
      "\n",
      "\n",
      "V2/V3 Coordinates and det pixel (sci) on NRCA5/NRCA5_FULL: (2.00, -8.79), (488.4, 482.3)\n",
      "V2/V3 Coordinates and det pixel (sci) on NRCA5/NRCA5_FULL: (1.99, -7.68), (494.2, 1542.1)\n",
      "V2/V3 Coordinates and det pixel (sci) on NRCA5/NRCA5_FULL: (1.16, -8.60), (1287.8, 664.0)\n",
      "V2/V3 Coordinates and det pixel (sci) on NRCA5/NRCA5_FULL: (0.44, -9.22), (1958.2, 82.1)\n",
      "V2/V3 Coordinates and det pixel (sci) on NRCA5/NRCA5_FULL: (2.43, -9.21), (89.3, 82.8)\n",
      "V2/V3 Coordinates and det pixel (sci) on NRCA5/NRCA5_FULL: (2.40, -7.26), (95.3, 1939.6)\n",
      "V2/V3 Coordinates and det pixel (sci) on NRCA5/NRCA5_FULL: (0.52, -7.32), (1902.4, 1881.4)\n",
      "V2/V3 Coordinates and det pixel (sci) on NRCA5/NRCA5_FULL: (0.33, -9.33), (2063.9, -14.9)\n",
      "V2/V3 Coordinates and det pixel (sci) on NRCA5/NRCA5_FULL: (2.54, -9.33), (-14.6, -28.5)\n",
      "V2/V3 Coordinates and det pixel (sci) on NRCA5/NRCA5_FULL: (0.33, -7.13), (2086.5, 2063.8)\n",
      "V2/V3 Coordinates and det pixel (sci) on NRCA5/NRCA5_FULL: (2.54, -7.13), (-42.8, 2065.9)\n"
     ]
    },
    {
     "name": "stderr",
     "output_type": "stream",
     "text": [
      "[     pynrc:WARNING] Interpolating coefficient residuals onto regular grid...\n",
      "[     pynrc:WARNING] Done.\n"
     ]
    },
    {
     "name": "stdout",
     "output_type": "stream",
     "text": [
      "Took 203.89 seconds to generate WFE Field coefficients\n",
      "Took 0.47 seconds to generate pynrc PSF\n"
     ]
    }
   ],
   "source": [
    "tdict = perform_benchmarks(do_webbpsf=False, **kwargs)"
   ]
  },
  {
   "cell_type": "code",
   "execution_count": 15,
   "metadata": {
    "scrolled": true
   },
   "outputs": [
    {
     "name": "stdout",
     "output_type": "stream",
     "text": [
      "Took 1.47 seconds to generate pyNRC coefficients\n",
      "Took 2.58 seconds to generate WFE Drift coefficients\n",
      "Took 5.64 seconds to generate WFE Field coefficients\n",
      "Took 0.47 seconds to generate pynrc PSF\n"
     ]
    }
   ],
   "source": [
    "tdict = perform_benchmarks(do_webbpsf=False, **kwargs)"
   ]
  },
  {
   "cell_type": "code",
   "execution_count": null,
   "metadata": {},
   "outputs": [],
   "source": []
  }
 ],
 "metadata": {
  "file_extension": ".py",
  "kernelspec": {
   "display_name": "Python 3",
   "language": "python",
   "name": "python3"
  },
  "language_info": {
   "codemirror_mode": {
    "name": "ipython",
    "version": 3
   },
   "file_extension": ".py",
   "mimetype": "text/x-python",
   "name": "python",
   "nbconvert_exporter": "python",
   "pygments_lexer": "ipython3",
   "version": "3.7.9"
  },
  "mimetype": "text/x-python",
  "name": "python",
  "npconvert_exporter": "python",
  "pygments_lexer": "ipython3",
  "version": 3
 },
 "nbformat": 4,
 "nbformat_minor": 2
}
