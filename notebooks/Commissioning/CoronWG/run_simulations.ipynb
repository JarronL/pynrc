{
 "cells": [
  {
   "cell_type": "code",
   "execution_count": 1,
   "id": "possible-category",
   "metadata": {},
   "outputs": [],
   "source": [
    "# Import the usual libraries\n",
    "import numpy as np\n",
    "import matplotlib\n",
    "import matplotlib.pyplot as plt\n",
    "\n",
    "# Enable inline plotting at lower left\n",
    "%matplotlib inline"
   ]
  },
  {
   "cell_type": "code",
   "execution_count": 2,
   "id": "sophisticated-track",
   "metadata": {},
   "outputs": [
    {
     "name": "stdout",
     "output_type": "stream",
     "text": [
      "pyNRC log messages of level WARN and above will be shown.\n",
      "pyNRC log outputs will be directed to the screen.\n"
     ]
    }
   ],
   "source": [
    "import coron_wg\n",
    "from tqdm.auto import trange, tqdm\n",
    "\n",
    "filt, mask, pupil = ('F430M', 'MASK430R', 'CIRCLYOT')"
   ]
  },
  {
   "cell_type": "code",
   "execution_count": null,
   "id": "framed-multimedia",
   "metadata": {},
   "outputs": [],
   "source": [
    "# For Best WFE, cycle through jitters and tacq\n",
    "for imode_jitt in trange(4, leave=False):\n",
    "    coron_wg.run_obs(filt, mask, pupil, imode=0, imode_jitt=imode_jitt)"
   ]
  },
  {
   "cell_type": "code",
   "execution_count": null,
   "id": "violent-extreme",
   "metadata": {},
   "outputs": [],
   "source": [
    "# For Nominal WFE, cycle through all jitters and tacq\n",
    "for imode_jitt in trange(4, leave=False):\n",
    "    coron_wg.run_obs(filt, mask, pupil, imode=1, imode_jitt=imode_jitt)"
   ]
  },
  {
   "cell_type": "code",
   "execution_count": null,
   "id": "determined-bishop",
   "metadata": {},
   "outputs": [],
   "source": [
    "# For Requirements WFE, cycle through all jitters and tacq\n",
    "for imode_jitt in trange(4, leave=False):\n",
    "    coron_wg.run_obs(filt, mask, pupil, imode=2, imode_jitt=imode_jitt)"
   ]
  },
  {
   "cell_type": "code",
   "execution_count": null,
   "id": "strong-wireless",
   "metadata": {},
   "outputs": [],
   "source": []
  },
  {
   "cell_type": "code",
   "execution_count": null,
   "id": "heavy-gabriel",
   "metadata": {},
   "outputs": [],
   "source": []
  }
 ],
 "metadata": {
  "kernelspec": {
   "display_name": "Python 3",
   "language": "python",
   "name": "python3"
  },
  "language_info": {
   "codemirror_mode": {
    "name": "ipython",
    "version": 3
   },
   "file_extension": ".py",
   "mimetype": "text/x-python",
   "name": "python",
   "nbconvert_exporter": "python",
   "pygments_lexer": "ipython3",
   "version": "3.7.9"
  }
 },
 "nbformat": 4,
 "nbformat_minor": 5
}
