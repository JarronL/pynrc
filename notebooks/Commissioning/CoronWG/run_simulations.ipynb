{
 "cells": [
  {
   "cell_type": "code",
   "execution_count": null,
   "id": "possible-category",
   "metadata": {},
   "outputs": [],
   "source": [
    "# Import the usual libraries\n",
    "import numpy as np\n",
    "import matplotlib\n",
    "import matplotlib.pyplot as plt\n",
    "\n",
    "# Enable inline plotting at lower left\n",
    "%matplotlib inline"
   ]
  },
  {
   "cell_type": "code",
   "execution_count": null,
   "id": "sophisticated-track",
   "metadata": {},
   "outputs": [],
   "source": [
    "import coron_wg\n",
    "from tqdm.auto import trange, tqdm\n",
    "\n",
    "filt, mask, pupil = ('F335M', 'MASK335R', 'CIRCLYOT')"
   ]
  },
  {
   "cell_type": "code",
   "execution_count": null,
   "id": "described-sleeping",
   "metadata": {},
   "outputs": [],
   "source": [
    "import os\n",
    "\n",
    "# Update output directories\n",
    "coron_wg.fig_dir           = coron_wg.base_dir + 'output_M335R/'\n",
    "coron_wg.contrast_maps_dir = coron_wg.base_dir + 'contrast_maps_M335R/'\n",
    "\n",
    "for path in [coron_wg.fig_dir, coron_wg.contrast_maps_dir]:\n",
    "    if not os.path.isdir(path):\n",
    "        os.makedirs(path)\n",
    "        print(f'Creating: {path}')\n",
    "    else:\n",
    "        print(f'Path alreayd exists: {path}')"
   ]
  },
  {
   "cell_type": "code",
   "execution_count": null,
   "id": "nasty-receptor",
   "metadata": {
    "scrolled": false
   },
   "outputs": [],
   "source": [
    "# For Best WFE, cycle through jitters, tacq, and IEC scenarios\n",
    "for imode_jitt in trange(4, leave=False, desc='Jitter/TACQ'):\n",
    "    for imode_iec in trange(3, leave=False, desc='IEC'):\n",
    "        coron_wg.run_obs(filt, mask, pupil, imode=0, imode_iec=imode_iec, imode_jitt=imode_jitt)"
   ]
  },
  {
   "cell_type": "code",
   "execution_count": null,
   "id": "violent-extreme",
   "metadata": {},
   "outputs": [],
   "source": [
    "# For Nominal WFE, cycle through jitters, tacq, and IEC scenarios\n",
    "for imode_jitt in trange(4, leave=False, desc='Jitter/TACQ'):\n",
    "    for imode_iec in trange(3, leave=False, desc='IEC'):\n",
    "        coron_wg.run_obs(filt, mask, pupil, imode=1, imode_iec=imode_iec, imode_jitt=imode_jitt)"
   ]
  },
  {
   "cell_type": "code",
   "execution_count": null,
   "id": "determined-bishop",
   "metadata": {},
   "outputs": [],
   "source": [
    "# For Requirements WFE, cycle through jitters, tacq, and IEC scenarios\n",
    "for imode_jitt in trange(4, leave=False, desc='Jitter/TACQ'):\n",
    "    for imode_iec in trange(3, leave=False, desc='IEC'):\n",
    "        coron_wg.run_obs(filt, mask, pupil, imode=2, imode_iec=imode_iec, imode_jitt=imode_jitt)"
   ]
  },
  {
   "cell_type": "code",
   "execution_count": null,
   "id": "strong-wireless",
   "metadata": {},
   "outputs": [],
   "source": []
  },
  {
   "cell_type": "code",
   "execution_count": null,
   "id": "dated-secretariat",
   "metadata": {},
   "outputs": [],
   "source": [
    "# For Best WFE, cycle through jitters and tacq\n",
    "for imode in trange(3, desc='WFE Scenarios'):\n",
    "    for imode_jitt in trange(4, leave=False, desc='Jitter/TACQ'):\n",
    "        for imode_iec in trange(3, leave=False, desc='IEC'):\n",
    "            coron_wg.run_obs(filt, mask, pupil, imode=2, imode_iec=imode_iec, imode_jitt=imode_jitt)"
   ]
  },
  {
   "cell_type": "code",
   "execution_count": null,
   "id": "smart-edition",
   "metadata": {},
   "outputs": [],
   "source": []
  }
 ],
 "metadata": {
  "kernelspec": {
   "display_name": "Python 3",
   "language": "python",
   "name": "python3"
  },
  "language_info": {
   "codemirror_mode": {
    "name": "ipython",
    "version": 3
   },
   "file_extension": ".py",
   "mimetype": "text/x-python",
   "name": "python",
   "nbconvert_exporter": "python",
   "pygments_lexer": "ipython3",
   "version": "3.7.9"
  }
 },
 "nbformat": 4,
 "nbformat_minor": 5
}
