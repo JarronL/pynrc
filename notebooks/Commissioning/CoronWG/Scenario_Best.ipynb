{
 "cells": [
  {
   "cell_type": "code",
   "execution_count": 21,
   "id": "japanese-dayton",
   "metadata": {},
   "outputs": [],
   "source": [
    "# Import the usual libraries\n",
    "import numpy as np\n",
    "import matplotlib\n",
    "import matplotlib.pyplot as plt\n",
    "\n",
    "# Enable inline plotting at lower left\n",
    "%matplotlib inline"
   ]
  },
  {
   "cell_type": "code",
   "execution_count": 2,
   "id": "green-serum",
   "metadata": {},
   "outputs": [
    {
     "name": "stdout",
     "output_type": "stream",
     "text": [
      "pyNRC log messages of level WARN and above will be shown.\n",
      "pyNRC log outputs will be directed to the screen.\n"
     ]
    }
   ],
   "source": [
    "import pynrc\n",
    "from pynrc import nrc_utils\n",
    "\n",
    "from pynrc.maths.image_manip import fourier_imshift, fshift, frebin\n",
    "from pynrc.maths.coords import rtheta_to_xy, xy_to_rtheta, dist_image\n",
    "from pynrc.nb_funcs import plot_hdulist\n",
    "from pynrc.nrc_utils import radial_std, pad_or_cut_to_size, align_LSQ\n",
    "\n",
    "from webbpsf_ext.opds import OPDFile_to_HDUList\n",
    "from webbpsf_ext.webbpsf_ext_core import nrc_mask_trans\n",
    "\n",
    "from astropy.io import fits\n",
    "\n",
    "from copy import deepcopy\n",
    "\n",
    "from scipy.interpolate import interp1d\n",
    "from scipy.ndimage import zoom\n",
    "\n",
    "# Progress bar\n",
    "from tqdm.auto import tqdm, trange\n",
    "\n",
    "# Disable informational messages and only include warnings and higher\n",
    "pynrc.setup_logging(level='WARN')"
   ]
  },
  {
   "cell_type": "code",
   "execution_count": 3,
   "id": "distant-demand",
   "metadata": {},
   "outputs": [],
   "source": [
    "opd_dir = 'NIRCAM_OPDS/'\n",
    "\n",
    "# Scenario to consider [best, nominal, requirements]\n",
    "scenarios = ['Best Case', 'Nominal', 'Requirements']\n",
    "imode = 0\n",
    "\n",
    "# LOS Jitter [2.5, 3.8, 5.8] per axis\n",
    "# Samples from random distribution, 1 sample per time step. \n",
    "# hdul_jitter = fits.open(opd_dir + 'LOS_JITTER.fits')\n",
    "jitter_modes = [2.5, 3.8, 5.8]\n",
    "imode_jitt = 0\n",
    "\n",
    "# Target Acqs\n",
    "# Three values for best, nominal, and requirements: 6.2568703,  8.759604 , 12.513741\n",
    "#   - these are per axis\n",
    "hdul_tacq = fits.open(opd_dir + 'TARGET_ACQ.fits')\n",
    "tacq_vals = np.array([hdu.data for hdu in hdul_tacq])\n",
    "# imode_tacq = 0 # Only needed for reference observation (set later)"
   ]
  },
  {
   "cell_type": "code",
   "execution_count": 4,
   "id": "conceptual-strengthening",
   "metadata": {},
   "outputs": [],
   "source": [
    "def gen_slope_image(nrc, opd, jitter_vals, sp=None):\n",
    "    \"\"\"\n",
    "    Wrapper to creae a slope image given some OPD and\n",
    "    jitter information. \n",
    "    \"\"\"\n",
    "\n",
    "    # Initial values\n",
    "    opd_init = nrc.pupilopd\n",
    "    r_init  = nrc.options.get('source_offset_r', 0)\n",
    "    th_init = nrc.options.get('source_offset_theta', 0)\n",
    "    xoff_init, yoff_init = rtheta_to_xy(r_init, th_init)\n",
    "    \n",
    "    # Update OPD info\n",
    "    nrc.pupilopd = opd\n",
    "\n",
    "    det = nrc.Detector\n",
    "    ma = det.multiaccum\n",
    "    ngroup = ma.ngroup\n",
    "    \n",
    "    # Generate offset images for each group\n",
    "#     psf_arr = []\n",
    "#     for j in trange(ngroup, leave=False, desc='Groups'):\n",
    "        \n",
    "#         # Add jitter to initial values\n",
    "#         xoff, yoff = jitter_vals[j,:]\n",
    "#         r_off, th_off = xy_to_rtheta(xoff+xoff_init, yoff+yoff_init)\n",
    "        \n",
    "#         # Update offset values\n",
    "#         nrc.options['source_offset_r'] = r_off\n",
    "#         nrc.options['source_offset_theta'] = th_off\n",
    "#         hdul_out = nrc.calc_psf(sp=sp)\n",
    "#         psf_arr.append(hdul_out[1].data) # Non-distorted version\n",
    "        \n",
    "#     # Get average slope for this integration\n",
    "#     psf_int = np.mean(np.array(psf_arr), axis=0)\n",
    "\n",
    "    # Add jitter to initial values\n",
    "    xoff, yoff = jitter_vals[0,:]\n",
    "    r_off, th_off = xy_to_rtheta(xoff+xoff_init, yoff+yoff_init)\n",
    "    # Update offset values\n",
    "    nrc.options['source_offset_r'] = r_off\n",
    "    nrc.options['source_offset_theta'] = th_off\n",
    "    hdul_out = nrc.calc_psf(sp=sp)\n",
    "    psf_int = hdul_out[1].data\n",
    "    \n",
    "    \n",
    "    # Return to initial conditions\n",
    "    nrc.pupilopd = opd_init\n",
    "    nrc.options['source_offset_r'] = r_init\n",
    "    nrc.options['source_offset_theta'] = th_init\n",
    "    \n",
    "    return psf_int\n",
    "\n",
    "\n",
    "def calc_rms(im):\n",
    "    ind = (im != 0) & (np.isfinite(im))\n",
    "    rms = np.sqrt((im[ind] ** 2).mean())\n",
    "    return rms\n"
   ]
  },
  {
   "cell_type": "markdown",
   "id": "direct-berry",
   "metadata": {},
   "source": [
    "# Spectral Templates"
   ]
  },
  {
   "cell_type": "code",
   "execution_count": 5,
   "id": "static-dressing",
   "metadata": {},
   "outputs": [],
   "source": [
    "# Define 2MASS Ks bandpass and source information\n",
    "bp_k = pynrc.bp_2mass('k')\n",
    "\n",
    "# Solar analog at 10pc\n",
    "# https://iopscience.iop.org/article/10.3847/1538-4365/aabfdf#apjsaabfdft3\n",
    "\n",
    "# Science      source,  dist, age, sptype, Teff, [Fe/H], log_g, mag, band\n",
    "args_sources = [('G2V', 10.0, 100,  'G2V', 5777, 0, 4.43, 3.27, bp_k)]\n",
    "\n",
    "# References     source,  sptype, Teff, [Fe/H], log_g, mag, band\n",
    "ref_sources = [('G2V Ref', 'G2V', 5777, 0, 4.43, 3.27, bp_k)]"
   ]
  },
  {
   "cell_type": "code",
   "execution_count": 6,
   "id": "demonstrated-introduction",
   "metadata": {},
   "outputs": [],
   "source": [
    "i=0\n",
    "\n",
    "# Get science spectrum\n",
    "name_sci, dist_sci, age, spt_sci, Teff_sci, feh_sci, logg_sci, mag_sci, bp_sci = args_sources[i]\n",
    "args = (spt_sci, mag_sci, 'vegamag', bp_sci)\n",
    "kwargs = {'Teff':Teff_sci, 'metallicity':feh_sci, 'log_g':logg_sci}\n",
    "sp_sci = pynrc.stellar_spectrum(*args, **kwargs)\n",
    "sp_sci.name = name_sci\n",
    "\n",
    "# Do the same for the reference source\n",
    "name_ref, spt_ref, Teff_ref, feh_ref, logg_ref, mag_ref, bp_ref = ref_sources[i]\n",
    "args = (spt_ref, mag_ref, 'vegamag', bp_ref)\n",
    "kwargs = {'Teff':Teff_ref, 'metallicity':feh_ref, 'log_g':logg_ref}\n",
    "sp_ref = pynrc.stellar_spectrum(*args, **kwargs)\n",
    "sp_ref.name = name_ref"
   ]
  },
  {
   "cell_type": "code",
   "execution_count": 7,
   "id": "interim-gates",
   "metadata": {},
   "outputs": [
    {
     "data": {
      "image/png": "[encoded data removed]",
      "text/plain": [
       "<Figure size 576x360 with 2 Axes>"
      ]
     },
     "metadata": {
      "needs_background": "light"
     },
     "output_type": "display_data"
    }
   ],
   "source": [
    "# Plot the two spectra\n",
    "fig, ax = plt.subplots(1,1, figsize=(8,5))\n",
    "\n",
    "xr = [2.5,5.5]\n",
    "\n",
    "for sp in [sp_sci, sp_ref]:\n",
    "    w = sp.wave / 1e4\n",
    "    ind = (w>=xr[0]) & (w<=xr[1])\n",
    "    sp.convert('Jy')\n",
    "    f = sp.flux / np.interp(4.0, w, sp.flux)\n",
    "    ax.semilogy(w[ind], f[ind], lw=1.5, label=sp.name)\n",
    "    ax.set_ylabel(r'$F_{\\nu}~/~F_{\\nu}~(\\lambda=4\\mathdefault{\\mu m})$ [Jy]')\n",
    "    sp.convert('flam')\n",
    "\n",
    "ax.set_xlim(xr)\n",
    "ax.set_xlabel(r'Wavelength [$\\mathdefault{\\mu m}$]')\n",
    "ax.set_title('Spectral Sources')\n",
    "\n",
    "# Overplot Filter Bandpass\n",
    "bp = pynrc.read_filter('F430M', pupil='CIRCLYOT', mask='MASK430R')\n",
    "ax2 = ax.twinx()\n",
    "ax2.plot(bp.wave/1e4, bp.throughput, color='C2', label=bp.name+' Bandpass')\n",
    "ax2.set_ylim([0,0.8])\n",
    "ax2.set_xlim(xr)\n",
    "ax2.set_ylabel('Bandpass Throughput')\n",
    "\n",
    "ax.legend(loc='upper left')\n",
    "ax2.legend(loc='upper right')\n",
    "\n",
    "fig.tight_layout()"
   ]
  },
  {
   "cell_type": "code",
   "execution_count": 27,
   "id": "excited-labor",
   "metadata": {},
   "outputs": [
    {
     "name": "stdout",
     "output_type": "stream",
     "text": [
      "95219479.90915118\n",
      "3.2607771199515287\n"
     ]
    }
   ],
   "source": [
    "bp = pynrc.read_filter('F430M')\n",
    "obs = nrc_utils.S.Observation(sp_sci, bp, binset=bp.wave)\n",
    "print(obs.effstim('counts')) \n",
    "print(obs.effstim('vegamag')) "
   ]
  },
  {
   "cell_type": "markdown",
   "id": "established-jenny",
   "metadata": {},
   "source": [
    "# Delivered OPD information"
   ]
  },
  {
   "cell_type": "code",
   "execution_count": 28,
   "id": "engaging-transportation",
   "metadata": {},
   "outputs": [],
   "source": [
    "# Load OPD and other information\n",
    "tvals_sec = fits.getdata(opd_dir + 'time_vector.fits') * 60\n",
    "\n",
    "# Static OPDs\n",
    "hdul_opds_static = OPDFile_to_HDUList(opd_dir + 'STATIC_NIRCAM-A_INPUT.fits')\n",
    "\n",
    "# Thermal, frill, and IEC\n",
    "hdul_opds_thermal = fits.open(opd_dir + 'TD_NIRCAM.fits')\n",
    "hdul_opds_frill   = fits.open(opd_dir + 'FRILLCO_NIRCAM.fits')\n",
    "hdul_opds_iec     = fits.open(opd_dir + 'IEC_NIRCAM.fits')\n",
    "\n",
    "for hdul in [hdul_opds_static, hdul_opds_thermal, hdul_opds_frill, hdul_opds_iec]:\n",
    "    for hdu in hdul:\n",
    "        hdu.data *= 1e6\n",
    "        hdu.header['BUNIT'] = 'micron'"
   ]
  },
  {
   "cell_type": "markdown",
   "id": "recent-springfield",
   "metadata": {},
   "source": [
    "# Science Observation"
   ]
  },
  {
   "cell_type": "code",
   "execution_count": 29,
   "id": "uniform-jacob",
   "metadata": {},
   "outputs": [],
   "source": [
    "# Define detector configuration and PSF simulation\n",
    "filt, mask, pupil = ('F430M', 'MASK430R', 'CIRCLYOT')\n",
    "wind_mode, subsize = ('WINDOW', 320)\n",
    "fov_pix, oversample = (160, 2)\n",
    "\n",
    "# Science configuration\n",
    "nrc_sci = pynrc.NIRCam(filter=filt, image_mask=mask, pupil_mask=pupil,\n",
    "                       wind_mode=wind_mode, xpix=subsize, ypix=subsize, \n",
    "                       fov_pix=fov_pix, oversample=oversample)"
   ]
  },
  {
   "cell_type": "code",
   "execution_count": 30,
   "id": "protected-parks",
   "metadata": {},
   "outputs": [
    {
     "name": "stdout",
     "output_type": "stream",
     "text": [
      "New Ramp Settings\n",
      "  read_mode  :  MEDIUM8\n",
      "  nf         :        8\n",
      "  nd2        :        2\n",
      "  ngroup     :        7\n",
      "  nint       :       50\n",
      "New Detector Settings\n",
      "  wind_mode  :   WINDOW\n",
      "  xpix       :      320\n",
      "  ypix       :      320\n",
      "  x0         :        0\n",
      "  y0         :        0\n",
      "New Ramp Times\n",
      "  t_group    :   10.690\n",
      "  t_frame    :    1.069\n",
      "  t_int      :   72.695\n",
      "  t_int_tot1 :   73.784\n",
      "  t_int_tot2 :   73.784\n",
      "  t_exp      : 3634.736\n",
      "  t_acq      : 3689.184\n"
     ]
    }
   ],
   "source": [
    "# Shooting for ~3600 sec of acquisition time\n",
    "nrc_sci.update_detectors(read_mode='MEDIUM8', ngroup=7, nint=50, verbose=True)"
   ]
  },
  {
   "cell_type": "code",
   "execution_count": 31,
   "id": "framed-helping",
   "metadata": {},
   "outputs": [],
   "source": [
    "# Turn off jitter components\n",
    "nrc_sci.options['jitter'] = None\n",
    "nrc_sci.options['jitter_sigma'] = 0"
   ]
  },
  {
   "cell_type": "code",
   "execution_count": 32,
   "id": "competent-congo",
   "metadata": {},
   "outputs": [],
   "source": [
    "# Set target acq values\n",
    "nrc_sci.options['source_offset_r'] = 0\n",
    "nrc_sci.options['source_offset_theta'] = 0"
   ]
  },
  {
   "cell_type": "code",
   "execution_count": 33,
   "id": "specific-birmingham",
   "metadata": {},
   "outputs": [],
   "source": [
    "# Create a time series of frames\n",
    "det = nrc_sci.Detector\n",
    "nint = det.multiaccum.nint\n",
    "ngroup = det.multiaccum.ngroup\n",
    "\n",
    "# Group times within a given integration\n",
    "tg_arr = det.times_group_avg\n",
    "\n",
    "# Repeat nint and add total integration time\n",
    "tg_all = tg_arr.reshape([-1,1]).repeat(nint, axis=1)\n",
    "tg_all = tg_all.transpose()\n",
    "tg_all = tg_all + np.arange(nint).reshape([-1,1]) * det.time_total_int2\n",
    "\n",
    "# Time step of integration (average)\n",
    "tint_all = np.mean(tg_all, axis=1)"
   ]
  },
  {
   "cell_type": "code",
   "execution_count": 34,
   "id": "agricultural-medicaid",
   "metadata": {},
   "outputs": [
    {
     "data": {
      "application/vnd.jupyter.widget-view+json": {
       "model_id": "63a34b954e764177b949e3a99f187ce8",
       "version_major": 2,
       "version_minor": 0
      },
      "text/plain": [
       "  0%|          | 0/3 [00:00<?, ?it/s]"
      ]
     },
     "metadata": {},
     "output_type": "display_data"
    }
   ],
   "source": [
    "# Create drifted OPDs for each integration\n",
    "\n",
    "# Interpolate OPDS for each integration\n",
    "dopds_sci = np.zeros([nint,1024,1024])\n",
    "hdul = hdul_opds_thermal\n",
    "for hdul in tqdm([hdul_opds_thermal, hdul_opds_frill, hdul_opds_iec]):\n",
    "    # Flip along y-axis for correct orientation\n",
    "    opds = hdul[imode].data[:,::-1,:]\n",
    "    func = interp1d(tvals_sec, opds, axis=0, kind='linear', bounds_error=True)\n",
    "\n",
    "    opds_int = func(tint_all)\n",
    "#     dopds_sci += np.array([zoom(opd, 1024/100) for opd in opds_int])\n",
    "    dopds_sci += np.array([frebin(opd, dimensions=1024, total=False) for opd in opds_int])"
   ]
  },
  {
   "cell_type": "code",
   "execution_count": 35,
   "id": "activated-edgar",
   "metadata": {},
   "outputs": [],
   "source": [
    "# Create random jitter realizations for each group timestep [nint, ngroup, 2]\n",
    "jitter_sig = jitter_modes[imode_jitt]\n",
    "jitter_rand = np.random.normal(scale=jitter_sig, size=(nint,ngroup,2)) / 1000"
   ]
  },
  {
   "cell_type": "code",
   "execution_count": 17,
   "id": "opening-coast",
   "metadata": {
    "collapsed": true
   },
   "outputs": [
    {
     "data": {
      "application/vnd.jupyter.widget-view+json": {
       "model_id": "6da07cae64b84ddfb77a757f259afb94",
       "version_major": 2,
       "version_minor": 0
      },
      "text/plain": [
       "  0%|          | 0/50 [00:00<?, ?it/s]"
      ]
     },
     "metadata": {},
     "output_type": "display_data"
    },
    {
     "ename": "KeyboardInterrupt",
     "evalue": "",
     "output_type": "error",
     "traceback": [
      "\u001b[0;31m---------------------------------------------------------------------------\u001b[0m",
      "\u001b[0;31mKeyboardInterrupt\u001b[0m                         Traceback (most recent call last)",
      "\u001b[0;32m<ipython-input-17-8a11c8a82c51>\u001b[0m in \u001b[0;36m<module>\u001b[0;34m\u001b[0m\n\u001b[1;32m      6\u001b[0m     \u001b[0mopd_int\u001b[0m\u001b[0;34m[\u001b[0m\u001b[0;36m0\u001b[0m\u001b[0;34m]\u001b[0m\u001b[0;34m.\u001b[0m\u001b[0mdata\u001b[0m \u001b[0;34m+=\u001b[0m \u001b[0mdopds_sci\u001b[0m\u001b[0;34m[\u001b[0m\u001b[0mi\u001b[0m\u001b[0;34m]\u001b[0m\u001b[0;34m\u001b[0m\u001b[0;34m\u001b[0m\u001b[0m\n\u001b[1;32m      7\u001b[0m \u001b[0;34m\u001b[0m\u001b[0m\n\u001b[0;32m----> 8\u001b[0;31m     \u001b[0mim_slope\u001b[0m \u001b[0;34m=\u001b[0m \u001b[0mgen_slope_image\u001b[0m\u001b[0;34m(\u001b[0m\u001b[0mnrc_sci\u001b[0m\u001b[0;34m,\u001b[0m \u001b[0mopd_int\u001b[0m\u001b[0;34m,\u001b[0m \u001b[0mjitter_rand\u001b[0m\u001b[0;34m[\u001b[0m\u001b[0mi\u001b[0m\u001b[0;34m]\u001b[0m\u001b[0;34m,\u001b[0m \u001b[0msp\u001b[0m\u001b[0;34m=\u001b[0m\u001b[0msp_sci\u001b[0m\u001b[0;34m)\u001b[0m\u001b[0;34m\u001b[0m\u001b[0;34m\u001b[0m\u001b[0m\n\u001b[0m\u001b[1;32m      9\u001b[0m     \u001b[0mim_slope_sci\u001b[0m\u001b[0;34m.\u001b[0m\u001b[0mappend\u001b[0m\u001b[0;34m(\u001b[0m\u001b[0mim_slope\u001b[0m\u001b[0;34m)\u001b[0m\u001b[0;34m\u001b[0m\u001b[0;34m\u001b[0m\u001b[0m\n\u001b[1;32m     10\u001b[0m \u001b[0;34m\u001b[0m\u001b[0m\n",
      "\u001b[0;32m<ipython-input-4-2c1648c697a8>\u001b[0m in \u001b[0;36mgen_slope_image\u001b[0;34m(nrc, opd, jitter_vals, sp)\u001b[0m\n\u001b[1;32m     41\u001b[0m     \u001b[0mnrc\u001b[0m\u001b[0;34m.\u001b[0m\u001b[0moptions\u001b[0m\u001b[0;34m[\u001b[0m\u001b[0;34m'source_offset_r'\u001b[0m\u001b[0;34m]\u001b[0m \u001b[0;34m=\u001b[0m \u001b[0mr_off\u001b[0m\u001b[0;34m\u001b[0m\u001b[0;34m\u001b[0m\u001b[0m\n\u001b[1;32m     42\u001b[0m     \u001b[0mnrc\u001b[0m\u001b[0;34m.\u001b[0m\u001b[0moptions\u001b[0m\u001b[0;34m[\u001b[0m\u001b[0;34m'source_offset_theta'\u001b[0m\u001b[0;34m]\u001b[0m \u001b[0;34m=\u001b[0m \u001b[0mth_off\u001b[0m\u001b[0;34m\u001b[0m\u001b[0;34m\u001b[0m\u001b[0m\n\u001b[0;32m---> 43\u001b[0;31m     \u001b[0mhdul_out\u001b[0m \u001b[0;34m=\u001b[0m \u001b[0mnrc\u001b[0m\u001b[0;34m.\u001b[0m\u001b[0mcalc_psf\u001b[0m\u001b[0;34m(\u001b[0m\u001b[0msp\u001b[0m\u001b[0;34m=\u001b[0m\u001b[0msp\u001b[0m\u001b[0;34m)\u001b[0m\u001b[0;34m\u001b[0m\u001b[0;34m\u001b[0m\u001b[0m\n\u001b[0m\u001b[1;32m     44\u001b[0m     \u001b[0mpsf_int\u001b[0m \u001b[0;34m=\u001b[0m \u001b[0mhdul_out\u001b[0m\u001b[0;34m[\u001b[0m\u001b[0;36m1\u001b[0m\u001b[0;34m]\u001b[0m\u001b[0;34m.\u001b[0m\u001b[0mdata\u001b[0m\u001b[0;34m\u001b[0m\u001b[0;34m\u001b[0m\u001b[0m\n\u001b[1;32m     45\u001b[0m \u001b[0;34m\u001b[0m\u001b[0m\n",
      "\u001b[0;32m~/GitHub/pynrc/pynrc/pynrc_core.py\u001b[0m in \u001b[0;36mcalc_psf\u001b[0;34m(self, sp, return_oversample, wfe_drift, coord_vals, coord_frame, use_bg_psf, **kwargs)\u001b[0m\n\u001b[1;32m   1156\u001b[0m             \u001b[0mres\u001b[0m \u001b[0;34m=\u001b[0m \u001b[0mself\u001b[0m\u001b[0;34m.\u001b[0m\u001b[0m_nrc_bg\u001b[0m\u001b[0;34m.\u001b[0m\u001b[0mcalc_psf\u001b[0m\u001b[0;34m(\u001b[0m\u001b[0;34m**\u001b[0m\u001b[0mkwargs\u001b[0m\u001b[0;34m)\u001b[0m\u001b[0;34m\u001b[0m\u001b[0;34m\u001b[0m\u001b[0m\n\u001b[1;32m   1157\u001b[0m         \u001b[0;32melse\u001b[0m\u001b[0;34m:\u001b[0m\u001b[0;34m\u001b[0m\u001b[0;34m\u001b[0m\u001b[0m\n\u001b[0;32m-> 1158\u001b[0;31m             \u001b[0mres\u001b[0m \u001b[0;34m=\u001b[0m \u001b[0msuper\u001b[0m\u001b[0;34m(\u001b[0m\u001b[0;34m)\u001b[0m\u001b[0;34m.\u001b[0m\u001b[0mcalc_psf\u001b[0m\u001b[0;34m(\u001b[0m\u001b[0;34m**\u001b[0m\u001b[0mkwargs\u001b[0m\u001b[0;34m)\u001b[0m\u001b[0;34m\u001b[0m\u001b[0;34m\u001b[0m\u001b[0m\n\u001b[0m\u001b[1;32m   1159\u001b[0m \u001b[0;34m\u001b[0m\u001b[0m\n\u001b[1;32m   1160\u001b[0m         \u001b[0msetup_logging\u001b[0m\u001b[0;34m(\u001b[0m\u001b[0mlog_prev\u001b[0m\u001b[0;34m,\u001b[0m \u001b[0mverbose\u001b[0m\u001b[0;34m=\u001b[0m\u001b[0;32mFalse\u001b[0m\u001b[0;34m)\u001b[0m\u001b[0;34m\u001b[0m\u001b[0;34m\u001b[0m\u001b[0m\n",
      "\u001b[0;32m~/GitHub/webbpsf_ext/webbpsf_ext/webbpsf_ext_core.py\u001b[0m in \u001b[0;36mcalc_psf\u001b[0;34m(self, add_distortion, fov_pixels, oversample, wfe_drift, coord_vals, coord_frame, **kwargs)\u001b[0m\n\u001b[1;32m    772\u001b[0m         res = _calc_psf_webbpsf(self, calc_psf_func, add_distortion=add_distortion, \n\u001b[1;32m    773\u001b[0m                                 \u001b[0mfov_pixels\u001b[0m\u001b[0;34m=\u001b[0m\u001b[0mfov_pixels\u001b[0m\u001b[0;34m,\u001b[0m \u001b[0moversample\u001b[0m\u001b[0;34m=\u001b[0m\u001b[0moversample\u001b[0m\u001b[0;34m,\u001b[0m \u001b[0mwfe_drift\u001b[0m\u001b[0;34m=\u001b[0m\u001b[0mwfe_drift\u001b[0m\u001b[0;34m,\u001b[0m\u001b[0;34m\u001b[0m\u001b[0;34m\u001b[0m\u001b[0m\n\u001b[0;32m--> 774\u001b[0;31m                                 coord_vals=coord_vals, coord_frame=coord_frame, **kwargs)\n\u001b[0m\u001b[1;32m    775\u001b[0m \u001b[0;34m\u001b[0m\u001b[0m\n\u001b[1;32m    776\u001b[0m         \u001b[0;32mreturn\u001b[0m \u001b[0mres\u001b[0m\u001b[0;34m\u001b[0m\u001b[0;34m\u001b[0m\u001b[0m\n",
      "\u001b[0;32m~/GitHub/webbpsf_ext/webbpsf_ext/webbpsf_ext_core.py\u001b[0m in \u001b[0;36m_calc_psf_webbpsf\u001b[0;34m(self, calc_psf_func, add_distortion, fov_pixels, oversample, wfe_drift, coord_vals, coord_frame, **kwargs)\u001b[0m\n\u001b[1;32m   2041\u001b[0m         \u001b[0mreturn_hdul\u001b[0m \u001b[0;34m=\u001b[0m \u001b[0mkwargs\u001b[0m\u001b[0;34m.\u001b[0m\u001b[0mpop\u001b[0m\u001b[0;34m(\u001b[0m\u001b[0;34m'return_hdul'\u001b[0m\u001b[0;34m,\u001b[0m \u001b[0;32mTrue\u001b[0m\u001b[0;34m)\u001b[0m\u001b[0;34m\u001b[0m\u001b[0;34m\u001b[0m\u001b[0m\n\u001b[1;32m   2042\u001b[0m         \u001b[0mreturn_oversample\u001b[0m \u001b[0;34m=\u001b[0m \u001b[0mkwargs\u001b[0m\u001b[0;34m.\u001b[0m\u001b[0mpop\u001b[0m\u001b[0;34m(\u001b[0m\u001b[0;34m'return_oversample'\u001b[0m\u001b[0;34m,\u001b[0m \u001b[0;32mTrue\u001b[0m\u001b[0;34m)\u001b[0m\u001b[0;34m\u001b[0m\u001b[0;34m\u001b[0m\u001b[0m\n\u001b[0;32m-> 2043\u001b[0;31m         \u001b[0mhdul\u001b[0m \u001b[0;34m=\u001b[0m \u001b[0m_calc_psf_with_shifts\u001b[0m\u001b[0;34m(\u001b[0m\u001b[0mself\u001b[0m\u001b[0;34m,\u001b[0m \u001b[0mcalc_psf_func\u001b[0m\u001b[0;34m,\u001b[0m \u001b[0;34m**\u001b[0m\u001b[0mkwargs\u001b[0m\u001b[0;34m)\u001b[0m\u001b[0;34m\u001b[0m\u001b[0;34m\u001b[0m\u001b[0m\n\u001b[0m\u001b[1;32m   2044\u001b[0m \u001b[0;34m\u001b[0m\u001b[0m\n\u001b[1;32m   2045\u001b[0m         \u001b[0;31m# Reset pupil and OPD\u001b[0m\u001b[0;34m\u001b[0m\u001b[0;34m\u001b[0m\u001b[0;34m\u001b[0m\u001b[0m\n",
      "\u001b[0;32m~/GitHub/webbpsf_ext/webbpsf_ext/webbpsf_ext_core.py\u001b[0m in \u001b[0;36m_calc_psf_with_shifts\u001b[0;34m(self, calc_psf_func, **kwargs)\u001b[0m\n\u001b[1;32m   1920\u001b[0m     \u001b[0;32mfor\u001b[0m \u001b[0mkw\u001b[0m \u001b[0;32min\u001b[0m \u001b[0mkw_list\u001b[0m\u001b[0;34m:\u001b[0m\u001b[0;34m\u001b[0m\u001b[0;34m\u001b[0m\u001b[0m\n\u001b[1;32m   1921\u001b[0m         \u001b[0;32mif\u001b[0m \u001b[0mkw\u001b[0m \u001b[0;32min\u001b[0m \u001b[0mkwargs\u001b[0m\u001b[0;34m.\u001b[0m\u001b[0mkeys\u001b[0m\u001b[0;34m(\u001b[0m\u001b[0;34m)\u001b[0m\u001b[0;34m:\u001b[0m \u001b[0mkwargs2\u001b[0m\u001b[0;34m[\u001b[0m\u001b[0mkw\u001b[0m\u001b[0;34m]\u001b[0m \u001b[0;34m=\u001b[0m \u001b[0mkwargs\u001b[0m\u001b[0;34m[\u001b[0m\u001b[0mkw\u001b[0m\u001b[0;34m]\u001b[0m\u001b[0;34m\u001b[0m\u001b[0;34m\u001b[0m\u001b[0m\n\u001b[0;32m-> 1922\u001b[0;31m     \u001b[0mhdul\u001b[0m \u001b[0;34m=\u001b[0m \u001b[0mcalc_psf_func\u001b[0m\u001b[0;34m(\u001b[0m\u001b[0msource\u001b[0m\u001b[0;34m=\u001b[0m\u001b[0msrc\u001b[0m\u001b[0;34m,\u001b[0m \u001b[0;34m**\u001b[0m\u001b[0mkwargs2\u001b[0m\u001b[0;34m)\u001b[0m\u001b[0;34m\u001b[0m\u001b[0;34m\u001b[0m\u001b[0m\n\u001b[0m\u001b[1;32m   1923\u001b[0m \u001b[0;34m\u001b[0m\u001b[0m\n\u001b[1;32m   1924\u001b[0m     \u001b[0;31m# Specify image oversampling relative to detector sampling\u001b[0m\u001b[0;34m\u001b[0m\u001b[0;34m\u001b[0m\u001b[0;34m\u001b[0m\u001b[0m\n",
      "\u001b[0;32m~/GitHub/webbpsf/webbpsf/webbpsf_core.py\u001b[0m in \u001b[0;36mcalc_psf\u001b[0;34m(self, outfile, source, nlambda, monochromatic, fov_arcsec, fov_pixels, oversample, detector_oversample, fft_oversample, overwrite, display, save_intermediates, return_intermediates, normalize, add_distortion, crop_psf)\u001b[0m\n\u001b[1;32m   1019\u001b[0m                                                 \u001b[0moverwrite\u001b[0m\u001b[0;34m=\u001b[0m\u001b[0moverwrite\u001b[0m\u001b[0;34m,\u001b[0m \u001b[0mdisplay\u001b[0m\u001b[0;34m=\u001b[0m\u001b[0mdisplay\u001b[0m\u001b[0;34m,\u001b[0m\u001b[0;34m\u001b[0m\u001b[0;34m\u001b[0m\u001b[0m\n\u001b[1;32m   1020\u001b[0m                                                 \u001b[0msave_intermediates\u001b[0m\u001b[0;34m=\u001b[0m\u001b[0msave_intermediates\u001b[0m\u001b[0;34m,\u001b[0m\u001b[0;34m\u001b[0m\u001b[0;34m\u001b[0m\u001b[0m\n\u001b[0;32m-> 1021\u001b[0;31m                                                 return_intermediates=return_intermediates, normalize=normalize)\n\u001b[0m\u001b[1;32m   1022\u001b[0m \u001b[0;34m\u001b[0m\u001b[0m\n\u001b[1;32m   1023\u001b[0m         \u001b[0;32mreturn\u001b[0m \u001b[0mpsf\u001b[0m\u001b[0;34m\u001b[0m\u001b[0;34m\u001b[0m\u001b[0m\n",
      "\u001b[0;32m~/GitHub/poppy/poppy/instrument.py\u001b[0m in \u001b[0;36mcalc_psf\u001b[0;34m(self, outfile, source, nlambda, monochromatic, fov_arcsec, fov_pixels, oversample, detector_oversample, fft_oversample, overwrite, display, save_intermediates, return_intermediates, normalize)\u001b[0m\n\u001b[1;32m    265\u001b[0m         result = self.optsys.calc_psf(wavelens, weights, display_intermediates=display, display=display,\n\u001b[1;32m    266\u001b[0m                                       \u001b[0msave_intermediates\u001b[0m\u001b[0;34m=\u001b[0m\u001b[0msave_intermediates\u001b[0m\u001b[0;34m,\u001b[0m \u001b[0mreturn_intermediates\u001b[0m\u001b[0;34m=\u001b[0m\u001b[0mreturn_intermediates\u001b[0m\u001b[0;34m,\u001b[0m\u001b[0;34m\u001b[0m\u001b[0;34m\u001b[0m\u001b[0m\n\u001b[0;32m--> 267\u001b[0;31m                                       normalize=normalize)\n\u001b[0m\u001b[1;32m    268\u001b[0m \u001b[0;34m\u001b[0m\u001b[0m\n\u001b[1;32m    269\u001b[0m         \u001b[0;32mif\u001b[0m \u001b[0mreturn_intermediates\u001b[0m\u001b[0;34m:\u001b[0m  \u001b[0;31m# this implies we got handed back a tuple, so split it apart\u001b[0m\u001b[0;34m\u001b[0m\u001b[0;34m\u001b[0m\u001b[0m\n",
      "\u001b[0;32m~/GitHub/poppy/poppy/utils.py\u001b[0m in \u001b[0;36munit_check_wrapper\u001b[0;34m(*func_args, **func_kwargs)\u001b[0m\n\u001b[1;32m   1426\u001b[0m                 \u001b[0;31m# print(\"Args:   {}\".format(bound_args.args))\u001b[0m\u001b[0;34m\u001b[0m\u001b[0;34m\u001b[0m\u001b[0;34m\u001b[0m\u001b[0m\n\u001b[1;32m   1427\u001b[0m                 \u001b[0;31m# print(\"KWArgs: {}\".format(bound_args.kwargs))\u001b[0m\u001b[0;34m\u001b[0m\u001b[0;34m\u001b[0m\u001b[0;34m\u001b[0m\u001b[0m\n\u001b[0;32m-> 1428\u001b[0;31m                 \u001b[0;32mreturn\u001b[0m \u001b[0mwrapped_function\u001b[0m\u001b[0;34m(\u001b[0m\u001b[0;34m*\u001b[0m\u001b[0mbound_args\u001b[0m\u001b[0;34m.\u001b[0m\u001b[0margs\u001b[0m\u001b[0;34m,\u001b[0m \u001b[0;34m**\u001b[0m\u001b[0mbound_args\u001b[0m\u001b[0;34m.\u001b[0m\u001b[0mkwargs\u001b[0m\u001b[0;34m)\u001b[0m\u001b[0;34m\u001b[0m\u001b[0;34m\u001b[0m\u001b[0m\n\u001b[0m\u001b[1;32m   1429\u001b[0m \u001b[0;34m\u001b[0m\u001b[0m\n\u001b[1;32m   1430\u001b[0m         \u001b[0;32mreturn\u001b[0m \u001b[0munit_check_wrapper\u001b[0m\u001b[0;34m\u001b[0m\u001b[0;34m\u001b[0m\u001b[0m\n",
      "\u001b[0;32m~/GitHub/poppy/poppy/poppy_core.py\u001b[0m in \u001b[0;36mcalc_psf\u001b[0;34m(self, wavelength, weight, save_intermediates, save_intermediates_what, display, return_intermediates, return_final, source, normalize, display_intermediates, inwave)\u001b[0m\n\u001b[1;32m   1673\u001b[0m                     \u001b[0mdisplay_intermediates\u001b[0m\u001b[0;34m=\u001b[0m\u001b[0mdisplay_intermediates\u001b[0m\u001b[0;34m,\u001b[0m\u001b[0;34m\u001b[0m\u001b[0;34m\u001b[0m\u001b[0m\n\u001b[1;32m   1674\u001b[0m                     \u001b[0mnormalize\u001b[0m\u001b[0;34m=\u001b[0m\u001b[0mnormalize\u001b[0m\u001b[0;34m,\u001b[0m\u001b[0;34m\u001b[0m\u001b[0;34m\u001b[0m\u001b[0m\n\u001b[0;32m-> 1675\u001b[0;31m                     \u001b[0minwave\u001b[0m\u001b[0;34m=\u001b[0m\u001b[0minwave\u001b[0m\u001b[0;34m\u001b[0m\u001b[0;34m\u001b[0m\u001b[0m\n\u001b[0m\u001b[1;32m   1676\u001b[0m                 )\n\u001b[1;32m   1677\u001b[0m \u001b[0;34m\u001b[0m\u001b[0m\n",
      "\u001b[0;32m~/GitHub/poppy/poppy/utils.py\u001b[0m in \u001b[0;36munit_check_wrapper\u001b[0;34m(*func_args, **func_kwargs)\u001b[0m\n\u001b[1;32m   1426\u001b[0m                 \u001b[0;31m# print(\"Args:   {}\".format(bound_args.args))\u001b[0m\u001b[0;34m\u001b[0m\u001b[0;34m\u001b[0m\u001b[0;34m\u001b[0m\u001b[0m\n\u001b[1;32m   1427\u001b[0m                 \u001b[0;31m# print(\"KWArgs: {}\".format(bound_args.kwargs))\u001b[0m\u001b[0;34m\u001b[0m\u001b[0;34m\u001b[0m\u001b[0;34m\u001b[0m\u001b[0m\n\u001b[0;32m-> 1428\u001b[0;31m                 \u001b[0;32mreturn\u001b[0m \u001b[0mwrapped_function\u001b[0m\u001b[0;34m(\u001b[0m\u001b[0;34m*\u001b[0m\u001b[0mbound_args\u001b[0m\u001b[0;34m.\u001b[0m\u001b[0margs\u001b[0m\u001b[0;34m,\u001b[0m \u001b[0;34m**\u001b[0m\u001b[0mbound_args\u001b[0m\u001b[0;34m.\u001b[0m\u001b[0mkwargs\u001b[0m\u001b[0;34m)\u001b[0m\u001b[0;34m\u001b[0m\u001b[0;34m\u001b[0m\u001b[0m\n\u001b[0m\u001b[1;32m   1429\u001b[0m \u001b[0;34m\u001b[0m\u001b[0m\n\u001b[1;32m   1430\u001b[0m         \u001b[0;32mreturn\u001b[0m \u001b[0munit_check_wrapper\u001b[0m\u001b[0;34m\u001b[0m\u001b[0;34m\u001b[0m\u001b[0m\n",
      "\u001b[0;32m~/GitHub/poppy/poppy/poppy_core.py\u001b[0m in \u001b[0;36mpropagate_mono\u001b[0;34m(self, wavelength, normalize, retain_intermediates, retain_final, display_intermediates, inwave)\u001b[0m\n\u001b[1;32m   1805\u001b[0m             \u001b[0mwavefront\u001b[0m\u001b[0;34m,\u001b[0m \u001b[0mintermediate_wfs\u001b[0m \u001b[0;34m=\u001b[0m \u001b[0mself\u001b[0m\u001b[0;34m.\u001b[0m\u001b[0mpropagate\u001b[0m\u001b[0;34m(\u001b[0m\u001b[0mwavefront\u001b[0m\u001b[0;34m,\u001b[0m \u001b[0;34m**\u001b[0m\u001b[0mkwargs\u001b[0m\u001b[0;34m)\u001b[0m\u001b[0;34m\u001b[0m\u001b[0;34m\u001b[0m\u001b[0m\n\u001b[1;32m   1806\u001b[0m         \u001b[0;32melse\u001b[0m\u001b[0;34m:\u001b[0m\u001b[0;34m\u001b[0m\u001b[0;34m\u001b[0m\u001b[0m\n\u001b[0;32m-> 1807\u001b[0;31m             \u001b[0mwavefront\u001b[0m \u001b[0;34m=\u001b[0m \u001b[0mself\u001b[0m\u001b[0;34m.\u001b[0m\u001b[0mpropagate\u001b[0m\u001b[0;34m(\u001b[0m\u001b[0mwavefront\u001b[0m\u001b[0;34m,\u001b[0m \u001b[0;34m**\u001b[0m\u001b[0mkwargs\u001b[0m\u001b[0;34m)\u001b[0m\u001b[0;34m\u001b[0m\u001b[0;34m\u001b[0m\u001b[0m\n\u001b[0m\u001b[1;32m   1808\u001b[0m             \u001b[0mintermediate_wfs\u001b[0m \u001b[0;34m=\u001b[0m \u001b[0;34m[\u001b[0m\u001b[0;34m]\u001b[0m\u001b[0;34m\u001b[0m\u001b[0;34m\u001b[0m\u001b[0m\n\u001b[1;32m   1809\u001b[0m \u001b[0;34m\u001b[0m\u001b[0m\n",
      "\u001b[0;32m~/GitHub/poppy/poppy/poppy_core.py\u001b[0m in \u001b[0;36mpropagate\u001b[0;34m(self, wavefront, normalize, return_intermediates, display_intermediates)\u001b[0m\n\u001b[1;32m   2153\u001b[0m             \u001b[0;31m# The actual propagation:\u001b[0m\u001b[0;34m\u001b[0m\u001b[0;34m\u001b[0m\u001b[0;34m\u001b[0m\u001b[0m\n\u001b[1;32m   2154\u001b[0m             \u001b[0mwavefront\u001b[0m\u001b[0;34m.\u001b[0m\u001b[0mpropagate_to\u001b[0m\u001b[0;34m(\u001b[0m\u001b[0moptic\u001b[0m\u001b[0;34m)\u001b[0m\u001b[0;34m\u001b[0m\u001b[0;34m\u001b[0m\u001b[0m\n\u001b[0;32m-> 2155\u001b[0;31m             \u001b[0mwavefront\u001b[0m \u001b[0;34m*=\u001b[0m \u001b[0moptic\u001b[0m\u001b[0;34m\u001b[0m\u001b[0;34m\u001b[0m\u001b[0m\n\u001b[0m\u001b[1;32m   2156\u001b[0m \u001b[0;34m\u001b[0m\u001b[0m\n\u001b[1;32m   2157\u001b[0m             \u001b[0;31m# Normalize if appropriate:\u001b[0m\u001b[0;34m\u001b[0m\u001b[0;34m\u001b[0m\u001b[0;34m\u001b[0m\u001b[0m\n",
      "\u001b[0;32m~/GitHub/poppy/poppy/poppy_core.py\u001b[0m in \u001b[0;36m__imul__\u001b[0;34m(self, optic)\u001b[0m\n\u001b[1;32m    179\u001b[0m             \u001b[0;32mreturn\u001b[0m \u001b[0mself\u001b[0m\u001b[0;34m\u001b[0m\u001b[0;34m\u001b[0m\u001b[0m\n\u001b[1;32m    180\u001b[0m \u001b[0;34m\u001b[0m\u001b[0m\n\u001b[0;32m--> 181\u001b[0;31m         \u001b[0mphasor\u001b[0m \u001b[0;34m=\u001b[0m \u001b[0moptic\u001b[0m\u001b[0;34m.\u001b[0m\u001b[0mget_phasor\u001b[0m\u001b[0;34m(\u001b[0m\u001b[0mself\u001b[0m\u001b[0;34m)\u001b[0m\u001b[0;34m\u001b[0m\u001b[0;34m\u001b[0m\u001b[0m\n\u001b[0m\u001b[1;32m    182\u001b[0m \u001b[0;34m\u001b[0m\u001b[0m\n\u001b[1;32m    183\u001b[0m         \u001b[0;32mif\u001b[0m \u001b[0;32mnot\u001b[0m \u001b[0mnp\u001b[0m\u001b[0;34m.\u001b[0m\u001b[0misscalar\u001b[0m\u001b[0;34m(\u001b[0m\u001b[0mphasor\u001b[0m\u001b[0;34m)\u001b[0m \u001b[0;32mand\u001b[0m \u001b[0mphasor\u001b[0m\u001b[0;34m.\u001b[0m\u001b[0msize\u001b[0m \u001b[0;34m>\u001b[0m \u001b[0;36m1\u001b[0m\u001b[0;34m:\u001b[0m\u001b[0;34m\u001b[0m\u001b[0;34m\u001b[0m\u001b[0m\n",
      "\u001b[0;32m~/GitHub/poppy/poppy/optics.py\u001b[0m in \u001b[0;36mget_phasor\u001b[0;34m(self, wave)\u001b[0m\n\u001b[1;32m    121\u001b[0m \u001b[0;34m\u001b[0m\u001b[0m\n\u001b[1;32m    122\u001b[0m         \u001b[0;32mif\u001b[0m \u001b[0maccel_math\u001b[0m\u001b[0;34m.\u001b[0m\u001b[0m_USE_NUMEXPR\u001b[0m\u001b[0;34m:\u001b[0m\u001b[0;34m\u001b[0m\u001b[0;34m\u001b[0m\u001b[0m\n\u001b[0;32m--> 123\u001b[0;31m             \u001b[0mtrans\u001b[0m \u001b[0;34m=\u001b[0m \u001b[0mself\u001b[0m\u001b[0;34m.\u001b[0m\u001b[0mget_transmission\u001b[0m\u001b[0;34m(\u001b[0m\u001b[0mwave\u001b[0m\u001b[0;34m)\u001b[0m\u001b[0;34m\u001b[0m\u001b[0;34m\u001b[0m\u001b[0m\n\u001b[0m\u001b[1;32m    124\u001b[0m             \u001b[0mopd\u001b[0m \u001b[0;34m=\u001b[0m \u001b[0mself\u001b[0m\u001b[0;34m.\u001b[0m\u001b[0mget_opd\u001b[0m\u001b[0;34m(\u001b[0m\u001b[0mwave\u001b[0m\u001b[0;34m)\u001b[0m\u001b[0;34m\u001b[0m\u001b[0;34m\u001b[0m\u001b[0m\n\u001b[1;32m    125\u001b[0m             \u001b[0;31m# we first multiply the two scalars, for a slight performance gain\u001b[0m\u001b[0;34m\u001b[0m\u001b[0;34m\u001b[0m\u001b[0;34m\u001b[0m\u001b[0m\n",
      "\u001b[0;32m~/GitHub/webbpsf/webbpsf/optics.py\u001b[0m in \u001b[0;36mget_transmission\u001b[0;34m(self, wave)\u001b[0m\n\u001b[1;32m    807\u001b[0m             \u001b[0;32mif\u001b[0m \u001b[0mpoppy\u001b[0m\u001b[0;34m.\u001b[0m\u001b[0maccel_math\u001b[0m\u001b[0;34m.\u001b[0m\u001b[0m_USE_NUMEXPR\u001b[0m\u001b[0;34m:\u001b[0m\u001b[0;34m\u001b[0m\u001b[0;34m\u001b[0m\u001b[0m\n\u001b[1;32m    808\u001b[0m                 \u001b[0;32mimport\u001b[0m \u001b[0mnumexpr\u001b[0m \u001b[0;32mas\u001b[0m \u001b[0mne\u001b[0m\u001b[0;34m\u001b[0m\u001b[0;34m\u001b[0m\u001b[0m\n\u001b[0;32m--> 809\u001b[0;31m                 \u001b[0mjn1\u001b[0m \u001b[0;34m=\u001b[0m \u001b[0mscipy\u001b[0m\u001b[0;34m.\u001b[0m\u001b[0mspecial\u001b[0m\u001b[0;34m.\u001b[0m\u001b[0mj1\u001b[0m\u001b[0;34m(\u001b[0m\u001b[0msigmar\u001b[0m\u001b[0;34m)\u001b[0m\u001b[0;34m\u001b[0m\u001b[0;34m\u001b[0m\u001b[0m\n\u001b[0m\u001b[1;32m    810\u001b[0m                 \u001b[0mself\u001b[0m\u001b[0;34m.\u001b[0m\u001b[0mtransmission\u001b[0m \u001b[0;34m=\u001b[0m \u001b[0mne\u001b[0m\u001b[0;34m.\u001b[0m\u001b[0mevaluate\u001b[0m\u001b[0;34m(\u001b[0m\u001b[0;34m\"(1 - (2 * jn1 / sigmar) ** 2)\"\u001b[0m\u001b[0;34m)\u001b[0m\u001b[0;34m\u001b[0m\u001b[0;34m\u001b[0m\u001b[0m\n\u001b[1;32m    811\u001b[0m             \u001b[0;32melse\u001b[0m\u001b[0;34m:\u001b[0m\u001b[0;34m\u001b[0m\u001b[0;34m\u001b[0m\u001b[0m\n",
      "\u001b[0;31mKeyboardInterrupt\u001b[0m: "
     ]
    }
   ],
   "source": [
    "# Create slopes for all integrations\n",
    "im_slope_sci = []\n",
    "for i in trange(nint):\n",
    "    # Create copy of OPD and add delta\n",
    "    opd_int = deepcopy(hdul_opds_static)\n",
    "    opd_int[0].data += dopds_sci[i]\n",
    "\n",
    "    im_slope = gen_slope_image(nrc_sci, opd_int, jitter_rand[i], sp=sp_sci)\n",
    "    im_slope_sci.append(im_slope)\n",
    "    \n",
    "im_slope_sci = np.array(im_slope_sci)\n",
    "\n",
    "# Save final OPD for input into reference\n",
    "opd_sci_last = deepcopy(opd_int)"
   ]
  },
  {
   "cell_type": "markdown",
   "id": "gothic-workshop",
   "metadata": {},
   "source": [
    "# Reference Observation"
   ]
  },
  {
   "cell_type": "code",
   "execution_count": null,
   "id": "interested-cigarette",
   "metadata": {},
   "outputs": [],
   "source": [
    "# Target acquisition offset scenario\n",
    "imode_tacq = 0"
   ]
  },
  {
   "cell_type": "code",
   "execution_count": null,
   "id": "moved-handy",
   "metadata": {},
   "outputs": [],
   "source": [
    "# Define detector configuration and PSF simulation\n",
    "filt, mask, pupil = ('F430M', 'MASK430R', 'CIRCLYOT')\n",
    "wind_mode, subsize = ('WINDOW', 320)\n",
    "fov_pix, oversample = (160, 2)\n",
    "\n",
    "# Science configuration\n",
    "nrc_ref = pynrc.NIRCam(filter=filt, image_mask=mask, pupil_mask=pupil,\n",
    "                       wind_mode=wind_mode, xpix=subsize, ypix=subsize, \n",
    "                       fov_pix=fov_pix, oversample=oversample)"
   ]
  },
  {
   "cell_type": "code",
   "execution_count": null,
   "id": "molecular-range",
   "metadata": {},
   "outputs": [],
   "source": [
    "# Shooting for ~3600 sec of acquisition time\n",
    "nrc_ref.update_detectors(read_mode='MEDIUM8', ngroup=7, nint=50, verbose=True)"
   ]
  },
  {
   "cell_type": "code",
   "execution_count": null,
   "id": "removable-latin",
   "metadata": {},
   "outputs": [],
   "source": [
    "# Turn off jitter components (performed manually)\n",
    "nrc_ref.options['jitter']       = None\n",
    "nrc_ref.options['jitter_sigma'] = 0\n",
    "\n",
    "# Initial TA Offsets\n",
    "ta_x, ta_y  = tacq_vals[imode_tacq] / 1000  # arcsec\n",
    "ta_r, ta_th = xy_to_rtheta(ta_x, ta_y)\n",
    "nrc_ref.options['source_offset_r']     = ta_r\n",
    "nrc_ref.options['source_offset_theta'] = ta_th"
   ]
  },
  {
   "cell_type": "code",
   "execution_count": null,
   "id": "corporate-visitor",
   "metadata": {},
   "outputs": [],
   "source": [
    "# Create a time series of frames\n",
    "det = nrc_ref.Detector\n",
    "nint = det.multiaccum.nint\n",
    "ngroup = det.multiaccum.ngroup\n",
    "\n",
    "# Group times within a given integration\n",
    "tg_arr = det.times_group_avg\n",
    "\n",
    "# Repeat nint and add total integration time\n",
    "tg_all = tg_arr.reshape([-1,1]).repeat(nint, axis=1)\n",
    "tg_all = tg_all.transpose()\n",
    "tg_all = tg_all + np.arange(nint).reshape([-1,1]) * det.time_total_int2\n",
    "\n",
    "# Time step of integration (average)\n",
    "tint_all = np.mean(tg_all, axis=1)"
   ]
  },
  {
   "cell_type": "code",
   "execution_count": null,
   "id": "considerable-wallpaper",
   "metadata": {},
   "outputs": [],
   "source": [
    "# Create drifted OPDs for each integration\n",
    "# Start at beginning at flip sign for frill and thermal\n",
    "\n",
    "# Interpolate OPDS for each integration\n",
    "dopds_ref = np.zeros([nint,1024,1024])\n",
    "hdul = hdul_opds_thermal\n",
    "for hdul in tqdm([hdul_opds_thermal, hdul_opds_frill, hdul_opds_iec]):\n",
    "    # Flip along y-axis for correct orientation\n",
    "    opds = hdul[imode].data[:,::-1,:]\n",
    "    func = interp1d(tvals_sec, opds, axis=0, kind='linear', bounds_error=True)\n",
    "    \n",
    "    # Flip sign for thermal and frill\n",
    "    if (hdul is hdul_opds_thermal) or (hdul is hdul_opds_frill):\n",
    "        opds_int = func(tint_all)\n",
    "        opds_int *= -1\n",
    "    else:\n",
    "        # For IEC, start 3600 sec later\n",
    "        opds_int = func(tint_all + nrc_sci.Detector.time_total)        \n",
    "    \n",
    "#     dopds_ref += np.array([zoom(opd, 1024/100) for opd in opds_int])\n",
    "    dopds_ref += np.array([frebin(opd, dimensions=1024, total=False) for opd in opds_int])"
   ]
  },
  {
   "cell_type": "code",
   "execution_count": null,
   "id": "significant-tattoo",
   "metadata": {},
   "outputs": [],
   "source": [
    "# Create random jitter realizations for each group timestep [nint, ngroup, 2]\n",
    "jitter_sig = jitter_modes[imode_jitt]\n",
    "jitter_rand_ref = np.random.normal(scale=jitter_sig, size=(nint,ngroup,2)) / 1000"
   ]
  },
  {
   "cell_type": "code",
   "execution_count": 42,
   "id": "romance-classics",
   "metadata": {},
   "outputs": [
    {
     "data": {
      "application/vnd.jupyter.widget-view+json": {
       "model_id": "723c0d6895f44daea3e056af5c90724f",
       "version_major": 2,
       "version_minor": 0
      },
      "text/plain": [
       "  0%|          | 0/50 [00:00<?, ?it/s]"
      ]
     },
     "metadata": {},
     "output_type": "display_data"
    },
    {
     "data": {
      "application/vnd.jupyter.widget-view+json": {
       "model_id": "",
       "version_major": 2,
       "version_minor": 0
      },
      "text/plain": [
       "Groups:   0%|          | 0/7 [00:00<?, ?it/s]"
      ]
     },
     "metadata": {},
     "output_type": "display_data"
    },
    {
     "data": {
      "application/vnd.jupyter.widget-view+json": {
       "model_id": "",
       "version_major": 2,
       "version_minor": 0
      },
      "text/plain": [
       "Groups:   0%|          | 0/7 [00:00<?, ?it/s]"
      ]
     },
     "metadata": {},
     "output_type": "display_data"
    },
    {
     "data": {
      "application/vnd.jupyter.widget-view+json": {
       "model_id": "",
       "version_major": 2,
       "version_minor": 0
      },
      "text/plain": [
       "Groups:   0%|          | 0/7 [00:00<?, ?it/s]"
      ]
     },
     "metadata": {},
     "output_type": "display_data"
    },
    {
     "data": {
      "application/vnd.jupyter.widget-view+json": {
       "model_id": "",
       "version_major": 2,
       "version_minor": 0
      },
      "text/plain": [
       "Groups:   0%|          | 0/7 [00:00<?, ?it/s]"
      ]
     },
     "metadata": {},
     "output_type": "display_data"
    },
    {
     "data": {
      "application/vnd.jupyter.widget-view+json": {
       "model_id": "",
       "version_major": 2,
       "version_minor": 0
      },
      "text/plain": [
       "Groups:   0%|          | 0/7 [00:00<?, ?it/s]"
      ]
     },
     "metadata": {},
     "output_type": "display_data"
    },
    {
     "data": {
      "application/vnd.jupyter.widget-view+json": {
       "model_id": "",
       "version_major": 2,
       "version_minor": 0
      },
      "text/plain": [
       "Groups:   0%|          | 0/7 [00:00<?, ?it/s]"
      ]
     },
     "metadata": {},
     "output_type": "display_data"
    },
    {
     "data": {
      "application/vnd.jupyter.widget-view+json": {
       "model_id": "",
       "version_major": 2,
       "version_minor": 0
      },
      "text/plain": [
       "Groups:   0%|          | 0/7 [00:00<?, ?it/s]"
      ]
     },
     "metadata": {},
     "output_type": "display_data"
    },
    {
     "data": {
      "application/vnd.jupyter.widget-view+json": {
       "model_id": "",
       "version_major": 2,
       "version_minor": 0
      },
      "text/plain": [
       "Groups:   0%|          | 0/7 [00:00<?, ?it/s]"
      ]
     },
     "metadata": {},
     "output_type": "display_data"
    },
    {
     "data": {
      "application/vnd.jupyter.widget-view+json": {
       "model_id": "",
       "version_major": 2,
       "version_minor": 0
      },
      "text/plain": [
       "Groups:   0%|          | 0/7 [00:00<?, ?it/s]"
      ]
     },
     "metadata": {},
     "output_type": "display_data"
    },
    {
     "data": {
      "application/vnd.jupyter.widget-view+json": {
       "model_id": "",
       "version_major": 2,
       "version_minor": 0
      },
      "text/plain": [
       "Groups:   0%|          | 0/7 [00:00<?, ?it/s]"
      ]
     },
     "metadata": {},
     "output_type": "display_data"
    },
    {
     "data": {
      "application/vnd.jupyter.widget-view+json": {
       "model_id": "",
       "version_major": 2,
       "version_minor": 0
      },
      "text/plain": [
       "Groups:   0%|          | 0/7 [00:00<?, ?it/s]"
      ]
     },
     "metadata": {},
     "output_type": "display_data"
    },
    {
     "data": {
      "application/vnd.jupyter.widget-view+json": {
       "model_id": "",
       "version_major": 2,
       "version_minor": 0
      },
      "text/plain": [
       "Groups:   0%|          | 0/7 [00:00<?, ?it/s]"
      ]
     },
     "metadata": {},
     "output_type": "display_data"
    },
    {
     "data": {
      "application/vnd.jupyter.widget-view+json": {
       "model_id": "",
       "version_major": 2,
       "version_minor": 0
      },
      "text/plain": [
       "Groups:   0%|          | 0/7 [00:00<?, ?it/s]"
      ]
     },
     "metadata": {},
     "output_type": "display_data"
    },
    {
     "data": {
      "application/vnd.jupyter.widget-view+json": {
       "model_id": "",
       "version_major": 2,
       "version_minor": 0
      },
      "text/plain": [
       "Groups:   0%|          | 0/7 [00:00<?, ?it/s]"
      ]
     },
     "metadata": {},
     "output_type": "display_data"
    },
    {
     "data": {
      "application/vnd.jupyter.widget-view+json": {
       "model_id": "",
       "version_major": 2,
       "version_minor": 0
      },
      "text/plain": [
       "Groups:   0%|          | 0/7 [00:00<?, ?it/s]"
      ]
     },
     "metadata": {},
     "output_type": "display_data"
    },
    {
     "data": {
      "application/vnd.jupyter.widget-view+json": {
       "model_id": "",
       "version_major": 2,
       "version_minor": 0
      },
      "text/plain": [
       "Groups:   0%|          | 0/7 [00:00<?, ?it/s]"
      ]
     },
     "metadata": {},
     "output_type": "display_data"
    },
    {
     "data": {
      "application/vnd.jupyter.widget-view+json": {
       "model_id": "",
       "version_major": 2,
       "version_minor": 0
      },
      "text/plain": [
       "Groups:   0%|          | 0/7 [00:00<?, ?it/s]"
      ]
     },
     "metadata": {},
     "output_type": "display_data"
    },
    {
     "data": {
      "application/vnd.jupyter.widget-view+json": {
       "model_id": "",
       "version_major": 2,
       "version_minor": 0
      },
      "text/plain": [
       "Groups:   0%|          | 0/7 [00:00<?, ?it/s]"
      ]
     },
     "metadata": {},
     "output_type": "display_data"
    },
    {
     "data": {
      "application/vnd.jupyter.widget-view+json": {
       "model_id": "",
       "version_major": 2,
       "version_minor": 0
      },
      "text/plain": [
       "Groups:   0%|          | 0/7 [00:00<?, ?it/s]"
      ]
     },
     "metadata": {},
     "output_type": "display_data"
    },
    {
     "data": {
      "application/vnd.jupyter.widget-view+json": {
       "model_id": "",
       "version_major": 2,
       "version_minor": 0
      },
      "text/plain": [
       "Groups:   0%|          | 0/7 [00:00<?, ?it/s]"
      ]
     },
     "metadata": {},
     "output_type": "display_data"
    },
    {
     "data": {
      "application/vnd.jupyter.widget-view+json": {
       "model_id": "",
       "version_major": 2,
       "version_minor": 0
      },
      "text/plain": [
       "Groups:   0%|          | 0/7 [00:00<?, ?it/s]"
      ]
     },
     "metadata": {},
     "output_type": "display_data"
    },
    {
     "data": {
      "application/vnd.jupyter.widget-view+json": {
       "model_id": "",
       "version_major": 2,
       "version_minor": 0
      },
      "text/plain": [
       "Groups:   0%|          | 0/7 [00:00<?, ?it/s]"
      ]
     },
     "metadata": {},
     "output_type": "display_data"
    },
    {
     "data": {
      "application/vnd.jupyter.widget-view+json": {
       "model_id": "",
       "version_major": 2,
       "version_minor": 0
      },
      "text/plain": [
       "Groups:   0%|          | 0/7 [00:00<?, ?it/s]"
      ]
     },
     "metadata": {},
     "output_type": "display_data"
    },
    {
     "data": {
      "application/vnd.jupyter.widget-view+json": {
       "model_id": "",
       "version_major": 2,
       "version_minor": 0
      },
      "text/plain": [
       "Groups:   0%|          | 0/7 [00:00<?, ?it/s]"
      ]
     },
     "metadata": {},
     "output_type": "display_data"
    },
    {
     "data": {
      "application/vnd.jupyter.widget-view+json": {
       "model_id": "",
       "version_major": 2,
       "version_minor": 0
      },
      "text/plain": [
       "Groups:   0%|          | 0/7 [00:00<?, ?it/s]"
      ]
     },
     "metadata": {},
     "output_type": "display_data"
    },
    {
     "data": {
      "application/vnd.jupyter.widget-view+json": {
       "model_id": "",
       "version_major": 2,
       "version_minor": 0
      },
      "text/plain": [
       "Groups:   0%|          | 0/7 [00:00<?, ?it/s]"
      ]
     },
     "metadata": {},
     "output_type": "display_data"
    },
    {
     "data": {
      "application/vnd.jupyter.widget-view+json": {
       "model_id": "",
       "version_major": 2,
       "version_minor": 0
      },
      "text/plain": [
       "Groups:   0%|          | 0/7 [00:00<?, ?it/s]"
      ]
     },
     "metadata": {},
     "output_type": "display_data"
    },
    {
     "data": {
      "application/vnd.jupyter.widget-view+json": {
       "model_id": "",
       "version_major": 2,
       "version_minor": 0
      },
      "text/plain": [
       "Groups:   0%|          | 0/7 [00:00<?, ?it/s]"
      ]
     },
     "metadata": {},
     "output_type": "display_data"
    },
    {
     "data": {
      "application/vnd.jupyter.widget-view+json": {
       "model_id": "",
       "version_major": 2,
       "version_minor": 0
      },
      "text/plain": [
       "Groups:   0%|          | 0/7 [00:00<?, ?it/s]"
      ]
     },
     "metadata": {},
     "output_type": "display_data"
    },
    {
     "data": {
      "application/vnd.jupyter.widget-view+json": {
       "model_id": "",
       "version_major": 2,
       "version_minor": 0
      },
      "text/plain": [
       "Groups:   0%|          | 0/7 [00:00<?, ?it/s]"
      ]
     },
     "metadata": {},
     "output_type": "display_data"
    },
    {
     "data": {
      "application/vnd.jupyter.widget-view+json": {
       "model_id": "",
       "version_major": 2,
       "version_minor": 0
      },
      "text/plain": [
       "Groups:   0%|          | 0/7 [00:00<?, ?it/s]"
      ]
     },
     "metadata": {},
     "output_type": "display_data"
    },
    {
     "data": {
      "application/vnd.jupyter.widget-view+json": {
       "model_id": "",
       "version_major": 2,
       "version_minor": 0
      },
      "text/plain": [
       "Groups:   0%|          | 0/7 [00:00<?, ?it/s]"
      ]
     },
     "metadata": {},
     "output_type": "display_data"
    },
    {
     "data": {
      "application/vnd.jupyter.widget-view+json": {
       "model_id": "",
       "version_major": 2,
       "version_minor": 0
      },
      "text/plain": [
       "Groups:   0%|          | 0/7 [00:00<?, ?it/s]"
      ]
     },
     "metadata": {},
     "output_type": "display_data"
    },
    {
     "data": {
      "application/vnd.jupyter.widget-view+json": {
       "model_id": "",
       "version_major": 2,
       "version_minor": 0
      },
      "text/plain": [
       "Groups:   0%|          | 0/7 [00:00<?, ?it/s]"
      ]
     },
     "metadata": {},
     "output_type": "display_data"
    },
    {
     "data": {
      "application/vnd.jupyter.widget-view+json": {
       "model_id": "",
       "version_major": 2,
       "version_minor": 0
      },
      "text/plain": [
       "Groups:   0%|          | 0/7 [00:00<?, ?it/s]"
      ]
     },
     "metadata": {},
     "output_type": "display_data"
    },
    {
     "data": {
      "application/vnd.jupyter.widget-view+json": {
       "model_id": "",
       "version_major": 2,
       "version_minor": 0
      },
      "text/plain": [
       "Groups:   0%|          | 0/7 [00:00<?, ?it/s]"
      ]
     },
     "metadata": {},
     "output_type": "display_data"
    },
    {
     "data": {
      "application/vnd.jupyter.widget-view+json": {
       "model_id": "",
       "version_major": 2,
       "version_minor": 0
      },
      "text/plain": [
       "Groups:   0%|          | 0/7 [00:00<?, ?it/s]"
      ]
     },
     "metadata": {},
     "output_type": "display_data"
    },
    {
     "data": {
      "application/vnd.jupyter.widget-view+json": {
       "model_id": "",
       "version_major": 2,
       "version_minor": 0
      },
      "text/plain": [
       "Groups:   0%|          | 0/7 [00:00<?, ?it/s]"
      ]
     },
     "metadata": {},
     "output_type": "display_data"
    },
    {
     "data": {
      "application/vnd.jupyter.widget-view+json": {
       "model_id": "",
       "version_major": 2,
       "version_minor": 0
      },
      "text/plain": [
       "Groups:   0%|          | 0/7 [00:00<?, ?it/s]"
      ]
     },
     "metadata": {},
     "output_type": "display_data"
    },
    {
     "data": {
      "application/vnd.jupyter.widget-view+json": {
       "model_id": "",
       "version_major": 2,
       "version_minor": 0
      },
      "text/plain": [
       "Groups:   0%|          | 0/7 [00:00<?, ?it/s]"
      ]
     },
     "metadata": {},
     "output_type": "display_data"
    },
    {
     "data": {
      "application/vnd.jupyter.widget-view+json": {
       "model_id": "",
       "version_major": 2,
       "version_minor": 0
      },
      "text/plain": [
       "Groups:   0%|          | 0/7 [00:00<?, ?it/s]"
      ]
     },
     "metadata": {},
     "output_type": "display_data"
    },
    {
     "data": {
      "application/vnd.jupyter.widget-view+json": {
       "model_id": "",
       "version_major": 2,
       "version_minor": 0
      },
      "text/plain": [
       "Groups:   0%|          | 0/7 [00:00<?, ?it/s]"
      ]
     },
     "metadata": {},
     "output_type": "display_data"
    },
    {
     "data": {
      "application/vnd.jupyter.widget-view+json": {
       "model_id": "",
       "version_major": 2,
       "version_minor": 0
      },
      "text/plain": [
       "Groups:   0%|          | 0/7 [00:00<?, ?it/s]"
      ]
     },
     "metadata": {},
     "output_type": "display_data"
    },
    {
     "data": {
      "application/vnd.jupyter.widget-view+json": {
       "model_id": "",
       "version_major": 2,
       "version_minor": 0
      },
      "text/plain": [
       "Groups:   0%|          | 0/7 [00:00<?, ?it/s]"
      ]
     },
     "metadata": {},
     "output_type": "display_data"
    },
    {
     "data": {
      "application/vnd.jupyter.widget-view+json": {
       "model_id": "",
       "version_major": 2,
       "version_minor": 0
      },
      "text/plain": [
       "Groups:   0%|          | 0/7 [00:00<?, ?it/s]"
      ]
     },
     "metadata": {},
     "output_type": "display_data"
    },
    {
     "data": {
      "application/vnd.jupyter.widget-view+json": {
       "model_id": "",
       "version_major": 2,
       "version_minor": 0
      },
      "text/plain": [
       "Groups:   0%|          | 0/7 [00:00<?, ?it/s]"
      ]
     },
     "metadata": {},
     "output_type": "display_data"
    },
    {
     "data": {
      "application/vnd.jupyter.widget-view+json": {
       "model_id": "",
       "version_major": 2,
       "version_minor": 0
      },
      "text/plain": [
       "Groups:   0%|          | 0/7 [00:00<?, ?it/s]"
      ]
     },
     "metadata": {},
     "output_type": "display_data"
    },
    {
     "data": {
      "application/vnd.jupyter.widget-view+json": {
       "model_id": "",
       "version_major": 2,
       "version_minor": 0
      },
      "text/plain": [
       "Groups:   0%|          | 0/7 [00:00<?, ?it/s]"
      ]
     },
     "metadata": {},
     "output_type": "display_data"
    },
    {
     "data": {
      "application/vnd.jupyter.widget-view+json": {
       "model_id": "",
       "version_major": 2,
       "version_minor": 0
      },
      "text/plain": [
       "Groups:   0%|          | 0/7 [00:00<?, ?it/s]"
      ]
     },
     "metadata": {},
     "output_type": "display_data"
    },
    {
     "data": {
      "application/vnd.jupyter.widget-view+json": {
       "model_id": "",
       "version_major": 2,
       "version_minor": 0
      },
      "text/plain": [
       "Groups:   0%|          | 0/7 [00:00<?, ?it/s]"
      ]
     },
     "metadata": {},
     "output_type": "display_data"
    }
   ],
   "source": [
    "# Create slopes for all integrations\n",
    "im_slope_ref = []\n",
    "for i in trange(nint):\n",
    "    # Create copy of OPD and add delta\n",
    "    opd_int = deepcopy(opd_sci_last)\n",
    "    opd_int[0].data += dopds_ref[i]\n",
    "\n",
    "    im_slope = gen_slope_image(nrc_ref, opd_int, jitter_rand_ref[i], sp=sp_ref)\n",
    "    im_slope_ref.append(im_slope)\n",
    "    \n",
    "im_slope_ref = np.array(im_slope_ref)"
   ]
  },
  {
   "cell_type": "code",
   "execution_count": 43,
   "id": "green-workplace",
   "metadata": {},
   "outputs": [],
   "source": [
    "# Realign reference images\n",
    "tax_pix = ta_x / nrc_ref.pixelscale\n",
    "tay_pix = ta_y / nrc_ref.pixelscale\n",
    "im_slope_ref_sh = fourier_imshift(im_slope_ref, -tax_pix, -tay_pix, pad=False)"
   ]
  },
  {
   "cell_type": "code",
   "execution_count": 44,
   "id": "chemical-medicine",
   "metadata": {},
   "outputs": [
    {
     "data": {
      "image/png": "[encoded data removed]",
      "text/plain": [
       "<Figure size 1008x306 with 6 Axes>"
      ]
     },
     "metadata": {
      "needs_background": "light"
     },
     "output_type": "display_data"
    }
   ],
   "source": [
    "im_sci = np.mean(im_slope_sci, axis=0)\n",
    "im_ref = np.mean(im_slope_ref, axis=0)\n",
    "im_ref_sh = np.mean(im_slope_ref_sh, axis=0)\n",
    "\n",
    "diff1 = im_sci - im_ref\n",
    "diff2 = im_sci - im_ref_sh\n",
    "\n",
    "hdul_sci   = fits.HDUList(fits.PrimaryHDU(im_sci))\n",
    "hdul_diff1 = fits.HDUList(fits.PrimaryHDU(diff1))\n",
    "hdul_diff2 = fits.HDUList(fits.PrimaryHDU(diff2))\n",
    "\n",
    "# Get min/max for plotting difference images\n",
    "im = hdul_diff2[0].data\n",
    "im_rho = dist_image(im, pixscale=nrc_sci.pixelscale)\n",
    "ind = (im_rho>1) & (im_rho<3)\n",
    "vmax_diff = np.max(np.abs(im[ind]))\n",
    "vmin_diff = -1 * vmax_diff\n",
    "\n",
    "fig, axes = plt.subplots(1,3,figsize=(14,4.25))\n",
    "\n",
    "titles = ['Raw PSF', 'Differenced', 'Aligned Diff']\n",
    "for i, hdul in enumerate([hdul_sci, hdul_diff1, hdul_diff2]):\n",
    "    hdul[0].header['PIXELSCL'] = nrc_sci.pixelscale\n",
    "    ax = axes[i]\n",
    "    \n",
    "    if i==0:\n",
    "        vmin = vmax = None\n",
    "        axes_color='white'\n",
    "        cmap = None\n",
    "    else:\n",
    "        vmin = vmin_diff\n",
    "        vmax = vmax_diff\n",
    "        axes_color='k'\n",
    "        cmap = 'RdBu_r'\n",
    "        \n",
    "    plot_hdulist(hdul, ax=ax, vmin=vmin, vmax=vmax, cmap=cmap, axes_color=axes_color)\n",
    "    \n",
    "    hdu = hdul[0]\n",
    "    im_rho = dist_image(hdu.data, pixscale=hdu.header['PIXELSCL'])\n",
    "\n",
    "    rms = np.std(hdu.data[im_rho<2])\n",
    "    rms_str = f' (RMS={rms:.2f})'\n",
    "    ax.set_title(titles[i] + rms_str)\n",
    "\n",
    "\n",
    "ta_val = tacq_vals[imode_tacq][0]\n",
    "title = f'{scenarios[imode]} $\\Delta$WFE; Jitter = {jitter_sig:.1f} mas; TA = {ta_val:.1f} mas'\n",
    "fig.suptitle(title, fontsize=16)\n",
    "\n",
    "fig.tight_layout()\n",
    "\n",
    "fname = f'images_{scenarios[imode]}_jit{jitter_sig:.1f}mas_tacq{ta_val:.1f}mas.pdf'\n",
    "fname = fname.replace(' ','')\n",
    "fig.savefig('output/'+fname)"
   ]
  },
  {
   "cell_type": "code",
   "execution_count": 45,
   "id": "prescribed-feelings",
   "metadata": {},
   "outputs": [],
   "source": [
    "# Save files\n",
    "f1 = f'{scenarios[imode]}_jit{jitter_sig:.1f}mas_tacq{ta_val:.1f}mas_psf.fits'\n",
    "f1 = f1.replace(' ','')\n",
    "\n",
    "f2 = f'{scenarios[imode]}_jit{jitter_sig:.1f}mas_tacq{ta_val:.1f}mas_diff1.fits'\n",
    "f2 = f2.replace(' ','')\n",
    "\n",
    "f3 = f'{scenarios[imode]}_jit{jitter_sig:.1f}mas_tacq{ta_val:.1f}mas_diff2.fits'\n",
    "f3 = f3.replace(' ','')\n",
    "\n",
    "hdul_sci.writeto('output/' + f1, overwrite=True)\n",
    "hdul_diff1.writeto('output/' + f2, overwrite=True)\n",
    "hdul_diff2.writeto('output/' + f3, overwrite=True)"
   ]
  },
  {
   "cell_type": "code",
   "execution_count": 46,
   "id": "assisted-mercury",
   "metadata": {},
   "outputs": [],
   "source": [
    "nsig = 5\n",
    "\n",
    "# Get standard deviation at each radial bin\n",
    "rr, stds = radial_std(diff2, pixscale=nrc_sci.pixelscale)\n",
    "\n",
    "# Bin to detector-sampled data\n",
    "xpix, ypix = (nrc_sci.det_info['xpix'], nrc_sci.det_info['ypix'])\n",
    "pixscale = nrc_sci.pixelscale\n",
    "\n",
    "ny, nx = (ypix, xpix)\n",
    "yv = (np.arange(ny) - ny/2) * pixscale\n",
    "xv = np.zeros_like(yv)\n",
    "\n",
    "# Get mask transmission\n",
    "trans = nrc_mask_trans(nrc_sci.image_mask, xv, yv)\n",
    "# Linear combination of min/max to determine PSF max value at given distance\n",
    "# Get a and b values for each position\n",
    "avals = trans**2\n",
    "bvals = 1 - avals\n",
    "\n",
    "bp = nrc_sci.bandpass\n",
    "obs = nrc_utils.S.Observation(sp_sci, bp, binset=bp.wave)\n",
    "star_flux = obs.effstim('counts')\n",
    "psf_cen = pad_or_cut_to_size(im_sci / star_flux, 20)\n",
    "psf_off = nrc_ref.calc_psf_from_coeff(use_bg_psf=True, return_oversample=False, \n",
    "                                      return_hdul=False)\n",
    "\n",
    "psf_cen_max = psf_cen.max()\n",
    "psf_off_max = psf_off.max()\n",
    "\n",
    "# Linear combination\n",
    "psf_max = avals * psf_off_max + bvals * psf_cen_max\n",
    "# Interpolate values at rr locations\n",
    "psf_max = 10**np.interp(rr, yv, np.log10(psf_max))\n",
    "# Fix anything outside of bounds\n",
    "if rr.max() > 10:\n",
    "    psf_max[rr>10] = psf_max[(rr>5) & (rr<10)].max()\n",
    "    \n",
    "# Count rate necessary to obtain some nsig\n",
    "texp  = nrc_sci.multiaccum_times['t_exp']\n",
    "p     = 1 / texp\n",
    "crate = (p*nsig**2 + nsig*np.sqrt((p*nsig)**2 + 4*stds**2)) / 2\n",
    "# Get total count rate\n",
    "crate /= psf_max\n",
    "\n",
    "# Get contrast\n",
    "star_mag = obs.effstim('vegamag')\n",
    "contrast = crate / star_flux\n",
    "sen_mag = star_mag - 2.5*np.log10(contrast)\n",
    "\n",
    "# Background sensitivity\n",
    "sen, _ = nrc_sci.sensitivity(sp=sp_sci, nsig=nsig, units='vegamag')\n",
    "bg_sen = 10**((star_mag - sen['sensitivity']) / 2.5)\n",
    "bg_sen_arr = np.ones_like(rr)*bg_sen"
   ]
  },
  {
   "cell_type": "code",
   "execution_count": 47,
   "id": "satisfactory-liberty",
   "metadata": {},
   "outputs": [],
   "source": [
    "# Save arrays to disk\n",
    "fout = f'{scenarios[imode]}_jit{jitter_sig:.1f}mas_tacq{ta_val:.1f}mas_contrast.npz'\n",
    "fout = fout.replace(' ','')\n",
    "\n",
    "np.savez('output/' + fout, rr=rr, contrast=contrast, sen_mag=sen_mag, bg_sen_arr=bg_sen_arr)\n",
    "\n",
    "# Load by:\n",
    "#   res = np.load('output/' + fout)\n",
    "# Then access:\n",
    "#   rr = res['rr']"
   ]
  },
  {
   "cell_type": "code",
   "execution_count": null,
   "id": "supreme-category",
   "metadata": {},
   "outputs": [],
   "source": []
  },
  {
   "cell_type": "code",
   "execution_count": 48,
   "id": "north-sacramento",
   "metadata": {},
   "outputs": [
    {
     "data": {
      "text/plain": [
       "[<matplotlib.lines.Line2D at 0x7f9c99cd7dd0>]"
      ]
     },
     "execution_count": 48,
     "metadata": {},
     "output_type": "execute_result"
    },
    {
     "data": {
      "image/png": "[encoded data removed]",
      "text/plain": [
       "<Figure size 576x432 with 1 Axes>"
      ]
     },
     "metadata": {
      "needs_background": "light"
     },
     "output_type": "display_data"
    }
   ],
   "source": [
    "plt.semilogy(rr, contrast)\n",
    "plt.plot(rr, bg_sen_arr, ls='--')\n",
    "# plt.ylim([24,8])"
   ]
  },
  {
   "cell_type": "code",
   "execution_count": null,
   "id": "accessible-thong",
   "metadata": {},
   "outputs": [],
   "source": []
  },
  {
   "cell_type": "code",
   "execution_count": 38,
   "id": "configured-organization",
   "metadata": {},
   "outputs": [],
   "source": [
    "opd_int = deepcopy(hdul_opds_static)\n",
    "opd_int[0].data += dopds_sci[-1]\n",
    "\n",
    "im_slope = gen_slope_image(nrc_sci, opd_int, jitter_rand[-1], sp=sp_sci)"
   ]
  },
  {
   "cell_type": "code",
   "execution_count": 48,
   "id": "frank-briefing",
   "metadata": {},
   "outputs": [
    {
     "name": "stdout",
     "output_type": "stream",
     "text": [
      "0.0382894929590767\n"
     ]
    },
    {
     "data": {
      "text/plain": [
       "<matplotlib.image.AxesImage at 0x7fac98687810>"
      ]
     },
     "execution_count": 48,
     "metadata": {},
     "output_type": "execute_result"
    },
    {
     "data": {
      "image/png": "[encoded data removed]",
      "text/plain": [
       "<Figure size 432x288 with 1 Axes>"
      ]
     },
     "metadata": {
      "needs_background": "light"
     },
     "output_type": "display_data"
    }
   ],
   "source": [
    "im_rho = dist_image(im_slope, pixscale=nrc_sci.pixelscale)\n",
    "\n",
    "im_noise = nrc_sci.Detector.pixel_noise(fsrc=im_slope, fzodi=nrc_sci.bg_zodi())\n",
    "ind = (im_rho>1) & (im_rho<2)\n",
    "print(np.median(im_noise[ind]))\n",
    "\n",
    "plt.imshow(im_noise)"
   ]
  },
  {
   "cell_type": "markdown",
   "id": "sudden-victim",
   "metadata": {},
   "source": [
    "# Get average WFE drift values for each Mode"
   ]
  },
  {
   "cell_type": "code",
   "execution_count": 49,
   "id": "peaceful-clearance",
   "metadata": {},
   "outputs": [
    {
     "data": {
      "application/vnd.jupyter.widget-view+json": {
       "model_id": "",
       "version_major": 2,
       "version_minor": 0
      },
      "text/plain": [
       "  0%|          | 0/3 [00:00<?, ?it/s]"
      ]
     },
     "metadata": {},
     "output_type": "display_data"
    },
    {
     "name": "stdout",
     "output_type": "stream",
     "text": [
      "0.7290224779643089\n"
     ]
    },
    {
     "data": {
      "application/vnd.jupyter.widget-view+json": {
       "model_id": "",
       "version_major": 2,
       "version_minor": 0
      },
      "text/plain": [
       "  0%|          | 0/3 [00:00<?, ?it/s]"
      ]
     },
     "metadata": {},
     "output_type": "display_data"
    },
    {
     "name": "stdout",
     "output_type": "stream",
     "text": [
      "1.2687683146109578\n"
     ]
    },
    {
     "data": {
      "application/vnd.jupyter.widget-view+json": {
       "model_id": "",
       "version_major": 2,
       "version_minor": 0
      },
      "text/plain": [
       "  0%|          | 0/3 [00:00<?, ?it/s]"
      ]
     },
     "metadata": {},
     "output_type": "display_data"
    },
    {
     "name": "stdout",
     "output_type": "stream",
     "text": [
      "3.448878514482128\n"
     ]
    }
   ],
   "source": [
    "for imode in range(3):\n",
    "    dopds = np.zeros([nint,1024,1024])\n",
    "    dopds_ref = np.zeros([nint,1024,1024])\n",
    "    for hdul in tqdm([hdul_opds_thermal, hdul_opds_frill, hdul_opds_iec], leave=False):\n",
    "        # Flip along y-axis for correct orientation\n",
    "        opds = hdul[imode].data[:,::-1,:]\n",
    "\n",
    "        # Interpolate science dOPDs\n",
    "        func = interp1d(tvals_sec, opds, axis=0, kind='linear', bounds_error=True)\n",
    "        opds_int = func(tint_all)\n",
    "        dopds += np.array([frebin(opd, dimensions=1024, total=False) for opd in opds_int])\n",
    "\n",
    "        # Interpolate reference dOPDs\n",
    "        if hdul is hdul_opds_iec:\n",
    "            # For IEC, start 3600 sec later\n",
    "            opds_int = func(tint_all + nrc_sci.Detector.time_total)\n",
    "        else:\n",
    "            # Flip sign for thermal and frill for reference obs\n",
    "            opds_int = func(tint_all)\n",
    "            opds_int *= -1\n",
    "        dopds_ref += np.array([frebin(opd, dimensions=1024, total=False) for opd in opds_int])\n",
    "\n",
    "    test1 = np.mean(dopds[-1] + dopds_ref, axis=0) - np.mean(dopds, axis=0)\n",
    "    print(calc_rms(test1) * 1000)"
   ]
  },
  {
   "cell_type": "code",
   "execution_count": 68,
   "id": "earlier-dream",
   "metadata": {},
   "outputs": [],
   "source": [
    "wfe_thermal = np.zeros([3, len(tvals_sec)])\n",
    "wfe_frill = np.zeros([3, len(tvals_sec)])\n",
    "for imode in range(3):\n",
    "    hdul = hdul_opds_thermal\n",
    "    wfe_thermal[imode] = np.array([calc_rms(im) for im in hdul[imode].data]) * 1000\n",
    "\n",
    "    hdul = hdul_opds_frill\n",
    "    wfe_frill[imode] = np.array([calc_rms(im) for im in hdul[imode].data]) * 1000\n"
   ]
  },
  {
   "cell_type": "code",
   "execution_count": 71,
   "id": "removable-affair",
   "metadata": {},
   "outputs": [
    {
     "data": {
      "text/plain": [
       "[<matplotlib.lines.Line2D at 0x7fab2888e2d0>]"
      ]
     },
     "execution_count": 71,
     "metadata": {},
     "output_type": "execute_result"
    },
    {
     "data": {
      "image/png": "[encoded data removed]",
      "text/plain": [
       "<Figure size 432x288 with 1 Axes>"
      ]
     },
     "metadata": {
      "needs_background": "light"
     },
     "output_type": "display_data"
    }
   ],
   "source": [
    "plt.plot(tvals_sec, wfe_thermal[0])\n",
    "plt.plot(tvals_sec, wfe_frill[0])\n",
    "\n",
    "plt.plot(tvals_sec, wfe_thermal[1])\n",
    "plt.plot(tvals_sec, wfe_frill[1])\n",
    "\n",
    "plt.plot(tvals_sec, wfe_thermal[2])\n",
    "plt.plot(tvals_sec, wfe_frill[2])"
   ]
  },
  {
   "cell_type": "code",
   "execution_count": 58,
   "id": "forward-montgomery",
   "metadata": {},
   "outputs": [
    {
     "data": {
      "application/vnd.jupyter.widget-view+json": {
       "model_id": "",
       "version_major": 2,
       "version_minor": 0
      },
      "text/plain": [
       "  0%|          | 0/2 [00:00<?, ?it/s]"
      ]
     },
     "metadata": {},
     "output_type": "display_data"
    },
    {
     "name": "stdout",
     "output_type": "stream",
     "text": [
      "0.04725211535424118\n"
     ]
    },
    {
     "data": {
      "application/vnd.jupyter.widget-view+json": {
       "model_id": "",
       "version_major": 2,
       "version_minor": 0
      },
      "text/plain": [
       "  0%|          | 0/2 [00:00<?, ?it/s]"
      ]
     },
     "metadata": {},
     "output_type": "display_data"
    },
    {
     "name": "stdout",
     "output_type": "stream",
     "text": [
      "0.18900846141696473\n"
     ]
    },
    {
     "data": {
      "application/vnd.jupyter.widget-view+json": {
       "model_id": "",
       "version_major": 2,
       "version_minor": 0
      },
      "text/plain": [
       "  0%|          | 0/2 [00:00<?, ?it/s]"
      ]
     },
     "metadata": {},
     "output_type": "display_data"
    },
    {
     "name": "stdout",
     "output_type": "stream",
     "text": [
      "4.725211640852338\n"
     ]
    }
   ],
   "source": [
    "wfe_all = np.zeros([3, len(tvals_sec)])\n",
    "for imode in range(3):\n",
    "    dopds = np.zeros([nint,1024,1024])\n",
    "    dopds_ref = np.zeros([nint,1024,1024])\n",
    "    for hdul in tqdm([hdul_opds_thermal, hdul_opds_frill], leave=False):\n",
    "        # Flip along y-axis for correct orientation\n",
    "        opds = hdul[imode].data[:,::-1,:]\n",
    "\n",
    "        # Interpolate science dOPDs\n",
    "        func = interp1d(tvals_sec, opds, axis=0, kind='linear', bounds_error=True)\n",
    "        opds_int = func(tint_all)\n",
    "        dopds += np.array([frebin(opd, dimensions=1024, total=False) for opd in opds_int])\n",
    "\n",
    "        # Interpolate reference dOPDs\n",
    "        if hdul is hdul_opds_iec:\n",
    "            # For IEC, start 3600 sec later\n",
    "            opds_int = func(tint_all + nrc_sci.Detector.time_total)\n",
    "        else:\n",
    "            # Flip sign for thermal and frill for reference obs\n",
    "            opds_int = func(tint_all + 1.5*nrc_sci.Detector.time_total)\n",
    "            opds_int *= 1\n",
    "        dopds_ref += np.array([frebin(opd, dimensions=1024, total=False) for opd in opds_int])\n",
    "\n",
    "    test1 = np.mean(dopds[-1] + dopds_ref, axis=0) - np.mean(dopds, axis=0)\n",
    "    print(calc_rms(test1) * 1000)"
   ]
  },
  {
   "cell_type": "code",
   "execution_count": 15,
   "id": "potential-richmond",
   "metadata": {},
   "outputs": [
    {
     "data": {
      "application/vnd.jupyter.widget-view+json": {
       "model_id": "",
       "version_major": 2,
       "version_minor": 0
      },
      "text/plain": [
       "  0%|          | 0/3 [00:00<?, ?it/s]"
      ]
     },
     "metadata": {},
     "output_type": "display_data"
    },
    {
     "name": "stdout",
     "output_type": "stream",
     "text": [
      "Best Case\n",
      "1.8103116612136214 0.989980867649868\n",
      "0.7290224779643089\n"
     ]
    },
    {
     "data": {
      "application/vnd.jupyter.widget-view+json": {
       "model_id": "",
       "version_major": 2,
       "version_minor": 0
      },
      "text/plain": [
       "  0%|          | 0/3 [00:00<?, ?it/s]"
      ]
     },
     "metadata": {},
     "output_type": "display_data"
    },
    {
     "name": "stdout",
     "output_type": "stream",
     "text": [
      "Nominal\n",
      "3.081333209808071 1.6982575845101227\n",
      "1.2687683146109578\n"
     ]
    },
    {
     "data": {
      "application/vnd.jupyter.widget-view+json": {
       "model_id": "",
       "version_major": 2,
       "version_minor": 0
      },
      "text/plain": [
       "  0%|          | 0/3 [00:00<?, ?it/s]"
      ]
     },
     "metadata": {},
     "output_type": "display_data"
    },
    {
     "name": "stdout",
     "output_type": "stream",
     "text": [
      "Requirements\n",
      "5.614388501846016 3.280041228886464\n",
      "3.4488785144821286\n"
     ]
    },
    {
     "data": {
      "text/plain": [
       "<matplotlib.legend.Legend at 0x7fad29b50190>"
      ]
     },
     "execution_count": 15,
     "metadata": {},
     "output_type": "execute_result"
    },
    {
     "data": {
      "image/png": "[encoded data removed]",
      "text/plain": [
       "<Figure size 576x432 with 1 Axes>"
      ]
     },
     "metadata": {
      "needs_background": "light"
     },
     "output_type": "display_data"
    }
   ],
   "source": [
    "# Get average WFE drift (nm RMS)\n",
    "# Create drifted OPDs for each integration\n",
    "\n",
    "fig, ax = plt.subplots(1,1)\n",
    "\n",
    "for imode in range(3):\n",
    "    \n",
    "    dopds_sci = np.zeros([nint,1024,1024])\n",
    "    dopds_ref = np.zeros([nint,1024,1024])\n",
    "    for hdul in tqdm([hdul_opds_thermal, hdul_opds_frill, hdul_opds_iec], leave=False):\n",
    "        # Flip along y-axis for correct orientation\n",
    "        opds = hdul[imode].data[:,::-1,:]\n",
    "\n",
    "        # Interpolate science dOPDs\n",
    "        func = interp1d(tvals_sec, opds, axis=0, kind='linear', bounds_error=True)\n",
    "        opds_int = func(tint_all)\n",
    "        dopds_sci += np.array([frebin(opd, dimensions=1024, total=False) for opd in opds_int])\n",
    "\n",
    "        # Interpolate reference dOPDs\n",
    "        if hdul is hdul_opds_iec:\n",
    "            # For IEC, start 3600 sec later\n",
    "            opds_int = func(tint_all + nrc_sci.Detector.time_total)\n",
    "#             opds_int = opds[nint:2*nint]\n",
    "        else:\n",
    "            # Flip sign for thermal and frill for reference obs\n",
    "            opds_int = func(tint_all)\n",
    "            opds_int *= -1\n",
    "        dopds_ref += np.array([frebin(opd, dimensions=1024, total=False) for opd in opds_int])\n",
    "\n",
    "    opds_sci = dopds_sci + hdul_opds_static[0].data\n",
    "    opds_ref = dopds_ref + opds_sci[-1]\n",
    "        \n",
    "    opds_diff =  opds_sci - opds_ref\n",
    "    rms_all_nm = np.array([calc_rms(im) for im in opds_diff]) * 1000\n",
    "\n",
    "    rms_avg_nm = np.mean(opds_sci, axis=0) - np.mean(opds_ref, axis=0)\n",
    "    \n",
    "    ax.plot(rms_all_nm, label=scenarios[imode])\n",
    "    \n",
    "    print(scenarios[imode])\n",
    "    print(np.mean(rms_all_nm), np.std(rms_all_nm))\n",
    "    print(calc_rms(rms_avg_nm) * 1000)\n",
    "    \n",
    "ax.legend()"
   ]
  },
  {
   "cell_type": "code",
   "execution_count": null,
   "id": "stupid-genre",
   "metadata": {},
   "outputs": [],
   "source": []
  }
 ],
 "metadata": {
  "kernelspec": {
   "display_name": "Python 3",
   "language": "python",
   "name": "python3"
  },
  "language_info": {
   "codemirror_mode": {
    "name": "ipython",
    "version": 3
   },
   "file_extension": ".py",
   "mimetype": "text/x-python",
   "name": "python",
   "nbconvert_exporter": "python",
   "pygments_lexer": "ipython3",
   "version": "3.7.9"
  }
 },
 "nbformat": 4,
 "nbformat_minor": 5
}
