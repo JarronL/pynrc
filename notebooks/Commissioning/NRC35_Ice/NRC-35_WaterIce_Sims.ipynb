{
 "cells": [
  {
   "cell_type": "markdown",
   "id": "textile-greek",
   "metadata": {},
   "source": [
    "# NRC-35: OTE Water Ice Measurements with NIRCam\n",
    "\n",
    "This activity will use NIRCam longwave grism spectra to check for ice contamination associated with the telescope and instrument cooldown.\n",
    "\n",
    "## Part 1: Simulations"
   ]
  },
  {
   "cell_type": "code",
   "execution_count": 1,
   "id": "speaking-garage",
   "metadata": {},
   "outputs": [],
   "source": [
    "# Import the usual libraries\n",
    "import numpy as np\n",
    "import matplotlib\n",
    "import matplotlib.pyplot as plt\n",
    "\n",
    "# Enable inline plotting at lower left\n",
    "%matplotlib inline\n",
    "\n",
    "# Program bar\n",
    "from tqdm.auto import trange, tqdm"
   ]
  },
  {
   "cell_type": "code",
   "execution_count": 2,
   "id": "53350088",
   "metadata": {},
   "outputs": [
    {
     "name": "stdout",
     "output_type": "stream",
     "text": [
      "pyNRC log messages of level WARN and above will be shown.\n",
      "pyNRC log outputs will be directed to the screen.\n"
     ]
    }
   ],
   "source": [
    "from nrc35 import *"
   ]
  },
  {
   "cell_type": "markdown",
   "id": "extensive-broadcast",
   "metadata": {},
   "source": [
    "## OTE Ice Observations\n",
    "\n",
    "1. Post LOS-02 pointing and background check **(L+40; OTE = Initial Deployment)**\n",
    " 1. 31: Pointing Pre-Check (HD 84406)\n",
    " 1. 32: Bgrd Levels Sub256 Pre-Check (HD 84406)\n",
    " 1. 33: Star Levels Sub256 Pre-Check (HD 84406)\n",
    " 1. 34: Bgrd Levels Sub64 Pre-Check (HD 84406)\n",
    " 1. 35: Dark and Bias Pre-Check\n",
    "1. Analysis Time **(6 hours)**\n",
    "1. Pre FSM heater off NIRCam with Beam Probing **(L+40; OTE = Initial Deployment)**\n",
    " 1. 1: LW Grism Ice Monitor #1 Mod-A 256 subarray (HD 84406)\n",
    " 1. 22: Module A GrismR -V2 1 column 2 pts (HD 84406)\n",
    " 1. 23: Module A GrismC +V2 1 pt (HD 84406)\n",
    " 1. 24: Module B GrismR 256 subarray (HD 84406)\n",
    " 1. 25: Module B GrismR +V2 1 column 2 pts (HD 84406)\n",
    " 1. 26: Module B GrismC -V2 1 pt (HD 84406)\n",
    "1. Post-FSM heater off NIRCam Observations\n",
    " 1. 2: LW Grism Ice Monitor #2 (HD 84406) **(L+43; OTE = Initial Deployment)**\n",
    " 1. 3: LW Grism Ice Monitor #3 (HD 84406) **(L+47; OTE = Segment Image Array 1)**\n",
    " 1. 4: LW Grism Ice Monitor #4 (HD 84406) **(L+50; OTE = Global Alignment 1)**\n",
    " 1. 5: LW Grism Ice Monitor #5 (BD+86-189) **(L+54; OTE = Image Stacking 1)**\n",
    " 1. 6: LW Grism Ice Monitor #6 (TYC-8558-1141-1) **(L+58; OTE = Coarse Phasing 1)**\n",
    " 1. 7: LW Grism Ice Monitor #7 (GCRV-21765) **(L+67; OTE = Fine Phasing 1)**\n",
    " 1. 8: LW Grism Ice Monitor #8 (GCRV-21765) **(L+77; OTE = MIMF)**\n",
    " 1. 9: LW Grism Ice Monitor #9 (GCRV-21765) **(L+96; OTE = MIMF)**"
   ]
  },
  {
   "cell_type": "code",
   "execution_count": 3,
   "id": "1e889539",
   "metadata": {},
   "outputs": [
    {
     "name": "stdout",
     "output_type": "stream",
     "text": [
      "/home/jarronl/data/NIRData/NIRCam/OTE_OPDs/\n",
      "/home/jarronl/data/NIRData/NIRCam/NRC_80K/\n",
      "/home/jarronl/data/NIRData/NRC_Sims/Sim_NRC35/\n"
     ]
    }
   ],
   "source": [
    "print(opd_dir)\n",
    "print(darks_80K_dir)\n",
    "print(save_dir)"
   ]
  },
  {
   "cell_type": "code",
   "execution_count": 4,
   "id": "2cf3a6c4",
   "metadata": {},
   "outputs": [],
   "source": [
    "# Initialize observation dictionary\n",
    "obs_dict = init_obs_dict(opd_dir)"
   ]
  },
  {
   "cell_type": "code",
   "execution_count": 5,
   "id": "94d7f944",
   "metadata": {},
   "outputs": [
    {
     "name": "stdout",
     "output_type": "stream",
     "text": [
      "  Creating Observation Parameters...\n"
     ]
    },
    {
     "data": {
      "application/vnd.jupyter.widget-view+json": {
       "model_id": "",
       "version_major": 2,
       "version_minor": 0
      },
      "text/plain": [
       "Visits:   0%|          | 0/18 [00:00<?, ?it/s]"
      ]
     },
     "metadata": {},
     "output_type": "display_data"
    }
   ],
   "source": [
    "# Store obs_params and visit info in in obs_dict\n",
    "#   obs_dict[vkey]['obs_params']\n",
    "#   obs_dict[vkey]['visit']\n",
    "\n",
    "init_visits(obs_dict, rand_seed_init=1234)"
   ]
  },
  {
   "cell_type": "markdown",
   "id": "fe0aa7e9",
   "metadata": {},
   "source": [
    "## Select Any Visit"
   ]
  },
  {
   "cell_type": "code",
   "execution_count": 6,
   "id": "6269e161",
   "metadata": {},
   "outputs": [],
   "source": [
    "vkey = '001:001'"
   ]
  },
  {
   "cell_type": "code",
   "execution_count": 7,
   "id": "f4adb708",
   "metadata": {},
   "outputs": [
    {
     "name": "stdout",
     "output_type": "stream",
     "text": [
      "  Generating Instrument Classes...\n"
     ]
    },
    {
     "data": {
      "application/vnd.jupyter.widget-view+json": {
       "model_id": "",
       "version_major": 2,
       "version_minor": 0
      },
      "text/plain": [
       "Monochromatic PSFs:   0%|          | 0/21 [00:00<?, ?it/s]"
      ]
     },
     "metadata": {},
     "output_type": "display_data"
    }
   ],
   "source": [
    "# Create NIRCam instrument class:\n",
    "#   obs_dict[vkey]['nrc']\n",
    "kw_scales = {'ote_scale': 0.5, 'nc_scale': 0.5, 'ice_scale': None, 'nvr_scale': None}\n",
    "add_inst(obs_dict, key=vkey, **kw_scales)"
   ]
  },
  {
   "cell_type": "code",
   "execution_count": 8,
   "id": "ffb081b4",
   "metadata": {},
   "outputs": [],
   "source": [
    "d = obs_dict[vkey]\n",
    "nrc = d['nrc']"
   ]
  },
  {
   "cell_type": "code",
   "execution_count": 9,
   "id": "faeb9f52",
   "metadata": {},
   "outputs": [
    {
     "name": "stdout",
     "output_type": "stream",
     "text": [
      "F322W2 GRISMR None\n"
     ]
    }
   ],
   "source": [
    "print(nrc.filter, nrc.pupil_mask, nrc.image_mask)"
   ]
  },
  {
   "cell_type": "code",
   "execution_count": 10,
   "id": "87e25a2a",
   "metadata": {},
   "outputs": [
    {
     "data": {
      "image/png": "[encoded data removed]",
      "text/plain": [
       "<Figure size 576x432 with 1 Axes>"
      ]
     },
     "metadata": {
      "needs_background": "light"
     },
     "output_type": "display_data"
    }
   ],
   "source": [
    "# Check that bandpass looks good\n",
    "nrc = obs_dict[vkey]['nrc']\n",
    "nrc.plot_bandpass();"
   ]
  },
  {
   "cell_type": "code",
   "execution_count": 12,
   "id": "94483965",
   "metadata": {},
   "outputs": [
    {
     "name": "stdout",
     "output_type": "stream",
     "text": [
      "  Creating ideal slopes, FSM background, SCA darks, biases...\n"
     ]
    },
    {
     "data": {
      "application/vnd.jupyter.widget-view+json": {
       "model_id": "",
       "version_major": 2,
       "version_minor": 0
      },
      "text/plain": [
       "Filters:   0%|          | 0/29 [00:00<?, ?it/s]"
      ]
     },
     "metadata": {},
     "output_type": "display_data"
    },
    {
     "name": "stdout",
     "output_type": "stream",
     "text": [
      "  Exposure: 1\n"
     ]
    }
   ],
   "source": [
    "# Create slope and check extraction\n",
    "#   obs_dict[vkey]['im_slope_ideal']\n",
    "#   obs_dict[vkey]['bg_slope']\n",
    "#   obs_dict[vkey]['im_bias']\n",
    "#   obs_dict[vkey]['im_dark']\n",
    "add_slope_images(obs_dict, key=vkey, spec_ang=0)"
   ]
  },
  {
   "cell_type": "code",
   "execution_count": 13,
   "id": "fdcc3265",
   "metadata": {},
   "outputs": [
    {
     "data": {
      "image/png": "[encoded data removed]",
      "text/plain": [
       "<Figure size 720x720 with 1 Axes>"
      ]
     },
     "metadata": {
      "needs_background": "light"
     },
     "output_type": "display_data"
    }
   ],
   "source": [
    "# Verify slope image looks right\n",
    "if nrc.is_grism:\n",
    "    \n",
    "    if nrc.Detector.ypix==256:\n",
    "        fig, ax = plt.subplots(1,1, figsize=(14,2.5))\n",
    "        ax2_scl = -0.25\n",
    "    else:\n",
    "        fig, ax = plt.subplots(1,1, figsize=(10,10))\n",
    "        ax2_scl = -0.05\n",
    "\n",
    "    im = obs_dict[vkey]['im_slope_ideal'] + obs_dict[vkey]['bg_slope']\n",
    "    wave = obs_dict[vkey]['wave'][0].mean(axis=0)\n",
    "\n",
    "    extent = [wave.min(), wave.max(), ]\n",
    "    ax.imshow(im)\n",
    "    ax.set_title('Ideal Slope Image')\n",
    "\n",
    "    def x_to_um(x):\n",
    "        dw = wave[1] - wave[0]\n",
    "        return x*dw + wave[0]\n",
    "\n",
    "    def um_to_x(w):\n",
    "        dw = wave[1] - wave[0]\n",
    "        return (w - wave[0]) / dw\n",
    "\n",
    "    ax2 = ax.secondary_xaxis(ax2_scl, functions=(x_to_um, um_to_x))\n",
    "    str_um = '$\\mathdefault{\\mu m}$'\n",
    "    ax2.set_xlabel(f'Wavelength ({str_um})')\n",
    "\n",
    "    fig.tight_layout()\n",
    "\n",
    "else:\n",
    "    im = obs_dict[vkey]['im_slope_ideal']\n",
    "    plt.imshow(im**0.25)"
   ]
  },
  {
   "cell_type": "code",
   "execution_count": 14,
   "id": "deffde25",
   "metadata": {},
   "outputs": [
    {
     "name": "stdout",
     "output_type": "stream",
     "text": [
      "  Creating ideal slopes, FSM background, SCA darks, biases...\n"
     ]
    },
    {
     "data": {
      "application/vnd.jupyter.widget-view+json": {
       "model_id": "",
       "version_major": 2,
       "version_minor": 0
      },
      "text/plain": [
       "Filters:   0%|          | 0/29 [00:00<?, ?it/s]"
      ]
     },
     "metadata": {},
     "output_type": "display_data"
    },
    {
     "name": "stdout",
     "output_type": "stream",
     "text": [
      "  Exposure: 1\n",
      "  Saving: /home/jarronl/data/NIRData/NRC_Sims/Sim_NRC35/slope_jw01409001001_02101_00001_nrca5_uncal.fits\n"
     ]
    },
    {
     "data": {
      "application/vnd.jupyter.widget-view+json": {
       "model_id": "",
       "version_major": 2,
       "version_minor": 0
      },
      "text/plain": [
       "PPC Amps:   0%|          | 0/4 [00:00<?, ?it/s]"
      ]
     },
     "metadata": {},
     "output_type": "display_data"
    },
    {
     "data": {
      "application/vnd.jupyter.widget-view+json": {
       "model_id": "",
       "version_major": 2,
       "version_minor": 0
      },
      "text/plain": [
       "Frames:   0%|          | 0/1 [00:00<?, ?it/s]"
      ]
     },
     "metadata": {},
     "output_type": "display_data"
    },
    {
     "data": {
      "application/vnd.jupyter.widget-view+json": {
       "model_id": "",
       "version_major": 2,
       "version_minor": 0
      },
      "text/plain": [
       "Frames:   0%|          | 0/1 [00:00<?, ?it/s]"
      ]
     },
     "metadata": {},
     "output_type": "display_data"
    },
    {
     "data": {
      "application/vnd.jupyter.widget-view+json": {
       "model_id": "",
       "version_major": 2,
       "version_minor": 0
      },
      "text/plain": [
       "Frames:   0%|          | 0/1 [00:00<?, ?it/s]"
      ]
     },
     "metadata": {},
     "output_type": "display_data"
    },
    {
     "data": {
      "application/vnd.jupyter.widget-view+json": {
       "model_id": "",
       "version_major": 2,
       "version_minor": 0
      },
      "text/plain": [
       "Frames:   0%|          | 0/1 [00:00<?, ?it/s]"
      ]
     },
     "metadata": {},
     "output_type": "display_data"
    },
    {
     "data": {
      "application/vnd.jupyter.widget-view+json": {
       "model_id": "",
       "version_major": 2,
       "version_minor": 0
      },
      "text/plain": [
       "PPC Amps:   0%|          | 0/4 [00:00<?, ?it/s]"
      ]
     },
     "metadata": {},
     "output_type": "display_data"
    },
    {
     "data": {
      "application/vnd.jupyter.widget-view+json": {
       "model_id": "",
       "version_major": 2,
       "version_minor": 0
      },
      "text/plain": [
       "Frames:   0%|          | 0/1 [00:00<?, ?it/s]"
      ]
     },
     "metadata": {},
     "output_type": "display_data"
    },
    {
     "data": {
      "application/vnd.jupyter.widget-view+json": {
       "model_id": "",
       "version_major": 2,
       "version_minor": 0
      },
      "text/plain": [
       "Frames:   0%|          | 0/1 [00:00<?, ?it/s]"
      ]
     },
     "metadata": {},
     "output_type": "display_data"
    },
    {
     "data": {
      "application/vnd.jupyter.widget-view+json": {
       "model_id": "",
       "version_major": 2,
       "version_minor": 0
      },
      "text/plain": [
       "Frames:   0%|          | 0/1 [00:00<?, ?it/s]"
      ]
     },
     "metadata": {},
     "output_type": "display_data"
    },
    {
     "data": {
      "application/vnd.jupyter.widget-view+json": {
       "model_id": "",
       "version_major": 2,
       "version_minor": 0
      },
      "text/plain": [
       "Frames:   0%|          | 0/1 [00:00<?, ?it/s]"
      ]
     },
     "metadata": {},
     "output_type": "display_data"
    },
    {
     "data": {
      "application/vnd.jupyter.widget-view+json": {
       "model_id": "",
       "version_major": 2,
       "version_minor": 0
      },
      "text/plain": [
       "Frames:   0%|          | 0/1 [00:00<?, ?it/s]"
      ]
     },
     "metadata": {},
     "output_type": "display_data"
    },
    {
     "data": {
      "application/vnd.jupyter.widget-view+json": {
       "model_id": "",
       "version_major": 2,
       "version_minor": 0
      },
      "text/plain": [
       "Frames:   0%|          | 0/1 [00:00<?, ?it/s]"
      ]
     },
     "metadata": {},
     "output_type": "display_data"
    },
    {
     "data": {
      "application/vnd.jupyter.widget-view+json": {
       "model_id": "",
       "version_major": 2,
       "version_minor": 0
      },
      "text/plain": [
       "Ramps:   0%|          | 0/10 [00:00<?, ?it/s]"
      ]
     },
     "metadata": {},
     "output_type": "display_data"
    },
    {
     "data": {
      "application/vnd.jupyter.widget-view+json": {
       "model_id": "",
       "version_major": 2,
       "version_minor": 0
      },
      "text/plain": [
       "  0%|          | 0/14 [00:00<?, ?it/s]"
      ]
     },
     "metadata": {},
     "output_type": "display_data"
    },
    {
     "data": {
      "application/vnd.jupyter.widget-view+json": {
       "model_id": "",
       "version_major": 2,
       "version_minor": 0
      },
      "text/plain": [
       "Non-Linearity:   0%|          | 0/3 [00:00<?, ?it/s]"
      ]
     },
     "metadata": {},
     "output_type": "display_data"
    },
    {
     "data": {
      "application/vnd.jupyter.widget-view+json": {
       "model_id": "",
       "version_major": 2,
       "version_minor": 0
      },
      "text/plain": [
       "Uncorr 1/f:   0%|          | 0/4 [00:00<?, ?it/s]"
      ]
     },
     "metadata": {},
     "output_type": "display_data"
    },
    {
     "data": {
      "application/vnd.jupyter.widget-view+json": {
       "model_id": "",
       "version_major": 2,
       "version_minor": 0
      },
      "text/plain": [
       "ACN:   0%|          | 0/4 [00:00<?, ?it/s]"
      ]
     },
     "metadata": {},
     "output_type": "display_data"
    },
    {
     "data": {
      "application/vnd.jupyter.widget-view+json": {
       "model_id": "",
       "version_major": 2,
       "version_minor": 0
      },
      "text/plain": [
       "  0%|          | 0/14 [00:00<?, ?it/s]"
      ]
     },
     "metadata": {},
     "output_type": "display_data"
    },
    {
     "data": {
      "application/vnd.jupyter.widget-view+json": {
       "model_id": "",
       "version_major": 2,
       "version_minor": 0
      },
      "text/plain": [
       "Non-Linearity:   0%|          | 0/3 [00:00<?, ?it/s]"
      ]
     },
     "metadata": {},
     "output_type": "display_data"
    },
    {
     "data": {
      "application/vnd.jupyter.widget-view+json": {
       "model_id": "",
       "version_major": 2,
       "version_minor": 0
      },
      "text/plain": [
       "Uncorr 1/f:   0%|          | 0/4 [00:00<?, ?it/s]"
      ]
     },
     "metadata": {},
     "output_type": "display_data"
    },
    {
     "data": {
      "application/vnd.jupyter.widget-view+json": {
       "model_id": "",
       "version_major": 2,
       "version_minor": 0
      },
      "text/plain": [
       "ACN:   0%|          | 0/4 [00:00<?, ?it/s]"
      ]
     },
     "metadata": {},
     "output_type": "display_data"
    },
    {
     "data": {
      "application/vnd.jupyter.widget-view+json": {
       "model_id": "",
       "version_major": 2,
       "version_minor": 0
      },
      "text/plain": [
       "  0%|          | 0/14 [00:00<?, ?it/s]"
      ]
     },
     "metadata": {},
     "output_type": "display_data"
    },
    {
     "data": {
      "application/vnd.jupyter.widget-view+json": {
       "model_id": "",
       "version_major": 2,
       "version_minor": 0
      },
      "text/plain": [
       "Non-Linearity:   0%|          | 0/3 [00:00<?, ?it/s]"
      ]
     },
     "metadata": {},
     "output_type": "display_data"
    },
    {
     "data": {
      "application/vnd.jupyter.widget-view+json": {
       "model_id": "",
       "version_major": 2,
       "version_minor": 0
      },
      "text/plain": [
       "Uncorr 1/f:   0%|          | 0/4 [00:00<?, ?it/s]"
      ]
     },
     "metadata": {},
     "output_type": "display_data"
    },
    {
     "data": {
      "application/vnd.jupyter.widget-view+json": {
       "model_id": "",
       "version_major": 2,
       "version_minor": 0
      },
      "text/plain": [
       "ACN:   0%|          | 0/4 [00:00<?, ?it/s]"
      ]
     },
     "metadata": {},
     "output_type": "display_data"
    },
    {
     "data": {
      "application/vnd.jupyter.widget-view+json": {
       "model_id": "",
       "version_major": 2,
       "version_minor": 0
      },
      "text/plain": [
       "  0%|          | 0/14 [00:00<?, ?it/s]"
      ]
     },
     "metadata": {},
     "output_type": "display_data"
    },
    {
     "data": {
      "application/vnd.jupyter.widget-view+json": {
       "model_id": "",
       "version_major": 2,
       "version_minor": 0
      },
      "text/plain": [
       "Non-Linearity:   0%|          | 0/3 [00:00<?, ?it/s]"
      ]
     },
     "metadata": {},
     "output_type": "display_data"
    },
    {
     "data": {
      "application/vnd.jupyter.widget-view+json": {
       "model_id": "",
       "version_major": 2,
       "version_minor": 0
      },
      "text/plain": [
       "Uncorr 1/f:   0%|          | 0/4 [00:00<?, ?it/s]"
      ]
     },
     "metadata": {},
     "output_type": "display_data"
    },
    {
     "data": {
      "application/vnd.jupyter.widget-view+json": {
       "model_id": "",
       "version_major": 2,
       "version_minor": 0
      },
      "text/plain": [
       "ACN:   0%|          | 0/4 [00:00<?, ?it/s]"
      ]
     },
     "metadata": {},
     "output_type": "display_data"
    },
    {
     "data": {
      "application/vnd.jupyter.widget-view+json": {
       "model_id": "",
       "version_major": 2,
       "version_minor": 0
      },
      "text/plain": [
       "  0%|          | 0/14 [00:00<?, ?it/s]"
      ]
     },
     "metadata": {},
     "output_type": "display_data"
    },
    {
     "data": {
      "application/vnd.jupyter.widget-view+json": {
       "model_id": "",
       "version_major": 2,
       "version_minor": 0
      },
      "text/plain": [
       "Non-Linearity:   0%|          | 0/3 [00:00<?, ?it/s]"
      ]
     },
     "metadata": {},
     "output_type": "display_data"
    },
    {
     "data": {
      "application/vnd.jupyter.widget-view+json": {
       "model_id": "",
       "version_major": 2,
       "version_minor": 0
      },
      "text/plain": [
       "Uncorr 1/f:   0%|          | 0/4 [00:00<?, ?it/s]"
      ]
     },
     "metadata": {},
     "output_type": "display_data"
    },
    {
     "data": {
      "application/vnd.jupyter.widget-view+json": {
       "model_id": "",
       "version_major": 2,
       "version_minor": 0
      },
      "text/plain": [
       "ACN:   0%|          | 0/4 [00:00<?, ?it/s]"
      ]
     },
     "metadata": {},
     "output_type": "display_data"
    },
    {
     "data": {
      "application/vnd.jupyter.widget-view+json": {
       "model_id": "",
       "version_major": 2,
       "version_minor": 0
      },
      "text/plain": [
       "  0%|          | 0/14 [00:00<?, ?it/s]"
      ]
     },
     "metadata": {},
     "output_type": "display_data"
    },
    {
     "data": {
      "application/vnd.jupyter.widget-view+json": {
       "model_id": "",
       "version_major": 2,
       "version_minor": 0
      },
      "text/plain": [
       "Non-Linearity:   0%|          | 0/3 [00:00<?, ?it/s]"
      ]
     },
     "metadata": {},
     "output_type": "display_data"
    },
    {
     "data": {
      "application/vnd.jupyter.widget-view+json": {
       "model_id": "",
       "version_major": 2,
       "version_minor": 0
      },
      "text/plain": [
       "Uncorr 1/f:   0%|          | 0/4 [00:00<?, ?it/s]"
      ]
     },
     "metadata": {},
     "output_type": "display_data"
    },
    {
     "data": {
      "application/vnd.jupyter.widget-view+json": {
       "model_id": "",
       "version_major": 2,
       "version_minor": 0
      },
      "text/plain": [
       "ACN:   0%|          | 0/4 [00:00<?, ?it/s]"
      ]
     },
     "metadata": {},
     "output_type": "display_data"
    },
    {
     "data": {
      "application/vnd.jupyter.widget-view+json": {
       "model_id": "",
       "version_major": 2,
       "version_minor": 0
      },
      "text/plain": [
       "  0%|          | 0/14 [00:00<?, ?it/s]"
      ]
     },
     "metadata": {},
     "output_type": "display_data"
    },
    {
     "data": {
      "application/vnd.jupyter.widget-view+json": {
       "model_id": "",
       "version_major": 2,
       "version_minor": 0
      },
      "text/plain": [
       "Non-Linearity:   0%|          | 0/3 [00:00<?, ?it/s]"
      ]
     },
     "metadata": {},
     "output_type": "display_data"
    },
    {
     "data": {
      "application/vnd.jupyter.widget-view+json": {
       "model_id": "",
       "version_major": 2,
       "version_minor": 0
      },
      "text/plain": [
       "Uncorr 1/f:   0%|          | 0/4 [00:00<?, ?it/s]"
      ]
     },
     "metadata": {},
     "output_type": "display_data"
    },
    {
     "data": {
      "application/vnd.jupyter.widget-view+json": {
       "model_id": "",
       "version_major": 2,
       "version_minor": 0
      },
      "text/plain": [
       "ACN:   0%|          | 0/4 [00:00<?, ?it/s]"
      ]
     },
     "metadata": {},
     "output_type": "display_data"
    },
    {
     "data": {
      "application/vnd.jupyter.widget-view+json": {
       "model_id": "",
       "version_major": 2,
       "version_minor": 0
      },
      "text/plain": [
       "  0%|          | 0/14 [00:00<?, ?it/s]"
      ]
     },
     "metadata": {},
     "output_type": "display_data"
    },
    {
     "data": {
      "application/vnd.jupyter.widget-view+json": {
       "model_id": "",
       "version_major": 2,
       "version_minor": 0
      },
      "text/plain": [
       "Non-Linearity:   0%|          | 0/3 [00:00<?, ?it/s]"
      ]
     },
     "metadata": {},
     "output_type": "display_data"
    },
    {
     "data": {
      "application/vnd.jupyter.widget-view+json": {
       "model_id": "",
       "version_major": 2,
       "version_minor": 0
      },
      "text/plain": [
       "Uncorr 1/f:   0%|          | 0/4 [00:00<?, ?it/s]"
      ]
     },
     "metadata": {},
     "output_type": "display_data"
    },
    {
     "data": {
      "application/vnd.jupyter.widget-view+json": {
       "model_id": "",
       "version_major": 2,
       "version_minor": 0
      },
      "text/plain": [
       "ACN:   0%|          | 0/4 [00:00<?, ?it/s]"
      ]
     },
     "metadata": {},
     "output_type": "display_data"
    },
    {
     "data": {
      "application/vnd.jupyter.widget-view+json": {
       "model_id": "",
       "version_major": 2,
       "version_minor": 0
      },
      "text/plain": [
       "  0%|          | 0/14 [00:00<?, ?it/s]"
      ]
     },
     "metadata": {},
     "output_type": "display_data"
    },
    {
     "data": {
      "application/vnd.jupyter.widget-view+json": {
       "model_id": "",
       "version_major": 2,
       "version_minor": 0
      },
      "text/plain": [
       "Non-Linearity:   0%|          | 0/3 [00:00<?, ?it/s]"
      ]
     },
     "metadata": {},
     "output_type": "display_data"
    },
    {
     "data": {
      "application/vnd.jupyter.widget-view+json": {
       "model_id": "",
       "version_major": 2,
       "version_minor": 0
      },
      "text/plain": [
       "Uncorr 1/f:   0%|          | 0/4 [00:00<?, ?it/s]"
      ]
     },
     "metadata": {},
     "output_type": "display_data"
    },
    {
     "data": {
      "application/vnd.jupyter.widget-view+json": {
       "model_id": "",
       "version_major": 2,
       "version_minor": 0
      },
      "text/plain": [
       "ACN:   0%|          | 0/4 [00:00<?, ?it/s]"
      ]
     },
     "metadata": {},
     "output_type": "display_data"
    },
    {
     "data": {
      "application/vnd.jupyter.widget-view+json": {
       "model_id": "",
       "version_major": 2,
       "version_minor": 0
      },
      "text/plain": [
       "  0%|          | 0/14 [00:00<?, ?it/s]"
      ]
     },
     "metadata": {},
     "output_type": "display_data"
    },
    {
     "data": {
      "application/vnd.jupyter.widget-view+json": {
       "model_id": "",
       "version_major": 2,
       "version_minor": 0
      },
      "text/plain": [
       "Non-Linearity:   0%|          | 0/3 [00:00<?, ?it/s]"
      ]
     },
     "metadata": {},
     "output_type": "display_data"
    },
    {
     "data": {
      "application/vnd.jupyter.widget-view+json": {
       "model_id": "",
       "version_major": 2,
       "version_minor": 0
      },
      "text/plain": [
       "Uncorr 1/f:   0%|          | 0/4 [00:00<?, ?it/s]"
      ]
     },
     "metadata": {},
     "output_type": "display_data"
    },
    {
     "data": {
      "application/vnd.jupyter.widget-view+json": {
       "model_id": "",
       "version_major": 2,
       "version_minor": 0
      },
      "text/plain": [
       "ACN:   0%|          | 0/4 [00:00<?, ?it/s]"
      ]
     },
     "metadata": {},
     "output_type": "display_data"
    },
    {
     "name": "stdout",
     "output_type": "stream",
     "text": [
      "  Saving: /home/jarronl/data/NIRData/NRC_Sims/Sim_NRC35/jw01409001001_02101_00001_nrca5_uncal.fits\n",
      "  Creating ideal slopes, FSM background, SCA darks, biases...\n"
     ]
    },
    {
     "data": {
      "application/vnd.jupyter.widget-view+json": {
       "model_id": "",
       "version_major": 2,
       "version_minor": 0
      },
      "text/plain": [
       "Filters:   0%|          | 0/29 [00:00<?, ?it/s]"
      ]
     },
     "metadata": {},
     "output_type": "display_data"
    },
    {
     "name": "stdout",
     "output_type": "stream",
     "text": [
      "  Exposure: 2\n",
      "  Saving: /home/jarronl/data/NIRData/NRC_Sims/Sim_NRC35/slope_jw01409001001_02101_00002_nrca5_uncal.fits\n"
     ]
    },
    {
     "data": {
      "application/vnd.jupyter.widget-view+json": {
       "model_id": "",
       "version_major": 2,
       "version_minor": 0
      },
      "text/plain": [
       "PPC Amps:   0%|          | 0/4 [00:00<?, ?it/s]"
      ]
     },
     "metadata": {},
     "output_type": "display_data"
    },
    {
     "data": {
      "application/vnd.jupyter.widget-view+json": {
       "model_id": "",
       "version_major": 2,
       "version_minor": 0
      },
      "text/plain": [
       "Frames:   0%|          | 0/1 [00:00<?, ?it/s]"
      ]
     },
     "metadata": {},
     "output_type": "display_data"
    },
    {
     "data": {
      "application/vnd.jupyter.widget-view+json": {
       "model_id": "",
       "version_major": 2,
       "version_minor": 0
      },
      "text/plain": [
       "Frames:   0%|          | 0/1 [00:00<?, ?it/s]"
      ]
     },
     "metadata": {},
     "output_type": "display_data"
    },
    {
     "data": {
      "application/vnd.jupyter.widget-view+json": {
       "model_id": "",
       "version_major": 2,
       "version_minor": 0
      },
      "text/plain": [
       "Frames:   0%|          | 0/1 [00:00<?, ?it/s]"
      ]
     },
     "metadata": {},
     "output_type": "display_data"
    },
    {
     "data": {
      "application/vnd.jupyter.widget-view+json": {
       "model_id": "",
       "version_major": 2,
       "version_minor": 0
      },
      "text/plain": [
       "Frames:   0%|          | 0/1 [00:00<?, ?it/s]"
      ]
     },
     "metadata": {},
     "output_type": "display_data"
    },
    {
     "data": {
      "application/vnd.jupyter.widget-view+json": {
       "model_id": "",
       "version_major": 2,
       "version_minor": 0
      },
      "text/plain": [
       "PPC Amps:   0%|          | 0/4 [00:00<?, ?it/s]"
      ]
     },
     "metadata": {},
     "output_type": "display_data"
    },
    {
     "data": {
      "application/vnd.jupyter.widget-view+json": {
       "model_id": "",
       "version_major": 2,
       "version_minor": 0
      },
      "text/plain": [
       "Frames:   0%|          | 0/1 [00:00<?, ?it/s]"
      ]
     },
     "metadata": {},
     "output_type": "display_data"
    },
    {
     "data": {
      "application/vnd.jupyter.widget-view+json": {
       "model_id": "",
       "version_major": 2,
       "version_minor": 0
      },
      "text/plain": [
       "Frames:   0%|          | 0/1 [00:00<?, ?it/s]"
      ]
     },
     "metadata": {},
     "output_type": "display_data"
    },
    {
     "data": {
      "application/vnd.jupyter.widget-view+json": {
       "model_id": "",
       "version_major": 2,
       "version_minor": 0
      },
      "text/plain": [
       "Frames:   0%|          | 0/1 [00:00<?, ?it/s]"
      ]
     },
     "metadata": {},
     "output_type": "display_data"
    },
    {
     "data": {
      "application/vnd.jupyter.widget-view+json": {
       "model_id": "",
       "version_major": 2,
       "version_minor": 0
      },
      "text/plain": [
       "Frames:   0%|          | 0/1 [00:00<?, ?it/s]"
      ]
     },
     "metadata": {},
     "output_type": "display_data"
    },
    {
     "data": {
      "application/vnd.jupyter.widget-view+json": {
       "model_id": "",
       "version_major": 2,
       "version_minor": 0
      },
      "text/plain": [
       "Frames:   0%|          | 0/1 [00:00<?, ?it/s]"
      ]
     },
     "metadata": {},
     "output_type": "display_data"
    },
    {
     "data": {
      "application/vnd.jupyter.widget-view+json": {
       "model_id": "",
       "version_major": 2,
       "version_minor": 0
      },
      "text/plain": [
       "Frames:   0%|          | 0/1 [00:00<?, ?it/s]"
      ]
     },
     "metadata": {},
     "output_type": "display_data"
    },
    {
     "data": {
      "application/vnd.jupyter.widget-view+json": {
       "model_id": "",
       "version_major": 2,
       "version_minor": 0
      },
      "text/plain": [
       "Ramps:   0%|          | 0/10 [00:00<?, ?it/s]"
      ]
     },
     "metadata": {},
     "output_type": "display_data"
    },
    {
     "data": {
      "application/vnd.jupyter.widget-view+json": {
       "model_id": "",
       "version_major": 2,
       "version_minor": 0
      },
      "text/plain": [
       "  0%|          | 0/14 [00:00<?, ?it/s]"
      ]
     },
     "metadata": {},
     "output_type": "display_data"
    },
    {
     "data": {
      "application/vnd.jupyter.widget-view+json": {
       "model_id": "",
       "version_major": 2,
       "version_minor": 0
      },
      "text/plain": [
       "Non-Linearity:   0%|          | 0/3 [00:00<?, ?it/s]"
      ]
     },
     "metadata": {},
     "output_type": "display_data"
    },
    {
     "data": {
      "application/vnd.jupyter.widget-view+json": {
       "model_id": "",
       "version_major": 2,
       "version_minor": 0
      },
      "text/plain": [
       "Uncorr 1/f:   0%|          | 0/4 [00:00<?, ?it/s]"
      ]
     },
     "metadata": {},
     "output_type": "display_data"
    },
    {
     "data": {
      "application/vnd.jupyter.widget-view+json": {
       "model_id": "",
       "version_major": 2,
       "version_minor": 0
      },
      "text/plain": [
       "ACN:   0%|          | 0/4 [00:00<?, ?it/s]"
      ]
     },
     "metadata": {},
     "output_type": "display_data"
    },
    {
     "data": {
      "application/vnd.jupyter.widget-view+json": {
       "model_id": "",
       "version_major": 2,
       "version_minor": 0
      },
      "text/plain": [
       "  0%|          | 0/14 [00:00<?, ?it/s]"
      ]
     },
     "metadata": {},
     "output_type": "display_data"
    },
    {
     "data": {
      "application/vnd.jupyter.widget-view+json": {
       "model_id": "",
       "version_major": 2,
       "version_minor": 0
      },
      "text/plain": [
       "Non-Linearity:   0%|          | 0/3 [00:00<?, ?it/s]"
      ]
     },
     "metadata": {},
     "output_type": "display_data"
    },
    {
     "data": {
      "application/vnd.jupyter.widget-view+json": {
       "model_id": "",
       "version_major": 2,
       "version_minor": 0
      },
      "text/plain": [
       "Uncorr 1/f:   0%|          | 0/4 [00:00<?, ?it/s]"
      ]
     },
     "metadata": {},
     "output_type": "display_data"
    },
    {
     "data": {
      "application/vnd.jupyter.widget-view+json": {
       "model_id": "",
       "version_major": 2,
       "version_minor": 0
      },
      "text/plain": [
       "ACN:   0%|          | 0/4 [00:00<?, ?it/s]"
      ]
     },
     "metadata": {},
     "output_type": "display_data"
    },
    {
     "data": {
      "application/vnd.jupyter.widget-view+json": {
       "model_id": "",
       "version_major": 2,
       "version_minor": 0
      },
      "text/plain": [
       "  0%|          | 0/14 [00:00<?, ?it/s]"
      ]
     },
     "metadata": {},
     "output_type": "display_data"
    },
    {
     "data": {
      "application/vnd.jupyter.widget-view+json": {
       "model_id": "",
       "version_major": 2,
       "version_minor": 0
      },
      "text/plain": [
       "Non-Linearity:   0%|          | 0/3 [00:00<?, ?it/s]"
      ]
     },
     "metadata": {},
     "output_type": "display_data"
    },
    {
     "data": {
      "application/vnd.jupyter.widget-view+json": {
       "model_id": "",
       "version_major": 2,
       "version_minor": 0
      },
      "text/plain": [
       "Uncorr 1/f:   0%|          | 0/4 [00:00<?, ?it/s]"
      ]
     },
     "metadata": {},
     "output_type": "display_data"
    },
    {
     "data": {
      "application/vnd.jupyter.widget-view+json": {
       "model_id": "",
       "version_major": 2,
       "version_minor": 0
      },
      "text/plain": [
       "ACN:   0%|          | 0/4 [00:00<?, ?it/s]"
      ]
     },
     "metadata": {},
     "output_type": "display_data"
    },
    {
     "data": {
      "application/vnd.jupyter.widget-view+json": {
       "model_id": "",
       "version_major": 2,
       "version_minor": 0
      },
      "text/plain": [
       "  0%|          | 0/14 [00:00<?, ?it/s]"
      ]
     },
     "metadata": {},
     "output_type": "display_data"
    },
    {
     "data": {
      "application/vnd.jupyter.widget-view+json": {
       "model_id": "",
       "version_major": 2,
       "version_minor": 0
      },
      "text/plain": [
       "Non-Linearity:   0%|          | 0/3 [00:00<?, ?it/s]"
      ]
     },
     "metadata": {},
     "output_type": "display_data"
    },
    {
     "data": {
      "application/vnd.jupyter.widget-view+json": {
       "model_id": "",
       "version_major": 2,
       "version_minor": 0
      },
      "text/plain": [
       "Uncorr 1/f:   0%|          | 0/4 [00:00<?, ?it/s]"
      ]
     },
     "metadata": {},
     "output_type": "display_data"
    },
    {
     "data": {
      "application/vnd.jupyter.widget-view+json": {
       "model_id": "",
       "version_major": 2,
       "version_minor": 0
      },
      "text/plain": [
       "ACN:   0%|          | 0/4 [00:00<?, ?it/s]"
      ]
     },
     "metadata": {},
     "output_type": "display_data"
    },
    {
     "data": {
      "application/vnd.jupyter.widget-view+json": {
       "model_id": "",
       "version_major": 2,
       "version_minor": 0
      },
      "text/plain": [
       "  0%|          | 0/14 [00:00<?, ?it/s]"
      ]
     },
     "metadata": {},
     "output_type": "display_data"
    },
    {
     "data": {
      "application/vnd.jupyter.widget-view+json": {
       "model_id": "",
       "version_major": 2,
       "version_minor": 0
      },
      "text/plain": [
       "Non-Linearity:   0%|          | 0/3 [00:00<?, ?it/s]"
      ]
     },
     "metadata": {},
     "output_type": "display_data"
    },
    {
     "data": {
      "application/vnd.jupyter.widget-view+json": {
       "model_id": "",
       "version_major": 2,
       "version_minor": 0
      },
      "text/plain": [
       "Uncorr 1/f:   0%|          | 0/4 [00:00<?, ?it/s]"
      ]
     },
     "metadata": {},
     "output_type": "display_data"
    },
    {
     "data": {
      "application/vnd.jupyter.widget-view+json": {
       "model_id": "",
       "version_major": 2,
       "version_minor": 0
      },
      "text/plain": [
       "ACN:   0%|          | 0/4 [00:00<?, ?it/s]"
      ]
     },
     "metadata": {},
     "output_type": "display_data"
    },
    {
     "data": {
      "application/vnd.jupyter.widget-view+json": {
       "model_id": "",
       "version_major": 2,
       "version_minor": 0
      },
      "text/plain": [
       "  0%|          | 0/14 [00:00<?, ?it/s]"
      ]
     },
     "metadata": {},
     "output_type": "display_data"
    },
    {
     "data": {
      "application/vnd.jupyter.widget-view+json": {
       "model_id": "",
       "version_major": 2,
       "version_minor": 0
      },
      "text/plain": [
       "Non-Linearity:   0%|          | 0/3 [00:00<?, ?it/s]"
      ]
     },
     "metadata": {},
     "output_type": "display_data"
    },
    {
     "data": {
      "application/vnd.jupyter.widget-view+json": {
       "model_id": "",
       "version_major": 2,
       "version_minor": 0
      },
      "text/plain": [
       "Uncorr 1/f:   0%|          | 0/4 [00:00<?, ?it/s]"
      ]
     },
     "metadata": {},
     "output_type": "display_data"
    },
    {
     "data": {
      "application/vnd.jupyter.widget-view+json": {
       "model_id": "",
       "version_major": 2,
       "version_minor": 0
      },
      "text/plain": [
       "ACN:   0%|          | 0/4 [00:00<?, ?it/s]"
      ]
     },
     "metadata": {},
     "output_type": "display_data"
    },
    {
     "data": {
      "application/vnd.jupyter.widget-view+json": {
       "model_id": "",
       "version_major": 2,
       "version_minor": 0
      },
      "text/plain": [
       "  0%|          | 0/14 [00:00<?, ?it/s]"
      ]
     },
     "metadata": {},
     "output_type": "display_data"
    },
    {
     "data": {
      "application/vnd.jupyter.widget-view+json": {
       "model_id": "",
       "version_major": 2,
       "version_minor": 0
      },
      "text/plain": [
       "Non-Linearity:   0%|          | 0/3 [00:00<?, ?it/s]"
      ]
     },
     "metadata": {},
     "output_type": "display_data"
    },
    {
     "data": {
      "application/vnd.jupyter.widget-view+json": {
       "model_id": "",
       "version_major": 2,
       "version_minor": 0
      },
      "text/plain": [
       "Uncorr 1/f:   0%|          | 0/4 [00:00<?, ?it/s]"
      ]
     },
     "metadata": {},
     "output_type": "display_data"
    },
    {
     "data": {
      "application/vnd.jupyter.widget-view+json": {
       "model_id": "",
       "version_major": 2,
       "version_minor": 0
      },
      "text/plain": [
       "ACN:   0%|          | 0/4 [00:00<?, ?it/s]"
      ]
     },
     "metadata": {},
     "output_type": "display_data"
    },
    {
     "data": {
      "application/vnd.jupyter.widget-view+json": {
       "model_id": "",
       "version_major": 2,
       "version_minor": 0
      },
      "text/plain": [
       "  0%|          | 0/14 [00:00<?, ?it/s]"
      ]
     },
     "metadata": {},
     "output_type": "display_data"
    },
    {
     "data": {
      "application/vnd.jupyter.widget-view+json": {
       "model_id": "",
       "version_major": 2,
       "version_minor": 0
      },
      "text/plain": [
       "Non-Linearity:   0%|          | 0/3 [00:00<?, ?it/s]"
      ]
     },
     "metadata": {},
     "output_type": "display_data"
    },
    {
     "data": {
      "application/vnd.jupyter.widget-view+json": {
       "model_id": "",
       "version_major": 2,
       "version_minor": 0
      },
      "text/plain": [
       "Uncorr 1/f:   0%|          | 0/4 [00:00<?, ?it/s]"
      ]
     },
     "metadata": {},
     "output_type": "display_data"
    },
    {
     "data": {
      "application/vnd.jupyter.widget-view+json": {
       "model_id": "",
       "version_major": 2,
       "version_minor": 0
      },
      "text/plain": [
       "ACN:   0%|          | 0/4 [00:00<?, ?it/s]"
      ]
     },
     "metadata": {},
     "output_type": "display_data"
    },
    {
     "data": {
      "application/vnd.jupyter.widget-view+json": {
       "model_id": "",
       "version_major": 2,
       "version_minor": 0
      },
      "text/plain": [
       "  0%|          | 0/14 [00:00<?, ?it/s]"
      ]
     },
     "metadata": {},
     "output_type": "display_data"
    },
    {
     "data": {
      "application/vnd.jupyter.widget-view+json": {
       "model_id": "",
       "version_major": 2,
       "version_minor": 0
      },
      "text/plain": [
       "Non-Linearity:   0%|          | 0/3 [00:00<?, ?it/s]"
      ]
     },
     "metadata": {},
     "output_type": "display_data"
    },
    {
     "data": {
      "application/vnd.jupyter.widget-view+json": {
       "model_id": "",
       "version_major": 2,
       "version_minor": 0
      },
      "text/plain": [
       "Uncorr 1/f:   0%|          | 0/4 [00:00<?, ?it/s]"
      ]
     },
     "metadata": {},
     "output_type": "display_data"
    },
    {
     "data": {
      "application/vnd.jupyter.widget-view+json": {
       "model_id": "",
       "version_major": 2,
       "version_minor": 0
      },
      "text/plain": [
       "ACN:   0%|          | 0/4 [00:00<?, ?it/s]"
      ]
     },
     "metadata": {},
     "output_type": "display_data"
    },
    {
     "data": {
      "application/vnd.jupyter.widget-view+json": {
       "model_id": "",
       "version_major": 2,
       "version_minor": 0
      },
      "text/plain": [
       "  0%|          | 0/14 [00:00<?, ?it/s]"
      ]
     },
     "metadata": {},
     "output_type": "display_data"
    },
    {
     "data": {
      "application/vnd.jupyter.widget-view+json": {
       "model_id": "",
       "version_major": 2,
       "version_minor": 0
      },
      "text/plain": [
       "Non-Linearity:   0%|          | 0/3 [00:00<?, ?it/s]"
      ]
     },
     "metadata": {},
     "output_type": "display_data"
    },
    {
     "data": {
      "application/vnd.jupyter.widget-view+json": {
       "model_id": "",
       "version_major": 2,
       "version_minor": 0
      },
      "text/plain": [
       "Uncorr 1/f:   0%|          | 0/4 [00:00<?, ?it/s]"
      ]
     },
     "metadata": {},
     "output_type": "display_data"
    },
    {
     "data": {
      "application/vnd.jupyter.widget-view+json": {
       "model_id": "",
       "version_major": 2,
       "version_minor": 0
      },
      "text/plain": [
       "ACN:   0%|          | 0/4 [00:00<?, ?it/s]"
      ]
     },
     "metadata": {},
     "output_type": "display_data"
    },
    {
     "name": "stdout",
     "output_type": "stream",
     "text": [
      "  Saving: /home/jarronl/data/NIRData/NRC_Sims/Sim_NRC35/jw01409001001_02101_00002_nrca5_uncal.fits\n"
     ]
    }
   ],
   "source": [
    "# Create and save DMS FITS files\n",
    "params_noise = {\n",
    "    'include_poisson'   : True,     # Photon Noise\n",
    "    'include_dark'      : True,     # Dark current\n",
    "    'include_bias'      : True,     # Bias image offset\n",
    "    'include_ktc'       : True,     # kTC Noise\n",
    "    'include_rn'        : True,     # Read Noise\n",
    "    'include_cpink'     : True,     # Correlated 1/f noise between channel\n",
    "    'include_upink'     : True,     # Channel-dependent 1/f noise\n",
    "    'include_acn'       : True,     # Alternating column noise\n",
    "    'apply_ipc'         : True,     # Interpixel capacitance\n",
    "    'apply_ppc'         : True,     # Post-pixel coupling\n",
    "    'amp_crosstalk'     : True,     # Amplifier crosstalk\n",
    "    'include_refoffsets': True,     # Reference offsets\n",
    "    'include_refinst'   : True,     # Reference pixel instabilities\n",
    "    'include_colnoise'  : True,     # Transient detector column noise\n",
    "    'add_crs'           : True,     # Include cosmic ray\n",
    "    'cr_model'          : 'SUNMAX', # Cosmic ray model ('SUNMAX', 'SUNMIN', or 'FLARES')\n",
    "    'cr_scale'          : 1,        # Cosmic ray probabilities scaling\n",
    "    'apply_nonlinearity': True,     # Apply non-linearity\n",
    "    'random_nonlin'     : True,     # Add randomness to non-linearity\n",
    "    'apply_flats'       : True,     # pixel-to-pixel QE variations and field-dep illum\n",
    "}\n",
    "\n",
    "run_all_exps(obs_dict, key=vkey, rand_seed_init=12345, \n",
    "             save_dir=save_dir, save_slope=True, **params_noise)"
   ]
  },
  {
   "cell_type": "markdown",
   "id": "7f7e1c98",
   "metadata": {},
   "source": [
    "## Visit 001:001"
   ]
  },
  {
   "cell_type": "code",
   "execution_count": 6,
   "id": "d828486a",
   "metadata": {},
   "outputs": [],
   "source": [
    "vkey = '001:001'"
   ]
  },
  {
   "cell_type": "code",
   "execution_count": 7,
   "id": "a6c19ee9",
   "metadata": {},
   "outputs": [
    {
     "name": "stdout",
     "output_type": "stream",
     "text": [
      "  Generating Instrument Classes...\n"
     ]
    },
    {
     "data": {
      "application/vnd.jupyter.widget-view+json": {
       "model_id": "",
       "version_major": 2,
       "version_minor": 0
      },
      "text/plain": [
       "Monochromatic PSFs:   0%|          | 0/21 [00:00<?, ?it/s]"
      ]
     },
     "metadata": {},
     "output_type": "display_data"
    }
   ],
   "source": [
    "# Create NIRCam instrument class:\n",
    "#   obs_dict[vkey]['nrc']\n",
    "kw_scales = {'ote_scale': 0.5, 'nc_scale': 0.5, 'ice_scale': None, 'nvr_scale': None}\n",
    "add_inst(obs_dict, key=vkey, **kw_scales)"
   ]
  },
  {
   "cell_type": "code",
   "execution_count": 8,
   "id": "ea3a803d",
   "metadata": {},
   "outputs": [
    {
     "data": {
      "image/png": "[encoded data removed]",
      "text/plain": [
       "<Figure size 576x432 with 1 Axes>"
      ]
     },
     "metadata": {
      "needs_background": "light"
     },
     "output_type": "display_data"
    }
   ],
   "source": [
    "# Check that bandpass looks good\n",
    "nrc = obs_dict[vkey]['nrc']\n",
    "nrc.plot_bandpass();"
   ]
  },
  {
   "cell_type": "code",
   "execution_count": 9,
   "id": "a6be670a",
   "metadata": {},
   "outputs": [
    {
     "name": "stdout",
     "output_type": "stream",
     "text": [
      "  Creating ideal slopes, FSM background, SCA darks, biases...\n"
     ]
    },
    {
     "data": {
      "application/vnd.jupyter.widget-view+json": {
       "model_id": "",
       "version_major": 2,
       "version_minor": 0
      },
      "text/plain": [
       "Filters:   0%|          | 0/29 [00:00<?, ?it/s]"
      ]
     },
     "metadata": {},
     "output_type": "display_data"
    },
    {
     "name": "stdout",
     "output_type": "stream",
     "text": [
      "  Exposure: 1\n"
     ]
    }
   ],
   "source": [
    "# Create slope and check extraction\n",
    "#   obs_dict[vkey]['wave']\n",
    "#   obs_dict[vkey]['im_slope_ideal']\n",
    "#   obs_dict[vkey]['bg_slope']\n",
    "#   obs_dict[vkey]['im_bias']\n",
    "#   obs_dict[vkey]['im_dark']\n",
    "add_slope_images(obs_dict, key=vkey, spec_ang=0)"
   ]
  },
  {
   "cell_type": "code",
   "execution_count": 10,
   "id": "47fea4f6",
   "metadata": {
    "scrolled": false
   },
   "outputs": [
    {
     "data": {
      "image/png": "[encoded data removed]",
      "text/plain": [
       "<Figure size 1008x180 with 1 Axes>"
      ]
     },
     "metadata": {
      "needs_background": "light"
     },
     "output_type": "display_data"
    }
   ],
   "source": [
    "# Verify slope image looks right\n",
    "\n",
    "fig, ax = plt.subplots(1,1, figsize=(14,2.5))\n",
    "\n",
    "im = obs_dict[vkey]['im_slope_ideal'] + obs_dict[vkey]['bg_slope']\n",
    "wave = obs_dict[vkey]['wave'][0].mean(axis=0)\n",
    "\n",
    "extent = [wave.min(), wave.max(), ]\n",
    "ax.imshow(im)\n",
    "ax.set_title('Ideal Slope Image')\n",
    "\n",
    "def x_to_um(x):\n",
    "    dw = wave[1] - wave[0]\n",
    "    return x*dw + wave[0]\n",
    "\n",
    "def um_to_x(w):\n",
    "    dw = wave[1] - wave[0]\n",
    "    return (w - wave[0]) / dw\n",
    "\n",
    "ax2 = ax.secondary_xaxis(-0.25, functions=(x_to_um, um_to_x))\n",
    "str_um = '$\\mathdefault{\\mu m}$'\n",
    "ax2.set_xlabel(f'Wavelength ({str_um})')\n",
    "\n",
    "fig.tight_layout()"
   ]
  },
  {
   "cell_type": "code",
   "execution_count": 12,
   "id": "42777aa6",
   "metadata": {},
   "outputs": [
    {
     "data": {
      "text/html": [
       "<div><i>Table length=4</i>\n",
       "<table id=\"table140324555552208\" class=\"table-striped table-bordered table-condensed\">\n",
       "<thead><tr><th>index</th><th>ra</th><th>dec</th><th>K-Band</th><th>dist</th><th>SpType</th><th>F070W</th><th>F090W</th><th>F115W</th><th>F140M</th><th>F150W</th><th>F150W2</th><th>F162M</th><th>F164N</th><th>F182M</th><th>F187N</th><th>F200W</th><th>F210M</th><th>F212N</th><th>F250M</th><th>F277W</th><th>F300M</th><th>F322W2</th><th>F323N</th><th>F335M</th><th>F356W</th><th>F360M</th><th>F405N</th><th>F410M</th><th>F430M</th><th>F444W</th><th>F460M</th><th>F466N</th><th>F470N</th><th>F480M</th></tr></thead>\n",
       "<thead><tr><th></th><th>deg</th><th>deg</th><th>mag</th><th>arcsec</th><th></th><th>mag</th><th>mag</th><th>mag</th><th>mag</th><th>mag</th><th>mag</th><th>mag</th><th>mag</th><th>mag</th><th>mag</th><th>mag</th><th>mag</th><th>mag</th><th>mag</th><th>mag</th><th>mag</th><th>mag</th><th>mag</th><th>mag</th><th>mag</th><th>mag</th><th>mag</th><th>mag</th><th>mag</th><th>mag</th><th>mag</th><th>mag</th><th>mag</th><th>mag</th></tr></thead>\n",
       "<thead><tr><th>int64</th><th>float64</th><th>float64</th><th>float32</th><th>float32</th><th>object</th><th>float64</th><th>float64</th><th>float64</th><th>float64</th><th>float64</th><th>float64</th><th>float64</th><th>float64</th><th>float64</th><th>float64</th><th>float64</th><th>float64</th><th>float64</th><th>float64</th><th>float64</th><th>float64</th><th>float64</th><th>float64</th><th>float64</th><th>float64</th><th>float64</th><th>float64</th><th>float64</th><th>float64</th><th>float64</th><th>float64</th><th>float64</th><th>float64</th><th>float64</th></tr></thead>\n",
       "<tr><td>1</td><td>146.87727491</td><td>63.24780476</td><td>4.698</td><td>2.7190957</td><td>G5V</td><td>5.779</td><td>5.478</td><td>5.217</td><td>4.917</td><td>4.842</td><td>4.936</td><td>4.743</td><td>4.711</td><td>4.719</td><td>4.703</td><td>4.712</td><td>4.701</td><td>4.703</td><td>4.7</td><td>4.688</td><td>4.682</td><td>4.686</td><td>4.686</td><td>4.684</td><td>4.684</td><td>4.683</td><td>4.663</td><td>4.683</td><td>4.691</td><td>4.701</td><td>4.724</td><td>4.695</td><td>4.72</td><td>4.717</td></tr>\n",
       "<tr><td>2</td><td>146.81478027</td><td>63.28792868</td><td>13.924</td><td>177.17578</td><td>G2V</td><td>14.82</td><td>14.569</td><td>14.352</td><td>14.095</td><td>14.035</td><td>14.121</td><td>13.956</td><td>13.931</td><td>13.942</td><td>13.93</td><td>13.936</td><td>13.926</td><td>13.928</td><td>13.92</td><td>13.914</td><td>13.913</td><td>13.914</td><td>13.917</td><td>13.915</td><td>13.915</td><td>13.915</td><td>13.898</td><td>13.914</td><td>13.917</td><td>13.922</td><td>13.931</td><td>13.905</td><td>13.928</td><td>13.927</td></tr>\n",
       "<tr><td>3</td><td>146.84271400</td><td>63.31572700</td><td>13.676</td><td>252.55495</td><td>G2V</td><td>14.572</td><td>14.321</td><td>14.104</td><td>13.847</td><td>13.787</td><td>13.873</td><td>13.708</td><td>13.683</td><td>13.694</td><td>13.682</td><td>13.688</td><td>13.678</td><td>13.68</td><td>13.672</td><td>13.666</td><td>13.665</td><td>13.666</td><td>13.669</td><td>13.667</td><td>13.667</td><td>13.667</td><td>13.65</td><td>13.666</td><td>13.669</td><td>13.674</td><td>13.683</td><td>13.657</td><td>13.68</td><td>13.679</td></tr>\n",
       "<tr><td>4</td><td>146.95336467</td><td>63.17027856</td><td>13.736</td><td>303.92145</td><td>G2V</td><td>14.632</td><td>14.381</td><td>14.164</td><td>13.907</td><td>13.847</td><td>13.933</td><td>13.768</td><td>13.743</td><td>13.754</td><td>13.742</td><td>13.748</td><td>13.738</td><td>13.74</td><td>13.732</td><td>13.726</td><td>13.725</td><td>13.726</td><td>13.729</td><td>13.727</td><td>13.727</td><td>13.727</td><td>13.71</td><td>13.726</td><td>13.729</td><td>13.734</td><td>13.743</td><td>13.717</td><td>13.74</td><td>13.739</td></tr>\n",
       "</table></div>"
      ],
      "text/plain": [
       "<Table length=4>\n",
       "index      ra          dec       K-Band    dist   SpType  F070W   F090W   F115W  ...  F360M   F405N   F410M   F430M   F444W   F460M   F466N   F470N   F480M \n",
       "          deg          deg        mag     arcsec           mag     mag     mag   ...   mag     mag     mag     mag     mag     mag     mag     mag     mag  \n",
       "int64   float64      float64    float32  float32  object float64 float64 float64 ... float64 float64 float64 float64 float64 float64 float64 float64 float64\n",
       "----- ------------ ------------ ------- --------- ------ ------- ------- ------- ... ------- ------- ------- ------- ------- ------- ------- ------- -------\n",
       "    1 146.87727491  63.24780476   4.698 2.7190957    G5V   5.779   5.478   5.217 ...   4.683   4.663   4.683   4.691   4.701   4.724   4.695    4.72   4.717\n",
       "    2 146.81478027  63.28792868  13.924 177.17578    G2V   14.82  14.569  14.352 ...  13.915  13.898  13.914  13.917  13.922  13.931  13.905  13.928  13.927\n",
       "    3 146.84271400  63.31572700  13.676 252.55495    G2V  14.572  14.321  14.104 ...  13.667   13.65  13.666  13.669  13.674  13.683  13.657   13.68  13.679\n",
       "    4 146.95336467  63.17027856  13.736 303.92145    G2V  14.632  14.381  14.164 ...  13.727   13.71  13.726  13.729  13.734  13.743  13.717   13.74  13.739"
      ]
     },
     "execution_count": 12,
     "metadata": {},
     "output_type": "execute_result"
    }
   ],
   "source": [
    "# Double-check source table\n",
    "d = obs_dict[vkey]\n",
    "d['src_tbl']"
   ]
  },
  {
   "cell_type": "code",
   "execution_count": 19,
   "id": "f274b938",
   "metadata": {},
   "outputs": [
    {
     "data": {
      "image/png": "[encoded data removed]",
      "text/plain": [
       "<Figure size 576x360 with 1 Axes>"
      ]
     },
     "metadata": {
      "needs_background": "light"
     },
     "output_type": "display_data"
    }
   ],
   "source": [
    "# Extract spectrum\n",
    "# No noise, so just sum full spectrum\n",
    "im_slope     = obs_dict[vkey]['im_slope_ideal']\n",
    "spec_extract = im_slope.sum(axis=0)[::-1]\n",
    "wspec        = wave[0].mean(axis=0)[::-1]\n",
    "\n",
    "# pysynphot observation of spectrum plus bandpass\n",
    "bp = nrc.bandpass\n",
    "sp = pynrc.stellar_spectrum(src_tbl[0]['SpType'], src_tbl[0][bp.name], 'vegamag', bp)\n",
    "# Rebin spectrum\n",
    "sp = nrc_utils.bin_spectrum(sp, np.sort(wspec), waveunits='um')\n",
    "\n",
    "obs = S.Observation(sp, bp, binset=sp.wave, force='taper')\n",
    "obs.convert('counts')\n",
    "\n",
    "# Plot\n",
    "fig, ax = plt.subplots(1,1, figsize=(8,5))\n",
    "\n",
    "ax.plot(wspec, spec_extract, label='Slope Extraction')\n",
    "ax.plot(obs.binwave/1e4, obs.binflux, label='Ideal')\n",
    "\n",
    "ax.set_xlabel('Wavelength (um)')\n",
    "ax.set_ylabel('Count Rate (DN/sec)')\n",
    "\n",
    "ax.legend()\n",
    "\n",
    "fig.tight_layout()"
   ]
  },
  {
   "cell_type": "code",
   "execution_count": 13,
   "id": "bec2e70e",
   "metadata": {},
   "outputs": [
    {
     "name": "stdout",
     "output_type": "stream",
     "text": [
      "  Creating ideal slopes, FSM background, SCA darks, biases...\n"
     ]
    },
    {
     "data": {
      "application/vnd.jupyter.widget-view+json": {
       "model_id": "",
       "version_major": 2,
       "version_minor": 0
      },
      "text/plain": [
       "Filters:   0%|          | 0/29 [00:00<?, ?it/s]"
      ]
     },
     "metadata": {},
     "output_type": "display_data"
    },
    {
     "name": "stdout",
     "output_type": "stream",
     "text": [
      "  Exposure: 1\n",
      "  Saving: /Users/jarron/NIRCam/Data/NRC_Sims/Sim_NRC35/slope_jw01409001001_02101_00001_nrca5_uncal.fits\n"
     ]
    },
    {
     "data": {
      "application/vnd.jupyter.widget-view+json": {
       "model_id": "",
       "version_major": 2,
       "version_minor": 0
      },
      "text/plain": [
       "PPC Amps:   0%|          | 0/4 [00:00<?, ?it/s]"
      ]
     },
     "metadata": {},
     "output_type": "display_data"
    },
    {
     "data": {
      "application/vnd.jupyter.widget-view+json": {
       "model_id": "",
       "version_major": 2,
       "version_minor": 0
      },
      "text/plain": [
       "Frames:   0%|          | 0/1 [00:00<?, ?it/s]"
      ]
     },
     "metadata": {},
     "output_type": "display_data"
    },
    {
     "data": {
      "application/vnd.jupyter.widget-view+json": {
       "model_id": "",
       "version_major": 2,
       "version_minor": 0
      },
      "text/plain": [
       "Frames:   0%|          | 0/1 [00:00<?, ?it/s]"
      ]
     },
     "metadata": {},
     "output_type": "display_data"
    },
    {
     "data": {
      "application/vnd.jupyter.widget-view+json": {
       "model_id": "",
       "version_major": 2,
       "version_minor": 0
      },
      "text/plain": [
       "Frames:   0%|          | 0/1 [00:00<?, ?it/s]"
      ]
     },
     "metadata": {},
     "output_type": "display_data"
    },
    {
     "data": {
      "application/vnd.jupyter.widget-view+json": {
       "model_id": "",
       "version_major": 2,
       "version_minor": 0
      },
      "text/plain": [
       "Frames:   0%|          | 0/1 [00:00<?, ?it/s]"
      ]
     },
     "metadata": {},
     "output_type": "display_data"
    },
    {
     "data": {
      "application/vnd.jupyter.widget-view+json": {
       "model_id": "",
       "version_major": 2,
       "version_minor": 0
      },
      "text/plain": [
       "PPC Amps:   0%|          | 0/4 [00:00<?, ?it/s]"
      ]
     },
     "metadata": {},
     "output_type": "display_data"
    },
    {
     "data": {
      "application/vnd.jupyter.widget-view+json": {
       "model_id": "",
       "version_major": 2,
       "version_minor": 0
      },
      "text/plain": [
       "Frames:   0%|          | 0/1 [00:00<?, ?it/s]"
      ]
     },
     "metadata": {},
     "output_type": "display_data"
    },
    {
     "data": {
      "application/vnd.jupyter.widget-view+json": {
       "model_id": "",
       "version_major": 2,
       "version_minor": 0
      },
      "text/plain": [
       "Frames:   0%|          | 0/1 [00:00<?, ?it/s]"
      ]
     },
     "metadata": {},
     "output_type": "display_data"
    },
    {
     "data": {
      "application/vnd.jupyter.widget-view+json": {
       "model_id": "",
       "version_major": 2,
       "version_minor": 0
      },
      "text/plain": [
       "Frames:   0%|          | 0/1 [00:00<?, ?it/s]"
      ]
     },
     "metadata": {},
     "output_type": "display_data"
    },
    {
     "data": {
      "application/vnd.jupyter.widget-view+json": {
       "model_id": "",
       "version_major": 2,
       "version_minor": 0
      },
      "text/plain": [
       "Frames:   0%|          | 0/1 [00:00<?, ?it/s]"
      ]
     },
     "metadata": {},
     "output_type": "display_data"
    },
    {
     "data": {
      "application/vnd.jupyter.widget-view+json": {
       "model_id": "",
       "version_major": 2,
       "version_minor": 0
      },
      "text/plain": [
       "Frames:   0%|          | 0/1 [00:00<?, ?it/s]"
      ]
     },
     "metadata": {},
     "output_type": "display_data"
    },
    {
     "data": {
      "application/vnd.jupyter.widget-view+json": {
       "model_id": "",
       "version_major": 2,
       "version_minor": 0
      },
      "text/plain": [
       "Frames:   0%|          | 0/1 [00:00<?, ?it/s]"
      ]
     },
     "metadata": {},
     "output_type": "display_data"
    },
    {
     "data": {
      "application/vnd.jupyter.widget-view+json": {
       "model_id": "",
       "version_major": 2,
       "version_minor": 0
      },
      "text/plain": [
       "Ramps:   0%|          | 0/10 [00:00<?, ?it/s]"
      ]
     },
     "metadata": {},
     "output_type": "display_data"
    },
    {
     "data": {
      "application/vnd.jupyter.widget-view+json": {
       "model_id": "",
       "version_major": 2,
       "version_minor": 0
      },
      "text/plain": [
       "  0%|          | 0/14 [00:00<?, ?it/s]"
      ]
     },
     "metadata": {},
     "output_type": "display_data"
    },
    {
     "data": {
      "application/vnd.jupyter.widget-view+json": {
       "model_id": "",
       "version_major": 2,
       "version_minor": 0
      },
      "text/plain": [
       "Non-Linearity:   0%|          | 0/5 [00:00<?, ?it/s]"
      ]
     },
     "metadata": {},
     "output_type": "display_data"
    },
    {
     "data": {
      "application/vnd.jupyter.widget-view+json": {
       "model_id": "",
       "version_major": 2,
       "version_minor": 0
      },
      "text/plain": [
       "Uncorr 1/f:   0%|          | 0/1 [00:00<?, ?it/s]"
      ]
     },
     "metadata": {},
     "output_type": "display_data"
    },
    {
     "data": {
      "application/vnd.jupyter.widget-view+json": {
       "model_id": "",
       "version_major": 2,
       "version_minor": 0
      },
      "text/plain": [
       "ACN:   0%|          | 0/1 [00:00<?, ?it/s]"
      ]
     },
     "metadata": {},
     "output_type": "display_data"
    },
    {
     "data": {
      "application/vnd.jupyter.widget-view+json": {
       "model_id": "",
       "version_major": 2,
       "version_minor": 0
      },
      "text/plain": [
       "  0%|          | 0/14 [00:00<?, ?it/s]"
      ]
     },
     "metadata": {},
     "output_type": "display_data"
    },
    {
     "data": {
      "application/vnd.jupyter.widget-view+json": {
       "model_id": "",
       "version_major": 2,
       "version_minor": 0
      },
      "text/plain": [
       "Non-Linearity:   0%|          | 0/5 [00:00<?, ?it/s]"
      ]
     },
     "metadata": {},
     "output_type": "display_data"
    },
    {
     "data": {
      "application/vnd.jupyter.widget-view+json": {
       "model_id": "",
       "version_major": 2,
       "version_minor": 0
      },
      "text/plain": [
       "Uncorr 1/f:   0%|          | 0/1 [00:00<?, ?it/s]"
      ]
     },
     "metadata": {},
     "output_type": "display_data"
    },
    {
     "data": {
      "application/vnd.jupyter.widget-view+json": {
       "model_id": "",
       "version_major": 2,
       "version_minor": 0
      },
      "text/plain": [
       "ACN:   0%|          | 0/1 [00:00<?, ?it/s]"
      ]
     },
     "metadata": {},
     "output_type": "display_data"
    },
    {
     "data": {
      "application/vnd.jupyter.widget-view+json": {
       "model_id": "",
       "version_major": 2,
       "version_minor": 0
      },
      "text/plain": [
       "  0%|          | 0/14 [00:00<?, ?it/s]"
      ]
     },
     "metadata": {},
     "output_type": "display_data"
    },
    {
     "data": {
      "application/vnd.jupyter.widget-view+json": {
       "model_id": "",
       "version_major": 2,
       "version_minor": 0
      },
      "text/plain": [
       "Non-Linearity:   0%|          | 0/5 [00:00<?, ?it/s]"
      ]
     },
     "metadata": {},
     "output_type": "display_data"
    },
    {
     "data": {
      "application/vnd.jupyter.widget-view+json": {
       "model_id": "",
       "version_major": 2,
       "version_minor": 0
      },
      "text/plain": [
       "Uncorr 1/f:   0%|          | 0/1 [00:00<?, ?it/s]"
      ]
     },
     "metadata": {},
     "output_type": "display_data"
    },
    {
     "data": {
      "application/vnd.jupyter.widget-view+json": {
       "model_id": "",
       "version_major": 2,
       "version_minor": 0
      },
      "text/plain": [
       "ACN:   0%|          | 0/1 [00:00<?, ?it/s]"
      ]
     },
     "metadata": {},
     "output_type": "display_data"
    },
    {
     "data": {
      "application/vnd.jupyter.widget-view+json": {
       "model_id": "",
       "version_major": 2,
       "version_minor": 0
      },
      "text/plain": [
       "  0%|          | 0/14 [00:00<?, ?it/s]"
      ]
     },
     "metadata": {},
     "output_type": "display_data"
    },
    {
     "data": {
      "application/vnd.jupyter.widget-view+json": {
       "model_id": "",
       "version_major": 2,
       "version_minor": 0
      },
      "text/plain": [
       "Non-Linearity:   0%|          | 0/5 [00:00<?, ?it/s]"
      ]
     },
     "metadata": {},
     "output_type": "display_data"
    },
    {
     "data": {
      "application/vnd.jupyter.widget-view+json": {
       "model_id": "",
       "version_major": 2,
       "version_minor": 0
      },
      "text/plain": [
       "Uncorr 1/f:   0%|          | 0/1 [00:00<?, ?it/s]"
      ]
     },
     "metadata": {},
     "output_type": "display_data"
    },
    {
     "data": {
      "application/vnd.jupyter.widget-view+json": {
       "model_id": "",
       "version_major": 2,
       "version_minor": 0
      },
      "text/plain": [
       "ACN:   0%|          | 0/1 [00:00<?, ?it/s]"
      ]
     },
     "metadata": {},
     "output_type": "display_data"
    },
    {
     "data": {
      "application/vnd.jupyter.widget-view+json": {
       "model_id": "",
       "version_major": 2,
       "version_minor": 0
      },
      "text/plain": [
       "  0%|          | 0/14 [00:00<?, ?it/s]"
      ]
     },
     "metadata": {},
     "output_type": "display_data"
    },
    {
     "data": {
      "application/vnd.jupyter.widget-view+json": {
       "model_id": "",
       "version_major": 2,
       "version_minor": 0
      },
      "text/plain": [
       "Non-Linearity:   0%|          | 0/5 [00:00<?, ?it/s]"
      ]
     },
     "metadata": {},
     "output_type": "display_data"
    },
    {
     "data": {
      "application/vnd.jupyter.widget-view+json": {
       "model_id": "",
       "version_major": 2,
       "version_minor": 0
      },
      "text/plain": [
       "Uncorr 1/f:   0%|          | 0/1 [00:00<?, ?it/s]"
      ]
     },
     "metadata": {},
     "output_type": "display_data"
    },
    {
     "data": {
      "application/vnd.jupyter.widget-view+json": {
       "model_id": "",
       "version_major": 2,
       "version_minor": 0
      },
      "text/plain": [
       "ACN:   0%|          | 0/1 [00:00<?, ?it/s]"
      ]
     },
     "metadata": {},
     "output_type": "display_data"
    },
    {
     "data": {
      "application/vnd.jupyter.widget-view+json": {
       "model_id": "",
       "version_major": 2,
       "version_minor": 0
      },
      "text/plain": [
       "  0%|          | 0/14 [00:00<?, ?it/s]"
      ]
     },
     "metadata": {},
     "output_type": "display_data"
    },
    {
     "data": {
      "application/vnd.jupyter.widget-view+json": {
       "model_id": "",
       "version_major": 2,
       "version_minor": 0
      },
      "text/plain": [
       "Non-Linearity:   0%|          | 0/5 [00:00<?, ?it/s]"
      ]
     },
     "metadata": {},
     "output_type": "display_data"
    },
    {
     "data": {
      "application/vnd.jupyter.widget-view+json": {
       "model_id": "",
       "version_major": 2,
       "version_minor": 0
      },
      "text/plain": [
       "Uncorr 1/f:   0%|          | 0/1 [00:00<?, ?it/s]"
      ]
     },
     "metadata": {},
     "output_type": "display_data"
    },
    {
     "data": {
      "application/vnd.jupyter.widget-view+json": {
       "model_id": "",
       "version_major": 2,
       "version_minor": 0
      },
      "text/plain": [
       "ACN:   0%|          | 0/1 [00:00<?, ?it/s]"
      ]
     },
     "metadata": {},
     "output_type": "display_data"
    },
    {
     "data": {
      "application/vnd.jupyter.widget-view+json": {
       "model_id": "",
       "version_major": 2,
       "version_minor": 0
      },
      "text/plain": [
       "  0%|          | 0/14 [00:00<?, ?it/s]"
      ]
     },
     "metadata": {},
     "output_type": "display_data"
    },
    {
     "data": {
      "application/vnd.jupyter.widget-view+json": {
       "model_id": "",
       "version_major": 2,
       "version_minor": 0
      },
      "text/plain": [
       "Non-Linearity:   0%|          | 0/5 [00:00<?, ?it/s]"
      ]
     },
     "metadata": {},
     "output_type": "display_data"
    },
    {
     "data": {
      "application/vnd.jupyter.widget-view+json": {
       "model_id": "",
       "version_major": 2,
       "version_minor": 0
      },
      "text/plain": [
       "Uncorr 1/f:   0%|          | 0/1 [00:00<?, ?it/s]"
      ]
     },
     "metadata": {},
     "output_type": "display_data"
    },
    {
     "data": {
      "application/vnd.jupyter.widget-view+json": {
       "model_id": "",
       "version_major": 2,
       "version_minor": 0
      },
      "text/plain": [
       "ACN:   0%|          | 0/1 [00:00<?, ?it/s]"
      ]
     },
     "metadata": {},
     "output_type": "display_data"
    },
    {
     "data": {
      "application/vnd.jupyter.widget-view+json": {
       "model_id": "",
       "version_major": 2,
       "version_minor": 0
      },
      "text/plain": [
       "  0%|          | 0/14 [00:00<?, ?it/s]"
      ]
     },
     "metadata": {},
     "output_type": "display_data"
    },
    {
     "data": {
      "application/vnd.jupyter.widget-view+json": {
       "model_id": "",
       "version_major": 2,
       "version_minor": 0
      },
      "text/plain": [
       "Non-Linearity:   0%|          | 0/5 [00:00<?, ?it/s]"
      ]
     },
     "metadata": {},
     "output_type": "display_data"
    },
    {
     "data": {
      "application/vnd.jupyter.widget-view+json": {
       "model_id": "",
       "version_major": 2,
       "version_minor": 0
      },
      "text/plain": [
       "Uncorr 1/f:   0%|          | 0/1 [00:00<?, ?it/s]"
      ]
     },
     "metadata": {},
     "output_type": "display_data"
    },
    {
     "data": {
      "application/vnd.jupyter.widget-view+json": {
       "model_id": "",
       "version_major": 2,
       "version_minor": 0
      },
      "text/plain": [
       "ACN:   0%|          | 0/1 [00:00<?, ?it/s]"
      ]
     },
     "metadata": {},
     "output_type": "display_data"
    },
    {
     "data": {
      "application/vnd.jupyter.widget-view+json": {
       "model_id": "",
       "version_major": 2,
       "version_minor": 0
      },
      "text/plain": [
       "  0%|          | 0/14 [00:00<?, ?it/s]"
      ]
     },
     "metadata": {},
     "output_type": "display_data"
    },
    {
     "data": {
      "application/vnd.jupyter.widget-view+json": {
       "model_id": "",
       "version_major": 2,
       "version_minor": 0
      },
      "text/plain": [
       "Non-Linearity:   0%|          | 0/5 [00:00<?, ?it/s]"
      ]
     },
     "metadata": {},
     "output_type": "display_data"
    },
    {
     "data": {
      "application/vnd.jupyter.widget-view+json": {
       "model_id": "",
       "version_major": 2,
       "version_minor": 0
      },
      "text/plain": [
       "Uncorr 1/f:   0%|          | 0/1 [00:00<?, ?it/s]"
      ]
     },
     "metadata": {},
     "output_type": "display_data"
    },
    {
     "data": {
      "application/vnd.jupyter.widget-view+json": {
       "model_id": "",
       "version_major": 2,
       "version_minor": 0
      },
      "text/plain": [
       "ACN:   0%|          | 0/1 [00:00<?, ?it/s]"
      ]
     },
     "metadata": {},
     "output_type": "display_data"
    },
    {
     "data": {
      "application/vnd.jupyter.widget-view+json": {
       "model_id": "",
       "version_major": 2,
       "version_minor": 0
      },
      "text/plain": [
       "  0%|          | 0/14 [00:00<?, ?it/s]"
      ]
     },
     "metadata": {},
     "output_type": "display_data"
    },
    {
     "data": {
      "application/vnd.jupyter.widget-view+json": {
       "model_id": "",
       "version_major": 2,
       "version_minor": 0
      },
      "text/plain": [
       "Non-Linearity:   0%|          | 0/5 [00:00<?, ?it/s]"
      ]
     },
     "metadata": {},
     "output_type": "display_data"
    },
    {
     "data": {
      "application/vnd.jupyter.widget-view+json": {
       "model_id": "",
       "version_major": 2,
       "version_minor": 0
      },
      "text/plain": [
       "Uncorr 1/f:   0%|          | 0/1 [00:00<?, ?it/s]"
      ]
     },
     "metadata": {},
     "output_type": "display_data"
    },
    {
     "data": {
      "application/vnd.jupyter.widget-view+json": {
       "model_id": "",
       "version_major": 2,
       "version_minor": 0
      },
      "text/plain": [
       "ACN:   0%|          | 0/1 [00:00<?, ?it/s]"
      ]
     },
     "metadata": {},
     "output_type": "display_data"
    },
    {
     "name": "stdout",
     "output_type": "stream",
     "text": [
      "  Saving: /Users/jarron/NIRCam/Data/NRC_Sims/Sim_NRC35/jw01409001001_02101_00001_nrca5_uncal.fits\n",
      "  Creating ideal slopes, FSM background, SCA darks, biases...\n"
     ]
    },
    {
     "data": {
      "application/vnd.jupyter.widget-view+json": {
       "model_id": "",
       "version_major": 2,
       "version_minor": 0
      },
      "text/plain": [
       "Filters:   0%|          | 0/29 [00:00<?, ?it/s]"
      ]
     },
     "metadata": {},
     "output_type": "display_data"
    },
    {
     "name": "stdout",
     "output_type": "stream",
     "text": [
      "  Exposure: 2\n",
      "  Saving: /Users/jarron/NIRCam/Data/NRC_Sims/Sim_NRC35/slope_jw01409001001_02101_00002_nrca5_uncal.fits\n"
     ]
    },
    {
     "data": {
      "application/vnd.jupyter.widget-view+json": {
       "model_id": "",
       "version_major": 2,
       "version_minor": 0
      },
      "text/plain": [
       "PPC Amps:   0%|          | 0/4 [00:00<?, ?it/s]"
      ]
     },
     "metadata": {},
     "output_type": "display_data"
    },
    {
     "data": {
      "application/vnd.jupyter.widget-view+json": {
       "model_id": "",
       "version_major": 2,
       "version_minor": 0
      },
      "text/plain": [
       "Frames:   0%|          | 0/1 [00:00<?, ?it/s]"
      ]
     },
     "metadata": {},
     "output_type": "display_data"
    },
    {
     "data": {
      "application/vnd.jupyter.widget-view+json": {
       "model_id": "",
       "version_major": 2,
       "version_minor": 0
      },
      "text/plain": [
       "Frames:   0%|          | 0/1 [00:00<?, ?it/s]"
      ]
     },
     "metadata": {},
     "output_type": "display_data"
    },
    {
     "data": {
      "application/vnd.jupyter.widget-view+json": {
       "model_id": "",
       "version_major": 2,
       "version_minor": 0
      },
      "text/plain": [
       "Frames:   0%|          | 0/1 [00:00<?, ?it/s]"
      ]
     },
     "metadata": {},
     "output_type": "display_data"
    },
    {
     "data": {
      "application/vnd.jupyter.widget-view+json": {
       "model_id": "",
       "version_major": 2,
       "version_minor": 0
      },
      "text/plain": [
       "Frames:   0%|          | 0/1 [00:00<?, ?it/s]"
      ]
     },
     "metadata": {},
     "output_type": "display_data"
    },
    {
     "data": {
      "application/vnd.jupyter.widget-view+json": {
       "model_id": "",
       "version_major": 2,
       "version_minor": 0
      },
      "text/plain": [
       "PPC Amps:   0%|          | 0/4 [00:00<?, ?it/s]"
      ]
     },
     "metadata": {},
     "output_type": "display_data"
    },
    {
     "data": {
      "application/vnd.jupyter.widget-view+json": {
       "model_id": "",
       "version_major": 2,
       "version_minor": 0
      },
      "text/plain": [
       "Frames:   0%|          | 0/1 [00:00<?, ?it/s]"
      ]
     },
     "metadata": {},
     "output_type": "display_data"
    },
    {
     "data": {
      "application/vnd.jupyter.widget-view+json": {
       "model_id": "",
       "version_major": 2,
       "version_minor": 0
      },
      "text/plain": [
       "Frames:   0%|          | 0/1 [00:00<?, ?it/s]"
      ]
     },
     "metadata": {},
     "output_type": "display_data"
    },
    {
     "data": {
      "application/vnd.jupyter.widget-view+json": {
       "model_id": "",
       "version_major": 2,
       "version_minor": 0
      },
      "text/plain": [
       "Frames:   0%|          | 0/1 [00:00<?, ?it/s]"
      ]
     },
     "metadata": {},
     "output_type": "display_data"
    },
    {
     "data": {
      "application/vnd.jupyter.widget-view+json": {
       "model_id": "",
       "version_major": 2,
       "version_minor": 0
      },
      "text/plain": [
       "Frames:   0%|          | 0/1 [00:00<?, ?it/s]"
      ]
     },
     "metadata": {},
     "output_type": "display_data"
    },
    {
     "data": {
      "application/vnd.jupyter.widget-view+json": {
       "model_id": "",
       "version_major": 2,
       "version_minor": 0
      },
      "text/plain": [
       "Frames:   0%|          | 0/1 [00:00<?, ?it/s]"
      ]
     },
     "metadata": {},
     "output_type": "display_data"
    },
    {
     "data": {
      "application/vnd.jupyter.widget-view+json": {
       "model_id": "",
       "version_major": 2,
       "version_minor": 0
      },
      "text/plain": [
       "Frames:   0%|          | 0/1 [00:00<?, ?it/s]"
      ]
     },
     "metadata": {},
     "output_type": "display_data"
    },
    {
     "data": {
      "application/vnd.jupyter.widget-view+json": {
       "model_id": "",
       "version_major": 2,
       "version_minor": 0
      },
      "text/plain": [
       "Ramps:   0%|          | 0/10 [00:00<?, ?it/s]"
      ]
     },
     "metadata": {},
     "output_type": "display_data"
    },
    {
     "data": {
      "application/vnd.jupyter.widget-view+json": {
       "model_id": "",
       "version_major": 2,
       "version_minor": 0
      },
      "text/plain": [
       "  0%|          | 0/14 [00:00<?, ?it/s]"
      ]
     },
     "metadata": {},
     "output_type": "display_data"
    },
    {
     "data": {
      "application/vnd.jupyter.widget-view+json": {
       "model_id": "",
       "version_major": 2,
       "version_minor": 0
      },
      "text/plain": [
       "Non-Linearity:   0%|          | 0/5 [00:00<?, ?it/s]"
      ]
     },
     "metadata": {},
     "output_type": "display_data"
    },
    {
     "data": {
      "application/vnd.jupyter.widget-view+json": {
       "model_id": "",
       "version_major": 2,
       "version_minor": 0
      },
      "text/plain": [
       "Uncorr 1/f:   0%|          | 0/1 [00:00<?, ?it/s]"
      ]
     },
     "metadata": {},
     "output_type": "display_data"
    },
    {
     "data": {
      "application/vnd.jupyter.widget-view+json": {
       "model_id": "",
       "version_major": 2,
       "version_minor": 0
      },
      "text/plain": [
       "ACN:   0%|          | 0/1 [00:00<?, ?it/s]"
      ]
     },
     "metadata": {},
     "output_type": "display_data"
    },
    {
     "data": {
      "application/vnd.jupyter.widget-view+json": {
       "model_id": "",
       "version_major": 2,
       "version_minor": 0
      },
      "text/plain": [
       "  0%|          | 0/14 [00:00<?, ?it/s]"
      ]
     },
     "metadata": {},
     "output_type": "display_data"
    },
    {
     "data": {
      "application/vnd.jupyter.widget-view+json": {
       "model_id": "",
       "version_major": 2,
       "version_minor": 0
      },
      "text/plain": [
       "Non-Linearity:   0%|          | 0/5 [00:00<?, ?it/s]"
      ]
     },
     "metadata": {},
     "output_type": "display_data"
    },
    {
     "data": {
      "application/vnd.jupyter.widget-view+json": {
       "model_id": "",
       "version_major": 2,
       "version_minor": 0
      },
      "text/plain": [
       "Uncorr 1/f:   0%|          | 0/1 [00:00<?, ?it/s]"
      ]
     },
     "metadata": {},
     "output_type": "display_data"
    },
    {
     "data": {
      "application/vnd.jupyter.widget-view+json": {
       "model_id": "",
       "version_major": 2,
       "version_minor": 0
      },
      "text/plain": [
       "ACN:   0%|          | 0/1 [00:00<?, ?it/s]"
      ]
     },
     "metadata": {},
     "output_type": "display_data"
    },
    {
     "data": {
      "application/vnd.jupyter.widget-view+json": {
       "model_id": "",
       "version_major": 2,
       "version_minor": 0
      },
      "text/plain": [
       "  0%|          | 0/14 [00:00<?, ?it/s]"
      ]
     },
     "metadata": {},
     "output_type": "display_data"
    },
    {
     "data": {
      "application/vnd.jupyter.widget-view+json": {
       "model_id": "",
       "version_major": 2,
       "version_minor": 0
      },
      "text/plain": [
       "Non-Linearity:   0%|          | 0/5 [00:00<?, ?it/s]"
      ]
     },
     "metadata": {},
     "output_type": "display_data"
    },
    {
     "data": {
      "application/vnd.jupyter.widget-view+json": {
       "model_id": "",
       "version_major": 2,
       "version_minor": 0
      },
      "text/plain": [
       "Uncorr 1/f:   0%|          | 0/1 [00:00<?, ?it/s]"
      ]
     },
     "metadata": {},
     "output_type": "display_data"
    },
    {
     "data": {
      "application/vnd.jupyter.widget-view+json": {
       "model_id": "",
       "version_major": 2,
       "version_minor": 0
      },
      "text/plain": [
       "ACN:   0%|          | 0/1 [00:00<?, ?it/s]"
      ]
     },
     "metadata": {},
     "output_type": "display_data"
    },
    {
     "data": {
      "application/vnd.jupyter.widget-view+json": {
       "model_id": "",
       "version_major": 2,
       "version_minor": 0
      },
      "text/plain": [
       "  0%|          | 0/14 [00:00<?, ?it/s]"
      ]
     },
     "metadata": {},
     "output_type": "display_data"
    },
    {
     "data": {
      "application/vnd.jupyter.widget-view+json": {
       "model_id": "",
       "version_major": 2,
       "version_minor": 0
      },
      "text/plain": [
       "Non-Linearity:   0%|          | 0/5 [00:00<?, ?it/s]"
      ]
     },
     "metadata": {},
     "output_type": "display_data"
    },
    {
     "data": {
      "application/vnd.jupyter.widget-view+json": {
       "model_id": "",
       "version_major": 2,
       "version_minor": 0
      },
      "text/plain": [
       "Uncorr 1/f:   0%|          | 0/1 [00:00<?, ?it/s]"
      ]
     },
     "metadata": {},
     "output_type": "display_data"
    },
    {
     "data": {
      "application/vnd.jupyter.widget-view+json": {
       "model_id": "",
       "version_major": 2,
       "version_minor": 0
      },
      "text/plain": [
       "ACN:   0%|          | 0/1 [00:00<?, ?it/s]"
      ]
     },
     "metadata": {},
     "output_type": "display_data"
    },
    {
     "data": {
      "application/vnd.jupyter.widget-view+json": {
       "model_id": "",
       "version_major": 2,
       "version_minor": 0
      },
      "text/plain": [
       "  0%|          | 0/14 [00:00<?, ?it/s]"
      ]
     },
     "metadata": {},
     "output_type": "display_data"
    },
    {
     "data": {
      "application/vnd.jupyter.widget-view+json": {
       "model_id": "",
       "version_major": 2,
       "version_minor": 0
      },
      "text/plain": [
       "Non-Linearity:   0%|          | 0/5 [00:00<?, ?it/s]"
      ]
     },
     "metadata": {},
     "output_type": "display_data"
    },
    {
     "data": {
      "application/vnd.jupyter.widget-view+json": {
       "model_id": "",
       "version_major": 2,
       "version_minor": 0
      },
      "text/plain": [
       "Uncorr 1/f:   0%|          | 0/1 [00:00<?, ?it/s]"
      ]
     },
     "metadata": {},
     "output_type": "display_data"
    },
    {
     "data": {
      "application/vnd.jupyter.widget-view+json": {
       "model_id": "",
       "version_major": 2,
       "version_minor": 0
      },
      "text/plain": [
       "ACN:   0%|          | 0/1 [00:00<?, ?it/s]"
      ]
     },
     "metadata": {},
     "output_type": "display_data"
    },
    {
     "data": {
      "application/vnd.jupyter.widget-view+json": {
       "model_id": "",
       "version_major": 2,
       "version_minor": 0
      },
      "text/plain": [
       "  0%|          | 0/14 [00:00<?, ?it/s]"
      ]
     },
     "metadata": {},
     "output_type": "display_data"
    },
    {
     "data": {
      "application/vnd.jupyter.widget-view+json": {
       "model_id": "",
       "version_major": 2,
       "version_minor": 0
      },
      "text/plain": [
       "Non-Linearity:   0%|          | 0/5 [00:00<?, ?it/s]"
      ]
     },
     "metadata": {},
     "output_type": "display_data"
    },
    {
     "data": {
      "application/vnd.jupyter.widget-view+json": {
       "model_id": "",
       "version_major": 2,
       "version_minor": 0
      },
      "text/plain": [
       "Uncorr 1/f:   0%|          | 0/1 [00:00<?, ?it/s]"
      ]
     },
     "metadata": {},
     "output_type": "display_data"
    },
    {
     "data": {
      "application/vnd.jupyter.widget-view+json": {
       "model_id": "",
       "version_major": 2,
       "version_minor": 0
      },
      "text/plain": [
       "ACN:   0%|          | 0/1 [00:00<?, ?it/s]"
      ]
     },
     "metadata": {},
     "output_type": "display_data"
    },
    {
     "data": {
      "application/vnd.jupyter.widget-view+json": {
       "model_id": "",
       "version_major": 2,
       "version_minor": 0
      },
      "text/plain": [
       "  0%|          | 0/14 [00:00<?, ?it/s]"
      ]
     },
     "metadata": {},
     "output_type": "display_data"
    },
    {
     "data": {
      "application/vnd.jupyter.widget-view+json": {
       "model_id": "",
       "version_major": 2,
       "version_minor": 0
      },
      "text/plain": [
       "Non-Linearity:   0%|          | 0/5 [00:00<?, ?it/s]"
      ]
     },
     "metadata": {},
     "output_type": "display_data"
    },
    {
     "data": {
      "application/vnd.jupyter.widget-view+json": {
       "model_id": "",
       "version_major": 2,
       "version_minor": 0
      },
      "text/plain": [
       "Uncorr 1/f:   0%|          | 0/1 [00:00<?, ?it/s]"
      ]
     },
     "metadata": {},
     "output_type": "display_data"
    },
    {
     "data": {
      "application/vnd.jupyter.widget-view+json": {
       "model_id": "",
       "version_major": 2,
       "version_minor": 0
      },
      "text/plain": [
       "ACN:   0%|          | 0/1 [00:00<?, ?it/s]"
      ]
     },
     "metadata": {},
     "output_type": "display_data"
    },
    {
     "data": {
      "application/vnd.jupyter.widget-view+json": {
       "model_id": "",
       "version_major": 2,
       "version_minor": 0
      },
      "text/plain": [
       "  0%|          | 0/14 [00:00<?, ?it/s]"
      ]
     },
     "metadata": {},
     "output_type": "display_data"
    },
    {
     "data": {
      "application/vnd.jupyter.widget-view+json": {
       "model_id": "",
       "version_major": 2,
       "version_minor": 0
      },
      "text/plain": [
       "Non-Linearity:   0%|          | 0/5 [00:00<?, ?it/s]"
      ]
     },
     "metadata": {},
     "output_type": "display_data"
    },
    {
     "data": {
      "application/vnd.jupyter.widget-view+json": {
       "model_id": "",
       "version_major": 2,
       "version_minor": 0
      },
      "text/plain": [
       "Uncorr 1/f:   0%|          | 0/1 [00:00<?, ?it/s]"
      ]
     },
     "metadata": {},
     "output_type": "display_data"
    },
    {
     "data": {
      "application/vnd.jupyter.widget-view+json": {
       "model_id": "",
       "version_major": 2,
       "version_minor": 0
      },
      "text/plain": [
       "ACN:   0%|          | 0/1 [00:00<?, ?it/s]"
      ]
     },
     "metadata": {},
     "output_type": "display_data"
    },
    {
     "data": {
      "application/vnd.jupyter.widget-view+json": {
       "model_id": "",
       "version_major": 2,
       "version_minor": 0
      },
      "text/plain": [
       "  0%|          | 0/14 [00:00<?, ?it/s]"
      ]
     },
     "metadata": {},
     "output_type": "display_data"
    },
    {
     "data": {
      "application/vnd.jupyter.widget-view+json": {
       "model_id": "",
       "version_major": 2,
       "version_minor": 0
      },
      "text/plain": [
       "Non-Linearity:   0%|          | 0/5 [00:00<?, ?it/s]"
      ]
     },
     "metadata": {},
     "output_type": "display_data"
    },
    {
     "data": {
      "application/vnd.jupyter.widget-view+json": {
       "model_id": "",
       "version_major": 2,
       "version_minor": 0
      },
      "text/plain": [
       "Uncorr 1/f:   0%|          | 0/1 [00:00<?, ?it/s]"
      ]
     },
     "metadata": {},
     "output_type": "display_data"
    },
    {
     "data": {
      "application/vnd.jupyter.widget-view+json": {
       "model_id": "",
       "version_major": 2,
       "version_minor": 0
      },
      "text/plain": [
       "ACN:   0%|          | 0/1 [00:00<?, ?it/s]"
      ]
     },
     "metadata": {},
     "output_type": "display_data"
    },
    {
     "data": {
      "application/vnd.jupyter.widget-view+json": {
       "model_id": "",
       "version_major": 2,
       "version_minor": 0
      },
      "text/plain": [
       "  0%|          | 0/14 [00:00<?, ?it/s]"
      ]
     },
     "metadata": {},
     "output_type": "display_data"
    },
    {
     "data": {
      "application/vnd.jupyter.widget-view+json": {
       "model_id": "",
       "version_major": 2,
       "version_minor": 0
      },
      "text/plain": [
       "Non-Linearity:   0%|          | 0/5 [00:00<?, ?it/s]"
      ]
     },
     "metadata": {},
     "output_type": "display_data"
    },
    {
     "data": {
      "application/vnd.jupyter.widget-view+json": {
       "model_id": "",
       "version_major": 2,
       "version_minor": 0
      },
      "text/plain": [
       "Uncorr 1/f:   0%|          | 0/1 [00:00<?, ?it/s]"
      ]
     },
     "metadata": {},
     "output_type": "display_data"
    },
    {
     "data": {
      "application/vnd.jupyter.widget-view+json": {
       "model_id": "",
       "version_major": 2,
       "version_minor": 0
      },
      "text/plain": [
       "ACN:   0%|          | 0/1 [00:00<?, ?it/s]"
      ]
     },
     "metadata": {},
     "output_type": "display_data"
    },
    {
     "name": "stdout",
     "output_type": "stream",
     "text": [
      "  Saving: /Users/jarron/NIRCam/Data/NRC_Sims/Sim_NRC35/jw01409001001_02101_00002_nrca5_uncal.fits\n"
     ]
    }
   ],
   "source": [
    "# Create and save DMS FITS files\n",
    "params_noise = {\n",
    "    'include_poisson'   : True,     # Photon Noise\n",
    "    'include_dark'      : True,     # Dark current\n",
    "    'include_bias'      : True,     # Bias image offset\n",
    "    'include_ktc'       : True,     # kTC Noise\n",
    "    'include_rn'        : True,     # Read Noise\n",
    "    'include_cpink'     : True,     # Correlated 1/f noise between channel\n",
    "    'include_upink'     : True,     # Channel-dependent 1/f noise\n",
    "    'include_acn'       : True,     # Alternating column noise\n",
    "    'apply_ipc'         : True,     # Interpixel capacitance\n",
    "    'apply_ppc'         : True,     # Post-pixel coupling\n",
    "    'amp_crosstalk'     : True,     # Amplifier crosstalk\n",
    "    'include_refoffsets': True,     # Reference offsets\n",
    "    'include_refinst'   : True,     # Reference pixel instabilities\n",
    "    'include_colnoise'  : True,     # Transient detector column noise\n",
    "    'add_crs'           : True,     # Include cosmic ray\n",
    "    'cr_model'          : 'SUNMAX', # Cosmic ray model ('SUNMAX', 'SUNMIN', or 'FLARES')\n",
    "    'cr_scale'          : 1,        # Cosmic ray probabilities scaling\n",
    "    'apply_nonlinearity': True,     # Apply non-linearity\n",
    "    'random_nonlin'     : True,     # Add randomness to non-linearity\n",
    "    'apply_flats'       : True,     # pixel-to-pixel QE variations and field-dep illum\n",
    "}\n",
    "\n",
    "run_all_exps(obs_dict, key=vkey, rand_seed_init=1234, \n",
    "             save_dir=save_dir, save_slope=True, **params_noise)"
   ]
  },
  {
   "cell_type": "markdown",
   "id": "bfbf9f6d",
   "metadata": {},
   "source": [
    "## Visit 031:001"
   ]
  },
  {
   "cell_type": "code",
   "execution_count": 14,
   "id": "e3dc650d",
   "metadata": {},
   "outputs": [],
   "source": [
    "vkey = '031:001'"
   ]
  },
  {
   "cell_type": "code",
   "execution_count": 15,
   "id": "2b31da79",
   "metadata": {},
   "outputs": [
    {
     "name": "stdout",
     "output_type": "stream",
     "text": [
      "  Generating Instrument Classes...\n"
     ]
    },
    {
     "data": {
      "application/vnd.jupyter.widget-view+json": {
       "model_id": "",
       "version_major": 2,
       "version_minor": 0
      },
      "text/plain": [
       "Monochromatic PSFs:   0%|          | 0/5 [00:00<?, ?it/s]"
      ]
     },
     "metadata": {},
     "output_type": "display_data"
    }
   ],
   "source": [
    "# Create NIRCam instrument class:\n",
    "#   obs_dict[vkey]['nrc']\n",
    "kw_scales = {'ote_scale': 0.5, 'nc_scale': 0.5, 'ice_scale': None, 'nvr_scale': None}\n",
    "add_inst(obs_dict, key=vkey, **kw_scales)"
   ]
  },
  {
   "cell_type": "code",
   "execution_count": 16,
   "id": "e284e725",
   "metadata": {},
   "outputs": [
    {
     "data": {
      "image/png": "[encoded data removed]",
      "text/plain": [
       "<Figure size 576x432 with 1 Axes>"
      ]
     },
     "metadata": {
      "needs_background": "light"
     },
     "output_type": "display_data"
    }
   ],
   "source": [
    "# Check that bandpass looks good\n",
    "nrc = obs_dict[vkey]['nrc']\n",
    "nrc.plot_bandpass();"
   ]
  },
  {
   "cell_type": "code",
   "execution_count": 17,
   "id": "e3f9a25f",
   "metadata": {},
   "outputs": [
    {
     "name": "stdout",
     "output_type": "stream",
     "text": [
      "  Creating ideal slopes, FSM background, SCA darks, biases...\n"
     ]
    },
    {
     "data": {
      "application/vnd.jupyter.widget-view+json": {
       "model_id": "",
       "version_major": 2,
       "version_minor": 0
      },
      "text/plain": [
       "Filters:   0%|          | 0/29 [00:00<?, ?it/s]"
      ]
     },
     "metadata": {},
     "output_type": "display_data"
    },
    {
     "name": "stdout",
     "output_type": "stream",
     "text": [
      "  Exposure: 1\n"
     ]
    },
    {
     "data": {
      "application/vnd.jupyter.widget-view+json": {
       "model_id": "",
       "version_major": 2,
       "version_minor": 0
      },
      "text/plain": [
       "PSFs:   0%|          | 0/25 [00:00<?, ?it/s]"
      ]
     },
     "metadata": {},
     "output_type": "display_data"
    },
    {
     "data": {
      "application/vnd.jupyter.widget-view+json": {
       "model_id": "",
       "version_major": 2,
       "version_minor": 0
      },
      "text/plain": [
       "Convolution:   0%|          | 0/25 [00:00<?, ?it/s]"
      ]
     },
     "metadata": {},
     "output_type": "display_data"
    }
   ],
   "source": [
    "# Create slope and check extraction\n",
    "#   obs_dict[vkey]['im_slope_ideal']\n",
    "#   obs_dict[vkey]['bg_slope']\n",
    "#   obs_dict[vkey]['im_bias']\n",
    "#   obs_dict[vkey]['im_dark']\n",
    "add_slope_images(obs_dict, key=vkey, spec_ang=0)"
   ]
  },
  {
   "cell_type": "code",
   "execution_count": 18,
   "id": "4b4cef78",
   "metadata": {},
   "outputs": [
    {
     "data": {
      "text/plain": [
       "<matplotlib.image.AxesImage at 0x7f9f99408510>"
      ]
     },
     "execution_count": 18,
     "metadata": {},
     "output_type": "execute_result"
    },
    {
     "data": {
      "image/png": "[encoded data removed]",
      "text/plain": [
       "<Figure size 576x432 with 1 Axes>"
      ]
     },
     "metadata": {
      "needs_background": "light"
     },
     "output_type": "display_data"
    }
   ],
   "source": [
    "im = obs_dict[vkey]['im_slope_ideal']\n",
    "\n",
    "plt.imshow(im**0.25)"
   ]
  },
  {
   "cell_type": "code",
   "execution_count": 19,
   "id": "0d18643e",
   "metadata": {},
   "outputs": [
    {
     "name": "stdout",
     "output_type": "stream",
     "text": [
      "  Creating ideal slopes, FSM background, SCA darks, biases...\n"
     ]
    },
    {
     "data": {
      "application/vnd.jupyter.widget-view+json": {
       "model_id": "",
       "version_major": 2,
       "version_minor": 0
      },
      "text/plain": [
       "Filters:   0%|          | 0/29 [00:00<?, ?it/s]"
      ]
     },
     "metadata": {},
     "output_type": "display_data"
    },
    {
     "name": "stdout",
     "output_type": "stream",
     "text": [
      "  Exposure: 1\n"
     ]
    },
    {
     "data": {
      "application/vnd.jupyter.widget-view+json": {
       "model_id": "",
       "version_major": 2,
       "version_minor": 0
      },
      "text/plain": [
       "PSFs:   0%|          | 0/25 [00:00<?, ?it/s]"
      ]
     },
     "metadata": {},
     "output_type": "display_data"
    },
    {
     "data": {
      "application/vnd.jupyter.widget-view+json": {
       "model_id": "",
       "version_major": 2,
       "version_minor": 0
      },
      "text/plain": [
       "Convolution:   0%|          | 0/25 [00:00<?, ?it/s]"
      ]
     },
     "metadata": {},
     "output_type": "display_data"
    },
    {
     "name": "stdout",
     "output_type": "stream",
     "text": [
      "  Saving: /Users/jarron/NIRCam/Data/NRC_Sims/Sim_NRC35/slope_jw01409031001_02101_00001_nrca5_uncal.fits\n"
     ]
    },
    {
     "data": {
      "application/vnd.jupyter.widget-view+json": {
       "model_id": "",
       "version_major": 2,
       "version_minor": 0
      },
      "text/plain": [
       "PPC Amps:   0%|          | 0/4 [00:00<?, ?it/s]"
      ]
     },
     "metadata": {},
     "output_type": "display_data"
    },
    {
     "data": {
      "application/vnd.jupyter.widget-view+json": {
       "model_id": "",
       "version_major": 2,
       "version_minor": 0
      },
      "text/plain": [
       "Frames:   0%|          | 0/1 [00:00<?, ?it/s]"
      ]
     },
     "metadata": {},
     "output_type": "display_data"
    },
    {
     "data": {
      "application/vnd.jupyter.widget-view+json": {
       "model_id": "",
       "version_major": 2,
       "version_minor": 0
      },
      "text/plain": [
       "Frames:   0%|          | 0/1 [00:00<?, ?it/s]"
      ]
     },
     "metadata": {},
     "output_type": "display_data"
    },
    {
     "data": {
      "application/vnd.jupyter.widget-view+json": {
       "model_id": "",
       "version_major": 2,
       "version_minor": 0
      },
      "text/plain": [
       "Frames:   0%|          | 0/1 [00:00<?, ?it/s]"
      ]
     },
     "metadata": {},
     "output_type": "display_data"
    },
    {
     "data": {
      "application/vnd.jupyter.widget-view+json": {
       "model_id": "",
       "version_major": 2,
       "version_minor": 0
      },
      "text/plain": [
       "Frames:   0%|          | 0/1 [00:00<?, ?it/s]"
      ]
     },
     "metadata": {},
     "output_type": "display_data"
    },
    {
     "data": {
      "application/vnd.jupyter.widget-view+json": {
       "model_id": "",
       "version_major": 2,
       "version_minor": 0
      },
      "text/plain": [
       "PPC Amps:   0%|          | 0/4 [00:00<?, ?it/s]"
      ]
     },
     "metadata": {},
     "output_type": "display_data"
    },
    {
     "data": {
      "application/vnd.jupyter.widget-view+json": {
       "model_id": "",
       "version_major": 2,
       "version_minor": 0
      },
      "text/plain": [
       "Frames:   0%|          | 0/1 [00:00<?, ?it/s]"
      ]
     },
     "metadata": {},
     "output_type": "display_data"
    },
    {
     "data": {
      "application/vnd.jupyter.widget-view+json": {
       "model_id": "",
       "version_major": 2,
       "version_minor": 0
      },
      "text/plain": [
       "Frames:   0%|          | 0/1 [00:00<?, ?it/s]"
      ]
     },
     "metadata": {},
     "output_type": "display_data"
    },
    {
     "data": {
      "application/vnd.jupyter.widget-view+json": {
       "model_id": "",
       "version_major": 2,
       "version_minor": 0
      },
      "text/plain": [
       "Frames:   0%|          | 0/1 [00:00<?, ?it/s]"
      ]
     },
     "metadata": {},
     "output_type": "display_data"
    },
    {
     "data": {
      "application/vnd.jupyter.widget-view+json": {
       "model_id": "",
       "version_major": 2,
       "version_minor": 0
      },
      "text/plain": [
       "Frames:   0%|          | 0/1 [00:00<?, ?it/s]"
      ]
     },
     "metadata": {},
     "output_type": "display_data"
    },
    {
     "data": {
      "application/vnd.jupyter.widget-view+json": {
       "model_id": "",
       "version_major": 2,
       "version_minor": 0
      },
      "text/plain": [
       "Frames:   0%|          | 0/1 [00:00<?, ?it/s]"
      ]
     },
     "metadata": {},
     "output_type": "display_data"
    },
    {
     "data": {
      "application/vnd.jupyter.widget-view+json": {
       "model_id": "",
       "version_major": 2,
       "version_minor": 0
      },
      "text/plain": [
       "Frames:   0%|          | 0/1 [00:00<?, ?it/s]"
      ]
     },
     "metadata": {},
     "output_type": "display_data"
    },
    {
     "data": {
      "application/vnd.jupyter.widget-view+json": {
       "model_id": "",
       "version_major": 2,
       "version_minor": 0
      },
      "text/plain": [
       "Ramps:   0%|          | 0/3 [00:00<?, ?it/s]"
      ]
     },
     "metadata": {},
     "output_type": "display_data"
    },
    {
     "data": {
      "application/vnd.jupyter.widget-view+json": {
       "model_id": "",
       "version_major": 2,
       "version_minor": 0
      },
      "text/plain": [
       "  0%|          | 0/14 [00:00<?, ?it/s]"
      ]
     },
     "metadata": {},
     "output_type": "display_data"
    },
    {
     "data": {
      "application/vnd.jupyter.widget-view+json": {
       "model_id": "",
       "version_major": 2,
       "version_minor": 0
      },
      "text/plain": [
       "Non-Linearity:   0%|          | 0/3 [00:00<?, ?it/s]"
      ]
     },
     "metadata": {},
     "output_type": "display_data"
    },
    {
     "data": {
      "application/vnd.jupyter.widget-view+json": {
       "model_id": "",
       "version_major": 2,
       "version_minor": 0
      },
      "text/plain": [
       "Uncorr 1/f:   0%|          | 0/4 [00:00<?, ?it/s]"
      ]
     },
     "metadata": {},
     "output_type": "display_data"
    },
    {
     "data": {
      "application/vnd.jupyter.widget-view+json": {
       "model_id": "",
       "version_major": 2,
       "version_minor": 0
      },
      "text/plain": [
       "ACN:   0%|          | 0/4 [00:00<?, ?it/s]"
      ]
     },
     "metadata": {},
     "output_type": "display_data"
    },
    {
     "data": {
      "application/vnd.jupyter.widget-view+json": {
       "model_id": "",
       "version_major": 2,
       "version_minor": 0
      },
      "text/plain": [
       "  0%|          | 0/14 [00:00<?, ?it/s]"
      ]
     },
     "metadata": {},
     "output_type": "display_data"
    },
    {
     "data": {
      "application/vnd.jupyter.widget-view+json": {
       "model_id": "",
       "version_major": 2,
       "version_minor": 0
      },
      "text/plain": [
       "Non-Linearity:   0%|          | 0/3 [00:00<?, ?it/s]"
      ]
     },
     "metadata": {},
     "output_type": "display_data"
    },
    {
     "data": {
      "application/vnd.jupyter.widget-view+json": {
       "model_id": "",
       "version_major": 2,
       "version_minor": 0
      },
      "text/plain": [
       "Uncorr 1/f:   0%|          | 0/4 [00:00<?, ?it/s]"
      ]
     },
     "metadata": {},
     "output_type": "display_data"
    },
    {
     "data": {
      "application/vnd.jupyter.widget-view+json": {
       "model_id": "",
       "version_major": 2,
       "version_minor": 0
      },
      "text/plain": [
       "ACN:   0%|          | 0/4 [00:00<?, ?it/s]"
      ]
     },
     "metadata": {},
     "output_type": "display_data"
    },
    {
     "data": {
      "application/vnd.jupyter.widget-view+json": {
       "model_id": "",
       "version_major": 2,
       "version_minor": 0
      },
      "text/plain": [
       "  0%|          | 0/14 [00:00<?, ?it/s]"
      ]
     },
     "metadata": {},
     "output_type": "display_data"
    },
    {
     "data": {
      "application/vnd.jupyter.widget-view+json": {
       "model_id": "",
       "version_major": 2,
       "version_minor": 0
      },
      "text/plain": [
       "Non-Linearity:   0%|          | 0/3 [00:00<?, ?it/s]"
      ]
     },
     "metadata": {},
     "output_type": "display_data"
    },
    {
     "data": {
      "application/vnd.jupyter.widget-view+json": {
       "model_id": "",
       "version_major": 2,
       "version_minor": 0
      },
      "text/plain": [
       "Uncorr 1/f:   0%|          | 0/4 [00:00<?, ?it/s]"
      ]
     },
     "metadata": {},
     "output_type": "display_data"
    },
    {
     "data": {
      "application/vnd.jupyter.widget-view+json": {
       "model_id": "",
       "version_major": 2,
       "version_minor": 0
      },
      "text/plain": [
       "ACN:   0%|          | 0/4 [00:00<?, ?it/s]"
      ]
     },
     "metadata": {},
     "output_type": "display_data"
    },
    {
     "name": "stdout",
     "output_type": "stream",
     "text": [
      "  Saving: /Users/jarron/NIRCam/Data/NRC_Sims/Sim_NRC35/jw01409031001_02101_00001_nrca5_uncal.fits\n",
      "  Creating ideal slopes, FSM background, SCA darks, biases...\n"
     ]
    },
    {
     "data": {
      "application/vnd.jupyter.widget-view+json": {
       "model_id": "",
       "version_major": 2,
       "version_minor": 0
      },
      "text/plain": [
       "Filters:   0%|          | 0/29 [00:00<?, ?it/s]"
      ]
     },
     "metadata": {},
     "output_type": "display_data"
    },
    {
     "name": "stdout",
     "output_type": "stream",
     "text": [
      "  Exposure: 2\n"
     ]
    },
    {
     "data": {
      "application/vnd.jupyter.widget-view+json": {
       "model_id": "",
       "version_major": 2,
       "version_minor": 0
      },
      "text/plain": [
       "PSFs:   0%|          | 0/25 [00:00<?, ?it/s]"
      ]
     },
     "metadata": {},
     "output_type": "display_data"
    },
    {
     "data": {
      "application/vnd.jupyter.widget-view+json": {
       "model_id": "",
       "version_major": 2,
       "version_minor": 0
      },
      "text/plain": [
       "Convolution:   0%|          | 0/25 [00:00<?, ?it/s]"
      ]
     },
     "metadata": {},
     "output_type": "display_data"
    },
    {
     "name": "stdout",
     "output_type": "stream",
     "text": [
      "  Saving: /Users/jarron/NIRCam/Data/NRC_Sims/Sim_NRC35/slope_jw01409031001_02101_00002_nrca5_uncal.fits\n"
     ]
    },
    {
     "data": {
      "application/vnd.jupyter.widget-view+json": {
       "model_id": "",
       "version_major": 2,
       "version_minor": 0
      },
      "text/plain": [
       "PPC Amps:   0%|          | 0/4 [00:00<?, ?it/s]"
      ]
     },
     "metadata": {},
     "output_type": "display_data"
    },
    {
     "data": {
      "application/vnd.jupyter.widget-view+json": {
       "model_id": "",
       "version_major": 2,
       "version_minor": 0
      },
      "text/plain": [
       "Frames:   0%|          | 0/1 [00:00<?, ?it/s]"
      ]
     },
     "metadata": {},
     "output_type": "display_data"
    },
    {
     "data": {
      "application/vnd.jupyter.widget-view+json": {
       "model_id": "",
       "version_major": 2,
       "version_minor": 0
      },
      "text/plain": [
       "Frames:   0%|          | 0/1 [00:00<?, ?it/s]"
      ]
     },
     "metadata": {},
     "output_type": "display_data"
    },
    {
     "data": {
      "application/vnd.jupyter.widget-view+json": {
       "model_id": "",
       "version_major": 2,
       "version_minor": 0
      },
      "text/plain": [
       "Frames:   0%|          | 0/1 [00:00<?, ?it/s]"
      ]
     },
     "metadata": {},
     "output_type": "display_data"
    },
    {
     "data": {
      "application/vnd.jupyter.widget-view+json": {
       "model_id": "",
       "version_major": 2,
       "version_minor": 0
      },
      "text/plain": [
       "Frames:   0%|          | 0/1 [00:00<?, ?it/s]"
      ]
     },
     "metadata": {},
     "output_type": "display_data"
    },
    {
     "data": {
      "application/vnd.jupyter.widget-view+json": {
       "model_id": "",
       "version_major": 2,
       "version_minor": 0
      },
      "text/plain": [
       "PPC Amps:   0%|          | 0/4 [00:00<?, ?it/s]"
      ]
     },
     "metadata": {},
     "output_type": "display_data"
    },
    {
     "data": {
      "application/vnd.jupyter.widget-view+json": {
       "model_id": "",
       "version_major": 2,
       "version_minor": 0
      },
      "text/plain": [
       "Frames:   0%|          | 0/1 [00:00<?, ?it/s]"
      ]
     },
     "metadata": {},
     "output_type": "display_data"
    },
    {
     "data": {
      "application/vnd.jupyter.widget-view+json": {
       "model_id": "",
       "version_major": 2,
       "version_minor": 0
      },
      "text/plain": [
       "Frames:   0%|          | 0/1 [00:00<?, ?it/s]"
      ]
     },
     "metadata": {},
     "output_type": "display_data"
    },
    {
     "data": {
      "application/vnd.jupyter.widget-view+json": {
       "model_id": "",
       "version_major": 2,
       "version_minor": 0
      },
      "text/plain": [
       "Frames:   0%|          | 0/1 [00:00<?, ?it/s]"
      ]
     },
     "metadata": {},
     "output_type": "display_data"
    },
    {
     "data": {
      "application/vnd.jupyter.widget-view+json": {
       "model_id": "",
       "version_major": 2,
       "version_minor": 0
      },
      "text/plain": [
       "Frames:   0%|          | 0/1 [00:00<?, ?it/s]"
      ]
     },
     "metadata": {},
     "output_type": "display_data"
    },
    {
     "data": {
      "application/vnd.jupyter.widget-view+json": {
       "model_id": "",
       "version_major": 2,
       "version_minor": 0
      },
      "text/plain": [
       "Frames:   0%|          | 0/1 [00:00<?, ?it/s]"
      ]
     },
     "metadata": {},
     "output_type": "display_data"
    },
    {
     "data": {
      "application/vnd.jupyter.widget-view+json": {
       "model_id": "",
       "version_major": 2,
       "version_minor": 0
      },
      "text/plain": [
       "Frames:   0%|          | 0/1 [00:00<?, ?it/s]"
      ]
     },
     "metadata": {},
     "output_type": "display_data"
    },
    {
     "data": {
      "application/vnd.jupyter.widget-view+json": {
       "model_id": "",
       "version_major": 2,
       "version_minor": 0
      },
      "text/plain": [
       "Ramps:   0%|          | 0/3 [00:00<?, ?it/s]"
      ]
     },
     "metadata": {},
     "output_type": "display_data"
    },
    {
     "data": {
      "application/vnd.jupyter.widget-view+json": {
       "model_id": "",
       "version_major": 2,
       "version_minor": 0
      },
      "text/plain": [
       "  0%|          | 0/14 [00:00<?, ?it/s]"
      ]
     },
     "metadata": {},
     "output_type": "display_data"
    },
    {
     "data": {
      "application/vnd.jupyter.widget-view+json": {
       "model_id": "",
       "version_major": 2,
       "version_minor": 0
      },
      "text/plain": [
       "Non-Linearity:   0%|          | 0/3 [00:00<?, ?it/s]"
      ]
     },
     "metadata": {},
     "output_type": "display_data"
    },
    {
     "data": {
      "application/vnd.jupyter.widget-view+json": {
       "model_id": "",
       "version_major": 2,
       "version_minor": 0
      },
      "text/plain": [
       "Uncorr 1/f:   0%|          | 0/4 [00:00<?, ?it/s]"
      ]
     },
     "metadata": {},
     "output_type": "display_data"
    },
    {
     "data": {
      "application/vnd.jupyter.widget-view+json": {
       "model_id": "",
       "version_major": 2,
       "version_minor": 0
      },
      "text/plain": [
       "ACN:   0%|          | 0/4 [00:00<?, ?it/s]"
      ]
     },
     "metadata": {},
     "output_type": "display_data"
    },
    {
     "data": {
      "application/vnd.jupyter.widget-view+json": {
       "model_id": "",
       "version_major": 2,
       "version_minor": 0
      },
      "text/plain": [
       "  0%|          | 0/14 [00:00<?, ?it/s]"
      ]
     },
     "metadata": {},
     "output_type": "display_data"
    },
    {
     "data": {
      "application/vnd.jupyter.widget-view+json": {
       "model_id": "",
       "version_major": 2,
       "version_minor": 0
      },
      "text/plain": [
       "Non-Linearity:   0%|          | 0/3 [00:00<?, ?it/s]"
      ]
     },
     "metadata": {},
     "output_type": "display_data"
    },
    {
     "data": {
      "application/vnd.jupyter.widget-view+json": {
       "model_id": "",
       "version_major": 2,
       "version_minor": 0
      },
      "text/plain": [
       "Uncorr 1/f:   0%|          | 0/4 [00:00<?, ?it/s]"
      ]
     },
     "metadata": {},
     "output_type": "display_data"
    },
    {
     "data": {
      "application/vnd.jupyter.widget-view+json": {
       "model_id": "",
       "version_major": 2,
       "version_minor": 0
      },
      "text/plain": [
       "ACN:   0%|          | 0/4 [00:00<?, ?it/s]"
      ]
     },
     "metadata": {},
     "output_type": "display_data"
    },
    {
     "data": {
      "application/vnd.jupyter.widget-view+json": {
       "model_id": "",
       "version_major": 2,
       "version_minor": 0
      },
      "text/plain": [
       "  0%|          | 0/14 [00:00<?, ?it/s]"
      ]
     },
     "metadata": {},
     "output_type": "display_data"
    },
    {
     "data": {
      "application/vnd.jupyter.widget-view+json": {
       "model_id": "",
       "version_major": 2,
       "version_minor": 0
      },
      "text/plain": [
       "Non-Linearity:   0%|          | 0/3 [00:00<?, ?it/s]"
      ]
     },
     "metadata": {},
     "output_type": "display_data"
    },
    {
     "data": {
      "application/vnd.jupyter.widget-view+json": {
       "model_id": "",
       "version_major": 2,
       "version_minor": 0
      },
      "text/plain": [
       "Uncorr 1/f:   0%|          | 0/4 [00:00<?, ?it/s]"
      ]
     },
     "metadata": {},
     "output_type": "display_data"
    },
    {
     "data": {
      "application/vnd.jupyter.widget-view+json": {
       "model_id": "",
       "version_major": 2,
       "version_minor": 0
      },
      "text/plain": [
       "ACN:   0%|          | 0/4 [00:00<?, ?it/s]"
      ]
     },
     "metadata": {},
     "output_type": "display_data"
    },
    {
     "name": "stdout",
     "output_type": "stream",
     "text": [
      "  Saving: /Users/jarron/NIRCam/Data/NRC_Sims/Sim_NRC35/jw01409031001_02101_00002_nrca5_uncal.fits\n"
     ]
    }
   ],
   "source": [
    "# Create and save DMS FITS files\n",
    "params_noise = {\n",
    "    'include_poisson'   : True,     # Photon Noise\n",
    "    'include_dark'      : True,     # Dark current\n",
    "    'include_bias'      : True,     # Bias image offset\n",
    "    'include_ktc'       : True,     # kTC Noise\n",
    "    'include_rn'        : True,     # Read Noise\n",
    "    'include_cpink'     : True,     # Correlated 1/f noise between channel\n",
    "    'include_upink'     : True,     # Channel-dependent 1/f noise\n",
    "    'include_acn'       : True,     # Alternating column noise\n",
    "    'apply_ipc'         : True,     # Interpixel capacitance\n",
    "    'apply_ppc'         : True,     # Post-pixel coupling\n",
    "    'amp_crosstalk'     : True,     # Amplifier crosstalk\n",
    "    'include_refoffsets': True,     # Reference offsets\n",
    "    'include_refinst'   : True,     # Reference pixel instabilities\n",
    "    'include_colnoise'  : True,     # Transient detector column noise\n",
    "    'add_crs'           : True,     # Include cosmic ray\n",
    "    'cr_model'          : 'SUNMAX', # Cosmic ray model ('SUNMAX', 'SUNMIN', or 'FLARES')\n",
    "    'cr_scale'          : 1,        # Cosmic ray probabilities scaling\n",
    "    'apply_nonlinearity': True,     # Apply non-linearity\n",
    "    'random_nonlin'     : True,     # Add randomness to non-linearity\n",
    "    'apply_flats'       : True,     # pixel-to-pixel QE variations and field-dep illum\n",
    "}\n",
    "\n",
    "run_all_exps(obs_dict, key=vkey, rand_seed_init=1234, \n",
    "             save_dir=save_dir, save_slope=True, **params_noise)"
   ]
  },
  {
   "cell_type": "code",
   "execution_count": null,
   "id": "57d9c5cd",
   "metadata": {},
   "outputs": [],
   "source": []
  },
  {
   "cell_type": "code",
   "execution_count": null,
   "id": "488cdcc9",
   "metadata": {},
   "outputs": [],
   "source": []
  },
  {
   "cell_type": "markdown",
   "id": "4672092d",
   "metadata": {},
   "source": [
    "# Extra Backup Cells"
   ]
  },
  {
   "cell_type": "code",
   "execution_count": 41,
   "id": "3e7b054f",
   "metadata": {},
   "outputs": [],
   "source": [
    "d = obs_dict['001:001']\n",
    "obs_params = d['obs_params']\n",
    "visit = d['visit']"
   ]
  },
  {
   "cell_type": "code",
   "execution_count": 42,
   "id": "650870b7",
   "metadata": {
    "scrolled": true
   },
   "outputs": [
    {
     "data": {
      "text/plain": [
       "{'obs_num': 1,\n",
       " 'visit_num': 1,\n",
       " 'visit_start': 23416,\n",
       " 'slew_duration': 1800,\n",
       " 'visit_duration': 1167,\n",
       " 'exp_start_times': array([1800, 2310]),\n",
       " 'orient_info': {'OrientMin': 190.0, 'OrientMax': 210.0},\n",
       " 'APTTemplate': 'NircamEngineeringImaging',\n",
       " 'PrimaryDitherType': array(['NONE', 'NONE'], dtype='<U4'),\n",
       " 'PrimaryDithers': array(['NONE', 'NONE'], dtype='<U4'),\n",
       " 'DitherSize': array(['NONE', 'NONE'], dtype='<U4'),\n",
       " 'SubpixelPositions': array(['1', '1'], dtype='<U1'),\n",
       " 'SubpixelDitherType': array(['STANDARD', 'STANDARD'], dtype='<U8'),\n",
       " 'SmallGridDitherType': array(['NONE', 'NONE'], dtype='<U4'),\n",
       " 'DitherPatternType': array(['NONE', 'NONE'], dtype='<U4'),\n",
       " 'ImageDithers': array(['NONE', 'NONE'], dtype='<U4'),\n",
       " 'number_of_dithers': array(['1', '1'], dtype='<U1'),\n",
       " 'rand_seed_init': 1234,\n",
       " 'rand_seed_dith': 3853010524,\n",
       " 'rand_seed_noise': 3709225223,\n",
       " 'TargetID': array(['HD-84406', 'HD-84406'], dtype='<U15'),\n",
       " 'TargetRA': array(['09:47:30.2970', '09:47:30.2970'], dtype='<U13'),\n",
       " 'TargetDec': array(['+63:14:49.96', '+63:14:49.96'], dtype='<U12'),\n",
       " 'aperture': array([['NRCA1_GRISMTS256', 'NRCA2_GRISMTS256', 'NRCA3_GRISMTS256',\n",
       "         'NRCA4_GRISMTS256', 'NRCA5_GRISM256_F322W2'],\n",
       "        ['NRCA1_GRISMTS256', 'NRCA2_GRISMTS256', 'NRCA3_GRISMTS256',\n",
       "         'NRCA4_GRISMTS256', 'NRCA5_GRISM256_F322W2']], dtype='<U21'),\n",
       " 'pri_dith': array([1, 1]),\n",
       " 'sub_dith': array([1, 1]),\n",
       " 'targ1': array([13, 13]),\n",
       " 'targ2': array(['HD-8440', 'HD-8440'], dtype='<U8'),\n",
       " 'ra': array([146.87624, 146.87624]),\n",
       " 'dec': array([63.24721, 63.24721]),\n",
       " 'basex': array([0., 0.]),\n",
       " 'basey': array([5., 5.]),\n",
       " 'dithx': array([ 0.052, -0.052]),\n",
       " 'dithy': array([-7.37,  7.37]),\n",
       " 'v2': array([50.706, 50.869]),\n",
       " 'v3': array([-558.847, -544.106]),\n",
       " 'idlx': array([ 0.052, -0.052]),\n",
       " 'idly': array([-2.37, 12.37]),\n",
       " 'obs_label': array(['LW Grism Ice Monitor #1 Mod-A 256 subarray',\n",
       "        'LW Grism Ice Monitor #1 Mod-A 256 subarray'], dtype='<U42'),\n",
       " 'obs_id_info': array([{'program_number': '01409', 'observation_number': '001', 'visit_number': '001', 'visit_group': '02', 'sequence_id': '1', 'activity_id': '01', 'exposure_number': '00001', 'visit_id': '01409001001', 'obs_id': 'V01409001001P0000000002101'},\n",
       "        {'program_number': '01409', 'observation_number': '001', 'visit_number': '001', 'visit_group': '02', 'sequence_id': '1', 'activity_id': '01', 'exposure_number': '00002', 'visit_id': '01409001001', 'obs_id': 'V01409001001P0000000002101'}],\n",
       "       dtype=object),\n",
       " 'level': array(['TARGET', 'TILE'], dtype='<U6'),\n",
       " 'type': array(['SCIENCE', 'SCIENCE'], dtype='<U7'),\n",
       " 'ddist': array([ 0.   , 14.741]),\n",
       " 'ModuleAPT': array(['A', 'A'], dtype='<U1'),\n",
       " 'sw_filters': array(['F212N', 'F212N'], dtype='<U5'),\n",
       " 'sw_pupils': array(['CLEAR', 'CLEAR'], dtype='<U5'),\n",
       " 'lw_filters': array(['F322W2', 'F322W2'], dtype='<U6'),\n",
       " 'lw_pupils': array(['GRISMR', 'GRISMR'], dtype='<U6'),\n",
       " 'coron_mask': array(['NONE', 'NONE'], dtype='<U4'),\n",
       " 'mode': array(['imaging', 'imaging'], dtype='<U7'),\n",
       " 'subarray_name': array(['SUBGRISM256', 'SUBGRISM256'], dtype='<U11'),\n",
       " 'readout': array(['RAPID', 'RAPID'], dtype='<U5'),\n",
       " 'nints': array(['10', '10'], dtype='<U2'),\n",
       " 'ngroups': array(['5', '5'], dtype='<U1'),\n",
       " 'noutputs': array([1, 1]),\n",
       " 'detectors': array([['NRCA1', 'NRCA2', 'NRCA3', 'NRCA4', 'NRCA5'],\n",
       "        ['NRCA1', 'NRCA2', 'NRCA3', 'NRCA4', 'NRCA5']], dtype='<U5'),\n",
       " 'json_file': 'pid1409.timing.json',\n",
       " 'sm_acct_file': 'pid1409.smart_accounting',\n",
       " 'pointing_file': 'pid1409.pointing',\n",
       " 'xml_file': 'pid1409.xml'}"
      ]
     },
     "execution_count": 42,
     "metadata": {},
     "output_type": "execute_result"
    }
   ],
   "source": [
    "visit"
   ]
  },
  {
   "cell_type": "code",
   "execution_count": 43,
   "id": "4c187e41",
   "metadata": {
    "scrolled": true
   },
   "outputs": [
    {
     "data": {
      "text/plain": [
       "{'pi_name': 'Erin Smith',\n",
       " 'title': 'CAR_NIRCAM-0035: NIRCAM Ice Measurement',\n",
       " 'category': 'COM',\n",
       " 'sub_category': 'NIRCAM',\n",
       " 'science_category': 'Stellar Physics',\n",
       " 'target_name': 'HD-84406',\n",
       " 'catalog_name': 'UNKNOWN',\n",
       " 'ra': 146.8762375,\n",
       " 'dec': 63.24721111111111,\n",
       " 'pa_v3': 196.9098730681069,\n",
       " 'roll_offset': 0,\n",
       " 'solar_elong': 133.21178164562465,\n",
       " 'pitch_ang': 43.211781645624654,\n",
       " 'siaf_ap': <pysiaf.Aperture object AperName=NRCA5_GRISM256_F322W2 >,\n",
       " 'ra_obs': 146.87577594106958,\n",
       " 'dec_obs': 63.246586256447664,\n",
       " 'siaf_ap_ref': <pysiaf.Aperture object AperName=NRCA5_GRISM256_F322W2 >,\n",
       " 'ra_ref': 146.87577594106958,\n",
       " 'dec_ref': 63.246586256447664,\n",
       " 'date-obs': '2022-02-01',\n",
       " 'time-obs': '00:20:00.000',\n",
       " 'obs_id_info': {'program_number': '01409',\n",
       "  'observation_number': '001',\n",
       "  'visit_number': '001',\n",
       "  'visit_group': '02',\n",
       "  'sequence_id': '1',\n",
       "  'activity_id': '01',\n",
       "  'exposure_number': '00001',\n",
       "  'visit_id': '01409001001',\n",
       "  'obs_id': 'V01409001001P0000000002101'},\n",
       " 'obs_label': 'LW Grism Ice Monitor #1 Mod-A 256 subarray',\n",
       " 'texp_start_relative': 1800,\n",
       " 'visit_start_relative': 23416,\n",
       " 'det_obj': <pynrc.pynrc_core.DetectorOps at 0x7f9b3a44e7d0>,\n",
       " 'module': 'A',\n",
       " 'channel': 'LONG',\n",
       " 'detector': 'NRCALONG',\n",
       " 'filter': 'F322W2',\n",
       " 'pupil': 'GRISMR',\n",
       " 'coron_mask': 'NONE',\n",
       " 'visit_level': 'TARGET',\n",
       " 'visit_type': 'SCIENCE',\n",
       " 'visit_mode': 'wfss',\n",
       " 'exp_type': 'NRC_IMAGE',\n",
       " 'subarray_name': 'SUBGRISM256',\n",
       " 'xstart': 1,\n",
       " 'ystart': 1,\n",
       " 'xsize': 2048,\n",
       " 'ysize': 256,\n",
       " 'fastaxis': -1,\n",
       " 'slowaxis': 2,\n",
       " 'noutputs': 1,\n",
       " 'readpatt': 'RAPID',\n",
       " 'nframes': 1,\n",
       " 'ngroups': 5,\n",
       " 'nints': 10,\n",
       " 'sample_time': 10,\n",
       " 'frame_time': 5.3148,\n",
       " 'group_time': 5.3148,\n",
       " 'groupgap': 0,\n",
       " 'nresets1': 1,\n",
       " 'nresets2': 1,\n",
       " 'integration_time': 26.574,\n",
       " 'exposure_time': 265.74,\n",
       " 'tint_plus_overhead': 31.8888,\n",
       " 'texp_plus_overhead': 318.888,\n",
       " 'int_times': array([( 1, 59611.03472222, 59611.03487601, 59611.03502979, 59611.03472222, 59611.03487601, 59611.03502979),\n",
       "        ( 2, 59611.03509131, 59611.03524509, 59611.03539887, 59611.03509131, 59611.03524509, 59611.03539887),\n",
       "        ( 3, 59611.03546039, 59611.03561417, 59611.03576796, 59611.03546039, 59611.03561417, 59611.03576796),\n",
       "        ( 4, 59611.03582947, 59611.03598326, 59611.03613704, 59611.03582947, 59611.03598326, 59611.03613704),\n",
       "        ( 5, 59611.03619856, 59611.03635234, 59611.03650612, 59611.03619856, 59611.03635234, 59611.03650612),\n",
       "        ( 6, 59611.03656764, 59611.03672142, 59611.03687521, 59611.03656764, 59611.03672142, 59611.03687521),\n",
       "        ( 7, 59611.03693672, 59611.03709051, 59611.03724429, 59611.03693672, 59611.03709051, 59611.03724429),\n",
       "        ( 8, 59611.03730581, 59611.03745959, 59611.03761338, 59611.03730581, 59611.03745959, 59611.03761338),\n",
       "        ( 9, 59611.03767489, 59611.03782867, 59611.03798246, 59611.03767489, 59611.03782867, 59611.03798246),\n",
       "        (10, 59611.03804397, 59611.03819776, 59611.03835154, 59611.03804397, 59611.03819776, 59611.03835154)],\n",
       "       dtype=[('integration_number', '<i2'), ('int_start_MJD_UTC', '<f8'), ('int_mid_MJD_UTC', '<f8'), ('int_end_MJD_UTC', '<f8'), ('int_start_BJD_TDB', '<f8'), ('int_mid_BJD_TDB', '<f8'), ('int_end_BJD_TDB', '<f8')]),\n",
       " 'integration_start': 1,\n",
       " 'integration_end': 10,\n",
       " 'group_times': array([[( 1, 1, 762, 3324202, 800, b'2022-02-01T00:55:24.203', 256, 2048, 0, 0, b'Normal Completion', 59611.03847457, 59611.03847457)],\n",
       "        [( 1, 2, 762, 3329517, 600, b'2022-02-01T00:55:29.518', 256, 2048, 0, 0, b'Normal Completion', 59611.03853608, 59611.03853608)],\n",
       "        [( 1, 3, 762, 3334832, 399, b'2022-02-01T00:55:34.832', 256, 2048, 0, 0, b'Normal Completion', 59611.0385976 , 59611.0385976 )],\n",
       "        [( 1, 4, 762, 3340147, 199, b'2022-02-01T00:55:40.147', 256, 2048, 0, 0, b'Normal Completion', 59611.03865911, 59611.03865911)],\n",
       "        [( 1, 5, 762, 3345461, 999, b'2022-02-01T00:55:45.462', 256, 2048, 0, 0, b'Normal Completion', 59611.03872063, 59611.03872063)],\n",
       "        [( 2, 1, 762, 3356091, 600, b'2022-02-01T00:55:56.092', 256, 2048, 0, 0, b'Normal Completion', 59611.03884365, 59611.03884365)],\n",
       "        [( 2, 2, 762, 3361406, 400, b'2022-02-01T00:56:01.406', 256, 2048, 0, 0, b'Normal Completion', 59611.03890517, 59611.03890517)],\n",
       "        [( 2, 3, 762, 3366721, 199, b'2022-02-01T00:56:06.721', 256, 2048, 0, 0, b'Normal Completion', 59611.03896668, 59611.03896668)],\n",
       "        [( 2, 4, 762, 3372035, 999, b'2022-02-01T00:56:12.036', 256, 2048, 0, 0, b'Normal Completion', 59611.03902819, 59611.03902819)],\n",
       "        [( 2, 5, 762, 3377350, 800, b'2022-02-01T00:56:17.351', 256, 2048, 0, 0, b'Normal Completion', 59611.03908971, 59611.03908971)],\n",
       "        [( 3, 1, 762, 3387980, 400, b'2022-02-01T00:56:27.980', 256, 2048, 0, 0, b'Normal Completion', 59611.03921274, 59611.03921274)],\n",
       "        [( 3, 2, 762, 3393295, 199, b'2022-02-01T00:56:33.295', 256, 2048, 0, 0, b'Normal Completion', 59611.03927425, 59611.03927425)],\n",
       "        [( 3, 3, 762, 3398609, 999, b'2022-02-01T00:56:38.610', 256, 2048, 0, 0, b'Normal Completion', 59611.03933576, 59611.03933576)],\n",
       "        [( 3, 4, 762, 3403924, 799, b'2022-02-01T00:56:43.925', 256, 2048, 0, 0, b'Normal Completion', 59611.03939728, 59611.03939728)],\n",
       "        [( 3, 5, 762, 3409239, 600, b'2022-02-01T00:56:49.240', 256, 2048, 0, 0, b'Normal Completion', 59611.03945879, 59611.03945879)],\n",
       "        [( 4, 1, 762, 3419869, 200, b'2022-02-01T00:56:59.869', 256, 2048, 0, 0, b'Normal Completion', 59611.03958182, 59611.03958182)],\n",
       "        [( 4, 2, 762, 3425183, 999, b'2022-02-01T00:57:05.184', 256, 2048, 0, 0, b'Normal Completion', 59611.03964333, 59611.03964333)],\n",
       "        [( 4, 3, 762, 3430498, 799, b'2022-02-01T00:57:10.499', 256, 2048, 0, 0, b'Normal Completion', 59611.03970485, 59611.03970485)],\n",
       "        [( 4, 4, 762, 3435813, 599, b'2022-02-01T00:57:15.814', 256, 2048, 0, 0, b'Normal Completion', 59611.03976636, 59611.03976636)],\n",
       "        [( 4, 5, 762, 3441128, 400, b'2022-02-01T00:57:21.128', 256, 2048, 0, 0, b'Normal Completion', 59611.03982787, 59611.03982787)],\n",
       "        [( 5, 1, 762, 3451758,   0, b'2022-02-01T00:57:31.758', 256, 2048, 0, 0, b'Normal Completion', 59611.0399509 , 59611.0399509 )],\n",
       "        [( 5, 2, 762, 3457072, 799, b'2022-02-01T00:57:37.073', 256, 2048, 0, 0, b'Normal Completion', 59611.04001242, 59611.04001242)],\n",
       "        [( 5, 3, 762, 3462387, 599, b'2022-02-01T00:57:42.388', 256, 2048, 0, 0, b'Normal Completion', 59611.04007393, 59611.04007393)],\n",
       "        [( 5, 4, 762, 3467702, 400, b'2022-02-01T00:57:47.702', 256, 2048, 0, 0, b'Normal Completion', 59611.04013544, 59611.04013544)],\n",
       "        [( 5, 5, 762, 3473017, 200, b'2022-02-01T00:57:53.017', 256, 2048, 0, 0, b'Normal Completion', 59611.04019696, 59611.04019696)],\n",
       "        [( 6, 1, 762, 3483646, 799, b'2022-02-01T00:58:03.647', 256, 2048, 0, 0, b'Normal Completion', 59611.04031999, 59611.04031999)],\n",
       "        [( 6, 2, 762, 3488961, 599, b'2022-02-01T00:58:08.962', 256, 2048, 0, 0, b'Normal Completion', 59611.0403815 , 59611.0403815 )],\n",
       "        [( 6, 3, 762, 3494276, 399, b'2022-02-01T00:58:14.276', 256, 2048, 0, 0, b'Normal Completion', 59611.04044301, 59611.04044301)],\n",
       "        [( 6, 4, 762, 3499591, 200, b'2022-02-01T00:58:19.591', 256, 2048, 0, 0, b'Normal Completion', 59611.04050453, 59611.04050453)],\n",
       "        [( 6, 5, 762, 3504906,   0, b'2022-02-01T00:58:24.906', 256, 2048, 0, 0, b'Normal Completion', 59611.04056604, 59611.04056604)],\n",
       "        [( 7, 1, 762, 3515535, 599, b'2022-02-01T00:58:35.536', 256, 2048, 0, 0, b'Normal Completion', 59611.04068907, 59611.04068907)],\n",
       "        [( 7, 2, 762, 3520850, 399, b'2022-02-01T00:58:40.850', 256, 2048, 0, 0, b'Normal Completion', 59611.04075058, 59611.04075058)],\n",
       "        [( 7, 3, 762, 3526165, 199, b'2022-02-01T00:58:46.165', 256, 2048, 0, 0, b'Normal Completion', 59611.0408121 , 59611.0408121 )],\n",
       "        [( 7, 4, 762, 3531480,   0, b'2022-02-01T00:58:51.480', 256, 2048, 0, 0, b'Normal Completion', 59611.04087361, 59611.04087361)],\n",
       "        [( 7, 5, 762, 3536794, 800, b'2022-02-01T00:58:56.795', 256, 2048, 0, 0, b'Normal Completion', 59611.04093512, 59611.04093512)],\n",
       "        [( 8, 1, 762, 3547424, 399, b'2022-02-01T00:59:07.424', 256, 2048, 0, 0, b'Normal Completion', 59611.04105815, 59611.04105815)],\n",
       "        [( 8, 2, 762, 3552739, 199, b'2022-02-01T00:59:12.739', 256, 2048, 0, 0, b'Normal Completion', 59611.04111967, 59611.04111967)],\n",
       "        [( 8, 3, 762, 3558053, 999, b'2022-02-01T00:59:18.054', 256, 2048, 0, 0, b'Normal Completion', 59611.04118118, 59611.04118118)],\n",
       "        [( 8, 4, 762, 3563368, 800, b'2022-02-01T00:59:23.369', 256, 2048, 0, 0, b'Normal Completion', 59611.04124269, 59611.04124269)],\n",
       "        [( 8, 5, 762, 3568683, 600, b'2022-02-01T00:59:28.684', 256, 2048, 0, 0, b'Normal Completion', 59611.04130421, 59611.04130421)],\n",
       "        [( 9, 1, 762, 3579313, 199, b'2022-02-01T00:59:39.313', 256, 2048, 0, 0, b'Normal Completion', 59611.04142724, 59611.04142724)],\n",
       "        [( 9, 2, 762, 3584627, 999, b'2022-02-01T00:59:44.628', 256, 2048, 0, 0, b'Normal Completion', 59611.04148875, 59611.04148875)],\n",
       "        [( 9, 3, 762, 3589942, 800, b'2022-02-01T00:59:49.943', 256, 2048, 0, 0, b'Normal Completion', 59611.04155026, 59611.04155026)],\n",
       "        [( 9, 4, 762, 3595257, 600, b'2022-02-01T00:59:55.258', 256, 2048, 0, 0, b'Normal Completion', 59611.04161178, 59611.04161178)],\n",
       "        [( 9, 5, 762, 3600572, 400, b'2022-02-01T01:00:00.572', 256, 2048, 0, 0, b'Normal Completion', 59611.04167329, 59611.04167329)],\n",
       "        [(10, 1, 762, 3611201, 999, b'2022-02-01T01:00:11.202', 256, 2048, 0, 0, b'Normal Completion', 59611.04179632, 59611.04179632)],\n",
       "        [(10, 2, 762, 3616516, 799, b'2022-02-01T01:00:16.517', 256, 2048, 0, 0, b'Normal Completion', 59611.04185783, 59611.04185783)],\n",
       "        [(10, 3, 762, 3621831, 600, b'2022-02-01T01:00:21.832', 256, 2048, 0, 0, b'Normal Completion', 59611.04191935, 59611.04191935)],\n",
       "        [(10, 4, 762, 3627146, 400, b'2022-02-01T01:00:27.146', 256, 2048, 0, 0, b'Normal Completion', 59611.04198086, 59611.04198086)],\n",
       "        [(10, 5, 762, 3632461, 200, b'2022-02-01T01:00:32.461', 256, 2048, 0, 0, b'Normal Completion', 59611.04204237, 59611.04204237)]],\n",
       "       dtype=[('integration_number', '<i2'), ('group_number', '<i2'), ('end_day', '<i2'), ('end_milliseconds', '<i4'), ('end_submilliseconds', '<i2'), ('group_end_time', 'S26'), ('number_of_columns', '<i2'), ('number_of_rows', '<i2'), ('number_of_gaps', '<i2'), ('completion_code_number', '<i2'), ('completion_code_text', 'S36'), ('bary_end_time', '<f8'), ('helio_end_time', '<f8')]),\n",
       " 'pridith_pattern_type': 'NONE',\n",
       " 'pridith_points_packing': 'NONE',\n",
       " 'pridith_npoints': 'NONE',\n",
       " 'position_number': 1,\n",
       " 'pattern_start': 1,\n",
       " 'total_points': '1',\n",
       " 'dither_points': '1',\n",
       " 'pattern_size': 'NONE',\n",
       " 'sgd_pattern': 'NONE',\n",
       " 'subpixel_number': 1,\n",
       " 'subpixel_total_points': 1,\n",
       " 'subpixel_pattern': 'STANDARD',\n",
       " 'x_offset': 0.052,\n",
       " 'y_offset': -2.37,\n",
       " 'EXSEGNUM': None,\n",
       " 'EXSEGTOT': None,\n",
       " 'filename': 'jw01409001001_02101_00001_nrca5_uncal.fits',\n",
       " 'save_dir': None,\n",
       " 'nexposures': 2,\n",
       " 'ddist': 0.0,\n",
       " 'pid': '01409',\n",
       " 'rand_seed_noise': 3709225228,\n",
       " 'rand_seed_init': 1234,\n",
       " 'rand_seed_dith': 3853010524,\n",
       " 'visit_key': '001:001'}"
      ]
     },
     "execution_count": 43,
     "metadata": {},
     "output_type": "execute_result"
    }
   ],
   "source": [
    "obs_params"
   ]
  },
  {
   "cell_type": "code",
   "execution_count": null,
   "id": "9d12d34c",
   "metadata": {},
   "outputs": [],
   "source": []
  }
 ],
 "metadata": {
  "kernelspec": {
   "display_name": "Python 3 (ipykernel)",
   "language": "python",
   "name": "python3"
  },
  "language_info": {
   "codemirror_mode": {
    "name": "ipython",
    "version": 3
   },
   "file_extension": ".py",
   "mimetype": "text/x-python",
   "name": "python",
   "nbconvert_exporter": "python",
   "pygments_lexer": "ipython3",
   "version": "3.8.12"
  }
 },
 "nbformat": 4,
 "nbformat_minor": 5
}
