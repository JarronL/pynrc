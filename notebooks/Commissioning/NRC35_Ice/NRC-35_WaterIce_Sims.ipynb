{
 "cells": [
  {
   "cell_type": "markdown",
   "id": "textile-greek",
   "metadata": {},
   "source": [
    "# NRC-35: OTE Water Ice Measurements with NIRCam\n",
    "\n",
    "This activity will use NIRCam longwave grism spectra to check for ice contamination associated with the telescope and instrument cooldown.\n",
    "\n",
    "## Part 1: Simulations"
   ]
  },
  {
   "cell_type": "code",
   "execution_count": 1,
   "id": "speaking-garage",
   "metadata": {},
   "outputs": [],
   "source": [
    "# Import the usual libraries\n",
    "import numpy as np\n",
    "import matplotlib\n",
    "import matplotlib.pyplot as plt\n",
    "\n",
    "# Enable inline plotting at lower left\n",
    "%matplotlib inline\n",
    "\n",
    "# Program bar\n",
    "from tqdm.auto import trange, tqdm"
   ]
  },
  {
   "cell_type": "code",
   "execution_count": 2,
   "id": "defined-thompson",
   "metadata": {},
   "outputs": [
    {
     "name": "stdout",
     "output_type": "stream",
     "text": [
      "pyNRC log messages of level WARN and above will be shown.\n",
      "pyNRC log outputs will be directed to the screen.\n"
     ]
    }
   ],
   "source": [
    "import pynrc\n",
    "from pynrc import nrc_utils\n",
    "from pynrc.nrc_utils import webbpsf, poppy, S\n",
    "from pynrc.simul import apt, ngNRC\n",
    "\n",
    "pynrc.setup_logging('WARN', verbose=True)"
   ]
  },
  {
   "cell_type": "code",
   "execution_count": 3,
   "id": "hidden-invention",
   "metadata": {},
   "outputs": [],
   "source": [
    "import os\n",
    "\n",
    "from astropy import units as u\n",
    "from astropy.io import fits, ascii\n",
    "from astropy.time import Time\n",
    "from astropy.coordinates import SkyCoord"
   ]
  },
  {
   "cell_type": "code",
   "execution_count": 4,
   "id": "sophisticated-appeal",
   "metadata": {},
   "outputs": [],
   "source": [
    "webbpsf_data_path = webbpsf.utils.get_webbpsf_data_path()\n",
    "\n",
    "# Pupil and segment information\n",
    "pupil_file = os.path.join(webbpsf_data_path, \"jwst_pupil_RevW_npix1024.fits.gz\")\n",
    "pupil_hdul = fits.open(pupil_file)\n",
    "\n",
    "segmap_file = os.path.join(webbpsf_data_path, \"JWpupil_segments_RevW_npix1024.fits.gz\")\n",
    "segmap_hdul = fits.open(segmap_file)"
   ]
  },
  {
   "cell_type": "code",
   "execution_count": 5,
   "id": "ef397803",
   "metadata": {},
   "outputs": [],
   "source": [
    "from pynrc.nrc_utils import segment_pupil_opd, make_grism_slope\n",
    "from pynrc.nrc_utils import bias_dark_high_temp as bias_dark\n",
    "darks_80K_dir = '/Users/jarron/NIRCam/Data/NRC_80K/'"
   ]
  },
  {
   "cell_type": "markdown",
   "id": "extensive-broadcast",
   "metadata": {},
   "source": [
    "## OTE Ice Observations\n",
    "\n",
    "1. Post LOS-02 pointing and background check **(L+40; OTE = Initial Deployment)**\n",
    " 1. 31: Pointing Pre-Check (HD 84406)\n",
    " 1. 32: Bgrd Levels Sub256 Pre-Check (HD 84406)\n",
    " 1. 33: Star Levels Sub256 Pre-Check (HD 84406)\n",
    " 1. 34: Bgrd Levels Sub64 Pre-Check (HD 84406)\n",
    " 1. 35: Dark and Bias Pre-Check\n",
    "1. Analysis Time **(6 hours)**\n",
    "1. Pre FSM heater off NIRCam with Beam Probing **(L+40; OTE = Initial Deployment)**\n",
    " 1. 1: LW Grism Ice Monitor #1 Mod-A 256 subarray (HD 84406)\n",
    " 1. 22: Module A GrismR -V2 1 column 2 pts (HD 84406)\n",
    " 1. 23: Module A GrismC +V2 1 pt (HD 84406)\n",
    " 1. 24: Module B GrismR 256 subarray (HD 84406)\n",
    " 1. 25: Module B GrismR +V2 1 column 2 pts (HD 84406)\n",
    " 1. 26: Module B GrismC -V2 1 pt (HD 84406)\n",
    "1. Post-FSM heater off NIRCam Observations\n",
    " 1. 2: LW Grism Ice Monitor #2 (HD 84406) **(L+43; OTE = Initial Deployment)**\n",
    " 1. 3: LW Grism Ice Monitor #3 (HD 84406) **(L+47; OTE = Segment Image Array 1)**\n",
    " 1. 4: LW Grism Ice Monitor #4 (HD 84406) **(L+50; OTE = Global Alignment 1)**\n",
    " 1. 5: LW Grism Ice Monitor #5 (BD+86-189) **(L+54; OTE = Image Stacking 1)**\n",
    " 1. 6: LW Grism Ice Monitor #6 (TYC-8558-1141-1) **(L+58; OTE = Coarse Phasing 1)**\n",
    " 1. 7: LW Grism Ice Monitor #7 (GCRV-21765) **(L+67; OTE = Fine Phasing 1)**\n",
    " 1. 8: LW Grism Ice Monitor #8 (GCRV-21765) **(L+77; OTE = MIMF)**\n",
    " 1. 9: LW Grism Ice Monitor #9 (GCRV-21765) **(L+96; OTE = MIMF)**"
   ]
  },
  {
   "cell_type": "code",
   "execution_count": 6,
   "id": "functional-dining",
   "metadata": {},
   "outputs": [],
   "source": [
    "opd_dir = '/Users/jarron/NIRCam/Data/OTE_OPDs/'\n",
    "# opd_dir = '/data/NIRData/NIRCam/OTE_OPDs/'\n",
    "\n",
    "# 10 total observations, split into 5 pairs\n",
    "obs_dict = {}\n",
    "\n",
    "# L+40 - Use a segment from Deployment_OPDs[7]\n",
    "hdul = fits.open(opd_dir + 'Deployment_OPDs.fits')\n",
    "# hdul = fits.open(opd_dir + 'MM_WAS-GLOBAL_ALIGNMENT_WO_TT_R2017112104.fits')\n",
    "opd_single = segment_pupil_opd(hdul[7], 'A3')\n",
    "# Post LOS-02 pointing and background check\n",
    "obs_dict['031:001'] = {'opd': opd_single, 'jsig': 0.1, 'temp':86, 'day':'L+40.0'}\n",
    "obs_dict['032:001'] = {'opd': opd_single, 'jsig': 0.1, 'temp':86, 'day':'L+40.1'}\n",
    "obs_dict['033:001'] = {'opd': opd_single, 'jsig': 0.1, 'temp':86, 'day':'L+40.2'}\n",
    "obs_dict['034:001'] = {'opd': opd_single, 'jsig': 0.1, 'temp':86, 'day':'L+40.3'}\n",
    "#obs_dict['035:001'] = {'opd': opd_single, 'jsig': 0.1, 'temp':86, 'day':'L+40', 'time':'16:00:00'}\n",
    "# Pre FSM heater off NIRCam with Beam Probing\n",
    "obs_dict['001:001'] = {'opd': opd_single, 'jsig': 0.1, 'temp':84, 'day':'L+40.5', 'offset':(5,10.5)}\n",
    "obs_dict['022:001'] = {'opd': opd_single, 'jsig': 0.1, 'temp':84, 'day':'L+40.6'}\n",
    "obs_dict['023:001'] = {'opd': opd_single, 'jsig': 0.1, 'temp':84, 'day':'L+40.7'}\n",
    "obs_dict['024:001'] = {'opd': opd_single, 'jsig': 0.1, 'temp':84, 'day':'L+40.8'}\n",
    "obs_dict['025:001'] = {'opd': opd_single, 'jsig': 0.1, 'temp':84, 'day':'L+40.9'}\n",
    "obs_dict['026:001'] = {'opd': opd_single, 'jsig': 0.1, 'temp':84, 'day':'L+41.0'}\n",
    "# L+43 - Initial Deployment\n",
    "obs_dict['002:001']  = {'opd': opd_single, 'jsig': 0.1, 'temp':80, 'day':'L+43'}\n",
    "\n",
    "# L+47 - Segment Image Array 1\n",
    "hdul = fits.open(opd_dir + 'MM_WAS-GLOBAL_ALIGNMENT_small_WITH_TT_R2017102404.fits')\n",
    "obs_dict['003:001']  = {'opd': segment_pupil_opd(hdul[0], 'ALL'), 'jsig': 0.1, 'temp':60, 'day':'L+47.4'}\n",
    "\n",
    "# L+50 - Global Alignment 1\n",
    "hdul = fits.open(opd_dir + 'MM_WAS-GLOBAL_ALIGNMENT_small_WITH_TT_N2017112103.fits')\n",
    "obs_dict['004:001']  = {'opd': segment_pupil_opd(hdul[0], 'ALL'), 'jsig': 0.01, 'temp':50, 'day':'L+50.4'}\n",
    "\n",
    "# L+54 - Image Stacking 1\n",
    "hdul = fits.open(opd_dir + 'MM_COARSE_MIMF_N2017102403.fits')\n",
    "obs_dict['005:001']  = {'opd': segment_pupil_opd(hdul[0], 'ALL'), 'jsig': 0.01, 'temp':45, 'day':'L+53.6'}\n",
    "\n",
    "# L+58 - Coarse Phasing 1 (stacked)\n",
    "hdul = fits.open(opd_dir + 'MM_COARSE_MIMF_R201710240A.fits')\n",
    "obs_dict['006:001']  = {'opd': segment_pupil_opd(hdul[0], 'ALL'), 'jsig': 0.01, 'temp':42, 'day':'L+58.2'}\n",
    "\n",
    "# L+67 - Fine Phasing 1 (stacked)\n",
    "hdul = fits.open(opd_dir + 'MM_WAS-GLOBAL_ALIGNMENT_WO_TT_R2017112104.fits')\n",
    "obs_dict['007:001']  = {'opd': segment_pupil_opd(hdul[0], 'ALL'), 'jsig': 0.01, 'temp':40, 'day':'L+66.8'}\n",
    "\n",
    "# L+77/96 - MIMF\n",
    "hdul = fits.open(opd_dir + 'MM_FINE_PHASING_R2017120405.fits')\n",
    "obs_dict['008:001']  = {'opd': segment_pupil_opd(hdul[0], 'ALL'), 'jsig': 0.01, 'temp':40, 'day':'L+77.0'}\n",
    "obs_dict['009:001']  = {'opd': segment_pupil_opd(hdul[0], 'ALL'), 'jsig': 0.01, 'temp':39, 'day':'L+96.4'}"
   ]
  },
  {
   "cell_type": "code",
   "execution_count": 7,
   "id": "heard-senate",
   "metadata": {},
   "outputs": [],
   "source": [
    "# Define APT files\n",
    "apt_dir = '../../APT_output/'\n",
    "def init_visits(obs_dict, rand_seed_init=None):\n",
    "    \"\"\"Initialize visit and initial obs_params config\"\"\"\n",
    "    \n",
    "    keys = obs_dict.keys()\n",
    "\n",
    "    # APT output files\n",
    "    xml_file      = os.path.join(apt_dir, 'pid1409.xml')\n",
    "    pointing_file = os.path.join(apt_dir, 'pid1409.pointing')\n",
    "    json_file     = os.path.join(apt_dir, 'pid1409.timing.json')\n",
    "    sm_acct_file  = os.path.join(apt_dir, 'pid1409.smart_accounting')\n",
    "    \n",
    "    # Define Launch date and time\n",
    "    tlaunch = Time('2021-12-22 12:20:00')  \n",
    "    # Populate dates and times for all observations\n",
    "    for vkey in keys:\n",
    "        d = obs_dict[vkey]\n",
    "        lplus_days = float(d['day'][2:])\n",
    "        tobs = tlaunch + lplus_days\n",
    "        date_obs, time_obs = tobs.to_value('fits').split('T')\n",
    "        d['date'] = date_obs\n",
    "        d['time'] = time_obs\n",
    "        \n",
    "    # Read and interpret APT files\n",
    "    # Observation of first date, not really necessary\n",
    "    obs_date = obs_dict['031:001']['date']  \n",
    "    apt_obj = apt.DMS_input(xml_file, pointing_file, json_file, sm_acct_file, \n",
    "                            obs_date=obs_date, rand_seed_init=rand_seed_init)\n",
    "    visits = apt_obj.program_info\n",
    "    \n",
    "    # Create obs params for all LW observations only\n",
    "    print('  Creating Observation Parameters...')\n",
    "    for vkey in tqdm(keys, leave=False, desc='Visits'):\n",
    "        visit = visits[vkey]\n",
    "        \n",
    "        # Update date and time before generating specific obs_params\n",
    "        apt_obj.obs_date = obs_dict[vkey]['date']\n",
    "        apt_obj.obs_time = obs_dict[vkey]['time']\n",
    "\n",
    "        visit['exp_start_times'] = visit['exp_start_times'] - visit['exp_start_times'].min() + 1800\n",
    "\n",
    "        # Select only a single exposure within visit\n",
    "        index = 0 #if 'SUBGRISM256' in visit['subarray_name'] else 0\n",
    "        oid = visit['obs_id_info'][index]\n",
    "        mod = visit['ModuleAPT'][index]\n",
    "\n",
    "        # Select only LW detector\n",
    "        detid = 485 if mod=='A' else 490\n",
    "        exp_id = oid['exposure_number']\n",
    "        grp_id = oid['visit_group']\n",
    "        seq_id = oid['sequence_id']\n",
    "        act_id = oid['activity_id']\n",
    "\n",
    "        obs_params = apt_obj.gen_obs_params(vkey, exp_id, detid, grp_id=grp_id, \n",
    "                                            seq_id=seq_id, act_id=act_id)\n",
    "        \n",
    "        # Store in obs_dict\n",
    "        obs_dict[vkey]['obs_params'] = obs_params\n",
    "        obs_dict[vkey]['visit'] = visit\n",
    "        "
   ]
  },
  {
   "cell_type": "code",
   "execution_count": 8,
   "id": "handed-latest",
   "metadata": {},
   "outputs": [],
   "source": [
    "def add_inst(obs_dict, key=None, ice_scale=None, nvr_scale=None, ote_scale=0, nc_scale=0, spec_ang=0):\n",
    "    \"\"\"Add NIRCam instrument class\n",
    "    \n",
    "    ice_scale : float\n",
    "        Add in additional OTE H2O absorption. This is a scale factor\n",
    "        relative to 0.0131 um thickness. Also includes about 0.0150 um of\n",
    "        photolyzed Carbon.\n",
    "    nvr_scale : float\n",
    "        Modify NIRCam non-volatile residue. This is a scale factor relative \n",
    "        to 0.280 um thickness already built into filter throughput curves. \n",
    "        If set to None, then assumes a scale factor of 1.0. \n",
    "        Setting ``nvr_scale=0`` will remove these contributions.\n",
    "    ote_scale : float\n",
    "        Scale factor of OTE contaminants relative to End of Life model. \n",
    "        This is the same as setting ``ice_scale``. \n",
    "        Will override ``ice_scale`` value.\n",
    "    nc_scale : float\n",
    "        Scale factor for NIRCam contaminants relative to End of Life model.\n",
    "        This model assumes 0.189 um of NVR and 0.050 um of water ice on\n",
    "        the NIRCam optical elements. Setting this keyword will remove all\n",
    "        NVR contributions built into the NIRCam filter curves.\n",
    "        Overrides ``nvr_scale`` value.\n",
    "    \n",
    "    \"\"\"\n",
    "    \n",
    "    \n",
    "    print('  Generating Instrument Classes...')\n",
    "    keys = obs_dict.keys() if key is None else np.asarray([key]).flatten()\n",
    "    iter_keys = tqdm(keys, leave=False, desc='Visits') if len(keys)>1 else keys\n",
    "    for vkey in iter_keys:\n",
    "        d = obs_dict[vkey]\n",
    "        \n",
    "        # Visit info and obs\n",
    "        visit = d['visit']\n",
    "        obs_params = d['obs_params']\n",
    "        \n",
    "        filt       = obs_params['filter']\n",
    "        pupil_mask = obs_params['pupil']\n",
    "        image_mask = None if obs_params['coron_mask']=='NONE' else obs_params['coron_mask']\n",
    "        apname     = obs_params['siaf_ap'].AperName\n",
    "\n",
    "        input_pupil_hdul, input_opd_hdul = d['opd']\n",
    "        jsig = d['jsig']\n",
    "        d['ice_scale'] = ice_scale\n",
    "        d['nvr_scale'] = nvr_scale\n",
    "        d['ote_scale'] = ote_scale\n",
    "        d['nc_scale'] = nc_scale\n",
    "        nrc = pynrc.NIRCam(filter=filt, pupil_mask=pupil_mask, image_mask=image_mask,\n",
    "                           fov_pix=257, oversample=2, autogen_coeffs=True,\n",
    "                           ice_scale=d['ice_scale'], nvr_scale=d['nvr_scale'],\n",
    "                           ote_scale=d['ote_scale'], nc_scale=d['nc_scale'],\n",
    "                           pupil=input_pupil_hdul, pupilopd=input_opd_hdul,\n",
    "                           save=False, force=True, quick=True)\n",
    "\n",
    "        # Update detector information\n",
    "        det = obs_params['det_obj']\n",
    "        kw = {**det.to_dict(), **det.multiaccum.to_dict()}\n",
    "        nrc.update_detectors(**kw)\n",
    "        d['nrc'] = nrc\n"
   ]
  },
  {
   "cell_type": "code",
   "execution_count": 9,
   "id": "83916865",
   "metadata": {},
   "outputs": [],
   "source": [
    "def add_slope_images(obs_dict, key=None, spec_ang=0, add_offset=None, **kwargs):\n",
    "    \"\"\"Generate slope image(s)\"\"\"\n",
    "        \n",
    "    print('  Creating ideal slopes, FSM background, SCA darks, biases...')\n",
    "    keys = obs_dict.keys() if key is None else np.asarray([key]).flatten()\n",
    "    iter_keys = tqdm(keys, leave=False, desc='Visits') if len(keys)>1 else keys\n",
    "    for vkey in iter_keys:\n",
    "        d = obs_dict[vkey]\n",
    "\n",
    "        nrc = d['nrc']\n",
    "        # Visit info and obs\n",
    "        visit = d['visit']\n",
    "        obs_params = d['obs_params']\n",
    "\n",
    "        T = d['temp']\n",
    "        \n",
    "        # Change collecting area to modify flux \n",
    "        input_pupil_hdul, input_opd_hdul = d['opd']\n",
    "        coll_area_seg = 25.78e4 * input_pupil_hdul[0].data.sum() / pupil_hdul[0].data.sum()\n",
    "        S.refs.setref(area=coll_area_seg)\n",
    "\n",
    "        # Create source table\n",
    "        ra  = obs_params['ra']\n",
    "        dec = obs_params['dec']\n",
    "        coords = SkyCoord(ra, dec, unit=(u.deg, u.deg), \n",
    "                          frame='icrs', equinox='J2000', obstime='J2000')\n",
    "        ra, dec = (coords.ra.deg, coords.dec.deg)\n",
    "        # src_tbl = ngNRC.make_gaia_source_table(coords, remove_cen_star=False)\n",
    "        src_tbl = ngNRC.make_simbad_source_table(coords, remove_cen_star=False)\n",
    "        d['src_tbl'] = src_tbl\n",
    "        \n",
    "        # Create pointing information\n",
    "        tel_point = apt.gen_jwst_pointing(visit, obs_params)\n",
    "        expnum  = int(obs_params['obs_id_info']['exposure_number'])\n",
    "        print(f\"  Exposure: {expnum}\")\n",
    "\n",
    "        # Get offset\n",
    "        if add_offset is None:\n",
    "            add_offset = d.get('offset')\n",
    "        if add_offset is None:\n",
    "            add_offset = np.array([0,0])\n",
    "            \n",
    "        ind = np.where(tel_point.exp_nums == expnum)[0][0]\n",
    "        idl_off = tel_point.position_offsets_act[ind]\n",
    "        obs_params['xoffset_act'] = idl_off[0] + add_offset[0]\n",
    "        obs_params['yoffset_act'] = idl_off[1] + add_offset[1]\n",
    "\n",
    "        # Get ideal slope\n",
    "        res = make_grism_slope(nrc, src_tbl, tel_point, expnum,\n",
    "                               add_offset=add_offset, spec_ang=spec_ang, \n",
    "                               **kwargs)\n",
    "\n",
    "        wspec_all, im_slope_ideal = res\n",
    "            \n",
    "        # Add to dict\n",
    "        d['wave'] = wspec_all\n",
    "        d['im_slope_ideal'] = im_slope_ideal\n",
    "        \n",
    "        # Create background slope image\n",
    "        im_bg_zodi = nrc.bg_zodi_image()\n",
    "        # Scale background counts by T**4\n",
    "        bg_cnts = 2000 * (T**4-39.0**4)/(80.0**4-39.0**4) \n",
    "        im_bg_pom = bg_cnts * im_bg_zodi / im_bg_zodi.max()\n",
    "        d['bg_slope'] = im_bg_pom + im_bg_zodi\n",
    "        \n",
    "        # Add dark slope and bias images\n",
    "        bias, dark = bias_dark(darks_80K_dir, T=T)\n",
    "        \n",
    "        # Grab subarray region of bias and dark frames\n",
    "        x1 = nrc.det_info['x0']\n",
    "        x2 = x1 + nrc.det_info['xpix']\n",
    "        y1 = nrc.det_info['y0']\n",
    "        y2 = y1 + nrc.det_info['ypix']\n",
    "\n",
    "        # These are in 'det' coords, while slopes are in 'sci' coords\n",
    "        d['im_bias'] = bias[y1:y2, x1:x2]\n",
    "        d['im_dark'] = dark[y1:y2, x1:x2]        \n",
    "        "
   ]
  },
  {
   "cell_type": "code",
   "execution_count": 10,
   "id": "34f6ae7c",
   "metadata": {},
   "outputs": [],
   "source": [
    "def generate_level1b(obs_dict, key=None, save_dir=None, save_slope=True, **kwargs):\n",
    "\n",
    "    from pynrc.simul.dms import level1b_data_model, save_level1b_fits\n",
    "    from pynrc.simul.ngNRC import save_slope_image\n",
    "    from stdatamodels import fits_support\n",
    "    \n",
    "    kwargs['out_ADU'] = True\n",
    "            \n",
    "    keys = obs_dict.keys() if key is None else np.asarray([key]).flatten()\n",
    "    iter_keys = tqdm(keys, leave=False, desc='Visits') if len(keys)>1 else keys\n",
    "    for vkey in iter_keys:\n",
    "        d = obs_dict[vkey]\n",
    "        obs_params = d['obs_params']\n",
    "        nrc        = d['nrc']\n",
    "                \n",
    "        # 'sci' coords\n",
    "        im_slope = d['im_slope_ideal'] + d['bg_slope']\n",
    "        \n",
    "        if save_slope:\n",
    "            save_slope_image(im_slope, obs_params, save_dir=save_dir, **kwargs)\n",
    "        \n",
    "        # Get sci data ramps\n",
    "        rand_seed_noise_j = obs_params['rand_seed_noise']\n",
    "        res = nrc.simulate_ramps(im_slope=im_slope, rand_seed=rand_seed_noise_j,\n",
    "                                 super_bias=d['im_bias'], super_dark=d['im_dark'], **kwargs)\n",
    "        sci_data, zero_data = res\n",
    "        \n",
    "        # Generate Level-1b FITS\n",
    "        outModel = level1b_data_model(obs_params, sci_data=sci_data, zero_data=zero_data)\n",
    "\n",
    "        # Grab ice and nvr information\n",
    "        kwargs['ice_scale'] = nrc._ice_scale\n",
    "        kwargs['nvr_scale'] = nrc._nvr_scale\n",
    "        kwargs['nc_scale']  = nrc._nc_scale\n",
    "        kwargs['ote_scale'] = nrc._ote_scale\n",
    "        save_level1b_fits(outModel, obs_params, save_dir=save_dir, **kwargs)        \n"
   ]
  },
  {
   "cell_type": "code",
   "execution_count": 11,
   "id": "226c59eb",
   "metadata": {},
   "outputs": [],
   "source": [
    "def run_all_exps(obs_dict, key=None, save_dir=None, rand_seed_init=None, save_slope=True, **kwargs):\n",
    "    \"\"\"Run all exposures within visit\n",
    "    \n",
    "    Assumes visits and NIRCam objects have been initialized.\n",
    "    \"\"\"\n",
    "    \n",
    "    # APT output files\n",
    "    xml_file      = os.path.join(apt_dir, 'pid1409.xml')\n",
    "    pointing_file = os.path.join(apt_dir, 'pid1409.pointing')\n",
    "    json_file     = os.path.join(apt_dir, 'pid1409.timing.json')\n",
    "    sm_acct_file  = os.path.join(apt_dir, 'pid1409.smart_accounting')\n",
    "    \n",
    "    kwargs['json_file']     = os.path.basename(json_file)\n",
    "    kwargs['sm_acct_file']  = os.path.basename(sm_acct_file)\n",
    "    kwargs['pointing_file'] = os.path.basename(pointing_file)\n",
    "    kwargs['xml_file']      = os.path.basename(xml_file)\n",
    "    \n",
    "    # Read and interpret APT files\n",
    "    # Observation of first date, not really necessary\n",
    "    apt_obj = apt.DMS_input(xml_file, pointing_file, json_file, sm_acct_file, \n",
    "                            rand_seed_init=rand_seed_init)\n",
    "    \n",
    "    keys = obs_dict.keys() if key is None else np.asarray([key]).flatten()\n",
    "    iter_keys = tqdm(keys, leave=False, desc='Visits') if len(keys)>1 else keys\n",
    "    for vkey in iter_keys:\n",
    "        d = obs_dict[vkey]\n",
    "        visit = d['visit']\n",
    "\n",
    "        nexp = len(visit['obs_id_info'])\n",
    "        # Select only a given exposure within visit\n",
    "        for index in range(nexp):\n",
    "            \n",
    "            oid = visit['obs_id_info'][index]\n",
    "            mod = visit['ModuleAPT'][index]\n",
    "\n",
    "            # Select only LW detector\n",
    "            detid = 485 if mod=='A' else 490\n",
    "            exp_id = oid['exposure_number']\n",
    "            grp_id = oid['visit_group']\n",
    "            seq_id = oid['sequence_id']\n",
    "            act_id = oid['activity_id']\n",
    "            act_int = np.int(act_id, 36) # Convert base 36 to integer number\n",
    "\n",
    "            # Generate new obs_params and store in obs_dict\n",
    "            obs_params = apt_obj.gen_obs_params(vkey, exp_id, detid, grp_id=grp_id, \n",
    "                                                seq_id=seq_id, act_id=act_id)\n",
    "            obs_dict[vkey]['obs_params'] = obs_params\n",
    "        \n",
    "            # Generate ideal slope image and wavelength solution\n",
    "            #   obs_dict[vkey]['wave'] = wspec_all  # wavelengths for all\n",
    "            #   obs_dict[vkey]['im_slope_ideal'] = im_slope_ideal\n",
    "            add_slope_images(obs_dict, key=key, add_offset=(5,10.5), spec_ang=0)\n",
    "            \n",
    "            # Save Level1b FITS file\n",
    "            generate_level1b(obs_dict, key=key, save_dir=save_dir, save_slope=save_slope, **kwargs)"
   ]
  },
  {
   "cell_type": "code",
   "execution_count": 12,
   "id": "upset-vitamin",
   "metadata": {},
   "outputs": [
    {
     "name": "stdout",
     "output_type": "stream",
     "text": [
      "  Creating Observation Parameters...\n"
     ]
    },
    {
     "data": {
      "application/vnd.jupyter.widget-view+json": {
       "model_id": "",
       "version_major": 2,
       "version_minor": 0
      },
      "text/plain": [
       "Visits:   0%|          | 0/18 [00:00<?, ?it/s]"
      ]
     },
     "metadata": {},
     "output_type": "display_data"
    }
   ],
   "source": [
    "# Store obs_params and visit info in in obs_dict:\n",
    "#   obs_dict[vkey]['obs_params'] = obs_params\n",
    "#   obs_dict[vkey]['visit'] = visit\n",
    "init_visits(obs_dict, rand_seed_init=1234)"
   ]
  },
  {
   "cell_type": "code",
   "execution_count": 13,
   "id": "fa3a85ba",
   "metadata": {},
   "outputs": [
    {
     "name": "stdout",
     "output_type": "stream",
     "text": [
      "  Generating Instrument Classes...\n"
     ]
    },
    {
     "data": {
      "application/vnd.jupyter.widget-view+json": {
       "model_id": "",
       "version_major": 2,
       "version_minor": 0
      },
      "text/plain": [
       "Monochromatic PSFs:   0%|          | 0/21 [00:00<?, ?it/s]"
      ]
     },
     "metadata": {},
     "output_type": "display_data"
    }
   ],
   "source": [
    "# Create NIRCam instrument class:\n",
    "#   obs_dict[vkey]['nrc'] = nrc\n",
    "kw_scales = {'ote_scale': 0.5, 'nc_scale': 0.5, 'ice_scale': None, 'nvr_scale': None}\n",
    "add_inst(obs_dict, key='001:001', **kw_scales)"
   ]
  },
  {
   "cell_type": "code",
   "execution_count": 14,
   "id": "0d28e260",
   "metadata": {},
   "outputs": [
    {
     "data": {
      "image/png": "[encoded data removed]",
      "text/plain": [
       "<Figure size 576x432 with 1 Axes>"
      ]
     },
     "metadata": {
      "needs_background": "light"
     },
     "output_type": "display_data"
    }
   ],
   "source": [
    "vkey = '001:001'\n",
    "nrc = obs_dict[vkey]['nrc']\n",
    "nrc.plot_bandpass();"
   ]
  },
  {
   "cell_type": "markdown",
   "id": "77035c8d",
   "metadata": {},
   "source": [
    "## Check slope image extraction"
   ]
  },
  {
   "cell_type": "code",
   "execution_count": 15,
   "id": "764fbce1",
   "metadata": {},
   "outputs": [
    {
     "name": "stdout",
     "output_type": "stream",
     "text": [
      "  Creating ideal slopes, FSM background, SCA darks, biases...\n"
     ]
    },
    {
     "data": {
      "application/vnd.jupyter.widget-view+json": {
       "model_id": "",
       "version_major": 2,
       "version_minor": 0
      },
      "text/plain": [
       "Filters:   0%|          | 0/29 [00:00<?, ?it/s]"
      ]
     },
     "metadata": {},
     "output_type": "display_data"
    },
    {
     "name": "stdout",
     "output_type": "stream",
     "text": [
      "  Exposure: 1\n"
     ]
    }
   ],
   "source": [
    "# Create slope and check extraction\n",
    "vkey = '001:001'\n",
    "add_slope_images(obs_dict, key=vkey, add_offset=(5,10.5), spec_ang=0)"
   ]
  },
  {
   "cell_type": "code",
   "execution_count": 16,
   "id": "71a9732e",
   "metadata": {},
   "outputs": [],
   "source": [
    "# Verify slope image looks right\n",
    "d = obs_dict[vkey]\n",
    "im_slope = d['im_slope_ideal']\n",
    "wave = d['wave']\n",
    "nrc = d['nrc']\n",
    "src_tbl = d['src_tbl']"
   ]
  },
  {
   "cell_type": "code",
   "execution_count": 17,
   "id": "d2272a64",
   "metadata": {},
   "outputs": [
    {
     "data": {
      "text/html": [
       "<div><i>Table length=4</i>\n",
       "<table id=\"table140360911382480\" class=\"table-striped table-bordered table-condensed\">\n",
       "<thead><tr><th>index</th><th>ra</th><th>dec</th><th>K-Band</th><th>dist</th><th>SpType</th><th>F070W</th><th>F090W</th><th>F115W</th><th>F140M</th><th>F150W</th><th>F150W2</th><th>F162M</th><th>F164N</th><th>F182M</th><th>F187N</th><th>F200W</th><th>F210M</th><th>F212N</th><th>F250M</th><th>F277W</th><th>F300M</th><th>F322W2</th><th>F323N</th><th>F335M</th><th>F356W</th><th>F360M</th><th>F405N</th><th>F410M</th><th>F430M</th><th>F444W</th><th>F460M</th><th>F466N</th><th>F470N</th><th>F480M</th></tr></thead>\n",
       "<thead><tr><th></th><th>deg</th><th>deg</th><th>mag</th><th>arcsec</th><th></th><th>mag</th><th>mag</th><th>mag</th><th>mag</th><th>mag</th><th>mag</th><th>mag</th><th>mag</th><th>mag</th><th>mag</th><th>mag</th><th>mag</th><th>mag</th><th>mag</th><th>mag</th><th>mag</th><th>mag</th><th>mag</th><th>mag</th><th>mag</th><th>mag</th><th>mag</th><th>mag</th><th>mag</th><th>mag</th><th>mag</th><th>mag</th><th>mag</th><th>mag</th></tr></thead>\n",
       "<thead><tr><th>int64</th><th>float64</th><th>float64</th><th>float32</th><th>float32</th><th>object</th><th>float64</th><th>float64</th><th>float64</th><th>float64</th><th>float64</th><th>float64</th><th>float64</th><th>float64</th><th>float64</th><th>float64</th><th>float64</th><th>float64</th><th>float64</th><th>float64</th><th>float64</th><th>float64</th><th>float64</th><th>float64</th><th>float64</th><th>float64</th><th>float64</th><th>float64</th><th>float64</th><th>float64</th><th>float64</th><th>float64</th><th>float64</th><th>float64</th><th>float64</th></tr></thead>\n",
       "<tr><td>1</td><td>146.87727491</td><td>63.24780476</td><td>4.698</td><td>2.7190957</td><td>G5V</td><td>5.779</td><td>5.478</td><td>5.217</td><td>4.917</td><td>4.842</td><td>4.936</td><td>4.743</td><td>4.711</td><td>4.719</td><td>4.703</td><td>4.712</td><td>4.701</td><td>4.703</td><td>4.7</td><td>4.688</td><td>4.682</td><td>4.686</td><td>4.686</td><td>4.684</td><td>4.684</td><td>4.683</td><td>4.663</td><td>4.683</td><td>4.691</td><td>4.701</td><td>4.724</td><td>4.695</td><td>4.72</td><td>4.717</td></tr>\n",
       "<tr><td>2</td><td>146.81478027</td><td>63.28792868</td><td>13.924</td><td>177.17578</td><td>G2V</td><td>14.82</td><td>14.569</td><td>14.352</td><td>14.095</td><td>14.035</td><td>14.121</td><td>13.956</td><td>13.931</td><td>13.942</td><td>13.93</td><td>13.936</td><td>13.926</td><td>13.928</td><td>13.92</td><td>13.914</td><td>13.913</td><td>13.914</td><td>13.917</td><td>13.915</td><td>13.915</td><td>13.915</td><td>13.898</td><td>13.914</td><td>13.917</td><td>13.922</td><td>13.931</td><td>13.905</td><td>13.928</td><td>13.927</td></tr>\n",
       "<tr><td>3</td><td>146.84271400</td><td>63.31572700</td><td>13.676</td><td>252.55495</td><td>G2V</td><td>14.572</td><td>14.321</td><td>14.104</td><td>13.847</td><td>13.787</td><td>13.873</td><td>13.708</td><td>13.683</td><td>13.694</td><td>13.682</td><td>13.688</td><td>13.678</td><td>13.68</td><td>13.672</td><td>13.666</td><td>13.665</td><td>13.666</td><td>13.669</td><td>13.667</td><td>13.667</td><td>13.667</td><td>13.65</td><td>13.666</td><td>13.669</td><td>13.674</td><td>13.683</td><td>13.657</td><td>13.68</td><td>13.679</td></tr>\n",
       "<tr><td>4</td><td>146.95336467</td><td>63.17027856</td><td>13.736</td><td>303.92145</td><td>G2V</td><td>14.632</td><td>14.381</td><td>14.164</td><td>13.907</td><td>13.847</td><td>13.933</td><td>13.768</td><td>13.743</td><td>13.754</td><td>13.742</td><td>13.748</td><td>13.738</td><td>13.74</td><td>13.732</td><td>13.726</td><td>13.725</td><td>13.726</td><td>13.729</td><td>13.727</td><td>13.727</td><td>13.727</td><td>13.71</td><td>13.726</td><td>13.729</td><td>13.734</td><td>13.743</td><td>13.717</td><td>13.74</td><td>13.739</td></tr>\n",
       "</table></div>"
      ],
      "text/plain": [
       "<Table length=4>\n",
       "index      ra          dec       K-Band    dist   SpType  F070W   F090W   F115W  ...  F360M   F405N   F410M   F430M   F444W   F460M   F466N   F470N   F480M \n",
       "          deg          deg        mag     arcsec           mag     mag     mag   ...   mag     mag     mag     mag     mag     mag     mag     mag     mag  \n",
       "int64   float64      float64    float32  float32  object float64 float64 float64 ... float64 float64 float64 float64 float64 float64 float64 float64 float64\n",
       "----- ------------ ------------ ------- --------- ------ ------- ------- ------- ... ------- ------- ------- ------- ------- ------- ------- ------- -------\n",
       "    1 146.87727491  63.24780476   4.698 2.7190957    G5V   5.779   5.478   5.217 ...   4.683   4.663   4.683   4.691   4.701   4.724   4.695    4.72   4.717\n",
       "    2 146.81478027  63.28792868  13.924 177.17578    G2V   14.82  14.569  14.352 ...  13.915  13.898  13.914  13.917  13.922  13.931  13.905  13.928  13.927\n",
       "    3 146.84271400  63.31572700  13.676 252.55495    G2V  14.572  14.321  14.104 ...  13.667   13.65  13.666  13.669  13.674  13.683  13.657   13.68  13.679\n",
       "    4 146.95336467  63.17027856  13.736 303.92145    G2V  14.632  14.381  14.164 ...  13.727   13.71  13.726  13.729  13.734  13.743  13.717   13.74  13.739"
      ]
     },
     "execution_count": 17,
     "metadata": {},
     "output_type": "execute_result"
    }
   ],
   "source": [
    "src_tbl"
   ]
  },
  {
   "cell_type": "code",
   "execution_count": 18,
   "id": "7bbfc4d2",
   "metadata": {},
   "outputs": [],
   "source": [
    "# Extract spectrum\n",
    "# No noise, so just sum full spectrum\n",
    "spec_extract = im_slope.sum(axis=0)[::-1]\n",
    "wspec = wave[0].mean(axis=0)[::-1]\n",
    "\n",
    "# pysynphot observation of spectrum plus bandpass\n",
    "bp = nrc.bandpass\n",
    "sp = pynrc.stellar_spectrum(src_tbl[0]['SpType'], src_tbl[0][bp.name], 'vegamag', bp)\n",
    "# Rebin spectrum\n",
    "sp = nrc_utils.bin_spectrum(sp, np.sort(wspec), waveunits='um')\n",
    "\n",
    "obs = S.Observation(sp, bp, binset=sp.wave, force='taper')\n",
    "obs.convert('counts')\n"
   ]
  },
  {
   "cell_type": "code",
   "execution_count": 19,
   "id": "cd8e308c",
   "metadata": {},
   "outputs": [
    {
     "data": {
      "image/png": "[encoded data removed]",
      "text/plain": [
       "<Figure size 576x360 with 1 Axes>"
      ]
     },
     "metadata": {
      "needs_background": "light"
     },
     "output_type": "display_data"
    }
   ],
   "source": [
    "fig, ax = plt.subplots(1,1, figsize=(8,5))\n",
    "\n",
    "ax.plot(wspec, spec_extract, label='Slope Extraction')\n",
    "ax.plot(obs.binwave/1e4, obs.binflux, label='Ideal')\n",
    "\n",
    "ax.set_xlabel('Wavelength (um)')\n",
    "ax.set_ylabel('Count Rate (DN/sec)')\n",
    "\n",
    "ax.legend()\n",
    "\n",
    "fig.tight_layout()"
   ]
  },
  {
   "cell_type": "markdown",
   "id": "27adec6e",
   "metadata": {},
   "source": [
    "## Run Simulations"
   ]
  },
  {
   "cell_type": "code",
   "execution_count": 20,
   "id": "5067ec43",
   "metadata": {},
   "outputs": [
    {
     "name": "stdout",
     "output_type": "stream",
     "text": [
      "  Creating ideal slopes, FSM background, SCA darks, biases...\n"
     ]
    },
    {
     "data": {
      "application/vnd.jupyter.widget-view+json": {
       "model_id": "",
       "version_major": 2,
       "version_minor": 0
      },
      "text/plain": [
       "Filters:   0%|          | 0/29 [00:00<?, ?it/s]"
      ]
     },
     "metadata": {},
     "output_type": "display_data"
    },
    {
     "name": "stdout",
     "output_type": "stream",
     "text": [
      "  Exposure: 1\n",
      "  Saving: /Users/jarron/NIRCam/Data/NRC_Sims/Sim_NRC35/slope_jw01409001001_02101_00001_nrca5_uncal.fits\n"
     ]
    },
    {
     "data": {
      "application/vnd.jupyter.widget-view+json": {
       "model_id": "",
       "version_major": 2,
       "version_minor": 0
      },
      "text/plain": [
       "PPC Amps:   0%|          | 0/4 [00:00<?, ?it/s]"
      ]
     },
     "metadata": {},
     "output_type": "display_data"
    },
    {
     "data": {
      "application/vnd.jupyter.widget-view+json": {
       "model_id": "",
       "version_major": 2,
       "version_minor": 0
      },
      "text/plain": [
       "Frames:   0%|          | 0/1 [00:00<?, ?it/s]"
      ]
     },
     "metadata": {},
     "output_type": "display_data"
    },
    {
     "data": {
      "application/vnd.jupyter.widget-view+json": {
       "model_id": "",
       "version_major": 2,
       "version_minor": 0
      },
      "text/plain": [
       "Frames:   0%|          | 0/1 [00:00<?, ?it/s]"
      ]
     },
     "metadata": {},
     "output_type": "display_data"
    },
    {
     "data": {
      "application/vnd.jupyter.widget-view+json": {
       "model_id": "",
       "version_major": 2,
       "version_minor": 0
      },
      "text/plain": [
       "Frames:   0%|          | 0/1 [00:00<?, ?it/s]"
      ]
     },
     "metadata": {},
     "output_type": "display_data"
    },
    {
     "data": {
      "application/vnd.jupyter.widget-view+json": {
       "model_id": "",
       "version_major": 2,
       "version_minor": 0
      },
      "text/plain": [
       "Frames:   0%|          | 0/1 [00:00<?, ?it/s]"
      ]
     },
     "metadata": {},
     "output_type": "display_data"
    },
    {
     "data": {
      "application/vnd.jupyter.widget-view+json": {
       "model_id": "",
       "version_major": 2,
       "version_minor": 0
      },
      "text/plain": [
       "PPC Amps:   0%|          | 0/4 [00:00<?, ?it/s]"
      ]
     },
     "metadata": {},
     "output_type": "display_data"
    },
    {
     "data": {
      "application/vnd.jupyter.widget-view+json": {
       "model_id": "",
       "version_major": 2,
       "version_minor": 0
      },
      "text/plain": [
       "Frames:   0%|          | 0/1 [00:00<?, ?it/s]"
      ]
     },
     "metadata": {},
     "output_type": "display_data"
    },
    {
     "data": {
      "application/vnd.jupyter.widget-view+json": {
       "model_id": "",
       "version_major": 2,
       "version_minor": 0
      },
      "text/plain": [
       "Frames:   0%|          | 0/1 [00:00<?, ?it/s]"
      ]
     },
     "metadata": {},
     "output_type": "display_data"
    },
    {
     "data": {
      "application/vnd.jupyter.widget-view+json": {
       "model_id": "",
       "version_major": 2,
       "version_minor": 0
      },
      "text/plain": [
       "Frames:   0%|          | 0/1 [00:00<?, ?it/s]"
      ]
     },
     "metadata": {},
     "output_type": "display_data"
    },
    {
     "data": {
      "application/vnd.jupyter.widget-view+json": {
       "model_id": "",
       "version_major": 2,
       "version_minor": 0
      },
      "text/plain": [
       "Frames:   0%|          | 0/1 [00:00<?, ?it/s]"
      ]
     },
     "metadata": {},
     "output_type": "display_data"
    },
    {
     "data": {
      "application/vnd.jupyter.widget-view+json": {
       "model_id": "",
       "version_major": 2,
       "version_minor": 0
      },
      "text/plain": [
       "Frames:   0%|          | 0/1 [00:00<?, ?it/s]"
      ]
     },
     "metadata": {},
     "output_type": "display_data"
    },
    {
     "data": {
      "application/vnd.jupyter.widget-view+json": {
       "model_id": "",
       "version_major": 2,
       "version_minor": 0
      },
      "text/plain": [
       "Frames:   0%|          | 0/1 [00:00<?, ?it/s]"
      ]
     },
     "metadata": {},
     "output_type": "display_data"
    },
    {
     "data": {
      "application/vnd.jupyter.widget-view+json": {
       "model_id": "",
       "version_major": 2,
       "version_minor": 0
      },
      "text/plain": [
       "Ramps:   0%|          | 0/10 [00:00<?, ?it/s]"
      ]
     },
     "metadata": {},
     "output_type": "display_data"
    },
    {
     "data": {
      "application/vnd.jupyter.widget-view+json": {
       "model_id": "",
       "version_major": 2,
       "version_minor": 0
      },
      "text/plain": [
       "  0%|          | 0/14 [00:00<?, ?it/s]"
      ]
     },
     "metadata": {},
     "output_type": "display_data"
    },
    {
     "data": {
      "application/vnd.jupyter.widget-view+json": {
       "model_id": "",
       "version_major": 2,
       "version_minor": 0
      },
      "text/plain": [
       "Non-Linearity:   0%|          | 0/5 [00:00<?, ?it/s]"
      ]
     },
     "metadata": {},
     "output_type": "display_data"
    },
    {
     "data": {
      "application/vnd.jupyter.widget-view+json": {
       "model_id": "",
       "version_major": 2,
       "version_minor": 0
      },
      "text/plain": [
       "Uncorr 1/f:   0%|          | 0/1 [00:00<?, ?it/s]"
      ]
     },
     "metadata": {},
     "output_type": "display_data"
    },
    {
     "data": {
      "application/vnd.jupyter.widget-view+json": {
       "model_id": "",
       "version_major": 2,
       "version_minor": 0
      },
      "text/plain": [
       "ACN:   0%|          | 0/1 [00:00<?, ?it/s]"
      ]
     },
     "metadata": {},
     "output_type": "display_data"
    },
    {
     "data": {
      "application/vnd.jupyter.widget-view+json": {
       "model_id": "",
       "version_major": 2,
       "version_minor": 0
      },
      "text/plain": [
       "  0%|          | 0/14 [00:00<?, ?it/s]"
      ]
     },
     "metadata": {},
     "output_type": "display_data"
    },
    {
     "data": {
      "application/vnd.jupyter.widget-view+json": {
       "model_id": "",
       "version_major": 2,
       "version_minor": 0
      },
      "text/plain": [
       "Non-Linearity:   0%|          | 0/5 [00:00<?, ?it/s]"
      ]
     },
     "metadata": {},
     "output_type": "display_data"
    },
    {
     "data": {
      "application/vnd.jupyter.widget-view+json": {
       "model_id": "",
       "version_major": 2,
       "version_minor": 0
      },
      "text/plain": [
       "Uncorr 1/f:   0%|          | 0/1 [00:00<?, ?it/s]"
      ]
     },
     "metadata": {},
     "output_type": "display_data"
    },
    {
     "data": {
      "application/vnd.jupyter.widget-view+json": {
       "model_id": "",
       "version_major": 2,
       "version_minor": 0
      },
      "text/plain": [
       "ACN:   0%|          | 0/1 [00:00<?, ?it/s]"
      ]
     },
     "metadata": {},
     "output_type": "display_data"
    },
    {
     "data": {
      "application/vnd.jupyter.widget-view+json": {
       "model_id": "",
       "version_major": 2,
       "version_minor": 0
      },
      "text/plain": [
       "  0%|          | 0/14 [00:00<?, ?it/s]"
      ]
     },
     "metadata": {},
     "output_type": "display_data"
    },
    {
     "data": {
      "application/vnd.jupyter.widget-view+json": {
       "model_id": "",
       "version_major": 2,
       "version_minor": 0
      },
      "text/plain": [
       "Non-Linearity:   0%|          | 0/5 [00:00<?, ?it/s]"
      ]
     },
     "metadata": {},
     "output_type": "display_data"
    },
    {
     "data": {
      "application/vnd.jupyter.widget-view+json": {
       "model_id": "",
       "version_major": 2,
       "version_minor": 0
      },
      "text/plain": [
       "Uncorr 1/f:   0%|          | 0/1 [00:00<?, ?it/s]"
      ]
     },
     "metadata": {},
     "output_type": "display_data"
    },
    {
     "data": {
      "application/vnd.jupyter.widget-view+json": {
       "model_id": "",
       "version_major": 2,
       "version_minor": 0
      },
      "text/plain": [
       "ACN:   0%|          | 0/1 [00:00<?, ?it/s]"
      ]
     },
     "metadata": {},
     "output_type": "display_data"
    },
    {
     "data": {
      "application/vnd.jupyter.widget-view+json": {
       "model_id": "",
       "version_major": 2,
       "version_minor": 0
      },
      "text/plain": [
       "  0%|          | 0/14 [00:00<?, ?it/s]"
      ]
     },
     "metadata": {},
     "output_type": "display_data"
    },
    {
     "data": {
      "application/vnd.jupyter.widget-view+json": {
       "model_id": "",
       "version_major": 2,
       "version_minor": 0
      },
      "text/plain": [
       "Non-Linearity:   0%|          | 0/5 [00:00<?, ?it/s]"
      ]
     },
     "metadata": {},
     "output_type": "display_data"
    },
    {
     "data": {
      "application/vnd.jupyter.widget-view+json": {
       "model_id": "",
       "version_major": 2,
       "version_minor": 0
      },
      "text/plain": [
       "Uncorr 1/f:   0%|          | 0/1 [00:00<?, ?it/s]"
      ]
     },
     "metadata": {},
     "output_type": "display_data"
    },
    {
     "data": {
      "application/vnd.jupyter.widget-view+json": {
       "model_id": "",
       "version_major": 2,
       "version_minor": 0
      },
      "text/plain": [
       "ACN:   0%|          | 0/1 [00:00<?, ?it/s]"
      ]
     },
     "metadata": {},
     "output_type": "display_data"
    },
    {
     "data": {
      "application/vnd.jupyter.widget-view+json": {
       "model_id": "",
       "version_major": 2,
       "version_minor": 0
      },
      "text/plain": [
       "  0%|          | 0/14 [00:00<?, ?it/s]"
      ]
     },
     "metadata": {},
     "output_type": "display_data"
    },
    {
     "data": {
      "application/vnd.jupyter.widget-view+json": {
       "model_id": "",
       "version_major": 2,
       "version_minor": 0
      },
      "text/plain": [
       "Non-Linearity:   0%|          | 0/5 [00:00<?, ?it/s]"
      ]
     },
     "metadata": {},
     "output_type": "display_data"
    },
    {
     "data": {
      "application/vnd.jupyter.widget-view+json": {
       "model_id": "",
       "version_major": 2,
       "version_minor": 0
      },
      "text/plain": [
       "Uncorr 1/f:   0%|          | 0/1 [00:00<?, ?it/s]"
      ]
     },
     "metadata": {},
     "output_type": "display_data"
    },
    {
     "data": {
      "application/vnd.jupyter.widget-view+json": {
       "model_id": "",
       "version_major": 2,
       "version_minor": 0
      },
      "text/plain": [
       "ACN:   0%|          | 0/1 [00:00<?, ?it/s]"
      ]
     },
     "metadata": {},
     "output_type": "display_data"
    },
    {
     "data": {
      "application/vnd.jupyter.widget-view+json": {
       "model_id": "",
       "version_major": 2,
       "version_minor": 0
      },
      "text/plain": [
       "  0%|          | 0/14 [00:00<?, ?it/s]"
      ]
     },
     "metadata": {},
     "output_type": "display_data"
    },
    {
     "data": {
      "application/vnd.jupyter.widget-view+json": {
       "model_id": "",
       "version_major": 2,
       "version_minor": 0
      },
      "text/plain": [
       "Non-Linearity:   0%|          | 0/5 [00:00<?, ?it/s]"
      ]
     },
     "metadata": {},
     "output_type": "display_data"
    },
    {
     "data": {
      "application/vnd.jupyter.widget-view+json": {
       "model_id": "",
       "version_major": 2,
       "version_minor": 0
      },
      "text/plain": [
       "Uncorr 1/f:   0%|          | 0/1 [00:00<?, ?it/s]"
      ]
     },
     "metadata": {},
     "output_type": "display_data"
    },
    {
     "data": {
      "application/vnd.jupyter.widget-view+json": {
       "model_id": "",
       "version_major": 2,
       "version_minor": 0
      },
      "text/plain": [
       "ACN:   0%|          | 0/1 [00:00<?, ?it/s]"
      ]
     },
     "metadata": {},
     "output_type": "display_data"
    },
    {
     "data": {
      "application/vnd.jupyter.widget-view+json": {
       "model_id": "",
       "version_major": 2,
       "version_minor": 0
      },
      "text/plain": [
       "  0%|          | 0/14 [00:00<?, ?it/s]"
      ]
     },
     "metadata": {},
     "output_type": "display_data"
    },
    {
     "data": {
      "application/vnd.jupyter.widget-view+json": {
       "model_id": "",
       "version_major": 2,
       "version_minor": 0
      },
      "text/plain": [
       "Non-Linearity:   0%|          | 0/5 [00:00<?, ?it/s]"
      ]
     },
     "metadata": {},
     "output_type": "display_data"
    },
    {
     "data": {
      "application/vnd.jupyter.widget-view+json": {
       "model_id": "",
       "version_major": 2,
       "version_minor": 0
      },
      "text/plain": [
       "Uncorr 1/f:   0%|          | 0/1 [00:00<?, ?it/s]"
      ]
     },
     "metadata": {},
     "output_type": "display_data"
    },
    {
     "data": {
      "application/vnd.jupyter.widget-view+json": {
       "model_id": "",
       "version_major": 2,
       "version_minor": 0
      },
      "text/plain": [
       "ACN:   0%|          | 0/1 [00:00<?, ?it/s]"
      ]
     },
     "metadata": {},
     "output_type": "display_data"
    },
    {
     "data": {
      "application/vnd.jupyter.widget-view+json": {
       "model_id": "",
       "version_major": 2,
       "version_minor": 0
      },
      "text/plain": [
       "  0%|          | 0/14 [00:00<?, ?it/s]"
      ]
     },
     "metadata": {},
     "output_type": "display_data"
    },
    {
     "data": {
      "application/vnd.jupyter.widget-view+json": {
       "model_id": "",
       "version_major": 2,
       "version_minor": 0
      },
      "text/plain": [
       "Non-Linearity:   0%|          | 0/5 [00:00<?, ?it/s]"
      ]
     },
     "metadata": {},
     "output_type": "display_data"
    },
    {
     "data": {
      "application/vnd.jupyter.widget-view+json": {
       "model_id": "",
       "version_major": 2,
       "version_minor": 0
      },
      "text/plain": [
       "Uncorr 1/f:   0%|          | 0/1 [00:00<?, ?it/s]"
      ]
     },
     "metadata": {},
     "output_type": "display_data"
    },
    {
     "data": {
      "application/vnd.jupyter.widget-view+json": {
       "model_id": "",
       "version_major": 2,
       "version_minor": 0
      },
      "text/plain": [
       "ACN:   0%|          | 0/1 [00:00<?, ?it/s]"
      ]
     },
     "metadata": {},
     "output_type": "display_data"
    },
    {
     "data": {
      "application/vnd.jupyter.widget-view+json": {
       "model_id": "",
       "version_major": 2,
       "version_minor": 0
      },
      "text/plain": [
       "  0%|          | 0/14 [00:00<?, ?it/s]"
      ]
     },
     "metadata": {},
     "output_type": "display_data"
    },
    {
     "data": {
      "application/vnd.jupyter.widget-view+json": {
       "model_id": "",
       "version_major": 2,
       "version_minor": 0
      },
      "text/plain": [
       "Non-Linearity:   0%|          | 0/5 [00:00<?, ?it/s]"
      ]
     },
     "metadata": {},
     "output_type": "display_data"
    },
    {
     "data": {
      "application/vnd.jupyter.widget-view+json": {
       "model_id": "",
       "version_major": 2,
       "version_minor": 0
      },
      "text/plain": [
       "Uncorr 1/f:   0%|          | 0/1 [00:00<?, ?it/s]"
      ]
     },
     "metadata": {},
     "output_type": "display_data"
    },
    {
     "data": {
      "application/vnd.jupyter.widget-view+json": {
       "model_id": "",
       "version_major": 2,
       "version_minor": 0
      },
      "text/plain": [
       "ACN:   0%|          | 0/1 [00:00<?, ?it/s]"
      ]
     },
     "metadata": {},
     "output_type": "display_data"
    },
    {
     "data": {
      "application/vnd.jupyter.widget-view+json": {
       "model_id": "",
       "version_major": 2,
       "version_minor": 0
      },
      "text/plain": [
       "  0%|          | 0/14 [00:00<?, ?it/s]"
      ]
     },
     "metadata": {},
     "output_type": "display_data"
    },
    {
     "data": {
      "application/vnd.jupyter.widget-view+json": {
       "model_id": "",
       "version_major": 2,
       "version_minor": 0
      },
      "text/plain": [
       "Non-Linearity:   0%|          | 0/5 [00:00<?, ?it/s]"
      ]
     },
     "metadata": {},
     "output_type": "display_data"
    },
    {
     "data": {
      "application/vnd.jupyter.widget-view+json": {
       "model_id": "",
       "version_major": 2,
       "version_minor": 0
      },
      "text/plain": [
       "Uncorr 1/f:   0%|          | 0/1 [00:00<?, ?it/s]"
      ]
     },
     "metadata": {},
     "output_type": "display_data"
    },
    {
     "data": {
      "application/vnd.jupyter.widget-view+json": {
       "model_id": "",
       "version_major": 2,
       "version_minor": 0
      },
      "text/plain": [
       "ACN:   0%|          | 0/1 [00:00<?, ?it/s]"
      ]
     },
     "metadata": {},
     "output_type": "display_data"
    },
    {
     "name": "stdout",
     "output_type": "stream",
     "text": [
      "  Saving: /Users/jarron/NIRCam/Data/NRC_Sims/Sim_NRC35/jw01409001001_02101_00001_nrca5_uncal.fits\n",
      "  Creating ideal slopes, FSM background, SCA darks, biases...\n"
     ]
    },
    {
     "data": {
      "application/vnd.jupyter.widget-view+json": {
       "model_id": "",
       "version_major": 2,
       "version_minor": 0
      },
      "text/plain": [
       "Filters:   0%|          | 0/29 [00:00<?, ?it/s]"
      ]
     },
     "metadata": {},
     "output_type": "display_data"
    },
    {
     "name": "stdout",
     "output_type": "stream",
     "text": [
      "  Exposure: 2\n",
      "  Saving: /Users/jarron/NIRCam/Data/NRC_Sims/Sim_NRC35/slope_jw01409001001_02101_00002_nrca5_uncal.fits\n"
     ]
    },
    {
     "data": {
      "application/vnd.jupyter.widget-view+json": {
       "model_id": "",
       "version_major": 2,
       "version_minor": 0
      },
      "text/plain": [
       "PPC Amps:   0%|          | 0/4 [00:00<?, ?it/s]"
      ]
     },
     "metadata": {},
     "output_type": "display_data"
    },
    {
     "data": {
      "application/vnd.jupyter.widget-view+json": {
       "model_id": "",
       "version_major": 2,
       "version_minor": 0
      },
      "text/plain": [
       "Frames:   0%|          | 0/1 [00:00<?, ?it/s]"
      ]
     },
     "metadata": {},
     "output_type": "display_data"
    },
    {
     "data": {
      "application/vnd.jupyter.widget-view+json": {
       "model_id": "",
       "version_major": 2,
       "version_minor": 0
      },
      "text/plain": [
       "Frames:   0%|          | 0/1 [00:00<?, ?it/s]"
      ]
     },
     "metadata": {},
     "output_type": "display_data"
    },
    {
     "data": {
      "application/vnd.jupyter.widget-view+json": {
       "model_id": "",
       "version_major": 2,
       "version_minor": 0
      },
      "text/plain": [
       "Frames:   0%|          | 0/1 [00:00<?, ?it/s]"
      ]
     },
     "metadata": {},
     "output_type": "display_data"
    },
    {
     "data": {
      "application/vnd.jupyter.widget-view+json": {
       "model_id": "",
       "version_major": 2,
       "version_minor": 0
      },
      "text/plain": [
       "Frames:   0%|          | 0/1 [00:00<?, ?it/s]"
      ]
     },
     "metadata": {},
     "output_type": "display_data"
    },
    {
     "data": {
      "application/vnd.jupyter.widget-view+json": {
       "model_id": "",
       "version_major": 2,
       "version_minor": 0
      },
      "text/plain": [
       "PPC Amps:   0%|          | 0/4 [00:00<?, ?it/s]"
      ]
     },
     "metadata": {},
     "output_type": "display_data"
    },
    {
     "data": {
      "application/vnd.jupyter.widget-view+json": {
       "model_id": "",
       "version_major": 2,
       "version_minor": 0
      },
      "text/plain": [
       "Frames:   0%|          | 0/1 [00:00<?, ?it/s]"
      ]
     },
     "metadata": {},
     "output_type": "display_data"
    },
    {
     "data": {
      "application/vnd.jupyter.widget-view+json": {
       "model_id": "",
       "version_major": 2,
       "version_minor": 0
      },
      "text/plain": [
       "Frames:   0%|          | 0/1 [00:00<?, ?it/s]"
      ]
     },
     "metadata": {},
     "output_type": "display_data"
    },
    {
     "data": {
      "application/vnd.jupyter.widget-view+json": {
       "model_id": "",
       "version_major": 2,
       "version_minor": 0
      },
      "text/plain": [
       "Frames:   0%|          | 0/1 [00:00<?, ?it/s]"
      ]
     },
     "metadata": {},
     "output_type": "display_data"
    },
    {
     "data": {
      "application/vnd.jupyter.widget-view+json": {
       "model_id": "",
       "version_major": 2,
       "version_minor": 0
      },
      "text/plain": [
       "Frames:   0%|          | 0/1 [00:00<?, ?it/s]"
      ]
     },
     "metadata": {},
     "output_type": "display_data"
    },
    {
     "data": {
      "application/vnd.jupyter.widget-view+json": {
       "model_id": "",
       "version_major": 2,
       "version_minor": 0
      },
      "text/plain": [
       "Frames:   0%|          | 0/1 [00:00<?, ?it/s]"
      ]
     },
     "metadata": {},
     "output_type": "display_data"
    },
    {
     "data": {
      "application/vnd.jupyter.widget-view+json": {
       "model_id": "",
       "version_major": 2,
       "version_minor": 0
      },
      "text/plain": [
       "Frames:   0%|          | 0/1 [00:00<?, ?it/s]"
      ]
     },
     "metadata": {},
     "output_type": "display_data"
    },
    {
     "data": {
      "application/vnd.jupyter.widget-view+json": {
       "model_id": "",
       "version_major": 2,
       "version_minor": 0
      },
      "text/plain": [
       "Ramps:   0%|          | 0/10 [00:00<?, ?it/s]"
      ]
     },
     "metadata": {},
     "output_type": "display_data"
    },
    {
     "data": {
      "application/vnd.jupyter.widget-view+json": {
       "model_id": "",
       "version_major": 2,
       "version_minor": 0
      },
      "text/plain": [
       "  0%|          | 0/14 [00:00<?, ?it/s]"
      ]
     },
     "metadata": {},
     "output_type": "display_data"
    },
    {
     "data": {
      "application/vnd.jupyter.widget-view+json": {
       "model_id": "",
       "version_major": 2,
       "version_minor": 0
      },
      "text/plain": [
       "Non-Linearity:   0%|          | 0/5 [00:00<?, ?it/s]"
      ]
     },
     "metadata": {},
     "output_type": "display_data"
    },
    {
     "data": {
      "application/vnd.jupyter.widget-view+json": {
       "model_id": "",
       "version_major": 2,
       "version_minor": 0
      },
      "text/plain": [
       "Uncorr 1/f:   0%|          | 0/1 [00:00<?, ?it/s]"
      ]
     },
     "metadata": {},
     "output_type": "display_data"
    },
    {
     "data": {
      "application/vnd.jupyter.widget-view+json": {
       "model_id": "",
       "version_major": 2,
       "version_minor": 0
      },
      "text/plain": [
       "ACN:   0%|          | 0/1 [00:00<?, ?it/s]"
      ]
     },
     "metadata": {},
     "output_type": "display_data"
    },
    {
     "data": {
      "application/vnd.jupyter.widget-view+json": {
       "model_id": "",
       "version_major": 2,
       "version_minor": 0
      },
      "text/plain": [
       "  0%|          | 0/14 [00:00<?, ?it/s]"
      ]
     },
     "metadata": {},
     "output_type": "display_data"
    },
    {
     "data": {
      "application/vnd.jupyter.widget-view+json": {
       "model_id": "",
       "version_major": 2,
       "version_minor": 0
      },
      "text/plain": [
       "Non-Linearity:   0%|          | 0/5 [00:00<?, ?it/s]"
      ]
     },
     "metadata": {},
     "output_type": "display_data"
    },
    {
     "data": {
      "application/vnd.jupyter.widget-view+json": {
       "model_id": "",
       "version_major": 2,
       "version_minor": 0
      },
      "text/plain": [
       "Uncorr 1/f:   0%|          | 0/1 [00:00<?, ?it/s]"
      ]
     },
     "metadata": {},
     "output_type": "display_data"
    },
    {
     "data": {
      "application/vnd.jupyter.widget-view+json": {
       "model_id": "",
       "version_major": 2,
       "version_minor": 0
      },
      "text/plain": [
       "ACN:   0%|          | 0/1 [00:00<?, ?it/s]"
      ]
     },
     "metadata": {},
     "output_type": "display_data"
    },
    {
     "data": {
      "application/vnd.jupyter.widget-view+json": {
       "model_id": "",
       "version_major": 2,
       "version_minor": 0
      },
      "text/plain": [
       "  0%|          | 0/14 [00:00<?, ?it/s]"
      ]
     },
     "metadata": {},
     "output_type": "display_data"
    },
    {
     "data": {
      "application/vnd.jupyter.widget-view+json": {
       "model_id": "",
       "version_major": 2,
       "version_minor": 0
      },
      "text/plain": [
       "Non-Linearity:   0%|          | 0/5 [00:00<?, ?it/s]"
      ]
     },
     "metadata": {},
     "output_type": "display_data"
    },
    {
     "data": {
      "application/vnd.jupyter.widget-view+json": {
       "model_id": "",
       "version_major": 2,
       "version_minor": 0
      },
      "text/plain": [
       "Uncorr 1/f:   0%|          | 0/1 [00:00<?, ?it/s]"
      ]
     },
     "metadata": {},
     "output_type": "display_data"
    },
    {
     "data": {
      "application/vnd.jupyter.widget-view+json": {
       "model_id": "",
       "version_major": 2,
       "version_minor": 0
      },
      "text/plain": [
       "ACN:   0%|          | 0/1 [00:00<?, ?it/s]"
      ]
     },
     "metadata": {},
     "output_type": "display_data"
    },
    {
     "data": {
      "application/vnd.jupyter.widget-view+json": {
       "model_id": "",
       "version_major": 2,
       "version_minor": 0
      },
      "text/plain": [
       "  0%|          | 0/14 [00:00<?, ?it/s]"
      ]
     },
     "metadata": {},
     "output_type": "display_data"
    },
    {
     "data": {
      "application/vnd.jupyter.widget-view+json": {
       "model_id": "",
       "version_major": 2,
       "version_minor": 0
      },
      "text/plain": [
       "Non-Linearity:   0%|          | 0/5 [00:00<?, ?it/s]"
      ]
     },
     "metadata": {},
     "output_type": "display_data"
    },
    {
     "data": {
      "application/vnd.jupyter.widget-view+json": {
       "model_id": "",
       "version_major": 2,
       "version_minor": 0
      },
      "text/plain": [
       "Uncorr 1/f:   0%|          | 0/1 [00:00<?, ?it/s]"
      ]
     },
     "metadata": {},
     "output_type": "display_data"
    },
    {
     "data": {
      "application/vnd.jupyter.widget-view+json": {
       "model_id": "",
       "version_major": 2,
       "version_minor": 0
      },
      "text/plain": [
       "ACN:   0%|          | 0/1 [00:00<?, ?it/s]"
      ]
     },
     "metadata": {},
     "output_type": "display_data"
    },
    {
     "data": {
      "application/vnd.jupyter.widget-view+json": {
       "model_id": "",
       "version_major": 2,
       "version_minor": 0
      },
      "text/plain": [
       "  0%|          | 0/14 [00:00<?, ?it/s]"
      ]
     },
     "metadata": {},
     "output_type": "display_data"
    },
    {
     "data": {
      "application/vnd.jupyter.widget-view+json": {
       "model_id": "",
       "version_major": 2,
       "version_minor": 0
      },
      "text/plain": [
       "Non-Linearity:   0%|          | 0/5 [00:00<?, ?it/s]"
      ]
     },
     "metadata": {},
     "output_type": "display_data"
    },
    {
     "data": {
      "application/vnd.jupyter.widget-view+json": {
       "model_id": "",
       "version_major": 2,
       "version_minor": 0
      },
      "text/plain": [
       "Uncorr 1/f:   0%|          | 0/1 [00:00<?, ?it/s]"
      ]
     },
     "metadata": {},
     "output_type": "display_data"
    },
    {
     "data": {
      "application/vnd.jupyter.widget-view+json": {
       "model_id": "",
       "version_major": 2,
       "version_minor": 0
      },
      "text/plain": [
       "ACN:   0%|          | 0/1 [00:00<?, ?it/s]"
      ]
     },
     "metadata": {},
     "output_type": "display_data"
    },
    {
     "data": {
      "application/vnd.jupyter.widget-view+json": {
       "model_id": "",
       "version_major": 2,
       "version_minor": 0
      },
      "text/plain": [
       "  0%|          | 0/14 [00:00<?, ?it/s]"
      ]
     },
     "metadata": {},
     "output_type": "display_data"
    },
    {
     "data": {
      "application/vnd.jupyter.widget-view+json": {
       "model_id": "",
       "version_major": 2,
       "version_minor": 0
      },
      "text/plain": [
       "Non-Linearity:   0%|          | 0/5 [00:00<?, ?it/s]"
      ]
     },
     "metadata": {},
     "output_type": "display_data"
    },
    {
     "data": {
      "application/vnd.jupyter.widget-view+json": {
       "model_id": "",
       "version_major": 2,
       "version_minor": 0
      },
      "text/plain": [
       "Uncorr 1/f:   0%|          | 0/1 [00:00<?, ?it/s]"
      ]
     },
     "metadata": {},
     "output_type": "display_data"
    },
    {
     "data": {
      "application/vnd.jupyter.widget-view+json": {
       "model_id": "",
       "version_major": 2,
       "version_minor": 0
      },
      "text/plain": [
       "ACN:   0%|          | 0/1 [00:00<?, ?it/s]"
      ]
     },
     "metadata": {},
     "output_type": "display_data"
    },
    {
     "data": {
      "application/vnd.jupyter.widget-view+json": {
       "model_id": "",
       "version_major": 2,
       "version_minor": 0
      },
      "text/plain": [
       "  0%|          | 0/14 [00:00<?, ?it/s]"
      ]
     },
     "metadata": {},
     "output_type": "display_data"
    },
    {
     "data": {
      "application/vnd.jupyter.widget-view+json": {
       "model_id": "",
       "version_major": 2,
       "version_minor": 0
      },
      "text/plain": [
       "Non-Linearity:   0%|          | 0/5 [00:00<?, ?it/s]"
      ]
     },
     "metadata": {},
     "output_type": "display_data"
    },
    {
     "data": {
      "application/vnd.jupyter.widget-view+json": {
       "model_id": "",
       "version_major": 2,
       "version_minor": 0
      },
      "text/plain": [
       "Uncorr 1/f:   0%|          | 0/1 [00:00<?, ?it/s]"
      ]
     },
     "metadata": {},
     "output_type": "display_data"
    },
    {
     "data": {
      "application/vnd.jupyter.widget-view+json": {
       "model_id": "",
       "version_major": 2,
       "version_minor": 0
      },
      "text/plain": [
       "ACN:   0%|          | 0/1 [00:00<?, ?it/s]"
      ]
     },
     "metadata": {},
     "output_type": "display_data"
    },
    {
     "data": {
      "application/vnd.jupyter.widget-view+json": {
       "model_id": "",
       "version_major": 2,
       "version_minor": 0
      },
      "text/plain": [
       "  0%|          | 0/14 [00:00<?, ?it/s]"
      ]
     },
     "metadata": {},
     "output_type": "display_data"
    },
    {
     "data": {
      "application/vnd.jupyter.widget-view+json": {
       "model_id": "",
       "version_major": 2,
       "version_minor": 0
      },
      "text/plain": [
       "Non-Linearity:   0%|          | 0/5 [00:00<?, ?it/s]"
      ]
     },
     "metadata": {},
     "output_type": "display_data"
    },
    {
     "data": {
      "application/vnd.jupyter.widget-view+json": {
       "model_id": "",
       "version_major": 2,
       "version_minor": 0
      },
      "text/plain": [
       "Uncorr 1/f:   0%|          | 0/1 [00:00<?, ?it/s]"
      ]
     },
     "metadata": {},
     "output_type": "display_data"
    },
    {
     "data": {
      "application/vnd.jupyter.widget-view+json": {
       "model_id": "",
       "version_major": 2,
       "version_minor": 0
      },
      "text/plain": [
       "ACN:   0%|          | 0/1 [00:00<?, ?it/s]"
      ]
     },
     "metadata": {},
     "output_type": "display_data"
    },
    {
     "data": {
      "application/vnd.jupyter.widget-view+json": {
       "model_id": "",
       "version_major": 2,
       "version_minor": 0
      },
      "text/plain": [
       "  0%|          | 0/14 [00:00<?, ?it/s]"
      ]
     },
     "metadata": {},
     "output_type": "display_data"
    },
    {
     "data": {
      "application/vnd.jupyter.widget-view+json": {
       "model_id": "",
       "version_major": 2,
       "version_minor": 0
      },
      "text/plain": [
       "Non-Linearity:   0%|          | 0/5 [00:00<?, ?it/s]"
      ]
     },
     "metadata": {},
     "output_type": "display_data"
    },
    {
     "data": {
      "application/vnd.jupyter.widget-view+json": {
       "model_id": "",
       "version_major": 2,
       "version_minor": 0
      },
      "text/plain": [
       "Uncorr 1/f:   0%|          | 0/1 [00:00<?, ?it/s]"
      ]
     },
     "metadata": {},
     "output_type": "display_data"
    },
    {
     "data": {
      "application/vnd.jupyter.widget-view+json": {
       "model_id": "",
       "version_major": 2,
       "version_minor": 0
      },
      "text/plain": [
       "ACN:   0%|          | 0/1 [00:00<?, ?it/s]"
      ]
     },
     "metadata": {},
     "output_type": "display_data"
    },
    {
     "data": {
      "application/vnd.jupyter.widget-view+json": {
       "model_id": "",
       "version_major": 2,
       "version_minor": 0
      },
      "text/plain": [
       "  0%|          | 0/14 [00:00<?, ?it/s]"
      ]
     },
     "metadata": {},
     "output_type": "display_data"
    },
    {
     "data": {
      "application/vnd.jupyter.widget-view+json": {
       "model_id": "",
       "version_major": 2,
       "version_minor": 0
      },
      "text/plain": [
       "Non-Linearity:   0%|          | 0/5 [00:00<?, ?it/s]"
      ]
     },
     "metadata": {},
     "output_type": "display_data"
    },
    {
     "data": {
      "application/vnd.jupyter.widget-view+json": {
       "model_id": "",
       "version_major": 2,
       "version_minor": 0
      },
      "text/plain": [
       "Uncorr 1/f:   0%|          | 0/1 [00:00<?, ?it/s]"
      ]
     },
     "metadata": {},
     "output_type": "display_data"
    },
    {
     "data": {
      "application/vnd.jupyter.widget-view+json": {
       "model_id": "",
       "version_major": 2,
       "version_minor": 0
      },
      "text/plain": [
       "ACN:   0%|          | 0/1 [00:00<?, ?it/s]"
      ]
     },
     "metadata": {},
     "output_type": "display_data"
    },
    {
     "name": "stdout",
     "output_type": "stream",
     "text": [
      "  Saving: /Users/jarron/NIRCam/Data/NRC_Sims/Sim_NRC35/jw01409001001_02101_00002_nrca5_uncal.fits\n"
     ]
    }
   ],
   "source": [
    "# Create and save DMS FITS files\n",
    "save_dir = '/Users/jarron/NIRCam/Data/NRC_Sims/Sim_NRC35/'\n",
    "params_noise = {\n",
    "    'include_poisson'   : True,     # Photon Noise\n",
    "    'include_dark'      : True,     # Dark current\n",
    "    'include_bias'      : True,     # Bias image offset\n",
    "    'include_ktc'       : True,     # kTC Noise\n",
    "    'include_rn'        : True,     # Read Noise\n",
    "    'include_cpink'     : True,     # Correlated 1/f noise between channel\n",
    "    'include_upink'     : True,     # Channel-dependent 1/f noise\n",
    "    'include_acn'       : True,     # Alternating column noise\n",
    "    'apply_ipc'         : True,     # Interpixel capacitance\n",
    "    'apply_ppc'         : True,     # Post-pixel coupling\n",
    "    'amp_crosstalk'     : True,     # Amplifier crosstalk\n",
    "    'include_refoffsets': True,     # Reference offsets\n",
    "    'include_refinst'   : True,     # Reference pixel instabilities\n",
    "    'include_colnoise'  : True,     # Transient detector column noise\n",
    "    'add_crs'           : True,     # Include cosmic ray\n",
    "    'cr_model'          : 'SUNMAX', # Cosmic ray model ('SUNMAX', 'SUNMIN', or 'FLARES')\n",
    "    'cr_scale'          : 1,        # Cosmic ray probabilities scaling\n",
    "    'apply_nonlinearity': True,     # Apply non-linearity\n",
    "    'random_nonlin'     : True,     # Add randomness to non-linearity\n",
    "    'apply_flats'       : True,     # pixel-to-pixel QE variations and field-dep illum\n",
    "}\n",
    "\n",
    "run_all_exps(obs_dict, key='001:001', rand_seed_init=1234, \n",
    "             save_dir=save_dir, save_slope=True, **params_noise)"
   ]
  },
  {
   "cell_type": "code",
   "execution_count": null,
   "id": "488cdcc9",
   "metadata": {},
   "outputs": [],
   "source": []
  },
  {
   "cell_type": "markdown",
   "id": "4672092d",
   "metadata": {},
   "source": [
    "# Extra Backup Cells"
   ]
  },
  {
   "cell_type": "code",
   "execution_count": 41,
   "id": "3e7b054f",
   "metadata": {},
   "outputs": [],
   "source": [
    "d = obs_dict['001:001']\n",
    "obs_params = d['obs_params']\n",
    "visit = d['visit']"
   ]
  },
  {
   "cell_type": "code",
   "execution_count": 42,
   "id": "650870b7",
   "metadata": {
    "scrolled": false
   },
   "outputs": [
    {
     "data": {
      "text/plain": [
       "{'obs_num': 1,\n",
       " 'visit_num': 1,\n",
       " 'visit_start': 23416,\n",
       " 'slew_duration': 1800,\n",
       " 'visit_duration': 1167,\n",
       " 'exp_start_times': array([1800, 2310]),\n",
       " 'orient_info': {'OrientMin': 190.0, 'OrientMax': 210.0},\n",
       " 'APTTemplate': 'NircamEngineeringImaging',\n",
       " 'PrimaryDitherType': array(['NONE', 'NONE'], dtype='<U4'),\n",
       " 'PrimaryDithers': array(['NONE', 'NONE'], dtype='<U4'),\n",
       " 'DitherSize': array(['NONE', 'NONE'], dtype='<U4'),\n",
       " 'SubpixelPositions': array(['1', '1'], dtype='<U1'),\n",
       " 'SubpixelDitherType': array(['STANDARD', 'STANDARD'], dtype='<U8'),\n",
       " 'SmallGridDitherType': array(['NONE', 'NONE'], dtype='<U4'),\n",
       " 'DitherPatternType': array(['NONE', 'NONE'], dtype='<U4'),\n",
       " 'ImageDithers': array(['NONE', 'NONE'], dtype='<U4'),\n",
       " 'number_of_dithers': array(['1', '1'], dtype='<U1'),\n",
       " 'rand_seed_init': 1234,\n",
       " 'rand_seed_dith': 3853010524,\n",
       " 'rand_seed_noise': 3709225223,\n",
       " 'TargetID': array(['HD-84406', 'HD-84406'], dtype='<U15'),\n",
       " 'TargetRA': array(['09:47:30.2970', '09:47:30.2970'], dtype='<U13'),\n",
       " 'TargetDec': array(['+63:14:49.96', '+63:14:49.96'], dtype='<U12'),\n",
       " 'aperture': array([['NRCA1_GRISMTS256', 'NRCA2_GRISMTS256', 'NRCA3_GRISMTS256',\n",
       "         'NRCA4_GRISMTS256', 'NRCA5_GRISM256_F322W2'],\n",
       "        ['NRCA1_GRISMTS256', 'NRCA2_GRISMTS256', 'NRCA3_GRISMTS256',\n",
       "         'NRCA4_GRISMTS256', 'NRCA5_GRISM256_F322W2']], dtype='<U21'),\n",
       " 'pri_dith': array([1, 1]),\n",
       " 'sub_dith': array([1, 1]),\n",
       " 'targ1': array([13, 13]),\n",
       " 'targ2': array(['HD-8440', 'HD-8440'], dtype='<U8'),\n",
       " 'ra': array([146.87624, 146.87624]),\n",
       " 'dec': array([63.24721, 63.24721]),\n",
       " 'basex': array([0., 0.]),\n",
       " 'basey': array([5., 5.]),\n",
       " 'dithx': array([ 0.052, -0.052]),\n",
       " 'dithy': array([-7.37,  7.37]),\n",
       " 'v2': array([50.706, 50.869]),\n",
       " 'v3': array([-558.847, -544.106]),\n",
       " 'idlx': array([ 0.052, -0.052]),\n",
       " 'idly': array([-2.37, 12.37]),\n",
       " 'obs_label': array(['LW Grism Ice Monitor #1 Mod-A 256 subarray',\n",
       "        'LW Grism Ice Monitor #1 Mod-A 256 subarray'], dtype='<U42'),\n",
       " 'obs_id_info': array([{'program_number': '01409', 'observation_number': '001', 'visit_number': '001', 'visit_group': '02', 'sequence_id': '1', 'activity_id': '01', 'exposure_number': '00001', 'visit_id': '01409001001', 'obs_id': 'V01409001001P0000000002101'},\n",
       "        {'program_number': '01409', 'observation_number': '001', 'visit_number': '001', 'visit_group': '02', 'sequence_id': '1', 'activity_id': '01', 'exposure_number': '00002', 'visit_id': '01409001001', 'obs_id': 'V01409001001P0000000002101'}],\n",
       "       dtype=object),\n",
       " 'level': array(['TARGET', 'TILE'], dtype='<U6'),\n",
       " 'type': array(['SCIENCE', 'SCIENCE'], dtype='<U7'),\n",
       " 'ddist': array([ 0.   , 14.741]),\n",
       " 'ModuleAPT': array(['A', 'A'], dtype='<U1'),\n",
       " 'sw_filters': array(['F212N', 'F212N'], dtype='<U5'),\n",
       " 'sw_pupils': array(['CLEAR', 'CLEAR'], dtype='<U5'),\n",
       " 'lw_filters': array(['F322W2', 'F322W2'], dtype='<U6'),\n",
       " 'lw_pupils': array(['GRISMR', 'GRISMR'], dtype='<U6'),\n",
       " 'coron_mask': array(['NONE', 'NONE'], dtype='<U4'),\n",
       " 'mode': array(['imaging', 'imaging'], dtype='<U7'),\n",
       " 'subarray_name': array(['SUBGRISM256', 'SUBGRISM256'], dtype='<U11'),\n",
       " 'readout': array(['RAPID', 'RAPID'], dtype='<U5'),\n",
       " 'nints': array(['10', '10'], dtype='<U2'),\n",
       " 'ngroups': array(['5', '5'], dtype='<U1'),\n",
       " 'noutputs': array([1, 1]),\n",
       " 'detectors': array([['NRCA1', 'NRCA2', 'NRCA3', 'NRCA4', 'NRCA5'],\n",
       "        ['NRCA1', 'NRCA2', 'NRCA3', 'NRCA4', 'NRCA5']], dtype='<U5'),\n",
       " 'json_file': 'pid1409.timing.json',\n",
       " 'sm_acct_file': 'pid1409.smart_accounting',\n",
       " 'pointing_file': 'pid1409.pointing',\n",
       " 'xml_file': 'pid1409.xml'}"
      ]
     },
     "execution_count": 42,
     "metadata": {},
     "output_type": "execute_result"
    }
   ],
   "source": [
    "visit"
   ]
  },
  {
   "cell_type": "code",
   "execution_count": 43,
   "id": "4c187e41",
   "metadata": {
    "scrolled": false
   },
   "outputs": [
    {
     "data": {
      "text/plain": [
       "{'pi_name': 'Erin Smith',\n",
       " 'title': 'CAR_NIRCAM-0035: NIRCAM Ice Measurement',\n",
       " 'category': 'COM',\n",
       " 'sub_category': 'NIRCAM',\n",
       " 'science_category': 'Stellar Physics',\n",
       " 'target_name': 'HD-84406',\n",
       " 'catalog_name': 'UNKNOWN',\n",
       " 'ra': 146.8762375,\n",
       " 'dec': 63.24721111111111,\n",
       " 'pa_v3': 196.9098730681069,\n",
       " 'roll_offset': 0,\n",
       " 'solar_elong': 133.21178164562465,\n",
       " 'pitch_ang': 43.211781645624654,\n",
       " 'siaf_ap': <pysiaf.Aperture object AperName=NRCA5_GRISM256_F322W2 >,\n",
       " 'ra_obs': 146.87577594106958,\n",
       " 'dec_obs': 63.246586256447664,\n",
       " 'siaf_ap_ref': <pysiaf.Aperture object AperName=NRCA5_GRISM256_F322W2 >,\n",
       " 'ra_ref': 146.87577594106958,\n",
       " 'dec_ref': 63.246586256447664,\n",
       " 'date-obs': '2022-02-01',\n",
       " 'time-obs': '00:20:00.000',\n",
       " 'obs_id_info': {'program_number': '01409',\n",
       "  'observation_number': '001',\n",
       "  'visit_number': '001',\n",
       "  'visit_group': '02',\n",
       "  'sequence_id': '1',\n",
       "  'activity_id': '01',\n",
       "  'exposure_number': '00001',\n",
       "  'visit_id': '01409001001',\n",
       "  'obs_id': 'V01409001001P0000000002101'},\n",
       " 'obs_label': 'LW Grism Ice Monitor #1 Mod-A 256 subarray',\n",
       " 'texp_start_relative': 1800,\n",
       " 'visit_start_relative': 23416,\n",
       " 'det_obj': <pynrc.pynrc_core.DetectorOps at 0x7f9b3a44e7d0>,\n",
       " 'module': 'A',\n",
       " 'channel': 'LONG',\n",
       " 'detector': 'NRCALONG',\n",
       " 'filter': 'F322W2',\n",
       " 'pupil': 'GRISMR',\n",
       " 'coron_mask': 'NONE',\n",
       " 'visit_level': 'TARGET',\n",
       " 'visit_type': 'SCIENCE',\n",
       " 'visit_mode': 'wfss',\n",
       " 'exp_type': 'NRC_IMAGE',\n",
       " 'subarray_name': 'SUBGRISM256',\n",
       " 'xstart': 1,\n",
       " 'ystart': 1,\n",
       " 'xsize': 2048,\n",
       " 'ysize': 256,\n",
       " 'fastaxis': -1,\n",
       " 'slowaxis': 2,\n",
       " 'noutputs': 1,\n",
       " 'readpatt': 'RAPID',\n",
       " 'nframes': 1,\n",
       " 'ngroups': 5,\n",
       " 'nints': 10,\n",
       " 'sample_time': 10,\n",
       " 'frame_time': 5.3148,\n",
       " 'group_time': 5.3148,\n",
       " 'groupgap': 0,\n",
       " 'nresets1': 1,\n",
       " 'nresets2': 1,\n",
       " 'integration_time': 26.574,\n",
       " 'exposure_time': 265.74,\n",
       " 'tint_plus_overhead': 31.8888,\n",
       " 'texp_plus_overhead': 318.888,\n",
       " 'int_times': array([( 1, 59611.03472222, 59611.03487601, 59611.03502979, 59611.03472222, 59611.03487601, 59611.03502979),\n",
       "        ( 2, 59611.03509131, 59611.03524509, 59611.03539887, 59611.03509131, 59611.03524509, 59611.03539887),\n",
       "        ( 3, 59611.03546039, 59611.03561417, 59611.03576796, 59611.03546039, 59611.03561417, 59611.03576796),\n",
       "        ( 4, 59611.03582947, 59611.03598326, 59611.03613704, 59611.03582947, 59611.03598326, 59611.03613704),\n",
       "        ( 5, 59611.03619856, 59611.03635234, 59611.03650612, 59611.03619856, 59611.03635234, 59611.03650612),\n",
       "        ( 6, 59611.03656764, 59611.03672142, 59611.03687521, 59611.03656764, 59611.03672142, 59611.03687521),\n",
       "        ( 7, 59611.03693672, 59611.03709051, 59611.03724429, 59611.03693672, 59611.03709051, 59611.03724429),\n",
       "        ( 8, 59611.03730581, 59611.03745959, 59611.03761338, 59611.03730581, 59611.03745959, 59611.03761338),\n",
       "        ( 9, 59611.03767489, 59611.03782867, 59611.03798246, 59611.03767489, 59611.03782867, 59611.03798246),\n",
       "        (10, 59611.03804397, 59611.03819776, 59611.03835154, 59611.03804397, 59611.03819776, 59611.03835154)],\n",
       "       dtype=[('integration_number', '<i2'), ('int_start_MJD_UTC', '<f8'), ('int_mid_MJD_UTC', '<f8'), ('int_end_MJD_UTC', '<f8'), ('int_start_BJD_TDB', '<f8'), ('int_mid_BJD_TDB', '<f8'), ('int_end_BJD_TDB', '<f8')]),\n",
       " 'integration_start': 1,\n",
       " 'integration_end': 10,\n",
       " 'group_times': array([[( 1, 1, 762, 3324202, 800, b'2022-02-01T00:55:24.203', 256, 2048, 0, 0, b'Normal Completion', 59611.03847457, 59611.03847457)],\n",
       "        [( 1, 2, 762, 3329517, 600, b'2022-02-01T00:55:29.518', 256, 2048, 0, 0, b'Normal Completion', 59611.03853608, 59611.03853608)],\n",
       "        [( 1, 3, 762, 3334832, 399, b'2022-02-01T00:55:34.832', 256, 2048, 0, 0, b'Normal Completion', 59611.0385976 , 59611.0385976 )],\n",
       "        [( 1, 4, 762, 3340147, 199, b'2022-02-01T00:55:40.147', 256, 2048, 0, 0, b'Normal Completion', 59611.03865911, 59611.03865911)],\n",
       "        [( 1, 5, 762, 3345461, 999, b'2022-02-01T00:55:45.462', 256, 2048, 0, 0, b'Normal Completion', 59611.03872063, 59611.03872063)],\n",
       "        [( 2, 1, 762, 3356091, 600, b'2022-02-01T00:55:56.092', 256, 2048, 0, 0, b'Normal Completion', 59611.03884365, 59611.03884365)],\n",
       "        [( 2, 2, 762, 3361406, 400, b'2022-02-01T00:56:01.406', 256, 2048, 0, 0, b'Normal Completion', 59611.03890517, 59611.03890517)],\n",
       "        [( 2, 3, 762, 3366721, 199, b'2022-02-01T00:56:06.721', 256, 2048, 0, 0, b'Normal Completion', 59611.03896668, 59611.03896668)],\n",
       "        [( 2, 4, 762, 3372035, 999, b'2022-02-01T00:56:12.036', 256, 2048, 0, 0, b'Normal Completion', 59611.03902819, 59611.03902819)],\n",
       "        [( 2, 5, 762, 3377350, 800, b'2022-02-01T00:56:17.351', 256, 2048, 0, 0, b'Normal Completion', 59611.03908971, 59611.03908971)],\n",
       "        [( 3, 1, 762, 3387980, 400, b'2022-02-01T00:56:27.980', 256, 2048, 0, 0, b'Normal Completion', 59611.03921274, 59611.03921274)],\n",
       "        [( 3, 2, 762, 3393295, 199, b'2022-02-01T00:56:33.295', 256, 2048, 0, 0, b'Normal Completion', 59611.03927425, 59611.03927425)],\n",
       "        [( 3, 3, 762, 3398609, 999, b'2022-02-01T00:56:38.610', 256, 2048, 0, 0, b'Normal Completion', 59611.03933576, 59611.03933576)],\n",
       "        [( 3, 4, 762, 3403924, 799, b'2022-02-01T00:56:43.925', 256, 2048, 0, 0, b'Normal Completion', 59611.03939728, 59611.03939728)],\n",
       "        [( 3, 5, 762, 3409239, 600, b'2022-02-01T00:56:49.240', 256, 2048, 0, 0, b'Normal Completion', 59611.03945879, 59611.03945879)],\n",
       "        [( 4, 1, 762, 3419869, 200, b'2022-02-01T00:56:59.869', 256, 2048, 0, 0, b'Normal Completion', 59611.03958182, 59611.03958182)],\n",
       "        [( 4, 2, 762, 3425183, 999, b'2022-02-01T00:57:05.184', 256, 2048, 0, 0, b'Normal Completion', 59611.03964333, 59611.03964333)],\n",
       "        [( 4, 3, 762, 3430498, 799, b'2022-02-01T00:57:10.499', 256, 2048, 0, 0, b'Normal Completion', 59611.03970485, 59611.03970485)],\n",
       "        [( 4, 4, 762, 3435813, 599, b'2022-02-01T00:57:15.814', 256, 2048, 0, 0, b'Normal Completion', 59611.03976636, 59611.03976636)],\n",
       "        [( 4, 5, 762, 3441128, 400, b'2022-02-01T00:57:21.128', 256, 2048, 0, 0, b'Normal Completion', 59611.03982787, 59611.03982787)],\n",
       "        [( 5, 1, 762, 3451758,   0, b'2022-02-01T00:57:31.758', 256, 2048, 0, 0, b'Normal Completion', 59611.0399509 , 59611.0399509 )],\n",
       "        [( 5, 2, 762, 3457072, 799, b'2022-02-01T00:57:37.073', 256, 2048, 0, 0, b'Normal Completion', 59611.04001242, 59611.04001242)],\n",
       "        [( 5, 3, 762, 3462387, 599, b'2022-02-01T00:57:42.388', 256, 2048, 0, 0, b'Normal Completion', 59611.04007393, 59611.04007393)],\n",
       "        [( 5, 4, 762, 3467702, 400, b'2022-02-01T00:57:47.702', 256, 2048, 0, 0, b'Normal Completion', 59611.04013544, 59611.04013544)],\n",
       "        [( 5, 5, 762, 3473017, 200, b'2022-02-01T00:57:53.017', 256, 2048, 0, 0, b'Normal Completion', 59611.04019696, 59611.04019696)],\n",
       "        [( 6, 1, 762, 3483646, 799, b'2022-02-01T00:58:03.647', 256, 2048, 0, 0, b'Normal Completion', 59611.04031999, 59611.04031999)],\n",
       "        [( 6, 2, 762, 3488961, 599, b'2022-02-01T00:58:08.962', 256, 2048, 0, 0, b'Normal Completion', 59611.0403815 , 59611.0403815 )],\n",
       "        [( 6, 3, 762, 3494276, 399, b'2022-02-01T00:58:14.276', 256, 2048, 0, 0, b'Normal Completion', 59611.04044301, 59611.04044301)],\n",
       "        [( 6, 4, 762, 3499591, 200, b'2022-02-01T00:58:19.591', 256, 2048, 0, 0, b'Normal Completion', 59611.04050453, 59611.04050453)],\n",
       "        [( 6, 5, 762, 3504906,   0, b'2022-02-01T00:58:24.906', 256, 2048, 0, 0, b'Normal Completion', 59611.04056604, 59611.04056604)],\n",
       "        [( 7, 1, 762, 3515535, 599, b'2022-02-01T00:58:35.536', 256, 2048, 0, 0, b'Normal Completion', 59611.04068907, 59611.04068907)],\n",
       "        [( 7, 2, 762, 3520850, 399, b'2022-02-01T00:58:40.850', 256, 2048, 0, 0, b'Normal Completion', 59611.04075058, 59611.04075058)],\n",
       "        [( 7, 3, 762, 3526165, 199, b'2022-02-01T00:58:46.165', 256, 2048, 0, 0, b'Normal Completion', 59611.0408121 , 59611.0408121 )],\n",
       "        [( 7, 4, 762, 3531480,   0, b'2022-02-01T00:58:51.480', 256, 2048, 0, 0, b'Normal Completion', 59611.04087361, 59611.04087361)],\n",
       "        [( 7, 5, 762, 3536794, 800, b'2022-02-01T00:58:56.795', 256, 2048, 0, 0, b'Normal Completion', 59611.04093512, 59611.04093512)],\n",
       "        [( 8, 1, 762, 3547424, 399, b'2022-02-01T00:59:07.424', 256, 2048, 0, 0, b'Normal Completion', 59611.04105815, 59611.04105815)],\n",
       "        [( 8, 2, 762, 3552739, 199, b'2022-02-01T00:59:12.739', 256, 2048, 0, 0, b'Normal Completion', 59611.04111967, 59611.04111967)],\n",
       "        [( 8, 3, 762, 3558053, 999, b'2022-02-01T00:59:18.054', 256, 2048, 0, 0, b'Normal Completion', 59611.04118118, 59611.04118118)],\n",
       "        [( 8, 4, 762, 3563368, 800, b'2022-02-01T00:59:23.369', 256, 2048, 0, 0, b'Normal Completion', 59611.04124269, 59611.04124269)],\n",
       "        [( 8, 5, 762, 3568683, 600, b'2022-02-01T00:59:28.684', 256, 2048, 0, 0, b'Normal Completion', 59611.04130421, 59611.04130421)],\n",
       "        [( 9, 1, 762, 3579313, 199, b'2022-02-01T00:59:39.313', 256, 2048, 0, 0, b'Normal Completion', 59611.04142724, 59611.04142724)],\n",
       "        [( 9, 2, 762, 3584627, 999, b'2022-02-01T00:59:44.628', 256, 2048, 0, 0, b'Normal Completion', 59611.04148875, 59611.04148875)],\n",
       "        [( 9, 3, 762, 3589942, 800, b'2022-02-01T00:59:49.943', 256, 2048, 0, 0, b'Normal Completion', 59611.04155026, 59611.04155026)],\n",
       "        [( 9, 4, 762, 3595257, 600, b'2022-02-01T00:59:55.258', 256, 2048, 0, 0, b'Normal Completion', 59611.04161178, 59611.04161178)],\n",
       "        [( 9, 5, 762, 3600572, 400, b'2022-02-01T01:00:00.572', 256, 2048, 0, 0, b'Normal Completion', 59611.04167329, 59611.04167329)],\n",
       "        [(10, 1, 762, 3611201, 999, b'2022-02-01T01:00:11.202', 256, 2048, 0, 0, b'Normal Completion', 59611.04179632, 59611.04179632)],\n",
       "        [(10, 2, 762, 3616516, 799, b'2022-02-01T01:00:16.517', 256, 2048, 0, 0, b'Normal Completion', 59611.04185783, 59611.04185783)],\n",
       "        [(10, 3, 762, 3621831, 600, b'2022-02-01T01:00:21.832', 256, 2048, 0, 0, b'Normal Completion', 59611.04191935, 59611.04191935)],\n",
       "        [(10, 4, 762, 3627146, 400, b'2022-02-01T01:00:27.146', 256, 2048, 0, 0, b'Normal Completion', 59611.04198086, 59611.04198086)],\n",
       "        [(10, 5, 762, 3632461, 200, b'2022-02-01T01:00:32.461', 256, 2048, 0, 0, b'Normal Completion', 59611.04204237, 59611.04204237)]],\n",
       "       dtype=[('integration_number', '<i2'), ('group_number', '<i2'), ('end_day', '<i2'), ('end_milliseconds', '<i4'), ('end_submilliseconds', '<i2'), ('group_end_time', 'S26'), ('number_of_columns', '<i2'), ('number_of_rows', '<i2'), ('number_of_gaps', '<i2'), ('completion_code_number', '<i2'), ('completion_code_text', 'S36'), ('bary_end_time', '<f8'), ('helio_end_time', '<f8')]),\n",
       " 'pridith_pattern_type': 'NONE',\n",
       " 'pridith_points_packing': 'NONE',\n",
       " 'pridith_npoints': 'NONE',\n",
       " 'position_number': 1,\n",
       " 'pattern_start': 1,\n",
       " 'total_points': '1',\n",
       " 'dither_points': '1',\n",
       " 'pattern_size': 'NONE',\n",
       " 'sgd_pattern': 'NONE',\n",
       " 'subpixel_number': 1,\n",
       " 'subpixel_total_points': 1,\n",
       " 'subpixel_pattern': 'STANDARD',\n",
       " 'x_offset': 0.052,\n",
       " 'y_offset': -2.37,\n",
       " 'EXSEGNUM': None,\n",
       " 'EXSEGTOT': None,\n",
       " 'filename': 'jw01409001001_02101_00001_nrca5_uncal.fits',\n",
       " 'save_dir': None,\n",
       " 'nexposures': 2,\n",
       " 'ddist': 0.0,\n",
       " 'pid': '01409',\n",
       " 'rand_seed_noise': 3709225228,\n",
       " 'rand_seed_init': 1234,\n",
       " 'rand_seed_dith': 3853010524,\n",
       " 'visit_key': '001:001'}"
      ]
     },
     "execution_count": 43,
     "metadata": {},
     "output_type": "execute_result"
    }
   ],
   "source": [
    "obs_params"
   ]
  },
  {
   "cell_type": "code",
   "execution_count": null,
   "id": "9d12d34c",
   "metadata": {},
   "outputs": [],
   "source": []
  }
 ],
 "metadata": {
  "kernelspec": {
   "display_name": "Python 3 (ipykernel)",
   "language": "python",
   "name": "python3"
  },
  "language_info": {
   "codemirror_mode": {
    "name": "ipython",
    "version": 3
   },
   "file_extension": ".py",
   "mimetype": "text/x-python",
   "name": "python",
   "nbconvert_exporter": "python",
   "pygments_lexer": "ipython3",
   "version": "3.7.9"
  }
 },
 "nbformat": 4,
 "nbformat_minor": 5
}
