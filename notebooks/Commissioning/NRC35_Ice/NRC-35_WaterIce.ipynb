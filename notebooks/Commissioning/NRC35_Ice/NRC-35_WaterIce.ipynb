{
 "cells": [
  {
   "cell_type": "markdown",
   "id": "textile-greek",
   "metadata": {},
   "source": [
    "# OTE Water Ice Measurements with NIRCam\n",
    "\n",
    "This activity will use NIRCam longwave grism spectra to check for ice contamination associated with the telescope and instrument cooldown."
   ]
  },
  {
   "cell_type": "code",
   "execution_count": 1,
   "id": "speaking-garage",
   "metadata": {},
   "outputs": [],
   "source": [
    "# Import the usual libraries\n",
    "import numpy as np\n",
    "import matplotlib\n",
    "import matplotlib.pyplot as plt\n",
    "\n",
    "# Enable inline plotting at lower left\n",
    "%matplotlib inline\n",
    "\n",
    "# Program bar\n",
    "from tqdm.auto import trange, tqdm"
   ]
  },
  {
   "cell_type": "code",
   "execution_count": 2,
   "id": "defined-thompson",
   "metadata": {},
   "outputs": [
    {
     "name": "stdout",
     "output_type": "stream",
     "text": [
      "pyNRC log messages of level WARN and above will be shown.\n",
      "pyNRC log outputs will be directed to the screen.\n"
     ]
    }
   ],
   "source": [
    "import pynrc\n",
    "from pynrc import nrc_utils\n",
    "from pynrc.nrc_utils import webbpsf, poppy, S\n",
    "\n",
    "pynrc.setup_logging('WARN', verbose=True)"
   ]
  },
  {
   "cell_type": "code",
   "execution_count": 3,
   "id": "hidden-invention",
   "metadata": {},
   "outputs": [],
   "source": [
    "import os\n",
    "from astropy.io import fits, ascii"
   ]
  },
  {
   "cell_type": "code",
   "execution_count": null,
   "id": "vital-birthday",
   "metadata": {},
   "outputs": [],
   "source": []
  },
  {
   "cell_type": "code",
   "execution_count": 4,
   "id": "sophisticated-appeal",
   "metadata": {},
   "outputs": [],
   "source": [
    "webbpsf_data_path = webbpsf.utils.get_webbpsf_data_path()\n",
    "\n",
    "# Pupil and segment information\n",
    "pupil_file = os.path.join(webbpsf_data_path, \"jwst_pupil_RevW_npix1024.fits.gz\")\n",
    "pupil_hdul = fits.open(pupil_file)\n",
    "\n",
    "segmap_file = os.path.join(webbpsf_data_path, \"JWpupil_segments_RevW_npix1024.fits.gz\")\n",
    "segmap_hdul = fits.open(segmap_file)"
   ]
  },
  {
   "cell_type": "code",
   "execution_count": 5,
   "id": "sonic-combining",
   "metadata": {},
   "outputs": [],
   "source": [
    "def segment_pupil_opd(hdu, segment_name):\n",
    "    \"\"\"Extract single segment pupil from input full OPD map\"\"\"\n",
    "    \n",
    "    from webbpsf.webbpsf_core import segname, one_segment_pupil\n",
    "    \n",
    "    if segment_name.upper()=='ALL':\n",
    "        opd_im, opd_header = (hdu.data, hdu.header)\n",
    "\n",
    "        # New Pupil HDUList\n",
    "        hdu = fits.PrimaryHDU(pupil_hdul[0].data)\n",
    "        hdu.header = pupil_hdul[0].header.copy()\n",
    "        pupil_all_hdul = fits.HDUList([hdu])\n",
    "        \n",
    "        # New OPD HDUList\n",
    "        hdu = fits.PrimaryHDU(opd_im * pupil_all_hdul[0].data)\n",
    "        hdu.header = opd_header.copy()\n",
    "        opd_all_hdul = fits.HDUList([hdu])\n",
    "        \n",
    "        return (pupil_all_hdul, opd_all_hdul)\n",
    "\n",
    "    # Parse out segment number\n",
    "    segment_official_name = segname(segment_name)\n",
    "    # Parse out the segment number\n",
    "    num = int(segment_official_name.split('-')[1])\n",
    "    # Index of segment to grab\n",
    "    iseg = num - 1\n",
    "\n",
    "    # Pupil mask of segment only\n",
    "    pupil_seg_hdul = one_segment_pupil(segment_name)\n",
    "    \n",
    "    opd_im, opd_header = (hdu.data, hdu.header)\n",
    "    opd_im_seg = opd_im * pupil_seg_hdul[0].data\n",
    "    \n",
    "    # New Pupil HDUList\n",
    "    hdu = fits.PrimaryHDU(pupil_seg_hdul[0].data)\n",
    "    hdu.header = pupil_seg_hdul[0].header.copy()\n",
    "    pupil_seg_hdul = fits.HDUList([hdu])\n",
    "\n",
    "    # New OPD HDUList\n",
    "    hdu = fits.PrimaryHDU(opd_im_seg * pupil_seg_hdul[0].data)\n",
    "    hdu.header = opd_header.copy()\n",
    "    opd_seg_hdul = fits.HDUList([hdu])\n",
    "    \n",
    "    return (pupil_seg_hdul, opd_seg_hdul)"
   ]
  },
  {
   "cell_type": "code",
   "execution_count": 6,
   "id": "enabling-methodology",
   "metadata": {},
   "outputs": [],
   "source": [
    "def bias_dark(T=80):\n",
    "    \n",
    "    # Grab the appropriate dark ramp\n",
    "    sca = 485\n",
    "    dark_dir = 'NRC_80K/'\n",
    "    dark_files = [f for f in os.listdir(dark_dir)]\n",
    "    matching = [s for s in dark_files if ((\"_{}_\".format(sca) in s) and (s.endswith(\".fits\")))]\n",
    "    fname = dark_dir + matching[0]\n",
    "\n",
    "    # Open the 80K dark fits\n",
    "    hdul = fits.open(fname)\n",
    "\n",
    "    header = hdul[0].header\n",
    "    nint   = header['NINT']\n",
    "    ng     = header['NGROUP']\n",
    "\n",
    "    # Reference pixel correction\n",
    "    data_mn = np.zeros([ng,2048,2048])\n",
    "    for i in range(nint):\n",
    "        data_int = hdul[0].data[i*ng:(i+1)*ng]\n",
    "        ref = NRC_refs(data_int, header)\n",
    "        ref.calc_avg_amps()\n",
    "        ref.correct_amp_refs()\n",
    "\n",
    "        data_mn += ref.data\n",
    "\n",
    "    data_mn /= nint\n",
    "    hdul.close()\n",
    "\n",
    "    # Perform linear fit to averaged ramps\n",
    "    det = ref.detector\n",
    "    tarr = (np.arange(det.multiaccum.ngroup)+1) * ref.detector.time_group\n",
    "    bias_80K, dark_80K = nrc_utils.jl_poly_fit(tarr, data_mn)\n",
    "    \n",
    "    # pynrc data path\n",
    "    pynrc_data_path = pynrc.conf.PYNRC_PATH\n",
    "    \n",
    "    # calib sub-directory info for dark and bias\n",
    "    subdir_dark = os.path.join('calib', f'{sca}', 'SUPER_DARK')\n",
    "    subdir_bias = os.path.join('calib', f'{sca}', 'SUPER_BIAS')\n",
    "\n",
    "    # file names\n",
    "    file_dark0 = f'SUPER_DARK_{sca}.FITS'\n",
    "    file_bias0 = f'SUPER_BIAS_{sca}.FITS'\n",
    "\n",
    "    # Full paths\n",
    "    path_dark0 = os.path.join(pynrc_data_path, subdir_dark, file_dark0)\n",
    "    path_bias0 = os.path.join(pynrc_data_path, subdir_bias, file_bias0)\n",
    "    \n",
    "    hdul_dark0 = fits.open(path_dark0)\n",
    "    hdul_bias0 = fits.open(path_bias0)\n",
    "    \n",
    "    dark0 = hdul_dark0[0].data\n",
    "    bias0 = hdul_bias0[0].data\n",
    "    \n",
    "    # Some interpolation/extrapolation\n",
    "    # Assume linear with log(dark) vs 1/T (Rule07 relationship)\n",
    "    f = ((1/T - 1/39) / (1/80 - 1/39))\n",
    "    dark_new = 10**(np.log10(dark_80K)*f + np.log10(dark0)*(1-f))\n",
    "    # Assume bias offset is linear with temperature \n",
    "    f = ((T-39.0) / (80.0-39.0))\n",
    "    bias_new = (bias_80K*f + bias0*(1-f))\n",
    "    \n",
    "    hdul_dark0.close()\n",
    "    hdul_bias0.close()\n",
    "    \n",
    "    return (bias_new, dark_new)"
   ]
  },
  {
   "cell_type": "markdown",
   "id": "extensive-broadcast",
   "metadata": {},
   "source": [
    "## OTE Ice Observations\n",
    "\n",
    "1. Post LOS-02 pointing and background check **(L+40; OTE = Initial Deployment)**\n",
    " 1. 31: Pointing Pre-Check (HD 84406)\n",
    " 1. 32: Bgrd Levels Sub256 Pre-Check (HD 84406)\n",
    " 1. 33: Star Levels Sub256 Pre-Check (HD 84406)\n",
    " 1. 34: Bgrd Levels Sub64 Pre-Check (HD 84406)\n",
    " 1. 35: Dark and Bias Pre-Check\n",
    "1. Analysis Time **(6 hours)**\n",
    "1. Pre FSM heater off NIRCam with Beam Probing **(L+40; OTE = Initial Deployment)**\n",
    " 1. 1: LW Grism Ice Monitor #1 Mod-A 256 subarray (HD 84406)\n",
    " 1. 22: Module A GrismR -V2 1 column 2 pts (HD 84406)\n",
    " 1. 23: Module A GrismC +V2 1 pt (HD 84406)\n",
    " 1. 24: Module B GrismR 256 subarray (HD 84406)\n",
    " 1. 25: Module B GrismR +V2 1 column 2 pts (HD 84406)\n",
    " 1. 26: Module B GrismC -V2 1 pt (HD 84406)\n",
    "1. Post-FSM heater off NIRCam Observations\n",
    " 1. 2: LW Grism Ice Monitor #2 (HD 84406) **(L+43; OTE = Initial Deployment)**\n",
    " 1. 3: LW Grism Ice Monitor #3 (HD 84406) **(L+47; OTE = Segment Image Array 1)**\n",
    " 1. 4: LW Grism Ice Monitor #4 (HD 84406) **(L+50; OTE = Global Alignment 1)**\n",
    " 1. 5: LW Grism Ice Monitor #5 (BD+86-189) **(L+54; OTE = Image Stacking 1)**\n",
    " 1. 6: LW Grism Ice Monitor #6 (TYC-8558-1141-1) **(L+58; OTE = Coarse Phasing 1)**\n",
    " 1. 7: LW Grism Ice Monitor #7 (GCRV-21765) **(L+67; OTE = Fine Phasing 1)**\n",
    " 1. 8: LW Grism Ice Monitor #8 (GCRV-21765) **(L+77; OTE = MIMF)**\n",
    " 1. 9: LW Grism Ice Monitor #9 (GCRV-21765) **(L+96; OTE = MIMF)**"
   ]
  },
  {
   "cell_type": "code",
   "execution_count": 7,
   "id": "functional-dining",
   "metadata": {},
   "outputs": [],
   "source": [
    "# opd_dir = '/Users/jarron/NIRCam/Data/OTE_OPDs/'\n",
    "opd_dir = '/data/NIRData/NIRCam/OTE_OPDs/'\n",
    "\n",
    "# 10 total observations, split into 5 pairs\n",
    "obs_dict = {}\n",
    "\n",
    "# L+40 - Use a segment from Deployment_OPDs[7]\n",
    "hdul = fits.open(opd_dir + 'Deployment_OPDs.fits')\n",
    "opd_single = segment_pupil_opd(hdul[7], 'A3')\n",
    "# Post LOS-02 pointing and background check\n",
    "obs_dict['031:001'] = {'opd': opd_single, 'jsig': 0.1, 'temp':86, 'day':'L+40', 'time':'12:00:00'}\n",
    "obs_dict['032:001'] = {'opd': opd_single, 'jsig': 0.1, 'temp':86, 'day':'L+40', 'time':'13:00:00'}\n",
    "obs_dict['033:001'] = {'opd': opd_single, 'jsig': 0.1, 'temp':86, 'day':'L+40', 'time':'14:00:00'}\n",
    "obs_dict['034:001'] = {'opd': opd_single, 'jsig': 0.1, 'temp':86, 'day':'L+40', 'time':'15:00:00'}\n",
    "#obs_dict['035:001'] = {'opd': opd_single, 'jsig': 0.1, 'temp':86, 'day':'L+40', 'time':'16:00:00'}\n",
    "# Pre FSM heater off NIRCam with Beam Probing\n",
    "obs_dict['001:001'] = {'opd': opd_single, 'jsig': 0.1, 'temp':84, 'day':'L+40', 'time':'17:00:00'}\n",
    "obs_dict['022:001'] = {'opd': opd_single, 'jsig': 0.1, 'temp':84, 'day':'L+40', 'time':'18:00:00'}\n",
    "obs_dict['023:001'] = {'opd': opd_single, 'jsig': 0.1, 'temp':84, 'day':'L+40', 'time':'19:00:00'}\n",
    "obs_dict['024:001'] = {'opd': opd_single, 'jsig': 0.1, 'temp':84, 'day':'L+40', 'time':'20:00:00'}\n",
    "obs_dict['025:001'] = {'opd': opd_single, 'jsig': 0.1, 'temp':84, 'day':'L+40', 'time':'21:00:00'}\n",
    "obs_dict['026:001'] = {'opd': opd_single, 'jsig': 0.1, 'temp':84, 'day':'L+40', 'time':'22:00:00'}\n",
    "# L+43 - Initial Deployment\n",
    "obs_dict['002:001']  = {'opd': opd_single, 'jsig': 0.1, 'temp':80, 'day':'L+43'}\n",
    "\n",
    "# L+47 - Segment Image Array 1\n",
    "hdul = fits.open(opd_dir + 'MM_WAS-GLOBAL_ALIGNMENT_small_WITH_TT_R2017102404.fits')\n",
    "obs_dict['003:001']  = {'opd': segment_pupil_opd(hdul[0], 'ALL'), 'jsig': 0.1, 'temp':60, 'day':'L+47'}\n",
    "\n",
    "# L+50 - Global Alignment 1\n",
    "hdul = fits.open(opd_dir + 'MM_WAS-GLOBAL_ALIGNMENT_small_WITH_TT_N2017112103.fits')\n",
    "obs_dict['004:001']  = {'opd': segment_pupil_opd(hdul[0], 'ALL'), 'jsig': 0.01, 'temp':50, 'day':'L+50'}\n",
    "\n",
    "# L+54 - Image Stacking 1\n",
    "hdul = fits.open(opd_dir + 'MM_COARSE_MIMF_N2017102403.fits')\n",
    "obs_dict['005:001']  = {'opd': segment_pupil_opd(hdul[0], 'ALL'), 'jsig': 0.01, 'temp':45, 'day':'L+54'}\n",
    "\n",
    "# L+58 - Coarse Phasing 1 (stacked)\n",
    "hdul = fits.open(opd_dir + 'MM_COARSE_MIMF_R201710240A.fits')\n",
    "obs_dict['006:001']  = {'opd': segment_pupil_opd(hdul[0], 'ALL'), 'jsig': 0.01, 'temp':42, 'day':'L+58'}\n",
    "\n",
    "# L+67 - Fine Phasing 1 (stacked)\n",
    "hdul = fits.open(opd_dir + 'MM_WAS-GLOBAL_ALIGNMENT_WO_TT_R2017112104.fits')\n",
    "obs_dict['007:001']  = {'opd': segment_pupil_opd(hdul[0], 'ALL'), 'jsig': 0.01, 'temp':40, 'day':'L+67'}\n",
    "\n",
    "# L+77/96 - MIMF\n",
    "hdul = fits.open(opd_dir + 'MM_FINE_PHASING_R2017120405.fits')\n",
    "obs_dict['008:001']  = {'opd': segment_pupil_opd(hdul[0], 'ALL'), 'jsig': 0.01, 'temp':40, 'day':'L+77'}\n",
    "obs_dict['009:001']  = {'opd': segment_pupil_opd(hdul[0], 'ALL'), 'jsig': 0.01, 'temp':39, 'day':'L+96'}"
   ]
  },
  {
   "cell_type": "code",
   "execution_count": 42,
   "id": "bdd4959b",
   "metadata": {},
   "outputs": [
    {
     "data": {
      "text/plain": [
       "{'obs_num': 9,\n",
       " 'visit_num': 1,\n",
       " 'visit_start': 3729,\n",
       " 'slew_duration': 1800,\n",
       " 'visit_duration': 1516,\n",
       " 'exp_start_times': array([6043, 6576]),\n",
       " 'APTTemplate': 'NircamEngineeringImaging',\n",
       " 'PrimaryDitherType': array(['NONE', 'NONE'], dtype='<U4'),\n",
       " 'PrimaryDithers': array(['NONE', 'NONE'], dtype='<U4'),\n",
       " 'DitherSize': array(['NONE', 'NONE'], dtype='<U4'),\n",
       " 'SubpixelPositions': array(['1', '1'], dtype='<U1'),\n",
       " 'SubpixelDitherType': array(['STANDARD', 'STANDARD'], dtype='<U8'),\n",
       " 'SmallGridDitherType': array(['NONE', 'NONE'], dtype='<U4'),\n",
       " 'DitherPatternType': array(['NONE', 'NONE'], dtype='<U4'),\n",
       " 'ImageDithers': array(['NONE', 'NONE'], dtype='<U4'),\n",
       " 'number_of_dithers': array(['1', '1'], dtype='<U1'),\n",
       " 'rand_seed_dith': 2019315308,\n",
       " 'rand_seed_noise': 1091276907,\n",
       " 'TargetID': array(['GCRV-21765', 'GCRV-21765'], dtype='<U15'),\n",
       " 'TargetRA': array(['05:49:53.4300', '05:49:53.4300'], dtype='<U13'),\n",
       " 'TargetDec': array(['-64:32:24.00', '-64:32:24.00'], dtype='<U12'),\n",
       " 'aperture': array([['NRCA1_GRISMTS256', 'NRCA2_GRISMTS256', 'NRCA3_GRISMTS256',\n",
       "         'NRCA4_GRISMTS256', 'NRCA5_GRISM256_F322W2'],\n",
       "        ['NRCA1_GRISMTS256', 'NRCA2_GRISMTS256', 'NRCA3_GRISMTS256',\n",
       "         'NRCA4_GRISMTS256', 'NRCA5_GRISM256_F322W2']], dtype='<U21'),\n",
       " 'pri_dith': array([1, 1]),\n",
       " 'sub_dith': array([1, 1]),\n",
       " 'targ1': array([11, 11]),\n",
       " 'targ2': array(['GCRV-21', 'GCRV-21'], dtype='<U8'),\n",
       " 'ra': array([87.47263, 87.47263]),\n",
       " 'dec': array([-64.54, -64.54]),\n",
       " 'basex': array([0., 0.]),\n",
       " 'basey': array([5., 5.]),\n",
       " 'dithx': array([ 0.029, -0.029]),\n",
       " 'dithy': array([-4.095,  4.095]),\n",
       " 'v2': array([50.742, 50.832]),\n",
       " 'v3': array([-555.571, -547.382]),\n",
       " 'idlx': array([ 0.029, -0.029]),\n",
       " 'idly': array([0.905, 9.095]),\n",
       " 'obs_label': array(['LW Grism Ice Monitor #9', 'LW Grism Ice Monitor #9'], dtype='<U42'),\n",
       " 'obs_id_info': array([{'program_number': '01409', 'observation_number': '009', 'visit_number': '001', 'visit_group': '02', 'sequence_id': '1', 'activity_id': '01', 'exposure_number': '00001', 'visit_id': '01409009001', 'obs_id': 'V01409009001P0000000002101'},\n",
       "        {'program_number': '01409', 'observation_number': '009', 'visit_number': '001', 'visit_group': '02', 'sequence_id': '1', 'activity_id': '01', 'exposure_number': '00002', 'visit_id': '01409009001', 'obs_id': 'V01409009001P0000000002101'}],\n",
       "       dtype=object),\n",
       " 'level': array(['TARGET', 'TILE'], dtype='<U6'),\n",
       " 'type': array(['SCIENCE', 'SCIENCE'], dtype='<U7'),\n",
       " 'ddist': array([0.  , 8.19]),\n",
       " 'ModuleAPT': array(['A', 'A'], dtype='<U1'),\n",
       " 'sw_filters': array(['CLEAR', 'CLEAR'], dtype='<U5'),\n",
       " 'sw_pupils': array(['WLP4', 'WLP4'], dtype='<U5'),\n",
       " 'lw_filters': array(['F322W2', 'F322W2'], dtype='<U6'),\n",
       " 'lw_pupils': array(['GRISMR', 'GRISMR'], dtype='<U6'),\n",
       " 'coron_mask': array(['NONE', 'NONE'], dtype='<U4'),\n",
       " 'mode': array(['imaging', 'imaging'], dtype='<U7'),\n",
       " 'subarray_name': array(['SUBGRISM256', 'SUBGRISM256'], dtype='<U11'),\n",
       " 'readout': array(['RAPID', 'RAPID'], dtype='<U5'),\n",
       " 'nints': array(['10', '10'], dtype='<U2'),\n",
       " 'ngroups': array(['5', '5'], dtype='<U1'),\n",
       " 'noutputs': array([1, 1]),\n",
       " 'detectors': array([['NRCA1', 'NRCA2', 'NRCA3', 'NRCA4', 'NRCA5'],\n",
       "        ['NRCA1', 'NRCA2', 'NRCA3', 'NRCA4', 'NRCA5']], dtype='<U5')}"
      ]
     },
     "execution_count": 42,
     "metadata": {},
     "output_type": "execute_result"
    }
   ],
   "source": [
    "visits[vkey]"
   ]
  },
  {
   "cell_type": "code",
   "execution_count": 43,
   "id": "female-species",
   "metadata": {
    "scrolled": false
   },
   "outputs": [],
   "source": [
    "apt_dir = '../../APT_output/'\n",
    "\n",
    "xml_file      = os.path.join(apt_dir, 'pid1409.xml')\n",
    "pointing_file = os.path.join(apt_dir, 'pid1409.pointing')\n",
    "json_file     = os.path.join(apt_dir, 'pid1409.timing.json')\n",
    "sm_acct_file  = os.path.join(apt_dir, 'pid1409.smart_accounting')\n",
    "\n",
    "from pynrc.simul import apt\n",
    "apt_obj = apt.DMS_input(xml_file, pointing_file, json_file, sm_acct_file, obs_date='2022-01-20')\n",
    "visits = apt_obj.program_info\n",
    "\n",
    "# Create obs params for all LW observations only\n",
    "for vkey in obs_dict.keys():\n",
    "    visit = visits[vkey]\n",
    "    \n",
    "    index = 1 if 'SUBGRISM256' in visit['subarray_name'] else 0\n",
    "    oid = visit['obs_id_info'][index]\n",
    "    mod = visit['ModuleAPT'][index]\n",
    "    \n",
    "    detid = 485 if mod=='A' else 490\n",
    "    exp_id = oid['exposure_number']\n",
    "    grp_id = oid['visit_group']\n",
    "    seq_id = oid['sequence_id']\n",
    "    act_id = oid['activity_id']\n",
    "    \n",
    "    obs_params = apt_obj.gen_obs_params(vkey, exp_id, detid, grp_id=grp_id, \n",
    "                                        seq_id=seq_id, act_id=act_id)\n",
    "    # Store in obs_dict\n",
    "    obs_dict[vkey]['obs_params'] = obs_params"
   ]
  },
  {
   "cell_type": "code",
   "execution_count": 73,
   "id": "38153de7",
   "metadata": {},
   "outputs": [
    {
     "data": {
      "text/plain": [
       "{'pi_name': 'Erin Smith',\n",
       " 'title': 'CAR_NIRCAM-0035: NIRCAM Ice Measurement',\n",
       " 'category': 'COM',\n",
       " 'sub_category': 'NIRCAM',\n",
       " 'science_category': 'Stellar Physics',\n",
       " 'target_name': 'HD-84406',\n",
       " 'catalog_name': 'UNKNOWN',\n",
       " 'ra': 146.8762375,\n",
       " 'dec': 63.24721111111111,\n",
       " 'pa_v3': 212.32779552207649,\n",
       " 'roll_offset': 0,\n",
       " 'solar_elong': 133.7719052991787,\n",
       " 'pitch_ang': 43.77190529917871,\n",
       " 'siaf_ap': <pysiaf.Aperture object AperName=NRCA5_GRISM256_F322W2 >,\n",
       " 'ra_obs': 146.88037240158428,\n",
       " 'dec_obs': 63.25009953714618,\n",
       " 'siaf_ap_ref': <pysiaf.Aperture object AperName=NRCA5_GRISM256_F322W2 >,\n",
       " 'ra_ref': 146.88037240158428,\n",
       " 'dec_ref': 63.25009953714618,\n",
       " 'date-obs': '2022-01-20',\n",
       " 'time-obs': '12:00:00.000',\n",
       " 'obs_id_info': {'program_number': '01409',\n",
       "  'observation_number': '001',\n",
       "  'visit_number': '001',\n",
       "  'visit_group': '02',\n",
       "  'sequence_id': '1',\n",
       "  'activity_id': '01',\n",
       "  'exposure_number': '00002',\n",
       "  'visit_id': '01409001001',\n",
       "  'obs_id': 'V01409001001P0000000002101'},\n",
       " 'obs_label': 'LW Grism Ice Monitor #1 Mod-A 256 subarray',\n",
       " 'texp_start_relative': 25928,\n",
       " 'visit_start_relative': 23416,\n",
       " 'det_obj': <pynrc.pynrc_core.DetectorOps at 0x7f7484b6cc40>,\n",
       " 'module': 'A',\n",
       " 'channel': 'LONG',\n",
       " 'detector': 'NRCALONG',\n",
       " 'filter': 'F322W2',\n",
       " 'pupil': 'GRISMR',\n",
       " 'coron_mask': 'NONE',\n",
       " 'visit_level': 'TILE',\n",
       " 'visit_type': 'SCIENCE',\n",
       " 'visit_mode': 'wfss',\n",
       " 'exp_type': 'NRC_IMAGE',\n",
       " 'subarray_name': 'SUBGRISM256',\n",
       " 'xstart': 1,\n",
       " 'ystart': 1,\n",
       " 'xsize': 2048,\n",
       " 'ysize': 256,\n",
       " 'fastaxis': -1,\n",
       " 'slowaxis': 2,\n",
       " 'noutputs': 1,\n",
       " 'readpatt': 'RAPID',\n",
       " 'nframes': 1,\n",
       " 'ngroups': 5,\n",
       " 'nints': 10,\n",
       " 'sample_time': 10,\n",
       " 'frame_time': 5.3148,\n",
       " 'group_time': 5.3148,\n",
       " 'groupgap': 0,\n",
       " 'nresets1': 1,\n",
       " 'nresets2': 1,\n",
       " 'integration_time': 26.574,\n",
       " 'exposure_time': 265.74,\n",
       " 'tint_plus_overhead': 31.8888,\n",
       " 'texp_plus_overhead': 318.888,\n",
       " 'int_times': array([( 1, 59599.80009259, 59599.80024638, 59599.80040016, 59599.80009259, 59599.80024638, 59599.80040016),\n",
       "        ( 2, 59599.80046168, 59599.80061546, 59599.80076925, 59599.80046168, 59599.80061546, 59599.80076925),\n",
       "        ( 3, 59599.80083076, 59599.80098454, 59599.80113833, 59599.80083076, 59599.80098454, 59599.80113833),\n",
       "        ( 4, 59599.80119984, 59599.80135363, 59599.80150741, 59599.80119984, 59599.80135363, 59599.80150741),\n",
       "        ( 5, 59599.80156893, 59599.80172271, 59599.8018765 , 59599.80156893, 59599.80172271, 59599.8018765 ),\n",
       "        ( 6, 59599.80193801, 59599.80209179, 59599.80224558, 59599.80193801, 59599.80209179, 59599.80224558),\n",
       "        ( 7, 59599.80230709, 59599.80246088, 59599.80261466, 59599.80230709, 59599.80246088, 59599.80261466),\n",
       "        ( 8, 59599.80267618, 59599.80282996, 59599.80298375, 59599.80267618, 59599.80282996, 59599.80298375),\n",
       "        ( 9, 59599.80304526, 59599.80319904, 59599.80335283, 59599.80304526, 59599.80319904, 59599.80335283),\n",
       "        (10, 59599.80341434, 59599.80356813, 59599.80372191, 59599.80341434, 59599.80356813, 59599.80372191)],\n",
       "       dtype=[('integration_number', '<i2'), ('int_start_MJD_UTC', '<f8'), ('int_mid_MJD_UTC', '<f8'), ('int_end_MJD_UTC', '<f8'), ('int_start_BJD_TDB', '<f8'), ('int_mid_BJD_TDB', '<f8'), ('int_end_BJD_TDB', '<f8')]),\n",
       " 'integration_start': 1,\n",
       " 'integration_end': 10,\n",
       " 'group_times': array([[( 1, 1, 750, 69452202, 799, b'2022-01-20T19:17:32.203', 256, 2048, 0, 0, b'Normal Completion', 59599.80384494, 59599.80384494)],\n",
       "        [( 1, 2, 750, 69457517, 599, b'2022-01-20T19:17:37.518', 256, 2048, 0, 0, b'Normal Completion', 59599.80390645, 59599.80390645)],\n",
       "        [( 1, 3, 750, 69462832, 400, b'2022-01-20T19:17:42.832', 256, 2048, 0, 0, b'Normal Completion', 59599.80396797, 59599.80396797)],\n",
       "        [( 1, 4, 750, 69468147, 200, b'2022-01-20T19:17:48.147', 256, 2048, 0, 0, b'Normal Completion', 59599.80402948, 59599.80402948)],\n",
       "        [( 1, 5, 750, 69473462,   0, b'2022-01-20T19:17:53.462', 256, 2048, 0, 0, b'Normal Completion', 59599.804091  , 59599.804091  )],\n",
       "        [( 2, 1, 750, 69484091, 599, b'2022-01-20T19:18:04.092', 256, 2048, 0, 0, b'Normal Completion', 59599.80421402, 59599.80421402)],\n",
       "        [( 2, 2, 750, 69489406, 399, b'2022-01-20T19:18:09.406', 256, 2048, 0, 0, b'Normal Completion', 59599.80427554, 59599.80427554)],\n",
       "        [( 2, 3, 750, 69494721, 200, b'2022-01-20T19:18:14.721', 256, 2048, 0, 0, b'Normal Completion', 59599.80433705, 59599.80433705)],\n",
       "        [( 2, 4, 750, 69500036,   0, b'2022-01-20T19:18:20.036', 256, 2048, 0, 0, b'Normal Completion', 59599.80439856, 59599.80439856)],\n",
       "        [( 2, 5, 750, 69505350, 800, b'2022-01-20T19:18:25.351', 256, 2048, 0, 0, b'Normal Completion', 59599.80446008, 59599.80446008)],\n",
       "        [( 3, 1, 750, 69515980, 399, b'2022-01-20T19:18:35.980', 256, 2048, 0, 0, b'Normal Completion', 59599.80458311, 59599.80458311)],\n",
       "        [( 3, 2, 750, 69521295, 199, b'2022-01-20T19:18:41.295', 256, 2048, 0, 0, b'Normal Completion', 59599.80464462, 59599.80464462)],\n",
       "        [( 3, 3, 750, 69526610,   0, b'2022-01-20T19:18:46.610', 256, 2048, 0, 0, b'Normal Completion', 59599.80470613, 59599.80470613)],\n",
       "        [( 3, 4, 750, 69531924, 800, b'2022-01-20T19:18:51.925', 256, 2048, 0, 0, b'Normal Completion', 59599.80476765, 59599.80476765)],\n",
       "        [( 3, 5, 750, 69537239, 599, b'2022-01-20T19:18:57.240', 256, 2048, 0, 0, b'Normal Completion', 59599.80482916, 59599.80482916)],\n",
       "        [( 4, 1, 750, 69547869, 199, b'2022-01-20T19:19:07.869', 256, 2048, 0, 0, b'Normal Completion', 59599.80495219, 59599.80495219)],\n",
       "        [( 4, 2, 750, 69553184,   0, b'2022-01-20T19:19:13.184', 256, 2048, 0, 0, b'Normal Completion', 59599.8050137 , 59599.8050137 )],\n",
       "        [( 4, 3, 750, 69558498, 800, b'2022-01-20T19:19:18.499', 256, 2048, 0, 0, b'Normal Completion', 59599.80507522, 59599.80507522)],\n",
       "        [( 4, 4, 750, 69563813, 600, b'2022-01-20T19:19:23.814', 256, 2048, 0, 0, b'Normal Completion', 59599.80513673, 59599.80513673)],\n",
       "        [( 4, 5, 750, 69569128, 399, b'2022-01-20T19:19:29.128', 256, 2048, 0, 0, b'Normal Completion', 59599.80519825, 59599.80519825)],\n",
       "        [( 5, 1, 750, 69579757, 999, b'2022-01-20T19:19:39.758', 256, 2048, 0, 0, b'Normal Completion', 59599.80532127, 59599.80532127)],\n",
       "        [( 5, 2, 750, 69585072, 800, b'2022-01-20T19:19:45.073', 256, 2048, 0, 0, b'Normal Completion', 59599.80538279, 59599.80538279)],\n",
       "        [( 5, 3, 750, 69590387, 600, b'2022-01-20T19:19:50.388', 256, 2048, 0, 0, b'Normal Completion', 59599.8054443 , 59599.8054443 )],\n",
       "        [( 5, 4, 750, 69595702, 400, b'2022-01-20T19:19:55.702', 256, 2048, 0, 0, b'Normal Completion', 59599.80550581, 59599.80550581)],\n",
       "        [( 5, 5, 750, 69601017, 199, b'2022-01-20T19:20:01.017', 256, 2048, 0, 0, b'Normal Completion', 59599.80556733, 59599.80556733)],\n",
       "        [( 6, 1, 750, 69611646, 799, b'2022-01-20T19:20:11.647', 256, 2048, 0, 0, b'Normal Completion', 59599.80569036, 59599.80569036)],\n",
       "        [( 6, 2, 750, 69616961, 600, b'2022-01-20T19:20:16.962', 256, 2048, 0, 0, b'Normal Completion', 59599.80575187, 59599.80575187)],\n",
       "        [( 6, 3, 750, 69622276, 400, b'2022-01-20T19:20:22.276', 256, 2048, 0, 0, b'Normal Completion', 59599.80581338, 59599.80581338)],\n",
       "        [( 6, 4, 750, 69627591, 200, b'2022-01-20T19:20:27.591', 256, 2048, 0, 0, b'Normal Completion', 59599.8058749 , 59599.8058749 )],\n",
       "        [( 6, 5, 750, 69632905, 999, b'2022-01-20T19:20:32.906', 256, 2048, 0, 0, b'Normal Completion', 59599.80593641, 59599.80593641)],\n",
       "        [( 7, 1, 750, 69643535, 600, b'2022-01-20T19:20:43.536', 256, 2048, 0, 0, b'Normal Completion', 59599.80605944, 59599.80605944)],\n",
       "        [( 7, 2, 750, 69648850, 400, b'2022-01-20T19:20:48.850', 256, 2048, 0, 0, b'Normal Completion', 59599.80612095, 59599.80612095)],\n",
       "        [( 7, 3, 750, 69654165, 200, b'2022-01-20T19:20:54.165', 256, 2048, 0, 0, b'Normal Completion', 59599.80618247, 59599.80618247)],\n",
       "        [( 7, 4, 750, 69659479, 999, b'2022-01-20T19:20:59.480', 256, 2048, 0, 0, b'Normal Completion', 59599.80624398, 59599.80624398)],\n",
       "        [( 7, 5, 750, 69664794, 799, b'2022-01-20T19:21:04.795', 256, 2048, 0, 0, b'Normal Completion', 59599.8063055 , 59599.8063055 )],\n",
       "        [( 8, 1, 750, 69675424, 400, b'2022-01-20T19:21:15.424', 256, 2048, 0, 0, b'Normal Completion', 59599.80642852, 59599.80642852)],\n",
       "        [( 8, 2, 750, 69680739, 200, b'2022-01-20T19:21:20.739', 256, 2048, 0, 0, b'Normal Completion', 59599.80649004, 59599.80649004)],\n",
       "        [( 8, 3, 750, 69686054,   0, b'2022-01-20T19:21:26.054', 256, 2048, 0, 0, b'Normal Completion', 59599.80655155, 59599.80655155)],\n",
       "        [( 8, 4, 750, 69691368, 799, b'2022-01-20T19:21:31.369', 256, 2048, 0, 0, b'Normal Completion', 59599.80661306, 59599.80661306)],\n",
       "        [( 8, 5, 750, 69696683, 599, b'2022-01-20T19:21:36.684', 256, 2048, 0, 0, b'Normal Completion', 59599.80667458, 59599.80667458)],\n",
       "        [( 9, 1, 750, 69707313, 200, b'2022-01-20T19:21:47.313', 256, 2048, 0, 0, b'Normal Completion', 59599.80679761, 59599.80679761)],\n",
       "        [( 9, 2, 750, 69712628,   0, b'2022-01-20T19:21:52.628', 256, 2048, 0, 0, b'Normal Completion', 59599.80685912, 59599.80685912)],\n",
       "        [( 9, 3, 750, 69717942, 800, b'2022-01-20T19:21:57.943', 256, 2048, 0, 0, b'Normal Completion', 59599.80692063, 59599.80692063)],\n",
       "        [( 9, 4, 750, 69723257, 599, b'2022-01-20T19:22:03.258', 256, 2048, 0, 0, b'Normal Completion', 59599.80698215, 59599.80698215)],\n",
       "        [( 9, 5, 750, 69728572, 399, b'2022-01-20T19:22:08.572', 256, 2048, 0, 0, b'Normal Completion', 59599.80704366, 59599.80704366)],\n",
       "        [(10, 1, 750, 69739202,   0, b'2022-01-20T19:22:19.202', 256, 2048, 0, 0, b'Normal Completion', 59599.80716669, 59599.80716669)],\n",
       "        [(10, 2, 750, 69744516, 800, b'2022-01-20T19:22:24.517', 256, 2048, 0, 0, b'Normal Completion', 59599.8072282 , 59599.8072282 )],\n",
       "        [(10, 3, 750, 69749831, 599, b'2022-01-20T19:22:29.832', 256, 2048, 0, 0, b'Normal Completion', 59599.80728972, 59599.80728972)],\n",
       "        [(10, 4, 750, 69755146, 399, b'2022-01-20T19:22:35.146', 256, 2048, 0, 0, b'Normal Completion', 59599.80735123, 59599.80735123)],\n",
       "        [(10, 5, 750, 69760461, 199, b'2022-01-20T19:22:40.461', 256, 2048, 0, 0, b'Normal Completion', 59599.80741275, 59599.80741275)]],\n",
       "       dtype=[('integration_number', '<i2'), ('group_number', '<i2'), ('end_day', '<i2'), ('end_milliseconds', '<i4'), ('end_submilliseconds', '<i2'), ('group_end_time', 'S26'), ('number_of_columns', '<i2'), ('number_of_rows', '<i2'), ('number_of_gaps', '<i2'), ('completion_code_number', '<i2'), ('completion_code_text', 'S36'), ('bary_end_time', '<f8'), ('helio_end_time', '<f8')]),\n",
       " 'pridith_pattern_type': 'NONE',\n",
       " 'pridith_points_packing': 'NONE',\n",
       " 'pridith_npoints': 'NONE',\n",
       " 'position_number': 1,\n",
       " 'pattern_start': 1,\n",
       " 'total_points': '1',\n",
       " 'dither_points': '1',\n",
       " 'pattern_size': 'NONE',\n",
       " 'sgd_pattern': 'NONE',\n",
       " 'subpixel_number': 1,\n",
       " 'subpixel_total_points': 1,\n",
       " 'subpixel_pattern': 'STANDARD',\n",
       " 'x_offset': -0.052,\n",
       " 'y_offset': 12.37,\n",
       " 'EXSEGNUM': None,\n",
       " 'EXSEGTOT': None,\n",
       " 'filename': 'jw01409001001_02101_00002_nrca5_uncal.fits',\n",
       " 'save_dir': None,\n",
       " 'nexposures': 2,\n",
       " 'ddist': 14.741,\n",
       " 'pid': '01409',\n",
       " 'visit_key': '001:001'}"
      ]
     },
     "execution_count": 73,
     "metadata": {},
     "output_type": "execute_result"
    }
   ],
   "source": [
    "d['obs_params']"
   ]
  },
  {
   "cell_type": "code",
   "execution_count": 74,
   "id": "common-focus",
   "metadata": {},
   "outputs": [
    {
     "name": "stdout",
     "output_type": "stream",
     "text": [
      "  Generating Observation...\n"
     ]
    },
    {
     "data": {
      "application/vnd.jupyter.widget-view+json": {
       "model_id": "",
       "version_major": 2,
       "version_minor": 0
      },
      "text/plain": [
       "Single PSFs:   0%|          | 0/21 [00:00<?, ?it/s]"
      ]
     },
     "metadata": {},
     "output_type": "display_data"
    },
    {
     "name": "stdout",
     "output_type": "stream",
     "text": [
      "  Creating ideal slope image...\n"
     ]
    }
   ],
   "source": [
    "vkey = '001:001'\n",
    "\n",
    "ice_scale=1\n",
    "nvr_scale=0\n",
    "ote_scale=0\n",
    "nc_scale=0\n",
    "spec_ang=0\n",
    "\n",
    "\n",
    "d = obs_dict[vkey]\n",
    "print('  Generating Observation...')\n",
    "\n",
    "obs_params = d['obs_params']\n",
    "filt       = obs_params['filter']\n",
    "pupil_mask = obs_params['pupil']\n",
    "image_mask = None if obs_params['coron_mask']=='NONE' else obs_params['coron_mask']\n",
    "apname     = obs_params['siaf_ap'].AperName\n",
    "\n",
    "input_pupil_hdul, input_opd_hdul = d['opd']\n",
    "jsig = d['jsig']\n",
    "d['ice_scale'] = ice_scale\n",
    "d['nvr_scale'] = nvr_scale\n",
    "d['ote_scale'] = ote_scale\n",
    "d['nc_scale'] = nc_scale\n",
    "nrc = pynrc.NIRCam(filter=filt, pupil_mask=pupil_mask, image_mask=image_mask,\n",
    "                   fov_pix=257, oversample=2, autogen_coeffs=True,\n",
    "                   ice_scale=d['ice_scale'], nvr_scale=d['nvr_scale'],\n",
    "                   ote_scale=d['ote_scale'], nc_scale=d['nc_scale'],\n",
    "                   pupil=input_pupil_hdul, pupilopd=input_opd_hdul,\n",
    "                   save=False, force=True, quick=True)\n",
    "\n",
    "# Update detector information\n",
    "det = obs_params['det_obj']\n",
    "kw = res = {**det.to_dict(), **det.multiaccum.to_dict()}\n",
    "nrc.update_detectors(**kw)\n",
    "d['nrc'] = nrc\n",
    "\n",
    "# Create ideal spectral slope images\n",
    "#############################################\n",
    "print('  Creating ideal slope image...')\n",
    "\n"
   ]
  },
  {
   "cell_type": "code",
   "execution_count": 65,
   "id": "adjusted-track",
   "metadata": {},
   "outputs": [
    {
     "name": "stderr",
     "output_type": "stream",
     "text": [
      "[     pynrc:WARNING] Unable to convert to J2015.5 epoch. Continuing with J2000.000...\n"
     ]
    },
    {
     "name": "stdout",
     "output_type": "stream",
     "text": [
      "INFO: Query finished. [astroquery.utils.tap.core]\n",
      "[astroquery:INFO] Query finished.\n"
     ]
    },
    {
     "data": {
      "application/vnd.jupyter.widget-view+json": {
       "model_id": "",
       "version_major": 2,
       "version_minor": 0
      },
      "text/plain": [
       "Filters:   0%|          | 0/29 [00:00<?, ?it/s]"
      ]
     },
     "metadata": {},
     "output_type": "display_data"
    },
    {
     "data": {
      "text/html": [
       "<div><i>Table length=118</i>\n",
       "<table id=\"table140138372777440\" class=\"table-striped table-bordered table-condensed\">\n",
       "<thead><tr><th>index</th><th>ra</th><th>dec</th><th>g-band</th><th>dist</th><th>Teff</th><th>Type</th><th>F070W</th><th>F090W</th><th>F115W</th><th>F140M</th><th>F150W</th><th>F150W2</th><th>F162M</th><th>F164N</th><th>F182M</th><th>F187N</th><th>F200W</th><th>F210M</th><th>F212N</th><th>F250M</th><th>F277W</th><th>F300M</th><th>F322W2</th><th>F323N</th><th>F335M</th><th>F356W</th><th>F360M</th><th>F405N</th><th>F410M</th><th>F430M</th><th>F444W</th><th>F460M</th><th>F466N</th><th>F470N</th><th>F480M</th></tr></thead>\n",
       "<thead><tr><th></th><th>deg</th><th>deg</th><th></th><th>arcsec</th><th></th><th></th><th>mag</th><th>mag</th><th>mag</th><th>mag</th><th>mag</th><th>mag</th><th>mag</th><th>mag</th><th>mag</th><th>mag</th><th>mag</th><th>mag</th><th>mag</th><th>mag</th><th>mag</th><th>mag</th><th>mag</th><th>mag</th><th>mag</th><th>mag</th><th>mag</th><th>mag</th><th>mag</th><th>mag</th><th>mag</th><th>mag</th><th>mag</th><th>mag</th><th>mag</th></tr></thead>\n",
       "<thead><tr><th>int64</th><th>float64</th><th>float64</th><th>float32</th><th>float64</th><th>int64</th><th>str6</th><th>float64</th><th>float64</th><th>float64</th><th>float64</th><th>float64</th><th>float64</th><th>float64</th><th>float64</th><th>float64</th><th>float64</th><th>float64</th><th>float64</th><th>float64</th><th>float64</th><th>float64</th><th>float64</th><th>float64</th><th>float64</th><th>float64</th><th>float64</th><th>float64</th><th>float64</th><th>float64</th><th>float64</th><th>float64</th><th>float64</th><th>float64</th><th>float64</th><th>float64</th></tr></thead>\n",
       "<tr><td>1</td><td>146.87623744591286</td><td>63.24721225133015</td><td>6.6714396</td><td>0.02260035494339099</td><td>5000</td><td>star</td><td>6.198</td><td>5.803</td><td>5.448</td><td>5.063</td><td>4.957</td><td>5.063</td><td>4.813</td><td>4.77</td><td>4.769</td><td>4.745</td><td>4.759</td><td>4.745</td><td>4.747</td><td>4.763</td><td>4.735</td><td>4.717</td><td>4.725</td><td>4.72</td><td>4.714</td><td>4.714</td><td>4.713</td><td>4.688</td><td>4.712</td><td>4.73</td><td>4.747</td><td>4.797</td><td>4.765</td><td>4.789</td><td>4.783</td></tr>\n",
       "<tr><td>2</td><td>146.88625206697623</td><td>63.23031409995017</td><td>19.286993</td><td>62.94025971041074</td><td>5800</td><td>star</td><td>18.924</td><td>18.666</td><td>18.439</td><td>18.175</td><td>18.113</td><td>18.201</td><td>18.032</td><td>18.006</td><td>18.016</td><td>18.004</td><td>18.009</td><td>17.999</td><td>18.001</td><td>17.992</td><td>17.985</td><td>17.984</td><td>17.985</td><td>17.987</td><td>17.983</td><td>17.984</td><td>17.983</td><td>17.967</td><td>17.984</td><td>17.987</td><td>17.992</td><td>18.002</td><td>17.976</td><td>17.999</td><td>17.998</td></tr>\n",
       "<tr><td>3</td><td>146.83546409135297</td><td>63.24351246738414</td><td>21.187986</td><td>67.40239504109316</td><td>5800</td><td>galaxy</td><td>20.857</td><td>20.359</td><td>19.822</td><td>19.274</td><td>19.104</td><td>19.0</td><td>18.865</td><td>18.813</td><td>18.522</td><td>18.439</td><td>18.324</td><td>18.161</td><td>18.124</td><td>17.63</td><td>17.367</td><td>17.101</td><td>16.946</td><td>16.86</td><td>16.746</td><td>16.577</td><td>16.51</td><td>16.14</td><td>16.149</td><td>15.991</td><td>15.938</td><td>15.739</td><td>15.695</td><td>15.694</td><td>15.639</td></tr>\n",
       "<tr><td>4</td><td>146.87665965881132</td><td>63.22505672455323</td><td>20.635696</td><td>79.74023413437261</td><td>5800</td><td>galaxy</td><td>20.304</td><td>19.807</td><td>19.269</td><td>18.722</td><td>18.552</td><td>18.448</td><td>18.313</td><td>18.261</td><td>17.969</td><td>17.887</td><td>17.771</td><td>17.608</td><td>17.572</td><td>17.078</td><td>16.814</td><td>16.548</td><td>16.394</td><td>16.308</td><td>16.194</td><td>16.025</td><td>15.958</td><td>15.587</td><td>15.597</td><td>15.438</td><td>15.385</td><td>15.187</td><td>15.143</td><td>15.142</td><td>15.087</td></tr>\n",
       "<tr><td>5</td><td>146.85700424735603</td><td>63.26855068121421</td><td>18.265</td><td>82.91701010680266</td><td>5800</td><td>star</td><td>17.902</td><td>17.644</td><td>17.417</td><td>17.153</td><td>17.091</td><td>17.179</td><td>17.01</td><td>16.984</td><td>16.994</td><td>16.982</td><td>16.987</td><td>16.977</td><td>16.979</td><td>16.97</td><td>16.963</td><td>16.962</td><td>16.963</td><td>16.965</td><td>16.961</td><td>16.962</td><td>16.961</td><td>16.945</td><td>16.962</td><td>16.965</td><td>16.97</td><td>16.98</td><td>16.954</td><td>16.977</td><td>16.976</td></tr>\n",
       "<tr><td>6</td><td>146.839747649046</td><td>63.226869029361694</td><td>20.593788</td><td>94.12336311927024</td><td>5800</td><td>star</td><td>20.231</td><td>19.973</td><td>19.746</td><td>19.482</td><td>19.42</td><td>19.508</td><td>19.339</td><td>19.313</td><td>19.323</td><td>19.31</td><td>19.316</td><td>19.306</td><td>19.308</td><td>19.299</td><td>19.292</td><td>19.29</td><td>19.292</td><td>19.294</td><td>19.29</td><td>19.291</td><td>19.29</td><td>19.274</td><td>19.291</td><td>19.293</td><td>19.299</td><td>19.309</td><td>19.282</td><td>19.306</td><td>19.305</td></tr>\n",
       "<tr><td>7</td><td>146.83979236628306</td><td>63.225828790961565</td><td>19.414185</td><td>97.02129093975873</td><td>5800</td><td>star</td><td>19.051</td><td>18.793</td><td>18.566</td><td>18.302</td><td>18.24</td><td>18.328</td><td>18.159</td><td>18.133</td><td>18.143</td><td>18.131</td><td>18.136</td><td>18.126</td><td>18.128</td><td>18.12</td><td>18.113</td><td>18.111</td><td>18.112</td><td>18.115</td><td>18.111</td><td>18.111</td><td>18.11</td><td>18.094</td><td>18.111</td><td>18.114</td><td>18.12</td><td>18.129</td><td>18.103</td><td>18.127</td><td>18.126</td></tr>\n",
       "<tr><td>8</td><td>146.81491027367022</td><td>63.248098843278306</td><td>20.335503</td><td>99.4317492518226</td><td>5800</td><td>star</td><td>19.972</td><td>19.715</td><td>19.487</td><td>19.223</td><td>19.162</td><td>19.25</td><td>19.08</td><td>19.054</td><td>19.064</td><td>19.052</td><td>19.058</td><td>19.048</td><td>19.05</td><td>19.041</td><td>19.034</td><td>19.032</td><td>19.033</td><td>19.036</td><td>19.032</td><td>19.033</td><td>19.032</td><td>19.015</td><td>19.032</td><td>19.035</td><td>19.041</td><td>19.051</td><td>19.024</td><td>19.048</td><td>19.047</td></tr>\n",
       "<tr><td>9</td><td>146.84507216105203</td><td>63.22047555824038</td><td>18.500904</td><td>108.68805919587979</td><td>5800</td><td>star</td><td>18.138</td><td>17.88</td><td>17.653</td><td>17.389</td><td>17.327</td><td>17.415</td><td>17.246</td><td>17.22</td><td>17.23</td><td>17.217</td><td>17.223</td><td>17.213</td><td>17.215</td><td>17.206</td><td>17.199</td><td>17.198</td><td>17.199</td><td>17.201</td><td>17.197</td><td>17.198</td><td>17.197</td><td>17.181</td><td>17.198</td><td>17.201</td><td>17.206</td><td>17.216</td><td>17.19</td><td>17.213</td><td>17.212</td></tr>\n",
       "<tr><td>10</td><td>146.8471642601339</td><td>63.21919747299996</td><td>20.256378</td><td>111.30423479281406</td><td>5800</td><td>star</td><td>19.893</td><td>19.636</td><td>19.408</td><td>19.144</td><td>19.083</td><td>19.171</td><td>19.001</td><td>18.975</td><td>18.985</td><td>18.973</td><td>18.979</td><td>18.969</td><td>18.97</td><td>18.962</td><td>18.955</td><td>18.953</td><td>18.954</td><td>18.957</td><td>18.953</td><td>18.954</td><td>18.952</td><td>18.936</td><td>18.953</td><td>18.956</td><td>18.962</td><td>18.971</td><td>18.945</td><td>18.969</td><td>18.968</td></tr>\n",
       "<tr><td>11</td><td>146.86500608790175</td><td>63.27800235479358</td><td>20.415066</td><td>112.34941227548765</td><td>5800</td><td>galaxy</td><td>20.084</td><td>19.586</td><td>19.049</td><td>18.501</td><td>18.331</td><td>18.227</td><td>18.092</td><td>18.04</td><td>17.749</td><td>17.666</td><td>17.551</td><td>17.388</td><td>17.351</td><td>16.857</td><td>16.594</td><td>16.328</td><td>16.173</td><td>16.087</td><td>15.974</td><td>15.804</td><td>15.737</td><td>15.367</td><td>15.377</td><td>15.218</td><td>15.165</td><td>14.966</td><td>14.922</td><td>14.921</td><td>14.866</td></tr>\n",
       "<tr><td>12</td><td>146.91699367093452</td><td>63.273804608512435</td><td>20.841105</td><td>116.30601107152627</td><td>5800</td><td>galaxy</td><td>20.51</td><td>20.012</td><td>19.475</td><td>18.927</td><td>18.757</td><td>18.653</td><td>18.518</td><td>18.466</td><td>18.175</td><td>18.092</td><td>17.977</td><td>17.814</td><td>17.778</td><td>17.283</td><td>17.02</td><td>16.754</td><td>16.599</td><td>16.513</td><td>16.4</td><td>16.23</td><td>16.163</td><td>15.793</td><td>15.803</td><td>15.644</td><td>15.591</td><td>15.392</td><td>15.348</td><td>15.347</td><td>15.292</td></tr>\n",
       "<tr><td>...</td><td>...</td><td>...</td><td>...</td><td>...</td><td>...</td><td>...</td><td>...</td><td>...</td><td>...</td><td>...</td><td>...</td><td>...</td><td>...</td><td>...</td><td>...</td><td>...</td><td>...</td><td>...</td><td>...</td><td>...</td><td>...</td><td>...</td><td>...</td><td>...</td><td>...</td><td>...</td><td>...</td><td>...</td><td>...</td><td>...</td><td>...</td><td>...</td><td>...</td><td>...</td><td>...</td></tr>\n",
       "<tr><td>107</td><td>146.6616049426033</td><td>63.246874166923845</td><td>19.820345</td><td>347.81820612969716</td><td>5800</td><td>star</td><td>19.457</td><td>19.2</td><td>18.972</td><td>18.708</td><td>18.647</td><td>18.735</td><td>18.565</td><td>18.539</td><td>18.549</td><td>18.537</td><td>18.543</td><td>18.533</td><td>18.534</td><td>18.526</td><td>18.519</td><td>18.517</td><td>18.518</td><td>18.521</td><td>18.517</td><td>18.518</td><td>18.516</td><td>18.5</td><td>18.517</td><td>18.52</td><td>18.526</td><td>18.535</td><td>18.509</td><td>18.533</td><td>18.532</td></tr>\n",
       "<tr><td>108</td><td>146.76785800209072</td><td>63.330722171347915</td><td>20.731562</td><td>348.06912310059835</td><td>5800</td><td>star</td><td>20.368</td><td>20.111</td><td>19.884</td><td>19.62</td><td>19.558</td><td>19.646</td><td>19.476</td><td>19.45</td><td>19.46</td><td>19.448</td><td>19.454</td><td>19.444</td><td>19.446</td><td>19.437</td><td>19.43</td><td>19.428</td><td>19.429</td><td>19.432</td><td>19.428</td><td>19.429</td><td>19.428</td><td>19.411</td><td>19.428</td><td>19.431</td><td>19.437</td><td>19.447</td><td>19.42</td><td>19.444</td><td>19.443</td></tr>\n",
       "<tr><td>109</td><td>146.9580603342689</td><td>63.15770115700869</td><td>18.618668</td><td>348.51097572616646</td><td>5800</td><td>star</td><td>18.255</td><td>17.998</td><td>17.771</td><td>17.507</td><td>17.445</td><td>17.533</td><td>17.364</td><td>17.338</td><td>17.348</td><td>17.335</td><td>17.341</td><td>17.331</td><td>17.333</td><td>17.324</td><td>17.317</td><td>17.315</td><td>17.316</td><td>17.319</td><td>17.315</td><td>17.316</td><td>17.315</td><td>17.299</td><td>17.316</td><td>17.318</td><td>17.324</td><td>17.334</td><td>17.307</td><td>17.331</td><td>17.33</td></tr>\n",
       "<tr><td>110</td><td>147.01785542884767</td><td>63.17423900736214</td><td>20.205574</td><td>349.00093006666714</td><td>5800</td><td>star</td><td>19.842</td><td>19.585</td><td>19.358</td><td>19.094</td><td>19.032</td><td>19.12</td><td>18.95</td><td>18.924</td><td>18.934</td><td>18.922</td><td>18.928</td><td>18.918</td><td>18.92</td><td>18.911</td><td>18.904</td><td>18.902</td><td>18.903</td><td>18.906</td><td>18.902</td><td>18.903</td><td>18.902</td><td>18.885</td><td>18.902</td><td>18.905</td><td>18.911</td><td>18.921</td><td>18.894</td><td>18.918</td><td>18.917</td></tr>\n",
       "<tr><td>111</td><td>146.9943633208049</td><td>63.16561887921689</td><td>20.431438</td><td>350.7340806522003</td><td>5800</td><td>star</td><td>20.068</td><td>19.811</td><td>19.583</td><td>19.319</td><td>19.258</td><td>19.346</td><td>19.176</td><td>19.15</td><td>19.16</td><td>19.148</td><td>19.154</td><td>19.144</td><td>19.146</td><td>19.137</td><td>19.13</td><td>19.128</td><td>19.129</td><td>19.132</td><td>19.128</td><td>19.129</td><td>19.127</td><td>19.111</td><td>19.128</td><td>19.131</td><td>19.137</td><td>19.146</td><td>19.12</td><td>19.144</td><td>19.143</td></tr>\n",
       "<tr><td>112</td><td>147.0928885249361</td><td>63.25037164853769</td><td>20.595934</td><td>351.2510565288535</td><td>5800</td><td>galaxy</td><td>20.265</td><td>19.767</td><td>19.23</td><td>18.682</td><td>18.512</td><td>18.408</td><td>18.273</td><td>18.221</td><td>17.93</td><td>17.847</td><td>17.732</td><td>17.569</td><td>17.532</td><td>17.038</td><td>16.775</td><td>16.508</td><td>16.354</td><td>16.268</td><td>16.154</td><td>15.985</td><td>15.918</td><td>15.548</td><td>15.557</td><td>15.399</td><td>15.346</td><td>15.147</td><td>15.103</td><td>15.102</td><td>15.047</td></tr>\n",
       "<tr><td>113</td><td>146.8525344449728</td><td>63.15005390058594</td><td>20.663233</td><td>351.857426225564</td><td>5800</td><td>star</td><td>20.3</td><td>20.042</td><td>19.815</td><td>19.551</td><td>19.489</td><td>19.578</td><td>19.408</td><td>19.382</td><td>19.392</td><td>19.38</td><td>19.385</td><td>19.376</td><td>19.377</td><td>19.369</td><td>19.362</td><td>19.36</td><td>19.361</td><td>19.364</td><td>19.36</td><td>19.36</td><td>19.359</td><td>19.343</td><td>19.36</td><td>19.363</td><td>19.369</td><td>19.378</td><td>19.352</td><td>19.376</td><td>19.375</td></tr>\n",
       "<tr><td>114</td><td>146.99015710901222</td><td>63.33147011120179</td><td>15.783197</td><td>354.96826282590484</td><td>3900</td><td>star</td><td>15.202</td><td>14.384</td><td>13.818</td><td>13.326</td><td>13.151</td><td>13.245</td><td>12.914</td><td>12.846</td><td>12.838</td><td>12.805</td><td>12.811</td><td>12.772</td><td>12.766</td><td>12.82</td><td>12.78</td><td>12.758</td><td>12.712</td><td>12.703</td><td>12.661</td><td>12.626</td><td>12.601</td><td>12.544</td><td>12.568</td><td>12.604</td><td>12.626</td><td>12.705</td><td>12.668</td><td>12.688</td><td>12.68</td></tr>\n",
       "<tr><td>115</td><td>147.08290012304505</td><td>63.280103697257886</td><td>16.937887</td><td>355.04326859572495</td><td>4000</td><td>star</td><td>16.354</td><td>15.633</td><td>15.095</td><td>14.589</td><td>14.411</td><td>14.511</td><td>14.174</td><td>14.107</td><td>14.094</td><td>14.058</td><td>14.073</td><td>14.042</td><td>14.04</td><td>14.09</td><td>14.048</td><td>14.023</td><td>13.999</td><td>13.988</td><td>13.96</td><td>13.938</td><td>13.922</td><td>13.877</td><td>13.902</td><td>13.939</td><td>13.962</td><td>14.047</td><td>14.01</td><td>14.029</td><td>14.019</td></tr>\n",
       "<tr><td>116</td><td>147.00977744984047</td><td>63.16889172830652</td><td>21.227312</td><td>355.5875221732378</td><td>5800</td><td>galaxy</td><td>20.896</td><td>20.398</td><td>19.861</td><td>19.314</td><td>19.143</td><td>19.039</td><td>18.904</td><td>18.852</td><td>18.561</td><td>18.479</td><td>18.363</td><td>18.2</td><td>18.164</td><td>17.669</td><td>17.406</td><td>17.14</td><td>16.985</td><td>16.9</td><td>16.786</td><td>16.616</td><td>16.549</td><td>16.179</td><td>16.189</td><td>16.03</td><td>15.977</td><td>15.779</td><td>15.734</td><td>15.733</td><td>15.678</td></tr>\n",
       "<tr><td>117</td><td>146.91980804976052</td><td>63.14997086991795</td><td>21.28668</td><td>357.1197931611026</td><td>5800</td><td>galaxy</td><td>20.955</td><td>20.458</td><td>19.92</td><td>19.373</td><td>19.203</td><td>19.099</td><td>18.964</td><td>18.912</td><td>18.62</td><td>18.538</td><td>18.422</td><td>18.259</td><td>18.223</td><td>17.729</td><td>17.465</td><td>17.199</td><td>17.045</td><td>16.959</td><td>16.845</td><td>16.676</td><td>16.609</td><td>16.238</td><td>16.248</td><td>16.089</td><td>16.036</td><td>15.838</td><td>15.794</td><td>15.793</td><td>15.737</td></tr>\n",
       "<tr><td>118</td><td>146.9960312329328</td><td>63.33072681804437</td><td>20.390745</td><td>357.74549975913015</td><td>5800</td><td>star</td><td>20.028</td><td>19.77</td><td>19.543</td><td>19.279</td><td>19.217</td><td>19.305</td><td>19.136</td><td>19.11</td><td>19.12</td><td>19.107</td><td>19.113</td><td>19.103</td><td>19.105</td><td>19.096</td><td>19.089</td><td>19.087</td><td>19.088</td><td>19.091</td><td>19.087</td><td>19.088</td><td>19.087</td><td>19.071</td><td>19.088</td><td>19.09</td><td>19.096</td><td>19.106</td><td>19.079</td><td>19.103</td><td>19.102</td></tr>\n",
       "</table></div>"
      ],
      "text/plain": [
       "<Table length=118>\n",
       "index         ra                dec           g-band          dist         Teff  Type   F070W   F090W   F115W   F140M   F150W   F150W2 ...  F323N   F335M   F356W   F360M   F405N   F410M   F430M   F444W   F460M   F466N   F470N   F480M \n",
       "             deg                deg                          arcsec                      mag     mag     mag     mag     mag     mag   ...   mag     mag     mag     mag     mag     mag     mag     mag     mag     mag     mag     mag  \n",
       "int64      float64            float64        float32        float64       int64  str6  float64 float64 float64 float64 float64 float64 ... float64 float64 float64 float64 float64 float64 float64 float64 float64 float64 float64 float64\n",
       "----- ------------------ ------------------ --------- ------------------- ----- ------ ------- ------- ------- ------- ------- ------- ... ------- ------- ------- ------- ------- ------- ------- ------- ------- ------- ------- -------\n",
       "    1 146.87623744591286  63.24721225133015 6.6714396 0.02260035494339099  5000   star   6.198   5.803   5.448   5.063   4.957   5.063 ...    4.72   4.714   4.714   4.713   4.688   4.712    4.73   4.747   4.797   4.765   4.789   4.783\n",
       "    2 146.88625206697623  63.23031409995017 19.286993   62.94025971041074  5800   star  18.924  18.666  18.439  18.175  18.113  18.201 ...  17.987  17.983  17.984  17.983  17.967  17.984  17.987  17.992  18.002  17.976  17.999  17.998\n",
       "    3 146.83546409135297  63.24351246738414 21.187986   67.40239504109316  5800 galaxy  20.857  20.359  19.822  19.274  19.104    19.0 ...   16.86  16.746  16.577   16.51   16.14  16.149  15.991  15.938  15.739  15.695  15.694  15.639\n",
       "    4 146.87665965881132  63.22505672455323 20.635696   79.74023413437261  5800 galaxy  20.304  19.807  19.269  18.722  18.552  18.448 ...  16.308  16.194  16.025  15.958  15.587  15.597  15.438  15.385  15.187  15.143  15.142  15.087\n",
       "    5 146.85700424735603  63.26855068121421    18.265   82.91701010680266  5800   star  17.902  17.644  17.417  17.153  17.091  17.179 ...  16.965  16.961  16.962  16.961  16.945  16.962  16.965   16.97   16.98  16.954  16.977  16.976\n",
       "    6   146.839747649046 63.226869029361694 20.593788   94.12336311927024  5800   star  20.231  19.973  19.746  19.482   19.42  19.508 ...  19.294   19.29  19.291   19.29  19.274  19.291  19.293  19.299  19.309  19.282  19.306  19.305\n",
       "    7 146.83979236628306 63.225828790961565 19.414185   97.02129093975873  5800   star  19.051  18.793  18.566  18.302   18.24  18.328 ...  18.115  18.111  18.111   18.11  18.094  18.111  18.114   18.12  18.129  18.103  18.127  18.126\n",
       "    8 146.81491027367022 63.248098843278306 20.335503    99.4317492518226  5800   star  19.972  19.715  19.487  19.223  19.162   19.25 ...  19.036  19.032  19.033  19.032  19.015  19.032  19.035  19.041  19.051  19.024  19.048  19.047\n",
       "    9 146.84507216105203  63.22047555824038 18.500904  108.68805919587979  5800   star  18.138   17.88  17.653  17.389  17.327  17.415 ...  17.201  17.197  17.198  17.197  17.181  17.198  17.201  17.206  17.216   17.19  17.213  17.212\n",
       "   10  146.8471642601339  63.21919747299996 20.256378  111.30423479281406  5800   star  19.893  19.636  19.408  19.144  19.083  19.171 ...  18.957  18.953  18.954  18.952  18.936  18.953  18.956  18.962  18.971  18.945  18.969  18.968\n",
       "   11 146.86500608790175  63.27800235479358 20.415066  112.34941227548765  5800 galaxy  20.084  19.586  19.049  18.501  18.331  18.227 ...  16.087  15.974  15.804  15.737  15.367  15.377  15.218  15.165  14.966  14.922  14.921  14.866\n",
       "   12 146.91699367093452 63.273804608512435 20.841105  116.30601107152627  5800 galaxy   20.51  20.012  19.475  18.927  18.757  18.653 ...  16.513    16.4   16.23  16.163  15.793  15.803  15.644  15.591  15.392  15.348  15.347  15.292\n",
       "  ...                ...                ...       ...                 ...   ...    ...     ...     ...     ...     ...     ...     ... ...     ...     ...     ...     ...     ...     ...     ...     ...     ...     ...     ...     ...\n",
       "  107  146.6616049426033 63.246874166923845 19.820345  347.81820612969716  5800   star  19.457    19.2  18.972  18.708  18.647  18.735 ...  18.521  18.517  18.518  18.516    18.5  18.517   18.52  18.526  18.535  18.509  18.533  18.532\n",
       "  108 146.76785800209072 63.330722171347915 20.731562  348.06912310059835  5800   star  20.368  20.111  19.884   19.62  19.558  19.646 ...  19.432  19.428  19.429  19.428  19.411  19.428  19.431  19.437  19.447   19.42  19.444  19.443\n",
       "  109  146.9580603342689  63.15770115700869 18.618668  348.51097572616646  5800   star  18.255  17.998  17.771  17.507  17.445  17.533 ...  17.319  17.315  17.316  17.315  17.299  17.316  17.318  17.324  17.334  17.307  17.331   17.33\n",
       "  110 147.01785542884767  63.17423900736214 20.205574  349.00093006666714  5800   star  19.842  19.585  19.358  19.094  19.032   19.12 ...  18.906  18.902  18.903  18.902  18.885  18.902  18.905  18.911  18.921  18.894  18.918  18.917\n",
       "  111  146.9943633208049  63.16561887921689 20.431438   350.7340806522003  5800   star  20.068  19.811  19.583  19.319  19.258  19.346 ...  19.132  19.128  19.129  19.127  19.111  19.128  19.131  19.137  19.146   19.12  19.144  19.143\n",
       "  112  147.0928885249361  63.25037164853769 20.595934   351.2510565288535  5800 galaxy  20.265  19.767   19.23  18.682  18.512  18.408 ...  16.268  16.154  15.985  15.918  15.548  15.557  15.399  15.346  15.147  15.103  15.102  15.047\n",
       "  113  146.8525344449728  63.15005390058594 20.663233    351.857426225564  5800   star    20.3  20.042  19.815  19.551  19.489  19.578 ...  19.364   19.36   19.36  19.359  19.343   19.36  19.363  19.369  19.378  19.352  19.376  19.375\n",
       "  114 146.99015710901222  63.33147011120179 15.783197  354.96826282590484  3900   star  15.202  14.384  13.818  13.326  13.151  13.245 ...  12.703  12.661  12.626  12.601  12.544  12.568  12.604  12.626  12.705  12.668  12.688   12.68\n",
       "  115 147.08290012304505 63.280103697257886 16.937887  355.04326859572495  4000   star  16.354  15.633  15.095  14.589  14.411  14.511 ...  13.988   13.96  13.938  13.922  13.877  13.902  13.939  13.962  14.047   14.01  14.029  14.019\n",
       "  116 147.00977744984047  63.16889172830652 21.227312   355.5875221732378  5800 galaxy  20.896  20.398  19.861  19.314  19.143  19.039 ...    16.9  16.786  16.616  16.549  16.179  16.189   16.03  15.977  15.779  15.734  15.733  15.678\n",
       "  117 146.91980804976052  63.14997086991795  21.28668   357.1197931611026  5800 galaxy  20.955  20.458   19.92  19.373  19.203  19.099 ...  16.959  16.845  16.676  16.609  16.238  16.248  16.089  16.036  15.838  15.794  15.793  15.737\n",
       "  118  146.9960312329328  63.33072681804437 20.390745  357.74549975913015  5800   star  20.028   19.77  19.543  19.279  19.217  19.305 ...  19.091  19.087  19.088  19.087  19.071  19.088   19.09  19.096  19.106  19.079  19.103  19.102"
      ]
     },
     "execution_count": 65,
     "metadata": {},
     "output_type": "execute_result"
    }
   ],
   "source": [
    "from astropy import units as u\n",
    "from astropy.coordinates import SkyCoord\n",
    "from pynrc.simul import ngNRC\n",
    "\n",
    "ra  = obs_params['ra']\n",
    "dec = obs_params['dec']\n",
    "coords = SkyCoord(ra, dec, unit=(u.deg, u.deg), \n",
    "                  frame='icrs', equinox='J2000', obstime='J2000')\n",
    "ra = coords.ra.deg\n",
    "dec = coords.dec.deg\n",
    "\n",
    "src_tbl = ngNRC.make_gaia_source_table(coords, remove_cen_star=False)\n",
    "# src_tbl = ngNRC.make_simbad_source_table(coords, remove_cen_star=False)\n",
    "src_tbl"
   ]
  },
  {
   "cell_type": "code",
   "execution_count": 46,
   "id": "anticipated-shelter",
   "metadata": {},
   "outputs": [],
   "source": [
    "pynrc.stellar_spectrum()"
   ]
  },
  {
   "cell_type": "code",
   "execution_count": 47,
   "id": "chief-surfing",
   "metadata": {},
   "outputs": [],
   "source": [
    "visit_dict = visits[vkey]\n",
    "\n",
    "tel_point = apt.gen_jwst_pointing(visit_dict, obs_params)\n",
    "ra_all  = src_tbl['ra'].to('deg').value\n",
    "dec_all = src_tbl['dec'].to('deg').value\n",
    "mags    = src_tbl[nrc.filter].data\n",
    "expnum  = int(obs_params['obs_id_info']['exposure_number'])\n",
    "\n",
    "# hdul = nrc_utils.gen_unconvolved_point_source_image(nrc, tel_point, ra_all, dec_all, mags,\n",
    "#                                                     expnum=expnum)"
   ]
  },
  {
   "cell_type": "code",
   "execution_count": 119,
   "id": "reliable-longer",
   "metadata": {},
   "outputs": [],
   "source": [
    "from pynrc.nrc_utils import pickoff_xy, grism_wref\n",
    "from webbpsf_ext.spectra import mag_to_counts\n",
    "\n",
    "tel_pointing = tel_point\n",
    "ra_deg  = ra_all\n",
    "dec_deg = dec_all\n",
    "add_offset = np.array([0,8])\n",
    "kwargs = {}\n",
    "\n",
    "flux_obj = mag_to_counts(mags, nrc.bandpass, **kwargs)\n",
    "\n",
    "siaf_ap_obs = tel_pointing.siaf_ap_obs\n",
    "ap_siaf = siaf_ap_obs\n",
    "ap_obs = ap_siaf.AperName\n",
    "\n",
    "# fig, ax = plt.subplots(1,1, figsize=(6,6))\n",
    "# ap_siaf.plot(frame='tel', mark_ref=False, ax=ax, label=True, fill=False)\n",
    "\n",
    "if isinstance(expnum, str):\n",
    "    expnum = int(expnum)\n",
    "\n",
    "ind = np.where(tel_pointing.exp_nums == expnum)[0][0]\n",
    "idl_off = np.array([(tel_pointing.position_offsets_act[ind])]) + add_offset\n",
    "v2_obj, v3_obj = tel_pointing.radec_to_frame((ra_deg, dec_deg), frame_out='tel', idl_offsets=idl_off)\n",
    "\n",
    "# Pickoff mirror information\n",
    "xpix, ypix = ap_siaf.tel_to_sci(v2_obj, v3_obj)\n",
    "x1, x2, y1, y2 = pickoff_xy(ap_obs)\n",
    "\n",
    "# Mask out all sources that are outside pick-off mirror\n",
    "mask_pom = ((xpix>x1) & (xpix<x2-1)) & ((ypix>y1) & (ypix<y2-1))\n",
    "\n",
    "# Mask out all sources that will not contribute to final slope image\n",
    "wspec, imspec_temp = nrc.calc_psf_from_coeff(return_oversample=False, return_hdul=False)\n",
    "ypsf, xpsf = imspec_temp.shape\n",
    "\n",
    "xmin, ymin = -1*np.array([xpsf,ypsf]).astype('int') / 2 - 1\n",
    "xmax = int(ap_siaf.XSciSize + xpsf / 2 + 1)\n",
    "ymax = int(ap_siaf.YSciSize + ypsf / 2 + 1)\n",
    "\n",
    "xmask = (xpix>=xmin) & (xpix<=xmax)\n",
    "ymask = (ypix>=ymin) & (ypix<=ymax)\n",
    "\n",
    "# Final mask\n",
    "mask = mask_pom & xmask & ymask\n",
    "\n",
    "xpix = xpix[mask]\n",
    "ypix = ypix[mask]\n",
    "mags_field = mags[mask]\n",
    "src_flux = mag_to_counts(mags_field, nrc.bandpass, **kwargs)\n",
    "\n",
    "\n",
    "sp = pynrc.stellar_spectrum('G2V', )"
   ]
  },
  {
   "cell_type": "code",
   "execution_count": 124,
   "id": "37c358bc",
   "metadata": {},
   "outputs": [],
   "source": [
    "# Get undeviated wavelength\n",
    "wref = grism_wref(nrc.pupil_mask, nrc.module)\n",
    "\n",
    "im_slope = np.zeros([nrc.Detector.ypix, nrc.Detector.xpix])\n",
    "\n",
    "# Build final image\n",
    "for i in range(xpix.size):\n",
    "    sp = pynrc.stellar_spectrum('G2V', mags_field[i], 'vegamag', nrc.bandpass)\n",
    "    # Create image\n",
    "    wspec, imspec = nrc.calc_psf_from_coeff(sp=sp, return_hdul=False, return_oversample=True)\n",
    "    \n",
    "    # Place undeviated wavelength at (xpix,ypix) location\n",
    "    "
   ]
  },
  {
   "cell_type": "code",
   "execution_count": null,
   "id": "1a8e35c2",
   "metadata": {},
   "outputs": [],
   "source": []
  },
  {
   "cell_type": "code",
   "execution_count": 108,
   "id": "eca0d8e9",
   "metadata": {},
   "outputs": [],
   "source": [
    "# Mask out all sources that will not contribute to final slope image\n",
    "wspec, imspec_temp = nrc.calc_psf_from_coeff(return_oversample=False, return_hdul=False)\n",
    "ypsf, xpsf = imspec_temp.shape\n",
    "\n",
    "xmin, ymin = -1*np.array([xpsf,ypsf]).astype('int') / 2 - 1\n",
    "xmax = int(ap_siaf.XSciSize + xpsf / 2 + 1)\n",
    "ymax = int(ap_siaf.YSciSize + ypsf / 2 + 1)\n",
    "\n",
    "xmask = (xsci>=xmin) & (xsci<=xmax)\n",
    "ymask = (ysci>=ymin) & (ysci<=ymax)\n",
    "\n",
    "\n",
    "\n",
    "# ax.plot(v2_obj[mask], v3_obj[mask], marker='o', ls='none')\n",
    "# Get undeviated wavelength\n",
    "wref = grism_wref(nrc.pupil_mask, nrc.module)\n",
    "\n",
    "# fig.tight_layout()\n",
    "    \n",
    "# sp = pynrc.stellar_spectrum()\n",
    "# wspec, imspec = nrc.calc_psf_from_coeff()"
   ]
  },
  {
   "cell_type": "code",
   "execution_count": 117,
   "id": "29061241",
   "metadata": {},
   "outputs": [
    {
     "name": "stdout",
     "output_type": "stream",
     "text": [
      "-1167.0 3215 -129.5 385\n"
     ]
    }
   ],
   "source": [
    "xmin, ymin = -1*np.array([xpsf,ypsf]).astype('int') / 2 - 1\n",
    "xmax = int(ap_siaf.XSciSize + xpsf / 2 + 1)\n",
    "ymax = int(ap_siaf.YSciSize + ypsf / 2 + 1)\n",
    "\n",
    "print(xmin, xmax, ymin, ymax)"
   ]
  },
  {
   "cell_type": "code",
   "execution_count": 109,
   "id": "7e99c34b",
   "metadata": {},
   "outputs": [
    {
     "data": {
      "text/plain": [
       "(2332, 257)"
      ]
     },
     "execution_count": 109,
     "metadata": {},
     "output_type": "execute_result"
    }
   ],
   "source": [
    "xpsf, ypsf"
   ]
  },
  {
   "cell_type": "code",
   "execution_count": 105,
   "id": "b5ca54c2",
   "metadata": {},
   "outputs": [
    {
     "data": {
      "text/plain": [
       "(array([1581.69721228,  811.13331059, 1415.72781294, 1448.93735385,\n",
       "         222.24685002, 1730.49035233, 1815.85616728,  790.02910532,\n",
       "         -48.10141093, -154.1260833 ]),\n",
       " array([ 122.6376044 ,  851.3144465 , 1597.51648645, 1647.18222623,\n",
       "         907.28507754, 1831.88312656, 1864.10829756, 1893.93782246,\n",
       "        1552.8988422 , 2577.02871506]))"
      ]
     },
     "execution_count": 105,
     "metadata": {},
     "output_type": "execute_result"
    }
   ],
   "source": [
    "xpix, ypix"
   ]
  },
  {
   "cell_type": "code",
   "execution_count": 101,
   "id": "4839211c",
   "metadata": {},
   "outputs": [
    {
     "data": {
      "text/plain": [
       "array([[-0.05876338, 22.37964934]])"
      ]
     },
     "execution_count": 101,
     "metadata": {},
     "output_type": "execute_result"
    }
   ],
   "source": [
    "np.array([(tel_pointing.position_offsets_act[ind])]) + np.array([0,10])"
   ]
  },
  {
   "cell_type": "code",
   "execution_count": 70,
   "id": "89a49ae8",
   "metadata": {},
   "outputs": [
    {
     "data": {
      "text/plain": [
       "array([ 4.7  , 16.921, 19.267, 18.087, 19.008, 17.174, 18.929, 18.729,\n",
       "       16.354, 14.942])"
      ]
     },
     "execution_count": 70,
     "metadata": {},
     "output_type": "execute_result"
    }
   ],
   "source": [
    "-2.5*np.log10(src_flux / src_flux[0]) + 4.7"
   ]
  },
  {
   "cell_type": "code",
   "execution_count": 81,
   "id": "0b351521",
   "metadata": {},
   "outputs": [
    {
     "data": {
      "text/plain": [
       "<pysiaf.Aperture object AperName=NRCA5_GRISM_F322W2 >"
      ]
     },
     "execution_count": 81,
     "metadata": {},
     "output_type": "execute_result"
    }
   ],
   "source": [
    "ap_siaf"
   ]
  },
  {
   "cell_type": "code",
   "execution_count": 62,
   "id": "25f690d9",
   "metadata": {},
   "outputs": [
    {
     "data": {
      "text/plain": [
       "[<matplotlib.lines.Line2D at 0x7f7484c66040>]"
      ]
     },
     "execution_count": 62,
     "metadata": {},
     "output_type": "execute_result"
    },
    {
     "data": {
      "image/png": "[encoded data removed]",
      "text/plain": [
       "<Figure size 432x432 with 1 Axes>"
      ]
     },
     "metadata": {
      "needs_background": "light"
     },
     "output_type": "display_data"
    }
   ],
   "source": [
    "fig, ax = plt.subplots(1,1, figsize=(6,6))\n",
    "ap_siaf.plot(frame='tel', mark_ref=False, ax=ax, label=True, fill=False)\n",
    "\n",
    "ax.plot(v2_obj[mask], v3_obj[mask], marker='o', ls='none')\n",
    "\n",
    "# fig.tight_layout()"
   ]
  },
  {
   "cell_type": "code",
   "execution_count": null,
   "id": "146b8759",
   "metadata": {},
   "outputs": [],
   "source": []
  },
  {
   "cell_type": "code",
   "execution_count": 67,
   "id": "endless-logging",
   "metadata": {},
   "outputs": [],
   "source": [
    "siaf_ap = tel_pointing.siaf_ap_obs\n",
    "ra_ref, dec_ref = (tel_pointing.ra_obs, tel_pointing.dec_obs)\n",
    "att = tel_pointing.attitude_matrix(idl_off=idl_off[0], ap_siaf_ref=siaf_ap, coord_ref=(ra_ref, dec_ref))"
   ]
  },
  {
   "cell_type": "code",
   "execution_count": null,
   "id": "supreme-import",
   "metadata": {},
   "outputs": [],
   "source": [
    "NRCA5_GRISM256_F322W2\n",
    "NRCA5_GRISM128_F322W2\n",
    "NRCA5_GRISM64_F322W2\n",
    "NRCA5_GRISM256_F277W\n",
    "NRCA5_GRISM128_F277W\n",
    "NRCA5_GRISM64_F277W\n",
    "NRCA5_GRISM256_F356W\n",
    "NRCA5_GRISM128_F356W\n",
    "NRCA5_GRISM64_F356W\n",
    "NRCA5_GRISM256_F444W\n",
    "NRCA5_GRISM128_F444W\n",
    "NRCA5_GRISM64_F444W\n",
    "NRCA5_GRISM_F322W2\n",
    "NRCA5_GRISM_F277W\n",
    "NRCA5_GRISM_F356W\n",
    "NRCA5_GRISM_F444W\n",
    "NRCA1_GRISMTS\n",
    "NRCA1_GRISMTS256\n",
    "NRCA1_GRISMTS128\n",
    "NRCA1_GRISMTS64\n",
    "NRCA3_GRISMTS\n",
    "NRCA3_GRISMTS256\n",
    "NRCA3_GRISMTS128\n",
    "NRCA3_GRISMTS64\n",
    "NRCA5_TAGRISMTS32\n",
    "NRCA5_TAGRISMTS32_F405N\n",
    "NRCA5_TAGRISMTS_SCI_F322W2\n",
    "NRCA5_TAGRISMTS_SCI_F444W\n",
    "NRCB5_GRISM256_F322W2\n",
    "NRCB5_GRISM128_F322W2\n",
    "NRCB5_GRISM64_F322W2"
   ]
  },
  {
   "cell_type": "code",
   "execution_count": 76,
   "id": "fifty-shakespeare",
   "metadata": {},
   "outputs": [],
   "source": []
  },
  {
   "cell_type": "code",
   "execution_count": 89,
   "id": "martial-accordance",
   "metadata": {},
   "outputs": [
    {
     "name": "stdout",
     "output_type": "stream",
     "text": [
      "Ref Point (64 pix): (1580.9877721612831, 280.00447976852183)\n",
      "Ref Point (128 pix): (1580.9877721612831, 280.00447976852183)\n",
      "Ref Point (256 pix): (1580.9877721612831, 280.00447976852183)\n"
     ]
    },
    {
     "data": {
      "image/png": "[encoded data removed]",
      "text/plain": [
       "<Figure size 1008x180 with 1 Axes>"
      ]
     },
     "metadata": {
      "needs_background": "light"
     },
     "output_type": "display_data"
    }
   ],
   "source": [
    "import pysiaf\n",
    "siaf = pysiaf.Siaf('NIRCam')\n",
    "\n",
    "\n",
    "fig, ax = plt.subplots(1,1, figsize=(14,2.5))\n",
    "for sz in [64, 128, 256]:\n",
    "    ap_siaf = siaf[f'NRCA5_GRISM_F322W2']\n",
    "    ap_siaf.plot(frame='tel', mark_ref=True, ax=ax, label=True)\n",
    "    print(f\"Ref Point ({sz} pix):\", ap_siaf.reference_point('sci'))\n",
    "\n",
    "fig.tight_layout()"
   ]
  },
  {
   "cell_type": "code",
   "execution_count": 66,
   "id": "outstanding-violin",
   "metadata": {},
   "outputs": [
    {
     "data": {
      "text/plain": [
       "(1580.9859008012788, 35.007956286030854)"
      ]
     },
     "execution_count": 66,
     "metadata": {},
     "output_type": "execute_result"
    }
   ],
   "source": [
    "siaf_ap.set_attitude_matrix(att)\n",
    "siaf_ap.convert(ra_ref, dec_ref, 'sky', 'sci')"
   ]
  },
  {
   "cell_type": "code",
   "execution_count": 68,
   "id": "collect-uncle",
   "metadata": {},
   "outputs": [
    {
     "data": {
      "text/plain": [
       "(1581.7628256728124, -1.727724593589457)"
      ]
     },
     "execution_count": 68,
     "metadata": {},
     "output_type": "execute_result"
    }
   ],
   "source": [
    "siaf_ap.set_attitude_matrix(att)\n",
    "siaf_ap.convert(ra_ref, dec_ref, 'sky', 'sci')"
   ]
  },
  {
   "cell_type": "code",
   "execution_count": 54,
   "id": "ultimate-conducting",
   "metadata": {},
   "outputs": [
    {
     "data": {
      "text/plain": [
       "(50.767712, -556.476341)"
      ]
     },
     "execution_count": 54,
     "metadata": {},
     "output_type": "execute_result"
    }
   ],
   "source": [
    "tel_pointing.siaf_ap_ref.set_attitude_matrix()"
   ]
  },
  {
   "cell_type": "code",
   "execution_count": 55,
   "id": "iraqi-celtic",
   "metadata": {},
   "outputs": [
    {
     "data": {
      "text/plain": [
       "((array([  50.70880098,  213.15915237,  228.41647918, -203.25185495]),\n",
       "  array([-558.84346179, -629.56374187, -738.29901118, -391.89264841])),\n",
       " (array([  50.86992474,  213.32024112,  228.57755795, -203.09069736]),\n",
       "  array([-544.10584528, -614.82612992, -723.56140013, -377.15504307])))"
      ]
     },
     "execution_count": 55,
     "metadata": {},
     "output_type": "execute_result"
    }
   ],
   "source": [
    "v2_obj, v3_obj"
   ]
  },
  {
   "cell_type": "code",
   "execution_count": 49,
   "id": "active-occasion",
   "metadata": {},
   "outputs": [
    {
     "data": {
      "text/plain": [
       "(array([  50.70880098,  213.15915237,  228.41647918, -203.25185495]),\n",
       " array([-558.84346179, -629.56374187, -738.29901118, -391.89264841]))"
      ]
     },
     "execution_count": 49,
     "metadata": {},
     "output_type": "execute_result"
    }
   ],
   "source": [
    "v2_obj"
   ]
  },
  {
   "cell_type": "code",
   "execution_count": 39,
   "id": "acting-computer",
   "metadata": {},
   "outputs": [
    {
     "data": {
      "text/plain": [
       "(array([146.8762375 , 146.81478027, 146.842714  , 146.95336467]),\n",
       " array([63.24721111, 63.28792868, 63.315727  , 63.17027856]))"
      ]
     },
     "execution_count": 39,
     "metadata": {},
     "output_type": "execute_result"
    }
   ],
   "source": [
    "ra_deg, dec_deg"
   ]
  },
  {
   "cell_type": "code",
   "execution_count": 40,
   "id": "careful-connection",
   "metadata": {},
   "outputs": [
    {
     "data": {
      "text/plain": [
       "array([ 1581.76282567,  -914.03368401, -1010.24502393,  5349.3690722 ])"
      ]
     },
     "execution_count": 40,
     "metadata": {},
     "output_type": "execute_result"
    }
   ],
   "source": [
    "xpix"
   ]
  },
  {
   "cell_type": "code",
   "execution_count": 41,
   "id": "capable-circle",
   "metadata": {},
   "outputs": [
    {
     "data": {
      "text/plain": [
       "array([-1.72772459e+00, -1.10559412e+03, -2.61271615e+03,  2.41745145e+03])"
      ]
     },
     "execution_count": 41,
     "metadata": {},
     "output_type": "execute_result"
    }
   ],
   "source": [
    "ypix"
   ]
  },
  {
   "cell_type": "code",
   "execution_count": null,
   "id": "royal-collector",
   "metadata": {},
   "outputs": [],
   "source": []
  },
  {
   "cell_type": "code",
   "execution_count": null,
   "id": "successful-costa",
   "metadata": {},
   "outputs": [],
   "source": []
  },
  {
   "cell_type": "code",
   "execution_count": null,
   "id": "revised-speed",
   "metadata": {},
   "outputs": [],
   "source": [
    "# def gen_grism_image(nrc, tel_pointing, ra_deg, dec_deg, mags, \n",
    "#                     expnum=1, osamp=1, siaf_ap_obs=None, **kwargs):\n",
    "\n",
    "#     \"\"\" Create an unconvolved image with sub-pixel shifts\n",
    "#     \n",
    "#     \"\"\"    \n",
    "from pynrc.obs_nircam import attenuate_with_coron_mask, gen_coron_mask\n",
    "    \n",
    "    # Observation aperture\n",
    "    siaf_ap_obs = nrc.siaf_ap if siaf_ap_obs is None else siaf_ap_obs\n",
    "    ap_obs_name = siaf_ap_obs.AperName\n",
    "    \n",
    "    # Get all source fluxes\n",
    "    # mags = tbl[nrc.filter].data\n",
    "    flux_obj = mag_to_counts(mags, nrc.bandpass, **kwargs)\n",
    "\n",
    "    if isinstance(expnum, str):\n",
    "        expnum = int(expnum)\n",
    "    \n",
    "    ind = np.where(tel_pointing.exp_nums == expnum)[0][0]\n",
    "\n",
    "    # Convert RA, Dec coordiantes into V2/V3 (arcsec)\n",
    "    # ra_deg, dec_deg = (tbl['ra'], tbl['dec'])\n",
    "    idl_off = [tel_pointing.position_offsets_act[ind]]\n",
    "    v2_obj, v3_obj = tel_pointing.radec_to_frame((ra_deg, dec_deg), frame_out='tel', idl_offsets=idl_off)\n",
    "    \n",
    "    # Create initial POM image, then contract to reasonable size\n",
    "    xsci, ysci, im_pom = pickoff_image(ap_obs_name, v2_obj, v3_obj, flux_obj, oversample=osamp)\n",
    "\n",
    "    # Crop based on subarray window size\n",
    "    # Maximum required size depends on PSF and detector readout size\n",
    "\n",
    "    # Min and max sci coordinates to keep\n",
    "    xmin = ymin = int(-nrc.fov_pix/2 - 1)\n",
    "    xmax = int(siaf_ap_obs.XSciSize + nrc.fov_pix/2 + 1)\n",
    "    ymax = int(siaf_ap_obs.YSciSize + nrc.fov_pix/2 + 1)\n",
    "\n",
    "    xmask = (xsci>=xmin) & (xsci<xmax)\n",
    "    ymask = (ysci>=ymin) & (ysci<ymax)\n",
    "\n",
    "    # Keep only regions that contribute to final convolved image\n",
    "    xsci = xsci[xmask]\n",
    "    ysci = ysci[ymask]\n",
    "    im_sci = im_pom[ymask][:,xmask]\n",
    "    \n",
    "    # Make science image HDUList from \n",
    "    hdul_sci_image = fits.HDUList([fits.PrimaryHDU(im_sci)])\n",
    "    hdul_sci_image[0].header['PIXELSCL'] = nrc.pixelscale / osamp\n",
    "    hdul_sci_image[0].header['OSAMP'] = osamp\n",
    "    hdul_sci_image[0].header['INSTRUME'] = nrc.name\n",
    "    hdul_sci_image[0].header['APERNAME'] = ap_obs_name\n",
    "    \n",
    "    # Get X and Y indices corresponding to aperture reference\n",
    "    xind_ref = np.argmin(np.abs(xsci - siaf_ap_obs.XSciRef))\n",
    "    yind_ref = np.argmin(np.abs(ysci - siaf_ap_obs.YSciRef))\n",
    "    hdul_sci_image[0].header['XIND_REF'] = (xind_ref, \"x index of aperture reference\")\n",
    "    hdul_sci_image[0].header['YIND_REF'] = (yind_ref, \"y index of aperture reference\")\n",
    "    hdul_sci_image[0].header['XSCI0']    = (np.min(xsci), \"xsci value at (x,y)=(0,0) corner\")\n",
    "    hdul_sci_image[0].header['YSCI0']    = (np.min(ysci), \"ysci value at (x,y)=(0,0) corner\")\n",
    "    hdul_sci_image[0].header['CFRAME'] = 'sci'\n",
    "\n",
    "    # print(im_pom.shape, im_sci.shape)\n",
    "    \n",
    "    return hdul_sci_image\n"
   ]
  },
  {
   "cell_type": "code",
   "execution_count": null,
   "id": "naval-theater",
   "metadata": {},
   "outputs": [],
   "source": [
    "def place_grism_source(waves, imarr, (xsci, ysci), wref=None, im_coords='sci'):\n",
    "    \"\"\"\n",
    "    Shift image such that undeviated wavelength sits at the\n",
    "    desired pixel location\n",
    "    \"\"\"\n",
    "    \n",
    "    from .maths.coords import det_to_sci\n",
    "\n",
    "    if len(imarr.shape) > 2:\n",
    "        nz, ny_in, nx_in = imarr.shape\n",
    "    else:\n",
    "        nz = 1\n",
    "        ny_in, nx_in = imarr.shape\n",
    "        imarr = imarr.reshape([nz,ny_in,nx_in])\n",
    "    \n",
    "    # Convert to sci coordinates\n",
    "    if im_coords=='det':\n",
    "        det_name = siaf_ap.AperName[3:5]\n",
    "        imarr = det_to_sci(imarr, det_name)\n",
    "\n",
    "    # Determine reference wavelength\n",
    "    if wref is None:\n",
    "        if 'GRISMC' in siaf_ap.AperName:\n",
    "            pupil = 'GRISMC'\n",
    "        elif 'GRISM' in siaf_ap.AperName:\n",
    "            pupil = 'GRISMR'\n",
    "        else: # generic grism\n",
    "            pupil = 'GRISM'\n",
    "        module = 'A' if 'NRCA' in siaf_ap.AperName else 'B'\n",
    "        wref = grism_wref(pupil, module)\n",
    "\n",
    "    # Get reference coordinates\n",
    "    yref, xref = (siaf_ap.YSciRef, siaf_ap.XSciRef)\n",
    "    \n",
    "    # Final image size\n",
    "    ny_out, nx_out = (siaf_ap.YSciSize, siaf_ap.XSciSize)\n",
    "    \n",
    "    # Empirically determine shift value in dispersion direction\n",
    "    wnew_temp = pad_or_cut_to_size(waves, nx_out)\n",
    "    \n",
    "    # Index of reference wavelength associated with ref pixel\n",
    "    ind = (wnew_temp>wref-0.01) & (wnew_temp<wref+0.01)\n",
    "    xnew_temp = np.interp(wref, wnew_temp[ind], np.arange(nx_out)[ind])\n",
    "    xoff = xref - xnew_temp\n",
    "    \n",
    "    # Move to correct position in y\n",
    "    yoff = yref - (int(ny_out/2) - 1)\n",
    "    # if np.mod(ny_in,2)==0: # If even, shift by half a pixel?\n",
    "    #     yoff = yoff + 0.5\n",
    "    \n",
    "    imarr = pad_or_cut_to_size(imarr, (ny_out,nx_out), offset_vals=(yoff,xoff), fill_val=np.nan)\n",
    "    waves = pad_or_cut_to_size(waves, nx_out, offset_vals=xoff, fill_val=np.nan)\n",
    "    \n",
    "    # Remove NaNs\n",
    "    ind_nan = np.isnan(imarr)\n",
    "    imarr[ind_nan] = np.min(imarr[~ind_nan])\n",
    "    # Remove NaNs\n",
    "    # Fill in with wavelength solution (linear extrapolation)\n",
    "    ind_nan = np.isnan(waves)\n",
    "    # waves[ind_nan] = 0\n",
    "    arr = np.arange(nx_out)\n",
    "    cf = jl_poly_fit(arr[~ind_nan], waves[~ind_nan])\n",
    "    waves[ind_nan] = jl_poly(arr[ind_nan], cf)\n",
    "\n",
    "    return waves, imarr\n"
   ]
  },
  {
   "cell_type": "code",
   "execution_count": null,
   "id": "front-lebanon",
   "metadata": {},
   "outputs": [],
   "source": []
  },
  {
   "cell_type": "code",
   "execution_count": 98,
   "id": "healthy-apartment",
   "metadata": {},
   "outputs": [],
   "source": [
    "test = nrc_utils.grism_background_image('F335M', pupil='GRISM90')"
   ]
  },
  {
   "cell_type": "code",
   "execution_count": 99,
   "id": "answering-print",
   "metadata": {},
   "outputs": [
    {
     "data": {
      "text/plain": [
       "<matplotlib.image.AxesImage at 0x7fdda9d49bd0>"
      ]
     },
     "execution_count": 99,
     "metadata": {},
     "output_type": "execute_result"
    },
    {
     "data": {
      "image/png": "[encoded data removed]",
      "text/plain": [
       "<Figure size 576x432 with 1 Axes>"
      ]
     },
     "metadata": {
      "needs_background": "light"
     },
     "output_type": "display_data"
    }
   ],
   "source": [
    "plt.imshow(test)"
   ]
  },
  {
   "cell_type": "code",
   "execution_count": null,
   "id": "forbidden-genetics",
   "metadata": {},
   "outputs": [],
   "source": []
  },
  {
   "cell_type": "code",
   "execution_count": 79,
   "id": "sticky-patrick",
   "metadata": {},
   "outputs": [
    {
     "data": {
      "text/plain": [
       "(array([ 1581.73919896,  2312.37829322,   812.26926264,  2270.16840185,\n",
       "          533.59975454,  1415.74118326,  1448.89733903,   224.26145579,\n",
       "         1730.08401058,  1815.35156691,   432.01195402,  1643.71750116,\n",
       "         2309.40697322,  -267.81454022,   790.69520841,   -46.20518968,\n",
       "         3606.66150519,  1115.62939092,  2720.86067823,   220.08987804,\n",
       "         -914.02242899,  1340.64276708,   363.4733483 ,  3627.42265162,\n",
       "         3622.65013922, -1261.39945926,   385.12478414,  3548.84094056,\n",
       "         -153.14369032,  3733.11084772,  4407.44070153,   222.87480125,\n",
       "        -1436.12103464,  -814.30689115, -1001.93254452,   618.52844288,\n",
       "        -1355.83588339,  -102.74735641,  4384.26743663, -1095.75259516,\n",
       "          637.67864206,  1937.4974786 , -1668.18943661,  -277.29548035,\n",
       "        -1647.56219666, -1736.56694866,  2362.23372884,  1676.29241976,\n",
       "         4813.86609197,   -91.88555892,  3333.74651004, -1884.32293151,\n",
       "         2505.01562529,  4720.47505922,  -628.03868109,  4826.86425766,\n",
       "         4753.91646811,  5213.41253902,  1319.89967019,  -242.23130204,\n",
       "          705.58078581,  1153.1245512 , -2402.94716978, -2335.52139443,\n",
       "         -133.30604208,  5372.65048026,  1064.50940338,  1230.07137581,\n",
       "        -1517.41609471,  5428.56317863,  4559.58439549, -2568.94459641,\n",
       "        -1830.39737624, -1868.16975898,  2786.10523645,  1843.5429153 ,\n",
       "         4273.44067027, -1760.17868427,  5172.91384609, -2458.65320159,\n",
       "         5034.6875554 ,  4945.50596937,  4944.51092443, -2822.97490853,\n",
       "           18.35317578,  5640.36555894,   685.39290653,  5349.37589449,\n",
       "        -3011.35122821,  5046.77149702,  3436.08045851,  3269.37264754,\n",
       "        -2140.39700753, -3117.76685236,  2465.0304148 ,  5543.34969479,\n",
       "         4085.65749824, -3311.1171201 , -3332.4642492 ,  5710.42754252,\n",
       "          625.90555682,  5204.85685208,  4113.45563357,  4414.81161792,\n",
       "         3086.97628097, -3350.88200236, -2971.9475659 , -2705.39102884,\n",
       "         5664.0111847 ,  6152.47912471,  6023.055834  ,  5099.15127786,\n",
       "         3947.68855281,  1442.71346442,  4146.24631061,  6147.33702935,\n",
       "         5193.78766945,  1554.79225407]),\n",
       " array([-1.66867322e+00,  6.63048139e+02,  7.24816975e+02,  1.04513683e+03,\n",
       "        -7.51925747e+02,  1.47015657e+03,  1.51979049e+03,  7.80531907e+02,\n",
       "         1.70452692e+03,  1.73679830e+03, -1.28992709e+03, -1.74707059e+03,\n",
       "         1.68783098e+03,  4.71052899e+02,  1.76600815e+03,  1.42514757e+03,\n",
       "         9.48906308e+02, -2.11811124e+03, -1.85396693e+03, -1.95646650e+03,\n",
       "        -1.10550596e+03, -2.60173638e+03, -2.42543236e+03, -1.73779390e+03,\n",
       "         2.03006730e+03, -4.08128428e+02,  2.75145126e+03,  2.20609988e+03,\n",
       "         2.44902240e+03,  2.09751854e+03,  1.09371514e+03,  2.84183850e+03,\n",
       "        -8.58810890e+02,  2.20716583e+03, -1.81251282e+03, -2.88614521e+03,\n",
       "        -1.30723647e+03, -2.62124588e+03,  1.66035959e+03,  2.06746726e+03,\n",
       "         3.26628814e+03, -3.02518739e+03,  9.48923268e+02,  2.88329544e+03,\n",
       "        -8.69222603e+02,  8.01985491e+02, -3.02081009e+03, -3.18046520e+03,\n",
       "         1.13321696e+03, -2.87620515e+03,  3.13883175e+03, -9.85816253e+02,\n",
       "        -3.16498867e+03, -1.39628644e+03,  3.19166352e+03,  1.81216283e+03,\n",
       "         2.08379439e+03, -7.47005864e+01, -3.47503599e+03, -3.10178567e+03,\n",
       "         3.89906170e+03,  4.01379324e+03, -8.49813858e+01,  1.08791541e+03,\n",
       "        -3.31272261e+03,  9.30821347e+02,  4.17821743e+03,  4.19894297e+03,\n",
       "        -2.40277981e+03, -1.27988782e+02, -2.16604021e+03, -2.41057731e+00,\n",
       "         2.57179719e+03, -2.02917753e+03, -3.46763308e+03, -3.68969192e+03,\n",
       "         3.25747493e+03,  2.79641980e+03,  2.13019454e+03,  1.65327664e+03,\n",
       "        -1.77509691e+03,  2.72912810e+03,  2.74048233e+03,  3.07095882e+01,\n",
       "         4.34456796e+03, -5.96679191e+02, -3.88612308e+03,  2.41755397e+03,\n",
       "         8.90535677e+02, -2.09420764e+03,  4.43227374e+03, -3.58264803e+03,\n",
       "        -2.53584733e+03,  1.42937798e+03,  4.95859147e+03,  2.56798252e+03,\n",
       "        -3.17663892e+03,  7.35526492e+01,  7.41775801e+01, -1.17509833e+03,\n",
       "         5.08089482e+03, -2.08520188e+03,  4.42042025e+03,  4.19612828e+03,\n",
       "        -3.82226714e+03, -8.90472867e+02,  2.78858789e+03, -2.23263499e+03,\n",
       "         2.82447910e+03,  1.32547786e+03,  1.98547058e+03, -2.36866365e+03,\n",
       "         4.71131402e+03, -4.23287139e+03, -3.27401564e+03,  1.64016051e+03,\n",
       "         3.69001785e+03, -4.23435700e+03]))"
      ]
     },
     "execution_count": 79,
     "metadata": {},
     "output_type": "execute_result"
    }
   ],
   "source": [
    "xpix, ypix"
   ]
  },
  {
   "cell_type": "code",
   "execution_count": 73,
   "id": "czech-witness",
   "metadata": {
    "scrolled": false
   },
   "outputs": [
    {
     "data": {
      "text/plain": [
       "<matplotlib.image.AxesImage at 0x7fdda917b310>"
      ]
     },
     "execution_count": 73,
     "metadata": {},
     "output_type": "execute_result"
    },
    {
     "data": {
      "image/png": "[encoded data removed]",
      "text/plain": [
       "<Figure size 576x432 with 1 Axes>"
      ]
     },
     "metadata": {
      "needs_background": "light"
     },
     "output_type": "display_data"
    }
   ],
   "source": [
    "plt.imshow(hdul[0].data**0.2)"
   ]
  },
  {
   "cell_type": "code",
   "execution_count": 63,
   "id": "progressive-beijing",
   "metadata": {},
   "outputs": [
    {
     "data": {
      "text/plain": [
       "array([ 4.753, 18.013, 16.975, 16.422, 16.991, 19.32 , 18.141, 19.062,\n",
       "       17.227, 18.983, 16.202, 16.628, 15.85 , 16.83 , 18.782, 16.408,\n",
       "       15.977, 16.971, 19.412, 15.611, 12.047, 16.857, 16.982, 17.348,\n",
       "       13.523, 19.049, 18.95 , 18.86 , 14.995, 16.937, 13.9  , 14.769,\n",
       "       16.886, 18.856, 16.232, 19.148, 15.042, 16.437, 16.106, 15.16 ,\n",
       "       17.565, 17.233, 18.848, 18.449, 16.354, 17.513, 19.159, 18.457,\n",
       "       17.977, 16.903, 15.018, 19.266, 17.259, 18.84 , 13.488, 15.878,\n",
       "       17.067, 16.933, 16.292, 16.834, 14.101, 17.703, 13.878, 19.526,\n",
       "       19.032, 18.464, 12.827, 16.701, 18.424, 16.846, 16.838, 14.384,\n",
       "       16.337, 18.837,  8.838, 19.469, 17.327, 15.58 , 19.006, 16.908,\n",
       "       16.665, 17.08 , 15.637, 14.307, 13.961, 19.155, 17.758, 14.994,\n",
       "       17.606, 16.802, 16.378, 16.785, 18.298, 16.57 , 19.417, 13.935,\n",
       "       16.133, 18.974, 14.992, 14.265, 18.8  , 17.062, 15.59 , 14.968,\n",
       "       16.153, 17.591, 18.547, 19.458, 17.345, 18.932, 19.158, 16.383,\n",
       "       19.39 , 12.74 , 14.028, 17.014, 17.073, 19.117])"
      ]
     },
     "execution_count": 63,
     "metadata": {},
     "output_type": "execute_result"
    }
   ],
   "source": [
    "src_tbl[nrc.filter].data"
   ]
  },
  {
   "cell_type": "code",
   "execution_count": 49,
   "id": "large-anger",
   "metadata": {},
   "outputs": [
    {
     "data": {
      "text/plain": [
       "{'obs_num': 1,\n",
       " 'visit_num': 1,\n",
       " 'visit_start': 23416,\n",
       " 'slew_duration': 1800,\n",
       " 'visit_duration': 1167,\n",
       " 'exp_start_times': array([25418, 25928]),\n",
       " 'APTTemplate': 'NircamEngineeringImaging',\n",
       " 'PrimaryDitherType': array(['NONE', 'NONE'], dtype='<U4'),\n",
       " 'PrimaryDithers': array(['NONE', 'NONE'], dtype='<U4'),\n",
       " 'DitherSize': array(['NONE', 'NONE'], dtype='<U4'),\n",
       " 'SubpixelPositions': array(['1', '1'], dtype='<U1'),\n",
       " 'SubpixelDitherType': array(['STANDARD', 'STANDARD'], dtype='<U8'),\n",
       " 'SmallGridDitherType': array(['NONE', 'NONE'], dtype='<U4'),\n",
       " 'DitherPatternType': array(['NONE', 'NONE'], dtype='<U4'),\n",
       " 'ImageDithers': array(['NONE', 'NONE'], dtype='<U4'),\n",
       " 'number_of_dithers': array(['1', '1'], dtype='<U1'),\n",
       " 'rand_seed_dith': 1651531080,\n",
       " 'rand_seed_noise': 1148333065,\n",
       " 'TargetID': array(['HD-84406', 'HD-84406'], dtype='<U15'),\n",
       " 'TargetRA': array(['09:47:30.2970', '09:47:30.2970'], dtype='<U13'),\n",
       " 'TargetDec': array(['+63:14:49.96', '+63:14:49.96'], dtype='<U12'),\n",
       " 'aperture': array([['NRCA1_GRISMTS256', 'NRCA2_GRISMTS256', 'NRCA3_GRISMTS256',\n",
       "         'NRCA4_GRISMTS256', 'NRCA5_GRISM256_F322W2'],\n",
       "        ['NRCA1_GRISMTS256', 'NRCA2_GRISMTS256', 'NRCA3_GRISMTS256',\n",
       "         'NRCA4_GRISMTS256', 'NRCA5_GRISM256_F322W2']], dtype='<U21'),\n",
       " 'pri_dith': array([1, 1]),\n",
       " 'sub_dith': array([1, 1]),\n",
       " 'targ1': array([13, 13]),\n",
       " 'targ2': array(['HD-8440', 'HD-8440'], dtype='<U8'),\n",
       " 'ra': array([146.87624, 146.87624]),\n",
       " 'dec': array([63.24721, 63.24721]),\n",
       " 'basex': array([0., 0.]),\n",
       " 'basey': array([5., 5.]),\n",
       " 'dithx': array([ 0.052, -0.052]),\n",
       " 'dithy': array([-7.37,  7.37]),\n",
       " 'v2': array([50.706, 50.869]),\n",
       " 'v3': array([-558.847, -544.106]),\n",
       " 'idlx': array([ 0.052, -0.052]),\n",
       " 'idly': array([-2.37, 12.37]),\n",
       " 'obs_label': array(['LW Grism Ice Monitor #1 Mod-A 256 subarray',\n",
       "        'LW Grism Ice Monitor #1 Mod-A 256 subarray'], dtype='<U42'),\n",
       " 'obs_id_info': array([{'program_number': '01409', 'observation_number': '001', 'visit_number': '001', 'visit_group': '02', 'sequence_id': '1', 'activity_id': '01', 'exposure_number': '00001', 'visit_id': '01409001001', 'obs_id': 'V01409001001P0000000002101'},\n",
       "        {'program_number': '01409', 'observation_number': '001', 'visit_number': '001', 'visit_group': '02', 'sequence_id': '1', 'activity_id': '01', 'exposure_number': '00002', 'visit_id': '01409001001', 'obs_id': 'V01409001001P0000000002101'}],\n",
       "       dtype=object),\n",
       " 'level': array(['TARGET', 'TILE'], dtype='<U6'),\n",
       " 'type': array(['SCIENCE', 'SCIENCE'], dtype='<U7'),\n",
       " 'ddist': array([ 0.   , 14.741]),\n",
       " 'ModuleAPT': array(['A', 'A'], dtype='<U1'),\n",
       " 'sw_filters': array(['F212N', 'F212N'], dtype='<U5'),\n",
       " 'sw_pupils': array(['CLEAR', 'CLEAR'], dtype='<U5'),\n",
       " 'lw_filters': array(['F322W2', 'F322W2'], dtype='<U6'),\n",
       " 'lw_pupils': array(['GRISMR', 'GRISMR'], dtype='<U6'),\n",
       " 'coron_mask': array(['NONE', 'NONE'], dtype='<U4'),\n",
       " 'mode': array(['imaging', 'imaging'], dtype='<U7'),\n",
       " 'subarray_name': array(['SUBGRISM256', 'SUBGRISM256'], dtype='<U11'),\n",
       " 'readout': array(['RAPID', 'RAPID'], dtype='<U5'),\n",
       " 'nints': array(['10', '10'], dtype='<U2'),\n",
       " 'ngroups': array(['5', '5'], dtype='<U1'),\n",
       " 'noutputs': array([1, 1]),\n",
       " 'detectors': array([['NRCA1', 'NRCA2', 'NRCA3', 'NRCA4', 'NRCA5'],\n",
       "        ['NRCA1', 'NRCA2', 'NRCA3', 'NRCA4', 'NRCA5']], dtype='<U5')}"
      ]
     },
     "execution_count": 49,
     "metadata": {},
     "output_type": "execute_result"
    }
   ],
   "source": [
    "visit_dict"
   ]
  },
  {
   "cell_type": "code",
   "execution_count": 48,
   "id": "detailed-reducing",
   "metadata": {
    "scrolled": false
   },
   "outputs": [
    {
     "data": {
      "text/plain": [
       "[array([ 0.0503554 , -2.36010486]), array([-0.05275878, 12.37800296])]"
      ]
     },
     "execution_count": 48,
     "metadata": {},
     "output_type": "execute_result"
    }
   ],
   "source": [
    "tel_point.position_offsets_act"
   ]
  },
  {
   "cell_type": "code",
   "execution_count": null,
   "id": "directed-cream",
   "metadata": {},
   "outputs": [],
   "source": []
  },
  {
   "cell_type": "code",
   "execution_count": 38,
   "id": "radical-order",
   "metadata": {},
   "outputs": [],
   "source": [
    "det = obs_params['det_obj']\n",
    "kw = res = {**det.to_dict(), **det.multiaccum.to_dict()}\n",
    "nrc.update_detectors(**kw)"
   ]
  },
  {
   "cell_type": "code",
   "execution_count": 40,
   "id": "friendly-roberts",
   "metadata": {},
   "outputs": [
    {
     "data": {
      "text/plain": [
       "{'wind_mode': 'WINDOW',\n",
       " 'nout': 1,\n",
       " 'xpix': 2048,\n",
       " 'ypix': 256,\n",
       " 'x0': 0,\n",
       " 'y0': 0,\n",
       " 'read_mode': 'RAPID',\n",
       " 'nint': 10,\n",
       " 'ngroup': 5,\n",
       " 'nf': 1,\n",
       " 'nd1': 0,\n",
       " 'nd2': 0,\n",
       " 'nd3': 0}"
      ]
     },
     "execution_count": 40,
     "metadata": {},
     "output_type": "execute_result"
    }
   ],
   "source": [
    "nrc.det_info"
   ]
  },
  {
   "cell_type": "code",
   "execution_count": 34,
   "id": "worldwide-lexington",
   "metadata": {},
   "outputs": [
    {
     "data": {
      "text/plain": [
       "{'wind_mode': 'WINDOW', 'nout': 1, 'xpix': 2048, 'ypix': 256, 'x0': 0, 'y0': 0}"
      ]
     },
     "execution_count": 34,
     "metadata": {},
     "output_type": "execute_result"
    }
   ],
   "source": [
    "det.to_dict()"
   ]
  },
  {
   "cell_type": "code",
   "execution_count": 35,
   "id": "alternative-inspector",
   "metadata": {},
   "outputs": [
    {
     "data": {
      "text/plain": [
       "{'read_mode': 'RAPID',\n",
       " 'nint': 10,\n",
       " 'ngroup': 5,\n",
       " 'nf': 1,\n",
       " 'nd1': 0,\n",
       " 'nd2': 0,\n",
       " 'nd3': 0}"
      ]
     },
     "execution_count": 35,
     "metadata": {},
     "output_type": "execute_result"
    }
   ],
   "source": [
    "det.multiaccum.to_dict()"
   ]
  },
  {
   "cell_type": "code",
   "execution_count": 31,
   "id": "offshore-mauritius",
   "metadata": {},
   "outputs": [
    {
     "data": {
      "text/plain": [
       "{'wind_mode': 'STRIPE',\n",
       " 'nout': 4,\n",
       " 'xpix': 2048,\n",
       " 'ypix': 256,\n",
       " 'x0': 0,\n",
       " 'y0': 0,\n",
       " 'read_mode': 'RAPID',\n",
       " 'nint': 1,\n",
       " 'ngroup': 1,\n",
       " 'nf': 1,\n",
       " 'nd1': 0,\n",
       " 'nd2': 0,\n",
       " 'nd3': 0}"
      ]
     },
     "execution_count": 31,
     "metadata": {},
     "output_type": "execute_result"
    }
   ],
   "source": [
    "nrc.det_info"
   ]
  },
  {
   "cell_type": "code",
   "execution_count": 33,
   "id": "adequate-eight",
   "metadata": {
    "scrolled": false
   },
   "outputs": [
    {
     "name": "stdout",
     "output_type": "stream",
     "text": [
      "NRCA5_GRISM256_F322W2\n",
      "NRCA5_GRISM128_F322W2\n",
      "NRCA5_GRISM64_F322W2\n",
      "NRCA5_GRISM256_F277W\n",
      "NRCA5_GRISM128_F277W\n",
      "NRCA5_GRISM64_F277W\n",
      "NRCA5_GRISM256_F356W\n",
      "NRCA5_GRISM128_F356W\n",
      "NRCA5_GRISM64_F356W\n",
      "NRCA5_GRISM256_F444W\n",
      "NRCA5_GRISM128_F444W\n",
      "NRCA5_GRISM64_F444W\n",
      "NRCA5_GRISM_F322W2\n",
      "NRCA5_GRISM_F277W\n",
      "NRCA5_GRISM_F356W\n",
      "NRCA5_GRISM_F444W\n",
      "NRCA1_GRISMTS\n",
      "NRCA1_GRISMTS256\n",
      "NRCA1_GRISMTS128\n",
      "NRCA1_GRISMTS64\n",
      "NRCA3_GRISMTS\n",
      "NRCA3_GRISMTS256\n",
      "NRCA3_GRISMTS128\n",
      "NRCA3_GRISMTS64\n",
      "NRCA5_TAGRISMTS32\n",
      "NRCA5_TAGRISMTS32_F405N\n",
      "NRCA5_TAGRISMTS_SCI_F322W2\n",
      "NRCA5_TAGRISMTS_SCI_F444W\n",
      "NRCB5_GRISM256_F322W2\n",
      "NRCB5_GRISM128_F322W2\n",
      "NRCB5_GRISM64_F322W2\n",
      "NRCB2_GRISMTS256\n",
      "NRCB2_GRISMTS128\n",
      "NRCB2_GRISMTS64\n",
      "NRCB4_GRISMTS256\n",
      "NRCB4_GRISMTS128\n",
      "NRCB4_GRISMTS64\n",
      "NRCA5_GRISMC_WFSS\n",
      "NRCA5_GRISMR_WFSS\n",
      "NRCALL_GRISMC_WFSS\n",
      "NRCALL_GRISMR_WFSS\n",
      "NRCB5_GRISMC_WFSS\n",
      "NRCB5_GRISMR_WFSS\n",
      "NRCA5_GRISMR_WFSS_F250M_CS\n",
      "NRCB5_GRISMR_WFSS_F250M_CS\n",
      "NRCA5_GRISMR_WFSS_F277W_CS\n",
      "NRCB5_GRISMR_WFSS_F277W_CS\n",
      "NRCA5_GRISMR_WFSS_F300M_CS\n",
      "NRCB5_GRISMR_WFSS_F300M_CS\n",
      "NRCA5_GRISMR_WFSS_F322W2_CS\n",
      "NRCB5_GRISMR_WFSS_F322W2_CS\n",
      "NRCA5_GRISMR_WFSS_F335M_CS\n",
      "NRCB5_GRISMR_WFSS_F335M_CS\n",
      "NRCA5_GRISMR_WFSS_F356W_CS\n",
      "NRCB5_GRISMR_WFSS_F356W_CS\n",
      "NRCA5_GRISMR_WFSS_F360M_CS\n",
      "NRCB5_GRISMR_WFSS_F360M_CS\n",
      "NRCA5_GRISMR_WFSS_F410M_CS\n",
      "NRCB5_GRISMR_WFSS_F410M_CS\n",
      "NRCA5_GRISMR_WFSS_F430M_CS\n",
      "NRCB5_GRISMR_WFSS_F430M_CS\n",
      "NRCA5_GRISMR_WFSS_F444W_CS\n",
      "NRCB5_GRISMR_WFSS_F444W_CS\n",
      "NRCA5_GRISMR_WFSS_F460M_CS\n",
      "NRCB5_GRISMR_WFSS_F460M_CS\n",
      "NRCA5_GRISMR_WFSS_F480M_CS\n",
      "NRCB5_GRISMR_WFSS_F480M_CS\n",
      "NRCA5_GRISMC_WFSS_F250M_CS\n",
      "NRCB5_GRISMC_WFSS_F250M_CS\n",
      "NRCA5_GRISMC_WFSS_F277W_CS\n",
      "NRCB5_GRISMC_WFSS_F277W_CS\n",
      "NRCA5_GRISMC_WFSS_F300M_CS\n",
      "NRCB5_GRISMC_WFSS_F300M_CS\n",
      "NRCA5_GRISMC_WFSS_F322W2_CS\n",
      "NRCB5_GRISMC_WFSS_F322W2_CS\n",
      "NRCA5_GRISMC_WFSS_F335M_CS\n",
      "NRCB5_GRISMC_WFSS_F335M_CS\n",
      "NRCA5_GRISMC_WFSS_F356W_CS\n",
      "NRCB5_GRISMC_WFSS_F356W_CS\n",
      "NRCA5_GRISMC_WFSS_F360M_CS\n",
      "NRCB5_GRISMC_WFSS_F360M_CS\n",
      "NRCA5_GRISMC_WFSS_F410M_CS\n",
      "NRCB5_GRISMC_WFSS_F410M_CS\n",
      "NRCA5_GRISMC_WFSS_F430M_CS\n",
      "NRCB5_GRISMC_WFSS_F430M_CS\n",
      "NRCA5_GRISMC_WFSS_F444W_CS\n",
      "NRCB5_GRISMC_WFSS_F444W_CS\n",
      "NRCA5_GRISMC_WFSS_F460M_CS\n",
      "NRCB5_GRISMC_WFSS_F460M_CS\n",
      "NRCA5_GRISMC_WFSS_F480M_CS\n",
      "NRCB5_GRISMC_WFSS_F480M_CS\n",
      "NRCA5_GRISMR_WFSS_F250M_PS\n",
      "NRCB5_GRISMR_WFSS_F250M_PS\n",
      "NRCA5_GRISMR_WFSS_F277W_PS\n",
      "NRCB5_GRISMR_WFSS_F277W_PS\n",
      "NRCA5_GRISMR_WFSS_F300M_PS\n",
      "NRCB5_GRISMR_WFSS_F300M_PS\n",
      "NRCA5_GRISMR_WFSS_F322W2_PS\n",
      "NRCB5_GRISMR_WFSS_F322W2_PS\n",
      "NRCA5_GRISMR_WFSS_F335M_PS\n",
      "NRCB5_GRISMR_WFSS_F335M_PS\n",
      "NRCA5_GRISMR_WFSS_F356W_PS\n",
      "NRCB5_GRISMR_WFSS_F356W_PS\n",
      "NRCA5_GRISMR_WFSS_F360M_PS\n",
      "NRCB5_GRISMR_WFSS_F360M_PS\n",
      "NRCA5_GRISMR_WFSS_F410M_PS\n",
      "NRCB5_GRISMR_WFSS_F410M_PS\n",
      "NRCA5_GRISMR_WFSS_F430M_PS\n",
      "NRCB5_GRISMR_WFSS_F430M_PS\n",
      "NRCA5_GRISMR_WFSS_F444W_PS\n",
      "NRCB5_GRISMR_WFSS_F444W_PS\n",
      "NRCA5_GRISMR_WFSS_F460M_PS\n",
      "NRCB5_GRISMR_WFSS_F460M_PS\n",
      "NRCA5_GRISMR_WFSS_F480M_PS\n",
      "NRCB5_GRISMR_WFSS_F480M_PS\n",
      "NRCA5_GRISMC_WFSS_F250M_PS\n",
      "NRCB5_GRISMC_WFSS_F250M_PS\n",
      "NRCA5_GRISMC_WFSS_F277W_PS\n",
      "NRCB5_GRISMC_WFSS_F277W_PS\n",
      "NRCA5_GRISMC_WFSS_F300M_PS\n",
      "NRCB5_GRISMC_WFSS_F300M_PS\n",
      "NRCA5_GRISMC_WFSS_F322W2_PS\n",
      "NRCB5_GRISMC_WFSS_F322W2_PS\n",
      "NRCA5_GRISMC_WFSS_F335M_PS\n",
      "NRCB5_GRISMC_WFSS_F335M_PS\n",
      "NRCA5_GRISMC_WFSS_F356W_PS\n",
      "NRCB5_GRISMC_WFSS_F356W_PS\n",
      "NRCA5_GRISMC_WFSS_F360M_PS\n",
      "NRCB5_GRISMC_WFSS_F360M_PS\n",
      "NRCA5_GRISMC_WFSS_F410M_PS\n",
      "NRCB5_GRISMC_WFSS_F410M_PS\n",
      "NRCA5_GRISMC_WFSS_F430M_PS\n",
      "NRCB5_GRISMC_WFSS_F430M_PS\n",
      "NRCA5_GRISMC_WFSS_F444W_PS\n",
      "NRCB5_GRISMC_WFSS_F444W_PS\n",
      "NRCA5_GRISMC_WFSS_F460M_PS\n",
      "NRCB5_GRISMC_WFSS_F460M_PS\n",
      "NRCA5_GRISMC_WFSS_F480M_PS\n",
      "NRCB5_GRISMC_WFSS_F480M_PS\n"
     ]
    }
   ],
   "source": [
    "import pysiaf\n",
    "siaf = pysiaf.Siaf('NIRCam')\n",
    "for k in list(siaf.apernames):\n",
    "    if 'GRISM' in k:\n",
    "        print(k)"
   ]
  },
  {
   "cell_type": "code",
   "execution_count": 15,
   "id": "searching-milwaukee",
   "metadata": {},
   "outputs": [],
   "source": [
    "arr = np.array([1,2])\n",
    "ind_mask = arr==1\n"
   ]
  },
  {
   "cell_type": "code",
   "execution_count": 16,
   "id": "gentle-programmer",
   "metadata": {},
   "outputs": [
    {
     "data": {
      "text/plain": [
       "array([ True, False])"
      ]
     },
     "execution_count": 16,
     "metadata": {},
     "output_type": "execute_result"
    }
   ],
   "source": [
    "ind_mask"
   ]
  },
  {
   "cell_type": "code",
   "execution_count": 12,
   "id": "mineral-nirvana",
   "metadata": {},
   "outputs": [],
   "source": [
    "visit_dict = visits['001:001']"
   ]
  },
  {
   "cell_type": "code",
   "execution_count": 22,
   "id": "surprised-documentation",
   "metadata": {},
   "outputs": [
    {
     "data": {
      "text/plain": [
       "1"
      ]
     },
     "execution_count": 22,
     "metadata": {},
     "output_type": "execute_result"
    }
   ],
   "source": [
    "visit_dict['aperture'][ind_mask]"
   ]
  },
  {
   "cell_type": "code",
   "execution_count": 30,
   "id": "nominated-catalog",
   "metadata": {},
   "outputs": [
    {
     "data": {
      "text/plain": [
       "(array([0]), array([4]))"
      ]
     },
     "execution_count": 30,
     "metadata": {},
     "output_type": "execute_result"
    }
   ],
   "source": [
    "np.where(visit_dict['detectors'][ind_mask] == 'NRCA5')"
   ]
  },
  {
   "cell_type": "code",
   "execution_count": 36,
   "id": "reasonable-mechanics",
   "metadata": {},
   "outputs": [
    {
     "data": {
      "text/plain": [
       "(array([4]),)"
      ]
     },
     "execution_count": 36,
     "metadata": {},
     "output_type": "execute_result"
    }
   ],
   "source": [
    "np.where(visit_dict['detectors'][ind_mask].flatten() == 'NRCA5')"
   ]
  },
  {
   "cell_type": "code",
   "execution_count": 38,
   "id": "efficient-motel",
   "metadata": {},
   "outputs": [
    {
     "data": {
      "text/plain": [
       "'NRCA5_GRISM256_F322W2'"
      ]
     },
     "execution_count": 38,
     "metadata": {},
     "output_type": "execute_result"
    }
   ],
   "source": [
    "ind_det = np.where(visit_dict['detectors'][ind_mask] == 'NRCA5')\n",
    "visit_dict['apertures'][ind_mask][ind_det][0]"
   ]
  },
  {
   "cell_type": "code",
   "execution_count": null,
   "id": "changing-whole",
   "metadata": {},
   "outputs": [],
   "source": [
    "apname = visit_dict['aperture'][ind_mask][0]"
   ]
  },
  {
   "cell_type": "code",
   "execution_count": null,
   "id": "rolled-verification",
   "metadata": {},
   "outputs": [],
   "source": []
  },
  {
   "cell_type": "code",
   "execution_count": null,
   "id": "separated-version",
   "metadata": {},
   "outputs": [],
   "source": []
  },
  {
   "cell_type": "code",
   "execution_count": 20,
   "id": "seven-channels",
   "metadata": {},
   "outputs": [
    {
     "data": {
      "text/plain": [
       "{'obs_num': 22,\n",
       " 'visit_num': 1,\n",
       " 'visit_start': 26383,\n",
       " 'slew_duration': 51,\n",
       " 'visit_duration': 1451,\n",
       " 'exp_start_times': array([26626, 27384]),\n",
       " 'APTTemplate': 'NircamEngineeringImaging',\n",
       " 'PrimaryDitherType': array(['NONE', 'NONE'], dtype='<U4'),\n",
       " 'PrimaryDithers': array(['NONE', 'NONE'], dtype='<U4'),\n",
       " 'DitherSize': array(['NONE', 'NONE'], dtype='<U4'),\n",
       " 'SubpixelPositions': array(['1', '1'], dtype='<U1'),\n",
       " 'SubpixelDitherType': array(['STANDARD', 'STANDARD'], dtype='<U8'),\n",
       " 'SmallGridDitherType': array(['NONE', 'NONE'], dtype='<U4'),\n",
       " 'DitherPatternType': array(['NONE', 'NONE'], dtype='<U4'),\n",
       " 'ImageDithers': array(['NONE', 'NONE'], dtype='<U4'),\n",
       " 'number_of_dithers': array(['1', '1'], dtype='<U1'),\n",
       " 'rand_seed_dith': 437753479,\n",
       " 'rand_seed_noise': 3771821479,\n",
       " 'TargetID': array(['HD-84406', 'HD-84406'], dtype='<U15'),\n",
       " 'TargetRA': array(['09:47:30.2970', '09:47:30.2970'], dtype='<U13'),\n",
       " 'TargetDec': array(['+63:14:49.96', '+63:14:49.96'], dtype='<U12'),\n",
       " 'aperture': array(['NRCAS_FULL', 'NRCAS_FULL'], dtype='<U21'),\n",
       " 'pri_dith': array([1, 1]),\n",
       " 'sub_dith': array([1, 1]),\n",
       " 'targ1': array([13, 13]),\n",
       " 'targ2': array(['HD-8440', 'HD-8440'], dtype='<U8'),\n",
       " 'ra': array([146.87624, 146.87624]),\n",
       " 'dec': array([63.24721, 63.24721]),\n",
       " 'basex': array([30., 30.]),\n",
       " 'basey': array([5., 5.]),\n",
       " 'dithx': array([ 0.697, -0.697]),\n",
       " 'dithy': array([-52.507,  52.507]),\n",
       " 'v2': array([50.662, 51.719]),\n",
       " 'v3': array([-545.693, -440.675]),\n",
       " 'idlx': array([30.697, 29.303]),\n",
       " 'idly': array([-47.507,  57.507]),\n",
       " 'obs_label': array(['Module A GrismR -V2 1 column 2 pts',\n",
       "        'Module A GrismR -V2 1 column 2 pts'], dtype='<U42'),\n",
       " 'obs_id_info': array([{'program_number': '01409', 'observation_number': '022', 'visit_number': '001', 'visit_group': '02', 'sequence_id': '1', 'activity_id': '01', 'exposure_number': '00001', 'visit_id': '01409022001', 'obs_id': 'V01409022001P0000000002101'},\n",
       "        {'program_number': '01409', 'observation_number': '022', 'visit_number': '001', 'visit_group': '02', 'sequence_id': '1', 'activity_id': '01', 'exposure_number': '00002', 'visit_id': '01409022001', 'obs_id': 'V01409022001P0000000002101'}],\n",
       "       dtype=object),\n",
       " 'level': array(['TARGET', 'TILE'], dtype='<U6'),\n",
       " 'type': array(['SCIENCE', 'SCIENCE'], dtype='<U7'),\n",
       " 'ddist': array([  0.   , 105.023]),\n",
       " 'ModuleAPT': array(['A', 'A'], dtype='<U1'),\n",
       " 'sw_filters': array(['F212N', 'F212N'], dtype='<U5'),\n",
       " 'sw_pupils': array(['CLEAR', 'CLEAR'], dtype='<U5'),\n",
       " 'lw_filters': array(['F322W2', 'F322W2'], dtype='<U6'),\n",
       " 'lw_pupils': array(['GRISMR', 'GRISMR'], dtype='<U6'),\n",
       " 'coron_mask': array(['NONE', 'NONE'], dtype='<U4'),\n",
       " 'mode': array(['imaging', 'imaging'], dtype='<U7'),\n",
       " 'subarray_name': array(['FULL', 'FULL'], dtype='<U11'),\n",
       " 'readout': array(['RAPID', 'RAPID'], dtype='<U5'),\n",
       " 'nints': array(['10', '10'], dtype='<U2'),\n",
       " 'ngroups': array(['3', '3'], dtype='<U1'),\n",
       " 'noutputs': array([4, 4]),\n",
       " 'detectors': array([['NRCA1', 'NRCA2', 'NRCA3', 'NRCA4'],\n",
       "        ['NRCA1', 'NRCA2', 'NRCA3', 'NRCA4']], dtype='<U5')}"
      ]
     },
     "execution_count": 20,
     "metadata": {},
     "output_type": "execute_result"
    }
   ],
   "source": [
    "visits['022:001']"
   ]
  },
  {
   "cell_type": "code",
   "execution_count": 10,
   "id": "induced-composite",
   "metadata": {},
   "outputs": [],
   "source": [
    "obs_params = apt_obj.gen_obs_params('001:001', '00001', 'NRCA5', grp_id=2)"
   ]
  },
  {
   "cell_type": "code",
   "execution_count": 11,
   "id": "cultural-synthesis",
   "metadata": {
    "scrolled": false
   },
   "outputs": [
    {
     "data": {
      "text/plain": [
       "{'pi_name': 'Erin Smith',\n",
       " 'title': 'CAR_NIRCAM-0035: NIRCAM Ice Measurement',\n",
       " 'category': 'COM',\n",
       " 'sub_category': 'NIRCAM',\n",
       " 'science_category': 'Stellar Physics',\n",
       " 'target_name': 'HD-84406',\n",
       " 'catalog_name': 'UNKNOWN',\n",
       " 'ra': 146.8762375,\n",
       " 'dec': 63.24721111111111,\n",
       " 'pa_v3': 161.5806619288712,\n",
       " 'roll_offset': 0,\n",
       " 'solar_elong': 123.12452583911617,\n",
       " 'pitch_ang': 33.124525839116174,\n",
       " 'siaf_ap': <pysiaf.Aperture object AperName=NRCA5_GRISM256_F322W2 >,\n",
       " 'ra_obs': 146.8766636399694,\n",
       " 'dec_obs': 63.24658117907037,\n",
       " 'siaf_ap_ref': <pysiaf.Aperture object AperName=NRCA5_GRISM256_F322W2 >,\n",
       " 'ra_ref': 146.8766636399694,\n",
       " 'dec_ref': 63.24658117907037,\n",
       " 'date-obs': '2022-03-01',\n",
       " 'time-obs': '12:00:00.000',\n",
       " 'obs_id_info': {'program_number': '01409',\n",
       "  'observation_number': '001',\n",
       "  'visit_number': '001',\n",
       "  'visit_group': '02',\n",
       "  'sequence_id': '1',\n",
       "  'activity_id': '01',\n",
       "  'exposure_number': '00001',\n",
       "  'visit_id': '01409001001',\n",
       "  'obs_id': 'V01409001001P0000000002101'},\n",
       " 'obs_label': 'LW Grism Ice Monitor #1 Mod-A 256 subarray',\n",
       " 'texp_start_relative': 25418,\n",
       " 'visit_start_relative': 23416,\n",
       " 'det_obj': <pynrc.pynrc_core.DetectorOps at 0x7fa0d3e09b90>,\n",
       " 'module': 'A',\n",
       " 'channel': 'LONG',\n",
       " 'detector': 'NRCALONG',\n",
       " 'filter': 'F322W2',\n",
       " 'pupil': 'GRISMR',\n",
       " 'coron_mask': 'NONE',\n",
       " 'visit_level': 'TARGET',\n",
       " 'visit_type': 'SCIENCE',\n",
       " 'visit_mode': 'wfss',\n",
       " 'exp_type': 'NRC_IMAGE',\n",
       " 'subarray_name': 'SUBGRISM256',\n",
       " 'xstart': 1,\n",
       " 'ystart': 1,\n",
       " 'xsize': 2048,\n",
       " 'ysize': 256,\n",
       " 'fastaxis': -1,\n",
       " 'slowaxis': 2,\n",
       " 'noutputs': 1,\n",
       " 'readpatt': 'RAPID',\n",
       " 'nframes': 1,\n",
       " 'ngroups': 5,\n",
       " 'nints': 10,\n",
       " 'sample_time': 10,\n",
       " 'frame_time': 5.3148,\n",
       " 'group_time': 5.3148,\n",
       " 'groupgap': 0,\n",
       " 'nresets1': 1,\n",
       " 'nresets2': 1,\n",
       " 'integration_time': 26.574,\n",
       " 'exposure_time': 265.74,\n",
       " 'tint_plus_overhead': 31.8888,\n",
       " 'texp_plus_overhead': 318.888,\n",
       " 'int_times': array([( 1, 59639.79418981, 59639.7943436 , 59639.79449738, 59639.79418981, 59639.7943436 , 59639.79449738),\n",
       "        ( 2, 59639.7945589 , 59639.79471268, 59639.79486647, 59639.7945589 , 59639.79471268, 59639.79486647),\n",
       "        ( 3, 59639.79492798, 59639.79508177, 59639.79523555, 59639.79492798, 59639.79508177, 59639.79523555),\n",
       "        ( 4, 59639.79529706, 59639.79545085, 59639.79560463, 59639.79529706, 59639.79545085, 59639.79560463),\n",
       "        ( 5, 59639.79566615, 59639.79581993, 59639.79597372, 59639.79566615, 59639.79581993, 59639.79597372),\n",
       "        ( 6, 59639.79603523, 59639.79618902, 59639.7963428 , 59639.79603523, 59639.79618902, 59639.7963428 ),\n",
       "        ( 7, 59639.79640431, 59639.7965581 , 59639.79671188, 59639.79640431, 59639.7965581 , 59639.79671188),\n",
       "        ( 8, 59639.7967734 , 59639.79692718, 59639.79708097, 59639.7967734 , 59639.79692718, 59639.79708097),\n",
       "        ( 9, 59639.79714248, 59639.79729627, 59639.79745005, 59639.79714248, 59639.79729627, 59639.79745005),\n",
       "        (10, 59639.79751156, 59639.79766535, 59639.79781913, 59639.79751156, 59639.79766535, 59639.79781913)],\n",
       "       dtype=[('integration_number', '<i2'), ('int_start_MJD_UTC', '<f8'), ('int_mid_MJD_UTC', '<f8'), ('int_end_MJD_UTC', '<f8'), ('int_start_BJD_TDB', '<f8'), ('int_mid_BJD_TDB', '<f8'), ('int_end_BJD_TDB', '<f8')]),\n",
       " 'integration_start': 1,\n",
       " 'integration_end': 10,\n",
       " 'group_times': array([[( 1, 1, 790, 68942202, 800, b'2022-03-01T19:09:02.203', 256, 2048, 0, 0, b'Normal Completion', 59639.79794216, 59639.79794216)],\n",
       "        [( 1, 2, 790, 68947517, 599, b'2022-03-01T19:09:07.518', 256, 2048, 0, 0, b'Normal Completion', 59639.79800368, 59639.79800368)],\n",
       "        [( 1, 3, 790, 68952832, 399, b'2022-03-01T19:09:12.832', 256, 2048, 0, 0, b'Normal Completion', 59639.79806519, 59639.79806519)],\n",
       "        [( 1, 4, 790, 68958147, 199, b'2022-03-01T19:09:18.147', 256, 2048, 0, 0, b'Normal Completion', 59639.7981267 , 59639.7981267 )],\n",
       "        [( 1, 5, 790, 68963462,   0, b'2022-03-01T19:09:23.462', 256, 2048, 0, 0, b'Normal Completion', 59639.79818822, 59639.79818822)],\n",
       "        [( 2, 1, 790, 68974091, 599, b'2022-03-01T19:09:34.092', 256, 2048, 0, 0, b'Normal Completion', 59639.79831125, 59639.79831125)],\n",
       "        [( 2, 2, 790, 68979406, 399, b'2022-03-01T19:09:39.406', 256, 2048, 0, 0, b'Normal Completion', 59639.79837276, 59639.79837276)],\n",
       "        [( 2, 3, 790, 68984721, 199, b'2022-03-01T19:09:44.721', 256, 2048, 0, 0, b'Normal Completion', 59639.79843427, 59639.79843427)],\n",
       "        [( 2, 4, 790, 68990036,   0, b'2022-03-01T19:09:50.036', 256, 2048, 0, 0, b'Normal Completion', 59639.79849579, 59639.79849579)],\n",
       "        [( 2, 5, 790, 68995350, 800, b'2022-03-01T19:09:55.351', 256, 2048, 0, 0, b'Normal Completion', 59639.7985573 , 59639.7985573 )],\n",
       "        [( 3, 1, 790, 69005980, 399, b'2022-03-01T19:10:05.980', 256, 2048, 0, 0, b'Normal Completion', 59639.79868033, 59639.79868033)],\n",
       "        [( 3, 2, 790, 69011295, 199, b'2022-03-01T19:10:11.295', 256, 2048, 0, 0, b'Normal Completion', 59639.79874184, 59639.79874184)],\n",
       "        [( 3, 3, 790, 69016609, 999, b'2022-03-01T19:10:16.610', 256, 2048, 0, 0, b'Normal Completion', 59639.79880336, 59639.79880336)],\n",
       "        [( 3, 4, 790, 69021924, 800, b'2022-03-01T19:10:21.925', 256, 2048, 0, 0, b'Normal Completion', 59639.79886487, 59639.79886487)],\n",
       "        [( 3, 5, 790, 69027239, 600, b'2022-03-01T19:10:27.240', 256, 2048, 0, 0, b'Normal Completion', 59639.79892638, 59639.79892638)],\n",
       "        [( 4, 1, 790, 69037869, 199, b'2022-03-01T19:10:37.869', 256, 2048, 0, 0, b'Normal Completion', 59639.79904941, 59639.79904941)],\n",
       "        [( 4, 2, 790, 69043183, 999, b'2022-03-01T19:10:43.184', 256, 2048, 0, 0, b'Normal Completion', 59639.79911093, 59639.79911093)],\n",
       "        [( 4, 3, 790, 69048498, 799, b'2022-03-01T19:10:48.499', 256, 2048, 0, 0, b'Normal Completion', 59639.79917244, 59639.79917244)],\n",
       "        [( 4, 4, 790, 69053813, 600, b'2022-03-01T19:10:53.814', 256, 2048, 0, 0, b'Normal Completion', 59639.79923395, 59639.79923395)],\n",
       "        [( 4, 5, 790, 69059128, 400, b'2022-03-01T19:10:59.128', 256, 2048, 0, 0, b'Normal Completion', 59639.79929547, 59639.79929547)],\n",
       "        [( 5, 1, 790, 69069757, 999, b'2022-03-01T19:11:09.758', 256, 2048, 0, 0, b'Normal Completion', 59639.7994185 , 59639.7994185 )],\n",
       "        [( 5, 2, 790, 69075072, 799, b'2022-03-01T19:11:15.073', 256, 2048, 0, 0, b'Normal Completion', 59639.79948001, 59639.79948001)],\n",
       "        [( 5, 3, 790, 69080387, 600, b'2022-03-01T19:11:20.388', 256, 2048, 0, 0, b'Normal Completion', 59639.79954152, 59639.79954152)],\n",
       "        [( 5, 4, 790, 69085702, 400, b'2022-03-01T19:11:25.702', 256, 2048, 0, 0, b'Normal Completion', 59639.79960304, 59639.79960304)],\n",
       "        [( 5, 5, 790, 69091017, 200, b'2022-03-01T19:11:31.017', 256, 2048, 0, 0, b'Normal Completion', 59639.79966455, 59639.79966455)],\n",
       "        [( 6, 1, 790, 69101646, 799, b'2022-03-01T19:11:41.647', 256, 2048, 0, 0, b'Normal Completion', 59639.79978758, 59639.79978758)],\n",
       "        [( 6, 2, 790, 69106961, 599, b'2022-03-01T19:11:46.962', 256, 2048, 0, 0, b'Normal Completion', 59639.79984909, 59639.79984909)],\n",
       "        [( 6, 3, 790, 69112276, 400, b'2022-03-01T19:11:52.276', 256, 2048, 0, 0, b'Normal Completion', 59639.79991061, 59639.79991061)],\n",
       "        [( 6, 4, 790, 69117591, 200, b'2022-03-01T19:11:57.591', 256, 2048, 0, 0, b'Normal Completion', 59639.79997212, 59639.79997212)],\n",
       "        [( 6, 5, 790, 69122906,   0, b'2022-03-01T19:12:02.906', 256, 2048, 0, 0, b'Normal Completion', 59639.80003363, 59639.80003363)],\n",
       "        [( 7, 1, 790, 69133535, 599, b'2022-03-01T19:12:13.536', 256, 2048, 0, 0, b'Normal Completion', 59639.80015666, 59639.80015666)],\n",
       "        [( 7, 2, 790, 69138850, 399, b'2022-03-01T19:12:18.850', 256, 2048, 0, 0, b'Normal Completion', 59639.80021818, 59639.80021818)],\n",
       "        [( 7, 3, 790, 69144165, 200, b'2022-03-01T19:12:24.165', 256, 2048, 0, 0, b'Normal Completion', 59639.80027969, 59639.80027969)],\n",
       "        [( 7, 4, 790, 69149480,   0, b'2022-03-01T19:12:29.480', 256, 2048, 0, 0, b'Normal Completion', 59639.8003412 , 59639.8003412 )],\n",
       "        [( 7, 5, 790, 69154794, 800, b'2022-03-01T19:12:34.795', 256, 2048, 0, 0, b'Normal Completion', 59639.80040272, 59639.80040272)],\n",
       "        [( 8, 1, 790, 69165424, 399, b'2022-03-01T19:12:45.424', 256, 2048, 0, 0, b'Normal Completion', 59639.80052575, 59639.80052575)],\n",
       "        [( 8, 2, 790, 69170739, 200, b'2022-03-01T19:12:50.739', 256, 2048, 0, 0, b'Normal Completion', 59639.80058726, 59639.80058726)],\n",
       "        [( 8, 3, 790, 69176054,   0, b'2022-03-01T19:12:56.054', 256, 2048, 0, 0, b'Normal Completion', 59639.80064877, 59639.80064877)],\n",
       "        [( 8, 4, 790, 69181368, 800, b'2022-03-01T19:13:01.369', 256, 2048, 0, 0, b'Normal Completion', 59639.80071029, 59639.80071029)],\n",
       "        [( 8, 5, 790, 69186683, 599, b'2022-03-01T19:13:06.684', 256, 2048, 0, 0, b'Normal Completion', 59639.8007718 , 59639.8007718 )],\n",
       "        [( 9, 1, 790, 69197313, 199, b'2022-03-01T19:13:17.313', 256, 2048, 0, 0, b'Normal Completion', 59639.80089483, 59639.80089483)],\n",
       "        [( 9, 2, 790, 69202628,   0, b'2022-03-01T19:13:22.628', 256, 2048, 0, 0, b'Normal Completion', 59639.80095634, 59639.80095634)],\n",
       "        [( 9, 3, 790, 69207942, 800, b'2022-03-01T19:13:27.943', 256, 2048, 0, 0, b'Normal Completion', 59639.80101786, 59639.80101786)],\n",
       "        [( 9, 4, 790, 69213257, 600, b'2022-03-01T19:13:33.258', 256, 2048, 0, 0, b'Normal Completion', 59639.80107937, 59639.80107937)],\n",
       "        [( 9, 5, 790, 69218572, 399, b'2022-03-01T19:13:38.572', 256, 2048, 0, 0, b'Normal Completion', 59639.80114088, 59639.80114088)],\n",
       "        [(10, 1, 790, 69229201, 999, b'2022-03-01T19:13:49.202', 256, 2048, 0, 0, b'Normal Completion', 59639.80126391, 59639.80126391)],\n",
       "        [(10, 2, 790, 69234516, 800, b'2022-03-01T19:13:54.517', 256, 2048, 0, 0, b'Normal Completion', 59639.80132543, 59639.80132543)],\n",
       "        [(10, 3, 790, 69239831, 600, b'2022-03-01T19:13:59.832', 256, 2048, 0, 0, b'Normal Completion', 59639.80138694, 59639.80138694)],\n",
       "        [(10, 4, 790, 69245146, 400, b'2022-03-01T19:14:05.146', 256, 2048, 0, 0, b'Normal Completion', 59639.80144845, 59639.80144845)],\n",
       "        [(10, 5, 790, 69250461, 199, b'2022-03-01T19:14:10.461', 256, 2048, 0, 0, b'Normal Completion', 59639.80150997, 59639.80150997)]],\n",
       "       dtype=[('integration_number', '<i2'), ('group_number', '<i2'), ('end_day', '<i2'), ('end_milliseconds', '<i4'), ('end_submilliseconds', '<i2'), ('group_end_time', 'S26'), ('number_of_columns', '<i2'), ('number_of_rows', '<i2'), ('number_of_gaps', '<i2'), ('completion_code_number', '<i2'), ('completion_code_text', 'S36'), ('bary_end_time', '<f8'), ('helio_end_time', '<f8')]),\n",
       " 'pridith_pattern_type': 'NONE',\n",
       " 'pridith_points_packing': 'NONE',\n",
       " 'pridith_npoints': 'NONE',\n",
       " 'position_number': 1,\n",
       " 'pattern_start': 1,\n",
       " 'total_points': '1',\n",
       " 'dither_points': '1',\n",
       " 'pattern_size': 'NONE',\n",
       " 'sgd_pattern': 'NONE',\n",
       " 'subpixel_number': 1,\n",
       " 'subpixel_total_points': 1,\n",
       " 'subpixel_pattern': 'STANDARD',\n",
       " 'x_offset': 0.052,\n",
       " 'y_offset': -2.37,\n",
       " 'EXSEGNUM': None,\n",
       " 'EXSEGTOT': None,\n",
       " 'filename': 'jw01409001001_02101_00001_nrca5_uncal.fits',\n",
       " 'save_dir': None,\n",
       " 'nexposures': 2,\n",
       " 'ddist': 0.0,\n",
       " 'pid': '01409',\n",
       " 'visit_key': '001:001'}"
      ]
     },
     "execution_count": 11,
     "metadata": {},
     "output_type": "execute_result"
    }
   ],
   "source": [
    "obs_params"
   ]
  },
  {
   "cell_type": "code",
   "execution_count": 9,
   "id": "continued-bahrain",
   "metadata": {
    "scrolled": false
   },
   "outputs": [
    {
     "data": {
      "text/plain": [
       "{'obs_num': 1,\n",
       " 'visit_num': 1,\n",
       " 'visit_start': 23416,\n",
       " 'slew_duration': 1800,\n",
       " 'visit_duration': 1167,\n",
       " 'exp_start_times': array([25418, 25928]),\n",
       " 'PrimaryDitherType': array(['NONE', 'NONE'], dtype='<U4'),\n",
       " 'PrimaryDithers': array(['NONE', 'NONE'], dtype='<U4'),\n",
       " 'DitherSize': array(['NONE', 'NONE'], dtype='<U4'),\n",
       " 'SubpixelPositions': array(['1', '1'], dtype='<U1'),\n",
       " 'SubpixelDitherType': array(['STANDARD', 'STANDARD'], dtype='<U8'),\n",
       " 'SmallGridDitherType': array(['NONE', 'NONE'], dtype='<U4'),\n",
       " 'DitherPatternType': array(['NONE', 'NONE'], dtype='<U4'),\n",
       " 'ImageDithers': array(['NONE', 'NONE'], dtype='<U4'),\n",
       " 'number_of_dithers': array(['1', '1'], dtype='<U1'),\n",
       " 'rand_seed_dith': 3710271437,\n",
       " 'rand_seed_noise': 191294463,\n",
       " 'TargetID': array(['HD-84406', 'HD-84406'], dtype='<U15'),\n",
       " 'TargetRA': array(['09:47:30.2970', '09:47:30.2970'], dtype='<U13'),\n",
       " 'TargetDec': array(['+63:14:49.96', '+63:14:49.96'], dtype='<U12'),\n",
       " 'aperture': array(['NRCA5_GRISM256_F322W2', 'NRCA5_GRISM256_F322W2'], dtype='<U21'),\n",
       " 'pri_dith': array([1, 1]),\n",
       " 'sub_dith': array([1, 1]),\n",
       " 'targ1': array([13, 13]),\n",
       " 'targ2': array(['HD-8440', 'HD-8440'], dtype='<U8'),\n",
       " 'ra': array([146.87624, 146.87624]),\n",
       " 'dec': array([63.24721, 63.24721]),\n",
       " 'basex': array([0., 0.]),\n",
       " 'basey': array([5., 5.]),\n",
       " 'dithx': array([ 0.052, -0.052]),\n",
       " 'dithy': array([-7.37,  7.37]),\n",
       " 'v2': array([50.706, 50.869]),\n",
       " 'v3': array([-558.847, -544.106]),\n",
       " 'idlx': array([ 0.052, -0.052]),\n",
       " 'idly': array([-2.37, 12.37]),\n",
       " 'obs_label': array(['LW Grism Ice Monitor #1 Mod-A 256 subarray',\n",
       "        'LW Grism Ice Monitor #1 Mod-A 256 subarray'], dtype='<U42'),\n",
       " 'obs_id_info': array([{'program_number': '01409', 'observation_number': '001', 'visit_number': '001', 'visit_group': '02', 'sequence_id': '1', 'activity_id': '01', 'exposure_number': '00001', 'visit_id': '01409001001', 'obs_id': 'V01409001001P0000000002101'},\n",
       "        {'program_number': '01409', 'observation_number': '001', 'visit_number': '001', 'visit_group': '02', 'sequence_id': '1', 'activity_id': '01', 'exposure_number': '00002', 'visit_id': '01409001001', 'obs_id': 'V01409001001P0000000002101'}],\n",
       "       dtype=object),\n",
       " 'level': array(['TARGET', 'TILE'], dtype='<U6'),\n",
       " 'type': array(['SCIENCE', 'SCIENCE'], dtype='<U7'),\n",
       " 'ddist': array([ 0.   , 14.741]),\n",
       " 'sw_filters': array(['F212N', 'F212N'], dtype='<U5'),\n",
       " 'sw_pupils': array(['CLEAR', 'CLEAR'], dtype='<U5'),\n",
       " 'lw_filters': array(['F322W2', 'F322W2'], dtype='<U6'),\n",
       " 'lw_pupils': array(['GRISMR', 'GRISMR'], dtype='<U6'),\n",
       " 'coron_mask': array(['NONE', 'NONE'], dtype='<U4'),\n",
       " 'mode': array(['imaging', 'imaging'], dtype='<U7'),\n",
       " 'subarray_name': array(['SUBGRISM256', 'SUBGRISM256'], dtype='<U11'),\n",
       " 'readout': array(['RAPID', 'RAPID'], dtype='<U5'),\n",
       " 'nints': array(['10', '10'], dtype='<U2'),\n",
       " 'ngroups': array(['5', '5'], dtype='<U1'),\n",
       " 'noutputs': array([1, 1]),\n",
       " 'detectors': array([['NRCA5'],\n",
       "        ['NRCA5']], dtype='<U5')}"
      ]
     },
     "execution_count": 9,
     "metadata": {},
     "output_type": "execute_result"
    }
   ],
   "source": [
    "visits['001:001']"
   ]
  },
  {
   "cell_type": "code",
   "execution_count": 16,
   "id": "guided-russell",
   "metadata": {},
   "outputs": [
    {
     "data": {
      "text/plain": [
       "['NRCA1', 'NRCA2', 'NRCA3', 'NRCA4']"
      ]
     },
     "execution_count": 16,
     "metadata": {},
     "output_type": "execute_result"
    }
   ],
   "source": [
    "det_amod = ['NRCA1', 'NRCA2', 'NRCA3', 'NRCA4', 'NRCA5']\n",
    "det_amod[0:4]"
   ]
  },
  {
   "cell_type": "code",
   "execution_count": 15,
   "id": "overall-guess",
   "metadata": {
    "scrolled": false
   },
   "outputs": [
    {
     "name": "stdout",
     "output_type": "stream",
     "text": [
      "003:001 [['NRCA1' 'NRCA2' 'NRCA3' 'NRCA4' 'NRCA5']]\n",
      "002:001 [['NRCA1' 'NRCA2' 'NRCA3' 'NRCA4' 'NRCA5']]\n",
      "004:001 [['NRCA1' 'NRCA2' 'NRCA3' 'NRCA4' 'NRCA5']]\n",
      "009:001 [['NRCA5']\n",
      " ['NRCA5']]\n",
      "008:001 [['NRCA5']\n",
      " ['NRCA5']]\n",
      "007:001 [['NRCA5']\n",
      " ['NRCA5']]\n",
      "005:001 [['NRCA5']\n",
      " ['NRCA5']]\n",
      "006:001 [['NRCA5']\n",
      " ['NRCA5']]\n",
      "031:001 [['NRCA1' 'NRCA2' 'NRCA3' 'NRCA4' 'NRCA5']\n",
      " ['NRCA1' 'NRCA2' 'NRCA3' 'NRCA4' 'NRCA5']]\n",
      "032:001 [['NRCA5']\n",
      " ['NRCA5']]\n",
      "033:001 [['NRCA5']\n",
      " ['NRCA5']]\n",
      "034:001 [['NRCA5']]\n",
      "001:001 [['NRCA5']\n",
      " ['NRCA5']]\n",
      "022:001 [['NRCA1' 'NRCA2' 'NRCA3' 'NRCA4' 'NRCA5']\n",
      " ['NRCA1' 'NRCA2' 'NRCA3' 'NRCA4' 'NRCA5']]\n",
      "023:001 [['NRCA1' 'NRCA2' 'NRCA3' 'NRCA4' 'NRCA5']]\n",
      "024:001 [['NRCB5']\n",
      " ['NRCB5']]\n",
      "025:001 [['NRCBS']\n",
      " ['NRCBS']]\n",
      "026:001 [['NRCBS']]\n"
     ]
    }
   ],
   "source": [
    "for k in visits.keys():\n",
    "    print(k, visits[k]['detectors'])"
   ]
  },
  {
   "cell_type": "code",
   "execution_count": 10,
   "id": "prescription-singapore",
   "metadata": {},
   "outputs": [
    {
     "data": {
      "text/plain": [
       "{'obs_num': 8,\n",
       " 'visit_num': 1,\n",
       " 'visit_start': 8533,\n",
       " 'slew_duration': 265,\n",
       " 'visit_duration': 1326,\n",
       " 'exp_start_times': array([9122, 9655]),\n",
       " 'PrimaryDitherType': array(['NONE', 'NONE'], dtype='<U4'),\n",
       " 'PrimaryDithers': array(['NONE', 'NONE'], dtype='<U4'),\n",
       " 'DitherSize': array(['NONE', 'NONE'], dtype='<U4'),\n",
       " 'SubpixelPositions': array(['1', '1'], dtype='<U1'),\n",
       " 'SubpixelDitherType': array(['STANDARD', 'STANDARD'], dtype='<U8'),\n",
       " 'SmallGridDitherType': array(['NONE', 'NONE'], dtype='<U4'),\n",
       " 'DitherPatternType': array(['NONE', 'NONE'], dtype='<U4'),\n",
       " 'ImageDithers': array(['NONE', 'NONE'], dtype='<U4'),\n",
       " 'number_of_dithers': array(['1', '1'], dtype='<U1'),\n",
       " 'rand_seed_dith': 3267179548,\n",
       " 'rand_seed_noise': 2965660561,\n",
       " 'TargetID': array(['GCRV-21765', 'GCRV-21765'], dtype='<U15'),\n",
       " 'TargetRA': array(['05:49:53.4300', '05:49:53.4300'], dtype='<U13'),\n",
       " 'TargetDec': array(['-64:32:24.00', '-64:32:24.00'], dtype='<U12'),\n",
       " 'aperture': array(['NRCA5_GRISM256_F322W2', 'NRCA5_GRISM256_F322W2'], dtype='<U21'),\n",
       " 'pri_dith': array([1, 1]),\n",
       " 'sub_dith': array([1, 1]),\n",
       " 'targ1': array([11, 11]),\n",
       " 'targ2': array(['GCRV-21', 'GCRV-21'], dtype='<U8'),\n",
       " 'ra': array([87.47263, 87.47263]),\n",
       " 'dec': array([-64.54, -64.54]),\n",
       " 'basex': array([0., 0.]),\n",
       " 'basey': array([5., 5.]),\n",
       " 'dithx': array([ 0.029, -0.029]),\n",
       " 'dithy': array([-4.095,  4.095]),\n",
       " 'v2': array([50.742, 50.832]),\n",
       " 'v3': array([-555.571, -547.382]),\n",
       " 'idlx': array([ 0.029, -0.029]),\n",
       " 'idly': array([0.905, 9.095]),\n",
       " 'obs_label': array(['LW Grism Ice Monitor #8', 'LW Grism Ice Monitor #8'], dtype='<U42'),\n",
       " 'obs_id_info': array([{'program_number': '01409', 'observation_number': '008', 'visit_number': '001', 'visit_group': '02', 'sequence_id': '1', 'activity_id': '01', 'exposure_number': '00001', 'visit_id': '01409008001', 'obs_id': 'V01409008001P0000000002101'},\n",
       "        {'program_number': '01409', 'observation_number': '008', 'visit_number': '001', 'visit_group': '02', 'sequence_id': '1', 'activity_id': '01', 'exposure_number': '00002', 'visit_id': '01409008001', 'obs_id': 'V01409008001P0000000002101'}],\n",
       "       dtype=object),\n",
       " 'level': array(['TARGET', 'TILE'], dtype='<U6'),\n",
       " 'type': array(['SCIENCE', 'SCIENCE'], dtype='<U7'),\n",
       " 'ddist': array([0.  , 8.19]),\n",
       " 'sw_filters': array(['CLEAR', 'CLEAR'], dtype='<U5'),\n",
       " 'sw_pupils': array(['WLP4', 'WLP4'], dtype='<U5'),\n",
       " 'lw_filters': array(['F322W2', 'F322W2'], dtype='<U6'),\n",
       " 'lw_pupils': array(['GRISMR', 'GRISMR'], dtype='<U6'),\n",
       " 'coron_mask': array(['NONE', 'NONE'], dtype='<U4'),\n",
       " 'mode': array(['imaging', 'imaging'], dtype='<U7'),\n",
       " 'subarray_name': array(['SUBGRISM256', 'SUBGRISM256'], dtype='<U11'),\n",
       " 'readout': array(['RAPID', 'RAPID'], dtype='<U5'),\n",
       " 'nints': array(['10', '10'], dtype='<U2'),\n",
       " 'ngroups': array(['5', '5'], dtype='<U1'),\n",
       " 'noutputs': array(['NONE', 'NONE'], dtype='<U4'),\n",
       " 'detectors': array([['NRCA5'],\n",
       "        ['NRCA5']], dtype='<U5')}"
      ]
     },
     "execution_count": 10,
     "metadata": {},
     "output_type": "execute_result"
    }
   ],
   "source": [
    "visits['008:001']"
   ]
  },
  {
   "cell_type": "code",
   "execution_count": 9,
   "id": "reflected-proxy",
   "metadata": {
    "scrolled": false
   },
   "outputs": [
    {
     "data": {
      "text/plain": [
       "odict_keys(['003:001', '002:001', '004:001', '009:001', '008:001', '007:001', '005:001', '006:001', '031:001', '032:001', '033:001', '034:001', '001:001', '022:001', '023:001', '024:001', '025:001', '026:001'])"
      ]
     },
     "execution_count": 9,
     "metadata": {},
     "output_type": "execute_result"
    }
   ],
   "source": [
    "visits.keys()"
   ]
  },
  {
   "cell_type": "code",
   "execution_count": 10,
   "id": "bored-cover",
   "metadata": {},
   "outputs": [
    {
     "name": "stdout",
     "output_type": "stream",
     "text": [
      "  Generating Observation...\n"
     ]
    },
    {
     "data": {
      "application/vnd.jupyter.widget-view+json": {
       "model_id": "",
       "version_major": 2,
       "version_minor": 0
      },
      "text/plain": [
       "Single PSFs:   0%|          | 0/21 [00:00<?, ?it/s]"
      ]
     },
     "metadata": {},
     "output_type": "display_data"
    }
   ],
   "source": []
  },
  {
   "cell_type": "code",
   "execution_count": 17,
   "id": "practical-mongolia",
   "metadata": {},
   "outputs": [
    {
     "name": "stdout",
     "output_type": "stream",
     "text": [
      "  Creating ideal slope image...\n"
     ]
    }
   ],
   "source": [
    "# Update detector information\n",
    "obs.update_detectors(wind_mode='STRIPE', ypix=256, read_mode='RAPID', ngroup=10, nint=5)\n",
    "d['obs'] = obs\n",
    "\n",
    "# Create ideal spectral slope images\n",
    "#############################################\n",
    "print('  Creating ideal slope image...')\n",
    "T = d['temp']"
   ]
  },
  {
   "cell_type": "code",
   "execution_count": 20,
   "id": "textile-bundle",
   "metadata": {},
   "outputs": [],
   "source": [
    "# Modify flux due to lower effective collecting area\n",
    "input_pupil_hdul, input_opd_hdul = d['opd']\n",
    "coll_area_seg = 25.78e4 * input_pupil_hdul[0].data.sum() / pupil_hdul[0].data.sum()\n",
    "# S.refs.setref(area=coll_area_seg)\n"
   ]
  },
  {
   "cell_type": "code",
   "execution_count": 15,
   "id": "quality-discovery",
   "metadata": {},
   "outputs": [
    {
     "name": "stdout",
     "output_type": "stream",
     "text": [
      "CPU times: user 4.11 s, sys: 1.77 s, total: 5.87 s\n",
      "Wall time: 3.3 s\n"
     ]
    }
   ],
   "source": [
    "%time psf = obs.calc_psf_from_coeff(return_oversample=False)"
   ]
  },
  {
   "cell_type": "code",
   "execution_count": 16,
   "id": "thorough-hebrew",
   "metadata": {},
   "outputs": [
    {
     "data": {
      "image/png": "[encoded data removed]",
      "text/plain": [
       "<Figure size 1008x180 with 1 Axes>"
      ]
     },
     "metadata": {
      "needs_background": "light"
     },
     "output_type": "display_data"
    }
   ],
   "source": [
    "fig, ax = plt.subplots(1,1, figsize=(14,2.5))\n",
    "\n",
    "ax.imshow(psf[0].data)\n",
    "\n",
    "fig.tight_layout()"
   ]
  },
  {
   "cell_type": "code",
   "execution_count": 14,
   "id": "equal-forward",
   "metadata": {},
   "outputs": [
    {
     "data": {
      "image/png": "[encoded data removed]",
      "text/plain": [
       "<Figure size 1008x180 with 1 Axes>"
      ]
     },
     "metadata": {
      "needs_background": "light"
     },
     "output_type": "display_data"
    }
   ],
   "source": [
    "fig, ax = plt.subplots(1,1, figsize=(14,2.5))\n",
    "\n",
    "ax.imshow(psf[0].data)\n",
    "\n",
    "fig.tight_layout()"
   ]
  },
  {
   "cell_type": "code",
   "execution_count": 27,
   "id": "abroad-thesaurus",
   "metadata": {},
   "outputs": [],
   "source": [
    "bg = obs.bg_zodi_image()\n",
    "bg /= bg.max()\n",
    "bg *= 1000"
   ]
  },
  {
   "cell_type": "code",
   "execution_count": 28,
   "id": "quantitative-bible",
   "metadata": {},
   "outputs": [
    {
     "data": {
      "text/plain": [
       "1000.0"
      ]
     },
     "execution_count": 28,
     "metadata": {},
     "output_type": "execute_result"
    }
   ],
   "source": [
    "bg.max()"
   ]
  },
  {
   "cell_type": "code",
   "execution_count": 29,
   "id": "random-florida",
   "metadata": {},
   "outputs": [
    {
     "data": {
      "text/plain": [
       "<matplotlib.image.AxesImage at 0x7fb290116350>"
      ]
     },
     "execution_count": 29,
     "metadata": {},
     "output_type": "execute_result"
    },
    {
     "data": {
      "image/png": "[encoded data removed]",
      "text/plain": [
       "<Figure size 576x432 with 1 Axes>"
      ]
     },
     "metadata": {
      "needs_background": "light"
     },
     "output_type": "display_data"
    }
   ],
   "source": [
    "plt.imshow(bg)"
   ]
  },
  {
   "cell_type": "code",
   "execution_count": 21,
   "id": "stable-vanilla",
   "metadata": {},
   "outputs": [
    {
     "name": "stdout",
     "output_type": "stream",
     "text": [
      "Filename: (No file associated with this HDUList)\n",
      "No.    Name      Ver    Type      Cards   Dimensions   Format\n",
      "  0  DET_DIST      1 PrimaryHDU      78   (2332, 257)   float64   \n",
      "  1  WAVELENGTHS    1 ImageHDU         7   (2332,)   float64   \n"
     ]
    }
   ],
   "source": [
    "psf.info()"
   ]
  },
  {
   "cell_type": "code",
   "execution_count": null,
   "id": "broken-motivation",
   "metadata": {},
   "outputs": [],
   "source": [
    "opd_dict = inst.get_opd_info()"
   ]
  }
 ],
 "metadata": {
  "kernelspec": {
   "display_name": "Python 3 (ipykernel)",
   "language": "python",
   "name": "python3"
  },
  "language_info": {
   "codemirror_mode": {
    "name": "ipython",
    "version": 3
   },
   "file_extension": ".py",
   "mimetype": "text/x-python",
   "name": "python",
   "nbconvert_exporter": "python",
   "pygments_lexer": "ipython3",
   "version": "3.8.12"
  }
 },
 "nbformat": 4,
 "nbformat_minor": 5
}
