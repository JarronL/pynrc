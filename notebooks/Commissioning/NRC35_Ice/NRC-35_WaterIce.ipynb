{
 "cells": [
  {
   "cell_type": "markdown",
   "id": "textile-greek",
   "metadata": {},
   "source": [
    "# OTE Water Ice Measurements with NIRCam\n",
    "\n",
    "This activity will use NIRCam longwave grism spectra to check for ice contamination associated with the telescope and instrument cooldown."
   ]
  },
  {
   "cell_type": "code",
   "execution_count": 1,
   "id": "speaking-garage",
   "metadata": {},
   "outputs": [],
   "source": [
    "# Import the usual libraries\n",
    "import numpy as np\n",
    "import matplotlib\n",
    "import matplotlib.pyplot as plt\n",
    "\n",
    "# Enable inline plotting at lower left\n",
    "%matplotlib inline\n",
    "\n",
    "# Program bar\n",
    "from tqdm.auto import trange, tqdm"
   ]
  },
  {
   "cell_type": "code",
   "execution_count": 2,
   "id": "defined-thompson",
   "metadata": {},
   "outputs": [
    {
     "name": "stdout",
     "output_type": "stream",
     "text": [
      "pyNRC log messages of level WARN and above will be shown.\n",
      "pyNRC log outputs will be directed to the screen.\n"
     ]
    }
   ],
   "source": [
    "import pynrc\n",
    "from pynrc import nrc_utils\n",
    "from pynrc.nrc_utils import webbpsf, poppy, S\n",
    "\n",
    "pynrc.setup_logging('WARN', verbose=True)"
   ]
  },
  {
   "cell_type": "code",
   "execution_count": 3,
   "id": "hidden-invention",
   "metadata": {},
   "outputs": [],
   "source": [
    "import os\n",
    "from astropy.io import fits, ascii"
   ]
  },
  {
   "cell_type": "code",
   "execution_count": null,
   "id": "vital-birthday",
   "metadata": {},
   "outputs": [],
   "source": []
  },
  {
   "cell_type": "code",
   "execution_count": 4,
   "id": "sophisticated-appeal",
   "metadata": {},
   "outputs": [],
   "source": [
    "webbpsf_data_path = webbpsf.utils.get_webbpsf_data_path()\n",
    "\n",
    "# Pupil and segment information\n",
    "pupil_file = os.path.join(webbpsf_data_path, \"jwst_pupil_RevW_npix1024.fits.gz\")\n",
    "pupil_hdul = fits.open(pupil_file)\n",
    "\n",
    "segmap_file = os.path.join(webbpsf_data_path, \"JWpupil_segments_RevW_npix1024.fits.gz\")\n",
    "segmap_hdul = fits.open(segmap_file)"
   ]
  },
  {
   "cell_type": "code",
   "execution_count": 5,
   "id": "sonic-combining",
   "metadata": {},
   "outputs": [],
   "source": [
    "def segment_pupil_opd(hdu, segment_name):\n",
    "    \"\"\"Extract single segment pupil from input full OPD map\"\"\"\n",
    "    \n",
    "    from webbpsf.webbpsf_core import segname, one_segment_pupil\n",
    "    \n",
    "    if segment_name.upper()=='ALL':\n",
    "        opd_im, opd_header = (hdu.data, hdu.header)\n",
    "\n",
    "        # New Pupil HDUList\n",
    "        hdu = fits.PrimaryHDU(pupil_hdul[0].data)\n",
    "        hdu.header = pupil_hdul[0].header.copy()\n",
    "        pupil_all_hdul = fits.HDUList([hdu])\n",
    "        \n",
    "        # New OPD HDUList\n",
    "        hdu = fits.PrimaryHDU(opd_im * pupil_all_hdul[0].data)\n",
    "        hdu.header = opd_header.copy()\n",
    "        opd_all_hdul = fits.HDUList([hdu])\n",
    "        \n",
    "        return (pupil_all_hdul, opd_all_hdul)\n",
    "\n",
    "    # Parse out segment number\n",
    "    segment_official_name = segname(segment_name)\n",
    "    # Parse out the segment number\n",
    "    num = int(segment_official_name.split('-')[1])\n",
    "    # Index of segment to grab\n",
    "    iseg = num - 1\n",
    "\n",
    "    # Pupil mask of segment only\n",
    "    pupil_seg_hdul = one_segment_pupil(segment_name)\n",
    "    \n",
    "    opd_im, opd_header = (hdu.data, hdu.header)\n",
    "    opd_im_seg = opd_im * pupil_seg_hdul[0].data\n",
    "    \n",
    "    # New Pupil HDUList\n",
    "    hdu = fits.PrimaryHDU(pupil_seg_hdul[0].data)\n",
    "    hdu.header = pupil_seg_hdul[0].header.copy()\n",
    "    pupil_seg_hdul = fits.HDUList([hdu])\n",
    "\n",
    "    # New OPD HDUList\n",
    "    hdu = fits.PrimaryHDU(opd_im_seg * pupil_seg_hdul[0].data)\n",
    "    hdu.header = opd_header.copy()\n",
    "    opd_seg_hdul = fits.HDUList([hdu])\n",
    "    \n",
    "    return (pupil_seg_hdul, opd_seg_hdul)"
   ]
  },
  {
   "cell_type": "code",
   "execution_count": 6,
   "id": "enabling-methodology",
   "metadata": {},
   "outputs": [],
   "source": [
    "def bias_dark(T=80):\n",
    "    \n",
    "    # Grab the appropriate dark ramp\n",
    "    sca = 485\n",
    "    dark_dir = 'NRC_80K/'\n",
    "    dark_files = [f for f in os.listdir(dark_dir)]\n",
    "    matching = [s for s in dark_files if ((\"_{}_\".format(sca) in s) and (s.endswith(\".fits\")))]\n",
    "    fname = dark_dir + matching[0]\n",
    "\n",
    "    # Open the 80K dark fits\n",
    "    hdul = fits.open(fname)\n",
    "\n",
    "    header = hdul[0].header\n",
    "    nint   = header['NINT']\n",
    "    ng     = header['NGROUP']\n",
    "\n",
    "    # Reference pixel correction\n",
    "    data_mn = np.zeros([ng,2048,2048])\n",
    "    for i in range(nint):\n",
    "        data_int = hdul[0].data[i*ng:(i+1)*ng]\n",
    "        ref = NRC_refs(data_int, header)\n",
    "        ref.calc_avg_amps()\n",
    "        ref.correct_amp_refs()\n",
    "\n",
    "        data_mn += ref.data\n",
    "\n",
    "    data_mn /= nint\n",
    "    hdul.close()\n",
    "\n",
    "    # Perform linear fit to averaged ramps\n",
    "    det = ref.detector\n",
    "    tarr = (np.arange(det.multiaccum.ngroup)+1) * ref.detector.time_group\n",
    "    bias_80K, dark_80K = nrc_utils.jl_poly_fit(tarr, data_mn)\n",
    "    \n",
    "    # pynrc data path\n",
    "    pynrc_data_path = pynrc.conf.PYNRC_PATH\n",
    "    \n",
    "    # calib sub-directory info for dark and bias\n",
    "    subdir_dark = os.path.join('calib', f'{sca}', 'SUPER_DARK')\n",
    "    subdir_bias = os.path.join('calib', f'{sca}', 'SUPER_BIAS')\n",
    "\n",
    "    # file names\n",
    "    file_dark0 = f'SUPER_DARK_{sca}.FITS'\n",
    "    file_bias0 = f'SUPER_BIAS_{sca}.FITS'\n",
    "\n",
    "    # Full paths\n",
    "    path_dark0 = os.path.join(pynrc_data_path, subdir_dark, file_dark0)\n",
    "    path_bias0 = os.path.join(pynrc_data_path, subdir_bias, file_bias0)\n",
    "    \n",
    "    hdul_dark0 = fits.open(path_dark0)\n",
    "    hdul_bias0 = fits.open(path_bias0)\n",
    "    \n",
    "    dark0 = hdul_dark0[0].data\n",
    "    bias0 = hdul_bias0[0].data\n",
    "    \n",
    "    # Some interpolation/extrapolation\n",
    "    # Assume linear with log(dark) vs 1/T (Rule07 relationship)\n",
    "    f = ((1/T - 1/39) / (1/80 - 1/39))\n",
    "    dark_new = 10**(np.log10(dark_80K)*f + np.log10(dark0)*(1-f))\n",
    "    # Assume bias offset is linear with temperature \n",
    "    f = ((T-39.0) / (80.0-39.0))\n",
    "    bias_new = (bias_80K*f + bias0*(1-f))\n",
    "    \n",
    "    hdul_dark0.close()\n",
    "    hdul_bias0.close()\n",
    "    \n",
    "    return (bias_new, dark_new)"
   ]
  },
  {
   "cell_type": "markdown",
   "id": "extensive-broadcast",
   "metadata": {},
   "source": [
    "## OTE Ice Observations\n",
    "\n",
    "1. Post LOS-02 pointing and background check **(L+40; OTE = Initial Deployment)**\n",
    " 1. 31: Pointing Pre-Check (HD 84406)\n",
    " 1. 32: Bgrd Levels Sub256 Pre-Check (HD 84406)\n",
    " 1. 33: Star Levels Sub256 Pre-Check (HD 84406)\n",
    " 1. 34: Bgrd Levels Sub64 Pre-Check (HD 84406)\n",
    " 1. 35: Dark and Bias Pre-Check\n",
    "1. Analysis Time **(6 hours)**\n",
    "1. Pre FSM heater off NIRCam with Beam Probing **(L+40; OTE = Initial Deployment)**\n",
    " 1. 1: LW Grism Ice Monitor #1 Mod-A 256 subarray (HD 84406)\n",
    " 1. 22: Module A GrismR -V2 1 column 2 pts (HD 84406)\n",
    " 1. 23: Module A GrismC +V2 1 pt (HD 84406)\n",
    " 1. 24: Module B GrismR 256 subarray (HD 84406)\n",
    " 1. 25: Module B GrismR +V2 1 column 2 pts (HD 84406)\n",
    " 1. 26: Module B GrismC -V2 1 pt (HD 84406)\n",
    "1. Post-FSM heater off NIRCam Observations\n",
    " 1. 2: LW Grism Ice Monitor #2 (HD 84406) **(L+43; OTE = Initial Deployment)**\n",
    " 1. 3: LW Grism Ice Monitor #3 (HD 84406) **(L+47; OTE = Segment Image Array 1)**\n",
    " 1. 4: LW Grism Ice Monitor #4 (HD 84406) **(L+50; OTE = Global Alignment 1)**\n",
    " 1. 5: LW Grism Ice Monitor #5 (BD+86-189) **(L+54; OTE = Image Stacking 1)**\n",
    " 1. 6: LW Grism Ice Monitor #6 (TYC-8558-1141-1) **(L+58; OTE = Coarse Phasing 1)**\n",
    " 1. 7: LW Grism Ice Monitor #7 (GCRV-21765) **(L+67; OTE = Fine Phasing 1)**\n",
    " 1. 8: LW Grism Ice Monitor #8 (GCRV-21765) **(L+77; OTE = MIMF)**\n",
    " 1. 9: LW Grism Ice Monitor #9 (GCRV-21765) **(L+96; OTE = MIMF)**"
   ]
  },
  {
   "cell_type": "code",
   "execution_count": 7,
   "id": "functional-dining",
   "metadata": {},
   "outputs": [],
   "source": [
    "opd_dir = '/Users/jarron/NIRCam/Data/OTE_OPDs/'\n",
    "\n",
    "# 10 total observations, split into 5 pairs\n",
    "obs_dict = {}\n",
    "\n",
    "# L+40 - Use a segment from Deployment_OPDs[7]\n",
    "hdul = fits.open(opd_dir + 'Deployment_OPDs.fits')\n",
    "opd_single = segment_pupil_opd(hdul[7], 'A3')\n",
    "# Post LOS-02 pointing and background check\n",
    "obs_dict['031:001'] = {'opd': opd_single, 'jsig': 0.1, 'temp':86, 'day':'L+40', 'time':'12:00:00'}\n",
    "obs_dict['032:001'] = {'opd': opd_single, 'jsig': 0.1, 'temp':86, 'day':'L+40', 'time':'13:00:00'}\n",
    "obs_dict['033:001'] = {'opd': opd_single, 'jsig': 0.1, 'temp':86, 'day':'L+40', 'time':'14:00:00'}\n",
    "obs_dict['034:001'] = {'opd': opd_single, 'jsig': 0.1, 'temp':86, 'day':'L+40', 'time':'15:00:00'}\n",
    "#obs_dict['035:001'] = {'opd': opd_single, 'jsig': 0.1, 'temp':86, 'day':'L+40', 'time':'16:00:00'}\n",
    "# Pre FSM heater off NIRCam with Beam Probing\n",
    "obs_dict['001:001'] = {'opd': opd_single, 'jsig': 0.1, 'temp':84, 'day':'L+40', 'time':'17:00:00'}\n",
    "obs_dict['022:001'] = {'opd': opd_single, 'jsig': 0.1, 'temp':84, 'day':'L+40', 'time':'18:00:00'}\n",
    "obs_dict['023:001'] = {'opd': opd_single, 'jsig': 0.1, 'temp':84, 'day':'L+40', 'time':'19:00:00'}\n",
    "obs_dict['024:001'] = {'opd': opd_single, 'jsig': 0.1, 'temp':84, 'day':'L+40', 'time':'20:00:00'}\n",
    "obs_dict['025:001'] = {'opd': opd_single, 'jsig': 0.1, 'temp':84, 'day':'L+40', 'time':'21:00:00'}\n",
    "obs_dict['026:001'] = {'opd': opd_single, 'jsig': 0.1, 'temp':84, 'day':'L+40', 'time':'22:00:00'}\n",
    "# L+43 - Initial Deployment\n",
    "obs_dict['002:001']  = {'opd': opd_single, 'jsig': 0.1, 'temp':80, 'day':'L+43'}\n",
    "\n",
    "# L+47 - Segment Image Array 1\n",
    "hdul = fits.open(opd_dir + 'MM_WAS-GLOBAL_ALIGNMENT_small_WITH_TT_R2017102404.fits')\n",
    "obs_dict['003:001']  = {'opd': segment_pupil_opd(hdul[0], 'ALL'), 'jsig': 0.1, 'temp':60, 'day':'L+47'}\n",
    "\n",
    "# L+50 - Global Alignment 1\n",
    "hdul = fits.open(opd_dir + 'MM_WAS-GLOBAL_ALIGNMENT_small_WITH_TT_N2017112103.fits')\n",
    "obs_dict['004:001']  = {'opd': segment_pupil_opd(hdul[0], 'ALL'), 'jsig': 0.01, 'temp':50, 'day':'L+50'}\n",
    "\n",
    "# L+54 - Image Stacking 1\n",
    "hdul = fits.open(opd_dir + 'MM_COARSE_MIMF_N2017102403.fits')\n",
    "obs_dict['005:001']  = {'opd': segment_pupil_opd(hdul[0], 'ALL'), 'jsig': 0.01, 'temp':45, 'day':'L+54'}\n",
    "\n",
    "# L+58 - Coarse Phasing 1 (stacked)\n",
    "hdul = fits.open(opd_dir + 'MM_COARSE_MIMF_R201710240A.fits')\n",
    "obs_dict['006:001']  = {'opd': segment_pupil_opd(hdul[0], 'ALL'), 'jsig': 0.01, 'temp':42, 'day':'L+58'}\n",
    "\n",
    "# L+67 - Fine Phasing 1 (stacked)\n",
    "hdul = fits.open(opd_dir + 'MM_WAS-GLOBAL_ALIGNMENT_WO_TT_R2017112104.fits')\n",
    "obs_dict['007:001']  = {'opd': segment_pupil_opd(hdul[0], 'ALL'), 'jsig': 0.01, 'temp':40, 'day':'L+67'}\n",
    "\n",
    "# L+77/96 - MIMF\n",
    "hdul = fits.open(opd_dir + 'MM_FINE_PHASING_R2017120405.fits')\n",
    "obs_dict['008:001']  = {'opd': segment_pupil_opd(hdul[0], 'ALL'), 'jsig': 0.01, 'temp':40, 'day':'L+77'}\n",
    "obs_dict['009:001']  = {'opd': segment_pupil_opd(hdul[0], 'ALL'), 'jsig': 0.01, 'temp':39, 'day':'L+96'}"
   ]
  },
  {
   "cell_type": "code",
   "execution_count": 8,
   "id": "female-species",
   "metadata": {
    "scrolled": false
   },
   "outputs": [],
   "source": [
    "apt_dir = '../../APT_output/'\n",
    "\n",
    "xml_file      = os.path.join(apt_dir, 'pid1409.xml')\n",
    "pointing_file = os.path.join(apt_dir, 'pid1409.pointing')\n",
    "json_file     = os.path.join(apt_dir, 'pid1409.timing.json')\n",
    "sm_acct_file  = os.path.join(apt_dir, 'pid1409.smart_accounting')\n",
    "\n",
    "from pynrc.simul import apt\n",
    "apt_obj = apt.DMS_input(xml_file, pointing_file, json_file, sm_acct_file, obs_date='2022-01-20')\n",
    "visits = apt_obj.program_info\n",
    "\n",
    "# Create obs params for all LW observations only\n",
    "for vkey in obs_dict.keys():\n",
    "    oid = visits[vkey]['obs_id_info'][0]\n",
    "    mod = visits[vkey]['ModuleAPT'][0]\n",
    "    detid = 485 if mod=='A' else 490\n",
    "    exp_id = oid['exposure_number']\n",
    "    grp_id = oid['visit_group']\n",
    "    seq_id = oid['sequence_id']\n",
    "    act_id = oid['activity_id']\n",
    "    obs_params = apt_obj.gen_obs_params(vkey, exp_id, detid, grp_id=grp_id, \n",
    "                                        seq_id=seq_id, act_id=act_id)\n",
    "    # Store in obs_dict\n",
    "    obs_dict[vkey]['obs_params'] = obs_params"
   ]
  },
  {
   "cell_type": "code",
   "execution_count": 12,
   "id": "common-focus",
   "metadata": {},
   "outputs": [
    {
     "name": "stdout",
     "output_type": "stream",
     "text": [
      "  Generating Observation...\n"
     ]
    },
    {
     "data": {
      "application/vnd.jupyter.widget-view+json": {
       "model_id": "",
       "version_major": 2,
       "version_minor": 0
      },
      "text/plain": [
       "Single PSFs:   0%|          | 0/21 [00:00<?, ?it/s]"
      ]
     },
     "metadata": {},
     "output_type": "display_data"
    },
    {
     "name": "stdout",
     "output_type": "stream",
     "text": [
      "  Creating ideal slope image...\n"
     ]
    }
   ],
   "source": [
    "vkey = '001:001'\n",
    "\n",
    "ice_scale=1\n",
    "nvr_scale=0\n",
    "ote_scale=0\n",
    "nc_scale=0\n",
    "spec_ang=0\n",
    "\n",
    "\n",
    "d = obs_dict[vkey]\n",
    "print('  Generating Observation...')\n",
    "\n",
    "obs_params = d['obs_params']\n",
    "filt   = obs_params['filter']\n",
    "apname = obs_params['siaf_ap'].AperName\n",
    "\n",
    "input_pupil_hdul, input_opd_hdul = d['opd']\n",
    "jsig = d['jsig']\n",
    "d['ice_scale'] = ice_scale\n",
    "d['nvr_scale'] = nvr_scale\n",
    "d['ote_scale'] = ote_scale\n",
    "d['nc_scale'] = nc_scale\n",
    "nrc = pynrc.NIRCam(filter=filt, apname=apname,\n",
    "                   fov_pix=257, oversample=2, autogen_coeffs=True,\n",
    "                   ice_scale=d['ice_scale'], nvr_scale=d['nvr_scale'],\n",
    "                   ote_scale=d['ote_scale'], nc_scale=d['nc_scale'],\n",
    "                   pupil=input_pupil_hdul, pupilopd=input_opd_hdul,\n",
    "                   save=False, force=True, quick=True)\n",
    "\n",
    "# Update detector information\n",
    "det = obs_params['det_obj']\n",
    "kw = res = {**det.to_dict(), **det.multiaccum.to_dict()}\n",
    "nrc.update_detectors(**kw)\n",
    "d['nrc'] = nrc\n",
    "\n",
    "# Create ideal spectral slope images\n",
    "#############################################\n",
    "print('  Creating ideal slope image...')\n",
    "\n"
   ]
  },
  {
   "cell_type": "code",
   "execution_count": 13,
   "id": "adjusted-track",
   "metadata": {},
   "outputs": [
    {
     "data": {
      "application/vnd.jupyter.widget-view+json": {
       "model_id": "",
       "version_major": 2,
       "version_minor": 0
      },
      "text/plain": [
       "Filters:   0%|          | 0/29 [00:00<?, ?it/s]"
      ]
     },
     "metadata": {},
     "output_type": "display_data"
    }
   ],
   "source": [
    "from astropy import units as u\n",
    "from astropy.coordinates import SkyCoord\n",
    "from pynrc.simul import ngNRC\n",
    "\n",
    "ra  = obs_params['ra']\n",
    "dec = obs_params['dec']\n",
    "coords = SkyCoord(ra, dec, unit=(u.deg, u.deg), \n",
    "                  frame='icrs', equinox='J2000', obstime='J2000')\n",
    "ra = coords.ra.deg\n",
    "dec = coords.dec.deg\n",
    "\n",
    "# src_tbl = ngNRC.make_gaia_source_table(coords, remove_cen_star=False)\n",
    "src_tbl = ngNRC.make_simbad_source_table(coords, remove_cen_star=False)\n",
    "src_tbl"
   ]
  },
  {
   "cell_type": "code",
   "execution_count": 14,
   "id": "anticipated-shelter",
   "metadata": {},
   "outputs": [],
   "source": [
    "visit_dict = visits[vkey]\n",
    "tel_point = apt.gen_jwst_pointing(visit_dict, obs_params)"
   ]
  },
  {
   "cell_type": "code",
   "execution_count": 37,
   "id": "chief-surfing",
   "metadata": {},
   "outputs": [],
   "source": [
    "ra_all  = src_tbl['ra'].to('deg').value\n",
    "dec_all = src_tbl['dec'].to('deg').value\n",
    "mags    = src_tbl[nrc.filter].data\n",
    "expnum = int(obs_params['obs_id_info']['exposure_number'])"
   ]
  },
  {
   "cell_type": "code",
   "execution_count": 68,
   "id": "irish-festival",
   "metadata": {},
   "outputs": [],
   "source": [
    "hdul = nrc_utils.gen_unconvolved_point_source_image(nrc, tel_point, ra_all, dec_all, mags,\n",
    "                                                    expnum=expnum)"
   ]
  },
  {
   "cell_type": "code",
   "execution_count": 57,
   "id": "reliable-longer",
   "metadata": {},
   "outputs": [],
   "source": [
    "from pynrc.nrc_utils import pickoff_xy, grism_wref\n",
    "from webbpsf_ext.spectra import mag_to_counts\n",
    "\n",
    "tel_pointing = tel_point\n",
    "ra_deg  = ra_all\n",
    "dec_deg = dec_all\n",
    "kwargs = {}\n",
    "\n",
    "siaf_ap_obs = nrc.siaf_ap\n",
    "flux_obj = mag_to_counts(mags, nrc.bandpass, **kwargs)\n",
    "\n",
    "if isinstance(expnum, str):\n",
    "    expnum = int(expnum)\n",
    "    \n",
    "ind = np.where(tel_pointing.exp_nums == expnum)[0][0]\n",
    "idl_off = [tel_pointing.position_offsets_act[ind]]\n",
    "v2_obj, v3_obj = tel_pointing.radec_to_frame((ra_deg, dec_deg), frame_out='tel', idl_offsets=idl_off)\n",
    "\n",
    "\n",
    "ap_siaf = siaf_ap_obs\n",
    "ap_obs = ap_siaf.AperName\n",
    "\n",
    "# Pickoff mirror information\n",
    "xpix, ypix = ap_siaf.tel_to_sci(v2_obj, v3_obj)\n",
    "x1, x2, y1, y2 = pickoff_xy(ap_obs)\n",
    "\n",
    "# Mask all sources that are outside pick-off mirror\n",
    "# mask = ((xpix>x1) & (xpix<x2-1)) & ((ypix>y1) & (ypix<y2-1))\n",
    "# xpix = xpix[mask]\n",
    "# ypix = ypix[mask]\n",
    "# mags_field = mags[mask]\n",
    "# src_flux = flux_obj[mask]\n",
    "\n",
    "# # Get undeviated wavelength\n",
    "# wref = grism_wref(nrc.pupil_mask, nrc.module)\n",
    "\n",
    "# sp = pynrc.stellar_spectrum()\n",
    "# wspec, imspec = nrc.calc_psf_from_coeff()"
   ]
  },
  {
   "cell_type": "code",
   "execution_count": 67,
   "id": "endless-logging",
   "metadata": {},
   "outputs": [],
   "source": [
    "siaf_ap = tel_pointing.siaf_ap_obs\n",
    "ra_ref, dec_ref = (tel_pointing.ra_obs, tel_pointing.dec_obs)\n",
    "att = tel_pointing.attitude_matrix(idl_off=idl_off[0], ap_siaf_ref=siaf_ap, coord_ref=(ra_ref, dec_ref))"
   ]
  },
  {
   "cell_type": "code",
   "execution_count": null,
   "id": "supreme-import",
   "metadata": {},
   "outputs": [],
   "source": [
    "NRCA5_GRISM256_F322W2\n",
    "NRCA5_GRISM128_F322W2\n",
    "NRCA5_GRISM64_F322W2\n",
    "NRCA5_GRISM256_F277W\n",
    "NRCA5_GRISM128_F277W\n",
    "NRCA5_GRISM64_F277W\n",
    "NRCA5_GRISM256_F356W\n",
    "NRCA5_GRISM128_F356W\n",
    "NRCA5_GRISM64_F356W\n",
    "NRCA5_GRISM256_F444W\n",
    "NRCA5_GRISM128_F444W\n",
    "NRCA5_GRISM64_F444W\n",
    "NRCA5_GRISM_F322W2\n",
    "NRCA5_GRISM_F277W\n",
    "NRCA5_GRISM_F356W\n",
    "NRCA5_GRISM_F444W\n",
    "NRCA1_GRISMTS\n",
    "NRCA1_GRISMTS256\n",
    "NRCA1_GRISMTS128\n",
    "NRCA1_GRISMTS64\n",
    "NRCA3_GRISMTS\n",
    "NRCA3_GRISMTS256\n",
    "NRCA3_GRISMTS128\n",
    "NRCA3_GRISMTS64\n",
    "NRCA5_TAGRISMTS32\n",
    "NRCA5_TAGRISMTS32_F405N\n",
    "NRCA5_TAGRISMTS_SCI_F322W2\n",
    "NRCA5_TAGRISMTS_SCI_F444W\n",
    "NRCB5_GRISM256_F322W2\n",
    "NRCB5_GRISM128_F322W2\n",
    "NRCB5_GRISM64_F322W2"
   ]
  },
  {
   "cell_type": "code",
   "execution_count": 76,
   "id": "fifty-shakespeare",
   "metadata": {},
   "outputs": [],
   "source": []
  },
  {
   "cell_type": "code",
   "execution_count": 89,
   "id": "martial-accordance",
   "metadata": {},
   "outputs": [
    {
     "name": "stdout",
     "output_type": "stream",
     "text": [
      "Ref Point (64 pix): (1580.9877721612831, 280.00447976852183)\n",
      "Ref Point (128 pix): (1580.9877721612831, 280.00447976852183)\n",
      "Ref Point (256 pix): (1580.9877721612831, 280.00447976852183)\n"
     ]
    },
    {
     "data": {
      "image/png": "[encoded data removed]",
      "text/plain": [
       "<Figure size 1008x180 with 1 Axes>"
      ]
     },
     "metadata": {
      "needs_background": "light"
     },
     "output_type": "display_data"
    }
   ],
   "source": [
    "import pysiaf\n",
    "siaf = pysiaf.Siaf('NIRCam')\n",
    "\n",
    "\n",
    "fig, ax = plt.subplots(1,1, figsize=(14,2.5))\n",
    "for sz in [64, 128, 256]:\n",
    "    ap_siaf = siaf[f'NRCA5_GRISM_F322W2']\n",
    "    ap_siaf.plot(frame='tel', mark_ref=True, ax=ax, label=True)\n",
    "    print(f\"Ref Point ({sz} pix):\", ap_siaf.reference_point('sci'))\n",
    "\n",
    "fig.tight_layout()"
   ]
  },
  {
   "cell_type": "code",
   "execution_count": 66,
   "id": "outstanding-violin",
   "metadata": {},
   "outputs": [
    {
     "data": {
      "text/plain": [
       "(1580.9859008012788, 35.007956286030854)"
      ]
     },
     "execution_count": 66,
     "metadata": {},
     "output_type": "execute_result"
    }
   ],
   "source": [
    "siaf_ap.set_attitude_matrix(att)\n",
    "siaf_ap.convert(ra_ref, dec_ref, 'sky', 'sci')"
   ]
  },
  {
   "cell_type": "code",
   "execution_count": 68,
   "id": "collect-uncle",
   "metadata": {},
   "outputs": [
    {
     "data": {
      "text/plain": [
       "(1581.7628256728124, -1.727724593589457)"
      ]
     },
     "execution_count": 68,
     "metadata": {},
     "output_type": "execute_result"
    }
   ],
   "source": [
    "siaf_ap.set_attitude_matrix(att)\n",
    "siaf_ap.convert(ra_ref, dec_ref, 'sky', 'sci')"
   ]
  },
  {
   "cell_type": "code",
   "execution_count": 54,
   "id": "ultimate-conducting",
   "metadata": {},
   "outputs": [
    {
     "data": {
      "text/plain": [
       "(50.767712, -556.476341)"
      ]
     },
     "execution_count": 54,
     "metadata": {},
     "output_type": "execute_result"
    }
   ],
   "source": [
    "tel_pointing.siaf_ap_ref.set_attitude_matrix()"
   ]
  },
  {
   "cell_type": "code",
   "execution_count": 55,
   "id": "iraqi-celtic",
   "metadata": {},
   "outputs": [
    {
     "data": {
      "text/plain": [
       "((array([  50.70880098,  213.15915237,  228.41647918, -203.25185495]),\n",
       "  array([-558.84346179, -629.56374187, -738.29901118, -391.89264841])),\n",
       " (array([  50.86992474,  213.32024112,  228.57755795, -203.09069736]),\n",
       "  array([-544.10584528, -614.82612992, -723.56140013, -377.15504307])))"
      ]
     },
     "execution_count": 55,
     "metadata": {},
     "output_type": "execute_result"
    }
   ],
   "source": [
    "v2_obj, v3_obj"
   ]
  },
  {
   "cell_type": "code",
   "execution_count": 49,
   "id": "active-occasion",
   "metadata": {},
   "outputs": [
    {
     "data": {
      "text/plain": [
       "(array([  50.70880098,  213.15915237,  228.41647918, -203.25185495]),\n",
       " array([-558.84346179, -629.56374187, -738.29901118, -391.89264841]))"
      ]
     },
     "execution_count": 49,
     "metadata": {},
     "output_type": "execute_result"
    }
   ],
   "source": [
    "v2_obj"
   ]
  },
  {
   "cell_type": "code",
   "execution_count": 39,
   "id": "acting-computer",
   "metadata": {},
   "outputs": [
    {
     "data": {
      "text/plain": [
       "(array([146.8762375 , 146.81478027, 146.842714  , 146.95336467]),\n",
       " array([63.24721111, 63.28792868, 63.315727  , 63.17027856]))"
      ]
     },
     "execution_count": 39,
     "metadata": {},
     "output_type": "execute_result"
    }
   ],
   "source": [
    "ra_deg, dec_deg"
   ]
  },
  {
   "cell_type": "code",
   "execution_count": 40,
   "id": "careful-connection",
   "metadata": {},
   "outputs": [
    {
     "data": {
      "text/plain": [
       "array([ 1581.76282567,  -914.03368401, -1010.24502393,  5349.3690722 ])"
      ]
     },
     "execution_count": 40,
     "metadata": {},
     "output_type": "execute_result"
    }
   ],
   "source": [
    "xpix"
   ]
  },
  {
   "cell_type": "code",
   "execution_count": 41,
   "id": "capable-circle",
   "metadata": {},
   "outputs": [
    {
     "data": {
      "text/plain": [
       "array([-1.72772459e+00, -1.10559412e+03, -2.61271615e+03,  2.41745145e+03])"
      ]
     },
     "execution_count": 41,
     "metadata": {},
     "output_type": "execute_result"
    }
   ],
   "source": [
    "ypix"
   ]
  },
  {
   "cell_type": "code",
   "execution_count": null,
   "id": "royal-collector",
   "metadata": {},
   "outputs": [],
   "source": []
  },
  {
   "cell_type": "code",
   "execution_count": null,
   "id": "successful-costa",
   "metadata": {},
   "outputs": [],
   "source": []
  },
  {
   "cell_type": "code",
   "execution_count": null,
   "id": "revised-speed",
   "metadata": {},
   "outputs": [],
   "source": [
    "# def gen_grism_image(nrc, tel_pointing, ra_deg, dec_deg, mags, \n",
    "#                     expnum=1, osamp=1, siaf_ap_obs=None, **kwargs):\n",
    "\n",
    "#     \"\"\" Create an unconvolved image with sub-pixel shifts\n",
    "#     \n",
    "#     \"\"\"    \n",
    "from pynrc.obs_nircam import attenuate_with_coron_mask, gen_coron_mask\n",
    "    \n",
    "    # Observation aperture\n",
    "    siaf_ap_obs = nrc.siaf_ap if siaf_ap_obs is None else siaf_ap_obs\n",
    "    ap_obs_name = siaf_ap_obs.AperName\n",
    "    \n",
    "    # Get all source fluxes\n",
    "    # mags = tbl[nrc.filter].data\n",
    "    flux_obj = mag_to_counts(mags, nrc.bandpass, **kwargs)\n",
    "\n",
    "    if isinstance(expnum, str):\n",
    "        expnum = int(expnum)\n",
    "    \n",
    "    ind = np.where(tel_pointing.exp_nums == expnum)[0][0]\n",
    "\n",
    "    # Convert RA, Dec coordiantes into V2/V3 (arcsec)\n",
    "    # ra_deg, dec_deg = (tbl['ra'], tbl['dec'])\n",
    "    idl_off = [tel_pointing.position_offsets_act[ind]]\n",
    "    v2_obj, v3_obj = tel_pointing.radec_to_frame((ra_deg, dec_deg), frame_out='tel', idl_offsets=idl_off)\n",
    "    \n",
    "    # Create initial POM image, then contract to reasonable size\n",
    "    xsci, ysci, im_pom = pickoff_image(ap_obs_name, v2_obj, v3_obj, flux_obj, oversample=osamp)\n",
    "\n",
    "    # Crop based on subarray window size\n",
    "    # Maximum required size depends on PSF and detector readout size\n",
    "\n",
    "    # Min and max sci coordinates to keep\n",
    "    xmin = ymin = int(-nrc.fov_pix/2 - 1)\n",
    "    xmax = int(siaf_ap_obs.XSciSize + nrc.fov_pix/2 + 1)\n",
    "    ymax = int(siaf_ap_obs.YSciSize + nrc.fov_pix/2 + 1)\n",
    "\n",
    "    xmask = (xsci>=xmin) & (xsci<xmax)\n",
    "    ymask = (ysci>=ymin) & (ysci<ymax)\n",
    "\n",
    "    # Keep only regions that contribute to final convolved image\n",
    "    xsci = xsci[xmask]\n",
    "    ysci = ysci[ymask]\n",
    "    im_sci = im_pom[ymask][:,xmask]\n",
    "    \n",
    "    # Make science image HDUList from \n",
    "    hdul_sci_image = fits.HDUList([fits.PrimaryHDU(im_sci)])\n",
    "    hdul_sci_image[0].header['PIXELSCL'] = nrc.pixelscale / osamp\n",
    "    hdul_sci_image[0].header['OSAMP'] = osamp\n",
    "    hdul_sci_image[0].header['INSTRUME'] = nrc.name\n",
    "    hdul_sci_image[0].header['APERNAME'] = ap_obs_name\n",
    "    \n",
    "    # Get X and Y indices corresponding to aperture reference\n",
    "    xind_ref = np.argmin(np.abs(xsci - siaf_ap_obs.XSciRef))\n",
    "    yind_ref = np.argmin(np.abs(ysci - siaf_ap_obs.YSciRef))\n",
    "    hdul_sci_image[0].header['XIND_REF'] = (xind_ref, \"x index of aperture reference\")\n",
    "    hdul_sci_image[0].header['YIND_REF'] = (yind_ref, \"y index of aperture reference\")\n",
    "    hdul_sci_image[0].header['XSCI0']    = (np.min(xsci), \"xsci value at (x,y)=(0,0) corner\")\n",
    "    hdul_sci_image[0].header['YSCI0']    = (np.min(ysci), \"ysci value at (x,y)=(0,0) corner\")\n",
    "    hdul_sci_image[0].header['CFRAME'] = 'sci'\n",
    "\n",
    "    # print(im_pom.shape, im_sci.shape)\n",
    "    \n",
    "    return hdul_sci_image\n"
   ]
  },
  {
   "cell_type": "code",
   "execution_count": null,
   "id": "naval-theater",
   "metadata": {},
   "outputs": [],
   "source": [
    "def place_grism_source(waves, imarr, (xsci, ysci), wref=None, im_coords='sci'):\n",
    "    \"\"\"\n",
    "    Shift image such that undeviated wavelength sits at the\n",
    "    desired pixel location\n",
    "    \"\"\"\n",
    "    \n",
    "    from .maths.coords import det_to_sci\n",
    "\n",
    "    if len(imarr.shape) > 2:\n",
    "        nz, ny_in, nx_in = imarr.shape\n",
    "    else:\n",
    "        nz = 1\n",
    "        ny_in, nx_in = imarr.shape\n",
    "        imarr = imarr.reshape([nz,ny_in,nx_in])\n",
    "    \n",
    "    # Convert to sci coordinates\n",
    "    if im_coords=='det':\n",
    "        det_name = siaf_ap.AperName[3:5]\n",
    "        imarr = det_to_sci(imarr, det_name)\n",
    "\n",
    "    # Determine reference wavelength\n",
    "    if wref is None:\n",
    "        if 'GRISMC' in siaf_ap.AperName:\n",
    "            pupil = 'GRISMC'\n",
    "        elif 'GRISM' in siaf_ap.AperName:\n",
    "            pupil = 'GRISMR'\n",
    "        else: # generic grism\n",
    "            pupil = 'GRISM'\n",
    "        module = 'A' if 'NRCA' in siaf_ap.AperName else 'B'\n",
    "        wref = grism_wref(pupil, module)\n",
    "\n",
    "    # Get reference coordinates\n",
    "    yref, xref = (siaf_ap.YSciRef, siaf_ap.XSciRef)\n",
    "    \n",
    "    # Final image size\n",
    "    ny_out, nx_out = (siaf_ap.YSciSize, siaf_ap.XSciSize)\n",
    "    \n",
    "    # Empirically determine shift value in dispersion direction\n",
    "    wnew_temp = pad_or_cut_to_size(waves, nx_out)\n",
    "    \n",
    "    # Index of reference wavelength associated with ref pixel\n",
    "    ind = (wnew_temp>wref-0.01) & (wnew_temp<wref+0.01)\n",
    "    xnew_temp = np.interp(wref, wnew_temp[ind], np.arange(nx_out)[ind])\n",
    "    xoff = xref - xnew_temp\n",
    "    \n",
    "    # Move to correct position in y\n",
    "    yoff = yref - (int(ny_out/2) - 1)\n",
    "    # if np.mod(ny_in,2)==0: # If even, shift by half a pixel?\n",
    "    #     yoff = yoff + 0.5\n",
    "    \n",
    "    imarr = pad_or_cut_to_size(imarr, (ny_out,nx_out), offset_vals=(yoff,xoff), fill_val=np.nan)\n",
    "    waves = pad_or_cut_to_size(waves, nx_out, offset_vals=xoff, fill_val=np.nan)\n",
    "    \n",
    "    # Remove NaNs\n",
    "    ind_nan = np.isnan(imarr)\n",
    "    imarr[ind_nan] = np.min(imarr[~ind_nan])\n",
    "    # Remove NaNs\n",
    "    # Fill in with wavelength solution (linear extrapolation)\n",
    "    ind_nan = np.isnan(waves)\n",
    "    # waves[ind_nan] = 0\n",
    "    arr = np.arange(nx_out)\n",
    "    cf = jl_poly_fit(arr[~ind_nan], waves[~ind_nan])\n",
    "    waves[ind_nan] = jl_poly(arr[ind_nan], cf)\n",
    "\n",
    "    return waves, imarr\n"
   ]
  },
  {
   "cell_type": "code",
   "execution_count": null,
   "id": "front-lebanon",
   "metadata": {},
   "outputs": [],
   "source": []
  },
  {
   "cell_type": "code",
   "execution_count": 98,
   "id": "healthy-apartment",
   "metadata": {},
   "outputs": [],
   "source": [
    "test = nrc_utils.grism_background_image('F335M', pupil='GRISM90')"
   ]
  },
  {
   "cell_type": "code",
   "execution_count": 99,
   "id": "answering-print",
   "metadata": {},
   "outputs": [
    {
     "data": {
      "text/plain": [
       "<matplotlib.image.AxesImage at 0x7fdda9d49bd0>"
      ]
     },
     "execution_count": 99,
     "metadata": {},
     "output_type": "execute_result"
    },
    {
     "data": {
      "image/png": "[encoded data removed]",
      "text/plain": [
       "<Figure size 576x432 with 1 Axes>"
      ]
     },
     "metadata": {
      "needs_background": "light"
     },
     "output_type": "display_data"
    }
   ],
   "source": [
    "plt.imshow(test)"
   ]
  },
  {
   "cell_type": "code",
   "execution_count": null,
   "id": "forbidden-genetics",
   "metadata": {},
   "outputs": [],
   "source": []
  },
  {
   "cell_type": "code",
   "execution_count": 79,
   "id": "sticky-patrick",
   "metadata": {},
   "outputs": [
    {
     "data": {
      "text/plain": [
       "(array([ 1581.73919896,  2312.37829322,   812.26926264,  2270.16840185,\n",
       "          533.59975454,  1415.74118326,  1448.89733903,   224.26145579,\n",
       "         1730.08401058,  1815.35156691,   432.01195402,  1643.71750116,\n",
       "         2309.40697322,  -267.81454022,   790.69520841,   -46.20518968,\n",
       "         3606.66150519,  1115.62939092,  2720.86067823,   220.08987804,\n",
       "         -914.02242899,  1340.64276708,   363.4733483 ,  3627.42265162,\n",
       "         3622.65013922, -1261.39945926,   385.12478414,  3548.84094056,\n",
       "         -153.14369032,  3733.11084772,  4407.44070153,   222.87480125,\n",
       "        -1436.12103464,  -814.30689115, -1001.93254452,   618.52844288,\n",
       "        -1355.83588339,  -102.74735641,  4384.26743663, -1095.75259516,\n",
       "          637.67864206,  1937.4974786 , -1668.18943661,  -277.29548035,\n",
       "        -1647.56219666, -1736.56694866,  2362.23372884,  1676.29241976,\n",
       "         4813.86609197,   -91.88555892,  3333.74651004, -1884.32293151,\n",
       "         2505.01562529,  4720.47505922,  -628.03868109,  4826.86425766,\n",
       "         4753.91646811,  5213.41253902,  1319.89967019,  -242.23130204,\n",
       "          705.58078581,  1153.1245512 , -2402.94716978, -2335.52139443,\n",
       "         -133.30604208,  5372.65048026,  1064.50940338,  1230.07137581,\n",
       "        -1517.41609471,  5428.56317863,  4559.58439549, -2568.94459641,\n",
       "        -1830.39737624, -1868.16975898,  2786.10523645,  1843.5429153 ,\n",
       "         4273.44067027, -1760.17868427,  5172.91384609, -2458.65320159,\n",
       "         5034.6875554 ,  4945.50596937,  4944.51092443, -2822.97490853,\n",
       "           18.35317578,  5640.36555894,   685.39290653,  5349.37589449,\n",
       "        -3011.35122821,  5046.77149702,  3436.08045851,  3269.37264754,\n",
       "        -2140.39700753, -3117.76685236,  2465.0304148 ,  5543.34969479,\n",
       "         4085.65749824, -3311.1171201 , -3332.4642492 ,  5710.42754252,\n",
       "          625.90555682,  5204.85685208,  4113.45563357,  4414.81161792,\n",
       "         3086.97628097, -3350.88200236, -2971.9475659 , -2705.39102884,\n",
       "         5664.0111847 ,  6152.47912471,  6023.055834  ,  5099.15127786,\n",
       "         3947.68855281,  1442.71346442,  4146.24631061,  6147.33702935,\n",
       "         5193.78766945,  1554.79225407]),\n",
       " array([-1.66867322e+00,  6.63048139e+02,  7.24816975e+02,  1.04513683e+03,\n",
       "        -7.51925747e+02,  1.47015657e+03,  1.51979049e+03,  7.80531907e+02,\n",
       "         1.70452692e+03,  1.73679830e+03, -1.28992709e+03, -1.74707059e+03,\n",
       "         1.68783098e+03,  4.71052899e+02,  1.76600815e+03,  1.42514757e+03,\n",
       "         9.48906308e+02, -2.11811124e+03, -1.85396693e+03, -1.95646650e+03,\n",
       "        -1.10550596e+03, -2.60173638e+03, -2.42543236e+03, -1.73779390e+03,\n",
       "         2.03006730e+03, -4.08128428e+02,  2.75145126e+03,  2.20609988e+03,\n",
       "         2.44902240e+03,  2.09751854e+03,  1.09371514e+03,  2.84183850e+03,\n",
       "        -8.58810890e+02,  2.20716583e+03, -1.81251282e+03, -2.88614521e+03,\n",
       "        -1.30723647e+03, -2.62124588e+03,  1.66035959e+03,  2.06746726e+03,\n",
       "         3.26628814e+03, -3.02518739e+03,  9.48923268e+02,  2.88329544e+03,\n",
       "        -8.69222603e+02,  8.01985491e+02, -3.02081009e+03, -3.18046520e+03,\n",
       "         1.13321696e+03, -2.87620515e+03,  3.13883175e+03, -9.85816253e+02,\n",
       "        -3.16498867e+03, -1.39628644e+03,  3.19166352e+03,  1.81216283e+03,\n",
       "         2.08379439e+03, -7.47005864e+01, -3.47503599e+03, -3.10178567e+03,\n",
       "         3.89906170e+03,  4.01379324e+03, -8.49813858e+01,  1.08791541e+03,\n",
       "        -3.31272261e+03,  9.30821347e+02,  4.17821743e+03,  4.19894297e+03,\n",
       "        -2.40277981e+03, -1.27988782e+02, -2.16604021e+03, -2.41057731e+00,\n",
       "         2.57179719e+03, -2.02917753e+03, -3.46763308e+03, -3.68969192e+03,\n",
       "         3.25747493e+03,  2.79641980e+03,  2.13019454e+03,  1.65327664e+03,\n",
       "        -1.77509691e+03,  2.72912810e+03,  2.74048233e+03,  3.07095882e+01,\n",
       "         4.34456796e+03, -5.96679191e+02, -3.88612308e+03,  2.41755397e+03,\n",
       "         8.90535677e+02, -2.09420764e+03,  4.43227374e+03, -3.58264803e+03,\n",
       "        -2.53584733e+03,  1.42937798e+03,  4.95859147e+03,  2.56798252e+03,\n",
       "        -3.17663892e+03,  7.35526492e+01,  7.41775801e+01, -1.17509833e+03,\n",
       "         5.08089482e+03, -2.08520188e+03,  4.42042025e+03,  4.19612828e+03,\n",
       "        -3.82226714e+03, -8.90472867e+02,  2.78858789e+03, -2.23263499e+03,\n",
       "         2.82447910e+03,  1.32547786e+03,  1.98547058e+03, -2.36866365e+03,\n",
       "         4.71131402e+03, -4.23287139e+03, -3.27401564e+03,  1.64016051e+03,\n",
       "         3.69001785e+03, -4.23435700e+03]))"
      ]
     },
     "execution_count": 79,
     "metadata": {},
     "output_type": "execute_result"
    }
   ],
   "source": [
    "xpix, ypix"
   ]
  },
  {
   "cell_type": "code",
   "execution_count": 73,
   "id": "czech-witness",
   "metadata": {
    "scrolled": false
   },
   "outputs": [
    {
     "data": {
      "text/plain": [
       "<matplotlib.image.AxesImage at 0x7fdda917b310>"
      ]
     },
     "execution_count": 73,
     "metadata": {},
     "output_type": "execute_result"
    },
    {
     "data": {
      "image/png": "[encoded data removed]",
      "text/plain": [
       "<Figure size 576x432 with 1 Axes>"
      ]
     },
     "metadata": {
      "needs_background": "light"
     },
     "output_type": "display_data"
    }
   ],
   "source": [
    "plt.imshow(hdul[0].data**0.2)"
   ]
  },
  {
   "cell_type": "code",
   "execution_count": 63,
   "id": "progressive-beijing",
   "metadata": {},
   "outputs": [
    {
     "data": {
      "text/plain": [
       "array([ 4.753, 18.013, 16.975, 16.422, 16.991, 19.32 , 18.141, 19.062,\n",
       "       17.227, 18.983, 16.202, 16.628, 15.85 , 16.83 , 18.782, 16.408,\n",
       "       15.977, 16.971, 19.412, 15.611, 12.047, 16.857, 16.982, 17.348,\n",
       "       13.523, 19.049, 18.95 , 18.86 , 14.995, 16.937, 13.9  , 14.769,\n",
       "       16.886, 18.856, 16.232, 19.148, 15.042, 16.437, 16.106, 15.16 ,\n",
       "       17.565, 17.233, 18.848, 18.449, 16.354, 17.513, 19.159, 18.457,\n",
       "       17.977, 16.903, 15.018, 19.266, 17.259, 18.84 , 13.488, 15.878,\n",
       "       17.067, 16.933, 16.292, 16.834, 14.101, 17.703, 13.878, 19.526,\n",
       "       19.032, 18.464, 12.827, 16.701, 18.424, 16.846, 16.838, 14.384,\n",
       "       16.337, 18.837,  8.838, 19.469, 17.327, 15.58 , 19.006, 16.908,\n",
       "       16.665, 17.08 , 15.637, 14.307, 13.961, 19.155, 17.758, 14.994,\n",
       "       17.606, 16.802, 16.378, 16.785, 18.298, 16.57 , 19.417, 13.935,\n",
       "       16.133, 18.974, 14.992, 14.265, 18.8  , 17.062, 15.59 , 14.968,\n",
       "       16.153, 17.591, 18.547, 19.458, 17.345, 18.932, 19.158, 16.383,\n",
       "       19.39 , 12.74 , 14.028, 17.014, 17.073, 19.117])"
      ]
     },
     "execution_count": 63,
     "metadata": {},
     "output_type": "execute_result"
    }
   ],
   "source": [
    "src_tbl[nrc.filter].data"
   ]
  },
  {
   "cell_type": "code",
   "execution_count": 49,
   "id": "large-anger",
   "metadata": {},
   "outputs": [
    {
     "data": {
      "text/plain": [
       "{'obs_num': 1,\n",
       " 'visit_num': 1,\n",
       " 'visit_start': 23416,\n",
       " 'slew_duration': 1800,\n",
       " 'visit_duration': 1167,\n",
       " 'exp_start_times': array([25418, 25928]),\n",
       " 'APTTemplate': 'NircamEngineeringImaging',\n",
       " 'PrimaryDitherType': array(['NONE', 'NONE'], dtype='<U4'),\n",
       " 'PrimaryDithers': array(['NONE', 'NONE'], dtype='<U4'),\n",
       " 'DitherSize': array(['NONE', 'NONE'], dtype='<U4'),\n",
       " 'SubpixelPositions': array(['1', '1'], dtype='<U1'),\n",
       " 'SubpixelDitherType': array(['STANDARD', 'STANDARD'], dtype='<U8'),\n",
       " 'SmallGridDitherType': array(['NONE', 'NONE'], dtype='<U4'),\n",
       " 'DitherPatternType': array(['NONE', 'NONE'], dtype='<U4'),\n",
       " 'ImageDithers': array(['NONE', 'NONE'], dtype='<U4'),\n",
       " 'number_of_dithers': array(['1', '1'], dtype='<U1'),\n",
       " 'rand_seed_dith': 1651531080,\n",
       " 'rand_seed_noise': 1148333065,\n",
       " 'TargetID': array(['HD-84406', 'HD-84406'], dtype='<U15'),\n",
       " 'TargetRA': array(['09:47:30.2970', '09:47:30.2970'], dtype='<U13'),\n",
       " 'TargetDec': array(['+63:14:49.96', '+63:14:49.96'], dtype='<U12'),\n",
       " 'aperture': array([['NRCA1_GRISMTS256', 'NRCA2_GRISMTS256', 'NRCA3_GRISMTS256',\n",
       "         'NRCA4_GRISMTS256', 'NRCA5_GRISM256_F322W2'],\n",
       "        ['NRCA1_GRISMTS256', 'NRCA2_GRISMTS256', 'NRCA3_GRISMTS256',\n",
       "         'NRCA4_GRISMTS256', 'NRCA5_GRISM256_F322W2']], dtype='<U21'),\n",
       " 'pri_dith': array([1, 1]),\n",
       " 'sub_dith': array([1, 1]),\n",
       " 'targ1': array([13, 13]),\n",
       " 'targ2': array(['HD-8440', 'HD-8440'], dtype='<U8'),\n",
       " 'ra': array([146.87624, 146.87624]),\n",
       " 'dec': array([63.24721, 63.24721]),\n",
       " 'basex': array([0., 0.]),\n",
       " 'basey': array([5., 5.]),\n",
       " 'dithx': array([ 0.052, -0.052]),\n",
       " 'dithy': array([-7.37,  7.37]),\n",
       " 'v2': array([50.706, 50.869]),\n",
       " 'v3': array([-558.847, -544.106]),\n",
       " 'idlx': array([ 0.052, -0.052]),\n",
       " 'idly': array([-2.37, 12.37]),\n",
       " 'obs_label': array(['LW Grism Ice Monitor #1 Mod-A 256 subarray',\n",
       "        'LW Grism Ice Monitor #1 Mod-A 256 subarray'], dtype='<U42'),\n",
       " 'obs_id_info': array([{'program_number': '01409', 'observation_number': '001', 'visit_number': '001', 'visit_group': '02', 'sequence_id': '1', 'activity_id': '01', 'exposure_number': '00001', 'visit_id': '01409001001', 'obs_id': 'V01409001001P0000000002101'},\n",
       "        {'program_number': '01409', 'observation_number': '001', 'visit_number': '001', 'visit_group': '02', 'sequence_id': '1', 'activity_id': '01', 'exposure_number': '00002', 'visit_id': '01409001001', 'obs_id': 'V01409001001P0000000002101'}],\n",
       "       dtype=object),\n",
       " 'level': array(['TARGET', 'TILE'], dtype='<U6'),\n",
       " 'type': array(['SCIENCE', 'SCIENCE'], dtype='<U7'),\n",
       " 'ddist': array([ 0.   , 14.741]),\n",
       " 'ModuleAPT': array(['A', 'A'], dtype='<U1'),\n",
       " 'sw_filters': array(['F212N', 'F212N'], dtype='<U5'),\n",
       " 'sw_pupils': array(['CLEAR', 'CLEAR'], dtype='<U5'),\n",
       " 'lw_filters': array(['F322W2', 'F322W2'], dtype='<U6'),\n",
       " 'lw_pupils': array(['GRISMR', 'GRISMR'], dtype='<U6'),\n",
       " 'coron_mask': array(['NONE', 'NONE'], dtype='<U4'),\n",
       " 'mode': array(['imaging', 'imaging'], dtype='<U7'),\n",
       " 'subarray_name': array(['SUBGRISM256', 'SUBGRISM256'], dtype='<U11'),\n",
       " 'readout': array(['RAPID', 'RAPID'], dtype='<U5'),\n",
       " 'nints': array(['10', '10'], dtype='<U2'),\n",
       " 'ngroups': array(['5', '5'], dtype='<U1'),\n",
       " 'noutputs': array([1, 1]),\n",
       " 'detectors': array([['NRCA1', 'NRCA2', 'NRCA3', 'NRCA4', 'NRCA5'],\n",
       "        ['NRCA1', 'NRCA2', 'NRCA3', 'NRCA4', 'NRCA5']], dtype='<U5')}"
      ]
     },
     "execution_count": 49,
     "metadata": {},
     "output_type": "execute_result"
    }
   ],
   "source": [
    "visit_dict"
   ]
  },
  {
   "cell_type": "code",
   "execution_count": 48,
   "id": "detailed-reducing",
   "metadata": {
    "scrolled": false
   },
   "outputs": [
    {
     "data": {
      "text/plain": [
       "[array([ 0.0503554 , -2.36010486]), array([-0.05275878, 12.37800296])]"
      ]
     },
     "execution_count": 48,
     "metadata": {},
     "output_type": "execute_result"
    }
   ],
   "source": [
    "tel_point.position_offsets_act"
   ]
  },
  {
   "cell_type": "code",
   "execution_count": null,
   "id": "directed-cream",
   "metadata": {},
   "outputs": [],
   "source": []
  },
  {
   "cell_type": "code",
   "execution_count": 38,
   "id": "radical-order",
   "metadata": {},
   "outputs": [],
   "source": [
    "det = obs_params['det_obj']\n",
    "kw = res = {**det.to_dict(), **det.multiaccum.to_dict()}\n",
    "nrc.update_detectors(**kw)"
   ]
  },
  {
   "cell_type": "code",
   "execution_count": 40,
   "id": "friendly-roberts",
   "metadata": {},
   "outputs": [
    {
     "data": {
      "text/plain": [
       "{'wind_mode': 'WINDOW',\n",
       " 'nout': 1,\n",
       " 'xpix': 2048,\n",
       " 'ypix': 256,\n",
       " 'x0': 0,\n",
       " 'y0': 0,\n",
       " 'read_mode': 'RAPID',\n",
       " 'nint': 10,\n",
       " 'ngroup': 5,\n",
       " 'nf': 1,\n",
       " 'nd1': 0,\n",
       " 'nd2': 0,\n",
       " 'nd3': 0}"
      ]
     },
     "execution_count": 40,
     "metadata": {},
     "output_type": "execute_result"
    }
   ],
   "source": [
    "nrc.det_info"
   ]
  },
  {
   "cell_type": "code",
   "execution_count": 34,
   "id": "worldwide-lexington",
   "metadata": {},
   "outputs": [
    {
     "data": {
      "text/plain": [
       "{'wind_mode': 'WINDOW', 'nout': 1, 'xpix': 2048, 'ypix': 256, 'x0': 0, 'y0': 0}"
      ]
     },
     "execution_count": 34,
     "metadata": {},
     "output_type": "execute_result"
    }
   ],
   "source": [
    "det.to_dict()"
   ]
  },
  {
   "cell_type": "code",
   "execution_count": 35,
   "id": "alternative-inspector",
   "metadata": {},
   "outputs": [
    {
     "data": {
      "text/plain": [
       "{'read_mode': 'RAPID',\n",
       " 'nint': 10,\n",
       " 'ngroup': 5,\n",
       " 'nf': 1,\n",
       " 'nd1': 0,\n",
       " 'nd2': 0,\n",
       " 'nd3': 0}"
      ]
     },
     "execution_count": 35,
     "metadata": {},
     "output_type": "execute_result"
    }
   ],
   "source": [
    "det.multiaccum.to_dict()"
   ]
  },
  {
   "cell_type": "code",
   "execution_count": 31,
   "id": "offshore-mauritius",
   "metadata": {},
   "outputs": [
    {
     "data": {
      "text/plain": [
       "{'wind_mode': 'STRIPE',\n",
       " 'nout': 4,\n",
       " 'xpix': 2048,\n",
       " 'ypix': 256,\n",
       " 'x0': 0,\n",
       " 'y0': 0,\n",
       " 'read_mode': 'RAPID',\n",
       " 'nint': 1,\n",
       " 'ngroup': 1,\n",
       " 'nf': 1,\n",
       " 'nd1': 0,\n",
       " 'nd2': 0,\n",
       " 'nd3': 0}"
      ]
     },
     "execution_count": 31,
     "metadata": {},
     "output_type": "execute_result"
    }
   ],
   "source": [
    "nrc.det_info"
   ]
  },
  {
   "cell_type": "code",
   "execution_count": 33,
   "id": "adequate-eight",
   "metadata": {
    "scrolled": false
   },
   "outputs": [
    {
     "name": "stdout",
     "output_type": "stream",
     "text": [
      "NRCA5_GRISM256_F322W2\n",
      "NRCA5_GRISM128_F322W2\n",
      "NRCA5_GRISM64_F322W2\n",
      "NRCA5_GRISM256_F277W\n",
      "NRCA5_GRISM128_F277W\n",
      "NRCA5_GRISM64_F277W\n",
      "NRCA5_GRISM256_F356W\n",
      "NRCA5_GRISM128_F356W\n",
      "NRCA5_GRISM64_F356W\n",
      "NRCA5_GRISM256_F444W\n",
      "NRCA5_GRISM128_F444W\n",
      "NRCA5_GRISM64_F444W\n",
      "NRCA5_GRISM_F322W2\n",
      "NRCA5_GRISM_F277W\n",
      "NRCA5_GRISM_F356W\n",
      "NRCA5_GRISM_F444W\n",
      "NRCA1_GRISMTS\n",
      "NRCA1_GRISMTS256\n",
      "NRCA1_GRISMTS128\n",
      "NRCA1_GRISMTS64\n",
      "NRCA3_GRISMTS\n",
      "NRCA3_GRISMTS256\n",
      "NRCA3_GRISMTS128\n",
      "NRCA3_GRISMTS64\n",
      "NRCA5_TAGRISMTS32\n",
      "NRCA5_TAGRISMTS32_F405N\n",
      "NRCA5_TAGRISMTS_SCI_F322W2\n",
      "NRCA5_TAGRISMTS_SCI_F444W\n",
      "NRCB5_GRISM256_F322W2\n",
      "NRCB5_GRISM128_F322W2\n",
      "NRCB5_GRISM64_F322W2\n",
      "NRCB2_GRISMTS256\n",
      "NRCB2_GRISMTS128\n",
      "NRCB2_GRISMTS64\n",
      "NRCB4_GRISMTS256\n",
      "NRCB4_GRISMTS128\n",
      "NRCB4_GRISMTS64\n",
      "NRCA5_GRISMC_WFSS\n",
      "NRCA5_GRISMR_WFSS\n",
      "NRCALL_GRISMC_WFSS\n",
      "NRCALL_GRISMR_WFSS\n",
      "NRCB5_GRISMC_WFSS\n",
      "NRCB5_GRISMR_WFSS\n",
      "NRCA5_GRISMR_WFSS_F250M_CS\n",
      "NRCB5_GRISMR_WFSS_F250M_CS\n",
      "NRCA5_GRISMR_WFSS_F277W_CS\n",
      "NRCB5_GRISMR_WFSS_F277W_CS\n",
      "NRCA5_GRISMR_WFSS_F300M_CS\n",
      "NRCB5_GRISMR_WFSS_F300M_CS\n",
      "NRCA5_GRISMR_WFSS_F322W2_CS\n",
      "NRCB5_GRISMR_WFSS_F322W2_CS\n",
      "NRCA5_GRISMR_WFSS_F335M_CS\n",
      "NRCB5_GRISMR_WFSS_F335M_CS\n",
      "NRCA5_GRISMR_WFSS_F356W_CS\n",
      "NRCB5_GRISMR_WFSS_F356W_CS\n",
      "NRCA5_GRISMR_WFSS_F360M_CS\n",
      "NRCB5_GRISMR_WFSS_F360M_CS\n",
      "NRCA5_GRISMR_WFSS_F410M_CS\n",
      "NRCB5_GRISMR_WFSS_F410M_CS\n",
      "NRCA5_GRISMR_WFSS_F430M_CS\n",
      "NRCB5_GRISMR_WFSS_F430M_CS\n",
      "NRCA5_GRISMR_WFSS_F444W_CS\n",
      "NRCB5_GRISMR_WFSS_F444W_CS\n",
      "NRCA5_GRISMR_WFSS_F460M_CS\n",
      "NRCB5_GRISMR_WFSS_F460M_CS\n",
      "NRCA5_GRISMR_WFSS_F480M_CS\n",
      "NRCB5_GRISMR_WFSS_F480M_CS\n",
      "NRCA5_GRISMC_WFSS_F250M_CS\n",
      "NRCB5_GRISMC_WFSS_F250M_CS\n",
      "NRCA5_GRISMC_WFSS_F277W_CS\n",
      "NRCB5_GRISMC_WFSS_F277W_CS\n",
      "NRCA5_GRISMC_WFSS_F300M_CS\n",
      "NRCB5_GRISMC_WFSS_F300M_CS\n",
      "NRCA5_GRISMC_WFSS_F322W2_CS\n",
      "NRCB5_GRISMC_WFSS_F322W2_CS\n",
      "NRCA5_GRISMC_WFSS_F335M_CS\n",
      "NRCB5_GRISMC_WFSS_F335M_CS\n",
      "NRCA5_GRISMC_WFSS_F356W_CS\n",
      "NRCB5_GRISMC_WFSS_F356W_CS\n",
      "NRCA5_GRISMC_WFSS_F360M_CS\n",
      "NRCB5_GRISMC_WFSS_F360M_CS\n",
      "NRCA5_GRISMC_WFSS_F410M_CS\n",
      "NRCB5_GRISMC_WFSS_F410M_CS\n",
      "NRCA5_GRISMC_WFSS_F430M_CS\n",
      "NRCB5_GRISMC_WFSS_F430M_CS\n",
      "NRCA5_GRISMC_WFSS_F444W_CS\n",
      "NRCB5_GRISMC_WFSS_F444W_CS\n",
      "NRCA5_GRISMC_WFSS_F460M_CS\n",
      "NRCB5_GRISMC_WFSS_F460M_CS\n",
      "NRCA5_GRISMC_WFSS_F480M_CS\n",
      "NRCB5_GRISMC_WFSS_F480M_CS\n",
      "NRCA5_GRISMR_WFSS_F250M_PS\n",
      "NRCB5_GRISMR_WFSS_F250M_PS\n",
      "NRCA5_GRISMR_WFSS_F277W_PS\n",
      "NRCB5_GRISMR_WFSS_F277W_PS\n",
      "NRCA5_GRISMR_WFSS_F300M_PS\n",
      "NRCB5_GRISMR_WFSS_F300M_PS\n",
      "NRCA5_GRISMR_WFSS_F322W2_PS\n",
      "NRCB5_GRISMR_WFSS_F322W2_PS\n",
      "NRCA5_GRISMR_WFSS_F335M_PS\n",
      "NRCB5_GRISMR_WFSS_F335M_PS\n",
      "NRCA5_GRISMR_WFSS_F356W_PS\n",
      "NRCB5_GRISMR_WFSS_F356W_PS\n",
      "NRCA5_GRISMR_WFSS_F360M_PS\n",
      "NRCB5_GRISMR_WFSS_F360M_PS\n",
      "NRCA5_GRISMR_WFSS_F410M_PS\n",
      "NRCB5_GRISMR_WFSS_F410M_PS\n",
      "NRCA5_GRISMR_WFSS_F430M_PS\n",
      "NRCB5_GRISMR_WFSS_F430M_PS\n",
      "NRCA5_GRISMR_WFSS_F444W_PS\n",
      "NRCB5_GRISMR_WFSS_F444W_PS\n",
      "NRCA5_GRISMR_WFSS_F460M_PS\n",
      "NRCB5_GRISMR_WFSS_F460M_PS\n",
      "NRCA5_GRISMR_WFSS_F480M_PS\n",
      "NRCB5_GRISMR_WFSS_F480M_PS\n",
      "NRCA5_GRISMC_WFSS_F250M_PS\n",
      "NRCB5_GRISMC_WFSS_F250M_PS\n",
      "NRCA5_GRISMC_WFSS_F277W_PS\n",
      "NRCB5_GRISMC_WFSS_F277W_PS\n",
      "NRCA5_GRISMC_WFSS_F300M_PS\n",
      "NRCB5_GRISMC_WFSS_F300M_PS\n",
      "NRCA5_GRISMC_WFSS_F322W2_PS\n",
      "NRCB5_GRISMC_WFSS_F322W2_PS\n",
      "NRCA5_GRISMC_WFSS_F335M_PS\n",
      "NRCB5_GRISMC_WFSS_F335M_PS\n",
      "NRCA5_GRISMC_WFSS_F356W_PS\n",
      "NRCB5_GRISMC_WFSS_F356W_PS\n",
      "NRCA5_GRISMC_WFSS_F360M_PS\n",
      "NRCB5_GRISMC_WFSS_F360M_PS\n",
      "NRCA5_GRISMC_WFSS_F410M_PS\n",
      "NRCB5_GRISMC_WFSS_F410M_PS\n",
      "NRCA5_GRISMC_WFSS_F430M_PS\n",
      "NRCB5_GRISMC_WFSS_F430M_PS\n",
      "NRCA5_GRISMC_WFSS_F444W_PS\n",
      "NRCB5_GRISMC_WFSS_F444W_PS\n",
      "NRCA5_GRISMC_WFSS_F460M_PS\n",
      "NRCB5_GRISMC_WFSS_F460M_PS\n",
      "NRCA5_GRISMC_WFSS_F480M_PS\n",
      "NRCB5_GRISMC_WFSS_F480M_PS\n"
     ]
    }
   ],
   "source": [
    "import pysiaf\n",
    "siaf = pysiaf.Siaf('NIRCam')\n",
    "for k in list(siaf.apernames):\n",
    "    if 'GRISM' in k:\n",
    "        print(k)"
   ]
  },
  {
   "cell_type": "code",
   "execution_count": 15,
   "id": "searching-milwaukee",
   "metadata": {},
   "outputs": [],
   "source": [
    "arr = np.array([1,2])\n",
    "ind_mask = arr==1\n"
   ]
  },
  {
   "cell_type": "code",
   "execution_count": 16,
   "id": "gentle-programmer",
   "metadata": {},
   "outputs": [
    {
     "data": {
      "text/plain": [
       "array([ True, False])"
      ]
     },
     "execution_count": 16,
     "metadata": {},
     "output_type": "execute_result"
    }
   ],
   "source": [
    "ind_mask"
   ]
  },
  {
   "cell_type": "code",
   "execution_count": 12,
   "id": "mineral-nirvana",
   "metadata": {},
   "outputs": [],
   "source": [
    "visit_dict = visits['001:001']"
   ]
  },
  {
   "cell_type": "code",
   "execution_count": 22,
   "id": "surprised-documentation",
   "metadata": {},
   "outputs": [
    {
     "data": {
      "text/plain": [
       "1"
      ]
     },
     "execution_count": 22,
     "metadata": {},
     "output_type": "execute_result"
    }
   ],
   "source": [
    "visit_dict['aperture'][ind_mask]"
   ]
  },
  {
   "cell_type": "code",
   "execution_count": 30,
   "id": "nominated-catalog",
   "metadata": {},
   "outputs": [
    {
     "data": {
      "text/plain": [
       "(array([0]), array([4]))"
      ]
     },
     "execution_count": 30,
     "metadata": {},
     "output_type": "execute_result"
    }
   ],
   "source": [
    "np.where(visit_dict['detectors'][ind_mask] == 'NRCA5')"
   ]
  },
  {
   "cell_type": "code",
   "execution_count": 36,
   "id": "reasonable-mechanics",
   "metadata": {},
   "outputs": [
    {
     "data": {
      "text/plain": [
       "(array([4]),)"
      ]
     },
     "execution_count": 36,
     "metadata": {},
     "output_type": "execute_result"
    }
   ],
   "source": [
    "np.where(visit_dict['detectors'][ind_mask].flatten() == 'NRCA5')"
   ]
  },
  {
   "cell_type": "code",
   "execution_count": 38,
   "id": "efficient-motel",
   "metadata": {},
   "outputs": [
    {
     "data": {
      "text/plain": [
       "'NRCA5_GRISM256_F322W2'"
      ]
     },
     "execution_count": 38,
     "metadata": {},
     "output_type": "execute_result"
    }
   ],
   "source": [
    "ind_det = np.where(visit_dict['detectors'][ind_mask] == 'NRCA5')\n",
    "visit_dict['apertures'][ind_mask][ind_det][0]"
   ]
  },
  {
   "cell_type": "code",
   "execution_count": null,
   "id": "changing-whole",
   "metadata": {},
   "outputs": [],
   "source": [
    "apname = visit_dict['aperture'][ind_mask][0]"
   ]
  },
  {
   "cell_type": "code",
   "execution_count": null,
   "id": "rolled-verification",
   "metadata": {},
   "outputs": [],
   "source": []
  },
  {
   "cell_type": "code",
   "execution_count": null,
   "id": "separated-version",
   "metadata": {},
   "outputs": [],
   "source": []
  },
  {
   "cell_type": "code",
   "execution_count": 20,
   "id": "seven-channels",
   "metadata": {},
   "outputs": [
    {
     "data": {
      "text/plain": [
       "{'obs_num': 22,\n",
       " 'visit_num': 1,\n",
       " 'visit_start': 26383,\n",
       " 'slew_duration': 51,\n",
       " 'visit_duration': 1451,\n",
       " 'exp_start_times': array([26626, 27384]),\n",
       " 'APTTemplate': 'NircamEngineeringImaging',\n",
       " 'PrimaryDitherType': array(['NONE', 'NONE'], dtype='<U4'),\n",
       " 'PrimaryDithers': array(['NONE', 'NONE'], dtype='<U4'),\n",
       " 'DitherSize': array(['NONE', 'NONE'], dtype='<U4'),\n",
       " 'SubpixelPositions': array(['1', '1'], dtype='<U1'),\n",
       " 'SubpixelDitherType': array(['STANDARD', 'STANDARD'], dtype='<U8'),\n",
       " 'SmallGridDitherType': array(['NONE', 'NONE'], dtype='<U4'),\n",
       " 'DitherPatternType': array(['NONE', 'NONE'], dtype='<U4'),\n",
       " 'ImageDithers': array(['NONE', 'NONE'], dtype='<U4'),\n",
       " 'number_of_dithers': array(['1', '1'], dtype='<U1'),\n",
       " 'rand_seed_dith': 437753479,\n",
       " 'rand_seed_noise': 3771821479,\n",
       " 'TargetID': array(['HD-84406', 'HD-84406'], dtype='<U15'),\n",
       " 'TargetRA': array(['09:47:30.2970', '09:47:30.2970'], dtype='<U13'),\n",
       " 'TargetDec': array(['+63:14:49.96', '+63:14:49.96'], dtype='<U12'),\n",
       " 'aperture': array(['NRCAS_FULL', 'NRCAS_FULL'], dtype='<U21'),\n",
       " 'pri_dith': array([1, 1]),\n",
       " 'sub_dith': array([1, 1]),\n",
       " 'targ1': array([13, 13]),\n",
       " 'targ2': array(['HD-8440', 'HD-8440'], dtype='<U8'),\n",
       " 'ra': array([146.87624, 146.87624]),\n",
       " 'dec': array([63.24721, 63.24721]),\n",
       " 'basex': array([30., 30.]),\n",
       " 'basey': array([5., 5.]),\n",
       " 'dithx': array([ 0.697, -0.697]),\n",
       " 'dithy': array([-52.507,  52.507]),\n",
       " 'v2': array([50.662, 51.719]),\n",
       " 'v3': array([-545.693, -440.675]),\n",
       " 'idlx': array([30.697, 29.303]),\n",
       " 'idly': array([-47.507,  57.507]),\n",
       " 'obs_label': array(['Module A GrismR -V2 1 column 2 pts',\n",
       "        'Module A GrismR -V2 1 column 2 pts'], dtype='<U42'),\n",
       " 'obs_id_info': array([{'program_number': '01409', 'observation_number': '022', 'visit_number': '001', 'visit_group': '02', 'sequence_id': '1', 'activity_id': '01', 'exposure_number': '00001', 'visit_id': '01409022001', 'obs_id': 'V01409022001P0000000002101'},\n",
       "        {'program_number': '01409', 'observation_number': '022', 'visit_number': '001', 'visit_group': '02', 'sequence_id': '1', 'activity_id': '01', 'exposure_number': '00002', 'visit_id': '01409022001', 'obs_id': 'V01409022001P0000000002101'}],\n",
       "       dtype=object),\n",
       " 'level': array(['TARGET', 'TILE'], dtype='<U6'),\n",
       " 'type': array(['SCIENCE', 'SCIENCE'], dtype='<U7'),\n",
       " 'ddist': array([  0.   , 105.023]),\n",
       " 'ModuleAPT': array(['A', 'A'], dtype='<U1'),\n",
       " 'sw_filters': array(['F212N', 'F212N'], dtype='<U5'),\n",
       " 'sw_pupils': array(['CLEAR', 'CLEAR'], dtype='<U5'),\n",
       " 'lw_filters': array(['F322W2', 'F322W2'], dtype='<U6'),\n",
       " 'lw_pupils': array(['GRISMR', 'GRISMR'], dtype='<U6'),\n",
       " 'coron_mask': array(['NONE', 'NONE'], dtype='<U4'),\n",
       " 'mode': array(['imaging', 'imaging'], dtype='<U7'),\n",
       " 'subarray_name': array(['FULL', 'FULL'], dtype='<U11'),\n",
       " 'readout': array(['RAPID', 'RAPID'], dtype='<U5'),\n",
       " 'nints': array(['10', '10'], dtype='<U2'),\n",
       " 'ngroups': array(['3', '3'], dtype='<U1'),\n",
       " 'noutputs': array([4, 4]),\n",
       " 'detectors': array([['NRCA1', 'NRCA2', 'NRCA3', 'NRCA4'],\n",
       "        ['NRCA1', 'NRCA2', 'NRCA3', 'NRCA4']], dtype='<U5')}"
      ]
     },
     "execution_count": 20,
     "metadata": {},
     "output_type": "execute_result"
    }
   ],
   "source": [
    "visits['022:001']"
   ]
  },
  {
   "cell_type": "code",
   "execution_count": 10,
   "id": "induced-composite",
   "metadata": {},
   "outputs": [],
   "source": [
    "obs_params = apt_obj.gen_obs_params('001:001', '00001', 'NRCA5', grp_id=2)"
   ]
  },
  {
   "cell_type": "code",
   "execution_count": 11,
   "id": "cultural-synthesis",
   "metadata": {
    "scrolled": false
   },
   "outputs": [
    {
     "data": {
      "text/plain": [
       "{'pi_name': 'Erin Smith',\n",
       " 'title': 'CAR_NIRCAM-0035: NIRCAM Ice Measurement',\n",
       " 'category': 'COM',\n",
       " 'sub_category': 'NIRCAM',\n",
       " 'science_category': 'Stellar Physics',\n",
       " 'target_name': 'HD-84406',\n",
       " 'catalog_name': 'UNKNOWN',\n",
       " 'ra': 146.8762375,\n",
       " 'dec': 63.24721111111111,\n",
       " 'pa_v3': 161.5806619288712,\n",
       " 'roll_offset': 0,\n",
       " 'solar_elong': 123.12452583911617,\n",
       " 'pitch_ang': 33.124525839116174,\n",
       " 'siaf_ap': <pysiaf.Aperture object AperName=NRCA5_GRISM256_F322W2 >,\n",
       " 'ra_obs': 146.8766636399694,\n",
       " 'dec_obs': 63.24658117907037,\n",
       " 'siaf_ap_ref': <pysiaf.Aperture object AperName=NRCA5_GRISM256_F322W2 >,\n",
       " 'ra_ref': 146.8766636399694,\n",
       " 'dec_ref': 63.24658117907037,\n",
       " 'date-obs': '2022-03-01',\n",
       " 'time-obs': '12:00:00.000',\n",
       " 'obs_id_info': {'program_number': '01409',\n",
       "  'observation_number': '001',\n",
       "  'visit_number': '001',\n",
       "  'visit_group': '02',\n",
       "  'sequence_id': '1',\n",
       "  'activity_id': '01',\n",
       "  'exposure_number': '00001',\n",
       "  'visit_id': '01409001001',\n",
       "  'obs_id': 'V01409001001P0000000002101'},\n",
       " 'obs_label': 'LW Grism Ice Monitor #1 Mod-A 256 subarray',\n",
       " 'texp_start_relative': 25418,\n",
       " 'visit_start_relative': 23416,\n",
       " 'det_obj': <pynrc.pynrc_core.DetectorOps at 0x7fa0d3e09b90>,\n",
       " 'module': 'A',\n",
       " 'channel': 'LONG',\n",
       " 'detector': 'NRCALONG',\n",
       " 'filter': 'F322W2',\n",
       " 'pupil': 'GRISMR',\n",
       " 'coron_mask': 'NONE',\n",
       " 'visit_level': 'TARGET',\n",
       " 'visit_type': 'SCIENCE',\n",
       " 'visit_mode': 'wfss',\n",
       " 'exp_type': 'NRC_IMAGE',\n",
       " 'subarray_name': 'SUBGRISM256',\n",
       " 'xstart': 1,\n",
       " 'ystart': 1,\n",
       " 'xsize': 2048,\n",
       " 'ysize': 256,\n",
       " 'fastaxis': -1,\n",
       " 'slowaxis': 2,\n",
       " 'noutputs': 1,\n",
       " 'readpatt': 'RAPID',\n",
       " 'nframes': 1,\n",
       " 'ngroups': 5,\n",
       " 'nints': 10,\n",
       " 'sample_time': 10,\n",
       " 'frame_time': 5.3148,\n",
       " 'group_time': 5.3148,\n",
       " 'groupgap': 0,\n",
       " 'nresets1': 1,\n",
       " 'nresets2': 1,\n",
       " 'integration_time': 26.574,\n",
       " 'exposure_time': 265.74,\n",
       " 'tint_plus_overhead': 31.8888,\n",
       " 'texp_plus_overhead': 318.888,\n",
       " 'int_times': array([( 1, 59639.79418981, 59639.7943436 , 59639.79449738, 59639.79418981, 59639.7943436 , 59639.79449738),\n",
       "        ( 2, 59639.7945589 , 59639.79471268, 59639.79486647, 59639.7945589 , 59639.79471268, 59639.79486647),\n",
       "        ( 3, 59639.79492798, 59639.79508177, 59639.79523555, 59639.79492798, 59639.79508177, 59639.79523555),\n",
       "        ( 4, 59639.79529706, 59639.79545085, 59639.79560463, 59639.79529706, 59639.79545085, 59639.79560463),\n",
       "        ( 5, 59639.79566615, 59639.79581993, 59639.79597372, 59639.79566615, 59639.79581993, 59639.79597372),\n",
       "        ( 6, 59639.79603523, 59639.79618902, 59639.7963428 , 59639.79603523, 59639.79618902, 59639.7963428 ),\n",
       "        ( 7, 59639.79640431, 59639.7965581 , 59639.79671188, 59639.79640431, 59639.7965581 , 59639.79671188),\n",
       "        ( 8, 59639.7967734 , 59639.79692718, 59639.79708097, 59639.7967734 , 59639.79692718, 59639.79708097),\n",
       "        ( 9, 59639.79714248, 59639.79729627, 59639.79745005, 59639.79714248, 59639.79729627, 59639.79745005),\n",
       "        (10, 59639.79751156, 59639.79766535, 59639.79781913, 59639.79751156, 59639.79766535, 59639.79781913)],\n",
       "       dtype=[('integration_number', '<i2'), ('int_start_MJD_UTC', '<f8'), ('int_mid_MJD_UTC', '<f8'), ('int_end_MJD_UTC', '<f8'), ('int_start_BJD_TDB', '<f8'), ('int_mid_BJD_TDB', '<f8'), ('int_end_BJD_TDB', '<f8')]),\n",
       " 'integration_start': 1,\n",
       " 'integration_end': 10,\n",
       " 'group_times': array([[( 1, 1, 790, 68942202, 800, b'2022-03-01T19:09:02.203', 256, 2048, 0, 0, b'Normal Completion', 59639.79794216, 59639.79794216)],\n",
       "        [( 1, 2, 790, 68947517, 599, b'2022-03-01T19:09:07.518', 256, 2048, 0, 0, b'Normal Completion', 59639.79800368, 59639.79800368)],\n",
       "        [( 1, 3, 790, 68952832, 399, b'2022-03-01T19:09:12.832', 256, 2048, 0, 0, b'Normal Completion', 59639.79806519, 59639.79806519)],\n",
       "        [( 1, 4, 790, 68958147, 199, b'2022-03-01T19:09:18.147', 256, 2048, 0, 0, b'Normal Completion', 59639.7981267 , 59639.7981267 )],\n",
       "        [( 1, 5, 790, 68963462,   0, b'2022-03-01T19:09:23.462', 256, 2048, 0, 0, b'Normal Completion', 59639.79818822, 59639.79818822)],\n",
       "        [( 2, 1, 790, 68974091, 599, b'2022-03-01T19:09:34.092', 256, 2048, 0, 0, b'Normal Completion', 59639.79831125, 59639.79831125)],\n",
       "        [( 2, 2, 790, 68979406, 399, b'2022-03-01T19:09:39.406', 256, 2048, 0, 0, b'Normal Completion', 59639.79837276, 59639.79837276)],\n",
       "        [( 2, 3, 790, 68984721, 199, b'2022-03-01T19:09:44.721', 256, 2048, 0, 0, b'Normal Completion', 59639.79843427, 59639.79843427)],\n",
       "        [( 2, 4, 790, 68990036,   0, b'2022-03-01T19:09:50.036', 256, 2048, 0, 0, b'Normal Completion', 59639.79849579, 59639.79849579)],\n",
       "        [( 2, 5, 790, 68995350, 800, b'2022-03-01T19:09:55.351', 256, 2048, 0, 0, b'Normal Completion', 59639.7985573 , 59639.7985573 )],\n",
       "        [( 3, 1, 790, 69005980, 399, b'2022-03-01T19:10:05.980', 256, 2048, 0, 0, b'Normal Completion', 59639.79868033, 59639.79868033)],\n",
       "        [( 3, 2, 790, 69011295, 199, b'2022-03-01T19:10:11.295', 256, 2048, 0, 0, b'Normal Completion', 59639.79874184, 59639.79874184)],\n",
       "        [( 3, 3, 790, 69016609, 999, b'2022-03-01T19:10:16.610', 256, 2048, 0, 0, b'Normal Completion', 59639.79880336, 59639.79880336)],\n",
       "        [( 3, 4, 790, 69021924, 800, b'2022-03-01T19:10:21.925', 256, 2048, 0, 0, b'Normal Completion', 59639.79886487, 59639.79886487)],\n",
       "        [( 3, 5, 790, 69027239, 600, b'2022-03-01T19:10:27.240', 256, 2048, 0, 0, b'Normal Completion', 59639.79892638, 59639.79892638)],\n",
       "        [( 4, 1, 790, 69037869, 199, b'2022-03-01T19:10:37.869', 256, 2048, 0, 0, b'Normal Completion', 59639.79904941, 59639.79904941)],\n",
       "        [( 4, 2, 790, 69043183, 999, b'2022-03-01T19:10:43.184', 256, 2048, 0, 0, b'Normal Completion', 59639.79911093, 59639.79911093)],\n",
       "        [( 4, 3, 790, 69048498, 799, b'2022-03-01T19:10:48.499', 256, 2048, 0, 0, b'Normal Completion', 59639.79917244, 59639.79917244)],\n",
       "        [( 4, 4, 790, 69053813, 600, b'2022-03-01T19:10:53.814', 256, 2048, 0, 0, b'Normal Completion', 59639.79923395, 59639.79923395)],\n",
       "        [( 4, 5, 790, 69059128, 400, b'2022-03-01T19:10:59.128', 256, 2048, 0, 0, b'Normal Completion', 59639.79929547, 59639.79929547)],\n",
       "        [( 5, 1, 790, 69069757, 999, b'2022-03-01T19:11:09.758', 256, 2048, 0, 0, b'Normal Completion', 59639.7994185 , 59639.7994185 )],\n",
       "        [( 5, 2, 790, 69075072, 799, b'2022-03-01T19:11:15.073', 256, 2048, 0, 0, b'Normal Completion', 59639.79948001, 59639.79948001)],\n",
       "        [( 5, 3, 790, 69080387, 600, b'2022-03-01T19:11:20.388', 256, 2048, 0, 0, b'Normal Completion', 59639.79954152, 59639.79954152)],\n",
       "        [( 5, 4, 790, 69085702, 400, b'2022-03-01T19:11:25.702', 256, 2048, 0, 0, b'Normal Completion', 59639.79960304, 59639.79960304)],\n",
       "        [( 5, 5, 790, 69091017, 200, b'2022-03-01T19:11:31.017', 256, 2048, 0, 0, b'Normal Completion', 59639.79966455, 59639.79966455)],\n",
       "        [( 6, 1, 790, 69101646, 799, b'2022-03-01T19:11:41.647', 256, 2048, 0, 0, b'Normal Completion', 59639.79978758, 59639.79978758)],\n",
       "        [( 6, 2, 790, 69106961, 599, b'2022-03-01T19:11:46.962', 256, 2048, 0, 0, b'Normal Completion', 59639.79984909, 59639.79984909)],\n",
       "        [( 6, 3, 790, 69112276, 400, b'2022-03-01T19:11:52.276', 256, 2048, 0, 0, b'Normal Completion', 59639.79991061, 59639.79991061)],\n",
       "        [( 6, 4, 790, 69117591, 200, b'2022-03-01T19:11:57.591', 256, 2048, 0, 0, b'Normal Completion', 59639.79997212, 59639.79997212)],\n",
       "        [( 6, 5, 790, 69122906,   0, b'2022-03-01T19:12:02.906', 256, 2048, 0, 0, b'Normal Completion', 59639.80003363, 59639.80003363)],\n",
       "        [( 7, 1, 790, 69133535, 599, b'2022-03-01T19:12:13.536', 256, 2048, 0, 0, b'Normal Completion', 59639.80015666, 59639.80015666)],\n",
       "        [( 7, 2, 790, 69138850, 399, b'2022-03-01T19:12:18.850', 256, 2048, 0, 0, b'Normal Completion', 59639.80021818, 59639.80021818)],\n",
       "        [( 7, 3, 790, 69144165, 200, b'2022-03-01T19:12:24.165', 256, 2048, 0, 0, b'Normal Completion', 59639.80027969, 59639.80027969)],\n",
       "        [( 7, 4, 790, 69149480,   0, b'2022-03-01T19:12:29.480', 256, 2048, 0, 0, b'Normal Completion', 59639.8003412 , 59639.8003412 )],\n",
       "        [( 7, 5, 790, 69154794, 800, b'2022-03-01T19:12:34.795', 256, 2048, 0, 0, b'Normal Completion', 59639.80040272, 59639.80040272)],\n",
       "        [( 8, 1, 790, 69165424, 399, b'2022-03-01T19:12:45.424', 256, 2048, 0, 0, b'Normal Completion', 59639.80052575, 59639.80052575)],\n",
       "        [( 8, 2, 790, 69170739, 200, b'2022-03-01T19:12:50.739', 256, 2048, 0, 0, b'Normal Completion', 59639.80058726, 59639.80058726)],\n",
       "        [( 8, 3, 790, 69176054,   0, b'2022-03-01T19:12:56.054', 256, 2048, 0, 0, b'Normal Completion', 59639.80064877, 59639.80064877)],\n",
       "        [( 8, 4, 790, 69181368, 800, b'2022-03-01T19:13:01.369', 256, 2048, 0, 0, b'Normal Completion', 59639.80071029, 59639.80071029)],\n",
       "        [( 8, 5, 790, 69186683, 599, b'2022-03-01T19:13:06.684', 256, 2048, 0, 0, b'Normal Completion', 59639.8007718 , 59639.8007718 )],\n",
       "        [( 9, 1, 790, 69197313, 199, b'2022-03-01T19:13:17.313', 256, 2048, 0, 0, b'Normal Completion', 59639.80089483, 59639.80089483)],\n",
       "        [( 9, 2, 790, 69202628,   0, b'2022-03-01T19:13:22.628', 256, 2048, 0, 0, b'Normal Completion', 59639.80095634, 59639.80095634)],\n",
       "        [( 9, 3, 790, 69207942, 800, b'2022-03-01T19:13:27.943', 256, 2048, 0, 0, b'Normal Completion', 59639.80101786, 59639.80101786)],\n",
       "        [( 9, 4, 790, 69213257, 600, b'2022-03-01T19:13:33.258', 256, 2048, 0, 0, b'Normal Completion', 59639.80107937, 59639.80107937)],\n",
       "        [( 9, 5, 790, 69218572, 399, b'2022-03-01T19:13:38.572', 256, 2048, 0, 0, b'Normal Completion', 59639.80114088, 59639.80114088)],\n",
       "        [(10, 1, 790, 69229201, 999, b'2022-03-01T19:13:49.202', 256, 2048, 0, 0, b'Normal Completion', 59639.80126391, 59639.80126391)],\n",
       "        [(10, 2, 790, 69234516, 800, b'2022-03-01T19:13:54.517', 256, 2048, 0, 0, b'Normal Completion', 59639.80132543, 59639.80132543)],\n",
       "        [(10, 3, 790, 69239831, 600, b'2022-03-01T19:13:59.832', 256, 2048, 0, 0, b'Normal Completion', 59639.80138694, 59639.80138694)],\n",
       "        [(10, 4, 790, 69245146, 400, b'2022-03-01T19:14:05.146', 256, 2048, 0, 0, b'Normal Completion', 59639.80144845, 59639.80144845)],\n",
       "        [(10, 5, 790, 69250461, 199, b'2022-03-01T19:14:10.461', 256, 2048, 0, 0, b'Normal Completion', 59639.80150997, 59639.80150997)]],\n",
       "       dtype=[('integration_number', '<i2'), ('group_number', '<i2'), ('end_day', '<i2'), ('end_milliseconds', '<i4'), ('end_submilliseconds', '<i2'), ('group_end_time', 'S26'), ('number_of_columns', '<i2'), ('number_of_rows', '<i2'), ('number_of_gaps', '<i2'), ('completion_code_number', '<i2'), ('completion_code_text', 'S36'), ('bary_end_time', '<f8'), ('helio_end_time', '<f8')]),\n",
       " 'pridith_pattern_type': 'NONE',\n",
       " 'pridith_points_packing': 'NONE',\n",
       " 'pridith_npoints': 'NONE',\n",
       " 'position_number': 1,\n",
       " 'pattern_start': 1,\n",
       " 'total_points': '1',\n",
       " 'dither_points': '1',\n",
       " 'pattern_size': 'NONE',\n",
       " 'sgd_pattern': 'NONE',\n",
       " 'subpixel_number': 1,\n",
       " 'subpixel_total_points': 1,\n",
       " 'subpixel_pattern': 'STANDARD',\n",
       " 'x_offset': 0.052,\n",
       " 'y_offset': -2.37,\n",
       " 'EXSEGNUM': None,\n",
       " 'EXSEGTOT': None,\n",
       " 'filename': 'jw01409001001_02101_00001_nrca5_uncal.fits',\n",
       " 'save_dir': None,\n",
       " 'nexposures': 2,\n",
       " 'ddist': 0.0,\n",
       " 'pid': '01409',\n",
       " 'visit_key': '001:001'}"
      ]
     },
     "execution_count": 11,
     "metadata": {},
     "output_type": "execute_result"
    }
   ],
   "source": [
    "obs_params"
   ]
  },
  {
   "cell_type": "code",
   "execution_count": 9,
   "id": "continued-bahrain",
   "metadata": {
    "scrolled": false
   },
   "outputs": [
    {
     "data": {
      "text/plain": [
       "{'obs_num': 1,\n",
       " 'visit_num': 1,\n",
       " 'visit_start': 23416,\n",
       " 'slew_duration': 1800,\n",
       " 'visit_duration': 1167,\n",
       " 'exp_start_times': array([25418, 25928]),\n",
       " 'PrimaryDitherType': array(['NONE', 'NONE'], dtype='<U4'),\n",
       " 'PrimaryDithers': array(['NONE', 'NONE'], dtype='<U4'),\n",
       " 'DitherSize': array(['NONE', 'NONE'], dtype='<U4'),\n",
       " 'SubpixelPositions': array(['1', '1'], dtype='<U1'),\n",
       " 'SubpixelDitherType': array(['STANDARD', 'STANDARD'], dtype='<U8'),\n",
       " 'SmallGridDitherType': array(['NONE', 'NONE'], dtype='<U4'),\n",
       " 'DitherPatternType': array(['NONE', 'NONE'], dtype='<U4'),\n",
       " 'ImageDithers': array(['NONE', 'NONE'], dtype='<U4'),\n",
       " 'number_of_dithers': array(['1', '1'], dtype='<U1'),\n",
       " 'rand_seed_dith': 3710271437,\n",
       " 'rand_seed_noise': 191294463,\n",
       " 'TargetID': array(['HD-84406', 'HD-84406'], dtype='<U15'),\n",
       " 'TargetRA': array(['09:47:30.2970', '09:47:30.2970'], dtype='<U13'),\n",
       " 'TargetDec': array(['+63:14:49.96', '+63:14:49.96'], dtype='<U12'),\n",
       " 'aperture': array(['NRCA5_GRISM256_F322W2', 'NRCA5_GRISM256_F322W2'], dtype='<U21'),\n",
       " 'pri_dith': array([1, 1]),\n",
       " 'sub_dith': array([1, 1]),\n",
       " 'targ1': array([13, 13]),\n",
       " 'targ2': array(['HD-8440', 'HD-8440'], dtype='<U8'),\n",
       " 'ra': array([146.87624, 146.87624]),\n",
       " 'dec': array([63.24721, 63.24721]),\n",
       " 'basex': array([0., 0.]),\n",
       " 'basey': array([5., 5.]),\n",
       " 'dithx': array([ 0.052, -0.052]),\n",
       " 'dithy': array([-7.37,  7.37]),\n",
       " 'v2': array([50.706, 50.869]),\n",
       " 'v3': array([-558.847, -544.106]),\n",
       " 'idlx': array([ 0.052, -0.052]),\n",
       " 'idly': array([-2.37, 12.37]),\n",
       " 'obs_label': array(['LW Grism Ice Monitor #1 Mod-A 256 subarray',\n",
       "        'LW Grism Ice Monitor #1 Mod-A 256 subarray'], dtype='<U42'),\n",
       " 'obs_id_info': array([{'program_number': '01409', 'observation_number': '001', 'visit_number': '001', 'visit_group': '02', 'sequence_id': '1', 'activity_id': '01', 'exposure_number': '00001', 'visit_id': '01409001001', 'obs_id': 'V01409001001P0000000002101'},\n",
       "        {'program_number': '01409', 'observation_number': '001', 'visit_number': '001', 'visit_group': '02', 'sequence_id': '1', 'activity_id': '01', 'exposure_number': '00002', 'visit_id': '01409001001', 'obs_id': 'V01409001001P0000000002101'}],\n",
       "       dtype=object),\n",
       " 'level': array(['TARGET', 'TILE'], dtype='<U6'),\n",
       " 'type': array(['SCIENCE', 'SCIENCE'], dtype='<U7'),\n",
       " 'ddist': array([ 0.   , 14.741]),\n",
       " 'sw_filters': array(['F212N', 'F212N'], dtype='<U5'),\n",
       " 'sw_pupils': array(['CLEAR', 'CLEAR'], dtype='<U5'),\n",
       " 'lw_filters': array(['F322W2', 'F322W2'], dtype='<U6'),\n",
       " 'lw_pupils': array(['GRISMR', 'GRISMR'], dtype='<U6'),\n",
       " 'coron_mask': array(['NONE', 'NONE'], dtype='<U4'),\n",
       " 'mode': array(['imaging', 'imaging'], dtype='<U7'),\n",
       " 'subarray_name': array(['SUBGRISM256', 'SUBGRISM256'], dtype='<U11'),\n",
       " 'readout': array(['RAPID', 'RAPID'], dtype='<U5'),\n",
       " 'nints': array(['10', '10'], dtype='<U2'),\n",
       " 'ngroups': array(['5', '5'], dtype='<U1'),\n",
       " 'noutputs': array([1, 1]),\n",
       " 'detectors': array([['NRCA5'],\n",
       "        ['NRCA5']], dtype='<U5')}"
      ]
     },
     "execution_count": 9,
     "metadata": {},
     "output_type": "execute_result"
    }
   ],
   "source": [
    "visits['001:001']"
   ]
  },
  {
   "cell_type": "code",
   "execution_count": 16,
   "id": "guided-russell",
   "metadata": {},
   "outputs": [
    {
     "data": {
      "text/plain": [
       "['NRCA1', 'NRCA2', 'NRCA3', 'NRCA4']"
      ]
     },
     "execution_count": 16,
     "metadata": {},
     "output_type": "execute_result"
    }
   ],
   "source": [
    "det_amod = ['NRCA1', 'NRCA2', 'NRCA3', 'NRCA4', 'NRCA5']\n",
    "det_amod[0:4]"
   ]
  },
  {
   "cell_type": "code",
   "execution_count": 15,
   "id": "overall-guess",
   "metadata": {
    "scrolled": false
   },
   "outputs": [
    {
     "name": "stdout",
     "output_type": "stream",
     "text": [
      "003:001 [['NRCA1' 'NRCA2' 'NRCA3' 'NRCA4' 'NRCA5']]\n",
      "002:001 [['NRCA1' 'NRCA2' 'NRCA3' 'NRCA4' 'NRCA5']]\n",
      "004:001 [['NRCA1' 'NRCA2' 'NRCA3' 'NRCA4' 'NRCA5']]\n",
      "009:001 [['NRCA5']\n",
      " ['NRCA5']]\n",
      "008:001 [['NRCA5']\n",
      " ['NRCA5']]\n",
      "007:001 [['NRCA5']\n",
      " ['NRCA5']]\n",
      "005:001 [['NRCA5']\n",
      " ['NRCA5']]\n",
      "006:001 [['NRCA5']\n",
      " ['NRCA5']]\n",
      "031:001 [['NRCA1' 'NRCA2' 'NRCA3' 'NRCA4' 'NRCA5']\n",
      " ['NRCA1' 'NRCA2' 'NRCA3' 'NRCA4' 'NRCA5']]\n",
      "032:001 [['NRCA5']\n",
      " ['NRCA5']]\n",
      "033:001 [['NRCA5']\n",
      " ['NRCA5']]\n",
      "034:001 [['NRCA5']]\n",
      "001:001 [['NRCA5']\n",
      " ['NRCA5']]\n",
      "022:001 [['NRCA1' 'NRCA2' 'NRCA3' 'NRCA4' 'NRCA5']\n",
      " ['NRCA1' 'NRCA2' 'NRCA3' 'NRCA4' 'NRCA5']]\n",
      "023:001 [['NRCA1' 'NRCA2' 'NRCA3' 'NRCA4' 'NRCA5']]\n",
      "024:001 [['NRCB5']\n",
      " ['NRCB5']]\n",
      "025:001 [['NRCBS']\n",
      " ['NRCBS']]\n",
      "026:001 [['NRCBS']]\n"
     ]
    }
   ],
   "source": [
    "for k in visits.keys():\n",
    "    print(k, visits[k]['detectors'])"
   ]
  },
  {
   "cell_type": "code",
   "execution_count": 10,
   "id": "prescription-singapore",
   "metadata": {},
   "outputs": [
    {
     "data": {
      "text/plain": [
       "{'obs_num': 8,\n",
       " 'visit_num': 1,\n",
       " 'visit_start': 8533,\n",
       " 'slew_duration': 265,\n",
       " 'visit_duration': 1326,\n",
       " 'exp_start_times': array([9122, 9655]),\n",
       " 'PrimaryDitherType': array(['NONE', 'NONE'], dtype='<U4'),\n",
       " 'PrimaryDithers': array(['NONE', 'NONE'], dtype='<U4'),\n",
       " 'DitherSize': array(['NONE', 'NONE'], dtype='<U4'),\n",
       " 'SubpixelPositions': array(['1', '1'], dtype='<U1'),\n",
       " 'SubpixelDitherType': array(['STANDARD', 'STANDARD'], dtype='<U8'),\n",
       " 'SmallGridDitherType': array(['NONE', 'NONE'], dtype='<U4'),\n",
       " 'DitherPatternType': array(['NONE', 'NONE'], dtype='<U4'),\n",
       " 'ImageDithers': array(['NONE', 'NONE'], dtype='<U4'),\n",
       " 'number_of_dithers': array(['1', '1'], dtype='<U1'),\n",
       " 'rand_seed_dith': 3267179548,\n",
       " 'rand_seed_noise': 2965660561,\n",
       " 'TargetID': array(['GCRV-21765', 'GCRV-21765'], dtype='<U15'),\n",
       " 'TargetRA': array(['05:49:53.4300', '05:49:53.4300'], dtype='<U13'),\n",
       " 'TargetDec': array(['-64:32:24.00', '-64:32:24.00'], dtype='<U12'),\n",
       " 'aperture': array(['NRCA5_GRISM256_F322W2', 'NRCA5_GRISM256_F322W2'], dtype='<U21'),\n",
       " 'pri_dith': array([1, 1]),\n",
       " 'sub_dith': array([1, 1]),\n",
       " 'targ1': array([11, 11]),\n",
       " 'targ2': array(['GCRV-21', 'GCRV-21'], dtype='<U8'),\n",
       " 'ra': array([87.47263, 87.47263]),\n",
       " 'dec': array([-64.54, -64.54]),\n",
       " 'basex': array([0., 0.]),\n",
       " 'basey': array([5., 5.]),\n",
       " 'dithx': array([ 0.029, -0.029]),\n",
       " 'dithy': array([-4.095,  4.095]),\n",
       " 'v2': array([50.742, 50.832]),\n",
       " 'v3': array([-555.571, -547.382]),\n",
       " 'idlx': array([ 0.029, -0.029]),\n",
       " 'idly': array([0.905, 9.095]),\n",
       " 'obs_label': array(['LW Grism Ice Monitor #8', 'LW Grism Ice Monitor #8'], dtype='<U42'),\n",
       " 'obs_id_info': array([{'program_number': '01409', 'observation_number': '008', 'visit_number': '001', 'visit_group': '02', 'sequence_id': '1', 'activity_id': '01', 'exposure_number': '00001', 'visit_id': '01409008001', 'obs_id': 'V01409008001P0000000002101'},\n",
       "        {'program_number': '01409', 'observation_number': '008', 'visit_number': '001', 'visit_group': '02', 'sequence_id': '1', 'activity_id': '01', 'exposure_number': '00002', 'visit_id': '01409008001', 'obs_id': 'V01409008001P0000000002101'}],\n",
       "       dtype=object),\n",
       " 'level': array(['TARGET', 'TILE'], dtype='<U6'),\n",
       " 'type': array(['SCIENCE', 'SCIENCE'], dtype='<U7'),\n",
       " 'ddist': array([0.  , 8.19]),\n",
       " 'sw_filters': array(['CLEAR', 'CLEAR'], dtype='<U5'),\n",
       " 'sw_pupils': array(['WLP4', 'WLP4'], dtype='<U5'),\n",
       " 'lw_filters': array(['F322W2', 'F322W2'], dtype='<U6'),\n",
       " 'lw_pupils': array(['GRISMR', 'GRISMR'], dtype='<U6'),\n",
       " 'coron_mask': array(['NONE', 'NONE'], dtype='<U4'),\n",
       " 'mode': array(['imaging', 'imaging'], dtype='<U7'),\n",
       " 'subarray_name': array(['SUBGRISM256', 'SUBGRISM256'], dtype='<U11'),\n",
       " 'readout': array(['RAPID', 'RAPID'], dtype='<U5'),\n",
       " 'nints': array(['10', '10'], dtype='<U2'),\n",
       " 'ngroups': array(['5', '5'], dtype='<U1'),\n",
       " 'noutputs': array(['NONE', 'NONE'], dtype='<U4'),\n",
       " 'detectors': array([['NRCA5'],\n",
       "        ['NRCA5']], dtype='<U5')}"
      ]
     },
     "execution_count": 10,
     "metadata": {},
     "output_type": "execute_result"
    }
   ],
   "source": [
    "visits['008:001']"
   ]
  },
  {
   "cell_type": "code",
   "execution_count": 9,
   "id": "reflected-proxy",
   "metadata": {
    "scrolled": false
   },
   "outputs": [
    {
     "data": {
      "text/plain": [
       "odict_keys(['003:001', '002:001', '004:001', '009:001', '008:001', '007:001', '005:001', '006:001', '031:001', '032:001', '033:001', '034:001', '001:001', '022:001', '023:001', '024:001', '025:001', '026:001'])"
      ]
     },
     "execution_count": 9,
     "metadata": {},
     "output_type": "execute_result"
    }
   ],
   "source": [
    "visits.keys()"
   ]
  },
  {
   "cell_type": "code",
   "execution_count": 10,
   "id": "bored-cover",
   "metadata": {},
   "outputs": [
    {
     "name": "stdout",
     "output_type": "stream",
     "text": [
      "  Generating Observation...\n"
     ]
    },
    {
     "data": {
      "application/vnd.jupyter.widget-view+json": {
       "model_id": "",
       "version_major": 2,
       "version_minor": 0
      },
      "text/plain": [
       "Single PSFs:   0%|          | 0/21 [00:00<?, ?it/s]"
      ]
     },
     "metadata": {},
     "output_type": "display_data"
    }
   ],
   "source": []
  },
  {
   "cell_type": "code",
   "execution_count": 17,
   "id": "practical-mongolia",
   "metadata": {},
   "outputs": [
    {
     "name": "stdout",
     "output_type": "stream",
     "text": [
      "  Creating ideal slope image...\n"
     ]
    }
   ],
   "source": [
    "# Update detector information\n",
    "obs.update_detectors(wind_mode='STRIPE', ypix=256, read_mode='RAPID', ngroup=10, nint=5)\n",
    "d['obs'] = obs\n",
    "\n",
    "# Create ideal spectral slope images\n",
    "#############################################\n",
    "print('  Creating ideal slope image...')\n",
    "T = d['temp']"
   ]
  },
  {
   "cell_type": "code",
   "execution_count": 20,
   "id": "textile-bundle",
   "metadata": {},
   "outputs": [],
   "source": [
    "# Modify flux due to lower effective collecting area\n",
    "input_pupil_hdul, input_opd_hdul = d['opd']\n",
    "coll_area_seg = 25.78e4 * input_pupil_hdul[0].data.sum() / pupil_hdul[0].data.sum()\n",
    "# S.refs.setref(area=coll_area_seg)\n"
   ]
  },
  {
   "cell_type": "code",
   "execution_count": 15,
   "id": "quality-discovery",
   "metadata": {},
   "outputs": [
    {
     "name": "stdout",
     "output_type": "stream",
     "text": [
      "CPU times: user 4.11 s, sys: 1.77 s, total: 5.87 s\n",
      "Wall time: 3.3 s\n"
     ]
    }
   ],
   "source": [
    "%time psf = obs.calc_psf_from_coeff(return_oversample=False)"
   ]
  },
  {
   "cell_type": "code",
   "execution_count": 16,
   "id": "thorough-hebrew",
   "metadata": {},
   "outputs": [
    {
     "data": {
      "image/png": "[encoded data removed]",
      "text/plain": [
       "<Figure size 1008x180 with 1 Axes>"
      ]
     },
     "metadata": {
      "needs_background": "light"
     },
     "output_type": "display_data"
    }
   ],
   "source": [
    "fig, ax = plt.subplots(1,1, figsize=(14,2.5))\n",
    "\n",
    "ax.imshow(psf[0].data)\n",
    "\n",
    "fig.tight_layout()"
   ]
  },
  {
   "cell_type": "code",
   "execution_count": 14,
   "id": "equal-forward",
   "metadata": {},
   "outputs": [
    {
     "data": {
      "image/png": "[encoded data removed]",
      "text/plain": [
       "<Figure size 1008x180 with 1 Axes>"
      ]
     },
     "metadata": {
      "needs_background": "light"
     },
     "output_type": "display_data"
    }
   ],
   "source": [
    "fig, ax = plt.subplots(1,1, figsize=(14,2.5))\n",
    "\n",
    "ax.imshow(psf[0].data)\n",
    "\n",
    "fig.tight_layout()"
   ]
  },
  {
   "cell_type": "code",
   "execution_count": 27,
   "id": "abroad-thesaurus",
   "metadata": {},
   "outputs": [],
   "source": [
    "bg = obs.bg_zodi_image()\n",
    "bg /= bg.max()\n",
    "bg *= 1000"
   ]
  },
  {
   "cell_type": "code",
   "execution_count": 28,
   "id": "quantitative-bible",
   "metadata": {},
   "outputs": [
    {
     "data": {
      "text/plain": [
       "1000.0"
      ]
     },
     "execution_count": 28,
     "metadata": {},
     "output_type": "execute_result"
    }
   ],
   "source": [
    "bg.max()"
   ]
  },
  {
   "cell_type": "code",
   "execution_count": 29,
   "id": "random-florida",
   "metadata": {},
   "outputs": [
    {
     "data": {
      "text/plain": [
       "<matplotlib.image.AxesImage at 0x7fb290116350>"
      ]
     },
     "execution_count": 29,
     "metadata": {},
     "output_type": "execute_result"
    },
    {
     "data": {
      "image/png": "[encoded data removed]",
      "text/plain": [
       "<Figure size 576x432 with 1 Axes>"
      ]
     },
     "metadata": {
      "needs_background": "light"
     },
     "output_type": "display_data"
    }
   ],
   "source": [
    "plt.imshow(bg)"
   ]
  },
  {
   "cell_type": "code",
   "execution_count": 21,
   "id": "stable-vanilla",
   "metadata": {},
   "outputs": [
    {
     "name": "stdout",
     "output_type": "stream",
     "text": [
      "Filename: (No file associated with this HDUList)\n",
      "No.    Name      Ver    Type      Cards   Dimensions   Format\n",
      "  0  DET_DIST      1 PrimaryHDU      78   (2332, 257)   float64   \n",
      "  1  WAVELENGTHS    1 ImageHDU         7   (2332,)   float64   \n"
     ]
    }
   ],
   "source": [
    "psf.info()"
   ]
  },
  {
   "cell_type": "code",
   "execution_count": null,
   "id": "broken-motivation",
   "metadata": {},
   "outputs": [],
   "source": [
    "opd_dict = inst.get_opd_info()"
   ]
  }
 ],
 "metadata": {
  "kernelspec": {
   "display_name": "Python 3",
   "language": "python",
   "name": "python3"
  },
  "language_info": {
   "codemirror_mode": {
    "name": "ipython",
    "version": 3
   },
   "file_extension": ".py",
   "mimetype": "text/x-python",
   "name": "python",
   "nbconvert_exporter": "python",
   "pygments_lexer": "ipython3",
   "version": "3.7.9"
  }
 },
 "nbformat": 4,
 "nbformat_minor": 5
}
