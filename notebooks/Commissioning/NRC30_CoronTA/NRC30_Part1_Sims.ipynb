{
 "cells": [
  {
   "cell_type": "markdown",
   "id": "c9a1d52d",
   "metadata": {},
   "source": [
    "# NRC-30: NIRCam Coronagraphic Target Acquisition\n",
    "\n",
    "## PID 1075\n",
    "\n",
    "This activity is a two-part test of NIRCam coronagraphic target acquisition (TA). \n",
    "Both parts follow the successful completion of CAR-NIRCAM-021b (Coronagraphic Astrometric Calibration), the goal of which is a geometric distortion map of the coronagraphic FOV with RMS errors less than 3 mas in each axis.\n",
    " - **Part 1**: Determines the precise offsets required to move a star from its measured position in the target-acquisition image to the ideal location behind each occulter.\n",
    " - **Part 2**: Follows the analysis period for Part 1 and tests the implementation of the derived offsets. \n",
    " \n"
   ]
  },
  {
   "cell_type": "code",
   "execution_count": 1,
   "id": "96c6ca50",
   "metadata": {},
   "outputs": [],
   "source": [
    "# Import the usual libraries\n",
    "import numpy as np\n",
    "import matplotlib\n",
    "import matplotlib.pyplot as plt\n",
    "\n",
    "# Enable inline plotting at lower left\n",
    "%matplotlib inline\n",
    "\n",
    "# Program bar\n",
    "from tqdm.auto import trange, tqdm"
   ]
  },
  {
   "cell_type": "code",
   "execution_count": 2,
   "id": "042abd91",
   "metadata": {},
   "outputs": [
    {
     "name": "stdout",
     "output_type": "stream",
     "text": [
      "pyNRC log messages of level WARN and above will be shown.\n",
      "pyNRC log outputs will be directed to the screen.\n"
     ]
    }
   ],
   "source": [
    "import pynrc\n",
    "from pynrc import nrc_utils, obs_hci, nrc_hci\n",
    "from pynrc.simul.ngNRC import create_level1b_FITS\n",
    "\n",
    "# Disable informational messages and only include warnings and higher\n",
    "pynrc.setup_logging(level='WARN')"
   ]
  },
  {
   "cell_type": "code",
   "execution_count": 3,
   "id": "78d97eb1",
   "metadata": {},
   "outputs": [],
   "source": [
    "#########################################\n",
    "# Define directory paths\n",
    "#########################################\n",
    "\n",
    "import os\n",
    "\n",
    "apt_dir       = '../../APT_output/'\n",
    "# save_dir      = '/Users/jarron/NIRCam/Data/NRC_Sims/Sim_NRC30/'\n",
    "save_dir      = '/home/jarronl/data/NIRData/NRC_Sims/Sim_NRC30/'\n",
    "\n",
    "# Check that directories exist\n",
    "for d in [apt_dir, save_dir]:\n",
    "    if not os.path.isdir(d):\n",
    "        print(f'{d} does not exist!')"
   ]
  },
  {
   "cell_type": "markdown",
   "id": "9a922c14",
   "metadata": {},
   "source": [
    "## APT Inputs"
   ]
  },
  {
   "cell_type": "code",
   "execution_count": 4,
   "id": "27bda1a1",
   "metadata": {},
   "outputs": [
    {
     "name": "stdout",
     "output_type": "stream",
     "text": [
      "../../APT_output/pid1075_part1.timing.json True\n",
      "../../APT_output/pid1075_part1.smart_accounting True\n",
      "../../APT_output/pid1075_part1.pointing True\n",
      "../../APT_output/pid1075_part1.xml True\n"
     ]
    }
   ],
   "source": [
    "import os\n",
    "from pynrc.simul import apt, ngNRC, dms\n",
    "\n",
    "pid_str = 'pid1075_part1'\n",
    "\n",
    "# APT output files\n",
    "xml_file      = os.path.join(apt_dir, f'{pid_str}.xml')\n",
    "pointing_file = os.path.join(apt_dir, f'{pid_str}.pointing')\n",
    "json_file     = os.path.join(apt_dir, f'{pid_str}.timing.json')\n",
    "sm_acct_file  = os.path.join(apt_dir, f'{pid_str}.smart_accounting')\n",
    "\n",
    "# Make sure files exist\n",
    "for f in [json_file, sm_acct_file, pointing_file, xml_file]:\n",
    "    print(f, os.path.isfile(f))"
   ]
  },
  {
   "cell_type": "markdown",
   "id": "a0e5a537",
   "metadata": {},
   "source": [
    "## Targets"
   ]
  },
  {
   "cell_type": "code",
   "execution_count": 5,
   "id": "23bd4c08",
   "metadata": {},
   "outputs": [],
   "source": [
    "# Define 2MASS Ks bandpass and source information\n",
    "bp_k = pynrc.bp_2mass('k')\n",
    "\n",
    "# eta1 dor\n",
    "# Science      source,  dist, age, sptype, Teff, [Fe/H], log_g, mag, band\n",
    "args_bright = ('HD 42525', 103, 94, 'A0V', 10325, 0.0, 4.09, 5.75, bp_k)\n",
    "\n",
    "# References   source,     sptype, mag, band\n",
    "args_faint  = ('HD 41355', 'A0V', 8.81, bp_k)\n",
    "\n",
    "# Directory housing VOTables \n",
    "# http://vizier.u-strasbg.fr/vizier/sed/\n",
    "votdir = '../../votables/'"
   ]
  },
  {
   "cell_type": "code",
   "execution_count": 6,
   "id": "abaa46ca",
   "metadata": {},
   "outputs": [
    {
     "name": "stdout",
     "output_type": "stream",
     "text": [
      "[0.98844468]\n"
     ]
    }
   ],
   "source": [
    "# Fit spectrum to SED photometry\n",
    "name_bright, dist_bright, age, spt_bright, Teff_bright, feh_bright, logg_bright, mag_bright, bp_bright = args_bright\n",
    "vot = votdir + name_bright.replace(' ' ,'') + '.vot'\n",
    "\n",
    "args = (name_bright, spt_bright, mag_bright, bp_bright, vot)\n",
    "kwargs = {'Teff':Teff_bright, 'metallicity':feh_bright, 'log_g':logg_bright}\n",
    "src_bright = pynrc.source_spectrum(*args, **kwargs)\n",
    "\n",
    "src_bright.fit_SED(use_err=False, robust=False, wlim=[1,5])\n",
    "\n",
    "# Final source spectrum (pysynphot)\n",
    "sp_bright = src_bright.sp_model"
   ]
  },
  {
   "cell_type": "code",
   "execution_count": 7,
   "id": "0b127aed",
   "metadata": {},
   "outputs": [
    {
     "name": "stdout",
     "output_type": "stream",
     "text": [
      "[0.96083817]\n"
     ]
    }
   ],
   "source": [
    "# Do the same for the reference source\n",
    "name_faint, spt_faint, mag_faint, bp_faint = args_faint\n",
    "vot = votdir + name_faint.replace(' ' ,'') + '.vot'\n",
    "\n",
    "args = (name_faint, spt_faint, mag_faint, bp_faint, vot)\n",
    "src_faint = pynrc.source_spectrum(*args)\n",
    "\n",
    "src_faint.fit_SED(use_err=False, robust=False, wlim=[1,5])\n",
    "\n",
    "# Final reference spectrum (pysynphot)\n",
    "sp_faint = src_faint.sp_model"
   ]
  },
  {
   "cell_type": "code",
   "execution_count": 8,
   "id": "fa26f442",
   "metadata": {},
   "outputs": [
    {
     "data": {
      "image/png": "[encoded data removed]",
      "text/plain": [
       "<Figure size 936x288 with 2 Axes>"
      ]
     },
     "metadata": {
      "needs_background": "light"
     },
     "output_type": "display_data"
    }
   ],
   "source": [
    "# Plot spectra \n",
    "fig, axes = plt.subplots(1,2, figsize=(13,4))\n",
    "src_bright.plot_SED(xr=[0.3,10], ax=axes[0])\n",
    "src_faint.plot_SED(xr=[0.3,10], ax=axes[1])\n",
    "\n",
    "axes[0].set_title('Bright Spectum -- {} ({})'.format(src_bright.name, spt_bright))\n",
    "axes[1].set_title('Faint Spectum -- {} ({})'.format(src_faint.name, spt_faint))\n",
    "\n",
    "fig.tight_layout()"
   ]
  },
  {
   "cell_type": "code",
   "execution_count": 9,
   "id": "a668dac3",
   "metadata": {},
   "outputs": [],
   "source": [
    "from astropy import units as u\n",
    "from astropy.coordinates import SkyCoord, Distance\n",
    "from astropy.time import Time\n",
    "from astropy.table import Table\n",
    "\n",
    "# Initialize target dictionary\n",
    "targ_dict = {}\n",
    "\n",
    "# Dictionary keywords should match APT target names\n",
    "targ_dict['HD-42525'] = {\n",
    "    'type' : 'FixedTargetType',\n",
    "    'TargetName' : 'HD-42525', 'TargetArchiveName' : 'eta01 Dor',\n",
    "    'EquatorialCoordinates' : \"06 06 09.3815420998 -66 02 22.630442068\",\n",
    "    'RAProperMotion'  : 13.656*u.mas/u.yr, \n",
    "    'DecProperMotion' : 27.815*u.mas/u.yr, \n",
    "    'parallax' : 9.7251*u.mas, 'age_Myr' : 97,\n",
    "    'params_star' : {'sp' : sp_bright},\n",
    "}\n",
    "\n",
    "# Dictionary keywords should match APT target names\n",
    "targ_dict['HD-41355'] = {\n",
    "    'type' : 'FixedTargetType',\n",
    "    'TargetName' : 'HD-41355', 'TargetArchiveName' : 'HD 41355',\n",
    "    'EquatorialCoordinates' : \"05 59 39.2154186765 -65 26 49.088478043\",\n",
    "    'RAProperMotion'  :  1.970*u.mas/u.yr, \n",
    "    'DecProperMotion' : 21.998*u.mas/u.yr, \n",
    "    'parallax' : 3.2154*u.mas, 'age_Myr' : 1000,\n",
    "    'params_star' : {'sp' : sp_bright},\n",
    "}"
   ]
  },
  {
   "cell_type": "code",
   "execution_count": 11,
   "id": "38cef41a",
   "metadata": {},
   "outputs": [
    {
     "name": "stdout",
     "output_type": "stream",
     "text": [
      "INFO: Query finished. [astroquery.utils.tap.core]\n",
      "[astroquery:INFO] Query finished.\n"
     ]
    },
    {
     "data": {
      "application/vnd.jupyter.widget-view+json": {
       "model_id": "",
       "version_major": 2,
       "version_minor": 0
      },
      "text/plain": [
       "Filters:   0%|          | 0/29 [00:00<?, ?it/s]"
      ]
     },
     "metadata": {},
     "output_type": "display_data"
    },
    {
     "name": "stdout",
     "output_type": "stream",
     "text": [
      "INFO: Query finished. [astroquery.utils.tap.core]\n",
      "[astroquery:INFO] Query finished.\n"
     ]
    },
    {
     "data": {
      "application/vnd.jupyter.widget-view+json": {
       "model_id": "",
       "version_major": 2,
       "version_minor": 0
      },
      "text/plain": [
       "Filters:   0%|          | 0/29 [00:00<?, ?it/s]"
      ]
     },
     "metadata": {},
     "output_type": "display_data"
    }
   ],
   "source": [
    "# Populate coordinates and calculate distance from parallax info\n",
    "for k in targ_dict.keys():\n",
    "    d = targ_dict[k]\n",
    "    dist = Distance(parallax=d['parallax']) if d['parallax'] is not None else None\n",
    "    c = SkyCoord(d['EquatorialCoordinates'], frame='icrs', unit=(u.hourangle, u.deg),\n",
    "                 pm_ra_cosdec=d['RAProperMotion'], pm_dec=d['DecProperMotion'],\n",
    "                 distance=dist, obstime='J2000')\n",
    "    d['sky_coords'] = c\n",
    "    d['ra_J2000'], d['dec_J2000'] = (c.ra.deg, c.dec.deg)\n",
    "    d['dist_pc'] = c.distance.value if dist is not None else None\n",
    "    \n",
    "    # Auto-generate source tables\n",
    "    src_tbl = ngNRC.make_gaia_source_table(c)\n",
    "    d['src_tbl'] = src_tbl if len(src_tbl)>0 else None"
   ]
  },
  {
   "cell_type": "code",
   "execution_count": 32,
   "id": "560d708a",
   "metadata": {},
   "outputs": [],
   "source": [
    "sim_config = {\n",
    "    # APT input files\n",
    "    'json_file'     : json_file,\n",
    "    'sm_acct_file'  : sm_acct_file,\n",
    "    'pointing_file' : pointing_file,\n",
    "    'xml_file'      : xml_file,\n",
    "    # Output directory\n",
    "    'save_dir'      : save_dir,\n",
    "    \n",
    "    # Initialize random seeds if repeatability is required\n",
    "    # Create separate random number generators for dithers and noise\n",
    "    'rand_seed_init'  : 1234567,\n",
    "    \n",
    "    # Date and time of observations\n",
    "    'obs_date' : '2022-05-24', \n",
    "    'obs_time' : '12:00:00',\n",
    "    # Position angle of observatory\n",
    "    # User should check acceptable range in APT's Roll Analysis\n",
    "    'pa_v3'    : None,\n",
    "    \n",
    "    # Source information\n",
    "    'params_targets' : targ_dict,\n",
    "    \n",
    "    # PSF size information for WebbPSF_ext\n",
    "    'params_webbpsf' : {'fov_pix': None, 'oversample': 2},\n",
    "    # Position-dependent PSFs for convolution\n",
    "    'params_psfconv' : {'npsf_per_full_fov': 9, 'osamp': 1, 'sptype': 'G0V'},\n",
    "    # Wavefront error drift settings\n",
    "    'params_wfedrift' : {'case': 'BOL', 'slew_init': 10, 'plot': False, 'figname': None},\n",
    "    # For coronagraphic masks, sample large grid of points?\n",
    "    'large_grid' : True,\n",
    "    \n",
    "    # Slew and dither pointing uncertainties\n",
    "    'large_slew' :  10.0,     # Slew to target (mas) / Centering accuracy at TA position\n",
    "    'ta_sam'     :  50.0,     # SAM movements from TA position to mask (mas)\n",
    "    'std_sam'    :  10.0,     # Standard dither values (mas)\n",
    "    'sgd_sam'    :  10.0,     # Small grid dithers (mas)\n",
    "    \n",
    "    # Type of image files to save; can be supplied directly\n",
    "    'save_slope' : False,  # Save ideal noiseless slope images to FITS\n",
    "    'save_dms'   : False,  # Save DMS-like ramps to FITS\n",
    "    'dry_run'    : False,  # Perform a dry-run, not generating any data, just printing visit info\n",
    "    \n",
    "    # Noise components to include in full DMS output\n",
    "    'params_noise' : {\n",
    "        'include_poisson'   : True,     # Photon Noise\n",
    "        'include_dark'      : True,     # Dark current\n",
    "        'include_bias'      : True,     # Bias image offset\n",
    "        'include_ktc'       : True,     # kTC Noise\n",
    "        'include_rn'        : True,     # Read Noise\n",
    "        'include_cpink'     : True,     # Correlated 1/f noise between channel\n",
    "        'include_upink'     : True,     # Channel-dependent 1/f noise\n",
    "        'include_acn'       : True,     # Alternating column noise\n",
    "        'apply_ipc'         : True,     # Interpixel capacitance\n",
    "        'apply_ppc'         : True,     # Post-pixel coupling\n",
    "        'amp_crosstalk'     : True,     # Amplifier crosstalk\n",
    "        'include_refoffsets': True,     # Reference offsets\n",
    "        'include_refinst'   : True,     # Reference pixel instabilities\n",
    "        'include_colnoise'  : True,     # Transient detector column noise\n",
    "        'add_crs'           : True,     # Include cosmic ray\n",
    "        'cr_model'          : 'SUNMAX', # Cosmic ray model ('SUNMAX', 'SUNMIN', or 'FLARES')\n",
    "        'cr_scale'          : 1,        # Cosmic ray probabilities scaling\n",
    "        'apply_nonlinearity': True,     # Apply non-linearity\n",
    "        'random_nonlin'     : True,     # Add randomness to non-linearity\n",
    "        'apply_flats'       : True,     # pixel-to-pixel QE variations and field-dep illum\n",
    "    },\n",
    "}"
   ]
  },
  {
   "cell_type": "code",
   "execution_count": 33,
   "id": "1551cba9",
   "metadata": {
    "scrolled": false
   },
   "outputs": [
    {
     "data": {
      "application/vnd.jupyter.widget-view+json": {
       "model_id": "",
       "version_major": 2,
       "version_minor": 0
      },
      "text/plain": [
       "Obs Params:   0%|          | 0/92 [00:00<?, ?it/s]"
      ]
     },
     "metadata": {},
     "output_type": "display_data"
    },
    {
     "data": {
      "application/vnd.jupyter.widget-view+json": {
       "model_id": "",
       "version_major": 2,
       "version_minor": 0
      },
      "text/plain": [
       "Exposures:   0%|          | 0/12 [00:00<?, ?it/s]"
      ]
     },
     "metadata": {},
     "output_type": "display_data"
    },
    {
     "name": "stdout",
     "output_type": "stream",
     "text": [
      "NRCA2 NRCA2_FULL_MASK210R F210M HD-42525 001:001 03104 1 (-0.016, -0.040) 0.15 3470\n",
      "NRCA2 NRCA2_FULL_MASK210R F210M HD-42525 001:001 03105 1 (-0.016, -0.040) 1.22 3704\n",
      "NRCA2 NRCA2_FULL_MASK210R F210M HD-42525 001:001 03105 2 (-0.010, -0.021) 1.33 3852\n",
      "NRCA2 NRCA2_FULL_MASK210R F210M HD-42525 001:001 03105 3 (-0.040, -0.034) 1.16 4000\n",
      "NRCA2 NRCA2_FULL_MASK210R F210M HD-42525 001:001 03105 4 (-0.055, -0.051) 0.84 4148\n",
      "NRCA2 NRCA2_FULL_MASK210R F210M HD-42525 001:001 03105 5 (-0.039, -0.031) 0.51 4296\n",
      "NRCA2 NRCA2_FULL_MASK210R F210M HD-42525 001:001 03105 6 (-0.001, -0.055) 0.32 4444\n",
      "NRCA2 NRCA2_FULL_MASK210R F210M HD-42525 001:001 03105 7 (-0.007, -0.050) 0.22 4592\n",
      "NRCA2 NRCA2_FULL_MASK210R F210M HD-42525 001:001 03105 8 (-0.007, -0.037) 0.65 4740\n",
      "NRCA2 NRCA2_FULL_MASK210R F210M HD-42525 001:001 03105 9 (+0.010, -0.026) 1.29 4888\n"
     ]
    },
    {
     "data": {
      "application/vnd.jupyter.widget-view+json": {
       "model_id": "",
       "version_major": 2,
       "version_minor": 0
      },
      "text/plain": [
       "Exposures:   0%|          | 0/12 [00:00<?, ?it/s]"
      ]
     },
     "metadata": {},
     "output_type": "display_data"
    },
    {
     "name": "stdout",
     "output_type": "stream",
     "text": [
      "NRCA2 NRCA2_FULL_TAMASK210R F210M HD-42525 001:001 03102 1 (+0.003, -0.016) 0.56 3210\n"
     ]
    },
    {
     "data": {
      "application/vnd.jupyter.widget-view+json": {
       "model_id": "",
       "version_major": 2,
       "version_minor": 0
      },
      "text/plain": [
       "Exposures:   0%|          | 0/12 [00:00<?, ?it/s]"
      ]
     },
     "metadata": {},
     "output_type": "display_data"
    },
    {
     "name": "stdout",
     "output_type": "stream",
     "text": [
      "NRCA2 NRCA2_TAMASK210R F210M HD-42525 001:001 02102 1 (+0.003, -0.016) 0.54 2926\n"
     ]
    }
   ],
   "source": [
    "# Dry run\n",
    "create_level1b_FITS(sim_config, dry_run=True, save_slope=False, save_dms=False, \n",
    "                    visit_id='001:001')"
   ]
  },
  {
   "cell_type": "code",
   "execution_count": 34,
   "id": "00932dd6",
   "metadata": {},
   "outputs": [
    {
     "data": {
      "application/vnd.jupyter.widget-view+json": {
       "model_id": "",
       "version_major": 2,
       "version_minor": 0
      },
      "text/plain": [
       "Obs Params:   0%|          | 0/92 [00:00<?, ?it/s]"
      ]
     },
     "metadata": {},
     "output_type": "display_data"
    },
    {
     "data": {
      "application/vnd.jupyter.widget-view+json": {
       "model_id": "",
       "version_major": 2,
       "version_minor": 0
      },
      "text/plain": [
       "Exposures:   0%|          | 0/12 [00:00<?, ?it/s]"
      ]
     },
     "metadata": {},
     "output_type": "display_data"
    },
    {
     "data": {
      "application/vnd.jupyter.widget-view+json": {
       "model_id": "",
       "version_major": 2,
       "version_minor": 0
      },
      "text/plain": [
       "Convolution:   0%|          | 0/1 [00:00<?, ?it/s]"
      ]
     },
     "metadata": {},
     "output_type": "display_data"
    },
    {
     "data": {
      "application/vnd.jupyter.widget-view+json": {
       "model_id": "",
       "version_major": 2,
       "version_minor": 0
      },
      "text/plain": [
       "Convolution:   0%|          | 0/1 [00:00<?, ?it/s]"
      ]
     },
     "metadata": {},
     "output_type": "display_data"
    },
    {
     "name": "stdout",
     "output_type": "stream",
     "text": [
      "  Saving: /home/jarronl/data/NIRData/NRC_Sims/Sim_NRC30/slope_jw01075001001_03104_00001_nrca2_uncal.fits\n"
     ]
    },
    {
     "data": {
      "application/vnd.jupyter.widget-view+json": {
       "model_id": "",
       "version_major": 2,
       "version_minor": 0
      },
      "text/plain": [
       "Convolution:   0%|          | 0/1 [00:00<?, ?it/s]"
      ]
     },
     "metadata": {},
     "output_type": "display_data"
    },
    {
     "data": {
      "application/vnd.jupyter.widget-view+json": {
       "model_id": "",
       "version_major": 2,
       "version_minor": 0
      },
      "text/plain": [
       "Convolution:   0%|          | 0/1 [00:00<?, ?it/s]"
      ]
     },
     "metadata": {},
     "output_type": "display_data"
    },
    {
     "name": "stdout",
     "output_type": "stream",
     "text": [
      "  Saving: /home/jarronl/data/NIRData/NRC_Sims/Sim_NRC30/slope_jw01075001001_03105_00001_nrca2_uncal.fits\n"
     ]
    },
    {
     "data": {
      "application/vnd.jupyter.widget-view+json": {
       "model_id": "",
       "version_major": 2,
       "version_minor": 0
      },
      "text/plain": [
       "Convolution:   0%|          | 0/1 [00:00<?, ?it/s]"
      ]
     },
     "metadata": {},
     "output_type": "display_data"
    },
    {
     "data": {
      "application/vnd.jupyter.widget-view+json": {
       "model_id": "",
       "version_major": 2,
       "version_minor": 0
      },
      "text/plain": [
       "Convolution:   0%|          | 0/1 [00:00<?, ?it/s]"
      ]
     },
     "metadata": {},
     "output_type": "display_data"
    },
    {
     "name": "stdout",
     "output_type": "stream",
     "text": [
      "  Saving: /home/jarronl/data/NIRData/NRC_Sims/Sim_NRC30/slope_jw01075001001_03105_00002_nrca2_uncal.fits\n"
     ]
    },
    {
     "data": {
      "application/vnd.jupyter.widget-view+json": {
       "model_id": "",
       "version_major": 2,
       "version_minor": 0
      },
      "text/plain": [
       "Convolution:   0%|          | 0/1 [00:00<?, ?it/s]"
      ]
     },
     "metadata": {},
     "output_type": "display_data"
    },
    {
     "data": {
      "application/vnd.jupyter.widget-view+json": {
       "model_id": "",
       "version_major": 2,
       "version_minor": 0
      },
      "text/plain": [
       "Convolution:   0%|          | 0/1 [00:00<?, ?it/s]"
      ]
     },
     "metadata": {},
     "output_type": "display_data"
    },
    {
     "name": "stdout",
     "output_type": "stream",
     "text": [
      "  Saving: /home/jarronl/data/NIRData/NRC_Sims/Sim_NRC30/slope_jw01075001001_03105_00003_nrca2_uncal.fits\n"
     ]
    },
    {
     "data": {
      "application/vnd.jupyter.widget-view+json": {
       "model_id": "",
       "version_major": 2,
       "version_minor": 0
      },
      "text/plain": [
       "Convolution:   0%|          | 0/1 [00:00<?, ?it/s]"
      ]
     },
     "metadata": {},
     "output_type": "display_data"
    },
    {
     "data": {
      "application/vnd.jupyter.widget-view+json": {
       "model_id": "",
       "version_major": 2,
       "version_minor": 0
      },
      "text/plain": [
       "Convolution:   0%|          | 0/1 [00:00<?, ?it/s]"
      ]
     },
     "metadata": {},
     "output_type": "display_data"
    },
    {
     "name": "stdout",
     "output_type": "stream",
     "text": [
      "  Saving: /home/jarronl/data/NIRData/NRC_Sims/Sim_NRC30/slope_jw01075001001_03105_00004_nrca2_uncal.fits\n"
     ]
    },
    {
     "data": {
      "application/vnd.jupyter.widget-view+json": {
       "model_id": "",
       "version_major": 2,
       "version_minor": 0
      },
      "text/plain": [
       "Convolution:   0%|          | 0/1 [00:00<?, ?it/s]"
      ]
     },
     "metadata": {},
     "output_type": "display_data"
    },
    {
     "data": {
      "application/vnd.jupyter.widget-view+json": {
       "model_id": "",
       "version_major": 2,
       "version_minor": 0
      },
      "text/plain": [
       "Convolution:   0%|          | 0/1 [00:00<?, ?it/s]"
      ]
     },
     "metadata": {},
     "output_type": "display_data"
    },
    {
     "name": "stdout",
     "output_type": "stream",
     "text": [
      "  Saving: /home/jarronl/data/NIRData/NRC_Sims/Sim_NRC30/slope_jw01075001001_03105_00005_nrca2_uncal.fits\n"
     ]
    },
    {
     "data": {
      "application/vnd.jupyter.widget-view+json": {
       "model_id": "",
       "version_major": 2,
       "version_minor": 0
      },
      "text/plain": [
       "Convolution:   0%|          | 0/1 [00:00<?, ?it/s]"
      ]
     },
     "metadata": {},
     "output_type": "display_data"
    },
    {
     "data": {
      "application/vnd.jupyter.widget-view+json": {
       "model_id": "",
       "version_major": 2,
       "version_minor": 0
      },
      "text/plain": [
       "Convolution:   0%|          | 0/1 [00:00<?, ?it/s]"
      ]
     },
     "metadata": {},
     "output_type": "display_data"
    },
    {
     "name": "stdout",
     "output_type": "stream",
     "text": [
      "  Saving: /home/jarronl/data/NIRData/NRC_Sims/Sim_NRC30/slope_jw01075001001_03105_00006_nrca2_uncal.fits\n"
     ]
    },
    {
     "data": {
      "application/vnd.jupyter.widget-view+json": {
       "model_id": "",
       "version_major": 2,
       "version_minor": 0
      },
      "text/plain": [
       "Convolution:   0%|          | 0/1 [00:00<?, ?it/s]"
      ]
     },
     "metadata": {},
     "output_type": "display_data"
    },
    {
     "data": {
      "application/vnd.jupyter.widget-view+json": {
       "model_id": "",
       "version_major": 2,
       "version_minor": 0
      },
      "text/plain": [
       "Convolution:   0%|          | 0/1 [00:00<?, ?it/s]"
      ]
     },
     "metadata": {},
     "output_type": "display_data"
    },
    {
     "name": "stdout",
     "output_type": "stream",
     "text": [
      "  Saving: /home/jarronl/data/NIRData/NRC_Sims/Sim_NRC30/slope_jw01075001001_03105_00007_nrca2_uncal.fits\n"
     ]
    },
    {
     "data": {
      "application/vnd.jupyter.widget-view+json": {
       "model_id": "",
       "version_major": 2,
       "version_minor": 0
      },
      "text/plain": [
       "Convolution:   0%|          | 0/1 [00:00<?, ?it/s]"
      ]
     },
     "metadata": {},
     "output_type": "display_data"
    },
    {
     "data": {
      "application/vnd.jupyter.widget-view+json": {
       "model_id": "",
       "version_major": 2,
       "version_minor": 0
      },
      "text/plain": [
       "Convolution:   0%|          | 0/1 [00:00<?, ?it/s]"
      ]
     },
     "metadata": {},
     "output_type": "display_data"
    },
    {
     "name": "stdout",
     "output_type": "stream",
     "text": [
      "  Saving: /home/jarronl/data/NIRData/NRC_Sims/Sim_NRC30/slope_jw01075001001_03105_00008_nrca2_uncal.fits\n"
     ]
    },
    {
     "data": {
      "application/vnd.jupyter.widget-view+json": {
       "model_id": "",
       "version_major": 2,
       "version_minor": 0
      },
      "text/plain": [
       "Convolution:   0%|          | 0/1 [00:00<?, ?it/s]"
      ]
     },
     "metadata": {},
     "output_type": "display_data"
    },
    {
     "data": {
      "application/vnd.jupyter.widget-view+json": {
       "model_id": "",
       "version_major": 2,
       "version_minor": 0
      },
      "text/plain": [
       "Convolution:   0%|          | 0/1 [00:00<?, ?it/s]"
      ]
     },
     "metadata": {},
     "output_type": "display_data"
    },
    {
     "name": "stdout",
     "output_type": "stream",
     "text": [
      "  Saving: /home/jarronl/data/NIRData/NRC_Sims/Sim_NRC30/slope_jw01075001001_03105_00009_nrca2_uncal.fits\n"
     ]
    },
    {
     "data": {
      "application/vnd.jupyter.widget-view+json": {
       "model_id": "",
       "version_major": 2,
       "version_minor": 0
      },
      "text/plain": [
       "Exposures:   0%|          | 0/12 [00:00<?, ?it/s]"
      ]
     },
     "metadata": {},
     "output_type": "display_data"
    },
    {
     "data": {
      "application/vnd.jupyter.widget-view+json": {
       "model_id": "",
       "version_major": 2,
       "version_minor": 0
      },
      "text/plain": [
       "Convolution:   0%|          | 0/1 [00:00<?, ?it/s]"
      ]
     },
     "metadata": {},
     "output_type": "display_data"
    },
    {
     "data": {
      "application/vnd.jupyter.widget-view+json": {
       "model_id": "",
       "version_major": 2,
       "version_minor": 0
      },
      "text/plain": [
       "Convolution:   0%|          | 0/1 [00:00<?, ?it/s]"
      ]
     },
     "metadata": {},
     "output_type": "display_data"
    },
    {
     "name": "stdout",
     "output_type": "stream",
     "text": [
      "  Saving: /home/jarronl/data/NIRData/NRC_Sims/Sim_NRC30/slope_jw01075001001_03102_00001_nrca2_uncal.fits\n"
     ]
    },
    {
     "data": {
      "application/vnd.jupyter.widget-view+json": {
       "model_id": "",
       "version_major": 2,
       "version_minor": 0
      },
      "text/plain": [
       "Exposures:   0%|          | 0/12 [00:00<?, ?it/s]"
      ]
     },
     "metadata": {},
     "output_type": "display_data"
    },
    {
     "data": {
      "application/vnd.jupyter.widget-view+json": {
       "model_id": "",
       "version_major": 2,
       "version_minor": 0
      },
      "text/plain": [
       "Convolution:   0%|          | 0/1 [00:00<?, ?it/s]"
      ]
     },
     "metadata": {},
     "output_type": "display_data"
    },
    {
     "name": "stdout",
     "output_type": "stream",
     "text": [
      "  Saving: /home/jarronl/data/NIRData/NRC_Sims/Sim_NRC30/slope_jw01075001001_02102_00001_nrca2_uncal.fits\n"
     ]
    }
   ],
   "source": [
    "# Slopes only\n",
    "create_level1b_FITS(sim_config, dry_run=False, save_slope=True, save_dms=False, \n",
    "                    visit_id='001:001')"
   ]
  },
  {
   "cell_type": "code",
   "execution_count": null,
   "id": "5803ec67",
   "metadata": {},
   "outputs": [
    {
     "data": {
      "application/vnd.jupyter.widget-view+json": {
       "model_id": "",
       "version_major": 2,
       "version_minor": 0
      },
      "text/plain": [
       "Obs Params:   0%|          | 0/92 [00:00<?, ?it/s]"
      ]
     },
     "metadata": {},
     "output_type": "display_data"
    },
    {
     "data": {
      "application/vnd.jupyter.widget-view+json": {
       "model_id": "",
       "version_major": 2,
       "version_minor": 0
      },
      "text/plain": [
       "PPC Amps:   0%|          | 0/4 [00:00<?, ?it/s]"
      ]
     },
     "metadata": {},
     "output_type": "display_data"
    },
    {
     "data": {
      "application/vnd.jupyter.widget-view+json": {
       "model_id": "",
       "version_major": 2,
       "version_minor": 0
      },
      "text/plain": [
       "Frames:   0%|          | 0/1 [00:00<?, ?it/s]"
      ]
     },
     "metadata": {},
     "output_type": "display_data"
    },
    {
     "data": {
      "application/vnd.jupyter.widget-view+json": {
       "model_id": "",
       "version_major": 2,
       "version_minor": 0
      },
      "text/plain": [
       "Frames:   0%|          | 0/1 [00:00<?, ?it/s]"
      ]
     },
     "metadata": {},
     "output_type": "display_data"
    },
    {
     "data": {
      "application/vnd.jupyter.widget-view+json": {
       "model_id": "",
       "version_major": 2,
       "version_minor": 0
      },
      "text/plain": [
       "Frames:   0%|          | 0/1 [00:00<?, ?it/s]"
      ]
     },
     "metadata": {},
     "output_type": "display_data"
    },
    {
     "data": {
      "application/vnd.jupyter.widget-view+json": {
       "model_id": "",
       "version_major": 2,
       "version_minor": 0
      },
      "text/plain": [
       "Frames:   0%|          | 0/1 [00:00<?, ?it/s]"
      ]
     },
     "metadata": {},
     "output_type": "display_data"
    },
    {
     "data": {
      "application/vnd.jupyter.widget-view+json": {
       "model_id": "",
       "version_major": 2,
       "version_minor": 0
      },
      "text/plain": [
       "PPC Amps:   0%|          | 0/4 [00:00<?, ?it/s]"
      ]
     },
     "metadata": {},
     "output_type": "display_data"
    },
    {
     "data": {
      "application/vnd.jupyter.widget-view+json": {
       "model_id": "",
       "version_major": 2,
       "version_minor": 0
      },
      "text/plain": [
       "Frames:   0%|          | 0/1 [00:00<?, ?it/s]"
      ]
     },
     "metadata": {},
     "output_type": "display_data"
    },
    {
     "data": {
      "application/vnd.jupyter.widget-view+json": {
       "model_id": "",
       "version_major": 2,
       "version_minor": 0
      },
      "text/plain": [
       "Frames:   0%|          | 0/1 [00:00<?, ?it/s]"
      ]
     },
     "metadata": {},
     "output_type": "display_data"
    },
    {
     "data": {
      "application/vnd.jupyter.widget-view+json": {
       "model_id": "",
       "version_major": 2,
       "version_minor": 0
      },
      "text/plain": [
       "Frames:   0%|          | 0/1 [00:00<?, ?it/s]"
      ]
     },
     "metadata": {},
     "output_type": "display_data"
    },
    {
     "data": {
      "application/vnd.jupyter.widget-view+json": {
       "model_id": "",
       "version_major": 2,
       "version_minor": 0
      },
      "text/plain": [
       "Frames:   0%|          | 0/1 [00:00<?, ?it/s]"
      ]
     },
     "metadata": {},
     "output_type": "display_data"
    },
    {
     "data": {
      "application/vnd.jupyter.widget-view+json": {
       "model_id": "",
       "version_major": 2,
       "version_minor": 0
      },
      "text/plain": [
       "Frames:   0%|          | 0/1 [00:00<?, ?it/s]"
      ]
     },
     "metadata": {},
     "output_type": "display_data"
    },
    {
     "data": {
      "application/vnd.jupyter.widget-view+json": {
       "model_id": "",
       "version_major": 2,
       "version_minor": 0
      },
      "text/plain": [
       "Frames:   0%|          | 0/1 [00:00<?, ?it/s]"
      ]
     },
     "metadata": {},
     "output_type": "display_data"
    },
    {
     "data": {
      "application/vnd.jupyter.widget-view+json": {
       "model_id": "",
       "version_major": 2,
       "version_minor": 0
      },
      "text/plain": [
       "Exposures:   0%|          | 0/4 [00:00<?, ?it/s]"
      ]
     },
     "metadata": {},
     "output_type": "display_data"
    },
    {
     "data": {
      "application/vnd.jupyter.widget-view+json": {
       "model_id": "",
       "version_major": 2,
       "version_minor": 0
      },
      "text/plain": [
       "Convolution:   0%|          | 0/1 [00:00<?, ?it/s]"
      ]
     },
     "metadata": {},
     "output_type": "display_data"
    },
    {
     "name": "stdout",
     "output_type": "stream",
     "text": [
      "  Saving: /home/jarronl/data/NIRData/NRC_Sims/Sim_NRC30/slope_jw01075008001_02102_00001_nrca2_uncal.fits\n"
     ]
    },
    {
     "data": {
      "application/vnd.jupyter.widget-view+json": {
       "model_id": "",
       "version_major": 2,
       "version_minor": 0
      },
      "text/plain": [
       "Ramps:   0%|          | 0/1 [00:00<?, ?it/s]"
      ]
     },
     "metadata": {},
     "output_type": "display_data"
    },
    {
     "data": {
      "application/vnd.jupyter.widget-view+json": {
       "model_id": "",
       "version_major": 2,
       "version_minor": 0
      },
      "text/plain": [
       "  0%|          | 0/14 [00:00<?, ?it/s]"
      ]
     },
     "metadata": {},
     "output_type": "display_data"
    },
    {
     "data": {
      "application/vnd.jupyter.widget-view+json": {
       "model_id": "",
       "version_major": 2,
       "version_minor": 0
      },
      "text/plain": [
       "Non-Linearity:   0%|          | 0/12 [00:00<?, ?it/s]"
      ]
     },
     "metadata": {},
     "output_type": "display_data"
    },
    {
     "data": {
      "application/vnd.jupyter.widget-view+json": {
       "model_id": "",
       "version_major": 2,
       "version_minor": 0
      },
      "text/plain": [
       "Uncorr 1/f:   0%|          | 0/1 [00:00<?, ?it/s]"
      ]
     },
     "metadata": {},
     "output_type": "display_data"
    },
    {
     "data": {
      "application/vnd.jupyter.widget-view+json": {
       "model_id": "",
       "version_major": 2,
       "version_minor": 0
      },
      "text/plain": [
       "ACN:   0%|          | 0/1 [00:00<?, ?it/s]"
      ]
     },
     "metadata": {},
     "output_type": "display_data"
    },
    {
     "name": "stdout",
     "output_type": "stream",
     "text": [
      "  Saving: /home/jarronl/data/NIRData/NRC_Sims/Sim_NRC30/pynrc_jw01075008001_02102_00001_nrca2_uncal.fits\n"
     ]
    },
    {
     "data": {
      "application/vnd.jupyter.widget-view+json": {
       "model_id": "",
       "version_major": 2,
       "version_minor": 0
      },
      "text/plain": [
       "Exposures:   0%|          | 0/4 [00:00<?, ?it/s]"
      ]
     },
     "metadata": {},
     "output_type": "display_data"
    },
    {
     "data": {
      "application/vnd.jupyter.widget-view+json": {
       "model_id": "",
       "version_major": 2,
       "version_minor": 0
      },
      "text/plain": [
       "Convolution:   0%|          | 0/1 [00:00<?, ?it/s]"
      ]
     },
     "metadata": {},
     "output_type": "display_data"
    },
    {
     "data": {
      "application/vnd.jupyter.widget-view+json": {
       "model_id": "",
       "version_major": 2,
       "version_minor": 0
      },
      "text/plain": [
       "Convolution:   0%|          | 0/1 [00:00<?, ?it/s]"
      ]
     },
     "metadata": {},
     "output_type": "display_data"
    },
    {
     "name": "stdout",
     "output_type": "stream",
     "text": [
      "  Saving: /home/jarronl/data/NIRData/NRC_Sims/Sim_NRC30/slope_jw01075008001_03102_00001_nrca2_uncal.fits\n"
     ]
    },
    {
     "data": {
      "application/vnd.jupyter.widget-view+json": {
       "model_id": "",
       "version_major": 2,
       "version_minor": 0
      },
      "text/plain": [
       "Ramps:   0%|          | 0/1 [00:00<?, ?it/s]"
      ]
     },
     "metadata": {},
     "output_type": "display_data"
    },
    {
     "data": {
      "application/vnd.jupyter.widget-view+json": {
       "model_id": "",
       "version_major": 2,
       "version_minor": 0
      },
      "text/plain": [
       "  0%|          | 0/14 [00:00<?, ?it/s]"
      ]
     },
     "metadata": {},
     "output_type": "display_data"
    },
    {
     "data": {
      "application/vnd.jupyter.widget-view+json": {
       "model_id": "",
       "version_major": 2,
       "version_minor": 0
      },
      "text/plain": [
       "Non-Linearity:   0%|          | 0/10 [00:00<?, ?it/s]"
      ]
     },
     "metadata": {},
     "output_type": "display_data"
    },
    {
     "data": {
      "application/vnd.jupyter.widget-view+json": {
       "model_id": "",
       "version_major": 2,
       "version_minor": 0
      },
      "text/plain": [
       "Uncorr 1/f:   0%|          | 0/4 [00:00<?, ?it/s]"
      ]
     },
     "metadata": {},
     "output_type": "display_data"
    },
    {
     "data": {
      "application/vnd.jupyter.widget-view+json": {
       "model_id": "",
       "version_major": 2,
       "version_minor": 0
      },
      "text/plain": [
       "ACN:   0%|          | 0/4 [00:00<?, ?it/s]"
      ]
     },
     "metadata": {},
     "output_type": "display_data"
    },
    {
     "name": "stdout",
     "output_type": "stream",
     "text": [
      "  Saving: /home/jarronl/data/NIRData/NRC_Sims/Sim_NRC30/pynrc_jw01075008001_03102_00001_nrca2_uncal.fits\n"
     ]
    },
    {
     "data": {
      "application/vnd.jupyter.widget-view+json": {
       "model_id": "",
       "version_major": 2,
       "version_minor": 0
      },
      "text/plain": [
       "Exposures:   0%|          | 0/4 [00:00<?, ?it/s]"
      ]
     },
     "metadata": {},
     "output_type": "display_data"
    },
    {
     "data": {
      "application/vnd.jupyter.widget-view+json": {
       "model_id": "",
       "version_major": 2,
       "version_minor": 0
      },
      "text/plain": [
       "Convolution:   0%|          | 0/1 [00:00<?, ?it/s]"
      ]
     },
     "metadata": {},
     "output_type": "display_data"
    },
    {
     "data": {
      "application/vnd.jupyter.widget-view+json": {
       "model_id": "",
       "version_major": 2,
       "version_minor": 0
      },
      "text/plain": [
       "Convolution:   0%|          | 0/1 [00:00<?, ?it/s]"
      ]
     },
     "metadata": {},
     "output_type": "display_data"
    },
    {
     "name": "stdout",
     "output_type": "stream",
     "text": [
      "  Saving: /home/jarronl/data/NIRData/NRC_Sims/Sim_NRC30/slope_jw01075008001_03104_00001_nrca2_uncal.fits\n"
     ]
    },
    {
     "data": {
      "application/vnd.jupyter.widget-view+json": {
       "model_id": "",
       "version_major": 2,
       "version_minor": 0
      },
      "text/plain": [
       "Ramps:   0%|          | 0/1 [00:00<?, ?it/s]"
      ]
     },
     "metadata": {},
     "output_type": "display_data"
    },
    {
     "data": {
      "application/vnd.jupyter.widget-view+json": {
       "model_id": "",
       "version_major": 2,
       "version_minor": 0
      },
      "text/plain": [
       "  0%|          | 0/14 [00:00<?, ?it/s]"
      ]
     },
     "metadata": {},
     "output_type": "display_data"
    },
    {
     "data": {
      "application/vnd.jupyter.widget-view+json": {
       "model_id": "",
       "version_major": 2,
       "version_minor": 0
      },
      "text/plain": [
       "Non-Linearity:   0%|          | 0/10 [00:00<?, ?it/s]"
      ]
     },
     "metadata": {},
     "output_type": "display_data"
    },
    {
     "data": {
      "application/vnd.jupyter.widget-view+json": {
       "model_id": "",
       "version_major": 2,
       "version_minor": 0
      },
      "text/plain": [
       "Uncorr 1/f:   0%|          | 0/4 [00:00<?, ?it/s]"
      ]
     },
     "metadata": {},
     "output_type": "display_data"
    },
    {
     "data": {
      "application/vnd.jupyter.widget-view+json": {
       "model_id": "",
       "version_major": 2,
       "version_minor": 0
      },
      "text/plain": [
       "ACN:   0%|          | 0/4 [00:00<?, ?it/s]"
      ]
     },
     "metadata": {},
     "output_type": "display_data"
    },
    {
     "name": "stdout",
     "output_type": "stream",
     "text": [
      "  Saving: /home/jarronl/data/NIRData/NRC_Sims/Sim_NRC30/pynrc_jw01075008001_03104_00001_nrca2_uncal.fits\n"
     ]
    },
    {
     "data": {
      "application/vnd.jupyter.widget-view+json": {
       "model_id": "",
       "version_major": 2,
       "version_minor": 0
      },
      "text/plain": [
       "Convolution:   0%|          | 0/1 [00:00<?, ?it/s]"
      ]
     },
     "metadata": {},
     "output_type": "display_data"
    },
    {
     "data": {
      "application/vnd.jupyter.widget-view+json": {
       "model_id": "",
       "version_major": 2,
       "version_minor": 0
      },
      "text/plain": [
       "Convolution:   0%|          | 0/1 [00:00<?, ?it/s]"
      ]
     },
     "metadata": {},
     "output_type": "display_data"
    },
    {
     "name": "stdout",
     "output_type": "stream",
     "text": [
      "  Saving: /home/jarronl/data/NIRData/NRC_Sims/Sim_NRC30/slope_jw01075008001_03105_00001_nrca2_uncal.fits\n"
     ]
    },
    {
     "data": {
      "application/vnd.jupyter.widget-view+json": {
       "model_id": "",
       "version_major": 2,
       "version_minor": 0
      },
      "text/plain": [
       "Ramps:   0%|          | 0/2 [00:00<?, ?it/s]"
      ]
     },
     "metadata": {},
     "output_type": "display_data"
    },
    {
     "data": {
      "application/vnd.jupyter.widget-view+json": {
       "model_id": "",
       "version_major": 2,
       "version_minor": 0
      },
      "text/plain": [
       "  0%|          | 0/14 [00:00<?, ?it/s]"
      ]
     },
     "metadata": {},
     "output_type": "display_data"
    },
    {
     "data": {
      "application/vnd.jupyter.widget-view+json": {
       "model_id": "",
       "version_major": 2,
       "version_minor": 0
      },
      "text/plain": [
       "Non-Linearity:   0%|          | 0/10 [00:00<?, ?it/s]"
      ]
     },
     "metadata": {},
     "output_type": "display_data"
    },
    {
     "data": {
      "application/vnd.jupyter.widget-view+json": {
       "model_id": "",
       "version_major": 2,
       "version_minor": 0
      },
      "text/plain": [
       "Uncorr 1/f:   0%|          | 0/4 [00:00<?, ?it/s]"
      ]
     },
     "metadata": {},
     "output_type": "display_data"
    },
    {
     "data": {
      "application/vnd.jupyter.widget-view+json": {
       "model_id": "",
       "version_major": 2,
       "version_minor": 0
      },
      "text/plain": [
       "ACN:   0%|          | 0/4 [00:00<?, ?it/s]"
      ]
     },
     "metadata": {},
     "output_type": "display_data"
    },
    {
     "data": {
      "application/vnd.jupyter.widget-view+json": {
       "model_id": "",
       "version_major": 2,
       "version_minor": 0
      },
      "text/plain": [
       "  0%|          | 0/14 [00:00<?, ?it/s]"
      ]
     },
     "metadata": {},
     "output_type": "display_data"
    },
    {
     "data": {
      "application/vnd.jupyter.widget-view+json": {
       "model_id": "",
       "version_major": 2,
       "version_minor": 0
      },
      "text/plain": [
       "Non-Linearity:   0%|          | 0/10 [00:00<?, ?it/s]"
      ]
     },
     "metadata": {},
     "output_type": "display_data"
    },
    {
     "data": {
      "application/vnd.jupyter.widget-view+json": {
       "model_id": "",
       "version_major": 2,
       "version_minor": 0
      },
      "text/plain": [
       "Uncorr 1/f:   0%|          | 0/4 [00:00<?, ?it/s]"
      ]
     },
     "metadata": {},
     "output_type": "display_data"
    },
    {
     "data": {
      "application/vnd.jupyter.widget-view+json": {
       "model_id": "",
       "version_major": 2,
       "version_minor": 0
      },
      "text/plain": [
       "ACN:   0%|          | 0/4 [00:00<?, ?it/s]"
      ]
     },
     "metadata": {},
     "output_type": "display_data"
    },
    {
     "name": "stdout",
     "output_type": "stream",
     "text": [
      "  Saving: /home/jarronl/data/NIRData/NRC_Sims/Sim_NRC30/pynrc_jw01075008001_03105_00001_nrca2_uncal.fits\n"
     ]
    },
    {
     "data": {
      "application/vnd.jupyter.widget-view+json": {
       "model_id": "",
       "version_major": 2,
       "version_minor": 0
      },
      "text/plain": [
       "Exposures:   0%|          | 0/12 [00:00<?, ?it/s]"
      ]
     },
     "metadata": {},
     "output_type": "display_data"
    },
    {
     "data": {
      "application/vnd.jupyter.widget-view+json": {
       "model_id": "",
       "version_major": 2,
       "version_minor": 0
      },
      "text/plain": [
       "Convolution:   0%|          | 0/1 [00:00<?, ?it/s]"
      ]
     },
     "metadata": {},
     "output_type": "display_data"
    },
    {
     "data": {
      "application/vnd.jupyter.widget-view+json": {
       "model_id": "",
       "version_major": 2,
       "version_minor": 0
      },
      "text/plain": [
       "Convolution:   0%|          | 0/1 [00:00<?, ?it/s]"
      ]
     },
     "metadata": {},
     "output_type": "display_data"
    },
    {
     "name": "stdout",
     "output_type": "stream",
     "text": [
      "  Saving: /home/jarronl/data/NIRData/NRC_Sims/Sim_NRC30/slope_jw01075001001_03104_00001_nrca2_uncal.fits\n"
     ]
    },
    {
     "data": {
      "application/vnd.jupyter.widget-view+json": {
       "model_id": "",
       "version_major": 2,
       "version_minor": 0
      },
      "text/plain": [
       "Ramps:   0%|          | 0/1 [00:00<?, ?it/s]"
      ]
     },
     "metadata": {},
     "output_type": "display_data"
    },
    {
     "data": {
      "application/vnd.jupyter.widget-view+json": {
       "model_id": "",
       "version_major": 2,
       "version_minor": 0
      },
      "text/plain": [
       "  0%|          | 0/14 [00:00<?, ?it/s]"
      ]
     },
     "metadata": {},
     "output_type": "display_data"
    },
    {
     "data": {
      "application/vnd.jupyter.widget-view+json": {
       "model_id": "",
       "version_major": 2,
       "version_minor": 0
      },
      "text/plain": [
       "Non-Linearity:   0%|          | 0/10 [00:00<?, ?it/s]"
      ]
     },
     "metadata": {},
     "output_type": "display_data"
    },
    {
     "data": {
      "application/vnd.jupyter.widget-view+json": {
       "model_id": "",
       "version_major": 2,
       "version_minor": 0
      },
      "text/plain": [
       "Uncorr 1/f:   0%|          | 0/4 [00:00<?, ?it/s]"
      ]
     },
     "metadata": {},
     "output_type": "display_data"
    },
    {
     "data": {
      "application/vnd.jupyter.widget-view+json": {
       "model_id": "",
       "version_major": 2,
       "version_minor": 0
      },
      "text/plain": [
       "ACN:   0%|          | 0/4 [00:00<?, ?it/s]"
      ]
     },
     "metadata": {},
     "output_type": "display_data"
    },
    {
     "name": "stdout",
     "output_type": "stream",
     "text": [
      "  Saving: /home/jarronl/data/NIRData/NRC_Sims/Sim_NRC30/pynrc_jw01075001001_03104_00001_nrca2_uncal.fits\n"
     ]
    },
    {
     "data": {
      "application/vnd.jupyter.widget-view+json": {
       "model_id": "",
       "version_major": 2,
       "version_minor": 0
      },
      "text/plain": [
       "Convolution:   0%|          | 0/1 [00:00<?, ?it/s]"
      ]
     },
     "metadata": {},
     "output_type": "display_data"
    },
    {
     "data": {
      "application/vnd.jupyter.widget-view+json": {
       "model_id": "",
       "version_major": 2,
       "version_minor": 0
      },
      "text/plain": [
       "Convolution:   0%|          | 0/1 [00:00<?, ?it/s]"
      ]
     },
     "metadata": {},
     "output_type": "display_data"
    },
    {
     "name": "stdout",
     "output_type": "stream",
     "text": [
      "  Saving: /home/jarronl/data/NIRData/NRC_Sims/Sim_NRC30/slope_jw01075001001_03105_00001_nrca2_uncal.fits\n"
     ]
    },
    {
     "data": {
      "application/vnd.jupyter.widget-view+json": {
       "model_id": "",
       "version_major": 2,
       "version_minor": 0
      },
      "text/plain": [
       "Ramps:   0%|          | 0/1 [00:00<?, ?it/s]"
      ]
     },
     "metadata": {},
     "output_type": "display_data"
    },
    {
     "data": {
      "application/vnd.jupyter.widget-view+json": {
       "model_id": "",
       "version_major": 2,
       "version_minor": 0
      },
      "text/plain": [
       "  0%|          | 0/14 [00:00<?, ?it/s]"
      ]
     },
     "metadata": {},
     "output_type": "display_data"
    },
    {
     "data": {
      "application/vnd.jupyter.widget-view+json": {
       "model_id": "",
       "version_major": 2,
       "version_minor": 0
      },
      "text/plain": [
       "Non-Linearity:   0%|          | 0/10 [00:00<?, ?it/s]"
      ]
     },
     "metadata": {},
     "output_type": "display_data"
    },
    {
     "data": {
      "application/vnd.jupyter.widget-view+json": {
       "model_id": "",
       "version_major": 2,
       "version_minor": 0
      },
      "text/plain": [
       "Uncorr 1/f:   0%|          | 0/4 [00:00<?, ?it/s]"
      ]
     },
     "metadata": {},
     "output_type": "display_data"
    },
    {
     "data": {
      "application/vnd.jupyter.widget-view+json": {
       "model_id": "",
       "version_major": 2,
       "version_minor": 0
      },
      "text/plain": [
       "ACN:   0%|          | 0/4 [00:00<?, ?it/s]"
      ]
     },
     "metadata": {},
     "output_type": "display_data"
    },
    {
     "name": "stdout",
     "output_type": "stream",
     "text": [
      "  Saving: /home/jarronl/data/NIRData/NRC_Sims/Sim_NRC30/pynrc_jw01075001001_03105_00001_nrca2_uncal.fits\n"
     ]
    },
    {
     "data": {
      "application/vnd.jupyter.widget-view+json": {
       "model_id": "",
       "version_major": 2,
       "version_minor": 0
      },
      "text/plain": [
       "Convolution:   0%|          | 0/1 [00:00<?, ?it/s]"
      ]
     },
     "metadata": {},
     "output_type": "display_data"
    },
    {
     "data": {
      "application/vnd.jupyter.widget-view+json": {
       "model_id": "",
       "version_major": 2,
       "version_minor": 0
      },
      "text/plain": [
       "Convolution:   0%|          | 0/1 [00:00<?, ?it/s]"
      ]
     },
     "metadata": {},
     "output_type": "display_data"
    },
    {
     "name": "stdout",
     "output_type": "stream",
     "text": [
      "  Saving: /home/jarronl/data/NIRData/NRC_Sims/Sim_NRC30/slope_jw01075001001_03105_00002_nrca2_uncal.fits\n"
     ]
    },
    {
     "data": {
      "application/vnd.jupyter.widget-view+json": {
       "model_id": "",
       "version_major": 2,
       "version_minor": 0
      },
      "text/plain": [
       "Ramps:   0%|          | 0/1 [00:00<?, ?it/s]"
      ]
     },
     "metadata": {},
     "output_type": "display_data"
    },
    {
     "data": {
      "application/vnd.jupyter.widget-view+json": {
       "model_id": "",
       "version_major": 2,
       "version_minor": 0
      },
      "text/plain": [
       "  0%|          | 0/14 [00:00<?, ?it/s]"
      ]
     },
     "metadata": {},
     "output_type": "display_data"
    },
    {
     "data": {
      "application/vnd.jupyter.widget-view+json": {
       "model_id": "",
       "version_major": 2,
       "version_minor": 0
      },
      "text/plain": [
       "Non-Linearity:   0%|          | 0/10 [00:00<?, ?it/s]"
      ]
     },
     "metadata": {},
     "output_type": "display_data"
    },
    {
     "data": {
      "application/vnd.jupyter.widget-view+json": {
       "model_id": "",
       "version_major": 2,
       "version_minor": 0
      },
      "text/plain": [
       "Uncorr 1/f:   0%|          | 0/4 [00:00<?, ?it/s]"
      ]
     },
     "metadata": {},
     "output_type": "display_data"
    },
    {
     "data": {
      "application/vnd.jupyter.widget-view+json": {
       "model_id": "",
       "version_major": 2,
       "version_minor": 0
      },
      "text/plain": [
       "ACN:   0%|          | 0/4 [00:00<?, ?it/s]"
      ]
     },
     "metadata": {},
     "output_type": "display_data"
    },
    {
     "name": "stdout",
     "output_type": "stream",
     "text": [
      "  Saving: /home/jarronl/data/NIRData/NRC_Sims/Sim_NRC30/pynrc_jw01075001001_03105_00002_nrca2_uncal.fits\n"
     ]
    },
    {
     "data": {
      "application/vnd.jupyter.widget-view+json": {
       "model_id": "",
       "version_major": 2,
       "version_minor": 0
      },
      "text/plain": [
       "Convolution:   0%|          | 0/1 [00:00<?, ?it/s]"
      ]
     },
     "metadata": {},
     "output_type": "display_data"
    },
    {
     "data": {
      "application/vnd.jupyter.widget-view+json": {
       "model_id": "",
       "version_major": 2,
       "version_minor": 0
      },
      "text/plain": [
       "Convolution:   0%|          | 0/1 [00:00<?, ?it/s]"
      ]
     },
     "metadata": {},
     "output_type": "display_data"
    },
    {
     "name": "stdout",
     "output_type": "stream",
     "text": [
      "  Saving: /home/jarronl/data/NIRData/NRC_Sims/Sim_NRC30/slope_jw01075001001_03105_00003_nrca2_uncal.fits\n"
     ]
    },
    {
     "data": {
      "application/vnd.jupyter.widget-view+json": {
       "model_id": "",
       "version_major": 2,
       "version_minor": 0
      },
      "text/plain": [
       "Ramps:   0%|          | 0/1 [00:00<?, ?it/s]"
      ]
     },
     "metadata": {},
     "output_type": "display_data"
    },
    {
     "data": {
      "application/vnd.jupyter.widget-view+json": {
       "model_id": "",
       "version_major": 2,
       "version_minor": 0
      },
      "text/plain": [
       "  0%|          | 0/14 [00:00<?, ?it/s]"
      ]
     },
     "metadata": {},
     "output_type": "display_data"
    },
    {
     "data": {
      "application/vnd.jupyter.widget-view+json": {
       "model_id": "",
       "version_major": 2,
       "version_minor": 0
      },
      "text/plain": [
       "Non-Linearity:   0%|          | 0/10 [00:00<?, ?it/s]"
      ]
     },
     "metadata": {},
     "output_type": "display_data"
    },
    {
     "data": {
      "application/vnd.jupyter.widget-view+json": {
       "model_id": "",
       "version_major": 2,
       "version_minor": 0
      },
      "text/plain": [
       "Uncorr 1/f:   0%|          | 0/4 [00:00<?, ?it/s]"
      ]
     },
     "metadata": {},
     "output_type": "display_data"
    },
    {
     "data": {
      "application/vnd.jupyter.widget-view+json": {
       "model_id": "",
       "version_major": 2,
       "version_minor": 0
      },
      "text/plain": [
       "ACN:   0%|          | 0/4 [00:00<?, ?it/s]"
      ]
     },
     "metadata": {},
     "output_type": "display_data"
    },
    {
     "name": "stdout",
     "output_type": "stream",
     "text": [
      "  Saving: /home/jarronl/data/NIRData/NRC_Sims/Sim_NRC30/pynrc_jw01075001001_03105_00003_nrca2_uncal.fits\n"
     ]
    },
    {
     "data": {
      "application/vnd.jupyter.widget-view+json": {
       "model_id": "",
       "version_major": 2,
       "version_minor": 0
      },
      "text/plain": [
       "Convolution:   0%|          | 0/1 [00:00<?, ?it/s]"
      ]
     },
     "metadata": {},
     "output_type": "display_data"
    },
    {
     "data": {
      "application/vnd.jupyter.widget-view+json": {
       "model_id": "",
       "version_major": 2,
       "version_minor": 0
      },
      "text/plain": [
       "Convolution:   0%|          | 0/1 [00:00<?, ?it/s]"
      ]
     },
     "metadata": {},
     "output_type": "display_data"
    },
    {
     "name": "stdout",
     "output_type": "stream",
     "text": [
      "  Saving: /home/jarronl/data/NIRData/NRC_Sims/Sim_NRC30/slope_jw01075001001_03105_00004_nrca2_uncal.fits\n"
     ]
    },
    {
     "data": {
      "application/vnd.jupyter.widget-view+json": {
       "model_id": "",
       "version_major": 2,
       "version_minor": 0
      },
      "text/plain": [
       "Ramps:   0%|          | 0/1 [00:00<?, ?it/s]"
      ]
     },
     "metadata": {},
     "output_type": "display_data"
    },
    {
     "data": {
      "application/vnd.jupyter.widget-view+json": {
       "model_id": "",
       "version_major": 2,
       "version_minor": 0
      },
      "text/plain": [
       "  0%|          | 0/14 [00:00<?, ?it/s]"
      ]
     },
     "metadata": {},
     "output_type": "display_data"
    },
    {
     "data": {
      "application/vnd.jupyter.widget-view+json": {
       "model_id": "",
       "version_major": 2,
       "version_minor": 0
      },
      "text/plain": [
       "Non-Linearity:   0%|          | 0/10 [00:00<?, ?it/s]"
      ]
     },
     "metadata": {},
     "output_type": "display_data"
    },
    {
     "data": {
      "application/vnd.jupyter.widget-view+json": {
       "model_id": "",
       "version_major": 2,
       "version_minor": 0
      },
      "text/plain": [
       "Uncorr 1/f:   0%|          | 0/4 [00:00<?, ?it/s]"
      ]
     },
     "metadata": {},
     "output_type": "display_data"
    },
    {
     "data": {
      "application/vnd.jupyter.widget-view+json": {
       "model_id": "",
       "version_major": 2,
       "version_minor": 0
      },
      "text/plain": [
       "ACN:   0%|          | 0/4 [00:00<?, ?it/s]"
      ]
     },
     "metadata": {},
     "output_type": "display_data"
    },
    {
     "name": "stdout",
     "output_type": "stream",
     "text": [
      "  Saving: /home/jarronl/data/NIRData/NRC_Sims/Sim_NRC30/pynrc_jw01075001001_03105_00004_nrca2_uncal.fits\n"
     ]
    },
    {
     "data": {
      "application/vnd.jupyter.widget-view+json": {
       "model_id": "",
       "version_major": 2,
       "version_minor": 0
      },
      "text/plain": [
       "Convolution:   0%|          | 0/1 [00:00<?, ?it/s]"
      ]
     },
     "metadata": {},
     "output_type": "display_data"
    },
    {
     "data": {
      "application/vnd.jupyter.widget-view+json": {
       "model_id": "",
       "version_major": 2,
       "version_minor": 0
      },
      "text/plain": [
       "Convolution:   0%|          | 0/1 [00:00<?, ?it/s]"
      ]
     },
     "metadata": {},
     "output_type": "display_data"
    },
    {
     "name": "stdout",
     "output_type": "stream",
     "text": [
      "  Saving: /home/jarronl/data/NIRData/NRC_Sims/Sim_NRC30/slope_jw01075001001_03105_00005_nrca2_uncal.fits\n"
     ]
    },
    {
     "data": {
      "application/vnd.jupyter.widget-view+json": {
       "model_id": "",
       "version_major": 2,
       "version_minor": 0
      },
      "text/plain": [
       "Ramps:   0%|          | 0/1 [00:00<?, ?it/s]"
      ]
     },
     "metadata": {},
     "output_type": "display_data"
    },
    {
     "data": {
      "application/vnd.jupyter.widget-view+json": {
       "model_id": "",
       "version_major": 2,
       "version_minor": 0
      },
      "text/plain": [
       "  0%|          | 0/14 [00:00<?, ?it/s]"
      ]
     },
     "metadata": {},
     "output_type": "display_data"
    },
    {
     "data": {
      "application/vnd.jupyter.widget-view+json": {
       "model_id": "",
       "version_major": 2,
       "version_minor": 0
      },
      "text/plain": [
       "Non-Linearity:   0%|          | 0/10 [00:00<?, ?it/s]"
      ]
     },
     "metadata": {},
     "output_type": "display_data"
    },
    {
     "data": {
      "application/vnd.jupyter.widget-view+json": {
       "model_id": "",
       "version_major": 2,
       "version_minor": 0
      },
      "text/plain": [
       "Uncorr 1/f:   0%|          | 0/4 [00:00<?, ?it/s]"
      ]
     },
     "metadata": {},
     "output_type": "display_data"
    },
    {
     "data": {
      "application/vnd.jupyter.widget-view+json": {
       "model_id": "",
       "version_major": 2,
       "version_minor": 0
      },
      "text/plain": [
       "ACN:   0%|          | 0/4 [00:00<?, ?it/s]"
      ]
     },
     "metadata": {},
     "output_type": "display_data"
    },
    {
     "name": "stdout",
     "output_type": "stream",
     "text": [
      "  Saving: /home/jarronl/data/NIRData/NRC_Sims/Sim_NRC30/pynrc_jw01075001001_03105_00005_nrca2_uncal.fits\n"
     ]
    },
    {
     "data": {
      "application/vnd.jupyter.widget-view+json": {
       "model_id": "",
       "version_major": 2,
       "version_minor": 0
      },
      "text/plain": [
       "Convolution:   0%|          | 0/1 [00:00<?, ?it/s]"
      ]
     },
     "metadata": {},
     "output_type": "display_data"
    },
    {
     "data": {
      "application/vnd.jupyter.widget-view+json": {
       "model_id": "",
       "version_major": 2,
       "version_minor": 0
      },
      "text/plain": [
       "Convolution:   0%|          | 0/1 [00:00<?, ?it/s]"
      ]
     },
     "metadata": {},
     "output_type": "display_data"
    },
    {
     "name": "stdout",
     "output_type": "stream",
     "text": [
      "  Saving: /home/jarronl/data/NIRData/NRC_Sims/Sim_NRC30/slope_jw01075001001_03105_00006_nrca2_uncal.fits\n"
     ]
    },
    {
     "data": {
      "application/vnd.jupyter.widget-view+json": {
       "model_id": "",
       "version_major": 2,
       "version_minor": 0
      },
      "text/plain": [
       "Ramps:   0%|          | 0/1 [00:00<?, ?it/s]"
      ]
     },
     "metadata": {},
     "output_type": "display_data"
    },
    {
     "data": {
      "application/vnd.jupyter.widget-view+json": {
       "model_id": "",
       "version_major": 2,
       "version_minor": 0
      },
      "text/plain": [
       "  0%|          | 0/14 [00:00<?, ?it/s]"
      ]
     },
     "metadata": {},
     "output_type": "display_data"
    },
    {
     "data": {
      "application/vnd.jupyter.widget-view+json": {
       "model_id": "",
       "version_major": 2,
       "version_minor": 0
      },
      "text/plain": [
       "Non-Linearity:   0%|          | 0/10 [00:00<?, ?it/s]"
      ]
     },
     "metadata": {},
     "output_type": "display_data"
    },
    {
     "data": {
      "application/vnd.jupyter.widget-view+json": {
       "model_id": "",
       "version_major": 2,
       "version_minor": 0
      },
      "text/plain": [
       "Uncorr 1/f:   0%|          | 0/4 [00:00<?, ?it/s]"
      ]
     },
     "metadata": {},
     "output_type": "display_data"
    },
    {
     "data": {
      "application/vnd.jupyter.widget-view+json": {
       "model_id": "",
       "version_major": 2,
       "version_minor": 0
      },
      "text/plain": [
       "ACN:   0%|          | 0/4 [00:00<?, ?it/s]"
      ]
     },
     "metadata": {},
     "output_type": "display_data"
    },
    {
     "name": "stdout",
     "output_type": "stream",
     "text": [
      "  Saving: /home/jarronl/data/NIRData/NRC_Sims/Sim_NRC30/pynrc_jw01075001001_03105_00006_nrca2_uncal.fits\n"
     ]
    },
    {
     "data": {
      "application/vnd.jupyter.widget-view+json": {
       "model_id": "",
       "version_major": 2,
       "version_minor": 0
      },
      "text/plain": [
       "Convolution:   0%|          | 0/1 [00:00<?, ?it/s]"
      ]
     },
     "metadata": {},
     "output_type": "display_data"
    },
    {
     "data": {
      "application/vnd.jupyter.widget-view+json": {
       "model_id": "",
       "version_major": 2,
       "version_minor": 0
      },
      "text/plain": [
       "Convolution:   0%|          | 0/1 [00:00<?, ?it/s]"
      ]
     },
     "metadata": {},
     "output_type": "display_data"
    },
    {
     "name": "stdout",
     "output_type": "stream",
     "text": [
      "  Saving: /home/jarronl/data/NIRData/NRC_Sims/Sim_NRC30/slope_jw01075001001_03105_00007_nrca2_uncal.fits\n"
     ]
    },
    {
     "data": {
      "application/vnd.jupyter.widget-view+json": {
       "model_id": "",
       "version_major": 2,
       "version_minor": 0
      },
      "text/plain": [
       "Ramps:   0%|          | 0/1 [00:00<?, ?it/s]"
      ]
     },
     "metadata": {},
     "output_type": "display_data"
    },
    {
     "data": {
      "application/vnd.jupyter.widget-view+json": {
       "model_id": "",
       "version_major": 2,
       "version_minor": 0
      },
      "text/plain": [
       "  0%|          | 0/14 [00:00<?, ?it/s]"
      ]
     },
     "metadata": {},
     "output_type": "display_data"
    },
    {
     "data": {
      "application/vnd.jupyter.widget-view+json": {
       "model_id": "",
       "version_major": 2,
       "version_minor": 0
      },
      "text/plain": [
       "Non-Linearity:   0%|          | 0/10 [00:00<?, ?it/s]"
      ]
     },
     "metadata": {},
     "output_type": "display_data"
    },
    {
     "data": {
      "application/vnd.jupyter.widget-view+json": {
       "model_id": "",
       "version_major": 2,
       "version_minor": 0
      },
      "text/plain": [
       "Uncorr 1/f:   0%|          | 0/4 [00:00<?, ?it/s]"
      ]
     },
     "metadata": {},
     "output_type": "display_data"
    },
    {
     "data": {
      "application/vnd.jupyter.widget-view+json": {
       "model_id": "",
       "version_major": 2,
       "version_minor": 0
      },
      "text/plain": [
       "ACN:   0%|          | 0/4 [00:00<?, ?it/s]"
      ]
     },
     "metadata": {},
     "output_type": "display_data"
    },
    {
     "name": "stdout",
     "output_type": "stream",
     "text": [
      "  Saving: /home/jarronl/data/NIRData/NRC_Sims/Sim_NRC30/pynrc_jw01075001001_03105_00007_nrca2_uncal.fits\n"
     ]
    },
    {
     "data": {
      "application/vnd.jupyter.widget-view+json": {
       "model_id": "",
       "version_major": 2,
       "version_minor": 0
      },
      "text/plain": [
       "Convolution:   0%|          | 0/1 [00:00<?, ?it/s]"
      ]
     },
     "metadata": {},
     "output_type": "display_data"
    },
    {
     "data": {
      "application/vnd.jupyter.widget-view+json": {
       "model_id": "",
       "version_major": 2,
       "version_minor": 0
      },
      "text/plain": [
       "Convolution:   0%|          | 0/1 [00:00<?, ?it/s]"
      ]
     },
     "metadata": {},
     "output_type": "display_data"
    },
    {
     "name": "stdout",
     "output_type": "stream",
     "text": [
      "  Saving: /home/jarronl/data/NIRData/NRC_Sims/Sim_NRC30/slope_jw01075001001_03105_00008_nrca2_uncal.fits\n"
     ]
    },
    {
     "data": {
      "application/vnd.jupyter.widget-view+json": {
       "model_id": "",
       "version_major": 2,
       "version_minor": 0
      },
      "text/plain": [
       "Ramps:   0%|          | 0/1 [00:00<?, ?it/s]"
      ]
     },
     "metadata": {},
     "output_type": "display_data"
    },
    {
     "data": {
      "application/vnd.jupyter.widget-view+json": {
       "model_id": "",
       "version_major": 2,
       "version_minor": 0
      },
      "text/plain": [
       "  0%|          | 0/14 [00:00<?, ?it/s]"
      ]
     },
     "metadata": {},
     "output_type": "display_data"
    },
    {
     "data": {
      "application/vnd.jupyter.widget-view+json": {
       "model_id": "",
       "version_major": 2,
       "version_minor": 0
      },
      "text/plain": [
       "Non-Linearity:   0%|          | 0/10 [00:00<?, ?it/s]"
      ]
     },
     "metadata": {},
     "output_type": "display_data"
    },
    {
     "data": {
      "application/vnd.jupyter.widget-view+json": {
       "model_id": "",
       "version_major": 2,
       "version_minor": 0
      },
      "text/plain": [
       "Uncorr 1/f:   0%|          | 0/4 [00:00<?, ?it/s]"
      ]
     },
     "metadata": {},
     "output_type": "display_data"
    },
    {
     "data": {
      "application/vnd.jupyter.widget-view+json": {
       "model_id": "",
       "version_major": 2,
       "version_minor": 0
      },
      "text/plain": [
       "ACN:   0%|          | 0/4 [00:00<?, ?it/s]"
      ]
     },
     "metadata": {},
     "output_type": "display_data"
    },
    {
     "name": "stdout",
     "output_type": "stream",
     "text": [
      "  Saving: /home/jarronl/data/NIRData/NRC_Sims/Sim_NRC30/pynrc_jw01075001001_03105_00008_nrca2_uncal.fits\n"
     ]
    },
    {
     "data": {
      "application/vnd.jupyter.widget-view+json": {
       "model_id": "",
       "version_major": 2,
       "version_minor": 0
      },
      "text/plain": [
       "Convolution:   0%|          | 0/1 [00:00<?, ?it/s]"
      ]
     },
     "metadata": {},
     "output_type": "display_data"
    },
    {
     "data": {
      "application/vnd.jupyter.widget-view+json": {
       "model_id": "",
       "version_major": 2,
       "version_minor": 0
      },
      "text/plain": [
       "Convolution:   0%|          | 0/1 [00:00<?, ?it/s]"
      ]
     },
     "metadata": {},
     "output_type": "display_data"
    },
    {
     "name": "stdout",
     "output_type": "stream",
     "text": [
      "  Saving: /home/jarronl/data/NIRData/NRC_Sims/Sim_NRC30/slope_jw01075001001_03105_00009_nrca2_uncal.fits\n"
     ]
    },
    {
     "data": {
      "application/vnd.jupyter.widget-view+json": {
       "model_id": "",
       "version_major": 2,
       "version_minor": 0
      },
      "text/plain": [
       "Ramps:   0%|          | 0/1 [00:00<?, ?it/s]"
      ]
     },
     "metadata": {},
     "output_type": "display_data"
    },
    {
     "data": {
      "application/vnd.jupyter.widget-view+json": {
       "model_id": "",
       "version_major": 2,
       "version_minor": 0
      },
      "text/plain": [
       "  0%|          | 0/14 [00:00<?, ?it/s]"
      ]
     },
     "metadata": {},
     "output_type": "display_data"
    },
    {
     "data": {
      "application/vnd.jupyter.widget-view+json": {
       "model_id": "",
       "version_major": 2,
       "version_minor": 0
      },
      "text/plain": [
       "Non-Linearity:   0%|          | 0/10 [00:00<?, ?it/s]"
      ]
     },
     "metadata": {},
     "output_type": "display_data"
    },
    {
     "data": {
      "application/vnd.jupyter.widget-view+json": {
       "model_id": "",
       "version_major": 2,
       "version_minor": 0
      },
      "text/plain": [
       "Uncorr 1/f:   0%|          | 0/4 [00:00<?, ?it/s]"
      ]
     },
     "metadata": {},
     "output_type": "display_data"
    },
    {
     "data": {
      "application/vnd.jupyter.widget-view+json": {
       "model_id": "",
       "version_major": 2,
       "version_minor": 0
      },
      "text/plain": [
       "ACN:   0%|          | 0/4 [00:00<?, ?it/s]"
      ]
     },
     "metadata": {},
     "output_type": "display_data"
    },
    {
     "name": "stdout",
     "output_type": "stream",
     "text": [
      "  Saving: /home/jarronl/data/NIRData/NRC_Sims/Sim_NRC30/pynrc_jw01075001001_03105_00009_nrca2_uncal.fits\n"
     ]
    },
    {
     "data": {
      "application/vnd.jupyter.widget-view+json": {
       "model_id": "16a89575d2b047148c55694aff048470",
       "version_major": 2,
       "version_minor": 0
      },
      "text/plain": [
       "Exposures:   0%|          | 0/12 [00:00<?, ?it/s]"
      ]
     },
     "metadata": {},
     "output_type": "display_data"
    },
    {
     "data": {
      "application/vnd.jupyter.widget-view+json": {
       "model_id": "",
       "version_major": 2,
       "version_minor": 0
      },
      "text/plain": [
       "Convolution:   0%|          | 0/1 [00:00<?, ?it/s]"
      ]
     },
     "metadata": {},
     "output_type": "display_data"
    },
    {
     "data": {
      "application/vnd.jupyter.widget-view+json": {
       "model_id": "",
       "version_major": 2,
       "version_minor": 0
      },
      "text/plain": [
       "Convolution:   0%|          | 0/1 [00:00<?, ?it/s]"
      ]
     },
     "metadata": {},
     "output_type": "display_data"
    },
    {
     "name": "stdout",
     "output_type": "stream",
     "text": [
      "  Saving: /home/jarronl/data/NIRData/NRC_Sims/Sim_NRC30/slope_jw01075001001_03102_00001_nrca2_uncal.fits\n"
     ]
    },
    {
     "data": {
      "application/vnd.jupyter.widget-view+json": {
       "model_id": "4b5c348c4a414ca08bd81d2cfc55dbe0",
       "version_major": 2,
       "version_minor": 0
      },
      "text/plain": [
       "Ramps:   0%|          | 0/1 [00:00<?, ?it/s]"
      ]
     },
     "metadata": {},
     "output_type": "display_data"
    },
    {
     "data": {
      "application/vnd.jupyter.widget-view+json": {
       "model_id": "767f533b09c540d38b942e8066046df6",
       "version_major": 2,
       "version_minor": 0
      },
      "text/plain": [
       "  0%|          | 0/14 [00:00<?, ?it/s]"
      ]
     },
     "metadata": {},
     "output_type": "display_data"
    },
    {
     "data": {
      "application/vnd.jupyter.widget-view+json": {
       "model_id": "45101c46975e45b5be25845d4ae9bf47",
       "version_major": 2,
       "version_minor": 0
      },
      "text/plain": [
       "Non-Linearity:   0%|          | 0/10 [00:00<?, ?it/s]"
      ]
     },
     "metadata": {},
     "output_type": "display_data"
    }
   ],
   "source": [
    "# All FITS files\n",
    "create_level1b_FITS(sim_config, dry_run=False, save_slope=True, save_dms=True)"
   ]
  },
  {
   "cell_type": "code",
   "execution_count": null,
   "id": "384a217e",
   "metadata": {},
   "outputs": [],
   "source": []
  },
  {
   "cell_type": "code",
   "execution_count": null,
   "id": "8d86babd",
   "metadata": {},
   "outputs": [],
   "source": []
  },
  {
   "cell_type": "code",
   "execution_count": 9,
   "id": "c66b684c",
   "metadata": {},
   "outputs": [],
   "source": [
    "rand_seed_init = 1234567\n",
    "\n",
    "# Read and interpret APT files\n",
    "# Observation of first date, not really necessary\n",
    "obs_date = '2022-05-24'  \n",
    "apt_obj = apt.DMS_input(xml_file, pointing_file, json_file, sm_acct_file, \n",
    "                        obs_date=obs_date, rand_seed_init=rand_seed_init)\n",
    "visits = apt_obj.program_info"
   ]
  },
  {
   "cell_type": "code",
   "execution_count": null,
   "id": "ca6b3729",
   "metadata": {},
   "outputs": [],
   "source": []
  },
  {
   "cell_type": "code",
   "execution_count": null,
   "id": "41b8fd72",
   "metadata": {},
   "outputs": [],
   "source": []
  },
  {
   "cell_type": "code",
   "execution_count": 10,
   "id": "3f6932e9",
   "metadata": {
    "scrolled": false
   },
   "outputs": [
    {
     "data": {
      "text/plain": [
       "OrderedDict([('001:001',\n",
       "              {'obs_num': 1,\n",
       "               'visit_num': 1,\n",
       "               'visit_start': 0,\n",
       "               'slew_duration': 1800,\n",
       "               'visit_duration': 3324,\n",
       "               'exp_start_times': array([2926, 3210, 3470, 3704, 3852, 4000, 4148, 4296, 4444, 4592, 4740,\n",
       "                      4888]),\n",
       "               'APTTemplate': 'NircamCoron',\n",
       "               'PrimaryDitherType': array(['NONE', 'NONE', 'NONE', 'NONE', 'NONE', 'NONE', 'NONE', 'NONE',\n",
       "                      'NONE', 'NONE', 'NONE', 'NONE'], dtype='<U4'),\n",
       "               'PrimaryDithers': array(['NONE', '2', '2', '1', '1', '1', '1', '1', '1', '1', '1', '1'],\n",
       "                     dtype='<U4'),\n",
       "               'DitherSize': array(['NONE', 'NONE', 'NONE', 'NONE', 'NONE', 'NONE', 'NONE', 'NONE',\n",
       "                      'NONE', 'NONE', 'NONE', 'NONE'], dtype='<U4'),\n",
       "               'SubpixelPositions': array(['NONE', 'NONE', 'NONE', '9', '9', '9', '9', '9', '9', '9', '9',\n",
       "                      '9'], dtype='<U4'),\n",
       "               'SubpixelDitherType': array(['NONE', 'NONE', 'NONE', 'SMALL-GRID-DITHER', 'SMALL-GRID-DITHER',\n",
       "                      'SMALL-GRID-DITHER', 'SMALL-GRID-DITHER', 'SMALL-GRID-DITHER',\n",
       "                      'SMALL-GRID-DITHER', 'SMALL-GRID-DITHER', 'SMALL-GRID-DITHER',\n",
       "                      'SMALL-GRID-DITHER'], dtype='<U17'),\n",
       "               'SmallGridDitherType': array(['NONE', 'NONE', 'NONE', '9-POINT-CIRCLE', '9-POINT-CIRCLE',\n",
       "                      '9-POINT-CIRCLE', '9-POINT-CIRCLE', '9-POINT-CIRCLE',\n",
       "                      '9-POINT-CIRCLE', '9-POINT-CIRCLE', '9-POINT-CIRCLE',\n",
       "                      '9-POINT-CIRCLE'], dtype='<U14'),\n",
       "               'DitherPatternType': array(['NONE', 'NONE', 'NONE', 'NONE', 'NONE', 'NONE', 'NONE', 'NONE',\n",
       "                      'NONE', 'NONE', 'NONE', 'NONE'], dtype='<U4'),\n",
       "               'ImageDithers': array(['NONE', '2', '2', 'NONE', 'NONE', 'NONE', 'NONE', 'NONE', 'NONE',\n",
       "                      'NONE', 'NONE', 'NONE'], dtype='<U4'),\n",
       "               'number_of_dithers': array([1, 2, 2, 9, 9, 9, 9, 9, 9, 9, 9, 9]),\n",
       "               'rand_seed_init': 1234567,\n",
       "               'rand_seed_dith': 3027154958,\n",
       "               'rand_seed_noise': 4267703184,\n",
       "               'TargetID': array(['HD-42525', 'HD-42525', 'HD-42525', 'HD-42525', 'HD-42525',\n",
       "                      'HD-42525', 'HD-42525', 'HD-42525', 'HD-42525', 'HD-42525',\n",
       "                      'HD-42525', 'HD-42525'], dtype='<U8'),\n",
       "               'TargetRA': array(['06:06:9.3818', '06:06:9.3818', '06:06:9.3818', '06:06:9.3818',\n",
       "                      '06:06:9.3818', '06:06:9.3818', '06:06:9.3818', '06:06:9.3818',\n",
       "                      '06:06:9.3818', '06:06:9.3818', '06:06:9.3818', '06:06:9.3818'],\n",
       "                     dtype='<U13'),\n",
       "               'TargetDec': array(['-66:02:22.64', '-66:02:22.64', '-66:02:22.64', '-66:02:22.64',\n",
       "                      '-66:02:22.64', '-66:02:22.64', '-66:02:22.64', '-66:02:22.64',\n",
       "                      '-66:02:22.64', '-66:02:22.64', '-66:02:22.64', '-66:02:22.64'],\n",
       "                     dtype='<U12'),\n",
       "               'aperture': array(['NRCA2_TAMASK210R', 'NRCA2_FULL_TAMASK210R', 'NRCA2_FULL_MASK210R',\n",
       "                      'NRCA2_FULL_MASK210R', 'NRCA2_FULL_MASK210R',\n",
       "                      'NRCA2_FULL_MASK210R', 'NRCA2_FULL_MASK210R',\n",
       "                      'NRCA2_FULL_MASK210R', 'NRCA2_FULL_MASK210R',\n",
       "                      'NRCA2_FULL_MASK210R', 'NRCA2_FULL_MASK210R',\n",
       "                      'NRCA2_FULL_MASK210R'], dtype='<U24'),\n",
       "               'pri_dith': array([1, 1, 1, 1, 1, 1, 1, 1, 1, 1, 1, 1]),\n",
       "               'sub_dith': array([1, 1, 1, 1, 2, 3, 4, 5, 6, 7, 8, 9]),\n",
       "               'targ1': array([1, 1, 1, 1, 1, 1, 1, 1, 1, 1, 1, 1]),\n",
       "               'targ2': array(['HD-42525', 'HD-42525', 'HD-42525', 'HD-42525', 'HD-42525',\n",
       "                      'HD-42525', 'HD-42525', 'HD-42525', 'HD-42525', 'HD-42525',\n",
       "                      'HD-42525', 'HD-42525'], dtype='<U8'),\n",
       "               'ra': array([91.53909, 91.53909, 91.53909, 91.53909, 91.53909, 91.53909,\n",
       "                      91.53909, 91.53909, 91.53909, 91.53909, 91.53909, 91.53909]),\n",
       "               'dec': array([-66.03962, -66.03962, -66.03962, -66.03962, -66.03962, -66.03962,\n",
       "                      -66.03962, -66.03962, -66.03962, -66.03962, -66.03962, -66.03962]),\n",
       "               'basex': array([0., 0., 0., 0., 0., 0., 0., 0., 0., 0., 0., 0.]),\n",
       "               'basey': array([0., 0., 0., 0., 0., 0., 0., 0., 0., 0., 0., 0.]),\n",
       "               'dithx': array([ 0.   ,  0.   ,  0.   ,  0.   ,  0.   , -0.015, -0.02 , -0.015,\n",
       "                       0.   ,  0.015,  0.02 ,  0.015]),\n",
       "               'dithy': array([ 0.   ,  0.   ,  0.   ,  0.   ,  0.02 ,  0.015,  0.   , -0.015,\n",
       "                      -0.02 , -0.015,  0.   ,  0.015]),\n",
       "               'v2': array([134.634, 134.634, 127.193, 127.193, 127.193, 127.208, 127.213,\n",
       "                      127.208, 127.193, 127.178, 127.173, 127.178]),\n",
       "               'v3': array([-412.947, -412.947, -405.444, -405.444, -405.424, -405.429,\n",
       "                      -405.444, -405.459, -405.464, -405.459, -405.444, -405.429]),\n",
       "               'idlx': array([ 0.   ,  0.   ,  0.   ,  0.   ,  0.   , -0.015, -0.02 , -0.015,\n",
       "                       0.   ,  0.015,  0.02 ,  0.015]),\n",
       "               'idly': array([ 0.   ,  0.   ,  0.   ,  0.   ,  0.02 ,  0.015,  0.   , -0.015,\n",
       "                      -0.02 , -0.015,  0.   ,  0.015]),\n",
       "               'obs_label': array(['MASK210R, F210M, 9-PT CIRCLE', 'MASK210R, F210M, 9-PT CIRCLE',\n",
       "                      'MASK210R, F210M, 9-PT CIRCLE', 'MASK210R, F210M, 9-PT CIRCLE',\n",
       "                      'MASK210R, F210M, 9-PT CIRCLE', 'MASK210R, F210M, 9-PT CIRCLE',\n",
       "                      'MASK210R, F210M, 9-PT CIRCLE', 'MASK210R, F210M, 9-PT CIRCLE',\n",
       "                      'MASK210R, F210M, 9-PT CIRCLE', 'MASK210R, F210M, 9-PT CIRCLE',\n",
       "                      'MASK210R, F210M, 9-PT CIRCLE', 'MASK210R, F210M, 9-PT CIRCLE'],\n",
       "                     dtype='<U33'),\n",
       "               'obs_id_info': array([{'program_number': '01075', 'observation_number': '001', 'visit_number': '001', 'visit_group': '02', 'sequence_id': '1', 'activity_id': '02', 'exposure_number': '00001', 'visit_id': '01075001001', 'obs_id': 'V01075001001P0000000002102'},\n",
       "                      {'program_number': '01075', 'observation_number': '001', 'visit_number': '001', 'visit_group': '03', 'sequence_id': '1', 'activity_id': '02', 'exposure_number': '00001', 'visit_id': '01075001001', 'obs_id': 'V01075001001P0000000003102'},\n",
       "                      {'program_number': '01075', 'observation_number': '001', 'visit_number': '001', 'visit_group': '03', 'sequence_id': '1', 'activity_id': '04', 'exposure_number': '00001', 'visit_id': '01075001001', 'obs_id': 'V01075001001P0000000003104'},\n",
       "                      {'program_number': '01075', 'observation_number': '001', 'visit_number': '001', 'visit_group': '03', 'sequence_id': '1', 'activity_id': '05', 'exposure_number': '00001', 'visit_id': '01075001001', 'obs_id': 'V01075001001P0000000003105'},\n",
       "                      {'program_number': '01075', 'observation_number': '001', 'visit_number': '001', 'visit_group': '03', 'sequence_id': '1', 'activity_id': '05', 'exposure_number': '00002', 'visit_id': '01075001001', 'obs_id': 'V01075001001P0000000003105'},\n",
       "                      {'program_number': '01075', 'observation_number': '001', 'visit_number': '001', 'visit_group': '03', 'sequence_id': '1', 'activity_id': '05', 'exposure_number': '00003', 'visit_id': '01075001001', 'obs_id': 'V01075001001P0000000003105'},\n",
       "                      {'program_number': '01075', 'observation_number': '001', 'visit_number': '001', 'visit_group': '03', 'sequence_id': '1', 'activity_id': '05', 'exposure_number': '00004', 'visit_id': '01075001001', 'obs_id': 'V01075001001P0000000003105'},\n",
       "                      {'program_number': '01075', 'observation_number': '001', 'visit_number': '001', 'visit_group': '03', 'sequence_id': '1', 'activity_id': '05', 'exposure_number': '00005', 'visit_id': '01075001001', 'obs_id': 'V01075001001P0000000003105'},\n",
       "                      {'program_number': '01075', 'observation_number': '001', 'visit_number': '001', 'visit_group': '03', 'sequence_id': '1', 'activity_id': '05', 'exposure_number': '00006', 'visit_id': '01075001001', 'obs_id': 'V01075001001P0000000003105'},\n",
       "                      {'program_number': '01075', 'observation_number': '001', 'visit_number': '001', 'visit_group': '03', 'sequence_id': '1', 'activity_id': '05', 'exposure_number': '00007', 'visit_id': '01075001001', 'obs_id': 'V01075001001P0000000003105'},\n",
       "                      {'program_number': '01075', 'observation_number': '001', 'visit_number': '001', 'visit_group': '03', 'sequence_id': '1', 'activity_id': '05', 'exposure_number': '00008', 'visit_id': '01075001001', 'obs_id': 'V01075001001P0000000003105'},\n",
       "                      {'program_number': '01075', 'observation_number': '001', 'visit_number': '001', 'visit_group': '03', 'sequence_id': '1', 'activity_id': '05', 'exposure_number': '00009', 'visit_id': '01075001001', 'obs_id': 'V01075001001P0000000003105'}],\n",
       "                     dtype=object),\n",
       "               'level': array(['TARGET', 'TARGET', 'TARGET', 'TARGET', 'SUBDITHER', 'SUBDITHER',\n",
       "                      'SUBDITHER', 'SUBDITHER', 'SUBDITHER', 'SUBDITHER', 'SUBDITHER',\n",
       "                      'SUBDITHER'], dtype='<U9'),\n",
       "               'type': array(['T_ACQ', 'CONFIRM', 'CONFIRM', 'SCIENCE', 'SCIENCE', 'SCIENCE',\n",
       "                      'SCIENCE', 'SCIENCE', 'SCIENCE', 'SCIENCE', 'SCIENCE', 'SCIENCE'],\n",
       "                     dtype='<U7'),\n",
       "               'ddist': array([ 0.   ,  0.   , 10.567,  0.   ,  0.02 ,  0.016,  0.016,  0.016,\n",
       "                       0.016,  0.016,  0.016,  0.016]),\n",
       "               'ModuleAPT': array(['A', 'A', 'A', 'A', 'A', 'A', 'A', 'A', 'A', 'A', 'A', 'A'],\n",
       "                     dtype='<U1'),\n",
       "               'sw_filters': array(['F210M', 'F210M', 'F210M', 'F210M', 'F210M', 'F210M', 'F210M',\n",
       "                      'F210M', 'F210M', 'F210M', 'F210M', 'F210M'], dtype='<U5'),\n",
       "               'sw_pupils': array(['CIRCLYOT', 'CIRCLYOT', 'CIRCLYOT', 'CIRCLYOT', 'CIRCLYOT',\n",
       "                      'CIRCLYOT', 'CIRCLYOT', 'CIRCLYOT', 'CIRCLYOT', 'CIRCLYOT',\n",
       "                      'CIRCLYOT', 'CIRCLYOT'], dtype='<U9'),\n",
       "               'lw_filters': array(['NONE', 'NONE', 'NONE', 'NONE', 'NONE', 'NONE', 'NONE', 'NONE',\n",
       "                      'NONE', 'NONE', 'NONE', 'NONE'], dtype='<U5'),\n",
       "               'lw_pupils': array(['n/a', 'n/a', 'n/a', 'n/a', 'n/a', 'n/a', 'n/a', 'n/a', 'n/a',\n",
       "                      'n/a', 'n/a', 'n/a'], dtype='<U9'),\n",
       "               'coron_mask': array(['MASK210R', 'MASK210R', 'MASK210R', 'MASK210R', 'MASK210R',\n",
       "                      'MASK210R', 'MASK210R', 'MASK210R', 'MASK210R', 'MASK210R',\n",
       "                      'MASK210R', 'MASK210R'], dtype='<U8'),\n",
       "               'mode': array(['coron', 'coron', 'coron', 'coron', 'coron', 'coron', 'coron',\n",
       "                      'coron', 'coron', 'coron', 'coron', 'coron'], dtype='<U5'),\n",
       "               'subarray_name': array(['SUBNDA210R', 'FULL', 'FULL', 'FULL', 'FULL', 'FULL', 'FULL',\n",
       "                      'FULL', 'FULL', 'FULL', 'FULL', 'FULL'], dtype='<U10'),\n",
       "               'readout': array(['DEEP2', 'RAPID', 'RAPID', 'RAPID', 'RAPID', 'RAPID', 'RAPID',\n",
       "                      'RAPID', 'RAPID', 'RAPID', 'RAPID', 'RAPID'], dtype='<U8'),\n",
       "               'nints': array(['1', '1', '1', '1', '1', '1', '1', '1', '1', '1', '1', '1'],\n",
       "                     dtype='<U1'),\n",
       "               'ngroups': array(['33', '10', '10', '10', '10', '10', '10', '10', '10', '10', '10',\n",
       "                      '10'], dtype='<U2'),\n",
       "               'noutputs': array(['NONE', 'NONE', 'NONE', 'NONE', 'NONE', 'NONE', 'NONE', 'NONE',\n",
       "                      'NONE', 'NONE', 'NONE', 'NONE'], dtype='<U4'),\n",
       "               'detectors': array([['NRCA2'],\n",
       "                      ['NRCA2'],\n",
       "                      ['NRCA2'],\n",
       "                      ['NRCA2'],\n",
       "                      ['NRCA2'],\n",
       "                      ['NRCA2'],\n",
       "                      ['NRCA2'],\n",
       "                      ['NRCA2'],\n",
       "                      ['NRCA2'],\n",
       "                      ['NRCA2'],\n",
       "                      ['NRCA2'],\n",
       "                      ['NRCA2']], dtype='<U5')}),\n",
       "             ('002:001',\n",
       "              {'obs_num': 2,\n",
       "               'visit_num': 1,\n",
       "               'visit_start': 5124,\n",
       "               'slew_duration': 169,\n",
       "               'visit_duration': 3463,\n",
       "               'exp_start_times': array([6229, 6513, 6773, 7007, 7155, 7303, 7451, 7599, 7928, 8076, 8224,\n",
       "                      8372, 8520]),\n",
       "               'APTTemplate': 'NircamCoron',\n",
       "               'PrimaryDitherType': array(['NONE', 'NONE', 'NONE', 'NONE', 'NONE', 'NONE', 'NONE', 'NONE',\n",
       "                      'NONE', 'NONE', 'NONE', 'NONE', 'NONE'], dtype='<U4'),\n",
       "               'PrimaryDithers': array(['NONE', '2', '2', '1', '1', '1', '1', '1', '1', '1', '1', '1', '1'],\n",
       "                     dtype='<U4'),\n",
       "               'DitherSize': array(['NONE', 'NONE', 'NONE', 'NONE', 'NONE', 'NONE', 'NONE', 'NONE',\n",
       "                      'NONE', 'NONE', 'NONE', 'NONE', 'NONE'], dtype='<U4'),\n",
       "               'SubpixelPositions': array(['NONE', 'NONE', 'NONE', '5', '5', '5', '5', '5', '5', '5', '5',\n",
       "                      '5', '5'], dtype='<U4'),\n",
       "               'SubpixelDitherType': array(['NONE', 'NONE', 'NONE', 'SMALL-GRID-DITHER', 'SMALL-GRID-DITHER',\n",
       "                      'SMALL-GRID-DITHER', 'SMALL-GRID-DITHER', 'SMALL-GRID-DITHER',\n",
       "                      'SMALL-GRID-DITHER', 'SMALL-GRID-DITHER', 'SMALL-GRID-DITHER',\n",
       "                      'SMALL-GRID-DITHER', 'SMALL-GRID-DITHER'], dtype='<U17'),\n",
       "               'SmallGridDitherType': array(['NONE', 'NONE', 'NONE', '5-POINT-BAR', '5-POINT-BAR',\n",
       "                      '5-POINT-BAR', '5-POINT-BAR', '5-POINT-BAR', '5-POINT-BAR',\n",
       "                      '5-POINT-BAR', '5-POINT-BAR', '5-POINT-BAR', '5-POINT-BAR'],\n",
       "                     dtype='<U14'),\n",
       "               'DitherPatternType': array(['NONE', 'NONE', 'NONE', 'NONE', 'NONE', 'NONE', 'NONE', 'NONE',\n",
       "                      'NONE', 'NONE', 'NONE', 'NONE', 'NONE'], dtype='<U4'),\n",
       "               'ImageDithers': array(['NONE', '2', '2', 'NONE', 'NONE', 'NONE', 'NONE', 'NONE', 'NONE',\n",
       "                      'NONE', 'NONE', 'NONE', 'NONE'], dtype='<U4'),\n",
       "               'number_of_dithers': array([1, 2, 2, 5, 5, 5, 5, 5, 5, 5, 5, 5, 5]),\n",
       "               'rand_seed_init': 1234567,\n",
       "               'rand_seed_dith': 513909819,\n",
       "               'rand_seed_noise': 33364385,\n",
       "               'TargetID': array(['HD-42525', 'HD-42525', 'HD-42525', 'HD-42525', 'HD-42525',\n",
       "                      'HD-42525', 'HD-42525', 'HD-42525', 'HD-42525', 'HD-42525',\n",
       "                      'HD-42525', 'HD-42525', 'HD-42525'], dtype='<U8'),\n",
       "               'TargetRA': array(['06:06:9.3818', '06:06:9.3818', '06:06:9.3818', '06:06:9.3818',\n",
       "                      '06:06:9.3818', '06:06:9.3818', '06:06:9.3818', '06:06:9.3818',\n",
       "                      '06:06:9.3818', '06:06:9.3818', '06:06:9.3818', '06:06:9.3818',\n",
       "                      '06:06:9.3818'], dtype='<U13'),\n",
       "               'TargetDec': array(['-66:02:22.64', '-66:02:22.64', '-66:02:22.64', '-66:02:22.64',\n",
       "                      '-66:02:22.64', '-66:02:22.64', '-66:02:22.64', '-66:02:22.64',\n",
       "                      '-66:02:22.64', '-66:02:22.64', '-66:02:22.64', '-66:02:22.64',\n",
       "                      '-66:02:22.64'], dtype='<U12'),\n",
       "               'aperture': array(['NRCA4_TAMASKSWBS', 'NRCA4_FULL_TAMASKSWBS',\n",
       "                      'NRCA4_FULL_MASKSWB_F210M', 'NRCA4_FULL_MASKSWB_F210M',\n",
       "                      'NRCA4_FULL_MASKSWB_F210M', 'NRCA4_FULL_MASKSWB_F210M',\n",
       "                      'NRCA4_FULL_MASKSWB_F210M', 'NRCA4_FULL_MASKSWB_F210M',\n",
       "                      'NRCA4_FULL_MASKSWB_F182M', 'NRCA4_FULL_MASKSWB_F182M',\n",
       "                      'NRCA4_FULL_MASKSWB_F182M', 'NRCA4_FULL_MASKSWB_F182M',\n",
       "                      'NRCA4_FULL_MASKSWB_F182M'], dtype='<U24'),\n",
       "               'pri_dith': array([1, 1, 1, 1, 1, 1, 1, 1, 1, 1, 1, 1, 1]),\n",
       "               'sub_dith': array([1, 1, 1, 1, 2, 3, 4, 5, 1, 2, 3, 4, 5]),\n",
       "               'targ1': array([1, 1, 1, 1, 1, 1, 1, 1, 1, 1, 1, 1, 1]),\n",
       "               'targ2': array(['HD-42525', 'HD-42525', 'HD-42525', 'HD-42525', 'HD-42525',\n",
       "                      'HD-42525', 'HD-42525', 'HD-42525', 'HD-42525', 'HD-42525',\n",
       "                      'HD-42525', 'HD-42525', 'HD-42525'], dtype='<U8'),\n",
       "               'ra': array([91.53909, 91.53909, 91.53909, 91.53909, 91.53909, 91.53909,\n",
       "                      91.53909, 91.53909, 91.53909, 91.53909, 91.53909, 91.53909,\n",
       "                      91.53909]),\n",
       "               'dec': array([-66.03962, -66.03962, -66.03962, -66.03962, -66.03962, -66.03962,\n",
       "                      -66.03962, -66.03962, -66.03962, -66.03962, -66.03962, -66.03962,\n",
       "                      -66.03962]),\n",
       "               'basex': array([0., 0., 0., 0., 0., 0., 0., 0., 0., 0., 0., 0., 0.]),\n",
       "               'basey': array([0., 0., 0., 0., 0., 0., 0., 0., 0., 0., 0., 0., 0.]),\n",
       "               'dithx': array([0., 0., 0., 0., 0., 0., 0., 0., 0., 0., 0., 0., 0.]),\n",
       "               'dithy': array([ 0.  ,  0.  ,  0.  ,  0.  ,  0.02,  0.01, -0.01, -0.02,  0.  ,\n",
       "                       0.02,  0.01, -0.01, -0.02]),\n",
       "               'v2': array([77.017, 77.017, 67.125, 67.125, 67.125, 67.125, 67.125, 67.125,\n",
       "                      68.834, 68.834, 68.834, 68.834, 68.834]),\n",
       "               'v3': array([-413.105, -413.105, -405.331, -405.331, -405.311, -405.321,\n",
       "                      -405.341, -405.351, -405.336, -405.316, -405.326, -405.346,\n",
       "                      -405.356]),\n",
       "               'idlx': array([0., 0., 0., 0., 0., 0., 0., 0., 0., 0., 0., 0., 0.]),\n",
       "               'idly': array([ 0.  ,  0.  ,  0.  ,  0.  ,  0.02,  0.01, -0.01, -0.02,  0.  ,\n",
       "                       0.02,  0.01, -0.01, -0.02]),\n",
       "               'obs_label': array(['MASKSWB, F210M -> F182M, 5-PT BAR',\n",
       "                      'MASKSWB, F210M -> F182M, 5-PT BAR',\n",
       "                      'MASKSWB, F210M -> F182M, 5-PT BAR',\n",
       "                      'MASKSWB, F210M -> F182M, 5-PT BAR',\n",
       "                      'MASKSWB, F210M -> F182M, 5-PT BAR',\n",
       "                      'MASKSWB, F210M -> F182M, 5-PT BAR',\n",
       "                      'MASKSWB, F210M -> F182M, 5-PT BAR',\n",
       "                      'MASKSWB, F210M -> F182M, 5-PT BAR',\n",
       "                      'MASKSWB, F210M -> F182M, 5-PT BAR',\n",
       "                      'MASKSWB, F210M -> F182M, 5-PT BAR',\n",
       "                      'MASKSWB, F210M -> F182M, 5-PT BAR',\n",
       "                      'MASKSWB, F210M -> F182M, 5-PT BAR',\n",
       "                      'MASKSWB, F210M -> F182M, 5-PT BAR'], dtype='<U33'),\n",
       "               'obs_id_info': array([{'program_number': '01075', 'observation_number': '002', 'visit_number': '001', 'visit_group': '02', 'sequence_id': '1', 'activity_id': '02', 'exposure_number': '00001', 'visit_id': '01075002001', 'obs_id': 'V01075002001P0000000002102'},\n",
       "                      {'program_number': '01075', 'observation_number': '002', 'visit_number': '001', 'visit_group': '03', 'sequence_id': '1', 'activity_id': '02', 'exposure_number': '00001', 'visit_id': '01075002001', 'obs_id': 'V01075002001P0000000003102'},\n",
       "                      {'program_number': '01075', 'observation_number': '002', 'visit_number': '001', 'visit_group': '03', 'sequence_id': '1', 'activity_id': '04', 'exposure_number': '00001', 'visit_id': '01075002001', 'obs_id': 'V01075002001P0000000003104'},\n",
       "                      {'program_number': '01075', 'observation_number': '002', 'visit_number': '001', 'visit_group': '03', 'sequence_id': '1', 'activity_id': '05', 'exposure_number': '00001', 'visit_id': '01075002001', 'obs_id': 'V01075002001P0000000003105'},\n",
       "                      {'program_number': '01075', 'observation_number': '002', 'visit_number': '001', 'visit_group': '03', 'sequence_id': '1', 'activity_id': '05', 'exposure_number': '00002', 'visit_id': '01075002001', 'obs_id': 'V01075002001P0000000003105'},\n",
       "                      {'program_number': '01075', 'observation_number': '002', 'visit_number': '001', 'visit_group': '03', 'sequence_id': '1', 'activity_id': '05', 'exposure_number': '00003', 'visit_id': '01075002001', 'obs_id': 'V01075002001P0000000003105'},\n",
       "                      {'program_number': '01075', 'observation_number': '002', 'visit_number': '001', 'visit_group': '03', 'sequence_id': '1', 'activity_id': '05', 'exposure_number': '00004', 'visit_id': '01075002001', 'obs_id': 'V01075002001P0000000003105'},\n",
       "                      {'program_number': '01075', 'observation_number': '002', 'visit_number': '001', 'visit_group': '03', 'sequence_id': '1', 'activity_id': '05', 'exposure_number': '00005', 'visit_id': '01075002001', 'obs_id': 'V01075002001P0000000003105'},\n",
       "                      {'program_number': '01075', 'observation_number': '002', 'visit_number': '001', 'visit_group': '03', 'sequence_id': '1', 'activity_id': '06', 'exposure_number': '00001', 'visit_id': '01075002001', 'obs_id': 'V01075002001P0000000003106'},\n",
       "                      {'program_number': '01075', 'observation_number': '002', 'visit_number': '001', 'visit_group': '03', 'sequence_id': '1', 'activity_id': '06', 'exposure_number': '00002', 'visit_id': '01075002001', 'obs_id': 'V01075002001P0000000003106'},\n",
       "                      {'program_number': '01075', 'observation_number': '002', 'visit_number': '001', 'visit_group': '03', 'sequence_id': '1', 'activity_id': '06', 'exposure_number': '00003', 'visit_id': '01075002001', 'obs_id': 'V01075002001P0000000003106'},\n",
       "                      {'program_number': '01075', 'observation_number': '002', 'visit_number': '001', 'visit_group': '03', 'sequence_id': '1', 'activity_id': '06', 'exposure_number': '00004', 'visit_id': '01075002001', 'obs_id': 'V01075002001P0000000003106'},\n",
       "                      {'program_number': '01075', 'observation_number': '002', 'visit_number': '001', 'visit_group': '03', 'sequence_id': '1', 'activity_id': '06', 'exposure_number': '00005', 'visit_id': '01075002001', 'obs_id': 'V01075002001P0000000003106'}],\n",
       "                     dtype=object),\n",
       "               'level': array(['TARGET', 'TARGET', 'TARGET', 'TARGET', 'SUBDITHER', 'SUBDITHER',\n",
       "                      'SUBDITHER', 'SUBDITHER', 'FILTER', 'SUBDITHER', 'SUBDITHER',\n",
       "                      'SUBDITHER', 'SUBDITHER'], dtype='<U9'),\n",
       "               'type': array(['T_ACQ', 'CONFIRM', 'CONFIRM', 'SCIENCE', 'SCIENCE', 'SCIENCE',\n",
       "                      'SCIENCE', 'SCIENCE', 'SCIENCE', 'SCIENCE', 'SCIENCE', 'SCIENCE',\n",
       "                      'SCIENCE'], dtype='<U7'),\n",
       "               'ddist': array([0.0000e+00, 0.0000e+00, 1.2582e+01, 0.0000e+00, 2.0000e-02,\n",
       "                      1.0000e-02, 2.0000e-02, 1.0000e-02, 1.7090e+00, 2.0000e-02,\n",
       "                      1.0000e-02, 2.0000e-02, 1.0000e-02]),\n",
       "               'ModuleAPT': array(['A', 'A', 'A', 'A', 'A', 'A', 'A', 'A', 'A', 'A', 'A', 'A', 'A'],\n",
       "                     dtype='<U1'),\n",
       "               'sw_filters': array(['F210M', 'F210M', 'F210M', 'F210M', 'F210M', 'F210M', 'F210M',\n",
       "                      'F210M', 'F182M', 'F182M', 'F182M', 'F182M', 'F182M'], dtype='<U5'),\n",
       "               'sw_pupils': array(['WEDGELYOT', 'WEDGELYOT', 'WEDGELYOT', 'WEDGELYOT', 'WEDGELYOT',\n",
       "                      'WEDGELYOT', 'WEDGELYOT', 'WEDGELYOT', 'WEDGELYOT', 'WEDGELYOT',\n",
       "                      'WEDGELYOT', 'WEDGELYOT', 'WEDGELYOT'], dtype='<U9'),\n",
       "               'lw_filters': array(['NONE', 'NONE', 'NONE', 'NONE', 'NONE', 'NONE', 'NONE', 'NONE',\n",
       "                      'NONE', 'NONE', 'NONE', 'NONE', 'NONE'], dtype='<U5'),\n",
       "               'lw_pupils': array(['n/a', 'n/a', 'n/a', 'n/a', 'n/a', 'n/a', 'n/a', 'n/a', 'n/a',\n",
       "                      'n/a', 'n/a', 'n/a', 'n/a'], dtype='<U9'),\n",
       "               'coron_mask': array(['MASKSWB', 'MASKSWB', 'MASKSWB', 'MASKSWB', 'MASKSWB', 'MASKSWB',\n",
       "                      'MASKSWB', 'MASKSWB', 'MASKSWB', 'MASKSWB', 'MASKSWB', 'MASKSWB',\n",
       "                      'MASKSWB'], dtype='<U8'),\n",
       "               'mode': array(['coron', 'coron', 'coron', 'coron', 'coron', 'coron', 'coron',\n",
       "                      'coron', 'coron', 'coron', 'coron', 'coron', 'coron'], dtype='<U5'),\n",
       "               'subarray_name': array(['SUBNDASWBL', 'FULL', 'FULL', 'FULL', 'FULL', 'FULL', 'FULL',\n",
       "                      'FULL', 'FULL', 'FULL', 'FULL', 'FULL', 'FULL'], dtype='<U10'),\n",
       "               'readout': array(['DEEP2', 'RAPID', 'RAPID', 'RAPID', 'RAPID', 'RAPID', 'RAPID',\n",
       "                      'RAPID', 'RAPID', 'RAPID', 'RAPID', 'RAPID', 'RAPID'], dtype='<U8'),\n",
       "               'nints': array(['1', '1', '1', '1', '1', '1', '1', '1', '1', '1', '1', '1', '1'],\n",
       "                     dtype='<U1'),\n",
       "               'ngroups': array(['33', '10', '10', '10', '10', '10', '10', '10', '10', '10', '10',\n",
       "                      '10', '10'], dtype='<U2'),\n",
       "               'noutputs': array(['NONE', 'NONE', 'NONE', 'NONE', 'NONE', 'NONE', 'NONE', 'NONE',\n",
       "                      'NONE', 'NONE', 'NONE', 'NONE', 'NONE'], dtype='<U4'),\n",
       "               'detectors': array([['NRCA4'],\n",
       "                      ['NRCA4'],\n",
       "                      ['NRCA4'],\n",
       "                      ['NRCA4'],\n",
       "                      ['NRCA4'],\n",
       "                      ['NRCA4'],\n",
       "                      ['NRCA4'],\n",
       "                      ['NRCA4'],\n",
       "                      ['NRCA4'],\n",
       "                      ['NRCA4'],\n",
       "                      ['NRCA4'],\n",
       "                      ['NRCA4'],\n",
       "                      ['NRCA4']], dtype='<U5')}),\n",
       "             ('003:001',\n",
       "              {'obs_num': 3,\n",
       "               'visit_num': 1,\n",
       "               'visit_start': 8756,\n",
       "               'slew_duration': 51,\n",
       "               'visit_duration': 2302,\n",
       "               'exp_start_times': array([ 9743, 10027, 10287, 10544, 10873]),\n",
       "               'APTTemplate': 'NircamCoron',\n",
       "               'PrimaryDitherType': array(['NONE', 'NONE', 'NONE', 'NONE', 'NONE'], dtype='<U4'),\n",
       "               'PrimaryDithers': array(['NONE', '2', '2', '1', '1'], dtype='<U4'),\n",
       "               'DitherSize': array(['NONE', 'NONE', 'NONE', 'NONE', 'NONE'], dtype='<U4'),\n",
       "               'SubpixelPositions': array(['NONE', 'NONE', 'NONE', '1', '1'], dtype='<U4'),\n",
       "               'SubpixelDitherType': array(['NONE', 'NONE', 'NONE', 'NONE', 'NONE'], dtype='<U17'),\n",
       "               'SmallGridDitherType': array(['NONE', 'NONE', 'NONE', 'NONE', 'NONE'], dtype='<U14'),\n",
       "               'DitherPatternType': array(['NONE', 'NONE', 'NONE', 'NONE', 'NONE'], dtype='<U4'),\n",
       "               'ImageDithers': array(['NONE', '2', '2', 'NONE', 'NONE'], dtype='<U4'),\n",
       "               'number_of_dithers': array([1, 2, 2, 1, 1]),\n",
       "               'rand_seed_init': 1234567,\n",
       "               'rand_seed_dith': 2369766076,\n",
       "               'rand_seed_noise': 1020888763,\n",
       "               'TargetID': array(['HD-42525', 'HD-42525', 'HD-42525', 'HD-42525', 'HD-42525'],\n",
       "                     dtype='<U8'),\n",
       "               'TargetRA': array(['06:06:9.3818', '06:06:9.3818', '06:06:9.3818', '06:06:9.3818',\n",
       "                      '06:06:9.3818'], dtype='<U13'),\n",
       "               'TargetDec': array(['-66:02:22.64', '-66:02:22.64', '-66:02:22.64', '-66:02:22.64',\n",
       "                      '-66:02:22.64'], dtype='<U12'),\n",
       "               'aperture': array(['NRCA4_TAMASKSWBS', 'NRCA4_FULL_TAMASKSWBS',\n",
       "                      'NRCA4_FULL_MASKSWB_F182M', 'NRCA4_FULL_MASKSWB_F182M',\n",
       "                      'NRCA4_FULL_MASKSWB_F210M'], dtype='<U24'),\n",
       "               'pri_dith': array([1, 1, 1, 1, 1]),\n",
       "               'sub_dith': array([1, 1, 1, 1, 1]),\n",
       "               'targ1': array([1, 1, 1, 1, 1]),\n",
       "               'targ2': array(['HD-42525', 'HD-42525', 'HD-42525', 'HD-42525', 'HD-42525'],\n",
       "                     dtype='<U8'),\n",
       "               'ra': array([91.53909, 91.53909, 91.53909, 91.53909, 91.53909]),\n",
       "               'dec': array([-66.03962, -66.03962, -66.03962, -66.03962, -66.03962]),\n",
       "               'basex': array([0., 0., 0., 0., 0.]),\n",
       "               'basey': array([0., 0., 0., 0., 0.]),\n",
       "               'dithx': array([0., 0., 0., 0., 0.]),\n",
       "               'dithy': array([0., 0., 0., 0., 0.]),\n",
       "               'v2': array([77.017, 77.017, 68.834, 68.834, 67.125]),\n",
       "               'v3': array([-413.105, -413.105, -405.336, -405.336, -405.331]),\n",
       "               'idlx': array([0., 0., 0., 0., 0.]),\n",
       "               'idly': array([0., 0., 0., 0., 0.]),\n",
       "               'obs_label': array(['MASKSWB, F182M -> F210M, 1-PT BAR',\n",
       "                      'MASKSWB, F182M -> F210M, 1-PT BAR',\n",
       "                      'MASKSWB, F182M -> F210M, 1-PT BAR',\n",
       "                      'MASKSWB, F182M -> F210M, 1-PT BAR',\n",
       "                      'MASKSWB, F182M -> F210M, 1-PT BAR'], dtype='<U33'),\n",
       "               'obs_id_info': array([{'program_number': '01075', 'observation_number': '003', 'visit_number': '001', 'visit_group': '02', 'sequence_id': '1', 'activity_id': '02', 'exposure_number': '00001', 'visit_id': '01075003001', 'obs_id': 'V01075003001P0000000002102'},\n",
       "                      {'program_number': '01075', 'observation_number': '003', 'visit_number': '001', 'visit_group': '03', 'sequence_id': '1', 'activity_id': '02', 'exposure_number': '00001', 'visit_id': '01075003001', 'obs_id': 'V01075003001P0000000003102'},\n",
       "                      {'program_number': '01075', 'observation_number': '003', 'visit_number': '001', 'visit_group': '03', 'sequence_id': '1', 'activity_id': '04', 'exposure_number': '00001', 'visit_id': '01075003001', 'obs_id': 'V01075003001P0000000003104'},\n",
       "                      {'program_number': '01075', 'observation_number': '003', 'visit_number': '001', 'visit_group': '03', 'sequence_id': '1', 'activity_id': '05', 'exposure_number': '00001', 'visit_id': '01075003001', 'obs_id': 'V01075003001P0000000003105'},\n",
       "                      {'program_number': '01075', 'observation_number': '003', 'visit_number': '001', 'visit_group': '03', 'sequence_id': '1', 'activity_id': '06', 'exposure_number': '00001', 'visit_id': '01075003001', 'obs_id': 'V01075003001P0000000003106'}],\n",
       "                     dtype=object),\n",
       "               'level': array(['TARGET', 'TARGET', 'TARGET', 'TARGET', 'FILTER'], dtype='<U9'),\n",
       "               'type': array(['T_ACQ', 'CONFIRM', 'CONFIRM', 'SCIENCE', 'SCIENCE'], dtype='<U7'),\n",
       "               'ddist': array([ 0.   ,  0.   , 11.284,  0.   ,  1.709]),\n",
       "               'ModuleAPT': array(['A', 'A', 'A', 'A', 'A'], dtype='<U1'),\n",
       "               'sw_filters': array(['F210M', 'F210M', 'F210M', 'F182M', 'F210M'], dtype='<U5'),\n",
       "               'sw_pupils': array(['WEDGELYOT', 'WEDGELYOT', 'WEDGELYOT', 'WEDGELYOT', 'WEDGELYOT'],\n",
       "                     dtype='<U9'),\n",
       "               'lw_filters': array(['NONE', 'NONE', 'NONE', 'NONE', 'NONE'], dtype='<U5'),\n",
       "               'lw_pupils': array(['n/a', 'n/a', 'n/a', 'n/a', 'n/a'], dtype='<U9'),\n",
       "               'coron_mask': array(['MASKSWB', 'MASKSWB', 'MASKSWB', 'MASKSWB', 'MASKSWB'], dtype='<U8'),\n",
       "               'mode': array(['coron', 'coron', 'coron', 'coron', 'coron'], dtype='<U5'),\n",
       "               'subarray_name': array(['SUBNDASWBL', 'FULL', 'FULL', 'FULL', 'FULL'], dtype='<U10'),\n",
       "               'readout': array(['DEEP2', 'RAPID', 'RAPID', 'RAPID', 'RAPID'], dtype='<U8'),\n",
       "               'nints': array(['1', '1', '1', '1', '1'], dtype='<U1'),\n",
       "               'ngroups': array(['33', '10', '10', '10', '10'], dtype='<U2'),\n",
       "               'noutputs': array(['NONE', 'NONE', 'NONE', 'NONE', 'NONE'], dtype='<U4'),\n",
       "               'detectors': array([['NRCA4'],\n",
       "                      ['NRCA4'],\n",
       "                      ['NRCA4'],\n",
       "                      ['NRCA4'],\n",
       "                      ['NRCA4']], dtype='<U5')}),\n",
       "             ('004:001',\n",
       "              {'obs_num': 4,\n",
       "               'visit_num': 1,\n",
       "               'visit_start': 11109,\n",
       "               'slew_duration': 169,\n",
       "               'visit_duration': 2692,\n",
       "               'exp_start_times': array([11824, 12056, 12316, 12550, 12698, 12846, 12994, 13142, 13290,\n",
       "                      13438, 13586, 13734]),\n",
       "               'APTTemplate': 'NircamCoron',\n",
       "               'PrimaryDitherType': array(['NONE', 'NONE', 'NONE', 'NONE', 'NONE', 'NONE', 'NONE', 'NONE',\n",
       "                      'NONE', 'NONE', 'NONE', 'NONE'], dtype='<U4'),\n",
       "               'PrimaryDithers': array(['NONE', '2', '2', '1', '1', '1', '1', '1', '1', '1', '1', '1'],\n",
       "                     dtype='<U4'),\n",
       "               'DitherSize': array(['NONE', 'NONE', 'NONE', 'NONE', 'NONE', 'NONE', 'NONE', 'NONE',\n",
       "                      'NONE', 'NONE', 'NONE', 'NONE'], dtype='<U4'),\n",
       "               'SubpixelPositions': array(['NONE', 'NONE', 'NONE', '9', '9', '9', '9', '9', '9', '9', '9',\n",
       "                      '9'], dtype='<U4'),\n",
       "               'SubpixelDitherType': array(['NONE', 'NONE', 'NONE', 'SMALL-GRID-DITHER', 'SMALL-GRID-DITHER',\n",
       "                      'SMALL-GRID-DITHER', 'SMALL-GRID-DITHER', 'SMALL-GRID-DITHER',\n",
       "                      'SMALL-GRID-DITHER', 'SMALL-GRID-DITHER', 'SMALL-GRID-DITHER',\n",
       "                      'SMALL-GRID-DITHER'], dtype='<U17'),\n",
       "               'SmallGridDitherType': array(['NONE', 'NONE', 'NONE', '9-POINT-CIRCLE', '9-POINT-CIRCLE',\n",
       "                      '9-POINT-CIRCLE', '9-POINT-CIRCLE', '9-POINT-CIRCLE',\n",
       "                      '9-POINT-CIRCLE', '9-POINT-CIRCLE', '9-POINT-CIRCLE',\n",
       "                      '9-POINT-CIRCLE'], dtype='<U14'),\n",
       "               'DitherPatternType': array(['NONE', 'NONE', 'NONE', 'NONE', 'NONE', 'NONE', 'NONE', 'NONE',\n",
       "                      'NONE', 'NONE', 'NONE', 'NONE'], dtype='<U4'),\n",
       "               'ImageDithers': array(['NONE', '2', '2', 'NONE', 'NONE', 'NONE', 'NONE', 'NONE', 'NONE',\n",
       "                      'NONE', 'NONE', 'NONE'], dtype='<U4'),\n",
       "               'number_of_dithers': array([1, 2, 2, 9, 9, 9, 9, 9, 9, 9, 9, 9]),\n",
       "               'rand_seed_init': 1234567,\n",
       "               'rand_seed_dith': 3506176408,\n",
       "               'rand_seed_noise': 3317523477,\n",
       "               'TargetID': array(['HD-42525', 'HD-42525', 'HD-42525', 'HD-42525', 'HD-42525',\n",
       "                      'HD-42525', 'HD-42525', 'HD-42525', 'HD-42525', 'HD-42525',\n",
       "                      'HD-42525', 'HD-42525'], dtype='<U8'),\n",
       "               'TargetRA': array(['06:06:9.3818', '06:06:9.3818', '06:06:9.3818', '06:06:9.3818',\n",
       "                      '06:06:9.3818', '06:06:9.3818', '06:06:9.3818', '06:06:9.3818',\n",
       "                      '06:06:9.3818', '06:06:9.3818', '06:06:9.3818', '06:06:9.3818'],\n",
       "                     dtype='<U13'),\n",
       "               'TargetDec': array(['-66:02:22.64', '-66:02:22.64', '-66:02:22.64', '-66:02:22.64',\n",
       "                      '-66:02:22.64', '-66:02:22.64', '-66:02:22.64', '-66:02:22.64',\n",
       "                      '-66:02:22.64', '-66:02:22.64', '-66:02:22.64', '-66:02:22.64'],\n",
       "                     dtype='<U12'),\n",
       "               'aperture': array(['NRCA5_TAMASK335R', 'NRCA5_FULL_TAMASK335R', 'NRCA5_FULL_MASK335R',\n",
       "                      'NRCA5_FULL_MASK335R', 'NRCA5_FULL_MASK335R',\n",
       "                      'NRCA5_FULL_MASK335R', 'NRCA5_FULL_MASK335R',\n",
       "                      'NRCA5_FULL_MASK335R', 'NRCA5_FULL_MASK335R',\n",
       "                      'NRCA5_FULL_MASK335R', 'NRCA5_FULL_MASK335R',\n",
       "                      'NRCA5_FULL_MASK335R'], dtype='<U24'),\n",
       "               'pri_dith': array([1, 1, 1, 1, 1, 1, 1, 1, 1, 1, 1, 1]),\n",
       "               'sub_dith': array([1, 1, 1, 1, 2, 3, 4, 5, 6, 7, 8, 9]),\n",
       "               'targ1': array([1, 1, 1, 1, 1, 1, 1, 1, 1, 1, 1, 1]),\n",
       "               'targ2': array(['HD-42525', 'HD-42525', 'HD-42525', 'HD-42525', 'HD-42525',\n",
       "                      'HD-42525', 'HD-42525', 'HD-42525', 'HD-42525', 'HD-42525',\n",
       "                      'HD-42525', 'HD-42525'], dtype='<U8'),\n",
       "               'ra': array([91.53909, 91.53909, 91.53909, 91.53909, 91.53909, 91.53909,\n",
       "                      91.53909, 91.53909, 91.53909, 91.53909, 91.53909, 91.53909]),\n",
       "               'dec': array([-66.03962, -66.03962, -66.03962, -66.03962, -66.03962, -66.03962,\n",
       "                      -66.03962, -66.03962, -66.03962, -66.03962, -66.03962, -66.03962]),\n",
       "               'basex': array([0., 0., 0., 0., 0., 0., 0., 0., 0., 0., 0., 0.]),\n",
       "               'basey': array([0., 0., 0., 0., 0., 0., 0., 0., 0., 0., 0., 0.]),\n",
       "               'dithx': array([ 0.   ,  0.   ,  0.   ,  0.   ,  0.   , -0.015, -0.02 , -0.015,\n",
       "                       0.   ,  0.015,  0.02 ,  0.015]),\n",
       "               'dithy': array([ 0.   ,  0.   ,  0.   ,  0.   ,  0.02 ,  0.015,  0.   , -0.015,\n",
       "                      -0.02 , -0.015,  0.   ,  0.015]),\n",
       "               'v2': array([117.061, 117.061, 107.11 , 107.11 , 107.11 , 107.125, 107.13 ,\n",
       "                      107.124, 107.109, 107.094, 107.09 , 107.095]),\n",
       "               'v3': array([-412.951, -412.951, -405.278, -405.278, -405.258, -405.263,\n",
       "                      -405.278, -405.293, -405.298, -405.293, -405.278, -405.263]),\n",
       "               'idlx': array([ 0.   ,  0.   ,  0.   ,  0.   ,  0.   , -0.015, -0.02 , -0.015,\n",
       "                       0.   ,  0.015,  0.02 ,  0.015]),\n",
       "               'idly': array([ 0.   ,  0.   ,  0.   ,  0.   ,  0.02 ,  0.015,  0.   , -0.015,\n",
       "                      -0.02 , -0.015,  0.   ,  0.015]),\n",
       "               'obs_label': array(['MASK335R, F335M, 9-PT CIRCLE', 'MASK335R, F335M, 9-PT CIRCLE',\n",
       "                      'MASK335R, F335M, 9-PT CIRCLE', 'MASK335R, F335M, 9-PT CIRCLE',\n",
       "                      'MASK335R, F335M, 9-PT CIRCLE', 'MASK335R, F335M, 9-PT CIRCLE',\n",
       "                      'MASK335R, F335M, 9-PT CIRCLE', 'MASK335R, F335M, 9-PT CIRCLE',\n",
       "                      'MASK335R, F335M, 9-PT CIRCLE', 'MASK335R, F335M, 9-PT CIRCLE',\n",
       "                      'MASK335R, F335M, 9-PT CIRCLE', 'MASK335R, F335M, 9-PT CIRCLE'],\n",
       "                     dtype='<U33'),\n",
       "               'obs_id_info': array([{'program_number': '01075', 'observation_number': '004', 'visit_number': '001', 'visit_group': '02', 'sequence_id': '1', 'activity_id': '02', 'exposure_number': '00001', 'visit_id': '01075004001', 'obs_id': 'V01075004001P0000000002102'},\n",
       "                      {'program_number': '01075', 'observation_number': '004', 'visit_number': '001', 'visit_group': '03', 'sequence_id': '1', 'activity_id': '02', 'exposure_number': '00001', 'visit_id': '01075004001', 'obs_id': 'V01075004001P0000000003102'},\n",
       "                      {'program_number': '01075', 'observation_number': '004', 'visit_number': '001', 'visit_group': '03', 'sequence_id': '1', 'activity_id': '04', 'exposure_number': '00001', 'visit_id': '01075004001', 'obs_id': 'V01075004001P0000000003104'},\n",
       "                      {'program_number': '01075', 'observation_number': '004', 'visit_number': '001', 'visit_group': '03', 'sequence_id': '1', 'activity_id': '05', 'exposure_number': '00001', 'visit_id': '01075004001', 'obs_id': 'V01075004001P0000000003105'},\n",
       "                      {'program_number': '01075', 'observation_number': '004', 'visit_number': '001', 'visit_group': '03', 'sequence_id': '1', 'activity_id': '05', 'exposure_number': '00002', 'visit_id': '01075004001', 'obs_id': 'V01075004001P0000000003105'},\n",
       "                      {'program_number': '01075', 'observation_number': '004', 'visit_number': '001', 'visit_group': '03', 'sequence_id': '1', 'activity_id': '05', 'exposure_number': '00003', 'visit_id': '01075004001', 'obs_id': 'V01075004001P0000000003105'},\n",
       "                      {'program_number': '01075', 'observation_number': '004', 'visit_number': '001', 'visit_group': '03', 'sequence_id': '1', 'activity_id': '05', 'exposure_number': '00004', 'visit_id': '01075004001', 'obs_id': 'V01075004001P0000000003105'},\n",
       "                      {'program_number': '01075', 'observation_number': '004', 'visit_number': '001', 'visit_group': '03', 'sequence_id': '1', 'activity_id': '05', 'exposure_number': '00005', 'visit_id': '01075004001', 'obs_id': 'V01075004001P0000000003105'},\n",
       "                      {'program_number': '01075', 'observation_number': '004', 'visit_number': '001', 'visit_group': '03', 'sequence_id': '1', 'activity_id': '05', 'exposure_number': '00006', 'visit_id': '01075004001', 'obs_id': 'V01075004001P0000000003105'},\n",
       "                      {'program_number': '01075', 'observation_number': '004', 'visit_number': '001', 'visit_group': '03', 'sequence_id': '1', 'activity_id': '05', 'exposure_number': '00007', 'visit_id': '01075004001', 'obs_id': 'V01075004001P0000000003105'},\n",
       "                      {'program_number': '01075', 'observation_number': '004', 'visit_number': '001', 'visit_group': '03', 'sequence_id': '1', 'activity_id': '05', 'exposure_number': '00008', 'visit_id': '01075004001', 'obs_id': 'V01075004001P0000000003105'},\n",
       "                      {'program_number': '01075', 'observation_number': '004', 'visit_number': '001', 'visit_group': '03', 'sequence_id': '1', 'activity_id': '05', 'exposure_number': '00009', 'visit_id': '01075004001', 'obs_id': 'V01075004001P0000000003105'}],\n",
       "                     dtype=object),\n",
       "               'level': array(['TARGET', 'TARGET', 'TARGET', 'TARGET', 'SUBDITHER', 'SUBDITHER',\n",
       "                      'SUBDITHER', 'SUBDITHER', 'SUBDITHER', 'SUBDITHER', 'SUBDITHER',\n",
       "                      'SUBDITHER'], dtype='<U9'),\n",
       "               'type': array(['T_ACQ', 'CONFIRM', 'CONFIRM', 'SCIENCE', 'SCIENCE', 'SCIENCE',\n",
       "                      'SCIENCE', 'SCIENCE', 'SCIENCE', 'SCIENCE', 'SCIENCE', 'SCIENCE'],\n",
       "                     dtype='<U7'),\n",
       "               'ddist': array([ 0.   ,  0.   , 12.567,  0.   ,  0.02 ,  0.016,  0.016,  0.016,\n",
       "                       0.016,  0.016,  0.016,  0.016]),\n",
       "               'ModuleAPT': array(['A', 'A', 'A', 'A', 'A', 'A', 'A', 'A', 'A', 'A', 'A', 'A'],\n",
       "                     dtype='<U1'),\n",
       "               'sw_filters': array(['NONE', 'NONE', 'NONE', 'NONE', 'NONE', 'NONE', 'NONE', 'NONE',\n",
       "                      'NONE', 'NONE', 'NONE', 'NONE'], dtype='<U5'),\n",
       "               'sw_pupils': array(['n/a', 'n/a', 'n/a', 'n/a', 'n/a', 'n/a', 'n/a', 'n/a', 'n/a',\n",
       "                      'n/a', 'n/a', 'n/a'], dtype='<U9'),\n",
       "               'lw_filters': array(['F335M', 'F335M', 'F335M', 'F335M', 'F335M', 'F335M', 'F335M',\n",
       "                      'F335M', 'F335M', 'F335M', 'F335M', 'F335M'], dtype='<U5'),\n",
       "               'lw_pupils': array(['CIRCLYOT', 'CIRCLYOT', 'CIRCLYOT', 'CIRCLYOT', 'CIRCLYOT',\n",
       "                      'CIRCLYOT', 'CIRCLYOT', 'CIRCLYOT', 'CIRCLYOT', 'CIRCLYOT',\n",
       "                      'CIRCLYOT', 'CIRCLYOT'], dtype='<U9'),\n",
       "               'coron_mask': array(['MASK335R', 'MASK335R', 'MASK335R', 'MASK335R', 'MASK335R',\n",
       "                      'MASK335R', 'MASK335R', 'MASK335R', 'MASK335R', 'MASK335R',\n",
       "                      'MASK335R', 'MASK335R'], dtype='<U8'),\n",
       "               'mode': array(['coron', 'coron', 'coron', 'coron', 'coron', 'coron', 'coron',\n",
       "                      'coron', 'coron', 'coron', 'coron', 'coron'], dtype='<U5'),\n",
       "               'subarray_name': array(['SUBNDA335R', 'FULL', 'FULL', 'FULL', 'FULL', 'FULL', 'FULL',\n",
       "                      'FULL', 'FULL', 'FULL', 'FULL', 'FULL'], dtype='<U10'),\n",
       "               'readout': array(['DEEP2', 'RAPID', 'RAPID', 'RAPID', 'RAPID', 'RAPID', 'RAPID',\n",
       "                      'RAPID', 'RAPID', 'RAPID', 'RAPID', 'RAPID'], dtype='<U8'),\n",
       "               'nints': array(['1', '1', '1', '1', '1', '1', '1', '1', '1', '1', '1', '1'],\n",
       "                     dtype='<U1'),\n",
       "               'ngroups': array(['65', '10', '10', '10', '10', '10', '10', '10', '10', '10', '10',\n",
       "                      '10'], dtype='<U2'),\n",
       "               'noutputs': array(['NONE', 'NONE', 'NONE', 'NONE', 'NONE', 'NONE', 'NONE', 'NONE',\n",
       "                      'NONE', 'NONE', 'NONE', 'NONE'], dtype='<U4'),\n",
       "               'detectors': array([['NRCA5'],\n",
       "                      ['NRCA5'],\n",
       "                      ['NRCA5'],\n",
       "                      ['NRCA5'],\n",
       "                      ['NRCA5'],\n",
       "                      ['NRCA5'],\n",
       "                      ['NRCA5'],\n",
       "                      ['NRCA5'],\n",
       "                      ['NRCA5'],\n",
       "                      ['NRCA5'],\n",
       "                      ['NRCA5'],\n",
       "                      ['NRCA5']], dtype='<U5')}),\n",
       "             ('005:001',\n",
       "              {'obs_num': 5,\n",
       "               'visit_num': 1,\n",
       "               'visit_start': 13970,\n",
       "               'slew_duration': 181,\n",
       "               'visit_duration': 3021,\n",
       "               'exp_start_times': array([14697, 14929, 15189, 15423, 15571, 15719, 15867, 16015, 16344,\n",
       "                      16492, 16640, 16788, 16936]),\n",
       "               'APTTemplate': 'NircamCoron',\n",
       "               'PrimaryDitherType': array(['NONE', 'NONE', 'NONE', 'NONE', 'NONE', 'NONE', 'NONE', 'NONE',\n",
       "                      'NONE', 'NONE', 'NONE', 'NONE', 'NONE'], dtype='<U4'),\n",
       "               'PrimaryDithers': array(['NONE', '2', '2', '1', '1', '1', '1', '1', '1', '1', '1', '1', '1'],\n",
       "                     dtype='<U4'),\n",
       "               'DitherSize': array(['NONE', 'NONE', 'NONE', 'NONE', 'NONE', 'NONE', 'NONE', 'NONE',\n",
       "                      'NONE', 'NONE', 'NONE', 'NONE', 'NONE'], dtype='<U4'),\n",
       "               'SubpixelPositions': array(['NONE', 'NONE', 'NONE', '5', '5', '5', '5', '5', '5', '5', '5',\n",
       "                      '5', '5'], dtype='<U4'),\n",
       "               'SubpixelDitherType': array(['NONE', 'NONE', 'NONE', 'SMALL-GRID-DITHER', 'SMALL-GRID-DITHER',\n",
       "                      'SMALL-GRID-DITHER', 'SMALL-GRID-DITHER', 'SMALL-GRID-DITHER',\n",
       "                      'SMALL-GRID-DITHER', 'SMALL-GRID-DITHER', 'SMALL-GRID-DITHER',\n",
       "                      'SMALL-GRID-DITHER', 'SMALL-GRID-DITHER'], dtype='<U17'),\n",
       "               'SmallGridDitherType': array(['NONE', 'NONE', 'NONE', '5-POINT-BAR', '5-POINT-BAR',\n",
       "                      '5-POINT-BAR', '5-POINT-BAR', '5-POINT-BAR', '5-POINT-BAR',\n",
       "                      '5-POINT-BAR', '5-POINT-BAR', '5-POINT-BAR', '5-POINT-BAR'],\n",
       "                     dtype='<U14'),\n",
       "               'DitherPatternType': array(['NONE', 'NONE', 'NONE', 'NONE', 'NONE', 'NONE', 'NONE', 'NONE',\n",
       "                      'NONE', 'NONE', 'NONE', 'NONE', 'NONE'], dtype='<U4'),\n",
       "               'ImageDithers': array(['NONE', '2', '2', 'NONE', 'NONE', 'NONE', 'NONE', 'NONE', 'NONE',\n",
       "                      'NONE', 'NONE', 'NONE', 'NONE'], dtype='<U4'),\n",
       "               'number_of_dithers': array([1, 2, 2, 5, 5, 5, 5, 5, 5, 5, 5, 5, 5]),\n",
       "               'rand_seed_init': 1234567,\n",
       "               'rand_seed_dith': 2086019385,\n",
       "               'rand_seed_noise': 1293991385,\n",
       "               'TargetID': array(['HD-42525', 'HD-42525', 'HD-42525', 'HD-42525', 'HD-42525',\n",
       "                      'HD-42525', 'HD-42525', 'HD-42525', 'HD-42525', 'HD-42525',\n",
       "                      'HD-42525', 'HD-42525', 'HD-42525'], dtype='<U8'),\n",
       "               'TargetRA': array(['06:06:9.3818', '06:06:9.3818', '06:06:9.3818', '06:06:9.3818',\n",
       "                      '06:06:9.3818', '06:06:9.3818', '06:06:9.3818', '06:06:9.3818',\n",
       "                      '06:06:9.3818', '06:06:9.3818', '06:06:9.3818', '06:06:9.3818',\n",
       "                      '06:06:9.3818'], dtype='<U13'),\n",
       "               'TargetDec': array(['-66:02:22.64', '-66:02:22.64', '-66:02:22.64', '-66:02:22.64',\n",
       "                      '-66:02:22.64', '-66:02:22.64', '-66:02:22.64', '-66:02:22.64',\n",
       "                      '-66:02:22.64', '-66:02:22.64', '-66:02:22.64', '-66:02:22.64',\n",
       "                      '-66:02:22.64'], dtype='<U12'),\n",
       "               'aperture': array(['NRCA5_TAMASKLWB', 'NRCA5_FULL_TAMASKLWB',\n",
       "                      'NRCA5_FULL_MASKLWB_F335M', 'NRCA5_FULL_MASKLWB_F335M',\n",
       "                      'NRCA5_FULL_MASKLWB_F335M', 'NRCA5_FULL_MASKLWB_F335M',\n",
       "                      'NRCA5_FULL_MASKLWB_F335M', 'NRCA5_FULL_MASKLWB_F335M',\n",
       "                      'NRCA5_FULL_MASKLWB_F480M', 'NRCA5_FULL_MASKLWB_F480M',\n",
       "                      'NRCA5_FULL_MASKLWB_F480M', 'NRCA5_FULL_MASKLWB_F480M',\n",
       "                      'NRCA5_FULL_MASKLWB_F480M'], dtype='<U24'),\n",
       "               'pri_dith': array([1, 1, 1, 1, 1, 1, 1, 1, 1, 1, 1, 1, 1]),\n",
       "               'sub_dith': array([1, 1, 1, 1, 2, 3, 4, 5, 1, 2, 3, 4, 5]),\n",
       "               'targ1': array([1, 1, 1, 1, 1, 1, 1, 1, 1, 1, 1, 1, 1]),\n",
       "               'targ2': array(['HD-42525', 'HD-42525', 'HD-42525', 'HD-42525', 'HD-42525',\n",
       "                      'HD-42525', 'HD-42525', 'HD-42525', 'HD-42525', 'HD-42525',\n",
       "                      'HD-42525', 'HD-42525', 'HD-42525'], dtype='<U8'),\n",
       "               'ra': array([91.53909, 91.53909, 91.53909, 91.53909, 91.53909, 91.53909,\n",
       "                      91.53909, 91.53909, 91.53909, 91.53909, 91.53909, 91.53909,\n",
       "                      91.53909]),\n",
       "               'dec': array([-66.03962, -66.03962, -66.03962, -66.03962, -66.03962, -66.03962,\n",
       "                      -66.03962, -66.03962, -66.03962, -66.03962, -66.03962, -66.03962,\n",
       "                      -66.03962]),\n",
       "               'basex': array([0., 0., 0., 0., 0., 0., 0., 0., 0., 0., 0., 0., 0.]),\n",
       "               'basey': array([0., 0., 0., 0., 0., 0., 0., 0., 0., 0., 0., 0., 0.]),\n",
       "               'dithx': array([0., 0., 0., 0., 0., 0., 0., 0., 0., 0., 0., 0., 0.]),\n",
       "               'dithy': array([ 0.  ,  0.  ,  0.  ,  0.  ,  0.02,  0.01, -0.01, -0.02,  0.  ,\n",
       "                       0.02,  0.01, -0.01, -0.02]),\n",
       "               'v2': array([39.297, 39.297, 43.119, 43.119, 43.119, 43.119, 43.119, 43.119,\n",
       "                      47.848, 47.848, 47.848, 47.848, 47.848]),\n",
       "               'v3': array([-412.786, -412.786, -404.953, -404.953, -404.933, -404.943,\n",
       "                      -404.963, -404.973, -405.02 , -405.   , -405.01 , -405.03 ,\n",
       "                      -405.04 ]),\n",
       "               'idlx': array([0., 0., 0., 0., 0., 0., 0., 0., 0., 0., 0., 0., 0.]),\n",
       "               'idly': array([ 0.  ,  0.  ,  0.  ,  0.  ,  0.02,  0.01, -0.01, -0.02,  0.  ,\n",
       "                       0.02,  0.01, -0.01, -0.02]),\n",
       "               'obs_label': array(['MASKLWB, F335M -> F480M, 5-PT BAR',\n",
       "                      'MASKLWB, F335M -> F480M, 5-PT BAR',\n",
       "                      'MASKLWB, F335M -> F480M, 5-PT BAR',\n",
       "                      'MASKLWB, F335M -> F480M, 5-PT BAR',\n",
       "                      'MASKLWB, F335M -> F480M, 5-PT BAR',\n",
       "                      'MASKLWB, F335M -> F480M, 5-PT BAR',\n",
       "                      'MASKLWB, F335M -> F480M, 5-PT BAR',\n",
       "                      'MASKLWB, F335M -> F480M, 5-PT BAR',\n",
       "                      'MASKLWB, F335M -> F480M, 5-PT BAR',\n",
       "                      'MASKLWB, F335M -> F480M, 5-PT BAR',\n",
       "                      'MASKLWB, F335M -> F480M, 5-PT BAR',\n",
       "                      'MASKLWB, F335M -> F480M, 5-PT BAR',\n",
       "                      'MASKLWB, F335M -> F480M, 5-PT BAR'], dtype='<U33'),\n",
       "               'obs_id_info': array([{'program_number': '01075', 'observation_number': '005', 'visit_number': '001', 'visit_group': '02', 'sequence_id': '1', 'activity_id': '02', 'exposure_number': '00001', 'visit_id': '01075005001', 'obs_id': 'V01075005001P0000000002102'},\n",
       "                      {'program_number': '01075', 'observation_number': '005', 'visit_number': '001', 'visit_group': '03', 'sequence_id': '1', 'activity_id': '02', 'exposure_number': '00001', 'visit_id': '01075005001', 'obs_id': 'V01075005001P0000000003102'},\n",
       "                      {'program_number': '01075', 'observation_number': '005', 'visit_number': '001', 'visit_group': '03', 'sequence_id': '1', 'activity_id': '04', 'exposure_number': '00001', 'visit_id': '01075005001', 'obs_id': 'V01075005001P0000000003104'},\n",
       "                      {'program_number': '01075', 'observation_number': '005', 'visit_number': '001', 'visit_group': '03', 'sequence_id': '1', 'activity_id': '05', 'exposure_number': '00001', 'visit_id': '01075005001', 'obs_id': 'V01075005001P0000000003105'},\n",
       "                      {'program_number': '01075', 'observation_number': '005', 'visit_number': '001', 'visit_group': '03', 'sequence_id': '1', 'activity_id': '05', 'exposure_number': '00002', 'visit_id': '01075005001', 'obs_id': 'V01075005001P0000000003105'},\n",
       "                      {'program_number': '01075', 'observation_number': '005', 'visit_number': '001', 'visit_group': '03', 'sequence_id': '1', 'activity_id': '05', 'exposure_number': '00003', 'visit_id': '01075005001', 'obs_id': 'V01075005001P0000000003105'},\n",
       "                      {'program_number': '01075', 'observation_number': '005', 'visit_number': '001', 'visit_group': '03', 'sequence_id': '1', 'activity_id': '05', 'exposure_number': '00004', 'visit_id': '01075005001', 'obs_id': 'V01075005001P0000000003105'},\n",
       "                      {'program_number': '01075', 'observation_number': '005', 'visit_number': '001', 'visit_group': '03', 'sequence_id': '1', 'activity_id': '05', 'exposure_number': '00005', 'visit_id': '01075005001', 'obs_id': 'V01075005001P0000000003105'},\n",
       "                      {'program_number': '01075', 'observation_number': '005', 'visit_number': '001', 'visit_group': '03', 'sequence_id': '1', 'activity_id': '06', 'exposure_number': '00001', 'visit_id': '01075005001', 'obs_id': 'V01075005001P0000000003106'},\n",
       "                      {'program_number': '01075', 'observation_number': '005', 'visit_number': '001', 'visit_group': '03', 'sequence_id': '1', 'activity_id': '06', 'exposure_number': '00002', 'visit_id': '01075005001', 'obs_id': 'V01075005001P0000000003106'},\n",
       "                      {'program_number': '01075', 'observation_number': '005', 'visit_number': '001', 'visit_group': '03', 'sequence_id': '1', 'activity_id': '06', 'exposure_number': '00003', 'visit_id': '01075005001', 'obs_id': 'V01075005001P0000000003106'},\n",
       "                      {'program_number': '01075', 'observation_number': '005', 'visit_number': '001', 'visit_group': '03', 'sequence_id': '1', 'activity_id': '06', 'exposure_number': '00004', 'visit_id': '01075005001', 'obs_id': 'V01075005001P0000000003106'},\n",
       "                      {'program_number': '01075', 'observation_number': '005', 'visit_number': '001', 'visit_group': '03', 'sequence_id': '1', 'activity_id': '06', 'exposure_number': '00005', 'visit_id': '01075005001', 'obs_id': 'V01075005001P0000000003106'}],\n",
       "                     dtype=object),\n",
       "               'level': array(['TARGET', 'TARGET', 'TARGET', 'TARGET', 'SUBDITHER', 'SUBDITHER',\n",
       "                      'SUBDITHER', 'SUBDITHER', 'FILTER', 'SUBDITHER', 'SUBDITHER',\n",
       "                      'SUBDITHER', 'SUBDITHER'], dtype='<U9'),\n",
       "               'type': array(['T_ACQ', 'CONFIRM', 'CONFIRM', 'SCIENCE', 'SCIENCE', 'SCIENCE',\n",
       "                      'SCIENCE', 'SCIENCE', 'SCIENCE', 'SCIENCE', 'SCIENCE', 'SCIENCE',\n",
       "                      'SCIENCE'], dtype='<U7'),\n",
       "               'ddist': array([0.   , 0.   , 8.716, 0.   , 0.02 , 0.01 , 0.02 , 0.01 , 4.729,\n",
       "                      0.02 , 0.01 , 0.02 , 0.01 ]),\n",
       "               'ModuleAPT': array(['A', 'A', 'A', 'A', 'A', 'A', 'A', 'A', 'A', 'A', 'A', 'A', 'A'],\n",
       "                     dtype='<U1'),\n",
       "               'sw_filters': array(['NONE', 'NONE', 'NONE', 'NONE', 'NONE', 'NONE', 'NONE', 'NONE',\n",
       "                      'NONE', 'NONE', 'NONE', 'NONE', 'NONE'], dtype='<U5'),\n",
       "               'sw_pupils': array(['n/a', 'n/a', 'n/a', 'n/a', 'n/a', 'n/a', 'n/a', 'n/a', 'n/a',\n",
       "                      'n/a', 'n/a', 'n/a', 'n/a'], dtype='<U9'),\n",
       "               'lw_filters': array(['F335M', 'F335M', 'F335M', 'F335M', 'F335M', 'F335M', 'F335M',\n",
       "                      'F335M', 'F480M', 'F480M', 'F480M', 'F480M', 'F480M'], dtype='<U5'),\n",
       "               'lw_pupils': array(['WEDGELYOT', 'WEDGELYOT', 'WEDGELYOT', 'WEDGELYOT', 'WEDGELYOT',\n",
       "                      'WEDGELYOT', 'WEDGELYOT', 'WEDGELYOT', 'WEDGELYOT', 'WEDGELYOT',\n",
       "                      'WEDGELYOT', 'WEDGELYOT', 'WEDGELYOT'], dtype='<U9'),\n",
       "               'coron_mask': array(['MASKLWB', 'MASKLWB', 'MASKLWB', 'MASKLWB', 'MASKLWB', 'MASKLWB',\n",
       "                      'MASKLWB', 'MASKLWB', 'MASKLWB', 'MASKLWB', 'MASKLWB', 'MASKLWB',\n",
       "                      'MASKLWB'], dtype='<U8'),\n",
       "               'mode': array(['coron', 'coron', 'coron', 'coron', 'coron', 'coron', 'coron',\n",
       "                      'coron', 'coron', 'coron', 'coron', 'coron', 'coron'], dtype='<U5'),\n",
       "               'subarray_name': array(['SUBNDALWBS', 'FULL', 'FULL', 'FULL', 'FULL', 'FULL', 'FULL',\n",
       "                      'FULL', 'FULL', 'FULL', 'FULL', 'FULL', 'FULL'], dtype='<U10'),\n",
       "               'readout': array(['DEEP2', 'RAPID', 'RAPID', 'RAPID', 'RAPID', 'RAPID', 'RAPID',\n",
       "                      'RAPID', 'RAPID', 'RAPID', 'RAPID', 'RAPID', 'RAPID'], dtype='<U8'),\n",
       "               'nints': array(['1', '1', '1', '1', '1', '1', '1', '1', '1', '1', '1', '1', '1'],\n",
       "                     dtype='<U1'),\n",
       "               'ngroups': array(['65', '10', '10', '10', '10', '10', '10', '10', '10', '10', '10',\n",
       "                      '10', '10'], dtype='<U2'),\n",
       "               'noutputs': array(['NONE', 'NONE', 'NONE', 'NONE', 'NONE', 'NONE', 'NONE', 'NONE',\n",
       "                      'NONE', 'NONE', 'NONE', 'NONE', 'NONE'], dtype='<U4'),\n",
       "               'detectors': array([['NRCA5'],\n",
       "                      ['NRCA5'],\n",
       "                      ['NRCA5'],\n",
       "                      ['NRCA5'],\n",
       "                      ['NRCA5'],\n",
       "                      ['NRCA5'],\n",
       "                      ['NRCA5'],\n",
       "                      ['NRCA5'],\n",
       "                      ['NRCA5'],\n",
       "                      ['NRCA5'],\n",
       "                      ['NRCA5'],\n",
       "                      ['NRCA5'],\n",
       "                      ['NRCA5']], dtype='<U5')}),\n",
       "             ('006:001',\n",
       "              {'obs_num': 6,\n",
       "               'visit_num': 1,\n",
       "               'visit_start': 17172,\n",
       "               'slew_duration': 51,\n",
       "               'visit_duration': 1860,\n",
       "               'exp_start_times': array([17769, 18001, 18261, 18518, 18847]),\n",
       "               'APTTemplate': 'NircamCoron',\n",
       "               'PrimaryDitherType': array(['NONE', 'NONE', 'NONE', 'NONE', 'NONE'], dtype='<U4'),\n",
       "               'PrimaryDithers': array(['NONE', '2', '2', '1', '1'], dtype='<U4'),\n",
       "               'DitherSize': array(['NONE', 'NONE', 'NONE', 'NONE', 'NONE'], dtype='<U4'),\n",
       "               'SubpixelPositions': array(['NONE', 'NONE', 'NONE', '1', '1'], dtype='<U4'),\n",
       "               'SubpixelDitherType': array(['NONE', 'NONE', 'NONE', 'NONE', 'NONE'], dtype='<U17'),\n",
       "               'SmallGridDitherType': array(['NONE', 'NONE', 'NONE', 'NONE', 'NONE'], dtype='<U14'),\n",
       "               'DitherPatternType': array(['NONE', 'NONE', 'NONE', 'NONE', 'NONE'], dtype='<U4'),\n",
       "               'ImageDithers': array(['NONE', '2', '2', 'NONE', 'NONE'], dtype='<U4'),\n",
       "               'number_of_dithers': array([1, 2, 2, 1, 1]),\n",
       "               'rand_seed_init': 1234567,\n",
       "               'rand_seed_dith': 3592491091,\n",
       "               'rand_seed_noise': 3565975077,\n",
       "               'TargetID': array(['HD-42525', 'HD-42525', 'HD-42525', 'HD-42525', 'HD-42525'],\n",
       "                     dtype='<U8'),\n",
       "               'TargetRA': array(['06:06:9.3818', '06:06:9.3818', '06:06:9.3818', '06:06:9.3818',\n",
       "                      '06:06:9.3818'], dtype='<U13'),\n",
       "               'TargetDec': array(['-66:02:22.64', '-66:02:22.64', '-66:02:22.64', '-66:02:22.64',\n",
       "                      '-66:02:22.64'], dtype='<U12'),\n",
       "               'aperture': array(['NRCA5_TAMASKLWBL', 'NRCA5_FULL_TAMASKLWBL',\n",
       "                      'NRCA5_FULL_MASKLWB_F480M', 'NRCA5_FULL_MASKLWB_F480M',\n",
       "                      'NRCA5_FULL_MASKLWB_F335M'], dtype='<U24'),\n",
       "               'pri_dith': array([1, 1, 1, 1, 1]),\n",
       "               'sub_dith': array([1, 1, 1, 1, 1]),\n",
       "               'targ1': array([1, 1, 1, 1, 1]),\n",
       "               'targ2': array(['HD-42525', 'HD-42525', 'HD-42525', 'HD-42525', 'HD-42525'],\n",
       "                     dtype='<U8'),\n",
       "               'ra': array([91.53909, 91.53909, 91.53909, 91.53909, 91.53909]),\n",
       "               'dec': array([-66.03962, -66.03962, -66.03962, -66.03962, -66.03962]),\n",
       "               'basex': array([0., 0., 0., 0., 0.]),\n",
       "               'basey': array([0., 0., 0., 0., 0.]),\n",
       "               'dithx': array([0., 0., 0., 0., 0.]),\n",
       "               'dithy': array([0., 0., 0., 0., 0.]),\n",
       "               'v2': array([56.829, 56.829, 47.848, 47.848, 43.119]),\n",
       "               'v3': array([-412.942, -412.942, -405.02 , -405.02 , -404.953]),\n",
       "               'idlx': array([0., 0., 0., 0., 0.]),\n",
       "               'idly': array([0., 0., 0., 0., 0.]),\n",
       "               'obs_label': array(['MASKLWB, F480M -> F335M, 1-PT BAR',\n",
       "                      'MASKLWB, F480M -> F335M, 1-PT BAR',\n",
       "                      'MASKLWB, F480M -> F335M, 1-PT BAR',\n",
       "                      'MASKLWB, F480M -> F335M, 1-PT BAR',\n",
       "                      'MASKLWB, F480M -> F335M, 1-PT BAR'], dtype='<U33'),\n",
       "               'obs_id_info': array([{'program_number': '01075', 'observation_number': '006', 'visit_number': '001', 'visit_group': '02', 'sequence_id': '1', 'activity_id': '02', 'exposure_number': '00001', 'visit_id': '01075006001', 'obs_id': 'V01075006001P0000000002102'},\n",
       "                      {'program_number': '01075', 'observation_number': '006', 'visit_number': '001', 'visit_group': '03', 'sequence_id': '1', 'activity_id': '02', 'exposure_number': '00001', 'visit_id': '01075006001', 'obs_id': 'V01075006001P0000000003102'},\n",
       "                      {'program_number': '01075', 'observation_number': '006', 'visit_number': '001', 'visit_group': '03', 'sequence_id': '1', 'activity_id': '04', 'exposure_number': '00001', 'visit_id': '01075006001', 'obs_id': 'V01075006001P0000000003104'},\n",
       "                      {'program_number': '01075', 'observation_number': '006', 'visit_number': '001', 'visit_group': '03', 'sequence_id': '1', 'activity_id': '05', 'exposure_number': '00001', 'visit_id': '01075006001', 'obs_id': 'V01075006001P0000000003105'},\n",
       "                      {'program_number': '01075', 'observation_number': '006', 'visit_number': '001', 'visit_group': '03', 'sequence_id': '1', 'activity_id': '06', 'exposure_number': '00001', 'visit_id': '01075006001', 'obs_id': 'V01075006001P0000000003106'}],\n",
       "                     dtype=object),\n",
       "               'level': array(['TARGET', 'TARGET', 'TARGET', 'TARGET', 'FILTER'], dtype='<U9'),\n",
       "               'type': array(['T_ACQ', 'CONFIRM', 'CONFIRM', 'SCIENCE', 'SCIENCE'], dtype='<U7'),\n",
       "               'ddist': array([ 0.   ,  0.   , 11.976,  0.   ,  4.729]),\n",
       "               'ModuleAPT': array(['A', 'A', 'A', 'A', 'A'], dtype='<U1'),\n",
       "               'sw_filters': array(['NONE', 'NONE', 'NONE', 'NONE', 'NONE'], dtype='<U5'),\n",
       "               'sw_pupils': array(['n/a', 'n/a', 'n/a', 'n/a', 'n/a'], dtype='<U9'),\n",
       "               'lw_filters': array(['F335M', 'F335M', 'F335M', 'F480M', 'F335M'], dtype='<U5'),\n",
       "               'lw_pupils': array(['WEDGELYOT', 'WEDGELYOT', 'WEDGELYOT', 'WEDGELYOT', 'WEDGELYOT'],\n",
       "                     dtype='<U9'),\n",
       "               'coron_mask': array(['MASKLWB', 'MASKLWB', 'MASKLWB', 'MASKLWB', 'MASKLWB'], dtype='<U8'),\n",
       "               'mode': array(['coron', 'coron', 'coron', 'coron', 'coron'], dtype='<U5'),\n",
       "               'subarray_name': array(['SUBNDALWBS', 'FULL', 'FULL', 'FULL', 'FULL'], dtype='<U10'),\n",
       "               'readout': array(['DEEP2', 'RAPID', 'RAPID', 'RAPID', 'RAPID'], dtype='<U8'),\n",
       "               'nints': array(['1', '1', '1', '1', '1'], dtype='<U1'),\n",
       "               'ngroups': array(['65', '10', '10', '10', '10'], dtype='<U2'),\n",
       "               'noutputs': array(['NONE', 'NONE', 'NONE', 'NONE', 'NONE'], dtype='<U4'),\n",
       "               'detectors': array([['NRCA5'],\n",
       "                      ['NRCA5'],\n",
       "                      ['NRCA5'],\n",
       "                      ['NRCA5'],\n",
       "                      ['NRCA5']], dtype='<U5')}),\n",
       "             ('007:001',\n",
       "              {'obs_num': 7,\n",
       "               'visit_num': 1,\n",
       "               'visit_start': 19083,\n",
       "               'slew_duration': 171,\n",
       "               'visit_duration': 2715,\n",
       "               'exp_start_times': array([19800, 20032, 20292, 20549, 20697, 20845, 20993, 21141, 21289,\n",
       "                      21437, 21585, 21733]),\n",
       "               'APTTemplate': 'NircamCoron',\n",
       "               'PrimaryDitherType': array(['NONE', 'NONE', 'NONE', 'NONE', 'NONE', 'NONE', 'NONE', 'NONE',\n",
       "                      'NONE', 'NONE', 'NONE', 'NONE'], dtype='<U4'),\n",
       "               'PrimaryDithers': array(['NONE', '2', '2', '1', '1', '1', '1', '1', '1', '1', '1', '1'],\n",
       "                     dtype='<U4'),\n",
       "               'DitherSize': array(['NONE', 'NONE', 'NONE', 'NONE', 'NONE', 'NONE', 'NONE', 'NONE',\n",
       "                      'NONE', 'NONE', 'NONE', 'NONE'], dtype='<U4'),\n",
       "               'SubpixelPositions': array(['NONE', 'NONE', 'NONE', '9', '9', '9', '9', '9', '9', '9', '9',\n",
       "                      '9'], dtype='<U4'),\n",
       "               'SubpixelDitherType': array(['NONE', 'NONE', 'NONE', 'SMALL-GRID-DITHER', 'SMALL-GRID-DITHER',\n",
       "                      'SMALL-GRID-DITHER', 'SMALL-GRID-DITHER', 'SMALL-GRID-DITHER',\n",
       "                      'SMALL-GRID-DITHER', 'SMALL-GRID-DITHER', 'SMALL-GRID-DITHER',\n",
       "                      'SMALL-GRID-DITHER'], dtype='<U17'),\n",
       "               'SmallGridDitherType': array(['NONE', 'NONE', 'NONE', '9-POINT-CIRCLE', '9-POINT-CIRCLE',\n",
       "                      '9-POINT-CIRCLE', '9-POINT-CIRCLE', '9-POINT-CIRCLE',\n",
       "                      '9-POINT-CIRCLE', '9-POINT-CIRCLE', '9-POINT-CIRCLE',\n",
       "                      '9-POINT-CIRCLE'], dtype='<U14'),\n",
       "               'DitherPatternType': array(['NONE', 'NONE', 'NONE', 'NONE', 'NONE', 'NONE', 'NONE', 'NONE',\n",
       "                      'NONE', 'NONE', 'NONE', 'NONE'], dtype='<U4'),\n",
       "               'ImageDithers': array(['NONE', '2', '2', 'NONE', 'NONE', 'NONE', 'NONE', 'NONE', 'NONE',\n",
       "                      'NONE', 'NONE', 'NONE'], dtype='<U4'),\n",
       "               'number_of_dithers': array([1, 2, 2, 9, 9, 9, 9, 9, 9, 9, 9, 9]),\n",
       "               'rand_seed_init': 1234567,\n",
       "               'rand_seed_dith': 353800371,\n",
       "               'rand_seed_noise': 513639307,\n",
       "               'TargetID': array(['HD-42525', 'HD-42525', 'HD-42525', 'HD-42525', 'HD-42525',\n",
       "                      'HD-42525', 'HD-42525', 'HD-42525', 'HD-42525', 'HD-42525',\n",
       "                      'HD-42525', 'HD-42525'], dtype='<U8'),\n",
       "               'TargetRA': array(['06:06:9.3818', '06:06:9.3818', '06:06:9.3818', '06:06:9.3818',\n",
       "                      '06:06:9.3818', '06:06:9.3818', '06:06:9.3818', '06:06:9.3818',\n",
       "                      '06:06:9.3818', '06:06:9.3818', '06:06:9.3818', '06:06:9.3818'],\n",
       "                     dtype='<U13'),\n",
       "               'TargetDec': array(['-66:02:22.64', '-66:02:22.64', '-66:02:22.64', '-66:02:22.64',\n",
       "                      '-66:02:22.64', '-66:02:22.64', '-66:02:22.64', '-66:02:22.64',\n",
       "                      '-66:02:22.64', '-66:02:22.64', '-66:02:22.64', '-66:02:22.64'],\n",
       "                     dtype='<U12'),\n",
       "               'aperture': array(['NRCA5_TAMASK430R', 'NRCA5_FULL_TAMASK430R', 'NRCA5_FULL_MASK430R',\n",
       "                      'NRCA5_FULL_MASK430R', 'NRCA5_FULL_MASK430R',\n",
       "                      'NRCA5_FULL_MASK430R', 'NRCA5_FULL_MASK430R',\n",
       "                      'NRCA5_FULL_MASK430R', 'NRCA5_FULL_MASK430R',\n",
       "                      'NRCA5_FULL_MASK430R', 'NRCA5_FULL_MASK430R',\n",
       "                      'NRCA5_FULL_MASK430R'], dtype='<U24'),\n",
       "               'pri_dith': array([1, 1, 1, 1, 1, 1, 1, 1, 1, 1, 1, 1]),\n",
       "               'sub_dith': array([1, 1, 1, 1, 2, 3, 4, 5, 6, 7, 8, 9]),\n",
       "               'targ1': array([1, 1, 1, 1, 1, 1, 1, 1, 1, 1, 1, 1]),\n",
       "               'targ2': array(['HD-42525', 'HD-42525', 'HD-42525', 'HD-42525', 'HD-42525',\n",
       "                      'HD-42525', 'HD-42525', 'HD-42525', 'HD-42525', 'HD-42525',\n",
       "                      'HD-42525', 'HD-42525'], dtype='<U8'),\n",
       "               'ra': array([91.53909, 91.53909, 91.53909, 91.53909, 91.53909, 91.53909,\n",
       "                      91.53909, 91.53909, 91.53909, 91.53909, 91.53909, 91.53909]),\n",
       "               'dec': array([-66.03962, -66.03962, -66.03962, -66.03962, -66.03962, -66.03962,\n",
       "                      -66.03962, -66.03962, -66.03962, -66.03962, -66.03962, -66.03962]),\n",
       "               'basex': array([0., 0., 0., 0., 0., 0., 0., 0., 0., 0., 0., 0.]),\n",
       "               'basey': array([0., 0., 0., 0., 0., 0., 0., 0., 0., 0., 0., 0.]),\n",
       "               'dithx': array([ 0.   ,  0.   ,  0.   ,  0.   ,  0.   , -0.015, -0.02 , -0.015,\n",
       "                       0.   ,  0.015,  0.02 ,  0.015]),\n",
       "               'dithy': array([ 0.   ,  0.   ,  0.   ,  0.   ,  0.02 ,  0.015,  0.   , -0.015,\n",
       "                      -0.02 , -0.015,  0.   ,  0.015]),\n",
       "               'v2': array([97.015, 97.015, 87.102, 87.102, 87.102, 87.117, 87.122, 87.117,\n",
       "                      87.102, 87.087, 87.082, 87.087]),\n",
       "               'v3': array([-413.027, -413.027, -405.291, -405.291, -405.271, -405.276,\n",
       "                      -405.291, -405.306, -405.311, -405.306, -405.291, -405.276]),\n",
       "               'idlx': array([ 0.   ,  0.   ,  0.   ,  0.   ,  0.   , -0.015, -0.02 , -0.015,\n",
       "                       0.   ,  0.015,  0.02 ,  0.015]),\n",
       "               'idly': array([ 0.   ,  0.   ,  0.   ,  0.   ,  0.02 ,  0.015,  0.   , -0.015,\n",
       "                      -0.02 , -0.015,  0.   ,  0.015]),\n",
       "               'obs_label': array(['MASK430R, F430M, 9-PT CIRCLE', 'MASK430R, F430M, 9-PT CIRCLE',\n",
       "                      'MASK430R, F430M, 9-PT CIRCLE', 'MASK430R, F430M, 9-PT CIRCLE',\n",
       "                      'MASK430R, F430M, 9-PT CIRCLE', 'MASK430R, F430M, 9-PT CIRCLE',\n",
       "                      'MASK430R, F430M, 9-PT CIRCLE', 'MASK430R, F430M, 9-PT CIRCLE',\n",
       "                      'MASK430R, F430M, 9-PT CIRCLE', 'MASK430R, F430M, 9-PT CIRCLE',\n",
       "                      'MASK430R, F430M, 9-PT CIRCLE', 'MASK430R, F430M, 9-PT CIRCLE'],\n",
       "                     dtype='<U33'),\n",
       "               'obs_id_info': array([{'program_number': '01075', 'observation_number': '007', 'visit_number': '001', 'visit_group': '02', 'sequence_id': '1', 'activity_id': '02', 'exposure_number': '00001', 'visit_id': '01075007001', 'obs_id': 'V01075007001P0000000002102'},\n",
       "                      {'program_number': '01075', 'observation_number': '007', 'visit_number': '001', 'visit_group': '03', 'sequence_id': '1', 'activity_id': '02', 'exposure_number': '00001', 'visit_id': '01075007001', 'obs_id': 'V01075007001P0000000003102'},\n",
       "                      {'program_number': '01075', 'observation_number': '007', 'visit_number': '001', 'visit_group': '03', 'sequence_id': '1', 'activity_id': '04', 'exposure_number': '00001', 'visit_id': '01075007001', 'obs_id': 'V01075007001P0000000003104'},\n",
       "                      {'program_number': '01075', 'observation_number': '007', 'visit_number': '001', 'visit_group': '03', 'sequence_id': '1', 'activity_id': '05', 'exposure_number': '00001', 'visit_id': '01075007001', 'obs_id': 'V01075007001P0000000003105'},\n",
       "                      {'program_number': '01075', 'observation_number': '007', 'visit_number': '001', 'visit_group': '03', 'sequence_id': '1', 'activity_id': '05', 'exposure_number': '00002', 'visit_id': '01075007001', 'obs_id': 'V01075007001P0000000003105'},\n",
       "                      {'program_number': '01075', 'observation_number': '007', 'visit_number': '001', 'visit_group': '03', 'sequence_id': '1', 'activity_id': '05', 'exposure_number': '00003', 'visit_id': '01075007001', 'obs_id': 'V01075007001P0000000003105'},\n",
       "                      {'program_number': '01075', 'observation_number': '007', 'visit_number': '001', 'visit_group': '03', 'sequence_id': '1', 'activity_id': '05', 'exposure_number': '00004', 'visit_id': '01075007001', 'obs_id': 'V01075007001P0000000003105'},\n",
       "                      {'program_number': '01075', 'observation_number': '007', 'visit_number': '001', 'visit_group': '03', 'sequence_id': '1', 'activity_id': '05', 'exposure_number': '00005', 'visit_id': '01075007001', 'obs_id': 'V01075007001P0000000003105'},\n",
       "                      {'program_number': '01075', 'observation_number': '007', 'visit_number': '001', 'visit_group': '03', 'sequence_id': '1', 'activity_id': '05', 'exposure_number': '00006', 'visit_id': '01075007001', 'obs_id': 'V01075007001P0000000003105'},\n",
       "                      {'program_number': '01075', 'observation_number': '007', 'visit_number': '001', 'visit_group': '03', 'sequence_id': '1', 'activity_id': '05', 'exposure_number': '00007', 'visit_id': '01075007001', 'obs_id': 'V01075007001P0000000003105'},\n",
       "                      {'program_number': '01075', 'observation_number': '007', 'visit_number': '001', 'visit_group': '03', 'sequence_id': '1', 'activity_id': '05', 'exposure_number': '00008', 'visit_id': '01075007001', 'obs_id': 'V01075007001P0000000003105'},\n",
       "                      {'program_number': '01075', 'observation_number': '007', 'visit_number': '001', 'visit_group': '03', 'sequence_id': '1', 'activity_id': '05', 'exposure_number': '00009', 'visit_id': '01075007001', 'obs_id': 'V01075007001P0000000003105'}],\n",
       "                     dtype=object),\n",
       "               'level': array(['TARGET', 'TARGET', 'TARGET', 'TARGET', 'SUBDITHER', 'SUBDITHER',\n",
       "                      'SUBDITHER', 'SUBDITHER', 'SUBDITHER', 'SUBDITHER', 'SUBDITHER',\n",
       "                      'SUBDITHER'], dtype='<U9'),\n",
       "               'type': array(['T_ACQ', 'CONFIRM', 'CONFIRM', 'SCIENCE', 'SCIENCE', 'SCIENCE',\n",
       "                      'SCIENCE', 'SCIENCE', 'SCIENCE', 'SCIENCE', 'SCIENCE', 'SCIENCE'],\n",
       "                     dtype='<U7'),\n",
       "               'ddist': array([ 0.   ,  0.   , 12.574,  0.   ,  0.02 ,  0.016,  0.016,  0.016,\n",
       "                       0.016,  0.016,  0.016,  0.016]),\n",
       "               'ModuleAPT': array(['A', 'A', 'A', 'A', 'A', 'A', 'A', 'A', 'A', 'A', 'A', 'A'],\n",
       "                     dtype='<U1'),\n",
       "               'sw_filters': array(['NONE', 'NONE', 'NONE', 'NONE', 'NONE', 'NONE', 'NONE', 'NONE',\n",
       "                      'NONE', 'NONE', 'NONE', 'NONE'], dtype='<U5'),\n",
       "               'sw_pupils': array(['n/a', 'n/a', 'n/a', 'n/a', 'n/a', 'n/a', 'n/a', 'n/a', 'n/a',\n",
       "                      'n/a', 'n/a', 'n/a'], dtype='<U9'),\n",
       "               'lw_filters': array(['F335M', 'F335M', 'F335M', 'F430M', 'F430M', 'F430M', 'F430M',\n",
       "                      'F430M', 'F430M', 'F430M', 'F430M', 'F430M'], dtype='<U5'),\n",
       "               'lw_pupils': array(['CIRCLYOT', 'CIRCLYOT', 'CIRCLYOT', 'CIRCLYOT', 'CIRCLYOT',\n",
       "                      'CIRCLYOT', 'CIRCLYOT', 'CIRCLYOT', 'CIRCLYOT', 'CIRCLYOT',\n",
       "                      'CIRCLYOT', 'CIRCLYOT'], dtype='<U9'),\n",
       "               'coron_mask': array(['MASK430R', 'MASK430R', 'MASK430R', 'MASK430R', 'MASK430R',\n",
       "                      'MASK430R', 'MASK430R', 'MASK430R', 'MASK430R', 'MASK430R',\n",
       "                      'MASK430R', 'MASK430R'], dtype='<U8'),\n",
       "               'mode': array(['coron', 'coron', 'coron', 'coron', 'coron', 'coron', 'coron',\n",
       "                      'coron', 'coron', 'coron', 'coron', 'coron'], dtype='<U5'),\n",
       "               'subarray_name': array(['SUBNDA430R', 'FULL', 'FULL', 'FULL', 'FULL', 'FULL', 'FULL',\n",
       "                      'FULL', 'FULL', 'FULL', 'FULL', 'FULL'], dtype='<U10'),\n",
       "               'readout': array(['DEEP2', 'RAPID', 'RAPID', 'RAPID', 'RAPID', 'RAPID', 'RAPID',\n",
       "                      'RAPID', 'RAPID', 'RAPID', 'RAPID', 'RAPID'], dtype='<U8'),\n",
       "               'nints': array(['1', '1', '1', '1', '1', '1', '1', '1', '1', '1', '1', '1'],\n",
       "                     dtype='<U1'),\n",
       "               'ngroups': array(['65', '10', '10', '10', '10', '10', '10', '10', '10', '10', '10',\n",
       "                      '10'], dtype='<U2'),\n",
       "               'noutputs': array(['NONE', 'NONE', 'NONE', 'NONE', 'NONE', 'NONE', 'NONE', 'NONE',\n",
       "                      'NONE', 'NONE', 'NONE', 'NONE'], dtype='<U4'),\n",
       "               'detectors': array([['NRCA5'],\n",
       "                      ['NRCA5'],\n",
       "                      ['NRCA5'],\n",
       "                      ['NRCA5'],\n",
       "                      ['NRCA5'],\n",
       "                      ['NRCA5'],\n",
       "                      ['NRCA5'],\n",
       "                      ['NRCA5'],\n",
       "                      ['NRCA5'],\n",
       "                      ['NRCA5'],\n",
       "                      ['NRCA5'],\n",
       "                      ['NRCA5']], dtype='<U5')}),\n",
       "             ('014:001',\n",
       "              {'obs_num': 14,\n",
       "               'visit_num': 1,\n",
       "               'visit_start': 21969,\n",
       "               'slew_duration': 574,\n",
       "               'visit_duration': 1777,\n",
       "               'exp_start_times': array([23279, 23449, 23709, 23966]),\n",
       "               'APTTemplate': 'NircamCoron',\n",
       "               'PrimaryDitherType': array(['NONE', 'NONE', 'NONE', 'NONE'], dtype='<U4'),\n",
       "               'PrimaryDithers': array(['NONE', '2', '2', '1'], dtype='<U4'),\n",
       "               'DitherSize': array(['NONE', 'NONE', 'NONE', 'NONE'], dtype='<U4'),\n",
       "               'SubpixelPositions': array(['NONE', 'NONE', 'NONE', '1'], dtype='<U4'),\n",
       "               'SubpixelDitherType': array(['NONE', 'NONE', 'NONE', 'NONE'], dtype='<U17'),\n",
       "               'SmallGridDitherType': array(['NONE', 'NONE', 'NONE', 'NONE'], dtype='<U14'),\n",
       "               'DitherPatternType': array(['NONE', 'NONE', 'NONE', 'NONE'], dtype='<U4'),\n",
       "               'ImageDithers': array(['NONE', '2', '2', 'NONE'], dtype='<U4'),\n",
       "               'number_of_dithers': array([1, 2, 2, 1]),\n",
       "               'rand_seed_init': 1234567,\n",
       "               'rand_seed_dith': 258143534,\n",
       "               'rand_seed_noise': 2780152029,\n",
       "               'TargetID': array(['HD-41355', 'HD-41355', 'HD-41355', 'HD-41355'], dtype='<U8'),\n",
       "               'TargetRA': array(['05:59:39.2140', '05:59:39.2140', '05:59:39.2140', '05:59:39.2140'],\n",
       "                     dtype='<U13'),\n",
       "               'TargetDec': array(['-65:26:49.07', '-65:26:49.07', '-65:26:49.07', '-65:26:49.07'],\n",
       "                     dtype='<U12'),\n",
       "               'aperture': array(['NRCA5_FSTAMASK430R', 'NRCA5_FULL_FSTAMASK430R',\n",
       "                      'NRCA5_FULL_MASK430R', 'NRCA5_FULL_MASK430R'], dtype='<U24'),\n",
       "               'pri_dith': array([1, 1, 1, 1]),\n",
       "               'sub_dith': array([1, 1, 1, 1]),\n",
       "               'targ1': array([2, 2, 2, 2]),\n",
       "               'targ2': array(['HD-41355', 'HD-41355', 'HD-41355', 'HD-41355'], dtype='<U8'),\n",
       "               'ra': array([89.91339, 89.91339, 89.91339, 89.91339]),\n",
       "               'dec': array([-65.44696, -65.44696, -65.44696, -65.44696]),\n",
       "               'basex': array([0., 0., 0., 0.]),\n",
       "               'basey': array([0., 0., 0., 0.]),\n",
       "               'dithx': array([0., 0., 0., 0.]),\n",
       "               'dithy': array([0., 0., 0., 0.]),\n",
       "               'v2': array([89.442, 89.442, 87.102, 87.102]),\n",
       "               'v3': array([-412.587, -412.587, -405.291, -405.291]),\n",
       "               'idlx': array([0., 0., 0., 0.]),\n",
       "               'idly': array([0., 0., 0., 0.]),\n",
       "               'obs_label': array(['MASK430R, F430M, 1-PT', 'MASK430R, F430M, 1-PT',\n",
       "                      'MASK430R, F430M, 1-PT', 'MASK430R, F430M, 1-PT'], dtype='<U33'),\n",
       "               'obs_id_info': array([{'program_number': '01075', 'observation_number': '014', 'visit_number': '001', 'visit_group': '02', 'sequence_id': '1', 'activity_id': '02', 'exposure_number': '00001', 'visit_id': '01075014001', 'obs_id': 'V01075014001P0000000002102'},\n",
       "                      {'program_number': '01075', 'observation_number': '014', 'visit_number': '001', 'visit_group': '03', 'sequence_id': '1', 'activity_id': '02', 'exposure_number': '00001', 'visit_id': '01075014001', 'obs_id': 'V01075014001P0000000003102'},\n",
       "                      {'program_number': '01075', 'observation_number': '014', 'visit_number': '001', 'visit_group': '03', 'sequence_id': '1', 'activity_id': '04', 'exposure_number': '00001', 'visit_id': '01075014001', 'obs_id': 'V01075014001P0000000003104'},\n",
       "                      {'program_number': '01075', 'observation_number': '014', 'visit_number': '001', 'visit_group': '03', 'sequence_id': '1', 'activity_id': '05', 'exposure_number': '00001', 'visit_id': '01075014001', 'obs_id': 'V01075014001P0000000003105'}],\n",
       "                     dtype=object),\n",
       "               'level': array(['TARGET', 'TARGET', 'TARGET', 'TARGET'], dtype='<U9'),\n",
       "               'type': array(['T_ACQ', 'CONFIRM', 'CONFIRM', 'SCIENCE'], dtype='<U7'),\n",
       "               'ddist': array([0.   , 0.   , 7.662, 0.   ]),\n",
       "               'ModuleAPT': array(['A', 'A', 'A', 'A'], dtype='<U1'),\n",
       "               'sw_filters': array(['NONE', 'NONE', 'NONE', 'NONE'], dtype='<U5'),\n",
       "               'sw_pupils': array(['n/a', 'n/a', 'n/a', 'n/a'], dtype='<U9'),\n",
       "               'lw_filters': array(['F335M', 'F335M', 'F335M', 'F430M'], dtype='<U5'),\n",
       "               'lw_pupils': array(['CIRCLYOT', 'CIRCLYOT', 'CIRCLYOT', 'CIRCLYOT'], dtype='<U9'),\n",
       "               'coron_mask': array(['MASK430R', 'MASK430R', 'MASK430R', 'MASK430R'], dtype='<U8'),\n",
       "               'mode': array(['coron', 'coron', 'coron', 'coron'], dtype='<U5'),\n",
       "               'subarray_name': array(['SUBFSA430R', 'FULL', 'FULL', 'FULL'], dtype='<U10'),\n",
       "               'readout': array(['MEDIUM2', 'RAPID', 'RAPID', 'RAPID'], dtype='<U8'),\n",
       "               'nints': array(['1', '1', '1', '2'], dtype='<U1'),\n",
       "               'ngroups': array(['5', '10', '10', '10'], dtype='<U2'),\n",
       "               'noutputs': array(['NONE', 'NONE', 'NONE', 'NONE'], dtype='<U4'),\n",
       "               'detectors': array([['NRCA5'],\n",
       "                      ['NRCA5'],\n",
       "                      ['NRCA5'],\n",
       "                      ['NRCA5']], dtype='<U5')}),\n",
       "             ('011:001',\n",
       "              {'obs_num': 11,\n",
       "               'visit_num': 1,\n",
       "               'visit_start': 24320,\n",
       "               'slew_duration': 56,\n",
       "               'visit_duration': 1564,\n",
       "               'exp_start_times': array([24922, 25092, 25352, 25586]),\n",
       "               'APTTemplate': 'NircamCoron',\n",
       "               'PrimaryDitherType': array(['NONE', 'NONE', 'NONE', 'NONE'], dtype='<U4'),\n",
       "               'PrimaryDithers': array(['NONE', '2', '2', '1'], dtype='<U4'),\n",
       "               'DitherSize': array(['NONE', 'NONE', 'NONE', 'NONE'], dtype='<U4'),\n",
       "               'SubpixelPositions': array(['NONE', 'NONE', 'NONE', '1'], dtype='<U4'),\n",
       "               'SubpixelDitherType': array(['NONE', 'NONE', 'NONE', 'NONE'], dtype='<U17'),\n",
       "               'SmallGridDitherType': array(['NONE', 'NONE', 'NONE', 'NONE'], dtype='<U14'),\n",
       "               'DitherPatternType': array(['NONE', 'NONE', 'NONE', 'NONE'], dtype='<U4'),\n",
       "               'ImageDithers': array(['NONE', '2', '2', 'NONE'], dtype='<U4'),\n",
       "               'number_of_dithers': array([1, 2, 2, 1]),\n",
       "               'rand_seed_init': 1234567,\n",
       "               'rand_seed_dith': 2077974105,\n",
       "               'rand_seed_noise': 446788013,\n",
       "               'TargetID': array(['HD-41355', 'HD-41355', 'HD-41355', 'HD-41355'], dtype='<U8'),\n",
       "               'TargetRA': array(['05:59:39.2140', '05:59:39.2140', '05:59:39.2140', '05:59:39.2140'],\n",
       "                     dtype='<U13'),\n",
       "               'TargetDec': array(['-65:26:49.07', '-65:26:49.07', '-65:26:49.07', '-65:26:49.07'],\n",
       "                     dtype='<U12'),\n",
       "               'aperture': array(['NRCA5_FSTAMASK335R', 'NRCA5_FULL_FSTAMASK335R',\n",
       "                      'NRCA5_FULL_MASK335R', 'NRCA5_FULL_MASK335R'], dtype='<U24'),\n",
       "               'pri_dith': array([1, 1, 1, 1]),\n",
       "               'sub_dith': array([1, 1, 1, 1]),\n",
       "               'targ1': array([2, 2, 2, 2]),\n",
       "               'targ2': array(['HD-41355', 'HD-41355', 'HD-41355', 'HD-41355'], dtype='<U8'),\n",
       "               'ra': array([89.91339, 89.91339, 89.91339, 89.91339]),\n",
       "               'dec': array([-65.44696, -65.44696, -65.44696, -65.44696]),\n",
       "               'basex': array([0., 0., 0., 0.]),\n",
       "               'basey': array([0., 0., 0., 0.]),\n",
       "               'dithx': array([0., 0., 0., 0.]),\n",
       "               'dithy': array([0., 0., 0., 0.]),\n",
       "               'v2': array([109.056, 109.056, 107.11 , 107.11 ]),\n",
       "               'v3': array([-412.932, -412.932, -405.278, -405.278]),\n",
       "               'idlx': array([0., 0., 0., 0.]),\n",
       "               'idly': array([0., 0., 0., 0.]),\n",
       "               'obs_label': array(['MASK335R, F335M, 1-PT', 'MASK335R, F335M, 1-PT',\n",
       "                      'MASK335R, F335M, 1-PT', 'MASK335R, F335M, 1-PT'], dtype='<U33'),\n",
       "               'obs_id_info': array([{'program_number': '01075', 'observation_number': '011', 'visit_number': '001', 'visit_group': '02', 'sequence_id': '1', 'activity_id': '02', 'exposure_number': '00001', 'visit_id': '01075011001', 'obs_id': 'V01075011001P0000000002102'},\n",
       "                      {'program_number': '01075', 'observation_number': '011', 'visit_number': '001', 'visit_group': '03', 'sequence_id': '1', 'activity_id': '02', 'exposure_number': '00001', 'visit_id': '01075011001', 'obs_id': 'V01075011001P0000000003102'},\n",
       "                      {'program_number': '01075', 'observation_number': '011', 'visit_number': '001', 'visit_group': '03', 'sequence_id': '1', 'activity_id': '04', 'exposure_number': '00001', 'visit_id': '01075011001', 'obs_id': 'V01075011001P0000000003104'},\n",
       "                      {'program_number': '01075', 'observation_number': '011', 'visit_number': '001', 'visit_group': '03', 'sequence_id': '1', 'activity_id': '05', 'exposure_number': '00001', 'visit_id': '01075011001', 'obs_id': 'V01075011001P0000000003105'}],\n",
       "                     dtype=object),\n",
       "               'level': array(['TARGET', 'TARGET', 'TARGET', 'TARGET'], dtype='<U9'),\n",
       "               'type': array(['T_ACQ', 'CONFIRM', 'CONFIRM', 'SCIENCE'], dtype='<U7'),\n",
       "               'ddist': array([0.   , 0.   , 7.898, 0.   ]),\n",
       "               'ModuleAPT': array(['A', 'A', 'A', 'A'], dtype='<U1'),\n",
       "               'sw_filters': array(['NONE', 'NONE', 'NONE', 'NONE'], dtype='<U5'),\n",
       "               'sw_pupils': array(['n/a', 'n/a', 'n/a', 'n/a'], dtype='<U9'),\n",
       "               'lw_filters': array(['F335M', 'F335M', 'F335M', 'F335M'], dtype='<U5'),\n",
       "               'lw_pupils': array(['CIRCLYOT', 'CIRCLYOT', 'CIRCLYOT', 'CIRCLYOT'], dtype='<U9'),\n",
       "               'coron_mask': array(['MASK335R', 'MASK335R', 'MASK335R', 'MASK335R'], dtype='<U8'),\n",
       "               'mode': array(['coron', 'coron', 'coron', 'coron'], dtype='<U5'),\n",
       "               'subarray_name': array(['SUBFSA335R', 'FULL', 'FULL', 'FULL'], dtype='<U10'),\n",
       "               'readout': array(['MEDIUM2', 'RAPID', 'RAPID', 'RAPID'], dtype='<U8'),\n",
       "               'nints': array(['1', '1', '1', '2'], dtype='<U1'),\n",
       "               'ngroups': array(['5', '10', '10', '10'], dtype='<U2'),\n",
       "               'noutputs': array(['NONE', 'NONE', 'NONE', 'NONE'], dtype='<U4'),\n",
       "               'detectors': array([['NRCA5'],\n",
       "                      ['NRCA5'],\n",
       "                      ['NRCA5'],\n",
       "                      ['NRCA5']], dtype='<U5')}),\n",
       "             ('008:001',\n",
       "              {'obs_num': 8,\n",
       "               'visit_num': 1,\n",
       "               'visit_start': 25940,\n",
       "               'slew_duration': 56,\n",
       "               'visit_duration': 1954,\n",
       "               'exp_start_times': array([26932, 27102, 27362, 27596]),\n",
       "               'APTTemplate': 'NircamCoron',\n",
       "               'PrimaryDitherType': array(['NONE', 'NONE', 'NONE', 'NONE'], dtype='<U4'),\n",
       "               'PrimaryDithers': array(['NONE', '2', '2', '1'], dtype='<U4'),\n",
       "               'DitherSize': array(['NONE', 'NONE', 'NONE', 'NONE'], dtype='<U4'),\n",
       "               'SubpixelPositions': array(['NONE', 'NONE', 'NONE', '1'], dtype='<U4'),\n",
       "               'SubpixelDitherType': array(['NONE', 'NONE', 'NONE', 'NONE'], dtype='<U17'),\n",
       "               'SmallGridDitherType': array(['NONE', 'NONE', 'NONE', 'NONE'], dtype='<U14'),\n",
       "               'DitherPatternType': array(['NONE', 'NONE', 'NONE', 'NONE'], dtype='<U4'),\n",
       "               'ImageDithers': array(['NONE', '2', '2', 'NONE'], dtype='<U4'),\n",
       "               'number_of_dithers': array([1, 2, 2, 1]),\n",
       "               'rand_seed_init': 1234567,\n",
       "               'rand_seed_dith': 2826822123,\n",
       "               'rand_seed_noise': 1804210391,\n",
       "               'TargetID': array(['HD-41355', 'HD-41355', 'HD-41355', 'HD-41355'], dtype='<U8'),\n",
       "               'TargetRA': array(['05:59:39.2140', '05:59:39.2140', '05:59:39.2140', '05:59:39.2140'],\n",
       "                     dtype='<U13'),\n",
       "               'TargetDec': array(['-65:26:49.07', '-65:26:49.07', '-65:26:49.07', '-65:26:49.07'],\n",
       "                     dtype='<U12'),\n",
       "               'aperture': array(['NRCA2_FSTAMASK210R', 'NRCA2_FULL_FSTAMASK210R',\n",
       "                      'NRCA2_FULL_MASK210R', 'NRCA2_FULL_MASK210R'], dtype='<U24'),\n",
       "               'pri_dith': array([1, 1, 1, 1]),\n",
       "               'sub_dith': array([1, 1, 1, 1]),\n",
       "               'targ1': array([2, 2, 2, 2]),\n",
       "               'targ2': array(['HD-41355', 'HD-41355', 'HD-41355', 'HD-41355'], dtype='<U8'),\n",
       "               'ra': array([89.91339, 89.91339, 89.91339, 89.91339]),\n",
       "               'dec': array([-65.44696, -65.44696, -65.44696, -65.44696]),\n",
       "               'basex': array([0., 0., 0., 0.]),\n",
       "               'basey': array([0., 0., 0., 0.]),\n",
       "               'dithx': array([0., 0., 0., 0.]),\n",
       "               'dithy': array([0., 0., 0., 0.]),\n",
       "               'v2': array([129.774, 129.774, 127.193, 127.193]),\n",
       "               'v3': array([-412.991, -412.991, -405.444, -405.444]),\n",
       "               'idlx': array([0., 0., 0., 0.]),\n",
       "               'idly': array([0., 0., 0., 0.]),\n",
       "               'obs_label': array(['MASK210R, F210M, 1-PT', 'MASK210R, F210M, 1-PT',\n",
       "                      'MASK210R, F210M, 1-PT', 'MASK210R, F210M, 1-PT'], dtype='<U33'),\n",
       "               'obs_id_info': array([{'program_number': '01075', 'observation_number': '008', 'visit_number': '001', 'visit_group': '02', 'sequence_id': '1', 'activity_id': '02', 'exposure_number': '00001', 'visit_id': '01075008001', 'obs_id': 'V01075008001P0000000002102'},\n",
       "                      {'program_number': '01075', 'observation_number': '008', 'visit_number': '001', 'visit_group': '03', 'sequence_id': '1', 'activity_id': '02', 'exposure_number': '00001', 'visit_id': '01075008001', 'obs_id': 'V01075008001P0000000003102'},\n",
       "                      {'program_number': '01075', 'observation_number': '008', 'visit_number': '001', 'visit_group': '03', 'sequence_id': '1', 'activity_id': '04', 'exposure_number': '00001', 'visit_id': '01075008001', 'obs_id': 'V01075008001P0000000003104'},\n",
       "                      {'program_number': '01075', 'observation_number': '008', 'visit_number': '001', 'visit_group': '03', 'sequence_id': '1', 'activity_id': '05', 'exposure_number': '00001', 'visit_id': '01075008001', 'obs_id': 'V01075008001P0000000003105'}],\n",
       "                     dtype=object),\n",
       "               'level': array(['TARGET', 'TARGET', 'TARGET', 'TARGET'], dtype='<U9'),\n",
       "               'type': array(['T_ACQ', 'CONFIRM', 'CONFIRM', 'SCIENCE'], dtype='<U7'),\n",
       "               'ddist': array([0.   , 0.   , 7.976, 0.   ]),\n",
       "               'ModuleAPT': array(['A', 'A', 'A', 'A'], dtype='<U1'),\n",
       "               'sw_filters': array(['F210M', 'F210M', 'F210M', 'F210M'], dtype='<U5'),\n",
       "               'sw_pupils': array(['CIRCLYOT', 'CIRCLYOT', 'CIRCLYOT', 'CIRCLYOT'], dtype='<U9'),\n",
       "               'lw_filters': array(['NONE', 'NONE', 'NONE', 'NONE'], dtype='<U5'),\n",
       "               'lw_pupils': array(['n/a', 'n/a', 'n/a', 'n/a'], dtype='<U9'),\n",
       "               'coron_mask': array(['MASK210R', 'MASK210R', 'MASK210R', 'MASK210R'], dtype='<U8'),\n",
       "               'mode': array(['coron', 'coron', 'coron', 'coron'], dtype='<U5'),\n",
       "               'subarray_name': array(['SUBFSA210R', 'FULL', 'FULL', 'FULL'], dtype='<U10'),\n",
       "               'readout': array(['SHALLOW2', 'RAPID', 'RAPID', 'RAPID'], dtype='<U8'),\n",
       "               'nints': array(['1', '1', '1', '2'], dtype='<U1'),\n",
       "               'ngroups': array(['3', '10', '10', '10'], dtype='<U2'),\n",
       "               'noutputs': array(['NONE', 'NONE', 'NONE', 'NONE'], dtype='<U4'),\n",
       "               'detectors': array([['NRCA2'],\n",
       "                      ['NRCA2'],\n",
       "                      ['NRCA2'],\n",
       "                      ['NRCA2']], dtype='<U5')}),\n",
       "             ('009:001',\n",
       "              {'obs_num': 9,\n",
       "               'visit_num': 1,\n",
       "               'visit_start': 27950,\n",
       "               'slew_duration': 174,\n",
       "               'visit_duration': 1954,\n",
       "               'exp_start_times': array([29060, 29230, 29490, 29724]),\n",
       "               'APTTemplate': 'NircamCoron',\n",
       "               'PrimaryDitherType': array(['NONE', 'NONE', 'NONE', 'NONE'], dtype='<U4'),\n",
       "               'PrimaryDithers': array(['NONE', '2', '2', '1'], dtype='<U4'),\n",
       "               'DitherSize': array(['NONE', 'NONE', 'NONE', 'NONE'], dtype='<U4'),\n",
       "               'SubpixelPositions': array(['NONE', 'NONE', 'NONE', '1'], dtype='<U4'),\n",
       "               'SubpixelDitherType': array(['NONE', 'NONE', 'NONE', 'NONE'], dtype='<U17'),\n",
       "               'SmallGridDitherType': array(['NONE', 'NONE', 'NONE', 'NONE'], dtype='<U14'),\n",
       "               'DitherPatternType': array(['NONE', 'NONE', 'NONE', 'NONE'], dtype='<U4'),\n",
       "               'ImageDithers': array(['NONE', '2', '2', 'NONE'], dtype='<U4'),\n",
       "               'number_of_dithers': array([1, 2, 2, 1]),\n",
       "               'rand_seed_init': 1234567,\n",
       "               'rand_seed_dith': 1881286190,\n",
       "               'rand_seed_noise': 1752815179,\n",
       "               'TargetID': array(['HD-41355', 'HD-41355', 'HD-41355', 'HD-41355'], dtype='<U8'),\n",
       "               'TargetRA': array(['05:59:39.2140', '05:59:39.2140', '05:59:39.2140', '05:59:39.2140'],\n",
       "                     dtype='<U13'),\n",
       "               'TargetDec': array(['-65:26:49.07', '-65:26:49.07', '-65:26:49.07', '-65:26:49.07'],\n",
       "                     dtype='<U12'),\n",
       "               'aperture': array(['NRCA4_FSTAMASKSWB', 'NRCA4_FULL_FSTAMASKSWB',\n",
       "                      'NRCA4_FULL_MASKSWB_F210M', 'NRCA4_FULL_MASKSWB_F210M'],\n",
       "                     dtype='<U24'),\n",
       "               'pri_dith': array([1, 1, 1, 1]),\n",
       "               'sub_dith': array([1, 1, 1, 1]),\n",
       "               'targ1': array([2, 2, 2, 2]),\n",
       "               'targ2': array(['HD-41355', 'HD-41355', 'HD-41355', 'HD-41355'], dtype='<U8'),\n",
       "               'ra': array([89.91339, 89.91339, 89.91339, 89.91339]),\n",
       "               'dec': array([-65.44696, -65.44696, -65.44696, -65.44696]),\n",
       "               'basex': array([0., 0., 0., 0.]),\n",
       "               'basey': array([0., 0., 0., 0.]),\n",
       "               'dithx': array([0., 0., 0., 0.]),\n",
       "               'dithy': array([0., 0., 0., 0.]),\n",
       "               'v2': array([70.094, 70.094, 67.125, 67.125]),\n",
       "               'v3': array([-412.728, -412.728, -405.331, -405.331]),\n",
       "               'idlx': array([0., 0., 0., 0.]),\n",
       "               'idly': array([0., 0., 0., 0.]),\n",
       "               'obs_label': array(['MASKSWB, F210M -> F182M, 1-PT', 'MASKSWB, F210M -> F182M, 1-PT',\n",
       "                      'MASKSWB, F210M -> F182M, 1-PT', 'MASKSWB, F210M -> F182M, 1-PT'],\n",
       "                     dtype='<U33'),\n",
       "               'obs_id_info': array([{'program_number': '01075', 'observation_number': '009', 'visit_number': '001', 'visit_group': '02', 'sequence_id': '1', 'activity_id': '02', 'exposure_number': '00001', 'visit_id': '01075009001', 'obs_id': 'V01075009001P0000000002102'},\n",
       "                      {'program_number': '01075', 'observation_number': '009', 'visit_number': '001', 'visit_group': '03', 'sequence_id': '1', 'activity_id': '02', 'exposure_number': '00001', 'visit_id': '01075009001', 'obs_id': 'V01075009001P0000000003102'},\n",
       "                      {'program_number': '01075', 'observation_number': '009', 'visit_number': '001', 'visit_group': '03', 'sequence_id': '1', 'activity_id': '04', 'exposure_number': '00001', 'visit_id': '01075009001', 'obs_id': 'V01075009001P0000000003104'},\n",
       "                      {'program_number': '01075', 'observation_number': '009', 'visit_number': '001', 'visit_group': '03', 'sequence_id': '1', 'activity_id': '05', 'exposure_number': '00001', 'visit_id': '01075009001', 'obs_id': 'V01075009001P0000000003105'}],\n",
       "                     dtype=object),\n",
       "               'level': array(['TARGET', 'TARGET', 'TARGET', 'TARGET'], dtype='<U9'),\n",
       "               'type': array(['T_ACQ', 'CONFIRM', 'CONFIRM', 'SCIENCE'], dtype='<U7'),\n",
       "               'ddist': array([0.   , 0.   , 7.971, 0.   ]),\n",
       "               'ModuleAPT': array(['A', 'A', 'A', 'A'], dtype='<U1'),\n",
       "               'sw_filters': array(['F210M', 'F210M', 'F210M', 'F210M'], dtype='<U5'),\n",
       "               'sw_pupils': array(['WEDGELYOT', 'WEDGELYOT', 'WEDGELYOT', 'WEDGELYOT'], dtype='<U9'),\n",
       "               'lw_filters': array(['NONE', 'NONE', 'NONE', 'NONE'], dtype='<U5'),\n",
       "               'lw_pupils': array(['n/a', 'n/a', 'n/a', 'n/a'], dtype='<U9'),\n",
       "               'coron_mask': array(['MASKSWB', 'MASKSWB', 'MASKSWB', 'MASKSWB'], dtype='<U8'),\n",
       "               'mode': array(['coron', 'coron', 'coron', 'coron'], dtype='<U5'),\n",
       "               'subarray_name': array(['SUBFSASWB', 'FULL', 'FULL', 'FULL'], dtype='<U10'),\n",
       "               'readout': array(['SHALLOW2', 'RAPID', 'RAPID', 'RAPID'], dtype='<U8'),\n",
       "               'nints': array(['1', '1', '1', '2'], dtype='<U1'),\n",
       "               'ngroups': array(['3', '10', '10', '10'], dtype='<U2'),\n",
       "               'noutputs': array(['NONE', 'NONE', 'NONE', 'NONE'], dtype='<U4'),\n",
       "               'detectors': array([['NRCA4'],\n",
       "                      ['NRCA4'],\n",
       "                      ['NRCA4'],\n",
       "                      ['NRCA4']], dtype='<U5')}),\n",
       "             ('012:001',\n",
       "              {'obs_num': 12,\n",
       "               'visit_num': 1,\n",
       "               'visit_start': 30078,\n",
       "               'slew_duration': 56,\n",
       "               'visit_duration': 1564,\n",
       "               'exp_start_times': array([30680, 30850, 31110, 31344]),\n",
       "               'APTTemplate': 'NircamCoron',\n",
       "               'PrimaryDitherType': array(['NONE', 'NONE', 'NONE', 'NONE'], dtype='<U4'),\n",
       "               'PrimaryDithers': array(['NONE', '2', '2', '1'], dtype='<U4'),\n",
       "               'DitherSize': array(['NONE', 'NONE', 'NONE', 'NONE'], dtype='<U4'),\n",
       "               'SubpixelPositions': array(['NONE', 'NONE', 'NONE', '1'], dtype='<U4'),\n",
       "               'SubpixelDitherType': array(['NONE', 'NONE', 'NONE', 'NONE'], dtype='<U17'),\n",
       "               'SmallGridDitherType': array(['NONE', 'NONE', 'NONE', 'NONE'], dtype='<U14'),\n",
       "               'DitherPatternType': array(['NONE', 'NONE', 'NONE', 'NONE'], dtype='<U4'),\n",
       "               'ImageDithers': array(['NONE', '2', '2', 'NONE'], dtype='<U4'),\n",
       "               'number_of_dithers': array([1, 2, 2, 1]),\n",
       "               'rand_seed_init': 1234567,\n",
       "               'rand_seed_dith': 3866336891,\n",
       "               'rand_seed_noise': 630108708,\n",
       "               'TargetID': array(['HD-41355', 'HD-41355', 'HD-41355', 'HD-41355'], dtype='<U8'),\n",
       "               'TargetRA': array(['05:59:39.2140', '05:59:39.2140', '05:59:39.2140', '05:59:39.2140'],\n",
       "                     dtype='<U13'),\n",
       "               'TargetDec': array(['-65:26:49.07', '-65:26:49.07', '-65:26:49.07', '-65:26:49.07'],\n",
       "                     dtype='<U12'),\n",
       "               'aperture': array(['NRCA5_FSTAMASKLWB', 'NRCA5_FULL_FSTAMASKLWB',\n",
       "                      'NRCA5_FULL_MASKLWB_F335M', 'NRCA5_FULL_MASKLWB_F335M'],\n",
       "                     dtype='<U24'),\n",
       "               'pri_dith': array([1, 1, 1, 1]),\n",
       "               'sub_dith': array([1, 1, 1, 1]),\n",
       "               'targ1': array([2, 2, 2, 2]),\n",
       "               'targ2': array(['HD-41355', 'HD-41355', 'HD-41355', 'HD-41355'], dtype='<U8'),\n",
       "               'ra': array([89.91339, 89.91339, 89.91339, 89.91339]),\n",
       "               'dec': array([-65.44696, -65.44696, -65.44696, -65.44696]),\n",
       "               'basex': array([0., 0., 0., 0.]),\n",
       "               'basey': array([0., 0., 0., 0.]),\n",
       "               'dithx': array([0., 0., 0., 0.]),\n",
       "               'dithy': array([0., 0., 0., 0.]),\n",
       "               'v2': array([44.231, 44.231, 43.119, 43.119]),\n",
       "               'v3': array([-412.856, -412.856, -404.953, -404.953]),\n",
       "               'idlx': array([0., 0., 0., 0.]),\n",
       "               'idly': array([0., 0., 0., 0.]),\n",
       "               'obs_label': array(['MASKLWB, F335M, 1-PT', 'MASKLWB, F335M, 1-PT',\n",
       "                      'MASKLWB, F335M, 1-PT', 'MASKLWB, F335M, 1-PT'], dtype='<U33'),\n",
       "               'obs_id_info': array([{'program_number': '01075', 'observation_number': '012', 'visit_number': '001', 'visit_group': '02', 'sequence_id': '1', 'activity_id': '02', 'exposure_number': '00001', 'visit_id': '01075012001', 'obs_id': 'V01075012001P0000000002102'},\n",
       "                      {'program_number': '01075', 'observation_number': '012', 'visit_number': '001', 'visit_group': '03', 'sequence_id': '1', 'activity_id': '02', 'exposure_number': '00001', 'visit_id': '01075012001', 'obs_id': 'V01075012001P0000000003102'},\n",
       "                      {'program_number': '01075', 'observation_number': '012', 'visit_number': '001', 'visit_group': '03', 'sequence_id': '1', 'activity_id': '04', 'exposure_number': '00001', 'visit_id': '01075012001', 'obs_id': 'V01075012001P0000000003104'},\n",
       "                      {'program_number': '01075', 'observation_number': '012', 'visit_number': '001', 'visit_group': '03', 'sequence_id': '1', 'activity_id': '05', 'exposure_number': '00001', 'visit_id': '01075012001', 'obs_id': 'V01075012001P0000000003105'}],\n",
       "                     dtype=object),\n",
       "               'level': array(['TARGET', 'TARGET', 'TARGET', 'TARGET'], dtype='<U9'),\n",
       "               'type': array(['T_ACQ', 'CONFIRM', 'CONFIRM', 'SCIENCE'], dtype='<U7'),\n",
       "               'ddist': array([0.   , 0.   , 7.981, 0.   ]),\n",
       "               'ModuleAPT': array(['A', 'A', 'A', 'A'], dtype='<U1'),\n",
       "               'sw_filters': array(['NONE', 'NONE', 'NONE', 'NONE'], dtype='<U5'),\n",
       "               'sw_pupils': array(['n/a', 'n/a', 'n/a', 'n/a'], dtype='<U9'),\n",
       "               'lw_filters': array(['F335M', 'F335M', 'F335M', 'F335M'], dtype='<U5'),\n",
       "               'lw_pupils': array(['WEDGELYOT', 'WEDGELYOT', 'WEDGELYOT', 'WEDGELYOT'], dtype='<U9'),\n",
       "               'coron_mask': array(['MASKLWB', 'MASKLWB', 'MASKLWB', 'MASKLWB'], dtype='<U8'),\n",
       "               'mode': array(['coron', 'coron', 'coron', 'coron'], dtype='<U5'),\n",
       "               'subarray_name': array(['SUBFSALWB', 'FULL', 'FULL', 'FULL'], dtype='<U10'),\n",
       "               'readout': array(['MEDIUM2', 'RAPID', 'RAPID', 'RAPID'], dtype='<U8'),\n",
       "               'nints': array(['1', '1', '1', '2'], dtype='<U1'),\n",
       "               'ngroups': array(['5', '10', '10', '10'], dtype='<U2'),\n",
       "               'noutputs': array(['NONE', 'NONE', 'NONE', 'NONE'], dtype='<U4'),\n",
       "               'detectors': array([['NRCA5'],\n",
       "                      ['NRCA5'],\n",
       "                      ['NRCA5'],\n",
       "                      ['NRCA5']], dtype='<U5')})])"
      ]
     },
     "execution_count": 10,
     "metadata": {},
     "output_type": "execute_result"
    }
   ],
   "source": [
    "visits"
   ]
  },
  {
   "cell_type": "code",
   "execution_count": null,
   "id": "6be0163c",
   "metadata": {},
   "outputs": [],
   "source": []
  }
 ],
 "metadata": {
  "kernelspec": {
   "display_name": "Python 3 (ipykernel)",
   "language": "python",
   "name": "python3"
  },
  "language_info": {
   "codemirror_mode": {
    "name": "ipython",
    "version": 3
   },
   "file_extension": ".py",
   "mimetype": "text/x-python",
   "name": "python",
   "nbconvert_exporter": "python",
   "pygments_lexer": "ipython3",
   "version": "3.8.12"
  }
 },
 "nbformat": 4,
 "nbformat_minor": 5
}
