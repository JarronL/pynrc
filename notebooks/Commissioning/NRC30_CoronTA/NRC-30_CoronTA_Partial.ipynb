{
 "cells": [
  {
   "cell_type": "markdown",
   "metadata": {},
   "source": [
    "# NRC-30 NIRCam Coronagraphic Target Acquisition\n",
    "\n",
    "## PID 775 - Partial Rehearsal Version\n",
    "\n",
    "This activity is a two-part test of NIRCam coronagraphic target acquisition (TA).  Part 1 determines the precise offsets required to move a star from its measured position in the target-acquisition image to the ideal location behind each occulter.   Part 2 follows the analysis period for Part 1 and tests the implementation of the derived offsets. Both parts follow the successful completion of CAR-NIRCAM-021b (Coronagraphic Astrometric Calibration), the goal of which is a geometric distortion map of the coronagraphic FOV with RMS errors less than 3 mas in each axis."
   ]
  },
  {
   "cell_type": "code",
   "execution_count": 1,
   "metadata": {},
   "outputs": [],
   "source": [
    "# Import the usual libraries\n",
    "import numpy as np\n",
    "import matplotlib\n",
    "import matplotlib.pyplot as plt\n",
    "# Enable inline plotting at lower left\n",
    "%matplotlib inline\n",
    "\n",
    "# Load progress bars\n",
    "from tqdm.auto import trange, tqdm"
   ]
  },
  {
   "cell_type": "code",
   "execution_count": 2,
   "metadata": {},
   "outputs": [
    {
     "name": "stdout",
     "output_type": "stream",
     "text": [
      "pyNRC log messages of level WARN and above will be shown.\n",
      "pyNRC log outputs will be directed to the screen.\n"
     ]
    }
   ],
   "source": [
    "import pynrc\n",
    "from pynrc import nrc_utils, obs_hci, nrc_hci\n",
    "\n",
    "# Disable informational messages and only include warnings and higher\n",
    "pynrc.setup_logging(level='WARN')"
   ]
  },
  {
   "cell_type": "code",
   "execution_count": 3,
   "metadata": {},
   "outputs": [],
   "source": [
    "# Observed spectrum\n",
    "bp_k = pynrc.bp_2mass('k')\n",
    "sp = pynrc.stellar_spectrum('A0V', 5.75, 'vegamag', bp_k)\n",
    "\n",
    "# Science and reference information\n",
    "params_hci_src = {'sp_sci': sp, 'sp_ref': sp, 'dist_sci': 10}\n",
    "\n",
    "# Companions\n",
    "params_hci_companions = None\n",
    "# Disk model\n",
    "params_disk_model = None\n",
    "# Sources\n",
    "src_tbl = None"
   ]
  },
  {
   "cell_type": "code",
   "execution_count": 4,
   "metadata": {},
   "outputs": [],
   "source": [
    "pid_str = 'pid1075'\n",
    "nrc_str = 'NRC30'\n",
    "\n",
    "sim_config = {\n",
    "    # APT input files\n",
    "    'json_file'     : f'{pid_str}.timing.json',\n",
    "    'sm_acct_file'  : f'{pid_str}.smart_accounting',\n",
    "    'pointing_file' : f'{pid_str}.pointing',\n",
    "    'xml_file'      : f'{pid_str}.xml',\n",
    "    # Output directory\n",
    "    'save_dir'      : f'/Users/jarron/NIRCam/Data/Sim_{nrc_str}/',\n",
    "    \n",
    "    # Date and time of observations\n",
    "    'obs_date' : '2022-03-01', \n",
    "    'obs_time' : '12:00:00',\n",
    "    # Position angle of observatory\n",
    "    # User should check acceptable range in APT's Roll Analysis\n",
    "    'pa_v3'    : 0,\n",
    "    \n",
    "    # Source information\n",
    "    'src_tbl'               : src_tbl,  # astropy table with RA, Dec, and filter mags\n",
    "    'params_hci_src'        : params_hci_src,\n",
    "    'params_disk_model'     : params_disk_model,\n",
    "    'params_hci_companions' : params_hci_companions,\n",
    "    \n",
    "    # PSF size information for WebbPSF_ext\n",
    "    'params_webbpsf' : {'fov_pix': 257, 'oversample': 2},\n",
    "    # Position-dependent PSFs for convolution\n",
    "    'params_psfconv' : {'npsf_per_full_fov': 5, 'osamp': 1, 'sptype': 'G0V'},\n",
    "    # Wavefront error drift settings\n",
    "    'enable_wfedrift' : False,\n",
    "    # For coronagraphic masks, sample large grid of points?\n",
    "    'large_grid' : True,\n",
    "    \n",
    "    # Slew and dither pointing uncertainties\n",
    "    'large_slew' : 100.0,   # Slew to target (mas)\n",
    "    'ta_sam'     : 5.0,     # SAM movements from TA position (mas)\n",
    "    'std_sam'    : 5.0,     # Standard dither values (mas)\n",
    "    'sgd_sam'    : 2.5,     # Small grid dithers (mas)\n",
    "    \n",
    "    # Type of image files to save\n",
    "    'save_slope' : False,  # Save ideal noiseless slope images to FITS\n",
    "    'save_dms'   : False,   # Save DMS-like ramps to FITS\n",
    "    'dry_run'    : False,  # Perform a dry-run, not generating any data, just printing visit info\n",
    "    \n",
    "    # Initialize random seeds if repeatability is required\n",
    "    # Create separate random number generators for dithers and noise\n",
    "    'rand_seed_init'  : 1234,\n",
    "\n",
    "    # Ramp parameters\n",
    "    'params_noise' : {\n",
    "        'include_poisson'   : True,     # Photon Noise\n",
    "        'include_dark'      : True,     # Dark current\n",
    "        'include_bias'      : True,     # Bias image offset\n",
    "        'include_ktc'       : True,     # kTC Noise\n",
    "        'include_rn'        : True,     # Read Noise\n",
    "        'include_cpink'     : True,     # Correlated 1/f noise between channel\n",
    "        'include_upink'     : True,     # Channel-dependent 1/f noise\n",
    "        'include_acn'       : True,     # Alternating column noise\n",
    "        'apply_ipc'         : True,     # Interpixel capacitance\n",
    "        'apply_ppc'         : True,     # Post-pixel coupling\n",
    "        'amp_crosstalk'     : True,     # Amplifier crosstalk\n",
    "        'include_refoffsets': True,     # Reference offsets\n",
    "        'include_refinst'   : True,     # Reference pixel instabilities\n",
    "        'include_colnoise'  : True,    # Transient detector column noise\n",
    "        'add_crs'           : True,    # Include cosmic ray\n",
    "        'cr_model'          : 'SUNMAX', # Cosmic ray model ('SUNMAX', 'SUNMIN', or 'FLARES')\n",
    "        'cr_scale'          : 1,        # Cosmic ray probabilities scaling\n",
    "        'apply_nonlinearity': True,     # Apply non-linearity\n",
    "        'random_nonlin'     : True,     # Add randomness to non-linearity\n",
    "        'apply_flats'       : True,     # pixel-to-pixel QE variations and field-dep illum\n",
    "    },\n",
    "}"
   ]
  },
  {
   "cell_type": "code",
   "execution_count": 5,
   "metadata": {},
   "outputs": [],
   "source": [
    "from pynrc.simul.ngNRC import create_level1b_FITS"
   ]
  },
  {
   "cell_type": "code",
   "execution_count": 7,
   "metadata": {
    "scrolled": false
   },
   "outputs": [
    {
     "data": {
      "application/vnd.jupyter.widget-view+json": {
       "model_id": "",
       "version_major": 2,
       "version_minor": 0
      },
      "text/plain": [
       "Obs Params:   0%|          | 0/170 [00:00<?, ?it/s]"
      ]
     },
     "metadata": {},
     "output_type": "display_data"
    },
    {
     "data": {
      "application/vnd.jupyter.widget-view+json": {
       "model_id": "f49cfb52928640489ee5ed1934c2f266",
       "version_major": 2,
       "version_minor": 0
      },
      "text/plain": [
       "  0%|          | 0/12 [00:00<?, ?it/s]"
      ]
     },
     "metadata": {},
     "output_type": "display_data"
    },
    {
     "name": "stdout",
     "output_type": "stream",
     "text": [
      "NRCA2 NRCA2_FULL_MASK210R F210M 001:001 00003 [-0.00483371  0.00591349]\n",
      "Saving: /Users/jarron/NIRCam/Data/Sim_NRC30/pynrc_jw01075001001_01101_00003_nrca2_uncal.fits\n",
      "NRCA2 NRCA2_FULL_MASK210R F210M 001:001 00004 [-0.00483371  0.00591349]\n",
      "Saving: /Users/jarron/NIRCam/Data/Sim_NRC30/pynrc_jw01075001001_01101_00004_nrca2_uncal.fits\n",
      "NRCA2 NRCA2_FULL_MASK210R F210M 001:001 00005 [-0.00669587  0.0285696 ]\n",
      "Saving: /Users/jarron/NIRCam/Data/Sim_NRC30/pynrc_jw01075001001_01101_00005_nrca2_uncal.fits\n",
      "NRCA2 NRCA2_FULL_MASK210R F210M 001:001 00006 [-0.02269406  0.02042168]\n",
      "Saving: /Users/jarron/NIRCam/Data/Sim_NRC30/pynrc_jw01075001001_01101_00006_nrca2_uncal.fits\n",
      "NRCA2 NRCA2_FULL_MASK210R F210M 001:001 00007 [-0.02250992  0.00440352]\n",
      "Saving: /Users/jarron/NIRCam/Data/Sim_NRC30/pynrc_jw01075001001_01101_00007_nrca2_uncal.fits\n",
      "NRCA2 NRCA2_FULL_MASK210R F210M 001:001 00008 [-0.02090377 -0.00612831]\n",
      "Saving: /Users/jarron/NIRCam/Data/Sim_NRC30/pynrc_jw01075001001_01101_00008_nrca2_uncal.fits\n",
      "NRCA2 NRCA2_FULL_MASK210R F210M 001:001 00009 [-0.00237081 -0.01164543]\n",
      "Saving: /Users/jarron/NIRCam/Data/Sim_NRC30/pynrc_jw01075001001_01101_00009_nrca2_uncal.fits\n",
      "NRCA2 NRCA2_FULL_MASK210R F210M 001:001 00010 [ 0.00929636 -0.00517028]\n",
      "Saving: /Users/jarron/NIRCam/Data/Sim_NRC30/pynrc_jw01075001001_01101_00010_nrca2_uncal.fits\n",
      "NRCA2 NRCA2_FULL_MASK210R F210M 001:001 00011 [0.01677806 0.00745857]\n",
      "Saving: /Users/jarron/NIRCam/Data/Sim_NRC30/pynrc_jw01075001001_01101_00011_nrca2_uncal.fits\n",
      "NRCA2 NRCA2_FULL_MASK210R F210M 001:001 00012 [0.00688266 0.01837091]\n",
      "Saving: /Users/jarron/NIRCam/Data/Sim_NRC30/pynrc_jw01075001001_01101_00012_nrca2_uncal.fits\n"
     ]
    },
    {
     "data": {
      "application/vnd.jupyter.widget-view+json": {
       "model_id": "00bca2a0e762408fa3142156cbded294",
       "version_major": 2,
       "version_minor": 0
      },
      "text/plain": [
       "  0%|          | 0/12 [00:00<?, ?it/s]"
      ]
     },
     "metadata": {},
     "output_type": "display_data"
    },
    {
     "name": "stdout",
     "output_type": "stream",
     "text": [
      "NRCA2 NRCA2_FULL_TAMASK210R F210M 001:001 00002 [ 0.00101514 -0.00086851]\n",
      "Saving: /Users/jarron/NIRCam/Data/Sim_NRC30/pynrc_jw01075001001_01101_00002_nrca2_uncal.fits\n"
     ]
    },
    {
     "data": {
      "application/vnd.jupyter.widget-view+json": {
       "model_id": "c80ab59a75b741f3a17faaef167565c1",
       "version_major": 2,
       "version_minor": 0
      },
      "text/plain": [
       "  0%|          | 0/12 [00:00<?, ?it/s]"
      ]
     },
     "metadata": {},
     "output_type": "display_data"
    },
    {
     "name": "stdout",
     "output_type": "stream",
     "text": [
      "NRCA2 NRCA2_TAMASK210R F210M 001:001 00001 [ 0.0203027  -0.01737015]\n",
      "Saving: /Users/jarron/NIRCam/Data/Sim_NRC30/pynrc_jw01075001001_01101_00001_nrca2_uncal.fits\n"
     ]
    }
   ],
   "source": [
    "create_level1b_FITS(sim_config, visit_id='001:001', dry_run=True, save_dms=True)"
   ]
  },
  {
   "cell_type": "code",
   "execution_count": null,
   "metadata": {},
   "outputs": [],
   "source": []
  },
  {
   "cell_type": "code",
   "execution_count": 7,
   "metadata": {},
   "outputs": [],
   "source": [
    "from pynrc import nrc_utils, nircam_cal, DMS_input, DetectorOps\n",
    "from pynrc.simul.apt import get_detname"
   ]
  },
  {
   "cell_type": "code",
   "execution_count": 13,
   "metadata": {},
   "outputs": [],
   "source": [
    "pid_str = 'pid1075'\n",
    "\n",
    "save_dir = f'/Users/jarron/NIRCam/Data/Sim_{pid_str}/'\n",
    "\n",
    "# APT input files\n",
    "json_file     = f'{pid_str}.timing.json'\n",
    "sm_acct_file  = f'{pid_str}.smart_accounting'\n",
    "pointing_file = f'{pid_str}.pointing'\n",
    "xml_file      = f'{pid_str}.xml'"
   ]
  },
  {
   "cell_type": "code",
   "execution_count": 14,
   "metadata": {},
   "outputs": [
    {
     "data": {
      "application/vnd.jupyter.widget-view+json": {
       "model_id": "",
       "version_major": 2,
       "version_minor": 0
      },
      "text/plain": [
       "Obs Params:   0%|          | 0/170 [00:00<?, ?it/s]"
      ]
     },
     "metadata": {},
     "output_type": "display_data"
    }
   ],
   "source": [
    "# Create DMS Input class\n",
    "obs_input = DMS_input(xml_file, pointing_file, json_file, sm_acct_file, save_dir=save_dir)\n",
    "\n",
    "# # Update observing start date/time and V3 PA\n",
    "obs_input.obs_date = '2022-11-03'\n",
    "obs_input.obs_time = '12:00:00'\n",
    "\n",
    "# Generate all observation parameters for every visit, exposure, detector, etc\n",
    "obs_params_all = obs_input.gen_all_obs_params()\n",
    "obs_params_all = np.asarray(obs_params_all)"
   ]
  },
  {
   "cell_type": "code",
   "execution_count": 15,
   "metadata": {},
   "outputs": [],
   "source": [
    "obs_detnames = np.array([get_detname(par['detector']) for par in obs_params_all])\n",
    "obs_filters  = np.array([par['filter'] for par in obs_params_all])\n",
    "obs_pupils   = np.array([par['pupil'] for par in obs_params_all])\n",
    "obs_apnames  = np.array([par['siaf_ap'].AperName for par in obs_params_all])\n",
    "obs_visitids = np.array([par['visit_key'] for par in obs_params_all])\n",
    "\n",
    "obs_labels  = np.array([f'{a}_{f}' for a, f in zip(obs_apnames, obs_filters)])"
   ]
  },
  {
   "cell_type": "code",
   "execution_count": 17,
   "metadata": {
    "scrolled": false
   },
   "outputs": [
    {
     "data": {
      "text/plain": [
       "{'pi_name': 'Julien Girard',\n",
       " 'title': 'NIRCam Target Acquisition for Coronagraphy',\n",
       " 'category': 'GO',\n",
       " 'sub_category': 'UNKNOWN',\n",
       " 'science_category': 'Planets and Planet Formation',\n",
       " 'target_name': 'HD-42525',\n",
       " 'catalog_name': 'UNKNOWN',\n",
       " 'ra': 91.53909,\n",
       " 'dec': -66.03962,\n",
       " 'pa_v3': 308.72500767471627,\n",
       " 'roll_offset': 0,\n",
       " 'solar_elong': 89.8530992132778,\n",
       " 'pitch_ang': -0.14690078672219897,\n",
       " 'siaf_ap': <pysiaf.Aperture object AperName=NRCA2_TAMASK210R >,\n",
       " 'ra_obs': 91.53909,\n",
       " 'dec_obs': -66.03962000000001,\n",
       " 'siaf_ap_ref': <pysiaf.Aperture object AperName=NRCA2_TAMASK210R >,\n",
       " 'ra_ref': 91.53909,\n",
       " 'dec_ref': -66.03962000000001,\n",
       " 'date-obs': '2022-11-03',\n",
       " 'time-obs': '12:00:00',\n",
       " 'obs_id_info': {'program_number': '01075',\n",
       "  'observation_number': '001',\n",
       "  'visit_number': '001',\n",
       "  'visit_group': '01',\n",
       "  'sequence_id': '1',\n",
       "  'activity_id': '01',\n",
       "  'exposure_number': '00001',\n",
       "  'visit_id': '01075001001',\n",
       "  'obs_id': 'V01075001001P0000000001101'},\n",
       " 'obs_label': 'MASK210R, F210M, 9-PT CIRCLE',\n",
       " 'det_obj': <pynrc.pynrc_core.DetectorOps at 0x7fb701d86f90>,\n",
       " 'module': 'A',\n",
       " 'channel': 'SHORT',\n",
       " 'detector': 'NRCA2',\n",
       " 'filter': 'F210M',\n",
       " 'pupil': 'CIRCLYOT',\n",
       " 'coron_mask': 'MASK210R',\n",
       " 'visit_type': 'T_ACQ',\n",
       " 'visit_mode': 'imaging',\n",
       " 'exp_type': 'NRC_TACQ',\n",
       " 'subarray_name': 'SUBNDA210R',\n",
       " 'xstart': 405,\n",
       " 'ystart': 710,\n",
       " 'xsize': 128,\n",
       " 'ysize': 128,\n",
       " 'fastaxis': 1,\n",
       " 'slowaxis': -2,\n",
       " 'noutputs': 1,\n",
       " 'readpatt': 'DEEP2',\n",
       " 'nframes': 2,\n",
       " 'ngroups': 33,\n",
       " 'nints': 1,\n",
       " 'sample_time': 10,\n",
       " 'frame_time': 0.182,\n",
       " 'group_time': 3.6399999999999997,\n",
       " 'groupgap': 18,\n",
       " 'nresets1': 1,\n",
       " 'nresets2': 1,\n",
       " 'integration_time': 116.844,\n",
       " 'exposure_time': 116.844,\n",
       " 'tint_plus_overhead': 117.0316,\n",
       " 'texp_plus_overhead': 117.033,\n",
       " 'texp_start_relative': 2926,\n",
       " 'int_times': array([(1, 59886.53386574, 59886.53386469, 59886.53386363, 59886.53386574, 59886.53386469, 59886.53386363)],\n",
       "       dtype=[('integration_number', '<i2'), ('int_start_MJD_UTC', '<f8'), ('int_mid_MJD_UTC', '<f8'), ('int_end_MJD_UTC', '<f8'), ('int_start_BJD_TDB', '<f8'), ('int_mid_BJD_TDB', '<f8'), ('int_end_BJD_TDB', '<f8')]),\n",
       " 'integration_start': 1,\n",
       " 'integration_end': 1,\n",
       " 'group_times': array([[(1,  1, 1037, 46246671, 600, b'2022-11-03T12:50:46.672', 128, 128, 0, 0, b'Normal Completion', 59886.5352624 , 59886.5352624 )],\n",
       "        [(1,  2, 1037, 46250311, 600, b'2022-11-03T12:50:50.312', 128, 128, 0, 0, b'Normal Completion', 59886.53530453, 59886.53530453)],\n",
       "        [(1,  3, 1037, 46253951, 599, b'2022-11-03T12:50:53.952', 128, 128, 0, 0, b'Normal Completion', 59886.53534666, 59886.53534666)],\n",
       "        [(1,  4, 1037, 46257591, 600, b'2022-11-03T12:50:57.592', 128, 128, 0, 0, b'Normal Completion', 59886.53538879, 59886.53538879)],\n",
       "        [(1,  5, 1037, 46261231, 599, b'2022-11-03T12:51:01.232', 128, 128, 0, 0, b'Normal Completion', 59886.53543092, 59886.53543092)],\n",
       "        [(1,  6, 1037, 46264871, 600, b'2022-11-03T12:51:04.872', 128, 128, 0, 0, b'Normal Completion', 59886.53547305, 59886.53547305)],\n",
       "        [(1,  7, 1037, 46268511, 600, b'2022-11-03T12:51:08.512', 128, 128, 0, 0, b'Normal Completion', 59886.53551518, 59886.53551518)],\n",
       "        [(1,  8, 1037, 46272151, 599, b'2022-11-03T12:51:12.152', 128, 128, 0, 0, b'Normal Completion', 59886.53555731, 59886.53555731)],\n",
       "        [(1,  9, 1037, 46275791, 600, b'2022-11-03T12:51:15.792', 128, 128, 0, 0, b'Normal Completion', 59886.53559944, 59886.53559944)],\n",
       "        [(1, 10, 1037, 46279431, 599, b'2022-11-03T12:51:19.432', 128, 128, 0, 0, b'Normal Completion', 59886.53564157, 59886.53564157)],\n",
       "        [(1, 11, 1037, 46283071, 599, b'2022-11-03T12:51:23.072', 128, 128, 0, 0, b'Normal Completion', 59886.5356837 , 59886.5356837 )],\n",
       "        [(1, 12, 1037, 46286711, 600, b'2022-11-03T12:51:26.712', 128, 128, 0, 0, b'Normal Completion', 59886.53572583, 59886.53572583)],\n",
       "        [(1, 13, 1037, 46290351, 599, b'2022-11-03T12:51:30.352', 128, 128, 0, 0, b'Normal Completion', 59886.53576796, 59886.53576796)],\n",
       "        [(1, 14, 1037, 46293991, 600, b'2022-11-03T12:51:33.992', 128, 128, 0, 0, b'Normal Completion', 59886.53581009, 59886.53581009)],\n",
       "        [(1, 15, 1037, 46297631, 599, b'2022-11-03T12:51:37.632', 128, 128, 0, 0, b'Normal Completion', 59886.53585222, 59886.53585222)],\n",
       "        [(1, 16, 1037, 46301271, 599, b'2022-11-03T12:51:41.272', 128, 128, 0, 0, b'Normal Completion', 59886.53589435, 59886.53589435)],\n",
       "        [(1, 17, 1037, 46304911, 600, b'2022-11-03T12:51:44.912', 128, 128, 0, 0, b'Normal Completion', 59886.53593648, 59886.53593648)],\n",
       "        [(1, 18, 1037, 46308551, 599, b'2022-11-03T12:51:48.552', 128, 128, 0, 0, b'Normal Completion', 59886.53597861, 59886.53597861)],\n",
       "        [(1, 19, 1037, 46312191, 600, b'2022-11-03T12:51:52.192', 128, 128, 0, 0, b'Normal Completion', 59886.53602074, 59886.53602074)],\n",
       "        [(1, 20, 1037, 46315831, 599, b'2022-11-03T12:51:55.832', 128, 128, 0, 0, b'Normal Completion', 59886.53606287, 59886.53606287)],\n",
       "        [(1, 21, 1037, 46319471, 599, b'2022-11-03T12:51:59.472', 128, 128, 0, 0, b'Normal Completion', 59886.536105  , 59886.536105  )],\n",
       "        [(1, 22, 1037, 46323111, 600, b'2022-11-03T12:52:03.112', 128, 128, 0, 0, b'Normal Completion', 59886.53614712, 59886.53614712)],\n",
       "        [(1, 23, 1037, 46326751, 599, b'2022-11-03T12:52:06.752', 128, 128, 0, 0, b'Normal Completion', 59886.53618925, 59886.53618925)],\n",
       "        [(1, 24, 1037, 46330391, 600, b'2022-11-03T12:52:10.392', 128, 128, 0, 0, b'Normal Completion', 59886.53623138, 59886.53623138)],\n",
       "        [(1, 25, 1037, 46334031, 600, b'2022-11-03T12:52:14.032', 128, 128, 0, 0, b'Normal Completion', 59886.53627351, 59886.53627351)],\n",
       "        [(1, 26, 1037, 46337671, 599, b'2022-11-03T12:52:17.672', 128, 128, 0, 0, b'Normal Completion', 59886.53631564, 59886.53631564)],\n",
       "        [(1, 27, 1037, 46341311, 600, b'2022-11-03T12:52:21.312', 128, 128, 0, 0, b'Normal Completion', 59886.53635777, 59886.53635777)],\n",
       "        [(1, 28, 1037, 46344951, 599, b'2022-11-03T12:52:24.952', 128, 128, 0, 0, b'Normal Completion', 59886.5363999 , 59886.5363999 )],\n",
       "        [(1, 29, 1037, 46348591, 600, b'2022-11-03T12:52:28.592', 128, 128, 0, 0, b'Normal Completion', 59886.53644203, 59886.53644203)],\n",
       "        [(1, 30, 1037, 46352231, 600, b'2022-11-03T12:52:32.232', 128, 128, 0, 0, b'Normal Completion', 59886.53648416, 59886.53648416)],\n",
       "        [(1, 31, 1037, 46355871, 599, b'2022-11-03T12:52:35.872', 128, 128, 0, 0, b'Normal Completion', 59886.53652629, 59886.53652629)],\n",
       "        [(1, 32, 1037, 46359511, 600, b'2022-11-03T12:52:39.512', 128, 128, 0, 0, b'Normal Completion', 59886.53656842, 59886.53656842)],\n",
       "        [(1, 33, 1037, 46363151, 599, b'2022-11-03T12:52:43.152', 128, 128, 0, 0, b'Normal Completion', 59886.53661055, 59886.53661055)]],\n",
       "       dtype=[('integration_number', '<i2'), ('group_number', '<i2'), ('end_day', '<i2'), ('end_milliseconds', '<i4'), ('end_submilliseconds', '<i2'), ('group_end_time', 'S26'), ('number_of_columns', '<i2'), ('number_of_rows', '<i2'), ('number_of_gaps', '<i2'), ('completion_code_number', '<i2'), ('completion_code_text', 'S36'), ('bary_end_time', '<f8'), ('helio_end_time', '<f8')]),\n",
       " 'primary_type': 'None',\n",
       " 'position_number': 1,\n",
       " 'total_points': 'NONE',\n",
       " 'pattern_size': 'DEFAULT',\n",
       " 'subpixel_type': 'None',\n",
       " 'subpixel_number': 1,\n",
       " 'subpixel_total_points': 'None',\n",
       " 'x_offset': 0.0,\n",
       " 'y_offset': 0.0,\n",
       " 'EXSEGNUM': None,\n",
       " 'EXSEGTOT': None,\n",
       " 'filename': 'jw01075001001_01101_00001_nrca2_uncal.fits',\n",
       " 'save_dir': '/Users/jarron/NIRCam/Data/Sim_pid1075/',\n",
       " 'dither_points': 1,\n",
       " 'ddist': 0.0,\n",
       " 'pid': '01075',\n",
       " 'visit_key': '001:001'}"
      ]
     },
     "execution_count": 17,
     "metadata": {},
     "output_type": "execute_result"
    }
   ],
   "source": [
    "obs_params_all[0]"
   ]
  },
  {
   "cell_type": "code",
   "execution_count": null,
   "metadata": {},
   "outputs": [],
   "source": []
  }
 ],
 "metadata": {
  "kernelspec": {
   "display_name": "Python 3",
   "language": "python",
   "name": "python3"
  },
  "language_info": {
   "codemirror_mode": {
    "name": "ipython",
    "version": 3
   },
   "file_extension": ".py",
   "mimetype": "text/x-python",
   "name": "python",
   "nbconvert_exporter": "python",
   "pygments_lexer": "ipython3",
   "version": "3.7.9"
  }
 },
 "nbformat": 4,
 "nbformat_minor": 2
}
