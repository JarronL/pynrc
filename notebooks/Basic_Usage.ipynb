{
 "cells": [
  {
   "cell_type": "markdown",
   "metadata": {},
   "source": [
    "# Basic Usage\n",
    "\n",
    "This tutorial walks through the basic usage of the `pynrc` package to calculate sensitivities and saturation limits for NIRCam in a variety of modes. "
   ]
  },
  {
   "cell_type": "code",
   "execution_count": 1,
   "metadata": {},
   "outputs": [],
   "source": [
    "# Import the usual libraries\n",
    "import numpy as np\n",
    "import matplotlib\n",
    "import matplotlib.pyplot as plt\n",
    "\n",
    "# Enable inline plotting at lower left\n",
    "%matplotlib inline"
   ]
  },
  {
   "cell_type": "markdown",
   "metadata": {},
   "source": [
    "## Getting Started\n",
    "\n",
    "We assume you have already installed `pynrc` as outlined in the documentation."
   ]
  },
  {
   "cell_type": "code",
   "execution_count": 2,
   "metadata": {},
   "outputs": [],
   "source": [
    "# import main module\n",
    "import pynrc\n",
    "from pynrc import nrc_utils"
   ]
  },
  {
   "cell_type": "markdown",
   "metadata": {},
   "source": [
    "Log messages for `pynrc` follow the same the logging functionality included in `webbpsf`. Logging levels include `DEBUG`, `INFO`, `WARN`, and `ERROR`. "
   ]
  },
  {
   "cell_type": "code",
   "execution_count": 3,
   "metadata": {},
   "outputs": [
    {
     "name": "stdout",
     "output_type": "stream",
     "text": [
      "pyNRC log messages of level INFO and above will be shown.\n",
      "pyNRC log outputs will be directed to the screen.\n"
     ]
    }
   ],
   "source": [
    "pynrc.setup_logging()"
   ]
  },
  {
   "cell_type": "markdown",
   "metadata": {},
   "source": [
    "If you get tired of the `INFO` level messages, simply type:\n",
    "```python\n",
    "pynrc.setup_logging('WARN', verbose=False)\n",
    "```    "
   ]
  },
  {
   "cell_type": "markdown",
   "metadata": {},
   "source": [
    "## First NIRCam Observation\n",
    "\n",
    "The basic NIRCam object consists of all the instrument settings one would specify for a JWST observation, including filter, pupil, and coronagraphic mask selections along with detector subarray settings and ramp sampling cadence (i.e., `MULTIACCUM`).\n",
    "\n",
    "The NIRCam class makes use of high order polynomial coefficient maps to quickly generate large numbers of monochromatic PSFs that can be convolved with arbitrary spectra and collapsed into a final broadband PSF (or dispersed with NIRCam's slitless grisms). The PSF coefficients are calculated from a series of WebbPSF monochromatic PSFs and saved to disk. These polynomial coefficients are further modifed based on focal plane position and drift in the wavefront error relative to nominal OPD mao.\n",
    "\n",
    "There are a multitude of posssible keywords one can pass upon initialization, including certain detector settings and PSF generation parameters. If not passed initially, then defaults are assumed. The user can update these parameters at any time by either setting attributes directly (e.g., `filter`, `mask`, `pupil`, etc.) along with using the `update_detectors()` and `update_psf_coeff()` methods.\n",
    "\n",
    "For instance,\n",
    "```python\n",
    "nrc = pynrc.NIRCam('F210M')\n",
    "nrc.module = 'B'\n",
    "nrc.update_detectors(read_mode='DEEP8', nint=10, ngroup=5)\n",
    "```\n",
    "is the same as:\n",
    "```python\n",
    "nrc = pynrc.NIRCam('F210M', module='B', read_mode='DEEP8', nint=10, ngroup=5)\n",
    "```\n",
    "\n",
    "To start, we'll set up a simple observation using the `F430M` filter. Defaults will be populated for unspecified attributes such as `module`, `pupil`, `mask`, etc. \n",
    "\n",
    "**Check the function docstrings for more detailed information**"
   ]
  },
  {
   "cell_type": "code",
   "execution_count": 4,
   "metadata": {},
   "outputs": [
    {
     "name": "stdout",
     "output_type": "stream",
     "text": [
      "[   webbpsf:INFO] NIRCam aperture name updated to NRCA1_FULL\n",
      "[   webbpsf:INFO] NIRCam pixel scale switched to 0.063000 arcsec/pixel for the long wave channel.\n",
      "[   webbpsf:INFO] NIRCam aperture name updated to NRCA5_FULL\n",
      "[     pynrc:INFO] RAPID readout mode selected.\n",
      "[     pynrc:INFO] Setting ngroup=1, nf=1, nd1=0, nd2=0, nd3=0.\n",
      "[     pynrc:INFO] Initializing SCA 485/A5\n",
      "[     pynrc:INFO] Suggested SIAF aperture name: NRCA5_FULL\n",
      "[     pynrc:INFO] RAPID readout mode selected.\n",
      "[     pynrc:INFO] Setting ngroup=1, nf=1, nd1=0, nd2=0, nd3=0.\n",
      "[     pynrc:INFO] Initializing SCA 485/A5\n",
      "[webbpsf_ext:INFO] Loading /home/jarronl/NIRCam/webbpsf_ext_data/psf_coeffs/NIRCam/LWA_F430M_CLEAR_NONE_pix33_os4_jsig5_r0.00_th+0.0_RevWslice0_siwfe_distort_legendre.fits\n",
      "[     pynrc:INFO] Suggested SIAF aperture name: NRCA5_FULL\n",
      "\n",
      "Filter: F430M;  Pupil Mask: None;  Image Mask: None;  Module: A\n"
     ]
    }
   ],
   "source": [
    "nrc = pynrc.NIRCam(filter='F430M', fov_pix=33, oversample=4)\n",
    "print('\\nFilter: {};  Pupil Mask: {};  Image Mask: {};  Module: {}'\\\n",
    "      .format(nrc.filter, nrc.pupil_mask, nrc.image_mask, nrc.module))"
   ]
  },
  {
   "cell_type": "markdown",
   "metadata": {},
   "source": [
    "Keyword information for detector settings are stored in the `det_info` dictionary. These cannot be modified directly, but instead are updated via the `update_detectors()` methods."
   ]
  },
  {
   "cell_type": "code",
   "execution_count": 5,
   "metadata": {},
   "outputs": [
    {
     "name": "stdout",
     "output_type": "stream",
     "text": [
      "Detector Info Keywords:\n",
      "{'wind_mode': 'FULL', 'nout': 4, 'xpix': 2048, 'ypix': 2048, 'x0': 0, 'y0': 0, 'read_mode': 'RAPID', 'nint': 1, 'ngroup': 1, 'nf': 1, 'nd1': 0, 'nd2': 0, 'nd3': 0}\n"
     ]
    }
   ],
   "source": [
    "print('Detector Info Keywords:')\n",
    "print(nrc.det_info)"
   ]
  },
  {
   "cell_type": "markdown",
   "metadata": {},
   "source": [
    "PSF settings are stored and modified in the same manner as WebbPSF (https://webbpsf.readthedocs.io/en/stable/usage.html) with a couple minor modifications:\n",
    "  1. The calculated field of view is specified as `nrc.fov_pix` along with the `nrc.oversample` attributes. \n",
    "  2. In addition, you can turn on/off distortions via the `nrc.include_distortions` attribute.\n",
    "  3. The primary method for calculating PSFs has changed to `nrc.calc_psf_from_coeff`.\n",
    "  \n",
    "You can quickly obtain a brief overview of important settings through the `psf_info` dictionary property. These properties can also be updated via the `nrc.update_psf_coeff()` function, which immediately generates a new set of PSF coefficients."
   ]
  },
  {
   "cell_type": "code",
   "execution_count": 6,
   "metadata": {},
   "outputs": [
    {
     "name": "stdout",
     "output_type": "stream",
     "text": [
      "PSF Info:\n",
      "{'fov_pix': 33, 'oversample': 4, 'npsf': 7, 'ndeg': 6, 'include_si_wfe': True, 'include_distortions': True, 'jitter': 'gaussian', 'jitter_sigma': 0.005, 'offset_r': 0, 'offset_theta': 0, 'bar_offset': None, 'pupil': '/home/jarronl/NIRCam/webbpsf-data/jwst_pupil_RevW_npix1024.fits.gz', 'pupilopd': ('OPD_RevW_ote_for_NIRCam_predicted.fits', 0)}\n"
     ]
    }
   ],
   "source": [
    "print('PSF Info:')\n",
    "print(nrc.psf_info)"
   ]
  },
  {
   "cell_type": "markdown",
   "metadata": {},
   "source": [
    "PSF coefficient information is stored in the `psf_coeff` attribute. An associated header file exists in the `psf_coeff_header`, showing all of the parameters used to generate that data. This data is accessed by many of the NIRCam class functions to generate PSFs with arbitrary wavelength weights, such as the `calc_psf_from_coeff()` function."
   ]
  },
  {
   "cell_type": "code",
   "execution_count": 7,
   "metadata": {},
   "outputs": [
    {
     "data": {
      "image/png": "[encoded data removed]",
      "text/plain": [
       "<Figure size 864x288 with 3 Axes>"
      ]
     },
     "metadata": {
      "needs_background": "light"
     },
     "output_type": "display_data"
    }
   ],
   "source": [
    "# Demonstrate the color difference of the PSF for different spectral types, same magnitude\n",
    "sp_M0V = pynrc.stellar_spectrum('M0V', 10, 'vegamag', nrc.bandpass)\n",
    "sp_A0V = pynrc.stellar_spectrum('A0V', 10, 'vegamag', nrc.bandpass)\n",
    "\n",
    "# Generate oversampled PSFs (counts/sec)\n",
    "hdul_M0V = nrc.calc_psf_from_coeff(sp=sp_M0V, return_oversample=True)\n",
    "hdul_A0V = nrc.calc_psf_from_coeff(sp=sp_A0V, return_oversample=True)\n",
    "\n",
    "psf_M0V = hdul_M0V[0].data\n",
    "psf_A0V = hdul_A0V[0].data\n",
    "\n",
    "fig, axes = plt.subplots(1,3, figsize=(12,4))\n",
    "\n",
    "axes[0].imshow(psf_M0V**0.5)\n",
    "axes[0].set_title('M0V PSF ({})'.format(nrc.filter))\n",
    "axes[1].imshow(psf_A0V**0.5)\n",
    "axes[1].set_title('A0V PSF ({})'.format(nrc.filter))\n",
    "\n",
    "diff = psf_M0V - psf_A0V\n",
    "\n",
    "minmax = np.abs(diff).max() / 2\n",
    "axes[2].imshow(diff, cmap='RdBu', vmin=-minmax, vmax=minmax)\n",
    "axes[2].set_title('Difference')\n",
    "\n",
    "fig.tight_layout()"
   ]
  },
  {
   "cell_type": "markdown",
   "metadata": {},
   "source": [
    "Bandpass information is stored in the `bandpass` attribute and can be plotted with the convenience function `plot_bandpass()`."
   ]
  },
  {
   "cell_type": "code",
   "execution_count": 8,
   "metadata": {
    "scrolled": false
   },
   "outputs": [
    {
     "data": {
      "image/png": "[encoded data removed]",
      "text/plain": [
       "<Figure size 576x432 with 1 Axes>"
      ]
     },
     "metadata": {
      "needs_background": "light"
     },
     "output_type": "display_data"
    }
   ],
   "source": [
    "fig, ax = plt.subplots(1,1)\n",
    "nrc.plot_bandpass(ax=ax, color='C3')\n",
    "\n",
    "fig.tight_layout()"
   ]
  },
  {
   "cell_type": "markdown",
   "metadata": {},
   "source": [
    "## 1. Saturation Limits\n",
    "\n",
    "One of the most basic functions is to determine the saturation limit of a CDS observation, so let's try this for the current filter selection. Generally, saturation is considered to be 80% of the full well, but can go as high as 95%."
   ]
  },
  {
   "cell_type": "code",
   "execution_count": 9,
   "metadata": {},
   "outputs": [
    {
     "name": "stdout",
     "output_type": "stream",
     "text": [
      "New Ramp Settings\n",
      "  read_mode  :    RAPID\n",
      "  nf         :        1\n",
      "  nd2        :        0\n",
      "  ngroup     :        2\n",
      "  nint       :        1\n",
      "New Detector Settings\n",
      "  wind_mode  :     FULL\n",
      "  xpix       :     2048\n",
      "  ypix       :     2048\n",
      "  x0         :        0\n",
      "  y0         :        0\n",
      "New Ramp Times\n",
      "  t_group    :   10.737\n",
      "  t_frame    :   10.737\n",
      "  t_int      :   21.474\n",
      "  t_int_tot1 :   21.474\n",
      "  t_int_tot2 :    0.000\n",
      "  t_exp      :   21.474\n",
      "  t_acq      :   21.479\n"
     ]
    }
   ],
   "source": [
    "# Turn off those pesky informational texts\n",
    "pynrc.setup_logging('WARN', verbose=False)\n",
    "\n",
    "# Configure the observation for CDS frames (ngroup=2)\n",
    "# Print out frame and ramp information using verbose=True\n",
    "nrc.update_detectors(ngroup=2, verbose=True)"
   ]
  },
  {
   "cell_type": "markdown",
   "metadata": {},
   "source": [
    "The `sat_limits()` function returns a dictionary of results. There's the option in include a Pysynphot spectrum, but if None is specificed then it defaults to a G2V star."
   ]
  },
  {
   "cell_type": "code",
   "execution_count": 10,
   "metadata": {},
   "outputs": [
    {
     "name": "stdout",
     "output_type": "stream",
     "text": [
      "F430M Saturation Limit assuming G2V source (point source): 12.16 vegamag\n",
      "F430M Saturation Limit assuming G2V source (extended): 8.46 vegamag/arcsec^2\n",
      "\n",
      "Dictionary Info: ({'satlim': 12.159015250560046, 'units': 'vegamag', 'bp_lim': 'F430M', 'Spectrum': 'G2V'}, {'satlim': 8.456428360335746, 'units': 'vegamag/arcsec^2', 'bp_lim': 'F430M', 'Spectrum': 'G2V'})\n"
     ]
    }
   ],
   "source": [
    "# Set verbose=True to print results in a user-friendly manner\n",
    "sat_lims = nrc.sat_limits(verbose=True)\n",
    "\n",
    "# Dictionary information\n",
    "print(\"\\nDictionary Info:\", sat_lims)"
   ]
  },
  {
   "cell_type": "markdown",
   "metadata": {},
   "source": [
    "By default, the function `sat_limits()` uses a G2V stellar spectrum, but any arbritrary spectrum can be passed via the `sp` keyword. In addition, using the `bp_lim` keyword, you can use spectral information to determine the brightness in some other bandpass that saturates the source within the NIRCam filter. "
   ]
  },
  {
   "cell_type": "code",
   "execution_count": 11,
   "metadata": {},
   "outputs": [
    {
     "name": "stdout",
     "output_type": "stream",
     "text": [
      "Ks-Band Saturation Limit for F430M assuming M0V source (point source): 12.30 vegamag\n",
      "Ks-Band Saturation Limit for F430M assuming M0V source (extended): 8.59 vegamag/arcsec^2\n"
     ]
    }
   ],
   "source": [
    "# Spectrum of an M0V star (not normalized)\n",
    "sp_M0V = pynrc.stellar_spectrum('M0V')\n",
    "# 2MASS Ks Bandpass\n",
    "bp_k = pynrc.bp_2mass('K')\n",
    "\n",
    "sat_lims = nrc.sat_limits(sp=sp_M0V, bp_lim=bp_k, verbose=True)"
   ]
  },
  {
   "cell_type": "markdown",
   "metadata": {},
   "source": [
    "Now, let's get the same saturation limit assuming a 128x128 detector subarray (faster frame rate)."
   ]
  },
  {
   "cell_type": "code",
   "execution_count": 12,
   "metadata": {},
   "outputs": [
    {
     "name": "stdout",
     "output_type": "stream",
     "text": [
      "Ks-Band Saturation Limit for F430M assuming M0V source (point source): 7.87 vegamag\n",
      "Ks-Band Saturation Limit for F430M assuming M0V source (extended): 4.17 vegamag/arcsec^2\n"
     ]
    }
   ],
   "source": [
    "nrc.update_detectors(wind_mode='WINDOW', xpix=128, ypix=128)\n",
    "sat_lims = nrc.sat_limits(sp=sp_M0V, bp_lim=bp_k, verbose=True)"
   ]
  },
  {
   "cell_type": "markdown",
   "metadata": {},
   "source": [
    "You can also use the `saturation_levels()` function to generate an image of a point source indicating the fractional well fill level."
   ]
  },
  {
   "cell_type": "code",
   "execution_count": 13,
   "metadata": {
    "scrolled": false
   },
   "outputs": [
    {
     "name": "stdout",
     "output_type": "stream",
     "text": [
      "Max Well Fraction: 0.71\n"
     ]
    }
   ],
   "source": [
    "# Spectum of A0V star with Ks = 8 mag\n",
    "sp = pynrc.stellar_spectrum('M0V', 8, 'vegamag', bp_k)\n",
    "sat_levels = nrc.saturation_levels(sp, full_size=False, ngroup=nrc.det_info['ngroup'])\n",
    "\n",
    "print('Max Well Fraction: {:.2f}'.format(sat_levels.max()))"
   ]
  },
  {
   "cell_type": "code",
   "execution_count": 14,
   "metadata": {},
   "outputs": [
    {
     "data": {
      "image/png": "[encoded data removed]",
      "text/plain": [
       "<Figure size 864x360 with 4 Axes>"
      ]
     },
     "metadata": {
      "needs_background": "light"
     },
     "output_type": "display_data"
    }
   ],
   "source": [
    "# Plot the well fill levels for each pixel\n",
    "fig, axes = plt.subplots(1,2, figsize=(12,5))\n",
    "\n",
    "for i,ax in enumerate(axes):\n",
    "    extent = 0.5 * nrc.psf_info['fov_pix'] * np.array([-1,1,-1,1])\n",
    "    if i==0:\n",
    "        cax = ax.imshow(sat_levels, extent=extent, vmin=0, vmax=1)\n",
    "    else:\n",
    "        norm = matplotlib.colors.LogNorm(vmin=0.001, vmax=1)\n",
    "        cax = ax.imshow(sat_levels, extent=extent, norm=norm)\n",
    "    ax.set_xlabel('Pixels')\n",
    "    ax.set_ylabel('Pixels')\n",
    "    ax.set_title('Well Fraction in {} of $K_s = 5$ M0V star'.format(nrc.filter))\n",
    "\n",
    "    cbar = fig.colorbar(cax, ax=ax)\n",
    "    cbar.set_label('Well Fill Fraction')\n",
    "\n",
    "    ax.tick_params(axis='both', color='white', which='both')\n",
    "    for k in ax.spines.keys():\n",
    "        ax.spines[k].set_color('white')\n",
    "        \n",
    "fig.tight_layout()"
   ]
  },
  {
   "cell_type": "markdown",
   "metadata": {},
   "source": [
    "Information for slitless grism observations show wavelength-dependent results."
   ]
  },
  {
   "cell_type": "code",
   "execution_count": 15,
   "metadata": {
    "scrolled": false
   },
   "outputs": [
    {
     "name": "stdout",
     "output_type": "stream",
     "text": [
      "Ks-Band Saturation Limit for F444W assuming M0V source:\n",
      "   Wave   Sat Limit (vegamag)\n",
      "--------- -------------------\n",
      "     3.90                4.41\n",
      "     4.00                4.40\n",
      "     4.10                4.29\n",
      "     4.20                4.17\n",
      "     4.30                4.02\n",
      "     4.40                3.78\n",
      "     4.50                3.60\n",
      "     4.60                3.43\n",
      "     4.70                3.25\n",
      "     4.80                3.09\n",
      "     4.90                2.88\n",
      "     5.00                2.31\n"
     ]
    }
   ],
   "source": [
    "nrc = pynrc.NIRCam('F444W', pupil='GRISM0', ngroup=2, wind_mode='STRIPE', ypix=128)\n",
    "sat_lims = nrc.sat_limits(sp=sp_M0V, bp_lim=bp_k, verbose=True)"
   ]
  },
  {
   "cell_type": "markdown",
   "metadata": {},
   "source": [
    "## 2. Sensitivity Limits\n",
    "\n",
    "Similarly, we can determine sensitivity limits of point sources (and extended sources) for the defined instrument configuration. By default, the `sensitivity()` function uses a flat spectrum. In this case, let's find the sensitivities NIRCam can reach in a single ~1000sec integration with the F430M filter. Noise values will depend on the exact `MULTIACCUM` settings."
   ]
  },
  {
   "cell_type": "code",
   "execution_count": 16,
   "metadata": {},
   "outputs": [
    {
     "name": "stdout",
     "output_type": "stream",
     "text": [
      "{'t_frame': 10.73677, 't_group': 107.3677, 't_int': 1052.20346, 't_exp': 1052.20346, 't_acq': 1052.2087, 't_int_tot1': 1052.20346, 't_int_tot2': 0.0}\n"
     ]
    }
   ],
   "source": [
    "nrc = pynrc.NIRCam('F430M')\n",
    "nrc.update_detectors(read_mode='MEDIUM8', ngroup=10)\n",
    "\n",
    "# The multiaccum_times attribute describes the various timing information\n",
    "print(nrc.multiaccum_times)"
   ]
  },
  {
   "cell_type": "code",
   "execution_count": 17,
   "metadata": {},
   "outputs": [
    {
     "name": "stdout",
     "output_type": "stream",
     "text": [
      "Point Source Sensitivity (5-sigma): 23.33 vegamag\n",
      "Surface Brightness Sensitivity (5-sigma): 21.20 vegamag/arcsec^2\n"
     ]
    }
   ],
   "source": [
    "sens = nrc.sensitivity(nsig=5, units='vegamag', verbose=True)"
   ]
  },
  {
   "cell_type": "markdown",
   "metadata": {},
   "source": [
    "The sensitivity function also includes a keyword `forwardSNR`, which allows the user to pass a normalized spectrum and estimate the SNR For some extraction aperture."
   ]
  },
  {
   "cell_type": "code",
   "execution_count": 18,
   "metadata": {},
   "outputs": [
    {
     "name": "stdout",
     "output_type": "stream",
     "text": [
      "Point Source SNR (20.00 vegamag): 75.94 sigma\n",
      "Surface Brightness SNR (20.00 vegamag/arcsec^2): 14.32 sigma\n"
     ]
    }
   ],
   "source": [
    "sp = pynrc.stellar_spectrum('M0V', 20, 'vegamag', nrc.bandpass)\n",
    "snr = nrc.sensitivity(sp=sp, forwardSNR=True, units='vegamag', verbose=True)"
   ]
  },
  {
   "cell_type": "markdown",
   "metadata": {},
   "source": [
    "## 3. Ramp Optimization\n",
    "\n",
    "Armed with these two basic functions, we can attempt to determine the best instrument settings to optimize for SNR and efficiency. In these types of optimizations, we must consider observational constraints such as saturation levels, SNR requirements, and limits on acquisition time.\n",
    "\n",
    "**Note**: The reported acquisition times do not include obsevatory and instrument-level overheads, such as slew times, filter changes, script compilations, etc. It only includes detector readout times (including reset frames and Fast Row Resets).\n",
    "\n",
    "For instance, we want to observe an M-Dwarf (K=18 mag) in the F430M filter. What is the most efficient configuration to obtain an SNR of 100?"
   ]
  },
  {
   "cell_type": "code",
   "execution_count": 19,
   "metadata": {},
   "outputs": [],
   "source": [
    "# Setup observation\n",
    "nrc = pynrc.NIRCam('F430M', wind_mode='WINDOW', xpix=160, ypix=160)\n",
    "\n",
    "# Spectrum of an M2V star\n",
    "bp_k = pynrc.bp_2mass('K')\n",
    "sp_M0V = pynrc.stellar_spectrum('M0V', 18, 'vegamag', bp_k)"
   ]
  },
  {
   "cell_type": "code",
   "execution_count": 20,
   "metadata": {},
   "outputs": [
    {
     "name": "stdout",
     "output_type": "stream",
     "text": [
      "BRIGHT1\n",
      "BRIGHT2\n",
      "DEEP2\n",
      "DEEP8\n",
      "MEDIUM2\n",
      "MEDIUM8\n",
      "RAPID\n",
      "SHALLOW2\n",
      "SHALLOW4\n",
      " Pattern   NGRP NINT   t_int     t_exp     t_acq     SNR      Well     eff   \n",
      "---------- ---- ---- --------- --------- --------- -------- -------- --------\n",
      "DEEP8         5   10     24.52    245.20    248.04    114.3    0.005    7.254\n",
      "MEDIUM8       7   11     18.95    208.42    211.54     99.8    0.004    6.861\n",
      "MEDIUM8       7   12     18.95    227.37    230.78    104.2    0.004    6.861\n",
      "MEDIUM2       9   10     22.85    228.48    231.32    100.3    0.004    6.597\n",
      "MEDIUM2       9   11     22.85    251.33    254.46    105.2    0.004    6.597\n",
      "SHALLOW4     10   18     13.65    245.76    250.87     99.0    0.003    6.248\n",
      "SHALLOW4     10   19     13.65    259.41    264.81    101.7    0.003    6.248\n",
      "SHALLOW4     10   20     13.65    273.07    278.74    104.3    0.003    6.248\n",
      "DEEP2         5   12     22.85    274.18    277.59    102.2    0.004    6.131\n",
      "SHALLOW2     10   23     13.10    301.21    307.74     99.6    0.003    5.676\n",
      "SHALLOW2     10   24     13.10    314.31    321.12    101.7    0.003    5.676\n",
      "SHALLOW2     10   25     13.10    327.40    334.50    103.8    0.003    5.676\n",
      "BRIGHT2      10  109      5.57    607.44    638.37     99.8    0.001    3.950\n",
      "...         ...  ...       ...       ...       ...      ...      ...      ...\n",
      "RAPID        10  652      2.79   1816.73   2001.77    101.2    0.001    2.261\n",
      "RAPID        10  653      2.79   1819.52   2004.84    101.2    0.001    2.261\n",
      "RAPID        10  654      2.79   1822.31   2007.91    101.3    0.001    2.261\n",
      "RAPID        10  655      2.79   1825.09   2010.98    101.4    0.001    2.261\n",
      "RAPID        10  656      2.79   1827.88   2014.05    101.5    0.001    2.261\n",
      "RAPID        10  657      2.79   1830.66   2017.12    101.6    0.001    2.261\n",
      "RAPID        10  658      2.79   1833.45   2020.19    101.6    0.001    2.261\n",
      "RAPID        10  659      2.79   1836.24   2023.26    101.7    0.001    2.261\n",
      "RAPID        10  660      2.79   1839.02   2026.33    101.8    0.001    2.261\n",
      "RAPID        10  661      2.79   1841.81   2029.40    101.9    0.001    2.261\n",
      "RAPID        10  662      2.79   1844.60   2032.47    101.9    0.001    2.261\n",
      "RAPID        10  663      2.79   1847.38   2035.54    102.0    0.001    2.261\n",
      "RAPID         9  889      2.51   2229.40   2481.70    102.1    0.000    2.048\n",
      "Length = 56 rows\n"
     ]
    }
   ],
   "source": [
    "# Run optimizer. Result is a sorted by efficiency.\n",
    "tbl = nrc.ramp_optimize(sp_M0V, snr_goal=100, ng_min=5, nint_min=10, verbose=True)"
   ]
  },
  {
   "cell_type": "markdown",
   "metadata": {},
   "source": [
    "For a slightly more complicated scenario, consider an additional foreground source. In this scenario, the F0V star will saturate much more quickly compared to the fainter M2V, so it limits which ramp settings we may want to use (assuming we want unsaturated frames, which isn't always necessarily true)."
   ]
  },
  {
   "cell_type": "code",
   "execution_count": 21,
   "metadata": {},
   "outputs": [
    {
     "name": "stdout",
     "output_type": "stream",
     "text": [
      "BRIGHT1\n",
      "BRIGHT2\n",
      "DEEP2\n",
      "DEEP8\n",
      "MEDIUM2\n",
      "MEDIUM8\n",
      "RAPID\n",
      "SHALLOW2\n",
      "SHALLOW4\n",
      " Pattern   NGRP NINT   t_int     t_exp     t_acq     SNR      Well     eff   \n",
      "---------- ---- ---- --------- --------- --------- -------- -------- --------\n",
      "RAPID        10  637      2.79   1774.94   1955.72    100.0    0.765    2.261\n",
      "RAPID        10  638      2.79   1777.72   1958.79    100.1    0.765    2.261\n",
      "RAPID        10  639      2.79   1780.51   1961.86    100.2    0.765    2.261\n",
      "RAPID        10  640      2.79   1783.30   1964.93    100.2    0.765    2.261\n",
      "RAPID        10  641      2.79   1786.08   1968.00    100.3    0.765    2.261\n",
      "RAPID        10  642      2.79   1788.87   1971.07    100.4    0.765    2.261\n",
      "RAPID        10  643      2.79   1791.66   1974.14    100.5    0.765    2.261\n",
      "RAPID        10  644      2.79   1794.44   1977.21    100.5    0.765    2.261\n",
      "RAPID        10  645      2.79   1797.23   1980.28    100.6    0.765    2.261\n",
      "RAPID        10  646      2.79   1800.01   1983.35    100.7    0.765    2.261\n",
      "RAPID        10  647      2.79   1802.80   1986.42    100.8    0.765    2.261\n",
      "RAPID        10  648      2.79   1805.59   1989.49    100.9    0.765    2.261\n",
      "RAPID        10  649      2.79   1808.37   1992.56    100.9    0.765    2.261\n",
      "...         ...  ...       ...       ...       ...      ...      ...      ...\n",
      "BRIGHT1       6  720      3.07   2206.83   2411.16    101.3    0.841    2.062\n",
      "BRIGHT1       6  721      3.07   2209.89   2414.51    101.4    0.841    2.062\n",
      "BRIGHT1       6  722      3.07   2212.96   2417.86    101.4    0.841    2.062\n",
      "BRIGHT1       6  723      3.07   2216.02   2421.21    101.5    0.841    2.062\n",
      "BRIGHT1       6  724      3.07   2219.09   2424.56    101.6    0.841    2.062\n",
      "BRIGHT1       6  725      3.07   2222.15   2427.91    101.7    0.841    2.062\n",
      "BRIGHT1       6  726      3.07   2225.22   2431.26    101.7    0.841    2.062\n",
      "BRIGHT1       6  727      3.07   2228.28   2434.61    101.8    0.841    2.062\n",
      "BRIGHT1       6  728      3.07   2231.35   2437.96    101.9    0.841    2.062\n",
      "BRIGHT1       6  729      3.07   2234.41   2441.30    101.9    0.841    2.062\n",
      "BRIGHT1       6  730      3.07   2237.48   2444.65    102.0    0.841    2.062\n",
      "RAPID         9  889      2.51   2229.40   2481.70    102.1    0.688    2.048\n",
      "BRIGHT1       5 1239      2.51   3107.11   3458.74    102.0    0.688    1.734\n",
      "Length = 88 rows\n"
     ]
    }
   ],
   "source": [
    "sp_F0V = pynrc.stellar_spectrum('F0V', 10, 'vegamag', bp_k)\n",
    "tbl = nrc.ramp_optimize(sp_M0V, sp_bright=sp_F0V, snr_goal=100, ng_min=5, nint_min=10, \n",
    "                        well_frac_max=0.9, verbose=True)"
   ]
  },
  {
   "cell_type": "markdown",
   "metadata": {},
   "source": [
    "If there are no objections to saturating the bright source, then we can set the `well_frac_max` parameter to something like 5 times the hard saturation limit. This allows for much more efficient exposure settings."
   ]
  },
  {
   "cell_type": "code",
   "execution_count": 22,
   "metadata": {},
   "outputs": [
    {
     "name": "stdout",
     "output_type": "stream",
     "text": [
      "BRIGHT1\n",
      "BRIGHT2\n",
      "DEEP2\n",
      "DEEP8\n",
      "MEDIUM2\n",
      "MEDIUM8\n",
      "RAPID\n",
      "SHALLOW2\n",
      "SHALLOW4\n",
      " Pattern   NGRP NINT   t_int     t_exp     t_acq     SNR      Well     eff   \n",
      "---------- ---- ---- --------- --------- --------- -------- -------- --------\n",
      "MEDIUM8       6   14     16.16    226.26    230.23     98.8    4.436    6.511\n",
      "MEDIUM8       6   15     16.16    242.42    246.67    102.3    4.436    6.511\n",
      "SHALLOW4     10   18     13.65    245.76    250.87     99.0    3.748    6.248\n",
      "SHALLOW4     10   19     13.65    259.41    264.81    101.7    3.748    6.248\n",
      "SHALLOW4     10   20     13.65    273.07    278.74    104.3    3.748    6.248\n",
      "MEDIUM8       5   21     13.37    280.87    286.83    102.5    3.671    6.053\n",
      "MEDIUM2       7   16     17.28    276.41    280.95     98.7    4.742    5.885\n",
      "MEDIUM2       7   17     17.28    293.69    298.51    101.7    4.742    5.885\n",
      "MEDIUM2       7   18     17.28    310.96    316.07    104.6    4.742    5.885\n",
      "SHALLOW2     10   23     13.10    301.21    307.74     99.6    3.595    5.676\n",
      "SHALLOW2     10   24     13.10    314.31    321.12    101.7    3.595    5.676\n",
      "SHALLOW2     10   25     13.10    327.40    334.50    103.8    3.595    5.676\n",
      "BRIGHT2      10  109      5.57    607.44    638.37     99.8    1.530    3.950\n",
      "...         ...  ...       ...       ...       ...      ...      ...      ...\n",
      "RAPID        10  652      2.79   1816.73   2001.77    101.2    0.765    2.261\n",
      "RAPID        10  653      2.79   1819.52   2004.84    101.2    0.765    2.261\n",
      "RAPID        10  654      2.79   1822.31   2007.91    101.3    0.765    2.261\n",
      "RAPID        10  655      2.79   1825.09   2010.98    101.4    0.765    2.261\n",
      "RAPID        10  656      2.79   1827.88   2014.05    101.5    0.765    2.261\n",
      "RAPID        10  657      2.79   1830.66   2017.12    101.6    0.765    2.261\n",
      "RAPID        10  658      2.79   1833.45   2020.19    101.6    0.765    2.261\n",
      "RAPID        10  659      2.79   1836.24   2023.26    101.7    0.765    2.261\n",
      "RAPID        10  660      2.79   1839.02   2026.33    101.8    0.765    2.261\n",
      "RAPID        10  661      2.79   1841.81   2029.40    101.9    0.765    2.261\n",
      "RAPID        10  662      2.79   1844.60   2032.47    101.9    0.765    2.261\n",
      "RAPID        10  663      2.79   1847.38   2035.54    102.0    0.765    2.261\n",
      "RAPID         9  889      2.51   2229.40   2481.70    102.1    0.688    2.048\n",
      "Length = 56 rows\n"
     ]
    }
   ],
   "source": [
    "tbl = nrc.ramp_optimize(sp_M0V, sp_bright=sp_F0V, snr_goal=100, ng_min=5, nint_min=10, \n",
    "                        well_frac_max=5, verbose=True)"
   ]
  },
  {
   "cell_type": "code",
   "execution_count": null,
   "metadata": {},
   "outputs": [],
   "source": []
  }
 ],
 "metadata": {
  "kernelspec": {
   "display_name": "Python 3 (ipykernel)",
   "language": "python",
   "name": "python3"
  },
  "language_info": {
   "codemirror_mode": {
    "name": "ipython",
    "version": 3
   },
   "file_extension": ".py",
   "mimetype": "text/x-python",
   "name": "python",
   "nbconvert_exporter": "python",
   "pygments_lexer": "ipython3",
   "version": "3.8.12"
  }
 },
 "nbformat": 4,
 "nbformat_minor": 2
}
