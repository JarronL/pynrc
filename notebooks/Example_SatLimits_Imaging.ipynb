{
 "cells": [
  {
   "cell_type": "markdown",
   "metadata": {},
   "source": [
    "# Saturation Limits for Direct Imaging\n",
    "\n",
    "For each NIRCam filter, find the saturation limit for a 2-frame (CDS) ramp.\n",
    "\n",
    "This notebook cycles over all SW and LW filters to find saturation limits for various detector readout modes:\n",
    " * Full Frame\n",
    " * Window\n",
    "  * SUB64\n",
    "  * SUB160\n",
    "  * SUB320\n",
    "  * SUB400\n",
    "  * SUB640\n",
    " * Stripe modes\n",
    "  * STRIPE64\n",
    "  * STRIPE128\n",
    "  * STRIPE256\n",
    " \n",
    "Saturation limits for both NIRCam modules (A and B) are calculated.\n",
    "\n",
    "Results are returned an AstroPy Table of the results, saved in a dictionary `tbls_dict`."
   ]
  },
  {
   "cell_type": "code",
   "execution_count": 1,
   "metadata": {
    "collapsed": true
   },
   "outputs": [],
   "source": [
    "# Makes print and division act like Python 3\n",
    "from __future__ import print_function, division\n",
    "\n",
    "# Import the usual libraries\n",
    "import numpy as np\n",
    "import matplotlib\n",
    "import matplotlib.pyplot as plt\n",
    "\n",
    "# Enable inline plotting at lower left\n",
    "%matplotlib inline\n",
    "\n",
    "from IPython.display import display, Latex, clear_output\n",
    "from matplotlib.backends.backend_pdf import PdfPages\n",
    "import matplotlib.patches as patches"
   ]
  },
  {
   "cell_type": "code",
   "execution_count": 2,
   "metadata": {
    "collapsed": true
   },
   "outputs": [],
   "source": [
    "# pyNRC and associates\n",
    "import pynrc\n",
    "from pynrc import nrc_utils\n",
    "from pynrc.nrc_utils import S\n",
    "from astropy.table import Table\n",
    "\n",
    "pynrc.setup_logging('WARNING', verbose=False)"
   ]
  },
  {
   "cell_type": "code",
   "execution_count": 3,
   "metadata": {
    "collapsed": true
   },
   "outputs": [],
   "source": [
    "# Filters\n",
    "filt_wide_sw = ['F070W', 'F090W', 'F115W', 'F150W', 'F150W2', 'F200W']\n",
    "filt_wide_lw = ['F277W', 'F322W2', 'F356W', 'F444W']\n",
    "\n",
    "filt_med_sw = ['F140M', 'F162M', 'F182M', 'F210M']\n",
    "filt_med_lw = ['F250M', 'F300M', 'F335M', 'F360M', 'F410M', 'F430M', 'F460M', 'F480M']\n",
    "\n",
    "filt_narr_sw = ['F164N', 'F187N', 'F212N']\n",
    "filt_narr_lw = ['F323N', 'F405N', 'F466N', 'F470N']\n",
    "\n",
    "filt_all_sw = filt_wide_sw + filt_med_sw + filt_narr_sw\n",
    "filt_all_lw = filt_wide_lw + filt_med_lw + filt_narr_lw\n",
    "filt_all = filt_all_sw + filt_all_lw"
   ]
  },
  {
   "cell_type": "code",
   "execution_count": 4,
   "metadata": {
    "collapsed": true
   },
   "outputs": [],
   "source": [
    "# NIRCam readout modes\n",
    "full   = {'wind_mode':'FULL',   'xpix':2048, 'ypix':2048}\n",
    "# Window subarrays\n",
    "sub32  = {'wind_mode':'WINDOW', 'xpix':32,   'ypix':32}\n",
    "sub64  = {'wind_mode':'WINDOW', 'xpix':64,   'ypix':64}\n",
    "sub160 = {'wind_mode':'WINDOW', 'xpix':160,  'ypix':160}\n",
    "sub320 = {'wind_mode':'WINDOW', 'xpix':320,  'ypix':320}\n",
    "sub400 = {'wind_mode':'WINDOW', 'xpix':400,  'ypix':400}\n",
    "sub640 = {'wind_mode':'WINDOW', 'xpix':640,  'ypix':640}\n",
    "# Stripe subarrays\n",
    "stp16  = {'wind_mode':'STRIPE', 'xpix':2048, 'ypix':16}\n",
    "stp32  = {'wind_mode':'STRIPE', 'xpix':2048, 'ypix':32}\n",
    "stp64  = {'wind_mode':'STRIPE', 'xpix':2048, 'ypix':64}\n",
    "stp128 = {'wind_mode':'STRIPE', 'xpix':2048, 'ypix':128}\n",
    "stp256 = {'wind_mode':'STRIPE', 'xpix':2048, 'ypix':256}\n",
    "\n",
    "subarray_settings = [full,  sub32, sub64, sub160, sub320, sub400, sub640, \n",
    "                     stp16, stp32, stp64, stp128, stp256]\n",
    "\n",
    "# Header names for each readout mode\n",
    "head = []\n",
    "head2 = []\n",
    "for d in subarray_settings:\n",
    "    if 'FULL' in d['wind_mode']:\n",
    "        name = 'FULL'\n",
    "        name2 = name\n",
    "    elif 'WINDOW' in d['wind_mode']:\n",
    "        name = 'SUB' + str(d['ypix'])\n",
    "        name2 = name\n",
    "    elif 'STRIPE' in d['wind_mode']:\n",
    "        name = 'STRIPE' + str(d['ypix'])\n",
    "        name2 = 'STRP' + str(d['ypix'])\n",
    "    head.append(name)\n",
    "    head2.append(name2)"
   ]
  },
  {
   "cell_type": "code",
   "execution_count": 11,
   "metadata": {
    "collapsed": false,
    "scrolled": true
   },
   "outputs": [],
   "source": [
    "nfilt = len(filt_all)\n",
    "nsub  = len(subarray_settings)\n",
    "sat_lims = np.zeros([nfilt,nsub])\n",
    "\n",
    "# We want the K-Band limiting magnitude for a G2V star\n",
    "sp = nrc_utils.stellar_spectrum('G2V')\n",
    "bp_lim = S.ObsBandpass('johnson,k')\n",
    "bp_lim.name = 'K-Band'\n",
    "\n",
    "tbls_dict = {}"
   ]
  },
  {
   "cell_type": "code",
   "execution_count": 13,
   "metadata": {
    "collapsed": false
   },
   "outputs": [
    {
     "name": "stdout",
     "output_type": "stream",
     "text": [
      "Module A \n",
      "K-Band saturation magnitudes assuming G2V star\n",
      "\n",
      "Filter   FULL   SUB32   SUB64  SUB160  SUB320  SUB400  SUB640  STRP16  STRP32  STRP64 STRP128 STRP256\n",
      "F070W   14.95    7.81    9.13   10.99   12.45   12.92   13.93    9.75   10.47   11.21   11.95   12.70\n",
      "F090W   15.66    8.52    9.84   11.70   13.16   13.63   14.64   10.46   11.18   11.92   12.66   13.41\n",
      "F115W   15.73    8.59    9.90   11.76   13.22   13.70   14.71   10.53   11.25   11.98   12.73   13.48\n",
      "F150W   15.63    8.49    9.80   11.66   13.12   13.60   14.60   10.42   11.14   11.88   12.62   13.37\n",
      "F150W2  16.87    9.73   11.04   12.91   14.37   14.84   15.85   11.67   12.39   13.12   13.87   14.62\n",
      "F200W   15.06    7.92    9.24   11.10   12.56   13.03   14.04    9.86   10.58   11.32   12.06   12.81\n",
      "F140M   14.87    7.73    9.04   10.90   12.36   12.84   13.84    9.66   10.38   11.12   11.86   12.61\n",
      "F162M   14.65    7.51    8.82   10.68   12.14   12.62   13.62    9.44   10.16   10.90   11.64   12.39\n",
      "F182M   14.61    7.47    8.78   10.65   12.11   12.58   13.59    9.41   10.13   10.86   11.61   12.36\n",
      "F210M   13.93    6.79    8.11    9.97   11.43   11.91   12.91    8.73    9.45   10.19   10.93   11.68\n",
      "F164N   12.25    5.11    6.42    8.28    9.74   10.22   11.22    7.04    7.76    8.50    9.24    9.99\n",
      "F187N   11.94    4.80    6.12    7.98    9.44    9.91   10.92    6.74    7.46    8.20    8.94    9.69\n",
      "F212N   11.67    4.53    5.84    7.70    9.16    9.64   10.64    6.46    7.18    7.92    8.66    9.41\n",
      "F277W   15.50    8.36    9.67   11.53   12.99   13.47   14.47   10.29   11.01   11.75   12.49   13.24\n",
      "F322W2  15.87    8.73   10.04   11.90   13.36   13.84   14.85   10.67   11.39   12.12   12.87   13.62\n",
      "F356W   14.63    7.49    8.80   10.66   12.12   12.60   13.60    9.42   10.14   10.88   11.62   12.37\n",
      "F444W   13.82    6.68    8.00    9.86   11.32   11.80   12.80    8.62    9.34   10.08   10.82   11.57\n",
      "F250M   14.37    7.23    8.54   10.40   11.86   12.34   13.35    9.17    9.89   10.62   11.37   12.12\n",
      "F300M   14.17    7.03    8.34   10.21   11.67   12.14   13.15    8.97    9.69   10.42   11.17   11.92\n",
      "F335M   13.92    6.78    8.09    9.95   11.41   11.89   12.89    8.71    9.43   10.17   10.91   11.66\n",
      "F360M   13.67    6.53    7.85    9.71   11.17   11.64   12.65    8.47    9.19    9.93   10.67   11.42\n",
      "F410M   13.26    6.12    7.44    9.30   10.76   11.23   12.24    8.06    8.78    9.52   10.26   11.01\n",
      "F430M   12.24    5.10    6.41    8.27    9.73   10.21   11.21    7.03    7.75    8.49    9.23    9.98\n",
      "F460M   11.67    4.53    5.84    7.71    9.17    9.64   10.65    6.47    7.19    7.92    8.67    9.42\n",
      "F480M   11.55    4.41    5.73    7.59    9.05    9.52   10.53    6.35    7.07    7.81    8.55    9.30\n",
      "F323N   11.25    4.11    5.42    7.28    8.74    9.22   10.22    6.04    6.76    7.50    8.24    8.99\n",
      "F405N   10.57    3.43    4.74    6.60    8.06    8.54    9.55    5.37    6.09    6.82    7.57    8.31\n",
      "F466N    9.78    2.64    3.95    5.82    7.28    7.75    8.76    4.58    5.30    6.03    6.78    7.53\n",
      "F470N    9.57    2.43    3.75    5.61    7.07    7.54    8.55    4.37    5.09    5.83    6.57    7.32\n",
      "\n"
     ]
    }
   ],
   "source": [
    "# Module A\n",
    "mod = 'A'\n",
    "\n",
    "print('Module {} \\n{} saturation magnitudes assuming {} star\\n'.format(mod,bp_lim.name, sp.name))\n",
    "print('{:<6}'.format('Filter') + ' '.join('{:>7}'.format(t) for t in head2))\n",
    "for i,filt in enumerate(filt_all):\n",
    "    for j,subset in enumerate(subarray_settings):\n",
    "        nrc = pynrc.NIRCam(filt, read_mode='RAPID', ngroup=2, module=mod, **subset)\n",
    "        lim = nrc.sat_limits(sp=sp, bp_lim=bp_lim, units='vegamag')\n",
    "        sat_lims[i,j] = lim['satmag']\n",
    "    print('{:<6}'.format(filt) + ' '.join('{: 7.2f}'.format(s) for s in sat_lims[i,:]))\n",
    "\n",
    "print(\"\")\n",
    "# Create astropy Table to hold data\n",
    "tbl = Table(sat_lims, names=head)\n",
    "for k in tbl.keys():\n",
    "    tbl[k].format = '6.2f'\n",
    "\n",
    "# Add filter column and reorder to front\n",
    "tbl['Filter'] = filt_all\n",
    "col_order = ['Filter'] + head\n",
    "tbl = tbl[col_order]\n",
    "\n",
    "tbls_dict[mod] = tbl"
   ]
  },
  {
   "cell_type": "code",
   "execution_count": 14,
   "metadata": {
    "collapsed": false
   },
   "outputs": [
    {
     "name": "stdout",
     "output_type": "stream",
     "text": [
      "Module B \n",
      "K-Band saturation magnitudes assuming G2V star\n",
      "\n",
      "Filter   FULL   SUB32   SUB64  SUB160  SUB320  SUB400  SUB640  STRP16  STRP32  STRP64 STRP128 STRP256\n",
      "F070W   14.93    7.79    9.10   10.96   12.42   12.90   13.90    9.72   10.44   11.18   11.92   12.67\n",
      "F090W   15.69    8.55    9.86   11.72   13.18   13.66   14.67   10.49   11.21   11.94   12.69   13.43\n",
      "F115W   15.71    8.57    9.89   11.75   13.21   13.68   14.69   10.51   11.23   11.97   12.71   13.46\n",
      "F150W   15.62    8.48    9.79   11.66   13.12   13.59   14.60   10.42   11.14   11.87   12.62   13.37\n",
      "F150W2  16.87    9.73   11.04   12.90   14.36   14.84   15.85   11.67   12.39   13.12   13.87   14.61\n",
      "F200W   15.06    7.92    9.23   11.09   12.55   13.03   14.03    9.85   10.57   11.31   12.05   12.80\n",
      "F140M   14.87    7.73    9.05   10.91   12.37   12.84   13.85    9.67   10.39   11.13   11.87   12.62\n",
      "F162M   14.65    7.51    8.82   10.68   12.14   12.62   13.62    9.44   10.17   10.90   11.65   12.39\n",
      "F182M   14.61    7.47    8.78   10.64   12.10   12.58   13.59    9.41   10.13   10.86   11.61   12.36\n",
      "F210M   13.92    6.78    8.09    9.95   11.41   11.89   12.89    8.71    9.43   10.17   10.91   11.66\n",
      "F164N   12.25    5.11    6.43    8.29    9.75   10.22   11.23    7.05    7.77    8.51    9.25   10.00\n",
      "F187N   11.94    4.80    6.11    7.97    9.43    9.91   10.92    6.74    7.46    8.19    8.94    9.69\n",
      "F212N   11.64    4.50    5.82    7.68    9.14    9.61   10.62    6.44    7.16    7.90    8.64    9.39\n",
      "F277W   15.33    8.19    9.51   11.37   12.83   13.30   14.31   10.13   10.85   11.59   12.33   13.08\n",
      "F322W2  15.85    8.71   10.02   11.88   13.34   13.82   14.82   10.64   11.36   12.10   12.84   13.59\n",
      "F356W   14.63    7.49    8.80   10.66   12.12   12.60   13.61    9.43   10.15   10.88   11.63   12.37\n",
      "F444W   13.93    6.79    8.10    9.96   11.42   11.90   12.90    8.72    9.44   10.18   10.92   11.67\n",
      "F250M   14.27    7.13    8.44   10.30   11.76   12.24   13.25    9.07    9.79   10.52   11.27   12.01\n",
      "F300M   14.10    6.96    8.27   10.13   11.59   12.07   13.07    8.89    9.61   10.35   11.09   11.84\n",
      "F335M   13.81    6.67    7.98    9.84   11.30   11.78   12.78    8.60    9.32   10.06   10.80   11.55\n",
      "F360M   13.65    6.51    7.82    9.68   11.14   11.62   12.62    8.44    9.16    9.90   10.64   11.39\n",
      "F410M   13.25    6.11    7.42    9.28   10.74   11.22   12.23    8.05    8.77    9.50   10.25   10.99\n",
      "F430M   12.34    5.20    6.51    8.38    9.84   10.31   11.32    7.14    7.86    8.59    9.34   10.09\n",
      "F460M   11.76    4.62    5.93    7.80    9.26    9.73   10.74    6.56    7.28    8.01    8.76    9.51\n",
      "F480M   11.95    4.81    6.13    7.99    9.45    9.92   10.93    6.75    7.47    8.21    8.95    9.70\n",
      "F323N   11.24    4.10    5.42    7.28    8.74    9.21   10.22    6.04    6.76    7.50    8.24    8.99\n",
      "F405N   10.71    3.57    4.88    6.74    8.20    8.68    9.68    5.50    6.22    6.96    7.70    8.45\n",
      "F466N    9.87    2.73    4.05    5.91    7.37    7.85    8.85    4.67    5.39    6.13    6.87    7.62\n",
      "F470N    9.70    2.56    3.87    5.74    7.20    7.67    8.68    4.50    5.22    5.95    6.70    7.45\n",
      "\n"
     ]
    }
   ],
   "source": [
    "# Module B\n",
    "mod = 'B'\n",
    "\n",
    "print('Module {} \\n{} saturation magnitudes assuming {} star\\n'.format(mod,bp_lim.name, sp.name))\n",
    "print('{:<6}'.format('Filter') + ' '.join('{:>7}'.format(t) for t in head2))\n",
    "for i,filt in enumerate(filt_all):\n",
    "    for j,subset in enumerate(subarray_settings):\n",
    "        nrc = pynrc.NIRCam(filt, read_mode='RAPID', ngroup=2, module=mod, **subset)\n",
    "        lim = nrc.sat_limits(sp=sp, bp_lim=bp_lim, units='vegamag')\n",
    "        sat_lims[i,j] = lim['satmag']\n",
    "    print('{:<6}'.format(filt) + ' '.join('{: 7.2f}'.format(s) for s in sat_lims[i,:]))\n",
    "\n",
    "print(\"\")\n",
    "# Create astropy Table to hold data\n",
    "tbl = Table(sat_lims, names=head)\n",
    "for k in tbl.keys():\n",
    "    tbl[k].format = '6.2f'\n",
    "\n",
    "# Add filter column and reorder to front\n",
    "tbl['Filter'] = filt_all\n",
    "col_order = ['Filter'] + head\n",
    "tbl = tbl[col_order]\n",
    "\n",
    "tbls_dict[mod] = tbl"
   ]
  },
  {
   "cell_type": "code",
   "execution_count": 15,
   "metadata": {
    "collapsed": false
   },
   "outputs": [
    {
     "name": "stdout",
     "output_type": "stream",
     "text": [
      "Filter  FULL  SUB32  SUB64  SUB160 ... STRIPE32 STRIPE64 STRIPE128 STRIPE256\n",
      "------ ------ ------ ------ ------ ... -------- -------- --------- ---------\n",
      " F070W  14.95   7.81   9.13  10.99 ...    10.47    11.21     11.95     12.70\n",
      " F090W  15.66   8.52   9.84  11.70 ...    11.18    11.92     12.66     13.41\n",
      " F115W  15.73   8.59   9.90  11.76 ...    11.25    11.98     12.73     13.48\n",
      " F150W  15.63   8.49   9.80  11.66 ...    11.14    11.88     12.62     13.37\n",
      "F150W2  16.87   9.73  11.04  12.91 ...    12.39    13.12     13.87     14.62\n",
      " F200W  15.06   7.92   9.24  11.10 ...    10.58    11.32     12.06     12.81\n",
      " F140M  14.87   7.73   9.04  10.90 ...    10.38    11.12     11.86     12.61\n",
      " F162M  14.65   7.51   8.82  10.68 ...    10.16    10.90     11.64     12.39\n",
      " F182M  14.61   7.47   8.78  10.65 ...    10.13    10.86     11.61     12.36\n",
      " F210M  13.93   6.79   8.11   9.97 ...     9.45    10.19     10.93     11.68\n",
      "   ...    ...    ...    ...    ... ...      ...      ...       ...       ...\n",
      " F300M  14.17   7.03   8.34  10.21 ...     9.69    10.42     11.17     11.92\n",
      " F335M  13.92   6.78   8.09   9.95 ...     9.43    10.17     10.91     11.66\n",
      " F360M  13.67   6.53   7.85   9.71 ...     9.19     9.93     10.67     11.42\n",
      " F410M  13.26   6.12   7.44   9.30 ...     8.78     9.52     10.26     11.01\n",
      " F430M  12.24   5.10   6.41   8.27 ...     7.75     8.49      9.23      9.98\n",
      " F460M  11.67   4.53   5.84   7.71 ...     7.19     7.92      8.67      9.42\n",
      " F480M  11.55   4.41   5.73   7.59 ...     7.07     7.81      8.55      9.30\n",
      " F323N  11.25   4.11   5.42   7.28 ...     6.76     7.50      8.24      8.99\n",
      " F405N  10.57   3.43   4.74   6.60 ...     6.09     6.82      7.57      8.31\n",
      " F466N   9.78   2.64   3.95   5.82 ...     5.30     6.03      6.78      7.53\n",
      " F470N   9.57   2.43   3.75   5.61 ...     5.09     5.83      6.57      7.32\n",
      "Length = 29 rows\n"
     ]
    }
   ],
   "source": [
    "print(tbls_dict['A'])"
   ]
  },
  {
   "cell_type": "code",
   "execution_count": 16,
   "metadata": {
    "collapsed": false
   },
   "outputs": [
    {
     "name": "stdout",
     "output_type": "stream",
     "text": [
      "Filter  FULL  SUB32  SUB64  SUB160 ... STRIPE32 STRIPE64 STRIPE128 STRIPE256\n",
      "------ ------ ------ ------ ------ ... -------- -------- --------- ---------\n",
      " F070W  14.93   7.79   9.10  10.96 ...    10.44    11.18     11.92     12.67\n",
      " F090W  15.69   8.55   9.86  11.72 ...    11.21    11.94     12.69     13.43\n",
      " F115W  15.71   8.57   9.89  11.75 ...    11.23    11.97     12.71     13.46\n",
      " F150W  15.62   8.48   9.79  11.66 ...    11.14    11.87     12.62     13.37\n",
      "F150W2  16.87   9.73  11.04  12.90 ...    12.39    13.12     13.87     14.61\n",
      " F200W  15.06   7.92   9.23  11.09 ...    10.57    11.31     12.05     12.80\n",
      " F140M  14.87   7.73   9.05  10.91 ...    10.39    11.13     11.87     12.62\n",
      " F162M  14.65   7.51   8.82  10.68 ...    10.17    10.90     11.65     12.39\n",
      " F182M  14.61   7.47   8.78  10.64 ...    10.13    10.86     11.61     12.36\n",
      " F210M  13.92   6.78   8.09   9.95 ...     9.43    10.17     10.91     11.66\n",
      "   ...    ...    ...    ...    ... ...      ...      ...       ...       ...\n",
      " F300M  14.10   6.96   8.27  10.13 ...     9.61    10.35     11.09     11.84\n",
      " F335M  13.81   6.67   7.98   9.84 ...     9.32    10.06     10.80     11.55\n",
      " F360M  13.65   6.51   7.82   9.68 ...     9.16     9.90     10.64     11.39\n",
      " F410M  13.25   6.11   7.42   9.28 ...     8.77     9.50     10.25     10.99\n",
      " F430M  12.34   5.20   6.51   8.38 ...     7.86     8.59      9.34     10.09\n",
      " F460M  11.76   4.62   5.93   7.80 ...     7.28     8.01      8.76      9.51\n",
      " F480M  11.95   4.81   6.13   7.99 ...     7.47     8.21      8.95      9.70\n",
      " F323N  11.24   4.10   5.42   7.28 ...     6.76     7.50      8.24      8.99\n",
      " F405N  10.71   3.57   4.88   6.74 ...     6.22     6.96      7.70      8.45\n",
      " F466N   9.87   2.73   4.05   5.91 ...     5.39     6.13      6.87      7.62\n",
      " F470N   9.70   2.56   3.87   5.74 ...     5.22     5.95      6.70      7.45\n",
      "Length = 29 rows\n"
     ]
    }
   ],
   "source": [
    "print(tbls_dict['B'])"
   ]
  },
  {
   "cell_type": "code",
   "execution_count": null,
   "metadata": {
    "collapsed": true
   },
   "outputs": [],
   "source": []
  }
 ],
 "metadata": {
  "anaconda-cloud": {},
  "kernelspec": {
   "display_name": "Python [default]",
   "language": "python",
   "name": "python2"
  },
  "language_info": {
   "codemirror_mode": {
    "name": "ipython",
    "version": 2
   },
   "file_extension": ".py",
   "mimetype": "text/x-python",
   "name": "python",
   "nbconvert_exporter": "python",
   "pygments_lexer": "ipython2",
   "version": "2.7.12"
  }
 },
 "nbformat": 4,
 "nbformat_minor": 0
}
