{
 "cells": [
  {
   "cell_type": "markdown",
   "metadata": {},
   "source": [
    "# Saturation Limits for Direct Imaging\n",
    "\n",
    "For each NIRCam filter, find the saturation limit for a 2-frame (CDS) ramp.\n",
    "\n",
    "This notebook cycles over all SW and LW filters to find saturation limits for various detector readout modes:\n",
    " * Full Frame\n",
    " * Window\n",
    "  * SUB64\n",
    "  * SUB160\n",
    "  * SUB320\n",
    "  * SUB400\n",
    "  * SUB640\n",
    " * Stripe modes\n",
    "  * STRIPE64\n",
    "  * STRIPE128\n",
    "  * STRIPE256\n",
    " \n",
    "Saturation limits for both NIRCam modules (A and B) are calculated.\n",
    "\n",
    "Results are returned an AstroPy Table of the results, saved in a dictionary `tbls_dict`."
   ]
  },
  {
   "cell_type": "code",
   "execution_count": 1,
   "metadata": {
    "collapsed": true
   },
   "outputs": [],
   "source": [
    "## Standard imports\n",
    "\n",
    "# Makes print and division act like Python 3\n",
    "from __future__ import print_function, division\n",
    "\n",
    "# Import the usual libraries\n",
    "import numpy as np\n",
    "import matplotlib\n",
    "import matplotlib.pyplot as plt\n",
    "\n",
    "# Enable inline plotting at lower left\n",
    "%matplotlib inline\n",
    "matplotlib.rcParams['image.origin'] = 'lower'\n",
    "matplotlib.rcParams['image.interpolation'] = 'none'\n",
    "\n",
    "# seaborn package for making pretty plots, but not necessary\n",
    "try:\n",
    "    import seaborn as sns\n",
    "    params =   {'xtick.direction': 'in', 'ytick.direction': 'in', 'font.family': ['serif'],\n",
    "                'text.usetex': True, 'text.latex.preamble': ['\\usepackage{gensymb}']}\n",
    "    sns.set_style(\"ticks\", params)\n",
    "except ImportError:\n",
    "    print('Seaborn module is not installed. Not strictly required, but is a useful package!')\n",
    "    \n",
    "from IPython.display import display, Latex, clear_output"
   ]
  },
  {
   "cell_type": "code",
   "execution_count": 11,
   "metadata": {
    "collapsed": true
   },
   "outputs": [],
   "source": [
    "# pyNRC and associates\n",
    "import pynrc\n",
    "from pynrc import nrc_utils\n",
    "from pynrc.nrc_utils import (webbpsf, poppy, pix_noise, S)\n",
    "from astropy.table import Table\n",
    "\n",
    "pynrc.setup_logging('WARNING', verbose=False)"
   ]
  },
  {
   "cell_type": "code",
   "execution_count": 7,
   "metadata": {
    "collapsed": true
   },
   "outputs": [],
   "source": [
    "# Filters\n",
    "filt_wide_sw = ['F070W', 'F090W', 'F115W', 'F150W', 'F150W2', 'F200W']\n",
    "filt_wide_lw = ['F277W', 'F322W2', 'F356W', 'F444W']\n",
    "\n",
    "filt_med_sw = ['F140M', 'F162M', 'F182M', 'F210M']\n",
    "filt_med_lw = ['F250M', 'F300M', 'F335M', 'F360M', 'F410M', 'F430M', 'F460M', 'F480M']\n",
    "\n",
    "filt_narr_sw = ['F164N', 'F187N', 'F212N']\n",
    "filt_narr_lw = ['F323N', 'F405N', 'F466N', 'F470N']\n",
    "\n",
    "filt_all_sw = filt_wide_sw + filt_med_sw + filt_narr_sw\n",
    "filt_all_lw = filt_wide_lw + filt_med_lw + filt_narr_lw\n",
    "filt_all = filt_all_sw + filt_all_lw"
   ]
  },
  {
   "cell_type": "code",
   "execution_count": 43,
   "metadata": {
    "collapsed": true
   },
   "outputs": [],
   "source": [
    "# NIRCam readout modes\n",
    "full   = {'wind_mode':'FULL',   'xpix':2048, 'ypix':2048}\n",
    "# Window subarrays\n",
    "sub64  = {'wind_mode':'WINDOW', 'xpix':64,   'ypix':64}\n",
    "sub160 = {'wind_mode':'WINDOW', 'xpix':160,  'ypix':160}\n",
    "sub320 = {'wind_mode':'WINDOW', 'xpix':320,  'ypix':320}\n",
    "sub400 = {'wind_mode':'WINDOW', 'xpix':400,  'ypix':400}\n",
    "sub640 = {'wind_mode':'WINDOW', 'xpix':640,  'ypix':640}\n",
    "# Stripe subarrays\n",
    "stp64  = {'wind_mode':'STRIPE', 'xpix':2048, 'ypix':64}\n",
    "stp128 = {'wind_mode':'STRIPE', 'xpix':2048, 'ypix':128}\n",
    "stp256 = {'wind_mode':'STRIPE', 'xpix':2048, 'ypix':256}\n",
    "\n",
    "subarray_settings = [full, sub64, sub160, sub320, sub400, sub640, stp64, stp128, stp256]\n",
    "\n",
    "# Header names for each readout mode\n",
    "head = []\n",
    "head2 = []\n",
    "for d in subarray_settings:\n",
    "    if 'FULL' in d['wind_mode']:\n",
    "        name = 'FULL'\n",
    "        name2 = name\n",
    "    elif 'WINDOW' in d['wind_mode']:\n",
    "        name = 'SUB' + str(d['ypix'])\n",
    "        name2 = name\n",
    "    elif 'STRIPE' in d['wind_mode']:\n",
    "        name = 'STRIPE' + str(d['ypix'])\n",
    "        name2 = 'STRP' + str(d['ypix'])\n",
    "    head.append(name)\n",
    "    head2.append(name2)"
   ]
  },
  {
   "cell_type": "code",
   "execution_count": 53,
   "metadata": {
    "collapsed": false
   },
   "outputs": [
    {
     "name": "stdout",
     "output_type": "stream",
     "text": [
      "Module A \n",
      "K-Band saturation magnitudes assuming G2V star\n",
      "\n",
      "Filter   FULL   SUB64  SUB160  SUB320  SUB400  SUB640  STRP64 STRP128 STRP256\n",
      "F070W   14.92    9.09   10.95   12.41   12.89   13.89   11.17   11.91   12.66\n",
      "F090W   15.64    9.81   11.68   13.14   13.61   14.62   11.89   12.64   13.39\n",
      "F115W   15.71    9.89   11.75   13.21   13.69   14.69   11.97   12.71   13.46\n",
      "F150W   15.62    9.79   11.65   13.11   13.59   14.59   11.87   12.61   13.36\n",
      "F150W2  16.86   11.03   12.90   14.36   14.83   15.84   13.11   13.86   14.61\n",
      "F200W   15.06    9.23   11.09   12.55   13.03   14.04   11.31   12.06   12.80\n",
      "F140M   14.86    9.03   10.89   12.35   12.83   13.83   11.11   11.85   12.60\n",
      "F162M   14.64    8.81   10.67   12.13   12.61   13.62   10.89   11.64   12.38\n",
      "F182M   14.60    8.78   10.64   12.10   12.57   13.58   10.86   11.60   12.35\n",
      "F210M   13.93    8.10    9.97   11.43   11.90   12.91   10.18   10.93   11.68\n",
      "F164N   12.24    6.41    8.28    9.74   10.21   11.22    8.49    9.24    9.99\n",
      "F187N   11.94    6.11    7.97    9.43    9.91   10.92    8.19    8.94    9.68\n",
      "F212N   11.66    5.84    7.70    9.16    9.63   10.64    7.92    8.66    9.41\n",
      "F277W   15.49    9.67   11.53   12.99   13.46   14.47   11.75   12.49   13.24\n",
      "F322W2  15.87   10.04   11.90   13.36   13.84   14.84   12.12   12.86   13.61\n",
      "F356W   14.62    8.80   10.66   12.12   12.59   13.60   10.88   11.62   12.37\n",
      "F444W   13.82    8.00    9.86   11.32   11.79   12.80   10.08   10.82   11.57\n",
      "F250M   14.37    8.54   10.40   11.86   12.34   13.34   10.62   11.36   12.11\n",
      "F300M   14.17    8.34   10.20   11.66   12.14   13.15   10.42   11.17   11.91\n",
      "F335M   13.91    8.09    9.95   11.41   11.89   12.89   10.17   10.91   11.66\n",
      "F360M   13.67    7.84    9.71   11.17   11.64   12.65    9.92   10.67   11.42\n",
      "F410M   13.26    7.44    9.30   10.76   11.23   12.24    9.52   10.26   11.01\n",
      "F430M   12.23    6.41    8.27    9.73   10.21   11.21    8.49    9.23    9.98\n",
      "F460M   11.67    5.84    7.70    9.16    9.64   10.65    7.92    8.67    9.41\n",
      "F480M   11.55    5.73    7.59    9.05    9.52   10.53    7.81    8.55    9.30\n",
      "F323N   11.24    5.42    7.28    8.74    9.21   10.22    7.50    8.24    8.99\n",
      "F405N   10.57    4.74    6.60    8.06    8.54    9.54    6.82    7.56    8.31\n",
      "F466N    9.78    3.95    5.82    7.28    7.75    8.76    6.03    6.78    7.53\n",
      "F470N    9.57    3.75    5.61    7.07    7.54    8.55    5.83    6.57    7.32\n",
      "\n",
      "Module B \n",
      "K-Band saturation magnitudes assuming G2V star\n",
      "\n",
      "Filter   FULL   SUB64  SUB160  SUB320  SUB400  SUB640  STRP64 STRP128 STRP256\n",
      "F070W   14.89    9.07   10.93   12.39   12.86   13.87   11.15   11.89   12.64\n",
      "F090W   15.67    9.84   11.70   13.16   13.64   14.64   11.92   12.66   13.41\n",
      "F115W   15.70    9.87   11.73   13.19   13.67   14.68   11.95   12.70   13.44\n",
      "F150W   15.61    9.79   11.65   13.11   13.58   14.59   11.87   12.61   13.36\n",
      "F150W2  16.86   11.03   12.89   14.35   14.83   15.84   13.11   13.86   14.60\n",
      "F200W   15.05    9.22   11.09   12.55   13.02   14.03   11.30   12.05   12.80\n",
      "F140M   14.86    9.04   10.90   12.36   12.83   13.84   11.12   11.86   12.61\n",
      "F162M   14.64    8.81   10.68   12.14   12.61   13.62   10.89   11.64   12.39\n",
      "F182M   14.60    8.78   10.64   12.10   12.57   13.58   10.86   11.60   12.35\n",
      "F210M   13.91    8.09    9.95   11.41   11.88   12.89   10.17   10.91   11.66\n",
      "F164N   12.24    6.42    8.28    9.74   10.22   11.22    8.50    9.24    9.99\n",
      "F187N   11.93    6.11    7.97    9.43    9.90   10.91    8.19    8.93    9.68\n",
      "F212N   11.64    5.81    7.67    9.13    9.61   10.62    7.89    8.64    9.39\n",
      "F277W   15.33    9.50   11.36   12.82   13.30   14.31   11.58   12.33   13.08\n",
      "F322W2  15.84   10.02   11.88   13.34   13.81   14.82   12.10   12.84   13.59\n",
      "F356W   14.63    8.80   10.66   12.12   12.60   13.60   10.88   11.62   12.37\n",
      "F444W   13.92    8.10    9.96   11.42   11.90   12.90   10.18   10.92   11.67\n",
      "F250M   14.27    8.44   10.30   11.76   12.24   13.24   10.52   11.26   12.01\n",
      "F300M   14.09    8.27   10.13   11.59   12.07   13.07   10.35   11.09   11.84\n",
      "F335M   13.80    7.98    9.84   11.30   11.78   12.78   10.06   10.80   11.55\n",
      "F360M   13.64    7.82    9.68   11.14   11.61   12.62    9.90   10.64   11.39\n",
      "F410M   13.25    7.42    9.28   10.74   11.22   12.22    9.50   10.25   10.99\n",
      "F430M   12.34    6.51    8.38    9.84   10.31   11.32    8.59    9.34   10.09\n",
      "F460M   11.76    5.93    7.80    9.26    9.73   10.74    8.01    8.76    9.51\n",
      "F480M   11.95    6.13    7.99    9.45    9.92   10.93    8.21    8.95    9.70\n",
      "F323N   11.24    5.41    7.28    8.74    9.21   10.22    7.49    8.24    8.99\n",
      "F405N   10.71    4.88    6.74    8.20    8.68    9.68    6.96    7.70    8.45\n",
      "F466N    9.87    4.05    5.91    7.37    7.84    8.85    6.13    6.87    7.62\n",
      "F470N    9.70    3.87    5.74    7.19    7.67    8.68    5.95    6.70    7.45\n",
      "\n"
     ]
    }
   ],
   "source": [
    "nfilt = len(filt_all)\n",
    "nsub  = len(subarray_settings)\n",
    "sat_lims = np.zeros([nfilt,nsub])\n",
    "\n",
    "# Module A\n",
    "module = 'A'\n",
    "\n",
    "# We want the K-Band limiting magnitude for a G2V star\n",
    "sp = nrc_utils.stellar_spectrum('G2V')\n",
    "bp_lim = S.ObsBandpass('johnson,k')\n",
    "bp_lim.name = 'K-Band'\n",
    "\n",
    "\n",
    "# Loop through each subrray mode for a given filter and print the CDS saturation limit\n",
    "modules = ['A','B']\n",
    "tbls_dict = {}\n",
    "for mod in modules:\n",
    "    print('Module {} \\n{} saturation magnitudes assuming {} star\\n'.format(mod,bp_lim.name, sp.name))\n",
    "    print('{:<6}'.format('Filter') + ' '.join('{:>7}'.format(t) for t in head2))\n",
    "    for i,filt in enumerate(filt_all):\n",
    "        for j,subset in enumerate(subarray_settings):\n",
    "            nrc = pynrc.NIRCam(filt, read_mode='RAPID', ngroup=2, module=mod, **subset)\n",
    "            lim = nrc.sat_limits(sp=sp, bp_lim=bp_lim, units='vegamag')\n",
    "            sat_lims[i,j] = lim['satmag']\n",
    "        print('{:<6}'.format(filt) + ' '.join('{: 7.2f}'.format(s) for s in sat_lims[i,:]))\n",
    "        \n",
    "    print(\"\")\n",
    "    # Create astropy Table to hold data\n",
    "    tbl = Table(sat_lims, names=head)\n",
    "    for k in tbl.keys():\n",
    "        tbl[k].format = '6.2f'\n",
    "\n",
    "    # Add filter column and reorder to front\n",
    "    tbl['Filter'] = filt_all\n",
    "    col_order = ['Filter'] + head\n",
    "    tbl = tbl[col_order]\n",
    "    \n",
    "    tbls_dict[mod] = tbl"
   ]
  },
  {
   "cell_type": "code",
   "execution_count": 55,
   "metadata": {
    "collapsed": false
   },
   "outputs": [
    {
     "name": "stdout",
     "output_type": "stream",
     "text": [
      "Filter  FULL  SUB64  SUB160 SUB320 SUB400 SUB640 STRIPE64 STRIPE128 STRIPE256\n",
      "------ ------ ------ ------ ------ ------ ------ -------- --------- ---------\n",
      " F070W  14.89   9.07  10.93  12.39  12.86  13.87    11.15     11.89     12.64\n",
      " F090W  15.67   9.84  11.70  13.16  13.64  14.64    11.92     12.66     13.41\n",
      " F115W  15.70   9.87  11.73  13.19  13.67  14.68    11.95     12.70     13.44\n",
      " F150W  15.61   9.79  11.65  13.11  13.58  14.59    11.87     12.61     13.36\n",
      "F150W2  16.86  11.03  12.89  14.35  14.83  15.84    13.11     13.86     14.60\n",
      " F200W  15.05   9.22  11.09  12.55  13.02  14.03    11.30     12.05     12.80\n",
      " F140M  14.86   9.04  10.90  12.36  12.83  13.84    11.12     11.86     12.61\n",
      " F162M  14.64   8.81  10.68  12.14  12.61  13.62    10.89     11.64     12.39\n",
      " F182M  14.60   8.78  10.64  12.10  12.57  13.58    10.86     11.60     12.35\n",
      " F210M  13.91   8.09   9.95  11.41  11.88  12.89    10.17     10.91     11.66\n",
      "   ...    ...    ...    ...    ...    ...    ...      ...       ...       ...\n",
      " F300M  14.09   8.27  10.13  11.59  12.07  13.07    10.35     11.09     11.84\n",
      " F335M  13.80   7.98   9.84  11.30  11.78  12.78    10.06     10.80     11.55\n",
      " F360M  13.64   7.82   9.68  11.14  11.61  12.62     9.90     10.64     11.39\n",
      " F410M  13.25   7.42   9.28  10.74  11.22  12.22     9.50     10.25     10.99\n",
      " F430M  12.34   6.51   8.38   9.84  10.31  11.32     8.59      9.34     10.09\n",
      " F460M  11.76   5.93   7.80   9.26   9.73  10.74     8.01      8.76      9.51\n",
      " F480M  11.95   6.13   7.99   9.45   9.92  10.93     8.21      8.95      9.70\n",
      " F323N  11.24   5.41   7.28   8.74   9.21  10.22     7.49      8.24      8.99\n",
      " F405N  10.71   4.88   6.74   8.20   8.68   9.68     6.96      7.70      8.45\n",
      " F466N   9.87   4.05   5.91   7.37   7.84   8.85     6.13      6.87      7.62\n",
      " F470N   9.70   3.87   5.74   7.19   7.67   8.68     5.95      6.70      7.45\n",
      "Length = 29 rows\n"
     ]
    }
   ],
   "source": [
    "print(tbls_dict['A'])"
   ]
  },
  {
   "cell_type": "code",
   "execution_count": 56,
   "metadata": {
    "collapsed": false
   },
   "outputs": [
    {
     "name": "stdout",
     "output_type": "stream",
     "text": [
      "Filter  FULL  SUB64  SUB160 SUB320 SUB400 SUB640 STRIPE64 STRIPE128 STRIPE256\n",
      "------ ------ ------ ------ ------ ------ ------ -------- --------- ---------\n",
      " F070W  14.89   9.07  10.93  12.39  12.86  13.87    11.15     11.89     12.64\n",
      " F090W  15.67   9.84  11.70  13.16  13.64  14.64    11.92     12.66     13.41\n",
      " F115W  15.70   9.87  11.73  13.19  13.67  14.68    11.95     12.70     13.44\n",
      " F150W  15.61   9.79  11.65  13.11  13.58  14.59    11.87     12.61     13.36\n",
      "F150W2  16.86  11.03  12.89  14.35  14.83  15.84    13.11     13.86     14.60\n",
      " F200W  15.05   9.22  11.09  12.55  13.02  14.03    11.30     12.05     12.80\n",
      " F140M  14.86   9.04  10.90  12.36  12.83  13.84    11.12     11.86     12.61\n",
      " F162M  14.64   8.81  10.68  12.14  12.61  13.62    10.89     11.64     12.39\n",
      " F182M  14.60   8.78  10.64  12.10  12.57  13.58    10.86     11.60     12.35\n",
      " F210M  13.91   8.09   9.95  11.41  11.88  12.89    10.17     10.91     11.66\n",
      "   ...    ...    ...    ...    ...    ...    ...      ...       ...       ...\n",
      " F300M  14.09   8.27  10.13  11.59  12.07  13.07    10.35     11.09     11.84\n",
      " F335M  13.80   7.98   9.84  11.30  11.78  12.78    10.06     10.80     11.55\n",
      " F360M  13.64   7.82   9.68  11.14  11.61  12.62     9.90     10.64     11.39\n",
      " F410M  13.25   7.42   9.28  10.74  11.22  12.22     9.50     10.25     10.99\n",
      " F430M  12.34   6.51   8.38   9.84  10.31  11.32     8.59      9.34     10.09\n",
      " F460M  11.76   5.93   7.80   9.26   9.73  10.74     8.01      8.76      9.51\n",
      " F480M  11.95   6.13   7.99   9.45   9.92  10.93     8.21      8.95      9.70\n",
      " F323N  11.24   5.41   7.28   8.74   9.21  10.22     7.49      8.24      8.99\n",
      " F405N  10.71   4.88   6.74   8.20   8.68   9.68     6.96      7.70      8.45\n",
      " F466N   9.87   4.05   5.91   7.37   7.84   8.85     6.13      6.87      7.62\n",
      " F470N   9.70   3.87   5.74   7.19   7.67   8.68     5.95      6.70      7.45\n",
      "Length = 29 rows\n"
     ]
    }
   ],
   "source": [
    "print(tbls_dict['B'])"
   ]
  },
  {
   "cell_type": "code",
   "execution_count": null,
   "metadata": {
    "collapsed": true
   },
   "outputs": [],
   "source": []
  }
 ],
 "metadata": {
  "anaconda-cloud": {},
  "kernelspec": {
   "display_name": "Python [default]",
   "language": "python",
   "name": "python2"
  },
  "language_info": {
   "codemirror_mode": {
    "name": "ipython",
    "version": 2
   },
   "file_extension": ".py",
   "mimetype": "text/x-python",
   "name": "python",
   "nbconvert_exporter": "python",
   "pygments_lexer": "ipython2",
   "version": "2.7.12"
  }
 },
 "nbformat": 4,
 "nbformat_minor": 0
}
