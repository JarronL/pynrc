{
 "cells": [
  {
   "cell_type": "code",
   "execution_count": 1,
   "metadata": {
    "collapsed": true
   },
   "outputs": [],
   "source": [
    "# Makes print and division act like Python 3\n",
    "from __future__ import print_function, division\n",
    "\n",
    "# Import the usual libraries\n",
    "import numpy as np\n",
    "import matplotlib\n",
    "import matplotlib.pyplot as plt\n",
    "\n",
    "# Enable inline plotting at lower left\n",
    "%matplotlib inline\n",
    "\n",
    "from IPython.display import display, Latex, clear_output\n",
    "from matplotlib.backends.backend_pdf import PdfPages\n",
    "import matplotlib.patches as patches"
   ]
  },
  {
   "cell_type": "code",
   "execution_count": 2,
   "metadata": {
    "collapsed": true
   },
   "outputs": [],
   "source": [
    "import pynrc\n",
    "from pynrc import nrc_utils\n",
    "from pynrc.nrc_utils import S\n",
    "from pynrc.obs_nircam import (model_to_hdulist, obs_coronagraphy)\n",
    "from pynrc.speckle_noise import offset_bar\n",
    "pynrc.setup_logging('WARN', verbose=False)\n",
    "\n",
    "from astropy.io import (fits, ascii)\n",
    "from copy import deepcopy"
   ]
  },
  {
   "cell_type": "markdown",
   "metadata": {},
   "source": [
    "## Observation Definitions\n",
    "\n",
    "Functions to create at optimize a series of observation objects stored as a dictionary."
   ]
  },
  {
   "cell_type": "code",
   "execution_count": 3,
   "metadata": {
    "collapsed": true
   },
   "outputs": [],
   "source": [
    "def make_key(filter, pupil=None, mask=None):\n",
    "    \"\"\"Create identification key (string) based on filter, pupil, and mask\"\"\"\n",
    "    mask_key = 'none' if mask is None else mask\n",
    "    pupil_key = 'none' if pupil is None else pupil\n",
    "    key = '{}_{}_{}'.format(filter,mask_key,pupil_key)\n",
    "    return key"
   ]
  },
  {
   "cell_type": "code",
   "execution_count": 4,
   "metadata": {
    "collapsed": true
   },
   "outputs": [],
   "source": [
    "def obs_wfe(wfe_ref_drift, filt_list, sp_sci, dist, sp_ref=None, args_disk=None, fov_pix=None, verbose=False):\n",
    "    \"\"\"\n",
    "    For a given WFE drift and series of filters, create a list of \n",
    "    NIRCam observations.\n",
    "    \"\"\"\n",
    "    if sp_ref is None:\n",
    "        sp_ref = sp_sci\n",
    "    \n",
    "    fov_pix_orig = fov_pix\n",
    "        \n",
    "    obs_dict = {}\n",
    "    for filt, mask, pupil in filt_list:\n",
    "        if verbose: print(filt, mask, pupil)\n",
    "\n",
    "        # Disk Model\n",
    "        if args_disk is not None:\n",
    "            # Convert to photons/sec in specified filter\n",
    "            hdu_disk = model_to_hdulist(args_disk, sp_sci, filt, pupil=pupil, mask=mask)\n",
    "        else:\n",
    "            hdu_disk = None\n",
    "        \n",
    "        # Create identification keys\n",
    "        key = make_key(filt, mask=mask, pupil=pupil)\n",
    "\n",
    "        # Define the subarray readout size\n",
    "        # Set the PSF size and oversampling amount\n",
    "        if mask is None:\n",
    "            subsize = 400\n",
    "        elif ('MASK210R' in mask) or ('MASKSWB' in mask):\n",
    "            subsize = 640\n",
    "        else:\n",
    "            subsize = 320\n",
    "        fov_pix = subsize if fov_pix is None else fov_pix\n",
    "        \n",
    "        # Offset for bar mask\n",
    "        if (mask is not None) and ('WB' in mask):\n",
    "            offset_r, offset_theta = offset_bar(filt, mask)\n",
    "        else:\n",
    "            offset_r, offset_theta = (None, None)\n",
    "\n",
    "        # Other coronagraph vs direct imaging settings\n",
    "        if mask is None:\n",
    "            module = 'B'\n",
    "            oversample = 4\n",
    "        else:\n",
    "            module = 'A'\n",
    "            oversample = 2\n",
    "            \n",
    "        # Initialize and store the observation\n",
    "        # A reference obseration is stored inside each parent obs_coronagraphy class.\n",
    "        obs_dict[key] = obs_coronagraphy(sp_sci, sp_ref, dist, module=module, disk_hdu=hdu_disk, \n",
    "                                         wfe_ref_drift=wfe_ref_drift, filter=filt, mask=mask, pupil=pupil, \n",
    "                                         wind_mode='WINDOW', xpix=subsize, ypix=subsize,\n",
    "                                         offset_r=offset_r, offset_theta=offset_theta,\n",
    "                                         oversample=oversample, fov_pix=fov_pix, verbose=verbose)\n",
    "        fov_pix = fov_pix_orig\n",
    "    return obs_dict"
   ]
  },
  {
   "cell_type": "markdown",
   "metadata": {},
   "source": [
    "## Functions to init, optimize, and plot"
   ]
  },
  {
   "cell_type": "code",
   "execution_count": 5,
   "metadata": {
    "collapsed": true
   },
   "outputs": [],
   "source": [
    "# Generate initial observations for each filter(no WFE drift)\n",
    "def do_init(args_disk=None, fov_pix=None, verbose=True):\n",
    "    wfe_ref_drift = 0\n",
    "    obs_dict = obs_wfe(wfe_ref_drift, args_list, sp_sci, dist_sci, sp_ref=sp_ref, \n",
    "                       args_disk=args_disk, fov_pix=fov_pix, verbose=verbose)\n",
    "    return obs_dict"
   ]
  },
  {
   "cell_type": "code",
   "execution_count": 6,
   "metadata": {
    "collapsed": true
   },
   "outputs": [],
   "source": [
    "# For each filter setting, generate a series of contrast curves at different WFE values\n",
    "def do_contrast(wfe_list, filt_keys, nsig=5, roll_angle=None, **kwargs):\n",
    "    \"\"\"\n",
    "    kwargs to pass to calc_contrast() and their defaults:\n",
    "\n",
    "    exclude_disk = True\n",
    "    exclude_planets = True\n",
    "    exclude_noise = False\n",
    "    opt_diff = True\n",
    "    \"\"\"\n",
    "    contrast_all = {}\n",
    "    for i, key in enumerate(filt_keys):\n",
    "        print(key)\n",
    "        obs = obs_dict[key]\n",
    "\n",
    "        filt, mask, pupil = args_list[i]\n",
    "        if roll_angle is None:\n",
    "            roll_angle = 0 if mask is None else 10\n",
    "\n",
    "        # Stores tuple of (Radial Distances, Contrast, and Sensitivity) for each WFE drift\n",
    "        curves = []\n",
    "        for wfe_ref_drift in wfe_list:\n",
    "            obs.wfe_ref_drift = wfe_ref_drift\n",
    "            result = obs.calc_contrast(roll_angle=roll_angle, nsig=nsig, **kwargs)\n",
    "            curves.append(result)\n",
    "\n",
    "        contrast_all[key] = curves\n",
    "    return contrast_all"
   ]
  },
  {
   "cell_type": "code",
   "execution_count": 7,
   "metadata": {
    "collapsed": true
   },
   "outputs": [],
   "source": [
    "def do_gen_hdus(obs_dict, wfe_ref_drift, verbose=False, **kwargs):\n",
    "    \n",
    "    \"\"\"\n",
    "    kwargs to pass to gen_roll_image() and their defaults:\n",
    "    \n",
    "    PA1 = 0\n",
    "    PA2 = 10\n",
    "    zfact         = None\n",
    "    oversample    = None\n",
    "    exclude_disk  = False\n",
    "    exclude_noise = False\n",
    "    opt_diff      = True\n",
    "    \"\"\"\n",
    "    \n",
    "    hdulist_dict = {}\n",
    "    for key in filt_keys:\n",
    "        if verbose: print(key)\n",
    "        obs = obs_dict[key]\n",
    "        obs.wfe_ref_drift = wfe_ref_drift\n",
    "        hdulist = obs.gen_roll_image(**kwargs)\n",
    "        \n",
    "        hdulist_dict[key] = hdulist\n",
    "        \n",
    "    return hdulist_dict"
   ]
  },
  {
   "cell_type": "code",
   "execution_count": 8,
   "metadata": {
    "collapsed": true
   },
   "outputs": [],
   "source": [
    "def plot_contrasts(curves, wfe_list, ax=None, colors=None, return_ax=False):\n",
    "    \"\"\"Plot a series of contrast curves for corresponding WFE drifts.\"\"\"\n",
    "    if ax is None:\n",
    "        fig, ax = plt.subplots()\n",
    "    if colors is None:\n",
    "        lin_vals = np.linspace(0.2,0.7,len(wfe_list))\n",
    "        colors = plt.cm.Blues_r(lin_vals)[::-1]\n",
    "    for j, wfe_ref_drift in enumerate(wfe_list):\n",
    "        rr, contrast, mag_sens = curves[j]\n",
    "        label='$\\Delta$' + \"WFE = {} nm\".format(wfe_list[j])\n",
    "        ax.plot(rr, mag_sens, label=label, color=colors[j], zorder=1, lw=2)\n",
    "        \n",
    "    if return_ax: return ax\n",
    "\n",
    "def planet_mags(obs, age=10, entropy=13, mass_list=[10,5,2,1], av_vals=[0,25], **kwargs):\n",
    "    \"\"\"Determine series of exoplanet magnitudes for given observation.\"\"\"\n",
    "\n",
    "    pmag = {}\n",
    "    for i,m in enumerate(mass_list):\n",
    "        flux_list = []\n",
    "        for j,av in enumerate(av_vals):\n",
    "            sp = obs.planet_spec(mass=m, age=age, Av=av, entropy=entropy, atmo='hy3s', **kwargs)\n",
    "            sp_obs = S.Observation(sp, obs.bandpass, binset=obs.bandpass.wave)\n",
    "            flux = sp_obs.effstim('vegamag')\n",
    "            flux_list.append(flux)\n",
    "        pmag[m] = tuple(flux_list)\n",
    "        \n",
    "    return pmag\n",
    "\n",
    "        \n",
    "def plot_planet_patches(ax, obs, age=10, entropy=13, mass_list=[10,5,2,1], av_vals=[0,25], **kwargs):\n",
    "    \"\"\"Plot exoplanet magnitudes in region corresponding to extinction values.\"\"\"\n",
    "    \n",
    "    xlim = ax.get_xlim()\n",
    "    cols = plt.cm.tab10(np.linspace(0,1,10))\n",
    "    \n",
    "    #lin_vals = np.linspace(0,0.5,4)\n",
    "    #cols = plt.cm.Purples_r(lin_vals)[::-1]\n",
    "    \n",
    "    dist = obs.distance\n",
    "    \n",
    "    if entropy<8: entropy=8\n",
    "    if entropy>13: entropy=13\n",
    "\n",
    "    pmag = planet_mags(obs, age, entropy, mass_list, av_vals, **kwargs)\n",
    "    for i,m in enumerate(mass_list):\n",
    "        pm_min, pm_max = pmag[m]\n",
    "        label = 'Mass = {} '.format(m) + '$M_{\\mathrm{Jup}}$'\n",
    "        rect = patches.Rectangle((xlim[0], pm_min), xlim[1], pm_max-pm_min, alpha=0.2,\n",
    "                                 color=cols[i], label=label, zorder=2)\n",
    "        ax.add_patch(rect)\n",
    "        ax.plot(xlim, [pm_min]*2, color=cols[i], lw=1, alpha=0.3)\n",
    "        ax.plot(xlim, [pm_max]*2, color=cols[i], lw=1, alpha=0.3)\n",
    "        \n",
    "\n",
    "    entropy_switch = {13:'Hot', 8:'Cold'}\n",
    "    entropy_string = entropy_switch.get(entropy, \"Warm\")\n",
    "    ent_str = entropy_string + ' Start'\n",
    "    av_str = '$A_V = [{:.0f},{:.0f}]$'.format(av_vals[0],av_vals[1])\n",
    "\n",
    "    ax.set_title('{} -- {} {}'.format(obs.filter,ent_str,av_str))\n"
   ]
  },
  {
   "cell_type": "code",
   "execution_count": 9,
   "metadata": {
    "collapsed": true
   },
   "outputs": [],
   "source": [
    "def do_plot_contrast(obs, curves, wfe_list, nsig, age, xlim=[0,10], ylim=[24,8], save_fig=False):\n",
    "\n",
    "    fig, axes = plt.subplots(1,2, figsize=(13,4.5))\n",
    "    entropy_vals = [13,8]\n",
    "\n",
    "    for j, ax in enumerate(axes.flatten()):\n",
    "        ax.set_xlim(xlim)\n",
    "        ax.set_ylim(ylim)\n",
    "        plot_contrasts(curves, wfe_list, ax=ax)\n",
    "        plot_planet_patches(ax, obs, age=age, entropy=entropy_vals[j])\n",
    "\n",
    "    for ax in axes.flatten():\n",
    "        ax.set_xlabel('Distance (arcsec)')\n",
    "        ax.set_ylabel('{}-sigma Sensitivities (mag)'.format(nsig))\n",
    "        ax.set_xlim(xlim)\n",
    "        ax.set_ylim(ylim)\n",
    "        ax.legend(ncol=2)\n",
    "\n",
    "    fig.tight_layout()\n",
    "    \n",
    "    dist = obs.distance\n",
    "    age_str = 'Age = {:.0f} Myr'.format(age)\n",
    "    dist_str = 'Distance = {:.1f} pc'.format(dist) if dist is not None else ''\n",
    "    \n",
    "    fig.suptitle('{} ({}, {})'.format(name_sci,age_str,dist_str), fontsize=16);\n",
    "    #fig.subplots_adjust(top=0.85)\n",
    "    fig.subplots_adjust(wspace=0.1, hspace=0.1, top=0.85, bottom=0.1 , left=0.05, right=0.97)\n",
    "\n",
    "    fname = \"{}_contrast.pdf\".format(name_sci.replace(\" \", \"\"))\n",
    "    if save_fig: \n",
    "        fig.savefig(outdir+fname)"
   ]
  },
  {
   "cell_type": "markdown",
   "metadata": {},
   "source": [
    "## Define Source and their Reference Counterparts"
   ]
  },
  {
   "cell_type": "code",
   "execution_count": 10,
   "metadata": {
    "collapsed": true
   },
   "outputs": [],
   "source": [
    "#                source,      dist, age, sptype, kmag\n",
    "args_sources = [('SAO 206462', 140,  10, 'F8V',   5.8),\n",
    "                ('TW Hya',      54,  10, 'M0V',   7.3),\n",
    "                ('MWC 758',    150,   5, 'A5V',   5.7), # Lazareff et al. (2016)\n",
    "                ('HL Tau',     140,   1, 'K5V',   7.4)]\n",
    "\n",
    "# Corresponding reference stars\n",
    "ref_sources =  [('HD 94771', 'G4V', 5.6),\n",
    "                ('HD 94771', 'G4V', 5.6),\n",
    "                ('HR 1889',  'F5III', 5.4),\n",
    "                ('HR 1889',  'F5III', 5.4)]"
   ]
  },
  {
   "cell_type": "code",
   "execution_count": 11,
   "metadata": {
    "collapsed": true
   },
   "outputs": [],
   "source": [
    "# 2MASS K-Band\n",
    "bp_k = pynrc.bp_2mass('k')\n",
    "\n",
    "# List of filters\n",
    "args_list =  [('F187N', None, None),\n",
    "              ('F200W', None, None),\n",
    "              ('F356W', None, None),\n",
    "              ('F444W', None, None)]\n",
    "\n",
    "args_list =  [('F356W', None, None),\n",
    "              ('F444W', None, None)]\n",
    "\n",
    "\n",
    "args_list =  [('F356W', None, None),\n",
    "              ('F444W', None, None),\n",
    "              ('F356W', 'MASK430R', 'CIRCLYOT'),\n",
    "              ('F444W', 'MASK430R', 'CIRCLYOT')]\n",
    "\n",
    "\n",
    "filt_keys = []\n",
    "for (filt,mask,pupil) in args_list:\n",
    "    filt_keys.append(make_key(filt, mask=mask, pupil=pupil)) "
   ]
  },
  {
   "cell_type": "markdown",
   "metadata": {},
   "source": [
    "### 1. SAO 206462"
   ]
  },
  {
   "cell_type": "code",
   "execution_count": 12,
   "metadata": {
    "collapsed": true
   },
   "outputs": [],
   "source": [
    "i = 0\n",
    "\n",
    "name_sci, dist_sci, age_sci, spt_sci, kmag_sci = args_sources[i]\n",
    "name_ref, spt_ref, kmag_ref = ref_sources[i]\n",
    "\n",
    "# Science target and reference star spectra\n",
    "sp_sci = pynrc.stellar_spectrum(spt_sci, kmag_sci, 'vegamag', bp_k)\n",
    "sp_ref = pynrc.stellar_spectrum(spt_ref, kmag_ref, 'vegamag', bp_k)\n",
    "sp_sci.name = name_sci\n",
    "sp_ref.name = name_ref\n",
    "\n",
    "# Disk model information\n",
    "# File name, arcsec/pix, dist (pc), wavelength (um), flux units\n",
    "args_disk = ('example_disk.fits', 0.007, 140.0, 1.6, 'mJy/arcsec^2')"
   ]
  },
  {
   "cell_type": "code",
   "execution_count": 13,
   "metadata": {
    "scrolled": false
   },
   "outputs": [
    {
     "name": "stdout",
     "output_type": "stream",
     "text": [
      "F356W None None\n",
      "Generating list of PSFs...\n",
      "Updating NIRCam reference coefficients...\n",
      "Creating NIRCam reference class...\n",
      "Finished.\n",
      "F444W None None\n",
      "Generating list of PSFs...\n",
      "Updating NIRCam reference coefficients...\n",
      "Creating NIRCam reference class...\n",
      "Finished.\n",
      "F356W MASK430R CIRCLYOT\n",
      "Generating list of PSFs...\n",
      "Updating NIRCam reference coefficients...\n",
      "Creating NIRCam reference class...\n",
      "Finished.\n",
      "F444W MASK430R CIRCLYOT\n",
      "Generating list of PSFs...\n",
      "Updating NIRCam reference coefficients...\n",
      "Creating NIRCam reference class...\n",
      "Finished.\n"
     ]
    }
   ],
   "source": [
    "obs_dict = do_init(args_disk=args_disk, fov_pix=256, verbose=True)"
   ]
  },
  {
   "cell_type": "code",
   "execution_count": 14,
   "metadata": {},
   "outputs": [
    {
     "name": "stdout",
     "output_type": "stream",
     "text": [
      "{'t_frame': 1.65624, 't_group': 1.65624, 't_int': 8.2812, 't_exp': 1656.24, 't_acq': 1991.6079999999997, 't_int_tot': 9.958039999999999}\n",
      "{'t_frame': 1.65624, 't_group': 1.65624, 't_int': 8.2812, 't_exp': 1656.24, 't_acq': 1991.6079999999997, 't_int_tot': 9.958039999999999}\n",
      "{'t_frame': 1.06904, 't_group': 10.6904, 't_int': 104.76592, 't_exp': 1571.4887999999999, 't_acq': 1587.8231999999998, 't_int_tot': 105.85488}\n",
      "{'t_frame': 1.06904, 't_group': 10.6904, 't_int': 104.76592, 't_exp': 1571.4887999999999, 't_acq': 1587.8231999999998, 't_int_tot': 105.85488}\n"
     ]
    }
   ],
   "source": [
    "# Update detector readout\n",
    "for key in filt_keys:\n",
    "    obs = obs_dict[key]\n",
    "\n",
    "    if 'none' in key:\n",
    "        pattern, ng, nint_sci, nint_ref = ('RAPID',5,200,250)\n",
    "    elif ('MASK210R' in key) or ('MASKSWB' in key):\n",
    "        pattern, ng, nint_sci, nint_ref = ('BRIGHT2',10,20,20)\n",
    "    else:\n",
    "        pattern, ng, nint_sci, nint_ref = ('MEDIUM8',10,15,15)\n",
    "\n",
    "    obs.update_detectors(read_mode=pattern, ngroup=ng, nint=nint_sci)\n",
    "    obs.nrc_ref.update_detectors(read_mode=pattern, ngroup=ng, nint=nint_ref)\n",
    "    \n",
    "    print(obs.multiaccum_times)"
   ]
  },
  {
   "cell_type": "code",
   "execution_count": 22,
   "metadata": {},
   "outputs": [
    {
     "name": "stdout",
     "output_type": "stream",
     "text": [
      "F356W_none_none\n",
      "F444W_none_none\n",
      "F356W_MASK430R_CIRCLYOT\n",
      "F444W_MASK430R_CIRCLYOT\n"
     ]
    }
   ],
   "source": [
    "# List of WFE drifts to check\n",
    "wfe_list = [0,2,5,10][::-1]\n",
    "nsig = 5\n",
    "\n",
    "save_fig = True\n",
    "multi_fig = True\n",
    "\n",
    "curves_dict = do_contrast(wfe_list, filt_keys, nsig=nsig)"
   ]
  },
  {
   "cell_type": "code",
   "execution_count": 40,
   "metadata": {},
   "outputs": [
    {
     "data": {
      "image/png": "[encoded data removed]",
      "text/plain": [
       "<matplotlib.figure.Figure at 0x1a26fc2a20>"
      ]
     },
     "metadata": {},
     "output_type": "display_data"
    }
   ],
   "source": [
    "# Compare F444W direct imaging vs coronagraphy\n",
    "\n",
    "age = age_sci\n",
    "kind = [1,3]\n",
    "nwfe = len(wfe_list)\n",
    "\n",
    "fig, axes = plt.subplots(1,2, figsize=(13,4.0))\n",
    "entropy_vals = [13,8]\n",
    "\n",
    "xlim=[0,10]\n",
    "ylim=[24,8]\n",
    "\n",
    "lin_vals = np.linspace(0.2,0.7,nwfe)\n",
    "cb = plt.cm.Blues_r(lin_vals)[::-1]\n",
    "cr = plt.cm.Reds_r(lin_vals)[::-1]\n",
    "\n",
    "\n",
    "for i, ind in enumerate(kind):\n",
    "    key = filt_keys[ind]\n",
    "    obs = obs_dict[key]\n",
    "    curves = curves_dict[key]\n",
    "\n",
    "    for j, ax in enumerate(axes.flatten()):\n",
    "        colors = cb if i==0 else cr\n",
    "\n",
    "        plot_contrasts(curves, wfe_list, ax=ax, colors=colors)\n",
    "\n",
    "for j, ax in enumerate(axes.flatten()):\n",
    "    ax.set_xlim(xlim)\n",
    "    ax.set_ylim(ylim)\n",
    "    plot_planet_patches(ax, obs, age=age, entropy=entropy_vals[j])\n",
    "\n",
    "    ax.set_xlabel('Distance (arcsec)')\n",
    "    ax.set_ylabel('{}-sigma Sensitivities (mag)'.format(nsig))\n",
    "\n",
    "    handles, labels = ax.get_legend_handles_labels()\n",
    "    h1 = handles[0:nwfe]\n",
    "    h2 = handles[nwfe:2*nwfe]\n",
    "    h3 = handles[2*nwfe:]\n",
    "    h1_t = [patches.Patch(color='none', label='Direct Imaging')]\n",
    "    h2_t = [patches.Patch(color='none', label='Coronagraphy')]\n",
    "    handles = h1_t + h1 + h2_t + h2 + h3\n",
    "\n",
    "    ax.legend(ncol=3, handles=handles)\n",
    "\n",
    "    #ax.legend(ncol=3)\n",
    "\n",
    "fig.tight_layout()\n",
    "\n",
    "dist = obs.distance\n",
    "age_str = 'Age = {:.0f} Myr'.format(age)\n",
    "dist_str = 'Distance = {:.1f} pc'.format(dist) if dist is not None else ''\n",
    "\n",
    "fig.suptitle('{} ({}, {})'.format(name_sci,age_str,dist_str), fontsize=16);\n",
    "#fig.subplots_adjust(top=0.85)\n",
    "fig.subplots_adjust(wspace=0.1, hspace=0.1, top=0.85, bottom=0.1 , left=0.05, right=0.97)\n",
    "\n",
    "outdir = '/Users/Jarron/Desktop/JWST-PP/'\n",
    "fname = \"{}_contrast.pdf\".format(name_sci.replace(\" \", \"\"))\n",
    "fig.savefig(outdir+fname)\n"
   ]
  }
 ],
 "metadata": {
  "kernelspec": {
   "display_name": "Python 3",
   "language": "python",
   "name": "python3"
  },
  "language_info": {
   "codemirror_mode": {
    "name": "ipython",
    "version": 3
   },
   "file_extension": ".py",
   "mimetype": "text/x-python",
   "name": "python",
   "nbconvert_exporter": "python",
   "pygments_lexer": "ipython3",
   "version": "3.6.1"
  }
 },
 "nbformat": 4,
 "nbformat_minor": 2
}
