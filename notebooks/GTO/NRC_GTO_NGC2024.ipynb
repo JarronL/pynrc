{
 "cells": [
  {
   "cell_type": "code",
   "execution_count": 1,
   "metadata": {},
   "outputs": [],
   "source": [
    "# Makes print and division act like Python 3\n",
    "from __future__ import print_function, division\n",
    "\n",
    "# Import the usual libraries\n",
    "import numpy as np\n",
    "import matplotlib\n",
    "import matplotlib.pyplot as plt\n",
    "import matplotlib.patches as patches\n",
    "\n",
    "# Enable inline plotting at lower left\n",
    "%matplotlib inline\n",
    "\n",
    "from IPython.display import display, Latex, clear_output\n",
    "from matplotlib.backends.backend_pdf import PdfPages"
   ]
  },
  {
   "cell_type": "code",
   "execution_count": 2,
   "metadata": {},
   "outputs": [],
   "source": [
    "import pynrc\n",
    "from pynrc import nrc_utils\n",
    "from pynrc.nrc_utils import S\n",
    "\n",
    "pynrc.setup_logging('WARNING', verbose=False)\n",
    "\n",
    "from astropy.io import (fits, ascii)"
   ]
  },
  {
   "cell_type": "markdown",
   "metadata": {},
   "source": [
    "# Observation Definitions\n",
    "\n",
    "Functions to create and optimize a series of observation objects stored as a dictionary."
   ]
  },
  {
   "cell_type": "code",
   "execution_count": null,
   "metadata": {},
   "outputs": [],
   "source": [
    "pynrc.NIRCam()"
   ]
  },
  {
   "cell_type": "code",
   "execution_count": 3,
   "metadata": {},
   "outputs": [],
   "source": [
    "def make_key(filter, pupil=None, mask=None):\n",
    "    \"\"\"Create identification key (string) based on filter, pupil, and mask\"\"\"\n",
    "    mask_key = 'none' if mask is None else mask\n",
    "    pupil_key = 'none' if pupil is None else pupil\n",
    "    key = '{}_{}_{}'.format(filter,mask_key,pupil_key)\n",
    "    return key"
   ]
  },
  {
   "cell_type": "markdown",
   "metadata": {},
   "source": [
    "# Sources and Bandpasses"
   ]
  },
  {
   "cell_type": "code",
   "execution_count": 4,
   "metadata": {},
   "outputs": [],
   "source": [
    "# Various Bandpasses\n",
    "bp_v = S.ObsBandpass('v')\n",
    "bp_k = pynrc.bp_2mass('k')\n",
    "bp_w1 = pynrc.bp_wise('w1')\n",
    "bp_w2 = pynrc.bp_wise('w2')"
   ]
  },
  {
   "cell_type": "code",
   "execution_count": 177,
   "metadata": {},
   "outputs": [],
   "source": [
    "# List of filters\n",
    "args_filter = [('F070W', None, None),\n",
    "               ('F115W', None, None),\n",
    "               ('F277W', None, None),\n",
    "               ('F444W', None, None),\n",
    "               ('F140M', None, None),\n",
    "               ('F182M', None, None),\n",
    "               ('F300M', None, None),\n",
    "               ('F335M', None, None)]\n",
    "\n",
    "\n",
    "# and their dictionary keys\n",
    "filt_keys = []\n",
    "for filt,mask,pupil in args_filter:\n",
    "    filt_keys.append(make_key(filt, mask=mask, pupil=pupil)) "
   ]
  },
  {
   "cell_type": "code",
   "execution_count": 6,
   "metadata": {},
   "outputs": [],
   "source": [
    "# Directory housing VOTables \n",
    "# http://vizier.u-strasbg.fr/vizier/sed/\n",
    "votdir = 'Cluster/'\n",
    "\n",
    "# Directory to save plots and figures\n",
    "outdir  = 'Cluster/'"
   ]
  },
  {
   "cell_type": "code",
   "execution_count": 7,
   "metadata": {
    "scrolled": true
   },
   "outputs": [],
   "source": [
    "import os\n",
    "files = [f for f in os.listdir(votdir) if f.endswith('.vot')]"
   ]
  },
  {
   "cell_type": "code",
   "execution_count": 20,
   "metadata": {},
   "outputs": [],
   "source": [
    "from astropy.io.votable import parse_single_table\n",
    "from pynrc.maths import robust\n",
    "\n",
    "def gen_table(votable_file):\n",
    "    \"\"\"Read VOTable and convert to astropy table\"\"\"\n",
    "    # Import source SED from VOTable\n",
    "    table = parse_single_table(votable_file)\n",
    "    # Convert to astropy table\n",
    "    tbl = table.to_table()\n",
    "\n",
    "    freq = tbl['sed_freq'] * 1e9 # Hz\n",
    "    wave_m = 2.99792458E+08 / freq\n",
    "    wave_A = 1e10 * wave_m\n",
    "\n",
    "    # Add wavelength column\n",
    "    col = tbl.Column(wave_A, 'sed_wave')\n",
    "    col.unit = 'Angstrom'\n",
    "    tbl.add_column(col)\n",
    "\n",
    "    # Sort flux monotomically with wavelength\n",
    "    tbl.sort(['sed_wave', 'sed_flux'])\n",
    "\n",
    "    return tbl\n",
    "\n",
    "def combine_fluxes(table):\n",
    "    \"\"\"Average duplicate data points\n",
    "\n",
    "    Creates average of duplicate point stored in self.sp_phot.\n",
    "    \"\"\"\n",
    "\n",
    "    wave = table['sed_wave']\n",
    "    flux = table[\"sed_flux\"]\n",
    "    eflux = table[\"sed_eflux\"]\n",
    "\n",
    "    # Average duplicate data points\n",
    "    uwave, ucnt = np.unique(wave, return_counts=True)\n",
    "    uflux = []\n",
    "    uflux_e = []\n",
    "    for i, w in enumerate(uwave):\n",
    "        ind = (wave==w)\n",
    "        flx = np.median(flux[ind]) if ucnt[i]>1 else flux[ind][0]\n",
    "        uflux.append(flx)\n",
    "\n",
    "        eflx = robust.medabsdev(flux[ind]) if ucnt[i]>1 else eflux[ind][0]\n",
    "        uflux_e.append(eflx)\n",
    "    uflux = np.array(uflux)\n",
    "    uflux_e = np.array(uflux_e)\n",
    "\n",
    "    # Photometric data points\n",
    "    sp_phot = S.ArraySpectrum(uwave, uflux, \n",
    "                              waveunits=wave.unit.name, \n",
    "                              fluxunits=flux.unit.name)\n",
    "    sp_phot.convert('Angstrom')\n",
    "    sp_phot.convert('Flam')\n",
    "\n",
    "    sp_phot_e = S.ArraySpectrum(uwave, uflux_e, \n",
    "                                waveunits=wave.unit.name, \n",
    "                                fluxunits=eflux.unit.name)\n",
    "    sp_phot_e.convert('Angstrom')\n",
    "    sp_phot_e.convert('Flam')\n",
    "\n",
    "\n",
    "    return (sp_phot, sp_phot_e)\n"
   ]
  },
  {
   "cell_type": "code",
   "execution_count": 26,
   "metadata": {},
   "outputs": [],
   "source": [
    "from astropy.io.votable import parse_single_table"
   ]
  },
  {
   "cell_type": "code",
   "execution_count": 159,
   "metadata": {},
   "outputs": [
    {
     "name": "stdout",
     "output_type": "stream",
     "text": [
      "J054137.36-015247.4.vot\n",
      "J054137.74-015351.8.vot\n",
      "J054137.75-015351.7.vot\n",
      "J05413733-0153132.vot\n",
      "J05413774-0153514.vot\n",
      "J05413787-0153137.vot\n",
      "J05413789-0153112.vot\n",
      "J054138.49-015323.8.vot\n",
      "J05413807-0153572.vot\n",
      "J05413824-0153090.vot\n",
      "J05413831-0153282.vot\n",
      "J05413832-0153331.vot\n",
      "J05413858-0153227.vot\n",
      "J054139.09-015358.6.vot\n",
      "J054139.13-015206.5.vot\n",
      "J054139.13-015207.3.vot\n",
      "J05413908-0153582.vot\n",
      "J05413948-0153268.vot\n",
      "J054140.39-015220.5.vot\n",
      "J05414249-0154097.vot\n",
      "J054146.28-015348.1.vot\n"
     ]
    }
   ],
   "source": [
    "f = votdir + files[-1]\n",
    "sp_arr = []\n",
    "for file in files:\n",
    "    print(file)\n",
    "    f = votdir + file\n",
    "    sp = nrc_utils.source_spectrum('Test', 'M0V', 20, bp_k, f)\n",
    "    sp.fit_SED(wlim=[0.1,0.7], robust=False, use_err=False, IR_excess=False, verbose=False)\n",
    "    obs = S.Observation(sp.sp_model, bp_v, binset=bp_v.wave)\n",
    "    sp = nrc_utils.source_spectrum('Test', 'M0V', obs.effstim('vegamag'), bp_v, f)\n",
    "    sp.fit_SED(wlim=[0.7,10], robust=False, use_err=False, IR_excess=True, verbose=False)\n",
    "    sp_arr.append(sp.sp_model)\n",
    "    #sp.plot_SED(xr=[0.1,10])"
   ]
  },
  {
   "cell_type": "code",
   "execution_count": 160,
   "metadata": {},
   "outputs": [
    {
     "data": {
      "image/png": "[encoded data removed]",
      "text/plain": [
       "<matplotlib.figure.Figure at 0x1a249fb2e8>"
      ]
     },
     "metadata": {},
     "output_type": "display_data"
    }
   ],
   "source": [
    "for sp in sp_arr:\n",
    "    plt.loglog(sp.wave/1e4, sp.flux, color='C0', lw=1, alpha=0.25)"
   ]
  },
  {
   "cell_type": "code",
   "execution_count": 161,
   "metadata": {},
   "outputs": [],
   "source": [
    "from astropy.table import Table"
   ]
  },
  {
   "cell_type": "code",
   "execution_count": 178,
   "metadata": {
    "scrolled": true
   },
   "outputs": [
    {
     "name": "stdout",
     "output_type": "stream",
     "text": [
      "F070W\n",
      "F115W\n",
      "F277W\n",
      "F444W\n",
      "F140M\n",
      "F182M\n",
      "F300M\n",
      "F335M\n"
     ]
    }
   ],
   "source": [
    "\n",
    "filt_names = []\n",
    "mag_data = []\n",
    "for args in args_filter:\n",
    "    filt = args[0]\n",
    "    print(filt)\n",
    "    \n",
    "    filt_names.append(filt)\n",
    "    bp = pynrc.read_filter(filt)\n",
    "    \n",
    "    mag_arr = []\n",
    "    for sp in sp_arr:\n",
    "        obs = S.Observation(sp, bp, binset=bp.wave)\n",
    "        mag_arr.append(obs.effstim('vegamag'))\n",
    "        \n",
    "    mag_arr = np.array(mag_arr)\n",
    "    mag_data.append(mag_arr)\n"
   ]
  },
  {
   "cell_type": "code",
   "execution_count": 179,
   "metadata": {},
   "outputs": [],
   "source": [
    "data = [files] + mag_data\n",
    "names = tuple(['Name'] + filt_names)"
   ]
  },
  {
   "cell_type": "code",
   "execution_count": 181,
   "metadata": {},
   "outputs": [],
   "source": [
    "tbl = Table(data, names=names)\n",
    "for fname in filt_names:\n",
    "    tbl[fname].format = '.2f'"
   ]
  },
  {
   "cell_type": "code",
   "execution_count": 182,
   "metadata": {},
   "outputs": [
    {
     "data": {
      "text/html": [
       "&lt;Table length=21&gt;\n",
       "<table id=\"table112320740264\" class=\"table-striped table-bordered table-condensed\">\n",
       "<thead><tr><th>Name</th><th>F070W</th><th>F115W</th><th>F277W</th><th>F444W</th><th>F140M</th><th>F182M</th><th>F300M</th><th>F335M</th></tr></thead>\n",
       "<thead><tr><th>str23</th><th>float64</th><th>float64</th><th>float64</th><th>float64</th><th>float64</th><th>float64</th><th>float64</th><th>float64</th></tr></thead>\n",
       "<tr><td>J054137.36-015247.4.vot</td><td>15.83</td><td>13.76</td><td>10.27</td><td>9.29</td><td>12.78</td><td>11.56</td><td>10.04</td><td>9.77</td></tr>\n",
       "<tr><td>J054137.74-015351.8.vot</td><td>15.01</td><td>11.11</td><td>7.68</td><td>6.88</td><td>9.97</td><td>8.81</td><td>7.48</td><td>7.27</td></tr>\n",
       "<tr><td>J054137.75-015351.7.vot</td><td>15.01</td><td>11.11</td><td>7.68</td><td>6.88</td><td>9.97</td><td>8.81</td><td>7.48</td><td>7.27</td></tr>\n",
       "<tr><td>J05413733-0153132.vot</td><td>13.58</td><td>10.82</td><td>8.08</td><td>7.42</td><td>9.91</td><td>8.98</td><td>7.91</td><td>7.73</td></tr>\n",
       "<tr><td>J05413774-0153514.vot</td><td>15.01</td><td>11.11</td><td>7.68</td><td>6.88</td><td>9.97</td><td>8.81</td><td>7.48</td><td>7.27</td></tr>\n",
       "<tr><td>J05413787-0153137.vot</td><td>15.77</td><td>12.36</td><td>9.13</td><td>8.36</td><td>11.29</td><td>10.19</td><td>8.94</td><td>8.73</td></tr>\n",
       "<tr><td>J05413789-0153112.vot</td><td>15.77</td><td>12.36</td><td>9.13</td><td>8.36</td><td>11.29</td><td>10.19</td><td>8.94</td><td>8.73</td></tr>\n",
       "<tr><td>J054138.49-015323.8.vot</td><td>15.01</td><td>11.29</td><td>7.94</td><td>7.16</td><td>10.19</td><td>9.05</td><td>7.75</td><td>7.54</td></tr>\n",
       "<tr><td>J05413807-0153572.vot</td><td>18.19</td><td>13.90</td><td>9.94</td><td>9.01</td><td>12.61</td><td>11.26</td><td>9.71</td><td>9.46</td></tr>\n",
       "<tr><td>J05413824-0153090.vot</td><td>16.29</td><td>12.30</td><td>8.50</td><td>7.60</td><td>11.06</td><td>9.77</td><td>8.28</td><td>8.04</td></tr>\n",
       "<tr><td>J05413831-0153282.vot</td><td>18.04</td><td>15.46</td><td>11.20</td><td>10.09</td><td>14.21</td><td>12.72</td><td>10.93</td><td>10.63</td></tr>\n",
       "<tr><td>J05413832-0153331.vot</td><td>18.02</td><td>15.33</td><td>11.12</td><td>10.03</td><td>14.07</td><td>12.61</td><td>10.85</td><td>10.56</td></tr>\n",
       "<tr><td>J05413858-0153227.vot</td><td>15.01</td><td>11.29</td><td>7.94</td><td>7.16</td><td>10.19</td><td>9.05</td><td>7.75</td><td>7.54</td></tr>\n",
       "<tr><td>J054139.09-015358.6.vot</td><td>17.09</td><td>12.51</td><td>8.23</td><td>7.21</td><td>11.13</td><td>9.66</td><td>7.98</td><td>7.70</td></tr>\n",
       "<tr><td>J054139.13-015206.5.vot</td><td>17.09</td><td>11.82</td><td>6.64</td><td>5.37</td><td>10.19</td><td>8.41</td><td>6.34</td><td>5.99</td></tr>\n",
       "<tr><td>J054139.13-015207.3.vot</td><td>17.09</td><td>11.82</td><td>6.64</td><td>5.37</td><td>10.19</td><td>8.41</td><td>6.34</td><td>5.99</td></tr>\n",
       "<tr><td>J05413908-0153582.vot</td><td>17.09</td><td>12.51</td><td>8.23</td><td>7.21</td><td>11.13</td><td>9.66</td><td>7.98</td><td>7.70</td></tr>\n",
       "<tr><td>J05413948-0153268.vot</td><td>18.42</td><td>13.43</td><td>8.72</td><td>7.60</td><td>11.92</td><td>10.31</td><td>8.45</td><td>8.14</td></tr>\n",
       "<tr><td>J054140.39-015220.5.vot</td><td>18.49</td><td>15.45</td><td>10.56</td><td>9.33</td><td>13.98</td><td>12.28</td><td>10.27</td><td>9.93</td></tr>\n",
       "<tr><td>J05414249-0154097.vot</td><td>16.39</td><td>14.54</td><td>10.54</td><td>9.30</td><td>13.57</td><td>12.16</td><td>10.25</td><td>9.91</td></tr>\n",
       "<tr><td>J054146.28-015348.1.vot</td><td>16.89</td><td>13.66</td><td>9.39</td><td>8.34</td><td>12.33</td><td>10.86</td><td>9.14</td><td>8.85</td></tr>\n",
       "</table>"
      ],
      "text/plain": [
       "<Table length=21>\n",
       "          Name           F070W   F115W   F277W  ...  F182M   F300M   F335M \n",
       "         str23          float64 float64 float64 ... float64 float64 float64\n",
       "----------------------- ------- ------- ------- ... ------- ------- -------\n",
       "J054137.36-015247.4.vot   15.83   13.76   10.27 ...   11.56   10.04    9.77\n",
       "J054137.74-015351.8.vot   15.01   11.11    7.68 ...    8.81    7.48    7.27\n",
       "J054137.75-015351.7.vot   15.01   11.11    7.68 ...    8.81    7.48    7.27\n",
       "  J05413733-0153132.vot   13.58   10.82    8.08 ...    8.98    7.91    7.73\n",
       "  J05413774-0153514.vot   15.01   11.11    7.68 ...    8.81    7.48    7.27\n",
       "  J05413787-0153137.vot   15.77   12.36    9.13 ...   10.19    8.94    8.73\n",
       "  J05413789-0153112.vot   15.77   12.36    9.13 ...   10.19    8.94    8.73\n",
       "J054138.49-015323.8.vot   15.01   11.29    7.94 ...    9.05    7.75    7.54\n",
       "  J05413807-0153572.vot   18.19   13.90    9.94 ...   11.26    9.71    9.46\n",
       "  J05413824-0153090.vot   16.29   12.30    8.50 ...    9.77    8.28    8.04\n",
       "  J05413831-0153282.vot   18.04   15.46   11.20 ...   12.72   10.93   10.63\n",
       "  J05413832-0153331.vot   18.02   15.33   11.12 ...   12.61   10.85   10.56\n",
       "  J05413858-0153227.vot   15.01   11.29    7.94 ...    9.05    7.75    7.54\n",
       "J054139.09-015358.6.vot   17.09   12.51    8.23 ...    9.66    7.98    7.70\n",
       "J054139.13-015206.5.vot   17.09   11.82    6.64 ...    8.41    6.34    5.99\n",
       "J054139.13-015207.3.vot   17.09   11.82    6.64 ...    8.41    6.34    5.99\n",
       "  J05413908-0153582.vot   17.09   12.51    8.23 ...    9.66    7.98    7.70\n",
       "  J05413948-0153268.vot   18.42   13.43    8.72 ...   10.31    8.45    8.14\n",
       "J054140.39-015220.5.vot   18.49   15.45   10.56 ...   12.28   10.27    9.93\n",
       "  J05414249-0154097.vot   16.39   14.54   10.54 ...   12.16   10.25    9.91\n",
       "J054146.28-015348.1.vot   16.89   13.66    9.39 ...   10.86    9.14    8.85"
      ]
     },
     "execution_count": 182,
     "metadata": {},
     "output_type": "execute_result"
    }
   ],
   "source": [
    "tbl"
   ]
  },
  {
   "cell_type": "code",
   "execution_count": 330,
   "metadata": {},
   "outputs": [
    {
     "data": {
      "text/plain": [
       "13.583926344788829"
      ]
     },
     "execution_count": 330,
     "metadata": {},
     "output_type": "execute_result"
    }
   ],
   "source": [
    "np.min(tbl[filt])"
   ]
  },
  {
   "cell_type": "code",
   "execution_count": 396,
   "metadata": {},
   "outputs": [
    {
     "data": {
      "text/plain": [
       "11.258911700144022"
      ]
     },
     "execution_count": 396,
     "metadata": {},
     "output_type": "execute_result"
    }
   ],
   "source": [
    "nrc.bg_zodi(100)"
   ]
  },
  {
   "cell_type": "code",
   "execution_count": 405,
   "metadata": {},
   "outputs": [
    {
     "name": "stdout",
     "output_type": "stream",
     "text": [
      "F070W\n",
      "F115W\n",
      "F277W\n",
      "F444W\n",
      "F140M\n",
      "F182M\n",
      "F300M\n",
      "F335M\n"
     ]
    }
   ],
   "source": [
    "# Baseline\n",
    "\n",
    "sat_arr = []\n",
    "sen_arr = []\n",
    "imsat_SH4 = []\n",
    "for filt in filt_names:\n",
    "    print(filt)\n",
    "    nrc = pynrc.NIRCam(filt, read_mode='SHALLOW4', ngroup=2, nint=76)\n",
    "    satlim = nrc.sat_limits(ngroup=2)['satmag']\n",
    "    sendict = nrc.sensitivity(sp=sp_bg, nsig=5, units='vegamag', zfact=100)\n",
    "    senlim = sendict[0]['sensitivity']\n",
    "\n",
    "    col = tbl[filt]\n",
    "    ind = np.argwhere(col == np.min(col)).flatten()\n",
    "    sp = sp_arr[ind[0]]\n",
    "    imsat = nrc.saturation_levels(sp, ngroup=2, full_size=False)\n",
    "    \n",
    "    sat_arr.append(satlim)\n",
    "    sen_arr.append(senlim)\n",
    "    imsat_SH4.append(imsat)\n",
    "        \n",
    "sat_arr = np.array(sat_arr)\n",
    "sen_arr = np.array(sen_arr)\n",
    "\n",
    "# Save to astropy table\n",
    "data = [filt_names, sen_arr, sat_arr]\n",
    "names = ('Filter', 'Sen0', 'Sat0')\n",
    "tbl_compare = Table(data, names=names)\n",
    "tbl_compare[names[1]].format = '.2f'\n",
    "tbl_compare[names[2]].format = '.2f'"
   ]
  },
  {
   "cell_type": "code",
   "execution_count": 406,
   "metadata": {},
   "outputs": [],
   "source": [
    "# Get Charge Time < 11.9 hours\n",
    "# Requires setting NINT = 9 & 8 for a total of (9+8)*4 = 68\n",
    "# Total Time = 11.79 hrs\n",
    "\n",
    "#sat_arr = []\n",
    "#sen_arr = []\n",
    "#imsat_list = []\n",
    "#for filt in filt_names:\n",
    "#    print(filt)\n",
    "#    nrc = pynrc.NIRCam(filt, read_mode='SHALLOW4', ngroup=2, nint=68)\n",
    "#    satlim = nrc.sat_limits(ngroup=2)['satmag']\n",
    "#    sendict = nrc.sensitivity(sp=sp_bg, nsig=5, units='vegamag', zfact=10)\n",
    "#    senlim = sendict[0]['sensitivity']\n",
    "#\n",
    "#    col = tbl[filt]\n",
    "#    ind = np.argwhere(col == np.min(col)).flatten()\n",
    "#    sp = sp_arr[ind[0]]\n",
    "#    imsat = nrc.saturation_levels(sp, ngroup=2, full_size=False)\n",
    "#    \n",
    "#    sat_arr.append(satlim)\n",
    "#    sen_arr.append(senlim)\n",
    "#    imsat_list.append(imsat)\n",
    "#    \n",
    "#sat_arr = np.array(sat_arr)\n",
    "#sen_arr = np.array(sen_arr)\n",
    "#\n",
    "# Save to astropy table\n",
    "#col = Table.Column(data=sen_arr, name='Sen1', format='.2f')\n",
    "#tbl_compare.add_column(col)\n",
    "#col = Table.Column(data=sat_arr, name='Sat1', format='.2f')\n",
    "#tbl_compare.add_column(col)"
   ]
  },
  {
   "cell_type": "code",
   "execution_count": 407,
   "metadata": {},
   "outputs": [
    {
     "name": "stdout",
     "output_type": "stream",
     "text": [
      "F070W\n",
      "F115W\n",
      "F277W\n",
      "F444W\n",
      "F140M\n",
      "F182M\n",
      "F300M\n",
      "F335M\n"
     ]
    }
   ],
   "source": [
    "# Switch to BRIGHT1 5 Groups\n",
    "# No change in time\n",
    "\n",
    "sat_arr = []\n",
    "sen_arr = []\n",
    "imsat_BR1 = []\n",
    "for filt in filt_names:\n",
    "    print(filt)\n",
    "    nrc = pynrc.NIRCam(filt, read_mode='BRIGHT1', ngroup=5, nint=68)\n",
    "    satlim = nrc.sat_limits(ngroup=2)['satmag']\n",
    "    sendict = nrc.sensitivity(sp=sp_bg, nsig=5, units='vegamag', zfact=100)\n",
    "    senlim = sendict[0]['sensitivity']\n",
    "\n",
    "    col = tbl[filt]\n",
    "    ind = np.argwhere(col == np.min(col)).flatten()\n",
    "    sp = sp_arr[ind[0]]\n",
    "    imsat = nrc.saturation_levels(sp, ngroup=2, full_size=False)\n",
    "    \n",
    "    sat_arr.append(satlim)\n",
    "    sen_arr.append(senlim)\n",
    "    imsat_BR1.append(imsat)\n",
    "    \n",
    "sat_arr = np.array(sat_arr)\n",
    "sen_arr = np.array(sen_arr)\n",
    "\n",
    "# Save to astropy table\n",
    "col = Table.Column(data=sen_arr, name='Sen2', format='.2f')\n",
    "tbl_compare.add_column(col)\n",
    "col = Table.Column(data=sat_arr, name='Sat2', format='.2f')\n",
    "tbl_compare.add_column(col)"
   ]
  },
  {
   "cell_type": "code",
   "execution_count": 408,
   "metadata": {},
   "outputs": [
    {
     "name": "stdout",
     "output_type": "stream",
     "text": [
      "F070W\n",
      "F115W\n",
      "F277W\n",
      "F444W\n",
      "F140M\n",
      "F182M\n",
      "F300M\n",
      "F335M\n"
     ]
    }
   ],
   "source": [
    "# Eat up the rest of the the time\n",
    "# Adds a 3rd visit with 4 additional INTs per filter\n",
    "\n",
    "sat_arr = []\n",
    "sen_arr = []\n",
    "imsat_BR1 = []\n",
    "for filt in filt_names:\n",
    "    print(filt)\n",
    "    nrc = pynrc.NIRCam(filt, read_mode='BRIGHT1', ngroup=5, nint=72)\n",
    "    satlim = nrc.sat_limits(ngroup=2)['satmag']\n",
    "    sendict = nrc.sensitivity(sp=sp_bg, nsig=5, units='vegamag', zfact=100)\n",
    "    senlim = sendict[0]['sensitivity']\n",
    "\n",
    "    col = tbl[filt]\n",
    "    ind = np.argwhere(col == np.min(col)).flatten()\n",
    "    sp = sp_arr[ind[0]]\n",
    "    imsat = nrc.saturation_levels(sp, ngroup=2, full_size=False)\n",
    "    \n",
    "    sat_arr.append(satlim)\n",
    "    sen_arr.append(senlim)\n",
    "    imsat_BR1.append(imsat)\n",
    "    \n",
    "sat_arr = np.array(sat_arr)\n",
    "sen_arr = np.array(sen_arr)\n",
    "\n",
    "# Save to astropy table\n",
    "col = Table.Column(data=sen_arr, name='Sen2r1', format='.2f')\n",
    "tbl_compare.add_column(col)\n",
    "col = Table.Column(data=sat_arr, name='Sat2r1', format='.2f')\n",
    "#tbl_compare.add_column(col)"
   ]
  },
  {
   "cell_type": "code",
   "execution_count": 409,
   "metadata": {},
   "outputs": [
    {
     "name": "stdout",
     "output_type": "stream",
     "text": [
      "F070W\n",
      "F115W\n",
      "F277W\n",
      "F444W\n",
      "F140M\n",
      "F182M\n",
      "F300M\n",
      "F335M\n"
     ]
    }
   ],
   "source": [
    "# Include INTRAMODULEBOX dithers (x4)\n",
    "# Switch to Small Grid Dithers (x4)\n",
    "# Reduction to NINT = 64\n",
    "# Total Time = 11.55 hrs\n",
    "\n",
    "sat_arr = []\n",
    "sen_arr = []\n",
    "imsat_list = []\n",
    "for filt in filt_names:\n",
    "    print(filt)\n",
    "    nrc = pynrc.NIRCam(filt, read_mode='BRIGHT1', ngroup=5, nint=64)\n",
    "    satlim = nrc.sat_limits(ngroup=2)['satmag']\n",
    "    sendict = nrc.sensitivity(sp=sp_bg, nsig=5, units='vegamag', zfact=100)\n",
    "    senlim = sendict[0]['sensitivity']\n",
    "\n",
    "    col = tbl[filt]\n",
    "    ind = np.argwhere(col == np.min(col)).flatten()\n",
    "    sp = sp_arr[ind[0]]\n",
    "    imsat = nrc.saturation_levels(sp, ngroup=2, full_size=False)\n",
    "    \n",
    "    sat_arr.append(satlim)\n",
    "    sen_arr.append(senlim)\n",
    "    imsat_list.append(imsat)\n",
    "    \n",
    "sat_arr = np.array(sat_arr)\n",
    "sen_arr = np.array(sen_arr)\n",
    "\n",
    "# Save to astropy table\n",
    "col = Table.Column(data=sen_arr, name='Sen3', format='.2f')\n",
    "tbl_compare.add_column(col)\n",
    "col = Table.Column(data=sat_arr, name='Sat3', format='.2f')\n",
    "#tbl_compare.add_column(col)"
   ]
  },
  {
   "cell_type": "code",
   "execution_count": 410,
   "metadata": {},
   "outputs": [
    {
     "name": "stdout",
     "output_type": "stream",
     "text": [
      "F070W\n",
      "F115W\n",
      "F277W\n",
      "F444W\n",
      "F140M\n",
      "F182M\n",
      "F300M\n",
      "F335M\n"
     ]
    }
   ],
   "source": [
    "# Eat up the rest of the the time\n",
    "# Adds a 3rd visit with 6 additional INTs per filter\n",
    "\n",
    "sat_arr = []\n",
    "sen_arr = []\n",
    "imsat_list = []\n",
    "for filt in filt_names:\n",
    "    print(filt)\n",
    "    nrc = pynrc.NIRCam(filt, read_mode='BRIGHT1', ngroup=5, nint=70)\n",
    "    satlim = nrc.sat_limits(ngroup=2)['satmag']\n",
    "    sendict = nrc.sensitivity(sp=sp_bg, nsig=5, units='vegamag', zfact=100)\n",
    "    senlim = sendict[0]['sensitivity']\n",
    "\n",
    "    col = tbl[filt]\n",
    "    ind = np.argwhere(col == np.min(col)).flatten()\n",
    "    sp = sp_arr[ind[0]]\n",
    "    imsat = nrc.saturation_levels(sp, ngroup=2, full_size=False)\n",
    "    \n",
    "    sat_arr.append(satlim)\n",
    "    sen_arr.append(senlim)\n",
    "    imsat_list.append(imsat)\n",
    "    \n",
    "sat_arr = np.array(sat_arr)\n",
    "sen_arr = np.array(sen_arr)\n",
    "\n",
    "# Save to astropy table\n",
    "col = Table.Column(data=sen_arr, name='Sen3r1', format='.2f')\n",
    "tbl_compare.add_column(col)\n",
    "col = Table.Column(data=sat_arr, name='Sat3r1', format='.2f')\n",
    "#tbl_compare.add_column(col)"
   ]
  },
  {
   "cell_type": "code",
   "execution_count": 413,
   "metadata": {},
   "outputs": [],
   "source": [
    "new_order = ('Filter', 'Sen0', 'Sen2', 'Sen2r1', 'Sen3', 'Sen3r1', 'Sat0', 'Sat2')\n",
    "tbl_compare = tbl_compare[new_order]\n",
    "tbl_compare.rename_column('Sat0', 'Sat_SH4')\n",
    "tbl_compare.rename_column('Sat2', 'Sat_BR1')"
   ]
  },
  {
   "cell_type": "code",
   "execution_count": 414,
   "metadata": {},
   "outputs": [
    {
     "data": {
      "text/html": [
       "&lt;Table length=8&gt;\n",
       "<table id=\"table112386309256\" class=\"table-striped table-bordered table-condensed\">\n",
       "<thead><tr><th>Filter</th><th>Sen0</th><th>Sen2</th><th>Sen2r1</th><th>Sen3</th><th>Sen3r1</th><th>Sat_SH4</th><th>Sat_BR1</th></tr></thead>\n",
       "<thead><tr><th>str5</th><th>float64</th><th>float64</th><th>float64</th><th>float64</th><th>float64</th><th>float64</th><th>float64</th></tr></thead>\n",
       "<tr><td>F070W</td><td>25.99</td><td>26.10</td><td>26.13</td><td>26.07</td><td>26.12</td><td>17.40</td><td>16.21</td></tr>\n",
       "<tr><td>F115W</td><td>25.91</td><td>26.06</td><td>26.09</td><td>26.03</td><td>26.08</td><td>17.78</td><td>16.59</td></tr>\n",
       "<tr><td>F277W</td><td>24.48</td><td>24.66</td><td>24.69</td><td>24.63</td><td>24.67</td><td>17.09</td><td>15.90</td></tr>\n",
       "<tr><td>F444W</td><td>22.93</td><td>23.12</td><td>23.15</td><td>23.09</td><td>23.14</td><td>15.40</td><td>14.21</td></tr>\n",
       "<tr><td>F140M</td><td>25.28</td><td>25.39</td><td>25.42</td><td>25.36</td><td>25.41</td><td>16.66</td><td>15.47</td></tr>\n",
       "<tr><td>F182M</td><td>25.11</td><td>25.23</td><td>25.26</td><td>25.20</td><td>25.24</td><td>16.24</td><td>15.05</td></tr>\n",
       "<tr><td>F300M</td><td>23.80</td><td>23.95</td><td>23.99</td><td>23.92</td><td>23.97</td><td>15.74</td><td>14.55</td></tr>\n",
       "<tr><td>F335M</td><td>23.64</td><td>23.80</td><td>23.83</td><td>23.77</td><td>23.82</td><td>15.48</td><td>14.28</td></tr>\n",
       "</table>"
      ],
      "text/plain": [
       "<Table length=8>\n",
       "Filter   Sen0    Sen2   Sen2r1   Sen3   Sen3r1 Sat_SH4 Sat_BR1\n",
       " str5  float64 float64 float64 float64 float64 float64 float64\n",
       "------ ------- ------- ------- ------- ------- ------- -------\n",
       " F070W   25.99   26.10   26.13   26.07   26.12   17.40   16.21\n",
       " F115W   25.91   26.06   26.09   26.03   26.08   17.78   16.59\n",
       " F277W   24.48   24.66   24.69   24.63   24.67   17.09   15.90\n",
       " F444W   22.93   23.12   23.15   23.09   23.14   15.40   14.21\n",
       " F140M   25.28   25.39   25.42   25.36   25.41   16.66   15.47\n",
       " F182M   25.11   25.23   25.26   25.20   25.24   16.24   15.05\n",
       " F300M   23.80   23.95   23.99   23.92   23.97   15.74   14.55\n",
       " F335M   23.64   23.80   23.83   23.77   23.82   15.48   14.28"
      ]
     },
     "execution_count": 414,
     "metadata": {},
     "output_type": "execute_result"
    }
   ],
   "source": [
    "tbl_compare"
   ]
  },
  {
   "cell_type": "code",
   "execution_count": 370,
   "metadata": {},
   "outputs": [
    {
     "data": {
      "text/html": [
       "&lt;Table length=8&gt;\n",
       "<table id=\"table112368426736\" class=\"table-striped table-bordered table-condensed\">\n",
       "<thead><tr><th>Filter</th><th>Sen0</th><th>Sat0</th><th>Sen1</th><th>Sat1</th><th>Sen2</th><th>Sat2</th><th>Sen3</th><th>Sat3</th></tr></thead>\n",
       "<thead><tr><th>str5</th><th>float64</th><th>float64</th><th>float64</th><th>float64</th><th>float64</th><th>float64</th><th>float64</th><th>float64</th></tr></thead>\n",
       "<tr><td>F070W</td><td>26.90</td><td>17.40</td><td>26.84</td><td>17.40</td><td>26.76</td><td>16.21</td><td>26.72</td><td>16.21</td></tr>\n",
       "<tr><td>F115W</td><td>27.06</td><td>17.78</td><td>27.00</td><td>17.78</td><td>26.94</td><td>16.59</td><td>26.91</td><td>16.59</td></tr>\n",
       "<tr><td>F277W</td><td>26.01</td><td>17.09</td><td>25.95</td><td>17.09</td><td>25.97</td><td>15.90</td><td>25.94</td><td>15.90</td></tr>\n",
       "<tr><td>F444W</td><td>24.70</td><td>15.40</td><td>24.64</td><td>15.40</td><td>24.74</td><td>14.21</td><td>24.71</td><td>14.21</td></tr>\n",
       "<tr><td>F140M</td><td>26.16</td><td>16.66</td><td>26.10</td><td>16.66</td><td>26.01</td><td>15.47</td><td>25.98</td><td>15.47</td></tr>\n",
       "<tr><td>F182M</td><td>26.03</td><td>16.24</td><td>25.97</td><td>16.24</td><td>25.89</td><td>15.05</td><td>25.86</td><td>15.05</td></tr>\n",
       "<tr><td>F300M</td><td>24.97</td><td>15.74</td><td>24.91</td><td>15.74</td><td>24.87</td><td>14.55</td><td>24.84</td><td>14.55</td></tr>\n",
       "<tr><td>F335M</td><td>24.85</td><td>15.48</td><td>24.79</td><td>15.48</td><td>24.75</td><td>14.28</td><td>24.72</td><td>14.28</td></tr>\n",
       "</table>"
      ],
      "text/plain": [
       "<Table length=8>\n",
       "Filter   Sen0    Sat0    Sen1    Sat1    Sen2    Sat2    Sen3    Sat3 \n",
       " str5  float64 float64 float64 float64 float64 float64 float64 float64\n",
       "------ ------- ------- ------- ------- ------- ------- ------- -------\n",
       " F070W   26.90   17.40   26.84   17.40   26.76   16.21   26.72   16.21\n",
       " F115W   27.06   17.78   27.00   17.78   26.94   16.59   26.91   16.59\n",
       " F277W   26.01   17.09   25.95   17.09   25.97   15.90   25.94   15.90\n",
       " F444W   24.70   15.40   24.64   15.40   24.74   14.21   24.71   14.21\n",
       " F140M   26.16   16.66   26.10   16.66   26.01   15.47   25.98   15.47\n",
       " F182M   26.03   16.24   25.97   16.24   25.89   15.05   25.86   15.05\n",
       " F300M   24.97   15.74   24.91   15.74   24.87   14.55   24.84   14.55\n",
       " F335M   24.85   15.48   24.79   15.48   24.75   14.28   24.72   14.28"
      ]
     },
     "execution_count": 370,
     "metadata": {},
     "output_type": "execute_result"
    }
   ],
   "source": [
    "tbl_compare"
   ]
  },
  {
   "cell_type": "code",
   "execution_count": 328,
   "metadata": {},
   "outputs": [
    {
     "data": {
      "text/plain": [
       "({'Spectrum': 'Flat spectrum in photlam',\n",
       "  'nsig': 5,\n",
       "  'sensitivity': 26.899707136356472,\n",
       "  'units': 'vegamag'},\n",
       " {'Spectrum': 'Flat spectrum in photlam',\n",
       "  'nsig': 5,\n",
       "  'sensitivity': 23.38876800288095,\n",
       "  'units': 'vegamag/arcsec^2'})"
      ]
     },
     "execution_count": 328,
     "metadata": {},
     "output_type": "execute_result"
    }
   ],
   "source": [
    "nrc.sensitivity(sp=sp_bg, nsig=5, units='vegamag')['sensitivity']"
   ]
  },
  {
   "cell_type": "code",
   "execution_count": 320,
   "metadata": {},
   "outputs": [
    {
     "name": "stdout",
     "output_type": "stream",
     "text": [
      "F070W Saturation Limit assuming G2V source: 17.40 vegamag\n",
      "F070W Saturation Limit assuming G2V source: 16.21 vegamag\n"
     ]
    }
   ],
   "source": [
    "_ = nrc1.sat_limits(verbose=True, ngroup=2)\n",
    "_ = nrc2.sat_limits(verbose=True, ngroup=2)"
   ]
  },
  {
   "cell_type": "code",
   "execution_count": 321,
   "metadata": {},
   "outputs": [],
   "source": [
    "sp_bg = pynrc.stellar_spectrum('flat', 25, 'vegamag', bp_k)"
   ]
  },
  {
   "cell_type": "code",
   "execution_count": 322,
   "metadata": {
    "scrolled": true
   },
   "outputs": [
    {
     "name": "stdout",
     "output_type": "stream",
     "text": [
      "Point Source Sensitivity (5-sigma): 26.90 vegamag\n",
      "Surface Brightness Sensitivity (5-sigma): 23.39 vegamag/arcsec^2\n",
      "Point Source Sensitivity (5-sigma): 26.72 vegamag\n",
      "Surface Brightness Sensitivity (5-sigma): 23.21 vegamag/arcsec^2\n"
     ]
    }
   ],
   "source": [
    "_ = nrc1.sensitivity(sp=sp_bg, nsig=5, forwardSNR=False, units='vegamag', verbose=True)\n",
    "_ = nrc2.sensitivity(sp=sp_bg, nsig=5, forwardSNR=False, units='vegamag', verbose=True)"
   ]
  },
  {
   "cell_type": "code",
   "execution_count": 223,
   "metadata": {},
   "outputs": [
    {
     "name": "stdout",
     "output_type": "stream",
     "text": [
      "BRIGHT1\n",
      "BRIGHT2\n",
      "DEEP2\n",
      "DEEP8\n",
      "MEDIUM2\n",
      "MEDIUM8\n",
      "RAPID\n",
      "SHALLOW2\n",
      "SHALLOW4\n",
      " Pattern   NGRP NINT   t_int     t_exp     t_acq     SNR      Well     eff   \n",
      "---------- ---- ---- --------- --------- --------- -------- -------- --------\n",
      "MEDIUM2       2   30    128.84   3865.24   4187.35    191.5   36.451    2.959\n",
      "MEDIUM2       2   31    128.84   3994.08   4326.92    194.7   36.451    2.959\n",
      "MEDIUM2       2   32    128.84   4122.92   4466.50    197.8   36.451    2.959\n",
      "MEDIUM2       2   33    128.84   4251.76   4606.08    200.9   36.451    2.959\n",
      "MEDIUM2       2   34    128.84   4380.60   4745.66    203.9   36.451    2.959\n",
      "SHALLOW2      3   30    128.84   3865.24   4187.35    190.8   36.451    2.948\n",
      "SHALLOW2      3   31    128.84   3994.08   4326.92    193.9   36.451    2.948\n",
      "SHALLOW2      3   32    128.84   4122.92   4466.50    197.0   36.451    2.948\n",
      "SHALLOW2      3   33    128.84   4251.76   4606.08    200.1   36.451    2.948\n",
      "SHALLOW2      3   34    128.84   4380.60   4745.66    203.1   36.451    2.948\n",
      "...         ...  ...       ...       ...       ...      ...      ...      ...\n",
      "BRIGHT1       5   44     96.63   4251.76   4724.18    168.0   27.338    2.443\n",
      "SHALLOW4      2   40     96.63   3865.24   4294.71    156.0   27.338    2.379\n",
      "SHALLOW4      2   41     96.63   3961.87   4402.08    157.9   27.338    2.379\n",
      "SHALLOW4      2   42     96.63   4058.50   4509.45    159.8   27.338    2.379\n",
      "SHALLOW4      2   43     96.63   4155.13   4616.82    161.7   27.338    2.379\n",
      "SHALLOW4      2   44     96.63   4251.76   4724.18    163.6   27.338    2.379\n",
      "RAPID         5   68     53.68   3650.50   4380.61    114.0   15.188    1.722\n",
      "RAPID         5   69     53.68   3704.19   4445.03    114.8   15.188    1.722\n",
      "RAPID         5   70     53.68   3757.87   4509.45    115.7   15.188    1.722\n",
      "RAPID         5   71     53.68   3811.55   4573.87    116.5   15.188    1.722\n",
      "RAPID         5   72     53.68   3865.24   4638.29    117.3   15.188    1.722\n",
      "Length = 30 rows\n"
     ]
    }
   ],
   "source": [
    "\n",
    "res = nrc.ramp_optimize(sp_bg, sp_bright=sp_arr[3], tacq_max=4500, ng_min=2, \n",
    "                        ng_max=5, well_frac_max=40, verbose=True)"
   ]
  },
  {
   "cell_type": "code",
   "execution_count": 224,
   "metadata": {},
   "outputs": [
    {
     "name": "stdout",
     "output_type": "stream",
     "text": [
      " Pattern   NGRP NINT   t_int     t_exp     t_acq     SNR      Well     eff   \n",
      "---------- ---- ---- --------- --------- --------- -------- -------- --------\n",
      "RAPID         5   68     53.68   3650.50   4380.61    114.0   15.188    1.722\n",
      "RAPID         5   69     53.68   3704.19   4445.03    114.8   15.188    1.722\n",
      "BRIGHT1       5   40     96.63   3865.24   4294.71    160.2   27.338    2.443\n",
      "BRIGHT1       5   41     96.63   3961.87   4402.08    162.2   27.338    2.443\n",
      "BRIGHT2       5   36    107.37   3865.24   4251.77    186.1   30.375    2.853\n",
      "BRIGHT2       5   37    107.37   3972.60   4369.87    188.6   30.375    2.853\n",
      "SHALLOW2      3   30    128.84   3865.24   4187.35    190.8   36.451    2.948\n",
      "SHALLOW2      3   31    128.84   3994.08   4326.92    193.9   36.451    2.948\n",
      "SHALLOW4      2   40     96.63   3865.24   4294.71    156.0   27.338    2.379\n",
      "SHALLOW4      2   41     96.63   3961.87   4402.08    157.9   27.338    2.379\n",
      "MEDIUM2       2   30    128.84   3865.24   4187.35    191.5   36.451    2.959\n",
      "MEDIUM2       2   31    128.84   3994.08   4326.92    194.7   36.451    2.959\n"
     ]
    }
   ],
   "source": [
    "from pynrc.pynrc_core import table_filter\n",
    "\n",
    "res2 = table_filter(res, 2)\n",
    "print(res2)"
   ]
  },
  {
   "cell_type": "code",
   "execution_count": 262,
   "metadata": {},
   "outputs": [],
   "source": [
    "imsat1 = nrc1.saturation_levels(sp_arr[3], ngroup=2, full_size=False)\n",
    "imsat2 = nrc2.saturation_levels(sp_arr[3], ngroup=2, full_size=False)"
   ]
  },
  {
   "cell_type": "code",
   "execution_count": 264,
   "metadata": {},
   "outputs": [
    {
     "data": {
      "text/plain": [
       "<matplotlib.image.AxesImage at 0x1a26af3fd0>"
      ]
     },
     "execution_count": 264,
     "metadata": {},
     "output_type": "execute_result"
    },
    {
     "data": {
      "image/png": "[encoded data removed]",
      "text/plain": [
       "<matplotlib.figure.Figure at 0x1a26c4ea58>"
      ]
     },
     "metadata": {},
     "output_type": "display_data"
    }
   ],
   "source": [
    "plt.imshow(imsat1, vmax=0.8)"
   ]
  },
  {
   "cell_type": "code",
   "execution_count": 265,
   "metadata": {},
   "outputs": [
    {
     "data": {
      "text/plain": [
       "<matplotlib.image.AxesImage at 0x1a26a7c898>"
      ]
     },
     "execution_count": 265,
     "metadata": {},
     "output_type": "execute_result"
    },
    {
     "data": {
      "image/png": "[encoded data removed]",
      "text/plain": [
       "<matplotlib.figure.Figure at 0x1a2560e518>"
      ]
     },
     "metadata": {},
     "output_type": "display_data"
    }
   ],
   "source": [
    "plt.imshow(imsat2, vmax=0.8)"
   ]
  },
  {
   "cell_type": "code",
   "execution_count": null,
   "metadata": {
    "collapsed": true
   },
   "outputs": [],
   "source": []
  }
 ],
 "metadata": {
  "kernelspec": {
   "display_name": "Python 3",
   "language": "python",
   "name": "python3"
  },
  "language_info": {
   "codemirror_mode": {
    "name": "ipython",
    "version": 3
   },
   "file_extension": ".py",
   "mimetype": "text/x-python",
   "name": "python",
   "nbconvert_exporter": "python",
   "pygments_lexer": "ipython3",
   "version": "3.6.4"
  }
 },
 "nbformat": 4,
 "nbformat_minor": 2
}
