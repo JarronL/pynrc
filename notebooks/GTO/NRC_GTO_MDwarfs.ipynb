{
 "cells": [
  {
   "cell_type": "code",
   "execution_count": 1,
   "metadata": {
    "collapsed": true
   },
   "outputs": [],
   "source": [
    "# Makes print and division act like Python 3\n",
    "from __future__ import print_function, division\n",
    "\n",
    "# Import the usual libraries\n",
    "import numpy as np\n",
    "import matplotlib\n",
    "import matplotlib.pyplot as plt\n",
    "\n",
    "# Enable inline plotting at lower left\n",
    "%matplotlib inline\n",
    "\n",
    "from IPython.display import display, Latex, clear_output\n",
    "from matplotlib.backends.backend_pdf import PdfPages"
   ]
  },
  {
   "cell_type": "code",
   "execution_count": 2,
   "metadata": {
    "collapsed": false
   },
   "outputs": [],
   "source": [
    "import pynrc\n",
    "from pynrc import nrc_utils\n",
    "from pynrc.nrc_utils import S\n",
    "from pynrc.obs_nircam import model_to_hdulist\n",
    "pynrc.setup_logging('WARNING', verbose=False)"
   ]
  },
  {
   "cell_type": "markdown",
   "metadata": {},
   "source": [
    "# Observations Definitions\n",
    "\n",
    "Functions to create and optimize a series of observation objects stored as a dictionary."
   ]
  },
  {
   "cell_type": "code",
   "execution_count": 3,
   "metadata": {
    "collapsed": true
   },
   "outputs": [],
   "source": [
    "def make_key(filter, pupil=None, mask=None):\n",
    "    \"\"\"Create identification key (string) based on filter, pupil, and mask\"\"\"\n",
    "    mask_key = 'none' if mask is None else mask\n",
    "    pupil_key = 'none' if pupil is None else pupil\n",
    "    key = '{}_{}_{}'.format(filter,mask_key,pupil_key)\n",
    "    return key"
   ]
  },
  {
   "cell_type": "code",
   "execution_count": null,
   "metadata": {
    "collapsed": true
   },
   "outputs": [],
   "source": [
    "def model_info(source, filt, dist):\n",
    "    \n",
    "    base_dir  = '/Volumes/NIRData/Andras_models_v2/'\n",
    "    model_dir = base_dir + source + '/'\n",
    "    \n",
    "    # Match filters with model\n",
    "    filt_switch = {'F182M':'F210M', 'F210M':'F210M', 'F250M':'F250M',\n",
    "                   'F300M':'F300M', 'F335M':'F335M', 'F444W':'F444W'}\n",
    "    filt_model = filt_switch.get(filt, filt)\n",
    "    fname = source + '_' + filt_model +'sc.fits'\n",
    "\n",
    "    bp = nrc_utils.read_filter(filt_model)\n",
    "    w0 = bp.avgwave() / 1e4\n",
    "\n",
    "    # Model pixels are 4x oversampled\n",
    "    detscale = (nrc_utils.channel_select(bp))[0]\n",
    "    model_scale = detscale / 4.\n",
    "    \n",
    "    # File name, arcsec/pix, dist (pc), wavelength (um), flux units\n",
    "    args_model = (model_dir+fname, model_scale, dist, w0, 'Jy/pixel')\n",
    "\n",
    "    return args_model"
   ]
  },
  {
   "cell_type": "code",
   "execution_count": null,
   "metadata": {
    "collapsed": true
   },
   "outputs": [],
   "source": [
    "def obs_wfe(wfe_drift, filt_list, sp_sci, dist, sp_ref=None, disk_mod=True, fov_pix=None, verbose=False):\n",
    "    \"\"\"\n",
    "    For a given WFE drift and series of filters, create a list of \n",
    "    NIRCam observations. This function will calculate PSFs out to 320 pixels. \n",
    "    For the case of SW+MASK335R, we also assume that the subarray size matches \n",
    "    that of a simultaneous LW observation (320x320).\n",
    "    \"\"\"\n",
    "    if sp_ref is None:\n",
    "        sp_ref = sp_sci\n",
    "    \n",
    "    fov_pix_orig = fov_pix\n",
    "\n",
    "    obs_dict = {}\n",
    "    for filt, mask, pupil in filt_list:\n",
    "        if verbose: print(filt, mask, pupil)\n",
    "\n",
    "        # Disk Model\n",
    "        if disk_mod:\n",
    "            # Convert to photons/sec in specified filter\n",
    "            args_disk = model_info(sp_sci.name, filt, dist)\n",
    "            hdu_disk = model_to_hdulist(args_disk, sp_sci, filt, pupil=pupil, mask=mask)\n",
    "        else:\n",
    "            hdu_disk = None\n",
    "        \n",
    "        # Create identification keys\n",
    "        key = make_key(filt, mask=mask, pupil=pupil)\n",
    "        \n",
    "        # Define the subarray readout size\n",
    "        # Set the PSF size and oversampling amount\n",
    "        fov_pix = subsize = 320 if fov_pix is None else fov_pix\n",
    "        oversample = 2\n",
    "\n",
    "        # Initialize and store the observation\n",
    "        # A reference obseration is stored inside each parent obs_coronagraphy class.\n",
    "        obs_dict[key] = pynrc.obs_coronagraphy(sp_sci, sp_ref, dist, \n",
    "                                               disk_hdu=hdu_disk, wfe_drift=wfe_drift,\n",
    "                                               filter=filt, mask=mask, pupil=pupil, \n",
    "                                               oversample=oversample, fov_pix=fov_pix,\n",
    "                                               wind_mode='WINDOW', xpix=subsize, ypix=subsize,\n",
    "                                               verbose=verbose)\n",
    "        fov_pix = fov_pix_orig\n",
    "        \n",
    "    return obs_dict"
   ]
  },
  {
   "cell_type": "code",
   "execution_count": 5,
   "metadata": {
    "collapsed": true
   },
   "outputs": [],
   "source": [
    "def obs_wfe(wfe_drift, filt_list, sp_sci, dist, sp_ref=None, fov_pix=None, verbose=False):\n",
    "    \"\"\"\n",
    "    For a given WFE drift and series of filters, create a list of \n",
    "    NIRCam observations. This function will calculate PSFs out to 320 pixels. \n",
    "    For the case of SW+MASK335R, we also assume that the subarray size matches \n",
    "    that of a simultaneous LW observation (320x320).\n",
    "    \"\"\"\n",
    "    if sp_ref is None:\n",
    "        sp_ref = sp_sci\n",
    "    \n",
    "    obs_dict = {}\n",
    "    for filt, mask, pupil in filt_list:\n",
    "        if verbose: print(filt, mask, pupil)\n",
    "\n",
    "        # Disk Model\n",
    "        if disk_mod:\n",
    "            # Convert to photons/sec in specified filter\n",
    "            args_disk = model_info(sp_sci.name, filt, dist)\n",
    "            hdu_disk = model_to_hdulist(args_disk, sp_sci, filt, pupil=pupil, mask=mask)\n",
    "        else:\n",
    "            hdu_disk = None\n",
    "        \n",
    "        # Create identification keys\n",
    "        key = make_key(filt, mask=mask, pupil=pupil)\n",
    "\n",
    "        # Define the subarray readout size\n",
    "        # Set the PSF size and oversampling amount\n",
    "        fov_pix = subsize = 320\n",
    "        oversample = 2\n",
    "\n",
    "        # Initialize and store the observation\n",
    "        # A reference obseration is stored inside each parent obs_coronagraphy class.\n",
    "        obs_dict[key] = pynrc.obs_coronagraphy(sp_sci, sp_ref, dist, \n",
    "                                               disk_hdu=hdu_disk, wfe_drift=wfe_drift,\n",
    "                                               filter=filt, mask=mask, pupil=pupil, \n",
    "                                               oversample=oversample, fov_pix=fov_pix,\n",
    "                                               wind_mode='WINDOW', xpix=subsize, ypix=subsize,\n",
    "                                               verbose=verbose)\n",
    "    return obs_dict"
   ]
  },
  {
   "cell_type": "code",
   "execution_count": 6,
   "metadata": {
    "collapsed": true
   },
   "outputs": [],
   "source": [
    "def obs_optimize(obs_dict, sp_opt=None, well_levels=None, tacq_max=1800, **kwargs):\n",
    "    \"\"\"\n",
    "    Perform ramp optimization on each science and reference observation\n",
    "    in a list of filter observations. Updates the detector MULTIACCUM\n",
    "    settings for each observation in the dictionary.\n",
    "    \n",
    "    snr_goal = 5\n",
    "    snr_frac = 0.02\n",
    "    tacq_max = 1400\n",
    "    tacq_frac = 0.01\n",
    "    nint_min = 15\n",
    "    ng_max = 10\n",
    "    \"\"\"\n",
    "\n",
    "    # A very faint bg object on which to maximize S/N\n",
    "    # If sp_opt is not set, then default to a 20th magnitude flat source\n",
    "    if sp_opt is None:\n",
    "        bp_k = S.ObsBandpass('k')\n",
    "        sp_opt = pynrc.stellar_spectrum('flat', 20, 'vegamag', bp_k)\n",
    "\n",
    "    \n",
    "    # Some observations may saturate, so define a list of  maximum well level\n",
    "    # values that we will incrementally check until a ramp setting is found\n",
    "    # that meets the contraints.\n",
    "    if well_levels is None:\n",
    "        well_levels = [0.8, 1.5, 3.0, 5.0, 10.0, 20.0, 100.0, 150.0, 300.0, 500.0]\n",
    "   \n",
    "    filt_keys = obs_dict.keys()\n",
    "    filt_keys.sort()\n",
    "    print(['Pattern', 'NGRP', 'NINT', 't_int', 't_exp', 't_acq', 'SNR', 'Well', 'eff'])\n",
    "    for j, key in enumerate(filt_keys):\n",
    "        print('')\n",
    "        print(key)\n",
    "\n",
    "        obs = obs_dict[key]\n",
    "        sp_sci, sp_ref = (obs.sp_sci, obs.sp_ref)\n",
    "        \n",
    "        # SW filter piggy-back on two LW filters, so 2 x tacq\n",
    "        is_SW = obs.bandpass.avgwave()/1e4 < 2.5\n",
    "\n",
    "        sci = obs\n",
    "        ref = sci.nrc_ref\n",
    "\n",
    "        # Ramp optimization for both science and reference targets\n",
    "        for obs2, sp in zip([sci, ref], [sp_sci, sp_ref]):\n",
    "            i = nrow = 0\n",
    "            while nrow==0:\n",
    "                well_max = well_levels[i]\n",
    "                tbl = obs2.ramp_optimize(sp_opt, sp, well_frac_max=well_max, tacq_max=tacq_max, **kwargs)\n",
    "                nrow = len(tbl)\n",
    "                i+=1\n",
    "                \n",
    "            # Grab the highest ranked MULTIACCUM settings and update the detector readout\n",
    "            v1, v2, v3 = tbl['Pattern', 'NGRP', 'NINT'][0]\n",
    "            \n",
    "            vals = tbl[0].as_void()\n",
    "            strout = ', '.join(map(str, vals))\n",
    "            print(strout)\n",
    "\n",
    "            # SW filter piggy-back on two LW filters, so 2 x tacq\n",
    "            is_SW = obs.bandpass.avgwave()/1e4 < 2.5\n",
    "            if is_SW: v3 *= 2\n",
    "            \n",
    "            # Coronagraphic observations have two roll positions, so cut NINT by 2\n",
    "            if obs.mask is not None: v3 = int(v3/2) \n",
    "            obs2.update_detectors(read_mode=v1, ngroup=v2, nint=v3)\n",
    "        "
   ]
  },
  {
   "cell_type": "markdown",
   "metadata": {},
   "source": [
    "## Plotting contrasts and planet magnitudes\n",
    "\n",
    "Functions to plot simulated images and contrast curves"
   ]
  },
  {
   "cell_type": "code",
   "execution_count": 7,
   "metadata": {
    "collapsed": true
   },
   "outputs": [],
   "source": [
    "def plot_contrasts(curves, wfe_list, ax=None, colors=None, return_ax=False):\n",
    "    \"\"\"Plot a series of contrast curves for corresponding WFE drifts.\"\"\"\n",
    "    if ax is None:\n",
    "        fig, ax = plt.subplots()\n",
    "    if colors is None:\n",
    "        lin_vals = np.linspace(0.2,0.7,len(wfe_list))\n",
    "        colors = plt.cm.Blues_r(lin_vals)[::-1]\n",
    "    for j, wfe_drift in enumerate(wfe_list):\n",
    "        rr, contrast, mag_sens = curves[j]\n",
    "        label=\"WFE Drift = {} nm\".format(wfe_list[j])\n",
    "        ax.plot(rr, mag_sens, label=label, color=colors[j], zorder=1, lw=2)\n",
    "        \n",
    "    if return_ax: return ax\n",
    "\n",
    "\n",
    "def planet_mags(obs, age=10, entropy=13, mass_list=[10,5,2,1], av_vals=[0,25]):\n",
    "    \"\"\"Determine series of exoplanet magnitudes for given observation.\"\"\"\n",
    "\n",
    "    pmag = {}\n",
    "    for i,m in enumerate(mass_list):\n",
    "        flux_list = []\n",
    "        for j,av in enumerate(av_vals):\n",
    "            sp = obs.planet_spec(mass=m, age=age, Av=av, entropy=entropy, atmo='hy3s')\n",
    "            sp_obs = S.Observation(sp, obs.bandpass, binset=obs.bandpass.wave)\n",
    "            flux = sp_obs.effstim('vegamag')\n",
    "            flux_list.append(flux)\n",
    "        pmag[m] = tuple(flux_list)\n",
    "        \n",
    "    return pmag\n",
    "\n",
    "        \n",
    "def plot_planet_patches(ax, obs, age=10, entropy=13, mass_list=[10,5,2,1], av_vals=[0,25]):\n",
    "    \"\"\"Plot exoplanet magnitudes in region corresponding to extinction values.\"\"\"\n",
    "    import matplotlib.patches as patches\n",
    "    \n",
    "    xlim = ax.get_xlim()\n",
    "    cols = plt.cm.tab10(np.linspace(0,1,10))\n",
    "    \n",
    "    dist = obs.distance\n",
    "    \n",
    "    pmag = planet_mags(obs, age, entropy, mass_list, av_vals)\n",
    "    for i,m in enumerate(mass_list):\n",
    "        pm_min, pm_max = pmag[m]\n",
    "        label = 'Mass = {} '.format(m) + '$M_{\\mathrm{Jup}}$'\n",
    "        rect = patches.Rectangle((xlim[0], pm_min), xlim[1], pm_max-pm_min, alpha=0.2,\n",
    "                                 color=cols[i], label=label, zorder=2)\n",
    "        ax.add_patch(rect)\n",
    "        ax.plot(xlim, [pm_min]*2, color=cols[i], lw=1, alpha=0.3)\n",
    "        ax.plot(xlim, [pm_max]*2, color=cols[i], lw=1, alpha=0.3)\n",
    "        \n",
    "\n",
    "    entropy_switch = {13:'Hot', 8:'Cold'}\n",
    "    entropy_string = entropy_switch.get(entropy, lambda: \"Warm\")\n",
    "    ent_str = entropy_string + ' Start'\n",
    "    #ent_str = '{} Start'.format(entropy_string)\n",
    "\n",
    "    av_str = '$A_V = [{:.0f},{:.0f}]$'.format(av_vals[0],av_vals[1])\n",
    "    age_str = 'Age = {:.0f} Myr; '.format(age)\n",
    "    dist_str = 'Dist = {:.1f} pc; '.format(dist) if dist is not None else ''\n",
    "    #dist_str=\"\"\n",
    "\n",
    "    ax.set_title('{} -- {} ({}{}{})'.format(obs.filter,ent_str,age_str,dist_str,av_str))\n"
   ]
  },
  {
   "cell_type": "code",
   "execution_count": 8,
   "metadata": {
    "collapsed": false
   },
   "outputs": [],
   "source": [
    "from copy import deepcopy\n",
    "\n",
    "def plot_images(obs_dict, hdu_dict, filt_keys, wfe_drift, save_fig=False):\n",
    "    nfilt = len(filt_keys)\n",
    "    ext_name = ['Model', 'Sim Image (linear scale)', 'Sim Image ($r^2$ scale)']\n",
    "    nim = len(ext_name)\n",
    "\n",
    "    fig, axes = plt.subplots(nim, nfilt, figsize=(14,7.5))\n",
    "    axes = axes.transpose()\n",
    "    for j, k in enumerate(filt_keys):\n",
    "        obs = obs_dict[k]\n",
    "        hdu_mod = obs.disk_hdulist\n",
    "        hdu_sim = hdu_dict[k]\n",
    "\n",
    "        # Make r^2 scaled version of data\n",
    "        hdu_sim_r2 = deepcopy(hdu_sim)\n",
    "        data  = hdu_sim_r2[0].data\n",
    "        header = hdu_sim_r2[0].header\n",
    "        rho = nrc_utils.dist_image(data, pixscale=header['PIXELSCL'])\n",
    "        data *= rho**2\n",
    "\n",
    "        # Max value for model\n",
    "        data_mod   = hdu_mod[0].data\n",
    "        header_mod = hdu_mod[0].header\n",
    "        rho_mod    = nrc_utils.dist_image(data_mod, pixscale=header_mod['PIXELSCL'])\n",
    "        data_mod_r2 = data_mod*rho_mod**2\n",
    "        vmax  = np.max(data_mod)\n",
    "        vmax2 = np.max(data_mod_r2)\n",
    "        \n",
    "        # Scale value for data\n",
    "        mask_good = data_mod>(0.1*vmax)\n",
    "        scl1 = np.median(hdu_sim[0].data[mask_good] / data_mod[mask_good])\n",
    "        \n",
    "        # Scale value for r^2 version\n",
    "        mask_good = data_mod_r2>(0.1*vmax2)\n",
    "        scl2 = np.median(hdu_sim_r2[0].data[mask_good] / data_mod_r2[mask_good])\n",
    "\n",
    "        vmax_vals = [vmax,vmax*scl1,vmax2*scl2]\n",
    "        hdus = [hdu_mod, hdu_sim, hdu_sim_r2]\n",
    "        for i, ax in enumerate(axes[j]):\n",
    "            hdulist = hdus[i]\n",
    "            data = hdulist[0].data\n",
    "            header = hdulist[0].header\n",
    "\n",
    "            pixscale = header['PIXELSCL']\n",
    "            rho = nrc_utils.dist_image(data, pixscale=pixscale)\n",
    "\n",
    "            rad = data.shape[0] * pixscale / 2\n",
    "            extent = [-rad, rad, -rad, rad]\n",
    "\n",
    "            ax.imshow(data, vmin=0, vmax=0.9*vmax_vals[i], extent=extent)\n",
    "\n",
    "            ax.set_aspect('equal')\n",
    "            if j > 0: ax.set_yticklabels([])\n",
    "            if i < nim-1: ax.set_xticklabels([])\n",
    "            if i==nim-1: ax.set_xlabel('Arcsec')\n",
    "            if j==0: ax.set_ylabel(ext_name[i])\n",
    "\n",
    "            if i==0: ax.set_title(obs.filter)\n",
    "\n",
    "            if fov>2*rad:\n",
    "                xlim = [-rad,rad]\n",
    "                ylim = [-rad,rad]\n",
    "            else:\n",
    "                xlim = [-fov/2,fov/2]\n",
    "                ylim = [-fov/2,fov/2]\n",
    "            ax.set_xlim(xlim)\n",
    "            ax.set_ylim(ylim)\n",
    "\n",
    "            ax.xaxis.get_major_locator().set_params(nbins=9, steps=[1, 2, 5, 10])\n",
    "            ax.yaxis.get_major_locator().set_params(nbins=9, steps=[1, 2, 5, 10])\n",
    "\n",
    "            ax.tick_params(axis='both', color='white', which='both')\n",
    "            for k in ax.spines.keys():\n",
    "                ax.spines[k].set_color('white')\n",
    "\n",
    "            \n",
    "    texp = obs_dict[filt_keys[-1]].multiaccum_times['t_exp']\n",
    "    texp = round(2*texp/100)*100\n",
    "    exp_text = \"t_exp = {:.0f} sec\".format(texp)\n",
    "    wfe_text = \"WFE Drift = {} nm\".format(wfe_drift)\n",
    "    fig.suptitle('{} ({}; {})'.format(name_sci, exp_text, wfe_text), fontsize=16);\n",
    "    fig.tight_layout()\n",
    "\n",
    "    fig.subplots_adjust(wspace=0.1, hspace=0.1, top=0.9, bottom=0.07 , left=0.05, right=0.97)\n",
    "    \n",
    "    fname = \"{}_images.pdf\".format(name_sci.replace(\" \", \"\"))\n",
    "    if save_fig: \n",
    "        fig.savefig(outdir+fname)"
   ]
  },
  {
   "cell_type": "markdown",
   "metadata": {},
   "source": [
    "## Functions to init, optimize, and plot"
   ]
  },
  {
   "cell_type": "code",
   "execution_count": 9,
   "metadata": {
    "collapsed": true
   },
   "outputs": [],
   "source": [
    "# Generate initial observations for each filter(no WFE drift)\n",
    "def do_init(disk_mod=False, verbose=True):\n",
    "    wfe_drift = 0\n",
    "    obs_dict = obs_wfe(wfe_drift, args_list, sp_sci, dist_sci, sp_ref=sp_ref, \n",
    "                       disk_mod=disk_mod, verbose=verbose)\n",
    "    return obs_dict"
   ]
  },
  {
   "cell_type": "code",
   "execution_count": 10,
   "metadata": {
    "collapsed": true
   },
   "outputs": [],
   "source": [
    "# Optimize observations\n",
    "def do_opt(tacq_max, **kwargs):\n",
    "    sp_opt = pynrc.stellar_spectrum('flat', 20, 'vegamag', bp_k)\n",
    "    obs_optimize(obs_dict, sp_opt=sp_opt, tacq_max=tacq_max, **kwargs)"
   ]
  },
  {
   "cell_type": "code",
   "execution_count": 11,
   "metadata": {
    "collapsed": true
   },
   "outputs": [],
   "source": [
    "# For each filter setting, generate a series of contrast curves at different WFE values\n",
    "def do_contrast(wfe_list, filt_keys, nsig=5):\n",
    "    contrast_all = {}\n",
    "    for i, key in enumerate(filt_keys):\n",
    "        print(key)\n",
    "        obs = obs_dict[key]\n",
    "\n",
    "        filt, mask, pupil = args_list[i]\n",
    "        roll_angle = 0 if mask is None else 10\n",
    "\n",
    "        # Stores tuple of (Radial Distances, Contrast, and Sensitivity) for each WFE drift\n",
    "        curves = []\n",
    "        for wfe_drift in wfe_list:\n",
    "            obs.wfe_drift = wfe_drift\n",
    "            result = obs.calc_contrast(roll_angle=roll_angle, nsig=nsig)\n",
    "            curves.append(result)\n",
    "\n",
    "        contrast_all[key] = curves\n",
    "    return contrast_all"
   ]
  },
  {
   "cell_type": "code",
   "execution_count": 12,
   "metadata": {
    "collapsed": true
   },
   "outputs": [],
   "source": [
    "def do_plot_contrast(curves, wfe_list, nsig, age, dist, xlim=[0,10], ylim=[24,8], save_fig=False):\n",
    "\n",
    "    fig, axes = plt.subplots(1,2, figsize=(13,4.5))\n",
    "    entropy_vals = [13,8]\n",
    "\n",
    "    for j, ax in enumerate(axes):\n",
    "        ax.set_xlim(xlim)\n",
    "        ax.set_ylim(ylim)\n",
    "        plot_contrasts(curves, wfe_list, ax=ax)\n",
    "        plot_planet_patches(ax, obs_dict[key], age=age, entropy=entropy_vals[j], dist=dist)\n",
    "\n",
    "    import matplotlib.patches as mpatches\n",
    "    for ax in axes.flatten():\n",
    "        ax.set_xlabel('Distance (arcsec)')\n",
    "        ax.set_ylabel('{}-sigma Sensitivities (mag)'.format(nsig))\n",
    "        ax.set_xlim([0,10])\n",
    "        ax.set_ylim(ylim)\n",
    "        ax.legend(ncol=2)\n",
    "\n",
    "    fig.tight_layout()\n",
    "    \n",
    "    t_exp = obs_dict[filt_keys[-1]].multiaccum_times['t_exp']\n",
    "    t_exp = round(2*t_exp/100)*100\n",
    "    fig.suptitle('{} (t_exp = {:.0f} sec)'.format(name_sci, t_exp), fontsize=16);\n",
    "    #fig.subplots_adjust(top=0.85)\n",
    "    fig.subplots_adjust(wspace=0.1, hspace=0.1, top=0.85, bottom=0.1 , left=0.05, right=0.97)\n",
    "\n",
    "    fname = \"{}_contrast.pdf\".format(name_sci.replace(\" \", \"\"))\n",
    "    if save_fig: \n",
    "        fig.savefig(outdir+fname)\n",
    "        \n",
    "def do_plot_contrast(obs, curves, wfe_list, nsig, age, xlim=[0,10], ylim=[24,8], save_fig=False):\n",
    "\n",
    "    fig, axes = plt.subplots(1,2, figsize=(13,4.5))\n",
    "    entropy_vals = [13,8]\n",
    "\n",
    "    for j, ax in enumerate(axes):\n",
    "        ax.set_xlim(xlim)\n",
    "        ax.set_ylim(ylim)\n",
    "        plot_contrasts(curves, wfe_list, ax=ax)\n",
    "        plot_planet_patches(ax, obs, age=age, entropy=entropy_vals[j])\n",
    "\n",
    "    for ax in axes.flatten():\n",
    "        ax.set_xlabel('Distance (arcsec)')\n",
    "        ax.set_ylabel('{}-sigma Sensitivities (mag)'.format(nsig))\n",
    "        ax.set_xlim(xlim)\n",
    "        ax.set_ylim(ylim)\n",
    "        ax.legend(ncol=2)\n",
    "\n",
    "    fig.tight_layout()\n",
    "    \n",
    "    t_exp = obs.multiaccum_times['t_exp']\n",
    "    t_exp = round(2*t_exp/100)*100\n",
    "    fig.suptitle('{} (t_exp = {:.0f} sec)'.format(name_sci, t_exp), fontsize=16);\n",
    "    #fig.subplots_adjust(top=0.85)\n",
    "    fig.subplots_adjust(wspace=0.1, hspace=0.1, top=0.85, bottom=0.1 , left=0.05, right=0.97)\n",
    "\n",
    "    fname = \"{}_contrast.pdf\".format(name_sci.replace(\" \", \"\"))\n",
    "    if save_fig: \n",
    "        fig.savefig(outdir+fname)"
   ]
  },
  {
   "cell_type": "code",
   "execution_count": 13,
   "metadata": {
    "collapsed": true
   },
   "outputs": [],
   "source": [
    "def do_gen_hdus(obs_dict, wfe_drift, **kwargs):\n",
    "    \n",
    "    hdulist_dict = {}\n",
    "    for key in filt_keys:\n",
    "        obs = obs_dict[key]\n",
    "        obs.wfe_drift = wfe_drift\n",
    "        hdulist = obs.gen_roll_image(PA1=0, PA2=10, **kwargs)\n",
    "        \n",
    "        hdulist_dict[key] = hdulist\n",
    "        \n",
    "    return hdulist_dict"
   ]
  },
  {
   "cell_type": "markdown",
   "metadata": {},
   "source": [
    "## Define Source and their Reference Counterparts"
   ]
  },
  {
   "cell_type": "code",
   "execution_count": 14,
   "metadata": {
    "collapsed": true
   },
   "outputs": [],
   "source": [
    "# Argument list:(Name,          dist, sptype, age, kmag)\n",
    "args_sources = [('AUMic',         9.9, 'M1V',  24,  4.53),\n",
    "                ('HIP17695',     16.1, 'M3V', 150,  6.93),\n",
    "                ('G7-34',        13.6, 'M4V', 150,  8.18),\n",
    "                ('TYC5899',      16.3, 'M3V', 130,  6.89),\n",
    "                ('2MJ0944-1220', 12.0, 'M5V',  50,  7.60),\n",
    "                ('APCol',         8.4, 'M5V',  50,  6.87),\n",
    "                ('FomalhautC',    7.6, 'M4V', 440,  7.21),\n",
    "                ('2MJ2351+2344', 16.0, 'M4V',  24,  8.83),\n",
    "                ('LP944-20',      6.4, 'M9V', 200,  9.55),\n",
    "                ('2MJ0443+0002', 14.9, 'M9V',  24, 11.22)]\n",
    "\n",
    "ref_sources = [('AUMic_ref',        'M3V',  6.9),\n",
    "               ('HIP17695_ref',     'M4V',  8.2),\n",
    "               ('G7-34_ref',        'M3V',  6.9),\n",
    "               ('TYC5899_ref',      'M5V',  7.6),\n",
    "               ('2MJ0944-1220_ref', 'M3V',  6.9),\n",
    "               ('APCol_ref',        'M4V',  8.8),\n",
    "               ('FomalhautC_ref',   'M5V',  7.8),\n",
    "               ('2MJ2351+2344_ref', 'M5V',  7.2),\n",
    "               ('LP944-20_ref',     'M9V', 11.0),\n",
    "               ('2MJ0443+0002_ref', 'M9V',  9.6)]\n"
   ]
  },
  {
   "cell_type": "code",
   "execution_count": 15,
   "metadata": {
    "collapsed": true
   },
   "outputs": [],
   "source": [
    "# List of filters\n",
    "args_list = [('F322W2', 'MASK335R', 'CIRCLYOT'),\n",
    "             ('F356W',  'MASK335R', 'CIRCLYOT'),\n",
    "             ('F444W',  'MASK335R', 'CIRCLYOT'),\n",
    "             ('F322W2', 'MASK430R', 'CIRCLYOT'),\n",
    "             ('F356W',  'MASK430R', 'CIRCLYOT'),\n",
    "             ('F444W',  'MASK430R', 'CIRCLYOT')]\n",
    "\n",
    "args_list = [('F356W',  'MASK430R', 'CIRCLYOT'),\n",
    "             ('F444W',  'MASK430R', 'CIRCLYOT')]\n",
    "\n",
    "filt_keys = []\n",
    "for filt,mask,pupil in args_list:\n",
    "    filt_keys.append(make_key(filt, mask=mask, pupil=pupil)) "
   ]
  },
  {
   "cell_type": "code",
   "execution_count": 16,
   "metadata": {
    "collapsed": true
   },
   "outputs": [],
   "source": [
    "# K-Band Filter\n",
    "bp_k = S.ObsBandpass('k')"
   ]
  },
  {
   "cell_type": "code",
   "execution_count": 17,
   "metadata": {
    "collapsed": true
   },
   "outputs": [],
   "source": [
    "outdir  = '/Volumes/NIRData/'"
   ]
  },
  {
   "cell_type": "markdown",
   "metadata": {},
   "source": [
    "## AU Mic"
   ]
  },
  {
   "cell_type": "code",
   "execution_count": 18,
   "metadata": {
    "collapsed": false
   },
   "outputs": [],
   "source": [
    "i=0\n",
    "\n",
    "name_sci, dist_sci, spt_sci, age, kmag_sci = args_sources[i]\n",
    "name_ref, spt_ref, kmag_ref = ref_sources[i]\n",
    "\n",
    "# Science target and reference star spectra\n",
    "sp_sci = pynrc.stellar_spectrum(spt_sci, kmag_sci, 'vegamag', bp_k, catname='ck04models')\n",
    "sp_ref = pynrc.stellar_spectrum(spt_ref, kmag_ref, 'vegamag', bp_k, catname='ck04models')\n",
    "sp_sci.name = name_sci\n",
    "sp_ref.name = name_ref"
   ]
  },
  {
   "cell_type": "code",
   "execution_count": 19,
   "metadata": {
    "collapsed": false,
    "scrolled": true
   },
   "outputs": [],
   "source": [
    "obs_dict = do_init(verbose=False)"
   ]
  },
  {
   "cell_type": "code",
   "execution_count": 20,
   "metadata": {
    "collapsed": false
   },
   "outputs": [],
   "source": [
    "for k in filt_keys:\n",
    "    obs = obs_dict[k]\n",
    "    obs.wfe_drift = 5"
   ]
  },
  {
   "cell_type": "code",
   "execution_count": 21,
   "metadata": {
    "collapsed": true
   },
   "outputs": [],
   "source": [
    "obs1 = obs_dict[filt_keys[0]]\n",
    "obs2 = obs_dict[filt_keys[1]]\n",
    "\n",
    "obs1.update_detectors(read_mode='MEDIUM8', ngroup=10, nint=8)\n",
    "obs1.nrc_ref.update_detectors(read_mode='MEDIUM8', ngroup=10, nint=30)\n",
    "\n",
    "\n",
    "obs2.update_detectors(read_mode='MEDIUM8', ngroup=10, nint=17)\n",
    "obs2.nrc_ref.update_detectors(read_mode='MEDIUM8', ngroup=10, nint=50)"
   ]
  },
  {
   "cell_type": "code",
   "execution_count": 31,
   "metadata": {
    "collapsed": false
   },
   "outputs": [
    {
     "name": "stdout",
     "output_type": "stream",
     "text": [
      "F356W_MASK430R_CIRCLYOT\n",
      "F444W_MASK430R_CIRCLYOT\n"
     ]
    }
   ],
   "source": [
    "# Full frame slope images\n",
    "wfe_list = [0,5,10,20][::-1]\n",
    "nsig = 5\n",
    "curves_dict = do_contrast(wfe_list, filt_keys, nsig=nsig)\n",
    "\n",
    "curves1 = curves_dict[filt_keys[0]]\n",
    "curves2 = curves_dict[filt_keys[1]]"
   ]
  },
  {
   "cell_type": "code",
   "execution_count": 32,
   "metadata": {
    "collapsed": false
   },
   "outputs": [
    {
     "data": {
      "image/png": "[encoded data removed]",
      "text/plain": [
       "<matplotlib.figure.Figure at 0x1285f2450>"
      ]
     },
     "metadata": {},
     "output_type": "display_data"
    }
   ],
   "source": [
    "xlim=[0,10]\n",
    "ylim=[24,8]\n",
    "\n",
    "fig, axes = plt.subplots(1,2, figsize=(13,4.5))\n",
    "ax1, ax2 = axes\n",
    "entropy_vals = [13,8]\n",
    "\n",
    "for j, ax in enumerate(axes):\n",
    "    ax.set_xlim(xlim)\n",
    "    ax.set_ylim(ylim)\n",
    "\n",
    "plot_contrasts(curves1, wfe_list, ax=ax1)\n",
    "plot_contrasts(curves2, wfe_list, ax=ax2)\n",
    "plot_planet_patches(ax1, obs1, age=age, entropy=8, av_vals=[0,10])\n",
    "plot_planet_patches(ax2, obs2, age=age, entropy=8, av_vals=[0,10])\n",
    "\n",
    "for ax in axes.flatten():\n",
    "    ax.set_xlabel('Distance (arcsec)')\n",
    "    ax.set_ylabel('{}-sigma Sensitivities (mag)'.format(nsig))\n",
    "    ax.legend(ncol=2)\n",
    "    \n",
    "    ax.xaxis.get_major_locator().set_params(nbins=9, steps=[1, 2, 5, 10])\n",
    "    ax.yaxis.get_major_locator().set_params(nbins=9, steps=[1, 2, 5, 10])\n",
    "\n",
    "fig.tight_layout()\n",
    "\n",
    "#t_exp = obs.multiaccum_times['t_exp']\n",
    "#t_exp = round(2*t_exp/100)*100\n",
    "#fig.suptitle('{} (t_exp = {:.0f} sec)'.format(name_sci, t_exp), fontsize=16);\n",
    "fig.suptitle(name_sci, fontsize=16);\n",
    "#fig.subplots_adjust(top=0.85)\n",
    "fig.subplots_adjust(wspace=0.1, hspace=0.1, top=0.85, bottom=0.1 , left=0.05, right=0.97)\n"
   ]
  },
  {
   "cell_type": "code",
   "execution_count": null,
   "metadata": {
    "collapsed": true
   },
   "outputs": [],
   "source": []
  }
 ],
 "metadata": {
  "anaconda-cloud": {},
  "kernelspec": {
   "display_name": "Python [default]",
   "language": "python",
   "name": "python2"
  },
  "language_info": {
   "codemirror_mode": {
    "name": "ipython",
    "version": 2
   },
   "file_extension": ".py",
   "mimetype": "text/x-python",
   "name": "python",
   "nbconvert_exporter": "python",
   "pygments_lexer": "ipython2",
   "version": "2.7.12"
  }
 },
 "nbformat": 4,
 "nbformat_minor": 0
}
