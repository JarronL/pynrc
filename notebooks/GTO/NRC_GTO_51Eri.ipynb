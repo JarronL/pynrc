{
 "cells": [
  {
   "cell_type": "code",
   "execution_count": 1,
   "metadata": {
    "collapsed": true
   },
   "outputs": [],
   "source": [
    "# Makes print and division act like Python 3\n",
    "from __future__ import print_function, division\n",
    "\n",
    "# Import the usual libraries\n",
    "import numpy as np\n",
    "import matplotlib\n",
    "import matplotlib.pyplot as plt\n",
    "import matplotlib.patches as patches\n",
    "\n",
    "# Enable inline plotting at lower left\n",
    "%matplotlib inline\n",
    "\n",
    "from IPython.display import display, Latex, clear_output\n",
    "from matplotlib.backends.backend_pdf import PdfPages"
   ]
  },
  {
   "cell_type": "code",
   "execution_count": 2,
   "metadata": {
    "collapsed": true
   },
   "outputs": [],
   "source": [
    "import pynrc\n",
    "from pynrc import nrc_utils\n",
    "from pynrc.nrc_utils import S\n",
    "from pynrc.obs_nircam import model_to_hdulist, obs_coronagraphy\n",
    "from pynrc.obs_nircam import plot_contrasts, planet_mags, plot_planet_patches\n",
    "\n",
    "from pynrc.speckle_noise import offset_bar\n",
    "pynrc.setup_logging('WARNING', verbose=False)\n",
    "\n",
    "from astropy.io import (fits, ascii)"
   ]
  },
  {
   "cell_type": "markdown",
   "metadata": {},
   "source": [
    "# Observation Definitions\n",
    "\n",
    "Functions to create at optimize a series of observation objects stored as a dictionary."
   ]
  },
  {
   "cell_type": "code",
   "execution_count": 3,
   "metadata": {
    "collapsed": true
   },
   "outputs": [],
   "source": [
    "def make_key(filter, pupil=None, mask=None):\n",
    "    \"\"\"Create identification key (string) based on filter, pupil, and mask\"\"\"\n",
    "    mask_key = 'none' if mask is None else mask\n",
    "    pupil_key = 'none' if pupil is None else pupil\n",
    "    key = '{}_{}_{}'.format(filter,mask_key,pupil_key)\n",
    "    return key"
   ]
  },
  {
   "cell_type": "code",
   "execution_count": 4,
   "metadata": {
    "collapsed": true
   },
   "outputs": [],
   "source": [
    "def obs_wfe(wfe_drift, filt_list, sp_sci, dist, sp_ref=None, disk_mod=False, fov_pix=None, verbose=False):\n",
    "    \"\"\"\n",
    "    For a given WFE drift and series of filters, create a list of \n",
    "    NIRCam observations. This function will calculate PSFs out to 320 pixels. \n",
    "    For the case of SW+MASK335R, we also assume that the subarray size matches \n",
    "    that of a simultaneous LW observation (320x320).\n",
    "    \"\"\"\n",
    "    \n",
    "    if sp_ref is None:\n",
    "        sp_ref = sp_sci\n",
    "\n",
    "    fov_pix_orig = fov_pix\n",
    "\n",
    "    obs_dict = {}\n",
    "    for filt, mask, pupil in filt_list:\n",
    "        if verbose: print(filt, mask, pupil)\n",
    "\n",
    "        # Disk Model\n",
    "        if disk_mod:\n",
    "            # Convert to photons/sec in specified filter\n",
    "            args_disk = model_info(sp_sci.name, filt, dist)\n",
    "            hdu_disk = model_to_hdulist(args_disk, sp_sci, filt, pupil=pupil, mask=mask)\n",
    "        else:\n",
    "            hdu_disk = None\n",
    "        \n",
    "        # Create identification keys\n",
    "        key = make_key(filt, mask=mask, pupil=pupil)\n",
    "        \n",
    "        # Define the subarray readout size\n",
    "        # Set the PSF size and oversampling amount\n",
    "        bp = pynrc.read_filter(filt)\n",
    "        subsize = 640 if bp.avgwave()/1e4 < 2.4 else 320\n",
    "        fov_pix = subsize+1 if fov_pix is None else fov_pix\n",
    "        oversample = 2\n",
    "        \n",
    "        # Initialize and store the observation\n",
    "        # A reference obseration is stored inside each parent obs_coronagraphy class.\n",
    "        obs_dict[key] = pynrc.obs_coronagraphy(sp_sci, sp_ref, dist, \n",
    "                                               disk_hdu=hdu_disk, wfe_drift=wfe_drift,\n",
    "                                               filter=filt, mask=mask, pupil=pupil, \n",
    "                                               oversample=oversample, fov_pix=fov_pix,\n",
    "                                               wind_mode='WINDOW', xpix=subsize, ypix=subsize,\n",
    "                                               verbose=verbose)\n",
    "        fov_pix = fov_pix_orig\n",
    "        \n",
    "    return obs_dict"
   ]
  },
  {
   "cell_type": "code",
   "execution_count": 5,
   "metadata": {
    "collapsed": true
   },
   "outputs": [],
   "source": [
    "def obs_optimize(obs_dict, sp_opt=None, well_levels=None, tacq_max=1800, **kwargs):\n",
    "    \"\"\"\n",
    "    Perform ramp optimization on each science and reference observation\n",
    "    in a list of filter observations. Updates the detector MULTIACCUM\n",
    "    settings for each observation in the dictionary.\n",
    "    \n",
    "    snr_goal = 5\n",
    "    snr_frac = 0.02\n",
    "    tacq_max = 1400\n",
    "    tacq_frac = 0.01\n",
    "    nint_min = 15\n",
    "    ng_max = 10\n",
    "    \"\"\"\n",
    "\n",
    "    # A very faint bg object on which to maximize S/N\n",
    "    # If sp_opt is not set, then default to a 20th magnitude flat source\n",
    "    if sp_opt is None:\n",
    "        bp_k = S.ObsBandpass('k')\n",
    "        sp_opt = pynrc.stellar_spectrum('flat', 20, 'vegamag', bp_k)\n",
    "\n",
    "    \n",
    "    # Some observations may saturate, so define a list of  maximum well level\n",
    "    # values that we will incrementally check until a ramp setting is found\n",
    "    # that meets the contraints.\n",
    "    if well_levels is None:\n",
    "        well_levels = [0.8, 1.5, 3.0, 5.0, 10.0, 20.0, 100.0, 150.0, 300.0, 500.0]\n",
    "   \n",
    "    filt_keys = list(obs_dict.keys())\n",
    "    filt_keys.sort()\n",
    "    print(['Pattern', 'NGRP', 'NINT', 't_int', 't_exp', 't_acq', 'SNR', 'Well', 'eff'])\n",
    "    for j, key in enumerate(filt_keys):\n",
    "        print('')\n",
    "        print(key)\n",
    "\n",
    "        obs = obs_dict[key]\n",
    "        sp_sci, sp_ref = (obs.sp_sci, obs.sp_ref)\n",
    "        \n",
    "        # SW filter piggy-back on two LW filters, so 2 x tacq\n",
    "        is_SW = obs.bandpass.avgwave()/1e4 < 2.5\n",
    "\n",
    "        sci = obs\n",
    "        ref = sci.nrc_ref\n",
    "\n",
    "        # Ramp optimization for both science and reference targets\n",
    "        for obs2, sp in zip([sci, ref], [sp_sci, sp_ref]):\n",
    "            i = nrow = 0\n",
    "            while nrow==0:\n",
    "                well_max = well_levels[i]\n",
    "                tbl = obs2.ramp_optimize(sp_opt, sp, well_frac_max=well_max, tacq_max=tacq_max, **kwargs)\n",
    "                nrow = len(tbl)\n",
    "                i+=1\n",
    "                \n",
    "            # Grab the highest ranked MULTIACCUM settings and update the detector readout\n",
    "            v1, v2, v3 = tbl['Pattern', 'NGRP', 'NINT'][0]\n",
    "            \n",
    "            vals = tbl[0].as_void()\n",
    "            strout = ', '.join(map(str, vals))\n",
    "            print(strout)\n",
    "\n",
    "            # SW filter piggy-back on two LW filters, so 2 x tacq\n",
    "            is_SW = obs.bandpass.avgwave()/1e4 < 2.5\n",
    "            if is_SW: v3 *= 2\n",
    "            \n",
    "            # Coronagraphic observations have two roll positions, so cut NINT by 2\n",
    "            if obs.mask is not None: v3 = int(v3/2) \n",
    "            obs2.update_detectors(read_mode=v1, ngroup=v2, nint=v3)\n",
    "        "
   ]
  },
  {
   "cell_type": "markdown",
   "metadata": {},
   "source": [
    "## Plotting contrasts and planet magnitudes\n",
    "\n",
    "Functions to plot simulated images and contrast curves"
   ]
  },
  {
   "cell_type": "code",
   "execution_count": 6,
   "metadata": {
    "collapsed": true
   },
   "outputs": [],
   "source": [
    "from copy import deepcopy\n",
    "\n",
    "def plot_images(obs_dict, hdu_dict, filt_keys, wfe_drift, fov=10, save_fig=False):\n",
    "    nfilt = len(filt_keys)\n",
    "    ext_name = ['Model', 'Sim Image (linear scale)', 'Sim Image ($r^2$ scale)']\n",
    "    nim = len(ext_name)\n",
    "\n",
    "    fig, axes = plt.subplots(nfilt, nim, figsize=(8.5,6.5))\n",
    "    #axes = axes.transpose()\n",
    "    for j, k in enumerate(filt_keys):\n",
    "        obs = obs_dict[k]\n",
    "        hdu_mod = obs.disk_hdulist\n",
    "        hdu_sim = hdu_dict[k]\n",
    "\n",
    "        # Make r^2 scaled version of data\n",
    "        hdu_sim_r2 = deepcopy(hdu_sim)\n",
    "        data  = hdu_sim_r2[0].data\n",
    "        header = hdu_sim_r2[0].header\n",
    "        rho = nrc_utils.dist_image(data, pixscale=header['PIXELSCL'])\n",
    "        data *= rho**2\n",
    "\n",
    "        # Max value for model\n",
    "        data_mod   = hdu_mod[0].data\n",
    "        header_mod = hdu_mod[0].header\n",
    "        rho_mod    = nrc_utils.dist_image(data_mod, pixscale=header_mod['PIXELSCL'])\n",
    "        data_mod_r2 = data_mod*rho_mod**2\n",
    "        vmax  = np.max(data_mod)\n",
    "        vmax2 = np.max(data_mod_r2)\n",
    "\n",
    "        # Scale value for data\n",
    "        mask_good = data_mod>(0.1*vmax)\n",
    "        scl1 = np.median(hdu_sim[0].data[mask_good] / data_mod[mask_good])\n",
    "\n",
    "        # Scale value for r^2 version\n",
    "        mask_good = data_mod_r2>(0.1*vmax2)\n",
    "        scl2 = np.median(hdu_sim_r2[0].data[mask_good] / data_mod_r2[mask_good])\n",
    "\n",
    "        vmax_vals = [vmax,vmax*scl1,vmax2*scl2]\n",
    "        hdus = [hdu_mod, hdu_sim, hdu_sim_r2]\n",
    "        for i, ax in enumerate(axes[j]):\n",
    "            hdulist = hdus[i]\n",
    "            data = hdulist[0].data\n",
    "            header = hdulist[0].header\n",
    "\n",
    "            pixscale = header['PIXELSCL']\n",
    "            rho = nrc_utils.dist_image(data, pixscale=pixscale)\n",
    "\n",
    "            rad = data.shape[0] * pixscale / 2\n",
    "            extent = [-rad, rad, -rad, rad]\n",
    "\n",
    "            ax.imshow(data, vmin=0, vmax=0.9*vmax_vals[i], extent=extent)\n",
    "\n",
    "            ax.set_aspect('equal')\n",
    "            if i > 0: ax.set_yticklabels([])\n",
    "            if j < nfilt-1: ax.set_xticklabels([])\n",
    "            if j==nfilt-1: ax.set_xlabel('Arcsec')\n",
    "            if j==0: ax.set_title(ext_name[i])\n",
    "\n",
    "            if i==0: ax.set_ylabel(obs.filter)\n",
    "\n",
    "            if fov>2*rad:\n",
    "                xlim = [-rad,rad]\n",
    "                ylim = [-rad,rad]\n",
    "            else:\n",
    "                xlim = [-fov/2,fov/2]\n",
    "                ylim = [-fov/2,fov/2]\n",
    "            ax.set_xlim(xlim)\n",
    "            ax.set_ylim(ylim)\n",
    "\n",
    "            ax.xaxis.get_major_locator().set_params(nbins=9, steps=[1, 2, 5, 10])\n",
    "            ax.yaxis.get_major_locator().set_params(nbins=9, steps=[1, 2, 5, 10])\n",
    "\n",
    "            ax.tick_params(axis='both', color='white', which='both')\n",
    "            for k in ax.spines.keys():\n",
    "                ax.spines[k].set_color('white')\n",
    "\n",
    "\n",
    "    texp = obs_dict[filt_keys[-1]].multiaccum_times['t_exp']\n",
    "    texp = round(2*texp/100)*100\n",
    "    exp_text = \"t_exp = {:.0f} sec\".format(texp)\n",
    "    wfe_text = \"WFE Drift = {} nm\".format(wfe_drift)\n",
    "    fig.suptitle('{} ({}; {})'.format(name_sci, exp_text, wfe_text), fontsize=16);\n",
    "    fig.tight_layout()\n",
    "    fig.subplots_adjust(wspace=0.05, hspace=0.05, top=0.9, bottom=0.1)\n",
    "    #fig.subplots_adjust(wspace=0.1, hspace=0.1, top=0.9, bottom=0.07 , left=0.05, right=0.97)\n",
    "    \n",
    "    fname = \"{}_images.pdf\".format(name_sci.replace(\" \", \"\"))\n",
    "    if save_fig: \n",
    "        fig.savefig(outdir+fname)"
   ]
  },
  {
   "cell_type": "markdown",
   "metadata": {},
   "source": [
    "## Functions to init, optimize, and plot"
   ]
  },
  {
   "cell_type": "code",
   "execution_count": 7,
   "metadata": {
    "collapsed": true
   },
   "outputs": [],
   "source": [
    "# Generate initial observations for each filter (no WFE drift)\n",
    "def do_init(disk_mod=False, fov_pix=None, verbose=True):\n",
    "    wfe_drift = 0\n",
    "    obs_dict = obs_wfe(wfe_drift, args_list, sp_sci, dist_sci, sp_ref=sp_ref, \n",
    "                       disk_mod=disk_mod, fov_pix=fov_pix, verbose=verbose)\n",
    "    return obs_dict"
   ]
  },
  {
   "cell_type": "code",
   "execution_count": 8,
   "metadata": {
    "collapsed": true
   },
   "outputs": [],
   "source": [
    "# Optimize observations\n",
    "def do_opt(tacq_max, **kwargs):\n",
    "    sp_opt = pynrc.stellar_spectrum('flat', 20, 'vegamag', bp_k)\n",
    "    obs_optimize(obs_dict, sp_opt=sp_opt, tacq_max=tacq_max, **kwargs)"
   ]
  },
  {
   "cell_type": "code",
   "execution_count": 9,
   "metadata": {
    "collapsed": true
   },
   "outputs": [],
   "source": [
    "# For each filter setting, generate a series of contrast curves at different WFE values\n",
    "def do_contrast(wfe_list, filt_keys, nsig=5, roll_angle=None, **kwargs):\n",
    "    \"\"\"\n",
    "    kwargs to pass to calc_contrast() and their defaults:\n",
    "\n",
    "    exclude_disk = True\n",
    "    exclude_planets = True\n",
    "    exclude_noise = False\n",
    "    opt_diff = True\n",
    "    \"\"\"\n",
    "    contrast_all = {}\n",
    "    for i, key in enumerate(filt_keys):\n",
    "        print(key)\n",
    "        obs = obs_dict[key]\n",
    "\n",
    "        filt, mask, pupil = args_list[i]\n",
    "        if roll_angle is None:\n",
    "            roll_angle = 0 if mask is None else 10\n",
    "\n",
    "        # Stores tuple of (Radial Distances, Contrast, and Sensitivity) for each WFE drift\n",
    "        curves = []\n",
    "        for wfe_ref_drift in wfe_list:\n",
    "            obs.wfe_ref_drift = wfe_ref_drift\n",
    "            result = obs.calc_contrast(roll_angle=roll_angle, nsig=nsig, **kwargs)\n",
    "            curves.append(result)\n",
    "\n",
    "        contrast_all[key] = curves\n",
    "    return contrast_all"
   ]
  },
  {
   "cell_type": "code",
   "execution_count": 10,
   "metadata": {
    "collapsed": true
   },
   "outputs": [],
   "source": [
    "def do_plot_contrast(obs_dict, contrast_dict, wfe_list, nsig, age, xlim=[0,10], ylim=[24,8], save_fig=False):\n",
    "\n",
    "    fig, axes = plt.subplots(1,2, figsize=(13,4.5))\n",
    "    #entropy_vals = [13,8]\n",
    "\n",
    "    for j, ax in enumerate(axes):\n",
    "        ax.set_xlim(xlim)\n",
    "        ax.set_ylim(ylim)\n",
    "\n",
    "        obs = obs_dict[filt_keys[j]]\n",
    "        curves = contrast_dict[filt_keys[j]]\n",
    "\n",
    "        plot_contrasts(curves, wfe_list, ax=ax)\n",
    "        plot_planet_patches(ax, obs, age=age, entropy=13)\n",
    "\n",
    "    for ax in axes.flatten():\n",
    "        ax.set_xlabel('Distance (arcsec)')\n",
    "        ax.set_ylabel('{}-sigma Sensitivities (mag)'.format(nsig))\n",
    "        ax.legend(ncol=2)\n",
    "\n",
    "    fig.tight_layout()\n",
    "\n",
    "    t_exp = obs.multiaccum_times['t_exp']\n",
    "    t_exp = round(2*t_exp/100)*100\n",
    "    fig.suptitle('{} (t_exp = {:.0f} sec)'.format(name_sci, t_exp), fontsize=16);\n",
    "    #fig.subplots_adjust(top=0.85)\n",
    "    fig.subplots_adjust(wspace=0.1, hspace=0.1, top=0.85, bottom=0.1 , left=0.05, right=0.97)\n",
    "    \n",
    "    fname = \"{}_contrast.pdf\".format(name_sci.replace(\" \", \"\"))\n",
    "    if save_fig: \n",
    "        fig.savefig(outdir+fname)"
   ]
  },
  {
   "cell_type": "code",
   "execution_count": 11,
   "metadata": {
    "collapsed": true
   },
   "outputs": [],
   "source": [
    "def do_gen_hdus(obs_dict, wfe_ref_drift, verbose=False, **kwargs):\n",
    "    \n",
    "    \"\"\"\n",
    "    kwargs to pass to gen_roll_image() and their defaults:\n",
    "    \n",
    "    PA1 = 0\n",
    "    PA2 = 10\n",
    "    zfact         = None\n",
    "    oversample    = None\n",
    "    exclude_disk  = False\n",
    "    exclude_noise = False\n",
    "    opt_diff      = True\n",
    "    \"\"\"\n",
    "    \n",
    "    hdulist_dict = {}\n",
    "    for key in filt_keys:\n",
    "        if verbose: print(key)\n",
    "        obs = obs_dict[key]\n",
    "        obs.wfe_ref_drift = wfe_ref_drift\n",
    "        hdulist = obs.gen_roll_image(**kwargs)\n",
    "        \n",
    "        hdulist_dict[key] = hdulist\n",
    "        \n",
    "    return hdulist_dict"
   ]
  },
  {
   "cell_type": "markdown",
   "metadata": {},
   "source": [
    "## Science spectral model"
   ]
  },
  {
   "cell_type": "code",
   "execution_count": 12,
   "metadata": {
    "collapsed": true
   },
   "outputs": [],
   "source": [
    "def func_model(x, sp):\n",
    "    return x[0]*sp\n",
    "\n",
    "def func_resid(x, sp_phot, sp_star, xmin=0.1e4, xmax=30e4):\n",
    "    sp_model = func_model(x, sp_star)\n",
    "    \n",
    "    wvals = sp_phot.wave\n",
    "    ind = (wvals > xmin) & (wvals < xmax)\n",
    "        \n",
    "    wvals = wvals[ind]\n",
    "    yvals = sp_phot.flux[ind]\n",
    "    \n",
    "    mod_interp = np.interp(wvals, sp_star.wave, sp_model.flux)\n",
    "    return 1e15*(mod_interp - yvals)"
   ]
  },
  {
   "cell_type": "code",
   "execution_count": 25,
   "metadata": {
    "collapsed": true
   },
   "outputs": [],
   "source": [
    "from scipy.optimize import least_squares\n",
    "def gen_sp_sci(i, robust=False, return_ax=False, plot=True, do_ref=False,\n",
    "               wmin=0.1e4, wmax=10e4):\n",
    "    \n",
    "    if do_ref:\n",
    "        name_obj, spt_obj, Teff, feh, log_g, mag_val, bp = ref_sources[i]\n",
    "    else:\n",
    "        name_obj, _, _, spt_obj, Teff, feh, log_g, mag_val, bp = args_sources[i]\n",
    "    vot = votdir + name_obj + '.vot'\n",
    "\n",
    "    # Import source SED from VOTable\n",
    "    from astropy.io.votable import parse, parse_single_table\n",
    "    table = parse_single_table(vot)\n",
    "    freq = table.array[\"sed_freq\"] * 1e9 # Hz\n",
    "    isort = np.argsort(1/freq)\n",
    "\n",
    "    # Sort flux monotomically with wavelength\n",
    "    freq = freq[isort]\n",
    "    flux = table.array[\"sed_flux\"][isort]\n",
    "    eflux = table.array[\"sed_eflux\"][isort]\n",
    "\n",
    "    # Average duplicate data points\n",
    "    ufreq, ucnt = np.unique(freq, return_counts=True)\n",
    "    ufreq = ufreq[::-1]\n",
    "    ucnt = ucnt[::-1]\n",
    "\n",
    "    uflux = []\n",
    "    for i, f in enumerate(ufreq):\n",
    "        ind = (freq==f)\n",
    "        flx = np.median(flux[ind]) if ucnt[i]>1 else flux[ind][0]\n",
    "        uflux.append(flx)\n",
    "    uflux = np.array(uflux)\n",
    "\n",
    "    # Photometric data points\n",
    "    sp_phot = S.ArraySpectrum(ufreq, uflux, waveunits='Hz', fluxunits='Jy')\n",
    "    sp_phot.convert('Angstrom')\n",
    "    sp_phot.convert('Flam')\n",
    "\n",
    "    # Stellar spectrum normalized at specified bandpass\n",
    "    sp_star = pynrc.stellar_spectrum(spt_obj, mag_val, 'vegamag', bp, \n",
    "                                     Teff=Teff, metallicity=feh, log_g=log_g)\n",
    "\n",
    "    # Do linear least squares fitting\n",
    "    x0 = [1]\n",
    "    loss = 'soft_l1' if robust else 'linear'\n",
    "    res = least_squares(func_resid, x0, bounds=(0,np.inf), loss=loss, \n",
    "                        args=(sp_phot, sp_star), kwargs={'xmin':wmin, 'xmax':wmax})\n",
    "    out = res.x\n",
    "    print(out)\n",
    "    \n",
    "    sp_sci = func_model(out, sp_star)\n",
    "    sp_sci.name = name_obj\n",
    "\n",
    "    if plot:\n",
    "        fig, ax = plt.subplots(1,1, figsize=(8,5))\n",
    "        ax.loglog(sp_star.wave/1e4, sp_star.flux, lw=1, label='Photosphere')\n",
    "        ax.loglog(sp_sci.wave/1e4, sp_sci.flux, lw=1, label='Model Fit')\n",
    "        ax.loglog(sp_phot.wave/1e4, sp_phot.flux, marker='o', ls='none', label='Photometry')\n",
    "        ax.set_xlabel('Wavelength (microns)')\n",
    "        ax.set_ylabel('Flux ({})'.format(sp_sci.fluxunits))\n",
    "        ax.set_title(name_obj)\n",
    "        fig.tight_layout()\n",
    "    \n",
    "        if return_ax:\n",
    "            return (sp_sci, (fig,ax))\n",
    "        else:\n",
    "            return sp_sci\n",
    "    else:\n",
    "        return sp_sci\n"
   ]
  },
  {
   "cell_type": "markdown",
   "metadata": {},
   "source": [
    "## Define Source and their Reference Counterparts"
   ]
  },
  {
   "cell_type": "code",
   "execution_count": 15,
   "metadata": {
    "collapsed": true
   },
   "outputs": [],
   "source": [
    "# Various Bandpasses\n",
    "bp_v = S.ObsBandpass('v')\n",
    "bp_k = pynrc.bp_2mass('k')\n",
    "bp_w1 = pynrc.bp_wise('w1')\n",
    "bp_w2 = pynrc.bp_wise('w2')"
   ]
  },
  {
   "cell_type": "code",
   "execution_count": 32,
   "metadata": {
    "collapsed": true
   },
   "outputs": [],
   "source": [
    "#                 source,  dist, age, sptype, Teff, [Fe/H], log_g, mag, band\n",
    "args_sources = [('51Eri',  29.4, 1000, 'F0IV', 7331, -0.12, 3.95, 4.54, bp_k),\n",
    "                ('HR8799', 39.0,   30,  'F0V', 7430, -0.47, 4.35, 5.24, bp_k)]\n",
    "\n",
    "#                source,    sptype, Teff, [Fe/H], log_g, mag, band\n",
    "ref_sources = [('HD30562',   'G2IV', 5983, +0.24, 4.14, 4.31, bp_k),\n",
    "               ('HD220657', 'F8III', 5888, -0.01, 3.22, 3.04, bp_k)]"
   ]
  },
  {
   "cell_type": "code",
   "execution_count": 17,
   "metadata": {
    "collapsed": true
   },
   "outputs": [],
   "source": [
    "# List of filters\n",
    "args_list = [('F322W2', 'MASK430R', 'CIRCLYOT'),\n",
    "             ('F444W',  'MASK430R', 'CIRCLYOT')]\n",
    "\n",
    "filt_keys = []\n",
    "for filt,mask,pupil in args_list:\n",
    "    filt_keys.append(make_key(filt, mask=mask, pupil=pupil)) "
   ]
  },
  {
   "cell_type": "code",
   "execution_count": 18,
   "metadata": {
    "collapsed": true
   },
   "outputs": [],
   "source": [
    "#outdir  = '/Volumes/NIRData/Andras_obs_v3/'\n",
    "votdir = 'Exoplanets/'\n",
    "outdir  = 'Exoplanets/'"
   ]
  },
  {
   "cell_type": "markdown",
   "metadata": {},
   "source": [
    "## 51 Eri"
   ]
  },
  {
   "cell_type": "code",
   "execution_count": 38,
   "metadata": {},
   "outputs": [
    {
     "name": "stdout",
     "output_type": "stream",
     "text": [
      "[ 0.95561903]\n"
     ]
    },
    {
     "data": {
      "image/png": "[encoded data removed]",
      "text/plain": [
       "<matplotlib.figure.Figure at 0x116533a58>"
      ]
     },
     "metadata": {},
     "output_type": "display_data"
    }
   ],
   "source": [
    "i = 1\n",
    "\n",
    "name_ref, spt_ref, Teff_ref, feh_ref, logg_ref, mag_ref, bp_ref = ref_sources[i]\n",
    "#name_ref, spt_ref, kmag_ref, w1_ref, w2_ref = ref_sources[i]\n",
    "sp_ref = pynrc.stellar_spectrum(spt_ref, mag_ref, 'vegamag', bp_ref, \n",
    "                                Teff=Teff_ref, metallicity=feh_ref, log_g=logg_ref)\n",
    "\n",
    "#sp_ref = pynrc.stellar_spectrum(spt_ref, kmag_ref, 'vegamag', bp_k)\n",
    "sp_ref.name = name_ref\n",
    "\n",
    "#name_sci, dist_sci, fov, age, spt_sci, vmag_sci, kmag_sci, w1_sci, w2_sci = args_sources[i]\n",
    "name_sci, dist_sci, age, spt_sci, Teff_sci, feh_sci, logg_sci, mag_sci, bp_sci = args_sources[i]\n",
    "vot = votdir + name_sci + '.vot'\n",
    "\n",
    "wmin = 1e3\n",
    "sp_sci, (fig,ax) = gen_sp_sci(i, robust=True, return_ax=True, wmin=wmin)\n",
    "\n",
    "ax.plot(sp_ref.wave/1e4, sp_ref.flux, lw=1, label='PSF Reference')\n",
    "ax.legend()\n",
    "ax.set_xlim([0.4,30])\n",
    "ax.set_ylim([1e-17,1e-10])\n",
    "\n",
    "fname = \"{}_spectra.pdf\".format(name_sci.replace(\" \", \"\"))\n",
    "fig.savefig(outdir+fname)"
   ]
  },
  {
   "cell_type": "code",
   "execution_count": 19,
   "metadata": {},
   "outputs": [
    {
     "name": "stdout",
     "output_type": "stream",
     "text": [
      "F322W2 MASK430R CIRCLYOT\n",
      "Generating background PSF coefficients...\n",
      "Generating oversampled PSFs...\n",
      "Updating NIRCam reference coefficients...\n",
      "Creating NIRCam reference class...\n",
      "Finished.\n",
      "F444W MASK430R CIRCLYOT\n",
      "Generating background PSF coefficients...\n",
      "Generating oversampled PSFs...\n",
      "Updating NIRCam reference coefficients...\n",
      "Creating NIRCam reference class...\n",
      "Finished.\n"
     ]
    }
   ],
   "source": [
    "obs_dict = do_init(verbose=True)"
   ]
  },
  {
   "cell_type": "code",
   "execution_count": 20,
   "metadata": {},
   "outputs": [
    {
     "data": {
      "text/plain": [
       "'F322W2_MASK430R_CIRCLYOT'"
      ]
     },
     "execution_count": 20,
     "metadata": {},
     "output_type": "execute_result"
    }
   ],
   "source": [
    "filt_keys[0]"
   ]
  },
  {
   "cell_type": "code",
   "execution_count": 21,
   "metadata": {},
   "outputs": [
    {
     "name": "stdout",
     "output_type": "stream",
     "text": [
      "['Pattern', 'NGRP', 'NINT', 't_int', 't_exp', 't_acq', 'SNR', 'Well', 'eff']\n",
      "\n",
      "F322W2_MASK430R_CIRCLYOT\n"
     ]
    },
    {
     "name": "stderr",
     "output_type": "stream",
     "text": [
      "[     pynrc:WARNING] No ramp settings allowed within constraints! Reduce constraints.\n"
     ]
    },
    {
     "name": "stdout",
     "output_type": "stream",
     "text": [
      "MEDIUM8, 7, 14, 72.69472, 1017.72608, 1032.97152, 125.072786489, 1.4433621648, 3.891\n"
     ]
    },
    {
     "name": "stderr",
     "output_type": "stream",
     "text": [
      "[     pynrc:WARNING] No ramp settings allowed within constraints! Reduce constraints.\n"
     ]
    },
    {
     "name": "stdout",
     "output_type": "stream",
     "text": [
      "MEDIUM8, 5, 20, 51.31392, 1026.2784, 1048.0576, 113.565462281, 1.39454150698, 3.507\n",
      "\n",
      "F444W_MASK430R_CIRCLYOT\n",
      "DEEP8, 10, 6, 200.97952, 1205.87712, 1212.41088, 99.9458515646, 0.693953616037, 2.87\n",
      "DEEP8, 8, 6, 158.21792, 949.30752, 955.84128, 86.2219334958, 0.735534810726, 2.788\n"
     ]
    }
   ],
   "source": [
    "tacq = 1100\n",
    "obs = obs_dict[filt_keys[0]]\n",
    "do_opt(tacq, patterns=['MEDIUM8', 'DEEP8'], ng_min=5, ng_max=10, nint_min=5, tacq_frac=0.1, even_nints=True)"
   ]
  },
  {
   "cell_type": "code",
   "execution_count": 22,
   "metadata": {
    "collapsed": true,
    "scrolled": true
   },
   "outputs": [],
   "source": [
    "# Optimize readout parameters\n",
    "#do_opt(tacq, patterns='MEDIUM8', ng_min=8, ng_max=8, tacq_frac=0.1, well_levels=[2], even_nints=True)\n",
    "for key in filt_keys:\n",
    "    obs = obs_dict[key]\n",
    "\n",
    "    rm = 'MEDIUM8' if 'F322' in key else 'DEEP8'\n",
    "    ng, nint_sci, nint_ref = (10,5,5)\n",
    "    if obs.bandpass.avgwave()/1e4 < 2.5: \n",
    "        nint_sci *= 2\n",
    "        nint_ref *= 2\n",
    "    \n",
    "    obs.update_detectors(read_mode=rm, ngroup=ng, nint=nint_sci)\n",
    "    obs.nrc_ref.update_detectors(read_mode=rm, ngroup=ng, nint=nint_ref)\n",
    "\n",
    "    #print(key)\n",
    "    #print(obs.multiaccum_times)\n",
    "    #_ = obs.sensitivity(nsig=5, units='vegamag', verbose=True)\n",
    "    #print('')\n"
   ]
  },
  {
   "cell_type": "code",
   "execution_count": 23,
   "metadata": {},
   "outputs": [
    {
     "name": "stdout",
     "output_type": "stream",
     "text": [
      "F322W2_MASK430R_CIRCLYOT\n",
      "2.08046985069 2.84751917033\n",
      "F444W_MASK430R_CIRCLYOT\n",
      "0.69473523772 0.935109624497\n"
     ]
    }
   ],
   "source": [
    "# Max Saturation Values\n",
    "dmax = []\n",
    "for k in filt_keys:\n",
    "    print(k)\n",
    "    obs = obs_dict[k]\n",
    "    \n",
    "    ng = obs.multiaccum.ngroup\n",
    "    im_sat1 = obs.saturation_levels(ngroup=ng)\n",
    "    im_sat2 = obs.nrc_ref.saturation_levels(obs.sp_ref, ngroup=ng)\n",
    "    print(im_sat1.max(), im_sat2.max())\n"
   ]
  },
  {
   "cell_type": "code",
   "execution_count": 24,
   "metadata": {},
   "outputs": [
    {
     "name": "stdout",
     "output_type": "stream",
     "text": [
      "F322W2_MASK430R_CIRCLYOT\n",
      "F444W_MASK430R_CIRCLYOT\n"
     ]
    }
   ],
   "source": [
    "# List of WFE drifts to check\n",
    "wfe_list = [0,2,5,10][::-1]\n",
    "nsig = 5\n",
    "\n",
    "# Get contrasts for each WFE drift\n",
    "contrast_dict = do_contrast(wfe_list, filt_keys, nsig=nsig)"
   ]
  },
  {
   "cell_type": "code",
   "execution_count": 30,
   "metadata": {},
   "outputs": [
    {
     "data": {
      "text/plain": [
       "4"
      ]
     },
     "execution_count": 30,
     "metadata": {},
     "output_type": "execute_result"
    }
   ],
   "source": [
    "test = contrast_dict[filt_keys[0]]\n",
    "len(test)"
   ]
  },
  {
   "cell_type": "code",
   "execution_count": 25,
   "metadata": {},
   "outputs": [
    {
     "data": {
      "image/png": "[encoded data removed]",
      "text/plain": [
       "<matplotlib.figure.Figure at 0x11507e940>"
      ]
     },
     "metadata": {},
     "output_type": "display_data"
    }
   ],
   "source": [
    "do_plot_contrast(obs_dict, contrast_dict, wfe_list, nsig, age, save_fig=True)"
   ]
  },
  {
   "cell_type": "markdown",
   "metadata": {},
   "source": [
    "## ND Target Acquisition Times"
   ]
  },
  {
   "cell_type": "code",
   "execution_count": 37,
   "metadata": {},
   "outputs": [
    {
     "name": "stdout",
     "output_type": "stream",
     "text": [
      "51Eri\n",
      " Pattern   NGRP NINT   t_int     t_exp     t_acq     SNR      Well     eff   \n",
      "---------- ---- ---- --------- --------- --------- -------- -------- --------\n",
      "BRIGHT2      65    1      6.52      6.52      6.58    198.2    0.092   77.301\n",
      " Pattern   NGRP NINT   t_int     t_exp     t_acq     SNR      Well     eff   \n",
      "---------- ---- ---- --------- --------- --------- -------- -------- --------\n",
      "BRIGHT2      65    1      6.52      6.52      6.58    221.9    0.116   86.536\n",
      "\n"
     ]
    }
   ],
   "source": [
    "nrc = pynrc.NIRCam(filter='F335M', pupil='CIRCLYOT', ND_acq=True,\n",
    "                   wind_mode='WINDOW', xpix=64, ypix=64)\n",
    "\n",
    "for i in range(len(args_sources)):\n",
    "\n",
    "    name_sci, dist_sci, fov, age, spt_sci, vmag_sci, kmag_sci, w1_sci, w2_sci = args_sources[i]\n",
    "    name_ref, spt_ref, kmag_ref, w1_ref, w2_ref = ref_sources[i]\n",
    "\n",
    "    # Science target and reference star spectra\n",
    "    sp_sci = pynrc.stellar_spectrum(spt_sci, w1_sci, 'vegamag', bp_w1)\n",
    "    sp_ref = pynrc.stellar_spectrum(spt_ref, w1_ref, 'vegamag', bp_w1)\n",
    "    sp_sci.name = name_sci\n",
    "    sp_ref.name = name_ref\n",
    "    \n",
    "    \n",
    "    print(name_sci)\n",
    "\n",
    "    pynrc.setup_logging('ERROR', verbose=False)\n",
    "    ng_levels = [65]\n",
    "    for sp in [sp_sci, sp_ref]:\n",
    "        for ng in ng_levels: \n",
    "            tbl = nrc.ramp_optimize(sp, snr_goal=50, snr_frac=0.01, well_frac_max=0.5, verbose=False,\n",
    "                                    ng_min=ng, ng_max=ng, nint_max=1, patterns=['RAPID'])\n",
    "            nrow = len(tbl)\n",
    "            if nrow>0:\n",
    "                print(tbl)\n",
    "                #break\n",
    "\n",
    "    print('')\n",
    "\n",
    "pynrc.setup_logging('WARNING', verbose=False)"
   ]
  },
  {
   "cell_type": "code",
   "execution_count": null,
   "metadata": {
    "collapsed": true
   },
   "outputs": [],
   "source": []
  }
 ],
 "metadata": {
  "anaconda-cloud": {},
  "kernelspec": {
   "display_name": "Python 3",
   "language": "python",
   "name": "python3"
  },
  "language_info": {
   "codemirror_mode": {
    "name": "ipython",
    "version": 3
   },
   "file_extension": ".py",
   "mimetype": "text/x-python",
   "name": "python",
   "nbconvert_exporter": "python",
   "pygments_lexer": "ipython3",
   "version": "3.6.4"
  }
 },
 "nbformat": 4,
 "nbformat_minor": 1
}
