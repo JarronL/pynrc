{
 "cells": [
  {
   "cell_type": "code",
   "execution_count": 1,
   "metadata": {
    "collapsed": true
   },
   "outputs": [],
   "source": [
    "# Makes print and division act like Python 3\n",
    "from __future__ import print_function, division\n",
    "\n",
    "# Import the usual libraries\n",
    "import numpy as np\n",
    "import matplotlib\n",
    "import matplotlib.pyplot as plt\n",
    "import matplotlib.patches as patches\n",
    "\n",
    "# Enable inline plotting at lower left\n",
    "%matplotlib inline\n",
    "\n",
    "from IPython.display import display, Latex, clear_output\n",
    "from matplotlib.backends.backend_pdf import PdfPages"
   ]
  },
  {
   "cell_type": "code",
   "execution_count": 2,
   "metadata": {
    "collapsed": true
   },
   "outputs": [],
   "source": [
    "import pynrc\n",
    "from pynrc import nrc_utils\n",
    "from pynrc.nrc_utils import S\n",
    "from pynrc.obs_nircam import model_to_hdulist, obs_coronagraphy\n",
    "from pynrc.obs_nircam import plot_contrasts, planet_mags, plot_planet_patches\n",
    "\n",
    "from pynrc.speckle_noise import offset_bar\n",
    "pynrc.setup_logging('WARNING', verbose=False)\n",
    "\n",
    "from astropy.io import (fits, ascii)"
   ]
  },
  {
   "cell_type": "markdown",
   "metadata": {},
   "source": [
    "# Observation Definitions\n",
    "\n",
    "Functions to create and optimize a series of observation objects stored as a dictionary."
   ]
  },
  {
   "cell_type": "code",
   "execution_count": 3,
   "metadata": {
    "collapsed": true
   },
   "outputs": [],
   "source": [
    "def make_key(filter, pupil=None, mask=None):\n",
    "    \"\"\"Create identification key (string) based on filter, pupil, and mask\"\"\"\n",
    "    mask_key = 'none' if mask is None else mask\n",
    "    pupil_key = 'none' if pupil is None else pupil\n",
    "    key = '{}_{}_{}'.format(filter,mask_key,pupil_key)\n",
    "    return key"
   ]
  },
  {
   "cell_type": "code",
   "execution_count": 4,
   "metadata": {
    "collapsed": true
   },
   "outputs": [],
   "source": [
    "def obs_wfe(wfe_drift, filt_list, sp_sci, dist, sp_ref=None, args_disk=None, \n",
    "            subsize=None, fov_pix=None, verbose=False, **kwargs):\n",
    "    \"\"\"\n",
    "    For a given WFE drift and series of filters, create a list of \n",
    "    NIRCam observations. This function will calculate PSFs out to 320 pixels. \n",
    "    For the case of SW+MASK335R, we also assume that the subarray size matches \n",
    "    that of a simultaneous LW observation (320x320).\n",
    "    \"\"\"\n",
    "    \n",
    "    if sp_ref is None: sp_ref = sp_sci\n",
    "\n",
    "    obs_dict = {}\n",
    "    for filt, mask, pupil in filt_list:\n",
    "        # Create identification key\n",
    "        key = make_key(filt, mask=mask, pupil=pupil)\n",
    "        if verbose: print(key)\n",
    "\n",
    "        # Disk Model\n",
    "        if args_disk is None:\n",
    "            hdu_disk = None\n",
    "        else:\n",
    "            hdu_disk = model_to_hdulist(args_disk, sp_sci, filt, pupil=pupil, mask=mask)\n",
    "\n",
    "        # Define the subarray readout size\n",
    "        if subsize is None:\n",
    "            if mask is None: # Direct Imaging\n",
    "                subsize = 400\n",
    "            elif ('210R' in mask) or ('SWB' in mask): # SW Coronagraphy\n",
    "                subsize = 640\n",
    "            else: # LW Coronagraphy\n",
    "                subsize = 320\n",
    "                \n",
    "        # Define PSF pixel size\n",
    "        fov_pix_orig = fov_pix\n",
    "        fov_pix = subsize if fov_pix is None else fov_pix\n",
    "        # Make sure fov_pix is odd for direct imaging\n",
    "        if (mask is None) and (np.mod(fov_pix,2)==0):\n",
    "            fov_pix += 1\n",
    "\n",
    "        # Other coronagraph vs direct imaging settings\n",
    "        module, oversample = ('B', 4) if mask is None else ('A', 2)\n",
    "        \n",
    "        # Initialize and store the observation\n",
    "        # A reference obseration is stored inside each parent obs_coronagraphy class.\n",
    "        obs_dict[key] = pynrc.obs_hci(sp_sci, sp_ref, dist, filter=filt, mask=mask, pupil=pupil, \n",
    "                                      wfe_ref_drift=wfe_drift, fov_pix=fov_pix, oversample=oversample, \n",
    "                                      wind_mode='WINDOW', xpix=subsize, ypix=subsize,\n",
    "                                      disk_hdu=hdu_disk, verbose=verbose, **kwargs)\n",
    "        fov_pix = fov_pix_orig\n",
    "        \n",
    "    return obs_dict"
   ]
  },
  {
   "cell_type": "code",
   "execution_count": 5,
   "metadata": {
    "collapsed": true
   },
   "outputs": [],
   "source": [
    "# For each filter setting, generate a series of contrast curves at different WFE values\n",
    "def do_contrast(wfe_list, filt_keys, nsig=5, roll_angle=None, **kwargs):\n",
    "    \"\"\"\n",
    "    kwargs to pass to calc_contrast() and their defaults:\n",
    "\n",
    "    exclude_disk = True\n",
    "    exclude_planets = True\n",
    "    exclude_noise = False\n",
    "    opt_diff = True\n",
    "    \"\"\"\n",
    "    contrast_all = {}\n",
    "    for i, key in enumerate(filt_keys):\n",
    "        print(key)\n",
    "        obs = obs_dict[key]\n",
    "\n",
    "        filt, mask, pupil = args_filter[i]\n",
    "        if roll_angle is None:\n",
    "            roll_angle = 0 if mask is None else 10\n",
    "\n",
    "        # Stores tuple of (Radial Distances, Contrast, and Sensitivity) for each WFE drift\n",
    "        curves = []\n",
    "        for wfe_ref_drift in wfe_list:\n",
    "            obs.wfe_ref_drift = wfe_ref_drift\n",
    "            result = obs.calc_contrast(roll_angle=roll_angle, nsig=nsig, **kwargs)\n",
    "            curves.append(result)\n",
    "\n",
    "        contrast_all[key] = curves\n",
    "    return contrast_all"
   ]
  },
  {
   "cell_type": "markdown",
   "metadata": {},
   "source": [
    "# Sources and Bandpasses"
   ]
  },
  {
   "cell_type": "code",
   "execution_count": 6,
   "metadata": {
    "collapsed": true
   },
   "outputs": [],
   "source": [
    "# Various Bandpasses\n",
    "bp_v = S.ObsBandpass('v')\n",
    "bp_k = pynrc.bp_2mass('k')\n",
    "bp_w1 = pynrc.bp_wise('w1')\n",
    "bp_w2 = pynrc.bp_wise('w2')"
   ]
  },
  {
   "cell_type": "code",
   "execution_count": 7,
   "metadata": {
    "collapsed": true
   },
   "outputs": [],
   "source": [
    "# Science         source,  dist, age, sptype, Teff, [Fe/H], log_g, mag, band\n",
    "args_sources = [('51 Eri',  29.4, 1000, 'F0IV', 7331, -0.12, 3.95, 4.54, bp_k),\n",
    "                ('HR 8799', 39.0,   30,  'F0V', 7430, -0.47, 4.35, 5.24, bp_k)]\n",
    "\n",
    "# References     source,    sptype, Teff, [Fe/H], log_g, mag, band\n",
    "ref_sources = [('HD 30562',   'F8V', 5875, +0.22, 4.14, 4.31, bp_k), # da Silva, et al. (2015)\n",
    "               ('HD 220657', 'F8III', 5888, -0.01, 3.22, 3.04, bp_k)]"
   ]
  },
  {
   "cell_type": "code",
   "execution_count": 8,
   "metadata": {
    "collapsed": true
   },
   "outputs": [],
   "source": [
    "# Directory housing VOTables \n",
    "# http://vizier.u-strasbg.fr/vizier/sed/\n",
    "votdir = 'votables/'\n",
    "\n",
    "# Directory to save plots and figures\n",
    "outdir  = 'Exoplanets/'"
   ]
  },
  {
   "cell_type": "markdown",
   "metadata": {},
   "source": [
    "## 2. HR 8799"
   ]
  },
  {
   "cell_type": "code",
   "execution_count": 9,
   "metadata": {
    "collapsed": true
   },
   "outputs": [],
   "source": [
    "# List of filters\n",
    "args_filter = [('F322W2', 'MASK430R', 'CIRCLYOT'),\n",
    "               ('F444W',  'MASK430R', 'CIRCLYOT')]\n",
    "\n",
    "args_filter = [('F335M', 'MASK430R', 'CIRCLYOT'),\n",
    "               ('F444W',  'MASK430R', 'CIRCLYOT')]\n",
    "\n",
    "args_filter = [('F430M', 'MASKLWB', 'WEDGELYOT')]\n",
    "\n",
    "\n",
    "# and their dictionary keys\n",
    "filt_keys = []\n",
    "for filt,mask,pupil in args_filter:\n",
    "    filt_keys.append(make_key(filt, mask=mask, pupil=pupil)) "
   ]
  },
  {
   "cell_type": "code",
   "execution_count": 10,
   "metadata": {},
   "outputs": [
    {
     "name": "stdout",
     "output_type": "stream",
     "text": [
      "[ 0.98216073]\n"
     ]
    }
   ],
   "source": [
    "# Fit spectrum to SED photometry\n",
    "\n",
    "i=1\n",
    "name_sci, dist_sci, age, spt_sci, Teff_sci, feh_sci, logg_sci, mag_sci, bp_sci = args_sources[i]\n",
    "vot = votdir + name_sci.replace(' ' ,'') + '.vot'\n",
    "\n",
    "args = (name_sci, spt_sci, mag_sci, bp_sci, vot)\n",
    "kwargs = {'Teff':Teff_sci, 'metallicity':feh_sci, 'log_g':logg_sci}\n",
    "src = nrc_utils.source_spectrum(*args, **kwargs)\n",
    "\n",
    "src.fit_SED(use_err=True, robust=True)\n",
    "\n",
    "# Final source spectrum\n",
    "sp_sci = src.sp_model"
   ]
  },
  {
   "cell_type": "code",
   "execution_count": 11,
   "metadata": {},
   "outputs": [
    {
     "name": "stdout",
     "output_type": "stream",
     "text": [
      "[ 0.88007735]\n"
     ]
    }
   ],
   "source": [
    "# Do the same for the reference source\n",
    "\n",
    "name_ref, spt_ref, Teff_ref, feh_ref, logg_ref, mag_ref, bp_ref = ref_sources[i]\n",
    "vot = votdir + name_ref.replace(' ' ,'') + '.vot'\n",
    "\n",
    "args = (name_ref, spt_ref, mag_ref, bp_ref, vot)\n",
    "kwargs = {'Teff':Teff_ref, 'metallicity':feh_ref, 'log_g':logg_ref}\n",
    "ref = nrc_utils.source_spectrum(*args, **kwargs)\n",
    "\n",
    "ref.fit_SED(use_err=True, robust=True)\n",
    "\n",
    "# Final reference spectrum\n",
    "sp_ref = ref.sp_model"
   ]
  },
  {
   "cell_type": "code",
   "execution_count": 12,
   "metadata": {
    "scrolled": false
   },
   "outputs": [
    {
     "data": {
      "image/png": "[encoded data removed]",
      "text/plain": [
       "<matplotlib.figure.Figure at 0x1151e44a8>"
      ]
     },
     "metadata": {},
     "output_type": "display_data"
    }
   ],
   "source": [
    "# Plot spectra \n",
    "\n",
    "fig, axes = plt.subplots(1,2, figsize=(13,4.5))\n",
    "src.plot_SED(xr=[0.45,10], ax=axes[0])\n",
    "ref.plot_SED(xr=[0.45,10], ax=axes[1])\n",
    "\n",
    "axes[0].set_title('Science Specta -- {} ({})'.format(src.name, spt_sci))\n",
    "axes[1].set_title('Refrence Specta -- {} ({})'.format(ref.name, spt_ref))\n",
    "\n",
    "fig.tight_layout()\n",
    "fname = '{}_SEDs.pdf'.format(name_sci.replace(' ', ''))\n",
    "fig.savefig(outdir+fname)"
   ]
  },
  {
   "cell_type": "code",
   "execution_count": 21,
   "metadata": {
    "scrolled": false
   },
   "outputs": [
    {
     "name": "stdout",
     "output_type": "stream",
     "text": [
      "F430M_MASKLWB_WEDGELYOT\n",
      "Generating background PSF coefficients...\n",
      "Generating oversampled PSFs...\n",
      "Updating NIRCam reference coefficients...\n",
      "Creating NIRCam reference class...\n",
      "Finished.\n"
     ]
    }
   ],
   "source": [
    "# Create a dictionary that holds the obs_hci class for each filter\n",
    "wfe_drift = 0\n",
    "obs_dict = obs_wfe(wfe_drift, args_filter, sp_sci, dist_sci, sp_ref=sp_ref, \n",
    "                   args_disk=None, fov_pix=None, verbose=True, bar_offset=8)"
   ]
  },
  {
   "cell_type": "code",
   "execution_count": 22,
   "metadata": {},
   "outputs": [
    {
     "name": "stdout",
     "output_type": "stream",
     "text": [
      "F430M_MASKLWB_WEDGELYOT\n",
      "{'t_frame': 1.06904, 't_group': 2.13808, 't_int': 21.3808, 't_exp': 1282.848, 't_acq': 1348.1855999999998, 't_int_tot': 22.469759999999997}\n",
      "Point Source Sensitivity (5-sigma): 18.73 vegamag\n",
      "Surface Brightness Sensitivity (5-sigma): 20.16 vegamag/arcsec^2\n",
      "\n"
     ]
    }
   ],
   "source": [
    "# Update exposure times (per roll)\n",
    "\n",
    "# Filter Key : (Pattern, NG_sci, NINT_sci, NG_ref, NINT_ref)\n",
    "exp_dict = {'F322W2_MASK430R_CIRCLYOT' : ('MEDIUM8', 10, 5, 10, 5),\n",
    "            'F444W_MASK430R_CIRCLYOT'  : ('DEEP8',   10, 5, 10, 5),\n",
    "            'F430M_MASKLWB_WEDGELYOT'  : ('BRIGHT2', 10, 60, 4, 120)}\n",
    "\n",
    "exp_dict = {'F430M_MASKLWB_WEDGELYOT'  : ('BRIGHT2', 10, 60, 4, 120)}\n",
    "\n",
    "\n",
    "for key in filt_keys:\n",
    "    obs = obs_dict[key]\n",
    "    \n",
    "    rm, ng_sci, nint_sci, ng_ref, nint_ref = exp_dict[key] \n",
    "    obs.update_detectors(read_mode=rm, ngroup=ng_sci, nint=nint_sci)\n",
    "    obs.nrc_ref.update_detectors(read_mode=rm, ngroup=ng_ref, nint=nint_ref)\n",
    "\n",
    "    print(key)\n",
    "    print(obs.multiaccum_times)\n",
    "    _ = obs.sensitivity(nsig=5, units='vegamag', verbose=True)\n",
    "    print('')\n"
   ]
  },
  {
   "cell_type": "markdown",
   "metadata": {},
   "source": [
    "### Saturation Levels"
   ]
  },
  {
   "cell_type": "code",
   "execution_count": 25,
   "metadata": {},
   "outputs": [
    {
     "name": "stdout",
     "output_type": "stream",
     "text": [
      "NGROUP=2\n",
      "F430M Saturation Limit assuming Flat spectrum in photlam source: -1.57 vegamag\n",
      "\n",
      "NGROUP=10\n",
      "F430M Saturation Limit assuming Flat spectrum in photlam source: 0.18 vegamag\n",
      "\n",
      "HR 8799 flux at F430M: 5.25 mags\n",
      "HD 220657 flux at F430M: 3.16 mags\n"
     ]
    }
   ],
   "source": [
    "obs = obs_dict[filt_keys[0]]\n",
    "\n",
    "# Saturation limits\n",
    "ng_max = obs.det_info['ngroup']\n",
    "sp_flat = pynrc.stellar_spectrum('flat')\n",
    "\n",
    "print('NGROUP=2')\n",
    "_ = obs.sat_limits(sp=sp_flat,ngroup=2,verbose=True)\n",
    "\n",
    "print('')\n",
    "print('NGROUP={}'.format(ng_max))\n",
    "_ = obs.sat_limits(sp=sp_flat,ngroup=ng_max,verbose=True)\n",
    "\n",
    "mag_sci = obs.star_flux('vegamag')\n",
    "mag_ref = obs.star_flux('vegamag', sp=obs.sp_ref)\n",
    "print('')\n",
    "print('{} flux at {}: {:0.2f} mags'.format(obs.sp_sci.name, obs.filter, mag_sci))\n",
    "print('{} flux at {}: {:0.2f} mags'.format(obs.sp_ref.name, obs.filter, mag_ref))"
   ]
  },
  {
   "cell_type": "code",
   "execution_count": 23,
   "metadata": {},
   "outputs": [
    {
     "name": "stdout",
     "output_type": "stream",
     "text": [
      "F430M_MASKLWB_WEDGELYOT\n",
      "Max sci saturation of 0.0 well at 1.3 arcsec\n",
      "Max ref saturation of 0.0 well at 1.3 arcsec\n"
     ]
    }
   ],
   "source": [
    "# Max Saturation values and locations (80% at 2 groups)\n",
    "for key in filt_keys:\n",
    "    print(key)\n",
    "    obs = obs_dict[key]\n",
    "    \n",
    "    ng = 2\n",
    "    im_sat1 = obs.saturation_levels(ngroup=ng)\n",
    "    im_sat2 = obs.nrc_ref.saturation_levels(obs.sp_ref, ngroup=ng)\n",
    "    dist1 = nrc_utils.dist_image(im_sat1, pixscale=obs.pix_scale)\n",
    "    dist2 = nrc_utils.dist_image(im_sat2, pixscale=obs.pix_scale)\n",
    "    dmax1 = np.max(dist1[im_sat1==im_sat1.max()])\n",
    "    dmax2 = np.max(dist2[im_sat2==im_sat2.max()])\n",
    "    \n",
    "    print('Max sci saturation of {:.1f} well at {:.1f} arcsec'.format(im_sat1.max(), dmax1))\n",
    "    print('Max ref saturation of {:.1f} well at {:.1f} arcsec'.format(im_sat2.max(), dmax2))\n"
   ]
  },
  {
   "cell_type": "code",
   "execution_count": 24,
   "metadata": {},
   "outputs": [
    {
     "data": {
      "text/plain": [
       "0.001509812726098446"
      ]
     },
     "execution_count": 24,
     "metadata": {},
     "output_type": "execute_result"
    }
   ],
   "source": [
    "im_sat1.max()"
   ]
  },
  {
   "cell_type": "code",
   "execution_count": 19,
   "metadata": {},
   "outputs": [
    {
     "data": {
      "text/plain": [
       "0.005413886205636753"
      ]
     },
     "execution_count": 19,
     "metadata": {},
     "output_type": "execute_result"
    }
   ],
   "source": [
    "im_sat1.max()"
   ]
  },
  {
   "cell_type": "code",
   "execution_count": 20,
   "metadata": {},
   "outputs": [
    {
     "data": {
      "text/plain": [
       "8"
      ]
     },
     "execution_count": 20,
     "metadata": {},
     "output_type": "execute_result"
    }
   ],
   "source": [
    "obs.nrc_ref.bar_offset"
   ]
  },
  {
   "cell_type": "markdown",
   "metadata": {},
   "source": [
    "### Contrast Curves"
   ]
  },
  {
   "cell_type": "code",
   "execution_count": 16,
   "metadata": {},
   "outputs": [
    {
     "name": "stdout",
     "output_type": "stream",
     "text": [
      "F322W2_MASK430R_CIRCLYOT\n",
      "F444W_MASK430R_CIRCLYOT\n"
     ]
    }
   ],
   "source": [
    "# List of WFE drifts to check\n",
    "wfe_list = [0,2,5,10][::-1]\n",
    "nsig = 5\n",
    "\n",
    "# Get contrasts for each WFE drift\n",
    "contrast_dict = do_contrast(wfe_list, filt_keys, nsig=nsig, roll_angle=10)"
   ]
  },
  {
   "cell_type": "code",
   "execution_count": 17,
   "metadata": {},
   "outputs": [
    {
     "data": {
      "image/png": "[encoded data removed]",
      "text/plain": [
       "<matplotlib.figure.Figure at 0x11a163400>"
      ]
     },
     "metadata": {},
     "output_type": "display_data"
    }
   ],
   "source": [
    "xlim=[0,10]\n",
    "ylim=[24,8]\n",
    "\n",
    "fig, axes = plt.subplots(1,2, figsize=(14,4.5))\n",
    "#entropy_vals = [13,8]\n",
    "\n",
    "for j, ax in enumerate(axes):\n",
    "    ax.set_xlim(xlim)\n",
    "    ax.set_ylim(ylim)\n",
    "\n",
    "    obs = obs_dict[filt_keys[j]]\n",
    "    curves = contrast_dict[filt_keys[j]]\n",
    "\n",
    "    plot_contrasts(curves, wfe_list, ax=ax)\n",
    "    plot_planet_patches(ax, obs, age=age, entropy=13)\n",
    "\n",
    "    t_exp = obs.multiaccum_times['t_exp']\n",
    "    t_exp = round(2*t_exp/100)*100\n",
    "    ax.text(0.03,0.95,'t_exp = {:.0f} sec'.format(t_exp), transform=ax.transAxes,\n",
    "            horizontalalignment='left', verticalalignment='top', fontsize=12)\n",
    "\n",
    "    \n",
    "for ax in axes.flatten():\n",
    "    ax.set_xlabel('Distance (arcsec)')\n",
    "    ax.set_ylabel('{}-sigma Sensitivities (mag)'.format(nsig))\n",
    "    ax.legend(ncol=2)\n",
    "\n",
    "dist_str = 'Dist = {:.1f} pc; '.format(dist_sci)\n",
    "age_str = 'Age = {:.0f} Myr; '.format(age)\n",
    "fig.suptitle('{} ({}{})'.format(name_sci, dist_str, age_str), fontsize=16);\n",
    "\n",
    "fig.tight_layout()\n",
    "fig.subplots_adjust(wspace=0.1, hspace=0.1, top=0.85, bottom=0.1 , left=0.05, right=0.97)\n",
    "\n",
    "save_fig = True\n",
    "fname = \"{}_contrast.pdf\".format(name_sci.replace(\" \", \"\"))\n",
    "if save_fig: \n",
    "    fig.savefig(outdir+fname)"
   ]
  },
  {
   "cell_type": "markdown",
   "metadata": {},
   "source": [
    "### Target Acquisition"
   ]
  },
  {
   "cell_type": "code",
   "execution_count": 18,
   "metadata": {
    "scrolled": false
   },
   "outputs": [
    {
     "name": "stdout",
     "output_type": "stream",
     "text": [
      "51 Eri\n",
      " Pattern   NGRP NINT   t_int     t_exp     t_acq     SNR      Well     eff   \n",
      "---------- ---- ---- --------- --------- --------- -------- -------- --------\n",
      "MEDIUM8       3    1      1.40      1.40      1.46     71.1    0.019   58.873\n",
      " Pattern   NGRP NINT   t_int     t_exp     t_acq     SNR      Well     eff   \n",
      "---------- ---- ---- --------- --------- --------- -------- -------- --------\n",
      "MEDIUM8       5    1      2.41      2.41      2.46    104.5    0.032   66.592\n",
      "SHALLOW4      5    1      1.20      1.20      1.26     68.6    0.016   61.141\n",
      " Pattern   NGRP NINT   t_int     t_exp     t_acq     SNR      Well     eff   \n",
      "---------- ---- ---- --------- --------- --------- -------- -------- --------\n",
      "MEDIUM8       9    1      4.41      4.41      4.47    151.0    0.059   71.419\n",
      "SHALLOW4      9    1      2.21      2.21      2.26    103.5    0.030   68.807\n",
      "BRIGHT2       9    1      0.90      0.90      0.96     57.9    0.012   59.157\n",
      " Pattern   NGRP NINT   t_int     t_exp     t_acq     SNR      Well     eff   \n",
      "---------- ---- ---- --------- --------- --------- -------- -------- --------\n",
      "MEDIUM8      17    1      8.43      8.43      8.48    215.6    0.113   74.046\n",
      "SHALLOW4     17    1      4.21      4.21      4.27    150.7    0.056   72.939\n",
      "BRIGHT2      17    1      1.71      1.71      1.76     90.9    0.023   68.487\n",
      "RAPID        17    1      0.85      0.85      0.91     56.8    0.011   59.641\n",
      " Pattern   NGRP NINT   t_int     t_exp     t_acq     SNR      Well     eff   \n",
      "---------- ---- ---- --------- --------- --------- -------- -------- --------\n",
      "MEDIUM8      33    1     16.45     16.45     16.51    306.2    0.220   75.365\n",
      "SHALLOW4     33    1      8.23      8.23      8.28    215.6    0.110   74.924\n",
      "BRIGHT2      33    1      3.31      3.31      3.37    134.0    0.044   73.065\n",
      "RAPID        33    1      1.66      1.66      1.71     90.7    0.022   69.362\n",
      " Pattern   NGRP NINT   t_int     t_exp     t_acq     SNR      Well     eff   \n",
      "---------- ---- ---- --------- --------- --------- -------- -------- --------\n",
      "MEDIUM8      65    1     32.50     32.50     32.56    433.5    0.435   75.966\n",
      "SHALLOW4     65    1     16.25     16.25     16.31    306.2    0.218   75.834\n",
      "BRIGHT2      65    1      6.52      6.52      6.58    192.5    0.087   75.076\n",
      "RAPID        65    1      3.26      3.26      3.32    134.2    0.044   73.689\n",
      "\n",
      "HD 30562\n",
      " Pattern   NGRP NINT   t_int     t_exp     t_acq     SNR      Well     eff   \n",
      "---------- ---- ---- --------- --------- --------- -------- -------- --------\n",
      "MEDIUM8       3    1      1.40      1.40      1.46     83.3    0.025   68.943\n",
      "SHALLOW4      3    1      0.70      0.70      0.76     52.3    0.012   60.126\n",
      " Pattern   NGRP NINT   t_int     t_exp     t_acq     SNR      Well     eff   \n",
      "---------- ---- ---- --------- --------- --------- -------- -------- --------\n",
      "MEDIUM8       5    1      2.41      2.41      2.46    121.3    0.043   77.318\n",
      "SHALLOW4      5    1      1.20      1.20      1.26     80.9    0.021   72.146\n",
      " Pattern   NGRP NINT   t_int     t_exp     t_acq     SNR      Well     eff   \n",
      "---------- ---- ---- --------- --------- --------- -------- -------- --------\n",
      "MEDIUM8       9    1      4.41      4.41      4.47    174.4    0.078   82.506\n",
      "SHALLOW4      9    1      2.21      2.21      2.26    120.4    0.039   80.068\n",
      "BRIGHT2       9    1      0.90      0.90      0.96     69.1    0.016   70.602\n",
      " Pattern   NGRP NINT   t_int     t_exp     t_acq     SNR      Well     eff   \n",
      "---------- ---- ---- --------- --------- --------- -------- -------- --------\n",
      "MEDIUM8      17    1      8.43      8.43      8.48    248.5    0.149   85.331\n",
      "SHALLOW4     17    1      4.21      4.21      4.27    174.2    0.075   84.300\n",
      "BRIGHT2      17    1      1.71      1.71      1.76    106.2    0.030   80.025\n",
      "RAPID        17    1      0.85      0.85      0.91     68.0    0.015   71.424\n",
      " Pattern   NGRP NINT   t_int     t_exp     t_acq     SNR      Well     eff   \n",
      "---------- ---- ---- --------- --------- --------- -------- -------- --------\n",
      "MEDIUM8      33    1     16.45     16.45     16.51    352.5    0.292   86.755\n",
      "SHALLOW4     33    1      8.23      8.23      8.28    248.5    0.146   86.347\n",
      "BRIGHT2      33    1      3.31      3.31      3.37    155.1    0.059   84.558\n",
      "RAPID        33    1      1.66      1.66      1.71    106.0    0.029   81.079\n",
      " Pattern   NGRP NINT   t_int     t_exp     t_acq     SNR      Well     eff   \n",
      "---------- ---- ---- --------- --------- --------- -------- -------- --------\n",
      "SHALLOW4     65    1     16.25     16.25     16.31    352.5    0.288   87.294\n",
      "BRIGHT2      65    1      6.52      6.52      6.58    222.0    0.116   86.560\n",
      "RAPID        65    1      3.26      3.26      3.32    155.2    0.058   85.260\n",
      "\n"
     ]
    }
   ],
   "source": [
    "# Cycle through various TA settings and print out saturation and SNR levels\n",
    "# This uses the ramp_optimize method, but constrains the ngroups to a \n",
    "# specific setting.\n",
    "nrc = pynrc.NIRCam(filter='F335M', pupil='CIRCLYOT', ND_acq=True,\n",
    "                   wind_mode='WINDOW', xpix=64, ypix=64)\n",
    "\n",
    "pynrc.setup_logging('ERROR', verbose=False)\n",
    "ng_levels = [3,5,9,17,33,65]\n",
    "patterns = ['RAPID', 'BRIGHT2', 'SHALLOW4', 'MEDIUM8']\n",
    "for sp in [sp_sci, sp_ref]:\n",
    "    print(sp.name)\n",
    "    for ng in ng_levels: \n",
    "        tbl = nrc.ramp_optimize(sp, snr_goal=50, well_frac_max=0.5, verbose=False,\n",
    "                                ng_min=ng, ng_max=ng, nint_max=1, patterns=patterns)\n",
    "        if len(tbl)>0:\n",
    "            print(tbl)\n",
    "    print('')\n",
    "\n",
    "pynrc.setup_logging('WARNING', verbose=False)"
   ]
  },
  {
   "cell_type": "code",
   "execution_count": null,
   "metadata": {
    "collapsed": true
   },
   "outputs": [],
   "source": []
  }
 ],
 "metadata": {
  "kernelspec": {
   "display_name": "Python 3",
   "language": "python",
   "name": "python3"
  },
  "language_info": {
   "codemirror_mode": {
    "name": "ipython",
    "version": 3
   },
   "file_extension": ".py",
   "mimetype": "text/x-python",
   "name": "python",
   "nbconvert_exporter": "python",
   "pygments_lexer": "ipython3",
   "version": "3.6.1"
  }
 },
 "nbformat": 4,
 "nbformat_minor": 2
}
