{
 "cells": [
  {
   "cell_type": "code",
   "execution_count": 1,
   "metadata": {
    "collapsed": true
   },
   "outputs": [],
   "source": [
    "# Makes print and division act like Python 3\n",
    "from __future__ import print_function, division\n",
    "\n",
    "# Import the usual libraries\n",
    "import numpy as np\n",
    "import matplotlib\n",
    "import matplotlib.pyplot as plt\n",
    "\n",
    "# Enable inline plotting at lower left\n",
    "%matplotlib inline\n",
    "\n",
    "from IPython.display import display, Latex, clear_output\n",
    "from matplotlib.backends.backend_pdf import PdfPages"
   ]
  },
  {
   "cell_type": "code",
   "execution_count": 2,
   "metadata": {
    "collapsed": true
   },
   "outputs": [],
   "source": [
    "import pynrc\n",
    "from pynrc import nrc_utils\n",
    "from pynrc.nrc_utils import S\n",
    "from pynrc.obs_nircam import model_to_hdulist\n",
    "pynrc.setup_logging('WARNING', verbose=False)"
   ]
  },
  {
   "cell_type": "code",
   "execution_count": 6,
   "metadata": {
    "collapsed": true
   },
   "outputs": [],
   "source": [
    "#                source,    dist,  fov, age,  sptype, kmag\n",
    "args_sources = [('HD10647',  17.43, 14, 1000, 'F9V', 4.3),\n",
    "                ('HD107146', 27.50, 14,  150, 'G2V', 5.5),\n",
    "                ('HD181327', 51.80,  7,   12, 'F6V', 5.9),\n",
    "                ('HD61005',  34.50,  7,  100, 'G8V', 6.5),\n",
    "                ('HD32297',  113.0,  7,   30, 'A0V', 7.6)]\n",
    "\n",
    "ref_sources  = [('iotHor',   'F8V',  4.1),\n",
    "                ('HD111398', 'G5V',  5.5),\n",
    "                ('HR7297',   'F7V',  5.1),\n",
    "                ('HD56161',  'G5IV', 4.9),\n",
    "                ('HD31411',  'A0V',  6.4)]"
   ]
  },
  {
   "cell_type": "code",
   "execution_count": 7,
   "metadata": {
    "collapsed": true
   },
   "outputs": [],
   "source": [
    "bp_k = pynrc.bp_2mass('k')"
   ]
  },
  {
   "cell_type": "markdown",
   "metadata": {},
   "source": [
    "## ND Target Acquisition Times"
   ]
  },
  {
   "cell_type": "code",
   "execution_count": 19,
   "metadata": {},
   "outputs": [
    {
     "name": "stdout",
     "output_type": "stream",
     "text": [
      "HD10647\n",
      " Pattern   NGRP NINT   t_int     t_exp     t_acq     SNR      Well     eff   \n",
      "---------- ---- ---- --------- --------- --------- -------- -------- --------\n",
      "RAPID        65    1      3.26      3.26      3.32    152.0    0.055   83.472\n",
      " Pattern   NGRP NINT   t_int     t_exp     t_acq     SNR      Well     eff   \n",
      "---------- ---- ---- --------- --------- --------- -------- -------- --------\n",
      "RAPID        65    1      3.26      3.26      3.32    167.1    0.067   91.749\n",
      "\n",
      "HD107146\n",
      " Pattern   NGRP NINT   t_int     t_exp     t_acq     SNR      Well     eff   \n",
      "---------- ---- ---- --------- --------- --------- -------- -------- --------\n",
      "RAPID        65    1      3.26      3.26      3.32     84.5    0.018   46.393\n",
      " Pattern   NGRP NINT   t_int     t_exp     t_acq     SNR      Well     eff   \n",
      "---------- ---- ---- --------- --------- --------- -------- -------- --------\n",
      "RAPID        65    1      3.26      3.26      3.32     84.5    0.018   46.393\n",
      "\n",
      "HD181327\n",
      " Pattern   NGRP NINT   t_int     t_exp     t_acq     SNR      Well     eff   \n",
      "---------- ---- ---- --------- --------- --------- -------- -------- --------\n",
      "RAPID        65    1      3.26      3.26      3.32     68.4    0.013   37.552\n",
      " Pattern   NGRP NINT   t_int     t_exp     t_acq     SNR      Well     eff   \n",
      "---------- ---- ---- --------- --------- --------- -------- -------- --------\n",
      "RAPID        65    1      3.26      3.26      3.32    103.0    0.027   56.543\n",
      "\n",
      "HD61005\n",
      " Pattern   NGRP NINT   t_int     t_exp     t_acq     SNR      Well     eff   \n",
      "---------- ---- ---- --------- --------- --------- -------- -------- --------\n",
      "RAPID        65    1      3.26      3.26      3.32     49.5    0.007   27.190\n",
      " Pattern   NGRP NINT   t_int     t_exp     t_acq     SNR      Well     eff   \n",
      "---------- ---- ---- --------- --------- --------- -------- -------- --------\n",
      "RAPID        65    1      3.26      3.26      3.32    116.3    0.033   63.886\n",
      "\n",
      "HD32297\n",
      " Pattern   NGRP NINT   t_int     t_exp     t_acq     SNR      Well     eff   \n",
      "---------- ---- ---- --------- --------- --------- -------- -------- --------\n",
      "RAPID        65    1      3.26      3.26      3.32     51.7    0.008   28.415\n",
      "\n"
     ]
    }
   ],
   "source": [
    "nrc = pynrc.NIRCam(filter='F335M', pupil='CIRCLYOT', ND_acq=True,\n",
    "                   wind_mode='WINDOW', xpix=64, ypix=64)\n",
    "\n",
    "for i in range(len(args_sources)):\n",
    "\n",
    "    name_sci, dist_sci, fov, age, spt_sci, kmag_sci = args_sources[i]\n",
    "    name_ref, spt_ref, kmag_ref = ref_sources[i]\n",
    "\n",
    "    # Science target and reference star spectra\n",
    "    sp_sci = pynrc.stellar_spectrum(spt_sci, kmag_sci, 'vegamag', bp_k, catname='ck04models')\n",
    "    sp_ref = pynrc.stellar_spectrum(spt_ref, kmag_ref, 'vegamag', bp_k, catname='ck04models')\n",
    "    sp_sci.name = name_sci\n",
    "    sp_ref.name = name_ref\n",
    "    \n",
    "    \n",
    "    print(name_sci)\n",
    "\n",
    "    ng_levels = [65]\n",
    "    for sp in [sp_sci, sp_ref]:\n",
    "        for ng in ng_levels: \n",
    "            pynrc.setup_logging('ERROR', verbose=False)\n",
    "            tbl = nrc.ramp_optimize(sp, snr_goal=50, snr_frac=0.01, well_frac_max=0.5, verbose=False,\n",
    "                                    ng_min=ng, ng_max=ng, nint_max=1, patterns=['RAPID'])\n",
    "            nrow = len(tbl)\n",
    "            if nrow>0:\n",
    "                print(tbl)\n",
    "                break\n",
    "\n",
    "    print('')\n",
    "\n",
    "pynrc.setup_logging('WARNING', verbose=False)"
   ]
  },
  {
   "cell_type": "code",
   "execution_count": 23,
   "metadata": {},
   "outputs": [
    {
     "name": "stdout",
     "output_type": "stream",
     "text": [
      "HD32297\n",
      " Pattern   NGRP NINT   t_int     t_exp     t_acq     SNR      Well     eff   \n",
      "---------- ---- ---- --------- --------- --------- -------- -------- --------\n",
      "RAPID         5    1      0.25      0.25      0.31    185.6    0.112  335.849\n",
      " Pattern   NGRP NINT   t_int     t_exp     t_acq     SNR      Well     eff   \n",
      "---------- ---- ---- --------- --------- --------- -------- -------- --------\n",
      "RAPID         5    1      0.25      0.25      0.31    332.1    0.338  600.879\n"
     ]
    }
   ],
   "source": [
    "# HD 32297 and reference star are too faint\n",
    "# Turn off ND_acq for faint TA position\n",
    "nrc = pynrc.NIRCam(filter='F335M', pupil='CIRCLYOT', ND_acq=False,\n",
    "                   wind_mode='WINDOW', xpix=64, ypix=64)\n",
    "\n",
    "i=4\n",
    "name_sci, dist_sci, fov, age, spt_sci, kmag_sci = args_sources[i]\n",
    "name_ref, spt_ref, kmag_ref = ref_sources[i]\n",
    "\n",
    "# Science target and reference star spectra\n",
    "sp_sci = pynrc.stellar_spectrum(spt_sci, kmag_sci, 'vegamag', bp_k)\n",
    "sp_ref = pynrc.stellar_spectrum(spt_ref, kmag_ref, 'vegamag', bp_k)\n",
    "sp_sci.name = name_sci\n",
    "sp_ref.name = name_ref\n",
    "\n",
    "\n",
    "print(name_sci)\n",
    "\n",
    "ng_levels = [5,9,17,33,65]\n",
    "for sp in [sp_sci, sp_ref]:\n",
    "    for ng in ng_levels: \n",
    "        pynrc.setup_logging('WARNING', verbose=False)\n",
    "        tbl = nrc.ramp_optimize(sp, snr_goal=100, snr_frac=0.01, well_frac_max=0.5, verbose=False,\n",
    "                                ng_min=ng, ng_max=ng, nint_max=1, patterns=['RAPID'])\n",
    "        nrow = len(tbl)\n",
    "        if nrow>0:\n",
    "            print(tbl)\n",
    "            break\n"
   ]
  },
  {
   "cell_type": "markdown",
   "metadata": {},
   "source": [
    "## Astrometric Confirmation Settings\n",
    "\n",
    "Want to be sensitive to objects with brightnesses of 10-18 mags at 3.3um"
   ]
  },
  {
   "cell_type": "code",
   "execution_count": 24,
   "metadata": {
    "collapsed": true
   },
   "outputs": [],
   "source": [
    "nrc = pynrc.NIRCam(filter='F335M', pupil='CIRCLYOT', wind_mode='FULL')"
   ]
  },
  {
   "cell_type": "code",
   "execution_count": 33,
   "metadata": {},
   "outputs": [
    {
     "name": "stdout",
     "output_type": "stream",
     "text": [
      "BRIGHT1\n",
      "BRIGHT2\n",
      "DEEP2\n",
      "DEEP8\n",
      "MEDIUM2\n",
      "MEDIUM8\n",
      "RAPID\n",
      "SHALLOW2\n",
      "SHALLOW4\n",
      " Pattern   NGRP NINT   t_int     t_exp     t_acq     SNR      Well     eff   \n",
      "---------- ---- ---- --------- --------- --------- -------- -------- --------\n",
      "BRIGHT1       3    3     53.68    161.05    193.27     64.8    1.043    4.657\n",
      "RAPID         3    3     32.21     96.63    128.85     36.2    0.626    3.185\n"
     ]
    }
   ],
   "source": [
    "sp_dim = pynrc.stellar_spectrum('flat', 16, 'vegamag', nrc.bandpass)\n",
    "sp_bright = pynrc.stellar_spectrum('flat', 11, 'vegamag', nrc.bandpass)\n",
    "tbl = nrc.ramp_optimize(sp_dim, sp_bright, snr_goal=30, snr_frac=0.1, ng_min=3, ng_max=10, nint_min=3,\n",
    "                        well_frac_max=1.2, verbose=True)\n"
   ]
  },
  {
   "cell_type": "code",
   "execution_count": null,
   "metadata": {
    "collapsed": true
   },
   "outputs": [],
   "source": []
  }
 ],
 "metadata": {
  "anaconda-cloud": {},
  "kernelspec": {
   "display_name": "Python 3",
   "language": "python",
   "name": "python3"
  },
  "language_info": {
   "codemirror_mode": {
    "name": "ipython",
    "version": 3
   },
   "file_extension": ".py",
   "mimetype": "text/x-python",
   "name": "python",
   "nbconvert_exporter": "python",
   "pygments_lexer": "ipython3",
   "version": "3.6.1"
  }
 },
 "nbformat": 4,
 "nbformat_minor": 1
}
