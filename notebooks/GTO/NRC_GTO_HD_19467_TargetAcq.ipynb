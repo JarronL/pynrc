{
 "cells": [
  {
   "cell_type": "code",
   "execution_count": 2,
   "metadata": {
    "collapsed": true
   },
   "outputs": [],
   "source": [
    "# Makes print and division act like Python 3\n",
    "from __future__ import print_function, division\n",
    "\n",
    "# Import the usual libraries\n",
    "import numpy as np\n",
    "import matplotlib\n",
    "import matplotlib.pyplot as plt\n",
    "\n",
    "# Enable inline plotting at lower left\n",
    "%matplotlib inline\n",
    "\n",
    "from IPython.display import display, Latex, clear_output\n",
    "from matplotlib.backends.backend_pdf import PdfPages"
   ]
  },
  {
   "cell_type": "code",
   "execution_count": 3,
   "metadata": {
    "collapsed": true
   },
   "outputs": [],
   "source": [
    "import pynrc\n",
    "from pynrc import nrc_utils\n",
    "from pynrc.nrc_utils import S\n",
    "from pynrc.obs_nircam import model_to_hdulist\n",
    "pynrc.setup_logging('WARNING', verbose=False)"
   ]
  },
  {
   "cell_type": "code",
   "execution_count": 5,
   "metadata": {
    "collapsed": true
   },
   "outputs": [],
   "source": [
    "bp_k = nrc_utils.bp_2mass('k')"
   ]
  },
  {
   "cell_type": "code",
   "execution_count": 4,
   "metadata": {
    "collapsed": true
   },
   "outputs": [],
   "source": [
    "#                source,   sptype, kmag\n",
    "args_sources = [('HD19467', 'G3V', 5.4),\n",
    "                ('HD19096', 'K0V', 5.3)]"
   ]
  },
  {
   "cell_type": "code",
   "execution_count": null,
   "metadata": {
    "collapsed": true
   },
   "outputs": [],
   "source": [
    "nrc = pynrc.NIRCam(filter='F335M', pupil='CIRCLYOT', ND_acq=True,\n",
    "                   wind_mode='WINDOW', xpix=64, ypix=64)"
   ]
  },
  {
   "cell_type": "markdown",
   "metadata": {},
   "source": [
    "## ND Target Acquisition Times"
   ]
  },
  {
   "cell_type": "code",
   "execution_count": 30,
   "metadata": {},
   "outputs": [
    {
     "name": "stdout",
     "output_type": "stream",
     "text": [
      "HD19467\n",
      " Pattern   NGRP NINT   t_int     t_exp     t_acq     SNR      Well     eff   \n",
      "---------- ---- ---- --------- --------- --------- -------- -------- --------\n",
      "BRIGHT1      17    1      1.66      1.66      1.71     54.1    0.010   41.370\n",
      "\n",
      "HD19096\n",
      " Pattern   NGRP NINT   t_int     t_exp     t_acq     SNR      Well     eff   \n",
      "---------- ---- ---- --------- --------- --------- -------- -------- --------\n",
      "BRIGHT1      17    1      1.66      1.66      1.71     58.0    0.011   44.325\n",
      "\n"
     ]
    }
   ],
   "source": [
    "for i in range(len(args_sources)):\n",
    "\n",
    "    name_sci, spt_sci, kmag_sci = args_sources[i]\n",
    "\n",
    "    # Science target spectrum\n",
    "    sp = pynrc.stellar_spectrum(spt_sci, kmag_sci, 'vegamag', bp_k, catname='ck04models')\n",
    "    sp.name = name_sci\n",
    "\n",
    "    # Cycle through allowed TA ngroups\n",
    "    ng_levels = [3,5,9,17,33,65]\n",
    "    print(sp.name)\n",
    "    for ng in ng_levels:\n",
    "        pynrc.setup_logging('ERROR', verbose=False)\n",
    "        tbl = nrc.ramp_optimize(sp, snr_goal=50, snr_frac=0.01, well_frac_max=0.5, verbose=False,\n",
    "                                ng_min=ng, ng_max=ng, nint_max=1, patterns=['RAPID', 'BRIGHT1'])\n",
    "        nrow = len(tbl)\n",
    "        if nrow>0:\n",
    "            print(tbl)\n",
    "            break\n",
    "    print('')\n",
    "\n",
    "pynrc.setup_logging('WARNING', verbose=False)"
   ]
  },
  {
   "cell_type": "markdown",
   "metadata": {},
   "source": [
    "## Astrometric Confirmation Settings\n",
    "\n",
    "Want to be sensitive to objects with brightnesses of 10-18 mags at 3.3um"
   ]
  },
  {
   "cell_type": "code",
   "execution_count": 6,
   "metadata": {
    "collapsed": true
   },
   "outputs": [],
   "source": [
    "nrc = pynrc.NIRCam(filter='F335M', pupil='CIRCLYOT', wind_mode='FULL')"
   ]
  },
  {
   "cell_type": "code",
   "execution_count": 7,
   "metadata": {},
   "outputs": [
    {
     "name": "stdout",
     "output_type": "stream",
     "text": [
      "BRIGHT1\n",
      "RAPID\n",
      "SHALLOW2\n",
      " Pattern   NGRP NINT   t_int     t_exp     t_acq     SNR      Well     eff   \n",
      "---------- ---- ---- --------- --------- --------- -------- -------- --------\n",
      "BRIGHT1       3    3     53.68    161.05    193.27     31.5    1.040    2.263\n",
      "BRIGHT1       3    4     53.68    214.74    257.69     36.3    1.040    2.263\n",
      "RAPID         4    4     42.95    171.79    214.74     29.3    0.832    2.001\n",
      "RAPID         4    5     42.95    214.74    268.42     32.8    0.832    2.001\n",
      "RAPID         4    6     42.95    257.68    322.11     35.9    0.832    2.001\n"
     ]
    }
   ],
   "source": [
    "sp_dim = pynrc.stellar_spectrum('flat', 17, 'vegamag', nrc.bandpass)\n",
    "sp_bright = pynrc.stellar_spectrum('flat', 11, 'vegamag', nrc.bandpass)\n",
    "nrc = pynrc.NIRCam(filter='F335M', pupil='CIRCLYOT', wind_mode='FULL')\n",
    "tbl = nrc.ramp_optimize(sp_dim, sp_bright, snr_goal=30, snr_frac=0.1, ng_min=2, ng_max=10, nint_min=3,\n",
    "                        well_frac_max=1.2, patterns=['RAPID', 'BRIGHT1', 'SHALLOW2'], verbose=True)\n"
   ]
  },
  {
   "cell_type": "code",
   "execution_count": null,
   "metadata": {
    "collapsed": true
   },
   "outputs": [],
   "source": []
  }
 ],
 "metadata": {
  "anaconda-cloud": {},
  "kernelspec": {
   "display_name": "Python 3",
   "language": "python",
   "name": "python3"
  },
  "language_info": {
   "codemirror_mode": {
    "name": "ipython",
    "version": 3
   },
   "file_extension": ".py",
   "mimetype": "text/x-python",
   "name": "python",
   "nbconvert_exporter": "python",
   "pygments_lexer": "ipython3",
   "version": "3.6.1"
  }
 },
 "nbformat": 4,
 "nbformat_minor": 1
}
