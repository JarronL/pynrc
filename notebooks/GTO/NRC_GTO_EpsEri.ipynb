{
 "cells": [
  {
   "cell_type": "code",
   "execution_count": 1,
   "metadata": {
    "collapsed": true
   },
   "outputs": [],
   "source": [
    "# Makes print and division act like Python 3\n",
    "from __future__ import print_function, division\n",
    "\n",
    "# Import the usual libraries\n",
    "import numpy as np\n",
    "import matplotlib\n",
    "import matplotlib.pyplot as plt\n",
    "\n",
    "# Enable inline plotting at lower left\n",
    "%matplotlib inline\n",
    "\n",
    "from IPython.display import display, Latex, clear_output\n",
    "from matplotlib.backends.backend_pdf import PdfPages\n",
    "import matplotlib.patches as patches"
   ]
  },
  {
   "cell_type": "code",
   "execution_count": 2,
   "metadata": {
    "collapsed": true
   },
   "outputs": [],
   "source": [
    "import pynrc\n",
    "from pynrc import nrc_utils\n",
    "from pynrc.nrc_utils import S\n",
    "from pynrc.obs_nircam import model_to_hdulist\n",
    "pynrc.setup_logging('WARNING', verbose=False)\n",
    "\n",
    "from astropy.io import fits\n",
    "from astropy.io import ascii\n",
    "from copy import deepcopy"
   ]
  },
  {
   "cell_type": "markdown",
   "metadata": {},
   "source": [
    "# Observations Definitions\n",
    "\n",
    "Functions to create at optimize a series of observation objects stored as a dictionary."
   ]
  },
  {
   "cell_type": "code",
   "execution_count": 3,
   "metadata": {
    "collapsed": true
   },
   "outputs": [],
   "source": [
    "def make_key(filter, pupil=None, mask=None):\n",
    "    \"\"\"Create identification key (string) based on filter, pupil, and mask\"\"\"\n",
    "    mask_key = 'none' if mask is None else mask\n",
    "    pupil_key = 'none' if pupil is None else pupil\n",
    "    key = '{}_{}_{}'.format(filter,mask_key,pupil_key)\n",
    "    return key"
   ]
  },
  {
   "cell_type": "code",
   "execution_count": 4,
   "metadata": {
    "collapsed": true
   },
   "outputs": [],
   "source": [
    "def model_info(source, filt, dist):\n",
    "    \n",
    "    base_dir  = '/Volumes/NIRData/Andras_models_v2/'\n",
    "    model_dir = base_dir + source + '/'\n",
    "    \n",
    "    # Match filters with model\n",
    "    filt_switch = {'F182M':'F210M', 'F210M':'F210M', 'F250M':'F250M',\n",
    "                   'F300M':'F300M', 'F335M':'F335M', 'F444W':'F444W'}\n",
    "    filt_model = filt_switch.get(filt, filt)\n",
    "    fname = source + '_' + filt_model +'final.fits'\n",
    "\n",
    "    bp = nrc_utils.read_filter(filt_model)\n",
    "    w0 = bp.avgwave() / 1e4\n",
    "\n",
    "    # Model pixels are 4x oversampled\n",
    "    detscale = (nrc_utils.channel_select(bp))[0]\n",
    "    model_scale = detscale\n",
    "    \n",
    "    # File name, arcsec/pix, dist (pc), wavelength (um), flux units\n",
    "    args_model = (model_dir+fname, model_scale, dist, w0, 'Jy/pixel')\n",
    "\n",
    "    return args_model"
   ]
  },
  {
   "cell_type": "code",
   "execution_count": 5,
   "metadata": {
    "collapsed": true
   },
   "outputs": [],
   "source": [
    "def obs_wfe(wfe_drift, filt_list, sp_sci, dist, sp_ref=None, disk_mod=True, fov_pix=None, verbose=False):\n",
    "    \"\"\"\n",
    "    For a given WFE drift and series of filters, create a list of \n",
    "    NIRCam observations. This function will calculate PSFs out to 320 pixels. \n",
    "    For the case of SW+MASK335R, we also assume that the subarray size matches \n",
    "    that of a simultaneous LW observation (320x320).\n",
    "    \"\"\"\n",
    "    if sp_ref is None:\n",
    "        sp_ref = sp_sci\n",
    "    \n",
    "    fov_pix_orig = fov_pix\n",
    "    \n",
    "    obs_dict = {}\n",
    "    for filt, mask, pupil in filt_list:\n",
    "        if verbose: print(filt, mask, pupil)\n",
    "\n",
    "        # Disk Model\n",
    "        if disk_mod:\n",
    "            # Convert to photons/sec in specified filter\n",
    "            args_disk = model_info(sp_sci.name, filt, dist)\n",
    "            hdu_disk = model_to_hdulist(args_disk, sp_sci, filt, pupil=pupil, mask=mask)\n",
    "        else:\n",
    "            hdu_disk = None\n",
    "        \n",
    "        # Create identification keys\n",
    "        key = make_key(filt, mask=mask, pupil=pupil)\n",
    "\n",
    "        # Set the PSF size and oversampling amount\n",
    "        fov_pix = 320 if fov_pix is None else fov_pix\n",
    "        oversample = 2\n",
    "\n",
    "        # Initialize and store the observation\n",
    "        # A reference obseration is stored inside each parent obs_coronagraphy class.\n",
    "        obs_dict[key] = pynrc.obs_coronagraphy(sp_sci, sp_ref, dist, wind_mode='FULL',\n",
    "                                               disk_hdu=hdu_disk, wfe_drift=wfe_drift,\n",
    "                                               filter=filt, mask=mask, pupil=pupil, \n",
    "                                               oversample=oversample, fov_pix=fov_pix,\n",
    "                                               verbose=verbose)\n",
    "        fov_pix = fov_pix_orig\n",
    "\n",
    "    return obs_dict"
   ]
  },
  {
   "cell_type": "code",
   "execution_count": 6,
   "metadata": {
    "collapsed": true
   },
   "outputs": [],
   "source": [
    "def obs_optimize(obs_dict, sp_opt=None, well_levels=None, tacq_max=1800, **kwargs):\n",
    "    \"\"\"\n",
    "    Perform ramp optimization on each science and reference observation\n",
    "    in a list of filter observations. Updates the detector MULTIACCUM\n",
    "    settings for each observation in the dictionary.\n",
    "    \n",
    "    snr_goal = 5\n",
    "    snr_frac = 0.02\n",
    "    tacq_max = 1400\n",
    "    tacq_frac = 0.01\n",
    "    nint_min = 15\n",
    "    ng_max = 10\n",
    "    patterns = None\n",
    "    \"\"\"\n",
    "\n",
    "    # A very faint bg object on which to maximize S/N\n",
    "    # If sp_opt is not set, then default to a 20th magnitude flat source\n",
    "    if sp_opt is None:\n",
    "        bp_k = S.ObsBandpass('k')\n",
    "        sp_opt = pynrc.stellar_spectrum('flat', 20, 'vegamag', bp_k)\n",
    "\n",
    "    \n",
    "    # Some observations may saturate, so define a list of  maximum well level\n",
    "    # values that we will incrementally check until a ramp setting is found\n",
    "    # that meets the contraints.\n",
    "    if well_levels is None:\n",
    "        well_levels = [0.8, 1.5, 3.0, 5.0, 10.0, 20.0, 100.0, 150.0, 300.0, 500.0]\n",
    "   \n",
    "    filt_keys = obs_dict.keys()\n",
    "    filt_keys.sort()\n",
    "    print(['Pattern', 'NGRP', 'NINT', 't_int', 't_exp', 't_acq', 'SNR', 'Well', 'eff'])\n",
    "    for j, key in enumerate(filt_keys):\n",
    "        print('')\n",
    "        print(key)\n",
    "\n",
    "        obs = obs_dict[key]\n",
    "        sp_sci, sp_ref = (obs.sp_sci, obs.sp_ref)\n",
    "        \n",
    "        # SW filter piggy-back on two LW filters, so 2 x tacq\n",
    "        is_SW = obs.bandpass.avgwave()/1e4 < 2.5\n",
    "\n",
    "        sci = obs\n",
    "        ref = sci.nrc_ref\n",
    "\n",
    "        # Ramp optimization for both science and reference targets\n",
    "        for obs2, sp in zip([sci, ref], [sp_sci, sp_ref]):\n",
    "            i = nrow = 0\n",
    "            while nrow==0:\n",
    "                well_max = well_levels[i]\n",
    "                tbl = obs2.ramp_optimize(sp_opt, sp, well_frac_max=well_max, tacq_max=tacq_max, **kwargs)\n",
    "                nrow = len(tbl)\n",
    "                i+=1\n",
    "                \n",
    "            # Grab the highest ranked MULTIACCUM settings and update the detector readout\n",
    "            v1, v2, v3 = tbl['Pattern', 'NGRP', 'NINT'][0]\n",
    "            \n",
    "            vals = tbl[0].as_void()\n",
    "            strout = ', '.join(map(str, vals))\n",
    "            print(strout)\n",
    "\n",
    "            # SW filter piggy-back on two LW filters, so 2 x tacq\n",
    "            # Only for Debris Disk program\n",
    "            #is_SW = obs.bandpass.avgwave()/1e4 < 2.5\n",
    "            #if is_SW: v3 *= 2\n",
    "            \n",
    "            # Coronagraphic observations have two roll positions, so cut NINT by 2\n",
    "            if obs.mask is not None: v3 = int(v3/2) \n",
    "            obs2.update_detectors(read_mode=v1, ngroup=v2, nint=v3)\n",
    "        "
   ]
  },
  {
   "cell_type": "markdown",
   "metadata": {},
   "source": [
    "## Plotting contrasts and planet magnitudes\n",
    "\n",
    "Functions to plot simulated images and contrast curves"
   ]
  },
  {
   "cell_type": "code",
   "execution_count": 7,
   "metadata": {
    "collapsed": true
   },
   "outputs": [],
   "source": [
    "def plot_contrasts(curves, wfe_list, ax=None, colors=None, return_ax=False):\n",
    "    \"\"\"Plot a series of contrast curves for corresponding WFE drifts.\"\"\"\n",
    "    if ax is None:\n",
    "        fig, ax = plt.subplots()\n",
    "    if colors is None:\n",
    "        lin_vals = np.linspace(0.2,0.7,len(wfe_list))\n",
    "        colors = plt.cm.Blues_r(lin_vals)[::-1]\n",
    "    for j, wfe_drift in enumerate(wfe_list):\n",
    "        rr, contrast, mag_sens = curves[j]\n",
    "        label=\"WFE Drift = {} nm\".format(wfe_list[j])\n",
    "        ax.plot(rr, mag_sens, label=label, color=colors[j], zorder=1, lw=2)\n",
    "        \n",
    "    if return_ax: return ax\n",
    "\n",
    "\n",
    "def planet_mags(obs, age=10, entropy=13, mass_list=[10,5,2,1], av_vals=[0,25]):\n",
    "    \"\"\"Determine series of exoplanet magnitudes for given observation.\"\"\"\n",
    "\n",
    "    pmag = {}\n",
    "    for i,m in enumerate(mass_list):\n",
    "        flux_list = []\n",
    "        for j,av in enumerate(av_vals):\n",
    "            sp = obs.planet_spec(mass=m, age=age, Av=av, entropy=entropy, atmo='hy3s')\n",
    "            sp_obs = S.Observation(sp, obs.bandpass, binset=obs.bandpass.wave)\n",
    "            flux = sp_obs.effstim('vegamag')\n",
    "            flux_list.append(flux)\n",
    "        pmag[m] = tuple(flux_list)\n",
    "        \n",
    "    return pmag\n",
    "\n",
    "        \n",
    "def plot_planet_patches(ax, obs, age=10, entropy=13, mass_list=[10,5,2,1], av_vals=[0,25]):\n",
    "    \"\"\"Plot exoplanet magnitudes in region corresponding to extinction values.\"\"\"\n",
    "    \n",
    "    xlim = ax.get_xlim()\n",
    "    cols = plt.cm.tab10(np.linspace(0,1,10))\n",
    "    \n",
    "    dist = obs.distance\n",
    "    \n",
    "    pmag = planet_mags(obs, age, entropy, mass_list, av_vals)\n",
    "    for i,m in enumerate(mass_list):\n",
    "        pm_min, pm_max = pmag[m]\n",
    "        label = 'Mass = {} '.format(m) + '$M_{\\mathrm{Jup}}$'\n",
    "        rect = patches.Rectangle((xlim[0], pm_min), xlim[1], pm_max-pm_min, alpha=0.2,\n",
    "                                 color=cols[i], label=label, zorder=2)\n",
    "        ax.add_patch(rect)\n",
    "        ax.plot(xlim, [pm_min]*2, color=cols[i], lw=1, alpha=0.3)\n",
    "        ax.plot(xlim, [pm_max]*2, color=cols[i], lw=1, alpha=0.3)\n",
    "        \n",
    "\n",
    "    entropy_switch = {13:'Hot', 8:'Cold'}\n",
    "    entropy_string = entropy_switch.get(entropy, lambda: \"Warm\")\n",
    "    ent_str = entropy_string + ' Start'\n",
    "    #ent_str = '{} Start'.format(entropy_string)\n",
    "\n",
    "    av_str = '$A_V = [{:.0f},{:.0f}]$'.format(av_vals[0],av_vals[1])\n",
    "    age_str = 'Age = {:.0f} Myr; '.format(age)\n",
    "    dist_str = 'Dist = {:.1f} pc; '.format(dist) if dist is not None else ''\n",
    "    #dist_str=\"\"\n",
    "\n",
    "    ax.set_title('{} -- {} ({}{}{})'.format(obs.filter,ent_str,age_str,dist_str,av_str))\n"
   ]
  },
  {
   "cell_type": "markdown",
   "metadata": {},
   "source": [
    "## Functions to init, optimize, and plot"
   ]
  },
  {
   "cell_type": "code",
   "execution_count": 8,
   "metadata": {
    "collapsed": true
   },
   "outputs": [],
   "source": [
    "# Generate initial observations for each filter(no WFE drift)\n",
    "def do_init(disk_mod=True, fov_pix=1024, verbose=True):\n",
    "    wfe_drift = 0\n",
    "    obs_dict = obs_wfe(wfe_drift, args_list, sp_sci, dist_sci, sp_ref=sp_ref, \n",
    "                       disk_mod=disk_mod, fov_pix=fov_pix, verbose=verbose)\n",
    "    return obs_dict"
   ]
  },
  {
   "cell_type": "code",
   "execution_count": 9,
   "metadata": {
    "collapsed": true
   },
   "outputs": [],
   "source": [
    "# Optimize observations\n",
    "def do_opt(tacq_max, **kwargs):\n",
    "    sp_opt = pynrc.stellar_spectrum('flat', 20, 'vegamag', bp_k)\n",
    "    obs_optimize(obs_dict, sp_opt=sp_opt, tacq_max=tacq_max, **kwargs)"
   ]
  },
  {
   "cell_type": "code",
   "execution_count": 10,
   "metadata": {
    "collapsed": true
   },
   "outputs": [],
   "source": [
    "# For each filter setting, generate a series of contrast curves at different WFE values\n",
    "def do_contrast(wfe_list, filt_keys, nsig=5, roll_angle=None):\n",
    "    contrast_all = {}\n",
    "    for i, key in enumerate(filt_keys):\n",
    "        print(key)\n",
    "        obs = obs_dict[key]\n",
    "\n",
    "        filt, mask, pupil = args_list[i]\n",
    "        if roll_angle is None:\n",
    "            roll_angle = 0 if mask is None else 10\n",
    "\n",
    "        # Stores tuple of (Radial Distances, Contrast, and Sensitivity) for each WFE drift\n",
    "        curves = []\n",
    "        for wfe_drift in wfe_list:\n",
    "            obs.wfe_drift = wfe_drift\n",
    "            result = obs.calc_contrast(roll_angle=roll_angle, nsig=nsig)\n",
    "            curves.append(result)\n",
    "\n",
    "        contrast_all[key] = curves\n",
    "    return contrast_all"
   ]
  },
  {
   "cell_type": "code",
   "execution_count": 11,
   "metadata": {
    "collapsed": true
   },
   "outputs": [],
   "source": [
    "def do_plot_contrast(obs, curves, wfe_list, nsig, age, xlim=[0,10], ylim=[24,8], save_fig=False):\n",
    "\n",
    "    fig, axes = plt.subplots(1,2, figsize=(13,4.5))\n",
    "    entropy_vals = [13,8]\n",
    "\n",
    "    for j, ax in enumerate(axes.flatten()):\n",
    "        ax.set_xlim(xlim)\n",
    "        ax.set_ylim(ylim)\n",
    "        plot_contrasts(curves, wfe_list, ax=ax)\n",
    "        plot_planet_patches(ax, obs, age=age, entropy=entropy_vals[j])\n",
    "\n",
    "    for ax in axes.flatten():\n",
    "        ax.set_xlabel('Distance (arcsec)')\n",
    "        ax.set_ylabel('{}-sigma Sensitivities (mag)'.format(nsig))\n",
    "        ax.set_xlim(xlim)\n",
    "        ax.set_ylim(ylim)\n",
    "        ax.legend(ncol=2)\n",
    "\n",
    "    fig.tight_layout()\n",
    "    \n",
    "    t_exp = obs.multiaccum_times['t_exp']\n",
    "    t_exp = round(2*t_exp/100)*100\n",
    "    fig.suptitle('{} (t_exp = {:.0f} sec)'.format(name_sci, t_exp), fontsize=16);\n",
    "    #fig.subplots_adjust(top=0.85)\n",
    "    fig.subplots_adjust(wspace=0.1, hspace=0.1, top=0.85, bottom=0.1 , left=0.05, right=0.97)\n",
    "\n",
    "    fname = \"{}_contrast.pdf\".format(name_sci.replace(\" \", \"\"))\n",
    "    if save_fig: \n",
    "        fig.savefig(outdir+fname)"
   ]
  },
  {
   "cell_type": "markdown",
   "metadata": {},
   "source": [
    "# Define Sources and their Reference Counterparts"
   ]
  },
  {
   "cell_type": "code",
   "execution_count": 12,
   "metadata": {
    "collapsed": true
   },
   "outputs": [],
   "source": [
    "#                source,     dist, age, sptype, kmag\n",
    "args_sources = [('Vega',      7.7, 455, 'A0V', 0.13),\n",
    "                ('Fomalhaut', 7.7, 450, 'A4V', 1.05),\n",
    "                ('Eps Eri',   3.2, 500, 'K2V', 1.67)]\n",
    "\n",
    "# Corresponding reference stars\n",
    "ref_sources =  [('Deneb',   'A2I',   0.88),\n",
    "                ('c02 Aqr', 'K1III', 0.94),\n",
    "                ('HR1050',  'K2III', 3.25)]"
   ]
  },
  {
   "cell_type": "code",
   "execution_count": 13,
   "metadata": {
    "collapsed": true
   },
   "outputs": [],
   "source": [
    "# List of filters\n",
    "args_list = [('F356W', 'MASK430R', 'CIRCLYOT'),\n",
    "             ('F444W', 'MASK430R', 'CIRCLYOT')]\n",
    "\n",
    "filt_keys = []\n",
    "for filt,mask,pupil in args_list:\n",
    "    filt_keys.append(make_key(filt, mask=mask, pupil=pupil)) "
   ]
  },
  {
   "cell_type": "code",
   "execution_count": 14,
   "metadata": {
    "collapsed": true
   },
   "outputs": [],
   "source": [
    "# K-Band Filter\n",
    "# 2MASS Bandpass\n",
    "tbl = ascii.read(\"2mass_ks.txt\", names=['Wave', 'Throughput'])\n",
    "bp_k = S.ArrayBandpass(tbl['Wave']*1E4, tbl['Throughput'], name='Ks')"
   ]
  },
  {
   "cell_type": "code",
   "execution_count": 15,
   "metadata": {
    "collapsed": true
   },
   "outputs": [],
   "source": [
    "outdir  = '/Volumes/NIRData/'"
   ]
  },
  {
   "cell_type": "markdown",
   "metadata": {},
   "source": [
    "# Eps Eri"
   ]
  },
  {
   "cell_type": "code",
   "execution_count": 16,
   "metadata": {
    "collapsed": true
   },
   "outputs": [],
   "source": [
    "i=2\n",
    "\n",
    "name_sci, dist_sci, age, spt_sci, kmag_sci = args_sources[i]\n",
    "name_ref, spt_ref, kmag_ref = ref_sources[i]\n",
    "\n",
    "# Science target and reference star spectra\n",
    "sp_sci = pynrc.stellar_spectrum(spt_sci, kmag_sci, 'vegamag', bp_k, catname='ck04models')\n",
    "sp_ref = pynrc.stellar_spectrum(spt_ref, kmag_ref, 'vegamag', bp_k, catname='ck04models')\n",
    "sp_sci.name = name_sci\n",
    "sp_ref.name = name_ref"
   ]
  },
  {
   "cell_type": "code",
   "execution_count": 17,
   "metadata": {},
   "outputs": [
    {
     "name": "stdout",
     "output_type": "stream",
     "text": [
      "F356W MASK430R CIRCLYOT\n",
      "Generating list of PSFs...\n",
      "Creating NIRCam reference class...\n",
      "Finished.\n",
      "F444W MASK430R CIRCLYOT\n",
      "Generating list of PSFs...\n",
      "Creating NIRCam reference class...\n",
      "Finished.\n"
     ]
    }
   ],
   "source": [
    "obs_dict = do_init(disk_mod=False, fov_pix=1024, verbose=True)"
   ]
  },
  {
   "cell_type": "code",
   "execution_count": 18,
   "metadata": {
    "collapsed": true
   },
   "outputs": [],
   "source": [
    "obs1 = obs_dict[filt_keys[0]] # F356W\n",
    "obs2 = obs_dict[filt_keys[1]] # F444W"
   ]
  },
  {
   "cell_type": "markdown",
   "metadata": {},
   "source": [
    "### Readout Patterns"
   ]
  },
  {
   "cell_type": "code",
   "execution_count": 19,
   "metadata": {},
   "outputs": [
    {
     "name": "stdout",
     "output_type": "stream",
     "text": [
      "BRIGHT1\n",
      "RAPID\n",
      " Pattern   NGRP NINT   t_int     t_exp     t_acq     SNR      Well     eff   \n",
      "---------- ---- ---- --------- --------- --------- -------- -------- --------\n",
      "RAPID        10    5    107.37    536.84    590.53     47.3    8.260    1.947\n",
      "RAPID        10    6    107.37    644.21    708.63     51.8    8.260    1.947\n",
      "BRIGHT1       6    5    118.10    590.52    644.21     46.5    9.086    1.832\n",
      "RAPID         9    5     96.63    483.15    536.84     42.1    7.434    1.815\n",
      "RAPID         8    5     85.89    429.47    483.16     36.6    6.608    1.667\n",
      "BRIGHT1       5    5     96.63    483.15    536.84     37.2    7.434    1.605\n",
      "BRIGHT1       4    6     75.16    450.94    515.37     30.4    5.782    1.339\n",
      "\n",
      "BRIGHT1\n",
      "RAPID\n",
      " Pattern   NGRP NINT   t_int     t_exp     t_acq     SNR      Well     eff   \n",
      "---------- ---- ---- --------- --------- --------- -------- -------- --------\n",
      "RAPID        10    5    107.37    536.84    590.53     47.3    1.973    1.947\n",
      "RAPID        10    6    107.37    644.21    708.63     51.8    1.973    1.947\n",
      "BRIGHT1       6    5    118.10    590.52    644.21     46.5    2.171    1.832\n",
      "RAPID         9    5     96.63    483.15    536.84     42.1    1.776    1.815\n",
      "RAPID         8    5     85.89    429.47    483.16     36.6    1.579    1.667\n",
      "BRIGHT1       5    5     96.63    483.15    536.84     37.2    1.776    1.605\n",
      "BRIGHT1       4    6     75.16    450.94    515.37     30.4    1.381    1.339\n",
      "\n"
     ]
    }
   ],
   "source": [
    "# Optimize F356W\n",
    "# We already did this for Vega and decided on RAPID, NGRP=9, NINT=5\n",
    "# Let's confirm that these settings produce performance similar to optimal\n",
    "\n",
    "# Spectrum to optimize (some very faint flat guy)\n",
    "sp_opt = pynrc.stellar_spectrum('flat', 20, 'vegamag', bp_k)\n",
    "\n",
    "kwargs = {'tacq_max': 600, 'well_frac_max': 30, 'nint_min': 5}\n",
    "for sp in [sp_sci, sp_ref]:\n",
    "    _ = obs1.ramp_optimize(sp_opt, sp, patterns=['RAPID','BRIGHT1'], verbose=True, **kwargs)\n",
    "    print('')"
   ]
  },
  {
   "cell_type": "code",
   "execution_count": 21,
   "metadata": {},
   "outputs": [
    {
     "name": "stdout",
     "output_type": "stream",
     "text": [
      "BRIGHT1\n",
      "BRIGHT2\n",
      " Pattern   NGRP NINT   t_int     t_exp     t_acq     SNR      Well     eff   \n",
      "---------- ---- ---- --------- --------- --------- -------- -------- --------\n",
      "BRIGHT2       9    5    193.26    966.31   1020.00     77.8    6.962    2.435\n",
      "BRIGHT2       8    5    171.79    858.94    912.63     70.6    6.188    2.335\n",
      "BRIGHT1       9    5    182.53    912.63    966.31     70.2    6.575    2.259\n",
      "BRIGHT1       9    6    182.53   1095.15   1159.58     77.0    6.575    2.259\n",
      "BRIGHT2       7    5    150.31    751.57    805.26     62.7    5.415    2.210\n",
      "BRIGHT1       8    5    161.05    805.26    858.95     62.7    5.801    2.139\n",
      "BRIGHT1       7    5    139.58    697.89    751.58     54.7    5.028    1.993\n",
      "\n",
      "BRIGHT1\n",
      "BRIGHT2\n",
      " Pattern   NGRP NINT   t_int     t_exp     t_acq     SNR      Well     eff   \n",
      "---------- ---- ---- --------- --------- --------- -------- -------- --------\n",
      "BRIGHT2       9    5    193.26    966.31   1020.00     77.8    1.633    2.435\n",
      "BRIGHT2       8    5    171.79    858.94    912.63     70.6    1.451    2.335\n",
      "BRIGHT1       9    5    182.53    912.63    966.31     70.2    1.542    2.259\n",
      "BRIGHT1       9    6    182.53   1095.15   1159.58     77.0    1.542    2.259\n",
      "BRIGHT2       7    5    150.31    751.57    805.26     62.7    1.270    2.210\n",
      "BRIGHT1       8    5    161.05    805.26    858.95     62.7    1.361    2.139\n",
      "BRIGHT1       7    5    139.58    697.89    751.58     54.7    1.179    1.993\n",
      "\n"
     ]
    }
   ],
   "source": [
    "# Optimize F444W\n",
    "# Similarly, we chose BRIGHT1, NGRP=9, NINT=5 for Vega. Will that also do here?\n",
    "kwargs = {'tacq_max': 1000, 'well_frac_max': 30, 'nint_min': 5, 'ng_max':9}\n",
    "for sp in [sp_sci, sp_ref]:\n",
    "    _ = obs2.ramp_optimize(sp_opt, sp, patterns=['BRIGHT1','BRIGHT2'], verbose=True, **kwargs)\n",
    "    print('')"
   ]
  },
  {
   "cell_type": "code",
   "execution_count": 22,
   "metadata": {
    "collapsed": true
   },
   "outputs": [],
   "source": [
    "# Update based on decisons\n",
    "obs1.update_detectors(read_mode='RAPID', ngroup=9, nint=5)\n",
    "obs1.nrc_ref.update_detectors(read_mode='RAPID', ngroup=9, nint=5)\n",
    "\n",
    "obs2.update_detectors(read_mode='BRIGHT1', ngroup=9, nint=5)\n",
    "obs2.nrc_ref.update_detectors(read_mode='BRIGHT1', ngroup=9, nint=5)"
   ]
  },
  {
   "cell_type": "markdown",
   "metadata": {},
   "source": [
    "### Saturation radius"
   ]
  },
  {
   "cell_type": "code",
   "execution_count": 23,
   "metadata": {
    "collapsed": true
   },
   "outputs": [],
   "source": [
    "# Determine saturation that isn't easily interpolated\n",
    "# F356W\n",
    "nsat_list = []\n",
    "rmax_list = []\n",
    "for sp in [sp_sci, sp_ref]:\n",
    "    sat_level = obs1.saturation_levels(sp)\n",
    "    #print(sat_level.max())\n",
    "    sat_mask = sat_level > 0.8\n",
    "    rho = nrc_utils.dist_image(sat_level) # Pixel distances\n",
    "    \n",
    "    # How many saturated values can we easily fix?\n",
    "    sat_level[sat_mask] = np.nan\n",
    "    sat_level = nrc_utils.fix_nans_with_med(sat_level, niter_max=2)\n",
    "    \n",
    "    # Set any NaNs to 1.0\n",
    "    nan_mask = np.isnan(sat_level)\n",
    "    sat_level[nan_mask] = 1\n",
    "    sat_mask = sat_level > 0.8\n",
    "    \n",
    "    # Get final info about saturation levels\n",
    "    nsat = np.size(rho[sat_mask])    \n",
    "    rval = rho[sat_mask].max() if nsat>0 else 0\n",
    "    nsat_list.append(nsat)\n",
    "    rmax_list.append(rval*obs1.pix_scale)\n",
    "\n",
    "nsat1 = np.max(nsat_list)\n",
    "rmax1 = np.max(rmax_list)"
   ]
  },
  {
   "cell_type": "code",
   "execution_count": 24,
   "metadata": {
    "collapsed": true
   },
   "outputs": [],
   "source": [
    "# Determine saturation that isn't easily interpolated\n",
    "# F444W\n",
    "nsat_list = []\n",
    "rmax_list = []\n",
    "for sp in [sp_sci, sp_ref]:\n",
    "    sat_level = obs2.saturation_levels(sp)\n",
    "    #print(sat_level.max())\n",
    "    sat_mask = sat_level > 0.8\n",
    "    rho = nrc_utils.dist_image(sat_level) # Pixel distances\n",
    "    \n",
    "    # How many saturated values can we easily fix?\n",
    "    sat_level[sat_mask] = np.nan\n",
    "    sat_level = nrc_utils.fix_nans_with_med(sat_level, niter_max=2)\n",
    "    \n",
    "    # Set any NaNs to 1.0\n",
    "    nan_mask = np.isnan(sat_level)\n",
    "    sat_level[nan_mask] = 1\n",
    "    sat_mask = sat_level > 0.8\n",
    "    \n",
    "    # Get final info about saturation levels\n",
    "    nsat = np.size(rho[sat_mask])    \n",
    "    rval = rho[sat_mask].max() if nsat>0 else 0\n",
    "    nsat_list.append(nsat)\n",
    "    rmax_list.append(rval*obs2.pix_scale)\n",
    "\n",
    "nsat2 = np.max(nsat_list)\n",
    "rmax2 = np.max(rmax_list)"
   ]
  },
  {
   "cell_type": "code",
   "execution_count": 25,
   "metadata": {},
   "outputs": [
    {
     "name": "stdout",
     "output_type": "stream",
     "text": [
      "0 0.0\n",
      "0 0.0\n"
     ]
    }
   ],
   "source": [
    "print(nsat1, rmax1)\n",
    "print(nsat2, rmax2)"
   ]
  },
  {
   "cell_type": "markdown",
   "metadata": {},
   "source": [
    "### Contrast curves"
   ]
  },
  {
   "cell_type": "code",
   "execution_count": 27,
   "metadata": {},
   "outputs": [
    {
     "name": "stdout",
     "output_type": "stream",
     "text": [
      "F356W_MASK430R_CIRCLYOT\n",
      "F444W_MASK430R_CIRCLYOT\n"
     ]
    }
   ],
   "source": [
    "# Determine contrast curves for various WFE drift values\n",
    "wfe_list = [0,5,10]\n",
    "nsig = 5\n",
    "roll = 10\n",
    "curves_dict = do_contrast(wfe_list, filt_keys, nsig=nsig, roll_angle=roll)"
   ]
  },
  {
   "cell_type": "code",
   "execution_count": 28,
   "metadata": {
    "collapsed": true
   },
   "outputs": [],
   "source": [
    "curves1 = curves_dict[filt_keys[0]]\n",
    "curves2 = curves_dict[filt_keys[1]]"
   ]
  },
  {
   "cell_type": "code",
   "execution_count": 84,
   "metadata": {},
   "outputs": [
    {
     "data": {
      "image/png": "[encoded data removed]",
      "text/plain": [
       "<matplotlib.figure.Figure at 0x12b4b6bd0>"
      ]
     },
     "metadata": {},
     "output_type": "display_data"
    }
   ],
   "source": [
    "# Plot the contrast curves along with saturation regions\n",
    "xlim=[0,20]\n",
    "ylim=[24,8]\n",
    "\n",
    "fig, axes = plt.subplots(1,2, figsize=(13,4.5))\n",
    "ax1, ax2 = axes\n",
    "entropy_vals = [13,8]\n",
    "\n",
    "for j, ax in enumerate(axes):\n",
    "    ax.set_xlim(xlim)\n",
    "    ax.set_ylim(ylim)\n",
    "\n",
    "plot_contrasts(curves1, wfe_list, ax=ax1)\n",
    "plot_contrasts(curves2, wfe_list, ax=ax2)\n",
    "plot_planet_patches(ax1, obs1, age=age, entropy=8, av_vals=[0,10])\n",
    "plot_planet_patches(ax2, obs2, age=age, entropy=8, av_vals=[0,10])\n",
    "\n",
    "label = 'Saturation'\n",
    "if rmax1>0:\n",
    "    rect1 = patches.Rectangle((0,ylim[0]), rmax1, ylim[1]-ylim[0], alpha=0.5,\n",
    "                              color='grey', label=label, zorder=2)\n",
    "    ax1.add_patch(rect1)\n",
    "if rmax2>0:\n",
    "    rect2 = patches.Rectangle((0,ylim[0]), rmax2, ylim[1]-ylim[0], alpha=0.5,\n",
    "                              color='grey', label=label, zorder=2)\n",
    "    ax2.add_patch(rect2)\n",
    "\n",
    "for ax in axes.flatten():\n",
    "    ax.set_xlabel('Distance (arcsec)')\n",
    "    ax.set_ylabel('{}$\\sigma$ Sensitivities (mag)'.format(nsig))\n",
    "    ax.legend(ncol=1)\n",
    "    \n",
    "    ax.xaxis.get_major_locator().set_params(nbins=9, steps=[1, 2, 5, 10])\n",
    "    ax.yaxis.get_major_locator().set_params(nbins=9, steps=[1, 2, 5, 10])\n",
    "\n",
    "fig.tight_layout()\n",
    "\n",
    "roll_str = r\"$10^{\\circ}$\"\n",
    "fig.suptitle('{} (Roll Angle = {})'.format(name_sci,roll_str), fontsize=16);\n",
    "fig.subplots_adjust(wspace=0.1, hspace=0.1, top=0.85, bottom=0.1 , left=0.05, right=0.97)\n"
   ]
  },
  {
   "cell_type": "markdown",
   "metadata": {},
   "source": [
    "## Full observation simulations"
   ]
  },
  {
   "cell_type": "code",
   "execution_count": 30,
   "metadata": {
    "collapsed": true
   },
   "outputs": [],
   "source": [
    "for k in filt_keys:\n",
    "    obs = obs_dict[k]\n",
    "    obs.wfe_drift = 5"
   ]
  },
  {
   "cell_type": "code",
   "execution_count": 38,
   "metadata": {
    "collapsed": true
   },
   "outputs": [],
   "source": [
    "# Select F444W with two rolls at PA of 70 and 80 degrees\n",
    "obs = obs2\n",
    "\n",
    "roll_angle = 10\n",
    "PA1 = 270\n",
    "PA2 = PA1 + roll_angle\n",
    "\n",
    "xpix = obs.det_info['xpix']\n",
    "ypix = obs.det_info['ypix']"
   ]
  },
  {
   "cell_type": "code",
   "execution_count": 39,
   "metadata": {
    "collapsed": true
   },
   "outputs": [],
   "source": [
    "# Detector ID\n",
    "det = obs.Detectors[0]\n",
    "detid = det.detid"
   ]
  },
  {
   "cell_type": "code",
   "execution_count": 40,
   "metadata": {
    "collapsed": true
   },
   "outputs": [],
   "source": [
    "# Get mask center from SIAF aperture file\n",
    "from jwxml import siaf\n",
    "inst = siaf.SIAF('NIRCam')\n",
    "apname = 'NRC'\n",
    "ap = inst['NRCA5_MASK430R']\n",
    "mask_cen = ap.center('Det')"
   ]
  },
  {
   "cell_type": "code",
   "execution_count": 41,
   "metadata": {
    "collapsed": true
   },
   "outputs": [],
   "source": [
    "# Add random planet\n",
    "rtheta = (3, 45.0) # 3\" at PA=45\n",
    "# Output images will be in coordinates with V3 up and V2 to the left\n",
    "obs.add_planet(mass=1, age=age, entropy=8, rtheta=rtheta, runits='arcsec')"
   ]
  },
  {
   "cell_type": "code",
   "execution_count": 42,
   "metadata": {
    "collapsed": true
   },
   "outputs": [],
   "source": [
    "# Coronagraphic Transmission mask\n",
    "# +V3 is up, and +V2 is to the left\n",
    "# Pixel (0,0) is bottom right\n",
    "cmask = nrc_utils.build_mask('A', pixscale=obs.pix_scale) + 999\n",
    "cmask = nrc_utils.pad_or_cut_to_size(cmask, (ypix,xpix))\n",
    "\n",
    "# Place cmask in detector coords\n",
    "cmask = nrc_utils.V2V3_to_det(cmask, detid)\n",
    "\n",
    "# Shift cmask to appropriate location\n",
    "# ie., move MASK430R from center\n",
    "xc, yc = (xpix/2, ypix/2)\n",
    "xnew, ynew = (int(mask_cen[0]), int(mask_cen[1])) # In detector coords\n",
    "delx = xnew - xc\n",
    "dely = ynew - yc\n",
    "\n",
    "cmask = nrc_utils.fshift(cmask, delx, dely) + 1\n",
    "cmask[cmask>10] = cmask[cmask>10] - 1000\n",
    "\n",
    "cmask[1500:,0:260]=0\n",
    "cmask[1500:,1900:]=0\n",
    "cmask[1820:,:] = 0"
   ]
  },
  {
   "cell_type": "code",
   "execution_count": 43,
   "metadata": {
    "collapsed": true
   },
   "outputs": [],
   "source": [
    "# Make zodiacal background image\n",
    "im_zodi = cmask * obs.bg_zodi()"
   ]
  },
  {
   "cell_type": "code",
   "execution_count": 44,
   "metadata": {
    "collapsed": true
   },
   "outputs": [],
   "source": [
    "# Disk Images\n",
    "im_disk1 = obs.gen_disk_image(PA_offset=PA1)\n",
    "im_disk2 = obs.gen_disk_image(PA_offset=PA2)\n",
    "\n",
    "if isinstance(im_disk1, np.ndarray):\n",
    "    # Convert to Detector Coordinates (flip along x-axis)\n",
    "    im_disk1 = nrc_utils.V2V3_to_det(im_disk1, detid)\n",
    "    im_disk2 = nrc_utils.V2V3_to_det(im_disk2, detid)\n",
    "\n",
    "    # Shift to MASK430R spot\n",
    "    im_disk1 = nrc_utils.fshift(im_disk1, delx, dely, pad=True)\n",
    "    im_disk2 = nrc_utils.fshift(im_disk2, delx, dely, pad=True)\n",
    "\n",
    "    # Mask out opaque areas from disk\n",
    "    imask = cmask<1e-2\n",
    "    im_disk1[imask] = im_disk1[imask]*cmask[imask]\n",
    "    im_disk2[imask] = im_disk2[imask]*cmask[imask]"
   ]
  },
  {
   "cell_type": "code",
   "execution_count": 45,
   "metadata": {
    "collapsed": true
   },
   "outputs": [],
   "source": [
    "# Planet Images\n",
    "im_pl1 = obs.gen_planets_image(PA_offset=PA1)\n",
    "im_pl2 = obs.gen_planets_image(PA_offset=PA2)\n",
    "\n",
    "if isinstance(im_pl1, np.ndarray):\n",
    "    # Convert to Detector Coordinates (flip along x-axis)\n",
    "    im_pl1 = nrc_utils.V2V3_to_det(im_pl1, detid)\n",
    "    im_pl2 = nrc_utils.V2V3_to_det(im_pl2, detid)\n",
    "\n",
    "    # Shift to MASK430R spot\n",
    "    im_pl1 = nrc_utils.fshift(im_pl1, delx, dely, pad=True)\n",
    "    im_pl2 = nrc_utils.fshift(im_pl2, delx, dely, pad=True)\n",
    "\n",
    "    # Mask out opaque areas from disk\n",
    "    imask = cmask<1e-2\n",
    "    im_pl1[imask] = im_pl1[imask]*cmask[imask]\n",
    "    im_pl2[imask] = im_pl2[imask]*cmask[imask]"
   ]
  },
  {
   "cell_type": "code",
   "execution_count": 46,
   "metadata": {
    "collapsed": true
   },
   "outputs": [],
   "source": [
    "# Create stellar images\n",
    "im_star = obs.gen_psf(sp_sci)\n",
    "im_ref  = obs.nrc_ref.gen_psf(sp_ref)\n",
    "\n",
    "im_star = nrc_utils.pad_or_cut_to_size(im_star, (ypix,xpix))\n",
    "im_ref  = nrc_utils.pad_or_cut_to_size(im_ref, (ypix,xpix))\n",
    "\n",
    "# Convert to Detector Coordinates (flip along x-axis)\n",
    "im_star = nrc_utils.V2V3_to_det(im_star, detid)\n",
    "im_ref  = nrc_utils.V2V3_to_det(im_ref, detid)\n",
    "\n",
    "# Shift to MASK430R spot\n",
    "im_star = nrc_utils.fshift(im_star, delx, dely, pad=True)\n",
    "im_ref  = nrc_utils.fshift(im_ref, delx, dely, pad=True)"
   ]
  },
  {
   "cell_type": "code",
   "execution_count": 47,
   "metadata": {
    "collapsed": true
   },
   "outputs": [],
   "source": [
    "sci_slope1 = im_star + im_disk1 + im_pl1 + im_zodi\n",
    "sci_slope2 = im_star + im_disk2 + im_pl2 + im_zodi\n",
    "\n",
    "ref_slope  = im_ref + im_zodi"
   ]
  },
  {
   "cell_type": "code",
   "execution_count": 48,
   "metadata": {
    "collapsed": true
   },
   "outputs": [],
   "source": [
    "# Superbias for data reduction\n",
    "caldir  = pynrc.conf.PYNRC_PATH + 'sca_images/'\n",
    "fbias = caldir + 'SUPER_BIAS_485.FITS'\n",
    "hdl = fits.open(fbias)\n",
    "bias = hdl[0].data"
   ]
  },
  {
   "cell_type": "code",
   "execution_count": 49,
   "metadata": {
    "collapsed": true
   },
   "outputs": [],
   "source": [
    "def average_slopes(ramps, bias):\n",
    "    \"\"\"\n",
    "    For a series of ramps, calculate the slope images then average together.\n",
    "    Would it be better to average integrations into one ramp, then find slope???\n",
    "    \"\"\"\n",
    "\n",
    "    slopes_fin = []\n",
    "    for i in range(len(ramps)):\n",
    "        #print(i)\n",
    "        hdulist = ramps[i]\n",
    "        data = hdulist[1].data\n",
    "        header = hdulist[0].header\n",
    "        ref_obj = pynrc.ref_pixels.NRC_refs(data, header, DMS=True)\n",
    "        ref_obj.calc_avg_amps()\n",
    "        ref_obj.correct_amp_refs()\n",
    "\n",
    "        # Subtract superbias\n",
    "        data_corr = ref_obj.data\n",
    "        for im in data_corr:\n",
    "            im -= bias\n",
    "\n",
    "        # Create time array\n",
    "        ng = data_corr.shape[0]\n",
    "        tvals = (np.arange(ng)+1) * obs.multiaccum_times['t_group']\n",
    "\n",
    "        # Flatten image space to 1D\n",
    "        data_corr = data_corr.reshape([ng,-1])\n",
    "\n",
    "        # Make saturation mask\n",
    "        sat_val = 0.8*data_corr.max()\n",
    "        sat_mask = data_corr > sat_val\n",
    "\n",
    "        # Create slope images\n",
    "        # Cycle through frames using only unsaturated pixels \n",
    "        im_slope = np.zeros_like(data_corr[0]) - 10\n",
    "        for i in np.arange(1,ng)[::-1]:\n",
    "            ind = (im_slope==-10) & (~sat_mask[i])\n",
    "            if np.any(ind): # Check if any pixels are still True\n",
    "                im_slope[ind] = pynrc.fast_poly.jl_poly_fit(tvals, data_corr[:,ind])[1]\n",
    "            #print(im_slope[ind].shape)\n",
    "\n",
    "        # Special case of only first frame unsaturated\n",
    "        ind = (im_slope==-10) & (~sat_mask[0])\n",
    "        im_slope[ind] = data_corr[:,ind] / tvals[0]\n",
    "        #print(im_slope[ind].shape)\n",
    "\n",
    "        # If saturated on first frame, set to NaN\n",
    "        ind = sat_mask[0]\n",
    "        im_slope[ind] = np.nan\n",
    "        #print(im_slope[ind].shape)\n",
    "\n",
    "        data_corr = data_corr.reshape([ng,ypix,xpix])\n",
    "        im_slope = im_slope.reshape([ypix,xpix])\n",
    "        slopes_fin.append(im_slope)\n",
    "\n",
    "    slopes_fin = np.array(slopes_fin)\n",
    "    slope_final = np.nanmedian(slopes_fin, axis=0)\n",
    "    \n",
    "    # Fix NaNs\n",
    "    slope_final = nrc_utils.fix_nans_with_med(slope_final)\n",
    "\n",
    "    return slope_final"
   ]
  },
  {
   "cell_type": "code",
   "execution_count": 50,
   "metadata": {
    "collapsed": true,
    "scrolled": false
   },
   "outputs": [],
   "source": [
    "ramps = obs.gen_exposures(im_slope=sci_slope1, targ_name=name_sci)\n",
    "slope_final1 = average_slopes(ramps, bias)"
   ]
  },
  {
   "cell_type": "code",
   "execution_count": 51,
   "metadata": {
    "collapsed": true
   },
   "outputs": [],
   "source": [
    "ramps = obs.gen_exposures(im_slope=sci_slope2, targ_name=name_sci)\n",
    "slope_final2 = average_slopes(ramps, bias)"
   ]
  },
  {
   "cell_type": "code",
   "execution_count": 52,
   "metadata": {
    "collapsed": true,
    "scrolled": false
   },
   "outputs": [],
   "source": [
    "ramps = obs.nrc_ref.gen_exposures(im_slope=ref_slope, targ_name=name_ref)\n",
    "slope_ref = average_slopes(ramps, bias)"
   ]
  },
  {
   "cell_type": "code",
   "execution_count": 53,
   "metadata": {},
   "outputs": [
    {
     "name": "stdout",
     "output_type": "stream",
     "text": [
      "0.181705780261 0.187313652003 0.186214725001\n"
     ]
    }
   ],
   "source": [
    "med1 = np.median(slope_final1)\n",
    "med2 = np.median(slope_final2)\n",
    "med_ref = np.median(slope_ref)\n",
    "\n",
    "print(med1, med2, med_ref)"
   ]
  },
  {
   "cell_type": "code",
   "execution_count": 54,
   "metadata": {
    "collapsed": true
   },
   "outputs": [],
   "source": [
    "half_size = 100\n",
    "x1, x2 = (xnew-half_size, xnew+half_size)\n",
    "y1, y2 = (ynew-half_size, ynew+half_size)\n",
    "\n",
    "ref_sub = slope_ref[y1:y2, x1:x2] - med_ref\n",
    "im1_sub = slope_final1[y1:y2, x1:x2] - med1\n",
    "im2_sub = slope_final2[y1:y2, x1:x2] - med2\n",
    "\n",
    "# Scale factor for Roll 1\n",
    "scale1 = nrc_utils.scale_ref_image(im1_sub, ref_sub)\n",
    "\n",
    "# Scale factor for Roll 2\n",
    "scale2 = nrc_utils.scale_ref_image(im2_sub, ref_sub)"
   ]
  },
  {
   "cell_type": "code",
   "execution_count": 55,
   "metadata": {},
   "outputs": [
    {
     "name": "stdout",
     "output_type": "stream",
     "text": [
      "4.16421934524 4.16230191062\n"
     ]
    }
   ],
   "source": [
    "print(scale1, scale2)"
   ]
  },
  {
   "cell_type": "code",
   "execution_count": 73,
   "metadata": {
    "collapsed": true
   },
   "outputs": [],
   "source": [
    "mask_good = cmask>1e-2\n",
    "diff1 = nrc_utils.optimal_difference(slope_final1, slope_ref, scale1, mask_good=mask_good,\n",
    "                                     center=(xnew,ynew), std_func=pynrc.robust.medabsdev)\n",
    "diff2 = nrc_utils.optimal_difference(slope_final2, slope_ref, scale2, mask_good=mask_good,\n",
    "                                     center=(xnew,ynew), std_func=pynrc.robust.medabsdev)\n",
    "\n",
    "#diff1 = (slope_final1-med1) - (slope_ref-med_ref)*scale1\n",
    "#diff2 = (slope_final2-med2) - (slope_ref-med_ref)*scale1"
   ]
  },
  {
   "cell_type": "code",
   "execution_count": 74,
   "metadata": {
    "collapsed": true
   },
   "outputs": [],
   "source": [
    "from scipy.ndimage.interpolation import rotate\n",
    "def rotateImage(img, angle, pivot, trim=True):\n",
    "    padX = [img.shape[1] - pivot[0], pivot[0]]\n",
    "    padY = [img.shape[0] - pivot[1], pivot[1]]\n",
    "    imgP = np.pad(img, [padY, padX], 'constant')\n",
    "    imgR = rotate(imgP, angle, reshape=False, cval=np.nan)\n",
    "    if trim: imgR = imgR[padY[0] : -padY[1], padX[0] : -padX[1]]\n",
    "    \n",
    "    return imgR"
   ]
  },
  {
   "cell_type": "code",
   "execution_count": 75,
   "metadata": {
    "collapsed": true
   },
   "outputs": [],
   "source": [
    "# Convert back to V2/V3 coordinates\n",
    "diff1_v23 = nrc_utils.det_to_V2V3(diff1, detid)\n",
    "diff2_v23 = nrc_utils.det_to_V2V3(diff2, detid)\n",
    "cmask_v23 = nrc_utils.det_to_V2V3(cmask, detid)\n",
    "\n",
    "# De-rotate Roll2 onto Roll1 \n",
    "xnew_flip = xpix - xnew\n",
    "diff2_v23_rot = rotateImage(diff2_v23, roll_angle, (xnew_flip,ynew))\n",
    "# Follow along with the coronagraphic mask\n",
    "cmask_v23_rot = rotateImage(cmask_v23, roll_angle, (xnew_flip,ynew))"
   ]
  },
  {
   "cell_type": "code",
   "execution_count": 76,
   "metadata": {
    "collapsed": true
   },
   "outputs": [],
   "source": [
    "# Mask areas with low coronagraphic transmission\n",
    "# Cut-off at 0.5 to exclude aliasing of rotated mask\n",
    "mask_bad1 = cmask_v23 < 0.5\n",
    "mask_bad2 = cmask_v23_rot < 0.5\n",
    "\n",
    "diff2_v23_rot[mask_bad2 & (~mask_bad1)] = diff1_v23[mask_bad2 & (~mask_bad1)]\n",
    "diff1_v23[mask_bad1 & (~mask_bad2)] = diff2_v23_rot[mask_bad1 & (~mask_bad2)]"
   ]
  },
  {
   "cell_type": "code",
   "execution_count": 77,
   "metadata": {
    "collapsed": true
   },
   "outputs": [],
   "source": [
    "# Create a final image\n",
    "im_final = (diff1_v23 + diff2_v23_rot) / 2\n",
    "nan_mask = np.isnan(im_final)\n",
    "im_final[nan_mask] = diff1_v23[nan_mask]"
   ]
  },
  {
   "cell_type": "code",
   "execution_count": 78,
   "metadata": {
    "collapsed": true
   },
   "outputs": [],
   "source": [
    "# Shift to center, rotate North up, then cut out a subarray \n",
    "im_final_shift = nrc_utils.fshift(im_final, xpix/2-xnew_flip, ypix/2-ynew, pad=True)\n",
    "im_final_rot = rotate(im_final_shift, PA1, reshape=False)\n",
    "im_final_rot_sub = nrc_utils.pad_or_cut_to_size(im_final_rot, (800,800))"
   ]
  },
  {
   "cell_type": "code",
   "execution_count": 82,
   "metadata": {
    "scrolled": false
   },
   "outputs": [
    {
     "data": {
      "image/png": "[encoded data removed]",
      "text/plain": [
       "<matplotlib.figure.Figure at 0x12b7ddc90>"
      ]
     },
     "metadata": {},
     "output_type": "display_data"
    }
   ],
   "source": [
    "fig, ax = plt.subplots(1,1)\n",
    "\n",
    "ys, xs = im_final_rot_sub.shape\n",
    "extent = np.array([-xs/2,xs/2,-ys/2,ys/2])*obs.pix_scale\n",
    "\n",
    "ax.imshow(im_final_rot_sub, vmin=0, vmax=5, extent=extent)\n",
    "xylim = 5\n",
    "ax.set_xlim([-xylim,xylim])\n",
    "ax.set_ylim([-xylim,xylim])\n",
    "ax.set_xlabel('Arcsec')\n",
    "ax.set_ylabel('Arcsec')\n",
    "ax.set_title('{} - {}'.format(obs.sp_sci.name,obs.filter))\n",
    "\n",
    "ax.tick_params(axis='both', color='white', which='both')\n",
    "for k in ax.spines.keys():\n",
    "    ax.spines[k].set_color('white')\n",
    "\n",
    "# Location of planet\n",
    "loc = (np.array(obs.planets[0]['xyoff_pix'])+0.5) * obs.pix_scale\n",
    "circle = matplotlib.patches.Circle(loc, radius=xylim/15., lw=1, edgecolor='red', facecolor='none')\n",
    "ax.add_artist(circle);\n",
    "\n",
    "nrc_utils.plotAxes(ax, label1='E', label2='N')"
   ]
  },
  {
   "cell_type": "code",
   "execution_count": null,
   "metadata": {
    "collapsed": true
   },
   "outputs": [],
   "source": []
  },
  {
   "cell_type": "code",
   "execution_count": null,
   "metadata": {
    "collapsed": true
   },
   "outputs": [],
   "source": []
  }
 ],
 "metadata": {
  "anaconda-cloud": {},
  "kernelspec": {
   "display_name": "Python 3",
   "language": "python",
   "name": "python3"
  },
  "language_info": {
   "codemirror_mode": {
    "name": "ipython",
    "version": 3
   },
   "file_extension": ".py",
   "mimetype": "text/x-python",
   "name": "python",
   "nbconvert_exporter": "python",
   "pygments_lexer": "ipython3",
   "version": "3.6.1"
  }
 },
 "nbformat": 4,
 "nbformat_minor": 1
}
