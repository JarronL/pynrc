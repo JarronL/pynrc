{
 "cells": [
  {
   "cell_type": "code",
   "execution_count": 1,
   "metadata": {
    "collapsed": false
   },
   "outputs": [],
   "source": [
    "# Makes print and division act like Python 3\n",
    "from __future__ import print_function, division\n",
    "\n",
    "# Import the usual libraries\n",
    "import numpy as np\n",
    "import matplotlib\n",
    "import matplotlib.pyplot as plt\n",
    "\n",
    "# Enable inline plotting at lower left\n",
    "%matplotlib inline\n",
    "matplotlib.rcParams['image.origin'] = 'lower'\n",
    "matplotlib.rcParams['image.interpolation'] = 'none'\n",
    "\n",
    "# seaborn package for making pretty plots, but not necessary\n",
    "try:\n",
    "    import seaborn as sns\n",
    "    params =   {'xtick.direction': 'in', 'ytick.direction': 'in', 'font.family': ['serif'],\n",
    "                'text.usetex': True, 'text.latex.preamble': ['\\usepackage{gensymb}']}\n",
    "    sns.set_style(\"ticks\", params)\n",
    "except ImportError:\n",
    "    print('Seaborn module is not installed.')\n",
    "    \n",
    "from IPython.display import display, Latex, clear_output"
   ]
  },
  {
   "cell_type": "code",
   "execution_count": 2,
   "metadata": {
    "collapsed": false
   },
   "outputs": [],
   "source": [
    "import pynrc\n",
    "from pynrc import nrc_utils\n",
    "from pynrc.nrc_utils import (webbpsf, poppy, pix_noise, S)\n",
    "    \n",
    "import astropy.io.fits as fits\n",
    "#import multiprocessing as mp\n",
    "#import copy\n"
   ]
  },
  {
   "cell_type": "code",
   "execution_count": 3,
   "metadata": {
    "collapsed": false
   },
   "outputs": [],
   "source": [
    "import datetime\n",
    "\n",
    "def gen_obs(subsize=None):\n",
    "    for args_inst in args_list:\n",
    "        filt, mask, pupil = args_inst\n",
    "        print(args_inst)\n",
    "        \n",
    "        # Match filters with model\n",
    "        filt_switch = {'F182M':'F210M', 'F210M':'F210M', 'F250M':'F250M',\n",
    "                       'F300M':'F300M', 'F335M':'F360M', 'F444W':'F430M'}\n",
    "        filt_model = filt_switch.get(filt, filt)\n",
    "        fname = model_dir + source + '_' + filt_model + extname\n",
    "\n",
    "        bp = nrc_utils.read_filter(filt_model)\n",
    "        w0 = bp.avgwave() / 1e4\n",
    "\n",
    "        # Model pixel is 4x oversampled\n",
    "        detscale = (nrc_utils.channel_select(bp))[0]\n",
    "        model_scale = detscale / 4.\n",
    "\n",
    "        args_model = (fname, model_scale, dist, w0, 'Jy/pixel')\n",
    "        kwargs = {'dist_out': dist,}# 'offset_list': [0.0,1.0]}\n",
    "        if subsize is not None:\n",
    "            subsize = subsize\n",
    "        elif '210R' in mask:\n",
    "            subsize = 640\n",
    "        elif '335R' in mask:\n",
    "            subsize = 640\n",
    "        elif '430R' in mask:\n",
    "            subsize = 320\n",
    "        \n",
    "        m = 'none' if mask is None else mask\n",
    "        p = 'none' if pupil is None else pupil\n",
    "        key = '{}_{}_{}'.format(filt,m,p)\n",
    "        try: obs_old = obs_dict[key]\n",
    "        except: obs_old = None\n",
    "\n",
    "        obs = pynrc.observe_disk(args_inst, args_model, subsize=subsize, obs=obs_old, **kwargs)\n",
    "        \n",
    "        if 'HD106906' in source:\n",
    "            obs.add_planet(loc=(5,5), loc_units='asec', mass=10, age=10, Av=0, entropy=12)\n",
    "        \n",
    "        obs_dict[key] = obs\n",
    "        print('')\n",
    "\n",
    "def do_exp():\n",
    "    # Update detector integration times\n",
    "    if 'HD10647' in source:\n",
    "        args_210 = ('RAPID',10,43)\n",
    "        args_335 = ('RAPID', 10, 86)\n",
    "        args_430 = ('DEEP8', 10, 9)\n",
    "    elif 'HD107146' in source:\n",
    "        args_210 = ('BRIGHT2', 10, 44)\n",
    "        args_335 = ('SHALLOW4', 10, 18)\n",
    "        args_430 = ('SHALLOW4', 10, 18) #('DEEP8', 10, 18)\n",
    "    elif 'HD181327' in source:\n",
    "        args_210 = ('BRIGHT2', 10, 22)\n",
    "        args_335 = ('SHALLOW4', 10, 18)\n",
    "        args_430 = ('DEEP8', 10, 9)\n",
    "    elif 'HD61005' in source:\n",
    "        args_210 = ('BRIGHT2', 10, 22)\n",
    "        args_335 = ('SHALLOW4', 10, 18)\n",
    "        args_430 = ('DEEP8', 10, 9)\n",
    "    else:\n",
    "        args_210 = ('RAPID',10,43)\n",
    "        args_335 = ('MEDIUM8', 10, 18)\n",
    "        args_430 = ('DEEP8', 10, 9)\n",
    "    \n",
    "    for i, k in enumerate(filt_keys):\n",
    "        obs = obs_dict[k]\n",
    "        m='none' if obs.mask is None else obs.mask\n",
    "        print(k)\n",
    "        \n",
    "        if '210R' in m:\n",
    "            rm, ng, nint = args_210\n",
    "        elif '335R' in m:\n",
    "            rm, ng, nint = args_335\n",
    "        elif '430R' in m:\n",
    "            rm, ng, nint = args_430\n",
    "        else:\n",
    "            rm, ng, nint = ('RAPID',2,100)\n",
    "\n",
    "        v = True if i==0 else False\n",
    "        obs.update_detectors(ngroup=ng, nint=nint, read_mode=rm, verbose=v)\n",
    "        obs.obs_images(wfe_drift=10, verbose=True)\n",
    "        print('')\n",
    "        \n",
    "# Save final image and SNR to individual FITS files\n",
    "def save_fits():\n",
    "    # Create a series of HDULists for each filter\n",
    "    hdu_dict = {}\n",
    "    for k in filt_keys:\n",
    "        obs = obs_dict[k]\n",
    "        hdu_dict[k] = obs.obs_images(wfe_drift=wfe_drift, scaled=False, return_oversample=False, verbose=False)   \n",
    "\n",
    "    #keys_all = ['INSTRUME','FILTER','MODULE','CHANNEL','PIXELSCL','FOV',\n",
    "    #                'OFFSET','THETA','XOFFSET','YOFFSET','PUPILINT','PUPILOPD','DATE','AUTHOR']\n",
    "\n",
    "    for k in filt_keys:\n",
    "        obs = obs_dict[k]\n",
    "        hdulist = hdu_dict[k]\n",
    "        fout = source + '_' + obs.filter + extname\n",
    "\n",
    "        hdu = fits.PrimaryHDU(hdulist['FINAL'].data)\n",
    "        hdu.header = obs.Detectors[0].make_header(obs.filter, obs.pupil)\n",
    "        hdu.header['DATE'] = datetime.datetime.utcnow().isoformat()[:19]\n",
    "        hdu.header['BZERO'] = 0\n",
    "        hdu.header['UNITS'] = 'e-/sec'\n",
    "        hdu.header['FILENAME'] = fout\n",
    "        hdu.header['TARGNAME'] = source\n",
    "\n",
    "        hdulist2 = fits.HDUList([hdu])\n",
    "        hdu = fits.PrimaryHDU(hdulist['SNR'].data)\n",
    "        hdulist2.append(hdu)\n",
    "\n",
    "        outname = outdir + source + '_' + obs.filter + extname   \n",
    "        hdulist2.writeto(outname, clobber=True)\n",
    "        \n",
    "def gen_plots(save_fig=False):\n",
    "    # Save a series of HDULists for each filter\n",
    "    hdu_dict1 = {}\n",
    "    hdu_dict2 = {}\n",
    "    for k in filt_keys:\n",
    "        #print(k)\n",
    "        obs = obs_dict[k]\n",
    "        hdu_dict1[k] = obs.obs_images(wfe_drift=wfe_drift, scaled=False,  return_oversample=False, verbose=False)\n",
    "        hdu_dict2[k] = obs.obs_images(wfe_drift=wfe_drift, scaled=True, return_oversample=False, verbose=False)\n",
    "        \n",
    "    cmap = sns.cubehelix_palette(start=0, rot=0.5, light=1, as_cmap=True)\n",
    "    cmap = 'Greys'\n",
    "    #cmap2 = sns.cubehelix_palette(start=0.5, rot=-1.5, hue=0.8, gamma=1.0, as_cmap=True)\n",
    "    #cmap2 = sns.cubehelix_palette(start=2, rot=0, dark=0.1, light=.95, reverse=True,  as_cmap=True)\n",
    "    #cmap2 = sns.light_palette(\"purple\", as_cmap=True)\n",
    "\n",
    "    fsub = filt_keys #['F210M', 'F250M', 'F300M', 'F360M','F410M', 'F430M', 'F480M']\n",
    "    nfilt = len(fsub)\n",
    "    ext_list = ['MODEL', 'FINAL', 'FINAL', 'SNR']\n",
    "    ext_name = ['Model', 'Sim Image (linear scale)', 'Sim Image ($R^2$ scale)', 'S/N per Pixel']\n",
    "    nim = len(ext_list)\n",
    "\n",
    "    \n",
    "    fig, axes = plt.subplots(nfilt,nim,figsize=(13,2.6*nfilt))\n",
    "    for j,k in enumerate(fsub):\n",
    "        hdulist1 = hdu_dict1[k]\n",
    "        hdulist2 = hdu_dict2[k]\n",
    "        \n",
    "        rho = hdulist1['RHO'].data\n",
    "\n",
    "        cen_mask = hdulist1['CEN_MASK'].data\n",
    "        cen_mask = np.ma.masked_where(cen_mask < 1, cen_mask)\n",
    "\n",
    "        sat_mask = hdulist1['SAT_MASK'].data\n",
    "        sat_mask = np.ma.masked_where(sat_mask < 1, sat_mask)\n",
    "        \n",
    "        imcoron = 1.0 - hdulist1['CORON'].data\n",
    "        imcoron -= np.median(imcoron)\n",
    "        imc_mask = np.ma.masked_where(imcoron <= 0, imcoron)\n",
    "        for i,ext in enumerate(ext_list):\n",
    "            hdulist = hdulist2 if i==2 else hdulist1\n",
    "            ext_temp = 'DISK' if i==1 else ext\n",
    "\n",
    "            ax = axes[j][i]\n",
    "            data = hdulist[ext_temp].data\n",
    "            med = np.median(data)\n",
    "            std = nrc_utils.medabsdev(data)\n",
    "            vmin = 0 #med\n",
    "            vmax1 = (data[data>0].mean() + 10*data[data>0].std())\n",
    "            vmax1 = int(vmax1+0.5) if vmax1>1 else 1\n",
    "            vmax2 = data[(cen_mask==0) & (rho<fov_asec/2)].max()\n",
    "            if i<3: vmax2 *= 0.95\n",
    "            vmax2 = int(vmax2)+1 if vmax2>1 else 1\n",
    "            vmax = vmax2 #np.min([vmax1,vmax2])\n",
    "            #if i==3: vmax = 50\n",
    "\n",
    "            im,cbax = webbpsf.display_psf(hdulist, ext, scale='linear', vmin=vmin, vmax=vmax, \n",
    "                                   ax=ax, colorbar=True, cmap=cmap, return_ax=True)\n",
    "            cbax.set_label('')\n",
    "            ax.imshow(sat_mask, cmap='coolwarm', extent=im.axis(), vmin=-1, vmax=1, alpha=0.5)\n",
    "            ax.imshow(imc_mask, cmap='coolwarm_r', extent=im.axis(), vmin=-1, vmax=1, alpha=0.25)\n",
    "\n",
    "            ax.set_aspect('equal')\n",
    "            if i > 0: ax.set_yticklabels([])\n",
    "            if j < nfilt-1: ax.set_xticklabels([])\n",
    "\n",
    "            if i==0: ax.set_ylabel(hdulist[0].header['FILTER'])\n",
    "            if j==nfilt-1: ax.set_xlabel('Arcsec')\n",
    "            if j==0: ax.set_title(ext_name[i])\n",
    "            else: ax.set_title('')\n",
    "            \n",
    "            if 'HD106906' in source:\n",
    "                ax.set_xlim([-3,fov_asec/2])\n",
    "                ax.set_ylim([-3,fov_asec/2])\n",
    "            else:\n",
    "                ax.set_xlim([-fov_asec/2,fov_asec/2])\n",
    "                ax.set_ylim([-fov_asec/2,fov_asec/2])\n",
    "            \n",
    "            ax.minorticks_on()\n",
    "\n",
    "        #plt.colorbar(im.images[0], ax=axes[j][4], orientation='vertical')\n",
    "\n",
    "\n",
    "    fig.subplots_adjust(wspace=0.05, hspace=0.1, top=0.95, bottom=0.03 , left=0.05, right=0.97)\n",
    "    texp = obs_dict[filt_keys[0]].multiaccum_times['t_exp']\n",
    "    fig.suptitle('{} {} (t_exp = {:.0f} sec)'.format(source, extname, texp), fontsize=16);\n",
    "    if save_fig: fig.savefig(outdir+source+extname[:-5]+'.pdf')"
   ]
  },
  {
   "cell_type": "code",
   "execution_count": 4,
   "metadata": {
    "collapsed": true
   },
   "outputs": [],
   "source": [
    "import matplotlib.patches as patches\n",
    "def plot_contrast(key, nsig=5, age=10, entropy=10, xlim=None, ylim=None, ax=None, maglim=False):\n",
    "\n",
    "    wfe_list = [0,1,2,5,10]\n",
    "    \n",
    "    pal1 = (sns.color_palette(\"deep\", n_colors=5))[::-1]\n",
    "    pal2 = (sns.color_palette(\"dark\", n_colors=5))[::-1]\n",
    "    blues = (sns.color_palette(\"Blues_d\", n_colors=len(wfe_list)))[::-1]\n",
    "\n",
    "    # Conrast curves for varying WFE\n",
    "    #nsig=5\n",
    "    #age = 10\n",
    "    #entropy = 13\n",
    "    \n",
    "    entropy_switch = {13:'Hot', 8:'Cold'}\n",
    "    entropy_string = entropy_switch.get(entropy, lambda: \"Warm\")\n",
    "\n",
    "    obs = obs_dict[key] #key_keys[0]]\n",
    "    con_dict = {}\n",
    "    for wfe in wfe_list:\n",
    "        rr, con = obs.get_contrast(wfe_drift=wfe, maglim=maglim, nsig=nsig)\n",
    "        con_dict[wfe] = con\n",
    "\n",
    "    # Flux contrast for various planet masses with range of Av\n",
    "    mass_list = [10,5,2,1]\n",
    "    av_list = [0,25]\n",
    "    pcon = np.zeros([len(mass_list), len(av_list)])\n",
    "    for i,m in enumerate(mass_list):\n",
    "        for j,av in enumerate(av_list):\n",
    "            flux = obs.planet_flux(mass=m, age=age, Av=av, entropy=entropy, atmo='hy3s')\n",
    "            pcon[i,j] = flux/obs.hdu_image.max()\n",
    "            if maglim: pcon[i,j] = obs.star_flux('vegamag') - 2.5*np.log10(pcon[i,j])\n",
    "\n",
    "    if xlim is None:\n",
    "        xlim = [0,5.1]\n",
    "\n",
    "    # Plot all contrast curves\n",
    "    ax_plot = ax.plot if maglim else ax.semilogy\n",
    "    if ax is None: fig,ax = plt.subplots(1,1, figsize=(10, 5))\n",
    "    for i,wfe in enumerate(wfe_list[::-1]):\n",
    "        ax_plot(rr, con_dict[wfe], color=blues[i], \n",
    "                label='WFE Drift = {} nm'.format(wfe), zorder=1)\n",
    "        \n",
    "    print(con_dict[wfe].max())\n",
    "\n",
    "    # Plot the planet contrasts/magnitudes\n",
    "    for i,m in enumerate(mass_list):\n",
    "        label = 'Mass = {} '.format(m) + '$M_{\\mathrm{Jup}}$'\n",
    "        rect = patches.Rectangle((xlim[0], pcon[i,0]), xlim[1], pcon[i,1]-pcon[i,0], alpha=0.4,\n",
    "                                 color=pal1[i], label=label, zorder=2)\n",
    "        ax.add_patch(rect)\n",
    "        for j in range(len(av_list)):\n",
    "            ax.plot(xlim, [pcon[i,j]]*2, color=pal2[i], lw=1, alpha=0.5)\n",
    "    ax.legend(ncol=2)\n",
    "\n",
    "    if ylim is not None: ax.set_ylim(ylim)\n",
    "    ax.set_xlim(xlim)\n",
    "    ax.minorticks_on()\n",
    "\n",
    "    av_str = '$A_V = [{},{}]$'.format(av_list[0],av_list[1])\n",
    "    age_str = 'Age = {} Myr'.format(age)\n",
    "    dist_str = 'Distance = {} pc'.format(dist)\n",
    "    ent_str = entropy_string + ' Start' #Entropy = {}'.format(entropy)\n",
    "\n",
    "    ax.set_title('{}; {}; {}; {}; {}'.format(obs.filter,ent_str,age_str,dist_str,av_str))\n",
    "    #ax.set_ylabel('{}-sigma Contrast'.format(nsig))\n",
    "    #ax.set_xlabel('Separation (arcsec)')\n",
    "    \n",
    "    \n",
    "def gen_plots2(save_fig=False):\n",
    "    \n",
    "    fkeys_coron = filt_keys[0:3]\n",
    "    fkeys_coron = ['{}_{}_{}'.format('F444W', 'MASK335R', 'CIRCLYOT')]\n",
    "    nkey = len(fkeys_coron)\n",
    "    fig,axes = plt.subplots(nkey,2, figsize=(13,4.5*nkey))\n",
    "\n",
    "    entropy_list = [13,8]\n",
    "    nsig=5\n",
    "\n",
    "    xlim=[0,10.1]\n",
    "    ylim=[25,5] #[1e-7,1e-2]\n",
    "\n",
    "    for j,key in enumerate(fkeys_coron):\n",
    "\n",
    "        for i,ax in enumerate(axes):\n",
    "            plot_contrast(key, nsig=nsig, age=age, entropy=entropy_list[i], \n",
    "                          ax=ax, ylim=ylim, xlim=xlim, maglim=True)\n",
    "            ax.set_xlabel('Separation (arcsec)')\n",
    "            #if i==0: ax.set_ylabel('{}-sigma Contrast'.format(nsig))\n",
    "            if i==0: ax.set_ylabel('{}-sigma Sensitivites (mag)'.format(nsig))\n",
    "            if i>0: ax.set_yticklabels([])\n",
    "            if j<len(fkeys_coron)-1: ax.set_xlabel('')\n",
    "\n",
    "    fig.subplots_adjust(wspace=0.02, hspace=0.2, top=0.85,left=0.05, right=0.97)\n",
    "    texp = obs_dict[fkeys_coron[0]].multiaccum_times['t_exp']\n",
    "    fig.suptitle('{} Contrast (t_exp = {:.0f} sec)'.format(source,texp), fontsize=16);\n",
    "    \n",
    "    if save_fig: fig.savefig(outdir+source+extname[:-5]+'_contrast.pdf')"
   ]
  },
  {
   "cell_type": "code",
   "execution_count": 5,
   "metadata": {
    "collapsed": true
   },
   "outputs": [],
   "source": [
    "def do_all(save_fig=True):\n",
    "    clear_output()\n",
    "    \n",
    "    print(source, extname, dist, fov_asec)\n",
    "    gen_obs()\n",
    "    clear_output()\n",
    "    \n",
    "    print(source, extname, dist, fov_asec)\n",
    "    do_exp()\n",
    "    save_fits()\n",
    "    gen_plots(save_fig=save_fig)\n",
    "    gen_plots2(save_fig=save_fig)"
   ]
  },
  {
   "cell_type": "code",
   "execution_count": 6,
   "metadata": {
    "collapsed": false
   },
   "outputs": [],
   "source": [
    "base_dir = '/Volumes/NIRData/Andras_models/'\n",
    "pynrc.setup_logging('WARN', verbose=False)\n",
    "\n",
    "args_list = [('F210M', 'MASK335R', 'CIRCLYOT'),\n",
    "             ('F250M', 'MASK335R', 'CIRCLYOT'),\n",
    "             ('F300M', 'MASK335R', 'CIRCLYOT'),\n",
    "             ('F360M', 'MASK335R', 'CIRCLYOT'),\n",
    "             ('F410M', 'MASK430R', 'CIRCLYOT'),\n",
    "             ('F430M', 'MASK430R', 'CIRCLYOT'),\n",
    "             ('F480M', 'MASK430R', 'CIRCLYOT')]\n",
    "\n",
    "args_list = [('F210M', 'MASK210R', 'CIRCLYOT'),\n",
    "             ('F210M', 'MASK335R', 'CIRCLYOT'),\n",
    "             ('F300M', 'MASK335R', 'CIRCLYOT')]\n",
    "\n",
    "args_list = [('F182M', 'MASK335R', 'CIRCLYOT'),\n",
    "             ('F210M', 'MASK335R', 'CIRCLYOT'),\n",
    "             ('F250M', 'MASK335R', 'CIRCLYOT'),\n",
    "             ('F300M', 'MASK335R', 'CIRCLYOT'),\n",
    "             ('F335M', 'MASK335R', 'CIRCLYOT'),\n",
    "             ('F444W', 'MASK335R', 'CIRCLYOT')]\n",
    "\n",
    "wfe_drift = 10\n",
    "\n",
    "filt_keys = []\n",
    "for f,m,p in args_list:\n",
    "    if m is None: m = 'none'\n",
    "    if p is None: p = 'none'\n",
    "    filt_keys.append('{}_{}_{}'.format(f,m,p))\n",
    "\n",
    "obs_dict = {}"
   ]
  },
  {
   "cell_type": "code",
   "execution_count": 7,
   "metadata": {
    "collapsed": false
   },
   "outputs": [],
   "source": [
    "args_sources = [('HD10647',  17.43, 14, 1000),\n",
    "                ('HD107146', 27.50, 14,  150),\n",
    "                ('HD181327', 51.80,  8,   12),\n",
    "                ('HD61005',  34.50,  8,  100)]\n",
    "\n",
    "source, dist, fov_asec, age = args_sources[2]\n",
    "\n",
    "ext_names = ['sc.fits', 'sc2.fits', 'sc10.fits']\n",
    "\n",
    "model_dir = base_dir+source+'/'\n",
    "outdir  = '/Volumes/NIRData/Andras_obs/' + source + '/'"
   ]
  },
  {
   "cell_type": "code",
   "execution_count": 8,
   "metadata": {
    "collapsed": false,
    "scrolled": false
   },
   "outputs": [
    {
     "name": "stdout",
     "output_type": "stream",
     "text": [
      "('F182M', 'MASK335R', 'CIRCLYOT')\n",
      "Generating list of PSFs...\n",
      "Convolving image slices...\n",
      "Making reference PSF image...\n",
      "Finished.\n",
      "\n",
      "('F210M', 'MASK335R', 'CIRCLYOT')\n",
      "Generating list of PSFs...\n",
      "Convolving image slices...\n",
      "Making reference PSF image...\n",
      "Finished.\n",
      "\n",
      "('F250M', 'MASK335R', 'CIRCLYOT')\n",
      "Generating list of PSFs...\n",
      "Convolving image slices...\n",
      "Making reference PSF image...\n",
      "Finished.\n",
      "\n",
      "('F300M', 'MASK335R', 'CIRCLYOT')\n",
      "Generating list of PSFs...\n",
      "Convolving image slices...\n",
      "Making reference PSF image...\n",
      "Finished.\n",
      "\n",
      "('F335M', 'MASK335R', 'CIRCLYOT')\n",
      "Generating list of PSFs...\n",
      "Convolving image slices...\n",
      "Making reference PSF image...\n",
      "Finished.\n",
      "\n",
      "('F444W', 'MASK335R', 'CIRCLYOT')\n",
      "Generating list of PSFs...\n",
      "Convolving image slices...\n",
      "Making reference PSF image...\n",
      "Finished.\n",
      "\n",
      "CPU times: user 1min 5s, sys: 39.1 s, total: 1min 44s\n",
      "Wall time: 2min 46s\n"
     ]
    }
   ],
   "source": [
    "extname = ext_names[1]\n",
    "%time gen_obs()"
   ]
  },
  {
   "cell_type": "code",
   "execution_count": 41,
   "metadata": {
    "collapsed": false
   },
   "outputs": [],
   "source": [
    "#do_exp()"
   ]
  },
  {
   "cell_type": "code",
   "execution_count": 42,
   "metadata": {
    "collapsed": false
   },
   "outputs": [],
   "source": [
    "#save_fits()"
   ]
  },
  {
   "cell_type": "code",
   "execution_count": 43,
   "metadata": {
    "collapsed": false
   },
   "outputs": [],
   "source": [
    "#gen_plots()"
   ]
  },
  {
   "cell_type": "code",
   "execution_count": 44,
   "metadata": {
    "collapsed": false
   },
   "outputs": [],
   "source": [
    "#gen_plots2()"
   ]
  },
  {
   "cell_type": "code",
   "execution_count": 5,
   "metadata": {
    "collapsed": false
   },
   "outputs": [],
   "source": [
    "for (source, dist, fov_asec, age) in args_sources:\n",
    "    model_dir = base_dir+source+'/'\n",
    "    outdir  = '/Volumes/NIRData/Andras_obs/' + source + '/'\n",
    "\n",
    "    ext_names = ['sc.fits', 'sc2.fits', 'sc10.fits']\n",
    "    for extname in ext_names:\n",
    "        do_all()\n",
    "        plt.close()\n",
    "\n",
    "    clear_output()"
   ]
  },
  {
   "cell_type": "code",
   "execution_count": 15,
   "metadata": {
    "collapsed": false
   },
   "outputs": [],
   "source": [
    "#for hdu in hdulist: print(hdu.header['EXTNAME'])"
   ]
  },
  {
   "cell_type": "code",
   "execution_count": 44,
   "metadata": {
    "collapsed": false,
    "scrolled": true
   },
   "outputs": [
    {
     "data": {
      "image/png": "[encoded data removed]",
      "text/plain": [
       "<matplotlib.figure.Figure at 0x142f20bd0>"
      ]
     },
     "metadata": {},
     "output_type": "display_data"
    },
    {
     "data": {
      "image/png": "[encoded data removed]",
      "text/plain": [
       "<matplotlib.figure.Figure at 0x142f20890>"
      ]
     },
     "metadata": {},
     "output_type": "display_data"
    }
   ],
   "source": [
    "sns.palplot(sns.cubehelix_palette(8, start=0.5, rot=-1.5, hue=0.8, gamma=1.0))\n",
    "sns.palplot(sns.cubehelix_palette(8, start=0, rot=0.5, light=0.95))"
   ]
  },
  {
   "cell_type": "code",
   "execution_count": 60,
   "metadata": {
    "collapsed": true
   },
   "outputs": [
    {
     "name": "stdout",
     "output_type": "stream",
     "text": [
      "2 215 798.882821011 0.0865583046691\n",
      "4 108 1018.18741831 0.173116609338\n",
      "6 72 1066.38140563 0.259674914007\n",
      "8 54 1084.06042698 0.346233218676\n",
      "10 43 1089.88437532 0.432791523345\n",
      "12 36 1096.98253406 0.519349828014\n",
      "14 31 1102.29125235 0.605908132684\n",
      "16 27 1101.57264066 0.692466437353\n",
      "18 24 1102.81876885 0.779024742022\n",
      "20 22 1054.05862291 0.865583046691\n",
      "22 20 1023.72390561 0.95214135136\n",
      "24 18 974.709529921 1.03869965603\n",
      "26 17 943.343029978 1.1252579607\n",
      "28 15 879.475435125 1.21181626537\n",
      "2 842 1108.17514803 0.0497540472386\n",
      "4 421 1436.53612992 0.0995080944772\n",
      "6 281 1513.56055965 0.149262141716\n",
      "8 210 1539.20811224 0.199016188954\n",
      "10 168 1552.70110889 0.248770236193\n",
      "12 140 1560.1541182 0.298524283432\n",
      "14 120 1564.70097014 0.34827833067\n",
      "16 105 1567.67927991 0.398032377909\n",
      "18 94 1575.32242874 0.447786425148\n",
      "20 84 1571.21925762 0.497540472386\n",
      "22 77 1578.84779348 0.547294519625\n",
      "24 70 1573.16721829 0.597048566863\n",
      "26 65 1578.49597986 0.646802614102\n",
      "28 60 1574.35532454 0.696556661341\n"
     ]
    },
    {
     "data": {
      "text/plain": [
       "[<matplotlib.lines.Line2D at 0x147dd6610>]"
      ]
     },
     "execution_count": 60,
     "metadata": {},
     "output_type": "execute_result"
    },
    {
     "data": {
      "image/png": "[encoded data removed]",
      "text/plain": [
       "<matplotlib.figure.Figure at 0x106f699d0>"
      ]
     },
     "metadata": {},
     "output_type": "display_data"
    }
   ],
   "source": [
    "# Optimize SW SNR\n",
    "obs = obs_list[0]\n",
    "ng_list = np.arange(2,30,2)\n",
    "snr_list = []\n",
    "for ng in ng_list:\n",
    "    nint = 1\n",
    "    obs.update_detectors(ngroup=ng, nint=nint, verbose=False)\n",
    "    nint = np.int(np.round(1800 / obs.multiaccum_times['t_int']))\n",
    "    obs.update_detectors(ngroup=ng, nint=nint, verbose=False)\n",
    "    hdu = obs.obs_images(scaled=True, wfe_drift=5, return_oversample=False)\n",
    "    snr_list.append(hdu['SNR'].data.max())\n",
    "    print(ng, nint, hdu['SNR'].data.max(), hdu['SAT_LEVEL'].data.max())\n",
    "\n",
    "obs = obs_list[1]\n",
    "ng_list2 = np.arange(2,30,2)\n",
    "snr_list2 = []\n",
    "for ng in ng_list2:\n",
    "    nint = 1\n",
    "    obs.update_detectors(ngroup=ng, nint=nint, verbose=False)\n",
    "    nint = np.int(np.round(1800 / obs.multiaccum_times['t_int']))\n",
    "    obs.update_detectors(ngroup=ng, nint=nint, verbose=False)\n",
    "    hdu = obs.obs_images(scaled=True, wfe_drift=5, return_oversample=False)\n",
    "    snr_list2.append(hdu['SNR'].data.max())\n",
    "    print(ng, nint, hdu['SNR'].data.max(), hdu['SAT_LEVEL'].data.max())\n",
    "\n",
    "    \n",
    "plt.plot(ng_list, snr_list)\n",
    "plt.plot(ng_list2, snr_list2)"
   ]
  },
  {
   "cell_type": "code",
   "execution_count": null,
   "metadata": {
    "collapsed": true
   },
   "outputs": [],
   "source": []
  }
 ],
 "metadata": {
  "anaconda-cloud": {},
  "kernelspec": {
   "display_name": "Python [default]",
   "language": "python",
   "name": "python2"
  },
  "language_info": {
   "codemirror_mode": {
    "name": "ipython",
    "version": 2
   },
   "file_extension": ".py",
   "mimetype": "text/x-python",
   "name": "python",
   "nbconvert_exporter": "python",
   "pygments_lexer": "ipython2",
   "version": "2.7.12"
  }
 },
 "nbformat": 4,
 "nbformat_minor": 0
}
