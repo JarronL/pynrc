{
 "cells": [
  {
   "cell_type": "markdown",
   "id": "cultural-twist",
   "metadata": {},
   "source": [
    "# HR 8799 GTO 1194 \n",
    "\n",
    "This program will search for previously unknown planets using NIRCam in the F356W and F444W filters using the MASK430R for both filters.\n",
    "In addition, we will probe the physical characterization of the known planets, HR8789bcde, using multi-filter photometry with the LW Bar mask. \n",
    "The medium-band filters will be observed with a fiducial override to place the primary source on the narrow end of the occulting mask.\n",
    "The NIRCam observations will use two roll angles ($\\pm$5 deg) and a reference star to assist with suppression of residuals in the coronagraphic image.\n",
    "\n",
    "This notebook uses output from the APT file of PID 1194 to simulate the obsevations and save them to DMS-like FITS files (Level 1b data)."
   ]
  },
  {
   "cell_type": "code",
   "execution_count": 1,
   "id": "backed-disabled",
   "metadata": {},
   "outputs": [],
   "source": [
    "# Import the usual libraries\n",
    "import numpy as np\n",
    "import matplotlib\n",
    "import matplotlib.pyplot as plt\n",
    "#import matplotlib.patches as mpatches\n",
    "\n",
    "# Enable inline plotting\n",
    "%matplotlib inline\n",
    "\n",
    "# Progress bar\n",
    "from tqdm.auto import trange, tqdm"
   ]
  },
  {
   "cell_type": "code",
   "execution_count": 2,
   "id": "baking-council",
   "metadata": {},
   "outputs": [
    {
     "name": "stdout",
     "output_type": "stream",
     "text": [
      "pyNRC log messages of level WARN and above will be shown.\n",
      "pyNRC log outputs will be directed to the screen.\n"
     ]
    }
   ],
   "source": [
    "import pynrc\n",
    "from pynrc.simul.ngNRC import create_level1b_FITS\n",
    "\n",
    "# Disable informational messages and only include warnings and higher\n",
    "pynrc.setup_logging(level='WARN')"
   ]
  },
  {
   "cell_type": "code",
   "execution_count": 3,
   "id": "according-saskatchewan",
   "metadata": {},
   "outputs": [],
   "source": [
    "from astropy import units as u\n",
    "from astropy.coordinates import SkyCoord, Distance\n",
    "from astropy.time import Time\n",
    "from astropy.table import Table"
   ]
  },
  {
   "cell_type": "code",
   "execution_count": 4,
   "id": "entire-mississippi",
   "metadata": {},
   "outputs": [],
   "source": [
    "import os\n",
    "\n",
    "import pynrc\n",
    "from pynrc import nrc_utils\n",
    "from pynrc import nrc_utils, nircam_cal, DMS_input, DetectorOps\n",
    "from pynrc.simul.apt import get_detname\n",
    "from pynrc.simul.ngNRC import create_level1b_FITS\n",
    "\n",
    "pynrc.setup_logging('WARN', verbose=False)"
   ]
  },
  {
   "cell_type": "markdown",
   "id": "animated-bermuda",
   "metadata": {},
   "source": [
    "# APT Inputs\n",
    "\n",
    "From the final APT file, we need to export a number of files, including the `.timing.json`, `.smart_accounting`, `.pointing`, and `.xml` files. These are then parsed by `pynrc` to configure a series of observation visits and associated NIRCam objects."
   ]
  },
  {
   "cell_type": "code",
   "execution_count": 5,
   "id": "wired-experiment",
   "metadata": {},
   "outputs": [
    {
     "name": "stdout",
     "output_type": "stream",
     "text": [
      "APT_output/pid1194.timing.json True\n",
      "APT_output/pid1194.smart_accounting True\n",
      "APT_output/pid1194.pointing True\n",
      "APT_output/pid1194.xml True\n"
     ]
    }
   ],
   "source": [
    "import os\n",
    "\n",
    "# Read in APT\n",
    "pid = 1194\n",
    "pid_str = f'pid{pid:05d}'\n",
    "\n",
    "# save_dir = f'/Users/jarron/NIRCam/Data/NRC_Sims/Sim_{pid_str}/'\n",
    "save_dir = f'/data/NIRData/NRC_Sims/Sim_{pid_str}/'\n",
    "\n",
    "# APT input files\n",
    "apt_file_dir = 'APT_output/'\n",
    "fprefix = f'pid{pid}'\n",
    "json_file     = f'{apt_file_dir}{fprefix}.timing.json'\n",
    "sm_acct_file  = f'{apt_file_dir}{fprefix}.smart_accounting'\n",
    "pointing_file = f'{apt_file_dir}{fprefix}.pointing'\n",
    "xml_file      = f'{apt_file_dir}{fprefix}.xml'\n",
    "\n",
    "# Make sure files exist\n",
    "for f in [json_file, sm_acct_file, pointing_file, xml_file]:\n",
    "    print(f, os.path.isfile(f))"
   ]
  },
  {
   "cell_type": "markdown",
   "id": "grand-louisville",
   "metadata": {},
   "source": [
    "## Source Definitions\n",
    "\n",
    "We will utilize the `source_spectrum` class to generate a model fit to the known spectrophotometry. The user can find the relevant photometric data at http://vizier.u-strasbg.fr/vizier/sed/ and click download data as a VOTable.\n",
    "\n",
    "The output spectra will then be placed into a target dictionary to be ingested into the DMS simulator portion of pyNRC."
   ]
  },
  {
   "cell_type": "code",
   "execution_count": 6,
   "id": "behavioral-essex",
   "metadata": {},
   "outputs": [],
   "source": [
    "# Define 2MASS Ks bandpass and source information\n",
    "bp_k = pynrc.bp_2mass('k')\n",
    "\n",
    "# Science    source,  dist, age, sptype, Teff, [Fe/H], log_g, mag, band\n",
    "args_sci = ('HR 8799', 39.0, 30,  'F0V', 7430, -0.47, 4.35, 5.24, bp_k)\n",
    "\n",
    "# References  source,     sptype, Teff, [Fe/H], log_g, mag, band\n",
    "args_ref = ('HD 220657', 'F8III', 5888, -0.01, 3.22, 3.04, bp_k)\n",
    "\n",
    "# Directory housing VOTables \n",
    "# http://vizier.u-strasbg.fr/vizier/sed/\n",
    "votdir = 'votables/'"
   ]
  },
  {
   "cell_type": "code",
   "execution_count": 7,
   "id": "animated-history",
   "metadata": {},
   "outputs": [
    {
     "name": "stdout",
     "output_type": "stream",
     "text": [
      "[1.00382305]\n"
     ]
    }
   ],
   "source": [
    "# Fit spectrum to SED photometry\n",
    "name_sci, dist_sci, age, spt_sci, Teff_sci, feh_sci, logg_sci, mag_sci, bp_sci = args_sci\n",
    "vot = votdir + name_sci.replace(' ' ,'') + '.vot'\n",
    "\n",
    "args = (name_sci, spt_sci, mag_sci, bp_sci, vot)\n",
    "kwargs = {'Teff':Teff_sci, 'metallicity':feh_sci, 'log_g':logg_sci}\n",
    "src = pynrc.source_spectrum(*args, **kwargs)\n",
    "\n",
    "src.fit_SED(use_err=False, robust=False, wlim=[1,5])\n",
    "\n",
    "# Final source spectrum (pysynphot)\n",
    "sp_sci = src.sp_model"
   ]
  },
  {
   "cell_type": "code",
   "execution_count": 8,
   "id": "gorgeous-throw",
   "metadata": {},
   "outputs": [
    {
     "name": "stdout",
     "output_type": "stream",
     "text": [
      "[1.09536204]\n"
     ]
    }
   ],
   "source": [
    "# Do the same for the reference source\n",
    "name_ref, spt_ref, Teff_ref, feh_ref, logg_ref, mag_ref, bp_ref = args_ref\n",
    "vot = votdir + name_ref.replace(' ' ,'') + '.vot'\n",
    "\n",
    "args = (name_ref, spt_ref, mag_ref, bp_ref, vot)\n",
    "kwargs = {'Teff':Teff_ref, 'metallicity':feh_ref, 'log_g':logg_ref}\n",
    "ref = pynrc.source_spectrum(*args, **kwargs)\n",
    "\n",
    "ref.fit_SED(use_err=False, robust=False, wlim=[0.5,10])\n",
    "\n",
    "# Final reference spectrum (pysynphot)\n",
    "sp_ref = ref.sp_model"
   ]
  },
  {
   "cell_type": "code",
   "execution_count": 9,
   "id": "restricted-outside",
   "metadata": {},
   "outputs": [
    {
     "data": {
      "image/png": "[encoded data removed]",
      "text/plain": [
       "<Figure size 936x288 with 2 Axes>"
      ]
     },
     "metadata": {
      "needs_background": "light"
     },
     "output_type": "display_data"
    }
   ],
   "source": [
    "# Plot spectra \n",
    "fig, axes = plt.subplots(1,2, figsize=(13,4))\n",
    "src.plot_SED(xr=[0.3,10], ax=axes[0])\n",
    "ref.plot_SED(xr=[0.3,10], ax=axes[1])\n",
    "\n",
    "axes[0].set_title('Science Specta -- {} ({})'.format(src.name, spt_sci))\n",
    "axes[1].set_title('Refrence Specta -- {} ({})'.format(ref.name, spt_ref))\n",
    "\n",
    "fig.tight_layout()"
   ]
  },
  {
   "cell_type": "markdown",
   "id": "established-military",
   "metadata": {},
   "source": [
    "## Target Information\n",
    "\n",
    "For each target specified in the APT file, we want to populate a dictionary with coordinate information and astrophysical properties. The dictionary keys should match the APT \"Name in the Proposal\" so that \n",
    "\n",
    "For each designated target, there are four types of objects that can be added: stellar source, point source companions, disk object, and/or a table of point sources specifying magnitudes in NIRCam filters."
   ]
  },
  {
   "cell_type": "markdown",
   "id": "intellectual-orientation",
   "metadata": {},
   "source": [
    "1. Stellar source:\n",
    "``` python\n",
    "params_star = {\n",
    "    'sptype' : 'A0V', 'Teff': 10325, 'metallicity' : 0, 'log_g' : 4.09,\n",
    "    'v_mag' : 5.690, 'j_mag': 5.768, 'h_mag': 5.753, 'k_mag': 5.751,\n",
    "},\n",
    "```\n",
    "to generate a spectrum using `pynrc.stellar_spectrum` or add the parameter directly\n",
    "``` python\n",
    "    params_star = {'sp' : sp_star}\n",
    "```\n",
    "2. Companions (where `bp_renorm` is a `pysynphot` bandpass):\n",
    "``` python\n",
    "    params_hci_companions = {\n",
    "        'b' : {'xy':(-1.625,  0.564), 'runits':'arcsec', 'renorm_args':(16.0, 'vegamag', bp_renorm)},\n",
    "        'c' : {'xy':( 0.319,  0.886), 'runits':'arcsec', 'renorm_args':(15.0, 'vegamag', bp_renorm)},\n",
    "        'd' : {'xy':( 0.588, -0.384), 'runits':'arcsec', 'renorm_args':(14.6, 'vegamag', bp_renorm)},\n",
    "        'e' : {'xy':( 0.249,  0.294), 'runits':'arcsec', 'renorm_args':(14.7, 'vegamag', bp_renorm)},\n",
    "    }\n",
    "```\n",
    "See `obs_hci.add_planet()` function for more information and advanced functionality. \n",
    "3. Companion disk model:\n",
    "``` python\n",
    "    params_disk_model = {\n",
    "        'file': 'HD10647.fits',  # path to file\n",
    "        'wavelength': 3.0,       # model wavelength (um)\n",
    "        'pixscale': 0.01575,     # input image arcsec/pixel\n",
    "        'units': 'Jy/pixel',     # model flux units (e.g., mJy/arcsec, Jy/pixel, etc)\n",
    "        'dist': 17.34,           # assumed distance to model (pc)\n",
    "        'cen_star': True,        # does the model include stellar flux?\n",
    "    }\n",
    "```\n",
    "4. Table of stellar sources:\n",
    "``` python\n",
    "    from astropy.io import ascii\n",
    "    \n",
    "    cat_file = 'lmc_catalog.cat'\n",
    "    names = [\n",
    "        'index', 'ra', 'dec', 'F070W', 'F090W', 'F115W', 'F140M', 'F150W', 'F150W2',\n",
    "        'F162M', 'F164N', 'F182M', 'F187N', 'F200W', 'F210M', 'F212N', 'F250M', 'F277W', \n",
    "        'F300M','F322W2', 'F323N', 'F335M', 'F356W', 'F360M', 'F405N', 'F410M', 'F430M', \n",
    "        'F444W', 'F460M', 'F466N', 'F470N', 'F480M'\n",
    "    ]\n",
    "\n",
    "    src_tbl = ascii.read(cat_file, names=names)\n",
    "```"
   ]
  },
  {
   "cell_type": "code",
   "execution_count": 10,
   "id": "738156e4",
   "metadata": {},
   "outputs": [],
   "source": [
    "def make_source_table(coords, remove_cen_star=True):\n",
    "    from astroquery.simbad import Simbad\n",
    "    from astropy.table import Table\n",
    "\n",
    "    from pynrc import stellar_spectrum, read_filter\n",
    "    from pynrc.nrc_utils import S\n",
    "\n",
    "    sim_obj = Simbad()\n",
    "    \n",
    "    sim_obj.reset_votable_fields()\n",
    "    sim_obj.remove_votable_fields('coordinates')\n",
    "    sim_obj.add_votable_fields('ra(d;ICRS)', 'dec(d;ICRS)', 'flux(K)', 'sp', 'otype(V)', 'distance_result')\n",
    "    \n",
    "    # coords = targ_dict['HR8799']['sky_coords']\n",
    "    sim_tbl = sim_obj.query_region(coords, radius=6*u.arcmin)\n",
    "\n",
    "    # Remove non-stellar sources and \n",
    "    ind_star = np.array(['Star' in val for val in sim_tbl['OTYPE_V'].value.data])\n",
    "    ind_nok = sim_tbl['FLUX_K'].value.mask\n",
    "    if remove_cen_star:\n",
    "        ind_dist  = (sim_tbl['DISTANCE_RESULT'] < 0.1).data\n",
    "        ind_remove = np.where((~ind_star) | ind_nok | ind_dist)\n",
    "    else:\n",
    "        ind_remove = np.where(ind_nok | ind_dist)\n",
    "    sim_tbl.remove_rows(ind_remove)\n",
    "    \n",
    "    # Create new source table\n",
    "    index = np.arange(len(sim_tbl)) + 1\n",
    "    ra = sim_tbl['RA_d_ICRS']\n",
    "    dec = sim_tbl['DEC_d_ICRS']\n",
    "    kmag = sim_tbl['FLUX_K']\n",
    "    src_tbl = Table([index, ra, dec, kmag], names=('index', 'ra', 'dec', 'K-Band'))\n",
    "\n",
    "    filts = [\n",
    "        'F070W', 'F090W', 'F115W', 'F140M', 'F150W', 'F150W2',\n",
    "        'F162M', 'F164N', 'F182M', 'F187N', 'F200W', 'F210M', 'F212N', 'F250M', 'F277W', \n",
    "        'F300M','F322W2', 'F323N', 'F335M', 'F356W', 'F360M', 'F405N', 'F410M', 'F430M', \n",
    "        'F444W', 'F460M', 'F466N', 'F470N', 'F480M'\n",
    "     ]\n",
    "\n",
    "    bp_k = pynrc.bp_2mass('k')\n",
    "    for f in filts:\n",
    "        bp1 = pynrc.read_filter(f)\n",
    "        if bp1.avgwave() < 24000: # SW\n",
    "            bp = read_filter(f, pupil='CIRCLYOT', mask='MASK210R')\n",
    "        else: # LW\n",
    "            bp = read_filter(f, pupil='CIRCLYOT', mask='MASK430R')\n",
    "\n",
    "        coldata = []\n",
    "        for row in sim_tbl:\n",
    "            sptype = 'G2V' if row['SP_TYPE']=='' else row['SP_TYPE']\n",
    "            sptype = sptype.split('+')[0]\n",
    "            sptype = sptype + 'V' if len(sptype)==2 else sptype\n",
    "            kmag = row['FLUX_K']\n",
    "            sp = stellar_spectrum(sptype, kmag, 'vegamag', bp_k)\n",
    "            obs = S.Observation(sp, bp, binset=bp.wave)\n",
    "            coldata.append(obs.effstim('vegamag'))\n",
    "\n",
    "        src_tbl.add_column(np.array(coldata), name=f)\n",
    "        src_tbl[f].unit = 'mag'\n",
    "        \n",
    "    return src_tbl"
   ]
  },
  {
   "cell_type": "code",
   "execution_count": 11,
   "id": "falling-woman",
   "metadata": {},
   "outputs": [],
   "source": [
    "# Initialize target dictionary\n",
    "targ_dict = {}\n",
    "\n",
    "# Bandpass corresponding to companion renormalization flux\n",
    "bp_pl_norm = pynrc.read_filter('F430M')\n",
    "\n",
    "# Dictionary keywords should match APT target names\n",
    "targ_dict['HR8799'] = {\n",
    "    'type' : 'FixedTargetType',\n",
    "    'TargetName' : 'HR8799', 'TargetArchiveName' : 'HR8799',\n",
    "    'EquatorialCoordinates' : \"23 07 28.7155 +21 08 3.30\",\n",
    "    'RAProperMotion'  : 108.551*u.mas/u.yr, \n",
    "    'DecProperMotion' : -49.639*u.mas/u.yr, \n",
    "    'parallax' : 24.76*u.mas, 'age_Myr' : 30,\n",
    "    'params_star' : {'sp' : sp_sci},\n",
    "    'params_companions' : {\n",
    "        'b' : {'xy':(-1.625,  0.564), 'runits':'arcsec', 'mass':10,\n",
    "               'renorm_args':(16.0, 'vegamag', bp_pl_norm)\n",
    "              },\n",
    "        'c' : {'xy':( 0.319,  0.886), 'runits':'arcsec', 'mass':10, \n",
    "               'renorm_args':(15.0, 'vegamag', bp_pl_norm)\n",
    "              },\n",
    "        'd' : {'xy':( 0.588, -0.384), 'runits':'arcsec', 'mass':10, \n",
    "               'renorm_args':(14.6, 'vegamag', bp_pl_norm)\n",
    "              },\n",
    "        'e' : {'xy':( 0.249,  0.294), 'runits':'arcsec', 'mass':10, \n",
    "               'renorm_args':(14.7, 'vegamag', bp_pl_norm)\n",
    "              },\n",
    "    },\n",
    "    'params_disk_model' : None,\n",
    "    'src_tbl' : None,\n",
    "}"
   ]
  },
  {
   "cell_type": "code",
   "execution_count": 12,
   "id": "direct-container",
   "metadata": {},
   "outputs": [],
   "source": [
    "# Reference source\n",
    "targ_dict['HD220657'] = {\n",
    "    'type' : 'FixedTargetType',\n",
    "    'TargetName' : 'HD220657', 'TargetArchiveName' : 'ups Peg',\n",
    "    'EquatorialCoordinates' : \"23 25 22.7835 +23 24 14.76\",\n",
    "    'RAProperMotion'  : 192.19*u.mas/u.yr, \n",
    "    'DecProperMotion' : 36.12*u.mas/u.yr, \n",
    "    'parallax' : 19.14*u.mas, 'age_Myr' : None,\n",
    "    'params_star' : {'sp' : sp_ref},\n",
    "    'params_companions' : None,\n",
    "    'params_disk_model' : None,\n",
    "    'src_tbl' : None,\n",
    "}"
   ]
  },
  {
   "cell_type": "code",
   "execution_count": 13,
   "id": "honey-tsunami",
   "metadata": {},
   "outputs": [],
   "source": [
    "# Populate coordinates and calculate distance from parallax info\n",
    "for k in targ_dict.keys():\n",
    "    d = targ_dict[k]\n",
    "    dist = Distance(parallax=d['parallax']) if d['parallax'] is not None else None\n",
    "    c = SkyCoord(d['EquatorialCoordinates'], frame='icrs', unit=(u.hourangle, u.deg),\n",
    "                 pm_ra_cosdec=d['RAProperMotion'], pm_dec=d['DecProperMotion'],\n",
    "                 distance=dist, obstime='J2000')\n",
    "    d['sky_coords'] = c\n",
    "    d['ra_J2000'], d['dec_J2000'] = (c.ra.deg, c.dec.deg)\n",
    "    d['dist_pc'] = c.distance.value if dist is not None else None\n",
    "    \n",
    "    src_tbl = make_source_table(c)\n",
    "    d['src_tbl'] = src_tbl if len(src_tbl)>0 else None"
   ]
  },
  {
   "cell_type": "markdown",
   "id": "exact-swing",
   "metadata": {},
   "source": [
    "# Create Observation Parameters\n",
    "\n",
    "These will used for input into the data ramp simulator and directly correspond to parameters for DMS FITS creation to ingest into the JWST pipeline"
   ]
  },
  {
   "cell_type": "code",
   "execution_count": 14,
   "id": "physical-rachel",
   "metadata": {},
   "outputs": [],
   "source": [
    "sim_config = {\n",
    "    # APT input files\n",
    "    'json_file'     : json_file,\n",
    "    'sm_acct_file'  : sm_acct_file,\n",
    "    'pointing_file' : pointing_file,\n",
    "    'xml_file'      : xml_file,\n",
    "    # Output directory\n",
    "    'save_dir'      : save_dir,\n",
    "    \n",
    "    # Initialize random seeds if repeatability is required\n",
    "    # Create separate random number generators for dithers and noise\n",
    "    'rand_seed_init'  : 1234,\n",
    "    \n",
    "    # Date and time of observations\n",
    "    'obs_date' : '2022-11-04', \n",
    "    'obs_time' : '12:00:00',\n",
    "    # Position angle of observatory\n",
    "    # User should check acceptable range in APT's Roll Analysis\n",
    "    'pa_v3'    : 90.0,\n",
    "    \n",
    "    # Source information\n",
    "    'params_targets' : targ_dict,\n",
    "    \n",
    "    # PSF size information for WebbPSF_ext\n",
    "    'params_webbpsf' : {'fov_pix': None, 'oversample': 2},\n",
    "    # Position-dependent PSFs for convolution\n",
    "    'params_psfconv' : {'npsf_per_full_fov': 9, 'osamp': 1, 'sptype': 'G0V'},\n",
    "    # Wavefront error drift settings\n",
    "    'params_wfedrift' : {'case': 'BOL', 'slew_init': 10, 'plot': False, 'figname': None},\n",
    "    # For coronagraphic masks, sample large grid of points?\n",
    "    'large_grid' : True,\n",
    "    \n",
    "    # Slew and dither pointing uncertainties\n",
    "    'large_slew' : 100.0,   # Slew to target (mas)\n",
    "    'ta_sam'     : 5.0,     # SAM movements from TA position (mas)\n",
    "    'std_sam'    : 5.0,     # Standard dither values (mas)\n",
    "    'sgd_sam'    : 2.5,     # Small grid dithers (mas)\n",
    "    \n",
    "    # Type of image files to save; can be supplied directly\n",
    "    'save_slope' : False,  # Save ideal noiseless slope images to FITS\n",
    "    'save_dms'   : False,  # Save DMS-like ramps to FITS\n",
    "    'dry_run'    : False,  # Perform a dry-run, not generating any data, just printing visit info\n",
    "    \n",
    "    # Noise components to include in full DMS output\n",
    "    'params_noise' : {\n",
    "        'include_poisson'   : True,     # Photon Noise\n",
    "        'include_dark'      : True,     # Dark current\n",
    "        'include_bias'      : True,     # Bias image offset\n",
    "        'include_ktc'       : True,     # kTC Noise\n",
    "        'include_rn'        : True,     # Read Noise\n",
    "        'include_cpink'     : True,     # Correlated 1/f noise between channel\n",
    "        'include_upink'     : True,     # Channel-dependent 1/f noise\n",
    "        'include_acn'       : True,     # Alternating column noise\n",
    "        'apply_ipc'         : True,     # Interpixel capacitance\n",
    "        'apply_ppc'         : True,     # Post-pixel coupling\n",
    "        'amp_crosstalk'     : True,     # Amplifier crosstalk\n",
    "        'include_refoffsets': True,     # Reference offsets\n",
    "        'include_refinst'   : True,     # Reference pixel instabilities\n",
    "        'include_colnoise'  : True,     # Transient detector column noise\n",
    "        'add_crs'           : True,     # Include cosmic ray\n",
    "        'cr_model'          : 'SUNMAX', # Cosmic ray model ('SUNMAX', 'SUNMIN', or 'FLARES')\n",
    "        'cr_scale'          : 1,        # Cosmic ray probabilities scaling\n",
    "        'apply_nonlinearity': True,     # Apply non-linearity\n",
    "        'random_nonlin'     : True,     # Add randomness to non-linearity\n",
    "        'apply_flats'       : True,     # pixel-to-pixel QE variations and field-dep illum\n",
    "    },\n",
    "}"
   ]
  },
  {
   "cell_type": "markdown",
   "id": "precise-presentation",
   "metadata": {},
   "source": [
    "## Perform simulations of observations"
   ]
  },
  {
   "cell_type": "code",
   "execution_count": 15,
   "id": "honest-mouth",
   "metadata": {},
   "outputs": [
    {
     "data": {
      "application/vnd.jupyter.widget-view+json": {
       "model_id": "",
       "version_major": 2,
       "version_minor": 0
      },
      "text/plain": [
       "Obs Params:   0%|          | 0/70 [00:00<?, ?it/s]"
      ]
     },
     "metadata": {},
     "output_type": "display_data"
    },
    {
     "data": {
      "application/vnd.jupyter.widget-view+json": {
       "model_id": "",
       "version_major": 2,
       "version_minor": 0
      },
      "text/plain": [
       "Exposures:   0%|          | 0/5 [00:00<?, ?it/s]"
      ]
     },
     "metadata": {},
     "output_type": "display_data"
    },
    {
     "name": "stdout",
     "output_type": "stream",
     "text": [
      "NRCA5 NRCA5_FULL_MASK430R F335M HR8799 001:001 03104 1 (+0.003, -0.005) 2.02 2915\n"
     ]
    },
    {
     "data": {
      "application/vnd.jupyter.widget-view+json": {
       "model_id": "",
       "version_major": 2,
       "version_minor": 0
      },
      "text/plain": [
       "Exposures:   0%|          | 0/5 [00:00<?, ?it/s]"
      ]
     },
     "metadata": {},
     "output_type": "display_data"
    },
    {
     "name": "stdout",
     "output_type": "stream",
     "text": [
      "NRCA5 NRCA5_FULL_TAMASK430R F335M HR8799 001:001 03102 1 (+0.020, -0.017) 2.40 2720\n"
     ]
    },
    {
     "data": {
      "application/vnd.jupyter.widget-view+json": {
       "model_id": "",
       "version_major": 2,
       "version_minor": 0
      },
      "text/plain": [
       "Exposures:   0%|          | 0/5 [00:00<?, ?it/s]"
      ]
     },
     "metadata": {},
     "output_type": "display_data"
    },
    {
     "name": "stdout",
     "output_type": "stream",
     "text": [
      "NRCA5 NRCA5_MASK430R F356W HR8799 001:001 03106 1 (+0.003, -0.005) 2.12 3107\n"
     ]
    },
    {
     "data": {
      "application/vnd.jupyter.widget-view+json": {
       "model_id": "",
       "version_major": 2,
       "version_minor": 0
      },
      "text/plain": [
       "Exposures:   0%|          | 0/5 [00:00<?, ?it/s]"
      ]
     },
     "metadata": {},
     "output_type": "display_data"
    },
    {
     "name": "stdout",
     "output_type": "stream",
     "text": [
      "NRCA5 NRCA5_MASK430R F444W HR8799 001:001 03107 1 (+0.003, -0.005) 1.91 3711\n"
     ]
    },
    {
     "data": {
      "application/vnd.jupyter.widget-view+json": {
       "model_id": "",
       "version_major": 2,
       "version_minor": 0
      },
      "text/plain": [
       "Exposures:   0%|          | 0/5 [00:00<?, ?it/s]"
      ]
     },
     "metadata": {},
     "output_type": "display_data"
    },
    {
     "name": "stdout",
     "output_type": "stream",
     "text": [
      "NRCA5 NRCA5_TAMASK430R F335M HR8799 001:001 02102 1 (+0.020, -0.017) 1.88 2536\n"
     ]
    }
   ],
   "source": [
    "# Generate level1b FITS files from program\n",
    "# To save only a subset of observations, use a variety of combination of\n",
    "# visit_id, apname, filter, and detname keywords\n",
    "create_level1b_FITS(sim_config, dry_run=True, save_dms=False, visit_id='001:001')"
   ]
  },
  {
   "cell_type": "code",
   "execution_count": 16,
   "id": "focal-spectrum",
   "metadata": {
    "scrolled": false
   },
   "outputs": [
    {
     "data": {
      "application/vnd.jupyter.widget-view+json": {
       "model_id": "",
       "version_major": 2,
       "version_minor": 0
      },
      "text/plain": [
       "Obs Params:   0%|          | 0/70 [00:00<?, ?it/s]"
      ]
     },
     "metadata": {},
     "output_type": "display_data"
    },
    {
     "name": "stdout",
     "output_type": "stream",
     "text": [
      "NRCA5_FULL_MASK430R F335M\n"
     ]
    },
    {
     "data": {
      "application/vnd.jupyter.widget-view+json": {
       "model_id": "fb03f6db585549599275578ab76d3610",
       "version_major": 2,
       "version_minor": 0
      },
      "text/plain": [
       "Exposures:   0%|          | 0/5 [00:00<?, ?it/s]"
      ]
     },
     "metadata": {},
     "output_type": "display_data"
    },
    {
     "name": "stdout",
     "output_type": "stream",
     "text": [
      "{'wfe_drift': 2.021152445566374, 'osamp': 1}\n",
      "SIMPLE  =                    T / conforms to FITS standard                      BITPIX  =                  -64 / array data type                                NAXIS   =                    2 / number of array dimensions                     NAXIS1  =                 2312                                                  NAXIS2  =                 2209                                                  PIXELSCL=                0.063                                                  OSAMP   =                    1                                                  INSTRUME= 'NIRCam  '                                                            APERNAME= 'NRCA5_FULL_MASK430R'                                                 XIND_REF=                 1134 / x index of aperture reference                  YIND_REF=                 1834 / y index of aperture reference                  XSCI0   =               -160.5 / xsci value at (x,y)=(0,0) corner               YSCI0   =               -160.5 / ysci value at (x,y)=(0,0) corner               CFRAME  = 'sci     '                                                            END                                                                                                                                                                                                                                                                                                                                                                                                                                                                                                                                                                                                                                                                                                                                                                                                                                                                                                                                                                                                                                                                                                                                                                                                                                                                                                                                                                                                                                                                                                                                                                                                                                                                                                                                                                                                                             \n"
     ]
    },
    {
     "ename": "ValueError",
     "evalue": "operands could not be broadcast together with shapes (2209,2312) (4096,4096) ",
     "output_type": "error",
     "traceback": [
      "\u001b[0;31m---------------------------------------------------------------------------\u001b[0m",
      "\u001b[0;31mValueError\u001b[0m                                Traceback (most recent call last)",
      "\u001b[0;32m/tmp/ipykernel_84034/711618222.py\u001b[0m in \u001b[0;36m<module>\u001b[0;34m\u001b[0m\n\u001b[1;32m      2\u001b[0m \u001b[0;31m# To save only a subset of observations, use a variety of combination of\u001b[0m\u001b[0;34m\u001b[0m\u001b[0;34m\u001b[0m\u001b[0;34m\u001b[0m\u001b[0m\n\u001b[1;32m      3\u001b[0m \u001b[0;31m# visit_id, apname, filter, and detname keywords\u001b[0m\u001b[0;34m\u001b[0m\u001b[0;34m\u001b[0m\u001b[0;34m\u001b[0m\u001b[0m\n\u001b[0;32m----> 4\u001b[0;31m \u001b[0mcreate_level1b_FITS\u001b[0m\u001b[0;34m(\u001b[0m\u001b[0msim_config\u001b[0m\u001b[0;34m,\u001b[0m \u001b[0msave_slope\u001b[0m\u001b[0;34m=\u001b[0m\u001b[0;32mTrue\u001b[0m\u001b[0;34m,\u001b[0m \u001b[0msave_dms\u001b[0m\u001b[0;34m=\u001b[0m\u001b[0;32mFalse\u001b[0m\u001b[0;34m,\u001b[0m \u001b[0mvisit_id\u001b[0m\u001b[0;34m=\u001b[0m\u001b[0;34m'001:001'\u001b[0m\u001b[0;34m)\u001b[0m\u001b[0;34m\u001b[0m\u001b[0;34m\u001b[0m\u001b[0m\n\u001b[0m",
      "\u001b[0;32m~/GitHub/pynrc/pynrc/simul/ngNRC.py\u001b[0m in \u001b[0;36mcreate_level1b_FITS\u001b[0;34m(sim_config, detname, apname, filter, visit_id, dry_run, save_slope, save_dms)\u001b[0m\n\u001b[1;32m    528\u001b[0m                             \u001b[0;31m# Create slope image from table\u001b[0m\u001b[0;34m\u001b[0m\u001b[0;34m\u001b[0m\u001b[0;34m\u001b[0m\u001b[0m\n\u001b[1;32m    529\u001b[0m                             \u001b[0mhdul_psfs\u001b[0m \u001b[0;34m=\u001b[0m \u001b[0;32mNone\u001b[0m \u001b[0;32mif\u001b[0m \u001b[0mwfe_drift_exp\u001b[0m \u001b[0;32mis\u001b[0m \u001b[0;32mnot\u001b[0m \u001b[0;32mNone\u001b[0m \u001b[0;32melse\u001b[0m \u001b[0mhdul_psfs\u001b[0m\u001b[0;34m\u001b[0m\u001b[0;34m\u001b[0m\u001b[0m\n\u001b[0;32m--> 530\u001b[0;31m                             im_slope += sources_to_slope(src_tbl, nrc, obs_params, tel_pointing,\n\u001b[0m\u001b[1;32m    531\u001b[0m                                                          \u001b[0mhdul_psfs\u001b[0m\u001b[0;34m=\u001b[0m\u001b[0mhdul_psfs\u001b[0m\u001b[0;34m,\u001b[0m \u001b[0mim_bg\u001b[0m\u001b[0;34m=\u001b[0m\u001b[0;36m0\u001b[0m\u001b[0;34m,\u001b[0m\u001b[0;34m\u001b[0m\u001b[0;34m\u001b[0m\u001b[0m\n\u001b[1;32m    532\u001b[0m                                                          wfe_drift=wfe_drift_exp)\n",
      "\u001b[0;32m~/GitHub/pynrc/pynrc/simul/ngNRC.py\u001b[0m in \u001b[0;36msources_to_slope\u001b[0;34m(source_table, nircam_obj, obs_params, tel_pointing, hdul_psfs, im_bg, cframe_out, **kwargs)\u001b[0m\n\u001b[1;32m    790\u001b[0m         \u001b[0mhdul_sci_image_off\u001b[0m \u001b[0;34m=\u001b[0m \u001b[0mdeepcopy\u001b[0m\u001b[0;34m(\u001b[0m\u001b[0mhdul_sci_image\u001b[0m\u001b[0;34m)\u001b[0m\u001b[0;34m\u001b[0m\u001b[0;34m\u001b[0m\u001b[0m\n\u001b[1;32m    791\u001b[0m         \u001b[0mprint\u001b[0m\u001b[0;34m(\u001b[0m\u001b[0mhdul_sci_image_off\u001b[0m\u001b[0;34m[\u001b[0m\u001b[0;36m0\u001b[0m\u001b[0;34m]\u001b[0m\u001b[0;34m.\u001b[0m\u001b[0mheader\u001b[0m\u001b[0;34m)\u001b[0m\u001b[0;34m\u001b[0m\u001b[0;34m\u001b[0m\u001b[0m\n\u001b[0;32m--> 792\u001b[0;31m         \u001b[0mhdul_sci_image_off\u001b[0m\u001b[0;34m[\u001b[0m\u001b[0;36m0\u001b[0m\u001b[0;34m]\u001b[0m\u001b[0;34m.\u001b[0m\u001b[0mdata\u001b[0m \u001b[0;34m=\u001b[0m \u001b[0mhdul_sci_image_off\u001b[0m\u001b[0;34m[\u001b[0m\u001b[0;36m0\u001b[0m\u001b[0;34m]\u001b[0m\u001b[0;34m.\u001b[0m\u001b[0mdata\u001b[0m \u001b[0;34m*\u001b[0m \u001b[0mtrans\u001b[0m\u001b[0;34m\u001b[0m\u001b[0;34m\u001b[0m\u001b[0m\n\u001b[0m\u001b[1;32m    793\u001b[0m         psf_off = nrc.calc_psf_from_coeff(return_oversample=True, return_hdul=True,  \n\u001b[1;32m    794\u001b[0m                                           \u001b[0mcoord_vals\u001b[0m\u001b[0;34m=\u001b[0m\u001b[0;34m(\u001b[0m\u001b[0;36m10\u001b[0m\u001b[0;34m,\u001b[0m\u001b[0;36m10\u001b[0m\u001b[0;34m)\u001b[0m\u001b[0;34m,\u001b[0m \u001b[0mcoord_frame\u001b[0m\u001b[0;34m=\u001b[0m\u001b[0;34m'idl'\u001b[0m\u001b[0;34m,\u001b[0m\u001b[0;34m\u001b[0m\u001b[0;34m\u001b[0m\u001b[0m\n",
      "\u001b[0;31mValueError\u001b[0m: operands could not be broadcast together with shapes (2209,2312) (4096,4096) "
     ]
    }
   ],
   "source": [
    "# Generate level1b FITS files from program\n",
    "# To save only a subset of observations, use a variety of combination of\n",
    "# visit_id, apname, filter, and detname keywords\n",
    "create_level1b_FITS(sim_config, save_slope=True, save_dms=False, visit_id='001:001')"
   ]
  },
  {
   "cell_type": "code",
   "execution_count": null,
   "id": "overall-manchester",
   "metadata": {},
   "outputs": [],
   "source": []
  },
  {
   "cell_type": "code",
   "execution_count": null,
   "id": "educated-metro",
   "metadata": {},
   "outputs": [],
   "source": [
    "from pynrc import nrc_utils, nircam_cal, DMS_input, DetectorOps\n",
    "from pynrc.simul.apt import get_detname"
   ]
  },
  {
   "cell_type": "code",
   "execution_count": null,
   "id": "stylish-indiana",
   "metadata": {
    "scrolled": false
   },
   "outputs": [],
   "source": [
    "# Create DMS Input class\n",
    "obs_input = DMS_input(xml_file, pointing_file, json_file, sm_acct_file, save_dir=save_dir)\n",
    "\n",
    "# Update observing start date/time and V3 PA\n",
    "obs_input.obs_date = '2022-11-03'\n",
    "obs_input.obs_time = '12:00:00'\n",
    "\n",
    "# Generate all observation parameters for every visit, exposure, detector, etc\n",
    "obs_params_all = obs_input.gen_all_obs_params()\n",
    "obs_params_all = np.asarray(obs_params_all)"
   ]
  },
  {
   "cell_type": "code",
   "execution_count": null,
   "id": "aware-configuration",
   "metadata": {
    "scrolled": false
   },
   "outputs": [],
   "source": [
    "obs_detnames = np.array([get_detname(par['detector']) for par in obs_params_all])\n",
    "obs_filters  = np.array([par['filter'] for par in obs_params_all])\n",
    "obs_pupils   = np.array([par['pupil'] for par in obs_params_all])\n",
    "obs_apnames  = np.array([par['siaf_ap'].AperName for par in obs_params_all])\n",
    "obs_visitids = np.array([par['visit_key'] for par in obs_params_all])\n",
    "\n",
    "obs_labels  = np.array([f'{a}_{f}' for a, f in zip(obs_apnames, obs_filters)])"
   ]
  },
  {
   "cell_type": "code",
   "execution_count": null,
   "id": "varying-federal",
   "metadata": {},
   "outputs": [],
   "source": []
  }
 ],
 "metadata": {
  "kernelspec": {
   "display_name": "Python 3 (ipykernel)",
   "language": "python",
   "name": "python3"
  },
  "language_info": {
   "codemirror_mode": {
    "name": "ipython",
    "version": 3
   },
   "file_extension": ".py",
   "mimetype": "text/x-python",
   "name": "python",
   "nbconvert_exporter": "python",
   "pygments_lexer": "ipython3",
   "version": "3.8.12"
  }
 },
 "nbformat": 4,
 "nbformat_minor": 5
}
