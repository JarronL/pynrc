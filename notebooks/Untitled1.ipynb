{
 "cells": [
  {
   "cell_type": "code",
   "execution_count": 1,
   "metadata": {
    "collapsed": true
   },
   "outputs": [],
   "source": [
    "# Makes print and division act like Python 3\n",
    "from __future__ import print_function, division\n",
    "\n",
    "# Import the usual libraries\n",
    "import numpy as np\n",
    "import matplotlib\n",
    "import matplotlib.pyplot as plt\n",
    "\n",
    "# Enable inline plotting at lower left\n",
    "%matplotlib inline\n",
    "matplotlib.rcParams['image.origin'] = 'lower'\n",
    "matplotlib.rcParams['image.interpolation'] = 'none'\n",
    "\n",
    "# seaborn package for making pretty plots, but not necessary\n",
    "try:\n",
    "    import seaborn as sns\n",
    "    params =   {'xtick.direction': 'in', 'ytick.direction': 'in', 'font.family': ['serif'],\n",
    "                'text.usetex': True, 'text.latex.preamble': ['\\usepackage{gensymb}']}\n",
    "    sns.set_style(\"ticks\", params)\n",
    "except ImportError:\n",
    "    print('Seaborn module is not installed.')\n",
    "    \n",
    "from IPython.display import display, Latex, clear_output"
   ]
  },
  {
   "cell_type": "code",
   "execution_count": 2,
   "metadata": {
    "collapsed": false
   },
   "outputs": [],
   "source": [
    "import pynrc\n",
    "from pynrc import nrc_utils\n",
    "from pynrc.nrc_utils import (webbpsf, poppy, pix_noise, S)\n",
    "\n",
    "pynrc.setup_logging('WARNING', verbose=False)\n",
    "\n",
    "from astropy.table import Table"
   ]
  },
  {
   "cell_type": "code",
   "execution_count": 3,
   "metadata": {
    "collapsed": false
   },
   "outputs": [
    {
     "name": "stdout",
     "output_type": "stream",
     "text": [
      "F444W SNR for M2V source:\n",
      "Wave       SNR      Flux (uJy)\n",
      "3.90   1111.09  29767.23\n",
      "4.00   1169.43  28361.64\n",
      "4.10   1121.30  27049.16\n",
      "4.20   1071.35  26158.33\n",
      "4.30    978.24  23226.08\n",
      "4.40    922.63  22468.60\n",
      "4.50    845.03  20824.46\n",
      "4.60    741.44  17733.72\n",
      "4.70    679.41  17170.92\n",
      "4.80    608.38  15411.13\n",
      "4.90    622.94  19485.87\n",
      "5.00    344.29  17055.91\n",
      "F444W SNR for M2V source:\n",
      "Wave       SNR      Flux (uJy)\n",
      "3.90   1114.49  29767.23\n",
      "4.00   1172.67  28361.64\n",
      "4.10   1124.67  27049.16\n",
      "4.20   1074.86  26158.33\n",
      "4.30    982.04  23226.08\n",
      "4.40    926.63  22468.60\n",
      "4.50    849.33  20824.46\n",
      "4.60    746.21  17733.72\n",
      "4.70    684.51  17170.92\n",
      "4.80    613.90  15411.13\n",
      "4.90    628.36  19485.87\n",
      "5.00    351.72  17055.91\n"
     ]
    }
   ],
   "source": [
    "# Initiate a NIRCam observation\n",
    "nrc = pynrc.NIRCam('F444W', pupil='GRISM0', wind_mode='STRIPE', ypix=64)\n",
    "\n",
    "# We want to optimize SNR of a K=16 M2V star\n",
    "bp_k = S.ObsBandpass('johnson,k')\n",
    "sp_M2V = pynrc.stellar_spectrum('M2V', 10, 'vegamag', bp_k)\n",
    "\n",
    "nrc.update_detectors(read_mode='DEEP2', nint=35, ngroup=5)\n",
    "snr1=nrc.sensitivity(sp=sp_M2V, forwardSNR=True, verbose=True)\n",
    "nrc.update_detectors(read_mode='MEDIUM2', nint=35, ngroup=9)\n",
    "snr2=nrc.sensitivity(sp=sp_M2V, forwardSNR=True, verbose=True)\n",
    "\n",
    "#_ = nrc.sat_limits(verbose=True)\n",
    "#_ = nrc.sensitivity(verbose=True, units='vegamag')"
   ]
  },
  {
   "cell_type": "code",
   "execution_count": 4,
   "metadata": {
    "collapsed": false
   },
   "outputs": [],
   "source": [
    "# Initiate a NIRCam observation\n",
    "nrc = pynrc.NIRCam('F444W', pupil=None, wind_mode='STRIPE', ypix=64)\n",
    "#print(nrc.sat_limits())\n",
    "\n",
    "# We want to optimize SNR of a K=16 M2V star\n",
    "bp_k = S.ObsBandpass('johnson,k')\n",
    "sp_M2V = pynrc.stellar_spectrum('M2V', 15, 'vegamag', bp_k)"
   ]
  },
  {
   "cell_type": "code",
   "execution_count": 5,
   "metadata": {
    "collapsed": false
   },
   "outputs": [
    {
     "name": "stdout",
     "output_type": "stream",
     "text": [
      "BRIGHT1\n",
      "BRIGHT2\n",
      "DEEP2\n",
      "DEEP8\n",
      "MEDIUM2\n",
      "MEDIUM8\n",
      "RAPID\n",
      "SHALLOW2\n",
      "SHALLOW4\n",
      "Top 10 results sorted by 'efficiency' (SNR/t_acq):\n",
      " Pattern   NGRP NINT   t_int     t_exp     t_acq     SNR      Well     eff   \n",
      "---------- ---- ---- --------- --------- --------- -------- -------- --------\n",
      "MEDIUM2      10   32     31.34   1002.76   1013.66   2501.7    0.465   78.574\n",
      "MEDIUM2       9   35     27.93    977.55    989.47   2465.9    0.415   78.390\n",
      "DEEP2         5   36     27.93   1005.48   1017.74   2497.9    0.415   78.298\n",
      "MEDIUM2       8   41     24.52   1005.48   1019.45   2495.2    0.364   78.148\n",
      "MEDIUM2       7   47     21.12    992.54   1008.55   2471.3    0.313   77.817\n",
      "MEDIUM2       6   57     17.71   1009.57   1028.98   2481.1    0.263   77.347\n",
      "SHALLOW2     10   63     16.01   1008.55   1030.00   2477.4    0.238   77.191\n",
      "SHALLOW2      9   71     14.31   1015.70   1039.88   2477.1    0.212   76.815\n",
      "MEDIUM2       5   71     14.31   1015.70   1039.88   2471.3    0.212   76.636\n",
      "SHALLOW2      8   81     12.60   1020.81   1048.40   2471.5    0.187   76.330\n"
     ]
    }
   ],
   "source": [
    "t = nrc.ramp_optimize(sp_M2V, tacq_max=1000, verbose=True, return_full_table=True, ng_min=5, snr_frac=0, \\\n",
    "                     well_frac_max=0.5)"
   ]
  },
  {
   "cell_type": "code",
   "execution_count": 12,
   "metadata": {
    "collapsed": false
   },
   "outputs": [
    {
     "name": "stdout",
     "output_type": "stream",
     "text": [
      " Pattern   NGRP NINT   t_int     t_exp     t_acq     SNR      Well     eff   \n",
      "---------- ---- ---- --------- --------- --------- -------- -------- --------\n",
      "MEDIUM2       5   71     14.31   1015.70   1039.88   2435.7    0.212   75.532\n",
      "MEDIUM2       6   57     17.71   1009.57   1028.98   2422.1    0.263   75.507\n",
      "MEDIUM2       7   49     21.12   1034.77   1051.46   2444.7    0.313   75.392\n",
      "MEDIUM2       8   42     24.52   1030.00   1044.31   2431.8    0.364   75.250\n",
      "MEDIUM2       9   37     27.93   1033.41   1046.01   2429.1    0.415   75.106\n",
      "MEDIUM2      10   33     31.34   1034.09   1045.33   2423.9    0.465   74.968\n",
      " Pattern   NGRP NINT   t_int     t_exp     t_acq     SNR      Well     eff   \n",
      "---------- ---- ---- --------- --------- --------- -------- -------- --------\n",
      "DEEP2         5   35     27.93    977.55    989.47   2421.3    0.415   76.975\n",
      "DEEP2         6   29     34.74   1007.52   1017.40   2444.3    0.516   76.631\n",
      "DEEP2         7   25     41.55   1038.86   1047.38   2469.1    0.617   76.294\n",
      "DEEP2         8   21     48.37   1015.70   1022.85   2430.3    0.718   75.989\n"
     ]
    }
   ],
   "source": [
    "print(t[t['Pattern']=='MEDIUM2'])\n",
    "print(t[t['Pattern']=='DEEP2'])"
   ]
  },
  {
   "cell_type": "code",
   "execution_count": 13,
   "metadata": {
    "collapsed": false,
    "scrolled": false
   },
   "outputs": [
    {
     "name": "stdout",
     "output_type": "stream",
     "text": [
      " Pattern   NGRP NINT   t_int     t_exp     t_acq     SNR      Well     eff   \n",
      "---------- ---- ---- --------- --------- --------- -------- -------- --------\n",
      "RAPID        10  358      3.41   1219.38   1341.32   2424.7    0.051   66.204\n",
      "BRIGHT1      10  172      6.47   1113.11   1171.70   2427.4    0.096   70.915\n",
      "BRIGHT2      10  166      6.81   1130.83   1187.37   2421.5    0.101   70.272\n",
      "BRIGHT2       9  186      6.13   1140.36   1203.72   2423.1    0.091   69.841\n",
      "SHALLOW2     10   66     16.01   1056.57   1079.05   2422.9    0.238   73.759\n",
      "SHALLOW2      9   74     14.31   1058.62   1083.82   2427.3    0.212   73.729\n",
      "SHALLOW4     10   66     16.69   1101.53   1124.01   2436.4    0.248   72.670\n",
      "SHALLOW4      9   73     14.99   1094.04   1118.90   2427.4    0.222   72.568\n",
      "MEDIUM2       5   71     14.31   1015.70   1039.88   2435.7    0.212   75.532\n",
      "MEDIUM2       6   57     17.71   1009.57   1028.98   2422.1    0.263   75.507\n",
      "MEDIUM8      10   33     33.38   1101.53   1112.77   2439.7    0.495   73.137\n",
      "MEDIUM8       9   37     29.97   1109.03   1121.63   2448.9    0.445   73.120\n",
      "DEEP2         5   35     27.93    977.55    989.47   2421.3    0.415   76.975\n",
      "DEEP2         6   29     34.74   1007.52   1017.40   2444.3    0.516   76.631\n",
      "DEEP8         5   35     29.97   1049.08   1061.00   2453.0    0.445   75.307\n",
      "DEEP8         6   28     36.79   1030.00   1039.54   2423.6    0.546   75.169\n"
     ]
    }
   ],
   "source": [
    "#print(np.unique(t['Pattern']))\n",
    "print(pynrc.pynrc_core.table_filter(t,2))"
   ]
  },
  {
   "cell_type": "code",
   "execution_count": 18,
   "metadata": {
    "collapsed": false
   },
   "outputs": [
    {
     "name": "stdout",
     "output_type": "stream",
     "text": [
      "BRIGHT1\n",
      "BRIGHT2\n",
      "DEEP2\n",
      "DEEP8\n",
      "MEDIUM2\n",
      "MEDIUM8\n",
      "RAPID\n",
      "SHALLOW2\n",
      "SHALLOW4\n",
      "Top 10 results sorted by 'efficiency' (SNR/t_acq):\n",
      " Pattern   NGRP NINT   t_int     t_exp     t_acq     SNR      Well     eff   \n",
      "---------- ---- ---- --------- --------- --------- -------- -------- --------\n",
      "MEDIUM2      10   32     31.34   1002.76   1013.66   2501.7    0.465   78.574\n",
      "MEDIUM2       9   35     27.93    977.55    989.47   2465.9    0.415   78.390\n",
      "DEEP2         5   36     27.93   1005.48   1017.74   2497.9    0.415   78.298\n",
      "MEDIUM2       8   41     24.52   1005.48   1019.45   2495.2    0.364   78.148\n",
      "MEDIUM2       7   47     21.12    992.54   1008.55   2471.3    0.313   77.817\n",
      "MEDIUM2       6   57     17.71   1009.57   1028.98   2481.1    0.263   77.347\n",
      "SHALLOW2     10   63     16.01   1008.55   1030.00   2477.4    0.238   77.191\n",
      "SHALLOW2      9   71     14.31   1015.70   1039.88   2477.1    0.212   76.815\n",
      "MEDIUM2       5   71     14.31   1015.70   1039.88   2471.3    0.212   76.636\n",
      "SHALLOW2      8   81     12.60   1020.81   1048.40   2471.5    0.187   76.330\n"
     ]
    }
   ],
   "source": [
    "t = nrc.ramp_optimize(sp_M2V, tacq_max=1000, verbose=True, return_full_table=True, ng_min=5, snr_frac=0, \\\n",
    "                     ideal_Poisson=True, well_frac_max=0.5)"
   ]
  },
  {
   "cell_type": "code",
   "execution_count": 17,
   "metadata": {
    "collapsed": false
   },
   "outputs": [
    {
     "name": "stdout",
     "output_type": "stream",
     "text": [
      " Pattern   NGRP NINT   t_int     t_exp     t_acq     SNR      Well     eff   \n",
      "---------- ---- ---- --------- --------- --------- -------- -------- --------\n",
      "MEDIUM2      10   32     31.34   1002.76   1013.66   2501.7    0.465   78.574\n",
      "MEDIUM2       9   35     27.93    977.55    989.47   2465.9    0.415   78.390\n",
      "MEDIUM2       8   41     24.52   1005.48   1019.45   2495.2    0.364   78.148\n",
      "MEDIUM2       7   47     21.12    992.54   1008.55   2471.3    0.313   77.817\n",
      "MEDIUM2       6   57     17.71   1009.57   1028.98   2481.1    0.263   77.347\n",
      "MEDIUM2       5   71     14.31   1015.70   1039.88   2471.3    0.212   76.636\n",
      " Pattern   NGRP NINT   t_int     t_exp     t_acq     SNR      Well     eff   \n",
      "---------- ---- ---- --------- --------- --------- -------- -------- --------\n",
      "DEEP2         8   21     48.37   1015.70   1022.85   2526.7    0.718   79.003\n",
      "DEEP2         7   24     41.55    997.31   1005.48   2500.6    0.617   78.860\n",
      "DEEP2         6   29     34.74   1007.52   1017.40   2508.5    0.516   78.643\n",
      "DEEP2         5   36     27.93   1005.48   1017.74   2497.9    0.415   78.298\n"
     ]
    }
   ],
   "source": [
    "print(t[t['Pattern']=='MEDIUM2'])\n",
    "print(t[t['Pattern']=='DEEP2'])"
   ]
  },
  {
   "cell_type": "code",
   "execution_count": 6,
   "metadata": {
    "collapsed": false
   },
   "outputs": [
    {
     "name": "stdout",
     "output_type": "stream",
     "text": [
      "BRIGHT1\n",
      "BRIGHT2\n",
      "DEEP2\n",
      "DEEP8\n",
      "MEDIUM2\n",
      "MEDIUM8\n",
      "RAPID\n",
      "SHALLOW2\n",
      "SHALLOW4\n",
      "Top 10 results sorted by 'efficiency' (SNR/t_acq):\n",
      " Pattern   NGRP NINT   t_int     t_exp     t_acq     SNR      Well     eff   \n",
      "---------- ---- ---- --------- --------- --------- -------- -------- --------\n",
      "DEEP2         6   39     34.74   1354.95   1368.23    984.5    0.139    0.720\n",
      "DEEP2         8   28     48.37   1354.27   1363.80    979.2    0.193    0.718\n",
      "DEEP2         5   49     27.93   1368.57   1385.26    990.8    0.112    0.715\n",
      "DEEP2         7   33     41.55   1371.30   1382.54    988.0    0.166    0.715\n",
      "DEEP2         6   40     34.74   1389.69   1403.31    997.1    0.139    0.710\n",
      "DEEP2         5   50     27.93   1396.50   1413.53   1000.8    0.112    0.708\n",
      "DEEP2         7   34     41.55   1412.85   1424.43   1002.9    0.166    0.704\n",
      "DEEP2         6   41     34.74   1424.43   1438.40   1009.4    0.139    0.702\n",
      "DEEP2         5   51     27.93   1424.43   1441.80   1010.8    0.112    0.701\n",
      "DEEP2         4   67     21.12   1414.89   1437.71   1005.3    0.084    0.699\n"
     ]
    }
   ],
   "source": [
    "t = nrc.ramp_optimize(sp_M2V, tacq_max=1400, tacq_frac=0.1, verbose=True)"
   ]
  },
  {
   "cell_type": "code",
   "execution_count": 8,
   "metadata": {
    "collapsed": false
   },
   "outputs": [
    {
     "name": "stdout",
     "output_type": "stream",
     "text": [
      "MEDIUM2\n",
      "Top 10 results sorted by 'efficiency' (SNR/t_acq):\n",
      " Pattern   NGRP NINT   t_int     t_exp     t_acq     SNR      Well     eff   \n",
      "---------- ---- ---- --------- --------- --------- -------- -------- --------\n",
      "MEDIUM2       9   34     27.93    949.62    961.20    808.9    0.112    0.842\n",
      "MEDIUM2      10   31     31.34    971.42    981.98    817.7    0.125    0.833\n",
      "MEDIUM2       9   35     27.93    977.55    989.47    820.8    0.112    0.829\n",
      "MEDIUM2      10   32     31.34   1002.76   1013.66    830.8    0.125    0.820\n",
      "MEDIUM2       9   36     27.93   1005.48   1017.74    832.4    0.112    0.818\n",
      "MEDIUM2      10   33     31.34   1034.09   1045.33    843.6    0.125    0.807\n"
     ]
    }
   ],
   "source": [
    "t = nrc.ramp_optimize(sp_M2V, tacq_max=1000, tacq_frac=0.1, verbose=True, patterns=['MEDIUM2'], ng_min=9)"
   ]
  },
  {
   "cell_type": "code",
   "execution_count": 10,
   "metadata": {
    "collapsed": false
   },
   "outputs": [
    {
     "name": "stdout",
     "output_type": "stream",
     "text": [
      " Pattern   NGRP NINT   t_int     t_exp     t_acq     SNR      Well     eff   \n",
      "---------- ---- ---- --------- --------- --------- -------- -------- --------\n",
      "DEEP2         5   35     27.93    977.55    989.47    837.4    0.112   26.620\n",
      "DEEP2         5   37     27.93   1033.41   1046.01    860.9    0.112   26.620\n",
      "DEEP2         6   28     34.74    972.78    982.32    834.2    0.139   26.616\n",
      "DEEP2         6   29     34.74   1007.52   1017.40    849.0    0.139   26.616\n",
      "DEEP2         6   30     34.74   1042.27   1052.48    863.5    0.139   26.616\n",
      "DEEP2         7   23     41.55    955.75    963.59    824.8    0.166   26.572\n",
      "DEEP2         7   24     41.55    997.31   1005.48    842.6    0.166   26.572\n",
      "DEEP2         8   20     48.37    967.33    974.14    827.6    0.193   26.515\n",
      "DEEP2         8   22     48.37   1064.07   1071.56    868.0    0.193   26.515\n",
      "DEEP2         4   48     21.12   1013.66   1030.00    850.9    0.084   26.512\n",
      "DEEP8         7   25     43.60   1089.95   1098.47    870.1    0.174   26.253\n"
     ]
    }
   ],
   "source": [
    "t['eff'] = t['SNR']/np.sqrt(t['t_acq'])\n",
    "ind_sort = np.argsort(1 / t['eff'])\n",
    "print(t[ind_sort])"
   ]
  },
  {
   "cell_type": "code",
   "execution_count": 21,
   "metadata": {
    "collapsed": false
   },
   "outputs": [
    {
     "name": "stdout",
     "output_type": "stream",
     "text": [
      "New Ramp Settings:\n",
      "  read_mode :    DEEP2\n",
      "  nf        :        2\n",
      "  nd2       :       18\n",
      "  ngroup    :        7\n",
      "  nint      :       33\n",
      "New Detector Settings\n",
      "  wind_mode :   STRIPE\n",
      "  xpix      :     2048\n",
      "  ypix      :       64\n",
      "  x0        :        0\n",
      "  y0        :        0\n",
      "New Ramp Times\n",
      "  t_group   :    6.812\n",
      "  t_frame   :    0.341\n",
      "  t_int     :   41.554\n",
      "  t_exp     : 1371.296\n",
      "  t_acq     : 1382.536\n"
     ]
    },
    {
     "data": {
      "text/plain": [
       "{u't_acq': 0.68122,\n",
       " u't_exp': 0.34061,\n",
       " u't_frame': 0.34061,\n",
       " u't_group': 0.34061,\n",
       " u't_int': 0.34061}"
      ]
     },
     "execution_count": 21,
     "metadata": {},
     "output_type": "execute_result"
    }
   ],
   "source": [
    "nrc.update_detectors(read_mode='DEEP2', nint=33, ngroup=7, verbose=True)"
   ]
  },
  {
   "cell_type": "code",
   "execution_count": 16,
   "metadata": {
    "collapsed": false
   },
   "outputs": [
    {
     "name": "stdout",
     "output_type": "stream",
     "text": [
      "F444W SNR for M2V source:\n",
      "Wave       SNR  Flux (mJy)\n",
      "3.90   1284.21     29.77\n",
      "4.00   1350.93     28.36\n",
      "4.10   1295.88     27.05\n",
      "4.20   1238.78     26.16\n",
      "4.30   1132.39     23.23\n",
      "4.40   1068.90     22.47\n",
      "4.50    980.37     20.82\n",
      "4.60    862.34     17.73\n",
      "4.70    791.76     17.17\n",
      "4.80    711.05     15.41\n",
      "4.90    727.58     19.49\n",
      "5.00    411.91     17.06\n"
     ]
    }
   ],
   "source": [
    "out = nrc.sensitivity(sp=sp_M2V, forwardSNR=True, units='mJy', verbose=True)"
   ]
  },
  {
   "cell_type": "code",
   "execution_count": 3,
   "metadata": {
    "collapsed": false
   },
   "outputs": [
    {
     "name": "stdout",
     "output_type": "stream",
     "text": [
      "5.11857712754 958.279930576 270.95500382\n"
     ]
    },
    {
     "data": {
      "text/plain": [
       "({u'Spectrum': u'Flat spectrum in photlam',\n",
       "  u'nsig': 10,\n",
       "  u'sensitivity': 15.795335211450428,\n",
       "  u'units': 'vegamag'},\n",
       " {u'Spectrum': u'Flat spectrum in photlam',\n",
       "  u'nsig': 10,\n",
       "  u'sensitivity': 13.455851256881445,\n",
       "  u'units': u'vegamag/arcsec^2'})"
      ]
     },
     "execution_count": 3,
     "metadata": {},
     "output_type": "execute_result"
    }
   ],
   "source": [
    "nrc = pynrc.NIRCam(filter='F430M', ngroup=2, wind_mode='WINDOW', xpix=320, ypix=320)\n",
    "nrc.sensitivity(units='vegamag')"
   ]
  },
  {
   "cell_type": "code",
   "execution_count": 264,
   "metadata": {
    "collapsed": false
   },
   "outputs": [
    {
     "data": {
      "text/plain": [
       "({u'Spectrum': u'Flat spectrum in photlam',\n",
       "  u'nsig': 10,\n",
       "  u'sensitivity': 15.795335211450428,\n",
       "  u'units': 'vegamag'},\n",
       " {u'Spectrum': u'Flat spectrum in photlam',\n",
       "  u'nsig': 10,\n",
       "  u'sensitivity': 13.455851256881445,\n",
       "  u'units': u'vegamag/arcsec^2'})"
      ]
     },
     "execution_count": 264,
     "metadata": {},
     "output_type": "execute_result"
    }
   ],
   "source": [
    "# Build ramp optimizer\n",
    "\n",
    "# Input source spectrum\n",
    "#  - define whether point source or extended \n",
    "# Input maximum desired well fill fraction\n",
    "# Input minimum number of desired ramps\n",
    "# Specify zodi bg level\n",
    "\n",
    "nrc.sensitivity(units='vegamag')"
   ]
  },
  {
   "cell_type": "code",
   "execution_count": 46,
   "metadata": {
    "collapsed": false
   },
   "outputs": [],
   "source": [
    "def ramp_optimize_tacq(self, sp, sp_bright=None, is_extended=False, patterns=None,\n",
    "    tacq_max=1000, well_frac_max=0.8, nint_min=1, nint_max=1000, ng_min=2, ng_max=None,\n",
    "    tacq_frac=0.05, return_full_table=None, verbose=False):\n",
    "    \"\"\"\n",
    "    Find the optimal ramp settings to observe spectrum based input constraints.\n",
    "    This function quickly runs through each detector readout pattern and \n",
    "    calculates the acquisition time and SNR for all possible settings of NINT\n",
    "    and NGROUP that fulfill the SNR requirement (and other constraints). \n",
    "\n",
    "    The final output table is then filtered, removing those exposure settings\n",
    "    that have the same exact acquisition times but worse SNR. Further \"obvious\"\n",
    "    comparisons are done that exclude settings where there is another setting\n",
    "    that has both better SNR and less acquisition time. The best results are\n",
    "    then sorted by an efficiency metric (SNR / acq_time). To skip filtering\n",
    "    of results, set return_full_table=True.\n",
    "\n",
    "    The result is an AstroPy Table.\n",
    "\n",
    "    Parameters\n",
    "    ==========\n",
    "    sp          : A pysynphot spectral object to calculate SNR.\n",
    "    sp_bright   : Same as sp, but optionaly used to calculate the saturation limit\n",
    "                  (treated as brightest source in field). If a coronagraphic mask \n",
    "                  observation, then this source is assumed to be occulted and \n",
    "                  sp is unocculted.\n",
    "    is_extended : Treat source(s) as extended objects, then in units/arcsec^2\n",
    "\n",
    "    patterns      : List of a subset of MULTIACCUM patterns to check, otherwise check all.\n",
    "    well_frac_max : Maximum level that the pixel well is allowed to be filled. \n",
    "                    Fractions greater than 1 imply hard saturation, but the reported \n",
    "                    SNR will not be aware of any saturation that may occur to sp.\n",
    "    snr_min       : Minimum required SNR for source. For grism, this is the average\n",
    "                    SNR for all wavelength.\n",
    "    snr_frac      : Give fractional buffer room rather than strict SNR cut-off.\n",
    "    nint_min/max  : Min/max number of desired integrations.\n",
    "    ng_min/max    : Min/max number of desired groups in a ramp.\n",
    "\n",
    "    return_full_table : Don't filter or sort the final results.\n",
    "    verbose           : Print out top 10 results.\n",
    "\n",
    "    Example\n",
    "    ----------\n",
    "    # What are the optimal exposure settings to obtain SNR~1000 spectral data\n",
    "    # for an M2V star (K=10 mags) in the F444W filter?\n",
    "    #\n",
    "    # Initiate a NIRCam observation\n",
    "    nrc = pynrc.NIRCam('F430M', pupil='GRISM0', wind_mode='STRIPE', ypix=64)\n",
    "\n",
    "    # Set up M2V stellar spectrum normalized to K=10 mags\n",
    "    bp_k = S.ObsBandpass('johnson,k')\n",
    "    sp_M2V = pynrc.stellar_spectrum('M2V', 10, 'vegamag', bp_k)\n",
    "\n",
    "    # Find optimal settings with the only constraint on the SNR\n",
    "    out = ramp_optimize(sp_M2V, snr_min=1000, verbose=True)\n",
    "\n",
    "    # In this case, the best case is DEEP2, ngroup=7, nint=33\n",
    "    # Update nrc settings and print out sensitivities to verify\n",
    "    nrc.update_detectors(read_mode='DEEP2', ngroup=7, nint=33)\n",
    "    _ = nrc.sensitivity(sp=sp_M2V, forwardSNR=True, units='mJy', verbose=True)\n",
    "\n",
    "    # Which should print out:\t\t\n",
    "    F444W SNR for M2V source:\n",
    "    Wave       SNR      Flux (mJy)\n",
    "    3.90    1284.2     29.77\n",
    "    4.00    1350.9     28.36\n",
    "    4.10    1295.9     27.05\n",
    "    4.20    1238.8     26.16\n",
    "    4.30    1132.4     23.23\n",
    "    4.40    1068.9     22.47\n",
    "    4.50     980.4     20.82\n",
    "    4.60     862.3     17.73\n",
    "    4.70     791.8     17.17\n",
    "    4.80     711.1     15.41\n",
    "    4.90     727.6     19.49\n",
    "    5.00     411.9     17.06\n",
    "    \"\"\"\n",
    "\n",
    "    def parse_snr(snr, grism_obs, ind_snr):\n",
    "        if grism_obs:\n",
    "            res = snr['snr']\n",
    "            return np.mean(res)\n",
    "        else:\n",
    "            return snr[ind_snr]['snr']            \n",
    "\n",
    "\n",
    "    pupil = self.pupil\n",
    "    grism_obs = (pupil is not None) and ('GRISM' in pupil)\n",
    "    dhs_obs   = (pupil is not None) and ('DHS'   in pupil)\n",
    "    coron_obs = (pupil is not None) and ('LYOT'   in pupil)\n",
    "\n",
    "    det_params_orig = self.det_info.copy()\n",
    "\n",
    "    if dhs_obs:\n",
    "        raise NotImplementedError('DHS has yet to be fully included.')\n",
    "    if grism_obs and is_extended:\n",
    "        raise NotImplementedError('Extended objects not implemented for grism observations.')\n",
    "\n",
    "    # Brightest source in field\n",
    "    if sp_bright is None:\n",
    "        sp_bright = sp\n",
    "\n",
    "    # Generate PSFs for faint and bright objects and get max pixel flux\n",
    "    # Only necessary for point sources\n",
    "    if is_extended:\n",
    "        ind_snr = 1\n",
    "        obs = S.Observation(sp, self.bandpass, binset=self.bandpass.wave)\n",
    "        pix_count_rate = obs.countrate() * self.pix_scale**2\n",
    "    else:\n",
    "        ind_snr = 0\n",
    "\n",
    "        if grism_obs:\n",
    "            _, psf_bright = self.gen_psf(sp_bright, use_bg_psf=False)\n",
    "            _, psf_faint  = self.gen_psf(sp, use_bg_psf=True)\n",
    "        else:\n",
    "            psf_bright = self.gen_psf(sp_bright, use_bg_psf=False)\n",
    "            psf_faint  = self.gen_psf(sp, use_bg_psf=True)\n",
    "        pix_count_rate = np.max([psf_bright.max(), psf_faint.max()])\n",
    "\n",
    "    image = self.sensitivity(sp=sp, forwardSNR=True, return_image=True)\n",
    "\n",
    "    # Cycle through each readout pattern\n",
    "    if patterns is None:\n",
    "        pattern_settings = self.multiaccum._pattern_settings\n",
    "        patterns = pattern_settings.keys()\n",
    "    patterns.sort()\n",
    "\n",
    "    rows = []\n",
    "    for read_mode in patterns:\n",
    "        if verbose: print(read_mode)\n",
    "        # Maximum allowed groups for given readout pattern\n",
    "        if ng_max is None:\n",
    "            _,_,ng_max = pattern_settings.get(read_mode)\n",
    "        for ng in range(ng_min,ng_max+1):\n",
    "            self.update_detectors(read_mode=read_mode, ngroup=ng, nint=1)\n",
    "\n",
    "            # Get saturation level of observation\n",
    "            mtimes = self.multiaccum_times\n",
    "            well_frac = pix_count_rate * mtimes['t_int'] / self.well_level\n",
    "            # If above well_frac_max, then this setting is invalid\n",
    "            if well_frac > well_frac_max:\n",
    "                continue\n",
    "\n",
    "            # Approximate integrations needed to get to required t_acq\n",
    "            t_acq = mtimes['t_acq']\n",
    "            nint = int(tacq_max / t_acq)\n",
    "            nint = np.max([nint_min,nint])\n",
    "            if nint>nint_max:\n",
    "                continue\n",
    "\n",
    "            # Find NINT with t_acq > 0.95 tacq_max\n",
    "            self.update_detectors(nint=nint)\n",
    "            t_acq = mtimes['t_acq']\n",
    "            while (t_acq<((1-tacq_frac)*tacq_max)) and (nint<=nint_max):\n",
    "                nint += 1\n",
    "                self.update_detectors(nint=nint)\n",
    "                t_acq = mtimes['t_acq']\n",
    "            if nint>nint_max:\n",
    "                continue\n",
    "                \n",
    "            # Get SNR (assumes no saturation)\n",
    "            snr = parse_snr(self.sensitivity(sp=sp, forwardSNR=True, image=image), \\\n",
    "                grism_obs, ind_snr)\n",
    "\n",
    "            # Approximate integrations needed to get to required SNR\n",
    "            nint = int((snr_min / snr)**2)\n",
    "            nint = np.max([nint_min,nint])\n",
    "            if nint>nint_max:\n",
    "                continue\n",
    "\n",
    "            # Find NINT with SNR > 0.95 snr_min\n",
    "            self.update_detectors(nint=nint)\n",
    "            snr = parse_snr(self.sensitivity(sp=sp, forwardSNR=True, image=image), \\\n",
    "                grism_obs, ind_snr)\n",
    "            while (snr<((1-snr_frac)*snr_min)) and (nint<=nint_max):\n",
    "                nint += 1\n",
    "                self.update_detectors(nint=nint)\n",
    "                snr = parse_snr(self.sensitivity(sp=sp, forwardSNR=True, image=image), \\\n",
    "                    grism_obs, ind_snr)\n",
    "            if nint>nint_max:\n",
    "                continue\n",
    "\n",
    "            mtimes = self.multiaccum_times\n",
    "            rows.append((read_mode, ng, nint, mtimes['t_int'], mtimes['t_exp'], \\\n",
    "                mtimes['t_acq'], snr, well_frac))\n",
    "\n",
    "            # Increment NINT until SNR > 1.05 snr_min\n",
    "            # Add each NINT to table output\n",
    "            while snr < ((1+snr_frac)*snr_min):\n",
    "                nint += 1\n",
    "                self.update_detectors(nint=nint)\n",
    "                snr = parse_snr(self.sensitivity(sp=sp, forwardSNR=True, image=image), \\\n",
    "                    grism_obs, ind_snr)\n",
    "                if nint > nint_max:\n",
    "                    continue\n",
    "                mtimes = self.multiaccum_times\n",
    "                rows.append((read_mode, ng, nint, mtimes['t_int'], mtimes['t_exp'], \\\n",
    "                    mtimes['t_acq'], snr, well_frac))\n",
    "\n",
    "    # Return to original values\n",
    "    self.update_detectors(**det_params_orig)\n",
    "\n",
    "    if len(rows)==0:\n",
    "        _log.warning('No ramp settings allowed within constraints! Reduce constraints.')\n",
    "        return\n",
    "\n",
    "    # Place rows into a\n",
    "    t_all = Table(rows=rows, \\\n",
    "        names=('Pattern', 'NGRP', 'NINT', 't_int', 't_exp', 't_acq', 'SNR', 'Well'))\n",
    "    t_all['Pattern'].format = '<10'\n",
    "    t_all['t_int'].format = '9.2f'\n",
    "    t_all['t_exp'].format = '9.2f'\n",
    "    t_all['t_acq'].format = '9.2f'\n",
    "    t_all['SNR'].format = '8.1f'\n",
    "    t_all['Well'].format = '8.3f'\n",
    "\n",
    "    t_all['eff'] = t_all['SNR'] / t_all['t_acq']\n",
    "    t_all['eff'].format = '8.3f'\n",
    "\n",
    "    # Sort by efficiency\n",
    "    ind_sort = np.argsort(1 / t_all['eff'])\n",
    "    t_all = t_all[ind_sort]\n",
    "\n",
    "    if verbose: print(\"Top 10 results sorted by 'efficiency' (SNR/t_acq):\")\n",
    "    if return_full_table:\n",
    "        if verbose: print(t_all[0:10])\n",
    "        return t_all\n",
    "\n",
    "\n",
    "    # Make a copy for filtering\n",
    "    t = t_all.copy()\n",
    "\n",
    "    # For equivalent acquisition times, remove worse SNR\n",
    "    t_uniq = np.unique(t['t_acq'])\n",
    "    ind_good = []\n",
    "    for tacq in t_uniq:\n",
    "        ind = np.where(t['t_acq']==tacq)[0]\n",
    "        ind_snr_best = t['SNR'][ind]==t['SNR'][ind].max()\n",
    "        ind_good.append(ind[ind_snr_best][0])\n",
    "    t = t[ind_good]\n",
    "\n",
    "    # For each remaining row, exlude those that take longer with worse SNR than any other row\n",
    "    ind_bad = []\n",
    "    ind_bad_comp = []\n",
    "    for i,row in enumerate(t):\n",
    "        for j,row_compare in enumerate(t):\n",
    "            if i==j: continue\n",
    "            if (row['t_acq']>row_compare['t_acq']) and (row['SNR']<=(1.001*row_compare['SNR'])):\n",
    "                ind_bad.append(i)\n",
    "                ind_bad_comp.append(j)\n",
    "                break\n",
    "    t.remove_rows(ind_bad)\n",
    "\n",
    "    #ind_sort = np.lexsort((t['NGRP'],t['Pattern']))\n",
    "    #t = t[ind_sort]\n",
    "\n",
    "    if verbose: print(t[0:10])\n",
    "    return t\n",
    "\n"
   ]
  },
  {
   "cell_type": "code",
   "execution_count": 7,
   "metadata": {
    "collapsed": false
   },
   "outputs": [
    {
     "name": "stdout",
     "output_type": "stream",
     "text": [
      "F356W Background Sensitivity (10-sigma) for Flat spectrum in photlam source:\n",
      "Wave   Limit (vegamag)\n",
      "3.10     10.72\n",
      "3.20     14.05\n",
      "3.30     14.03\n",
      "3.40     14.08\n",
      "3.50     14.03\n",
      "3.60     14.00\n",
      "3.70     13.94\n",
      "3.80     13.85\n",
      "3.90     13.70\n",
      "4.00     11.83\n",
      "F356W SNR for Flat spectrum in photlam source:\n",
      "Wave    SNR     Flux (uJy)\n",
      "3.10     0.39  604.59\n",
      "3.20     8.01  624.09\n",
      "3.30     9.12  643.59\n",
      "3.40     9.58  663.09\n",
      "3.50     9.84  682.60\n",
      "3.60    10.33  702.10\n",
      "3.70    10.52  721.60\n",
      "3.80    10.46  741.11\n",
      "3.90    10.04  760.61\n",
      "4.00     2.16  780.11\n",
      "10.3263939172\n",
      "F356W Saturation Limit assuming G2V source:\n",
      "Wave    Sat Lim (vegamag)\n",
      "3.10     3.73\n",
      "3.20     5.33\n",
      "3.30     5.37\n",
      "3.40     5.33\n",
      "3.50     5.25\n",
      "3.60     5.21\n",
      "3.70     5.14\n",
      "3.80     5.04\n",
      "3.90     4.92\n",
      "4.00     3.96\n"
     ]
    }
   ],
   "source": [
    "nrc = pynrc.NIRCam(filter='F356W', pupil='GRISM0', ngroup=10, wind_mode='WINDOW', xpix=320, ypix=320)\n",
    "snr = nrc.sensitivity(units='vegamag', verbose=True)\n",
    "\n",
    "sp = pynrc.stellar_spectrum('flat', 14, 'vegamag', nrc.bandpass)\n",
    "out = nrc.sensitivity(sp=sp, forwardSNR=True, verbose=True)\n",
    "res = out['snr']\n",
    "print(res[int(len(res) // 2)])\n",
    "\n",
    "nrc.update_detectors(ngroup=2)\n",
    "_ = nrc.sat_limits(verbose=True)"
   ]
  },
  {
   "cell_type": "code",
   "execution_count": 51,
   "metadata": {
    "collapsed": false
   },
   "outputs": [
    {
     "name": "stdout",
     "output_type": "stream",
     "text": [
      "14872.9173186\n",
      "RAPID\n",
      "BRIGHT2\n",
      "BRIGHT1\n",
      "MEDIUM8\n",
      "DEEP8\n",
      "DEEP2\n",
      "SHALLOW4\n",
      "MEDIUM2\n",
      "SHALLOW2\n"
     ]
    }
   ],
   "source": [
    "sp = pynrc.stellar_spectrum('flat', 6, 'vegamag', nrc.bandpass)\n",
    "sp_bright = pynrc.stellar_spectrum('flat', 14, 'vegamag', nrc.bandpass)\n",
    "rows = ramp_optimize(nrc, sp, snr_min=1000, well_frac_max=0.8, nint_min=5)"
   ]
  },
  {
   "cell_type": "code",
   "execution_count": 52,
   "metadata": {
    "collapsed": false
   },
   "outputs": [
    {
     "name": "stdout",
     "output_type": "stream",
     "text": [
      " Pattern   NGRP NINT   t_int     t_exp     t_acq     SNR      Well  \n",
      "---------- ---- ---- --------- --------- --------- -------- --------\n",
      "RAPID         4    5      4.28     21.38     26.73   1019.8    0.795\n",
      "RAPID         4    6      4.28     25.66     32.07   1117.1    0.795\n"
     ]
    }
   ],
   "source": [
    "t_all = Table(rows=rows, names=('Pattern', 'NGRP', 'NINT', 't_int', 't_exp', 't_acq', 'SNR', 'Well'))\n",
    "t_all['Pattern'].format = '<10'\n",
    "t_all['t_int'].format = '9.2f'\n",
    "t_all['t_exp'].format = '9.2f'\n",
    "t_all['t_acq'].format = '9.2f'\n",
    "t_all['SNR'].format = '8.1f'\n",
    "t_all['Well'].format = '8.3f'\n",
    "\n",
    "t = t_all.copy()\n",
    "\n",
    "# For equivalent acquisition times, remove worse SNR\n",
    "t_uniq = np.unique(t['t_acq'])\n",
    "ind_good = []\n",
    "for tacq in t_uniq:\n",
    "    ind = np.where(t['t_acq']==tacq)[0]\n",
    "    ind_snr_best = t['SNR'][ind]==t['SNR'][ind].max()\n",
    "    ind_good.append(ind[ind_snr_best][0])\n",
    "t = t[ind_good]\n",
    "\n",
    "# For each remaining row, exlude those that take longer with worse SNR than any other row\n",
    "ind_bad = []\n",
    "for i,row in enumerate(t):\n",
    "    for j,row_compare in enumerate(t):\n",
    "        if i==j: continue\n",
    "        if (row['t_acq']>row_compare['t_acq']) and (row['SNR']<=(1.01*row_compare['SNR'])):\n",
    "            ind_bad.append(i)\n",
    "            break\n",
    "t.remove_rows(ind_bad)\n",
    "\n",
    "ind_sort = np.lexsort((t['NGRP'],t['Pattern']))\n",
    "t = t[ind_sort]\n",
    "print(t)"
   ]
  },
  {
   "cell_type": "code",
   "execution_count": 49,
   "metadata": {
    "collapsed": false
   },
   "outputs": [
    {
     "name": "stdout",
     "output_type": "stream",
     "text": [
      "Sort by efficiency\n",
      " Pattern   NGRP NINT   t_int     t_exp     t_acq     SNR      Well  \n",
      "---------- ---- ---- --------- --------- --------- -------- --------\n",
      "RAPID         4  480      4.28   2052.56   2565.70   9992.1    0.795\n",
      "\n",
      "Sort by min acq time\n",
      " Pattern   NGRP NINT   t_int     t_exp     t_acq     SNR      Well  \n",
      "---------- ---- ---- --------- --------- --------- -------- --------\n",
      "RAPID         4  480      4.28   2052.56   2565.70   9992.1    0.795\n"
     ]
    }
   ],
   "source": [
    "# Sort\n",
    "print('Sort by efficiency')\n",
    "eff = t['t_acq'] / t['SNR']\n",
    "ind_sort = np.argsort(eff)\n",
    "print(t[ind_sort][0:5])\n",
    "\n",
    "print('\\nSort by min acq time')\n",
    "ind_sort = np.argsort(t['t_acq'])\n",
    "print(t[ind_sort][0:5])"
   ]
  },
  {
   "cell_type": "code",
   "execution_count": 50,
   "metadata": {
    "collapsed": false
   },
   "outputs": [
    {
     "name": "stdout",
     "output_type": "stream",
     "text": [
      " Pattern   NGRP NINT   t_int     t_exp     t_acq     SNR      Well  \n",
      "---------- ---- ---- --------- --------- --------- -------- --------\n",
      "RAPID         3  710      3.21   2277.06   3036.07   9994.2    0.596\n",
      "RAPID         3  711      3.21   2280.26   3040.35  10001.2    0.596\n",
      "RAPID         3  712      3.21   2283.47   3044.63  10008.3    0.596\n",
      "RAPID         3  713      3.21   2286.68   3048.90  10015.3    0.596\n",
      "RAPID         3  714      3.21   2289.88   3053.18  10022.3    0.596\n",
      "RAPID         3  715      3.21   2293.09   3057.45  10029.3    0.596\n",
      "RAPID         3  716      3.21   2296.30   3061.73  10036.3    0.596\n",
      "RAPID         3  717      3.21   2299.51   3066.01  10043.3    0.596\n",
      "RAPID         3  718      3.21   2302.71   3070.28  10050.3    0.596\n",
      "RAPID         3  719      3.21   2305.92   3074.56  10057.3    0.596\n",
      "...         ...  ...       ...       ...       ...      ...      ...\n",
      "BRIGHT1       2  730      3.21   2341.20   3121.60  10135.5    0.596\n",
      "BRIGHT1       2  731      3.21   2344.40   3125.87  10142.4    0.596\n",
      "BRIGHT1       2  732      3.21   2347.61   3130.15  10149.4    0.596\n",
      "BRIGHT1       2  733      3.21   2350.82   3134.43  10156.3    0.596\n",
      "BRIGHT1       2  734      3.21   2354.03   3138.70  10163.2    0.596\n",
      "BRIGHT1       2  735      3.21   2357.23   3142.98  10170.2    0.596\n",
      "BRIGHT1       2  736      3.21   2360.44   3147.25  10177.1    0.596\n",
      "BRIGHT1       2  737      3.21   2363.65   3151.53  10184.0    0.596\n",
      "BRIGHT1       2  738      3.21   2366.85   3155.81  10190.9    0.596\n",
      "BRIGHT1       2  739      3.21   2370.06   3160.08  10197.8    0.596\n",
      "BRIGHT1       2  740      3.21   2373.27   3164.36  10204.7    0.596\n",
      "Length = 108 rows\n"
     ]
    }
   ],
   "source": [
    "print(t_all)\n",
    "#print(t_all[t_all['Pattern']=='BRIGHT2'])"
   ]
  },
  {
   "cell_type": "code",
   "execution_count": 34,
   "metadata": {
    "collapsed": true
   },
   "outputs": [],
   "source": [
    "t['t_int'].format"
   ]
  },
  {
   "cell_type": "code",
   "execution_count": 26,
   "metadata": {
    "collapsed": false
   },
   "outputs": [
    {
     "name": "stdout",
     "output_type": "stream",
     "text": [
      "{u't_frame': 10.73677, u't_int': 10.73677, u't_exp': 10.73677, u't_acq': 21.47354, u't_group': 10.73677}\n",
      "{u'nint': 1, u'nd3': 0, u'nf': 1, u'read_mode': u'RAPID', u'ypix': 2048, u'ngroup': 1, u'nd1': 0, u'y0': 0, u'x0': 0, u'nd2': 0, u'wind_mode': u'FULL', u'xpix': 2048}\n"
     ]
    },
    {
     "data": {
      "text/plain": [
       "2834.405588234561"
      ]
     },
     "execution_count": 26,
     "metadata": {},
     "output_type": "execute_result"
    }
   ],
   "source": [
    "print(nrc.multiaccum_times)\n",
    "print(nrc.det_info)\n",
    "nrc.sensitivity(sp=sp, forwardSNR=True)[0]['snr']"
   ]
  },
  {
   "cell_type": "code",
   "execution_count": 12,
   "metadata": {
    "collapsed": false
   },
   "outputs": [
    {
     "data": {
      "text/plain": [
       "[u'CUSTOM',\n",
       " u'BRIGHT1',\n",
       " u'BRIGHT2',\n",
       " u'DEEP2',\n",
       " u'DEEP8',\n",
       " u'MEDIUM2',\n",
       " u'MEDIUM8',\n",
       " u'RAPID',\n",
       " u'SHALLOW2',\n",
       " u'SHALLOW4']"
      ]
     },
     "execution_count": 12,
     "metadata": {},
     "output_type": "execute_result"
    }
   ],
   "source": [
    "# Input maximum acq time\n",
    "# Output ramp settings that maximize SNR \n",
    "nrc.multiaccum.patterns_list"
   ]
  },
  {
   "cell_type": "code",
   "execution_count": null,
   "metadata": {
    "collapsed": true
   },
   "outputs": [],
   "source": [
    "nrc.update_detectors()"
   ]
  },
  {
   "cell_type": "code",
   "execution_count": 8,
   "metadata": {
    "collapsed": false
   },
   "outputs": [
    {
     "data": {
      "text/plain": [
       "[u'RAPID',\n",
       " u'BRIGHT2',\n",
       " u'BRIGHT1',\n",
       " u'MEDIUM8',\n",
       " u'DEEP8',\n",
       " u'DEEP2',\n",
       " u'SHALLOW4',\n",
       " u'MEDIUM2',\n",
       " u'SHALLOW2']"
      ]
     },
     "execution_count": 8,
     "metadata": {},
     "output_type": "execute_result"
    }
   ],
   "source": [
    "nrc.multiaccum._pattern_settings.keys()"
   ]
  },
  {
   "cell_type": "code",
   "execution_count": null,
   "metadata": {
    "collapsed": true
   },
   "outputs": [],
   "source": []
  }
 ],
 "metadata": {
  "kernelspec": {
   "display_name": "Python [default]",
   "language": "python",
   "name": "python2"
  },
  "language_info": {
   "codemirror_mode": {
    "name": "ipython",
    "version": 2
   },
   "file_extension": ".py",
   "mimetype": "text/x-python",
   "name": "python",
   "nbconvert_exporter": "python",
   "pygments_lexer": "ipython2",
   "version": "2.7.12"
  }
 },
 "nbformat": 4,
 "nbformat_minor": 0
}
