{
 "cells": [
  {
   "cell_type": "code",
   "execution_count": 1,
   "metadata": {
    "collapsed": false
   },
   "outputs": [],
   "source": [
    "# Makes print and division act like Python 3\n",
    "from __future__ import print_function, division\n",
    "\n",
    "# Import the usual libraries\n",
    "import numpy as np\n",
    "import matplotlib\n",
    "import matplotlib.pyplot as plt\n",
    "\n",
    "# Enable inline plotting at lower left\n",
    "%matplotlib inline\n",
    "matplotlib.rcParams['image.origin'] = 'lower'\n",
    "matplotlib.rcParams['image.interpolation'] = 'none'\n",
    "\n",
    "# seaborn package for making pretty plots, but not necessary\n",
    "try:\n",
    "    import seaborn as sns\n",
    "    params =   {'xtick.direction': 'in', 'ytick.direction': 'in', 'font.family': ['serif'],\n",
    "                'text.usetex': True, 'text.latex.preamble': ['\\usepackage{gensymb}']}\n",
    "    sns.set_style(\"ticks\", params)\n",
    "except ImportError:\n",
    "    print('Seaborn module is not installed.')\n",
    "    \n",
    "from IPython.display import display, Latex"
   ]
  },
  {
   "cell_type": "code",
   "execution_count": 2,
   "metadata": {
    "collapsed": false
   },
   "outputs": [],
   "source": [
    "import pynrc\n",
    "# Link to Pysnyphot\n",
    "S = pynrc.nrc_utils.S\n",
    "\n",
    "from astropy.io import ascii"
   ]
  },
  {
   "cell_type": "markdown",
   "metadata": {},
   "source": [
    "## Grism Saturation Limits"
   ]
  },
  {
   "cell_type": "code",
   "execution_count": 3,
   "metadata": {
    "collapsed": false,
    "scrolled": true
   },
   "outputs": [],
   "source": [
    "# Initiate NIRCam observation\n",
    "pynrc.setup_logging('WARN', verbose=False)\n",
    "nrc = pynrc.NIRCam('F322W2', pupil='GRISM0', wind_mode='STRIPE', ngroup=2, ypix=64, module='A')\n",
    "\n",
    "# Want to know K-Band limiting magnitude\n",
    "#bp_k = S.ObsBandpass('johnson,k')\n",
    "ks = ascii.read(\"2mass_ks.txt\", data_start=0)\n",
    "bp_k = S.ArrayBandpass(ks['col1']*1e4, ks['col2'], name='Ks-Band')\n",
    "\n",
    "# Spectral types to check\n",
    "sp_A0V = pynrc.stellar_spectrum('A0V')\n",
    "sp_M2V = pynrc.stellar_spectrum('M2V')\n",
    "\n",
    "# Check ramp settings and times\n",
    "#ramp_settings = nrc.multiaccum.to_dict(verbose=True)\n",
    "#ramp_times = nrc.Detectors[0].times_to_dict(verbose=True)"
   ]
  },
  {
   "cell_type": "code",
   "execution_count": 4,
   "metadata": {
    "collapsed": false
   },
   "outputs": [],
   "source": [
    "# F322W Saturation limits\n",
    "nrc.filter = 'F322W2'\n",
    "sat_F322W_A0V = nrc.sat_limits(sp_A0V, bp_k)\n",
    "sat_F322W_M2V = nrc.sat_limits(sp_M2V, bp_k)"
   ]
  },
  {
   "cell_type": "code",
   "execution_count": 5,
   "metadata": {
    "collapsed": true
   },
   "outputs": [],
   "source": [
    "# F444W Saturation limits\n",
    "nrc.filter = 'F444W'\n",
    "sat_F444W_A0V = nrc.sat_limits(sp_A0V, bp_k)\n",
    "sat_F444W_M2V = nrc.sat_limits(sp_M2V, bp_k)"
   ]
  },
  {
   "cell_type": "code",
   "execution_count": 6,
   "metadata": {
    "collapsed": true
   },
   "outputs": [],
   "source": [
    "# Wavelengths to interoplate\n",
    "waves3 = np.arange(2.5,4.1,0.2) # F322W2\n",
    "waves4 = np.arange(4.1,5.1,0.2) # F444W\n",
    "waves = np.concatenate((waves3,waves4))\n",
    "\n",
    "# Interpolate above results and combine\n",
    "sat3 = np.interp(waves3,sat_F322W_A0V['wave'],sat_F322W_A0V['satmag'])\n",
    "sat4 = np.interp(waves4,sat_F444W_A0V['wave'],sat_F444W_A0V['satmag'])\n",
    "sat_A0V = np.concatenate((sat3,sat4))\n",
    "\n",
    "sat3 = np.interp(waves3,sat_F322W_M2V['wave'],sat_F322W_M2V['satmag'])\n",
    "sat4 = np.interp(waves4,sat_F444W_M2V['wave'],sat_F444W_M2V['satmag'])\n",
    "sat_M2V = np.concatenate((sat3,sat4))"
   ]
  },
  {
   "cell_type": "markdown",
   "metadata": {},
   "source": [
    "## Continuum Sensitivities"
   ]
  },
  {
   "cell_type": "code",
   "execution_count": 7,
   "metadata": {
    "collapsed": false
   },
   "outputs": [
    {
     "name": "stdout",
     "output_type": "stream",
     "text": [
      "Filter   Low    NRC    Avg    High   Max   \n",
      "F277W    0.08   0.10   0.20   0.40   0.79  \n",
      "F356W    0.14   0.17   0.35   0.69   1.38  \n",
      "F444W    0.39   0.47   0.98   1.95   3.90  \n",
      "F322W2   0.23   0.27   0.57   1.14   2.27  \n",
      "F430M    0.07   0.09   0.18   0.36   0.71  \n",
      "F460M    0.09   0.11   0.23   0.46   0.92  \n"
     ]
    }
   ],
   "source": [
    "flist = ['F277W', 'F356W', 'F444W', 'F322W2', 'F430M', 'F460M']\n",
    "\n",
    "# Zodiacal Background Rates\n",
    "print('{:<8} {:<6} {:<6} {:<6} {:<6} {:<6}'.format('Filter', 'Low', 'NRC', 'Avg', 'High', 'Max'))\n",
    "for filt in flist:\n",
    "    nrc.filter = filt\n",
    "    print('{:<8} {:<6.2f} {:<6.2f} {:<6.2f} {:<6.2f} {:<6.2f}'\n",
    "        .format(nrc.filter, nrc.bg_zodi(1), nrc.bg_zodi(1.2), \\\n",
    "                nrc.bg_zodi(2.5), nrc.bg_zodi(5), nrc.bg_zodi(10)))"
   ]
  },
  {
   "cell_type": "code",
   "execution_count": 8,
   "metadata": {
    "collapsed": false,
    "scrolled": false
   },
   "outputs": [
    {
     "name": "stdout",
     "output_type": "stream",
     "text": [
      "New Ramp Settings:\n",
      "  read_mode :    DEEP8\n",
      "  nf        :        8\n",
      "  nd2       :       12\n",
      "  ngroup    :       10\n",
      "  nint      :        5\n",
      "New Detector Settings\n",
      "  wind_mode :     FULL\n",
      "  xpix      :     2048\n",
      "  ypix      :     2048\n",
      "  x0        :        0\n",
      "  y0        :        0\n",
      "New Ramp Times\n",
      "  t_group   :  214.735\n",
      "  t_frame   :   10.737\n",
      "  t_int     : 2018.513\n",
      "  t_exp     : 10092.564\n",
      "  t_acq     : 10146.248\n"
     ]
    }
   ],
   "source": [
    "# Continuum sensitivity (10-sigma at 10000-sec)\n",
    "#nrc.update_detectors(wind_mode='FULL', ngroup=93, nint=10, ypix=2048, verbose=True)\n",
    "nrc.update_detectors(wind_mode='FULL', read_mode='DEEP8', ngroup=10, nint=5, ypix=2048, verbose=True)\n",
    "\n",
    "nrc.filter = 'F444W'\n",
    "sens_F444W = nrc.sensitivity(nsig=10, zfact=2.5)\n",
    "\n",
    "nrc.filter='F322W2'\n",
    "sens_F322W = nrc.sensitivity(nsig=10, zfact=2.5)\n",
    "\n",
    "sen3 = np.interp(waves3,sens_F322W['wave'],sens_F322W['sensitivity'])\n",
    "sen4 = np.interp(waves4,sens_F444W['wave'],sens_F444W['sensitivity'])\n",
    "sen_cont = np.concatenate((sen3,sen4))"
   ]
  },
  {
   "cell_type": "markdown",
   "metadata": {},
   "source": [
    "## Grism Resolution"
   ]
  },
  {
   "cell_type": "code",
   "execution_count": 9,
   "metadata": {
    "collapsed": false
   },
   "outputs": [],
   "source": [
    "import multiprocessing as mp\n",
    "\n",
    "#waves = np.arange(2,6.1,0.1)\n",
    "\n",
    "webbpsf = pynrc.nrc_utils.webbpsf\n",
    "inst = webbpsf.NIRCam()\n",
    "inst.options['output_mode'] = 'both'\n",
    "inst.options['parity'] = 'even'\n",
    "inst.pupilopd = None #('OPD_RevV_nircam_136.fits', 0)\n",
    "inst.filter = nrc.filter\n",
    "inst.image_mask = None\n",
    "# WebbPSF doesn't know about the grisms, so set pupil=None, otherwise inst_params['pupil']\n",
    "inst.pupil_mask = None\n",
    "\n",
    "inst.SHORT_WAVELENGTH_MIN = inst.LONG_WAVELENGTH_MIN = 0\n",
    "inst.SHORT_WAVELENGTH_MAX = inst.LONG_WAVELENGTH_MAX = 10e-6"
   ]
  },
  {
   "cell_type": "code",
   "execution_count": 10,
   "metadata": {
    "collapsed": true
   },
   "outputs": [],
   "source": [
    "def wrap_psf_for_mp(args):\n",
    "    \"\"\"\n",
    "    Internal helper routine for parallelizing computations across multiple processors.\n",
    "    \"\"\"\n",
    "    inst,w,fov_pix,oversample = args\n",
    "    hdu_list = inst.calcPSF(outfile=None, save_intermediates=False, oversample=oversample, rebin=True, \\\n",
    "                            fov_pixels=fov_pix, monochromatic=w*1e-6, display=False, normalize='last')\n",
    "\n",
    "    # Original data\n",
    "    data0 = hdu_list[0].data\n",
    "    data1 = hdu_list[1].data\n",
    "\n",
    "    # Scale oversampled data via rebin, then downsample to detector pixels\n",
    "    data0_scale = pynrc.nrc_utils.frebin(data0, scale=(1,1.07))\n",
    "    data0_scale = pynrc.nrc_utils.pad_or_cut_to_size(data0_scale, data0.shape)\n",
    "    data1_scale = pynrc.nrc_utils.frebin(data0_scale, dimensions=data1.shape)\n",
    "    \n",
    "    hdu_list[0].data = data0_scale\n",
    "    hdu_list[1].data = data1_scale\n",
    "\n",
    "    # Oversampled PSF\n",
    "    fwhm_pix = webbpsf.measure_fwhm(hdu_list,0) / hdu_list[0].header['PIXELSCL']\n",
    "    fwhm_over = fwhm_pix / hdu_list[0].header['OVERSAMP ']\n",
    "    # Detector Sampled\n",
    "    fwhm_det = webbpsf.measure_fwhm(hdu_list,1) / hdu_list[1].header['PIXELSCL']\n",
    "    # Diffraction Limit\n",
    "    fwhm_dif = hdu_list[1].header['DIFFLMT'] / hdu_list[1].header['PIXELSCL']\n",
    "\n",
    "    return (fwhm_over,fwhm_det,fwhm_dif)"
   ]
  },
  {
   "cell_type": "code",
   "execution_count": 11,
   "metadata": {
    "collapsed": false
   },
   "outputs": [],
   "source": [
    "nproc = 16\n",
    "npsf = waves.size\n",
    "nproc = np.min([nproc, npsf])\n",
    "np_max = np.ceil(npsf / nproc)\n",
    "nproc = int(np.ceil(npsf / np_max))\n",
    "#print(nproc)\n",
    "\n",
    "fwhm_over_all = []\n",
    "fwhm_det_all = []\n",
    "fwhm_dif_all = []\n",
    "os_arr = [60,61]\n",
    "\n",
    "\n",
    "for os in os_arr:\n",
    "    fov_pix = 16\n",
    "    oversample = os\n",
    "\n",
    "    pool = mp.Pool(nproc)\n",
    "    worker_arguments = [(inst, wlen, fov_pix, oversample) for wlen in waves]\n",
    "    results = pool.map(wrap_psf_for_mp, worker_arguments)\n",
    "    pool.close()\n",
    "    \n",
    "    results = np.array(results)\n",
    "    fwhm_over_all.append(results[:,0])\n",
    "    fwhm_det_all.append(results[:,1])\n",
    "    fwhm_dif_all.append(results[:,2])\n",
    "\n",
    "# Oversampled\n",
    "test = np.array(fwhm_over_all)\n",
    "fwhm_mean = test.mean(axis=0)\n",
    "z = np.polyfit(waves, fwhm_mean, 3)\n",
    "pfit = np.poly1d(z)\n",
    "fwhm_over = pfit(waves)\n",
    "\n",
    "# Detector Sampled\n",
    "test = np.array(fwhm_det_all)\n",
    "fwhm_mean = test.mean(axis=0)\n",
    "z = np.polyfit(waves, fwhm_mean, 3)\n",
    "pfit = np.poly1d(z)\n",
    "fwhm_det = pfit(waves)\n",
    "\n",
    "# Diffraction Limit\n",
    "test = np.array(fwhm_dif_all)\n",
    "fwhm_mean = test.mean(axis=0)\n",
    "z = np.polyfit(waves, fwhm_mean, 3)\n",
    "pfit = np.poly1d(z)\n",
    "fwhm_dif = pfit(waves)"
   ]
  },
  {
   "cell_type": "code",
   "execution_count": 12,
   "metadata": {
    "collapsed": false
   },
   "outputs": [
    {
     "name": "stdout",
     "output_type": "stream",
     "text": [
      "1786.93927887 1672.32494583 2012.10478132\n"
     ]
    },
    {
     "data": {
      "image/png": "[encoded data removed]",
      "text/plain": [
       "<matplotlib.figure.Figure at 0x11f692490>"
      ]
     },
     "metadata": {},
     "output_type": "display_data"
    }
   ],
   "source": [
    "#res = 996.48\n",
    "#disp = 0.0010035\n",
    "#res = 1 / disp\n",
    "res, dw = pynrc.nrc_utils.grism_res(nrc.pupil,nrc.module)\n",
    "\n",
    "f, (ax1, ax2) = plt.subplots(1,2, figsize=(13,4))\n",
    "\n",
    "#for i in range(len(os_arr)):\n",
    "#    ax1.plot(waves, fwhm_pix_all[i], label ='Oversample=%i'%(os_arr[i]))\n",
    "ax1.plot(waves, fwhm_over, label='Oversampled PSF')\n",
    "ax1.plot(waves, fwhm_det,  label='Detector Sampled')\n",
    "ax1.plot(waves, fwhm_dif,  label='Diffraction Limit ($\\lambda/D$)')\n",
    "ax1.set_xlabel('Wavelength ($\\mu$m)')\n",
    "ax1.set_ylabel('FWHM (pixels)')\n",
    "ax1.set_title('FWHM Measurements')\n",
    "ax1.legend(loc='best')\n",
    "ax1.set_xlim([2.3,5.1])\n",
    "ax1.set_ylim([1.0,3.5])\n",
    "ax1.minorticks_on()\n",
    "\n",
    "R_over = waves*res/fwhm_over\n",
    "R_det = waves*res/fwhm_det\n",
    "R_dif = waves*res/fwhm_dif\n",
    "\n",
    "#for i in range(len(os_arr)):\n",
    "#    d_lambda = fwhm_pix_all[i]\n",
    "#    ax2.plot(waves, waves*res/d_lambda, label ='Oversample=%i'%(os_arr[i]))\n",
    "ax2.plot(waves, R_over, label='Oversampled PSF')\n",
    "ax2.plot(waves, R_det,  label='Detector Sampled')\n",
    "ax2.plot(waves, R_dif,  label='Diffraction Limit ($\\lambda/D$)')\n",
    "ax2.set_xlabel('Wavelength ($\\mu$m)')\n",
    "ax2.set_ylabel('$R=\\lambda/\\Delta\\lambda$')\n",
    "ax2.set_title('NIRCam Grism Point Source Resolving Power')\n",
    "ax2.legend(loc='best')\n",
    "ax2.set_xlim([2.3,5.1])\n",
    "ax2.set_ylim([1000,2100])\n",
    "ax2.minorticks_on()\n",
    "\n",
    "print(R_over.max(),R_det.max(),R_dif.max())"
   ]
  },
  {
   "cell_type": "code",
   "execution_count": 13,
   "metadata": {
    "collapsed": false
   },
   "outputs": [],
   "source": [
    "#from astropy.table import Table\n",
    "#data = [waves, fwhm_det, fwhm_over, R_det, R_over]\n",
    "#names = ['Wavelength', 'FWHM_det', 'FWHM_over', 'Res_det', 'Res_over']\n",
    "#tbl = Table(data, names=names)\n",
    "#tbl.write('table.dat', format='ascii')"
   ]
  },
  {
   "cell_type": "markdown",
   "metadata": {},
   "source": [
    "## Unresolved Line Sensitivities"
   ]
  },
  {
   "cell_type": "code",
   "execution_count": 14,
   "metadata": {
    "collapsed": false
   },
   "outputs": [],
   "source": [
    "# F_line[W/m^2] = 3e-18 * F_cont[uJy] / (wave[um] * R) \n",
    "sen_line = 3e-18 * sen_cont / (waves * R_det) "
   ]
  },
  {
   "cell_type": "markdown",
   "metadata": {},
   "source": [
    "## Final values"
   ]
  },
  {
   "cell_type": "code",
   "execution_count": 15,
   "metadata": {
    "collapsed": false,
    "scrolled": true
   },
   "outputs": [
    {
     "name": "stdout",
     "output_type": "stream",
     "text": [
      "Wave   Res       Fcont  Fline     K_A0V  K_M2V  \n",
      "2.5    1206.11   9.04   8.99e-21  4.23   4.19   \n",
      "2.7    1287.87   6.75   5.82e-21  4.38   4.35   \n",
      "2.9    1360.90   6.00   4.56e-21  4.31   4.31   \n",
      "3.1    1424.93   6.49   4.41e-21  4.07   4.12   \n",
      "3.3    1480.06   5.18   3.18e-21  4.12   4.27   \n",
      "3.5    1526.63   5.10   2.86e-21  3.98   4.19   \n",
      "3.7    1565.22   5.02   2.60e-21  3.87   4.08   \n",
      "3.9    1596.54   5.42   2.61e-21  3.66   3.90   \n",
      "4.1    1621.39   7.63   3.44e-21  3.40   3.64   \n",
      "4.3    1640.59   8.52   3.62e-21  3.14   3.39   \n",
      "4.5    1654.97   9.95   4.01e-21  2.87   3.00   \n",
      "4.7    1665.31   12.59  4.83e-21  2.45   2.72   \n",
      "4.9    1672.32   16.62  6.09e-21  2.10   2.36   \n"
     ]
    }
   ],
   "source": [
    "arr = np.array([waves,R_det,sen_cont,sen_line,sat_A0V,sat_M2V]).T\n",
    "matrix = arr.tolist()\n",
    "print('{:<7}{:<10}{:<7}{:<10}{:<7}{:<7}'.format('Wave','Res','Fcont','Fline','K_A0V','K_M2V'))\n",
    "for row in matrix:\n",
    "    print('{:<7.1f}{:<10.2f}{:<7.2f}{:<10.2e}{:<7.2f}{:<7.2f}'.format(*tuple(row)))\n"
   ]
  },
  {
   "cell_type": "code",
   "execution_count": null,
   "metadata": {
    "collapsed": true
   },
   "outputs": [],
   "source": []
  }
 ],
 "metadata": {
  "anaconda-cloud": {},
  "kernelspec": {
   "display_name": "Python [default]",
   "language": "python",
   "name": "python2"
  },
  "language_info": {
   "codemirror_mode": {
    "name": "ipython",
    "version": 2
   },
   "file_extension": ".py",
   "mimetype": "text/x-python",
   "name": "python",
   "nbconvert_exporter": "python",
   "pygments_lexer": "ipython2",
   "version": "2.7.12"
  }
 },
 "nbformat": 4,
 "nbformat_minor": 0
}
