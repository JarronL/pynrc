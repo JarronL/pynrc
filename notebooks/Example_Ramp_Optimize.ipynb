{
 "cells": [
  {
   "cell_type": "markdown",
   "metadata": {},
   "source": [
    "# Optimize Ramp Settings\n",
    "\n",
    "This notebook outlines an example to optimize the ramp settings for a few different types of observations.\n",
    "\n",
    "In these types of optimizations, we must consider observations constraints such as saturation levels, SNR requirements, and limits on acquisition time.\n",
    "\n",
    "**Note**: The reported acquisition time does not include obsevatory and instrument-level overheads, such as slew times, filter changes, script compilations, etc. It only includes detector readout times (including reset frames)."
   ]
  },
  {
   "cell_type": "code",
   "execution_count": 1,
   "metadata": {
    "collapsed": true
   },
   "outputs": [],
   "source": [
    "## Standard imports\n",
    "\n",
    "# Makes print and division act like Python 3\n",
    "from __future__ import print_function, division\n",
    "\n",
    "# Import the usual libraries\n",
    "import numpy as np\n",
    "import matplotlib\n",
    "import matplotlib.pyplot as plt\n",
    "\n",
    "# Enable inline plotting at lower left\n",
    "%matplotlib inline\n",
    "matplotlib.rcParams['image.origin'] = 'lower'\n",
    "matplotlib.rcParams['image.interpolation'] = 'none'\n",
    "\n",
    "# seaborn package for making pretty plots, but not necessary\n",
    "try:\n",
    "    import seaborn as sns\n",
    "    params =   {'xtick.direction': 'in', 'ytick.direction': 'in', 'font.family': ['serif'],\n",
    "                'text.usetex': True, 'text.latex.preamble': ['\\usepackage{gensymb}']}\n",
    "    sns.set_style(\"ticks\", params)\n",
    "except ImportError:\n",
    "    print('Seaborn module is not installed. Not strictly required, but is a useful package!')\n",
    "    \n",
    "from IPython.display import display, Latex, clear_output"
   ]
  },
  {
   "cell_type": "code",
   "execution_count": 2,
   "metadata": {
    "collapsed": false
   },
   "outputs": [],
   "source": [
    "import pynrc\n",
    "from pynrc import nrc_utils\n",
    "from pynrc.nrc_utils import (webbpsf, poppy, pix_noise, S)\n",
    "from pynrc.pynrc_core import table_filter\n",
    "\n",
    "pynrc.setup_logging('WARNING', verbose=False)\n",
    "\n",
    "from astropy.table import Table"
   ]
  },
  {
   "cell_type": "markdown",
   "metadata": {},
   "source": [
    "## Example 1: M-Dwarf companion\n",
    "\n",
    "We want to observe an M-Dwarf companion (K=18 mag) orbiting an F0V primary (K=10 mag) in the F430M filter. Assume the M-Dwarf flux is not significantly impacted by the primary's PSF (ie., in the background limited regime). In this scenario, the F0V star will saturate much more quickly compared to the fainter companion, so it limits which ramp settings we can use.\n",
    "\n",
    "We will test a couple different types of observations (direct imaging vs coronagraphy)."
   ]
  },
  {
   "cell_type": "code",
   "execution_count": 13,
   "metadata": {
    "collapsed": true
   },
   "outputs": [],
   "source": [
    "# Get stellar spectra and normalize at K-Band\n",
    "# The stellar_spectrum convenience function creates a Pysynphot spectrum\n",
    "bp_k = S.ObsBandpass('k')\n",
    "sp_M2V = pynrc.stellar_spectrum('M2V', 18, 'vegamag', bp_k)\n",
    "sp_F0V = pynrc.stellar_spectrum('F0V', 10, 'vegamag', bp_k)"
   ]
  },
  {
   "cell_type": "code",
   "execution_count": 20,
   "metadata": {
    "collapsed": true
   },
   "outputs": [],
   "source": [
    "# Initiate a NIRCam observation\n",
    "nrc = pynrc.NIRCam('F430M', wind_mode='WINDOW', xpix=160, ypix=160)"
   ]
  },
  {
   "cell_type": "code",
   "execution_count": 22,
   "metadata": {
    "collapsed": false
   },
   "outputs": [
    {
     "name": "stdout",
     "output_type": "stream",
     "text": [
      "BRIGHT1\n",
      "BRIGHT2\n",
      "DEEP2\n",
      "DEEP8\n",
      "MEDIUM2\n",
      "MEDIUM8\n",
      "RAPID\n",
      "SHALLOW2\n",
      "SHALLOW4\n",
      " Pattern   NGRP NINT   t_int     t_exp     t_acq     SNR      Well     eff   \n",
      "---------- ---- ---- --------- --------- --------- -------- -------- --------\n",
      "RAPID         9  510      2.51   1278.96   1421.06    100.0    0.707    2.651\n",
      "RAPID         9  511      2.51   1281.47   1423.85    100.1    0.707    2.651\n",
      "RAPID         9  512      2.51   1283.97   1426.64    100.2    0.707    2.651\n",
      "RAPID         9  513      2.51   1286.48   1429.42    100.3    0.707    2.651\n",
      "RAPID         9  514      2.51   1288.99   1432.21    100.3    0.707    2.651\n",
      "RAPID         9  515      2.51   1291.50   1435.00    100.4    0.707    2.651\n",
      "RAPID         9  516      2.51   1294.00   1437.78    100.5    0.707    2.651\n",
      "RAPID         9  517      2.51   1296.51   1440.57    100.6    0.707    2.651\n",
      "RAPID         9  518      2.51   1299.02   1443.36    100.7    0.707    2.651\n",
      "RAPID         9  519      2.51   1301.53   1446.14    100.8    0.707    2.651\n",
      "...         ...  ...       ...       ...       ...      ...      ...      ...\n",
      "BRIGHT1       5  720      2.51   1805.59   2006.21    101.4    0.707    2.262\n",
      "BRIGHT1       5  721      2.51   1808.09   2008.99    101.4    0.707    2.262\n",
      "BRIGHT1       5  722      2.51   1810.60   2011.78    101.5    0.707    2.262\n",
      "BRIGHT1       5  723      2.51   1813.11   2014.57    101.6    0.707    2.262\n",
      "BRIGHT1       5  724      2.51   1815.62   2017.35    101.6    0.707    2.262\n",
      "BRIGHT1       5  725      2.51   1818.13   2020.14    101.7    0.707    2.262\n",
      "BRIGHT1       5  726      2.51   1820.63   2022.93    101.8    0.707    2.262\n",
      "BRIGHT1       5  727      2.51   1823.14   2025.71    101.8    0.707    2.262\n",
      "BRIGHT1       5  728      2.51   1825.65   2028.50    101.9    0.707    2.262\n",
      "BRIGHT1       5  729      2.51   1828.16   2031.29    102.0    0.707    2.262\n",
      "BRIGHT1       5  730      2.51   1830.66   2034.07    102.1    0.707    2.262\n",
      "Length = 113 rows\n"
     ]
    }
   ],
   "source": [
    "# Set some observing constraints\n",
    "# Let's assume we want photometry on the primary to calibrate the M-Dwarf for direct imaging\n",
    "#  - Set well_frac_max=0.75\n",
    "# Want a SNR~100 in the F430M filter\n",
    "#  - Set snr_goal=100\n",
    "res = nrc.ramp_optimize(sp_M2V, sp_bright=sp_F0V, snr_goal=100, well_frac_max=0.75, verbose=True)"
   ]
  },
  {
   "cell_type": "code",
   "execution_count": 23,
   "metadata": {
    "collapsed": false
   },
   "outputs": [
    {
     "name": "stdout",
     "output_type": "stream",
     "text": [
      " Pattern   NGRP NINT   t_int     t_exp     t_acq     SNR      Well     eff   \n",
      "---------- ---- ---- --------- --------- --------- -------- -------- --------\n",
      "RAPID         9  510      2.51   1278.96   1421.06    100.0    0.707    2.651\n",
      "RAPID         9  511      2.51   1281.47   1423.85    100.1    0.707    2.651\n",
      "BRIGHT1       5  700      2.51   1755.43   1950.48     99.9    0.707    2.262\n",
      "BRIGHT1       5  701      2.51   1757.94   1953.27    100.0    0.707    2.262\n",
      "BRIGHT2       4  751      2.23   1674.07   1883.33    100.0    0.628    2.303\n",
      "BRIGHT2       4  752      2.23   1676.30   1885.84    100.0    0.628    2.303\n",
      "SHALLOW4      2  621      2.51   1557.32   1730.35    100.0    0.707    2.403\n",
      "SHALLOW4      2  622      2.51   1559.83   1733.14    100.1    0.707    2.403\n"
     ]
    }
   ],
   "source": [
    "# Print the Top 2 settings for each readout pattern\n",
    "res2 = table_filter(res, 2)\n",
    "print(res2)"
   ]
  },
  {
   "cell_type": "code",
   "execution_count": 17,
   "metadata": {
    "collapsed": false
   },
   "outputs": [
    {
     "name": "stdout",
     "output_type": "stream",
     "text": [
      " Pattern   NGRP NINT   t_int     t_exp     t_acq     SNR      Well     eff   \n",
      "---------- ---- ---- --------- --------- --------- -------- -------- --------\n",
      "MEDIUM8      10   73    104.77   7647.91   7725.95     99.4    0.001    1.130\n",
      "MEDIUM8      10   74    104.77   7752.68   7831.79    100.1    0.001    1.130\n",
      "DEEP8        20   11    414.79   4562.66   4574.42     99.4    0.003    1.469\n",
      "DEEP8        20   12    414.79   4977.45   4990.28    103.8    0.003    1.469\n"
     ]
    }
   ],
   "source": [
    "# Do the same thing, but for coronagraphic mask instead\n",
    "nrc._mask = 'MASK430R'; nrc._pupil = 'CIRCLYOT'\n",
    "nrc.update_detectors(xpix=320, ypix=320)\n",
    "\n",
    "# We assume that longer ramps will give us the best SNR for time\n",
    "patterns = ['MEDIUM8', 'DEEP8']\n",
    "res = nrc.ramp_optimize(sp_M2V, sp_bright=sp_F0V, snr_goal=100, patterns=patterns)\n",
    "\n",
    "# Take the Top 2 settings for each readout pattern\n",
    "res2 = table_filter(res, 2)\n",
    "print(res2)"
   ]
  },
  {
   "cell_type": "markdown",
   "metadata": {
    "collapsed": true
   },
   "source": [
    "#### RESULTS\n",
    "\n",
    "Based on these two comparisons, it looks like direct imaging is much more efficient in getting to the requisite SNR. In addition, direct imaging gives us a photometric comparison source that is inaccessible with the coronagraph masks."
   ]
  },
  {
   "cell_type": "markdown",
   "metadata": {},
   "source": [
    "## Example 2: Exoplanet Coronagraphy\n",
    "\n",
    "We want to observe GJ 504 for an hour in the F444W filter. \n",
    " - What is the optimal ramp settings to maximize the SNR of GJ 504b?\n",
    " - What is the final background sensitivity limit?"
   ]
  },
  {
   "cell_type": "code",
   "execution_count": 3,
   "metadata": {
    "collapsed": false
   },
   "outputs": [],
   "source": [
    "# Get stellar spectra and normalize at K-Band\n",
    "# The stellar_spectrum convenience function creates a Pysynphot spectrum\n",
    "bp_k = S.ObsBandpass('k')\n",
    "sp_G0V = pynrc.stellar_spectrum('G0V', 4, 'vegamag', bp_k)\n",
    "\n",
    "# Choose a representative planet spectrum\n",
    "planet = pynrc.planets_sb11(atmo='hy3s', mass=8, age=200, entropy=8, distance=17.5)\n",
    "sp_pl = planet.export_pysynphot()\n",
    "\n",
    "# Renormalize to F360M = 18.8\n",
    "bp_l = pynrc.read_filter('F360M') # \n",
    "sp_pl = sp_pl.renorm(18.8, 'vegamag', bp_l)"
   ]
  },
  {
   "cell_type": "code",
   "execution_count": 4,
   "metadata": {
    "collapsed": true
   },
   "outputs": [],
   "source": [
    "# Initiate a NIRCam observation\n",
    "nrc = pynrc.NIRCam('F444W', pupil='CIRCLYOT', mask='MASK430R', wind_mode='WINDOW', xpix=160, ypix=160)"
   ]
  },
  {
   "cell_type": "code",
   "execution_count": 149,
   "metadata": {
    "collapsed": false
   },
   "outputs": [
    {
     "name": "stdout",
     "output_type": "stream",
     "text": [
      "BRIGHT1\n",
      "BRIGHT2\n",
      "DEEP2\n",
      "DEEP8\n",
      "MEDIUM2\n",
      "MEDIUM8\n",
      "RAPID\n",
      "SHALLOW2\n",
      "SHALLOW4\n",
      " Pattern   NGRP NINT   t_int     t_exp     t_acq     SNR      Well     eff   \n",
      "---------- ---- ---- --------- --------- --------- -------- -------- --------\n",
      "DEEP8        20   31    108.11   3351.48   3360.12    635.3    0.448   10.960\n",
      "DEEP8        20   32    108.11   3459.59   3468.51    645.5    0.448   10.960\n",
      "DEEP8        20   33    108.11   3567.71   3576.90    655.5    0.448   10.960\n",
      "DEEP8        20   34    108.11   3675.82   3685.29    665.4    0.448   10.960\n",
      "DEEP8        20   35    108.11   3783.93   3793.68    675.1    0.448   10.960\n",
      "DEEP8        19   33    102.54   3383.80   3393.00    637.6    0.425   10.945\n",
      "DEEP8        19   34    102.54   3486.34   3495.82    647.2    0.425   10.945\n",
      "DEEP8        19   35    102.54   3588.88   3598.64    656.6    0.425   10.945\n",
      "DEEP8        19   36    102.54   3691.42   3701.45    665.9    0.425   10.945\n",
      "DEEP8        19   37    102.54   3793.96   3804.27    675.1    0.425   10.945\n",
      "...         ...  ...       ...       ...       ...      ...      ...      ...\n",
      "MEDIUM2       2  949      3.34   3173.15   3437.58    244.1    0.014    4.163\n",
      "SHALLOW2      3  945      3.34   3159.78   3423.09    239.3    0.014    4.090\n",
      "SHALLOW2      3  946      3.34   3163.12   3426.71    239.4    0.014    4.090\n",
      "SHALLOW2      3  947      3.34   3166.46   3430.34    239.6    0.014    4.090\n",
      "SHALLOW2      3  948      3.34   3169.81   3433.96    239.7    0.014    4.090\n",
      "SHALLOW2      3  949      3.34   3173.15   3437.58    239.8    0.014    4.090\n",
      "BRIGHT1       6  982      3.07   3009.87   3283.49    209.8    0.013    3.660\n",
      "BRIGHT1       6  983      3.07   3012.93   3286.84    209.9    0.013    3.660\n",
      "BRIGHT1       6  984      3.07   3016.00   3290.18    210.0    0.013    3.660\n",
      "BRIGHT1       6  985      3.07   3019.06   3293.52    210.1    0.013    3.660\n",
      "BRIGHT1       6  986      3.07   3022.13   3296.87    210.2    0.013    3.660\n",
      "Length = 87 rows\n"
     ]
    }
   ],
   "source": [
    "res = nrc.ramp_optimize(sp_pl, sp_bright=sp_G0V, tacq_max=3600, verbose=True)"
   ]
  },
  {
   "cell_type": "code",
   "execution_count": 150,
   "metadata": {
    "collapsed": false
   },
   "outputs": [
    {
     "name": "stdout",
     "output_type": "stream",
     "text": [
      " Pattern   NGRP NINT   t_int     t_exp     t_acq     SNR      Well     eff   \n",
      "---------- ---- ---- --------- --------- --------- -------- -------- --------\n",
      "BRIGHT1      10  644      5.29   3409.44   3588.88    328.5    0.022    5.483\n",
      "BRIGHT1      10  645      5.29   3414.73   3594.46    328.8    0.022    5.483\n",
      "BRIGHT2      10  613      5.57   3416.13   3586.93    384.8    0.023    6.424\n",
      "BRIGHT2      10  614      5.57   3421.70   3592.78    385.1    0.023    6.424\n",
      "SHALLOW2     10  267     13.10   3496.65   3571.05    506.5    0.054    8.475\n",
      "SHALLOW2     10  268     13.10   3509.75   3584.42    507.4    0.054    8.475\n",
      "SHALLOW4     10  256     13.65   3495.26   3566.59    534.9    0.057    8.957\n",
      "SHALLOW4     10  257     13.65   3508.91   3580.52    536.0    0.057    8.957\n",
      "MEDIUM2      10  137     25.63   3511.98   3550.15    573.5    0.106    9.625\n",
      "MEDIUM2      10  138     25.63   3537.61   3576.07    575.6    0.106    9.625\n",
      "MEDIUM8      10  129     27.31   3522.57   3558.51    597.4    0.113   10.014\n",
      "MEDIUM8      10  130     27.31   3549.87   3586.10    599.7    0.113   10.014\n",
      "DEEP2        20   32    106.44   3406.10   3415.01    638.9    0.441   10.933\n",
      "DEEP2        20   33    106.44   3512.54   3521.73    648.8    0.441   10.933\n",
      "DEEP8        20   31    108.11   3351.48   3360.12    635.3    0.448   10.960\n",
      "DEEP8        20   32    108.11   3459.59   3468.51    645.5    0.448   10.960\n"
     ]
    }
   ],
   "source": [
    "# Take the Top 2 settings for each readout pattern\n",
    "res2 = table_filter(res, 2)\n",
    "print(res2)"
   ]
  },
  {
   "cell_type": "code",
   "execution_count": 5,
   "metadata": {
    "collapsed": false
   },
   "outputs": [
    {
     "name": "stdout",
     "output_type": "stream",
     "text": [
      "t_acq     :   3576.90168\n",
      "t_exp     :   3567.70656\n",
      "t_frame   :      0.27864\n",
      "t_group   :      5.57280\n",
      "t_int     :    108.11232\n",
      "t_int_tot :    108.39096\n"
     ]
    }
   ],
   "source": [
    "# DEEP8 is the obvious winner\n",
    "nrc.update_detectors(read_mode='DEEP8', ngroup=20, nint=33)\n",
    "\n",
    "keys = nrc.multiaccum_times.keys()\n",
    "keys.sort()\n",
    "for k in keys:\n",
    "    print(\"{:<10}: {: 12.5f}\".format(k, nrc.multiaccum_times[k]))"
   ]
  },
  {
   "cell_type": "code",
   "execution_count": 6,
   "metadata": {
    "collapsed": false
   },
   "outputs": [
    {
     "name": "stdout",
     "output_type": "stream",
     "text": [
      "Point Source Sensitivity (5-sigma): 22.17 vegamag\n",
      "Surface Brightness Sensitivity (5-sigma): 23.29 vegamag/arcsec^2\n"
     ]
    }
   ],
   "source": [
    "# Background sensitivity (5 sigma)\n",
    "sens_dict = nrc.sensitivity(nsig=5, units='vegamag', verbose=True)"
   ]
  },
  {
   "cell_type": "markdown",
   "metadata": {},
   "source": [
    "## Example 3: Single-Object Grism Spectroscopy\n",
    "\n",
    "Similar to the above, but instead we want to obtain a slitless grism spectrum of a K=12 mag M9V dwarf. We want SNR~100 at each grism resolution element."
   ]
  },
  {
   "cell_type": "code",
   "execution_count": 165,
   "metadata": {
    "collapsed": true
   },
   "outputs": [],
   "source": [
    "# M9V star at K=12 mags\n",
    "bp_k = S.ObsBandpass('k')\n",
    "sp_M9V = pynrc.stellar_spectrum('M9V', 12, 'vegamag', bp_k)"
   ]
  },
  {
   "cell_type": "code",
   "execution_count": 166,
   "metadata": {
    "collapsed": true
   },
   "outputs": [],
   "source": [
    "nrc = pynrc.NIRCam('F444W', pupil='GRISM0', wind_mode='STRIPE', ypix=64)"
   ]
  },
  {
   "cell_type": "code",
   "execution_count": 80,
   "metadata": {
    "collapsed": false
   },
   "outputs": [
    {
     "name": "stdout",
     "output_type": "stream",
     "text": [
      "BRIGHT1\n",
      "BRIGHT2\n",
      "DEEP2\n",
      "DEEP8\n",
      "MEDIUM2\n",
      "MEDIUM8\n",
      "RAPID\n",
      "SHALLOW2\n",
      "SHALLOW4\n",
      " Pattern   NGRP NINT   t_int     t_exp     t_acq     SNR      Well     eff   \n",
      "---------- ---- ---- --------- --------- --------- -------- -------- --------\n",
      "SHALLOW4      8   11     13.28    146.12    149.87    100.4    0.010    8.202\n",
      "SHALLOW4      8   12     13.28    159.41    163.49    104.9    0.010    8.202\n",
      "SHALLOW2      9   10     14.31    143.06    146.46     98.7    0.011    8.156\n",
      "SHALLOW2      9   11     14.31    157.36    161.11    103.5    0.011    8.156\n",
      "MEDIUM2       5   11     14.31    157.36    161.11     98.7    0.011    7.779\n",
      "MEDIUM2       5   12     14.31    171.67    175.75    103.1    0.011    7.779\n",
      "MEDIUM8       4   12     12.94    155.32    159.41     98.2    0.010    7.776\n",
      "MEDIUM8       4   13     12.94    168.26    172.69    102.2    0.010    7.776\n",
      "DEEP2         3   12     14.31    171.67    175.75    100.1    0.011    7.554\n",
      "DEEP2         3   13     14.31    185.97    190.40    104.2    0.011    7.554\n",
      "...         ...  ...       ...       ...       ...      ...      ...      ...\n",
      "BRIGHT1      10   40      6.47    258.86    272.49     99.9    0.005    6.049\n",
      "BRIGHT1      10   41      6.47    265.34    279.30    101.1    0.005    6.049\n",
      "BRIGHT1      10   42      6.47    271.81    286.11    102.3    0.005    6.049\n",
      "BRIGHT1       8   70      5.11    357.64    381.48    102.5    0.004    5.248\n",
      "RAPID        10  128      3.41    435.98    479.58    100.0    0.003    4.565\n",
      "RAPID        10  129      3.41    439.39    483.33    100.4    0.003    4.565\n",
      "RAPID        10  130      3.41    442.79    487.07    100.8    0.003    4.565\n",
      "RAPID        10  131      3.41    446.20    490.82    101.1    0.003    4.565\n",
      "RAPID        10  132      3.41    449.61    494.57    101.5    0.003    4.565\n",
      "RAPID        10  133      3.41    453.01    498.31    101.9    0.003    4.565\n",
      "RAPID        10  134      3.41    456.42    502.06    102.3    0.003    4.565\n",
      "Length = 29 rows\n"
     ]
    }
   ],
   "source": [
    "# Set a minimum of 10 integrations to be robust against cosmic rays\n",
    "res = nrc.ramp_optimize(sp_M9V, snr_goal=100, nint_min=10, verbose=True)"
   ]
  },
  {
   "cell_type": "code",
   "execution_count": 83,
   "metadata": {
    "collapsed": false
   },
   "outputs": [
    {
     "name": "stdout",
     "output_type": "stream",
     "text": [
      " Pattern   NGRP NINT   t_int     t_exp     t_acq     SNR      Well     eff   \n",
      "---------- ---- ---- --------- --------- --------- -------- -------- --------\n",
      "RAPID        10  128      3.41    435.98    479.58    100.0    0.003    4.565\n",
      "RAPID        10  129      3.41    439.39    483.33    100.4    0.003    4.565\n",
      "BRIGHT1      10   40      6.47    258.86    272.49     99.9    0.005    6.049\n",
      "BRIGHT1      10   41      6.47    265.34    279.30    101.1    0.005    6.049\n",
      "BRIGHT2      10   30      6.81    204.37    214.58     99.9    0.005    6.816\n",
      "BRIGHT2      10   31      6.81    211.18    221.74    101.5    0.005    6.816\n",
      "SHALLOW2      9   10     14.31    143.06    146.46     98.7    0.011    8.156\n",
      "SHALLOW2      9   11     14.31    157.36    161.11    103.5    0.011    8.156\n",
      "SHALLOW4      8   11     13.28    146.12    149.87    100.4    0.010    8.202\n",
      "SHALLOW4      8   12     13.28    159.41    163.49    104.9    0.010    8.202\n",
      "MEDIUM2       5   11     14.31    157.36    161.11     98.7    0.011    7.779\n",
      "MEDIUM2       5   12     14.31    171.67    175.75    103.1    0.011    7.779\n",
      "MEDIUM8       4   12     12.94    155.32    159.41     98.2    0.010    7.776\n",
      "MEDIUM8       4   13     12.94    168.26    172.69    102.2    0.010    7.776\n",
      "DEEP2         3   12     14.31    171.67    175.75    100.1    0.011    7.554\n",
      "DEEP2         3   13     14.31    185.97    190.40    104.2    0.011    7.554\n",
      "DEEP8         2   20      9.54    190.74    197.55    100.2    0.007    7.131\n",
      "DEEP8         2   21      9.54    200.28    207.43    102.7    0.007    7.131\n"
     ]
    }
   ],
   "source": [
    "# Print the Top 2 settings for each readout pattern\n",
    "res2 = table_filter(res, 2)\n",
    "print(res2)"
   ]
  },
  {
   "cell_type": "code",
   "execution_count": 167,
   "metadata": {
    "collapsed": false
   },
   "outputs": [
    {
     "name": "stdout",
     "output_type": "stream",
     "text": [
      "t_acq     :    149.86840\n",
      "t_exp     :    146.12169\n",
      "t_frame   :      0.34061\n",
      "t_group   :      1.70305\n",
      "t_int     :     13.28379\n",
      "t_int_tot :     13.62440\n"
     ]
    }
   ],
   "source": [
    "# Let's say we choose SHALLOW4, NGRP=8, NINT=11\n",
    "# Update detector readout\n",
    "nrc.update_detectors(read_mode='SHALLOW4', ngroup=8, nint=11)\n",
    "\n",
    "keys = nrc.multiaccum_times.keys()\n",
    "keys.sort()\n",
    "for k in keys:\n",
    "    print(\"{:<10}: {: 12.5f}\".format(k, nrc.multiaccum_times[k]))"
   ]
  },
  {
   "cell_type": "code",
   "execution_count": 168,
   "metadata": {
    "collapsed": false
   },
   "outputs": [
    {
     "name": "stdout",
     "output_type": "stream",
     "text": [
      "F444W SNR for M9V source\n",
      "   Wave      SNR    Flux (mJy)\n",
      "--------- --------- ----------\n",
      "     3.80      5.57       5.52\n",
      "     3.90    162.72       5.48\n",
      "     4.00    165.50       4.81\n",
      "     4.10    145.42       3.74\n",
      "     4.20    150.04       4.38\n",
      "     4.30    138.93       4.14\n",
      "     4.40    119.12       3.48\n",
      "     4.50    106.71       3.11\n",
      "     4.60     94.12       2.89\n",
      "     4.70     72.88       2.22\n",
      "     4.80     69.64       2.29\n",
      "     4.90     77.22       3.36\n",
      "     5.00     26.23       1.77\n",
      "     5.10      0.51       2.17\n"
     ]
    }
   ],
   "source": [
    "# Print final wavelength-dependent SNR\n",
    "# For spectroscopy, the snr_goal is the median over the bandpass\n",
    "snr_dict = nrc.sensitivity(sp=sp_M9V, forwardSNR=True, units='mJy', verbose=True, image=image)"
   ]
  },
  {
   "cell_type": "code",
   "execution_count": 169,
   "metadata": {
    "collapsed": false
   },
   "outputs": [],
   "source": [
    "# Make a mock observed spectral image and extract\n",
    "wspec, imspec = nrc.gen_psf(sp=sp_M9V)\n",
    "\n",
    "# Extract 2 spectral x 5 spatial pixels\n",
    "# First, cut out the central 5 pixels\n",
    "imspec_sub = nrc_utils.pad_or_cut_to_size(imspec, (5,imspec.shape[1]))\n",
    "\n",
    "# Sum along the spatial axis\n",
    "spec = imspec_sub.sum(axis=0)\n",
    "\n",
    "# Rebin along spectral direction\n",
    "wspec_rebin = nrc_utils.frebin(wspec, scale=0.5, total=False)\n",
    "spec_rebin = nrc_utils.frebin(spec, scale=0.5)\n",
    "\n",
    "# Estimate noise per extraction element\n",
    "snr_interp = np.interp(wspec_rebin, snr_dict['wave'], snr_dict['snr'])\n",
    "_spec_rebin = spec_rebin / snr_interp"
   ]
  },
  {
   "cell_type": "code",
   "execution_count": 170,
   "metadata": {
    "collapsed": false
   },
   "outputs": [],
   "source": [
    "# Build a quick RSRF\n",
    "sp_M9V.convert('mjy')\n",
    "rsrf = spec / sp_M9V.sample(wspec*1e4)\n",
    "rsrf = nrc_utils.frebin(rsrf, scale=0.5, total=True)\n",
    "\n",
    "spec_rebin_cal = spec_rebin / rsrf\n",
    "_spec_rebin_cal = _spec_rebin / rsrf"
   ]
  },
  {
   "cell_type": "code",
   "execution_count": 172,
   "metadata": {
    "collapsed": false
   },
   "outputs": [],
   "source": [
    "# Add some random Gaussian noise to the spectrum\n",
    "spec_rebin_cal += np.random.normal(scale=_spec_rebin_cal)"
   ]
  },
  {
   "cell_type": "code",
   "execution_count": 173,
   "metadata": {
    "collapsed": false
   },
   "outputs": [
    {
     "data": {
      "image/png": "[encoded data removed]",
      "text/plain": [
       "<matplotlib.figure.Figure at 0x120bf65d0>"
      ]
     },
     "metadata": {},
     "output_type": "display_data"
    }
   ],
   "source": [
    "# Overplot the spectrum \n",
    "fig, ax = plt.subplots(1,1, figsize=(12,8))\n",
    "\n",
    "ax.plot(sp_M9V.wave/1e4, sp_M9V.flux, label='Input Spectrum')\n",
    "ax.plot(wspec_rebin, spec_rebin_cal, label='Extracted Observation')\n",
    "plt.errorbar(wspec_rebin,spec_rebin_cal, yerr=_spec_rebin_cal, zorder=3,\n",
    "             fmt='.', label='Error Bars')\n",
    "ax.legend(loc='best')\n",
    "\n",
    "xr = np.array([wspec_rebin.min(), wspec_rebin.max()])\n",
    "dx = 0.025*(xr[1]-xr[0])\n",
    "xr[0] -= dx; xr[1] += dx\n",
    "\n",
    "yr = np.array([np.min(spec_rebin_cal-_spec_rebin_cal), np.max(spec_rebin_cal+_spec_rebin_cal)])\n",
    "dy = 0.05*(yr[1]-yr[0])\n",
    "yr[0] -= dy; yr[1] += dy\n",
    "yr[0] = np.max([0,yr[0]])\n",
    "\n",
    "ax.set_xlim(xr)\n",
    "ax.set_ylim(yr)\n",
    "ax.set_xlabel('Wavelength ($\\mu m$)')\n",
    "ax.set_ylabel('Flux (mJy)')\n",
    "\n",
    "ax.minorticks_on()\n",
    "\n",
    "\n",
    "#ax.set_xlim([3.6,3.8])\n",
    "#ax.set_ylim([5,10])\n"
   ]
  },
  {
   "cell_type": "markdown",
   "metadata": {},
   "source": [
    "## Example 4: Exoplanet Transit Spectroscopy\n",
    "\n",
    "Let's say we want to observe an exoplanet transit using NIRCam grisms in the F322W2 filter. \n",
    "\n",
    "We assume a 2.1-hour transit duration for a K6V star (K=8.4 mag)."
   ]
  },
  {
   "cell_type": "code",
   "execution_count": 3,
   "metadata": {
    "collapsed": true
   },
   "outputs": [],
   "source": [
    "nrc = pynrc.NIRCam('F322W2', pupil='GRISM0', wind_mode='STRIPE', ypix=64)"
   ]
  },
  {
   "cell_type": "code",
   "execution_count": 4,
   "metadata": {
    "collapsed": true
   },
   "outputs": [],
   "source": [
    "# K6V star at K=8.4 mags\n",
    "bp_k = S.ObsBandpass('k')\n",
    "sp_K6V = pynrc.stellar_spectrum('K6V', 8.4, 'vegamag', bp_k)"
   ]
  },
  {
   "cell_type": "code",
   "execution_count": 5,
   "metadata": {
    "collapsed": true
   },
   "outputs": [],
   "source": [
    "# Constraints\n",
    "well     = 0.5        # keep well below 50% full\n",
    "tacq     = 2.1*3600.  # 2.1 hour transit duration\n",
    "ng_max   = 30         # transit spectroscopy allows for up to 30 groups per integrations\n",
    "nint_max = int(1e6)   # Effectively no limit on number of integrations\n",
    "\n",
    "# Let's bin the spectrum to R~100\n",
    "# dw_bin is a passable parameter for specifiying spectral bin sizes\n",
    "R = 100\n",
    "dw_bin = (nrc.bandpass.avgwave() / 10000) / R"
   ]
  },
  {
   "cell_type": "code",
   "execution_count": 6,
   "metadata": {
    "collapsed": false
   },
   "outputs": [
    {
     "name": "stdout",
     "output_type": "stream",
     "text": [
      "BRIGHT1\n",
      "BRIGHT2\n",
      "DEEP2\n",
      "DEEP8\n",
      "MEDIUM2\n",
      "MEDIUM8\n",
      "RAPID\n",
      "SHALLOW2\n",
      "SHALLOW4\n",
      " Pattern   NGRP NINT   t_int     t_exp     t_acq     SNR      Well     eff   \n",
      "---------- ---- ---- --------- --------- --------- -------- -------- --------\n",
      "BRIGHT1      24  461     16.01   7380.00   7537.02  30985.5    0.499  356.910\n",
      "BRIGHT1      24  462     16.01   7396.01   7553.37  31019.1    0.499  356.910\n",
      "BRIGHT1      24  463     16.01   7412.01   7569.72  31052.7    0.499  356.910\n",
      "BRIGHT1      24  464     16.01   7428.02   7586.07  31086.2    0.499  356.910\n",
      "BRIGHT1      24  465     16.01   7444.03   7602.42  31119.7    0.499  356.910\n",
      "BRIGHT1      23  481     15.33   7372.50   7536.34  30950.8    0.478  356.526\n",
      "BRIGHT1      22  502     14.65   7352.41   7523.39  30887.5    0.457  356.102\n",
      "BRIGHT2      23  470     15.67   7363.99   7524.07  30620.2    0.489  353.004\n",
      "BRIGHT2      23  471     15.67   7379.66   7540.08  30652.7    0.489  353.004\n",
      "BRIGHT2      23  472     15.67   7395.32   7556.09  30685.2    0.489  353.004\n",
      "...         ...  ...       ...       ...       ...      ...      ...      ...\n",
      "SHALLOW4      9  495     14.99   7418.49   7587.09  29955.7    0.467  343.907\n",
      "MEDIUM8       4  567     12.94   7338.78   7531.91  27764.4    0.404  319.916\n",
      "MEDIUM8       4  568     12.94   7351.73   7545.19  27788.9    0.404  319.916\n",
      "MEDIUM8       4  569     12.94   7364.67   7558.48  27813.3    0.404  319.916\n",
      "MEDIUM8       4  570     12.94   7377.61   7571.76  27837.8    0.404  319.916\n",
      "MEDIUM8       4  571     12.94   7390.56   7585.04  27862.2    0.404  319.916\n",
      "DEEP8         2  763      9.54   7276.79   7536.68  26287.1    0.297  302.797\n",
      "DEEP8         2  764      9.54   7286.33   7546.56  26304.3    0.297  302.797\n",
      "DEEP8         2  765      9.54   7295.87   7556.43  26321.5    0.297  302.797\n",
      "DEEP8         2  766      9.54   7305.40   7566.31  26338.7    0.297  302.797\n",
      "DEEP8         2  767      9.54   7314.94   7576.19  26355.9    0.297  302.797\n",
      "Length = 49 rows\n"
     ]
    }
   ],
   "source": [
    "res = nrc.ramp_optimize(sp_K6V, tacq_max=tacq, nint_max=nint_max, ng_max=ng_max, well_frac_max=well,\n",
    "                        dw_bin=dw_bin, verbose=True)"
   ]
  },
  {
   "cell_type": "code",
   "execution_count": 7,
   "metadata": {
    "collapsed": false
   },
   "outputs": [
    {
     "name": "stdout",
     "output_type": "stream",
     "text": [
      " Pattern   NGRP NINT   t_int     t_exp     t_acq     SNR      Well     eff   \n",
      "---------- ---- ---- --------- --------- --------- -------- -------- --------\n",
      "RAPID        30  714     10.22   7295.87   7539.06  30603.2    0.319  352.458\n",
      "RAPID        30  715     10.22   7306.08   7549.62  30624.6    0.319  352.458\n",
      "BRIGHT1      24  461     16.01   7380.00   7537.02  30985.5    0.499  356.910\n",
      "BRIGHT1      24  462     16.01   7396.01   7553.37  31019.1    0.499  356.910\n",
      "BRIGHT2      23  470     15.67   7363.99   7524.07  30620.2    0.489  353.004\n",
      "BRIGHT2      23  471     15.67   7379.66   7540.08  30652.7    0.489  353.004\n",
      "SHALLOW2     10  461     16.01   7380.00   7537.02  30641.3    0.499  352.945\n",
      "SHALLOW2     10  462     16.01   7396.01   7553.37  30674.5    0.499  352.945\n",
      "SHALLOW4      9  491     14.99   7358.54   7525.78  29834.4    0.467  343.907\n",
      "SHALLOW4      9  492     14.99   7373.53   7541.11  29864.8    0.467  343.907\n",
      "MEDIUM2       5  514     14.31   7353.09   7528.16  30461.9    0.446  351.084\n",
      "MEDIUM2       5  515     14.31   7367.39   7542.81  30491.5    0.446  351.084\n",
      "MEDIUM8       4  567     12.94   7338.78   7531.91  27764.4    0.404  319.916\n",
      "MEDIUM8       4  568     12.94   7351.73   7545.19  27788.9    0.404  319.916\n",
      "DEEP2         3  514     14.31   7353.09   7528.16  30440.9    0.446  350.843\n",
      "DEEP2         3  515     14.31   7367.39   7542.81  30470.5    0.446  350.843\n",
      "DEEP8         2  763      9.54   7276.79   7536.68  26287.1    0.297  302.797\n",
      "DEEP8         2  764      9.54   7286.33   7546.56  26304.3    0.297  302.797\n"
     ]
    }
   ],
   "source": [
    "# Print the Top 2 settings for each readout pattern\n",
    "res2 = table_filter(res, 2)\n",
    "print(res2)"
   ]
  },
  {
   "cell_type": "code",
   "execution_count": 10,
   "metadata": {
    "collapsed": false
   },
   "outputs": [
    {
     "data": {
      "image/png": "[encoded data removed]",
      "text/plain": [
       "<matplotlib.figure.Figure at 0x120f94810>"
      ]
     },
     "metadata": {},
     "output_type": "display_data"
    }
   ],
   "source": [
    "# Even though BRIGHT1 has a slight efficiency preference over RAPID \n",
    "# and BRIGHT2, we decide to choose RAPID, because we are convinced \n",
    "# that saving all data (and no coadding) is a better option. \n",
    "# If APT informs you that the data rates or total data shorage is \n",
    "# an issue, you can select one of the other options.\n",
    "\n",
    "# Update to RAPID, ngroup=30, nint=716 and plot PPM\n",
    "nrc.update_detectors(read_mode='RAPID', ngroup=30, nint=716)\n",
    "snr_dict = nrc.sensitivity(sp=sp_K6V, dw_bin=dw_bin, forwardSNR=True, units='Jy')\n",
    "wave = np.array(snr_dict['wave'])\n",
    "snr  = np.array(snr_dict['snr'])\n",
    "\n",
    "# Let assume bg subtraction of something with similar noise\n",
    "snr /= np.sqrt(2.)\n",
    "ppm = 1e6 / snr\n",
    "\n",
    "# NOTE: We have up until now neglected to include a \"noise floor\"\n",
    "# which represents the expected minimum achievable ppm from\n",
    "# unknown systematics. To first order, this can be added in \n",
    "# quadrature to the calculated PPM.\n",
    "noise_floor = 30 # in ppm\n",
    "ppm_floor = np.sqrt(ppm**2 + noise_floor**2)\n",
    "\n",
    "plt.plot(wave, ppm, marker='o', label='Calculated PPM')\n",
    "plt.plot(wave, ppm_floor, marker='o', label='PPM + Noise Floor')\n",
    "plt.xlabel('Wavelength ($\\mu m$)')\n",
    "plt.ylabel('Noise Limit (PPM)')\n",
    "plt.xlim([2.4,4.1])\n",
    "plt.ylim([20,100])\n",
    "plt.legend(loc=0)\n",
    "plt.minorticks_on()"
   ]
  },
  {
   "cell_type": "markdown",
   "metadata": {},
   "source": [
    "## Example 5: Extended Souce\n",
    "\n",
    "Expect some faint galaxies of 25 ABMag/arcsec^2 in our field. What is the best we can do with 10,000 seconds of acquisition time? "
   ]
  },
  {
   "cell_type": "code",
   "execution_count": 28,
   "metadata": {
    "collapsed": true
   },
   "outputs": [],
   "source": [
    "# Detection bandpass is F200W\n",
    "nrc = pynrc.NIRCam('F200W')\n",
    "\n",
    "# Flat spectrum (in photlam) with ABMag = 25 in the NIRCam bandpass\n",
    "sp = pynrc.stellar_spectrum('flat', 25, 'abmag', nrc.bandpass)"
   ]
  },
  {
   "cell_type": "code",
   "execution_count": 30,
   "metadata": {
    "collapsed": false
   },
   "outputs": [
    {
     "name": "stdout",
     "output_type": "stream",
     "text": [
      "BRIGHT1\n",
      "BRIGHT2\n",
      "DEEP2\n",
      "DEEP8\n",
      "MEDIUM2\n",
      "MEDIUM8\n",
      "RAPID\n",
      "SHALLOW2\n",
      "SHALLOW4\n",
      " Pattern   NGRP NINT   t_int     t_exp     t_acq     SNR      Well     eff   \n",
      "---------- ---- ---- --------- --------- --------- -------- -------- --------\n",
      "MEDIUM8      10    8   1052.20   8417.63   8503.52      9.8    0.000    0.106\n",
      "MEDIUM8       9    9    944.84   8503.52   8600.15      9.8    0.000    0.106\n",
      "MEDIUM8       9   10    944.84   9448.36   9555.73     10.4    0.000    0.106\n",
      "MEDIUM8      10    9   1052.20   9469.83   9566.46     10.4    0.000    0.106\n",
      "MEDIUM8       9   11    944.84  10393.19  10511.30     10.9    0.000    0.106\n",
      "MEDIUM8      10   10   1052.20  10522.03  10629.40     11.0    0.000    0.106\n",
      "DEEP8         8    5   1589.04   7945.21   7998.89      9.4    0.000    0.105\n",
      "DEEP8         7    6   1374.31   8245.84   8310.26      9.6    0.000    0.105\n",
      "MEDIUM8       8   11    837.47   9212.15   9330.25     10.2    0.000    0.105\n",
      "DEEP8         6    8   1159.57   9276.57   9362.46     10.2    0.000    0.105\n",
      "...         ...  ...       ...       ...       ...      ...      ...      ...\n",
      "BRIGHT1      10   46    204.00   9383.94   9877.83      6.4    0.000    0.063\n",
      "BRIGHT1      10   47    204.00   9587.94  10092.56      6.4    0.000    0.063\n",
      "BRIGHT1      10   48    204.00   9791.93  10307.30      6.5    0.000    0.063\n",
      "BRIGHT1      10   49    204.00   9995.93  10522.03      6.6    0.000    0.063\n",
      "BRIGHT1       8   56    161.05   9018.89   9620.15      5.3    0.000    0.054\n",
      "RAPID        10   83    107.37   8911.52   9802.67      4.7    0.000    0.046\n",
      "RAPID        10   84    107.37   9018.89   9920.78      4.7    0.000    0.046\n",
      "RAPID        10   85    107.37   9126.25  10038.88      4.7    0.000    0.046\n",
      "RAPID        10   86    107.37   9233.62  10156.98      4.7    0.000    0.046\n",
      "RAPID        10   87    107.37   9340.99  10275.09      4.8    0.000    0.046\n",
      "RAPID         9   91     96.63   8793.41   9770.46      4.2    0.000    0.042\n",
      "Length = 71 rows\n"
     ]
    }
   ],
   "source": [
    "res = nrc.ramp_optimize(sp, is_extended=True, tacq_max=10000, tacq_frac=0.05, verbose=True)"
   ]
  },
  {
   "cell_type": "code",
   "execution_count": 33,
   "metadata": {
    "collapsed": false
   },
   "outputs": [
    {
     "name": "stdout",
     "output_type": "stream",
     "text": [
      "New Ramp Settings:\n",
      "  read_mode :  MEDIUM8\n",
      "  nf        :        8\n",
      "  nd2       :        2\n",
      "  ngroup    :       10\n",
      "  nint      :       10\n",
      "New Detector Settings\n",
      "  wind_mode :     FULL\n",
      "  xpix      :     2048\n",
      "  ypix      :     2048\n",
      "  x0        :        0\n",
      "  y0        :        0\n",
      "New Ramp Times\n",
      "  t_group   :  107.368\n",
      "  t_frame   :   10.737\n",
      "  t_int     : 1052.203\n",
      "  t_exp     : 10522.035\n",
      "  t_acq     : 10629.402\n"
     ]
    }
   ],
   "source": [
    "# MEDIUM8 10 10 looks like a good option\n",
    "nrc.update_detectors(read_mode='MEDIUM8', ngroup=10, nint=10, verbose=True)"
   ]
  },
  {
   "cell_type": "code",
   "execution_count": 52,
   "metadata": {
    "collapsed": false
   },
   "outputs": [],
   "source": [
    "# Calculate flux/mag for various nsigma detection limits\n",
    "tbl = Table(names=('Sigma', 'Source (nJy)',    'Extended (nJy/asec^2)', \n",
    "                            'Source (AB Mag)', 'Extended (AB Mag/asec^2)'))\n",
    "tbl['Sigma'].format = '.0f'\n",
    "for k in tbl.keys()[1:]:\n",
    "    tbl[k].format = '.2f'\n",
    "\n",
    "for sig in [1,3,5,10]:\n",
    "    snr_dict1 = nrc.sensitivity(nsig=sig, units='nJy', verbose=False)\n",
    "    snr_dict2 = nrc.sensitivity(nsig=sig, units='abmag', verbose=False)\n",
    "    tbl.add_row([sig, snr_dict1[0]['sensitivity'], snr_dict1[1]['sensitivity'],\n",
    "                snr_dict2[0]['sensitivity'], snr_dict2[1]['sensitivity']])"
   ]
  },
  {
   "cell_type": "code",
   "execution_count": 53,
   "metadata": {
    "collapsed": false
   },
   "outputs": [
    {
     "data": {
      "text/html": [
       "&lt;Table length=4&gt;\n",
       "<table id=\"table5177445072\" class=\"table-striped table-bordered table-condensed\">\n",
       "<thead><tr><th>Sigma</th><th>Source (nJy)</th><th>Extended (nJy/asec^2)</th><th>Source (AB Mag)</th><th>Extended (AB Mag/asec^2)</th></tr></thead>\n",
       "<thead><tr><th>float64</th><th>float64</th><th>float64</th><th>float64</th><th>float64</th></tr></thead>\n",
       "<tr><td>1</td><td>0.92</td><td>32.31</td><td>31.50</td><td>27.63</td></tr>\n",
       "<tr><td>3</td><td>2.76</td><td>97.36</td><td>30.30</td><td>26.43</td></tr>\n",
       "<tr><td>5</td><td>4.63</td><td>163.00</td><td>29.74</td><td>25.87</td></tr>\n",
       "<tr><td>10</td><td>9.40</td><td>329.71</td><td>28.97</td><td>25.10</td></tr>\n",
       "</table>"
      ],
      "text/plain": [
       "<Table length=4>\n",
       " Sigma  Source (nJy) ... Source (AB Mag) Extended (AB Mag/asec^2)\n",
       "float64   float64    ...     float64             float64         \n",
       "------- ------------ ... --------------- ------------------------\n",
       "      1         0.92 ...           31.50                    27.63\n",
       "      3         2.76 ...           30.30                    26.43\n",
       "      5         4.63 ...           29.74                    25.87\n",
       "     10         9.40 ...           28.97                    25.10"
      ]
     },
     "execution_count": 53,
     "metadata": {},
     "output_type": "execute_result"
    }
   ],
   "source": [
    "tbl"
   ]
  },
  {
   "cell_type": "code",
   "execution_count": null,
   "metadata": {
    "collapsed": true
   },
   "outputs": [],
   "source": []
  }
 ],
 "metadata": {
  "anaconda-cloud": {},
  "kernelspec": {
   "display_name": "Python [default]",
   "language": "python",
   "name": "python2"
  },
  "language_info": {
   "codemirror_mode": {
    "name": "ipython",
    "version": 2
   },
   "file_extension": ".py",
   "mimetype": "text/x-python",
   "name": "python",
   "nbconvert_exporter": "python",
   "pygments_lexer": "ipython2",
   "version": "2.7.12"
  }
 },
 "nbformat": 4,
 "nbformat_minor": 0
}
