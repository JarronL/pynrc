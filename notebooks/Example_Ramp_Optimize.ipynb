{
 "cells": [
  {
   "cell_type": "markdown",
   "metadata": {},
   "source": [
    "# Optimize Ramp Settings\n",
    "\n",
    "This notebook outlines an example to optimize the ramp settings for a few different types of observations.\n",
    "\n",
    "In these types of optimizations, we must consider observations constraints such as saturation levels, SNR requirements, and limits on acquisition time.\n",
    "\n",
    "**Note**: The reported acquisition time does not include obsevatory and instrument-level overheads, such as slew times, filter changes, script compilations, etc. It only includes detector readout times (including reset frames)."
   ]
  },
  {
   "cell_type": "code",
   "execution_count": 2,
   "metadata": {
    "collapsed": true
   },
   "outputs": [],
   "source": [
    "## Standard imports\n",
    "\n",
    "# Makes print and division act like Python 3\n",
    "from __future__ import print_function, division\n",
    "\n",
    "# Import the usual libraries\n",
    "import numpy as np\n",
    "import matplotlib\n",
    "import matplotlib.pyplot as plt\n",
    "\n",
    "# Enable inline plotting at lower left\n",
    "%matplotlib inline\n",
    "matplotlib.rcParams['image.origin'] = 'lower'\n",
    "matplotlib.rcParams['image.interpolation'] = 'none'\n",
    "\n",
    "# seaborn package for making pretty plots, but not necessary\n",
    "try:\n",
    "    import seaborn as sns\n",
    "    params =   {'xtick.direction': 'in', 'ytick.direction': 'in', 'font.family': ['serif'],\n",
    "                'text.usetex': True, 'text.latex.preamble': ['\\usepackage{gensymb}']}\n",
    "    sns.set_style(\"ticks\", params)\n",
    "except ImportError:\n",
    "    print('Seaborn module is not installed. Not strictly required, but is a useful package!')\n",
    "    \n",
    "from IPython.display import display, Latex, clear_output"
   ]
  },
  {
   "cell_type": "code",
   "execution_count": 24,
   "metadata": {
    "collapsed": false
   },
   "outputs": [],
   "source": [
    "import pynrc\n",
    "from pynrc import nrc_utils\n",
    "from pynrc.nrc_utils import (webbpsf, poppy, pix_noise, S)\n",
    "from pynrc.pynrc_core import table_filter\n",
    "\n",
    "pynrc.setup_logging('WARNING', verbose=False)\n",
    "\n",
    "from astropy.table import Table"
   ]
  },
  {
   "cell_type": "markdown",
   "metadata": {},
   "source": [
    "## Example 1: M-Dwarf companion\n",
    "\n",
    "We want to observe an M-Dwarf companion (K=18) orbiting an F0V primary (K=10 mags). Assume the M-Dwarf flux is not significantly impacted by the primary (in the background limited regime).\n",
    "\n",
    "We will try a couple different types of observations (direct imaging and coronagraphy)."
   ]
  },
  {
   "cell_type": "code",
   "execution_count": 17,
   "metadata": {
    "collapsed": true
   },
   "outputs": [],
   "source": [
    "# Get stellar spectra\n",
    "bp_k = S.ObsBandpass('k')\n",
    "sp_M2V = pynrc.stellar_spectrum('M2V', 18, 'vegamag', bp_k)\n",
    "sp_F0V = pynrc.stellar_spectrum('F0V', 10, 'vegamag', bp_k)"
   ]
  },
  {
   "cell_type": "code",
   "execution_count": 41,
   "metadata": {
    "collapsed": false
   },
   "outputs": [
    {
     "name": "stdout",
     "output_type": "stream",
     "text": [
      " Pattern   NGRP NINT   t_int     t_exp     t_acq     SNR      Well     eff   \n",
      "---------- ---- ---- --------- --------- --------- -------- -------- --------\n",
      "RAPID         9  510      2.51   1278.96   1421.06    100.0    0.707    2.651\n",
      "RAPID         9  511      2.51   1281.47   1423.85    100.1    0.707    2.651\n",
      "BRIGHT1       5  700      2.51   1755.43   1950.48     99.9    0.707    2.262\n",
      "BRIGHT1       5  701      2.51   1757.94   1953.27    100.0    0.707    2.262\n",
      "BRIGHT2       4  751      2.23   1674.07   1883.33    100.0    0.628    2.303\n",
      "BRIGHT2       4  752      2.23   1676.30   1885.84    100.0    0.628    2.303\n",
      "SHALLOW4      2  621      2.51   1557.32   1730.35    100.0    0.707    2.403\n",
      "SHALLOW4      2  622      2.51   1559.83   1733.14    100.1    0.707    2.403\n"
     ]
    }
   ],
   "source": [
    "# Initiate a NIRCam observation\n",
    "nrc = pynrc.NIRCam('F430M', wind_mode='WINDOW', xpix=160, ypix=160)\n",
    "\n",
    "# Let's assume we want good photometry on the primary to calibrate the M-Dwarf\n",
    "#  - Set well_frac_max=0.75\n",
    "# Want a SNR~100 in the F430M filter\n",
    "#  - Set snr_min=100\n",
    "t = nrc.ramp_optimize(sp_M2V, sp_bright=sp_F0V, snr_min=100, well_frac_max=0.75)\n",
    "\n",
    "# Take the Top 2 settings for each readout pattern\n",
    "t = table_filter(t, 2)\n",
    "print(t)"
   ]
  },
  {
   "cell_type": "code",
   "execution_count": 46,
   "metadata": {
    "collapsed": false
   },
   "outputs": [
    {
     "name": "stdout",
     "output_type": "stream",
     "text": [
      " Pattern   NGRP NINT   t_int     t_exp     t_acq     SNR      Well     eff   \n",
      "---------- ---- ---- --------- --------- --------- -------- -------- --------\n",
      "MEDIUM8      10   83    104.77   8695.57   8784.30    100.0    0.001    1.066\n",
      "MEDIUM8      10   84    104.77   8800.34   8890.14    100.6    0.001    1.066\n",
      "DEEP8        20   12    414.79   4977.45   4990.28     99.0    0.003    1.400\n",
      "DEEP8        20   13    414.79   5392.24   5406.14    103.0    0.003    1.400\n"
     ]
    }
   ],
   "source": [
    "# Do the same thing, but for coronagraphic mask instead\n",
    "nrc._mask = 'MASK430R'; nrc._pupil = 'CIRCLYOT'\n",
    "nrc.update_psf_coeff()\n",
    "nrc.update_detectors(xpix=320, ypix=320)\n",
    "\n",
    "# We assume that longer ramps will give us the best SNR for time\n",
    "patterns = ['MEDIUM8', 'DEEP8']\n",
    "t = nrc.ramp_optimize(sp_M2V, sp_bright=sp_F0V, snr_min=100, well_frac_max=0.75, patterns=patterns)\n",
    "\n",
    "# Take the Top 2 settings for each readout pattern\n",
    "t = table_filter(t, 2)\n",
    "print(t)"
   ]
  },
  {
   "cell_type": "markdown",
   "metadata": {
    "collapsed": true
   },
   "source": [
    "**RESULTS**: Based on these two comparisons, it looks like direct imaging is much more efficient in getting to the requisite SNR. In addition, direct imaging gives us a photometric comparison source that the coronagraphic mask does not."
   ]
  },
  {
   "cell_type": "code",
   "execution_count": 5,
   "metadata": {
    "collapsed": false
   },
   "outputs": [
    {
     "name": "stdout",
     "output_type": "stream",
     "text": [
      "BRIGHT1\n",
      "BRIGHT2\n",
      "DEEP2\n",
      "DEEP8\n",
      "MEDIUM2\n",
      "MEDIUM8\n",
      "RAPID\n",
      "SHALLOW2\n",
      "SHALLOW4\n",
      "Top 10 results sorted by 'efficiency' (SNR/t_acq):\n",
      " Pattern   NGRP NINT   t_int     t_exp     t_acq     SNR      Well     eff   \n",
      "---------- ---- ---- --------- --------- --------- -------- -------- --------\n",
      "MEDIUM2      10   32     31.34   1002.76   1013.66   2501.7    0.465   78.574\n",
      "MEDIUM2       9   35     27.93    977.55    989.47   2465.9    0.415   78.390\n",
      "DEEP2         5   36     27.93   1005.48   1017.74   2497.9    0.415   78.298\n",
      "MEDIUM2       8   41     24.52   1005.48   1019.45   2495.2    0.364   78.148\n",
      "MEDIUM2       7   47     21.12    992.54   1008.55   2471.3    0.313   77.817\n",
      "MEDIUM2       6   57     17.71   1009.57   1028.98   2481.1    0.263   77.347\n",
      "SHALLOW2     10   63     16.01   1008.55   1030.00   2477.4    0.238   77.191\n",
      "SHALLOW2      9   71     14.31   1015.70   1039.88   2477.1    0.212   76.815\n",
      "MEDIUM2       5   71     14.31   1015.70   1039.88   2471.3    0.212   76.636\n",
      "SHALLOW2      8   81     12.60   1020.81   1048.40   2471.5    0.187   76.330\n"
     ]
    }
   ],
   "source": [
    "t = nrc.ramp_optimize(sp_M2V, tacq_max=1000, verbose=True, return_full_table=True, ng_min=5, snr_frac=0, \\\n",
    "                     well_frac_max=0.5)"
   ]
  },
  {
   "cell_type": "code",
   "execution_count": 12,
   "metadata": {
    "collapsed": false
   },
   "outputs": [
    {
     "name": "stdout",
     "output_type": "stream",
     "text": [
      " Pattern   NGRP NINT   t_int     t_exp     t_acq     SNR      Well     eff   \n",
      "---------- ---- ---- --------- --------- --------- -------- -------- --------\n",
      "MEDIUM2       5   71     14.31   1015.70   1039.88   2435.7    0.212   75.532\n",
      "MEDIUM2       6   57     17.71   1009.57   1028.98   2422.1    0.263   75.507\n",
      "MEDIUM2       7   49     21.12   1034.77   1051.46   2444.7    0.313   75.392\n",
      "MEDIUM2       8   42     24.52   1030.00   1044.31   2431.8    0.364   75.250\n",
      "MEDIUM2       9   37     27.93   1033.41   1046.01   2429.1    0.415   75.106\n",
      "MEDIUM2      10   33     31.34   1034.09   1045.33   2423.9    0.465   74.968\n",
      " Pattern   NGRP NINT   t_int     t_exp     t_acq     SNR      Well     eff   \n",
      "---------- ---- ---- --------- --------- --------- -------- -------- --------\n",
      "DEEP2         5   35     27.93    977.55    989.47   2421.3    0.415   76.975\n",
      "DEEP2         6   29     34.74   1007.52   1017.40   2444.3    0.516   76.631\n",
      "DEEP2         7   25     41.55   1038.86   1047.38   2469.1    0.617   76.294\n",
      "DEEP2         8   21     48.37   1015.70   1022.85   2430.3    0.718   75.989\n"
     ]
    }
   ],
   "source": [
    "print(t[t['Pattern']=='MEDIUM2'])\n",
    "print(t[t['Pattern']=='DEEP2'])"
   ]
  }
 ],
 "metadata": {
  "anaconda-cloud": {},
  "kernelspec": {
   "display_name": "Python [default]",
   "language": "python",
   "name": "python2"
  },
  "language_info": {
   "codemirror_mode": {
    "name": "ipython",
    "version": 2
   },
   "file_extension": ".py",
   "mimetype": "text/x-python",
   "name": "python",
   "nbconvert_exporter": "python",
   "pygments_lexer": "ipython2",
   "version": "2.7.12"
  }
 },
 "nbformat": 4,
 "nbformat_minor": 0
}
