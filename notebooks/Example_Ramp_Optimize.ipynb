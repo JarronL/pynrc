{
 "cells": [
  {
   "cell_type": "markdown",
   "metadata": {},
   "source": [
    "# Optimize Ramp Settings\n",
    "\n",
    "This notebook outlines an example to optimize the ramp settings for a few different types of observations.\n",
    "\n",
    "In these types of optimizations, we must consider observations constraints such as saturation levels, SNR requirements, and limits on acquisition time.\n",
    "\n",
    "**Note**: The reported acquisition time does not include obsevatory and instrument-level overheads, such as slew times, filter changes, script compilations, etc. It only includes detector readout times (including reset frames)."
   ]
  },
  {
   "cell_type": "code",
   "execution_count": 1,
   "metadata": {
    "collapsed": true
   },
   "outputs": [],
   "source": [
    "## Standard imports\n",
    "\n",
    "# Makes print and division act like Python 3\n",
    "from __future__ import print_function, division\n",
    "\n",
    "# Import the usual libraries\n",
    "import numpy as np\n",
    "import matplotlib\n",
    "import matplotlib.pyplot as plt\n",
    "\n",
    "# Enable inline plotting\n",
    "%matplotlib inline\n",
    "    \n",
    "from IPython.display import display, Latex, clear_output"
   ]
  },
  {
   "cell_type": "code",
   "execution_count": 2,
   "metadata": {
    "collapsed": false
   },
   "outputs": [],
   "source": [
    "import pynrc\n",
    "from pynrc import nrc_utils\n",
    "from pynrc.nrc_utils import S\n",
    "from pynrc.pynrc_core import table_filter\n",
    "\n",
    "pynrc.setup_logging('WARNING', verbose=False)\n",
    "\n",
    "from astropy.table import Table"
   ]
  },
  {
   "cell_type": "markdown",
   "metadata": {},
   "source": [
    "## Example 1: M-Dwarf companion (imaging vs coronagraphy)\n",
    "\n",
    "We want to observe an M-Dwarf companion (K=18 mag) orbiting an F0V primary (K=10 mag) in the F430M filter. Assume the M-Dwarf flux is not significantly impacted by the primary's PSF (ie., in the background limited regime). In this scenario, the F0V star will saturate much more quickly compared to the fainter companion, so it limits which ramp settings we can use.\n",
    "\n",
    "We will test a couple different types of observations (direct imaging vs coronagraphy)."
   ]
  },
  {
   "cell_type": "code",
   "execution_count": 13,
   "metadata": {
    "collapsed": true
   },
   "outputs": [],
   "source": [
    "# Get stellar spectra and normalize at K-Band\n",
    "# The stellar_spectrum convenience function creates a Pysynphot spectrum\n",
    "bp_k = S.ObsBandpass('k')\n",
    "sp_M2V = pynrc.stellar_spectrum('M2V', 18, 'vegamag', bp_k, catname='ck04models')\n",
    "sp_F0V = pynrc.stellar_spectrum('F0V', 10, 'vegamag', bp_k, catname='ck04models')"
   ]
  },
  {
   "cell_type": "code",
   "execution_count": 14,
   "metadata": {
    "collapsed": true
   },
   "outputs": [],
   "source": [
    "# Initiate a NIRCam observation\n",
    "nrc = pynrc.NIRCam('F430M', wind_mode='WINDOW', xpix=160, ypix=160)"
   ]
  },
  {
   "cell_type": "code",
   "execution_count": 15,
   "metadata": {
    "collapsed": false
   },
   "outputs": [
    {
     "name": "stdout",
     "output_type": "stream",
     "text": [
      "BRIGHT1\n",
      "BRIGHT2\n",
      "DEEP2\n",
      "DEEP8\n",
      "MEDIUM2\n",
      "MEDIUM8\n",
      "RAPID\n",
      "SHALLOW2\n",
      "SHALLOW4\n",
      " Pattern   NGRP NINT   t_int     t_exp     t_acq     SNR      Well     eff   \n",
      "---------- ---- ---- --------- --------- --------- -------- -------- --------\n",
      "RAPID         9  428      2.51   1073.32   1194.79    100.0    0.705    2.891\n",
      "RAPID         9  429      2.51   1075.83   1197.58    100.1    0.705    2.891\n",
      "RAPID         9  430      2.51   1078.34   1200.37    100.2    0.705    2.891\n",
      "RAPID         9  431      2.51   1080.84   1203.16    100.3    0.705    2.891\n",
      "RAPID         9  432      2.51   1083.35   1205.95    100.4    0.705    2.891\n",
      "RAPID         9  433      2.51   1085.86   1208.75    100.5    0.705    2.891\n",
      "RAPID         9  434      2.51   1088.37   1211.54    100.7    0.705    2.891\n",
      "RAPID         9  435      2.51   1090.88   1214.33    100.8    0.705    2.891\n",
      "RAPID         9  436      2.51   1093.38   1217.12    100.9    0.705    2.891\n",
      "RAPID         9  437      2.51   1095.89   1219.91    101.0    0.705    2.891\n",
      "...         ...  ...       ...       ...       ...      ...      ...      ...\n",
      "SHALLOW2      2  941      1.95   1835.40   2102.46    101.5    0.549    2.213\n",
      "SHALLOW2      2  942      1.95   1837.35   2104.69    101.6    0.549    2.213\n",
      "SHALLOW2      2  943      1.95   1839.30   2106.93    101.6    0.549    2.213\n",
      "SHALLOW2      2  944      1.95   1841.25   2109.16    101.7    0.549    2.213\n",
      "SHALLOW2      2  945      1.95   1843.20   2111.39    101.7    0.549    2.213\n",
      "SHALLOW2      2  946      1.95   1845.15   2113.63    101.8    0.549    2.213\n",
      "SHALLOW2      2  947      1.95   1847.10   2115.86    101.8    0.549    2.213\n",
      "SHALLOW2      2  948      1.95   1849.06   2118.10    101.9    0.549    2.213\n",
      "SHALLOW2      2  949      1.95   1851.01   2120.33    101.9    0.549    2.213\n",
      "SHALLOW2      2  950      1.95   1852.96   2122.57    102.0    0.549    2.213\n",
      "SHALLOW2      2  951      1.95   1854.91   2124.80    102.0    0.549    2.213\n",
      "Length = 134 rows\n"
     ]
    }
   ],
   "source": [
    "# Set some observing constraints\n",
    "# Let's assume we want photometry on the primary to calibrate the M-Dwarf for direct imaging\n",
    "#  - Set well_frac_max=0.75\n",
    "# Want a SNR~100 in the F430M filter\n",
    "#  - Set snr_goal=100\n",
    "res = nrc.ramp_optimize(sp_M2V, sp_bright=sp_F0V, snr_goal=100, well_frac_max=0.75, verbose=True)"
   ]
  },
  {
   "cell_type": "code",
   "execution_count": 16,
   "metadata": {
    "collapsed": false
   },
   "outputs": [
    {
     "name": "stdout",
     "output_type": "stream",
     "text": [
      " Pattern   NGRP NINT   t_int     t_exp     t_acq     SNR      Well     eff   \n",
      "---------- ---- ---- --------- --------- --------- -------- -------- --------\n",
      "RAPID         9  428      2.51   1073.32   1194.79    100.0    0.705    2.891\n",
      "RAPID         9  429      2.51   1075.83   1197.58    100.1    0.705    2.891\n",
      "BRIGHT1       5  586      2.51   1469.55   1635.85    100.0    0.705    2.471\n",
      "BRIGHT1       5  587      2.51   1472.06   1638.65    100.0    0.705    2.471\n",
      "BRIGHT2       4  630      2.23   1404.35   1583.14    100.0    0.627    2.513\n",
      "BRIGHT2       4  631      2.23   1406.57   1585.65    100.1    0.627    2.513\n",
      "SHALLOW2      2  913      1.95   1780.79   2039.90    100.0    0.549    2.213\n",
      "SHALLOW2      2  914      1.95   1782.74   2042.13    100.0    0.549    2.213\n",
      "SHALLOW4      2  523      2.51   1311.56   1459.99    100.0    0.705    2.616\n",
      "SHALLOW4      2  524      2.51   1314.07   1462.78    100.1    0.705    2.616\n"
     ]
    }
   ],
   "source": [
    "# Print the Top 2 settings for each readout pattern\n",
    "res2 = table_filter(res, 2)\n",
    "print(res2)"
   ]
  },
  {
   "cell_type": "code",
   "execution_count": 17,
   "metadata": {
    "collapsed": false
   },
   "outputs": [
    {
     "name": "stdout",
     "output_type": "stream",
     "text": [
      " Pattern   NGRP NINT   t_int     t_exp     t_acq     SNR      Well     eff   \n",
      "---------- ---- ---- --------- --------- --------- -------- -------- --------\n",
      "MEDIUM8      10   72    104.77   7543.15   7621.55     99.8    0.001    1.143\n",
      "MEDIUM8      10   73    104.77   7647.91   7727.41    100.5    0.001    1.143\n",
      "DEEP8        20   11    414.79   4562.66   4574.64     99.9    0.003    1.476\n",
      "DEEP8        20   12    414.79   4977.45   4990.52    104.3    0.003    1.476\n"
     ]
    }
   ],
   "source": [
    "# Do the same thing, but for coronagraphic mask instead\n",
    "#pynrc.setup_logging('DEBUG', verbose=False)\n",
    "nrc = pynrc.NIRCam('F430M', mask='MASK430R', pupil='CIRCLYOT', wind_mode='WINDOW', xpix=320, ypix=320)\n",
    "\n",
    "# We assume that longer ramps will give us the best SNR for time\n",
    "patterns = ['MEDIUM8', 'DEEP8']\n",
    "res = nrc.ramp_optimize(sp_M2V, sp_bright=sp_F0V, snr_goal=100, patterns=patterns)\n",
    "\n",
    "# Take the Top 2 settings for each readout pattern\n",
    "res2 = table_filter(res, 2)\n",
    "print(res2)"
   ]
  },
  {
   "cell_type": "markdown",
   "metadata": {
    "collapsed": true
   },
   "source": [
    "#### RESULTS\n",
    "\n",
    "Based on these two comparisons, it looks like direct imaging is much more efficient in getting to the requisite SNR. In addition, direct imaging gives us a photometric comparison source that is inaccessible with the coronagraph masks."
   ]
  },
  {
   "cell_type": "markdown",
   "metadata": {},
   "source": [
    "## Example 2: Exoplanet Coronagraphy\n",
    "\n",
    "We want to observe GJ 504 for an hour in the F444W filter. \n",
    " - What is the optimal ramp settings to maximize the SNR of GJ 504b?\n",
    " - What is the final background sensitivity limit?"
   ]
  },
  {
   "cell_type": "code",
   "execution_count": 10,
   "metadata": {
    "collapsed": false
   },
   "outputs": [],
   "source": [
    "# Get stellar spectra and normalize at K-Band\n",
    "# The stellar_spectrum convenience function creates a Pysynphot spectrum\n",
    "bp_k = S.ObsBandpass('k')\n",
    "sp_G0V = pynrc.stellar_spectrum('G0V', 4, 'vegamag', bp_k)\n",
    "\n",
    "# Choose a representative planet spectrum\n",
    "planet = pynrc.planets_sb12(atmo='hy3s', mass=8, age=200, entropy=8, distance=17.5)\n",
    "sp_pl = planet.export_pysynphot()\n",
    "\n",
    "# Renormalize to F360M = 18.8\n",
    "bp_l = pynrc.read_filter('F360M') # \n",
    "sp_pl = sp_pl.renorm(18.8, 'vegamag', bp_l)"
   ]
  },
  {
   "cell_type": "code",
   "execution_count": 11,
   "metadata": {
    "collapsed": true
   },
   "outputs": [],
   "source": [
    "# Initiate a NIRCam observation\n",
    "nrc = pynrc.NIRCam('F444W', pupil='CIRCLYOT', mask='MASK430R', wind_mode='WINDOW', xpix=320, ypix=320)"
   ]
  },
  {
   "cell_type": "code",
   "execution_count": 14,
   "metadata": {
    "collapsed": false
   },
   "outputs": [
    {
     "name": "stdout",
     "output_type": "stream",
     "text": [
      "BRIGHT1\n",
      "BRIGHT2\n",
      "DEEP2\n",
      "DEEP8\n",
      "MEDIUM2\n",
      "MEDIUM8\n",
      "RAPID\n",
      "SHALLOW2\n",
      "SHALLOW4\n",
      " Pattern   NGRP NINT   t_int     t_exp     t_acq     SNR      Well     eff   \n",
      "---------- ---- ---- --------- --------- --------- -------- -------- --------\n",
      "DEEP2        10   17    194.57   3307.61   3326.12    626.1    0.799   10.855\n",
      "DEEP2        10   18    194.57   3502.18   3521.78    644.2    0.799   10.855\n",
      "DEEP2        10   19    194.57   3696.74   3717.43    661.9    0.799   10.855\n",
      "DEEP2         9   19    173.18   3290.51   3311.20    622.4    0.711   10.816\n",
      "DEEP2         9   20    173.18   3463.69   3485.47    638.6    0.711   10.816\n",
      "DEEP2         9   21    173.18   3636.87   3659.74    654.3    0.711   10.816\n",
      "DEEP2         9   22    173.18   3810.06   3834.02    669.7    0.711   10.816\n",
      "DEEP8         9   18    179.60   3232.78   3252.38    614.0    0.738   10.766\n",
      "DEEP8         9   19    179.60   3412.38   3433.07    630.8    0.738   10.766\n",
      "DEEP8         9   20    179.60   3591.97   3613.75    647.2    0.738   10.766\n",
      "...         ...  ...       ...       ...       ...      ...      ...      ...\n",
      "BRIGHT1      10  167     20.31   3392.06   3573.92    484.2    0.083    8.100\n",
      "BRIGHT1      10  168     20.31   3412.38   3595.32    485.7    0.083    8.100\n",
      "BRIGHT1      10  169     20.31   3432.69   3616.72    487.1    0.083    8.100\n",
      "BRIGHT1      10  170     20.31   3453.00   3638.12    488.6    0.083    8.100\n",
      "RAPID        10  304     10.69   3249.88   3580.93    387.9    0.044    6.482\n",
      "RAPID        10  305     10.69   3260.57   3592.70    388.6    0.044    6.482\n",
      "RAPID        10  306     10.69   3271.26   3604.48    389.2    0.044    6.482\n",
      "RAPID        10  307     10.69   3281.95   3616.26    389.8    0.044    6.482\n",
      "RAPID        10  308     10.69   3292.64   3628.04    390.5    0.044    6.482\n",
      "RAPID         9  334      9.62   3213.53   3577.25    362.1    0.040    6.053\n",
      "RAPID         8  371      8.55   3172.91   3576.91    333.3    0.035    5.572\n",
      "Length = 57 rows\n"
     ]
    }
   ],
   "source": [
    "res = nrc.ramp_optimize(sp_pl, sp_bright=sp_G0V, tacq_max=3600, tacq_frac=0.05, verbose=True)"
   ]
  },
  {
   "cell_type": "code",
   "execution_count": 15,
   "metadata": {
    "collapsed": false
   },
   "outputs": [
    {
     "name": "stdout",
     "output_type": "stream",
     "text": [
      " Pattern   NGRP NINT   t_int     t_exp     t_acq     SNR      Well     eff   \n",
      "---------- ---- ---- --------- --------- --------- -------- -------- --------\n",
      "RAPID        10  304     10.69   3249.88   3580.93    387.9    0.044    6.482\n",
      "RAPID        10  305     10.69   3260.57   3592.70    388.6    0.044    6.482\n",
      "BRIGHT1      10  166     20.31   3371.75   3552.52    482.8    0.083    8.100\n",
      "BRIGHT1      10  167     20.31   3392.06   3573.92    484.2    0.083    8.100\n",
      "BRIGHT2      10  158     21.38   3378.17   3550.22    519.6    0.088    8.719\n",
      "BRIGHT2      10  159     21.38   3399.55   3572.69    521.2    0.088    8.719\n",
      "SHALLOW2     10   68     50.24   3416.65   3490.70    595.2    0.206   10.074\n",
      "SHALLOW2     10   69     50.24   3466.90   3542.03    599.6    0.206   10.074\n",
      "SHALLOW4     10   65     52.38   3404.89   3475.67    597.9    0.215   10.141\n",
      "SHALLOW4     10   66     52.38   3457.28   3529.15    602.5    0.215   10.141\n",
      "MEDIUM2      10   34     98.35   3343.96   3380.98    617.1    0.404   10.612\n",
      "MEDIUM2      10   35     98.35   3442.31   3480.42    626.1    0.404   10.612\n",
      "MEDIUM8      10   32    104.77   3352.51   3387.36    611.6    0.430   10.509\n",
      "MEDIUM8      10   33    104.77   3457.28   3493.21    621.1    0.430   10.509\n",
      "DEEP2        10   17    194.57   3307.61   3326.12    626.1    0.799   10.855\n",
      "DEEP2        10   18    194.57   3502.18   3521.78    644.2    0.799   10.855\n",
      "DEEP8         9   18    179.60   3232.78   3252.38    614.0    0.738   10.766\n",
      "DEEP8         9   19    179.60   3412.38   3433.07    630.8    0.738   10.766\n"
     ]
    }
   ],
   "source": [
    "# Take the Top 2 settings for each readout pattern\n",
    "res2 = table_filter(res, 2)\n",
    "print(res2)"
   ]
  },
  {
   "cell_type": "code",
   "execution_count": 16,
   "metadata": {
    "collapsed": false
   },
   "outputs": [
    {
     "name": "stdout",
     "output_type": "stream",
     "text": [
      "t_acq     :   3579.86304\n",
      "t_exp     :   3540.66048\n",
      "t_frame   :      1.06904\n",
      "t_group   :     10.69040\n",
      "t_int     :     98.35168\n",
      "t_int_tot :     99.44064\n"
     ]
    }
   ],
   "source": [
    "# The DEEP and MEDIUMs are very similar.\n",
    "# Let's go with MEIDUM2 for more INTS and slightly better efficiency over MEDIUM8\n",
    "nrc.update_detectors(read_mode='MEDIUM2', ngroup=10, nint=36)\n",
    "\n",
    "keys = nrc.multiaccum_times.keys()\n",
    "keys.sort()\n",
    "for k in keys:\n",
    "    print(\"{:<10}: {: 12.5f}\".format(k, nrc.multiaccum_times[k]))"
   ]
  },
  {
   "cell_type": "code",
   "execution_count": 17,
   "metadata": {
    "collapsed": false
   },
   "outputs": [
    {
     "name": "stdout",
     "output_type": "stream",
     "text": [
      "Point Source Sensitivity (5-sigma): 21.89 vegamag\n",
      "Surface Brightness Sensitivity (5-sigma): 23.01 vegamag/arcsec^2\n"
     ]
    }
   ],
   "source": [
    "# Background sensitivity (5 sigma)\n",
    "sens_dict = nrc.sensitivity(nsig=5, units='vegamag', verbose=True)"
   ]
  },
  {
   "cell_type": "markdown",
   "metadata": {},
   "source": [
    "## Example 3: Single-Object Grism Spectroscopy\n",
    "\n",
    "Similar to the above, but instead we want to obtain a slitless grism spectrum of a K=12 mag M9V dwarf. We want SNR~100 at each grism resolution element."
   ]
  },
  {
   "cell_type": "code",
   "execution_count": 5,
   "metadata": {
    "collapsed": true
   },
   "outputs": [],
   "source": [
    "# M9V star at K=12 mags\n",
    "bp_k = S.ObsBandpass('k')\n",
    "sp_M9V = pynrc.stellar_spectrum('M9V', 12, 'vegamag', bp_k)"
   ]
  },
  {
   "cell_type": "code",
   "execution_count": 6,
   "metadata": {
    "collapsed": true
   },
   "outputs": [],
   "source": [
    "nrc = pynrc.NIRCam('F444W', pupil='GRISM0', wind_mode='STRIPE', ypix=64)"
   ]
  },
  {
   "cell_type": "code",
   "execution_count": 7,
   "metadata": {
    "collapsed": false
   },
   "outputs": [
    {
     "name": "stdout",
     "output_type": "stream",
     "text": [
      "BRIGHT1\n",
      "BRIGHT2\n",
      "DEEP2\n",
      "DEEP8\n",
      "MEDIUM2\n",
      "MEDIUM8\n",
      "RAPID\n",
      "SHALLOW2\n",
      "SHALLOW4\n",
      " Pattern   NGRP NINT   t_int     t_exp     t_acq     SNR      Well     eff   \n",
      "---------- ---- ---- --------- --------- --------- -------- -------- --------\n",
      "SHALLOW4      8   11     13.28    146.12    149.93     99.8    0.010    8.150\n",
      "SHALLOW4      8   12     13.28    159.41    163.56    104.2    0.010    8.150\n",
      "SHALLOW2      9   10     14.31    143.06    146.52     98.2    0.011    8.108\n",
      "SHALLOW2      9   11     14.31    157.36    161.17    102.9    0.011    8.108\n",
      "SHALLOW4      7   15     11.58    173.71    178.90    105.2    0.009    7.863\n",
      "SHALLOW2      8   14     12.60    176.44    181.28    105.4    0.009    7.828\n",
      "MEDIUM2       5   11     14.31    157.36    161.17     98.2    0.011    7.738\n",
      "MEDIUM2       5   12     14.31    171.67    175.82    102.6    0.011    7.738\n",
      "MEDIUM8       4   13     12.94    168.26    172.76    101.6    0.010    7.726\n",
      "MEDIUM8       4   14     12.94    181.20    186.05    105.4    0.010    7.726\n",
      "...         ...  ...       ...       ...       ...      ...      ...      ...\n",
      "BRIGHT1      10   41      6.47    265.34    279.52    100.8    0.005    6.028\n",
      "BRIGHT1      10   42      6.47    271.81    286.34    102.0    0.005    6.028\n",
      "BRIGHT1       9   54      5.79    312.68    331.36    102.9    0.004    5.655\n",
      "RAPID        10  128      3.41    435.98    480.25     99.8    0.003    4.554\n",
      "RAPID        10  129      3.41    439.39    484.01    100.2    0.003    4.554\n",
      "RAPID        10  130      3.41    442.79    487.76    100.6    0.003    4.554\n",
      "RAPID        10  131      3.41    446.20    491.51    101.0    0.003    4.554\n",
      "RAPID        10  132      3.41    449.61    495.26    101.4    0.003    4.554\n",
      "RAPID        10  133      3.41    453.01    499.01    101.7    0.003    4.554\n",
      "RAPID        10  134      3.41    456.42    502.77    102.1    0.003    4.554\n",
      "RAPID         9  174      3.07    533.40    593.58    102.1    0.002    4.192\n",
      "Length = 30 rows\n"
     ]
    }
   ],
   "source": [
    "# Set a minimum of 10 integrations to be robust against cosmic rays\n",
    "res = nrc.ramp_optimize(sp_M9V, snr_goal=100, nint_min=10, verbose=True)"
   ]
  },
  {
   "cell_type": "code",
   "execution_count": 8,
   "metadata": {
    "collapsed": false
   },
   "outputs": [
    {
     "name": "stdout",
     "output_type": "stream",
     "text": [
      " Pattern   NGRP NINT   t_int     t_exp     t_acq     SNR      Well     eff   \n",
      "---------- ---- ---- --------- --------- --------- -------- -------- --------\n",
      "RAPID        10  128      3.41    435.98    480.25     99.8    0.003    4.554\n",
      "RAPID        10  129      3.41    439.39    484.01    100.2    0.003    4.554\n",
      "BRIGHT1      10   40      6.47    258.86    272.70     99.6    0.005    6.028\n",
      "BRIGHT1      10   41      6.47    265.34    279.52    100.8    0.005    6.028\n",
      "BRIGHT2      10   30      6.81    204.37    214.75     99.4    0.005    6.785\n",
      "BRIGHT2      10   31      6.81    211.18    221.90    101.1    0.005    6.785\n",
      "SHALLOW2      9   10     14.31    143.06    146.52     98.2    0.011    8.108\n",
      "SHALLOW2      9   11     14.31    157.36    161.17    102.9    0.011    8.108\n",
      "SHALLOW4      8   11     13.28    146.12    149.93     99.8    0.010    8.150\n",
      "SHALLOW4      8   12     13.28    159.41    163.56    104.2    0.010    8.150\n",
      "MEDIUM2       5   11     14.31    157.36    161.17     98.2    0.011    7.738\n",
      "MEDIUM2       5   12     14.31    171.67    175.82    102.6    0.011    7.738\n",
      "MEDIUM8       4   13     12.94    168.26    172.76    101.6    0.010    7.726\n",
      "MEDIUM8       4   14     12.94    181.20    186.05    105.4    0.010    7.726\n",
      "DEEP2         3   12     14.31    171.67    175.82     99.7    0.011    7.516\n",
      "DEEP2         3   13     14.31    185.97    190.47    103.7    0.011    7.516\n",
      "DEEP8         2   20      9.54    190.74    197.66     99.7    0.007    7.088\n",
      "DEEP8         2   21      9.54    200.28    207.55    102.1    0.007    7.088\n"
     ]
    }
   ],
   "source": [
    "# Print the Top 2 settings for each readout pattern\n",
    "res2 = table_filter(res, 2)\n",
    "print(res2)"
   ]
  },
  {
   "cell_type": "code",
   "execution_count": 9,
   "metadata": {
    "collapsed": false
   },
   "outputs": [
    {
     "name": "stdout",
     "output_type": "stream",
     "text": [
      "t_acq     :    170.36264\n",
      "t_exp     :    166.89890\n",
      "t_frame   :      0.34061\n",
      "t_group   :      1.70305\n",
      "t_int     :     16.68989\n",
      "t_int_tot :     17.03574\n"
     ]
    }
   ],
   "source": [
    "# Let's say we choose SHALLOW4, NGRP=10, NINT=10\n",
    "# Update detector readout\n",
    "nrc.update_detectors(read_mode='SHALLOW4', ngroup=10, nint=10)\n",
    "\n",
    "keys = nrc.multiaccum_times.keys()\n",
    "keys.sort()\n",
    "for k in keys:\n",
    "    print(\"{:<10}: {: 12.5f}\".format(k, nrc.multiaccum_times[k]))"
   ]
  },
  {
   "cell_type": "code",
   "execution_count": 10,
   "metadata": {
    "collapsed": false
   },
   "outputs": [
    {
     "name": "stdout",
     "output_type": "stream",
     "text": [
      "F444W SNR for M9V source\n",
      "   Wave      SNR    Flux (mJy)\n",
      "--------- --------- ----------\n",
      "     3.80      6.61       5.52\n",
      "     3.90    178.64       5.48\n",
      "     4.00    181.62       4.81\n",
      "     4.10    160.05       3.74\n",
      "     4.20    165.01       4.38\n",
      "     4.30    153.08       4.14\n",
      "     4.40    131.80       3.48\n",
      "     4.50    118.44       3.11\n",
      "     4.60    104.88       2.89\n",
      "     4.70     81.89       2.22\n",
      "     4.80     78.37       2.29\n",
      "     4.90     86.60       3.36\n",
      "     5.00     30.41       1.77\n",
      "     5.10      0.61       2.17\n"
     ]
    }
   ],
   "source": [
    "# Print final wavelength-dependent SNR\n",
    "# For spectroscopy, the snr_goal is the median over the bandpass\n",
    "snr_dict = nrc.sensitivity(sp=sp_M9V, forwardSNR=True, units='mJy', verbose=True)"
   ]
  },
  {
   "cell_type": "markdown",
   "metadata": {},
   "source": [
    "### Mock observed spectrum\n",
    "\n",
    "Create a series of ramp integrations based on the current NIRCam settings. The gen_exposures() function creates a series of mock observations in raw DMS format by default. By default, it's point source objects centered in the observing window."
   ]
  },
  {
   "cell_type": "code",
   "execution_count": 30,
   "metadata": {
    "collapsed": false
   },
   "outputs": [],
   "source": [
    "# Ideal spectrum and wavelength solution\n",
    "wspec, imspec = nrc.gen_psf(sp=sp_M9V)\n",
    "\n",
    "# Resize to detector window\n",
    "nx = nrc.det_info['xpix']\n",
    "ny = nrc.det_info['ypix']"
   ]
  },
  {
   "cell_type": "code",
   "execution_count": 12,
   "metadata": {
    "collapsed": false
   },
   "outputs": [],
   "source": [
    "# Create a series of ramp integrations based on the current NIRCam settings\n",
    "# Output is 10 HDULists\n",
    "res = nrc.gen_exposures(sp=sp_M9V, return_results=True, targ_name='sp_M9V')"
   ]
  },
  {
   "cell_type": "code",
   "execution_count": 44,
   "metadata": {
    "collapsed": false
   },
   "outputs": [],
   "source": [
    "header = res[0]['PRIMARY'].header\n",
    "tvals = (np.arange(header['NGROUPS'])+1) * header['TGROUP']\n",
    "slope_list = []\n",
    "\n",
    "for hdul in res:\n",
    "    header = hdul['PRIMARY'].header\n",
    "    data = hdul['SCI'].data\n",
    "    ref = pynrc.ref_pixels.NRC_refs(data, header, DMS=True, do_all=True)\n",
    "\n",
    "    # Linear fit to determine slope image\n",
    "    cf = nrc_utils.jl_poly_fit(tvals, ref.data, deg=1)\n",
    "    slope_list.append(cf[1])\n",
    "    \n",
    "# Create a master averaged slope image\n",
    "slopes_all = np.array(slope_list)\n",
    "slope_sim = slopes_all.mean(axis=0) * nrc.Detectors[0].gain\n",
    "\n",
    "# Estimate background emissin and subtract from slope_sim\n",
    "bg = np.median([slope_sim[:,0:150],slope_sim[:,-150:]])\n",
    "slope_sim -= bg\n",
    "\n",
    "# Shrink to a size without wspec=0\n",
    "wspec = nrc_utils.pad_or_cut_to_size(wspec, nx)\n",
    "ind = wspec>0\n",
    "slope_sim = slope_sim[:,ind]\n",
    "wspec = wspec[ind]"
   ]
  },
  {
   "cell_type": "code",
   "execution_count": 68,
   "metadata": {
    "collapsed": false
   },
   "outputs": [],
   "source": [
    "# Extract 2 spectral x 5 spatial pixels\n",
    "\n",
    "# First, cut out the central 5 pixels\n",
    "slope_sub = nrc_utils.pad_or_cut_to_size(slope_sim, (5,slope_sim.shape[1]))\n",
    "slope_sub_ideal = nrc_utils.pad_or_cut_to_size(imspec, (5,slope_sim.shape[1]))\n",
    "\n",
    "# Sum along the spatial axis\n",
    "spec = slope_sub.sum(axis=0)\n",
    "spec_ideal = slope_sub_ideal.sum(axis=0)\n",
    "spec_ideal_rebin = nrc_utils.frebin(spec_ideal, scale=0.5, total=False)\n",
    "\n",
    "# Build a quick RSRF from extracted ideal spectral slope\n",
    "sp_M9V.convert('mjy')\n",
    "rsrf = spec_ideal / sp_M9V.sample(wspec*1e4)\n",
    "\n",
    "# Rebin along spectral direction\n",
    "wspec_rebin = nrc_utils.frebin(wspec, scale=0.5, total=False)\n",
    "spec_rebin_cal = nrc_utils.frebin(spec/rsrf, scale=0.5, total=False)"
   ]
  },
  {
   "cell_type": "code",
   "execution_count": 70,
   "metadata": {
    "collapsed": true
   },
   "outputs": [],
   "source": [
    "# Expected noise per extraction element\n",
    "snr_interp = np.interp(wspec_rebin, snr_dict['wave'], snr_dict['snr'])\n",
    "_spec_rebin = spec_ideal_rebin / snr_interp\n",
    "_spec_rebin_cal = _spec_rebin / nrc_utils.frebin(rsrf, scale=0.5, total=False)"
   ]
  },
  {
   "cell_type": "code",
   "execution_count": 75,
   "metadata": {
    "collapsed": false
   },
   "outputs": [
    {
     "data": {
      "image/png": "[encoded data removed]",
      "text/plain": [
       "<matplotlib.figure.Figure at 0x13354be50>"
      ]
     },
     "metadata": {},
     "output_type": "display_data"
    }
   ],
   "source": [
    "fig, ax = plt.subplots(1,1, figsize=(12,8))\n",
    "ax.plot(sp_M9V.wave/1e4, sp_M9V.flux, label='Input Spectrum')\n",
    "ax.plot(wspec_rebin, spec_rebin_cal, alpha=0.7, label='Extracted Observation')\n",
    "ax.errorbar(wspec_rebin, spec_rebin_cal, yerr=_spec_rebin_cal, zorder=3,\n",
    "            fmt='none', label='Expected Error Bars', alpha=0.7)\n",
    "\n",
    "ax.set_ylim([0,15])\n",
    "ax.set_xlim([3.7,5.1])\n",
    "\n",
    "ax.set_xlabel('Wavelength ($\\mu m$)')\n",
    "ax.set_ylabel('Flux (mJy)')\n",
    "ax.set_title('Simulated Spectrum')\n",
    "\n",
    "ax.legend(loc='upper right');"
   ]
  },
  {
   "cell_type": "markdown",
   "metadata": {},
   "source": [
    "## Example 4: Exoplanet Transit Spectroscopy\n",
    "\n",
    "Let's say we want to observe an exoplanet transit using NIRCam grisms in the F322W2 filter. \n",
    "\n",
    "We assume a 2.1-hour transit duration for a K6V star (K=8.4 mag)."
   ]
  },
  {
   "cell_type": "code",
   "execution_count": 76,
   "metadata": {
    "collapsed": true
   },
   "outputs": [],
   "source": [
    "nrc = pynrc.NIRCam('F322W2', pupil='GRISM0', wind_mode='STRIPE', ypix=64)"
   ]
  },
  {
   "cell_type": "code",
   "execution_count": 77,
   "metadata": {
    "collapsed": true
   },
   "outputs": [],
   "source": [
    "# K6V star at K=8.4 mags\n",
    "bp_k = S.ObsBandpass('k')\n",
    "sp_K6V = pynrc.stellar_spectrum('K6V', 8.4, 'vegamag', bp_k)"
   ]
  },
  {
   "cell_type": "code",
   "execution_count": 78,
   "metadata": {
    "collapsed": true
   },
   "outputs": [],
   "source": [
    "# Constraints\n",
    "well     = 0.5        # Keep well below 50% full\n",
    "tacq     = 2.1*3600.  # 2.1 hour transit duration\n",
    "ng_max   = 30         # Transit spectroscopy allows for up to 30 groups per integrations\n",
    "nint_max = int(1e6)   # Effectively no limit on number of integrations\n",
    "\n",
    "# Let's bin the spectrum to R~100\n",
    "# dw_bin is a passable parameter for specifiying spectral bin sizes\n",
    "R = 100\n",
    "dw_bin = (nrc.bandpass.avgwave() / 10000) / R"
   ]
  },
  {
   "cell_type": "code",
   "execution_count": 79,
   "metadata": {
    "collapsed": false
   },
   "outputs": [
    {
     "name": "stdout",
     "output_type": "stream",
     "text": [
      "BRIGHT1\n",
      "BRIGHT2\n",
      "DEEP2\n",
      "DEEP8\n",
      "MEDIUM2\n",
      "MEDIUM8\n",
      "RAPID\n",
      "SHALLOW2\n",
      "SHALLOW4\n",
      " Pattern   NGRP NINT   t_int     t_exp     t_acq     SNR      Well     eff   \n",
      "---------- ---- ---- --------- --------- --------- -------- -------- --------\n",
      "BRIGHT1      23  480     15.33   7357.18   7523.19  30676.7    0.479  353.677\n",
      "BRIGHT1      23  481     15.33   7372.50   7538.86  30708.6    0.479  353.677\n",
      "BRIGHT1      23  482     15.33   7387.83   7554.54  30740.5    0.479  353.677\n",
      "BRIGHT1      23  483     15.33   7403.16   7570.21  30772.4    0.479  353.677\n",
      "BRIGHT1      23  484     15.33   7418.49   7585.88  30804.2    0.479  353.677\n",
      "BRIGHT2      23  470     15.67   7363.99   7526.54  30381.0    0.490  350.190\n",
      "BRIGHT2      23  471     15.67   7379.66   7542.56  30413.3    0.490  350.190\n",
      "BRIGHT2      23  472     15.67   7395.32   7558.57  30445.5    0.490  350.190\n",
      "BRIGHT2      23  473     15.67   7410.99   7574.58  30477.8    0.490  350.190\n",
      "BRIGHT2      23  474     15.67   7426.66   7590.60  30510.0    0.490  350.190\n",
      "...         ...  ...       ...       ...       ...      ...      ...      ...\n",
      "DEEP8         2  766      9.54   7305.40   7570.33  26132.6    0.298  300.347\n",
      "DEEP8         2  767      9.54   7314.94   7580.21  26149.6    0.298  300.347\n",
      "RAPID         3 5504      1.02   5624.15   7527.72  18987.6    0.032  218.846\n",
      "RAPID         3 5505      1.02   5625.17   7529.08  18989.4    0.032  218.846\n",
      "RAPID         3 5506      1.02   5626.20   7530.45  18991.1    0.032  218.846\n",
      "RAPID         3 5507      1.02   5627.22   7531.82  18992.8    0.032  218.846\n",
      "RAPID         2 7322      0.68   4987.89   7520.21  13806.0    0.021  159.203\n",
      "RAPID         2 7323      0.68   4988.57   7521.24  13806.9    0.021  159.203\n",
      "RAPID         2 7324      0.68   4989.26   7522.27  13807.9    0.021  159.203\n",
      "RAPID         2 7325      0.68   4989.94   7523.29  13808.8    0.021  159.203\n",
      "RAPID         2 7326      0.68   4990.62   7524.32  13809.7    0.021  159.203\n",
      "Length = 54 rows\n"
     ]
    }
   ],
   "source": [
    "res = nrc.ramp_optimize(sp_K6V, tacq_max=tacq, nint_max=nint_max, ng_max=ng_max, \n",
    "                        well_frac_max=well, dw_bin=dw_bin, verbose=True)"
   ]
  },
  {
   "cell_type": "code",
   "execution_count": 80,
   "metadata": {
    "collapsed": false
   },
   "outputs": [
    {
     "name": "stdout",
     "output_type": "stream",
     "text": [
      " Pattern   NGRP NINT   t_int     t_exp     t_acq     SNR      Well     eff   \n",
      "---------- ---- ---- --------- --------- --------- -------- -------- --------\n",
      "RAPID        30  713     10.22   7285.65   7532.24  30342.1    0.319  349.609\n",
      "RAPID        30  714     10.22   7295.87   7542.81  30363.4    0.319  349.609\n",
      "BRIGHT1      23  480     15.33   7357.18   7523.19  30676.7    0.479  353.677\n",
      "BRIGHT1      23  481     15.33   7372.50   7538.86  30708.6    0.479  353.677\n",
      "BRIGHT2      23  470     15.67   7363.99   7526.54  30381.0    0.490  350.190\n",
      "BRIGHT2      23  471     15.67   7379.66   7542.56  30413.3    0.490  350.190\n",
      "SHALLOW2      9  514     14.31   7353.09   7530.86  30254.3    0.447  348.630\n",
      "SHALLOW2      9  515     14.31   7367.39   7545.51  30283.7    0.447  348.630\n",
      "SHALLOW4      9  491     14.99   7358.54   7528.36  29601.2    0.468  341.161\n",
      "SHALLOW4      9  492     14.99   7373.53   7543.69  29631.4    0.468  341.161\n",
      "MEDIUM2       5  514     14.31   7353.09   7530.86  30222.8    0.447  348.267\n",
      "MEDIUM2       5  515     14.31   7367.39   7545.51  30252.2    0.447  348.267\n",
      "MEDIUM8       4  567     12.94   7338.78   7534.89  27547.4    0.405  317.352\n",
      "MEDIUM8       4  568     12.94   7351.73   7548.17  27571.7    0.405  317.352\n",
      "DEEP2         3  514     14.31   7353.09   7530.86  30201.7    0.447  348.024\n",
      "DEEP2         3  515     14.31   7367.39   7545.51  30231.1    0.447  348.024\n",
      "DEEP8         2  763      9.54   7276.79   7540.68  26081.3    0.298  300.347\n",
      "DEEP8         2  764      9.54   7286.33   7550.56  26098.4    0.298  300.347\n"
     ]
    }
   ],
   "source": [
    "# Print the Top 2 settings for each readout pattern\n",
    "res2 = table_filter(res, 2)\n",
    "print(res2)"
   ]
  },
  {
   "cell_type": "code",
   "execution_count": 90,
   "metadata": {
    "collapsed": false
   },
   "outputs": [
    {
     "data": {
      "image/png": "[encoded data removed]",
      "text/plain": [
       "<matplotlib.figure.Figure at 0x1351684d0>"
      ]
     },
     "metadata": {},
     "output_type": "display_data"
    }
   ],
   "source": [
    "# Even though BRIGHT1 has a slight efficiency preference over RAPID \n",
    "# and BRIGHT2, we decide to choose RAPID, because we are convinced \n",
    "# that saving all data (and no coadding) is a better option. \n",
    "# If APT informs you that the data rates or total data shorage is \n",
    "# an issue, you can select one of the other options.\n",
    "\n",
    "# Update to RAPID, ngroup=30, nint=716 and plot PPM\n",
    "nrc.update_detectors(read_mode='RAPID', ngroup=30, nint=715)\n",
    "snr_dict = nrc.sensitivity(sp=sp_K6V, dw_bin=dw_bin, forwardSNR=True, units='Jy')\n",
    "wave = np.array(snr_dict['wave'])\n",
    "snr  = np.array(snr_dict['snr'])\n",
    "\n",
    "# Let assume bg subtraction of something with similar noise\n",
    "snr /= np.sqrt(2.)\n",
    "ppm = 1e6 / snr\n",
    "\n",
    "# NOTE: We have up until now neglected to include a \"noise floor\"\n",
    "# which represents the expected minimum achievable ppm from\n",
    "# unknown systematics. To first order, this can be added in \n",
    "# quadrature to the calculated PPM.\n",
    "noise_floor = 30 # in ppm\n",
    "ppm_floor = np.sqrt(ppm**2 + noise_floor**2)\n",
    "\n",
    "plt.plot(wave, ppm, marker='o', label='Calculated PPM')\n",
    "plt.plot(wave, ppm_floor, marker='o', label='PPM + Noise Floor')\n",
    "plt.xlabel('Wavelength ($\\mu m$)')\n",
    "plt.ylabel('Noise Limit (PPM)')\n",
    "plt.xlim([2.4,4.1])\n",
    "plt.ylim([20,100])\n",
    "plt.legend(loc=0)\n",
    "plt.minorticks_on()"
   ]
  },
  {
   "cell_type": "markdown",
   "metadata": {},
   "source": [
    "## Example 5: Extended Souce\n",
    "\n",
    "Expect some faint galaxies of 25 ABMag/arcsec^2 in our field. What is the best we can do with 10,000 seconds of acquisition time? "
   ]
  },
  {
   "cell_type": "code",
   "execution_count": 91,
   "metadata": {
    "collapsed": true
   },
   "outputs": [],
   "source": [
    "# Detection bandpass is F200W\n",
    "nrc = pynrc.NIRCam('F200W')\n",
    "\n",
    "# Flat spectrum (in photlam) with ABMag = 25 in the NIRCam bandpass\n",
    "sp = pynrc.stellar_spectrum('flat', 25, 'abmag', nrc.bandpass)"
   ]
  },
  {
   "cell_type": "code",
   "execution_count": 92,
   "metadata": {
    "collapsed": false
   },
   "outputs": [
    {
     "name": "stdout",
     "output_type": "stream",
     "text": [
      "BRIGHT1\n",
      "BRIGHT2\n",
      "DEEP2\n",
      "DEEP8\n",
      "MEDIUM2\n",
      "MEDIUM8\n",
      "RAPID\n",
      "SHALLOW2\n",
      "SHALLOW4\n",
      " Pattern   NGRP NINT   t_int     t_exp     t_acq     SNR      Well     eff   \n",
      "---------- ---- ---- --------- --------- --------- -------- -------- --------\n",
      "MEDIUM8      10    8   1052.20   8417.63   8503.53      9.8    0.000    0.106\n",
      "MEDIUM8       9    9    944.84   8503.52   8600.16      9.8    0.000    0.106\n",
      "MEDIUM8       9   10    944.84   9448.36   9555.73     10.4    0.000    0.106\n",
      "MEDIUM8      10    9   1052.20   9469.83   9566.47     10.4    0.000    0.106\n",
      "MEDIUM8       9   11    944.84  10393.19  10511.30     10.9    0.000    0.106\n",
      "MEDIUM8      10   10   1052.20  10522.03  10629.41     11.0    0.000    0.106\n",
      "DEEP8         8    5   1589.04   7945.21   7998.90      9.4    0.000    0.105\n",
      "DEEP8         7    6   1374.31   8245.84   8310.27      9.6    0.000    0.105\n",
      "MEDIUM8       8   11    837.47   9212.15   9330.26     10.2    0.000    0.105\n",
      "DEEP8         6    8   1159.57   9276.57   9362.47     10.2    0.000    0.105\n",
      "...         ...  ...       ...       ...       ...      ...      ...      ...\n",
      "BRIGHT1      10   46    204.00   9383.94   9877.83      6.4    0.000    0.063\n",
      "BRIGHT1      10   47    204.00   9587.94  10092.57      6.4    0.000    0.063\n",
      "BRIGHT1      10   48    204.00   9791.93  10307.30      6.5    0.000    0.063\n",
      "BRIGHT1      10   49    204.00   9995.93  10522.04      6.6    0.000    0.063\n",
      "BRIGHT1       8   56    161.05   9018.89   9620.15      5.3    0.000    0.054\n",
      "RAPID        10   83    107.37   8911.52   9802.68      4.7    0.000    0.046\n",
      "RAPID        10   84    107.37   9018.89   9920.78      4.7    0.000    0.046\n",
      "RAPID        10   85    107.37   9126.25  10038.89      4.7    0.000    0.046\n",
      "RAPID        10   86    107.37   9233.62  10156.99      4.7    0.000    0.046\n",
      "RAPID        10   87    107.37   9340.99  10275.09      4.8    0.000    0.046\n",
      "RAPID         9   91     96.63   8793.41   9770.47      4.2    0.000    0.042\n",
      "Length = 71 rows\n"
     ]
    }
   ],
   "source": [
    "res = nrc.ramp_optimize(sp, is_extended=True, tacq_max=10000, tacq_frac=0.05, verbose=True)"
   ]
  },
  {
   "cell_type": "code",
   "execution_count": 93,
   "metadata": {
    "collapsed": false,
    "scrolled": true
   },
   "outputs": [
    {
     "name": "stdout",
     "output_type": "stream",
     "text": [
      "New Ramp Settings:\n",
      "  read_mode :  MEDIUM8\n",
      "  nf        :        8\n",
      "  nd2       :        2\n",
      "  ngroup    :       10\n",
      "  nint      :       10\n",
      "New Detector Settings\n",
      "  wind_mode :     FULL\n",
      "  xpix      :     2048\n",
      "  ypix      :     2048\n",
      "  x0        :        0\n",
      "  y0        :        0\n",
      "New Ramp Times\n",
      "  t_group   :  107.368\n",
      "  t_frame   :   10.737\n",
      "  t_int     : 1052.203\n",
      "  t_int_tot : 1062.940\n",
      "  t_exp     : 10522.035\n",
      "  t_acq     : 10629.408\n"
     ]
    }
   ],
   "source": [
    "# MEDIUM8 10 10 looks like a good option\n",
    "nrc.update_detectors(read_mode='MEDIUM8', ngroup=10, nint=10, verbose=True)"
   ]
  },
  {
   "cell_type": "code",
   "execution_count": 94,
   "metadata": {
    "collapsed": false
   },
   "outputs": [],
   "source": [
    "# Calculate flux/mag for various nsigma detection limits\n",
    "tbl = Table(names=('Sigma', 'Point (nJy)',    'Extended (nJy/asec^2)', \n",
    "                            'Point (AB Mag)', 'Extended (AB Mag/asec^2)'))\n",
    "tbl['Sigma'].format = '.0f'\n",
    "for k in tbl.keys()[1:]:\n",
    "    tbl[k].format = '.2f'\n",
    "\n",
    "for sig in [1,3,5,10]:\n",
    "    snr_dict1 = nrc.sensitivity(nsig=sig, units='nJy', verbose=False)\n",
    "    snr_dict2 = nrc.sensitivity(nsig=sig, units='abmag', verbose=False)\n",
    "    tbl.add_row([sig, snr_dict1[0]['sensitivity'], snr_dict1[1]['sensitivity'],\n",
    "                snr_dict2[0]['sensitivity'], snr_dict2[1]['sensitivity']])"
   ]
  },
  {
   "cell_type": "code",
   "execution_count": 96,
   "metadata": {
    "collapsed": false
   },
   "outputs": [
    {
     "data": {
      "text/html": [
       "&lt;Table length=4&gt;\n",
       "<table id=\"table4794664464\" class=\"table-striped table-bordered table-condensed\">\n",
       "<thead><tr><th>Sigma</th><th>Source (nJy)</th><th>Extended (nJy/asec^2)</th><th>Source (AB Mag)</th><th>Extended (AB Mag/asec^2)</th></tr></thead>\n",
       "<thead><tr><th>float64</th><th>float64</th><th>float64</th><th>float64</th><th>float64</th></tr></thead>\n",
       "<tr><td>1</td><td>0.91</td><td>32.31</td><td>31.50</td><td>27.63</td></tr>\n",
       "<tr><td>3</td><td>2.75</td><td>97.36</td><td>30.30</td><td>26.43</td></tr>\n",
       "<tr><td>5</td><td>4.61</td><td>163.00</td><td>29.74</td><td>25.87</td></tr>\n",
       "<tr><td>10</td><td>9.37</td><td>329.71</td><td>28.97</td><td>25.10</td></tr>\n",
       "</table>"
      ],
      "text/plain": [
       "<Table length=4>\n",
       " Sigma  Source (nJy) ... Source (AB Mag) Extended (AB Mag/asec^2)\n",
       "float64   float64    ...     float64             float64         \n",
       "------- ------------ ... --------------- ------------------------\n",
       "      1         0.91 ...           31.50                    27.63\n",
       "      3         2.75 ...           30.30                    26.43\n",
       "      5         4.61 ...           29.74                    25.87\n",
       "     10         9.37 ...           28.97                    25.10"
      ]
     },
     "execution_count": 96,
     "metadata": {},
     "output_type": "execute_result"
    }
   ],
   "source": [
    "tbl"
   ]
  },
  {
   "cell_type": "code",
   "execution_count": null,
   "metadata": {
    "collapsed": true
   },
   "outputs": [],
   "source": []
  }
 ],
 "metadata": {
  "anaconda-cloud": {},
  "kernelspec": {
   "display_name": "Python [default]",
   "language": "python",
   "name": "python2"
  },
  "language_info": {
   "codemirror_mode": {
    "name": "ipython",
    "version": 2
   },
   "file_extension": ".py",
   "mimetype": "text/x-python",
   "name": "python",
   "nbconvert_exporter": "python",
   "pygments_lexer": "ipython2",
   "version": "2.7.12"
  }
 },
 "nbformat": 4,
 "nbformat_minor": 0
}
