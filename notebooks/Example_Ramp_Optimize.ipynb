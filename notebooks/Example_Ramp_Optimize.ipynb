{
 "cells": [
  {
   "cell_type": "markdown",
   "metadata": {},
   "source": [
    "# Optimize Ramp Settings\n",
    "\n",
    "This notebook outlines an example to optimize the ramp settings for a few different types of observations.\n",
    "\n",
    "In these types of optimizations, we must consider observations constraints such as saturation levels, SNR requirements, and limits on acquisition time.\n",
    "\n",
    "**Note**: The reported acquisition time does not include obsevatory and instrument-level overheads, such as slew times, filter changes, script compilations, etc. It only includes detector readout times (including reset frames)."
   ]
  },
  {
   "cell_type": "code",
   "execution_count": 1,
   "metadata": {
    "collapsed": true
   },
   "outputs": [],
   "source": [
    "## Standard imports\n",
    "\n",
    "# Makes print and division act like Python 3\n",
    "from __future__ import print_function, division\n",
    "\n",
    "# Import the usual libraries\n",
    "import numpy as np\n",
    "import matplotlib\n",
    "import matplotlib.pyplot as plt\n",
    "\n",
    "# Enable inline plotting at lower left\n",
    "%matplotlib inline\n",
    "matplotlib.rcParams['image.origin'] = 'lower'\n",
    "matplotlib.rcParams['image.interpolation'] = 'none'\n",
    "\n",
    "# seaborn package for making pretty plots, but not necessary\n",
    "try:\n",
    "    import seaborn as sns\n",
    "    params =   {'xtick.direction': 'in', 'ytick.direction': 'in', 'font.family': ['serif'],\n",
    "                'text.usetex': True, 'text.latex.preamble': ['\\usepackage{gensymb}']}\n",
    "    sns.set_style(\"ticks\", params)\n",
    "except ImportError:\n",
    "    print('Seaborn module is not installed. Not strictly required, but is a useful package!')\n",
    "    \n",
    "from IPython.display import display, Latex, clear_output"
   ]
  },
  {
   "cell_type": "code",
   "execution_count": 2,
   "metadata": {
    "collapsed": false
   },
   "outputs": [],
   "source": [
    "import pynrc\n",
    "from pynrc import nrc_utils\n",
    "from pynrc.nrc_utils import (webbpsf, poppy, pix_noise, S)\n",
    "from pynrc.pynrc_core import table_filter\n",
    "\n",
    "pynrc.setup_logging('WARNING', verbose=False)\n",
    "\n",
    "from astropy.table import Table"
   ]
  },
  {
   "cell_type": "markdown",
   "metadata": {},
   "source": [
    "## Example 1: M-Dwarf companion\n",
    "\n",
    "We want to observe an M-Dwarf companion (K=18 mag) orbiting an F0V primary (K=10 mag) in the F430M filter. Assume the M-Dwarf flux is not significantly impacted by the primary's PSF (ie., in the background limited regime). In this scenario, the F0V star will saturate much more quickly compared to the fainter companion, so it limits which ramp settings we can use.\n",
    "\n",
    "We will test a couple different types of observations (direct imaging vs coronagraphy)."
   ]
  },
  {
   "cell_type": "code",
   "execution_count": 3,
   "metadata": {
    "collapsed": true
   },
   "outputs": [],
   "source": [
    "# Get stellar spectra and normalize at K-Band\n",
    "# The stellar_spectrum convenience function creates a Pysynphot spectrum\n",
    "bp_k = S.ObsBandpass('k')\n",
    "sp_M2V = pynrc.stellar_spectrum('M2V', 18, 'vegamag', bp_k)\n",
    "sp_F0V = pynrc.stellar_spectrum('F0V', 10, 'vegamag', bp_k)"
   ]
  },
  {
   "cell_type": "code",
   "execution_count": 5,
   "metadata": {
    "collapsed": false
   },
   "outputs": [
    {
     "name": "stdout",
     "output_type": "stream",
     "text": [
      "BRIGHT1\n",
      "BRIGHT2\n",
      "DEEP2\n",
      "DEEP8\n",
      "MEDIUM2\n",
      "MEDIUM8\n",
      "RAPID\n",
      "SHALLOW2\n",
      "SHALLOW4\n",
      " Pattern   NGRP NINT   t_int     t_exp     t_acq     SNR      Well     eff   \n",
      "---------- ---- ---- --------- --------- --------- -------- -------- --------\n",
      "RAPID         9  510      2.51   1278.96   1421.06    100.0    0.707    2.651\n",
      "RAPID         9  511      2.51   1281.47   1423.85    100.1    0.707    2.651\n",
      "RAPID         9  512      2.51   1283.97   1426.64    100.2    0.707    2.651\n",
      "RAPID         9  513      2.51   1286.48   1429.42    100.3    0.707    2.651\n",
      "RAPID         9  514      2.51   1288.99   1432.21    100.3    0.707    2.651\n",
      "RAPID         9  515      2.51   1291.50   1435.00    100.4    0.707    2.651\n",
      "RAPID         9  516      2.51   1294.00   1437.78    100.5    0.707    2.651\n",
      "RAPID         9  517      2.51   1296.51   1440.57    100.6    0.707    2.651\n",
      "RAPID         9  518      2.51   1299.02   1443.36    100.7    0.707    2.651\n",
      "RAPID         9  519      2.51   1301.53   1446.14    100.8    0.707    2.651\n",
      "...         ...  ...       ...       ...       ...      ...      ...      ...\n",
      "BRIGHT1       5  720      2.51   1805.59   2006.21    101.4    0.707    2.262\n",
      "BRIGHT1       5  721      2.51   1808.09   2008.99    101.4    0.707    2.262\n",
      "BRIGHT1       5  722      2.51   1810.60   2011.78    101.5    0.707    2.262\n",
      "BRIGHT1       5  723      2.51   1813.11   2014.57    101.6    0.707    2.262\n",
      "BRIGHT1       5  724      2.51   1815.62   2017.35    101.6    0.707    2.262\n",
      "BRIGHT1       5  725      2.51   1818.13   2020.14    101.7    0.707    2.262\n",
      "BRIGHT1       5  726      2.51   1820.63   2022.93    101.8    0.707    2.262\n",
      "BRIGHT1       5  727      2.51   1823.14   2025.71    101.8    0.707    2.262\n",
      "BRIGHT1       5  728      2.51   1825.65   2028.50    101.9    0.707    2.262\n",
      "BRIGHT1       5  729      2.51   1828.16   2031.29    102.0    0.707    2.262\n",
      "BRIGHT1       5  730      2.51   1830.66   2034.07    102.1    0.707    2.262\n",
      "Length = 113 rows\n"
     ]
    }
   ],
   "source": [
    "# Initiate a NIRCam observation\n",
    "nrc = pynrc.NIRCam('F430M', wind_mode='WINDOW', xpix=160, ypix=160)\n",
    "\n",
    "# What constraints do we place on the observations?\n",
    "# Let's assume we want photometry on the primary to calibrate the M-Dwarf\n",
    "#  - Set well_frac_max=0.75\n",
    "# Want a SNR~100 in the F430M filter\n",
    "#  - Set snr_goal=100\n",
    "res = nrc.ramp_optimize(sp_M2V, sp_bright=sp_F0V, snr_goal=100, well_frac_max=0.75, verbose=True)"
   ]
  },
  {
   "cell_type": "code",
   "execution_count": 49,
   "metadata": {
    "collapsed": false
   },
   "outputs": [
    {
     "name": "stdout",
     "output_type": "stream",
     "text": [
      " Pattern   NGRP NINT   t_int     t_exp     t_acq     SNR      Well     eff   \n",
      "---------- ---- ---- --------- --------- --------- -------- -------- --------\n",
      "RAPID         9  510      2.51   1278.96   1421.06    100.0    0.707    2.651\n",
      "RAPID         9  511      2.51   1281.47   1423.85    100.1    0.707    2.651\n",
      "BRIGHT1       5  700      2.51   1755.43   1950.48     99.9    0.707    2.262\n",
      "BRIGHT1       5  701      2.51   1757.94   1953.27    100.0    0.707    2.262\n",
      "BRIGHT2       4  751      2.23   1674.07   1883.33    100.0    0.628    2.303\n",
      "BRIGHT2       4  752      2.23   1676.30   1885.84    100.0    0.628    2.303\n",
      "SHALLOW4      2  621      2.51   1557.32   1730.35    100.0    0.707    2.403\n",
      "SHALLOW4      2  622      2.51   1559.83   1733.14    100.1    0.707    2.403\n"
     ]
    }
   ],
   "source": [
    "# Print the Top 2 settings for each readout pattern\n",
    "res2 = table_filter(res, 2)\n",
    "print(res2)"
   ]
  },
  {
   "cell_type": "code",
   "execution_count": 46,
   "metadata": {
    "collapsed": false
   },
   "outputs": [
    {
     "name": "stdout",
     "output_type": "stream",
     "text": [
      " Pattern   NGRP NINT   t_int     t_exp     t_acq     SNR      Well     eff   \n",
      "---------- ---- ---- --------- --------- --------- -------- -------- --------\n",
      "MEDIUM8      10   83    104.77   8695.57   8784.30    100.0    0.001    1.066\n",
      "MEDIUM8      10   84    104.77   8800.34   8890.14    100.6    0.001    1.066\n",
      "DEEP8        20   12    414.79   4977.45   4990.28     99.0    0.003    1.400\n",
      "DEEP8        20   13    414.79   5392.24   5406.14    103.0    0.003    1.400\n"
     ]
    }
   ],
   "source": [
    "# Do the same thing, but for coronagraphic mask instead\n",
    "nrc._mask = 'MASK430R'; nrc._pupil = 'CIRCLYOT'\n",
    "nrc.update_psf_coeff()\n",
    "nrc.update_detectors(xpix=320, ypix=320)\n",
    "\n",
    "# We assume that longer ramps will give us the best SNR for time\n",
    "patterns = ['MEDIUM8', 'DEEP8']\n",
    "res = nrc.ramp_optimize(sp_M2V, sp_bright=sp_F0V, snr_goal=100, well_frac_max=0.75, patterns=patterns)\n",
    "\n",
    "# Take the Top 2 settings for each readout pattern\n",
    "res2 = table_filter(res, 2)\n",
    "print(res)"
   ]
  },
  {
   "cell_type": "markdown",
   "metadata": {
    "collapsed": true
   },
   "source": [
    "### RESULTS\n",
    "\n",
    "Based on these two comparisons, it looks like direct imaging is much more efficient in getting to the requisite SNR. In addition, direct imaging gives us a photometric comparison source that the coronagraph masks out."
   ]
  },
  {
   "cell_type": "markdown",
   "metadata": {},
   "source": [
    "## Example 2: Single-Object Grism Spectroscopy\n",
    "\n"
   ]
  },
  {
   "cell_type": "code",
   "execution_count": 3,
   "metadata": {
    "collapsed": true
   },
   "outputs": [],
   "source": [
    "# M9V star at K=10 mags\n",
    "bp_k = S.ObsBandpass('k')\n",
    "sp_M9V = pynrc.stellar_spectrum('M9V', 10, 'vegamag', bp_k)"
   ]
  },
  {
   "cell_type": "code",
   "execution_count": 4,
   "metadata": {
    "collapsed": true
   },
   "outputs": [],
   "source": [
    "nrc = pynrc.NIRCam('F444W', pupil='GRISM0', wind_mode='STRIPE', ypix=64)"
   ]
  },
  {
   "cell_type": "code",
   "execution_count": 5,
   "metadata": {
    "collapsed": false
   },
   "outputs": [
    {
     "name": "stdout",
     "output_type": "stream",
     "text": [
      "BRIGHT1\n",
      "BRIGHT2\n",
      "DEEP2\n",
      "DEEP8\n",
      "MEDIUM2\n",
      "MEDIUM8\n",
      "RAPID\n",
      "SHALLOW2\n",
      "SHALLOW4\n",
      " Pattern   NGRP NINT   t_int     t_exp     t_acq     SNR      Well     eff   \n",
      "---------- ---- ---- --------- --------- --------- -------- -------- --------\n",
      "MEDIUM2       8    5     24.52    122.62    124.32    301.9    0.114   27.080\n",
      "MEDIUM2       8    6     24.52    147.14    149.19    330.8    0.114   27.080\n",
      "MEDIUM2       7    6     21.12    126.71    128.75    304.9    0.098   26.867\n",
      "DEEP2         4    6     21.12    126.71    128.75    302.9    0.098   26.696\n",
      "DEEP2         4    7     21.12    147.82    150.21    327.2    0.098   26.696\n",
      "SHALLOW2     10    8     16.01    128.07    130.79    304.2    0.074   26.602\n",
      "SHALLOW2     10    9     16.01    144.08    147.14    322.7    0.074   26.602\n",
      "MEDIUM2       6    8     17.71    141.69    144.42    319.3    0.082   26.566\n",
      "SHALLOW2      9   10     14.31    143.06    146.46    319.2    0.066   26.375\n",
      "MEDIUM8       8    5     26.57    132.84    134.54    305.2    0.123   26.309\n",
      "...         ...  ...       ...       ...       ...      ...      ...      ...\n",
      "MEDIUM8       4   12     12.94    155.32    159.41    305.7    0.060   24.212\n",
      "BRIGHT1       9   28      5.79    162.13    171.67    310.0    0.027   23.661\n",
      "BRIGHT2       8   30      5.45    163.49    173.71    309.7    0.025   23.498\n",
      "DEEP8         2   17      9.54    162.13    167.92    295.3    0.044   22.787\n",
      "DEEP8         2   18      9.54    171.67    177.80    303.8    0.044   22.787\n",
      "DEEP8         2   19      9.54    181.20    187.68    312.2    0.044   22.787\n",
      "RAPID        10   52      3.41    177.12    194.83    298.4    0.016   21.378\n",
      "RAPID        10   53      3.41    180.52    198.58    301.3    0.016   21.378\n",
      "RAPID        10   54      3.41    183.93    202.32    304.1    0.016   21.378\n",
      "RAPID        10   55      3.41    187.34    206.07    306.9    0.016   21.378\n",
      "RAPID         9   66      3.07    202.32    224.80    308.2    0.014   20.554\n",
      "Length = 35 rows\n"
     ]
    }
   ],
   "source": [
    "res = nrc.ramp_optimize(sp_M9V, snr_goal=300, nint_min=5, verbose=True)"
   ]
  },
  {
   "cell_type": "code",
   "execution_count": 6,
   "metadata": {
    "collapsed": false
   },
   "outputs": [
    {
     "name": "stdout",
     "output_type": "stream",
     "text": [
      " Pattern   NGRP NINT   t_int     t_exp     t_acq     SNR      Well     eff   \n",
      "---------- ---- ---- --------- --------- --------- -------- -------- --------\n",
      "RAPID        10   52      3.41    177.12    194.83    298.4    0.016   21.378\n",
      "RAPID        10   53      3.41    180.52    198.58    301.3    0.016   21.378\n",
      "BRIGHT1      10   22      6.47    142.37    149.87    296.6    0.030   24.225\n",
      "BRIGHT1      10   23      6.47    148.85    156.68    303.2    0.030   24.225\n",
      "BRIGHT2      10   21      6.81    143.06    150.21    301.0    0.032   24.559\n",
      "BRIGHT2      10   22      6.81    149.87    157.36    308.1    0.032   24.559\n",
      "SHALLOW2     10    8     16.01    128.07    130.79    304.2    0.074   26.602\n",
      "SHALLOW2     10    9     16.01    144.08    147.14    322.7    0.074   26.602\n",
      "SHALLOW4      8   10     13.28    132.84    136.24    300.8    0.062   25.767\n",
      "SHALLOW4      8   11     13.28    146.12    149.87    315.4    0.062   25.767\n",
      "MEDIUM2       8    5     24.52    122.62    124.32    301.9    0.114   27.080\n",
      "MEDIUM2       8    6     24.52    147.14    149.19    330.8    0.114   27.080\n",
      "MEDIUM8       8    5     26.57    132.84    134.54    305.2    0.123   26.309\n",
      "MEDIUM8       8    6     26.57    159.41    161.45    334.3    0.123   26.309\n",
      "DEEP2         4    6     21.12    126.71    128.75    302.9    0.098   26.696\n",
      "DEEP2         4    7     21.12    147.82    150.21    327.2    0.098   26.696\n",
      "DEEP8         2   17      9.54    162.13    167.92    295.3    0.044   22.787\n",
      "DEEP8         2   18      9.54    171.67    177.80    303.8    0.044   22.787\n"
     ]
    }
   ],
   "source": [
    "# Print the Top 2 settings for each readout pattern\n",
    "res2 = table_filter(res, 2)\n",
    "print(res2)"
   ]
  },
  {
   "cell_type": "code",
   "execution_count": 5,
   "metadata": {
    "collapsed": false
   },
   "outputs": [
    {
     "name": "stdout",
     "output_type": "stream",
     "text": [
      "F444W SNR for M9V source\n",
      "   Wave      SNR    Flux (mJy)\n",
      "--------- --------- ----------\n",
      "     3.90    419.63      34.57\n",
      "     4.00    425.97      30.34\n",
      "     4.10    380.28      23.59\n",
      "     4.20    390.77      27.64\n",
      "     4.30    365.56      26.10\n",
      "     4.40    320.72      21.98\n",
      "     4.50    292.65      19.63\n",
      "     4.60    264.16      18.21\n",
      "     4.70    215.66      14.01\n",
      "     4.80    208.18      14.47\n",
      "     4.90    225.64      21.20\n",
      "     5.00     99.98      11.15\n"
     ]
    }
   ],
   "source": [
    "# Let's say we choose SHALLOW4, NGRP=8, NINT=10\n",
    "# Update detector readout\n",
    "nrc.update_detectors(read_mode='SHALLOW4', ngroup=8, nint=10)\n",
    "\n",
    "# Print final wavelength-dependent SNR\n",
    "# For spectroscopy, the snr_goal is the average over the bandpass\n",
    "snr_dict = nrc.sensitivity(sp=sp_M9V, forwardSNR=True, units='mJy', verbose=True)"
   ]
  },
  {
   "cell_type": "markdown",
   "metadata": {},
   "source": [
    "## Example 3: Exoplanet Coronagraphy\n"
   ]
  },
  {
   "cell_type": "markdown",
   "metadata": {},
   "source": [
    "## Example 4: Exoplanet Transit Spectroscopy\n",
    "\n",
    "Let's say we want to observe an exoplanet transit using NIRCam grisms in the F322W2 filter. Given that the transit duration is 2 hours for the source, what is the best "
   ]
  },
  {
   "cell_type": "code",
   "execution_count": 3,
   "metadata": {
    "collapsed": true
   },
   "outputs": [],
   "source": [
    "nrc = pynrc.NIRCam('F322W2', pupil='GRISM0', wind_mode='STRIPE', ypix=64)"
   ]
  },
  {
   "cell_type": "code",
   "execution_count": 4,
   "metadata": {
    "collapsed": true
   },
   "outputs": [],
   "source": [
    "# K6V star at K=8.4 mags\n",
    "bp_k = S.ObsBandpass('k')\n",
    "sp_K6V = pynrc.stellar_spectrum('K6V', 8.4, 'vegamag', bp_k)"
   ]
  },
  {
   "cell_type": "code",
   "execution_count": 13,
   "metadata": {
    "collapsed": false
   },
   "outputs": [
    {
     "name": "stdout",
     "output_type": "stream",
     "text": [
      "BRIGHT1\n",
      "BRIGHT2\n",
      "DEEP2\n",
      "DEEP8\n",
      "MEDIUM2\n",
      "MEDIUM8\n",
      "RAPID\n",
      "SHALLOW2\n",
      "SHALLOW4\n",
      " Pattern   NGRP NINT   t_int     t_exp     t_acq     SNR      Well     eff   \n",
      "---------- ---- ---- --------- --------- --------- -------- -------- --------\n",
      "BRIGHT1      24  438     16.01   7011.80   7160.98  28100.1    0.499  332.064\n",
      "BRIGHT1      24  439     16.01   7027.81   7177.33  28132.2    0.499  332.064\n",
      "BRIGHT1      24  440     16.01   7043.81   7193.68  28164.2    0.499  332.064\n",
      "BRIGHT1      24  441     16.01   7059.82   7210.03  28196.2    0.499  332.064\n",
      "BRIGHT1      24  442     16.01   7075.83   7226.38  28228.2    0.499  332.064\n",
      "BRIGHT1      23  457     15.33   7004.64   7160.30  28067.0    0.478  331.688\n",
      "BRIGHT2      23  448     15.67   7019.29   7171.88  27819.8    0.489  328.501\n",
      "BRIGHT2      23  449     15.67   7034.96   7187.89  27850.8    0.489  328.501\n",
      "BRIGHT2      23  450     15.67   7050.63   7203.90  27881.8    0.489  328.501\n",
      "BRIGHT2      23  451     15.67   7066.30   7219.91  27912.8    0.489  328.501\n",
      "...         ...  ...       ...       ...       ...      ...      ...      ...\n",
      "SHALLOW4      8  526     13.28   6987.27   7166.43  26867.8    0.414  317.380\n",
      "MEDIUM8       4  540     12.94   6989.32   7173.25  25211.2    0.404  297.670\n",
      "MEDIUM8       4  541     12.94   7002.26   7186.53  25234.5    0.404  297.670\n",
      "MEDIUM8       4  542     12.94   7015.20   7199.81  25257.9    0.404  297.670\n",
      "MEDIUM8       4  543     12.94   7028.15   7213.10  25281.1    0.404  297.670\n",
      "MEDIUM8       4  544     12.94   7041.09   7226.38  25304.4    0.404  297.670\n",
      "DEEP8         2  727      9.54   6933.46   7181.08  23870.5    0.297  281.687\n",
      "DEEP8         2  728      9.54   6942.99   7190.96  23886.9    0.297  281.687\n",
      "DEEP8         2  729      9.54   6952.53   7200.84  23903.3    0.297  281.687\n",
      "DEEP8         2  730      9.54   6962.07   7210.71  23919.7    0.297  281.687\n",
      "DEEP8         2  731      9.54   6971.61   7220.59  23936.1    0.297  281.687\n",
      "Length = 49 rows\n"
     ]
    }
   ],
   "source": [
    "# Constraints\n",
    "well     = 0.5      # keep well below 50% full\n",
    "tacq     = 2*3600.  # 2 hour transit duration\n",
    "ng_max   = 30       # transit spec allows up to 30 groups per integrations\n",
    "nint_max = int(1e6) # Effectively no limit on number of integrations\n",
    "\n",
    "# Let's bin the spectrum to R~100\n",
    "R = 100\n",
    "dw_bin = (nrc.bandpass.avgwave() / 10000) / R\n",
    "\n",
    "res = nrc.ramp_optimize(sp_K6V, tacq_max=tacq, nint_max=nint_max, ng_max=ng_max, well_frac_max=well,\n",
    "                        dw_bin=dw_bin, verbose=True)"
   ]
  },
  {
   "cell_type": "code",
   "execution_count": 14,
   "metadata": {
    "collapsed": false
   },
   "outputs": [
    {
     "name": "stdout",
     "output_type": "stream",
     "text": [
      " Pattern   NGRP NINT   t_int     t_exp     t_acq     SNR      Well     eff   \n",
      "---------- ---- ---- --------- --------- --------- -------- -------- --------\n",
      "RAPID        30  680     10.22   6948.44   7180.06  27779.1    0.319  327.833\n",
      "RAPID        30  681     10.22   6958.66   7190.62  27799.5    0.319  327.833\n",
      "BRIGHT1      24  438     16.01   7011.80   7160.98  28100.1    0.499  332.064\n",
      "BRIGHT1      24  439     16.01   7027.81   7177.33  28132.2    0.499  332.064\n",
      "BRIGHT2      23  448     15.67   7019.29   7171.88  27819.8    0.489  328.501\n",
      "BRIGHT2      23  449     15.67   7034.96   7187.89  27850.8    0.489  328.501\n",
      "SHALLOW2     10  438     16.01   7011.80   7160.98  27786.4    0.499  328.356\n",
      "SHALLOW2     10  439     16.01   7027.81   7177.33  27818.1    0.499  328.356\n",
      "SHALLOW4      9  468     14.99   7013.84   7173.25  27103.3    0.467  320.010\n",
      "SHALLOW4      9  469     14.99   7028.83   7188.57  27132.2    0.467  320.010\n",
      "MEDIUM2       5  490     14.31   7009.75   7176.65  27657.7    0.446  326.479\n",
      "MEDIUM2       5  491     14.31   7024.06   7191.30  27685.9    0.446  326.479\n",
      "MEDIUM8       4  540     12.94   6989.32   7173.25  25211.2    0.404  297.670\n",
      "MEDIUM8       4  541     12.94   7002.26   7186.53  25234.5    0.404  297.670\n",
      "DEEP2         3  490     14.31   7009.75   7176.65  27633.4    0.446  326.191\n",
      "DEEP2         3  491     14.31   7024.06   7191.30  27661.5    0.446  326.191\n",
      "DEEP8         2  727      9.54   6933.46   7181.08  23870.5    0.297  281.687\n",
      "DEEP8         2  728      9.54   6942.99   7190.96  23886.9    0.297  281.687\n"
     ]
    }
   ],
   "source": [
    "# Print the Top 2 settings for each readout pattern\n",
    "res2 = table_filter(res, 2)\n",
    "print(res2)"
   ]
  },
  {
   "cell_type": "code",
   "execution_count": 15,
   "metadata": {
    "collapsed": false
   },
   "outputs": [
    {
     "name": "stdout",
     "output_type": "stream",
     "text": [
      "F322W2 SNR for K6V source\n",
      "   Wave      SNR    Flux (Jy)\n",
      "--------- --------- ---------\n",
      "     2.40   5277.42      0.25\n",
      "     2.50  27466.94      0.21\n",
      "     2.60  30416.54      0.22\n",
      "     2.70  31050.02      0.20\n",
      "     2.80  32232.72      0.20\n",
      "     2.90  31706.15      0.19\n",
      "     3.00  30153.86      0.17\n",
      "     3.10  28830.42      0.17\n",
      "     3.20  30286.46      0.16\n",
      "     3.30  31074.73      0.15\n",
      "     3.40  30451.30      0.15\n",
      "     3.50  29931.43      0.14\n",
      "     3.60  29448.36      0.13\n",
      "     3.70  28795.29      0.12\n",
      "     3.80  27828.64      0.12\n",
      "     3.90  26546.33      0.12\n",
      "     4.00  21788.15      0.11\n"
     ]
    }
   ],
   "source": [
    "# Choose RAPID, ngroup=30, nint=683\n",
    "nrc.update_detectors(read_mode='RAPID', ngroup=30, nint=683)\n",
    "_ = nrc.sensitivity(sp=sp_K6V, dw_bin=dw_bin, forwardSNR=True, verbose=True, units='Jy')"
   ]
  },
  {
   "cell_type": "markdown",
   "metadata": {},
   "source": [
    "## Example 5: Extended Souce\n",
    "\n"
   ]
  }
 ],
 "metadata": {
  "anaconda-cloud": {},
  "kernelspec": {
   "display_name": "Python [default]",
   "language": "python",
   "name": "python2"
  },
  "language_info": {
   "codemirror_mode": {
    "name": "ipython",
    "version": 2
   },
   "file_extension": ".py",
   "mimetype": "text/x-python",
   "name": "python",
   "nbconvert_exporter": "python",
   "pygments_lexer": "ipython2",
   "version": "2.7.12"
  }
 },
 "nbformat": 4,
 "nbformat_minor": 0
}
