{
 "cells": [
  {
   "cell_type": "code",
   "execution_count": 1,
   "id": "d277229c",
   "metadata": {},
   "outputs": [],
   "source": [
    "# Import the usual libraries\n",
    "import numpy as np\n",
    "import matplotlib\n",
    "import matplotlib.pyplot as plt\n",
    "\n",
    "# Enable inline plotting\n",
    "%matplotlib inline\n",
    "\n",
    "# Progress bar\n",
    "from tqdm.auto import trange, tqdm"
   ]
  },
  {
   "cell_type": "code",
   "execution_count": 2,
   "id": "573bd962",
   "metadata": {},
   "outputs": [],
   "source": [
    "import pynrc\n",
    "from pynrc import nrc_utils"
   ]
  },
  {
   "cell_type": "code",
   "execution_count": 3,
   "id": "438e097e",
   "metadata": {},
   "outputs": [
    {
     "name": "stdout",
     "output_type": "stream",
     "text": [
      "pyNRC log messages of level WARN and above will be shown.\n",
      "pyNRC log outputs will be directed to the screen.\n"
     ]
    }
   ],
   "source": [
    "pynrc.setup_logging('WARN')"
   ]
  },
  {
   "cell_type": "markdown",
   "id": "020d6e6c",
   "metadata": {},
   "source": [
    "# MASK335R - F300M"
   ]
  },
  {
   "cell_type": "code",
   "execution_count": 5,
   "id": "002c806a",
   "metadata": {},
   "outputs": [
    {
     "name": "stdout",
     "output_type": "stream",
     "text": [
      "New Ramp Settings\n",
      "  read_mode  :    DEEP8\n",
      "  nf         :        8\n",
      "  nd2        :       12\n",
      "  ngroup     :       10\n",
      "  nint       :       20\n",
      "New Detector Settings\n",
      "  wind_mode  :   WINDOW\n",
      "  xpix       :      320\n",
      "  ypix       :      320\n",
      "  x0         :     1237\n",
      "  y0         :     1512\n",
      "New Ramp Times\n",
      "  t_group    :   21.381\n",
      "  t_frame    :    1.069\n",
      "  t_int      :  200.980\n",
      "  t_int_tot1 :  202.068\n",
      "  t_int_tot2 :  202.068\n",
      "  t_exp      : 4019.590\n",
      "  t_acq      : 4041.370\n"
     ]
    }
   ],
   "source": [
    "bp = pynrc.read_filter('F300M')\n",
    "\n",
    "sp_sci = pynrc.stellar_spectrum('A2V', 5, 'vegamag', bp)\n",
    "nrc = pynrc.obs_hci(sp_sci, 10, filter='F300M', image_mask='MASK335R', pupil_mask='CIRCLYOT', fov_pix=321,\n",
    "                    large_grid=True, slew_std=0, fsm_std=0, wfe_ref_drift=0, wfe_roll_drift=0)\n",
    "\n",
    "nrc.update_detectors(read_mode='DEEP8', ngroup=10, nint=20, verbose=True)\n",
    "nrc.update_detectors_ref(read_mode='SHALLOW4', ngroup=10, nint=100)"
   ]
  },
  {
   "cell_type": "code",
   "execution_count": 6,
   "id": "21d39bd2",
   "metadata": {},
   "outputs": [
    {
     "data": {
      "application/vnd.jupyter.widget-view+json": {
       "model_id": "3539029f08d64a3d895c4f182be74b38",
       "version_major": 2,
       "version_minor": 0
      },
      "text/plain": [
       "  0%|          | 0/18 [00:00<?, ?it/s]"
      ]
     },
     "metadata": {},
     "output_type": "display_data"
    }
   ],
   "source": [
    "dmag_med = []\n",
    "dmag_mean = []\n",
    "\n",
    "spt_arr = [\n",
    "    'A0V', 'A3V', 'A5V', \n",
    "    'F0V', 'F3V', 'F5V', \n",
    "    'G0V', 'G3V', 'G5V', \n",
    "    'K0V', 'K3V', 'K5V',\n",
    "    'G0III', 'G3III', 'G5III',\n",
    "    'K0III', 'K3III', 'K5III',\n",
    "]\n",
    "for spt in tqdm(spt_arr):\n",
    "\n",
    "    nrc.sp_ref = pynrc.stellar_spectrum(spt, 4, 'vegamag', bp)\n",
    "    res = nrc.calc_contrast(nsig=5, roll_angle=0, wfe_ref_drift=0, wfe_roll_drift=0)\n",
    "    \n",
    "    ind = (res[0]>0.5) & (res[0]<1.5)\n",
    "    dmag_med.append(np.median(res[2][ind]))\n",
    "    dmag_mean.append(np.mean(res[2][ind]))\n",
    "    \n",
    "#     plt.semilogy(res[0], res[1])"
   ]
  },
  {
   "cell_type": "code",
   "execution_count": 13,
   "id": "60349e69",
   "metadata": {},
   "outputs": [
    {
     "name": "stdout",
     "output_type": "stream",
     "text": [
      "SpType   Mag Loss (F300M)\n",
      "A0V      0.00\n",
      "A3V      0.01\n",
      "A5V      0.03\n",
      "F0V      0.00\n",
      "F3V      0.06\n",
      "F5V      0.00\n",
      "G0V      0.03\n",
      "G3V      0.01\n",
      "G5V      0.00\n",
      "K0V      0.05\n",
      "K3V      0.04\n",
      "K5V      0.04\n",
      "G0III    0.01\n",
      "G3III    0.03\n",
      "G5III    0.06\n",
      "K0III    0.00\n",
      "K3III    0.15\n",
      "K5III    0.32\n"
     ]
    }
   ],
   "source": [
    "print(f'{\"SpType\":7}  Mag Loss ({nrc.filter})')\n",
    "for i in np.arange(len(spt_arr)):\n",
    "    diff = np.abs(dmag_mean[i] - dmag_mean[0])\n",
    "    print(f'{spt_arr[i]:7}  {diff:.2f}')"
   ]
  },
  {
   "cell_type": "markdown",
   "id": "3fb0289b",
   "metadata": {},
   "source": [
    "# MASK335R + F360M"
   ]
  },
  {
   "cell_type": "code",
   "execution_count": 15,
   "id": "cefad13f",
   "metadata": {},
   "outputs": [
    {
     "name": "stdout",
     "output_type": "stream",
     "text": [
      "New Ramp Settings\n",
      "  read_mode  :    DEEP8\n",
      "  nf         :        8\n",
      "  nd2        :       12\n",
      "  ngroup     :       10\n",
      "  nint       :       20\n",
      "New Detector Settings\n",
      "  wind_mode  :   WINDOW\n",
      "  xpix       :      320\n",
      "  ypix       :      320\n",
      "  x0         :     1237\n",
      "  y0         :     1512\n",
      "New Ramp Times\n",
      "  t_group    :   21.381\n",
      "  t_frame    :    1.069\n",
      "  t_int      :  200.980\n",
      "  t_int_tot1 :  202.068\n",
      "  t_int_tot2 :  202.068\n",
      "  t_exp      : 4019.590\n",
      "  t_acq      : 4041.370\n"
     ]
    }
   ],
   "source": [
    "filt = 'F360M'\n",
    "bp = pynrc.read_filter(filt)\n",
    "\n",
    "sp_sci = pynrc.stellar_spectrum('A2V', 5, 'vegamag', bp)\n",
    "nrc = pynrc.obs_hci(sp_sci, 10, filter=filt, image_mask='MASK335R', pupil_mask='CIRCLYOT', fov_pix=321,\n",
    "                    large_grid=True, slew_std=0, fsm_std=0, wfe_ref_drift=0, wfe_roll_drift=0)\n",
    "\n",
    "nrc.update_detectors(read_mode='DEEP8', ngroup=10, nint=20, verbose=True)\n",
    "nrc.update_detectors_ref(read_mode='SHALLOW4', ngroup=10, nint=100)"
   ]
  },
  {
   "cell_type": "code",
   "execution_count": 18,
   "id": "ddb00f6f",
   "metadata": {},
   "outputs": [
    {
     "data": {
      "application/vnd.jupyter.widget-view+json": {
       "model_id": "1085566d01df47598e36ce4f04bb9526",
       "version_major": 2,
       "version_minor": 0
      },
      "text/plain": [
       "  0%|          | 0/18 [00:00<?, ?it/s]"
      ]
     },
     "metadata": {},
     "output_type": "display_data"
    }
   ],
   "source": [
    "dmag_med = []\n",
    "dmag_mean = []\n",
    "\n",
    "spt_arr = [\n",
    "    'A0V', 'A3V', 'A5V', \n",
    "    'F0V', 'F3V', 'F5V', \n",
    "    'G0V', 'G3V', 'G5V', \n",
    "    'K0V', 'K3V', 'K5V',\n",
    "    'G0III', 'G3III', 'G5III',\n",
    "    'K0III', 'K3III', 'K5III',\n",
    "]\n",
    "for spt in tqdm(spt_arr):\n",
    "\n",
    "    nrc.sp_ref = pynrc.stellar_spectrum(spt, 4, 'vegamag', bp)\n",
    "    res = nrc.calc_contrast(nsig=5, roll_angle=10, wfe_ref_drift=0, wfe_roll_drift=0)\n",
    "    \n",
    "    ind = (res[0]>0.5) & (res[0]<1.5)\n",
    "    dmag_med.append(np.median(res[2][ind]))\n",
    "    dmag_mean.append(np.mean(res[2][ind]))\n",
    "    \n",
    "#     plt.semilogy(res[0], res[1])"
   ]
  },
  {
   "cell_type": "code",
   "execution_count": 17,
   "id": "22ddc263",
   "metadata": {},
   "outputs": [
    {
     "name": "stdout",
     "output_type": "stream",
     "text": [
      "SpType   Mag Loss (F360M)\n",
      "A0V      0.00\n",
      "A3V      0.03\n",
      "A5V      0.02\n",
      "F0V      0.03\n",
      "F3V      0.03\n",
      "F5V      0.08\n",
      "G0V      0.08\n",
      "G3V      0.06\n",
      "G5V      0.03\n",
      "K0V      0.05\n",
      "K3V      0.07\n",
      "K5V      0.13\n",
      "G0III    0.03\n",
      "G3III    0.08\n",
      "G5III    0.08\n",
      "K0III    0.07\n",
      "K3III    0.08\n",
      "K5III    0.11\n"
     ]
    }
   ],
   "source": [
    "print(f'{\"SpType\":7}  Mag Loss ({nrc.filter})')\n",
    "for i in np.arange(len(spt_arr)):\n",
    "    diff = np.abs(dmag_mean[i] - dmag_mean[0])\n",
    "    print(f'{spt_arr[i]:7}  {diff:.2f}')"
   ]
  },
  {
   "cell_type": "code",
   "execution_count": null,
   "id": "d16f760d",
   "metadata": {},
   "outputs": [],
   "source": []
  }
 ],
 "metadata": {
  "kernelspec": {
   "display_name": "Python 3 (ipykernel)",
   "language": "python",
   "name": "python3"
  },
  "language_info": {
   "codemirror_mode": {
    "name": "ipython",
    "version": 3
   },
   "file_extension": ".py",
   "mimetype": "text/x-python",
   "name": "python",
   "nbconvert_exporter": "python",
   "pygments_lexer": "ipython3",
   "version": "3.9.7"
  }
 },
 "nbformat": 4,
 "nbformat_minor": 5
}
