{
 "cells": [
  {
   "cell_type": "code",
   "execution_count": 1,
   "metadata": {
    "collapsed": true
   },
   "outputs": [],
   "source": [
    "# Makes print and division act like Python 3\n",
    "from __future__ import print_function, division\n",
    "\n",
    "# Import the usual libraries\n",
    "import numpy as np\n",
    "import matplotlib\n",
    "import matplotlib.pyplot as plt\n",
    "\n",
    "# Enable inline plotting at lower left\n",
    "%matplotlib inline\n",
    "matplotlib.rcParams['image.origin'] = 'lower'\n",
    "matplotlib.rcParams['image.interpolation'] = 'none'\n",
    "\n",
    "# seaborn package for making pretty plots, but not necessary\n",
    "try:\n",
    "    import seaborn as sns\n",
    "    params =   {'xtick.direction': 'in', 'ytick.direction': 'in', 'font.family': ['serif'],\n",
    "                'text.usetex': True, 'text.latex.preamble': ['\\usepackage{gensymb}']}\n",
    "    sns.set_style(\"ticks\", params)\n",
    "except ImportError:\n",
    "    print('Seaborn module is not installed.')\n",
    "    \n",
    "from IPython.display import display, Latex, clear_output"
   ]
  },
  {
   "cell_type": "code",
   "execution_count": 2,
   "metadata": {
    "collapsed": false
   },
   "outputs": [],
   "source": [
    "import pynrc\n",
    "from pynrc import nrc_utils\n",
    "from pynrc.nrc_utils import (webbpsf, poppy, pix_noise, S)\n",
    "\n",
    "pynrc.setup_logging('WARNING', verbose=False)\n",
    "\n",
    "from astropy.table import Table"
   ]
  },
  {
   "cell_type": "code",
   "execution_count": 3,
   "metadata": {
    "collapsed": false
   },
   "outputs": [
    {
     "name": "stdout",
     "output_type": "stream",
     "text": [
      "F444W SNR for M2V source:\n",
      "Wave       SNR      Flux (uJy)\n",
      "3.90   1111.09  29767.23\n",
      "4.00   1169.43  28361.64\n",
      "4.10   1121.30  27049.16\n",
      "4.20   1071.35  26158.33\n",
      "4.30    978.24  23226.08\n",
      "4.40    922.63  22468.60\n",
      "4.50    845.03  20824.46\n",
      "4.60    741.44  17733.72\n",
      "4.70    679.41  17170.92\n",
      "4.80    608.38  15411.13\n",
      "4.90    622.94  19485.87\n",
      "5.00    344.29  17055.91\n",
      "F444W SNR for M2V source:\n",
      "Wave       SNR      Flux (uJy)\n",
      "3.90   1114.49  29767.23\n",
      "4.00   1172.67  28361.64\n",
      "4.10   1124.67  27049.16\n",
      "4.20   1074.86  26158.33\n",
      "4.30    982.04  23226.08\n",
      "4.40    926.63  22468.60\n",
      "4.50    849.33  20824.46\n",
      "4.60    746.21  17733.72\n",
      "4.70    684.51  17170.92\n",
      "4.80    613.90  15411.13\n",
      "4.90    628.36  19485.87\n",
      "5.00    351.72  17055.91\n"
     ]
    }
   ],
   "source": [
    "# Initiate a NIRCam observation\n",
    "nrc = pynrc.NIRCam('F444W', pupil='GRISM0', wind_mode='STRIPE', ypix=64)\n",
    "\n",
    "# We want to optimize SNR of a K=16 M2V star\n",
    "bp_k = S.ObsBandpass('johnson,k')\n",
    "sp_M2V = pynrc.stellar_spectrum('M2V', 10, 'vegamag', bp_k)\n",
    "\n",
    "nrc.update_detectors(read_mode='DEEP2', nint=35, ngroup=5)\n",
    "snr1=nrc.sensitivity(sp=sp_M2V, forwardSNR=True, verbose=True)\n",
    "nrc.update_detectors(read_mode='MEDIUM2', nint=35, ngroup=9)\n",
    "snr2=nrc.sensitivity(sp=sp_M2V, forwardSNR=True, verbose=True)\n",
    "\n",
    "#_ = nrc.sat_limits(verbose=True)\n",
    "#_ = nrc.sensitivity(verbose=True, units='vegamag')"
   ]
  },
  {
   "cell_type": "code",
   "execution_count": 4,
   "metadata": {
    "collapsed": false
   },
   "outputs": [],
   "source": [
    "# Initiate a NIRCam observation\n",
    "nrc = pynrc.NIRCam('F444W', pupil=None, wind_mode='STRIPE', ypix=64)\n",
    "#print(nrc.sat_limits())\n",
    "\n",
    "# We want to optimize SNR of a K=16 M2V star\n",
    "bp_k = S.ObsBandpass('johnson,k')\n",
    "sp_M2V = pynrc.stellar_spectrum('M2V', 15, 'vegamag', bp_k)"
   ]
  },
  {
   "cell_type": "code",
   "execution_count": null,
   "metadata": {
    "collapsed": true
   },
   "outputs": [],
   "source": []
  },
  {
   "cell_type": "code",
   "execution_count": 5,
   "metadata": {
    "collapsed": false
   },
   "outputs": [
    {
     "name": "stdout",
     "output_type": "stream",
     "text": [
      "BRIGHT1\n",
      "BRIGHT2\n",
      "DEEP2\n",
      "DEEP8\n",
      "MEDIUM2\n",
      "MEDIUM8\n",
      "RAPID\n",
      "SHALLOW2\n",
      "SHALLOW4\n",
      "Top 10 results sorted by 'efficiency' (SNR/t_acq):\n",
      " Pattern   NGRP NINT   t_int     t_exp     t_acq     SNR      Well     eff   \n",
      "---------- ---- ---- --------- --------- --------- -------- -------- --------\n",
      "MEDIUM2      10   32     31.34   1002.76   1013.66   2501.7    0.465   78.574\n",
      "MEDIUM2       9   35     27.93    977.55    989.47   2465.9    0.415   78.390\n",
      "DEEP2         5   36     27.93   1005.48   1017.74   2497.9    0.415   78.298\n",
      "MEDIUM2       8   41     24.52   1005.48   1019.45   2495.2    0.364   78.148\n",
      "MEDIUM2       7   47     21.12    992.54   1008.55   2471.3    0.313   77.817\n",
      "MEDIUM2       6   57     17.71   1009.57   1028.98   2481.1    0.263   77.347\n",
      "SHALLOW2     10   63     16.01   1008.55   1030.00   2477.4    0.238   77.191\n",
      "SHALLOW2      9   71     14.31   1015.70   1039.88   2477.1    0.212   76.815\n",
      "MEDIUM2       5   71     14.31   1015.70   1039.88   2471.3    0.212   76.636\n",
      "SHALLOW2      8   81     12.60   1020.81   1048.40   2471.5    0.187   76.330\n"
     ]
    }
   ],
   "source": [
    "t = nrc.ramp_optimize(sp_M2V, tacq_max=1000, verbose=True, return_full_table=True, ng_min=5, snr_frac=0, \\\n",
    "                     well_frac_max=0.5)"
   ]
  },
  {
   "cell_type": "code",
   "execution_count": 12,
   "metadata": {
    "collapsed": false
   },
   "outputs": [
    {
     "name": "stdout",
     "output_type": "stream",
     "text": [
      " Pattern   NGRP NINT   t_int     t_exp     t_acq     SNR      Well     eff   \n",
      "---------- ---- ---- --------- --------- --------- -------- -------- --------\n",
      "MEDIUM2       5   71     14.31   1015.70   1039.88   2435.7    0.212   75.532\n",
      "MEDIUM2       6   57     17.71   1009.57   1028.98   2422.1    0.263   75.507\n",
      "MEDIUM2       7   49     21.12   1034.77   1051.46   2444.7    0.313   75.392\n",
      "MEDIUM2       8   42     24.52   1030.00   1044.31   2431.8    0.364   75.250\n",
      "MEDIUM2       9   37     27.93   1033.41   1046.01   2429.1    0.415   75.106\n",
      "MEDIUM2      10   33     31.34   1034.09   1045.33   2423.9    0.465   74.968\n",
      " Pattern   NGRP NINT   t_int     t_exp     t_acq     SNR      Well     eff   \n",
      "---------- ---- ---- --------- --------- --------- -------- -------- --------\n",
      "DEEP2         5   35     27.93    977.55    989.47   2421.3    0.415   76.975\n",
      "DEEP2         6   29     34.74   1007.52   1017.40   2444.3    0.516   76.631\n",
      "DEEP2         7   25     41.55   1038.86   1047.38   2469.1    0.617   76.294\n",
      "DEEP2         8   21     48.37   1015.70   1022.85   2430.3    0.718   75.989\n"
     ]
    }
   ],
   "source": [
    "print(t[t['Pattern']=='MEDIUM2'])\n",
    "print(t[t['Pattern']=='DEEP2'])"
   ]
  }
 ],
 "metadata": {
  "kernelspec": {
   "display_name": "Python [default]",
   "language": "python",
   "name": "python2"
  },
  "language_info": {
   "codemirror_mode": {
    "name": "ipython",
    "version": 2
   },
   "file_extension": ".py",
   "mimetype": "text/x-python",
   "name": "python",
   "nbconvert_exporter": "python",
   "pygments_lexer": "ipython2",
   "version": "2.7.12"
  }
 },
 "nbformat": 4,
 "nbformat_minor": 0
}
