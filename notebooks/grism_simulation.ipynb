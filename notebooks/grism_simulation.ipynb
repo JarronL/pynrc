{
 "cells": [
  {
   "cell_type": "code",
   "execution_count": 1,
   "metadata": {
    "collapsed": true,
    "nbpresent": {
     "id": "07af7110-9c07-40cd-9a72-6ebc1b5a181d"
    }
   },
   "outputs": [],
   "source": [
    "# Makes print and division act like Python 3\n",
    "from __future__ import print_function, division\n",
    "\n",
    "# Import the usual libraries\n",
    "import numpy as np\n",
    "import matplotlib\n",
    "import matplotlib.pyplot as plt\n",
    "\n",
    "# Enable inline plotting at lower left\n",
    "%matplotlib inline\n",
    "matplotlib.rcParams['image.origin'] = 'lower'\n",
    "matplotlib.rcParams['image.interpolation'] = 'none'\n",
    "\n",
    "# seaborn package for making pretty plots, but not necessary\n",
    "try:\n",
    "    import seaborn as sns\n",
    "    params =   {'xtick.direction': 'in', 'ytick.direction': 'in', 'font.family': ['serif'],\\\n",
    "                'text.usetex': True}#, 'text.latex.preamble': ['\\usepackage{gensymb}']}\n",
    "    sns.set_style(\"ticks\", params)\n",
    "except ImportError:\n",
    "    print('Seaborn module is not installed.')\n",
    "\n",
    "from IPython.display import display, Latex, clear_output"
   ]
  },
  {
   "cell_type": "code",
   "execution_count": 2,
   "metadata": {
    "collapsed": true,
    "nbpresent": {
     "id": "6a8d72ac-a184-4812-9f55-0b34a2ce4995"
    }
   },
   "outputs": [],
   "source": [
    "import pynrc\n",
    "from pynrc import nrc_utils\n",
    "from pynrc.nrc_utils import (webbpsf, poppy, pix_noise, S)\n",
    "pynrc.setup_logging('WARN', verbose=False)\n",
    "\n",
    "import astropy.io.fits as fits"
   ]
  },
  {
   "cell_type": "code",
   "execution_count": 3,
   "metadata": {
    "collapsed": true,
    "nbpresent": {
     "id": "c0793f96-fd0e-4065-8c3f-7de89ea00d09"
    }
   },
   "outputs": [],
   "source": [
    "# Initialize a NIRCam Grism observation in Stripe mode \n",
    "nrc = pynrc.NIRCam('F444W', pupil='CLEAR', module='A', \n",
    "                   wind_mode='STRIPE', xpix=2048, ypix=64, fov_pix=64)"
   ]
  },
  {
   "cell_type": "code",
   "execution_count": 4,
   "metadata": {
    "nbpresent": {
     "id": "891ac4c3-fd8f-4eac-917b-9ba4411bece4"
    }
   },
   "outputs": [
    {
     "name": "stdout",
     "output_type": "stream",
     "text": [
      "New Ramp Settings:\n",
      "  read_mode :    RAPID\n",
      "  nf        :        1\n",
      "  nd2       :        0\n",
      "  ngroup    :       70\n",
      "  nint      :        1\n",
      "New Detector Settings\n",
      "  wind_mode :   STRIPE\n",
      "  xpix      :     2048\n",
      "  ypix      :       64\n",
      "  x0        :        0\n",
      "  y0        :        0\n",
      "New Ramp Times\n",
      "  t_group   :    0.341\n",
      "  t_frame   :    0.341\n",
      "  t_int     :   23.843\n",
      "  t_int_tot :   24.183\n",
      "  t_exp     :   23.843\n",
      "  t_acq     :   24.183\n"
     ]
    }
   ],
   "source": [
    "# Update ramp settings\n",
    "nrc.update_detectors(read_mode='RAPID', nint=1, ngroup=70, verbose=True)"
   ]
  },
  {
   "cell_type": "code",
   "execution_count": 5,
   "metadata": {
    "collapsed": true,
    "nbpresent": {
     "id": "0d9c2372-0bea-4029-8695-9367c3d7d8d0"
    }
   },
   "outputs": [],
   "source": [
    "# Setup Pysynphot spectrum of the source\n",
    "# K7V star normalized to K=10.2 mag\n",
    "bpk = S.ObsBandpass('johnson,k')\n",
    "sp = pynrc.stellar_spectrum('G2V', 8, 'vegamag', bpk)"
   ]
  },
  {
   "cell_type": "code",
   "execution_count": 6,
   "metadata": {
    "nbpresent": {
     "id": "0db2baa9-e14d-4bdc-b98c-b4078a62603d"
    },
    "scrolled": false
   },
   "outputs": [
    {
     "name": "stdout",
     "output_type": "stream",
     "text": [
      "(64,)\n"
     ]
    },
    {
     "ename": "Exception",
     "evalue": "('Array Shape is NOT two Dimensional: ', (64,))",
     "output_type": "error",
     "traceback": [
      "\u001b[0;31m---------------------------------------------------------------------------\u001b[0m",
      "\u001b[0;31mValueError\u001b[0m                                Traceback (most recent call last)",
      "\u001b[0;32m/Users/jfraine/anaconda3/lib/python3.6/site-packages/pynrc/nrc_utils.py\u001b[0m in \u001b[0;36mpad_or_cut_to_size\u001b[0;34m(array, new_shape)\u001b[0m\n\u001b[1;32m   1728\u001b[0m     \u001b[0;32mtry\u001b[0m\u001b[0;34m:\u001b[0m\u001b[0;34m\u001b[0m\u001b[0m\n\u001b[0;32m-> 1729\u001b[0;31m         \u001b[0mny\u001b[0m\u001b[0;34m,\u001b[0m \u001b[0mnx\u001b[0m \u001b[0;34m=\u001b[0m \u001b[0marray\u001b[0m\u001b[0;34m.\u001b[0m\u001b[0mshape\u001b[0m\u001b[0;34m\u001b[0m\u001b[0m\n\u001b[0m\u001b[1;32m   1730\u001b[0m     \u001b[0;32mexcept\u001b[0m\u001b[0;34m:\u001b[0m\u001b[0;34m\u001b[0m\u001b[0m\n",
      "\u001b[0;31mValueError\u001b[0m: not enough values to unpack (expected 2, got 1)",
      "\nDuring handling of the above exception, another exception occurred:\n",
      "\u001b[0;31mException\u001b[0m                                 Traceback (most recent call last)",
      "\u001b[0;32m<ipython-input-6-ef350ddcd77b>\u001b[0m in \u001b[0;36m<module>\u001b[0;34m()\u001b[0m\n\u001b[1;32m      2\u001b[0m \u001b[0;31m# Time stamps will be automatically inserted for unique file names.\u001b[0m\u001b[0;34m\u001b[0m\u001b[0;34m\u001b[0m\u001b[0m\n\u001b[1;32m      3\u001b[0m \u001b[0mfile_out\u001b[0m \u001b[0;34m=\u001b[0m \u001b[0;34m'/Volumes/NIRData/grism_sim/grism_sim.fits'\u001b[0m\u001b[0;34m\u001b[0m\u001b[0m\n\u001b[0;32m----> 4\u001b[0;31m \u001b[0mres_sp\u001b[0m \u001b[0;34m=\u001b[0m \u001b[0mnrc\u001b[0m\u001b[0;34m.\u001b[0m\u001b[0mgen_exposures\u001b[0m\u001b[0;34m(\u001b[0m\u001b[0msp\u001b[0m\u001b[0;34m,\u001b[0m \u001b[0mfile_out\u001b[0m\u001b[0;34m=\u001b[0m\u001b[0;32mNone\u001b[0m\u001b[0;34m)\u001b[0m\u001b[0;34m\u001b[0m\u001b[0m\n\u001b[0m",
      "\u001b[0;32m/Users/jfraine/anaconda3/lib/python3.6/site-packages/pynrc/pynrc_core.py\u001b[0m in \u001b[0;36mgen_exposures\u001b[0;34m(self, sp, file_out, return_results)\u001b[0m\n\u001b[1;32m   1524\u001b[0m         \u001b[0;31m# Expand or cut to detector size\u001b[0m\u001b[0;34m\u001b[0m\u001b[0;34m\u001b[0m\u001b[0m\n\u001b[1;32m   1525\u001b[0m         \u001b[0mprint\u001b[0m\u001b[0;34m(\u001b[0m\u001b[0mim_slope\u001b[0m\u001b[0;34m.\u001b[0m\u001b[0mshape\u001b[0m\u001b[0;34m)\u001b[0m\u001b[0;34m\u001b[0m\u001b[0m\n\u001b[0;32m-> 1526\u001b[0;31m         \u001b[0mim_slope\u001b[0m \u001b[0;34m=\u001b[0m \u001b[0mpad_or_cut_to_size\u001b[0m\u001b[0;34m(\u001b[0m\u001b[0mim_slope\u001b[0m\u001b[0;34m,\u001b[0m \u001b[0;34m(\u001b[0m\u001b[0mypix\u001b[0m\u001b[0;34m,\u001b[0m\u001b[0mxpix\u001b[0m\u001b[0;34m)\u001b[0m\u001b[0;34m)\u001b[0m\u001b[0;34m\u001b[0m\u001b[0m\n\u001b[0m\u001b[1;32m   1527\u001b[0m         \u001b[0mim_slope\u001b[0m\u001b[0;34m[\u001b[0m\u001b[0mim_slope\u001b[0m\u001b[0;34m==\u001b[0m\u001b[0;36m0\u001b[0m\u001b[0;34m]\u001b[0m \u001b[0;34m=\u001b[0m \u001b[0mim_slope\u001b[0m\u001b[0;34m[\u001b[0m\u001b[0mim_slope\u001b[0m\u001b[0;34m>\u001b[0m\u001b[0;36m0\u001b[0m\u001b[0;34m]\u001b[0m\u001b[0;34m.\u001b[0m\u001b[0mmin\u001b[0m\u001b[0;34m(\u001b[0m\u001b[0;34m)\u001b[0m\u001b[0;34m\u001b[0m\u001b[0m\n\u001b[1;32m   1528\u001b[0m \u001b[0;34m\u001b[0m\u001b[0m\n",
      "\u001b[0;32m/Users/jfraine/anaconda3/lib/python3.6/site-packages/pynrc/nrc_utils.py\u001b[0m in \u001b[0;36mpad_or_cut_to_size\u001b[0;34m(array, new_shape)\u001b[0m\n\u001b[1;32m   1729\u001b[0m         \u001b[0mny\u001b[0m\u001b[0;34m,\u001b[0m \u001b[0mnx\u001b[0m \u001b[0;34m=\u001b[0m \u001b[0marray\u001b[0m\u001b[0;34m.\u001b[0m\u001b[0mshape\u001b[0m\u001b[0;34m\u001b[0m\u001b[0m\n\u001b[1;32m   1730\u001b[0m     \u001b[0;32mexcept\u001b[0m\u001b[0;34m:\u001b[0m\u001b[0;34m\u001b[0m\u001b[0m\n\u001b[0;32m-> 1731\u001b[0;31m         \u001b[0;32mraise\u001b[0m \u001b[0mException\u001b[0m\u001b[0;34m(\u001b[0m\u001b[0;34m'Array Shape is NOT two Dimensional: '\u001b[0m\u001b[0;34m,\u001b[0m \u001b[0marray\u001b[0m\u001b[0;34m.\u001b[0m\u001b[0mshape\u001b[0m\u001b[0;34m)\u001b[0m\u001b[0;34m\u001b[0m\u001b[0m\n\u001b[0m\u001b[1;32m   1732\u001b[0m \u001b[0;34m\u001b[0m\u001b[0m\n\u001b[1;32m   1733\u001b[0m     \u001b[0;32mif\u001b[0m \u001b[0misinstance\u001b[0m\u001b[0;34m(\u001b[0m\u001b[0mnew_shape\u001b[0m\u001b[0;34m,\u001b[0m \u001b[0mfloat\u001b[0m\u001b[0;34m)\u001b[0m \u001b[0;32mor\u001b[0m \u001b[0misinstance\u001b[0m\u001b[0;34m(\u001b[0m\u001b[0mnew_shape\u001b[0m\u001b[0;34m,\u001b[0m \u001b[0mint\u001b[0m\u001b[0;34m)\u001b[0m\u001b[0;34m:\u001b[0m\u001b[0;34m\u001b[0m\u001b[0m\n",
      "\u001b[0;31mException\u001b[0m: ('Array Shape is NOT two Dimensional: ', (64,))"
     ]
    }
   ],
   "source": [
    "# Specify name of output file.\n",
    "# Time stamps will be automatically inserted for unique file names.\n",
    "file_out = '/Volumes/NIRData/grism_sim/grism_sim.fits'\n",
    "res_sp = nrc.gen_exposures(sp, file_out=None)"
   ]
  },
  {
   "cell_type": "code",
   "execution_count": null,
   "metadata": {
    "collapsed": true,
    "nbpresent": {
     "id": "6203e0a2-730b-4719-a01c-63ed09f8614f"
    }
   },
   "outputs": [],
   "source": [
    "# Plot the ideal grism spectrum and slope image\n",
    "w, im_slope = nrc.gen_psf(sp)\n",
    "im_slope += nrc.bg_zodi()"
   ]
  },
  {
   "cell_type": "code",
   "execution_count": null,
   "metadata": {
    "nbpresent": {
     "id": "90857adf-f690-4045-8e15-72524e93285e"
    },
    "scrolled": false
   },
   "outputs": [],
   "source": [
    "# For fun, plot the collapsed spectral image w.r.t. wavelength\n",
    "import matplotlib.gridspec as gridspec\n",
    "\n",
    "fig = plt.figure(figsize=(12,8))\n",
    "gs = gridspec.GridSpec(7,1)\n",
    "ax1 = fig.add_subplot(gs[:-2, :])\n",
    "ax2 = fig.add_subplot(gs[-1, :])\n",
    "\n",
    "# Collapsed spectrum\n",
    "ax1.plot(w, im_slope.sum(axis=0))\n",
    "ax1.set_ylabel('Total Counts / sec')\n",
    "ax1.set_xlabel('Wavelength ($\\mu m$)')\n",
    "ax1.set_title('Callapsed Spectrum')\n",
    "ax1.minorticks_on()\n",
    "\n",
    "# Show the 2D spectral image as well\n",
    "vmin = 1e-2\n",
    "vmax = im_slope.max()\n",
    "print(vmax)\n",
    "norm = matplotlib.colors.LogNorm(vmin=vmin, vmax=vmax)\n",
    "ax2.imshow(im_slope, norm=norm)\n",
    "ax2.set_title('Idealized Spectral Slope Image')\n",
    "ax2.set_yticklabels('');"
   ]
  },
  {
   "cell_type": "code",
   "execution_count": null,
   "metadata": {
    "collapsed": true,
    "nbpresent": {
     "id": "2b3480c5-c03d-4a55-ba15-102576f86540"
    }
   },
   "outputs": [],
   "source": [
    "# The current image size is only as large as the dispersed spectrum\n",
    "# Expand image to the larger detector size\n",
    "xpix = nrc.det_info['xpix']\n",
    "ypix = nrc.det_info['ypix']\n",
    "im_slope = nrc_utils.pad_or_cut_to_size(im_slope, (ypix,xpix))\n",
    "im_slope[im_slope==0] = im_slope[im_slope>0].min()"
   ]
  },
  {
   "cell_type": "markdown",
   "metadata": {
    "collapsed": true,
    "nbpresent": {
     "id": "5e63d65e-59b0-42b2-b709-b0f4b533697f"
    }
   },
   "source": [
    "## Quick and dirty slope image of simulated data"
   ]
  },
  {
   "cell_type": "code",
   "execution_count": null,
   "metadata": {
    "collapsed": true,
    "nbpresent": {
     "id": "faebcbd2-c63b-4c55-b86c-5e7d94f9041a"
    }
   },
   "outputs": [],
   "source": [
    "ramp = res_sp[0].data\n",
    "nf,ny,nx = ramp.shape\n",
    "\n",
    "# Reshape to put all pixel in same dimension for simultaneous poly fit\n",
    "ramp = ramp.reshape([nf,-1])"
   ]
  },
  {
   "cell_type": "code",
   "execution_count": null,
   "metadata": {
    "collapsed": true,
    "nbpresent": {
     "id": "8b193714-67a7-4cfa-aaea-ea188d869c06"
    }
   },
   "outputs": [],
   "source": [
    "# Integration values of each frame in ramp\n",
    "tvals = (np.arange(nf)+1) * nrc.multiaccum_times['t_frame']\n",
    "ndeg = 2 # Linear fit\n",
    "a = np.array([tvals**num for num in range(ndeg)]).T\n",
    "coeffs, _, _, _ = np.linalg.lstsq(a,ramp)\n",
    "coeffs = coeffs.reshape([ndeg,ny,nx])\n",
    "\n",
    "im_slope_sim = coeffs[1,:,:] * nrc.Detectors[0].gain"
   ]
  },
  {
   "cell_type": "code",
   "execution_count": null,
   "metadata": {
    "nbpresent": {
     "id": "56c56d2f-a1a1-4dd4-a4b2-be835d76c8c9"
    }
   },
   "outputs": [],
   "source": [
    "from mpl_toolkits.axes_grid.inset_locator import inset_axes\n",
    "colors = sns.color_palette()\n",
    "\n",
    "fig = plt.figure(figsize=(14,10))\n",
    "gs = gridspec.GridSpec(10,1)\n",
    "ax1 = fig.add_subplot(gs[:-3, :])\n",
    "ax2 = fig.add_subplot(gs[-2, :])\n",
    "ax3 = fig.add_subplot(gs[-1, :])\n",
    "\n",
    "# Collapsed spectra\n",
    "c1 = im_slope.sum(axis=0)\n",
    "c1 -= np.median(c1[1900:])\n",
    "c2 = im_slope_sim.sum(axis=0)\n",
    "c2 -= np.median(c2[1900:])\n",
    "\n",
    "xvals = np.arange(len(c1))\n",
    "ax1.plot(xvals, c1, label='Noiseless Slope Image')\n",
    "ax1.plot(xvals, c2, color=colors[2], alpha=0.7, label='Noise Included')\n",
    "ax1.set_ylabel('Counts / sec')\n",
    "ax1.set_xlabel('Pixel Position')\n",
    "ax1.set_title('Collapsed Spectra')\n",
    "ax1.minorticks_on()\n",
    "ax1.legend(loc=2)\n",
    "ax1.set_xlim([0,2047])\n",
    "ax1.set_ylim([0,5000])\n",
    "\n",
    "inset_axes = inset_axes(ax1, width=\"40%\",height=\"40%\",loc=1)\n",
    "inset_axes.plot(xvals, c1, lw=3)\n",
    "inset_axes.plot(xvals, c2, lw=3, color=colors[2], alpha=0.7)\n",
    "inset_axes.set_xlim([950,1099])\n",
    "inset_axes.set_ylim([2800,3600])\n",
    "inset_axes.minorticks_on()\n",
    "\n",
    "# Show the 2D spectral image as well\n",
    "vmin = 1e-2\n",
    "vmax = im_slope.max()\n",
    "#print(vmax)\n",
    "norm = matplotlib.colors.LogNorm(vmin=vmin, vmax=vmax)\n",
    "ax2.imshow(im_slope, norm=norm)\n",
    "ax2.set_yticklabels('')\n",
    "ax2.set_title('Idealized Spectral Slope Image')\n",
    "\n",
    "ax3.imshow(im_slope_sim, norm=norm)\n",
    "ax3.set_yticklabels('')\n",
    "ax3.set_title('Slope Image with Noise')"
   ]
  },
  {
   "cell_type": "code",
   "execution_count": null,
   "metadata": {
    "collapsed": true,
    "nbpresent": {
     "id": "5b81a946-530d-413b-89eb-40e0bd5966da"
    }
   },
   "outputs": [],
   "source": [
    "current_palette = sns.color_palette()"
   ]
  },
  {
   "cell_type": "code",
   "execution_count": null,
   "metadata": {},
   "outputs": [],
   "source": [
    "current_palette"
   ]
  },
  {
   "cell_type": "code",
   "execution_count": null,
   "metadata": {
    "collapsed": true
   },
   "outputs": [],
   "source": []
  }
 ],
 "metadata": {
  "anaconda-cloud": {},
  "kernelspec": {
   "display_name": "Python 3",
   "language": "python",
   "name": "python3"
  },
  "language_info": {
   "codemirror_mode": {
    "name": "ipython",
    "version": 3
   },
   "file_extension": ".py",
   "mimetype": "text/x-python",
   "name": "python",
   "nbconvert_exporter": "python",
   "pygments_lexer": "ipython3",
   "version": "3.6.1"
  },
  "nbpresent": {
   "slides": {},
   "themes": {}
  }
 },
 "nbformat": 4,
 "nbformat_minor": 1
}
