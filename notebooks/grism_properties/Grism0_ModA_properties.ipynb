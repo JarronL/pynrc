{
 "cells": [
  {
   "cell_type": "code",
   "execution_count": 1,
   "metadata": {
    "collapsed": true
   },
   "outputs": [],
   "source": [
    "# Makes print and division act like Python 3\n",
    "from __future__ import print_function, division\n",
    "\n",
    "# Import the usual libraries\n",
    "import numpy as np\n",
    "import matplotlib\n",
    "import matplotlib.pyplot as plt\n",
    "\n",
    "# Enable inline plotting\n",
    "%matplotlib inline\n",
    "\n",
    "from IPython.display import display, Latex, clear_output"
   ]
  },
  {
   "cell_type": "code",
   "execution_count": 2,
   "metadata": {
    "collapsed": true
   },
   "outputs": [],
   "source": [
    "import pynrc\n",
    "from pynrc import nrc_utils\n",
    "\n",
    "from astropy.io import ascii"
   ]
  },
  {
   "cell_type": "markdown",
   "metadata": {},
   "source": [
    "## Grism Saturation Limits"
   ]
  },
  {
   "cell_type": "code",
   "execution_count": 3,
   "metadata": {
    "collapsed": true,
    "scrolled": false
   },
   "outputs": [],
   "source": [
    "# Initiate NIRCam observation\n",
    "pynrc.setup_logging('WARN', verbose=False)\n",
    "nrc = pynrc.NIRCam('F322W2', pupil='GRISM0', wind_mode='STRIPE', ngroup=2, ypix=64, module='A')\n",
    "\n",
    "# Want to know K-Band limiting magnitude\n",
    "bp_k = pynrc.bp_2mass('k')\n",
    "\n",
    "# Spectral types to check\n",
    "sp_A0V = pynrc.stellar_spectrum('A0V')\n",
    "sp_M2V = pynrc.stellar_spectrum('M2V')"
   ]
  },
  {
   "cell_type": "code",
   "execution_count": 4,
   "metadata": {
    "collapsed": true
   },
   "outputs": [],
   "source": [
    "# F322W Saturation limits\n",
    "nrc.filter = 'F322W2'\n",
    "sat_F322W_A0V = nrc.sat_limits(sp_A0V, bp_k)\n",
    "sat_F322W_M2V = nrc.sat_limits(sp_M2V, bp_k)"
   ]
  },
  {
   "cell_type": "code",
   "execution_count": 5,
   "metadata": {
    "collapsed": true
   },
   "outputs": [],
   "source": [
    "# F444W Saturation limits\n",
    "nrc.filter = 'F444W'\n",
    "sat_F444W_A0V = nrc.sat_limits(sp_A0V, bp_k)\n",
    "sat_F444W_M2V = nrc.sat_limits(sp_M2V, bp_k)"
   ]
  },
  {
   "cell_type": "code",
   "execution_count": 6,
   "metadata": {
    "collapsed": true
   },
   "outputs": [],
   "source": [
    "# Wavelengths to interoplate\n",
    "waves3 = np.arange(2.5,4.1,0.2) # F322W2\n",
    "waves4 = np.arange(4.1,5.1,0.2) # F444W\n",
    "waves = np.concatenate((waves3,waves4))\n",
    "\n",
    "# Interpolate above results and combine\n",
    "sat3 = np.interp(waves3,sat_F322W_A0V['wave'],sat_F322W_A0V['satmag'])\n",
    "sat4 = np.interp(waves4,sat_F444W_A0V['wave'],sat_F444W_A0V['satmag'])\n",
    "sat_A0V = np.concatenate((sat3,sat4))\n",
    "\n",
    "sat3 = np.interp(waves3,sat_F322W_M2V['wave'],sat_F322W_M2V['satmag'])\n",
    "sat4 = np.interp(waves4,sat_F444W_M2V['wave'],sat_F444W_M2V['satmag'])\n",
    "sat_M2V = np.concatenate((sat3,sat4))"
   ]
  },
  {
   "cell_type": "markdown",
   "metadata": {},
   "source": [
    "## Continuum Sensitivities"
   ]
  },
  {
   "cell_type": "code",
   "execution_count": 7,
   "metadata": {},
   "outputs": [
    {
     "name": "stdout",
     "output_type": "stream",
     "text": [
      "Filter   Low    NRC    Avg    High   Max   \n",
      "F277W    0.13   0.15   0.32   0.63   1.26  \n",
      "F356W    0.20   0.24   0.49   0.99   1.98  \n",
      "F444W    0.47   0.57   1.18   2.37   4.73  \n",
      "F322W2   0.34   0.40   0.84   1.68   3.36  \n",
      "F430M    0.09   0.11   0.22   0.44   0.88  \n",
      "F460M    0.11   0.13   0.27   0.54   1.09  \n"
     ]
    }
   ],
   "source": [
    "flist = ['F277W', 'F356W', 'F444W', 'F322W2', 'F430M', 'F460M']\n",
    "\n",
    "# Zodiacal Background Rates\n",
    "print('{:<8} {:<6} {:<6} {:<6} {:<6} {:<6}'.format('Filter', 'Low', 'NRC', 'Avg', 'High', 'Max'))\n",
    "for filt in flist:\n",
    "    nrc.filter = filt\n",
    "    print('{:<8} {:<6.2f} {:<6.2f} {:<6.2f} {:<6.2f} {:<6.2f}'\n",
    "        .format(nrc.filter, nrc.bg_zodi(1), nrc.bg_zodi(1.2), \\\n",
    "                nrc.bg_zodi(2.5), nrc.bg_zodi(5), nrc.bg_zodi(10)))"
   ]
  },
  {
   "cell_type": "code",
   "execution_count": 8,
   "metadata": {
    "scrolled": false
   },
   "outputs": [
    {
     "name": "stdout",
     "output_type": "stream",
     "text": [
      "New Ramp Settings:\n",
      "  read_mode :    DEEP8\n",
      "  nf        :        8\n",
      "  nd2       :       12\n",
      "  ngroup    :       10\n",
      "  nint      :        5\n",
      "New Detector Settings\n",
      "  wind_mode :     FULL\n",
      "  xpix      :     2048\n",
      "  ypix      :     2048\n",
      "  x0        :        0\n",
      "  y0        :        0\n",
      "New Ramp Times\n",
      "  t_group   :  214.735\n",
      "  t_frame   :   10.737\n",
      "  t_int     : 2018.513\n",
      "  t_int_tot : 2029.250\n",
      "  t_exp     : 10092.564\n",
      "  t_acq     : 10146.253\n"
     ]
    }
   ],
   "source": [
    "# Continuum sensitivity (10-sigma at 10000-sec)\n",
    "#nrc.update_detectors(wind_mode='FULL', ngroup=93, nint=10, ypix=2048, verbose=True)\n",
    "nrc.update_detectors(wind_mode='FULL', read_mode='DEEP8', ngroup=10, nint=5, ypix=2048, verbose=True)\n",
    "\n",
    "nrc.filter = 'F444W'\n",
    "sens_F444W = nrc.sensitivity(nsig=10, zfact=2.5)\n",
    "\n",
    "nrc.filter='F322W2'\n",
    "sens_F322W = nrc.sensitivity(nsig=10, zfact=2.5)\n",
    "\n",
    "sen3 = np.interp(waves3,sens_F322W['wave'],sens_F322W['sensitivity'])\n",
    "sen4 = np.interp(waves4,sens_F444W['wave'],sens_F444W['sensitivity'])\n",
    "sen_cont = np.concatenate((sen3,sen4))"
   ]
  },
  {
   "cell_type": "markdown",
   "metadata": {},
   "source": [
    "## Grism Resolution"
   ]
  },
  {
   "cell_type": "code",
   "execution_count": 9,
   "metadata": {
    "collapsed": true
   },
   "outputs": [],
   "source": [
    "import multiprocessing as mp\n",
    "\n",
    "webbpsf = nrc_utils.webbpsf\n",
    "inst = webbpsf.NIRCam()\n",
    "inst.options['output_mode'] = 'both'\n",
    "inst.options['parity'] = 'even'\n",
    "inst.pupilopd = None\n",
    "inst.filter = nrc.filter\n",
    "inst.image_mask = None\n",
    "# WebbPSF doesn't know about the grisms, so set pupil=None, otherwise inst_params['pupil']\n",
    "inst.pupil_mask = None\n",
    "\n",
    "inst.SHORT_WAVELENGTH_MIN = inst.LONG_WAVELENGTH_MIN = 0\n",
    "inst.SHORT_WAVELENGTH_MAX = inst.LONG_WAVELENGTH_MAX = 10e-6"
   ]
  },
  {
   "cell_type": "code",
   "execution_count": 10,
   "metadata": {
    "collapsed": true
   },
   "outputs": [],
   "source": [
    "import copy\n",
    "def fwhm_pix_1d(hdu_list, ext):\n",
    "    \n",
    "    \n",
    "    hdul = copy.deepcopy(hdu_list)\n",
    "\n",
    "    image = hdul[ext].data\n",
    "    center = tuple((a - 1) / 2.0 for a in image.shape[::-1])\n",
    "    cen = center[0] if 'GRISM0' in nrc.pupil else center[1]\n",
    "    ind0 = np.arange(5) + cen\n",
    "    ind0 -= np.size(ind0)/2\n",
    "    ind0 = ind0.astype(int)\n",
    "    \n",
    "    if 'GRISM0' in nrc.pupil:\n",
    "        image = image[ind0,:].sum(axis=0)\n",
    "    else:\n",
    "        image = image[:,ind0].sum(axis=1)\n",
    "    image = image.reshape([image.size,1])\n",
    "    hdul[ext].data = image\n",
    "        \n",
    "    return webbpsf.measure_fwhm(hdul,ext) / hdul[ext].header['PIXELSCL']"
   ]
  },
  {
   "cell_type": "code",
   "execution_count": 11,
   "metadata": {
    "collapsed": true
   },
   "outputs": [],
   "source": [
    "def wrap_psf_for_mp(args):\n",
    "    \"\"\"\n",
    "    Internal helper routine for parallelizing computations across multiple processors.\n",
    "    \"\"\"\n",
    "    inst,w,fov_pix,oversample = args\n",
    "    hdu_list = inst.calcPSF(outfile=None, save_intermediates=False, oversample=oversample, rebin=True, \\\n",
    "                            fov_pixels=fov_pix, monochromatic=w*1e-6, display=False, normalize='last')\n",
    "\n",
    "    # Original data\n",
    "    data0 = hdu_list[0].data\n",
    "    data1 = hdu_list[1].data\n",
    "\n",
    "    # Scale oversampled data via rebin, then downsample to detector pixels\n",
    "    wfact = 1.07\n",
    "    scale = (1,wfact) if 'GRISM0' in nrc.pupil else (wfact,1)\n",
    "    data0_scale = nrc_utils.frebin(data0, scale=scale)\n",
    "    data0_scale = nrc_utils.pad_or_cut_to_size(data0_scale, data0.shape)\n",
    "    data1_scale = nrc_utils.frebin(data0_scale, dimensions=data1.shape)\n",
    "    \n",
    "    hdu_list[0].data = data0_scale\n",
    "    hdu_list[1].data = data1_scale\n",
    "\n",
    "    # Oversampled PSF\n",
    "    fwhm_over = fwhm_pix_1d(hdu_list,0) / hdu_list[0].header['OVERSAMP ']\n",
    "    # Detector Sampled\n",
    "    fwhm_det = fwhm_pix_1d(hdu_list,1)\n",
    "    # Diffraction Limit\n",
    "    fwhm_dif = hdu_list[1].header['DIFFLMT'] / hdu_list[1].header['PIXELSCL']\n",
    "\n",
    "    return (fwhm_over,fwhm_det,fwhm_dif)"
   ]
  },
  {
   "cell_type": "code",
   "execution_count": 12,
   "metadata": {
    "collapsed": true
   },
   "outputs": [],
   "source": [
    "waves2 = np.arange(2,6.1,0.1)\n",
    "\n",
    "nproc = 16\n",
    "npsf = waves.size\n",
    "nproc = np.min([nproc, npsf])\n",
    "np_max = np.ceil(npsf / nproc)\n",
    "nproc = int(np.ceil(npsf / np_max))\n",
    "\n",
    "fwhm_over_all = []\n",
    "fwhm_det_all = []\n",
    "fwhm_dif_all = []\n",
    "os_arr = [60,61]\n",
    "\n",
    "\n",
    "for os in os_arr:\n",
    "    fov_pix = 16\n",
    "    oversample = os\n",
    "\n",
    "    pool = mp.Pool(nproc)\n",
    "    worker_arguments = [(inst, wlen, fov_pix, oversample) for wlen in waves]\n",
    "    results = pool.map(wrap_psf_for_mp, worker_arguments)\n",
    "    pool.close()\n",
    "    \n",
    "    results = np.array(results)\n",
    "    fwhm_over_all.append(results[:,0])\n",
    "    fwhm_det_all.append(results[:,1])\n",
    "    fwhm_dif_all.append(results[:,2])\n",
    "\n",
    "# Oversampled\n",
    "test = np.array(fwhm_over_all)\n",
    "fwhm_mean = test.mean(axis=0)\n",
    "z = np.polyfit(waves, fwhm_mean, 3)\n",
    "pfit = np.poly1d(z)\n",
    "fwhm_over  = pfit(waves)\n",
    "fwhm_over2 = pfit(waves2)\n",
    "\n",
    "# Detector Sampled\n",
    "test = np.array(fwhm_det_all)\n",
    "fwhm_mean = test.mean(axis=0)\n",
    "z = np.polyfit(waves, fwhm_mean, 3)\n",
    "pfit = np.poly1d(z)\n",
    "fwhm_det  = pfit(waves)\n",
    "fwhm_det2 = pfit(waves2)\n",
    "\n",
    "# Diffraction Limit\n",
    "test = np.array(fwhm_dif_all)\n",
    "fwhm_mean = test.mean(axis=0)\n",
    "z = np.polyfit(waves, fwhm_mean, 3)\n",
    "pfit = np.poly1d(z)\n",
    "fwhm_dif = pfit(waves)\n"
   ]
  },
  {
   "cell_type": "code",
   "execution_count": 13,
   "metadata": {},
   "outputs": [
    {
     "name": "stdout",
     "output_type": "stream",
     "text": [
      "1743.53937555 1680.796881 2009.81376981\n"
     ]
    },
    {
     "data": {
      "image/png": "[encoded data removed]",
      "text/plain": [
       "<matplotlib.figure.Figure at 0x1165d0128>"
      ]
     },
     "metadata": {},
     "output_type": "display_data"
    }
   ],
   "source": [
    "#res = 996.48\n",
    "#disp = 0.0010035\n",
    "#res = 1 / disp\n",
    "res, dw = nrc_utils.grism_res(nrc.pupil,nrc.module)\n",
    "\n",
    "f, (ax1, ax2) = plt.subplots(1,2, figsize=(13,4))\n",
    "\n",
    "#for i in range(len(os_arr)):\n",
    "#    ax1.plot(waves, fwhm_pix_all[i], label ='Oversample=%i'%(os_arr[i]))\n",
    "ax1.plot(waves, fwhm_over, label='Oversampled PSF')\n",
    "ax1.plot(waves, fwhm_det,  label='Detector Sampled')\n",
    "ax1.plot(waves, fwhm_dif,  label='Diffraction Limit ($\\lambda/D$)')\n",
    "ax1.set_xlabel('Wavelength ($\\mu$m)')\n",
    "ax1.set_ylabel('FWHM (pixels)')\n",
    "ax1.set_title('FWHM Measurements')\n",
    "ax1.legend(loc='best')\n",
    "ax1.set_xlim([2.3,5.1])\n",
    "ax1.set_ylim([1.0,3.5])\n",
    "ax1.minorticks_on()\n",
    "\n",
    "R_over = waves*res/fwhm_over\n",
    "R_det = waves*res/fwhm_det\n",
    "R_dif = waves*res/fwhm_dif\n",
    "\n",
    "#for i in range(len(os_arr)):\n",
    "#    d_lambda = fwhm_pix_all[i]\n",
    "#    ax2.plot(waves, waves*res/d_lambda, label ='Oversample=%i'%(os_arr[i]))\n",
    "ax2.plot(waves, R_over, label='Oversampled PSF')\n",
    "ax2.plot(waves, R_det,  label='Detector Sampled')\n",
    "ax2.plot(waves, R_dif,  label='Diffraction Limit ($\\lambda/D$)')\n",
    "ax2.set_xlabel('Wavelength ($\\mu$m)')\n",
    "ax2.set_ylabel('$R=\\lambda/\\Delta\\lambda$')\n",
    "ax2.set_title('NIRCam Grism Point Source Resolving Power')\n",
    "ax2.legend(loc='best')\n",
    "ax2.set_xlim([2.3,5.1])\n",
    "ax2.set_ylim([1000,2100])\n",
    "ax2.minorticks_on()\n",
    "\n",
    "print(R_over.max(),R_det.max(),R_dif.max())"
   ]
  },
  {
   "cell_type": "code",
   "execution_count": 14,
   "metadata": {},
   "outputs": [
    {
     "name": "stdout",
     "output_type": "stream",
     "text": [
      "Wavelength  FWHM_det  FWHM_over   Res_det    Res_over \n",
      "---------- ---------- ---------- ---------- ----------\n",
      "       2.0      2.156      1.162    924.244   1715.664\n",
      "       2.1      2.147      1.218    974.642   1718.451\n",
      "       2.2      2.141      1.274   1023.996   1720.940\n",
      "       2.3      2.138      1.330   1072.117   1723.170\n",
      "       2.4      2.138      1.386   1118.828   1725.174\n",
      "       2.5      2.140      1.443   1163.971   1726.980\n",
      "       2.6      2.146      1.499   1207.405   1728.610\n",
      "       2.7      2.154      1.555   1249.010   1730.085\n",
      "       2.8      2.165      1.611   1288.686   1731.422\n",
      "       2.9      2.179      1.668   1326.355   1732.637\n",
      "       ...        ...        ...        ...        ...\n",
      "       5.0      2.959      2.857   1683.805   1743.755\n",
      "       5.1      3.014      2.914   1686.030   1743.957\n",
      "       5.2      3.071      2.971   1687.547   1744.148\n",
      "       5.3      3.128      3.028   1688.427   1744.327\n",
      "       5.4      3.186      3.085   1688.738   1744.497\n",
      "       5.5      3.246      3.141   1688.545   1744.659\n",
      "       5.6      3.306      3.198   1687.908   1744.813\n",
      "       5.7      3.367      3.255   1686.883   1744.960\n",
      "       5.8      3.429      3.312   1685.525   1745.102\n",
      "       5.9      3.491      3.369   1683.883   1745.239\n",
      "       6.0      3.555      3.426   1682.004   1745.372\n",
      "Length = 41 rows\n"
     ]
    }
   ],
   "source": [
    "from astropy.table import Table\n",
    "\n",
    "R_det2  = waves2*res/fwhm_det2\n",
    "R_over2 = waves2*res/fwhm_over2\n",
    "\n",
    "\n",
    "data = [waves2, fwhm_det2, fwhm_over2, R_det2, R_over2]\n",
    "names = ['Wavelength', 'FWHM_det', 'FWHM_over', 'Res_det', 'Res_over']\n",
    "tbl = Table(data, names=names)\n",
    "\n",
    "for key in tbl.keys():\n",
    "    tbl[key].format = '10.3f'\n",
    "tbl['Wavelength'].format = '3.1f'\n",
    "print(tbl)\n",
    "\n",
    "outname = '{}_Mod{}.tbl'.format(nrc.pupil,nrc.module)\n",
    "tbl.write(outname, format='ascii')"
   ]
  },
  {
   "cell_type": "markdown",
   "metadata": {},
   "source": [
    "## Unresolved Line Sensitivities"
   ]
  },
  {
   "cell_type": "code",
   "execution_count": 15,
   "metadata": {
    "collapsed": true
   },
   "outputs": [],
   "source": [
    "# F_line[W/m^2] = 3e-18 * F_cont[uJy] / (wave[um] * R)\n",
    "sen_cont_scale = sen_cont / np.sqrt(2.0 / fwhm_det) \n",
    "sen_line = 3e-18 * sen_cont_scale / (waves * R_det) "
   ]
  },
  {
   "cell_type": "markdown",
   "metadata": {},
   "source": [
    "## Final values"
   ]
  },
  {
   "cell_type": "code",
   "execution_count": 16,
   "metadata": {
    "scrolled": true
   },
   "outputs": [
    {
     "name": "stdout",
     "output_type": "stream",
     "text": [
      "Wave   Res       Fcont  Fline     K_A0V  K_M2V  \n",
      "2.5    1163.97   10.72  1.14e-20  4.24   4.15   \n",
      "2.7    1249.01   8.03   7.41e-21  4.39   4.36   \n",
      "2.9    1326.35   7.18   5.84e-21  4.31   4.30   \n",
      "3.1    1395.46   7.79   5.68e-21  4.05   4.06   \n",
      "3.3    1456.09   6.23   4.13e-21  4.11   4.23   \n",
      "3.5    1508.32   6.12   3.74e-21  3.98   4.20   \n",
      "3.7    1552.44   6.01   3.42e-21  3.87   4.15   \n",
      "3.9    1588.95   6.48   3.47e-21  3.65   3.99   \n",
      "4.1    1618.46   8.35   4.24e-21  3.41   3.72   \n",
      "4.3    1641.66   9.33   4.53e-21  3.14   3.46   \n",
      "4.5    1659.30   10.89  5.09e-21  2.87   3.06   \n",
      "4.7    1672.11   13.80  6.23e-21  2.46   2.71   \n",
      "4.9    1680.80   18.30  8.03e-21  2.10   2.32   \n"
     ]
    }
   ],
   "source": [
    "arr = np.array([waves,R_det,sen_cont,sen_line,sat_A0V,sat_M2V]).T\n",
    "matrix = arr.tolist()\n",
    "print('{:<7}{:<10}{:<7}{:<10}{:<7}{:<7}'.format('Wave','Res','Fcont','Fline','K_A0V','K_M2V'))\n",
    "for row in matrix:\n",
    "    print('{:<7.1f}{:<10.2f}{:<7.2f}{:<10.2e}{:<7.2f}{:<7.2f}'.format(*tuple(row)))\n"
   ]
  },
  {
   "cell_type": "code",
   "execution_count": null,
   "metadata": {
    "collapsed": true
   },
   "outputs": [],
   "source": []
  }
 ],
 "metadata": {
  "anaconda-cloud": {},
  "kernelspec": {
   "display_name": "Python 3",
   "language": "python",
   "name": "python3"
  },
  "language_info": {
   "codemirror_mode": {
    "name": "ipython",
    "version": 3
   },
   "file_extension": ".py",
   "mimetype": "text/x-python",
   "name": "python",
   "nbconvert_exporter": "python",
   "pygments_lexer": "ipython3",
   "version": "3.6.1"
  }
 },
 "nbformat": 4,
 "nbformat_minor": 1
}
