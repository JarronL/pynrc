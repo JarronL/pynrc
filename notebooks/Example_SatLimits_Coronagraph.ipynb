{
 "cells": [
  {
   "cell_type": "markdown",
   "metadata": {},
   "source": [
    "# Saturation Limits for Coronagraphic Imaging\n",
    "\n",
    "For each NIRCam filter, find the saturation limit for a 2-frame (CDS) ramp. \n",
    "\n",
    "This notebook cycles over various SW and LW filters to find saturation limits for various observation modes:\n",
    " * MASK210R (SW only)\n",
    "  * SUB640\n",
    "  * Full Frame\n",
    " * MASK430R (LW only)\n",
    "  * SUB320\n",
    "  * Full Frame\n",
    " * MASK335R\n",
    "  * SUB320 (LW)\n",
    "  * SUB640 (SW)\n",
    "  * Full Frame (SW & LW)\n",
    " * NDSQUARE\n",
    "  * SUB64 (LW)\n",
    "  * SUB128 (SW)\n",
    "  * Full Frame (SW & LW)\n",
    "\n",
    "Saturation limits are only for NIRCam Module A. Results give the K-Band saturation limits for three different spectral types."
   ]
  },
  {
   "cell_type": "code",
   "execution_count": 1,
   "metadata": {
    "collapsed": true
   },
   "outputs": [],
   "source": [
    "## Standard imports\n",
    "\n",
    "# Makes print and division act like Python 3\n",
    "from __future__ import print_function, division\n",
    "\n",
    "# Import the usual libraries\n",
    "import numpy as np\n",
    "import matplotlib\n",
    "import matplotlib.pyplot as plt\n",
    "\n",
    "# Enable inline plotting at lower left\n",
    "%matplotlib inline\n",
    "matplotlib.rcParams['image.origin'] = 'lower'\n",
    "matplotlib.rcParams['image.interpolation'] = 'none'\n",
    "\n",
    "# seaborn package for making pretty plots, but not necessary\n",
    "try:\n",
    "    import seaborn as sns\n",
    "    params =   {'xtick.direction': 'in', 'ytick.direction': 'in', 'font.family': ['serif'],\n",
    "                'text.usetex': True, 'text.latex.preamble': ['\\usepackage{gensymb}']}\n",
    "    sns.set_style(\"ticks\", params)\n",
    "except ImportError:\n",
    "    print('Seaborn module is not installed. Not strictly required, but is a useful package!')\n",
    "    \n",
    "from IPython.display import display, Latex, clear_output"
   ]
  },
  {
   "cell_type": "code",
   "execution_count": 2,
   "metadata": {
    "collapsed": true
   },
   "outputs": [],
   "source": [
    "import pynrc\n",
    "from pynrc import nrc_utils\n",
    "from pynrc.nrc_utils import (webbpsf, poppy, pix_noise, S)\n",
    "\n",
    "pynrc.setup_logging('WARNING', verbose=False)"
   ]
  },
  {
   "cell_type": "code",
   "execution_count": 3,
   "metadata": {
    "collapsed": true
   },
   "outputs": [],
   "source": [
    "# Filters\n",
    "filt_wide_sw = ['F070W', 'F090W', 'F115W', 'F150W', 'F150W2', 'F200W']\n",
    "filt_wide_lw = ['F277W', 'F322W2', 'F356W', 'F444W']\n",
    "\n",
    "filt_med_sw = ['F140M', 'F182M', 'F210M']\n",
    "filt_med_lw = ['F250M', 'F300M', 'F335M', 'F360M', 'F410M', 'F430M', 'F460M', 'F480M']\n",
    "\n",
    "filt_narr_sw = ['F187N', 'F212N']\n",
    "filt_narr_lw = ['F323N', 'F405N', 'F466N', 'F470N']\n",
    "\n",
    "filt_all_sw = filt_wide_sw + filt_med_sw\n",
    "filt_all_lw = filt_wide_lw + filt_med_lw\n",
    "filt_all = filt_all_sw + filt_all_lw"
   ]
  },
  {
   "cell_type": "code",
   "execution_count": 4,
   "metadata": {
    "collapsed": false
   },
   "outputs": [],
   "source": [
    "# K-Band Filter\n",
    "bp_k = S.ObsBandpass('k')\n",
    "bp_k.name = 'K-Band'"
   ]
  },
  {
   "cell_type": "code",
   "execution_count": 5,
   "metadata": {
    "collapsed": true
   },
   "outputs": [],
   "source": [
    "sp_G2V = nrc_utils.stellar_spectrum('G2V')\n",
    "sp_A0V = nrc_utils.stellar_spectrum('A0V')\n",
    "sp_M5V = nrc_utils.stellar_spectrum('M5V')\n",
    "sptypes = [sp_M5V, sp_G2V, sp_A0V]"
   ]
  },
  {
   "cell_type": "code",
   "execution_count": 6,
   "metadata": {
    "collapsed": true
   },
   "outputs": [],
   "source": [
    "# Block of code that gets reused and depends on global variables\n",
    "def code_block():\n",
    "    mode = 'Full Frame' if 'FULL' in nrc.det_info['wind_mode'] else 'SUB'+str(nrc.det_info['xpix'])\n",
    "    print('{}\\n{} saturation magnitudes\\n'.format(mode,bp_k.name))\n",
    "    print(\"{:<6} {:>5} {:>5} {:>5}\".format('Filter', sptypes[0], sptypes[1], sptypes[2]))\n",
    "    for filt in filt_all:\n",
    "        nrc.filter = filt\n",
    "        sat_lims = []\n",
    "        for sp in sptypes:\n",
    "            d = nrc.sat_limits(sp, bp_k, verbose=False)\n",
    "            sat_lims.append(d['satmag'])\n",
    "        print(\"{:<6} {: .2f} {: .2f} {: .2f}\".format(filt, sat_lims[0], sat_lims[1], sat_lims[2]))\n",
    "    print(\"\")"
   ]
  },
  {
   "cell_type": "markdown",
   "metadata": {},
   "source": [
    "## MASK210R Saturation Limits"
   ]
  },
  {
   "cell_type": "code",
   "execution_count": 7,
   "metadata": {
    "collapsed": false
   },
   "outputs": [
    {
     "name": "stdout",
     "output_type": "stream",
     "text": [
      "SUB640\n",
      "K-Band saturation magnitudes\n",
      "\n",
      "Filter   M5V   G2V   A0V\n",
      "F140M   1.78  2.29  2.49\n",
      "F182M   2.72  2.69  2.70\n",
      "F210M   2.40  2.35  2.36\n",
      "F070W   0.08  2.59  3.59\n",
      "F090W   2.00  3.35  4.00\n",
      "F115W   2.71  3.66  4.14\n",
      "F150W   3.01  3.34  3.43\n",
      "F150W2  3.69  4.08  4.37\n",
      "F200W   3.28  3.23  3.24\n",
      "\n",
      "Full Frame\n",
      "K-Band saturation magnitudes\n",
      "\n",
      "Filter   M5V   G2V   A0V\n",
      "F140M   2.80  3.31  3.51\n",
      "F182M   3.75  3.71  3.73\n",
      "F210M   3.42  3.37  3.38\n",
      "F070W   1.11  3.61  4.61\n",
      "F090W   3.03  4.37  5.02\n",
      "F115W   3.73  4.68  5.16\n",
      "F150W   4.04  4.36  4.46\n",
      "F150W2  4.71  5.10  5.39\n",
      "F200W   4.30  4.25  4.26\n",
      "\n"
     ]
    }
   ],
   "source": [
    "nrc = pynrc.NIRCam('F210M', mask='MASK210R', pupil='CIRCLYOT', oversample=2,\n",
    "                   wind_mode='WINDOW', xpix=640, ypix=640, read_mode='RAPID', ngroup=2)\n",
    "filt_all = filt_med_sw + filt_wide_sw\n",
    "code_block()\n",
    "\n",
    "nrc.update_detectors(wind_mode='FULL', xpix=2048, ypix=2048)\n",
    "code_block()"
   ]
  },
  {
   "cell_type": "markdown",
   "metadata": {},
   "source": [
    "## MASK430R Saturation Limits"
   ]
  },
  {
   "cell_type": "code",
   "execution_count": 8,
   "metadata": {
    "collapsed": false
   },
   "outputs": [
    {
     "name": "stdout",
     "output_type": "stream",
     "text": [
      "SUB320\n",
      "K-Band saturation magnitudes\n",
      "\n",
      "Filter   M5V   G2V   A0V\n",
      "F250M  -0.35 -0.07 -0.08\n",
      "F300M  -0.27 -0.35 -0.39\n",
      "F335M  -0.44 -0.59 -0.63\n",
      "F360M  -0.57 -0.73 -0.78\n",
      "F410M  -0.96 -1.14 -1.20\n",
      "F430M  -2.12 -2.23 -2.28\n",
      "F460M  -2.90 -2.80 -2.85\n",
      "F480M  -3.03 -2.96 -3.02\n",
      "F277W   0.76  0.87  0.84\n",
      "F322W2  0.92  0.93  0.89\n",
      "F356W   0.24  0.08  0.03\n",
      "F444W  -0.73 -0.86 -0.91\n",
      "\n",
      "Full Frame\n",
      "K-Band saturation magnitudes\n",
      "\n",
      "Filter   M5V   G2V   A0V\n",
      "F250M   2.15  2.44  2.43\n",
      "F300M   2.24  2.15  2.12\n",
      "F335M   2.07  1.92  1.87\n",
      "F360M   1.94  1.78  1.73\n",
      "F410M   1.55  1.37  1.31\n",
      "F430M   0.38  0.27  0.22\n",
      "F460M  -0.39 -0.30 -0.35\n",
      "F480M  -0.52 -0.46 -0.51\n",
      "F277W   3.26  3.38  3.35\n",
      "F322W2  3.42  3.43  3.40\n",
      "F356W   2.74  2.58  2.54\n",
      "F444W   1.77  1.65  1.59\n",
      "\n"
     ]
    }
   ],
   "source": [
    "nrc = pynrc.NIRCam('F250M', mask='MASK430R', pupil='CIRCLYOT', oversample=2,\n",
    "                   wind_mode='WINDOW', xpix=320, ypix=320, read_mode='RAPID', ngroup=2)\n",
    "filt_all = filt_med_lw + filt_wide_lw\n",
    "code_block()\n",
    "\n",
    "nrc.update_detectors(wind_mode='FULL', xpix=2048, ypix=2048)\n",
    "code_block()"
   ]
  },
  {
   "cell_type": "markdown",
   "metadata": {},
   "source": [
    "## MASK335R (Long-Wave) Saturation Limits"
   ]
  },
  {
   "cell_type": "code",
   "execution_count": 9,
   "metadata": {
    "collapsed": false
   },
   "outputs": [
    {
     "name": "stdout",
     "output_type": "stream",
     "text": [
      "SUB320\n",
      "K-Band saturation magnitudes\n",
      "\n",
      "Filter   M5V   G2V   A0V\n",
      "F250M   0.27  0.56  0.55\n",
      "F300M   0.29  0.20  0.17\n",
      "F335M   0.06 -0.09 -0.13\n",
      "F360M  -0.12 -0.28 -0.33\n",
      "F410M  -0.31 -0.49 -0.55\n",
      "F430M  -1.31 -1.43 -1.47\n",
      "F460M  -1.72 -1.62 -1.67\n",
      "F480M  -1.66 -1.60 -1.65\n",
      "F277W   1.38  1.50  1.47\n",
      "F322W2  1.47  1.54  1.51\n",
      "F356W   0.71  0.55  0.50\n",
      "F444W   0.23  0.18  0.13\n",
      "\n",
      "Full Frame\n",
      "K-Band saturation magnitudes\n",
      "\n",
      "Filter   M5V   G2V   A0V\n",
      "F250M   2.78  3.06  3.05\n",
      "F300M   2.80  2.71  2.67\n",
      "F335M   2.57  2.42  2.38\n",
      "F360M   2.39  2.23  2.18\n",
      "F410M   2.19  2.01  1.95\n",
      "F430M   1.19  1.08  1.03\n",
      "F460M   0.79  0.89  0.83\n",
      "F480M   0.84  0.90  0.85\n",
      "F277W   3.89  4.00  3.98\n",
      "F322W2  3.97  4.04  4.01\n",
      "F356W   3.21  3.05  3.01\n",
      "F444W   2.74  2.68  2.63\n",
      "\n"
     ]
    }
   ],
   "source": [
    "nrc = pynrc.NIRCam('F250M', mask='MASK335R', pupil='CIRCLYOT', oversample=2,\n",
    "                   wind_mode='WINDOW', xpix=320, ypix=320, read_mode='RAPID', ngroup=2)\n",
    "filt_all = filt_med_lw + filt_wide_lw\n",
    "code_block()\n",
    "\n",
    "nrc.update_detectors(wind_mode='FULL', xpix=2048, ypix=2048)\n",
    "code_block()"
   ]
  },
  {
   "cell_type": "markdown",
   "metadata": {},
   "source": [
    "## MASK335R (Short-Wave) Saturation Limits"
   ]
  },
  {
   "cell_type": "code",
   "execution_count": 10,
   "metadata": {
    "collapsed": false
   },
   "outputs": [
    {
     "name": "stdout",
     "output_type": "stream",
     "text": [
      "SUB640\n",
      "K-Band saturation magnitudes\n",
      "\n",
      "Filter   M5V   G2V   A0V\n",
      "F140M   0.43  0.93  1.13\n",
      "F182M   1.67  1.62  1.64\n",
      "F210M   1.42  1.37  1.37\n",
      "F070W  -1.57  0.78  1.78\n",
      "F090W   0.37  1.75  2.40\n",
      "F115W   1.18  2.13  2.61\n",
      "F150W   1.72  2.04  2.13\n",
      "F150W2  2.50  2.79  3.04\n",
      "F200W   2.16  2.12  2.13\n",
      "\n",
      "Full Frame\n",
      "K-Band saturation magnitudes\n",
      "\n",
      "Filter   M5V   G2V   A0V\n",
      "F140M   1.45  1.96  2.16\n",
      "F182M   2.69  2.65  2.66\n",
      "F210M   2.44  2.39  2.40\n",
      "F070W  -0.55  1.80  2.80\n",
      "F090W   1.40  2.77  3.42\n",
      "F115W   2.20  3.15  3.63\n",
      "F150W   2.74  3.06  3.15\n",
      "F150W2  3.53  3.81  4.06\n",
      "F200W   3.19  3.14  3.15\n",
      "\n"
     ]
    }
   ],
   "source": [
    "nrc = pynrc.NIRCam('F210M', mask='MASK335R', pupil='CIRCLYOT', oversample=2,\n",
    "                   wind_mode='WINDOW', xpix=640, ypix=640, read_mode='RAPID', ngroup=2)\n",
    "filt_all = filt_med_sw + filt_wide_sw\n",
    "code_block()\n",
    "\n",
    "nrc.update_detectors(wind_mode='FULL', xpix=2048, ypix=2048)\n",
    "code_block()"
   ]
  },
  {
   "cell_type": "code",
   "execution_count": 11,
   "metadata": {
    "collapsed": false
   },
   "outputs": [
    {
     "name": "stdout",
     "output_type": "stream",
     "text": [
      "SUB320\n",
      "K-Band saturation magnitudes\n",
      "\n",
      "Filter   M5V   G2V   A0V\n",
      "F140M  -1.05 -0.55 -0.35\n",
      "F182M   0.18  0.14  0.16\n",
      "F210M  -0.06 -0.12 -0.11\n",
      "F070W  -3.05 -0.70  0.30\n",
      "F090W  -1.11  0.27  0.92\n",
      "F115W  -0.30  0.65  1.12\n",
      "F150W   0.24  0.56  0.65\n",
      "F150W2  1.02  1.31  1.56\n",
      "F200W   0.68  0.64  0.65\n",
      "\n",
      "Full Frame\n",
      "K-Band saturation magnitudes\n",
      "\n",
      "Filter   M5V   G2V   A0V\n",
      "F140M   1.45  1.96  2.16\n",
      "F182M   2.69  2.65  2.66\n",
      "F210M   2.44  2.39  2.40\n",
      "F070W  -0.55  1.80  2.80\n",
      "F090W   1.40  2.77  3.42\n",
      "F115W   2.20  3.15  3.63\n",
      "F150W   2.74  3.06  3.15\n",
      "F150W2  3.53  3.81  4.06\n",
      "F200W   3.19  3.14  3.15\n",
      "\n"
     ]
    }
   ],
   "source": [
    "nrc = pynrc.NIRCam('F210M', mask='MASK335R', pupil='CIRCLYOT', oversample=2,\n",
    "                   wind_mode='WINDOW', xpix=320, ypix=320, read_mode='RAPID', ngroup=2)\n",
    "filt_all = filt_med_sw + filt_wide_sw\n",
    "code_block()\n",
    "\n",
    "nrc.update_detectors(wind_mode='FULL', xpix=2048, ypix=2048)\n",
    "code_block()"
   ]
  },
  {
   "cell_type": "markdown",
   "metadata": {
    "collapsed": true
   },
   "source": [
    "## NDSQUARE Saturation Limits"
   ]
  },
  {
   "cell_type": "code",
   "execution_count": 12,
   "metadata": {
    "collapsed": false
   },
   "outputs": [
    {
     "name": "stdout",
     "output_type": "stream",
     "text": [
      "SUB128\n",
      "K-Band saturation magnitudes\n",
      "\n",
      "Filter   M5V   G2V   A0V\n",
      "F140M  -3.08 -2.58 -2.38\n",
      "F182M  -1.53 -1.58 -1.56\n",
      "F210M  -1.62 -1.67 -1.66\n",
      "F070W  -4.99 -2.65 -1.67\n",
      "F090W  -2.88 -1.51 -0.85\n",
      "F115W  -2.09 -1.17 -0.71\n",
      "F150W  -1.60 -1.26 -1.15\n",
      "F150W2 -0.01  0.28  0.47\n",
      "F200W  -0.74 -0.79 -0.78\n",
      "\n",
      "Full Frame\n",
      "K-Band saturation magnitudes\n",
      "\n",
      "Filter   M5V   G2V   A0V\n",
      "F140M   1.35  1.85  2.05\n",
      "F182M   2.89  2.85  2.86\n",
      "F210M   2.81  2.76  2.77\n",
      "F070W  -0.57  1.78  2.76\n",
      "F090W   1.54  2.92  3.57\n",
      "F115W   2.33  3.25  3.72\n",
      "F150W   2.83  3.17  3.27\n",
      "F150W2  4.42  4.70  4.89\n",
      "F200W   3.68  3.64  3.65\n",
      "\n"
     ]
    }
   ],
   "source": [
    "nrc = pynrc.NIRCam('F210M', mask=None, pupil='CIRCLYOT', ND_acq=True, oversample=2,\n",
    "                   wind_mode='WINDOW', xpix=128, ypix=128, read_mode='RAPID', ngroup=2)\n",
    "filt_all = filt_med_sw + filt_wide_sw\n",
    "code_block()\n",
    "\n",
    "nrc.update_detectors(wind_mode='FULL', xpix=2048, ypix=2048)\n",
    "code_block()"
   ]
  },
  {
   "cell_type": "code",
   "execution_count": 13,
   "metadata": {
    "collapsed": false
   },
   "outputs": [
    {
     "name": "stdout",
     "output_type": "stream",
     "text": [
      "SUB64\n",
      "K-Band saturation magnitudes\n",
      "\n",
      "Filter   M5V   G2V   A0V\n",
      "F250M  -2.43 -2.14 -2.16\n",
      "F300M  -2.17 -2.26 -2.29\n",
      "F335M  -2.20 -2.35 -2.39\n",
      "F360M  -2.36 -2.51 -2.57\n",
      "F410M  -2.66 -2.84 -2.90\n",
      "F430M  -3.82 -3.93 -3.97\n",
      "F460M  -4.54 -4.44 -4.50\n",
      "F480M  -4.72 -4.66 -4.71\n",
      "F277W  -1.12 -1.02 -1.05\n",
      "F322W2 -0.52 -0.54 -0.57\n",
      "F356W  -1.44 -1.59 -1.64\n",
      "F444W  -2.20 -2.29 -2.34\n",
      "\n",
      "Full Frame\n",
      "K-Band saturation magnitudes\n",
      "\n",
      "Filter   M5V   G2V   A0V\n",
      "F250M   3.40  3.68  3.67\n",
      "F300M   3.66  3.57  3.53\n",
      "F335M   3.63  3.48  3.43\n",
      "F360M   3.47  3.31  3.26\n",
      "F410M   3.16  2.98  2.92\n",
      "F430M   2.00  1.90  1.85\n",
      "F460M   1.29  1.38  1.33\n",
      "F480M   1.11  1.17  1.12\n",
      "F277W   4.71  4.81  4.78\n",
      "F322W2  5.30  5.29  5.25\n",
      "F356W   4.39  4.23  4.19\n",
      "F444W   3.62  3.54  3.48\n",
      "\n"
     ]
    }
   ],
   "source": [
    "nrc = pynrc.NIRCam('F250M', mask=None, pupil='CIRCLYOT', ND_acq=True, oversample=2,\n",
    "                   wind_mode='WINDOW', xpix=64, ypix=64, read_mode='RAPID', ngroup=2)\n",
    "filt_all = filt_med_lw + filt_wide_lw\n",
    "code_block()\n",
    "\n",
    "nrc.update_detectors(wind_mode='FULL', xpix=2048, ypix=2048)\n",
    "code_block()"
   ]
  },
  {
   "cell_type": "code",
   "execution_count": null,
   "metadata": {
    "collapsed": true
   },
   "outputs": [],
   "source": []
  }
 ],
 "metadata": {
  "anaconda-cloud": {},
  "kernelspec": {
   "display_name": "Python [default]",
   "language": "python",
   "name": "python2"
  },
  "language_info": {
   "codemirror_mode": {
    "name": "ipython",
    "version": 2
   },
   "file_extension": ".py",
   "mimetype": "text/x-python",
   "name": "python",
   "nbconvert_exporter": "python",
   "pygments_lexer": "ipython2",
   "version": "2.7.12"
  }
 },
 "nbformat": 4,
 "nbformat_minor": 0
}
