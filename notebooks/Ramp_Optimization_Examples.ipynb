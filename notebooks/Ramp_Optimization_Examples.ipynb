{
 "cells": [
  {
   "cell_type": "markdown",
   "metadata": {},
   "source": [
    "# Ramp Optimization Examples\n",
    "\n",
    "This notebook outlines an example to optimize the ramp settings for a few different types of observations.\n",
    "\n",
    "In these types of optimizations, we must consider observations constraints such as saturation levels, SNR requirements, and limits on acquisition time.\n",
    "\n",
    "**Note**: The reported acquisition time does not include obsevatory and instrument-level overheads, such as slew times, filter changes, script compilations, etc. It only includes detector readout times (including reset frames)."
   ]
  },
  {
   "cell_type": "code",
   "execution_count": 1,
   "metadata": {},
   "outputs": [],
   "source": [
    "# Import the usual libraries\n",
    "import numpy as np\n",
    "import matplotlib\n",
    "import matplotlib.pyplot as plt\n",
    "\n",
    "# Enable inline plotting at lower left\n",
    "%matplotlib inline"
   ]
  },
  {
   "cell_type": "code",
   "execution_count": 2,
   "metadata": {},
   "outputs": [],
   "source": [
    "import pynrc\n",
    "from pynrc import nrc_utils\n",
    "from pynrc.nrc_utils import S, jl_poly_fit\n",
    "from pynrc.pynrc_core import table_filter\n",
    "\n",
    "pynrc.setup_logging('WARNING', verbose=False)\n",
    "\n",
    "from astropy.table import Table\n",
    "\n",
    "# Progress bar\n",
    "from tqdm.auto import tqdm, trange"
   ]
  },
  {
   "cell_type": "markdown",
   "metadata": {},
   "source": [
    "## Example 1: M-Dwarf companion (imaging vs coronagraphy)\n",
    "\n",
    "We want to observe an M-Dwarf companion (K=18 mag) in the vicinity of a brighter F0V (K=13 mag) in the F430M filter. Assume the M-Dwarf flux is not significantly impacted by the brighter PSF (ie., in the background limited regime). In this scenario, the F0V star will saturate much more quickly compared to the fainter companion, so it limits which ramp settings we can use.\n",
    "\n",
    "We will test a couple different types of observations (direct imaging vs coronagraphy)."
   ]
  },
  {
   "cell_type": "code",
   "execution_count": 3,
   "metadata": {},
   "outputs": [],
   "source": [
    "# Get stellar spectra and normalize at K-Band\n",
    "# The stellar_spectrum convenience function creates a Pysynphot spectrum\n",
    "bp_k = S.ObsBandpass('k')\n",
    "sp_M2V = pynrc.stellar_spectrum('M2V', 18, 'vegamag', bp_k)#, catname='ck04models')\n",
    "sp_F0V = pynrc.stellar_spectrum('F0V', 13, 'vegamag', bp_k)#, catname='ck04models')"
   ]
  },
  {
   "cell_type": "code",
   "execution_count": 4,
   "metadata": {},
   "outputs": [],
   "source": [
    "# Initiate a NIRCam observation\n",
    "nrc = pynrc.NIRCam('F430M', wind_mode='WINDOW', xpix=160, ypix=160)"
   ]
  },
  {
   "cell_type": "code",
   "execution_count": 5,
   "metadata": {},
   "outputs": [
    {
     "name": "stdout",
     "output_type": "stream",
     "text": [
      "BRIGHT1\n",
      "BRIGHT2\n",
      "DEEP2\n",
      "DEEP8\n",
      "MEDIUM2\n",
      "MEDIUM8\n",
      "RAPID\n",
      "SHALLOW2\n",
      "SHALLOW4\n",
      " Pattern   NGRP NINT   t_int     t_exp     t_acq     SNR      Well     eff   \n",
      "---------- ---- ---- --------- --------- --------- -------- -------- --------\n",
      "DEEP8         7    4     35.67    142.66    143.80     98.1    0.617    8.182\n",
      "DEEP8         7    5     35.67    178.33    179.75    109.7    0.617    8.182\n",
      "MEDIUM8      10    6     27.31    163.84    165.54    101.5    0.473    7.886\n",
      "MEDIUM8      10    7     27.31    191.15    193.13    109.6    0.473    7.886\n",
      "MEDIUM8       9    7     24.52    171.64    173.63    101.5    0.424    7.705\n",
      "DEEP8         5    7     24.52    171.64    173.63    100.2    0.424    7.604\n",
      "DEEP2         6    7     28.42    198.95    200.94     99.1    0.492    6.993\n",
      "DEEP2         6    8     28.42    227.37    229.64    106.0    0.492    6.993\n",
      "MEDIUM2       9    9     22.85    205.64    208.19    100.3    0.395    6.949\n",
      "MEDIUM2       9   10     22.85    228.48    231.32    105.7    0.395    6.949\n",
      "SHALLOW4     10   16     13.65    218.45    222.99     98.3    0.236    6.585\n",
      "SHALLOW4     10   17     13.65    232.11    236.93    101.4    0.236    6.585\n",
      "SHALLOW4     10   18     13.65    245.76    250.87    104.3    0.236    6.585\n",
      "...         ...  ...       ...       ...       ...      ...      ...      ...\n",
      "RAPID        10  570      2.79   1588.25   1750.01    101.1    0.048    2.416\n",
      "RAPID        10  571      2.79   1591.03   1753.08    101.2    0.048    2.416\n",
      "RAPID        10  572      2.79   1593.82   1756.15    101.2    0.048    2.416\n",
      "RAPID        10  573      2.79   1596.61   1759.22    101.3    0.048    2.416\n",
      "RAPID        10  574      2.79   1599.39   1762.29    101.4    0.048    2.416\n",
      "RAPID        10  575      2.79   1602.18   1765.37    101.5    0.048    2.416\n",
      "RAPID        10  576      2.79   1604.97   1768.44    101.6    0.048    2.416\n",
      "RAPID        10  577      2.79   1607.75   1771.51    101.7    0.048    2.416\n",
      "RAPID        10  578      2.79   1610.54   1774.58    101.8    0.048    2.416\n",
      "RAPID        10  579      2.79   1613.33   1777.65    101.9    0.048    2.416\n",
      "RAPID        10  580      2.79   1616.11   1780.72    102.0    0.048    2.416\n",
      "RAPID        10  581      2.79   1618.90   1783.79    102.0    0.048    2.416\n",
      "RAPID         9  778      2.51   1951.04   2171.83    102.0    0.043    2.189\n",
      "Length = 58 rows\n"
     ]
    }
   ],
   "source": [
    "# Set some observing constraints\n",
    "# Let's assume we want photometry on the primary to calibrate the M-Dwarf for direct imaging\n",
    "#  - Set well_frac_max=0.75\n",
    "# Want a SNR~100 in the F430M filter\n",
    "#  - Set snr_goal=100\n",
    "res = nrc.ramp_optimize(sp_M2V, sp_bright=sp_F0V, snr_goal=100, well_frac_max=0.75, verbose=True)"
   ]
  },
  {
   "cell_type": "code",
   "execution_count": 6,
   "metadata": {},
   "outputs": [
    {
     "name": "stdout",
     "output_type": "stream",
     "text": [
      " Pattern   NGRP NINT   t_int     t_exp     t_acq     SNR      Well     eff   \n",
      "---------- ---- ---- --------- --------- --------- -------- -------- --------\n",
      "RAPID        10  557      2.79   1552.02   1710.10     99.9    0.048    2.416\n",
      "RAPID        10  558      2.79   1554.81   1713.17    100.0    0.048    2.416\n",
      "BRIGHT1      10  150      5.29    794.12    836.69     99.8    0.092    3.451\n",
      "BRIGHT1      10  151      5.29    799.42    842.27    100.2    0.092    3.451\n",
      "BRIGHT2      10   96      5.57    534.99    562.23     99.6    0.096    4.202\n",
      "BRIGHT2      10   97      5.57    540.56    568.09    100.2    0.096    4.202\n",
      "SHALLOW2     10   20     13.10    261.92    267.60     98.2    0.227    6.002\n",
      "SHALLOW2     10   21     13.10    275.02    280.98    100.6    0.227    6.002\n",
      "SHALLOW4     10   16     13.65    218.45    222.99     98.3    0.236    6.585\n",
      "SHALLOW4     10   17     13.65    232.11    236.93    101.4    0.236    6.585\n",
      "MEDIUM2       9    9     22.85    205.64    208.19    100.3    0.395    6.949\n",
      "MEDIUM2       9   10     22.85    228.48    231.32    105.7    0.395    6.949\n",
      "MEDIUM8      10    6     27.31    163.84    165.54    101.5    0.473    7.886\n",
      "MEDIUM8      10    7     27.31    191.15    193.13    109.6    0.473    7.886\n",
      "DEEP2         6    7     28.42    198.95    200.94     99.1    0.492    6.993\n",
      "DEEP2         6    8     28.42    227.37    229.64    106.0    0.492    6.993\n",
      "DEEP8         7    4     35.67    142.66    143.80     98.1    0.617    8.182\n",
      "DEEP8         7    5     35.67    178.33    179.75    109.7    0.617    8.182\n"
     ]
    }
   ],
   "source": [
    "# Print the Top 2 settings for each readout pattern\n",
    "res2 = table_filter(res, 2)\n",
    "print(res2)"
   ]
  },
  {
   "cell_type": "code",
   "execution_count": 7,
   "metadata": {},
   "outputs": [
    {
     "name": "stdout",
     "output_type": "stream",
     "text": [
      " Pattern   NGRP NINT   t_int     t_exp     t_acq     SNR      Well     eff   \n",
      "---------- ---- ---- --------- --------- --------- -------- -------- --------\n",
      "MEDIUM8      10  100    104.77  10476.59  10585.49    100.3    0.001    0.974\n",
      "MEDIUM8      10  102    104.77  10686.12  10797.20    101.3    0.001    0.974\n",
      "DEEP8        20   14    414.79   5807.03   5822.27    102.4    0.003    1.342\n",
      "DEEP8        19   14    393.41   5507.69   5522.94     99.1    0.003    1.333\n"
     ]
    }
   ],
   "source": [
    "# Do the same thing, but for coronagraphic mask instead\n",
    "nrc = pynrc.NIRCam('F430M', mask='MASK430R', pupil='CIRCLYOT', \n",
    "                   wind_mode='WINDOW', xpix=320, ypix=320)\n",
    "\n",
    "# We assume that longer ramps will give us the best SNR for time\n",
    "patterns = ['MEDIUM8', 'DEEP8']\n",
    "res = nrc.ramp_optimize(sp_M2V, sp_bright=sp_F0V, snr_goal=100, \n",
    "                        patterns=patterns, even_nints=True)\n",
    "\n",
    "# Take the Top 2 settings for each readout pattern\n",
    "res2 = table_filter(res, 2)\n",
    "print(res2)"
   ]
  },
  {
   "cell_type": "markdown",
   "metadata": {
    "collapsed": true
   },
   "source": [
    "**RESULTS**\n",
    "\n",
    "Based on these two comparisons, it looks like direct imaging is much more efficient in getting to the requisite SNR. In addition, direct imaging gives us a photometric comparison source that is inaccessible when occulting the primary with the coronagraph masks."
   ]
  },
  {
   "cell_type": "markdown",
   "metadata": {},
   "source": [
    "## Example 2: Exoplanet Coronagraphy\n",
    "\n",
    "We want to observe GJ 504 for an hour in the F444W filter. \n",
    " - What is the optimal ramp settings to maximize the SNR of GJ 504b?\n",
    " - What is the final background sensitivity limit?"
   ]
  },
  {
   "cell_type": "code",
   "execution_count": 8,
   "metadata": {},
   "outputs": [],
   "source": [
    "# Get stellar spectra and normalize at K-Band\n",
    "# The stellar_spectrum convenience function creates a Pysynphot spectrum\n",
    "bp_k = pynrc.bp_2mass('ks')\n",
    "sp_G0V = pynrc.stellar_spectrum('G0V', 4, 'vegamag', bp_k)\n",
    "\n",
    "# Choose a representative planet spectrum\n",
    "planet = pynrc.planets_sb12(atmo='hy3s', mass=8, age=200, entropy=8, distance=17.5)\n",
    "sp_pl = planet.export_pysynphot()\n",
    "\n",
    "# Renormalize to F360M = 18.8\n",
    "bp_l = pynrc.read_filter('F360M') # \n",
    "sp_pl = sp_pl.renorm(18.8, 'vegamag', bp_l)"
   ]
  },
  {
   "cell_type": "code",
   "execution_count": 9,
   "metadata": {},
   "outputs": [],
   "source": [
    "# Initiate a NIRCam observation\n",
    "nrc = pynrc.NIRCam('F444W', pupil='CIRCLYOT', mask='MASK430R', wind_mode='WINDOW', xpix=320, ypix=320)"
   ]
  },
  {
   "cell_type": "code",
   "execution_count": 11,
   "metadata": {
    "scrolled": false
   },
   "outputs": [
    {
     "name": "stdout",
     "output_type": "stream",
     "text": [
      "BRIGHT1\n",
      "BRIGHT2\n",
      "DEEP2\n",
      "DEEP8\n",
      "MEDIUM2\n",
      "MEDIUM8\n",
      "RAPID\n",
      "SHALLOW2\n",
      "SHALLOW4\n",
      " Pattern   NGRP NINT   t_int     t_exp     t_acq     SNR      Well     eff   \n",
      "---------- ---- ---- --------- --------- --------- -------- -------- --------\n",
      "DEEP8         8   22    158.22   3480.79   3504.75    652.0    0.766   11.014\n",
      "DEEP8         8   24    158.22   3797.23   3823.37    681.0    0.766   11.014\n",
      "DEEP2         8   22    151.80   3339.68   3363.64    636.0    0.735   10.966\n",
      "DEEP2         8   24    151.80   3643.29   3669.42    664.3    0.735   10.966\n",
      "DEEP8         7   24    136.84   3284.09   3310.23    628.9    0.662   10.931\n",
      "DEEP8         7   26    136.84   3557.77   3586.08    654.6    0.662   10.931\n",
      "MEDIUM8      10   32    104.77   3352.51   3387.36    626.4    0.507   10.763\n",
      "MEDIUM8      10   34    104.77   3562.04   3599.07    645.7    0.507   10.763\n",
      "MEDIUM8      10   36    104.77   3771.57   3810.78    664.4    0.507   10.763\n",
      "MEDIUM2      10   34     98.35   3343.96   3380.98    625.8    0.476   10.762\n",
      "MEDIUM2      10   36     98.35   3540.66   3579.86    644.0    0.476   10.762\n",
      "MEDIUM2      10   38     98.35   3737.36   3778.74    661.6    0.476   10.762\n",
      "MEDIUM8       9   40     94.08   3763.02   3806.58    657.9    0.455   10.663\n",
      "SHALLOW4     10   66     52.38   3457.28   3529.15    607.8    0.254   10.231\n",
      "SHALLOW4     10   68     52.38   3562.04   3636.09    617.0    0.254   10.231\n",
      "SHALLOW2     10   68     50.24   3416.65   3490.70    593.7    0.243   10.049\n",
      "SHALLOW2     10   70     50.24   3517.14   3593.37    602.4    0.243   10.049\n",
      "SHALLOW2     10   72     50.24   3617.63   3696.04    610.9    0.243   10.049\n",
      "BRIGHT2      10  158     21.38   3378.17   3550.22    499.8    0.103    8.388\n",
      "BRIGHT2      10  160     21.38   3420.93   3595.16    502.9    0.103    8.388\n",
      "BRIGHT2      10  162     21.38   3463.69   3640.10    506.1    0.103    8.388\n",
      "BRIGHT1      10  166     20.31   3371.75   3552.52    451.4    0.098    7.573\n",
      "BRIGHT1      10  168     20.31   3412.38   3595.32    454.1    0.098    7.573\n",
      "BRIGHT1      10  170     20.31   3453.00   3638.12    456.8    0.098    7.573\n",
      "RAPID        10  304     10.69   3249.88   3580.93    349.0    0.052    5.831\n",
      "RAPID        10  306     10.69   3271.26   3604.48    350.1    0.052    5.831\n",
      "RAPID        10  308     10.69   3292.64   3628.04    351.2    0.052    5.831\n",
      "RAPID         9  334      9.62   3213.53   3577.25    322.5    0.047    5.391\n"
     ]
    }
   ],
   "source": [
    "# Set even_nints=True assume 2 roll angles\n",
    "res = nrc.ramp_optimize(sp_pl, sp_bright=sp_G0V, tacq_max=3600, tacq_frac=0.05, \n",
    "                        even_nints=True, verbose=True)"
   ]
  },
  {
   "cell_type": "code",
   "execution_count": 12,
   "metadata": {},
   "outputs": [
    {
     "name": "stdout",
     "output_type": "stream",
     "text": [
      " Pattern   NGRP NINT   t_int     t_exp     t_acq     SNR      Well     eff   \n",
      "---------- ---- ---- --------- --------- --------- -------- -------- --------\n",
      "RAPID        10  304     10.69   3249.88   3580.93    349.0    0.052    5.831\n",
      "RAPID        10  306     10.69   3271.26   3604.48    350.1    0.052    5.831\n",
      "BRIGHT1      10  166     20.31   3371.75   3552.52    451.4    0.098    7.573\n",
      "BRIGHT1      10  168     20.31   3412.38   3595.32    454.1    0.098    7.573\n",
      "BRIGHT2      10  158     21.38   3378.17   3550.22    499.8    0.103    8.388\n",
      "BRIGHT2      10  160     21.38   3420.93   3595.16    502.9    0.103    8.388\n",
      "SHALLOW2     10   68     50.24   3416.65   3490.70    593.7    0.243   10.049\n",
      "SHALLOW2     10   70     50.24   3517.14   3593.37    602.4    0.243   10.049\n",
      "SHALLOW4     10   66     52.38   3457.28   3529.15    607.8    0.254   10.231\n",
      "SHALLOW4     10   68     52.38   3562.04   3636.09    617.0    0.254   10.231\n",
      "MEDIUM2      10   34     98.35   3343.96   3380.98    625.8    0.476   10.762\n",
      "MEDIUM2      10   36     98.35   3540.66   3579.86    644.0    0.476   10.762\n",
      "MEDIUM8      10   32    104.77   3352.51   3387.36    626.4    0.507   10.763\n",
      "MEDIUM8      10   34    104.77   3562.04   3599.07    645.7    0.507   10.763\n",
      "DEEP2         8   22    151.80   3339.68   3363.64    636.0    0.735   10.966\n",
      "DEEP2         8   24    151.80   3643.29   3669.42    664.3    0.735   10.966\n",
      "DEEP8         8   22    158.22   3480.79   3504.75    652.0    0.766   11.014\n",
      "DEEP8         8   24    158.22   3797.23   3823.37    681.0    0.766   11.014\n"
     ]
    }
   ],
   "source": [
    "# Take the Top 2 settings for each readout pattern\n",
    "res2 = table_filter(res, 2)\n",
    "print(res2)"
   ]
  },
  {
   "cell_type": "code",
   "execution_count": 13,
   "metadata": {},
   "outputs": [
    {
     "name": "stdout",
     "output_type": "stream",
     "text": [
      "t_acq     :   3579.86304\n",
      "t_exp     :   3540.66048\n",
      "t_frame   :      1.06904\n",
      "t_group   :     10.69040\n",
      "t_int     :     98.35168\n",
      "t_int_tot1:     99.44064\n",
      "t_int_tot2:     99.44064\n"
     ]
    }
   ],
   "source": [
    "# The DEEP and MEDIUMs are very similar.\n",
    "# Let's go with MEDIUM2 for more GROUPS & INTS \n",
    "# MEDIUM8 would be fine as well.\n",
    "nrc.update_detectors(read_mode='MEDIUM2', ngroup=10, nint=36)\n",
    "\n",
    "keys = list(nrc.multiaccum_times.keys())\n",
    "keys.sort()\n",
    "for k in keys:\n",
    "    print(\"{:<10}: {: 12.5f}\".format(k, nrc.multiaccum_times[k]))"
   ]
  },
  {
   "cell_type": "code",
   "execution_count": 14,
   "metadata": {},
   "outputs": [
    {
     "name": "stdout",
     "output_type": "stream",
     "text": [
      "Point Source Sensitivity (5-sigma): 21.68 vegamag\n",
      "Surface Brightness Sensitivity (5-sigma): 23.00 vegamag/arcsec^2\n"
     ]
    }
   ],
   "source": [
    "# Background sensitivity (5 sigma)\n",
    "sens_dict = nrc.sensitivity(nsig=5, units='vegamag', verbose=True)"
   ]
  },
  {
   "cell_type": "markdown",
   "metadata": {},
   "source": [
    "## Example 3: Single-Object Grism Spectroscopy\n",
    "\n",
    "Similar to the above, but instead we want to obtain a slitless grism spectrum of a K=12 mag M0V dwarf. Each grism resolution element should have SNR~100."
   ]
  },
  {
   "cell_type": "code",
   "execution_count": 9,
   "metadata": {},
   "outputs": [],
   "source": [
    "# M0V star normalized to K=12 mags\n",
    "bp_k = S.ObsBandpass('k')\n",
    "sp_M0V = pynrc.stellar_spectrum('M0V', 12, 'vegamag', bp_k)"
   ]
  },
  {
   "cell_type": "code",
   "execution_count": 10,
   "metadata": {},
   "outputs": [],
   "source": [
    "nrc = pynrc.NIRCam('F444W', pupil='GRISMR', wind_mode='STRIPE', ypix=128)"
   ]
  },
  {
   "cell_type": "code",
   "execution_count": 11,
   "metadata": {},
   "outputs": [
    {
     "name": "stdout",
     "output_type": "stream",
     "text": [
      "BRIGHT1\n",
      "BRIGHT2\n",
      "DEEP2\n",
      "DEEP8\n",
      "MEDIUM2\n",
      "MEDIUM8\n",
      "RAPID\n",
      "SHALLOW2\n",
      "SHALLOW4\n",
      " Pattern   NGRP NINT   t_int     t_exp     t_acq     SNR      Well     eff   \n",
      "---------- ---- ---- --------- --------- --------- -------- -------- --------\n",
      "DEEP2        10   10    123.03   1230.27   1237.08    323.3    0.069    9.190\n",
      "DEEP8        10   10    127.08   1270.82   1277.64    326.9    0.071    9.146\n",
      "MEDIUM2      10   10     62.19    621.89    628.71    224.7    0.035    8.959\n",
      "MEDIUM8      10   10     66.25    662.45    669.27    229.7    0.037    8.877\n",
      "SHALLOW4     10   10     33.12    331.23    338.04    157.2    0.019    8.550\n",
      "SHALLOW2     10   10     31.77    317.71    324.52    152.9    0.018    8.486\n",
      "BRIGHT2      10   13     13.52    175.75    184.61     99.4    0.008    7.317\n",
      "BRIGHT2      10   14     13.52    189.27    198.81    103.2    0.008    7.317\n",
      "BRIGHT1      10   16     12.84    205.49    216.40     99.6    0.007    6.771\n",
      "BRIGHT1      10   17     12.84    218.34    229.92    102.7    0.007    6.771\n",
      "RAPID        10   46      6.76    310.95    342.29     99.5    0.004    5.380\n",
      "RAPID        10   47      6.76    317.71    349.73    100.6    0.004    5.380\n",
      "RAPID        10   48      6.76    324.47    357.17    101.7    0.004    5.380\n",
      "RAPID        10   49      6.76    331.23    364.61    102.7    0.004    5.380\n"
     ]
    }
   ],
   "source": [
    "# Set a minimum of 10 integrations to be robust against cosmic rays\n",
    "# Also set a minimum of 10 groups for good ramp sampling\n",
    "res = nrc.ramp_optimize(sp_M0V, snr_goal=100, nint_min=10, ng_min=10, verbose=True)"
   ]
  },
  {
   "cell_type": "code",
   "execution_count": 12,
   "metadata": {},
   "outputs": [
    {
     "name": "stdout",
     "output_type": "stream",
     "text": [
      " Pattern   NGRP NINT   t_int     t_exp     t_acq     SNR      Well     eff   \n",
      "---------- ---- ---- --------- --------- --------- -------- -------- --------\n",
      "RAPID        10   46      6.76    310.95    342.29     99.5    0.004    5.380\n",
      "RAPID        10   47      6.76    317.71    349.73    100.6    0.004    5.380\n",
      "BRIGHT1      10   16     12.84    205.49    216.40     99.6    0.007    6.771\n",
      "BRIGHT1      10   17     12.84    218.34    229.92    102.7    0.007    6.771\n",
      "BRIGHT2      10   13     13.52    175.75    184.61     99.4    0.008    7.317\n",
      "BRIGHT2      10   14     13.52    189.27    198.81    103.2    0.008    7.317\n",
      "SHALLOW2     10   10     31.77    317.71    324.52    152.9    0.018    8.486\n",
      "SHALLOW4     10   10     33.12    331.23    338.04    157.2    0.019    8.550\n",
      "MEDIUM2      10   10     62.19    621.89    628.71    224.7    0.035    8.959\n",
      "MEDIUM8      10   10     66.25    662.45    669.27    229.7    0.037    8.877\n",
      "DEEP2        10   10    123.03   1230.27   1237.08    323.3    0.069    9.190\n",
      "DEEP8        10   10    127.08   1270.82   1277.64    326.9    0.071    9.146\n"
     ]
    }
   ],
   "source": [
    "# Print the Top 2 settings for each readout pattern\n",
    "res2 = table_filter(res, 2)\n",
    "print(res2)"
   ]
  },
  {
   "cell_type": "code",
   "execution_count": 13,
   "metadata": {},
   "outputs": [
    {
     "name": "stdout",
     "output_type": "stream",
     "text": [
      "t_acq     :    338.04264\n",
      "t_exp     :    331.22530\n",
      "t_frame   :      0.67597\n",
      "t_group   :      3.37985\n",
      "t_int     :     33.12253\n",
      "t_int_tot1:     33.80374\n",
      "t_int_tot2:     33.80374\n"
     ]
    }
   ],
   "source": [
    "# Let's say we choose SHALLOW4, NGRP=10, NINT=10\n",
    "# Update detector readout\n",
    "nrc.update_detectors(read_mode='SHALLOW4', ngroup=10, nint=10)\n",
    "\n",
    "keys = list(nrc.multiaccum_times.keys())\n",
    "keys.sort()\n",
    "for k in keys:\n",
    "    print(\"{:<10}: {: 12.5f}\".format(k, nrc.multiaccum_times[k]))"
   ]
  },
  {
   "cell_type": "code",
   "execution_count": 14,
   "metadata": {},
   "outputs": [
    {
     "name": "stdout",
     "output_type": "stream",
     "text": [
      "F444W SNR for M0V source\n",
      "   Wave      SNR    Flux (mJy)\n",
      "--------- --------- ----------\n",
      "     3.80      9.12       4.46\n",
      "     3.90    224.79       4.26\n",
      "     4.00    239.81       4.08\n",
      "     4.10    229.53       3.90\n",
      "     4.20    215.82       3.67\n",
      "     4.30    192.60       3.20\n",
      "     4.40    179.38       3.14\n",
      "     4.50    164.26       2.80\n",
      "     4.60    150.15       2.74\n",
      "     4.70    134.99       2.58\n",
      "     4.80    127.07       2.65\n",
      "     4.90    111.18       2.56\n",
      "     5.00     55.20       2.33\n",
      "     5.10      1.23       2.41\n"
     ]
    }
   ],
   "source": [
    "# Print final wavelength-dependent SNR\n",
    "# For spectroscopy, the snr_goal is the median over the bandpass\n",
    "snr_dict = nrc.sensitivity(sp=sp_M0V, forwardSNR=True, units='mJy', verbose=True)"
   ]
  },
  {
   "cell_type": "markdown",
   "metadata": {},
   "source": [
    "**Mock observed spectrum**\n",
    "\n",
    "Create a series of ramp integrations based on the current NIRCam settings. The gen_exposures() function creates a series of mock observations in raw DMS format by default. By default, it's point source objects centered in the observing window."
   ]
  },
  {
   "cell_type": "code",
   "execution_count": 15,
   "metadata": {},
   "outputs": [],
   "source": [
    "# Ideal spectrum and wavelength solution\n",
    "wspec, imspec = nrc.calc_psf_from_coeff(sp=sp_M0V, return_hdul=False, return_oversample=False)\n",
    "\n",
    "# Resize to detector window\n",
    "nx = nrc.det_info['xpix']\n",
    "ny = nrc.det_info['ypix']\n",
    "\n",
    "# Shrink/expand nx (fill value of 0)\n",
    "# Then shrink to a size excluding wspec=0\n",
    "# This assumes simulated spectrum is centered\n",
    "imspec = nrc_utils.pad_or_cut_to_size(imspec, (ny,nx))\n",
    "wspec = nrc_utils.pad_or_cut_to_size(wspec, nx)"
   ]
  },
  {
   "cell_type": "code",
   "execution_count": 30,
   "metadata": {},
   "outputs": [],
   "source": [
    "# Add zodiacal background\n",
    "im_slope = imspec + nrc.bg_zodi()"
   ]
  },
  {
   "cell_type": "code",
   "execution_count": 31,
   "metadata": {},
   "outputs": [
    {
     "data": {
      "application/vnd.jupyter.widget-view+json": {
       "model_id": "",
       "version_major": 2,
       "version_minor": 0
      },
      "text/plain": [
       "PPC Amps:   0%|          | 0/4 [00:00<?, ?it/s]"
      ]
     },
     "metadata": {},
     "output_type": "display_data"
    },
    {
     "data": {
      "application/vnd.jupyter.widget-view+json": {
       "model_id": "",
       "version_major": 2,
       "version_minor": 0
      },
      "text/plain": [
       "Frames:   0%|          | 0/1 [00:00<?, ?it/s]"
      ]
     },
     "metadata": {},
     "output_type": "display_data"
    },
    {
     "data": {
      "application/vnd.jupyter.widget-view+json": {
       "model_id": "",
       "version_major": 2,
       "version_minor": 0
      },
      "text/plain": [
       "Frames:   0%|          | 0/1 [00:00<?, ?it/s]"
      ]
     },
     "metadata": {},
     "output_type": "display_data"
    },
    {
     "data": {
      "application/vnd.jupyter.widget-view+json": {
       "model_id": "",
       "version_major": 2,
       "version_minor": 0
      },
      "text/plain": [
       "Frames:   0%|          | 0/1 [00:00<?, ?it/s]"
      ]
     },
     "metadata": {},
     "output_type": "display_data"
    },
    {
     "data": {
      "application/vnd.jupyter.widget-view+json": {
       "model_id": "",
       "version_major": 2,
       "version_minor": 0
      },
      "text/plain": [
       "Frames:   0%|          | 0/1 [00:00<?, ?it/s]"
      ]
     },
     "metadata": {},
     "output_type": "display_data"
    },
    {
     "data": {
      "application/vnd.jupyter.widget-view+json": {
       "model_id": "",
       "version_major": 2,
       "version_minor": 0
      },
      "text/plain": [
       "PPC Amps:   0%|          | 0/4 [00:00<?, ?it/s]"
      ]
     },
     "metadata": {},
     "output_type": "display_data"
    },
    {
     "data": {
      "application/vnd.jupyter.widget-view+json": {
       "model_id": "",
       "version_major": 2,
       "version_minor": 0
      },
      "text/plain": [
       "Frames:   0%|          | 0/1 [00:00<?, ?it/s]"
      ]
     },
     "metadata": {},
     "output_type": "display_data"
    },
    {
     "data": {
      "application/vnd.jupyter.widget-view+json": {
       "model_id": "",
       "version_major": 2,
       "version_minor": 0
      },
      "text/plain": [
       "Frames:   0%|          | 0/1 [00:00<?, ?it/s]"
      ]
     },
     "metadata": {},
     "output_type": "display_data"
    },
    {
     "data": {
      "application/vnd.jupyter.widget-view+json": {
       "model_id": "",
       "version_major": 2,
       "version_minor": 0
      },
      "text/plain": [
       "Frames:   0%|          | 0/1 [00:00<?, ?it/s]"
      ]
     },
     "metadata": {},
     "output_type": "display_data"
    },
    {
     "data": {
      "application/vnd.jupyter.widget-view+json": {
       "model_id": "",
       "version_major": 2,
       "version_minor": 0
      },
      "text/plain": [
       "Frames:   0%|          | 0/1 [00:00<?, ?it/s]"
      ]
     },
     "metadata": {},
     "output_type": "display_data"
    },
    {
     "data": {
      "application/vnd.jupyter.widget-view+json": {
       "model_id": "",
       "version_major": 2,
       "version_minor": 0
      },
      "text/plain": [
       "Frames:   0%|          | 0/1 [00:00<?, ?it/s]"
      ]
     },
     "metadata": {},
     "output_type": "display_data"
    },
    {
     "data": {
      "application/vnd.jupyter.widget-view+json": {
       "model_id": "",
       "version_major": 2,
       "version_minor": 0
      },
      "text/plain": [
       "Frames:   0%|          | 0/1 [00:00<?, ?it/s]"
      ]
     },
     "metadata": {},
     "output_type": "display_data"
    },
    {
     "data": {
      "application/vnd.jupyter.widget-view+json": {
       "model_id": "",
       "version_major": 2,
       "version_minor": 0
      },
      "text/plain": [
       "Ramps:   0%|          | 0/10 [00:00<?, ?it/s]"
      ]
     },
     "metadata": {},
     "output_type": "display_data"
    },
    {
     "data": {
      "application/vnd.jupyter.widget-view+json": {
       "model_id": "",
       "version_major": 2,
       "version_minor": 0
      },
      "text/plain": [
       "  0%|          | 0/14 [00:00<?, ?it/s]"
      ]
     },
     "metadata": {},
     "output_type": "display_data"
    },
    {
     "data": {
      "application/vnd.jupyter.widget-view+json": {
       "model_id": "",
       "version_major": 2,
       "version_minor": 0
      },
      "text/plain": [
       "Uncorr 1/f:   0%|          | 0/4 [00:00<?, ?it/s]"
      ]
     },
     "metadata": {},
     "output_type": "display_data"
    },
    {
     "data": {
      "application/vnd.jupyter.widget-view+json": {
       "model_id": "",
       "version_major": 2,
       "version_minor": 0
      },
      "text/plain": [
       "ACN:   0%|          | 0/4 [00:00<?, ?it/s]"
      ]
     },
     "metadata": {},
     "output_type": "display_data"
    },
    {
     "data": {
      "application/vnd.jupyter.widget-view+json": {
       "model_id": "",
       "version_major": 2,
       "version_minor": 0
      },
      "text/plain": [
       "  0%|          | 0/14 [00:00<?, ?it/s]"
      ]
     },
     "metadata": {},
     "output_type": "display_data"
    },
    {
     "data": {
      "application/vnd.jupyter.widget-view+json": {
       "model_id": "",
       "version_major": 2,
       "version_minor": 0
      },
      "text/plain": [
       "Uncorr 1/f:   0%|          | 0/4 [00:00<?, ?it/s]"
      ]
     },
     "metadata": {},
     "output_type": "display_data"
    },
    {
     "data": {
      "application/vnd.jupyter.widget-view+json": {
       "model_id": "",
       "version_major": 2,
       "version_minor": 0
      },
      "text/plain": [
       "ACN:   0%|          | 0/4 [00:00<?, ?it/s]"
      ]
     },
     "metadata": {},
     "output_type": "display_data"
    },
    {
     "data": {
      "application/vnd.jupyter.widget-view+json": {
       "model_id": "",
       "version_major": 2,
       "version_minor": 0
      },
      "text/plain": [
       "  0%|          | 0/14 [00:00<?, ?it/s]"
      ]
     },
     "metadata": {},
     "output_type": "display_data"
    },
    {
     "data": {
      "application/vnd.jupyter.widget-view+json": {
       "model_id": "",
       "version_major": 2,
       "version_minor": 0
      },
      "text/plain": [
       "Uncorr 1/f:   0%|          | 0/4 [00:00<?, ?it/s]"
      ]
     },
     "metadata": {},
     "output_type": "display_data"
    },
    {
     "data": {
      "application/vnd.jupyter.widget-view+json": {
       "model_id": "",
       "version_major": 2,
       "version_minor": 0
      },
      "text/plain": [
       "ACN:   0%|          | 0/4 [00:00<?, ?it/s]"
      ]
     },
     "metadata": {},
     "output_type": "display_data"
    },
    {
     "data": {
      "application/vnd.jupyter.widget-view+json": {
       "model_id": "",
       "version_major": 2,
       "version_minor": 0
      },
      "text/plain": [
       "  0%|          | 0/14 [00:00<?, ?it/s]"
      ]
     },
     "metadata": {},
     "output_type": "display_data"
    },
    {
     "data": {
      "application/vnd.jupyter.widget-view+json": {
       "model_id": "",
       "version_major": 2,
       "version_minor": 0
      },
      "text/plain": [
       "Uncorr 1/f:   0%|          | 0/4 [00:00<?, ?it/s]"
      ]
     },
     "metadata": {},
     "output_type": "display_data"
    },
    {
     "data": {
      "application/vnd.jupyter.widget-view+json": {
       "model_id": "",
       "version_major": 2,
       "version_minor": 0
      },
      "text/plain": [
       "ACN:   0%|          | 0/4 [00:00<?, ?it/s]"
      ]
     },
     "metadata": {},
     "output_type": "display_data"
    },
    {
     "data": {
      "application/vnd.jupyter.widget-view+json": {
       "model_id": "",
       "version_major": 2,
       "version_minor": 0
      },
      "text/plain": [
       "  0%|          | 0/14 [00:00<?, ?it/s]"
      ]
     },
     "metadata": {},
     "output_type": "display_data"
    },
    {
     "data": {
      "application/vnd.jupyter.widget-view+json": {
       "model_id": "",
       "version_major": 2,
       "version_minor": 0
      },
      "text/plain": [
       "Uncorr 1/f:   0%|          | 0/4 [00:00<?, ?it/s]"
      ]
     },
     "metadata": {},
     "output_type": "display_data"
    },
    {
     "data": {
      "application/vnd.jupyter.widget-view+json": {
       "model_id": "",
       "version_major": 2,
       "version_minor": 0
      },
      "text/plain": [
       "ACN:   0%|          | 0/4 [00:00<?, ?it/s]"
      ]
     },
     "metadata": {},
     "output_type": "display_data"
    },
    {
     "data": {
      "application/vnd.jupyter.widget-view+json": {
       "model_id": "",
       "version_major": 2,
       "version_minor": 0
      },
      "text/plain": [
       "  0%|          | 0/14 [00:00<?, ?it/s]"
      ]
     },
     "metadata": {},
     "output_type": "display_data"
    },
    {
     "data": {
      "application/vnd.jupyter.widget-view+json": {
       "model_id": "",
       "version_major": 2,
       "version_minor": 0
      },
      "text/plain": [
       "Uncorr 1/f:   0%|          | 0/4 [00:00<?, ?it/s]"
      ]
     },
     "metadata": {},
     "output_type": "display_data"
    },
    {
     "data": {
      "application/vnd.jupyter.widget-view+json": {
       "model_id": "",
       "version_major": 2,
       "version_minor": 0
      },
      "text/plain": [
       "ACN:   0%|          | 0/4 [00:00<?, ?it/s]"
      ]
     },
     "metadata": {},
     "output_type": "display_data"
    },
    {
     "data": {
      "application/vnd.jupyter.widget-view+json": {
       "model_id": "",
       "version_major": 2,
       "version_minor": 0
      },
      "text/plain": [
       "  0%|          | 0/14 [00:00<?, ?it/s]"
      ]
     },
     "metadata": {},
     "output_type": "display_data"
    },
    {
     "data": {
      "application/vnd.jupyter.widget-view+json": {
       "model_id": "",
       "version_major": 2,
       "version_minor": 0
      },
      "text/plain": [
       "Uncorr 1/f:   0%|          | 0/4 [00:00<?, ?it/s]"
      ]
     },
     "metadata": {},
     "output_type": "display_data"
    },
    {
     "data": {
      "application/vnd.jupyter.widget-view+json": {
       "model_id": "",
       "version_major": 2,
       "version_minor": 0
      },
      "text/plain": [
       "ACN:   0%|          | 0/4 [00:00<?, ?it/s]"
      ]
     },
     "metadata": {},
     "output_type": "display_data"
    },
    {
     "data": {
      "application/vnd.jupyter.widget-view+json": {
       "model_id": "",
       "version_major": 2,
       "version_minor": 0
      },
      "text/plain": [
       "  0%|          | 0/14 [00:00<?, ?it/s]"
      ]
     },
     "metadata": {},
     "output_type": "display_data"
    },
    {
     "data": {
      "application/vnd.jupyter.widget-view+json": {
       "model_id": "",
       "version_major": 2,
       "version_minor": 0
      },
      "text/plain": [
       "Uncorr 1/f:   0%|          | 0/4 [00:00<?, ?it/s]"
      ]
     },
     "metadata": {},
     "output_type": "display_data"
    },
    {
     "data": {
      "application/vnd.jupyter.widget-view+json": {
       "model_id": "",
       "version_major": 2,
       "version_minor": 0
      },
      "text/plain": [
       "ACN:   0%|          | 0/4 [00:00<?, ?it/s]"
      ]
     },
     "metadata": {},
     "output_type": "display_data"
    },
    {
     "data": {
      "application/vnd.jupyter.widget-view+json": {
       "model_id": "",
       "version_major": 2,
       "version_minor": 0
      },
      "text/plain": [
       "  0%|          | 0/14 [00:00<?, ?it/s]"
      ]
     },
     "metadata": {},
     "output_type": "display_data"
    },
    {
     "data": {
      "application/vnd.jupyter.widget-view+json": {
       "model_id": "",
       "version_major": 2,
       "version_minor": 0
      },
      "text/plain": [
       "Uncorr 1/f:   0%|          | 0/4 [00:00<?, ?it/s]"
      ]
     },
     "metadata": {},
     "output_type": "display_data"
    },
    {
     "data": {
      "application/vnd.jupyter.widget-view+json": {
       "model_id": "",
       "version_major": 2,
       "version_minor": 0
      },
      "text/plain": [
       "ACN:   0%|          | 0/4 [00:00<?, ?it/s]"
      ]
     },
     "metadata": {},
     "output_type": "display_data"
    },
    {
     "data": {
      "application/vnd.jupyter.widget-view+json": {
       "model_id": "",
       "version_major": 2,
       "version_minor": 0
      },
      "text/plain": [
       "  0%|          | 0/14 [00:00<?, ?it/s]"
      ]
     },
     "metadata": {},
     "output_type": "display_data"
    },
    {
     "data": {
      "application/vnd.jupyter.widget-view+json": {
       "model_id": "",
       "version_major": 2,
       "version_minor": 0
      },
      "text/plain": [
       "Uncorr 1/f:   0%|          | 0/4 [00:00<?, ?it/s]"
      ]
     },
     "metadata": {},
     "output_type": "display_data"
    },
    {
     "data": {
      "application/vnd.jupyter.widget-view+json": {
       "model_id": "",
       "version_major": 2,
       "version_minor": 0
      },
      "text/plain": [
       "ACN:   0%|          | 0/4 [00:00<?, ?it/s]"
      ]
     },
     "metadata": {},
     "output_type": "display_data"
    },
    {
     "name": "stderr",
     "output_type": "stream",
     "text": [
      "[     pynrc:WARNING] Source is not visible on this date!\n"
     ]
    }
   ],
   "source": [
    "# Create a series of ramp integrations based on the current NIRCam settings\n",
    "# Output is a single HDUList with 10 INTs\n",
    "kwargs = {\n",
    "        'apply_nonlinearity' : False,\n",
    "        'apply_flats'        : False,\n",
    "}\n",
    "res = nrc.simulate_level1b('M0V Target', 0, 0, '2023-01-01', '12:00:00', \n",
    "                           im_slope=im_slope, return_hdul=True, **kwargs)"
   ]
  },
  {
   "cell_type": "code",
   "execution_count": 32,
   "metadata": {},
   "outputs": [
    {
     "name": "stdout",
     "output_type": "stream",
     "text": [
      "Filename: (No file associated with this HDUList)\n",
      "No.    Name      Ver    Type      Cards   Dimensions   Format\n",
      "  0  PRIMARY       1 PrimaryHDU      99   ()      \n",
      "  1  SCI           1 ImageHDU        44   (2048, 128, 10, 10)   uint16   \n",
      "  2  ZEROFRAME     1 ImageHDU        12   (2048, 128, 10)   uint16   \n",
      "  3  GROUP         1 BinTableHDU     36   100R x 13C   ['I', 'I', 'I', 'J', 'I', '26A', 'I', 'I', 'I', 'I', '36A', 'D', 'D']   \n",
      "  4  INT_TIMES     1 BinTableHDU     24   10R x 7C   ['J', 'D', 'D', 'D', 'D', 'D', 'D']   \n"
     ]
    }
   ],
   "source": [
    "res.info()"
   ]
  },
  {
   "cell_type": "code",
   "execution_count": 33,
   "metadata": {},
   "outputs": [
    {
     "data": {
      "application/vnd.jupyter.widget-view+json": {
       "model_id": "2156f46da7bd4be5b27d2e731f890c30",
       "version_major": 2,
       "version_minor": 0
      },
      "text/plain": [
       "  0%|          | 0/10 [00:00<?, ?it/s]"
      ]
     },
     "metadata": {},
     "output_type": "display_data"
    }
   ],
   "source": [
    "tvals = nrc.Detector.times_group_avg\n",
    "\n",
    "header = res['PRIMARY'].header\n",
    "data_all = res['SCI'].data\n",
    "slope_list = []\n",
    "for data in tqdm(data_all):\n",
    "    ref = pynrc.ref_pixels.NRC_refs(data, header, DMS=True, do_all=False)\n",
    "    ref.calc_avg_amps()\n",
    "    ref.correct_amp_refs()\n",
    "\n",
    "    # Linear fit to determine slope image\n",
    "    cf = jl_poly_fit(tvals, ref.data, deg=1)\n",
    "    slope_list.append(cf[1])\n",
    "    \n",
    "# Create a master averaged slope image\n",
    "slopes_all = np.array(slope_list)\n",
    "slope_sim = slopes_all.mean(axis=0) * nrc.Detector.gain"
   ]
  },
  {
   "cell_type": "code",
   "execution_count": 34,
   "metadata": {},
   "outputs": [
    {
     "data": {
      "image/png": "[encoded data removed]",
      "text/plain": [
       "<Figure size 864x216 with 1 Axes>"
      ]
     },
     "metadata": {
      "needs_background": "light"
     },
     "output_type": "display_data"
    }
   ],
   "source": [
    "fig, ax = plt.subplots(1,1, figsize=(12,3))\n",
    "ax.imshow(slope_sim, vmin=0, vmax=10)\n",
    "\n",
    "fig.tight_layout()"
   ]
  },
  {
   "cell_type": "code",
   "execution_count": 36,
   "metadata": {},
   "outputs": [],
   "source": [
    "ind = wspec>0\n",
    "\n",
    "# Estimate background emission and subtract from slope_sim\n",
    "bg = np.median(slope_sim[:,~ind])\n",
    "slope_sim -= bg"
   ]
  },
  {
   "cell_type": "code",
   "execution_count": 37,
   "metadata": {},
   "outputs": [
    {
     "data": {
      "text/plain": [
       "[<matplotlib.lines.Line2D at 0x7f7cfc18cd60>]"
      ]
     },
     "execution_count": 37,
     "metadata": {},
     "output_type": "execute_result"
    },
    {
     "data": {
      "image/png": "[encoded data removed]",
      "text/plain": [
       "<Figure size 576x432 with 1 Axes>"
      ]
     },
     "metadata": {
      "needs_background": "light"
     },
     "output_type": "display_data"
    }
   ],
   "source": [
    "ind = wspec>0\n",
    "plt.plot(wspec[ind], slope_sim[63,ind])"
   ]
  },
  {
   "cell_type": "code",
   "execution_count": 38,
   "metadata": {},
   "outputs": [],
   "source": [
    "# Extract 2 spectral x 5 spatial pixels\n",
    "\n",
    "# First, cut out the central 5 pixels\n",
    "wspec_sub = wspec[ind]\n",
    "sh_new  = (5, len(wspec_sub))\n",
    "slope_sub = nrc_utils.pad_or_cut_to_size(slope_sim, sh_new)\n",
    "slope_sub_ideal = nrc_utils.pad_or_cut_to_size(imspec, sh_new)\n",
    "\n",
    "# Sum along the spatial axis\n",
    "spec = slope_sub.sum(axis=0)\n",
    "spec_ideal = slope_sub_ideal.sum(axis=0)\n",
    "spec_ideal_rebin = nrc_utils.frebin(spec_ideal, scale=0.5, total=False)\n",
    "\n",
    "# Build a quick RSRF from extracted ideal spectral slope\n",
    "sp_M0V.convert('mjy')\n",
    "rsrf = spec_ideal / sp_M0V.sample(wspec_sub*1e4)\n",
    "\n",
    "# Rebin along spectral direction\n",
    "wspec_rebin = nrc_utils.frebin(wspec_sub, scale=0.5, total=False)\n",
    "spec_rebin_cal = nrc_utils.frebin(spec/rsrf, scale=0.5, total=False)"
   ]
  },
  {
   "cell_type": "code",
   "execution_count": 39,
   "metadata": {},
   "outputs": [],
   "source": [
    "# Expected noise per extraction element\n",
    "snr_interp = np.interp(wspec_rebin, snr_dict['wave'], snr_dict['snr'])\n",
    "_spec_rebin = spec_ideal_rebin / snr_interp\n",
    "_spec_rebin_cal = _spec_rebin / nrc_utils.frebin(rsrf, scale=0.5, total=False)"
   ]
  },
  {
   "cell_type": "code",
   "execution_count": 40,
   "metadata": {},
   "outputs": [
    {
     "data": {
      "image/png": "[encoded data removed]",
      "text/plain": [
       "<Figure size 864x576 with 1 Axes>"
      ]
     },
     "metadata": {
      "needs_background": "light"
     },
     "output_type": "display_data"
    }
   ],
   "source": [
    "fig, ax = plt.subplots(1,1, figsize=(12,8))\n",
    "ax.plot(sp_M0V.wave/1e4, sp_M0V.flux, label='Input Spectrum')\n",
    "ax.plot(wspec_rebin, spec_rebin_cal, alpha=0.7, label='Extracted Observation')\n",
    "ax.errorbar(wspec_rebin, spec_rebin_cal, yerr=_spec_rebin_cal, zorder=3,\n",
    "            fmt='none', label='Expected Error Bars', alpha=0.7, color='C2')\n",
    "\n",
    "ax.set_ylim([0,10])\n",
    "ax.set_xlim([3.7,5.1])\n",
    "\n",
    "ax.set_xlabel('Wavelength ($\\mu m$)')\n",
    "ax.set_ylabel('Flux (mJy)')\n",
    "ax.set_title('Simulated Spectrum')\n",
    "\n",
    "ax.legend(loc='upper right');"
   ]
  },
  {
   "cell_type": "markdown",
   "metadata": {},
   "source": [
    "## Example 4: Exoplanet Transit Spectroscopy\n",
    "\n",
    "Let's say we want to observe an exoplanet transit using NIRCam grisms in the F322W2 filter. \n",
    "\n",
    "We assume a 2.1-hour transit duration for a K6V star (K=8.4 mag)."
   ]
  },
  {
   "cell_type": "code",
   "execution_count": 43,
   "metadata": {},
   "outputs": [],
   "source": [
    "nrc = pynrc.NIRCam('F322W2', pupil='GRISM0', wind_mode='STRIPE', ypix=64)"
   ]
  },
  {
   "cell_type": "code",
   "execution_count": 44,
   "metadata": {},
   "outputs": [],
   "source": [
    "# K6V star at K=8.4 mags\n",
    "bp_k = S.ObsBandpass('k')\n",
    "sp_K6V = pynrc.stellar_spectrum('K6V', 8.4, 'vegamag', bp_k)"
   ]
  },
  {
   "cell_type": "code",
   "execution_count": 45,
   "metadata": {},
   "outputs": [],
   "source": [
    "# Constraints\n",
    "well     = 0.5        # Keep well below 50% full\n",
    "tacq     = 2.1*3600.  # 2.1 hour transit duration\n",
    "ng_max   = 30         # Transit spectroscopy allows for up to 30 groups per integrations\n",
    "nint_max = int(1e6)   # Effectively no limit on number of integrations\n",
    "\n",
    "# Let's bin the spectrum to R~100\n",
    "# dw_bin is a passable parameter for specifiying spectral bin sizes\n",
    "R = 100\n",
    "dw_bin = (nrc.bandpass.avgwave() / 10000) / R"
   ]
  },
  {
   "cell_type": "code",
   "execution_count": 46,
   "metadata": {},
   "outputs": [
    {
     "name": "stdout",
     "output_type": "stream",
     "text": [
      "BRIGHT1\n",
      "BRIGHT2\n",
      "DEEP2\n",
      "DEEP8\n",
      "MEDIUM2\n",
      "MEDIUM8\n",
      "RAPID\n",
      "SHALLOW2\n",
      "SHALLOW4\n",
      " Pattern   NGRP NINT   t_int     t_exp     t_acq     SNR      Well     eff   \n",
      "---------- ---- ---- --------- --------- --------- -------- -------- --------\n",
      "BRIGHT1      24  460     16.01   7363.99   7523.08  30573.1    0.480  352.486\n",
      "BRIGHT1      24  461     16.01   7380.00   7539.44  30606.4    0.480  352.486\n",
      "BRIGHT1      24  462     16.01   7396.01   7555.79  30639.5    0.480  352.486\n",
      "BRIGHT1      24  463     16.01   7412.01   7572.15  30672.7    0.480  352.486\n",
      "BRIGHT1      24  464     16.01   7428.02   7588.50  30705.8    0.480  352.486\n",
      "BRIGHT2      24  451     16.35   7373.53   7529.51  30296.2    0.490  349.144\n",
      "BRIGHT2      24  452     16.35   7389.87   7546.20  30329.8    0.490  349.144\n",
      "BRIGHT2      24  453     16.35   7406.22   7562.90  30363.3    0.490  349.144\n",
      "BRIGHT2      24  454     16.35   7422.57   7579.59  30396.8    0.490  349.144\n",
      "BRIGHT2      24  455     16.35   7438.92   7596.29  30430.3    0.490  349.144\n",
      "BRIGHT2      23  470     15.67   7363.99   7526.54  30246.1    0.469  348.635\n",
      "SHALLOW2     10  460     16.01   7363.99   7523.08  30233.3    0.480  348.568\n",
      "SHALLOW2     10  461     16.01   7380.00   7539.44  30266.2    0.480  348.568\n",
      "SHALLOW2     10  462     16.01   7396.01   7555.79  30299.0    0.480  348.568\n",
      "SHALLOW2     10  463     16.01   7412.01   7572.15  30331.7    0.480  348.568\n",
      "SHALLOW2     10  464     16.01   7428.02   7588.50  30364.5    0.480  348.568\n",
      "RAPID        30  713     10.22   7285.65   7532.24  30206.6    0.306  348.048\n",
      "RAPID        30  714     10.22   7295.87   7542.81  30227.8    0.306  348.048\n",
      "RAPID        30  715     10.22   7306.08   7553.37  30248.9    0.306  348.048\n",
      "RAPID        30  716     10.22   7316.30   7563.94  30270.1    0.306  348.048\n",
      "RAPID        30  717     10.22   7326.52   7574.50  30291.2    0.306  348.048\n"
     ]
    }
   ],
   "source": [
    "res = nrc.ramp_optimize(sp_K6V, tacq_max=tacq, nint_max=nint_max, \n",
    "                        ng_min=10, ng_max=ng_max, well_frac_max=well, \n",
    "                        dw_bin=dw_bin, verbose=True)"
   ]
  },
  {
   "cell_type": "code",
   "execution_count": 47,
   "metadata": {},
   "outputs": [
    {
     "name": "stdout",
     "output_type": "stream",
     "text": [
      " Pattern   NGRP NINT   t_int     t_exp     t_acq     SNR      Well     eff   \n",
      "---------- ---- ---- --------- --------- --------- -------- -------- --------\n",
      "RAPID        30  713     10.22   7285.65   7532.24  30206.6    0.306  348.048\n",
      "RAPID        30  714     10.22   7295.87   7542.81  30227.8    0.306  348.048\n",
      "BRIGHT1      24  460     16.01   7363.99   7523.08  30573.1    0.480  352.486\n",
      "BRIGHT1      24  461     16.01   7380.00   7539.44  30606.4    0.480  352.486\n",
      "BRIGHT2      24  451     16.35   7373.53   7529.51  30296.2    0.490  349.144\n",
      "BRIGHT2      24  452     16.35   7389.87   7546.20  30329.8    0.490  349.144\n",
      "SHALLOW2     10  460     16.01   7363.99   7523.08  30233.3    0.480  348.568\n",
      "SHALLOW2     10  461     16.01   7380.00   7539.44  30266.2    0.480  348.568\n"
     ]
    }
   ],
   "source": [
    "# Print the Top 2 settings for each readout pattern\n",
    "res2 = table_filter(res, 2)\n",
    "print(res2)"
   ]
  },
  {
   "cell_type": "code",
   "execution_count": 48,
   "metadata": {},
   "outputs": [],
   "source": [
    "# Even though BRIGHT1 has a slight efficiency preference over RAPID \n",
    "# and BRIGHT2, we decide to choose RAPID, because we are convinced \n",
    "# that saving all data (and no coadding) is a better option. \n",
    "# If APT informs you that the data rates or total data shorage is \n",
    "# an issue, you can select one of the other options.\n",
    "\n",
    "# Update to RAPID, ngroup=30, nint=715 and plot PPM\n",
    "nrc.update_detectors(read_mode='RAPID', ngroup=30, nint=715)\n",
    "snr_dict = nrc.sensitivity(sp=sp_K6V, dw_bin=dw_bin, forwardSNR=True, units='Jy')\n",
    "wave = np.array(snr_dict['wave'])\n",
    "snr  = np.array(snr_dict['snr'])\n",
    "\n",
    "# Let assume bg subtraction of something with similar noise\n",
    "snr /= np.sqrt(2.)\n",
    "ppm = 1e6 / snr\n",
    "\n",
    "# NOTE: We have up until now neglected to include a \"noise floor\"\n",
    "# which represents the expected minimum achievable ppm from\n",
    "# unknown systematics. To first order, this can be added in \n",
    "# quadrature to the calculated PPM.\n",
    "noise_floor = 30 # in ppm\n",
    "ppm_floor = np.sqrt(ppm**2 + noise_floor**2)"
   ]
  },
  {
   "cell_type": "code",
   "execution_count": 49,
   "metadata": {},
   "outputs": [
    {
     "data": {
      "text/plain": [
       "<matplotlib.legend.Legend at 0x7f7cfbd4f2e0>"
      ]
     },
     "execution_count": 49,
     "metadata": {},
     "output_type": "execute_result"
    },
    {
     "data": {
      "image/png": "[encoded data removed]",
      "text/plain": [
       "<Figure size 576x432 with 1 Axes>"
      ]
     },
     "metadata": {
      "needs_background": "light"
     },
     "output_type": "display_data"
    }
   ],
   "source": [
    "plt.plot(wave, ppm, marker='o', label='Calculated PPM')\n",
    "plt.plot(wave, ppm_floor, marker='o', label='PPM + Noise Floor')\n",
    "plt.xlabel('Wavelength ($\\mu m$)')\n",
    "plt.ylabel('Noise Limit (PPM)')\n",
    "plt.xlim([2.4,4.1])\n",
    "plt.ylim([20,100])\n",
    "plt.legend()"
   ]
  },
  {
   "cell_type": "markdown",
   "metadata": {},
   "source": [
    "## Example 5: Extended Souce\n",
    "\n",
    "Expect some faint galaxies of 25 ABMag/arcsec^2 in our field. What is the best we can do with 10,000 seconds of acquisition time? "
   ]
  },
  {
   "cell_type": "code",
   "execution_count": 50,
   "metadata": {},
   "outputs": [],
   "source": [
    "# Detection bandpass is F200W\n",
    "nrc = pynrc.NIRCam('F200W')\n",
    "\n",
    "# Flat spectrum (in photlam) with ABMag = 25 in the NIRCam bandpass\n",
    "sp = pynrc.stellar_spectrum('flat', 25, 'abmag', nrc.bandpass)"
   ]
  },
  {
   "cell_type": "code",
   "execution_count": 51,
   "metadata": {},
   "outputs": [
    {
     "name": "stdout",
     "output_type": "stream",
     "text": [
      "BRIGHT1\n",
      "BRIGHT2\n",
      "DEEP2\n",
      "DEEP8\n",
      "MEDIUM2\n",
      "MEDIUM8\n",
      "RAPID\n",
      "SHALLOW2\n",
      "SHALLOW4\n",
      " Pattern   NGRP NINT   t_int     t_exp     t_acq     SNR      Well     eff   \n",
      "---------- ---- ---- --------- --------- --------- -------- -------- --------\n",
      "MEDIUM8      10    9   1052.20   9469.83   9555.73     10.5    0.020    0.107\n",
      "MEDIUM8      10   10   1052.20  10522.03  10618.67     11.1    0.020    0.107\n",
      "DEEP8         8    5   1589.04   7945.21   7988.16      9.5    0.030    0.106\n",
      "DEEP8         7    6   1374.31   8245.84   8299.53      9.7    0.026    0.106\n",
      "MEDIUM8       8   11    837.47   9212.15   9319.52     10.2    0.016    0.106\n",
      "DEEP8         6    8   1159.57   9276.57   9351.73     10.3    0.022    0.106\n",
      "MEDIUM8       9   10    944.84   9448.36   9544.99     10.4    0.018    0.106\n",
      "DEEP8         8    6   1589.04   9534.25   9587.94     10.4    0.030    0.106\n",
      "DEEP8         7    7   1374.31   9620.15   9684.57     10.5    0.026    0.106\n",
      "MEDIUM8       8   12    837.47  10049.62  10167.73     10.7    0.016    0.106\n",
      "MEDIUM8       9   11    944.84  10393.19  10500.57     11.0    0.018    0.106\n",
      "DEEP8         6    9   1159.57  10436.14  10522.04     10.9    0.022    0.106\n",
      "MEDIUM8       8   13    837.47  10887.08  11015.93     11.1    0.016    0.106\n",
      "...         ...  ...       ...       ...       ...      ...      ...      ...\n",
      "BRIGHT2      10   47    214.74  10092.56  10586.46      7.9    0.004    0.077\n",
      "BRIGHT2      10   48    214.74  10307.30  10811.93      8.0    0.004    0.077\n",
      "BRIGHT2      10   49    214.74  10522.03  11037.40      8.1    0.004    0.077\n",
      "BRIGHT1      10   47    204.00   9587.94  10081.83      6.5    0.004    0.064\n",
      "BRIGHT1      10   48    204.00   9791.93  10296.57      6.6    0.004    0.064\n",
      "BRIGHT1      10   49    204.00   9995.93  10511.30      6.6    0.004    0.064\n",
      "BRIGHT1      10   50    204.00  10199.93  10726.04      6.7    0.004    0.064\n",
      "BRIGHT1      10   51    204.00  10403.93  10940.77      6.8    0.004    0.064\n",
      "RAPID        10   91    107.37   9770.46  10736.78      4.9    0.002    0.047\n",
      "RAPID        10   92    107.37   9877.83  10854.88      5.0    0.002    0.047\n",
      "RAPID        10   93    107.37   9985.20  10972.98      5.0    0.002    0.047\n",
      "RAPID        10   94    107.37  10092.56  11091.09      5.0    0.002    0.047\n",
      "RAPID        10   95    107.37  10199.93  11209.19      5.0    0.002    0.047\n",
      "Length = 66 rows\n"
     ]
    }
   ],
   "source": [
    "res = nrc.ramp_optimize(sp, is_extended=True, tacq_max=10000, tacq_frac=0.05, verbose=True)"
   ]
  },
  {
   "cell_type": "code",
   "execution_count": 52,
   "metadata": {},
   "outputs": [
    {
     "name": "stdout",
     "output_type": "stream",
     "text": [
      " Pattern   NGRP NINT   t_int     t_exp     t_acq     SNR      Well     eff   \n",
      "---------- ---- ---- --------- --------- --------- -------- -------- --------\n",
      "RAPID        10   91    107.37   9770.46  10736.78      4.9    0.002    0.047\n",
      "RAPID        10   92    107.37   9877.83  10854.88      5.0    0.002    0.047\n",
      "BRIGHT1      10   47    204.00   9587.94  10081.83      6.5    0.004    0.064\n",
      "BRIGHT1      10   48    204.00   9791.93  10296.57      6.6    0.004    0.064\n",
      "BRIGHT2      10   45    214.74   9663.09  10135.52      7.8    0.004    0.077\n",
      "BRIGHT2      10   46    214.74   9877.83  10360.99      7.9    0.004    0.077\n",
      "SHALLOW2     10   18    504.63   9083.31   9265.84      9.3    0.009    0.096\n",
      "SHALLOW2     10   19    504.63   9587.94   9781.20      9.6    0.009    0.096\n",
      "SHALLOW4     10   18    526.10   9469.83   9652.36     10.1    0.010    0.102\n",
      "SHALLOW4     10   19    526.10   9995.93  10189.20     10.3    0.010    0.102\n",
      "MEDIUM2      10    9    987.78   8890.05   8975.94      9.8    0.018    0.103\n",
      "MEDIUM2      10   10    987.78   9877.83   9974.46     10.4    0.018    0.103\n",
      "MEDIUM8      10    9   1052.20   9469.83   9555.73     10.5    0.020    0.107\n",
      "MEDIUM8      10   10   1052.20  10522.03  10618.67     11.1    0.020    0.107\n",
      "DEEP2         9    5   1739.36   8696.78   8739.74      9.6    0.033    0.103\n",
      "DEEP2         8    6   1524.62   9147.73   9201.42      9.9    0.029    0.103\n",
      "DEEP8         8    5   1589.04   7945.21   7988.16      9.5    0.030    0.106\n",
      "DEEP8         7    6   1374.31   8245.84   8299.53      9.7    0.026    0.106\n"
     ]
    }
   ],
   "source": [
    "# Print the Top 2 settings for each readout pattern\n",
    "res2 = table_filter(res, 2)\n",
    "print(res2)"
   ]
  },
  {
   "cell_type": "code",
   "execution_count": 53,
   "metadata": {
    "scrolled": false
   },
   "outputs": [
    {
     "name": "stdout",
     "output_type": "stream",
     "text": [
      "New Ramp Settings\n",
      "  read_mode  :  MEDIUM8\n",
      "  nf         :        8\n",
      "  nd2        :        2\n",
      "  ngroup     :       10\n",
      "  nint       :       10\n",
      "New Detector Settings\n",
      "  wind_mode  :     FULL\n",
      "  xpix       :     2048\n",
      "  ypix       :     2048\n",
      "  x0         :        0\n",
      "  y0         :        0\n",
      "New Ramp Times\n",
      "  t_group    :  107.368\n",
      "  t_frame    :   10.737\n",
      "  t_int      : 1052.203\n",
      "  t_int_tot1 : 1052.203\n",
      "  t_int_tot2 : 1062.940\n",
      "  t_exp      : 10522.035\n",
      "  t_acq      : 10618.671\n"
     ]
    }
   ],
   "source": [
    "# MEDIUM8 10 10 looks like a good option\n",
    "nrc.update_detectors(read_mode='MEDIUM8', ngroup=10, nint=10, verbose=True)"
   ]
  },
  {
   "cell_type": "code",
   "execution_count": 54,
   "metadata": {},
   "outputs": [],
   "source": [
    "# Calculate flux/mag for various nsigma detection limits\n",
    "tbl = Table(names=('Sigma', 'Point (nJy)',    'Extended (nJy/asec^2)', \n",
    "                            'Point (AB Mag)', 'Extended (AB Mag/asec^2)'))\n",
    "tbl['Sigma'].format = '.0f'\n",
    "for k in tbl.keys()[1:]:\n",
    "    tbl[k].format = '.2f'\n",
    "\n",
    "for sig in [1,3,5,10]:\n",
    "    snr_dict1 = nrc.sensitivity(nsig=sig, units='nJy', verbose=False)\n",
    "    snr_dict2 = nrc.sensitivity(nsig=sig, units='abmag', verbose=False)\n",
    "    tbl.add_row([sig, snr_dict1[0]['sensitivity'], snr_dict1[1]['sensitivity'],\n",
    "                snr_dict2[0]['sensitivity'], snr_dict2[1]['sensitivity']])"
   ]
  },
  {
   "cell_type": "code",
   "execution_count": 55,
   "metadata": {},
   "outputs": [
    {
     "data": {
      "text/html": [
       "<div><i>Table length=4</i>\n",
       "<table id=\"table140174952676560\" class=\"table-striped table-bordered table-condensed\">\n",
       "<thead><tr><th>Sigma</th><th>Point (nJy)</th><th>Extended (nJy/asec^2)</th><th>Point (AB Mag)</th><th>Extended (AB Mag/asec^2)</th></tr></thead>\n",
       "<thead><tr><th>float64</th><th>float64</th><th>float64</th><th>float64</th><th>float64</th></tr></thead>\n",
       "<tr><td>1</td><td>1.12</td><td>32.05</td><td>31.28</td><td>27.64</td></tr>\n",
       "<tr><td>3</td><td>3.36</td><td>96.57</td><td>30.08</td><td>26.44</td></tr>\n",
       "<tr><td>5</td><td>5.62</td><td>161.67</td><td>29.53</td><td>25.88</td></tr>\n",
       "<tr><td>10</td><td>11.34</td><td>326.99</td><td>28.76</td><td>25.11</td></tr>\n",
       "</table></div>"
      ],
      "text/plain": [
       "<Table length=4>\n",
       " Sigma  Point (nJy) Extended (nJy/asec^2) Point (AB Mag) Extended (AB Mag/asec^2)\n",
       "float64   float64          float64           float64             float64         \n",
       "------- ----------- --------------------- -------------- ------------------------\n",
       "      1        1.12                 32.05          31.28                    27.64\n",
       "      3        3.36                 96.57          30.08                    26.44\n",
       "      5        5.62                161.67          29.53                    25.88\n",
       "     10       11.34                326.99          28.76                    25.11"
      ]
     },
     "execution_count": 55,
     "metadata": {},
     "output_type": "execute_result"
    }
   ],
   "source": [
    "tbl"
   ]
  },
  {
   "cell_type": "code",
   "execution_count": null,
   "metadata": {
    "collapsed": true
   },
   "outputs": [],
   "source": []
  }
 ],
 "metadata": {
  "anaconda-cloud": {},
  "kernelspec": {
   "display_name": "Python 3 (ipykernel)",
   "language": "python",
   "name": "python3"
  },
  "language_info": {
   "codemirror_mode": {
    "name": "ipython",
    "version": 3
   },
   "file_extension": ".py",
   "mimetype": "text/x-python",
   "name": "python",
   "nbconvert_exporter": "python",
   "pygments_lexer": "ipython3",
   "version": "3.8.12"
  }
 },
 "nbformat": 4,
 "nbformat_minor": 1
}
