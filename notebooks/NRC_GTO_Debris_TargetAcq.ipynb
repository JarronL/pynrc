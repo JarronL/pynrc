{
 "cells": [
  {
   "cell_type": "code",
   "execution_count": 1,
   "metadata": {
    "collapsed": true
   },
   "outputs": [],
   "source": [
    "# Makes print and division act like Python 3\n",
    "from __future__ import print_function, division\n",
    "\n",
    "# Import the usual libraries\n",
    "import numpy as np\n",
    "import matplotlib\n",
    "import matplotlib.pyplot as plt\n",
    "\n",
    "# Enable inline plotting at lower left\n",
    "%matplotlib inline\n",
    "\n",
    "from IPython.display import display, Latex, clear_output\n",
    "from matplotlib.backends.backend_pdf import PdfPages"
   ]
  },
  {
   "cell_type": "code",
   "execution_count": 2,
   "metadata": {
    "collapsed": true
   },
   "outputs": [],
   "source": [
    "import pynrc\n",
    "from pynrc import nrc_utils\n",
    "from pynrc.nrc_utils import S\n",
    "from pynrc.obs_nircam import model_to_hdulist\n",
    "pynrc.setup_logging('WARNING', verbose=False)"
   ]
  },
  {
   "cell_type": "code",
   "execution_count": 3,
   "metadata": {
    "collapsed": true
   },
   "outputs": [],
   "source": [
    "#                source,    dist,  fov, age,  sptype, kmag\n",
    "args_sources = [('HD10647',  17.43, 14, 1000, 'F9V', 4.3),\n",
    "                ('HD107146', 27.50, 14,  150, 'G2V', 5.5),\n",
    "                ('HD181327', 51.80,  7,   12, 'F6V', 5.9),\n",
    "                ('HD61005',  34.50,  7,  100, 'G8V', 6.5),\n",
    "                ('HD32297',  113.0,  7,   30, 'A0V', 7.6)]\n",
    "\n",
    "ref_sources  = [('iotHor',   'F8V',  4.1),\n",
    "                ('HD111398', 'G5V',  5.5),\n",
    "                ('HR7297',   'F7V',  5.1),\n",
    "                ('HD56161',  'G5IV', 4.9),\n",
    "                ('HD31411',  'A0V',  6.4)]"
   ]
  },
  {
   "cell_type": "code",
   "execution_count": 4,
   "metadata": {
    "collapsed": true
   },
   "outputs": [],
   "source": [
    "bp_k = S.ObsBandpass('k')"
   ]
  },
  {
   "cell_type": "markdown",
   "metadata": {},
   "source": [
    "## ND Target Acquisition Times"
   ]
  },
  {
   "cell_type": "code",
   "execution_count": 5,
   "metadata": {
    "collapsed": false
   },
   "outputs": [
    {
     "name": "stdout",
     "output_type": "stream",
     "text": [
      "HD10647\n",
      " Pattern   NGRP NINT   t_int     t_exp     t_acq     SNR      Well     eff   \n",
      "---------- ---- ---- --------- --------- --------- -------- -------- --------\n",
      "RAPID         9    1      1.64      1.64      1.83     85.7    0.028   63.390\n",
      " Pattern   NGRP NINT   t_int     t_exp     t_acq     SNR      Well     eff   \n",
      "---------- ---- ---- --------- --------- --------- -------- -------- --------\n",
      "RAPID         9    1      1.64      1.64      1.83     95.3    0.033   70.472\n",
      "\n",
      "HD107146\n",
      " Pattern   NGRP NINT   t_int     t_exp     t_acq     SNR      Well     eff   \n",
      "---------- ---- ---- --------- --------- --------- -------- -------- --------\n",
      "RAPID        17    1      3.09      3.09      3.28     70.1    0.018   38.714\n",
      " Pattern   NGRP NINT   t_int     t_exp     t_acq     SNR      Well     eff   \n",
      "---------- ---- ---- --------- --------- --------- -------- -------- --------\n",
      "RAPID        17    1      3.09      3.09      3.28     70.1    0.018   38.714\n",
      "\n",
      "HD181327\n",
      " Pattern   NGRP NINT   t_int     t_exp     t_acq     SNR      Well     eff   \n",
      "---------- ---- ---- --------- --------- --------- -------- -------- --------\n",
      "RAPID        17    1      3.09      3.09      3.28     56.0    0.012   30.910\n",
      " Pattern   NGRP NINT   t_int     t_exp     t_acq     SNR      Well     eff   \n",
      "---------- ---- ---- --------- --------- --------- -------- -------- --------\n",
      "RAPID         9    1      1.64      1.64      1.83     54.4    0.013   40.233\n",
      "\n",
      "HD61005\n",
      " Pattern   NGRP NINT   t_int     t_exp     t_acq     SNR      Well     eff   \n",
      "---------- ---- ---- --------- --------- --------- -------- -------- --------\n",
      "RAPID        33    1      6.01      6.01      6.20     63.8    0.014   25.650\n",
      " Pattern   NGRP NINT   t_int     t_exp     t_acq     SNR      Well     eff   \n",
      "---------- ---- ---- --------- --------- --------- -------- -------- --------\n",
      "RAPID         9    1      1.64      1.64      1.83     63.7    0.017   47.137\n",
      "\n",
      "HD32297\n",
      " Pattern   NGRP NINT   t_int     t_exp     t_acq     SNR      Well     eff   \n",
      "---------- ---- ---- --------- --------- --------- -------- -------- --------\n",
      "RAPID        33    1      6.01      6.01      6.20     66.4    0.015   26.678\n",
      "\n"
     ]
    }
   ],
   "source": [
    "nrc = pynrc.NIRCam(filter='F335M', pupil='CIRCLYOT', ND_acq=True,\n",
    "                   wind_mode='WINDOW', xpix=128, ypix=128)\n",
    "\n",
    "for i in range(len(args_sources)):\n",
    "\n",
    "    name_sci, dist_sci, fov, age, spt_sci, kmag_sci = args_sources[i]\n",
    "    name_ref, spt_ref, kmag_ref = ref_sources[i]\n",
    "\n",
    "    # Science target and reference star spectra\n",
    "    sp_sci = pynrc.stellar_spectrum(spt_sci, kmag_sci, 'vegamag', bp_k, catname='ck04models')\n",
    "    sp_ref = pynrc.stellar_spectrum(spt_ref, kmag_ref, 'vegamag', bp_k, catname='ck04models')\n",
    "    sp_sci.name = name_sci\n",
    "    sp_ref.name = name_ref\n",
    "    \n",
    "    \n",
    "    print(name_sci)\n",
    "\n",
    "    ng_levels = [9,17,33]\n",
    "    for sp in [sp_sci, sp_ref]:\n",
    "        for ng in ng_levels: \n",
    "            pynrc.setup_logging('ERROR', verbose=False)\n",
    "            tbl = nrc.ramp_optimize(sp, snr_goal=50, snr_frac=0.01, well_frac_max=0.5, verbose=False,\n",
    "                                    ng_min=ng, ng_max=ng, nint_max=1, patterns=['RAPID'])\n",
    "            nrow = len(tbl)\n",
    "            if nrow>0:\n",
    "                print(tbl)\n",
    "                break\n",
    "\n",
    "    print('')\n",
    "\n",
    "pynrc.setup_logging('WARNING', verbose=False)"
   ]
  },
  {
   "cell_type": "markdown",
   "metadata": {},
   "source": [
    "## Astrometric Confirmation Settings\n",
    "\n",
    "Want to be sensitive to objects with brightnesses of 10-18 mags at 3.3um"
   ]
  },
  {
   "cell_type": "code",
   "execution_count": 6,
   "metadata": {
    "collapsed": true
   },
   "outputs": [],
   "source": [
    "nrc = pynrc.NIRCam(filter='F335M', pupil='CIRCLYOT', wind_mode='FULL')"
   ]
  },
  {
   "cell_type": "code",
   "execution_count": 7,
   "metadata": {
    "collapsed": false
   },
   "outputs": [
    {
     "name": "stdout",
     "output_type": "stream",
     "text": [
      "BRIGHT1\n",
      "RAPID\n",
      "SHALLOW2\n",
      " Pattern   NGRP NINT   t_int     t_exp     t_acq     SNR      Well     eff   \n",
      "---------- ---- ---- --------- --------- --------- -------- -------- --------\n",
      "BRIGHT1       3    3     53.68    161.05    193.27     31.5    1.040    2.263\n",
      "BRIGHT1       3    4     53.68    214.74    257.69     36.3    1.040    2.263\n",
      "RAPID         4    4     42.95    171.79    214.74     29.3    0.832    2.001\n",
      "RAPID         4    5     42.95    214.74    268.42     32.8    0.832    2.001\n",
      "RAPID         4    6     42.95    257.68    322.11     35.9    0.832    2.001\n"
     ]
    }
   ],
   "source": [
    "sp_dim = pynrc.stellar_spectrum('flat', 17, 'vegamag', nrc.bandpass)\n",
    "sp_bright = pynrc.stellar_spectrum('flat', 11, 'vegamag', nrc.bandpass)\n",
    "nrc = pynrc.NIRCam(filter='F335M', pupil='CIRCLYOT', wind_mode='FULL')\n",
    "tbl = nrc.ramp_optimize(sp_dim, sp_bright, snr_goal=30, snr_frac=0.1, ng_min=2, ng_max=10, nint_min=3,\n",
    "                        well_frac_max=1.2, patterns=['RAPID', 'BRIGHT1', 'SHALLOW2'], verbose=True)\n"
   ]
  },
  {
   "cell_type": "code",
   "execution_count": null,
   "metadata": {
    "collapsed": true
   },
   "outputs": [],
   "source": []
  }
 ],
 "metadata": {
  "anaconda-cloud": {},
  "kernelspec": {
   "display_name": "Python [default]",
   "language": "python",
   "name": "python2"
  },
  "language_info": {
   "codemirror_mode": {
    "name": "ipython",
    "version": 2
   },
   "file_extension": ".py",
   "mimetype": "text/x-python",
   "name": "python",
   "nbconvert_exporter": "python",
   "pygments_lexer": "ipython2",
   "version": "2.7.12"
  }
 },
 "nbformat": 4,
 "nbformat_minor": 0
}
