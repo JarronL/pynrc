{
 "cells": [
  {
   "cell_type": "code",
   "execution_count": 1,
   "metadata": {
    "collapsed": true
   },
   "outputs": [],
   "source": [
    "# Makes print and division act like Python 3\n",
    "from __future__ import print_function, division\n",
    "\n",
    "# Import the usual libraries\n",
    "import numpy as np\n",
    "import matplotlib\n",
    "import matplotlib.pyplot as plt\n",
    "\n",
    "# Enable inline plotting at lower left\n",
    "%matplotlib inline\n",
    "matplotlib.rcParams['image.origin'] = 'lower'\n",
    "matplotlib.rcParams['image.interpolation'] = 'none'\n",
    "\n",
    "# seaborn package for making pretty plots, but not necessary\n",
    "try:\n",
    "    import seaborn as sns\n",
    "    params =   {'xtick.direction': 'in', 'ytick.direction': 'in', 'font.family': ['serif'],\n",
    "                'text.usetex': True, 'text.latex.preamble': ['\\usepackage{gensymb}']}\n",
    "    sns.set_style(\"ticks\", params)\n",
    "except ImportError:\n",
    "    print('Seaborn module is not installed.')\n",
    "    \n",
    "from IPython.display import display, Latex, clear_output"
   ]
  },
  {
   "cell_type": "code",
   "execution_count": 2,
   "metadata": {
    "collapsed": true
   },
   "outputs": [],
   "source": [
    "import pynrc\n",
    "from pynrc import nrc_utils\n",
    "from pynrc.nrc_utils import (webbpsf, poppy, pix_noise, S)\n",
    "\n",
    "pynrc.setup_logging('WARNING', verbose=False)"
   ]
  },
  {
   "cell_type": "code",
   "execution_count": 3,
   "metadata": {
    "collapsed": true
   },
   "outputs": [],
   "source": [
    "# Filters\n",
    "filt_wide_sw = ['F070W', 'F090W', 'F115W', 'F150W', 'F150W2', 'F200W']\n",
    "filt_wide_lw = ['F277W', 'F322W2', 'F356W', 'F444W']\n",
    "\n",
    "filt_med_sw = ['F140M', 'F162M', 'F182M', 'F210M']\n",
    "filt_med_lw = ['F250M', 'F300M', 'F335M', 'F360M', 'F410M', 'F430M', 'F460M', 'F480M']\n",
    "\n",
    "filt_narr_sw = ['F164N', 'F187N', 'F212N']\n",
    "filt_narr_lw = ['F323N', 'F405N', 'F466N', 'F470N']\n",
    "\n",
    "filt_all_sw = filt_wide_sw + filt_med_sw + filt_narr_sw\n",
    "filt_all_lw = filt_wide_lw + filt_med_lw + filt_narr_lw\n",
    "filt_all = filt_all_sw + filt_all_lw"
   ]
  },
  {
   "cell_type": "code",
   "execution_count": 4,
   "metadata": {
    "collapsed": true
   },
   "outputs": [],
   "source": [
    "# NIRCam readout modes\n",
    "full   = {'wind_mode':'FULL',   'xpix':2048, 'ypix':2048}\n",
    "# Window subarrays\n",
    "sub64  = {'wind_mode':'WINDOW', 'xpix':64,   'ypix':64}\n",
    "sub160 = {'wind_mode':'WINDOW', 'xpix':160,  'ypix':160}\n",
    "sub320 = {'wind_mode':'WINDOW', 'xpix':320,  'ypix':320}\n",
    "sub400 = {'wind_mode':'WINDOW', 'xpix':400,  'ypix':400}\n",
    "sub640 = {'wind_mode':'WINDOW', 'xpix':640,  'ypix':640}\n",
    "# Stripe subarrays\n",
    "stp64  = {'wind_mode':'STRIPE', 'xpix':2048, 'ypix':64}\n",
    "stp128 = {'wind_mode':'STRIPE', 'xpix':2048, 'ypix':128}\n",
    "stp256 = {'wind_mode':'STRIPE', 'xpix':2048, 'ypix':256}\n",
    "\n",
    "subarray_settings = [full, sub64, sub160, sub320, sub400, sub640, stp64, stp128, stp256]\n",
    "\n",
    "# Header names for each readout mode\n",
    "head = []\n",
    "for d in subarray_settings:\n",
    "    if 'FULL' in d['wind_mode']:\n",
    "        name = 'FULL'\n",
    "    elif 'WINDOW' in d['wind_mode']:\n",
    "        name = 'SUB' + str(d['ypix'])\n",
    "    elif 'STRIPE' in d['wind_mode']:\n",
    "        name = 'STRP' + str(d['ypix'])\n",
    "    head.append(name)"
   ]
  },
  {
   "cell_type": "code",
   "execution_count": 6,
   "metadata": {
    "collapsed": false
   },
   "outputs": [
    {
     "name": "stdout",
     "output_type": "stream",
     "text": [
      "K-Band saturation magnitudes assuming G2V star\n",
      "\n",
      "Filter   FULL   SUB64  SUB160  SUB320  SUB400  SUB640  STRP64 STRP128 STRP256\n",
      "F070W   14.92    9.09   10.95   12.41   12.89   13.89   11.17   11.91   12.66\n",
      "F090W   15.64    9.81   11.68   13.14   13.61   14.62   11.89   12.64   13.39\n",
      "F115W   15.71    9.89   11.75   13.21   13.69   14.69   11.97   12.71   13.46\n",
      "F150W   15.62    9.79   11.65   13.11   13.59   14.59   11.87   12.61   13.36\n",
      "F150W2  16.86   11.03   12.90   14.36   14.83   15.84   13.11   13.86   14.61\n",
      "F200W   15.06    9.23   11.09   12.55   13.03   14.04   11.31   12.06   12.80\n",
      "F140M   14.86    9.03   10.89   12.35   12.83   13.83   11.11   11.85   12.60\n",
      "F162M   14.64    8.81   10.67   12.13   12.61   13.62   10.89   11.64   12.38\n",
      "F182M   14.60    8.78   10.64   12.10   12.57   13.58   10.86   11.60   12.35\n",
      "F210M   13.93    8.10    9.97   11.43   11.90   12.91   10.18   10.93   11.68\n",
      "F164N   12.24    6.41    8.28    9.74   10.21   11.22    8.49    9.24    9.99\n",
      "F187N   11.94    6.11    7.97    9.43    9.91   10.92    8.19    8.94    9.68\n",
      "F212N   11.66    5.84    7.70    9.16    9.63   10.64    7.92    8.66    9.41\n",
      "F277W   15.49    9.67   11.53   12.99   13.46   14.47   11.75   12.49   13.24\n",
      "F322W2  15.87   10.04   11.90   13.36   13.84   14.84   12.12   12.86   13.61\n",
      "F356W   14.62    8.80   10.66   12.12   12.59   13.60   10.88   11.62   12.37\n",
      "F444W   13.82    8.00    9.86   11.32   11.79   12.80   10.08   10.82   11.57\n",
      "F250M   14.37    8.54   10.40   11.86   12.34   13.34   10.62   11.36   12.11\n",
      "F300M   14.17    8.34   10.20   11.66   12.14   13.15   10.42   11.17   11.91\n",
      "F335M   13.91    8.09    9.95   11.41   11.89   12.89   10.17   10.91   11.66\n",
      "F360M   13.67    7.84    9.71   11.17   11.64   12.65    9.92   10.67   11.42\n",
      "F410M   13.26    7.44    9.30   10.76   11.23   12.24    9.52   10.26   11.01\n",
      "F430M   12.23    6.41    8.27    9.73   10.21   11.21    8.49    9.23    9.98\n",
      "F460M   11.67    5.84    7.70    9.16    9.64   10.65    7.92    8.67    9.41\n",
      "F480M   11.55    5.73    7.59    9.05    9.52   10.53    7.81    8.55    9.30\n",
      "F323N   11.24    5.42    7.28    8.74    9.21   10.22    7.50    8.24    8.99\n",
      "F405N   10.57    4.74    6.60    8.06    8.54    9.54    6.82    7.56    8.31\n",
      "F466N    9.78    3.95    5.82    7.28    7.75    8.76    6.03    6.78    7.53\n",
      "F470N    9.57    3.75    5.61    7.07    7.54    8.55    5.83    6.57    7.32\n"
     ]
    }
   ],
   "source": [
    "nfilt = len(filt_all)\n",
    "nsub  = len(subarray_settings)\n",
    "sat_lims = np.zeros([nfilt,nsub])\n",
    "\n",
    "\n",
    "# We want the K-Band limiting magnitude for a G2V star\n",
    "sp = nrc_utils.stellar_spectrum('G2V')\n",
    "bp_lim = S.ObsBandpass('johnson,k')\n",
    "bp_lim.name = 'K-Band'\n",
    "\n",
    "\n",
    "# Loop through each subrray mode for a given filter and print the CDS saturation limit\n",
    "print('{} saturation magnitudes assuming {} star\\n'.format(bp_lim.name, sp.name))\n",
    "print('{:<6}'.format('Filter') + ' '.join('{:>7}'.format(t) for t in head))\n",
    "for i,filt in enumerate(filt_all):\n",
    "    for j,subset in enumerate(subarray_settings):\n",
    "        nrc = pynrc.NIRCam(filt, read_mode='RAPID', ngroup=2, **subset)\n",
    "        lim = nrc.sat_limits(sp=sp, bp_lim=bp_lim, units='vegamag')\n",
    "        sat_lims[i,j] = lim['satmag']\n",
    "    print('{:<6}'.format(filt) + ' '.join('{: 7.2f}'.format(s) for s in sat_lims[i,:]))\n"
   ]
  },
  {
   "cell_type": "code",
   "execution_count": null,
   "metadata": {
    "collapsed": true
   },
   "outputs": [],
   "source": []
  }
 ],
 "metadata": {
  "anaconda-cloud": {},
  "kernelspec": {
   "display_name": "Python [default]",
   "language": "python",
   "name": "python2"
  },
  "language_info": {
   "codemirror_mode": {
    "name": "ipython",
    "version": 2
   },
   "file_extension": ".py",
   "mimetype": "text/x-python",
   "name": "python",
   "nbconvert_exporter": "python",
   "pygments_lexer": "ipython2",
   "version": "2.7.12"
  }
 },
 "nbformat": 4,
 "nbformat_minor": 0
}
